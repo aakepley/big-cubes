{
 "cells": [
  {
   "cell_type": "markdown",
   "id": "e1660869",
   "metadata": {},
   "source": [
    "# WSU size of computing estimate numbers (Plots for Crystal)"
   ]
  },
  {
   "cell_type": "markdown",
   "id": "a64ed1f4",
   "metadata": {},
   "source": [
    "The goal here is to put together some numbers on the type of projects ALMA would process as part of the WSU to be used to produce a total size of computing estimate."
   ]
  },
  {
   "cell_type": "code",
   "execution_count": 21,
   "id": "cf32bfed",
   "metadata": {},
   "outputs": [],
   "source": [
    "import numpy as np\n",
    "from matplotlib import pyplot as plt\n",
    "import re\n",
    "import math\n",
    "from astropy.table import Table, QTable, vstack\n",
    "from importlib import reload\n",
    "import wsu_plots"
   ]
  },
  {
   "cell_type": "markdown",
   "id": "4e97564b",
   "metadata": {},
   "source": [
    "## Read in  WSU estimates from cycle 7 and 8 data"
   ]
  },
  {
   "cell_type": "code",
   "execution_count": 3,
   "id": "9b0357a5",
   "metadata": {},
   "outputs": [],
   "source": [
    "#result = Table.read('cycle7wsu_20220923.fits')\n",
    "#result_c8 = Table.read('cycle8wsu_20220923.fits')\n",
    "#result = Table.read('cycle7wsu_20221003.fits')\n",
    "#result_c8 = Table.read('cycle8wsu_20221003.fits')\n",
    "#result = Table.read('cycle7wsu_20230321.ecsv')\n",
    "#result_c8 = Table.read('cycle8wsu_20230321.ecsv')\n",
    "result = Table.read('data/cycle7wsu_20230420.ecsv')\n",
    "result_c8 = Table.read('data/cycle8wsu_20230420.ecsv')"
   ]
  },
  {
   "cell_type": "code",
   "execution_count": 4,
   "id": "b978430c",
   "metadata": {},
   "outputs": [
    {
     "data": {
      "text/plain": [
       "<TableColumns names=('mous','proposal_id','schedblock_name','array','science_keyword','scientific_category','nant_typical','nant_array','nant_all','band','ntarget','target_name','s_fov','s_resolution','mosaic','imsize','pb','cell','blc_npol','blc_nspw','blc_specwidth','blc_freq','blc_velres','blc_nchan_agg','blc_nchan_max','blc_bandwidth_max','blc_bandwidth_agg','wsu_freq','wsu_npol','wsu_bandwidth_early','wsu_bandwidth_later_2x','wsu_bandwidth_later_4x','wsu_bandwidth_spw','wsu_nspw_early','wsu_nspw_later_2x','wsu_nspw_later_4x','wsu_specwidth_finest','wsu_chanavg_finest','wsu_velres_finest','wsu_specwidth_stepped','wsu_chanavg_stepped','wsu_velres_stepped','wsu_specwidth_stepped2','wsu_chanavg_stepped2','wsu_velres_stepped2','wsu_tint','wsu_nchan_spw_finest','wsu_nchan_spw_stepped','wsu_nchan_spw_stepped2','wsu_frac_bw_early','wsu_frac_bw_later_2x','wsu_frac_bw_later_4x','wsu_frac_bw_spw','nbase_typical','nbase_array','nbase_all')>"
      ]
     },
     "execution_count": 4,
     "metadata": {},
     "output_type": "execute_result"
    }
   ],
   "source": [
    "result.columns"
   ]
  },
  {
   "cell_type": "code",
   "execution_count": 5,
   "id": "e2f17896",
   "metadata": {},
   "outputs": [
    {
     "data": {
      "text/plain": [
       "11519"
      ]
     },
     "execution_count": 5,
     "metadata": {},
     "output_type": "execute_result"
    }
   ],
   "source": [
    "len(result)"
   ]
  },
  {
   "cell_type": "code",
   "execution_count": 6,
   "id": "8b4859ed",
   "metadata": {},
   "outputs": [],
   "source": [
    "result_c7_c8 = vstack([result,result_c8])"
   ]
  },
  {
   "cell_type": "code",
   "execution_count": 7,
   "id": "368fef2a",
   "metadata": {},
   "outputs": [
    {
     "data": {
      "text/plain": [
       "22362"
      ]
     },
     "execution_count": 7,
     "metadata": {},
     "output_type": "execute_result"
    }
   ],
   "source": [
    "len(result_c7_c8)"
   ]
  },
  {
   "cell_type": "code",
   "execution_count": 9,
   "id": "9b98b252",
   "metadata": {},
   "outputs": [],
   "source": [
    "# read in original data for cycle 7 and 8 -- this hasn't been updated since my last archive pull,\n",
    "# so the date is okay here. The cyberattack broke the astroquery package's ability to query the \n",
    "# alma archive.\n",
    "cycle7tab = Table.read('data/result_table_cycle7_with_calc_values_20220923.csv')\n",
    "cycle8tab = Table.read('data/result_table_cycle8_with_calc_values_20220923.csv')"
   ]
  },
  {
   "cell_type": "code",
   "execution_count": 10,
   "id": "2f69a407",
   "metadata": {},
   "outputs": [
    {
     "data": {
      "text/html": [
       "&lt;Column name=&apos;array&apos; dtype=&apos;str3&apos; length=3&gt;\n",
       "<table>\n",
       "<tr><td>12m</td></tr>\n",
       "<tr><td>7m</td></tr>\n",
       "<tr><td>TP</td></tr>\n",
       "</table>"
      ],
      "text/plain": [
       "<Column name='array' dtype='str3' length=3>\n",
       "12m\n",
       " 7m\n",
       " TP"
      ]
     },
     "execution_count": 10,
     "metadata": {},
     "output_type": "execute_result"
    }
   ],
   "source": [
    "np.unique(cycle7tab['array'])"
   ]
  },
  {
   "cell_type": "code",
   "execution_count": 11,
   "id": "625a7eb1",
   "metadata": {},
   "outputs": [],
   "source": [
    "tmp_tab = vstack([cycle7tab,cycle8tab])"
   ]
  },
  {
   "cell_type": "code",
   "execution_count": 12,
   "id": "db14ec78",
   "metadata": {},
   "outputs": [
    {
     "data": {
      "text/plain": [
       "101475"
      ]
     },
     "execution_count": 12,
     "metadata": {},
     "output_type": "execute_result"
    }
   ],
   "source": [
    "len(tmp_tab)"
   ]
  },
  {
   "cell_type": "code",
   "execution_count": 13,
   "id": "daa83d54",
   "metadata": {},
   "outputs": [],
   "source": [
    "# exclude total power projects\n",
    "idx = tmp_tab['array'] != ['TP']\n",
    "cycle7_cycle8_tab = tmp_tab[idx]"
   ]
  },
  {
   "cell_type": "code",
   "execution_count": 14,
   "id": "c6fea1ae",
   "metadata": {},
   "outputs": [
    {
     "data": {
      "text/plain": [
       "96277"
      ]
     },
     "execution_count": 14,
     "metadata": {},
     "output_type": "execute_result"
    }
   ],
   "source": [
    "len(cycle7_cycle8_tab)"
   ]
  },
  {
   "cell_type": "code",
   "execution_count": 15,
   "id": "5de6676e",
   "metadata": {},
   "outputs": [
    {
     "data": {
      "text/plain": [
       "<TableColumns names=('obs_publisher_did','facility_name','instrument_name','obs_id','dataproduct_type','calib_level','target_name','s_ra','s_dec','s_fov','s_resolution','t_min','t_max','t_exptime','t_resolution','em_min','em_max','em_res_power','pol_states','o_ucd','access_url','access_format','proposal_id','data_rights','gal_longitude','gal_latitude','band_list','em_resolution','bandwidth','antenna_arrays','is_mosaic','spatial_resolution','frequency_support','frequency','velocity_resolution','publication_year','proposal_abstract','schedblock_name','sensitivity_10kms','cont_sensitivity_bandwidth','pwv','group_ous_uid','member_ous_uid','asdm_uid','type','scan_intent','science_observation','spatial_scale_max','qa2_passed','science_keyword','scientific_category','collections','array','points_per_fov','spw_freq','spw_specwidth','spw_nchan','pb','cell','imsize','spw_nchan_max','mitigated','failed_mitigation_nbin1','failed_mitigation_nbin2','ntarget')>"
      ]
     },
     "execution_count": 15,
     "metadata": {},
     "output_type": "execute_result"
    }
   ],
   "source": [
    "cycle7_cycle8_tab.columns"
   ]
  },
  {
   "cell_type": "code",
   "execution_count": 16,
   "id": "ea6ea418",
   "metadata": {
    "scrolled": true
   },
   "outputs": [
    {
     "data": {
      "text/plain": [
       "10440.0"
      ]
     },
     "execution_count": 16,
     "metadata": {},
     "output_type": "execute_result"
    }
   ],
   "source": [
    "np.max(cycle7_cycle8_tab['imsize'])"
   ]
  },
  {
   "cell_type": "code",
   "execution_count": 17,
   "id": "89f1ac7f",
   "metadata": {
    "scrolled": true
   },
   "outputs": [
    {
     "data": {
      "text/plain": [
       "0.9031232797033559"
      ]
     },
     "execution_count": 17,
     "metadata": {},
     "output_type": "execute_result"
    }
   ],
   "source": [
    "np.sum(cycle7_cycle8_tab['imsize']<1000)/len(cycle7_cycle8_tab) "
   ]
  },
  {
   "cell_type": "code",
   "execution_count": 18,
   "id": "1f9600b8",
   "metadata": {
    "scrolled": true
   },
   "outputs": [
    {
     "data": {
      "text/plain": [
       "0.9514525795361302"
      ]
     },
     "execution_count": 18,
     "metadata": {},
     "output_type": "execute_result"
    }
   ],
   "source": [
    "np.sum(cycle7_cycle8_tab['imsize']<1600)/len(cycle7_cycle8_tab) "
   ]
  },
  {
   "cell_type": "code",
   "execution_count": 19,
   "id": "f69ca7de",
   "metadata": {
    "scrolled": false
   },
   "outputs": [
    {
     "data": {
      "text/plain": [
       "<matplotlib.lines.Line2D at 0x7f9a4b1de190>"
      ]
     },
     "execution_count": 19,
     "metadata": {},
     "output_type": "execute_result"
    },
    {
     "data": {
      "image/png": "[encoded data removed]",
      "text/plain": [
       "<Figure size 640x480 with 1 Axes>"
      ]
     },
     "metadata": {},
     "output_type": "display_data"
    }
   ],
   "source": [
    "plt.hist(np.log10(cycle7_cycle8_tab['imsize']),cumulative=True,density=True)\n",
    "plt.xlabel('log imsize')\n",
    "plt.axhline(0.5,color='gray')\n",
    "plt.axhline(0.8,color='gray')\n",
    "plt.axhline(0.9,color='gray')\n",
    "plt.axhline(0.95,color='gray')"
   ]
  },
  {
   "cell_type": "code",
   "execution_count": 20,
   "id": "1d39f67d",
   "metadata": {},
   "outputs": [
    {
     "data": {
      "text/plain": [
       "<matplotlib.lines.Line2D at 0x7f9ae1082340>"
      ]
     },
     "execution_count": 20,
     "metadata": {},
     "output_type": "execute_result"
    },
    {
     "data": {
      "image/png": "[encoded data removed]",
      "text/plain": [
       "<Figure size 640x480 with 1 Axes>"
      ]
     },
     "metadata": {},
     "output_type": "display_data"
    }
   ],
   "source": [
    "plt.hist(np.log10(cycle7_cycle8_tab['spw_nchan']),cumulative=True,density=True)\n",
    "plt.xlabel('log nchan')\n",
    "plt.axhline(0.5,color='gray')\n",
    "plt.axhline(0.8,color='gray')\n",
    "plt.axhline(0.9,color='gray')\n",
    "plt.axhline(0.95,color='gray')"
   ]
  },
  {
   "cell_type": "code",
   "execution_count": null,
   "id": "8804078e",
   "metadata": {},
   "outputs": [],
   "source": [
    "np.log10(2000)"
   ]
  },
  {
   "cell_type": "markdown",
   "id": "5db56bc8",
   "metadata": {},
   "source": [
    "## Figuring out ncores and mitigation limit correspondance "
   ]
  },
  {
   "cell_type": "code",
   "execution_count": null,
   "id": "a8cd4bf8",
   "metadata": {},
   "outputs": [],
   "source": [
    "import large_cubes"
   ]
  },
  {
   "cell_type": "code",
   "execution_count": null,
   "id": "991a066e",
   "metadata": {},
   "outputs": [],
   "source": [
    "reload(large_cubes)"
   ]
  },
  {
   "cell_type": "code",
   "execution_count": null,
   "id": "548b3955",
   "metadata": {},
   "outputs": [],
   "source": [
    "large_cubes.make_imsize_vs_nchan(result_c7_c8,core_theory=True,band2_specscan=False)"
   ]
  },
  {
   "cell_type": "markdown",
   "id": "430701b3",
   "metadata": {},
   "source": [
    "## Making density plots"
   ]
  },
  {
   "cell_type": "code",
   "execution_count": null,
   "id": "d8973cd8",
   "metadata": {},
   "outputs": [],
   "source": [
    "import large_cubes"
   ]
  },
  {
   "cell_type": "code",
   "execution_count": null,
   "id": "9ce67da1",
   "metadata": {},
   "outputs": [],
   "source": [
    "reload(large_cubes)"
   ]
  },
  {
   "cell_type": "code",
   "execution_count": null,
   "id": "aaca82c8",
   "metadata": {},
   "outputs": [],
   "source": [
    "log_imsize_range = (1.6,4.1)\n",
    "log_imsize_step = 0.1\n",
    "log_nchan_range = (1.7, 5.9)\n",
    "log_nchan_step = 0.1"
   ]
  },
  {
   "cell_type": "code",
   "execution_count": null,
   "id": "bcb20e4d",
   "metadata": {},
   "outputs": [],
   "source": [
    "reload(large_cubes)\n",
    "h_current, xedges, yedges = large_cubes.make_imsize_vs_nchan_hist2d(cycle7_cycle8_tab, \n",
    "                                                            chan_type='spw_nchan',\n",
    "                                                            log_imsize_range = log_imsize_range, \n",
    "                                                            log_imsize_step = log_imsize_step,\n",
    "                                                            log_nchan_range = log_nchan_range,\n",
    "                                                            log_nchan_step = log_nchan_step, \n",
    "                                                            title = 'Cycle 7 & 8 \\n Current Number of Channels',\n",
    "                                                            cmap='winter_r',\n",
    "                                                            band2_specscan=False,\n",
    "                                                            mit_limits=True,\n",
    "                                                            pltname='density_plot_nolines.png')"
   ]
  },
  {
   "cell_type": "code",
   "execution_count": null,
   "id": "e957d6c0",
   "metadata": {},
   "outputs": [],
   "source": [
    "print(\"max is: \", np.nanmax(h_current))\n",
    "print(\"min is : \", np.nanmin(h_current))"
   ]
  },
  {
   "cell_type": "code",
   "execution_count": null,
   "id": "2ebc2585",
   "metadata": {},
   "outputs": [],
   "source": [
    "reload(large_cubes)\n",
    "large_cubes.calc_frac_under_lines(h_current,\n",
    "                                  log_imsize_range = log_imsize_range, \n",
    "                                  log_imsize_step = log_imsize_step,\n",
    "                                  log_nchan_range = log_nchan_range,\n",
    "                                  log_nchan_step = log_nchan_step)"
   ]
  },
  {
   "cell_type": "code",
   "execution_count": null,
   "id": "52c87aef",
   "metadata": {},
   "outputs": [],
   "source": [
    "reload(large_cubes)\n",
    "h_wsu_spw, xedges, yedges = large_cubes.make_imsize_vs_nchan_hist2d(result_c7_c8, \n",
    "                                                            chan_type='wsu_nchan_spw_stepped2',\n",
    "                                                            log_imsize_range = log_imsize_range, \n",
    "                                                            log_imsize_step = log_imsize_step,\n",
    "                                                            log_nchan_range = log_nchan_range,\n",
    "                                                            log_nchan_step = log_nchan_step, \n",
    "                                                            title = 'Cycle 7 & 8 \\n Number of Channels for 1.6GHz correlated BW',\n",
    "                                                            cmap='winter_r',\n",
    "                                                            band2_specscan=False,nspw=10,\n",
    "                                                            pltname='density_plot_wsu_spw_nolines.png')"
   ]
  },
  {
   "cell_type": "code",
   "execution_count": null,
   "id": "f34a12b7",
   "metadata": {
    "scrolled": false
   },
   "outputs": [],
   "source": [
    "reload(large_cubes)\n",
    "h_wsu_spw, xedges, yedges = large_cubes.make_imsize_vs_nchan_hist2d(result_c7_c8, \n",
    "                                                            chan_type='wsu_nchan_spw_stepped2',\n",
    "                                                            log_imsize_range = log_imsize_range, \n",
    "                                                            log_imsize_step = log_imsize_step,\n",
    "                                                            log_nchan_range = log_nchan_range,\n",
    "                                                            log_nchan_step = log_nchan_step, \n",
    "                                                            title = 'Cycle 7 & 8 \\n Number of Channels for 1.6GHz correlated BW',\n",
    "                                                            cmap='winter_r', nspw=10,\n",
    "                                                            pltname='density_plot_wsu_spw.png')"
   ]
  },
  {
   "cell_type": "code",
   "execution_count": null,
   "id": "199d37ee",
   "metadata": {},
   "outputs": [],
   "source": [
    "print(\"max is : \", np.nanmax(h_wsu_spw))\n",
    "print(\"min is : \", np.nanmin(h_wsu_spw))"
   ]
  },
  {
   "cell_type": "code",
   "execution_count": null,
   "id": "a8cd4aac",
   "metadata": {
    "scrolled": true
   },
   "outputs": [],
   "source": [
    "nspw=10\n",
    "large_cubes.calc_frac_under_lines(h_wsu_spw,\n",
    "                                  log_imsize_range = log_imsize_range, \n",
    "                                  log_imsize_step = log_imsize_step,\n",
    "                                  log_nchan_range = log_nchan_range,\n",
    "                                  log_nchan_step = log_nchan_step,\n",
    "                                   max_nchans = np.array([large_cubes.band2specscan_160MBs['nchan']/nspw,large_cubes.band2specscan_500MBs['nchan']/nspw,large_cubes.band2specscan['nchan']/nspw]))"
   ]
  },
  {
   "cell_type": "code",
   "execution_count": null,
   "id": "1c442c27",
   "metadata": {
    "scrolled": false
   },
   "outputs": [],
   "source": [
    "reload(large_cubes)\n",
    "h_wsu_initial, xedges, yedges = large_cubes.make_imsize_vs_nchan_hist2d(result_c7_c8, \n",
    "                                                            chan_type='wsu_nchan_initial_stepped2',\n",
    "                                                            log_imsize_range = log_imsize_range, \n",
    "                                                            log_imsize_step = log_imsize_step,\n",
    "                                                            log_nchan_range = log_nchan_range,\n",
    "                                                            log_nchan_step = log_nchan_step, \n",
    "                                                            title = 'Cycle 7 & 8 \\n Number of Channels for Initial Correlated BW',\n",
    "                                                            cmap='winter_r', nspw=1,\n",
    "                                                            pltname='density_plot_wsu_initial.png')"
   ]
  },
  {
   "cell_type": "code",
   "execution_count": null,
   "id": "5e65ff3c",
   "metadata": {},
   "outputs": [],
   "source": [
    "large_cubes.calc_frac_under_lines(h_wsu_initial,\n",
    "                                  log_imsize_range = log_imsize_range, \n",
    "                                  log_imsize_step = log_imsize_step,\n",
    "                                  log_nchan_range = log_nchan_range,\n",
    "                                  log_nchan_step = log_nchan_step)"
   ]
  },
  {
   "cell_type": "code",
   "execution_count": null,
   "id": "b64eb272",
   "metadata": {
    "scrolled": false
   },
   "outputs": [],
   "source": [
    "h_wsu_final, xedges, yedges = large_cubes.make_imsize_vs_nchan_hist2d(result_c7_c8, \n",
    "                                                            chan_type='wsu_nchan_final_stepped2',\n",
    "                                                            log_imsize_range = log_imsize_range, \n",
    "                                                            log_imsize_step = log_imsize_step,\n",
    "                                                            log_nchan_range = log_nchan_range,\n",
    "                                                            log_nchan_step = log_nchan_step, \n",
    "                                                            title = 'Cycle 7 & 8 \\n Number of Channels for Final 16GHz Correlated BW',\n",
    "                                                            cmap='winter_r',nspw=1,\n",
    "                                                            pltname='density_plot_wsu_final.png')"
   ]
  },
  {
   "cell_type": "code",
   "execution_count": null,
   "id": "d62598d0",
   "metadata": {
    "scrolled": true
   },
   "outputs": [],
   "source": [
    "reload(large_cubes)\n",
    "large_cubes.calc_frac_under_lines(h_wsu_final,\n",
    "                                  log_imsize_range = log_imsize_range, \n",
    "                                  log_imsize_step = log_imsize_step,\n",
    "                                  log_nchan_range = log_nchan_range,\n",
    "                                  log_nchan_step = log_nchan_step)"
   ]
  },
  {
   "cell_type": "code",
   "execution_count": null,
   "id": "036be4fb",
   "metadata": {},
   "outputs": [],
   "source": [
    "large_cubes.calc_frac_under_lines(h_wsu_final,\n",
    "                                  log_imsize_range = log_imsize_range, \n",
    "                                  log_imsize_step = log_imsize_step,\n",
    "                                  log_nchan_range = log_nchan_range,\n",
    "                                  log_nchan_step = log_nchan_step,\n",
    "                                  mit_limits = np.array([1,10,100, 500]),\n",
    "                                  max_nchans = np.array([large_cubes.band2specscan_160MBs['nchan'],large_cubes.band2specscan_500MBs['nchan'],large_cubes.band2specscan['nchan'],large_cubes.band2specscan['nchan']]))"
   ]
  },
  {
   "cell_type": "markdown",
   "id": "cb05fb75",
   "metadata": {},
   "source": [
    "## making cumulative fraction plots"
   ]
  },
  {
   "cell_type": "code",
   "execution_count": null,
   "id": "614b9b29",
   "metadata": {
    "scrolled": false
   },
   "outputs": [],
   "source": [
    "reload(large_cubes)\n",
    "large_cubes.calc_cumulative_hist(h_current,    \n",
    "                                 mit_limits =  np.array([1,2,10,100,500]),\n",
    "                                 log_imsize_range = log_imsize_range, \n",
    "                                 log_imsize_step = log_imsize_step,\n",
    "                                 log_nchan_range = log_nchan_range,\n",
    "                                 log_nchan_step = log_nchan_step,\n",
    "                                 title = 'ALMA Cycle 7 & 8 Current',\n",
    "                                 pltname='cumulative_current.png')"
   ]
  },
  {
   "cell_type": "code",
   "execution_count": null,
   "id": "2ae27e0d",
   "metadata": {
    "scrolled": false
   },
   "outputs": [],
   "source": [
    "reload(large_cubes)\n",
    "large_cubes.calc_cumulative_hist(h_current,    \n",
    "                                 mit_limits =  np.array([1,2,10,100,500]),\n",
    "                                 log_imsize_range = log_imsize_range, \n",
    "                                 log_imsize_step = log_imsize_step,\n",
    "                                 log_nchan_range = log_nchan_range,\n",
    "                                 log_nchan_step = log_nchan_step,\n",
    "                                 title = 'ALMA Cycle 7 & 8 Current',\n",
    "                                 pltname='cumulative_current_zoom.png',\n",
    "                                 ylim=(0.9,1.0))"
   ]
  },
  {
   "cell_type": "code",
   "execution_count": null,
   "id": "8ae9368b",
   "metadata": {},
   "outputs": [],
   "source": [
    "large_cubes.calc_cumulative_hist(h_wsu_spw,    \n",
    "                                 mit_limits =  np.array([1,2,10,100,500]),\n",
    "                                 log_imsize_range = log_imsize_range, \n",
    "                                 log_imsize_step = log_imsize_step,\n",
    "                                 log_nchan_range = log_nchan_range,\n",
    "                                 log_nchan_step = log_nchan_step,\n",
    "                                 title = 'ALMA Cycle 7 & 8 WSU 1.6GHz Correlated BW',\n",
    "                                 pltname = 'cumulative_wsu_spw.png')"
   ]
  },
  {
   "cell_type": "code",
   "execution_count": null,
   "id": "e816d75b",
   "metadata": {},
   "outputs": [],
   "source": [
    "large_cubes.calc_cumulative_hist(h_wsu_spw,    \n",
    "                                 mit_limits =  np.array([1,2,10,100,500]),\n",
    "                                 log_imsize_range = log_imsize_range, \n",
    "                                 log_imsize_step = log_imsize_step,\n",
    "                                 log_nchan_range = log_nchan_range,\n",
    "                                 log_nchan_step = log_nchan_step,\n",
    "                                 title = 'ALMA Cycle 7 & 8 WSU 1.6GHz Correlated BW',\n",
    "                                 pltname = 'cumulative_wsu_spw_zoom.png',\n",
    "                                 ylim=(0.9,1.0))"
   ]
  },
  {
   "cell_type": "code",
   "execution_count": null,
   "id": "511d15ee",
   "metadata": {},
   "outputs": [],
   "source": [
    "large_cubes.calc_cumulative_hist(h_wsu_initial,    \n",
    "                                 mit_limits =  np.array([1,2,10,100,500]),\n",
    "                                 log_imsize_range = log_imsize_range, \n",
    "                                 log_imsize_step = log_imsize_step,\n",
    "                                 log_nchan_range = log_nchan_range,\n",
    "                                 log_nchan_step = log_nchan_step,\n",
    "                                 title = 'ALMA Cycle 7 & 8  WSU Initial Correlated BW',\n",
    "                                pltname='cumulative_wsu_initial')"
   ]
  },
  {
   "cell_type": "code",
   "execution_count": null,
   "id": "62dd120b",
   "metadata": {},
   "outputs": [],
   "source": [
    "large_cubes.calc_cumulative_hist(h_wsu_final,    \n",
    "                                 mit_limits =  np.array([1,2,10,100,500]),\n",
    "                                 log_imsize_range = log_imsize_range, \n",
    "                                 log_imsize_step = log_imsize_step,\n",
    "                                 log_nchan_range = log_nchan_range,\n",
    "                                 log_nchan_step = log_nchan_step,\n",
    "                                 title = 'ALMA Cycle 7 & 8 WSU Final Correlated BW',\n",
    "                                pltname='cumulative_wsu_final.png')"
   ]
  },
  {
   "cell_type": "markdown",
   "id": "35f038ef",
   "metadata": {},
   "source": [
    "## Making velocity histograms"
   ]
  },
  {
   "cell_type": "code",
   "execution_count": 22,
   "id": "a29ffb10",
   "metadata": {
    "scrolled": false
   },
   "outputs": [
    {
     "name": "stdout",
     "output_type": "stream",
     "text": [
      "96277\n",
      "[[5.9000e+01 2.7660e+03 2.8906e+04 4.8960e+03 7.0740e+03]\n",
      " [0.0000e+00 3.9000e+01 4.8000e+01 2.5080e+03 3.5880e+03]\n",
      " [1.2000e+01 1.3500e+02 2.4100e+02 1.1300e+02 7.1100e+02]\n",
      " [1.3940e+03 9.7330e+03 1.2183e+04 2.1550e+03 1.0158e+04]\n",
      " [3.0100e+02 1.6600e+03 2.0140e+03 7.1300e+02 3.2440e+03]\n",
      " [1.6000e+01 4.2000e+01 3.1200e+02 2.5100e+02 6.7900e+02]\n",
      " [0.0000e+00 6.6000e+01 6.0000e+01 2.8000e+01 1.0800e+02]\n",
      " [0.0000e+00 3.2000e+01 1.6000e+01 0.0000e+00 1.6000e+01]]\n"
     ]
    },
    {
     "data": {
      "image/png": "[encoded data removed]",
      "text/plain": [
       "<Figure size 1000x800 with 1 Axes>"
      ]
     },
     "metadata": {},
     "output_type": "display_data"
    }
   ],
   "source": [
    "reload(wsu_plots)\n",
    "vel_hist = wsu_plots.make_velocity_bar(cycle7_cycle8_tab,title='ALMA Cycle 7 & Cycle 8',\n",
    "                                       pltname='plots/cycle7_cycle8_spw_distribution.png')"
   ]
  },
  {
   "cell_type": "code",
   "execution_count": null,
   "id": "2686eec2",
   "metadata": {
    "scrolled": true
   },
   "outputs": [],
   "source": [
    "np.sum(vel_hist,axis=0)/np.sum(vel_hist)"
   ]
  },
  {
   "cell_type": "code",
   "execution_count": null,
   "id": "33b0c927",
   "metadata": {},
   "outputs": [],
   "source": [
    "reload(large_cubes)\n",
    "idx = cycle7_cycle8_tab['velocity_resolution'] < 0.1\n",
    "h_current, xedges, yedges = large_cubes.make_imsize_vs_nchan_hist2d(cycle7_cycle8_tab[idx], \n",
    "                                                            chan_type='spw_nchan',\n",
    "                                                            log_imsize_range = log_imsize_range, \n",
    "                                                            log_imsize_step = log_imsize_step,\n",
    "                                                            log_nchan_range = log_nchan_range,\n",
    "                                                            log_nchan_step = log_nchan_step, \n",
    "                                                            title = 'Cycle 7 & 8 \\n Current Number of Channels \\n <0.1km/s',\n",
    "                                                            cmap='winter_r',\n",
    "                                                            band2_specscan=True, nspw=10,\n",
    "                                                            pltname='density_plot_current_lt_01kms.png',\n",
    "                                                            vmin=1,\n",
    "                                                            vmax=8970)"
   ]
  },
  {
   "cell_type": "code",
   "execution_count": null,
   "id": "c653b757",
   "metadata": {},
   "outputs": [],
   "source": [
    "reload(large_cubes)\n",
    "idx = (cycle7_cycle8_tab['velocity_resolution'] < 0.5) & (cycle7_cycle8_tab['velocity_resolution'] >= 0.1)\n",
    "h_current, xedges, yedges = large_cubes.make_imsize_vs_nchan_hist2d(cycle7_cycle8_tab[idx], \n",
    "                                                            chan_type='spw_nchan',\n",
    "                                                            log_imsize_range = log_imsize_range, \n",
    "                                                            log_imsize_step = log_imsize_step,\n",
    "                                                            log_nchan_range = log_nchan_range,\n",
    "                                                            log_nchan_step = log_nchan_step, \n",
    "                                                            title = 'Cycle 7 & 8 \\n Current Number of Channels \\n 0.1 - 0.5 km/s',\n",
    "                                                            cmap='winter_r',\n",
    "                                                            band2_specscan=True,nspw=10,\n",
    "                                                            pltname='density_plot_current_gt_01_kms_lt_05kms.png',\n",
    "                                                            vmin=1,\n",
    "                                                            vmax=8970)"
   ]
  },
  {
   "cell_type": "code",
   "execution_count": null,
   "id": "fa2c6f8b",
   "metadata": {
    "scrolled": false
   },
   "outputs": [],
   "source": [
    "reload(large_cubes)\n",
    "idx = cycle7_cycle8_tab['velocity_resolution'] < 0.5\n",
    "h_current, xedges, yedges = large_cubes.make_imsize_vs_nchan_hist2d(cycle7_cycle8_tab[idx], \n",
    "                                                            chan_type='spw_nchan',\n",
    "                                                            log_imsize_range = log_imsize_range, \n",
    "                                                            log_imsize_step = log_imsize_step,\n",
    "                                                            log_nchan_range = log_nchan_range,\n",
    "                                                            log_nchan_step = log_nchan_step, \n",
    "                                                            title = 'Cycle 7 & 8 \\n Current Number of Channels \\n <0.5km/s',\n",
    "                                                            cmap='winter_r',\n",
    "                                                            band2_specscan=True,nspw=10,\n",
    "                                                            pltname='density_plot_current_lt_05kms.png',\n",
    "                                                            vmin=1,\n",
    "                                                            vmax=8970)"
   ]
  },
  {
   "cell_type": "code",
   "execution_count": null,
   "id": "55dfbe70",
   "metadata": {},
   "outputs": [],
   "source": [
    "idx = (cycle7_cycle8_tab['velocity_resolution'] >= 0.5) & (cycle7_cycle8_tab['velocity_resolution'] < 2.0)\n",
    "h_current, xedges, yedges = large_cubes.make_imsize_vs_nchan_hist2d(cycle7_cycle8_tab[idx], \n",
    "                                                            chan_type='spw_nchan',\n",
    "                                                            log_imsize_range = log_imsize_range, \n",
    "                                                            log_imsize_step = log_imsize_step,\n",
    "                                                            log_nchan_range = log_nchan_range,\n",
    "                                                            log_nchan_step = log_nchan_step, \n",
    "                                                            title = 'Cycle 7 & 8 \\n Current Number of Channels \\n 0.5 - 2 km/s',\n",
    "                                                            cmap='winter_r',\n",
    "                                                            band2_specscan=True,nspw=10,\n",
    "                                                            pltname='density_plot_current_gt_05kms_lt_2kms.png',\n",
    "                                                            vmin=1,\n",
    "                                                            vmax=8970)"
   ]
  },
  {
   "cell_type": "code",
   "execution_count": null,
   "id": "bb0f98de",
   "metadata": {},
   "outputs": [],
   "source": [
    "idx = (cycle7_cycle8_tab['velocity_resolution'] >= 2.0) & (cycle7_cycle8_tab['velocity_resolution'] < 10.0)\n",
    "h_current, xedges, yedges = large_cubes.make_imsize_vs_nchan_hist2d(cycle7_cycle8_tab[idx], \n",
    "                                                            chan_type='spw_nchan',\n",
    "                                                            log_imsize_range = log_imsize_range, \n",
    "                                                            log_imsize_step = log_imsize_step,\n",
    "                                                            log_nchan_range = log_nchan_range,\n",
    "                                                            log_nchan_step = log_nchan_step, \n",
    "                                                            title = 'Cycle 7 & 8 \\n Current Number of Channels \\n 2-10 km/s',\n",
    "                                                            cmap='winter_r',\n",
    "                                                            band2_specscan=True,nspw=10,\n",
    "                                                            pltname='density_plot_current_gt_2kms_lt_10kms.png',\n",
    "                                                            vmin=1,\n",
    "                                                            vmax=8970)"
   ]
  },
  {
   "cell_type": "code",
   "execution_count": null,
   "id": "b95b2ff1",
   "metadata": {},
   "outputs": [],
   "source": [
    "idx =  (cycle7_cycle8_tab['velocity_resolution'] >= 10.0)\n",
    "h_current, xedges, yedges = large_cubes.make_imsize_vs_nchan_hist2d(cycle7_cycle8_tab[idx], \n",
    "                                                            chan_type='spw_nchan',\n",
    "                                                            log_imsize_range = log_imsize_range, \n",
    "                                                            log_imsize_step = log_imsize_step,\n",
    "                                                            log_nchan_range = log_nchan_range,\n",
    "                                                            log_nchan_step = log_nchan_step, \n",
    "                                                            title = 'Cycle 7 & 8 \\n Current Number of Channels \\n >= 10km/s',\n",
    "                                                            cmap='winter_r',\n",
    "                                                            band2_specscan=True,nspw=10,\n",
    "                                                            pltname='density_plot_current_gt_10kms.png',\n",
    "                                                            vmin=1,\n",
    "                                                            vmax=8970)"
   ]
  },
  {
   "cell_type": "code",
   "execution_count": null,
   "id": "09b6d297",
   "metadata": {
    "scrolled": false
   },
   "outputs": [],
   "source": [
    "reload(large_cubes)\n",
    "idx = result_c7_c8['velocity_resolution_current'] < 0.1\n",
    "h_wsu_spw, xedges, yedges = large_cubes.make_imsize_vs_nchan_hist2d(result_c7_c8[idx], \n",
    "                                                            chan_type='wsu_nchan_spw_stepped2',\n",
    "                                                            log_imsize_range = log_imsize_range, \n",
    "                                                            log_imsize_step = log_imsize_step,\n",
    "                                                            log_nchan_range = log_nchan_range,\n",
    "                                                            log_nchan_step = log_nchan_step, \n",
    "                                                            title = 'Cycle 7 & 8 \\n Number of Channels for 1.6GHz correlated BW \\n < 0.1km/s',\n",
    "                                                            cmap='winter_r',nspw=10,\n",
    "                                                            pltname='density_plot_wsu_spw_lt_01kms.png',\n",
    "                                                            vmin=1,\n",
    "                                                            vmax=1804)"
   ]
  },
  {
   "cell_type": "code",
   "execution_count": null,
   "id": "ecaacb5e",
   "metadata": {},
   "outputs": [],
   "source": [
    "reload(large_cubes)\n",
    "idx = (result_c7_c8['velocity_resolution_current'] < 0.5) & (result_c7_c8['velocity_resolution_current'] >= 0.1)\n",
    "h_wsu_spw, xedges, yedges = large_cubes.make_imsize_vs_nchan_hist2d(result_c7_c8[idx], \n",
    "                                                            chan_type='wsu_nchan_spw_stepped2',\n",
    "                                                            log_imsize_range = log_imsize_range, \n",
    "                                                            log_imsize_step = log_imsize_step,\n",
    "                                                            log_nchan_range = log_nchan_range,\n",
    "                                                            log_nchan_step = log_nchan_step, \n",
    "                                                            title = 'Cycle 7 & 8 \\n Number of Channels for 1.6GHz correlated BW \\n 0.1-0.5 km/s',\n",
    "                                                            cmap='winter_r',nspw=10,\n",
    "                                                            pltname='density_plot_wsu_spw_lt_05kms_gt_01kms.png',\n",
    "                                                            vmin=1,\n",
    "                                                            vmax=1804)"
   ]
  },
  {
   "cell_type": "code",
   "execution_count": null,
   "id": "2136c25c",
   "metadata": {},
   "outputs": [],
   "source": [
    "reload(large_cubes)\n",
    "idx = result_c7_c8['velocity_resolution_current'] < 0.5\n",
    "h_wsu_spw, xedges, yedges = large_cubes.make_imsize_vs_nchan_hist2d(result_c7_c8[idx], \n",
    "                                                            chan_type='wsu_nchan_spw_stepped2',\n",
    "                                                            log_imsize_range = log_imsize_range, \n",
    "                                                            log_imsize_step = log_imsize_step,\n",
    "                                                            log_nchan_range = log_nchan_range,\n",
    "                                                            log_nchan_step = log_nchan_step, \n",
    "                                                            title = 'Cycle 7 & 8 \\n Number of Channels for 1.6GHz correlated BW \\n < 0.5km/s',\n",
    "                                                            cmap='winter_r',nspw=10,\n",
    "                                                            pltname='density_plot_wsu_spw_lt_05kms.png',\n",
    "                                                            vmin=1,\n",
    "                                                            vmax=1804)"
   ]
  },
  {
   "cell_type": "code",
   "execution_count": null,
   "id": "e2ebb96c",
   "metadata": {
    "scrolled": false
   },
   "outputs": [],
   "source": [
    "reload(large_cubes)\n",
    "idx = (result_c7_c8['velocity_resolution_current'] >= 0.5) & (result_c7_c8['velocity_resolution_current'] < 2.0)\n",
    "h_wsu_spw, xedges, yedges = large_cubes.make_imsize_vs_nchan_hist2d(result_c7_c8[idx], \n",
    "                                                            chan_type='wsu_nchan_spw_stepped2',\n",
    "                                                            log_imsize_range = log_imsize_range, \n",
    "                                                            log_imsize_step = log_imsize_step,\n",
    "                                                            log_nchan_range = log_nchan_range,\n",
    "                                                            log_nchan_step = log_nchan_step, \n",
    "                                                            title = 'Cycle 7 & 8 \\n Number of Channels for 1.6GHz correlated BW \\n 0.5-2.0 km/s',\n",
    "                                                            cmap='winter_r',nspw=10,\n",
    "                                                            pltname='density_plot_wsu_spw_gt_05kms_lt_2kms.png',\n",
    "                                                            vmin=1,\n",
    "                                                            vmax=1804)"
   ]
  },
  {
   "cell_type": "code",
   "execution_count": null,
   "id": "762d9b60",
   "metadata": {},
   "outputs": [],
   "source": [
    "reload(large_cubes)\n",
    "idx = (result_c7_c8['velocity_resolution_current'] >= 2) & (result_c7_c8['velocity_resolution_current'] < 10.0)\n",
    "h_wsu_spw, xedges, yedges = large_cubes.make_imsize_vs_nchan_hist2d(result_c7_c8[idx], \n",
    "                                                            chan_type='wsu_nchan_spw_stepped2',\n",
    "                                                            log_imsize_range = log_imsize_range, \n",
    "                                                            log_imsize_step = log_imsize_step,\n",
    "                                                            log_nchan_range = log_nchan_range,\n",
    "                                                            log_nchan_step = log_nchan_step, \n",
    "                                                            title = 'Cycle 7 & 8 \\n Number of Channels for 1.6GHz correlated BW \\n 2-10 km/s',\n",
    "                                                            cmap='winter_r',\n",
    "                                                            pltname='density_plot_wsu_spw_gt_2kms_lt_10kms.png',\n",
    "                                                            vmin=1,\n",
    "                                                            vmax=1804)"
   ]
  },
  {
   "cell_type": "code",
   "execution_count": null,
   "id": "ec2a5314",
   "metadata": {},
   "outputs": [],
   "source": [
    "reload(large_cubes)\n",
    "idx = (result_c7_c8['velocity_resolution_current'] >= 10.0) \n",
    "h_wsu_spw, xedges, yedges = large_cubes.make_imsize_vs_nchan_hist2d(result_c7_c8[idx], \n",
    "                                                            chan_type='wsu_nchan_spw_stepped2',\n",
    "                                                            log_imsize_range = log_imsize_range, \n",
    "                                                            log_imsize_step = log_imsize_step,\n",
    "                                                            log_nchan_range = log_nchan_range,\n",
    "                                                            log_nchan_step = log_nchan_step, \n",
    "                                                            title = 'Cycle 7 & 8 \\n Number of Channels for 1.6GHz correlated BW \\n >= 10 km/s',\n",
    "                                                            cmap='winter_r',nspw=10,\n",
    "                                                            pltname='density_plot_wsu_spw_gte_10kms.png',\n",
    "                                                            vmin=1,\n",
    "                                                            vmax=1804)"
   ]
  },
  {
   "cell_type": "markdown",
   "id": "98cb258a",
   "metadata": {},
   "source": [
    "## Estimated the fraction of projects that would fail mitigation completely"
   ]
  },
  {
   "cell_type": "code",
   "execution_count": null,
   "id": "f87f5663",
   "metadata": {},
   "outputs": [],
   "source": [
    "idx = (cycle7_cycle8_tab['spw_nchan'] > 3500) & (cycle7_cycle8_tab['points_per_fov'] > 5.8e5)\n",
    "len(cycle7_cycle8_tab[idx])"
   ]
  },
  {
   "cell_type": "code",
   "execution_count": null,
   "id": "fcf60242",
   "metadata": {},
   "outputs": [],
   "source": [
    "np.unique(cycle7_cycle8_tab[idx]['member_ous_uid'])"
   ]
  },
  {
   "cell_type": "code",
   "execution_count": null,
   "id": "68b44b76",
   "metadata": {},
   "outputs": [],
   "source": [
    "idx = (cycle7_cycle8_tab['spw_nchan'] > 1900) & (cycle7_cycle8_tab['points_per_fov'] > 1.0e6)\n",
    "len(cycle7_cycle8_tab[idx])"
   ]
  },
  {
   "cell_type": "code",
   "execution_count": null,
   "id": "a0190587",
   "metadata": {},
   "outputs": [],
   "source": [
    "np.unique(cycle7_cycle8_tab[idx]['member_ous_uid'])"
   ]
  },
  {
   "cell_type": "code",
   "execution_count": null,
   "id": "80626d64",
   "metadata": {},
   "outputs": [],
   "source": [
    "np.unique(cycle7_cycle8_tab['member_ous_uid'])"
   ]
  },
  {
   "cell_type": "code",
   "execution_count": null,
   "id": "6d229dbd",
   "metadata": {},
   "outputs": [],
   "source": [
    "(51+30)/5200.0"
   ]
  },
  {
   "cell_type": "code",
   "execution_count": null,
   "id": "3dd05afb",
   "metadata": {},
   "outputs": [],
   "source": [
    "cycle7_cycle8_tab.columns"
   ]
  },
  {
   "cell_type": "code",
   "execution_count": null,
   "id": "38748ff2",
   "metadata": {},
   "outputs": [],
   "source": [
    "cycle7_cycle8_tab['is_mosaic']"
   ]
  },
  {
   "cell_type": "code",
   "execution_count": null,
   "id": "011fc18f",
   "metadata": {},
   "outputs": [],
   "source": [
    "result_c7_c8.columns"
   ]
  },
  {
   "cell_type": "code",
   "execution_count": null,
   "id": "bbeceae0",
   "metadata": {},
   "outputs": [],
   "source": [
    "np.min(result_c7_c8['vis_rate_array_final_stepped2'])/3600.0"
   ]
  },
  {
   "cell_type": "code",
   "execution_count": null,
   "id": "6671fc7c",
   "metadata": {},
   "outputs": [],
   "source": [
    "np.max(result_c7_c8['vis_rate_array_final_stepped2'])/3600.0"
   ]
  },
  {
   "cell_type": "code",
   "execution_count": null,
   "id": "95d35946",
   "metadata": {},
   "outputs": [],
   "source": [
    "np.median(result_c7_c8['vis_rate_array_final_stepped2'])/3600.0"
   ]
  },
  {
   "cell_type": "code",
   "execution_count": null,
   "id": "f5414ef6",
   "metadata": {},
   "outputs": [],
   "source": [
    "result_c7_c8['vis_rate_array_final_stepped2']"
   ]
  },
  {
   "cell_type": "code",
   "execution_count": null,
   "id": "22088a0b",
   "metadata": {},
   "outputs": [],
   "source": [
    "result_c7_c8['mous'][10]"
   ]
  },
  {
   "cell_type": "code",
   "execution_count": null,
   "id": "0aba5018",
   "metadata": {},
   "outputs": [],
   "source": [
    "result_c7_c8[10]"
   ]
  }
 ],
 "metadata": {
  "kernelspec": {
   "display_name": "Python 3 (ipykernel)",
   "language": "python",
   "name": "python3"
  },
  "language_info": {
   "codemirror_mode": {
    "name": "ipython",
    "version": 3
   },
   "file_extension": ".py",
   "mimetype": "text/x-python",
   "name": "python",
   "nbconvert_exporter": "python",
   "pygments_lexer": "ipython3",
   "version": "3.8.8"
  }
 },
 "nbformat": 4,
 "nbformat_minor": 5
}
