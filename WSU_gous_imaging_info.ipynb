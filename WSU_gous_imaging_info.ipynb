{
 "cells": [
  {
   "cell_type": "markdown",
   "id": "f449708c",
   "metadata": {},
   "source": [
    "# Adding in statistics on mous imaging to database"
   ]
  },
  {
   "cell_type": "markdown",
   "id": "a10b61e3",
   "metadata": {},
   "source": [
    "Values I want to add:\n",
    "* number of mous in GOUS (all arrays)\n",
    "* number of 12m MOUS in GOUS\n",
    "* number of 7m MOUS in GOUS\n",
    "* number of TP MOUS in GOUS\n",
    "* max L80 (12m)\n",
    "* min L80 (12m)\n",
    "* product size per gous assuming GOUS only imaging (should be equal to GOUS+MOUS - MOUS)\n",
    "* product size per gous asuming MOUS only imaging (already have -- that's just the initial product size)\n",
    "* product size per gous assuming GOUS + MOUS imaging\n",
    "* product size per proposal assuming GOUS only imaging\n",
    "* product size per proposal assuming MOUS only imaging\n",
    "* product size per proposal assuming GOUS + MOUS imaging"
   ]
  },
  {
   "cell_type": "markdown",
   "id": "625bf093",
   "metadata": {},
   "source": [
    "## import libraries"
   ]
  },
  {
   "cell_type": "code",
   "execution_count": 1,
   "id": "92be26af",
   "metadata": {},
   "outputs": [],
   "source": [
    "import numpy as np\n",
    "import matplotlib.pyplot as plt\n",
    "from astropy.table import Table, vstack, QTable\n",
    "import astropy.units as u\n",
    "import pandas as pd\n",
    "import pickle\n",
    "from importlib import reload\n",
    "import wsu_plots\n",
    "import wsu_db\n",
    "import re"
   ]
  },
  {
   "cell_type": "markdown",
   "id": "409953c4",
   "metadata": {},
   "source": [
    "## read in data files"
   ]
  },
  {
   "cell_type": "code",
   "execution_count": 2,
   "id": "ed76f2c7",
   "metadata": {},
   "outputs": [],
   "source": [
    "result_c7_mous = QTable.read('data/wsu_datarates_mit_per_mous_cycle7_20240315_gous_without_band3_nbin3_npol4.ecsv')\n",
    "result_c8_mous = QTable.read('data/wsu_datarates_mit_per_mous_cycle8_20240315_gous_without_band3_nbin3_npol4.ecsv')"
   ]
  },
  {
   "cell_type": "code",
   "execution_count": 3,
   "id": "4f0d2f2a",
   "metadata": {},
   "outputs": [
    {
     "data": {
      "text/plain": [
       "2712"
      ]
     },
     "execution_count": 3,
     "metadata": {},
     "output_type": "execute_result"
    }
   ],
   "source": [
    "len(result_c7_mous)"
   ]
  },
  {
   "cell_type": "code",
   "execution_count": 4,
   "id": "22beb31e",
   "metadata": {},
   "outputs": [
    {
     "data": {
      "text/plain": [
       "2480"
      ]
     },
     "execution_count": 4,
     "metadata": {},
     "output_type": "execute_result"
    }
   ],
   "source": [
    "len(result_c8_mous)"
   ]
  },
  {
   "cell_type": "code",
   "execution_count": 5,
   "id": "edbc943a",
   "metadata": {},
   "outputs": [],
   "source": [
    "wsu_all = vstack([result_c7_mous,result_c8_mous])"
   ]
  },
  {
   "cell_type": "code",
   "execution_count": 6,
   "id": "b883bd5b",
   "metadata": {},
   "outputs": [
    {
     "data": {
      "text/plain": [
       "5192"
      ]
     },
     "execution_count": 6,
     "metadata": {},
     "output_type": "execute_result"
    }
   ],
   "source": [
    "len(wsu_all)"
   ]
  },
  {
   "cell_type": "code",
   "execution_count": 7,
   "id": "9a35ee3e",
   "metadata": {},
   "outputs": [],
   "source": [
    "wsu_all['weights_all'] = wsu_all['time_tot']/np.sum(wsu_all['time_tot'])"
   ]
  },
  {
   "cell_type": "code",
   "execution_count": 8,
   "id": "e6b12902",
   "metadata": {},
   "outputs": [
    {
     "data": {
      "text/plain": [
       "<TableColumns names=('mous','proposal_id','gous','schedblock_name','array','science_keyword','scientific_category_proposal','scientific_category','nant_typical','nant_array','nant_all','band','ntarget','s_fov','s_resolution','mosaic','imsize','pb','cell','blc_npol','blc_nspw','blc_specwidth','blc_freq','blc_velres','blc_nchan_agg','blc_nchan_max','blc_bandwidth_max','blc_bandwidth_agg','wsu_freq','wsu_npol','wsu_bandwidth_early','wsu_bandwidth_later_2x','wsu_bandwidth_later_4x','wsu_bandwidth_spw','wsu_nspw_early','wsu_nspw_later_2x','wsu_nspw_later_4x','wsu_specwidth_finest','wsu_chanavg_finest','wsu_velres_finest','wsu_specwidth_stepped','wsu_chanavg_stepped','wsu_velres_stepped','wsu_specwidth_stepped2','wsu_chanavg_stepped2','wsu_velres_stepped2','wsu_tint','wsu_nchan_spw_finest','wsu_nchan_spw_stepped','wsu_nchan_spw_stepped2','wsu_nchan_agg_finest_early','wsu_nchan_agg_finest_later_2x','wsu_nchan_agg_finest_later_4x','wsu_nchan_agg_stepped_early','wsu_nchan_agg_stepped_later_2x','wsu_nchan_agg_stepped_later_4x','wsu_nchan_agg_stepped2_early','wsu_nchan_agg_stepped2_later_2x','wsu_nchan_agg_stepped2_later_4x','wsu_frac_bw_early','wsu_frac_bw_later_2x','wsu_frac_bw_later_4x','wsu_frac_bw_spw','nbase_typical','nbase_array','nbase_all','L80','Project','SB_name','blc_tint','blc_ntunings','bp_time','flux_time','phase_time','pol_time','check_time','target_time_tot','time_tot','cal_time','mfssize','wsu_cubesize_stepped2','wsu_productsize_early_stepped2','wsu_datarate_early_stepped2_typical','wsu_visrate_early_stepped2_typical','wsu_datavol_early_stepped2_typical_target_tot','wsu_datavol_early_stepped2_typical_cal','wsu_datavol_early_stepped2_typical_total','wsu_nvis_early_stepped2_typical_target_tot','wsu_nvis_early_stepped2_typical_cal','wsu_nvis_early_stepped2_typical_total','blc_datarate_typical','blc_visrate_typical','blc_datavol_typical_target_tot','blc_datavol_typical_cal','blc_datavol_typical_total','blc_nvis_typical_target_tot','blc_nvis_typical_cal','blc_nvis_typical_total','wsu_datarate_early_stepped2_array','wsu_visrate_early_stepped2_array','wsu_datavol_early_stepped2_array_target_tot','wsu_datavol_early_stepped2_array_cal','wsu_datavol_early_stepped2_array_total','wsu_nvis_early_stepped2_array_target_tot','wsu_nvis_early_stepped2_array_cal','wsu_nvis_early_stepped2_array_total','blc_datarate_array','blc_visrate_array','blc_datavol_array_target_tot','blc_datavol_array_cal','blc_datavol_array_total','blc_nvis_array_target_tot','blc_nvis_array_cal','blc_nvis_array_total','wsu_productsize_later_2x_stepped2','wsu_datarate_later_2x_stepped2_typical','wsu_visrate_later_2x_stepped2_typical','wsu_datavol_later_2x_stepped2_typical_target_tot','wsu_datavol_later_2x_stepped2_typical_cal','wsu_datavol_later_2x_stepped2_typical_total','wsu_nvis_later_2x_stepped2_typical_target_tot','wsu_nvis_later_2x_stepped2_typical_cal','wsu_nvis_later_2x_stepped2_typical_total','wsu_datarate_later_2x_stepped2_array','wsu_visrate_later_2x_stepped2_array','wsu_datavol_later_2x_stepped2_array_target_tot','wsu_datavol_later_2x_stepped2_array_cal','wsu_datavol_later_2x_stepped2_array_total','wsu_nvis_later_2x_stepped2_array_target_tot','wsu_nvis_later_2x_stepped2_array_cal','wsu_nvis_later_2x_stepped2_array_total','wsu_productsize_later_4x_stepped2','wsu_datarate_later_4x_stepped2_typical','wsu_visrate_later_4x_stepped2_typical','wsu_datavol_later_4x_stepped2_typical_target_tot','wsu_datavol_later_4x_stepped2_typical_cal','wsu_datavol_later_4x_stepped2_typical_total','wsu_nvis_later_4x_stepped2_typical_target_tot','wsu_nvis_later_4x_stepped2_typical_cal','wsu_nvis_later_4x_stepped2_typical_total','wsu_datarate_later_4x_stepped2_array','wsu_visrate_later_4x_stepped2_array','wsu_datavol_later_4x_stepped2_array_target_tot','wsu_datavol_later_4x_stepped2_array_cal','wsu_datavol_later_4x_stepped2_array_total','wsu_nvis_later_4x_stepped2_array_target_tot','wsu_nvis_later_4x_stepped2_array_cal','wsu_nvis_later_4x_stepped2_array_total','blc_cubesize','blc_cubesize_sum','blc_productsize','cycle_info','plversion','procedure','nant','pl_totaltime','pl_imgtime','pl_cubetime','pl_aggtime','pl_fctime','nEB','npt','nscan','reptgt','allowedcubesize','allowedcubelimit','predcubesize','mitigatedcubesize','allowedprodsize','initialprodsize','mitigatedprodsize','mitigated','mit_nbins','mit_hm_imsize','mit_hm_cell','mit_field','mit_spw','pl_caltime','blc_sysperf_typical_allgrid','flops_per_vis_allgrid','wsu_sysperf_early_stepped2_typical_allgrid','wsu_sysperf_later_2x_stepped2_typical_allgrid','wsu_sysperf_later_4x_stepped2_typical_allgrid','blc_sysperf_typical_aprojonly','flops_per_vis_aprojonly','wsu_sysperf_early_stepped2_typical_aprojonly','wsu_sysperf_later_2x_stepped2_typical_aprojonly','wsu_sysperf_later_4x_stepped2_typical_aprojonly','weights_all')>"
      ]
     },
     "execution_count": 8,
     "metadata": {},
     "output_type": "execute_result"
    }
   ],
   "source": [
    "wsu_all.columns"
   ]
  },
  {
   "cell_type": "code",
   "execution_count": 9,
   "id": "813920e2",
   "metadata": {},
   "outputs": [],
   "source": [
    "result_tp = Table.read('data/tp_database_cycle7_cycle8_permous_20240315.ecsv')"
   ]
  },
  {
   "cell_type": "code",
   "execution_count": 10,
   "id": "9525f156",
   "metadata": {},
   "outputs": [
    {
     "data": {
      "text/plain": [
       "<TableColumns names=('mous','proposal_id','gous','schedblock_name','array','science_keyword','scientific_category','band','ntarget','s_fov','s_resolution','mosaic','imsize','pb','cell','blc_npol','blc_nspw','blc_specwidth','blc_freq','blc_velres','blc_nchan_agg','blc_nchan_max','blc_bandwidth_max','blc_bandwidth_agg','wsu_freq','wsu_npol','wsu_bandwidth_early','wsu_bandwidth_later_4x','wsu_bandwidth_spw','wsu_nspw_early','wsu_nspw_later_4x','wsu_specwidth_stepped2','wsu_chanavg_stepped2','wsu_velres_stepped2','wsu_nchan_spw_stepped2','wsu_nchan_agg_stepped2_early','wsu_nchan_agg_stepped2_later_4x','wsu_frac_bw_early','wsu_frac_bw_later_4x','wsu_frac_bw_spw','CYCLE','ESTIMATED_EXECUTION_TIME_PRJ','ESTIMATED_EXECUTION_TIME_PRJ_UNIT','ACASPEC_INTEGRATION_DURATION','EXECOUNT','N_TDUMP')>"
      ]
     },
     "execution_count": 10,
     "metadata": {},
     "output_type": "execute_result"
    }
   ],
   "source": [
    "result_tp.columns"
   ]
  },
  {
   "cell_type": "markdown",
   "id": "151b6e54",
   "metadata": {},
   "source": [
    "## Aggregate information per gous"
   ]
  },
  {
   "cell_type": "code",
   "execution_count": 60,
   "id": "63c3d8ba",
   "metadata": {
    "scrolled": true
   },
   "outputs": [
    {
     "name": "stdout",
     "output_type": "stream",
     "text": [
      "Key aggregation not specified: mous\n",
      "Key aggregation not specified: schedblock_name\n",
      "Key aggregation not specified: array\n",
      "Key aggregation not specified: nant_typical\n",
      "Key aggregation not specified: nant_array\n",
      "Key aggregation not specified: nant_all\n",
      "Key aggregation not specified: blc_npol\n",
      "Key aggregation not specified: blc_nspw\n",
      "Key aggregation not specified: blc_specwidth\n",
      "Key aggregation not specified: blc_freq\n",
      "Key aggregation not specified: blc_velres\n",
      "Key aggregation not specified: blc_nchan_agg\n",
      "Key aggregation not specified: blc_nchan_max\n",
      "Key aggregation not specified: blc_bandwidth_max\n",
      "Key aggregation not specified: blc_bandwidth_agg\n",
      "Key aggregation not specified: wsu_freq\n",
      "Key aggregation not specified: wsu_npol\n",
      "Key aggregation not specified: wsu_bandwidth_early\n",
      "Key aggregation not specified: wsu_bandwidth_later_2x\n",
      "Key aggregation not specified: wsu_bandwidth_later_4x\n",
      "Key aggregation not specified: wsu_nspw_later_2x\n",
      "Key aggregation not specified: wsu_specwidth_finest\n",
      "Key aggregation not specified: wsu_chanavg_finest\n",
      "Key aggregation not specified: wsu_velres_finest\n",
      "Key aggregation not specified: wsu_specwidth_stepped\n",
      "Key aggregation not specified: wsu_chanavg_stepped\n",
      "Key aggregation not specified: wsu_velres_stepped\n",
      "Key aggregation not specified: wsu_tint\n",
      "Key aggregation not specified: wsu_nchan_spw_finest\n",
      "Key aggregation not specified: wsu_nchan_spw_stepped\n",
      "Key aggregation not specified: wsu_nchan_agg_finest_early\n",
      "Key aggregation not specified: wsu_nchan_agg_finest_later_2x\n",
      "Key aggregation not specified: wsu_nchan_agg_finest_later_4x\n",
      "Key aggregation not specified: wsu_nchan_agg_stepped_early\n",
      "Key aggregation not specified: wsu_nchan_agg_stepped_later_2x\n",
      "Key aggregation not specified: wsu_nchan_agg_stepped_later_4x\n",
      "Key aggregation not specified: wsu_nchan_agg_stepped2_later_2x\n",
      "Key aggregation not specified: wsu_frac_bw_early\n",
      "Key aggregation not specified: wsu_frac_bw_later_2x\n",
      "Key aggregation not specified: wsu_frac_bw_later_4x\n",
      "Key aggregation not specified: wsu_frac_bw_spw\n",
      "Key aggregation not specified: nbase_typical\n",
      "Key aggregation not specified: nbase_array\n",
      "Key aggregation not specified: nbase_all\n",
      "Key aggregation not specified: Project\n",
      "Key aggregation not specified: SB_name\n",
      "Key aggregation not specified: blc_tint\n",
      "Key aggregation not specified: blc_ntunings\n",
      "Key aggregation not specified: bp_time\n",
      "Key aggregation not specified: flux_time\n",
      "Key aggregation not specified: phase_time\n",
      "Key aggregation not specified: pol_time\n",
      "Key aggregation not specified: check_time\n",
      "Key aggregation not specified: target_time_tot\n",
      "Key aggregation not specified: time_tot\n",
      "Key aggregation not specified: cal_time\n",
      "Key aggregation not specified: mfssize\n",
      "Key aggregation not specified: wsu_cubesize_stepped2\n",
      "Key aggregation not specified: wsu_datarate_early_stepped2_typical\n",
      "Key aggregation not specified: wsu_visrate_early_stepped2_typical\n",
      "Key aggregation not specified: wsu_nvis_early_stepped2_typical_target_tot\n",
      "Key aggregation not specified: wsu_nvis_early_stepped2_typical_cal\n",
      "Key aggregation not specified: wsu_nvis_early_stepped2_typical_total\n",
      "Key aggregation not specified: blc_datarate_typical\n",
      "Key aggregation not specified: blc_visrate_typical\n",
      "Key aggregation not specified: blc_nvis_typical_target_tot\n",
      "Key aggregation not specified: blc_nvis_typical_cal\n",
      "Key aggregation not specified: blc_nvis_typical_total\n",
      "Key aggregation not specified: wsu_datarate_early_stepped2_array\n",
      "Key aggregation not specified: wsu_visrate_early_stepped2_array\n",
      "Key aggregation not specified: wsu_datavol_early_stepped2_array_target_tot\n",
      "Key aggregation not specified: wsu_datavol_early_stepped2_array_cal\n",
      "Key aggregation not specified: wsu_datavol_early_stepped2_array_total\n",
      "Key aggregation not specified: wsu_nvis_early_stepped2_array_target_tot\n",
      "Key aggregation not specified: wsu_nvis_early_stepped2_array_cal\n",
      "Key aggregation not specified: wsu_nvis_early_stepped2_array_total\n",
      "Key aggregation not specified: blc_datarate_array\n",
      "Key aggregation not specified: blc_visrate_array\n",
      "Key aggregation not specified: blc_datavol_array_target_tot\n",
      "Key aggregation not specified: blc_datavol_array_cal\n",
      "Key aggregation not specified: blc_datavol_array_total\n",
      "Key aggregation not specified: blc_nvis_array_target_tot\n",
      "Key aggregation not specified: blc_nvis_array_cal\n",
      "Key aggregation not specified: blc_nvis_array_total\n",
      "Key aggregation not specified: wsu_productsize_later_2x_stepped2\n",
      "Key aggregation not specified: wsu_datarate_later_2x_stepped2_typical\n",
      "Key aggregation not specified: wsu_visrate_later_2x_stepped2_typical\n",
      "Key aggregation not specified: wsu_datavol_later_2x_stepped2_typical_target_tot\n",
      "Key aggregation not specified: wsu_datavol_later_2x_stepped2_typical_cal\n",
      "Key aggregation not specified: wsu_datavol_later_2x_stepped2_typical_total\n",
      "Key aggregation not specified: wsu_nvis_later_2x_stepped2_typical_target_tot\n",
      "Key aggregation not specified: wsu_nvis_later_2x_stepped2_typical_cal\n",
      "Key aggregation not specified: wsu_nvis_later_2x_stepped2_typical_total\n",
      "Key aggregation not specified: wsu_datarate_later_2x_stepped2_array\n",
      "Key aggregation not specified: wsu_visrate_later_2x_stepped2_array\n",
      "Key aggregation not specified: wsu_datavol_later_2x_stepped2_array_target_tot\n",
      "Key aggregation not specified: wsu_datavol_later_2x_stepped2_array_cal\n",
      "Key aggregation not specified: wsu_datavol_later_2x_stepped2_array_total\n",
      "Key aggregation not specified: wsu_nvis_later_2x_stepped2_array_target_tot\n",
      "Key aggregation not specified: wsu_nvis_later_2x_stepped2_array_cal\n",
      "Key aggregation not specified: wsu_nvis_later_2x_stepped2_array_total\n",
      "Key aggregation not specified: wsu_datarate_later_4x_stepped2_typical\n",
      "Key aggregation not specified: wsu_visrate_later_4x_stepped2_typical\n",
      "Key aggregation not specified: wsu_nvis_later_4x_stepped2_typical_target_tot\n",
      "Key aggregation not specified: wsu_nvis_later_4x_stepped2_typical_cal\n",
      "Key aggregation not specified: wsu_nvis_later_4x_stepped2_typical_total\n",
      "Key aggregation not specified: wsu_datarate_later_4x_stepped2_array\n",
      "Key aggregation not specified: wsu_visrate_later_4x_stepped2_array\n",
      "Key aggregation not specified: wsu_nvis_later_4x_stepped2_array_target_tot\n",
      "Key aggregation not specified: wsu_nvis_later_4x_stepped2_array_cal\n",
      "Key aggregation not specified: wsu_nvis_later_4x_stepped2_array_total\n",
      "Key aggregation not specified: blc_cubesize\n",
      "Key aggregation not specified: blc_cubesize_sum\n",
      "Key aggregation not specified: cycle_info\n",
      "Key aggregation not specified: plversion\n",
      "Key aggregation not specified: procedure\n",
      "Key aggregation not specified: nant\n",
      "Key aggregation not specified: pl_totaltime\n",
      "Key aggregation not specified: pl_imgtime\n",
      "Key aggregation not specified: pl_cubetime\n",
      "Key aggregation not specified: pl_aggtime\n",
      "Key aggregation not specified: pl_fctime\n",
      "Key aggregation not specified: nEB\n",
      "Key aggregation not specified: npt\n",
      "Key aggregation not specified: nscan\n",
      "Key aggregation not specified: reptgt\n",
      "Key aggregation not specified: allowedcubesize\n",
      "Key aggregation not specified: allowedcubelimit\n",
      "Key aggregation not specified: predcubesize\n",
      "Key aggregation not specified: mitigatedcubesize\n",
      "Key aggregation not specified: allowedprodsize\n",
      "Key aggregation not specified: initialprodsize\n",
      "Key aggregation not specified: mitigatedprodsize\n",
      "Key aggregation not specified: mitigated\n",
      "Key aggregation not specified: mit_nbins\n",
      "Key aggregation not specified: mit_hm_imsize\n",
      "Key aggregation not specified: mit_hm_cell\n",
      "Key aggregation not specified: mit_field\n",
      "Key aggregation not specified: mit_spw\n",
      "Key aggregation not specified: pl_caltime\n",
      "Key aggregation not specified: blc_sysperf_typical_allgrid\n",
      "Key aggregation not specified: flops_per_vis_allgrid\n",
      "Key aggregation not specified: wsu_sysperf_early_stepped2_typical_allgrid\n",
      "Key aggregation not specified: wsu_sysperf_later_2x_stepped2_typical_allgrid\n",
      "Key aggregation not specified: wsu_sysperf_later_4x_stepped2_typical_allgrid\n",
      "Key aggregation not specified: blc_sysperf_typical_aprojonly\n",
      "Key aggregation not specified: flops_per_vis_aprojonly\n",
      "Key aggregation not specified: wsu_sysperf_early_stepped2_typical_aprojonly\n",
      "Key aggregation not specified: wsu_sysperf_later_2x_stepped2_typical_aprojonly\n",
      "Key aggregation not specified: wsu_sysperf_later_4x_stepped2_typical_aprojonly\n"
     ]
    }
   ],
   "source": [
    "reload(wsu_db)\n",
    "test = wsu_db.aggregate_gous_stats(wsu_all,result_tp)"
   ]
  },
  {
   "cell_type": "code",
   "execution_count": 66,
   "id": "d5b90e7a",
   "metadata": {},
   "outputs": [
    {
     "data": {
      "text/plain": [
       "(array([4.452e+03, 9.500e+01, 1.700e+01, 0.000e+00, 0.000e+00, 0.000e+00,\n",
       "        0.000e+00, 0.000e+00, 0.000e+00, 0.000e+00, 0.000e+00, 0.000e+00,\n",
       "        0.000e+00, 0.000e+00, 0.000e+00, 0.000e+00, 0.000e+00, 0.000e+00,\n",
       "        0.000e+00, 0.000e+00, 0.000e+00, 0.000e+00, 0.000e+00, 0.000e+00,\n",
       "        0.000e+00, 0.000e+00, 0.000e+00, 0.000e+00, 0.000e+00, 0.000e+00,\n",
       "        0.000e+00, 0.000e+00, 0.000e+00, 0.000e+00, 0.000e+00, 0.000e+00,\n",
       "        0.000e+00, 0.000e+00, 0.000e+00, 0.000e+00, 0.000e+00, 0.000e+00,\n",
       "        0.000e+00, 0.000e+00, 0.000e+00, 0.000e+00, 0.000e+00, 0.000e+00,\n",
       "        0.000e+00, 0.000e+00, 0.000e+00, 0.000e+00, 0.000e+00, 0.000e+00,\n",
       "        0.000e+00, 0.000e+00, 0.000e+00, 0.000e+00, 0.000e+00, 0.000e+00,\n",
       "        0.000e+00, 0.000e+00, 0.000e+00, 0.000e+00, 0.000e+00, 0.000e+00,\n",
       "        0.000e+00, 0.000e+00, 0.000e+00, 0.000e+00, 0.000e+00, 0.000e+00,\n",
       "        0.000e+00, 0.000e+00, 0.000e+00, 0.000e+00, 0.000e+00, 0.000e+00,\n",
       "        0.000e+00, 0.000e+00, 0.000e+00, 0.000e+00, 0.000e+00, 0.000e+00,\n",
       "        0.000e+00, 0.000e+00, 0.000e+00, 0.000e+00, 0.000e+00, 0.000e+00,\n",
       "        0.000e+00, 0.000e+00, 0.000e+00, 0.000e+00, 0.000e+00, 0.000e+00,\n",
       "        0.000e+00, 0.000e+00, 0.000e+00, 1.000e+00]),\n",
       " array([  1.  ,   2.37,   3.74,   5.11,   6.48,   7.85,   9.22,  10.59,\n",
       "         11.96,  13.33,  14.7 ,  16.07,  17.44,  18.81,  20.18,  21.55,\n",
       "         22.92,  24.29,  25.66,  27.03,  28.4 ,  29.77,  31.14,  32.51,\n",
       "         33.88,  35.25,  36.62,  37.99,  39.36,  40.73,  42.1 ,  43.47,\n",
       "         44.84,  46.21,  47.58,  48.95,  50.32,  51.69,  53.06,  54.43,\n",
       "         55.8 ,  57.17,  58.54,  59.91,  61.28,  62.65,  64.02,  65.39,\n",
       "         66.76,  68.13,  69.5 ,  70.87,  72.24,  73.61,  74.98,  76.35,\n",
       "         77.72,  79.09,  80.46,  81.83,  83.2 ,  84.57,  85.94,  87.31,\n",
       "         88.68,  90.05,  91.42,  92.79,  94.16,  95.53,  96.9 ,  98.27,\n",
       "         99.64, 101.01, 102.38, 103.75, 105.12, 106.49, 107.86, 109.23,\n",
       "        110.6 , 111.97, 113.34, 114.71, 116.08, 117.45, 118.82, 120.19,\n",
       "        121.56, 122.93, 124.3 , 125.67, 127.04, 128.41, 129.78, 131.15,\n",
       "        132.52, 133.89, 135.26, 136.63, 138.  ]),\n",
       " <BarContainer object of 100 artists>)"
      ]
     },
     "execution_count": 66,
     "metadata": {},
     "output_type": "execute_result"
    },
    {
     "data": {
      "image/png": "[encoded data removed]",
      "text/plain": [
       "<Figure size 640x480 with 1 Axes>"
      ]
     },
     "metadata": {},
     "output_type": "display_data"
    }
   ],
   "source": [
    "plt.hist(test['n_mous_in_gous'],bins=100)"
   ]
  },
  {
   "cell_type": "code",
   "execution_count": 67,
   "id": "fc30b371",
   "metadata": {
    "scrolled": false
   },
   "outputs": [
    {
     "data": {
      "text/plain": [
       "(array([4.452e+03, 9.500e+01, 1.700e+01, 0.000e+00, 0.000e+00, 0.000e+00,\n",
       "        0.000e+00, 0.000e+00, 0.000e+00, 0.000e+00, 0.000e+00, 0.000e+00,\n",
       "        0.000e+00, 0.000e+00, 0.000e+00, 0.000e+00, 0.000e+00, 0.000e+00,\n",
       "        0.000e+00, 0.000e+00, 0.000e+00, 0.000e+00, 0.000e+00, 0.000e+00,\n",
       "        0.000e+00, 0.000e+00, 0.000e+00, 0.000e+00, 0.000e+00, 0.000e+00,\n",
       "        0.000e+00, 0.000e+00, 0.000e+00, 0.000e+00, 0.000e+00, 0.000e+00,\n",
       "        0.000e+00, 0.000e+00, 0.000e+00, 0.000e+00, 0.000e+00, 0.000e+00,\n",
       "        0.000e+00, 0.000e+00, 0.000e+00, 0.000e+00, 0.000e+00, 0.000e+00,\n",
       "        0.000e+00, 0.000e+00, 0.000e+00, 0.000e+00, 0.000e+00, 0.000e+00,\n",
       "        0.000e+00, 0.000e+00, 0.000e+00, 0.000e+00, 0.000e+00, 0.000e+00,\n",
       "        0.000e+00, 0.000e+00, 0.000e+00, 0.000e+00, 0.000e+00, 0.000e+00,\n",
       "        0.000e+00, 0.000e+00, 0.000e+00, 0.000e+00, 0.000e+00, 0.000e+00,\n",
       "        0.000e+00, 0.000e+00, 0.000e+00, 0.000e+00, 0.000e+00, 0.000e+00,\n",
       "        0.000e+00, 0.000e+00, 0.000e+00, 0.000e+00, 0.000e+00, 0.000e+00,\n",
       "        0.000e+00, 0.000e+00, 0.000e+00, 0.000e+00, 0.000e+00, 0.000e+00,\n",
       "        0.000e+00, 0.000e+00, 0.000e+00, 0.000e+00, 0.000e+00, 0.000e+00,\n",
       "        0.000e+00, 0.000e+00, 0.000e+00, 1.000e+00]),\n",
       " array([  1.  ,   2.37,   3.74,   5.11,   6.48,   7.85,   9.22,  10.59,\n",
       "         11.96,  13.33,  14.7 ,  16.07,  17.44,  18.81,  20.18,  21.55,\n",
       "         22.92,  24.29,  25.66,  27.03,  28.4 ,  29.77,  31.14,  32.51,\n",
       "         33.88,  35.25,  36.62,  37.99,  39.36,  40.73,  42.1 ,  43.47,\n",
       "         44.84,  46.21,  47.58,  48.95,  50.32,  51.69,  53.06,  54.43,\n",
       "         55.8 ,  57.17,  58.54,  59.91,  61.28,  62.65,  64.02,  65.39,\n",
       "         66.76,  68.13,  69.5 ,  70.87,  72.24,  73.61,  74.98,  76.35,\n",
       "         77.72,  79.09,  80.46,  81.83,  83.2 ,  84.57,  85.94,  87.31,\n",
       "         88.68,  90.05,  91.42,  92.79,  94.16,  95.53,  96.9 ,  98.27,\n",
       "         99.64, 101.01, 102.38, 103.75, 105.12, 106.49, 107.86, 109.23,\n",
       "        110.6 , 111.97, 113.34, 114.71, 116.08, 117.45, 118.82, 120.19,\n",
       "        121.56, 122.93, 124.3 , 125.67, 127.04, 128.41, 129.78, 131.15,\n",
       "        132.52, 133.89, 135.26, 136.63, 138.  ]),\n",
       " <BarContainer object of 100 artists>)"
      ]
     },
     "execution_count": 67,
     "metadata": {},
     "output_type": "execute_result"
    },
    {
     "data": {
      "image/png": "[encoded data removed]",
      "text/plain": [
       "<Figure size 640x480 with 1 Axes>"
      ]
     },
     "metadata": {},
     "output_type": "display_data"
    }
   ],
   "source": [
    "plt.hist(test['n_mous_in_gous'],bins=100,log=True)"
   ]
  },
  {
   "cell_type": "code",
   "execution_count": 68,
   "id": "66fbabe4",
   "metadata": {},
   "outputs": [
    {
     "data": {
      "text/plain": [
       "138"
      ]
     },
     "execution_count": 68,
     "metadata": {},
     "output_type": "execute_result"
    }
   ],
   "source": [
    "np.max(test['n_mous_in_gous'])"
   ]
  },
  {
   "cell_type": "code",
   "execution_count": 69,
   "id": "7826bc60",
   "metadata": {},
   "outputs": [
    {
     "data": {
      "text/html": [
       "<i>Row index=3459</i>\n",
       "<table id=\"table140361036124848\">\n",
       "<thead><tr><th>proposal_id</th><th>gous</th><th>ntarget</th><th>n_mous_in_gous</th><th>L80_max</th><th>L80_min</th></tr></thead>\n",
       "<thead><tr><th></th><th></th><th></th><th></th><th>m</th><th>m</th></tr></thead>\n",
       "<thead><tr><th>str14</th><th>str22</th><th>float64</th><th>int64</th><th>float64</th><th>float64</th></tr></thead>\n",
       "<tr><td>2021.1.00172.L</td><td>uid://A001/X1590/X30a9</td><td>97.0</td><td>138</td><td>343.87604</td><td>26.197487</td></tr>\n",
       "</table>"
      ],
      "text/plain": [
       "<Row index=3459>\n",
       " proposal_id            gous          ntarget n_mous_in_gous  L80_max   L80_min \n",
       "                                                                 m         m    \n",
       "    str14              str22          float64     int64       float64   float64 \n",
       "-------------- ---------------------- ------- -------------- --------- ---------\n",
       "2021.1.00172.L uid://A001/X1590/X30a9    97.0            138 343.87604 26.197487"
      ]
     },
     "execution_count": 69,
     "metadata": {},
     "output_type": "execute_result"
    }
   ],
   "source": [
    "idx = np.argmax(test['n_mous_in_gous'])\n",
    "test[idx]['proposal_id','gous','ntarget','n_mous_in_gous','L80_max','L80_min']"
   ]
  },
  {
   "cell_type": "code",
   "execution_count": 70,
   "id": "25a94c71",
   "metadata": {},
   "outputs": [
    {
     "data": {
      "text/plain": [
       "(array([3901.,    0.,    0.,    0.,    0.,    0.,    0.,    0.,    0.,\n",
       "           0.,    0.,    0.,    0.,    0.,    0.,    0.,    0.,    0.,\n",
       "           0.,    0.,    0.,    0.,    0.,    0.,    0.,    0.,    0.,\n",
       "           0.,    0.,    0.,    0.,    0.,    0.,  551.,    0.,    0.,\n",
       "           0.,    0.,    0.,    0.,    0.,    0.,    0.,    0.,    0.,\n",
       "           0.,    0.,    0.,    0.,    0.,    0.,    0.,    0.,    0.,\n",
       "           0.,    0.,    0.,    0.,    0.,    0.,    0.,    0.,    0.,\n",
       "           0.,    0.,    0.,   95.,    0.,    0.,    0.,    0.,    0.,\n",
       "           0.,    0.,    0.,    0.,    0.,    0.,    0.,    0.,    0.,\n",
       "           0.,    0.,    0.,    0.,    0.,    0.,    0.,    0.,    0.,\n",
       "           0.,    0.,    0.,    0.,    0.,    0.,    0.,    0.,    0.,\n",
       "          17.]),\n",
       " array([1.  , 1.03, 1.06, 1.09, 1.12, 1.15, 1.18, 1.21, 1.24, 1.27, 1.3 ,\n",
       "        1.33, 1.36, 1.39, 1.42, 1.45, 1.48, 1.51, 1.54, 1.57, 1.6 , 1.63,\n",
       "        1.66, 1.69, 1.72, 1.75, 1.78, 1.81, 1.84, 1.87, 1.9 , 1.93, 1.96,\n",
       "        1.99, 2.02, 2.05, 2.08, 2.11, 2.14, 2.17, 2.2 , 2.23, 2.26, 2.29,\n",
       "        2.32, 2.35, 2.38, 2.41, 2.44, 2.47, 2.5 , 2.53, 2.56, 2.59, 2.62,\n",
       "        2.65, 2.68, 2.71, 2.74, 2.77, 2.8 , 2.83, 2.86, 2.89, 2.92, 2.95,\n",
       "        2.98, 3.01, 3.04, 3.07, 3.1 , 3.13, 3.16, 3.19, 3.22, 3.25, 3.28,\n",
       "        3.31, 3.34, 3.37, 3.4 , 3.43, 3.46, 3.49, 3.52, 3.55, 3.58, 3.61,\n",
       "        3.64, 3.67, 3.7 , 3.73, 3.76, 3.79, 3.82, 3.85, 3.88, 3.91, 3.94,\n",
       "        3.97, 4.  ]),\n",
       " <BarContainer object of 100 artists>)"
      ]
     },
     "execution_count": 70,
     "metadata": {},
     "output_type": "execute_result"
    },
    {
     "data": {
      "image/png": "[encoded data removed]",
      "text/plain": [
       "<Figure size 640x480 with 1 Axes>"
      ]
     },
     "metadata": {},
     "output_type": "display_data"
    }
   ],
   "source": [
    "idx = test['n_mous_in_gous'] < 20\n",
    "plt.hist(test[idx]['n_mous_in_gous'],bins=100)"
   ]
  },
  {
   "cell_type": "code",
   "execution_count": 71,
   "id": "f7461d22",
   "metadata": {},
   "outputs": [
    {
     "data": {
      "text/plain": [
       "(array([551.,   0.,   0.,   0.,   0.,   0.,   0.,   0.,   0.,   0.,   0.,\n",
       "          0.,   0.,   0.,   0.,   0.,   0.,   0.,   0.,   0.,   0.,   0.,\n",
       "          0.,   0.,   0.,   0.,   0.,   0.,   0.,   0.,   0.,   0.,   0.,\n",
       "          0.,   0.,   0.,   0.,   0.,   0.,   0.,   0.,   0.,   0.,   0.,\n",
       "          0.,   0.,   0.,   0.,   0.,   0.,  95.,   0.,   0.,   0.,   0.,\n",
       "          0.,   0.,   0.,   0.,   0.,   0.,   0.,   0.,   0.,   0.,   0.,\n",
       "          0.,   0.,   0.,   0.,   0.,   0.,   0.,   0.,   0.,   0.,   0.,\n",
       "          0.,   0.,   0.,   0.,   0.,   0.,   0.,   0.,   0.,   0.,   0.,\n",
       "          0.,   0.,   0.,   0.,   0.,   0.,   0.,   0.,   0.,   0.,   0.,\n",
       "         17.]),\n",
       " array([2.  , 2.02, 2.04, 2.06, 2.08, 2.1 , 2.12, 2.14, 2.16, 2.18, 2.2 ,\n",
       "        2.22, 2.24, 2.26, 2.28, 2.3 , 2.32, 2.34, 2.36, 2.38, 2.4 , 2.42,\n",
       "        2.44, 2.46, 2.48, 2.5 , 2.52, 2.54, 2.56, 2.58, 2.6 , 2.62, 2.64,\n",
       "        2.66, 2.68, 2.7 , 2.72, 2.74, 2.76, 2.78, 2.8 , 2.82, 2.84, 2.86,\n",
       "        2.88, 2.9 , 2.92, 2.94, 2.96, 2.98, 3.  , 3.02, 3.04, 3.06, 3.08,\n",
       "        3.1 , 3.12, 3.14, 3.16, 3.18, 3.2 , 3.22, 3.24, 3.26, 3.28, 3.3 ,\n",
       "        3.32, 3.34, 3.36, 3.38, 3.4 , 3.42, 3.44, 3.46, 3.48, 3.5 , 3.52,\n",
       "        3.54, 3.56, 3.58, 3.6 , 3.62, 3.64, 3.66, 3.68, 3.7 , 3.72, 3.74,\n",
       "        3.76, 3.78, 3.8 , 3.82, 3.84, 3.86, 3.88, 3.9 , 3.92, 3.94, 3.96,\n",
       "        3.98, 4.  ]),\n",
       " <BarContainer object of 100 artists>)"
      ]
     },
     "execution_count": 71,
     "metadata": {},
     "output_type": "execute_result"
    },
    {
     "data": {
      "image/png": "[encoded data removed]",
      "text/plain": [
       "<Figure size 640x480 with 1 Axes>"
      ]
     },
     "metadata": {},
     "output_type": "display_data"
    }
   ],
   "source": [
    "idx = (test['n_mous_in_gous'] < 20) & (test['n_mous_in_gous'] > 1)\n",
    "plt.hist(test[idx]['n_mous_in_gous'],bins=100)"
   ]
  },
  {
   "cell_type": "code",
   "execution_count": 72,
   "id": "a8efc3c4",
   "metadata": {},
   "outputs": [
    {
     "data": {
      "text/plain": [
       "(array([240.,   0.,   0.,   0.,   0.,   0.,   0.,   0.,   0.,   0.,   0.,\n",
       "          0.,   0.,   0.,   0.,   0.,   0.,   0.,   0.,   0.,   0.,   0.,\n",
       "          0.,   0.,   0.,   0.,   0.,   0.,   0.,   0.,   0.,   0.,   0.,\n",
       "          0.,   0.,   0.,   0.,   0.,   0.,   0.,   0.,   0.,   0.,   0.,\n",
       "          0.,   0.,   0.,   0.,   0.,   0.,  64.,   0.,   0.,   0.,   0.,\n",
       "          0.,   0.,   0.,   0.,   0.,   0.,   0.,   0.,   0.,   0.,   0.,\n",
       "          0.,   0.,   0.,   0.,   0.,   0.,   0.,   0.,   0.,   0.,   0.,\n",
       "          0.,   0.,   0.,   0.,   0.,   0.,   0.,   0.,   0.,   0.,   0.,\n",
       "          0.,   0.,   0.,   0.,   0.,   0.,   0.,   0.,   0.,   0.,   0.,\n",
       "         17.]),\n",
       " array([2.  , 2.02, 2.04, 2.06, 2.08, 2.1 , 2.12, 2.14, 2.16, 2.18, 2.2 ,\n",
       "        2.22, 2.24, 2.26, 2.28, 2.3 , 2.32, 2.34, 2.36, 2.38, 2.4 , 2.42,\n",
       "        2.44, 2.46, 2.48, 2.5 , 2.52, 2.54, 2.56, 2.58, 2.6 , 2.62, 2.64,\n",
       "        2.66, 2.68, 2.7 , 2.72, 2.74, 2.76, 2.78, 2.8 , 2.82, 2.84, 2.86,\n",
       "        2.88, 2.9 , 2.92, 2.94, 2.96, 2.98, 3.  , 3.02, 3.04, 3.06, 3.08,\n",
       "        3.1 , 3.12, 3.14, 3.16, 3.18, 3.2 , 3.22, 3.24, 3.26, 3.28, 3.3 ,\n",
       "        3.32, 3.34, 3.36, 3.38, 3.4 , 3.42, 3.44, 3.46, 3.48, 3.5 , 3.52,\n",
       "        3.54, 3.56, 3.58, 3.6 , 3.62, 3.64, 3.66, 3.68, 3.7 , 3.72, 3.74,\n",
       "        3.76, 3.78, 3.8 , 3.82, 3.84, 3.86, 3.88, 3.9 , 3.92, 3.94, 3.96,\n",
       "        3.98, 4.  ]),\n",
       " <BarContainer object of 100 artists>)"
      ]
     },
     "execution_count": 72,
     "metadata": {},
     "output_type": "execute_result"
    },
    {
     "data": {
      "image/png": "[encoded data removed]",
      "text/plain": [
       "<Figure size 640x480 with 1 Axes>"
      ]
     },
     "metadata": {},
     "output_type": "display_data"
    }
   ],
   "source": [
    "idx =  (test['n_mous_in_gous_12m'] > 1) & (test['n_mous_in_gous'] < 30)\n",
    "plt.hist(test[idx]['n_mous_in_gous'],bins=100)"
   ]
  },
  {
   "cell_type": "code",
   "execution_count": 73,
   "id": "b56ecf27",
   "metadata": {},
   "outputs": [
    {
     "data": {
      "text/plain": [
       "(array([99.,  0.,  0.,  0.,  0.,  0.,  0.,  0.,  0.,  0.,  0.,  0.,  0.,\n",
       "         0.,  0.,  0.,  0.,  0.,  0.,  0.,  0.,  0.,  0.,  0.,  0.,  0.,\n",
       "         0.,  0.,  0.,  0.,  0.,  0.,  0.,  0.,  0.,  0.,  0.,  0.,  0.,\n",
       "         0.,  0.,  0.,  0.,  0.,  0.,  0.,  0.,  0.,  0.,  0., 94.,  0.,\n",
       "         0.,  0.,  0.,  0.,  0.,  0.,  0.,  0.,  0.,  0.,  0.,  0.,  0.,\n",
       "         0.,  0.,  0.,  0.,  0.,  0.,  0.,  0.,  0.,  0.,  0.,  0.,  0.,\n",
       "         0.,  0.,  0.,  0.,  0.,  0.,  0.,  0.,  0.,  0.,  0.,  0.,  0.,\n",
       "         0.,  0.,  0.,  0.,  0.,  0.,  0.,  0., 17.]),\n",
       " array([2.  , 2.02, 2.04, 2.06, 2.08, 2.1 , 2.12, 2.14, 2.16, 2.18, 2.2 ,\n",
       "        2.22, 2.24, 2.26, 2.28, 2.3 , 2.32, 2.34, 2.36, 2.38, 2.4 , 2.42,\n",
       "        2.44, 2.46, 2.48, 2.5 , 2.52, 2.54, 2.56, 2.58, 2.6 , 2.62, 2.64,\n",
       "        2.66, 2.68, 2.7 , 2.72, 2.74, 2.76, 2.78, 2.8 , 2.82, 2.84, 2.86,\n",
       "        2.88, 2.9 , 2.92, 2.94, 2.96, 2.98, 3.  , 3.02, 3.04, 3.06, 3.08,\n",
       "        3.1 , 3.12, 3.14, 3.16, 3.18, 3.2 , 3.22, 3.24, 3.26, 3.28, 3.3 ,\n",
       "        3.32, 3.34, 3.36, 3.38, 3.4 , 3.42, 3.44, 3.46, 3.48, 3.5 , 3.52,\n",
       "        3.54, 3.56, 3.58, 3.6 , 3.62, 3.64, 3.66, 3.68, 3.7 , 3.72, 3.74,\n",
       "        3.76, 3.78, 3.8 , 3.82, 3.84, 3.86, 3.88, 3.9 , 3.92, 3.94, 3.96,\n",
       "        3.98, 4.  ]),\n",
       " <BarContainer object of 100 artists>)"
      ]
     },
     "execution_count": 73,
     "metadata": {},
     "output_type": "execute_result"
    },
    {
     "data": {
      "image/png": "[encoded data removed]",
      "text/plain": [
       "<Figure size 640x480 with 1 Axes>"
      ]
     },
     "metadata": {},
     "output_type": "display_data"
    }
   ],
   "source": [
    "idx =  (test['n_mous_in_gous_12m'] >= 1) & (test['n_mous_in_gous_7m'] >= 1) &(test['n_mous_in_gous'] < 30)\n",
    "plt.hist(test[idx]['n_mous_in_gous'],bins=100)"
   ]
  },
  {
   "cell_type": "code",
   "execution_count": 74,
   "id": "7e28861a",
   "metadata": {},
   "outputs": [
    {
     "data": {
      "text/plain": [
       "(array([30.,  0.,  0.,  0.,  0.,  0.,  0.,  0.,  0.,  0.,  0.,  0.,  0.,\n",
       "         0.,  0.,  0.,  0.,  0.,  0.,  0.,  0.,  0.,  0.,  0.,  0.,  0.,\n",
       "         0.,  0.,  0.,  0.,  0.,  0.,  0.,  0.,  0.,  0.,  0.,  0.,  0.,\n",
       "         0.,  0.,  0.,  0.,  0.,  0.,  0.,  0.,  0.,  0.,  0.,  0.,  0.,\n",
       "         0.,  0.,  0.,  0.,  0.,  0.,  0.,  0.,  0.,  0.,  0.,  0.,  0.,\n",
       "         0.,  0.,  0.,  0.,  0.,  0.,  0.,  0.,  0.,  0.,  0.,  0.,  0.,\n",
       "         0.,  0.,  0.,  0.,  0.,  0.,  0.,  0.,  0.,  0.,  0.,  0.,  0.,\n",
       "         0.,  0.,  0.,  0.,  0.,  0.,  0.,  0., 17.]),\n",
       " array([3.  , 3.01, 3.02, 3.03, 3.04, 3.05, 3.06, 3.07, 3.08, 3.09, 3.1 ,\n",
       "        3.11, 3.12, 3.13, 3.14, 3.15, 3.16, 3.17, 3.18, 3.19, 3.2 , 3.21,\n",
       "        3.22, 3.23, 3.24, 3.25, 3.26, 3.27, 3.28, 3.29, 3.3 , 3.31, 3.32,\n",
       "        3.33, 3.34, 3.35, 3.36, 3.37, 3.38, 3.39, 3.4 , 3.41, 3.42, 3.43,\n",
       "        3.44, 3.45, 3.46, 3.47, 3.48, 3.49, 3.5 , 3.51, 3.52, 3.53, 3.54,\n",
       "        3.55, 3.56, 3.57, 3.58, 3.59, 3.6 , 3.61, 3.62, 3.63, 3.64, 3.65,\n",
       "        3.66, 3.67, 3.68, 3.69, 3.7 , 3.71, 3.72, 3.73, 3.74, 3.75, 3.76,\n",
       "        3.77, 3.78, 3.79, 3.8 , 3.81, 3.82, 3.83, 3.84, 3.85, 3.86, 3.87,\n",
       "        3.88, 3.89, 3.9 , 3.91, 3.92, 3.93, 3.94, 3.95, 3.96, 3.97, 3.98,\n",
       "        3.99, 4.  ]),\n",
       " <BarContainer object of 100 artists>)"
      ]
     },
     "execution_count": 74,
     "metadata": {},
     "output_type": "execute_result"
    },
    {
     "data": {
      "image/png": "[encoded data removed]",
      "text/plain": [
       "<Figure size 640x480 with 1 Axes>"
      ]
     },
     "metadata": {},
     "output_type": "display_data"
    }
   ],
   "source": [
    "idx =  (test['n_mous_in_gous_12m'] >= 1) & (test['n_mous_in_gous_7m'] >= 1) &  (test['n_mous_in_gous_tp'] >= 1) &(test['n_mous_in_gous'] < 30)\n",
    "plt.hist(test[idx]['n_mous_in_gous'],bins=100)"
   ]
  },
  {
   "cell_type": "code",
   "execution_count": 75,
   "id": "2a27663b",
   "metadata": {},
   "outputs": [
    {
     "data": {
      "text/html": [
       "<div><i>QTable length=4565</i>\n",
       "<table id=\"table140361564643392\" class=\"table-striped table-bordered table-condensed\">\n",
       "<thead><tr><th>proposal_id</th><th>gous</th><th>ntarget</th></tr></thead>\n",
       "<thead><tr><th>str14</th><th>str22</th><th>float64</th></tr></thead>\n",
       "<tr><td>2019.1.01326.S</td><td>uid://A001/X1465/X1001</td><td>1.0</td></tr>\n",
       "<tr><td>2019.1.01326.S</td><td>uid://A001/X1465/X1007</td><td>1.0</td></tr>\n",
       "<tr><td>2019.1.01326.S</td><td>uid://A001/X1465/X100d</td><td>1.0</td></tr>\n",
       "<tr><td>2019.1.01326.S</td><td>uid://A001/X1465/X1013</td><td>1.0</td></tr>\n",
       "<tr><td>2019.1.01326.S</td><td>uid://A001/X1465/X1019</td><td>1.0</td></tr>\n",
       "<tr><td>2019.1.01326.S</td><td>uid://A001/X1465/X101f</td><td>1.0</td></tr>\n",
       "<tr><td>2019.1.01326.S</td><td>uid://A001/X1465/X1025</td><td>1.0</td></tr>\n",
       "<tr><td>2019.1.01326.S</td><td>uid://A001/X1465/X102b</td><td>1.0</td></tr>\n",
       "<tr><td>...</td><td>...</td><td>...</td></tr>\n",
       "<tr><td>2021.1.01209.S</td><td>uid://A001/X2dfa/X196</td><td>1.0</td></tr>\n",
       "<tr><td>2021.1.00657.T</td><td>uid://A001/X2dfa/X1a5</td><td>1.0</td></tr>\n",
       "<tr><td>2021.A.00026.S</td><td>uid://A001/X2dfa/X30</td><td>1.0</td></tr>\n",
       "<tr><td>2021.A.00026.S</td><td>uid://A001/X2dfa/X34</td><td>1.0</td></tr>\n",
       "<tr><td>2021.A.00030.S</td><td>uid://A001/X2dfa/X3a</td><td>1.0</td></tr>\n",
       "<tr><td>2021.A.00031.S</td><td>uid://A001/X2dfa/X7c</td><td>1.0</td></tr>\n",
       "<tr><td>2021.A.00031.S</td><td>uid://A001/X2dfa/X80</td><td>1.0</td></tr>\n",
       "<tr><td>2021.A.00031.S</td><td>uid://A001/X2dfa/X84</td><td>1.0</td></tr>\n",
       "<tr><td>2021.1.01209.S</td><td>uid://A001/X2dfa/X8a</td><td>1.0</td></tr>\n",
       "</table></div>"
      ],
      "text/plain": [
       "<QTable length=4565>\n",
       " proposal_id            gous          ntarget\n",
       "    str14              str22          float64\n",
       "-------------- ---------------------- -------\n",
       "2019.1.01326.S uid://A001/X1465/X1001     1.0\n",
       "2019.1.01326.S uid://A001/X1465/X1007     1.0\n",
       "2019.1.01326.S uid://A001/X1465/X100d     1.0\n",
       "2019.1.01326.S uid://A001/X1465/X1013     1.0\n",
       "2019.1.01326.S uid://A001/X1465/X1019     1.0\n",
       "2019.1.01326.S uid://A001/X1465/X101f     1.0\n",
       "2019.1.01326.S uid://A001/X1465/X1025     1.0\n",
       "2019.1.01326.S uid://A001/X1465/X102b     1.0\n",
       "           ...                    ...     ...\n",
       "2021.1.01209.S  uid://A001/X2dfa/X196     1.0\n",
       "2021.1.00657.T  uid://A001/X2dfa/X1a5     1.0\n",
       "2021.A.00026.S   uid://A001/X2dfa/X30     1.0\n",
       "2021.A.00026.S   uid://A001/X2dfa/X34     1.0\n",
       "2021.A.00030.S   uid://A001/X2dfa/X3a     1.0\n",
       "2021.A.00031.S   uid://A001/X2dfa/X7c     1.0\n",
       "2021.A.00031.S   uid://A001/X2dfa/X80     1.0\n",
       "2021.A.00031.S   uid://A001/X2dfa/X84     1.0\n",
       "2021.1.01209.S   uid://A001/X2dfa/X8a     1.0"
      ]
     },
     "execution_count": 75,
     "metadata": {},
     "output_type": "execute_result"
    }
   ],
   "source": [
    "test['proposal_id','gous','ntarget']"
   ]
  },
  {
   "cell_type": "code",
   "execution_count": 76,
   "id": "7837565f",
   "metadata": {},
   "outputs": [
    {
     "data": {
      "text/plain": [
       "664"
      ]
     },
     "execution_count": 76,
     "metadata": {},
     "output_type": "execute_result"
    }
   ],
   "source": [
    "len(test[test['n_mous_in_gous'] > 1])"
   ]
  },
  {
   "cell_type": "code",
   "execution_count": 77,
   "id": "cdee23c8",
   "metadata": {},
   "outputs": [
    {
     "data": {
      "text/plain": [
       "4565"
      ]
     },
     "execution_count": 77,
     "metadata": {},
     "output_type": "execute_result"
    }
   ],
   "source": [
    "len(test)"
   ]
  },
  {
   "cell_type": "code",
   "execution_count": 78,
   "id": "b1eeeef3",
   "metadata": {},
   "outputs": [
    {
     "data": {
      "text/plain": [
       "0.14545454545454545"
      ]
     },
     "execution_count": 78,
     "metadata": {},
     "output_type": "execute_result"
    }
   ],
   "source": [
    "664/4565"
   ]
  },
  {
   "cell_type": "code",
   "execution_count": 79,
   "id": "884b08b2",
   "metadata": {},
   "outputs": [],
   "source": [
    "n_mous_tot = np.sum(test['n_mous_in_gous'])\n",
    "more_than_one_mous_per_gous = np.sum(test[test['n_mous_in_gous']>1]['n_mous_in_gous'])"
   ]
  },
  {
   "cell_type": "code",
   "execution_count": 80,
   "id": "86310b7e",
   "metadata": {},
   "outputs": [
    {
     "name": "stdout",
     "output_type": "stream",
     "text": [
      "5494\n"
     ]
    }
   ],
   "source": [
    "print(n_mous_tot)"
   ]
  },
  {
   "cell_type": "code",
   "execution_count": 81,
   "id": "db5c5cdb",
   "metadata": {},
   "outputs": [
    {
     "name": "stdout",
     "output_type": "stream",
     "text": [
      "1593\n"
     ]
    }
   ],
   "source": [
    "print(more_than_one_mous_per_gous)"
   ]
  },
  {
   "cell_type": "code",
   "execution_count": 82,
   "id": "f5f9ed19",
   "metadata": {},
   "outputs": [
    {
     "data": {
      "text/plain": [
       "0.28995267564615945"
      ]
     },
     "execution_count": 82,
     "metadata": {},
     "output_type": "execute_result"
    }
   ],
   "source": [
    "1593/5494"
   ]
  },
  {
   "cell_type": "code",
   "execution_count": 86,
   "id": "e5227a29",
   "metadata": {},
   "outputs": [
    {
     "data": {
      "text/latex": [
       "$5.8632745 \\; \\mathrm{Pbyte}$"
      ],
      "text/plain": [
       "<Quantity 5.86327451 Pbyte>"
      ]
     },
     "execution_count": 86,
     "metadata": {},
     "output_type": "execute_result"
    }
   ],
   "source": [
    "np.sum(test['wsu_productsize_early_stepped2_mous_only']).to('PB')/2.0"
   ]
  },
  {
   "cell_type": "code",
   "execution_count": 87,
   "id": "e96c6a58",
   "metadata": {},
   "outputs": [
    {
     "data": {
      "text/latex": [
       "$5.5575765 \\; \\mathrm{Pbyte}$"
      ],
      "text/plain": [
       "<Quantity 5.55757646 Pbyte>"
      ]
     },
     "execution_count": 87,
     "metadata": {},
     "output_type": "execute_result"
    }
   ],
   "source": [
    "np.sum(test['wsu_productsize_early_stepped2_gous_only']).to('PB')/2.0"
   ]
  },
  {
   "cell_type": "code",
   "execution_count": 89,
   "id": "cab02ff8",
   "metadata": {},
   "outputs": [
    {
     "data": {
      "text/latex": [
       "$8.0053879 \\; \\mathrm{Pbyte}$"
      ],
      "text/plain": [
       "<Quantity 8.00538792 Pbyte>"
      ]
     },
     "execution_count": 89,
     "metadata": {},
     "output_type": "execute_result"
    }
   ],
   "source": [
    "np.sum(test['wsu_productsize_early_stepped2_mous_gous']).to('PB')/2.0"
   ]
  },
  {
   "cell_type": "code",
   "execution_count": 90,
   "id": "eaa3730c",
   "metadata": {},
   "outputs": [
    {
     "data": {
      "text/latex": [
       "$12.668418 \\; \\mathrm{Pbyte}$"
      ],
      "text/plain": [
       "<Quantity 12.66841771 Pbyte>"
      ]
     },
     "execution_count": 90,
     "metadata": {},
     "output_type": "execute_result"
    }
   ],
   "source": [
    "np.sum(test['wsu_productsize_later_4x_stepped2_mous_only']).to('PB')/2.0"
   ]
  },
  {
   "cell_type": "code",
   "execution_count": 91,
   "id": "5d71fd15",
   "metadata": {},
   "outputs": [
    {
     "data": {
      "text/latex": [
       "$12.044708 \\; \\mathrm{Pbyte}$"
      ],
      "text/plain": [
       "<Quantity 12.04470815 Pbyte>"
      ]
     },
     "execution_count": 91,
     "metadata": {},
     "output_type": "execute_result"
    }
   ],
   "source": [
    "np.sum(test['wsu_productsize_later_4x_stepped2_gous_only']).to('PB')/2.0"
   ]
  },
  {
   "cell_type": "code",
   "execution_count": 92,
   "id": "2395b300",
   "metadata": {},
   "outputs": [
    {
     "data": {
      "text/latex": [
       "$17.284924 \\; \\mathrm{Pbyte}$"
      ],
      "text/plain": [
       "<Quantity 17.28492447 Pbyte>"
      ]
     },
     "execution_count": 92,
     "metadata": {},
     "output_type": "execute_result"
    }
   ],
   "source": [
    "np.sum(test['wsu_productsize_later_4x_stepped2_mous_gous']).to('PB')/2.0"
   ]
  },
  {
   "cell_type": "code",
   "execution_count": 99,
   "id": "09759dba",
   "metadata": {},
   "outputs": [
    {
     "data": {
      "text/plain": [
       "Text(0, 0.5, 'n_mous_in_gous')"
      ]
     },
     "execution_count": 99,
     "metadata": {},
     "output_type": "execute_result"
    },
    {
     "data": {
      "image/png": "[encoded data removed]",
      "text/plain": [
       "<Figure size 640x480 with 1 Axes>"
      ]
     },
     "metadata": {},
     "output_type": "display_data"
    }
   ],
   "source": [
    "plt.scatter(test['L80_max'], test['n_mous_in_gous'])\n",
    "#plt.ylim(0,15)\n",
    "plt.xlabel('L80_max')\n",
    "plt.ylabel('n_mous_in_gous')"
   ]
  },
  {
   "cell_type": "code",
   "execution_count": 101,
   "id": "e036254d",
   "metadata": {},
   "outputs": [
    {
     "data": {
      "text/plain": [
       "Text(0, 0.5, 'n_mous_in_gous')"
      ]
     },
     "execution_count": 101,
     "metadata": {},
     "output_type": "execute_result"
    },
    {
     "data": {
      "image/png": "[encoded data removed]",
      "text/plain": [
       "<Figure size 640x480 with 1 Axes>"
      ]
     },
     "metadata": {},
     "output_type": "display_data"
    }
   ],
   "source": [
    "plt.scatter(test['L80_max'], test['n_mous_in_gous'])\n",
    "plt.ylim(0,6)\n",
    "plt.xlabel('L80_max')\n",
    "plt.ylabel('n_mous_in_gous')"
   ]
  },
  {
   "cell_type": "code",
   "execution_count": null,
   "id": "f2697afd",
   "metadata": {},
   "outputs": [],
   "source": []
  }
 ],
 "metadata": {
  "kernelspec": {
   "display_name": "Python 3 (ipykernel)",
   "language": "python",
   "name": "python3"
  },
  "language_info": {
   "codemirror_mode": {
    "name": "ipython",
    "version": 3
   },
   "file_extension": ".py",
   "mimetype": "text/x-python",
   "name": "python",
   "nbconvert_exporter": "python",
   "pygments_lexer": "ipython3",
   "version": "3.8.18"
  }
 },
 "nbformat": 4,
 "nbformat_minor": 5
}
