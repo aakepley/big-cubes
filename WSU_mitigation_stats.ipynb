{
 "cells": [
  {
   "cell_type": "markdown",
   "id": "16ba80b8",
   "metadata": {},
   "source": [
    "# WSU Mitigation Statistics"
   ]
  },
  {
   "cell_type": "markdown",
   "id": "125f1e21",
   "metadata": {},
   "source": [
    "The goal of this notebook is to calculate some statistics on mitigated data, specifically:\n",
    "* Number of MOUSes with mitigated cubes (only)\n",
    "* Number of MOUSes with mitigated productsize (only)\n",
    "* Number of MOUSes that after mitigation would fail cubesize \n",
    "* Number of MOUSes that after mitigation would fail productsize (one cube > productsize)\n",
    "\n",
    "\n"
   ]
  },
  {
   "cell_type": "code",
   "execution_count": 75,
   "id": "c512269b",
   "metadata": {},
   "outputs": [],
   "source": [
    "import numpy as np\n",
    "import matplotlib.pyplot as plt\n",
    "import astropy.units as u\n",
    "from astropy.table import QTable, vstack\n",
    "from importlib import reload\n",
    "import re\n",
    "import large_cubes"
   ]
  },
  {
   "cell_type": "code",
   "execution_count": 76,
   "id": "4ea39065",
   "metadata": {},
   "outputs": [],
   "source": [
    "result_c7_mous = QTable.read('data/wsu_datarates_mit_per_mous_cycle7_20230126.ecsv')\n",
    "result_c8_mous = QTable.read('data/wsu_datarates_mit_per_mous_cycle8_20230126.ecsv')"
   ]
  },
  {
   "cell_type": "code",
   "execution_count": 8,
   "id": "ee023ba4",
   "metadata": {},
   "outputs": [
    {
     "data": {
      "text/plain": [
       "<TableColumns names=('mous','proposal_id','schedblock_name','array','nant_typical','nant_array','nant_all','band','ntarget','s_fov','s_resolution','mosaic','imsize','pb','cell','blc_npol','blc_nspw','blc_specwidth','blc_freq','blc_velres','blc_nchan_agg','blc_nchan_max','blc_bandwidth_max','blc_bandwidth_agg','wsu_freq','wsu_npol','wsu_bandwidth_early','wsu_bandwidth_later_2x','wsu_bandwidth_later_4x','wsu_bandwidth_spw','wsu_nspw_early','wsu_nspw_later_2x','wsu_nspw_later_4x','wsu_specwidth_finest','wsu_chanavg_finest','wsu_velres_finest','wsu_specwidth_stepped','wsu_chanavg_stepped','wsu_velres_stepped','wsu_specwidth_stepped2','wsu_chanavg_stepped2','wsu_velres_stepped2','wsu_tint','wsu_nchan_spw_finest','wsu_nchan_spw_stepped','wsu_nchan_spw_stepped2','wsu_frac_bw_early','wsu_frac_bw_later_2x','wsu_frac_bw_later_4x','wsu_frac_bw_spw','nbase_typical','nbase_array','nbase_all','L80','blc_tint','blc_ntunings','bp_time','flux_time','phase_time','pol_time','check_time','target_time_tot','time_tot','cal_time','mfssize','wsu_cubesize_stepped2','wsu_productsize_early_stepped2','wsu_datarate_early_stepped2_typical','wsu_visrate_early_stepped2_typical','wsu_datavol_early_stepped2_typical_target_tot','wsu_datavol_early_stepped2_typical_cal','wsu_datavol_early_stepped2_typical_total','wsu_nvis_early_stepped2_typical_target_tot','wsu_nvis_early_stepped2_typical_cal','wsu_nvis_early_stepped2_typical_total','wsu_productsize_later_2x_stepped2','wsu_datarate_later_2x_stepped2_typical','wsu_visrate_later_2x_stepped2_typical','wsu_datavol_later_2x_stepped2_typical_target_tot','wsu_datavol_later_2x_stepped2_typical_cal','wsu_datavol_later_2x_stepped2_typical_total','wsu_nvis_later_2x_stepped2_typical_target_tot','wsu_nvis_later_2x_stepped2_typical_cal','wsu_nvis_later_2x_stepped2_typical_total','wsu_productsize_later_4x_stepped2','wsu_datarate_later_4x_stepped2_typical','wsu_visrate_later_4x_stepped2_typical','wsu_datavol_later_4x_stepped2_typical_target_tot','wsu_datavol_later_4x_stepped2_typical_cal','wsu_datavol_later_4x_stepped2_typical_total','wsu_nvis_later_4x_stepped2_typical_target_tot','wsu_nvis_later_4x_stepped2_typical_cal','wsu_nvis_later_4x_stepped2_typical_total','blc_cubesize','blc_cubesize_sum','blc_productsize','blc_datarate_typical','blc_visrate_typical','blc_datavol_typical_target_tot','blc_datavol_typical_cal','blc_datavol_typical_total','blc_nvis_typical_target_tot','blc_nvis_typical_cal','blc_nvis_typical_total','imsize_mit','wsu_cubesize_stepped2_mit','wsu_cubesize_stepped2_mit_fail','wsu_mfssize_mit','wsu_productsize_early_stepped2_mit','plversion','procedure','nant','pl_totaltime','pl_imgtime','pl_cubetime','pl_aggtime','pl_fctime','nEB','npt','nscan','reptgt','allowedcubesize','allowedcubelimit','predcubesize','mitigatedcubesize','allowedprodsize','initialprodsize','mitigatedprodsize','mitigated','mit_nbins','mit_hm_imsize','mit_hm_cell','mit_field','mit_spw','pl_caltime')>"
      ]
     },
     "execution_count": 8,
     "metadata": {},
     "output_type": "execute_result"
    }
   ],
   "source": [
    "result_c7_mous.columns"
   ]
  },
  {
   "cell_type": "markdown",
   "id": "3f4fd4cf",
   "metadata": {},
   "source": [
    "## Figure out how to calculate stats"
   ]
  },
  {
   "cell_type": "code",
   "execution_count": 14,
   "id": "e4c96999",
   "metadata": {},
   "outputs": [
    {
     "data": {
      "text/plain": [
       "114"
      ]
     },
     "execution_count": 14,
     "metadata": {},
     "output_type": "execute_result"
    }
   ],
   "source": [
    "# Number of MOUSes with cubes bigger than the mitigated limit\n",
    "np.sum((result_c7_mous['wsu_cubesize_stepped2_mit'] > 60 * u.GB))"
   ]
  },
  {
   "cell_type": "code",
   "execution_count": 13,
   "id": "ca4e01ac",
   "metadata": {},
   "outputs": [
    {
     "data": {
      "text/plain": [
       "101"
      ]
     },
     "execution_count": 13,
     "metadata": {},
     "output_type": "execute_result"
    }
   ],
   "source": [
    "np.sum((result_c7_mous['wsu_cubesize_stepped2_mit'] > 60 * u.GB)  &\n",
    "       (result_c7_mous['wsu_cubesize_stepped2_mit'] < 500 * u.GB) )"
   ]
  },
  {
   "cell_type": "code",
   "execution_count": 18,
   "id": "aaf7422d",
   "metadata": {},
   "outputs": [
    {
     "data": {
      "text/plain": [
       "13"
      ]
     },
     "execution_count": 18,
     "metadata": {},
     "output_type": "execute_result"
    }
   ],
   "source": [
    "# Number of MOUSes that have a cube bigger than the productsize limit\n",
    "np.sum(result_c7_mous['wsu_cubesize_stepped2_mit'] > 500 * u.GB)"
   ]
  },
  {
   "cell_type": "code",
   "execution_count": 23,
   "id": "8cb4fb63",
   "metadata": {},
   "outputs": [
    {
     "data": {
      "text/plain": [
       "199"
      ]
     },
     "execution_count": 23,
     "metadata": {},
     "output_type": "execute_result"
    }
   ],
   "source": [
    "# Number of MOUSes that have productsize bigger than productsize limit \n",
    "## where sources and spws start being thrown out\n",
    "np.sum((result_c7_mous['wsu_productsize_early_stepped2_mit'] > 500 * u.GB) & \n",
    "       (result_c7_mous['wsu_cubesize_stepped2_mit'] < 60 * u.GB))"
   ]
  },
  {
   "cell_type": "code",
   "execution_count": 24,
   "id": "112e116b",
   "metadata": {},
   "outputs": [
    {
     "data": {
      "text/plain": [
       "2719"
      ]
     },
     "execution_count": 24,
     "metadata": {},
     "output_type": "execute_result"
    }
   ],
   "source": [
    "len(result_c7_mous)"
   ]
  },
  {
   "cell_type": "code",
   "execution_count": 28,
   "id": "34457137",
   "metadata": {},
   "outputs": [
    {
     "data": {
      "text/plain": [
       "199"
      ]
     },
     "execution_count": 28,
     "metadata": {},
     "output_type": "execute_result"
    }
   ],
   "source": [
    "# Number of MOUSes that have productsize bigger than productsize limit and cubesize bigger than cubesize limit\n",
    "## where sources and spws start being thrown out\n",
    "np.sum((result_c7_mous['wsu_productsize_early_stepped2_mit'] > 500 * u.GB) & \n",
    "       (result_c7_mous['wsu_cubesize_stepped2_mit'] < 60 * u.GB))"
   ]
  },
  {
   "cell_type": "code",
   "execution_count": 26,
   "id": "df2a2931",
   "metadata": {},
   "outputs": [
    {
     "data": {
      "text/plain": [
       "82"
      ]
     },
     "execution_count": 26,
     "metadata": {},
     "output_type": "execute_result"
    }
   ],
   "source": [
    "np.sum((result_c8_mous['wsu_cubesize_stepped2_mit'] > 60 * u.GB))"
   ]
  },
  {
   "cell_type": "code",
   "execution_count": 27,
   "id": "1bedaf7e",
   "metadata": {
    "scrolled": true
   },
   "outputs": [
    {
     "data": {
      "text/plain": [
       "79"
      ]
     },
     "execution_count": 27,
     "metadata": {},
     "output_type": "execute_result"
    }
   ],
   "source": [
    "np.sum((result_c8_mous['wsu_cubesize_stepped2_mit'] > 60 * u.GB)  &\n",
    "       (result_c8_mous['wsu_cubesize_stepped2_mit'] < 500 * u.GB) )"
   ]
  },
  {
   "cell_type": "markdown",
   "id": "d7e6d237",
   "metadata": {},
   "source": [
    "## Calculating some results automatically"
   ]
  },
  {
   "cell_type": "code",
   "execution_count": 80,
   "id": "4a79d592",
   "metadata": {},
   "outputs": [
    {
     "data": {
      "text/plain": [
       "<module 'large_cubes' from '/Users/akepley/Dropbox/Support/naasc/WSU/big_cubes/large_cubes.py'>"
      ]
     },
     "execution_count": 80,
     "metadata": {},
     "output_type": "execute_result"
    }
   ],
   "source": [
    "reload(large_cubes)"
   ]
  },
  {
   "cell_type": "code",
   "execution_count": 81,
   "id": "5bcd41da",
   "metadata": {},
   "outputs": [
    {
     "name": "stdout",
     "output_type": "stream",
     "text": [
      "maxcubesize: 40.0 Gbyte\n",
      "maxcubelimit: 60.0 Gbyte\n",
      "maxproductsize: 500.0 Gbyte\n",
      "\n",
      "\n",
      "For all stages:\n",
      "Percent of MOUSes that will fail on cubesize, assuming mitigation:  4.19\n",
      "Percent of MOUSes that will fail on cubesize, assuming no mitigation: 13.20\n",
      "Percent of MOUSes with single cube size greater than productsize, assuming mitigation:  0.48\n",
      "Percent of MOUSes with single cube size greater than productsize, assuming no mitigation:  4.82\n",
      "\n",
      "\n",
      "early + mitigation:\n",
      "Percent of MOUSes that will fail productsize (only) assuming mitigation:  3.09\n",
      "Percent of MOUSes that will fail cubesize (only) assuming mitigation:  0.00\n",
      "Percent of MOUSes that will fail on cube and productsize assuming mitigation:  4.19\n",
      "Total Percentage of MOUSes failing mitigation:  7.28\n",
      "\n",
      "\n",
      "early:\n",
      "Percent of MOUSes that will fail productsize (only) assuming NO mitigation:  6.14\n",
      "Percent of MOUSes that will fail cubesize (only) assuming NO mitigation:  0.51\n",
      "Percent of MOUSes that will fail on cube and productsize assuming NO mitigation: 14.78\n",
      "Total Percentage of MOUSes failing mitigation: 21.44\n",
      "\n",
      "\n",
      "later_2x:\n",
      "Percent of MOUSes that will fail productsize (only) assuming NO mitigation:  8.28\n",
      "Percent of MOUSes that will fail cubesize (only) assuming NO mitigation:  0.00\n",
      "Percent of MOUSes that will fail on cube and productsize assuming NO mitigation: 15.30\n",
      "Total Percentage of MOUSes failing mitigation: 23.57\n",
      "\n",
      "\n",
      "later_4x:\n",
      "Percent of MOUSes that will fail productsize (only) assuming NO mitigation: 12.69\n",
      "Percent of MOUSes that will fail cubesize (only) assuming NO mitigation:  0.00\n",
      "Percent of MOUSes that will fail on cube and productsize assuming NO mitigation: 15.30\n",
      "Total Percentage of MOUSes failing mitigation: 27.99\n"
     ]
    }
   ],
   "source": [
    "large_cubes.make_mitigation_stats_table(result_c7_mous)"
   ]
  },
  {
   "cell_type": "code",
   "execution_count": 82,
   "id": "2cc39af0",
   "metadata": {},
   "outputs": [
    {
     "name": "stdout",
     "output_type": "stream",
     "text": [
      "maxcubesize: 40.0 Gbyte\n",
      "maxcubelimit: 60.0 Gbyte\n",
      "maxproductsize: 500.0 Gbyte\n",
      "\n",
      "\n",
      "For all stages:\n",
      "Percent of MOUSes that will fail on cubesize, assuming mitigation:  3.31\n",
      "Percent of MOUSes that will fail on cubesize, assuming no mitigation:  8.63\n",
      "Percent of MOUSes with single cube size greater than productsize, assuming mitigation:  0.12\n",
      "Percent of MOUSes with single cube size greater than productsize, assuming no mitigation:  2.86\n",
      "\n",
      "\n",
      "early + mitigation:\n",
      "Percent of MOUSes that will fail productsize (only) assuming mitigation:  3.51\n",
      "Percent of MOUSes that will fail cubesize (only) assuming mitigation:  0.00\n",
      "Percent of MOUSes that will fail on cube and productsize assuming mitigation:  3.31\n",
      "Total Percentage of MOUSes failing mitigation:  6.81\n",
      "\n",
      "\n",
      "early:\n",
      "Percent of MOUSes that will fail productsize (only) assuming NO mitigation:  7.62\n",
      "Percent of MOUSes that will fail cubesize (only) assuming NO mitigation:  0.81\n",
      "Percent of MOUSes that will fail on cube and productsize assuming NO mitigation:  9.96\n",
      "Total Percentage of MOUSes failing mitigation: 18.38\n",
      "\n",
      "\n",
      "later_2x:\n",
      "Percent of MOUSes that will fail productsize (only) assuming NO mitigation: 10.68\n",
      "Percent of MOUSes that will fail cubesize (only) assuming NO mitigation:  0.00\n",
      "Percent of MOUSes that will fail on cube and productsize assuming NO mitigation: 10.76\n",
      "Total Percentage of MOUSes failing mitigation: 21.44\n",
      "\n",
      "\n",
      "later_4x:\n",
      "Percent of MOUSes that will fail productsize (only) assuming NO mitigation: 20.64\n",
      "Percent of MOUSes that will fail cubesize (only) assuming NO mitigation:  0.00\n",
      "Percent of MOUSes that will fail on cube and productsize assuming NO mitigation: 10.76\n",
      "Total Percentage of MOUSes failing mitigation: 31.40\n"
     ]
    }
   ],
   "source": [
    "large_cubes.make_mitigation_stats_table(result_c8_mous)"
   ]
  },
  {
   "cell_type": "code",
   "execution_count": 36,
   "id": "e61baf5b",
   "metadata": {},
   "outputs": [],
   "source": []
  },
  {
   "cell_type": "code",
   "execution_count": null,
   "id": "8b7fbeff",
   "metadata": {},
   "outputs": [],
   "source": [
    "test."
   ]
  }
 ],
 "metadata": {
  "kernelspec": {
   "display_name": "Python 3 (ipykernel)",
   "language": "python",
   "name": "python3"
  },
  "language_info": {
   "codemirror_mode": {
    "name": "ipython",
    "version": 3
   },
   "file_extension": ".py",
   "mimetype": "text/x-python",
   "name": "python",
   "nbconvert_exporter": "python",
   "pygments_lexer": "ipython3",
   "version": "3.8.8"
  }
 },
 "nbformat": 4,
 "nbformat_minor": 5
}
