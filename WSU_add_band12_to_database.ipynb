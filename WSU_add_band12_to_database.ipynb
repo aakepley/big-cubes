{
 "cells": [
  {
   "cell_type": "markdown",
   "id": "9e395e71",
   "metadata": {},
   "source": [
    "# Add Bands 1 and 2 to database"
   ]
  },
  {
   "cell_type": "markdown",
   "id": "59cf7fb5",
   "metadata": {},
   "source": [
    "The goal of this notebook is to add estimates of bands 1 and 2 to the database. I want to keep the original database code intact, so doing this in a separate notebook."
   ]
  },
  {
   "cell_type": "code",
   "execution_count": 2,
   "id": "d952cf58",
   "metadata": {},
   "outputs": [],
   "source": [
    "import numpy as np\n",
    "import matplotlib.pyplot as plt\n",
    "from astropy.table import Table, QTable, vstack\n",
    "import astropy.units as u\n",
    "from importlib import reload\n",
    "import wsu_plots\n",
    "import wsu_db\n",
    "import large_cubes"
   ]
  },
  {
   "cell_type": "markdown",
   "id": "aa48ee13",
   "metadata": {},
   "source": [
    "## reading in the data"
   ]
  },
  {
   "cell_type": "code",
   "execution_count": 3,
   "id": "046389fa",
   "metadata": {},
   "outputs": [
    {
     "data": {
      "text/plain": [
       "<astropy.units.core._UnitContext at 0x7fba7345ffa0>"
      ]
     },
     "execution_count": 3,
     "metadata": {},
     "output_type": "execute_result"
    }
   ],
   "source": [
    "# fix up custom units\n",
    "gvis = u.def_unit('Gvis',namespace=globals())\n",
    "u.add_enabled_units([gvis])"
   ]
  },
  {
   "cell_type": "code",
   "execution_count": 4,
   "id": "6e59ebe4",
   "metadata": {},
   "outputs": [],
   "source": [
    "result_c7_mous = QTable.read('data/wsu_datarates_mit_per_mous_cycle7_20230919.ecsv')\n",
    "result_c8_mous = QTable.read('data/wsu_datarates_mit_per_mous_cycle8_20230919.ecsv')"
   ]
  },
  {
   "cell_type": "code",
   "execution_count": 5,
   "id": "c63d3345",
   "metadata": {},
   "outputs": [],
   "source": [
    "wsu_all = vstack([result_c7_mous,result_c8_mous])"
   ]
  },
  {
   "cell_type": "code",
   "execution_count": 6,
   "id": "38e917d7",
   "metadata": {},
   "outputs": [
    {
     "data": {
      "text/plain": [
       "<TableColumns names=('mous','proposal_id','schedblock_name','array','science_keyword','scientific_category','scientific_category_proposal','nant_typical','nant_array','nant_all','band','ntarget','s_fov','s_resolution','mosaic','imsize','pb','cell','blc_npol','blc_nspw','blc_specwidth','blc_freq','blc_velres','blc_nchan_agg','blc_nchan_max','blc_bandwidth_max','blc_bandwidth_agg','wsu_freq','wsu_npol','wsu_bandwidth_early','wsu_bandwidth_later_2x','wsu_bandwidth_later_4x','wsu_bandwidth_spw','wsu_nspw_early','wsu_nspw_later_2x','wsu_nspw_later_4x','wsu_specwidth_finest','wsu_chanavg_finest','wsu_velres_finest','wsu_specwidth_stepped','wsu_chanavg_stepped','wsu_velres_stepped','wsu_specwidth_stepped2','wsu_chanavg_stepped2','wsu_velres_stepped2','wsu_tint','wsu_nchan_spw_finest','wsu_nchan_spw_stepped','wsu_nchan_spw_stepped2','wsu_frac_bw_early','wsu_frac_bw_later_2x','wsu_frac_bw_later_4x','wsu_frac_bw_spw','nbase_typical','nbase_array','nbase_all','L80','Project','SB_name','blc_tint','blc_ntunings','bp_time','flux_time','phase_time','pol_time','check_time','target_time_tot','time_tot','cal_time','mfssize','wsu_cubesize_stepped2','wsu_productsize_early_stepped2','wsu_datarate_early_stepped2_typical','wsu_visrate_early_stepped2_typical','wsu_datavol_early_stepped2_typical_target_tot','wsu_datavol_early_stepped2_typical_cal','wsu_datavol_early_stepped2_typical_total','wsu_nvis_early_stepped2_typical_target_tot','wsu_nvis_early_stepped2_typical_cal','wsu_nvis_early_stepped2_typical_total','wsu_productsize_later_2x_stepped2','wsu_datarate_later_2x_stepped2_typical','wsu_visrate_later_2x_stepped2_typical','wsu_datavol_later_2x_stepped2_typical_target_tot','wsu_datavol_later_2x_stepped2_typical_cal','wsu_datavol_later_2x_stepped2_typical_total','wsu_nvis_later_2x_stepped2_typical_target_tot','wsu_nvis_later_2x_stepped2_typical_cal','wsu_nvis_later_2x_stepped2_typical_total','wsu_productsize_later_4x_stepped2','wsu_datarate_later_4x_stepped2_typical','wsu_visrate_later_4x_stepped2_typical','wsu_datavol_later_4x_stepped2_typical_target_tot','wsu_datavol_later_4x_stepped2_typical_cal','wsu_datavol_later_4x_stepped2_typical_total','wsu_nvis_later_4x_stepped2_typical_target_tot','wsu_nvis_later_4x_stepped2_typical_cal','wsu_nvis_later_4x_stepped2_typical_total','blc_cubesize','blc_cubesize_sum','blc_productsize','blc_datarate_typical','blc_visrate_typical','blc_datavol_typical_target_tot','blc_datavol_typical_cal','blc_datavol_typical_total','blc_nvis_typical_target_tot','blc_nvis_typical_cal','blc_nvis_typical_total','cycle_info','imsize_mit','wsu_cubesize_stepped2_mit','wsu_mfssize_mit','wsu_productsize_early_stepped2_mit','plversion','procedure','nant','pl_totaltime','pl_imgtime','pl_cubetime','pl_aggtime','pl_fctime','nEB','npt','nscan','reptgt','allowedcubesize','allowedcubelimit','predcubesize','mitigatedcubesize','allowedprodsize','initialprodsize','mitigatedprodsize','mitigated','mit_nbins','mit_hm_imsize','mit_hm_cell','mit_field','mit_spw','pl_caltime')>"
      ]
     },
     "execution_count": 6,
     "metadata": {},
     "output_type": "execute_result"
    }
   ],
   "source": [
    "wsu_all.columns"
   ]
  },
  {
   "cell_type": "markdown",
   "id": "4a877796",
   "metadata": {},
   "source": [
    "## calculating the fraction of total time"
   ]
  },
  {
   "cell_type": "code",
   "execution_count": 10,
   "id": "69a6f89d",
   "metadata": {},
   "outputs": [
    {
     "name": "stdout",
     "output_type": "stream",
     "text": [
      "5227.821893333333 h\n"
     ]
    }
   ],
   "source": [
    "idx = (wsu_all['array'] == '12m') \n",
    "total_time = np.nansum(wsu_all[idx]['time_tot']).to('hr')\n",
    "print(total_time)"
   ]
  },
  {
   "cell_type": "markdown",
   "id": "e0e1a302",
   "metadata": {},
   "source": [
    "The total time each for band 1 and band 2 (lower end) is 5%."
   ]
  },
  {
   "cell_type": "code",
   "execution_count": 12,
   "id": "fc7f4a3a",
   "metadata": {},
   "outputs": [
    {
     "data": {
      "text/latex": [
       "$261.39109 \\; \\mathrm{h}$"
      ],
      "text/plain": [
       "<Quantity 261.39109467 h>"
      ]
     },
     "execution_count": 12,
     "metadata": {},
     "output_type": "execute_result"
    }
   ],
   "source": [
    "total_time*0.05"
   ]
  },
  {
   "cell_type": "code",
   "execution_count": 68,
   "id": "328ff974",
   "metadata": {},
   "outputs": [
    {
     "name": "stdout",
     "output_type": "stream",
     "text": [
      "Total number of MOUSes: 5200\n",
      "Total number of MOUSes meeting the criteria: 2826\n",
      "Number of MOUSes removed: 180\n",
      "New number of MOUSes: 5020\n"
     ]
    }
   ],
   "source": [
    "reload(wsu_db)\n",
    "test = wsu_db.remove_projects(wsu_all,array='12m',time_frac=0.05)"
   ]
  },
  {
   "cell_type": "code",
   "execution_count": 71,
   "id": "58380841",
   "metadata": {},
   "outputs": [
    {
     "name": "stdout",
     "output_type": "stream",
     "text": [
      "Total number of MOUSes: 5020\n",
      "Total number of MOUSes meeting the criteria: 1493\n",
      "Number of MOUSes removed: 102\n",
      "New number of MOUSes: 4918\n"
     ]
    }
   ],
   "source": [
    "reload(wsu_db)\n",
    "test2 = wsu_db.remove_projects(test,array='7m',time_frac=0.05)"
   ]
  },
  {
   "cell_type": "code",
   "execution_count": null,
   "id": "21b17d43",
   "metadata": {
    "scrolled": false
   },
   "outputs": [
    {
     "name": "stdout",
     "output_type": "stream",
     "text": [
      "--Return--\n",
      "None\n",
      "> \u001b[0;32m/Users/akepley/Dropbox/Support/naasc/WSU/big_cubes/wsu_db.py\u001b[0m(1761)\u001b[0;36madd_bands\u001b[0;34m()\u001b[0m\n",
      "\u001b[0;32m   1760 \u001b[0;31m\u001b[0;34m\u001b[0m\u001b[0m\n",
      "\u001b[0m\u001b[0;32m-> 1761 \u001b[0;31m    \u001b[0mipdb\u001b[0m\u001b[0;34m.\u001b[0m\u001b[0mset_trace\u001b[0m\u001b[0;34m(\u001b[0m\u001b[0;34m)\u001b[0m\u001b[0;34m\u001b[0m\u001b[0;34m\u001b[0m\u001b[0m\n",
      "\u001b[0m\u001b[0;32m   1762 \u001b[0;31m\u001b[0;34m\u001b[0m\u001b[0m\n",
      "\u001b[0m\n",
      "ipdb> len(db_update)\n",
      "158\n",
      "ipdb> np.nansum(db_update['time_tot']).to('hr')\n",
      "<Quantity 264.57256 h>\n",
      "ipdb> dbupdate]\n",
      "*** SyntaxError: unmatched ']'\n",
      "ipdb> db_update['wsu_velres_stepped2']\n",
      "<Quantity [9.96351581, 9.96136765, 9.97637523, 9.96496876, 1.98909794,\n",
      "           1.99836654, 0.4996031 , 9.96326499, 9.97730162, 1.98871583,\n",
      "           9.96247258, 9.97026072, 9.96136845, 0.49008751, 0.09052306,\n",
      "           1.99423896, 0.48396842, 1.98092634, 9.9635394 , 9.96503277,\n",
      "           0.08841284, 0.48679912, 1.96934504, 0.47060032, 0.08943599,\n",
      "           1.99690147, 9.98184705, 9.9808087 , 0.4705997 , 9.96316011,\n",
      "           9.96856614, 9.98441556, 9.96232653, 1.97387472, 9.96174261,\n",
      "           0.47060022, 9.96469118, 1.97294132, 0.47060032, 1.9721144 ,\n",
      "           0.47059648, 0.47060007, 0.07101546, 1.97265924, 0.48516134,\n",
      "           1.99324981, 1.99883274, 1.98373351, 9.96326542, 9.98939383,\n",
      "           9.96307157, 0.48634271, 1.96143153, 1.97463349, 0.47059459,\n",
      "           9.96525975, 0.48403267, 1.96301836, 0.07764725, 9.96519158,\n",
      "           0.0884128 , 9.98942956, 1.99764892, 1.96208374, 9.962863  ,\n",
      "           1.96969348, 9.96351654, 9.97315649, 0.47059976, 0.47059471,\n",
      "           9.99179452, 9.96571749, 1.98416767, 1.9901693 , 9.98462582,\n",
      "           9.96131946, 1.97577996, 9.96460877, 1.99272059, 1.9668641 ,\n",
      "           0.08813936, 1.99329651, 9.98353306, 1.99472035, 1.99621019,\n",
      "           0.47060021, 1.99266883, 0.08842144, 1.99005416, 0.47059402,\n",
      "           0.08727574, 9.96419921, 9.98784358, 9.96136525, 1.96687194,\n",
      "           1.96779029, 0.49711688, 1.99873032, 9.96418557, 0.07085346,\n",
      "           9.97615768, 1.96329802, 1.99277163, 9.9641162 , 9.96399471,\n",
      "           9.99381723, 9.96136846, 1.99019587, 1.99325608, 0.07766183,\n",
      "           1.95929187, 9.963965  , 9.97335772, 1.98385705, 0.47059983,\n",
      "           9.98078251, 9.96648898, 9.96465758, 9.96482338, 0.4705957 ,\n",
      "           0.07085294, 1.98868884, 9.96434955, 0.47059833, 1.96548471,\n",
      "           9.9642824 , 9.9846616 , 9.96481506, 0.47059922, 0.47060015,\n",
      "           9.99908022, 1.95805844, 1.96597925, 9.99149206, 1.98628696,\n",
      "           1.9982376 , 9.97620355, 9.96248831, 1.97546117, 9.97413999,\n",
      "           1.96587919, 1.97304307, 9.96335691, 0.07833647, 9.99504309,\n",
      "           1.99561173, 1.99327891, 0.08841286, 0.470599  , 0.4705999 ,\n",
      "           1.98485694, 1.9655991 , 1.97425299, 9.9630807 , 9.97703009,\n",
      "           0.07518568, 0.47059853, 9.97875757] km / s>\n",
      "ipdb> round(db_update['wsu_velres_stepped2'],1)\n",
      "*** TypeError: type Quantity doesn't define __round__ method\n",
      "ipdb> np.round(db_update['wsu_velres_stepped2'],1)\n",
      "<Quantity [10. , 10. , 10. , 10. ,  2. ,  2. ,  0.5, 10. , 10. ,  2. ,\n",
      "           10. , 10. , 10. ,  0.5,  0.1,  2. ,  0.5,  2. , 10. , 10. ,\n",
      "            0.1,  0.5,  2. ,  0.5,  0.1,  2. , 10. , 10. ,  0.5, 10. ,\n",
      "           10. , 10. , 10. ,  2. , 10. ,  0.5, 10. ,  2. ,  0.5,  2. ,\n",
      "            0.5,  0.5,  0.1,  2. ,  0.5,  2. ,  2. ,  2. , 10. , 10. ,\n",
      "           10. ,  0.5,  2. ,  2. ,  0.5, 10. ,  0.5,  2. ,  0.1, 10. ,\n",
      "            0.1, 10. ,  2. ,  2. , 10. ,  2. , 10. , 10. ,  0.5,  0.5,\n",
      "           10. , 10. ,  2. ,  2. , 10. , 10. ,  2. , 10. ,  2. ,  2. ,\n",
      "            0.1,  2. , 10. ,  2. ,  2. ,  0.5,  2. ,  0.1,  2. ,  0.5,\n",
      "            0.1, 10. , 10. , 10. ,  2. ,  2. ,  0.5,  2. , 10. ,  0.1,\n",
      "           10. ,  2. ,  2. , 10. , 10. , 10. , 10. ,  2. ,  2. ,  0.1,\n",
      "            2. , 10. , 10. ,  2. ,  0.5, 10. , 10. , 10. , 10. ,  0.5,\n",
      "            0.1,  2. , 10. ,  0.5,  2. , 10. , 10. , 10. ,  0.5,  0.5,\n",
      "           10. ,  2. ,  2. , 10. ,  2. ,  2. , 10. , 10. ,  2. , 10. ,\n",
      "            2. ,  2. , 10. ,  0.1, 10. ,  2. ,  2. ,  0.1,  0.5,  0.5,\n",
      "            2. ,  2. ,  2. , 10. , 10. ,  0.1,  0.5, 10. ] km / s>\n"
     ]
    }
   ],
   "source": [
    "reload(wsu_db)\n",
    "wsu_db.add_bands(test2, array='12m', band=1.0,total_time=260.0*u.hr)"
   ]
  },
  {
   "cell_type": "code",
   "execution_count": null,
   "id": "33140a8a",
   "metadata": {},
   "outputs": [],
   "source": []
  },
  {
   "cell_type": "code",
   "execution_count": 92,
   "id": "b98eeed0",
   "metadata": {},
   "outputs": [
    {
     "name": "stdout",
     "output_type": "stream",
     "text": [
      "> \u001b[0;32m/Users/akepley/opt/anaconda3/lib/python3.8/site-packages/astropy/table/table.py\u001b[0m(3022)\u001b[0;36minsert_row\u001b[0;34m()\u001b[0m\n",
      "\u001b[0;32m   3020 \u001b[0;31m\u001b[0;34m\u001b[0m\u001b[0m\n",
      "\u001b[0m\u001b[0;32m   3021 \u001b[0;31m            \u001b[0;32mif\u001b[0m \u001b[0mlen\u001b[0m\u001b[0;34m(\u001b[0m\u001b[0mself\u001b[0m\u001b[0;34m.\u001b[0m\u001b[0mcolumns\u001b[0m\u001b[0;34m)\u001b[0m \u001b[0;34m!=\u001b[0m \u001b[0mlen\u001b[0m\u001b[0;34m(\u001b[0m\u001b[0mvals\u001b[0m\u001b[0;34m)\u001b[0m\u001b[0;34m:\u001b[0m\u001b[0;34m\u001b[0m\u001b[0;34m\u001b[0m\u001b[0m\n",
      "\u001b[0m\u001b[0;32m-> 3022 \u001b[0;31m                \u001b[0;32mraise\u001b[0m \u001b[0mValueError\u001b[0m\u001b[0;34m(\u001b[0m\u001b[0;34m'Mismatch between number of vals and columns'\u001b[0m\u001b[0;34m)\u001b[0m\u001b[0;34m\u001b[0m\u001b[0;34m\u001b[0m\u001b[0m\n",
      "\u001b[0m\u001b[0;32m   3023 \u001b[0;31m\u001b[0;34m\u001b[0m\u001b[0m\n",
      "\u001b[0m\u001b[0;32m   3024 \u001b[0;31m            \u001b[0;32mif\u001b[0m \u001b[0mmask\u001b[0m \u001b[0;32mis\u001b[0m \u001b[0;32mnot\u001b[0m \u001b[0;32mNone\u001b[0m\u001b[0;34m:\u001b[0m\u001b[0;34m\u001b[0m\u001b[0;34m\u001b[0m\u001b[0m\n",
      "\u001b[0m\n",
      "ipdb> up\n",
      "> \u001b[0;32m/Users/akepley/opt/anaconda3/lib/python3.8/site-packages/astropy/table/table.py\u001b[0m(2943)\u001b[0;36madd_row\u001b[0;34m()\u001b[0m\n",
      "\u001b[0;32m   2941 \u001b[0;31m             \u001b[0;36m3\u001b[0m   \u001b[0;36m6\u001b[0m   \u001b[0;36m9\u001b[0m\u001b[0;34m\u001b[0m\u001b[0;34m\u001b[0m\u001b[0m\n",
      "\u001b[0m\u001b[0;32m   2942 \u001b[0;31m        \"\"\"\n",
      "\u001b[0m\u001b[0;32m-> 2943 \u001b[0;31m        \u001b[0mself\u001b[0m\u001b[0;34m.\u001b[0m\u001b[0minsert_row\u001b[0m\u001b[0;34m(\u001b[0m\u001b[0mlen\u001b[0m\u001b[0;34m(\u001b[0m\u001b[0mself\u001b[0m\u001b[0;34m)\u001b[0m\u001b[0;34m,\u001b[0m \u001b[0mvals\u001b[0m\u001b[0;34m,\u001b[0m \u001b[0mmask\u001b[0m\u001b[0;34m)\u001b[0m\u001b[0;34m\u001b[0m\u001b[0;34m\u001b[0m\u001b[0m\n",
      "\u001b[0m\u001b[0;32m   2944 \u001b[0;31m\u001b[0;34m\u001b[0m\u001b[0m\n",
      "\u001b[0m\u001b[0;32m   2945 \u001b[0;31m    \u001b[0;32mdef\u001b[0m \u001b[0minsert_row\u001b[0m\u001b[0;34m(\u001b[0m\u001b[0mself\u001b[0m\u001b[0;34m,\u001b[0m \u001b[0mindex\u001b[0m\u001b[0;34m,\u001b[0m \u001b[0mvals\u001b[0m\u001b[0;34m=\u001b[0m\u001b[0;32mNone\u001b[0m\u001b[0;34m,\u001b[0m \u001b[0mmask\u001b[0m\u001b[0;34m=\u001b[0m\u001b[0;32mNone\u001b[0m\u001b[0;34m)\u001b[0m\u001b[0;34m:\u001b[0m\u001b[0;34m\u001b[0m\u001b[0;34m\u001b[0m\u001b[0m\n",
      "\u001b[0m\n",
      "ipdb> up\n",
      "> \u001b[0;32m/Users/akepley/Dropbox/Support/naasc/WSU/big_cubes/wsu_db.py\u001b[0m(1728)\u001b[0;36madd_bands\u001b[0;34m()\u001b[0m\n",
      "\u001b[0;32m   1726 \u001b[0;31m\u001b[0;34m\u001b[0m\u001b[0m\n",
      "\u001b[0m\u001b[0;32m   1727 \u001b[0;31m    \u001b[0;31m## need to convert total_time to seconds\u001b[0m\u001b[0;34m\u001b[0m\u001b[0;34m\u001b[0m\u001b[0;34m\u001b[0m\u001b[0m\n",
      "\u001b[0m\u001b[0;32m-> 1728 \u001b[0;31m    \u001b[0;32mwhile\u001b[0m \u001b[0mtime_accum\u001b[0m \u001b[0;34m<=\u001b[0m \u001b[0mtotal_time\u001b[0m\u001b[0;34m.\u001b[0m\u001b[0mto\u001b[0m\u001b[0;34m(\u001b[0m\u001b[0;34m's'\u001b[0m\u001b[0;34m)\u001b[0m\u001b[0;34m:\u001b[0m\u001b[0;34m\u001b[0m\u001b[0;34m\u001b[0m\u001b[0m\n",
      "\u001b[0m\u001b[0;32m   1729 \u001b[0;31m        \u001b[0mmyrow_tmp\u001b[0m \u001b[0;34m=\u001b[0m \u001b[0mrng\u001b[0m\u001b[0;34m.\u001b[0m\u001b[0mintegers\u001b[0m\u001b[0;34m(\u001b[0m\u001b[0mlow\u001b[0m\u001b[0;34m=\u001b[0m\u001b[0;36m0\u001b[0m\u001b[0;34m,\u001b[0m\u001b[0mhigh\u001b[0m\u001b[0;34m=\u001b[0m\u001b[0mnrows\u001b[0m\u001b[0;34m,\u001b[0m\u001b[0msize\u001b[0m\u001b[0;34m=\u001b[0m\u001b[0;36m1\u001b[0m\u001b[0;34m)\u001b[0m\u001b[0;34m\u001b[0m\u001b[0;34m\u001b[0m\u001b[0m\n",
      "\u001b[0m\u001b[0;32m   1730 \u001b[0;31m\u001b[0;34m\u001b[0m\u001b[0m\n",
      "\u001b[0m\n",
      "ipdb> time_accum\n",
      "<Quantity 3211.488 s>\n",
      "ipdb> total_time.to('s')\n",
      "<Quantity 936000. s>\n",
      "ipdb> len(db_update.columns)\n",
      "141\n",
      "ipdb> len(new_info.columns)\n",
      "141\n",
      "ipdb> db_update.add_row(new_info)\n",
      "*** ValueError: Mismatch between number of vals and columns\n",
      "ipdb> exit\n"
     ]
    }
   ],
   "source": [
    "%debug"
   ]
  },
  {
   "cell_type": "code",
   "execution_count": 87,
   "id": "886c34f8",
   "metadata": {
    "scrolled": false
   },
   "outputs": [
    {
     "name": "stdout",
     "output_type": "stream",
     "text": [
      "> \u001b[0;32m/Users/akepley/opt/anaconda3/lib/python3.8/site-packages/astropy/table/table.py\u001b[0m(3466)\u001b[0;36m_rows_equal\u001b[0;34m()\u001b[0m\n",
      "\u001b[0;32m   3464 \u001b[0;31m                \u001b[0;31m# because the other array is not masked.\u001b[0m\u001b[0;34m\u001b[0m\u001b[0;34m\u001b[0m\u001b[0;34m\u001b[0m\u001b[0m\n",
      "\u001b[0m\u001b[0;32m   3465 \u001b[0;31m                \u001b[0mfalse_mask\u001b[0m \u001b[0;34m=\u001b[0m \u001b[0mnp\u001b[0m\u001b[0;34m.\u001b[0m\u001b[0mzeros\u001b[0m\u001b[0;34m(\u001b[0m\u001b[0;36m1\u001b[0m\u001b[0;34m,\u001b[0m \u001b[0mdtype\u001b[0m\u001b[0;34m=\u001b[0m\u001b[0;34m[\u001b[0m\u001b[0;34m(\u001b[0m\u001b[0mn\u001b[0m\u001b[0;34m,\u001b[0m \u001b[0mbool\u001b[0m\u001b[0;34m)\u001b[0m \u001b[0;32mfor\u001b[0m \u001b[0mn\u001b[0m \u001b[0;32min\u001b[0m \u001b[0mself\u001b[0m\u001b[0;34m.\u001b[0m\u001b[0mdtype\u001b[0m\u001b[0;34m.\u001b[0m\u001b[0mnames\u001b[0m\u001b[0;34m]\u001b[0m\u001b[0;34m)\u001b[0m\u001b[0;34m\u001b[0m\u001b[0;34m\u001b[0m\u001b[0m\n",
      "\u001b[0m\u001b[0;32m-> 3466 \u001b[0;31m                \u001b[0mresult\u001b[0m \u001b[0;34m=\u001b[0m \u001b[0;34m(\u001b[0m\u001b[0mself\u001b[0m\u001b[0;34m.\u001b[0m\u001b[0mas_array\u001b[0m\u001b[0;34m(\u001b[0m\u001b[0;34m)\u001b[0m\u001b[0;34m.\u001b[0m\u001b[0mdata\u001b[0m \u001b[0;34m==\u001b[0m \u001b[0mother\u001b[0m\u001b[0;34m)\u001b[0m \u001b[0;34m&\u001b[0m \u001b[0;34m(\u001b[0m\u001b[0mself\u001b[0m\u001b[0;34m.\u001b[0m\u001b[0mmask\u001b[0m \u001b[0;34m==\u001b[0m \u001b[0mfalse_mask\u001b[0m\u001b[0;34m)\u001b[0m\u001b[0;34m\u001b[0m\u001b[0;34m\u001b[0m\u001b[0m\n",
      "\u001b[0m\u001b[0;32m   3467 \u001b[0;31m        \u001b[0;32melse\u001b[0m\u001b[0;34m:\u001b[0m\u001b[0;34m\u001b[0m\u001b[0;34m\u001b[0m\u001b[0m\n",
      "\u001b[0m\u001b[0;32m   3468 \u001b[0;31m            \u001b[0;32mif\u001b[0m \u001b[0misinstance\u001b[0m\u001b[0;34m(\u001b[0m\u001b[0mother\u001b[0m\u001b[0;34m,\u001b[0m \u001b[0mnp\u001b[0m\u001b[0;34m.\u001b[0m\u001b[0mma\u001b[0m\u001b[0;34m.\u001b[0m\u001b[0mMaskedArray\u001b[0m\u001b[0;34m)\u001b[0m\u001b[0;34m:\u001b[0m\u001b[0;34m\u001b[0m\u001b[0;34m\u001b[0m\u001b[0m\n",
      "\u001b[0m\n",
      "ipdb> time_accum\n",
      "*** NameError: name 'time_accum' is not defined\n",
      "ipdb> up\n",
      "> \u001b[0;32m/Users/akepley/opt/anaconda3/lib/python3.8/site-packages/astropy/table/table.py\u001b[0m(3426)\u001b[0;36m__eq__\u001b[0;34m()\u001b[0m\n",
      "\u001b[0;32m   3424 \u001b[0;31m\u001b[0;34m\u001b[0m\u001b[0m\n",
      "\u001b[0m\u001b[0;32m   3425 \u001b[0;31m    \u001b[0;32mdef\u001b[0m \u001b[0m__eq__\u001b[0m\u001b[0;34m(\u001b[0m\u001b[0mself\u001b[0m\u001b[0;34m,\u001b[0m \u001b[0mother\u001b[0m\u001b[0;34m)\u001b[0m\u001b[0;34m:\u001b[0m\u001b[0;34m\u001b[0m\u001b[0;34m\u001b[0m\u001b[0m\n",
      "\u001b[0m\u001b[0;32m-> 3426 \u001b[0;31m        \u001b[0;32mreturn\u001b[0m \u001b[0mself\u001b[0m\u001b[0;34m.\u001b[0m\u001b[0m_rows_equal\u001b[0m\u001b[0;34m(\u001b[0m\u001b[0mother\u001b[0m\u001b[0;34m)\u001b[0m\u001b[0;34m\u001b[0m\u001b[0;34m\u001b[0m\u001b[0m\n",
      "\u001b[0m\u001b[0;32m   3427 \u001b[0;31m\u001b[0;34m\u001b[0m\u001b[0m\n",
      "\u001b[0m\u001b[0;32m   3428 \u001b[0;31m    \u001b[0;32mdef\u001b[0m \u001b[0m__ne__\u001b[0m\u001b[0;34m(\u001b[0m\u001b[0mself\u001b[0m\u001b[0;34m,\u001b[0m \u001b[0mother\u001b[0m\u001b[0;34m)\u001b[0m\u001b[0;34m:\u001b[0m\u001b[0;34m\u001b[0m\u001b[0;34m\u001b[0m\u001b[0m\n",
      "\u001b[0m\n",
      "ipdb> up\n",
      "> \u001b[0;32m/Users/akepley/opt/anaconda3/lib/python3.8/site-packages/astropy/table/table.py\u001b[0m(3429)\u001b[0;36m__ne__\u001b[0;34m()\u001b[0m\n",
      "\u001b[0;32m   3427 \u001b[0;31m\u001b[0;34m\u001b[0m\u001b[0m\n",
      "\u001b[0m\u001b[0;32m   3428 \u001b[0;31m    \u001b[0;32mdef\u001b[0m \u001b[0m__ne__\u001b[0m\u001b[0;34m(\u001b[0m\u001b[0mself\u001b[0m\u001b[0;34m,\u001b[0m \u001b[0mother\u001b[0m\u001b[0;34m)\u001b[0m\u001b[0;34m:\u001b[0m\u001b[0;34m\u001b[0m\u001b[0;34m\u001b[0m\u001b[0m\n",
      "\u001b[0m\u001b[0;32m-> 3429 \u001b[0;31m        \u001b[0;32mreturn\u001b[0m \u001b[0;34m~\u001b[0m\u001b[0mself\u001b[0m\u001b[0;34m.\u001b[0m\u001b[0m__eq__\u001b[0m\u001b[0;34m(\u001b[0m\u001b[0mother\u001b[0m\u001b[0;34m)\u001b[0m\u001b[0;34m\u001b[0m\u001b[0;34m\u001b[0m\u001b[0m\n",
      "\u001b[0m\u001b[0;32m   3430 \u001b[0;31m\u001b[0;34m\u001b[0m\u001b[0m\n",
      "\u001b[0m\u001b[0;32m   3431 \u001b[0;31m    \u001b[0;32mdef\u001b[0m \u001b[0m_rows_equal\u001b[0m\u001b[0;34m(\u001b[0m\u001b[0mself\u001b[0m\u001b[0;34m,\u001b[0m \u001b[0mother\u001b[0m\u001b[0;34m)\u001b[0m\u001b[0;34m:\u001b[0m\u001b[0;34m\u001b[0m\u001b[0;34m\u001b[0m\u001b[0m\n",
      "\u001b[0m\n",
      "ipdb> up\n",
      "> \u001b[0;32m/Users/akepley/Dropbox/Support/naasc/WSU/big_cubes/wsu_db.py\u001b[0m(1728)\u001b[0;36madd_bands\u001b[0;34m()\u001b[0m\n",
      "\u001b[0;32m   1726 \u001b[0;31m\u001b[0;34m\u001b[0m\u001b[0m\n",
      "\u001b[0m\u001b[0;32m   1727 \u001b[0;31m    \u001b[0;31m## need to convert total_time to seconds\u001b[0m\u001b[0;34m\u001b[0m\u001b[0;34m\u001b[0m\u001b[0;34m\u001b[0m\u001b[0m\n",
      "\u001b[0m\u001b[0;32m-> 1728 \u001b[0;31m    \u001b[0;32mwhile\u001b[0m \u001b[0mtime_accum\u001b[0m \u001b[0;34m<=\u001b[0m \u001b[0mtotal_time\u001b[0m\u001b[0;34m.\u001b[0m\u001b[0mto\u001b[0m\u001b[0;34m(\u001b[0m\u001b[0;34m's'\u001b[0m\u001b[0;34m)\u001b[0m\u001b[0;34m:\u001b[0m\u001b[0;34m\u001b[0m\u001b[0;34m\u001b[0m\u001b[0m\n",
      "\u001b[0m\u001b[0;32m   1729 \u001b[0;31m        \u001b[0mmyrow_tmp\u001b[0m \u001b[0;34m=\u001b[0m \u001b[0mrng\u001b[0m\u001b[0;34m.\u001b[0m\u001b[0mintegers\u001b[0m\u001b[0;34m(\u001b[0m\u001b[0mlow\u001b[0m\u001b[0;34m=\u001b[0m\u001b[0;36m0\u001b[0m\u001b[0;34m,\u001b[0m\u001b[0mhigh\u001b[0m\u001b[0;34m=\u001b[0m\u001b[0mnrows\u001b[0m\u001b[0;34m,\u001b[0m\u001b[0msize\u001b[0m\u001b[0;34m=\u001b[0m\u001b[0;36m1\u001b[0m\u001b[0;34m)\u001b[0m\u001b[0;34m\u001b[0m\u001b[0;34m\u001b[0m\u001b[0m\n",
      "\u001b[0m\u001b[0;32m   1730 \u001b[0;31m\u001b[0;34m\u001b[0m\u001b[0m\n",
      "\u001b[0m\n",
      "ipdb> time_accum\n",
      "<Quantity 5906.88 s>\n",
      "ipdb> total_time.to('s')\n",
      "<Quantity 936000. s>\n",
      "ipdb> time_accum <= total_time.to('s')\n",
      "True\n",
      "ipdb> myrow_tmp\n",
      "array([746])\n",
      "ipdb> myrow_tmp not in myrow\n",
      "*** NameError: name 'myrow' is not defined\n",
      "ipdb> myrow_tmp not in myrows\n",
      "False\n",
      "ipdb> exit\n"
     ]
    }
   ],
   "source": [
    "%debug"
   ]
  },
  {
   "cell_type": "code",
   "execution_count": 69,
   "id": "73dee6de",
   "metadata": {
    "scrolled": true
   },
   "outputs": [
    {
     "data": {
      "text/plain": [
       "5020"
      ]
     },
     "execution_count": 69,
     "metadata": {},
     "output_type": "execute_result"
    }
   ],
   "source": [
    "len(test)"
   ]
  },
  {
   "cell_type": "code",
   "execution_count": 72,
   "id": "35eadbd7",
   "metadata": {},
   "outputs": [
    {
     "data": {
      "text/plain": [
       "4918"
      ]
     },
     "execution_count": 72,
     "metadata": {},
     "output_type": "execute_result"
    }
   ],
   "source": [
    "len(test2)"
   ]
  },
  {
   "cell_type": "code",
   "execution_count": 76,
   "id": "eba805e5",
   "metadata": {
    "scrolled": false
   },
   "outputs": [
    {
     "name": "stdout",
     "output_type": "stream",
     "text": [
      "999\n",
      "1468.404 h\n"
     ]
    }
   ],
   "source": [
    "idx = (test2['array'] == '12m') & (test2['band'] == 3.0)\n",
    "print(len(test2[idx]))\n",
    "print(np.nansum(test2[idx]['time_tot']).to('hr'))"
   ]
  },
  {
   "cell_type": "code",
   "execution_count": 79,
   "id": "0e0f775c",
   "metadata": {},
   "outputs": [
    {
     "data": {
      "text/html": [
       "<div><i>QTable length=4918</i>\n",
       "<table id=\"table140438810680384\" class=\"table-striped table-bordered table-condensed\">\n",
       "<thead><tr><th>imsize</th><th>cell</th></tr></thead>\n",
       "<thead><tr><th></th><th>arcsec</th></tr></thead>\n",
       "<thead><tr><th>float64</th><th>float64</th></tr></thead>\n",
       "<tr><td>220.0</td><td>2.483750395209291</td></tr>\n",
       "<tr><td>245.0</td><td>2.2605336545695236</td></tr>\n",
       "<tr><td>240.0</td><td>2.2827531148560913</td></tr>\n",
       "<tr><td>225.0</td><td>2.4621422888842592</td></tr>\n",
       "<tr><td>235.0</td><td>2.3507844575555152</td></tr>\n",
       "<tr><td>225.0</td><td>2.446616204960742</td></tr>\n",
       "<tr><td>390.0</td><td>0.9492306037505012</td></tr>\n",
       "<tr><td>350.0</td><td>1.0683185835377622</td></tr>\n",
       "<tr><td>380.0</td><td>0.9773290683594478</td></tr>\n",
       "<tr><td>380.0</td><td>0.9845873918743624</td></tr>\n",
       "<tr><td>400.0</td><td>0.9277529211775718</td></tr>\n",
       "<tr><td>400.0</td><td>0.9321025880936835</td></tr>\n",
       "<tr><td>350.0</td><td>1.0582953752451858</td></tr>\n",
       "<tr><td>390.0</td><td>0.9487020815403738</td></tr>\n",
       "<tr><td>400.0</td><td>0.9280685885425146</td></tr>\n",
       "<tr><td>390.0</td><td>0.9564132885712343</td></tr>\n",
       "<tr><td>395.0</td><td>0.9381782200391552</td></tr>\n",
       "<tr><td>...</td><td>...</td></tr>\n",
       "<tr><td>70.0</td><td>1.0305567277919596</td></tr>\n",
       "<tr><td>680.0</td><td>0.04587059230782474</td></tr>\n",
       "<tr><td>60.0</td><td>1.0260478490365375</td></tr>\n",
       "<tr><td>70.0</td><td>1.0031797430745968</td></tr>\n",
       "<tr><td>60.0</td><td>1.0424568376242842</td></tr>\n",
       "<tr><td>290.0</td><td>0.10597268791125143</td></tr>\n",
       "<tr><td>290.0</td><td>0.10787937933487327</td></tr>\n",
       "<tr><td>300.0</td><td>0.10179810376495017</td></tr>\n",
       "<tr><td>370.0</td><td>0.10348746706236607</td></tr>\n",
       "<tr><td>70.0</td><td>1.009762091578153</td></tr>\n",
       "<tr><td>290.0</td><td>0.3142048070836564</td></tr>\n",
       "<tr><td>670.0</td><td>0.13347679053696643</td></tr>\n",
       "<tr><td>690.0</td><td>0.05230702666282065</td></tr>\n",
       "<tr><td>430.0</td><td>0.0891870853613039</td></tr>\n",
       "<tr><td>270.0</td><td>0.09847996164892678</td></tr>\n",
       "<tr><td>270.0</td><td>0.09725842898201867</td></tr>\n",
       "<tr><td>60.0</td><td>1.018175384371823</td></tr>\n",
       "</table></div>"
      ],
      "text/plain": [
       "<QTable length=4918>\n",
       " imsize         cell       \n",
       "               arcsec      \n",
       "float64       float64      \n",
       "------- -------------------\n",
       "  220.0   2.483750395209291\n",
       "  245.0  2.2605336545695236\n",
       "  240.0  2.2827531148560913\n",
       "  225.0  2.4621422888842592\n",
       "  235.0  2.3507844575555152\n",
       "  225.0   2.446616204960742\n",
       "  390.0  0.9492306037505012\n",
       "  350.0  1.0683185835377622\n",
       "  380.0  0.9773290683594478\n",
       "  380.0  0.9845873918743624\n",
       "  400.0  0.9277529211775718\n",
       "  400.0  0.9321025880936835\n",
       "  350.0  1.0582953752451858\n",
       "  390.0  0.9487020815403738\n",
       "  400.0  0.9280685885425146\n",
       "  390.0  0.9564132885712343\n",
       "  395.0  0.9381782200391552\n",
       "    ...                 ...\n",
       "   70.0  1.0305567277919596\n",
       "  680.0 0.04587059230782474\n",
       "   60.0  1.0260478490365375\n",
       "   70.0  1.0031797430745968\n",
       "   60.0  1.0424568376242842\n",
       "  290.0 0.10597268791125143\n",
       "  290.0 0.10787937933487327\n",
       "  300.0 0.10179810376495017\n",
       "  370.0 0.10348746706236607\n",
       "   70.0   1.009762091578153\n",
       "  290.0  0.3142048070836564\n",
       "  670.0 0.13347679053696643\n",
       "  690.0 0.05230702666282065\n",
       "  430.0  0.0891870853613039\n",
       "  270.0 0.09847996164892678\n",
       "  270.0 0.09725842898201867\n",
       "   60.0   1.018175384371823"
      ]
     },
     "execution_count": 79,
     "metadata": {},
     "output_type": "execute_result"
    }
   ],
   "source": [
    "test2['imsize','cell']"
   ]
  },
  {
   "cell_type": "code",
   "execution_count": 39,
   "id": "3bedc768",
   "metadata": {
    "scrolled": true
   },
   "outputs": [
    {
     "name": "stdout",
     "output_type": "stream",
     "text": [
      "> \u001b[0;32m/Users/akepley/Dropbox/Support/naasc/WSU/big_cubes/wsu_db.py\u001b[0m(1645)\u001b[0;36mremove_projects\u001b[0;34m()\u001b[0m\n",
      "\u001b[0;32m   1643 \u001b[0;31m\u001b[0;34m\u001b[0m\u001b[0m\n",
      "\u001b[0m\u001b[0;32m   1644 \u001b[0;31m    \u001b[0;31m## set up counters\u001b[0m\u001b[0;34m\u001b[0m\u001b[0;34m\u001b[0m\u001b[0;34m\u001b[0m\u001b[0m\n",
      "\u001b[0m\u001b[0;32m-> 1645 \u001b[0;31m    \u001b[0mtime_accum\u001b[0m \u001b[0;34m=\u001b[0m \u001b[0;36m0.0\u001b[0m\u001b[0;34m\u001b[0m\u001b[0;34m\u001b[0m\u001b[0m\n",
      "\u001b[0m\u001b[0;32m   1646 \u001b[0;31m    \u001b[0mmyrows\u001b[0m \u001b[0;34m=\u001b[0m \u001b[0mnp\u001b[0m\u001b[0;34m.\u001b[0m\u001b[0marray\u001b[0m\u001b[0;34m(\u001b[0m\u001b[0;34m[\u001b[0m\u001b[0;34m]\u001b[0m\u001b[0;34m)\u001b[0m\u001b[0;34m\u001b[0m\u001b[0;34m\u001b[0m\u001b[0m\n",
      "\u001b[0m\u001b[0;32m   1647 \u001b[0;31m\u001b[0;34m\u001b[0m\u001b[0m\n",
      "\u001b[0m\n",
      "ipdb> myrows.append(myrow_tmp)\n",
      "*** AttributeError: 'numpy.ndarray' object has no attribute 'append'\n",
      "ipdb> ?np.extend\n",
      "*** No help for 'np.extend'\n",
      "ipdb> exit\n"
     ]
    }
   ],
   "source": [
    "%debug"
   ]
  },
  {
   "cell_type": "code",
   "execution_count": 15,
   "id": "39563884",
   "metadata": {},
   "outputs": [],
   "source": [
    "rng = np.random.default_rng()"
   ]
  },
  {
   "cell_type": "code",
   "execution_count": 22,
   "id": "1a12f20e",
   "metadata": {},
   "outputs": [
    {
     "data": {
      "text/plain": [
       "4731"
      ]
     },
     "execution_count": 22,
     "metadata": {},
     "output_type": "execute_result"
    }
   ],
   "source": [
    "rng.integers(low=0,high=len(wsu_all))"
   ]
  },
  {
   "cell_type": "code",
   "execution_count": 21,
   "id": "5503acb7",
   "metadata": {},
   "outputs": [
    {
     "name": "stdout",
     "output_type": "stream",
     "text": [
      "Object `np.random.default_rng().integers` not found.\n"
     ]
    }
   ],
   "source": [
    "?np.random.default_rng().integers"
   ]
  },
  {
   "cell_type": "code",
   "execution_count": 23,
   "id": "bbaf86a7",
   "metadata": {},
   "outputs": [
    {
     "data": {
      "text/plain": [
       "5200"
      ]
     },
     "execution_count": 23,
     "metadata": {},
     "output_type": "execute_result"
    }
   ],
   "source": [
    "len(wsu_all)"
   ]
  },
  {
   "cell_type": "code",
   "execution_count": 35,
   "id": "9d5a35db",
   "metadata": {},
   "outputs": [
    {
     "data": {
      "text/html": [
       "<i>Row index=2</i>\n",
       "<table id=\"table140438213513024\">\n",
       "<thead><tr><th>mous</th><th>proposal_id</th><th>schedblock_name</th><th>array</th><th>science_keyword</th><th>scientific_category</th><th>scientific_category_proposal</th><th>nant_typical</th><th>nant_array</th><th>nant_all</th><th>band</th><th>ntarget</th><th>s_fov</th><th>s_resolution</th><th>mosaic</th><th>imsize</th><th>pb</th><th>cell</th><th>blc_npol</th><th>blc_nspw</th><th>blc_specwidth</th><th>blc_freq</th><th>blc_velres</th><th>blc_nchan_agg</th><th>blc_nchan_max</th><th>blc_bandwidth_max</th><th>blc_bandwidth_agg</th><th>wsu_freq</th><th>wsu_npol</th><th>wsu_bandwidth_early</th><th>wsu_bandwidth_later_2x</th><th>wsu_bandwidth_later_4x</th><th>wsu_bandwidth_spw</th><th>wsu_nspw_early</th><th>wsu_nspw_later_2x</th><th>wsu_nspw_later_4x</th><th>wsu_specwidth_finest</th><th>wsu_chanavg_finest</th><th>wsu_velres_finest</th><th>wsu_specwidth_stepped</th><th>wsu_chanavg_stepped</th><th>wsu_velres_stepped</th><th>wsu_specwidth_stepped2</th><th>wsu_chanavg_stepped2</th><th>wsu_velres_stepped2</th><th>wsu_tint</th><th>wsu_nchan_spw_finest</th><th>wsu_nchan_spw_stepped</th><th>wsu_nchan_spw_stepped2</th><th>wsu_frac_bw_early</th><th>wsu_frac_bw_later_2x</th><th>wsu_frac_bw_later_4x</th><th>wsu_frac_bw_spw</th><th>nbase_typical</th><th>nbase_array</th><th>nbase_all</th><th>L80</th><th>Project</th><th>SB_name</th><th>blc_tint</th><th>blc_ntunings</th><th>bp_time</th><th>flux_time</th><th>phase_time</th><th>pol_time</th><th>check_time</th><th>target_time_tot</th><th>time_tot</th><th>cal_time</th><th>mfssize</th><th>wsu_cubesize_stepped2</th><th>wsu_productsize_early_stepped2</th><th>wsu_datarate_early_stepped2_typical</th><th>wsu_visrate_early_stepped2_typical</th><th>wsu_datavol_early_stepped2_typical_target_tot</th><th>wsu_datavol_early_stepped2_typical_cal</th><th>wsu_datavol_early_stepped2_typical_total</th><th>wsu_nvis_early_stepped2_typical_target_tot</th><th>wsu_nvis_early_stepped2_typical_cal</th><th>wsu_nvis_early_stepped2_typical_total</th><th>wsu_productsize_later_2x_stepped2</th><th>wsu_datarate_later_2x_stepped2_typical</th><th>wsu_visrate_later_2x_stepped2_typical</th><th>wsu_datavol_later_2x_stepped2_typical_target_tot</th><th>wsu_datavol_later_2x_stepped2_typical_cal</th><th>wsu_datavol_later_2x_stepped2_typical_total</th><th>wsu_nvis_later_2x_stepped2_typical_target_tot</th><th>wsu_nvis_later_2x_stepped2_typical_cal</th><th>wsu_nvis_later_2x_stepped2_typical_total</th><th>wsu_productsize_later_4x_stepped2</th><th>wsu_datarate_later_4x_stepped2_typical</th><th>wsu_visrate_later_4x_stepped2_typical</th><th>wsu_datavol_later_4x_stepped2_typical_target_tot</th><th>wsu_datavol_later_4x_stepped2_typical_cal</th><th>wsu_datavol_later_4x_stepped2_typical_total</th><th>wsu_nvis_later_4x_stepped2_typical_target_tot</th><th>wsu_nvis_later_4x_stepped2_typical_cal</th><th>wsu_nvis_later_4x_stepped2_typical_total</th><th>blc_cubesize</th><th>blc_cubesize_sum</th><th>blc_productsize</th><th>blc_datarate_typical</th><th>blc_visrate_typical</th><th>blc_datavol_typical_target_tot</th><th>blc_datavol_typical_cal</th><th>blc_datavol_typical_total</th><th>blc_nvis_typical_target_tot</th><th>blc_nvis_typical_cal</th><th>blc_nvis_typical_total</th><th>cycle_info</th><th>imsize_mit</th><th>wsu_cubesize_stepped2_mit</th><th>wsu_mfssize_mit</th><th>wsu_productsize_early_stepped2_mit</th><th>plversion</th><th>procedure</th><th>nant</th><th>pl_totaltime</th><th>pl_imgtime</th><th>pl_cubetime</th><th>pl_aggtime</th><th>pl_fctime</th><th>nEB</th><th>npt</th><th>nscan</th><th>reptgt</th><th>allowedcubesize</th><th>allowedcubelimit</th><th>predcubesize</th><th>mitigatedcubesize</th><th>allowedprodsize</th><th>initialprodsize</th><th>mitigatedprodsize</th><th>mitigated</th><th>mit_nbins</th><th>mit_hm_imsize</th><th>mit_hm_cell</th><th>mit_field</th><th>mit_spw</th><th>pl_caltime</th></tr></thead>\n",
       "<thead><tr><th></th><th></th><th></th><th></th><th></th><th></th><th></th><th></th><th></th><th></th><th></th><th></th><th>deg</th><th>arcsec</th><th></th><th></th><th>arcsec</th><th>arcsec</th><th></th><th></th><th>kHz</th><th>GHz</th><th>km / s</th><th></th><th></th><th>GHz</th><th>GHz</th><th>GHz</th><th></th><th>GHz</th><th>GHz</th><th>GHz</th><th>GHz</th><th></th><th></th><th></th><th>kHz</th><th></th><th>km / s</th><th>kHz</th><th></th><th>km / s</th><th>kHz</th><th></th><th>km / s</th><th>s</th><th></th><th></th><th></th><th></th><th></th><th></th><th></th><th></th><th></th><th></th><th>m</th><th></th><th></th><th>s</th><th></th><th>s</th><th>s</th><th>s</th><th>s</th><th>s</th><th>s</th><th>s</th><th>s</th><th>Gbyte</th><th>Gbyte</th><th>Gbyte</th><th>Gbyte / s</th><th>Gvis / h</th><th>Gbyte</th><th>Gbyte</th><th>Gbyte</th><th>Gvis</th><th>Gvis</th><th>Gvis</th><th>Gbyte</th><th>Gbyte / s</th><th>Gvis / h</th><th>Gbyte</th><th>Gbyte</th><th>Gbyte</th><th>Gvis</th><th>Gvis</th><th>Gvis</th><th>Gbyte</th><th>Gbyte / s</th><th>Gvis / h</th><th>Gbyte</th><th>Gbyte</th><th>Gbyte</th><th>Gvis</th><th>Gvis</th><th>Gvis</th><th>Gbyte</th><th>Gbyte</th><th>Gbyte</th><th>Gbyte / s</th><th>Gvis / h</th><th>Gbyte</th><th>Gbyte</th><th>Gbyte</th><th>Gvis</th><th>Gvis</th><th>Gvis</th><th></th><th></th><th>Gbyte</th><th>Gbyte</th><th>Gbyte</th><th></th><th></th><th></th><th>h</th><th>h</th><th>h</th><th>h</th><th>h</th><th></th><th></th><th></th><th></th><th>Gbyte</th><th>Gbyte</th><th>Gbyte</th><th>Gbyte</th><th>Gbyte</th><th>Gbyte</th><th>Gbyte</th><th></th><th></th><th></th><th></th><th></th><th></th><th>h</th></tr></thead>\n",
       "<thead><tr><th>str22</th><th>str14</th><th>str26</th><th>str3</th><th>str105</th><th>str27</th><th>str52</th><th>int64</th><th>int64</th><th>int64</th><th>float64</th><th>float64</th><th>float64</th><th>float64</th><th>str1</th><th>float64</th><th>float64</th><th>float64</th><th>int64</th><th>int64</th><th>float64</th><th>float64</th><th>float64</th><th>float64</th><th>float64</th><th>float64</th><th>float64</th><th>float64</th><th>int64</th><th>float64</th><th>float64</th><th>float64</th><th>float64</th><th>int64</th><th>int64</th><th>int64</th><th>float64</th><th>float64</th><th>float64</th><th>float64</th><th>float64</th><th>float64</th><th>float64</th><th>float64</th><th>float64</th><th>float64</th><th>float64</th><th>float64</th><th>float64</th><th>float64</th><th>float64</th><th>float64</th><th>float64</th><th>float64</th><th>float64</th><th>float64</th><th>float64</th><th>str14</th><th>str26</th><th>float64</th><th>float64</th><th>float64</th><th>float64</th><th>float64</th><th>float64</th><th>float64</th><th>float64</th><th>float64</th><th>float64</th><th>float64</th><th>float64</th><th>float64</th><th>float64</th><th>float64</th><th>float64</th><th>float64</th><th>float64</th><th>float64</th><th>float64</th><th>float64</th><th>float64</th><th>float64</th><th>float64</th><th>float64</th><th>float64</th><th>float64</th><th>float64</th><th>float64</th><th>float64</th><th>float64</th><th>float64</th><th>float64</th><th>float64</th><th>float64</th><th>float64</th><th>float64</th><th>float64</th><th>float64</th><th>float64</th><th>float64</th><th>float64</th><th>float64</th><th>float64</th><th>float64</th><th>float64</th><th>float64</th><th>float64</th><th>float64</th><th>float64</th><th>str6</th><th>float64</th><th>float64</th><th>float64</th><th>float64</th><th>str4</th><th>str20</th><th>int64</th><th>float64</th><th>float64</th><th>float64</th><th>float64</th><th>float64</th><th>int64</th><th>int64</th><th>int64</th><th>str29</th><th>float64</th><th>float64</th><th>float64</th><th>float64</th><th>float64</th><th>float64</th><th>float64</th><th>bool</th><th>str64</th><th>str7</th><th>str7</th><th>str846</th><th>str54</th><th>float64</th></tr></thead>\n",
       "<tr><td>uid://A001/X1465/X23a9</td><td>2019.1.00796.S</td><td>eta_Car_a_06_7M</td><td>7m</td><td>Evolved stars - Shaping/physical structure, Luminous Blue Variables (LBV)</td><td>Stars and stellar evolution</td><td>Stellar evolution and the Sun</td><td>10</td><td>12</td><td>16</td><td>6.0</td><td>1.0</td><td>0.015726887632186323</td><td>5.521716767486976</td><td>T</td><td>80.0</td><td>44.698949004380935</td><td>1.1043433534973952</td><td>2</td><td>4</td><td>1123.7496471683626</td><td>223.74841749510813</td><td>1.4656209726630691</td><td>8192.0</td><td>2048.0</td><td>2.0</td><td>8.0</td><td>223.74841749510813</td><td>2</td><td>16.0</td><td>16.0</td><td>32.0</td><td>1.6</td><td>10</td><td>10</td><td>20</td><td>1120.5</td><td>83.0</td><td>1.501317653772207</td><td>742.5</td><td>55.0</td><td>0.9948490476803782</td><td>364.5</td><td>27.0</td><td>0.4883804415885493</td><td>10.08</td><td>1427.0</td><td>2154.0</td><td>4389.0</td><td>0.07150888564541384</td><td>0.07150888564541384</td><td>0.14301777129082768</td><td>0.007150888564541384</td><td>45.0</td><td>66.0</td><td>120.0</td><td>28.73126</td><td>2019.1.00796.S</td><td>eta_Car_a_06_7M</td><td>6.048</td><td>1.0</td><td>1209.6</td><td>0.0</td><td>362.88</td><td>0.0</td><td>0.0</td><td>1995.84</td><td>3568.3199999999997</td><td>1572.48</td><td>2.56e-05</td><td>0.1123584</td><td>2.24768</td><td>0.0019158333333333332</td><td>2.8215</td><td>3.8236967999999996</td><td>3.0126095999999998</td><td>6.836306399999999</td><td>1.5642396</td><td>1.2324312</td><td>2.7966708</td><td>2.24768</td><td>0.0019158333333333332</td><td>2.8215</td><td>3.8236967999999996</td><td>3.0126095999999998</td><td>6.836306399999999</td><td>1.5642396</td><td>1.2324312</td><td>2.7966708</td><td>4.49536</td><td>0.0038316666666666664</td><td>5.643</td><td>7.647393599999999</td><td>6.0252191999999996</td><td>13.672612799999998</td><td>3.1284792</td><td>2.4648624</td><td>5.5933416</td><td>0.0524288</td><td>0.2097152</td><td>0.4196352</td><td>0.0005959788359788359</td><td>0.8777142857142857</td><td>1.1894783999999998</td><td>0.9371647999999999</td><td>2.1266431999999997</td><td>0.4866048</td><td>0.3833856</td><td>0.8699903999999999</td><td>cycle7</td><td>80.0</td><td>0.1123584</td><td>2.56e-05</td><td>2.24768</td><td>--</td><td>--</td><td>--</td><td>———</td><td>———</td><td>———</td><td>———</td><td>———</td><td>--</td><td>--</td><td>--</td><td>--</td><td>———</td><td>———</td><td>———</td><td>———</td><td>———</td><td>———</td><td>———</td><td>--</td><td>--</td><td>--</td><td>--</td><td>--</td><td>--</td><td>———</td></tr>\n",
       "</table>"
      ],
      "text/plain": [
       "<Row index=2>\n",
       "         mous           proposal_id   schedblock_name array                              science_keyword                                  scientific_category      scientific_category_proposal nant_typical nant_array nant_all   band  ntarget        s_fov            s_resolution   mosaic  imsize         pb                cell        blc_npol blc_nspw   blc_specwidth         blc_freq          blc_velres     blc_nchan_agg blc_nchan_max blc_bandwidth_max blc_bandwidth_agg      wsu_freq      wsu_npol wsu_bandwidth_early wsu_bandwidth_later_2x wsu_bandwidth_later_4x wsu_bandwidth_spw wsu_nspw_early wsu_nspw_later_2x wsu_nspw_later_4x wsu_specwidth_finest wsu_chanavg_finest wsu_velres_finest wsu_specwidth_stepped wsu_chanavg_stepped wsu_velres_stepped wsu_specwidth_stepped2 wsu_chanavg_stepped2 wsu_velres_stepped2 wsu_tint wsu_nchan_spw_finest wsu_nchan_spw_stepped wsu_nchan_spw_stepped2  wsu_frac_bw_early  wsu_frac_bw_later_2x wsu_frac_bw_later_4x   wsu_frac_bw_spw    nbase_typical nbase_array nbase_all   L80       Project         SB_name     blc_tint blc_ntunings bp_time flux_time phase_time pol_time check_time target_time_tot      time_tot      cal_time mfssize  wsu_cubesize_stepped2 wsu_productsize_early_stepped2 wsu_datarate_early_stepped2_typical wsu_visrate_early_stepped2_typical wsu_datavol_early_stepped2_typical_target_tot wsu_datavol_early_stepped2_typical_cal wsu_datavol_early_stepped2_typical_total wsu_nvis_early_stepped2_typical_target_tot wsu_nvis_early_stepped2_typical_cal wsu_nvis_early_stepped2_typical_total wsu_productsize_later_2x_stepped2 wsu_datarate_later_2x_stepped2_typical wsu_visrate_later_2x_stepped2_typical wsu_datavol_later_2x_stepped2_typical_target_tot wsu_datavol_later_2x_stepped2_typical_cal wsu_datavol_later_2x_stepped2_typical_total wsu_nvis_later_2x_stepped2_typical_target_tot wsu_nvis_later_2x_stepped2_typical_cal wsu_nvis_later_2x_stepped2_typical_total wsu_productsize_later_4x_stepped2 wsu_datarate_later_4x_stepped2_typical wsu_visrate_later_4x_stepped2_typical wsu_datavol_later_4x_stepped2_typical_target_tot wsu_datavol_later_4x_stepped2_typical_cal wsu_datavol_later_4x_stepped2_typical_total wsu_nvis_later_4x_stepped2_typical_target_tot wsu_nvis_later_4x_stepped2_typical_cal wsu_nvis_later_4x_stepped2_typical_total blc_cubesize blc_cubesize_sum blc_productsize  blc_datarate_typical blc_visrate_typical blc_datavol_typical_target_tot blc_datavol_typical_cal blc_datavol_typical_total blc_nvis_typical_target_tot blc_nvis_typical_cal blc_nvis_typical_total cycle_info imsize_mit wsu_cubesize_stepped2_mit wsu_mfssize_mit wsu_productsize_early_stepped2_mit plversion procedure  nant pl_totaltime pl_imgtime pl_cubetime pl_aggtime pl_fctime  nEB   npt  nscan reptgt allowedcubesize allowedcubelimit predcubesize mitigatedcubesize allowedprodsize initialprodsize mitigatedprodsize mitigated mit_nbins mit_hm_imsize mit_hm_cell mit_field mit_spw pl_caltime\n",
       "                                                                                                                                                                                                                                                         deg                arcsec                           arcsec             arcsec                                kHz                GHz               km / s                                          GHz               GHz               GHz                          GHz                  GHz                    GHz                  GHz                                                                   kHz                                   km / s               kHz                                    km / s                kHz                                       km / s          s                                                                                                                                                                                                 m                                       s                     s        s         s         s         s             s                s             s      Gbyte           Gbyte                     Gbyte                           Gbyte / s                           Gvis / h                                  Gbyte                                     Gbyte                                   Gbyte                                      Gvis                                    Gvis                                 Gvis                               Gbyte                             Gbyte / s                               Gvis / h                                    Gbyte                                         Gbyte                                      Gbyte                                         Gvis                                      Gvis                                    Gvis                                 Gbyte                             Gbyte / s                               Gvis / h                                    Gbyte                                         Gbyte                                      Gbyte                                         Gvis                                      Gvis                                    Gvis                      Gbyte          Gbyte            Gbyte            Gbyte / s             Gvis / h                  Gbyte                       Gbyte                    Gbyte                       Gvis                    Gvis                  Gvis                                          Gbyte                Gbyte                    Gbyte                                               h           h           h          h          h                                   Gbyte           Gbyte          Gbyte           Gbyte            Gbyte           Gbyte            Gbyte                                                                           h     \n",
       "        str22              str14           str26       str3                                   str105                                             str27                        str52                int64       int64     int64   float64 float64       float64             float64       str1  float64      float64            float64        int64    int64        float64            float64            float64          float64       float64         float64           float64           float64        int64         float64              float64                float64              float64          int64            int64             int64             float64             float64            float64             float64              float64            float64              float64               float64              float64       float64        float64               float64               float64               float64             float64              float64              float64           float64      float64    float64  float64      str14           str26      float64    float64    float64  float64   float64   float64   float64       float64          float64       float64  float64         float64                   float64                           float64                            float64                                  float64                                   float64                                 float64                                   float64                                 float64                              float64                             float64                             float64                                float64                                    float64                                       float64                                    float64                                      float64                                   float64                                 float64                               float64                             float64                                float64                                    float64                                       float64                                    float64                                      float64                                   float64                                 float64                    float64        float64          float64            float64              float64                  float64                     float64                  float64                    float64                 float64               float64            str6     float64            float64              float64                  float64                  str4     str20   int64   float64     float64     float64    float64    float64  int64 int64 int64 str29      float64         float64        float64         float64          float64         float64          float64         bool     str64        str7         str7      str846   str54   float64  \n",
       "---------------------- -------------- --------------- ----- ------------------------------------------------------------------------- --------------------------- ----------------------------- ------------ ---------- -------- ------- ------- -------------------- ----------------- ------ ------- ------------------ ------------------ -------- -------- ------------------ ------------------ ------------------ ------------- ------------- ----------------- ----------------- ------------------ -------- ------------------- ---------------------- ---------------------- ----------------- -------------- ----------------- ----------------- -------------------- ------------------ ----------------- --------------------- ------------------- ------------------ ---------------------- -------------------- ------------------- -------- -------------------- --------------------- ---------------------- ------------------- -------------------- -------------------- -------------------- ------------- ----------- --------- -------- -------------- --------------- -------- ------------ ------- --------- ---------- -------- ---------- --------------- ------------------ -------- -------- --------------------- ------------------------------ ----------------------------------- ---------------------------------- --------------------------------------------- -------------------------------------- ---------------------------------------- ------------------------------------------ ----------------------------------- ------------------------------------- --------------------------------- -------------------------------------- ------------------------------------- ------------------------------------------------ ----------------------------------------- ------------------------------------------- --------------------------------------------- -------------------------------------- ---------------------------------------- --------------------------------- -------------------------------------- ------------------------------------- ------------------------------------------------ ----------------------------------------- ------------------------------------------- --------------------------------------------- -------------------------------------- ---------------------------------------- ------------ ---------------- --------------- --------------------- ------------------- ------------------------------ ----------------------- ------------------------- --------------------------- -------------------- ---------------------- ---------- ---------- ------------------------- --------------- ---------------------------------- --------- --------- ----- ------------ ---------- ----------- ---------- --------- ----- ----- ----- ------ --------------- ---------------- ------------ ----------------- --------------- --------------- ----------------- --------- --------- ------------- ----------- --------- ------- ----------\n",
       "uid://A001/X1465/X23a9 2019.1.00796.S eta_Car_a_06_7M    7m Evolved stars - Shaping/physical structure, Luminous Blue Variables (LBV) Stars and stellar evolution Stellar evolution and the Sun           10         12       16     6.0     1.0 0.015726887632186323 5.521716767486976      T    80.0 44.698949004380935 1.1043433534973952        2        4 1123.7496471683626 223.74841749510813 1.4656209726630691        8192.0        2048.0               2.0               8.0 223.74841749510813        2                16.0                   16.0                   32.0               1.6             10                10                20               1120.5               83.0 1.501317653772207                 742.5                55.0 0.9948490476803782                  364.5                 27.0  0.4883804415885493    10.08               1427.0                2154.0                 4389.0 0.07150888564541384  0.07150888564541384  0.14301777129082768 0.007150888564541384          45.0        66.0     120.0 28.73126 2019.1.00796.S eta_Car_a_06_7M    6.048          1.0  1209.6       0.0     362.88      0.0        0.0         1995.84 3568.3199999999997  1572.48 2.56e-05             0.1123584                        2.24768               0.0019158333333333332                             2.8215                            3.8236967999999996                     3.0126095999999998                        6.836306399999999                                  1.5642396                           1.2324312                             2.7966708                           2.24768                  0.0019158333333333332                                2.8215                               3.8236967999999996                        3.0126095999999998                           6.836306399999999                                     1.5642396                              1.2324312                                2.7966708                           4.49536                  0.0038316666666666664                                 5.643                                7.647393599999999                        6.0252191999999996                          13.672612799999998                                     3.1284792                              2.4648624                                5.5933416    0.0524288        0.2097152       0.4196352 0.0005959788359788359  0.8777142857142857             1.1894783999999998      0.9371647999999999        2.1266431999999997                   0.4866048            0.3833856     0.8699903999999999     cycle7       80.0                 0.1123584        2.56e-05                            2.24768        --        --    --          ———        ———         ———        ———       ———    --    --    --     --             ———              ———          ———               ———             ———             ———               ———        --        --            --          --        --      --        ———"
      ]
     },
     "execution_count": 35,
     "metadata": {},
     "output_type": "execute_result"
    }
   ],
   "source": [
    "wsu_all[[0,100,500]][2]"
   ]
  },
  {
   "cell_type": "code",
   "execution_count": 40,
   "id": "f84777e9",
   "metadata": {},
   "outputs": [
    {
     "name": "stdout",
     "output_type": "stream",
     "text": [
      "Object `np.extend` not found.\n"
     ]
    }
   ],
   "source": [
    "?np.extend"
   ]
  },
  {
   "cell_type": "code",
   "execution_count": 41,
   "id": "042b6893",
   "metadata": {},
   "outputs": [],
   "source": [
    "myrows = []"
   ]
  },
  {
   "cell_type": "code",
   "execution_count": 43,
   "id": "a719cc00",
   "metadata": {},
   "outputs": [],
   "source": [
    "test = wsu_all[0]['time_tot']"
   ]
  },
  {
   "cell_type": "code",
   "execution_count": 44,
   "id": "7d5c31e2",
   "metadata": {},
   "outputs": [
    {
     "data": {
      "text/latex": [
       "$3568.32 \\; \\mathrm{s}$"
      ],
      "text/plain": [
       "<Quantity 3568.32 s>"
      ]
     },
     "execution_count": 44,
     "metadata": {},
     "output_type": "execute_result"
    }
   ],
   "source": [
    "test"
   ]
  },
  {
   "cell_type": "code",
   "execution_count": 47,
   "id": "1726469b",
   "metadata": {},
   "outputs": [
    {
     "ename": "TypeError",
     "evalue": "'Quantity' object with a scalar value is not iterable",
     "output_type": "error",
     "traceback": [
      "\u001b[0;31m---------------------------------------------------------------------------\u001b[0m",
      "\u001b[0;31mTypeError\u001b[0m                                 Traceback (most recent call last)",
      "\u001b[0;32m/var/folders/td/fwyp5v856p5_4_7tzcj0l3xr0000gp/T/ipykernel_79073/3723164169.py\u001b[0m in \u001b[0;36m<module>\u001b[0;34m\u001b[0m\n\u001b[0;32m----> 1\u001b[0;31m \u001b[0mmyrows\u001b[0m\u001b[0;34m.\u001b[0m\u001b[0mextend\u001b[0m\u001b[0;34m(\u001b[0m\u001b[0mtest\u001b[0m\u001b[0;34m)\u001b[0m\u001b[0;34m\u001b[0m\u001b[0;34m\u001b[0m\u001b[0m\n\u001b[0m",
      "\u001b[0;32m~/opt/anaconda3/lib/python3.8/site-packages/astropy/units/quantity.py\u001b[0m in \u001b[0;36m__iter__\u001b[0;34m(self)\u001b[0m\n\u001b[1;32m   1179\u001b[0m     \u001b[0;32mdef\u001b[0m \u001b[0m__iter__\u001b[0m\u001b[0;34m(\u001b[0m\u001b[0mself\u001b[0m\u001b[0;34m)\u001b[0m\u001b[0;34m:\u001b[0m\u001b[0;34m\u001b[0m\u001b[0;34m\u001b[0m\u001b[0m\n\u001b[1;32m   1180\u001b[0m         \u001b[0;32mif\u001b[0m \u001b[0mself\u001b[0m\u001b[0;34m.\u001b[0m\u001b[0misscalar\u001b[0m\u001b[0;34m:\u001b[0m\u001b[0;34m\u001b[0m\u001b[0;34m\u001b[0m\u001b[0m\n\u001b[0;32m-> 1181\u001b[0;31m             raise TypeError(\n\u001b[0m\u001b[1;32m   1182\u001b[0m                 \u001b[0;34m\"'{cls}' object with a scalar value is not iterable\"\u001b[0m\u001b[0;34m\u001b[0m\u001b[0;34m\u001b[0m\u001b[0m\n\u001b[1;32m   1183\u001b[0m                 .format(cls=self.__class__.__name__))\n",
      "\u001b[0;31mTypeError\u001b[0m: 'Quantity' object with a scalar value is not iterable"
     ]
    }
   ],
   "source": [
    "myrows.extend(test)"
   ]
  },
  {
   "cell_type": "code",
   "execution_count": 46,
   "id": "4ffd9532",
   "metadata": {},
   "outputs": [
    {
     "data": {
      "text/plain": [
       "[<Quantity 3568.32 s>]"
      ]
     },
     "execution_count": 46,
     "metadata": {},
     "output_type": "execute_result"
    }
   ],
   "source": [
    "myrows"
   ]
  },
  {
   "cell_type": "code",
   "execution_count": null,
   "id": "4977585c",
   "metadata": {},
   "outputs": [],
   "source": []
  }
 ],
 "metadata": {
  "kernelspec": {
   "display_name": "Python 3 (ipykernel)",
   "language": "python",
   "name": "python3"
  },
  "language_info": {
   "codemirror_mode": {
    "name": "ipython",
    "version": 3
   },
   "file_extension": ".py",
   "mimetype": "text/x-python",
   "name": "python",
   "nbconvert_exporter": "python",
   "pygments_lexer": "ipython3",
   "version": "3.8.8"
  }
 },
 "nbformat": 4,
 "nbformat_minor": 5
}
