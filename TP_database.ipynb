{
 "cells": [
  {
   "cell_type": "markdown",
   "id": "4e05adba",
   "metadata": {},
   "source": [
    "# Create total power data base"
   ]
  },
  {
   "cell_type": "markdown",
   "id": "f4d9b5d0",
   "metadata": {},
   "source": [
    "Create total power version of data base for Bunyo"
   ]
  },
  {
   "cell_type": "markdown",
   "id": "bda2d54e",
   "metadata": {},
   "source": [
    "## import libraries"
   ]
  },
  {
   "cell_type": "code",
   "execution_count": 1,
   "id": "b78badcb",
   "metadata": {},
   "outputs": [],
   "source": [
    "from importlib import reload\n",
    "import matplotlib.pyplot as plt\n",
    "from astropy.table import Table, join, vstack\n",
    "import numpy as np"
   ]
  },
  {
   "cell_type": "code",
   "execution_count": 2,
   "id": "556cac87",
   "metadata": {},
   "outputs": [],
   "source": [
    "import large_cubes"
   ]
  },
  {
   "cell_type": "code",
   "execution_count": 3,
   "id": "47c8183c",
   "metadata": {},
   "outputs": [
    {
     "data": {
      "text/plain": [
       "<module 'large_cubes' from '/Users/akepley/Dropbox/Support/naasc/WSU/big_cubes/large_cubes.py'>"
      ]
     },
     "execution_count": 3,
     "metadata": {},
     "output_type": "execute_result"
    }
   ],
   "source": [
    "reload(large_cubes)"
   ]
  },
  {
   "cell_type": "code",
   "execution_count": 4,
   "id": "264be6d4",
   "metadata": {},
   "outputs": [],
   "source": [
    "import wsu_db"
   ]
  },
  {
   "cell_type": "markdown",
   "id": "952df066",
   "metadata": {},
   "source": [
    "## import data"
   ]
  },
  {
   "cell_type": "code",
   "execution_count": 5,
   "id": "007f0992",
   "metadata": {},
   "outputs": [],
   "source": [
    "result2019 = Table.read('data/result_table_cycle7_with_calc_values_20220923.csv')"
   ]
  },
  {
   "cell_type": "code",
   "execution_count": 6,
   "id": "9d9f5a2d",
   "metadata": {},
   "outputs": [
    {
     "data": {
      "text/plain": [
       "51368"
      ]
     },
     "execution_count": 6,
     "metadata": {},
     "output_type": "execute_result"
    }
   ],
   "source": [
    "len(result2019)"
   ]
  },
  {
   "cell_type": "code",
   "execution_count": 7,
   "id": "e27aa032",
   "metadata": {},
   "outputs": [
    {
     "data": {
      "text/plain": [
       "<TableColumns names=('obs_publisher_did','facility_name','instrument_name','obs_id','dataproduct_type','calib_level','target_name','s_ra','s_dec','s_fov','s_resolution','t_min','t_max','t_exptime','t_resolution','em_min','em_max','em_res_power','pol_states','o_ucd','access_url','access_format','proposal_id','data_rights','gal_longitude','gal_latitude','band_list','em_resolution','bandwidth','antenna_arrays','is_mosaic','spatial_resolution','frequency_support','frequency','velocity_resolution','publication_year','proposal_abstract','schedblock_name','sensitivity_10kms','cont_sensitivity_bandwidth','pwv','group_ous_uid','member_ous_uid','asdm_uid','type','scan_intent','science_observation','spatial_scale_max','qa2_passed','science_keyword','scientific_category','collections','array','points_per_fov','spw_freq','spw_specwidth','spw_nchan','pb','cell','imsize','spw_nchan_max','mitigated','failed_mitigation_nbin1','failed_mitigation_nbin2','ntarget')>"
      ]
     },
     "execution_count": 7,
     "metadata": {},
     "output_type": "execute_result"
    }
   ],
   "source": [
    "result2019.columns"
   ]
  },
  {
   "cell_type": "code",
   "execution_count": 8,
   "id": "ca97bb99",
   "metadata": {
    "scrolled": true
   },
   "outputs": [
    {
     "data": {
      "text/html": [
       "<div><i>Table length=1939</i>\n",
       "<table id=\"table140524628066896\" class=\"table-striped table-bordered table-condensed\">\n",
       "<thead><tr><th>member_ous_uid</th><th>array</th><th>spw_freq</th><th>spw_specwidth</th><th>spw_nchan</th><th>s_resolution</th><th>is_mosaic</th></tr></thead>\n",
       "<thead><tr><th>str22</th><th>str3</th><th>float64</th><th>float64</th><th>float64</th><th>float64</th><th>str1</th></tr></thead>\n",
       "<tr><td>uid://A001/X14c3/X61b</td><td>TP</td><td>244.8958420797094</td><td>31375.263260995456</td><td>128.0</td><td>24.42088292236162</td><td>F</td></tr>\n",
       "<tr><td>uid://A001/X14c3/X61b</td><td>TP</td><td>230.10470525373535</td><td>972.2806791278714</td><td>4096.0</td><td>24.42088292236162</td><td>F</td></tr>\n",
       "<tr><td>uid://A001/X14c3/X61b</td><td>TP</td><td>231.9745826082978</td><td>31115.078538066395</td><td>128.0</td><td>24.42088292236162</td><td>F</td></tr>\n",
       "<tr><td>uid://A001/X14c3/X61b</td><td>TP</td><td>246.7856649655297</td><td>31374.285241760404</td><td>128.0</td><td>24.42088292236162</td><td>F</td></tr>\n",
       "<tr><td>uid://A001/X14c3/X615</td><td>TP</td><td>112.39773136835102</td><td>31526.326439925368</td><td>128.0</td><td>55.143705793363374</td><td>F</td></tr>\n",
       "<tr><td>uid://A001/X14c3/X615</td><td>TP</td><td>109.99943631422802</td><td>490.4794677676596</td><td>4096.0</td><td>55.143705793363374</td><td>F</td></tr>\n",
       "<tr><td>uid://A001/X14c3/X615</td><td>TP</td><td>99.52350563336553</td><td>30939.606073988827</td><td>128.0</td><td>55.143705793363374</td><td>F</td></tr>\n",
       "<tr><td>uid://A001/X14c3/X615</td><td>TP</td><td>98.79404727631369</td><td>30937.35008141915</td><td>128.0</td><td>55.143705793363374</td><td>F</td></tr>\n",
       "<tr><td>uid://A001/X14d7/X9c</td><td>TP</td><td>332.4922718732816</td><td>1125.4203548734513</td><td>2048.0</td><td>17.218281724965387</td><td>F</td></tr>\n",
       "<tr><td>uid://A001/X14d7/X9c</td><td>TP</td><td>343.49201232869626</td><td>1132.0971318572308</td><td>2048.0</td><td>17.218281724965387</td><td>F</td></tr>\n",
       "<tr><td>uid://A001/X14d7/X9c</td><td>TP</td><td>345.7878914240955</td><td>60.57733224628705</td><td>1024.0</td><td>17.218281724965387</td><td>F</td></tr>\n",
       "<tr><td>uid://A001/X14d7/X9c</td><td>TP</td><td>330.58035021832626</td><td>60.566140591343505</td><td>1024.0</td><td>17.218281724965387</td><td>F</td></tr>\n",
       "<tr><td>uid://A001/X14d7/X9c</td><td>TP</td><td>330.58064872344124</td><td>60.566195280930316</td><td>1024.0</td><td>17.21826329916911</td><td>F</td></tr>\n",
       "<tr><td>uid://A001/X14d7/X9c</td><td>TP</td><td>332.4925792536559</td><td>1125.4213952950163</td><td>2048.0</td><td>17.21826329916911</td><td>F</td></tr>\n",
       "<tr><td>uid://A001/X14d7/X9c</td><td>TP</td><td>345.78820175132915</td><td>60.577386611394694</td><td>1024.0</td><td>17.21826329916911</td><td>F</td></tr>\n",
       "<tr><td>uid://A001/X14d7/X9c</td><td>TP</td><td>343.49232935749325</td><td>1132.0981767356525</td><td>2048.0</td><td>17.21826329916911</td><td>F</td></tr>\n",
       "<tr><td>uid://A001/X14d7/X90</td><td>TP</td><td>345.78639612987996</td><td>60.5772386136601</td><td>1024.0</td><td>17.218358465467354</td><td>F</td></tr>\n",
       "<tr><td>...</td><td>...</td><td>...</td><td>...</td><td>...</td><td>...</td><td>...</td></tr>\n",
       "<tr><td>uid://A001/X146a/Xa7</td><td>TP</td><td>218.21961403133002</td><td>141.10057282421485</td><td>512.0</td><td>25.84759115971509</td><td>F</td></tr>\n",
       "<tr><td>uid://A001/X146a/Xa7</td><td>TP</td><td>217.10236429982865</td><td>141.10046698796964</td><td>512.0</td><td>25.84759115971509</td><td>F</td></tr>\n",
       "<tr><td>uid://A001/X146a/Xa7</td><td>TP</td><td>231.21760263111585</td><td>141.15886329624206</td><td>1024.0</td><td>25.84759115971509</td><td>F</td></tr>\n",
       "<tr><td>uid://A001/X146a/Xa7</td><td>TP</td><td>219.9462644629654</td><td>141.1007339972586</td><td>512.0</td><td>25.84759115971509</td><td>F</td></tr>\n",
       "<tr><td>uid://A001/X146a/Xa7</td><td>TP</td><td>220.39550815436485</td><td>141.10077553718182</td><td>512.0</td><td>25.84759115971509</td><td>F</td></tr>\n",
       "<tr><td>uid://A001/X146a/Xa7</td><td>TP</td><td>217.23567250642822</td><td>141.10047967334737</td><td>512.0</td><td>25.84759115971509</td><td>F</td></tr>\n",
       "<tr><td>uid://A001/X146a/Xa7</td><td>TP</td><td>218.473046116404</td><td>141.10059668105112</td><td>512.0</td><td>25.84759115971509</td><td>F</td></tr>\n",
       "<tr><td>uid://A001/X146a/Xa7</td><td>TP</td><td>218.75674554674882</td><td>141.10062334370198</td><td>512.0</td><td>25.84759115971509</td><td>F</td></tr>\n",
       "<tr><td>uid://A001/X146a/Xa7</td><td>TP</td><td>219.55708284477333</td><td>141.1006979667634</td><td>512.0</td><td>25.84759115971509</td><td>F</td></tr>\n",
       "<tr><td>uid://A001/X146a/Xa7</td><td>TP</td><td>230.53494722834668</td><td>141.15897490940796</td><td>1024.0</td><td>25.84759115971509</td><td>F</td></tr>\n",
       "<tr><td>uid://A001/X14c2/X9a</td><td>TP</td><td>230.5725652282858</td><td>565.6133690264057</td><td>2048.0</td><td>25.74028822308344</td><td>F</td></tr>\n",
       "<tr><td>uid://A001/X14c2/X9a</td><td>TP</td><td>232.35379132821924</td><td>31380.35414479961</td><td>128.0</td><td>25.74028822308344</td><td>F</td></tr>\n",
       "<tr><td>uid://A001/X14c2/X9a</td><td>TP</td><td>220.43116887696064</td><td>563.1110468263852</td><td>2048.0</td><td>25.74028822308344</td><td>F</td></tr>\n",
       "<tr><td>uid://A001/X14c2/X9a</td><td>TP</td><td>219.5924069271213</td><td>563.1061820514429</td><td>2048.0</td><td>25.74028822308344</td><td>F</td></tr>\n",
       "<tr><td>uid://A001/X14c3/X123c</td><td>TP</td><td>233.6604381036611</td><td>31386.597515503523</td><td>128.0</td><td>25.77538410084441</td><td>F</td></tr>\n",
       "<tr><td>uid://A001/X14c3/X123c</td><td>TP</td><td>229.6641623880752</td><td>565.7440655078437</td><td>2048.0</td><td>25.77538410084441</td><td>F</td></tr>\n",
       "<tr><td>uid://A001/X14c3/X123c</td><td>TP</td><td>219.5622933616384</td><td>563.2307271314663</td><td>2048.0</td><td>25.77538410084441</td><td>F</td></tr>\n",
       "<tr><td>uid://A001/X14c3/X123c</td><td>TP</td><td>218.16941722361838</td><td>1123.8762986992833</td><td>2048.0</td><td>25.77538410084441</td><td>F</td></tr>\n",
       "</table></div>"
      ],
      "text/plain": [
       "<Table length=1939>\n",
       "    member_ous_uid     array      spw_freq        spw_specwidth    spw_nchan    s_resolution    is_mosaic\n",
       "        str22           str3      float64            float64        float64       float64          str1  \n",
       "---------------------- ----- ------------------ ------------------ --------- ------------------ ---------\n",
       " uid://A001/X14c3/X61b    TP  244.8958420797094 31375.263260995456     128.0  24.42088292236162         F\n",
       " uid://A001/X14c3/X61b    TP 230.10470525373535  972.2806791278714    4096.0  24.42088292236162         F\n",
       " uid://A001/X14c3/X61b    TP  231.9745826082978 31115.078538066395     128.0  24.42088292236162         F\n",
       " uid://A001/X14c3/X61b    TP  246.7856649655297 31374.285241760404     128.0  24.42088292236162         F\n",
       " uid://A001/X14c3/X615    TP 112.39773136835102 31526.326439925368     128.0 55.143705793363374         F\n",
       " uid://A001/X14c3/X615    TP 109.99943631422802  490.4794677676596    4096.0 55.143705793363374         F\n",
       " uid://A001/X14c3/X615    TP  99.52350563336553 30939.606073988827     128.0 55.143705793363374         F\n",
       " uid://A001/X14c3/X615    TP  98.79404727631369  30937.35008141915     128.0 55.143705793363374         F\n",
       "  uid://A001/X14d7/X9c    TP  332.4922718732816 1125.4203548734513    2048.0 17.218281724965387         F\n",
       "  uid://A001/X14d7/X9c    TP 343.49201232869626 1132.0971318572308    2048.0 17.218281724965387         F\n",
       "  uid://A001/X14d7/X9c    TP  345.7878914240955  60.57733224628705    1024.0 17.218281724965387         F\n",
       "  uid://A001/X14d7/X9c    TP 330.58035021832626 60.566140591343505    1024.0 17.218281724965387         F\n",
       "  uid://A001/X14d7/X9c    TP 330.58064872344124 60.566195280930316    1024.0  17.21826329916911         F\n",
       "  uid://A001/X14d7/X9c    TP  332.4925792536559 1125.4213952950163    2048.0  17.21826329916911         F\n",
       "  uid://A001/X14d7/X9c    TP 345.78820175132915 60.577386611394694    1024.0  17.21826329916911         F\n",
       "  uid://A001/X14d7/X9c    TP 343.49232935749325 1132.0981767356525    2048.0  17.21826329916911         F\n",
       "  uid://A001/X14d7/X90    TP 345.78639612987996   60.5772386136601    1024.0 17.218358465467354         F\n",
       "                   ...   ...                ...                ...       ...                ...       ...\n",
       "  uid://A001/X146a/Xa7    TP 218.21961403133002 141.10057282421485     512.0  25.84759115971509         F\n",
       "  uid://A001/X146a/Xa7    TP 217.10236429982865 141.10046698796964     512.0  25.84759115971509         F\n",
       "  uid://A001/X146a/Xa7    TP 231.21760263111585 141.15886329624206    1024.0  25.84759115971509         F\n",
       "  uid://A001/X146a/Xa7    TP  219.9462644629654  141.1007339972586     512.0  25.84759115971509         F\n",
       "  uid://A001/X146a/Xa7    TP 220.39550815436485 141.10077553718182     512.0  25.84759115971509         F\n",
       "  uid://A001/X146a/Xa7    TP 217.23567250642822 141.10047967334737     512.0  25.84759115971509         F\n",
       "  uid://A001/X146a/Xa7    TP   218.473046116404 141.10059668105112     512.0  25.84759115971509         F\n",
       "  uid://A001/X146a/Xa7    TP 218.75674554674882 141.10062334370198     512.0  25.84759115971509         F\n",
       "  uid://A001/X146a/Xa7    TP 219.55708284477333  141.1006979667634     512.0  25.84759115971509         F\n",
       "  uid://A001/X146a/Xa7    TP 230.53494722834668 141.15897490940796    1024.0  25.84759115971509         F\n",
       "  uid://A001/X14c2/X9a    TP  230.5725652282858  565.6133690264057    2048.0  25.74028822308344         F\n",
       "  uid://A001/X14c2/X9a    TP 232.35379132821924  31380.35414479961     128.0  25.74028822308344         F\n",
       "  uid://A001/X14c2/X9a    TP 220.43116887696064  563.1110468263852    2048.0  25.74028822308344         F\n",
       "  uid://A001/X14c2/X9a    TP  219.5924069271213  563.1061820514429    2048.0  25.74028822308344         F\n",
       "uid://A001/X14c3/X123c    TP  233.6604381036611 31386.597515503523     128.0  25.77538410084441         F\n",
       "uid://A001/X14c3/X123c    TP  229.6641623880752  565.7440655078437    2048.0  25.77538410084441         F\n",
       "uid://A001/X14c3/X123c    TP  219.5622933616384  563.2307271314663    2048.0  25.77538410084441         F\n",
       "uid://A001/X14c3/X123c    TP 218.16941722361838 1123.8762986992833    2048.0  25.77538410084441         F"
      ]
     },
     "execution_count": 8,
     "metadata": {},
     "output_type": "execute_result"
    }
   ],
   "source": [
    "idx = result2019['array'] == 'TP'\n",
    "result2019[idx]['member_ous_uid','array','spw_freq','spw_specwidth','spw_nchan','s_resolution','is_mosaic']"
   ]
  },
  {
   "cell_type": "code",
   "execution_count": 9,
   "id": "99afb396",
   "metadata": {},
   "outputs": [],
   "source": [
    "result2021 = Table.read('data/result_table_cycle8_with_calc_values_20220923.csv')"
   ]
  },
  {
   "cell_type": "code",
   "execution_count": 10,
   "id": "bea1778e",
   "metadata": {},
   "outputs": [
    {
     "data": {
      "text/plain": [
       "50107"
      ]
     },
     "execution_count": 10,
     "metadata": {},
     "output_type": "execute_result"
    }
   ],
   "source": [
    "len(result2021)"
   ]
  },
  {
   "cell_type": "code",
   "execution_count": 11,
   "id": "1a147df0",
   "metadata": {},
   "outputs": [],
   "source": [
    "# tp dump time\n",
    "tp_dump_time = Table.read('data/science_tp_schedblocks_params_from_bunyo.csv',encoding='utf-8-sig')"
   ]
  },
  {
   "cell_type": "code",
   "execution_count": 12,
   "id": "77d15b12",
   "metadata": {
    "scrolled": true
   },
   "outputs": [
    {
     "data": {
      "text/html": [
       "<div><i>Table length=20077</i>\n",
       "<table id=\"table140524628069344\" class=\"table-striped table-bordered table-condensed\">\n",
       "<thead><tr><th>OBSPROJECT_UID</th><th>SB_UID</th><th>SB_NAME</th><th>STANDARD_MODE</th><th>MODE_NAME</th><th>ARRAY</th><th>ESTIMATED_EXECUTION_TIME_PRJ</th><th>ESTIMATED_EXECUTION_TIME_PRJ_UNIT</th><th>REPRESENTATIVE_FREQUENCY</th><th>REPRESENTATIVE_FREQUENCY_UNIT</th><th>REQUIRED_RECIEVER_BANDS</th><th>REPRESENTATIVE_TARGET_REF</th><th>PRJ_CODE</th><th>CYCLE</th><th>EXECOUNT</th><th>SB_STATE</th><th>TARGET_ID</th><th>SPEC_REF</th><th>FIELD_REF</th><th>OBSERVING_PARAMETER_REF</th><th>SCIPARAM_NAME</th><th>SCIPARAM_REPRESENTATIVE_BANDWIDTH</th><th>SCIPARAM_REPRESENTATIVE_BANDWIDTH_UNIT</th><th>SCIPARAM_REPRESENTATIVE_FREQUENCY</th><th>SCIPARAM_REPRESENTATIVE_FREQUENCY_UNIT</th><th>SCIPARAM_SENSITIVITY_GOAL</th><th>SCIPARAM_SENSITIVITY_GOAL_UNIT</th><th>SCIPARAM_INTEGRATION_TIME</th><th>SCIPARAM_INTEGRATION_TIME_UNIT</th><th>SCIPARAM_SUB_SCAN_DURATION</th><th>SCIPARAM_SUB_SCAN_DURATION_UNIT</th><th>ACASPEC_INTEGRATION_DURATION</th><th>ACASPEC_INTEGRATION_DURATION_UNIT</th><th>ACASPEC_CHANNEL_AVERAGE_DURATION</th><th>ACASPEC_CHANNEL_AVERAGE_DURATION_UNIT</th><th>ACASPEC_ENABLE_180_DEGREE_WALSH_FUNCTION</th><th>ACASPEC_ENABLE_90_DEGREE_WALSH_FUNCTION</th><th>SUB_SCAN_DURATION (s)</th><th>INTEGRATION_DURATION (s)</th><th>Samples</th></tr></thead>\n",
       "<thead><tr><th>str22</th><th>str23</th><th>str33</th><th>str4</th><th>str20</th><th>str8</th><th>float64</th><th>str3</th><th>float64</th><th>str3</th><th>str28</th><th>str11</th><th>str14</th><th>str6</th><th>int64</th><th>str17</th><th>str11</th><th>str11</th><th>str11</th><th>str11</th><th>str37</th><th>float64</th><th>str3</th><th>float64</th><th>str3</th><th>float64</th><th>str3</th><th>float64</th><th>str3</th><th>float64</th><th>str1</th><th>float64</th><th>str2</th><th>float64</th><th>str2</th><th>str5</th><th>str5</th><th>float64</th><th>float64</th><th>int64</th></tr></thead>\n",
       "<tr><td>uid://A001/Xa0/X1258</td><td>uid://A002/X758152/X42</td><td>VV219_Science_TP_B3</td><td>true</td><td>Standard Single Dish</td><td>TP-Array</td><td>4.5</td><td>h</td><td>114.4199784</td><td>GHz</td><td>[&apos;ALMA_RB_03&apos;]</td><td>X1162338469</td><td>2012.1.00759.S</td><td>2012.1</td><td>3</td><td>ObservingTimedOut</td><td>X1162338469</td><td>X1447303509</td><td>X1950970087</td><td>X2056880778</td><td>Science Params</td><td>1.92</td><td>MHz</td><td>114.4199784</td><td>GHz</td><td>8.565950103</td><td>mJy</td><td>4.3368</td><td>min</td><td>20.016</td><td>s</td><td>0.144</td><td>s</td><td>0.144</td><td>s</td><td>false</td><td>false</td><td>20.016</td><td>0.144</td><td>139</td></tr>\n",
       "<tr><td>uid://A001/Xa0/X1258</td><td>uid://A002/X758152/X46</td><td>VV219_Science_TP_B7</td><td>true</td><td>Standard Single Dish</td><td>TP-Array</td><td>4.5</td><td>h</td><td>343.2424494</td><td>GHz</td><td>[&apos;ALMA_RB_07&apos;, &apos;ALMA_RB_06&apos;]</td><td>X1858323719</td><td>2012.1.00759.S</td><td>2012.1</td><td>3</td><td>ObservingTimedOut</td><td>X1858323719</td><td>X1775317541</td><td>X671993200</td><td>X867108706</td><td>Science Params</td><td>4.66</td><td>MHz</td><td>343.2424494</td><td>GHz</td><td>15.41713934</td><td>mJy</td><td>1.512</td><td>min</td><td>10.08</td><td>s</td><td>0.144</td><td>s</td><td>0.144</td><td>s</td><td>false</td><td>false</td><td>10.08</td><td>0.144</td><td>70</td></tr>\n",
       "<tr><td>uid://A001/Xa0/X1258</td><td>uid://A002/X758152/X4a</td><td>VV219_D1_Science_TP</td><td>true</td><td>Standard Single Dish</td><td>TP-Array</td><td>4.5</td><td>h</td><td>343.2424494</td><td>GHz</td><td>[&apos;ALMA_RB_07&apos;, &apos;ALMA_RB_06&apos;]</td><td>X1902151533</td><td>2012.1.00759.S</td><td>2012.1</td><td>3</td><td>ObservingTimedOut</td><td>X1902151533</td><td>X1777740274</td><td>X1008170695</td><td>X863167740</td><td>Science Params</td><td>5.724667853</td><td>MHz</td><td>343.2424494</td><td>GHz</td><td>15.41713934</td><td>mJy</td><td>1.68</td><td>min</td><td>10.08</td><td>s</td><td>0.144</td><td>s</td><td>0.144</td><td>s</td><td>false</td><td>false</td><td>10.08</td><td>0.144</td><td>70</td></tr>\n",
       "<tr><td>uid://A001/Xa0/Xf3f</td><td>uid://A002/X95bb93/X2</td><td>M74_c_06_TP</td><td>true</td><td>Standard Single Dish</td><td>TP-Array</td><td>1.5625</td><td>d</td><td>230.0348593</td><td>GHz</td><td>[&apos;ALMA_RB_06&apos;]</td><td>X1099822116</td><td>2012.1.00650.S</td><td>2012.1</td><td>25</td><td>FullyObserved</td><td>X1099822116</td><td>X1661884626</td><td>X747151669</td><td>X1313177120</td><td>Science Params</td><td>1.531278126</td><td>MHz</td><td>230.0348593</td><td>GHz</td><td>8.617898961</td><td>mJy</td><td>967.58</td><td>s</td><td>15.12</td><td>s</td><td>0.24</td><td>s</td><td>240.0</td><td>ms</td><td>false</td><td>false</td><td>15.12</td><td>0.24</td><td>63</td></tr>\n",
       "<tr><td>uid://A001/Xa0/Xf3f</td><td>uid://A002/X95bb93/X2</td><td>M74_c_06_TP</td><td>true</td><td>Standard Single Dish</td><td>TP-Array</td><td>1.5625</td><td>d</td><td>230.0348593</td><td>GHz</td><td>[&apos;ALMA_RB_06&apos;]</td><td>X1099822116</td><td>2012.1.00650.S</td><td>2012.1</td><td>25</td><td>FullyObserved</td><td>X1099822116</td><td>X1661884626</td><td>X747151669</td><td>X1313177120</td><td>Science Params</td><td>1.531278126</td><td>MHz</td><td>230.0348593</td><td>GHz</td><td>8.617898961</td><td>mJy</td><td>967.58</td><td>s</td><td>15.12</td><td>s</td><td>0.24</td><td>s</td><td>240.0</td><td>ms</td><td>false</td><td>false</td><td>15.12</td><td>0.24</td><td>63</td></tr>\n",
       "<tr><td>uid://A001/Xa0/Xf3f</td><td>uid://A002/X95bb93/X2</td><td>M74_c_06_TP</td><td>true</td><td>Standard Single Dish</td><td>TP-Array</td><td>1.5625</td><td>d</td><td>230.0348593</td><td>GHz</td><td>[&apos;ALMA_RB_06&apos;]</td><td>X1099822116</td><td>2012.1.00650.S</td><td>2012.1</td><td>25</td><td>FullyObserved</td><td>X1099822116</td><td>X1661884626</td><td>X747151669</td><td>X1313177120</td><td>Science Params</td><td>1.531278126</td><td>MHz</td><td>230.0348593</td><td>GHz</td><td>8.617898961</td><td>mJy</td><td>967.58</td><td>s</td><td>15.12</td><td>s</td><td>0.24</td><td>s</td><td>240.0</td><td>ms</td><td>false</td><td>false</td><td>15.12</td><td>0.24</td><td>63</td></tr>\n",
       "<tr><td>uid://A001/Xa0/Xf3f</td><td>uid://A002/X95bb93/X2</td><td>M74_c_06_TP</td><td>true</td><td>Standard Single Dish</td><td>TP-Array</td><td>1.5625</td><td>d</td><td>230.0348593</td><td>GHz</td><td>[&apos;ALMA_RB_06&apos;]</td><td>X1099822116</td><td>2012.1.00650.S</td><td>2012.1</td><td>25</td><td>FullyObserved</td><td>X1099822116</td><td>X1661884626</td><td>X747151669</td><td>X1313177120</td><td>Science Params</td><td>1.531278126</td><td>MHz</td><td>230.0348593</td><td>GHz</td><td>8.617898961</td><td>mJy</td><td>967.58</td><td>s</td><td>15.12</td><td>s</td><td>0.24</td><td>s</td><td>240.0</td><td>ms</td><td>false</td><td>false</td><td>15.12</td><td>0.24</td><td>63</td></tr>\n",
       "<tr><td>uid://A001/Xa0/X1b1</td><td>uid://A002/X996c88/X59</td><td>G0.25+0._b_06_TP</td><td>true</td><td>Standard Single Dish</td><td>TP-Array</td><td>9.0</td><td>h</td><td>251.5</td><td>GHz</td><td>[&apos;ALMA_RB_06&apos;]</td><td>X194278232</td><td>2012.1.00133.S</td><td>2012.1</td><td>6</td><td>FullyObserved</td><td>X194278232</td><td>X1539986854</td><td>X1665888076</td><td>X719372585</td><td>Science Params</td><td>0.9765625</td><td>MHz</td><td>251.5</td><td>GHz</td><td>19.55134682</td><td>mJy</td><td>961.532</td><td>s</td><td>15.264</td><td>s</td><td>0.288</td><td>s</td><td>288.0</td><td>ms</td><td>false</td><td>false</td><td>15.264</td><td>0.288</td><td>53</td></tr>\n",
       "<tr><td>uid://A001/Xa0/X1b1</td><td>uid://A002/X996c88/X59</td><td>G0.25+0._b_06_TP</td><td>true</td><td>Standard Single Dish</td><td>TP-Array</td><td>9.0</td><td>h</td><td>251.5</td><td>GHz</td><td>[&apos;ALMA_RB_06&apos;]</td><td>X194278232</td><td>2012.1.00133.S</td><td>2012.1</td><td>6</td><td>FullyObserved</td><td>X194278232</td><td>X1539986854</td><td>X1665888076</td><td>X719372585</td><td>Science Params</td><td>0.9765625</td><td>MHz</td><td>251.5</td><td>GHz</td><td>19.55134682</td><td>mJy</td><td>961.532</td><td>s</td><td>15.264</td><td>s</td><td>0.288</td><td>s</td><td>288.0</td><td>ms</td><td>false</td><td>false</td><td>15.264</td><td>0.288</td><td>53</td></tr>\n",
       "<tr><td>uid://A001/Xa0/X1b1</td><td>uid://A002/X996c88/X59</td><td>G0.25+0._b_06_TP</td><td>true</td><td>Standard Single Dish</td><td>TP-Array</td><td>9.0</td><td>h</td><td>251.5</td><td>GHz</td><td>[&apos;ALMA_RB_06&apos;]</td><td>X194278232</td><td>2012.1.00133.S</td><td>2012.1</td><td>6</td><td>FullyObserved</td><td>X194278232</td><td>X1539986854</td><td>X1665888076</td><td>X719372585</td><td>Science Params</td><td>0.9765625</td><td>MHz</td><td>251.5</td><td>GHz</td><td>19.55134682</td><td>mJy</td><td>961.532</td><td>s</td><td>15.264</td><td>s</td><td>0.288</td><td>s</td><td>288.0</td><td>ms</td><td>false</td><td>false</td><td>15.264</td><td>0.288</td><td>53</td></tr>\n",
       "<tr><td>uid://A001/Xa0/X1b1</td><td>uid://A002/X996c88/X59</td><td>G0.25+0._b_06_TP</td><td>true</td><td>Standard Single Dish</td><td>TP-Array</td><td>9.0</td><td>h</td><td>251.5</td><td>GHz</td><td>[&apos;ALMA_RB_06&apos;]</td><td>X194278232</td><td>2012.1.00133.S</td><td>2012.1</td><td>6</td><td>FullyObserved</td><td>X194278232</td><td>X1539986854</td><td>X1665888076</td><td>X719372585</td><td>Science Params</td><td>0.9765625</td><td>MHz</td><td>251.5</td><td>GHz</td><td>19.55134682</td><td>mJy</td><td>961.532</td><td>s</td><td>15.264</td><td>s</td><td>0.288</td><td>s</td><td>288.0</td><td>ms</td><td>false</td><td>false</td><td>15.264</td><td>0.288</td><td>53</td></tr>\n",
       "<tr><td>uid://A001/Xa0/X1270</td><td>uid://A002/X95de6f/X2</td><td>m83_c_03_TP</td><td>true</td><td>Standard Single Dish</td><td>TP-Array</td><td>24.0</td><td>h</td><td>115.0729707</td><td>GHz</td><td>[&apos;ALMA_RB_03&apos;]</td><td>X1726386245</td><td>2012.1.00762.S</td><td>2012.1</td><td>16</td><td>FullyObserved</td><td>X1726386245</td><td>X876444465</td><td>X878146500</td><td>X494259936</td><td>Science Params</td><td>1.0</td><td>MHz</td><td>115.0729707</td><td>GHz</td><td>11.72889064</td><td>mJy</td><td>846.62</td><td>s</td><td>20.16</td><td>s</td><td>0.448</td><td>s</td><td>448.0</td><td>ms</td><td>false</td><td>false</td><td>20.16</td><td>0.448</td><td>45</td></tr>\n",
       "<tr><td>uid://A001/Xa0/X1270</td><td>uid://A002/X95de6f/X2</td><td>m83_c_03_TP</td><td>true</td><td>Standard Single Dish</td><td>TP-Array</td><td>24.0</td><td>h</td><td>115.0729707</td><td>GHz</td><td>[&apos;ALMA_RB_03&apos;]</td><td>X1726386245</td><td>2012.1.00762.S</td><td>2012.1</td><td>16</td><td>FullyObserved</td><td>X1726386245</td><td>X876444465</td><td>X878146500</td><td>X494259936</td><td>Science Params</td><td>1.0</td><td>MHz</td><td>115.0729707</td><td>GHz</td><td>11.72889064</td><td>mJy</td><td>846.62</td><td>s</td><td>20.16</td><td>s</td><td>0.448</td><td>s</td><td>448.0</td><td>ms</td><td>false</td><td>false</td><td>20.16</td><td>0.448</td><td>45</td></tr>\n",
       "<tr><td>uid://A001/Xa0/X1270</td><td>uid://A002/X95de6f/X2</td><td>m83_c_03_TP</td><td>true</td><td>Standard Single Dish</td><td>TP-Array</td><td>24.0</td><td>h</td><td>115.0729707</td><td>GHz</td><td>[&apos;ALMA_RB_03&apos;]</td><td>X1726386245</td><td>2012.1.00762.S</td><td>2012.1</td><td>16</td><td>FullyObserved</td><td>X1726386245</td><td>X876444465</td><td>X878146500</td><td>X494259936</td><td>Science Params</td><td>1.0</td><td>MHz</td><td>115.0729707</td><td>GHz</td><td>11.72889064</td><td>mJy</td><td>846.62</td><td>s</td><td>20.16</td><td>s</td><td>0.448</td><td>s</td><td>448.0</td><td>ms</td><td>false</td><td>false</td><td>20.16</td><td>0.448</td><td>45</td></tr>\n",
       "<tr><td>uid://A001/Xa0/X1270</td><td>uid://A002/X95de6f/X2</td><td>m83_c_03_TP</td><td>true</td><td>Standard Single Dish</td><td>TP-Array</td><td>24.0</td><td>h</td><td>115.0729707</td><td>GHz</td><td>[&apos;ALMA_RB_03&apos;]</td><td>X1726386245</td><td>2012.1.00762.S</td><td>2012.1</td><td>16</td><td>FullyObserved</td><td>X1726386245</td><td>X876444465</td><td>X878146500</td><td>X494259936</td><td>Science Params</td><td>1.0</td><td>MHz</td><td>115.0729707</td><td>GHz</td><td>11.72889064</td><td>mJy</td><td>846.62</td><td>s</td><td>20.16</td><td>s</td><td>0.448</td><td>s</td><td>448.0</td><td>ms</td><td>false</td><td>false</td><td>20.16</td><td>0.448</td><td>45</td></tr>\n",
       "<tr><td>uid://A001/Xa0/X12af</td><td>uid://A001/X147/X312</td><td>Serpens__a_06_TP</td><td>true</td><td>Standard Single Dish</td><td>TP-Array</td><td>16.5</td><td>h</td><td>230.5818467</td><td>GHz</td><td>[&apos;ALMA_RB_06&apos;]</td><td>X43430566</td><td>2012.1.00769.S</td><td>2012.1</td><td>11</td><td>FullyObserved</td><td>X43430566</td><td>X1988838536</td><td>X2110345523</td><td>X29111721</td><td>Science Params</td><td>0.154939482</td><td>MHz</td><td>230.5818467</td><td>GHz</td><td>24.81477114</td><td>mJy</td><td>1092.86</td><td>s</td><td>15.84</td><td>s</td><td>0.352</td><td>s</td><td>352.0</td><td>ms</td><td>false</td><td>false</td><td>15.84</td><td>0.352</td><td>45</td></tr>\n",
       "<tr><td>uid://A001/Xa0/X12af</td><td>uid://A001/X147/X312</td><td>Serpens__a_06_TP</td><td>true</td><td>Standard Single Dish</td><td>TP-Array</td><td>16.5</td><td>h</td><td>230.5818467</td><td>GHz</td><td>[&apos;ALMA_RB_06&apos;]</td><td>X43430566</td><td>2012.1.00769.S</td><td>2012.1</td><td>11</td><td>FullyObserved</td><td>X43430566</td><td>X1988838536</td><td>X2110345523</td><td>X29111721</td><td>Science Params</td><td>0.154939482</td><td>MHz</td><td>230.5818467</td><td>GHz</td><td>24.81477114</td><td>mJy</td><td>1092.86</td><td>s</td><td>15.84</td><td>s</td><td>0.352</td><td>s</td><td>352.0</td><td>ms</td><td>false</td><td>false</td><td>15.84</td><td>0.352</td><td>45</td></tr>\n",
       "<tr><td>...</td><td>...</td><td>...</td><td>...</td><td>...</td><td>...</td><td>...</td><td>...</td><td>...</td><td>...</td><td>...</td><td>...</td><td>...</td><td>...</td><td>...</td><td>...</td><td>...</td><td>...</td><td>...</td><td>...</td><td>...</td><td>...</td><td>...</td><td>...</td><td>...</td><td>...</td><td>...</td><td>...</td><td>...</td><td>...</td><td>...</td><td>...</td><td>...</td><td>...</td><td>...</td><td>...</td><td>...</td><td>...</td><td>...</td><td>...</td></tr>\n",
       "<tr><td>uid://A001/X335e/X10e</td><td>uid://A001/X3571/X127</td><td>Sun_10_b_03_TP</td><td>true</td><td>Solar Single Dish</td><td>TP-Array</td><td>2.205</td><td>h</td><td>107.0</td><td>GHz</td><td>[&apos;ALMA_RB_03&apos;]</td><td>X2041224723</td><td>2022.A.00001.S</td><td>2022.A</td><td>7</td><td>Suspended</td><td>X1612066016</td><td>X2100996625</td><td>X1034729522</td><td>X73044619</td><td>Science Parameters (regional mapping)</td><td>7.5</td><td>GHz</td><td>107.0</td><td>GHz</td><td>286.9992472</td><td>mJy</td><td>6737.6</td><td>s</td><td>21.504</td><td>s</td><td>1.024</td><td>s</td><td>1024.0</td><td>ms</td><td>false</td><td>false</td><td>21.504</td><td>1.024</td><td>21</td></tr>\n",
       "<tr><td>uid://A001/X335e/X10e</td><td>uid://A001/X3571/X127</td><td>Sun_10_b_03_TP</td><td>true</td><td>Solar Single Dish</td><td>TP-Array</td><td>2.205</td><td>h</td><td>107.0</td><td>GHz</td><td>[&apos;ALMA_RB_03&apos;]</td><td>X2041224723</td><td>2022.A.00001.S</td><td>2022.A</td><td>7</td><td>Suspended</td><td>X2041224723</td><td>X1501381110</td><td>X174348784</td><td>X1681749023</td><td>Science parameters (full disc)</td><td>7.5</td><td>GHz</td><td>107.0</td><td>GHz</td><td>742.8534551</td><td>mJy</td><td>200.0</td><td>s</td><td>21.504</td><td>s</td><td>1.024</td><td>s</td><td>1024.0</td><td>ms</td><td>false</td><td>false</td><td>21.504</td><td>1.024</td><td>21</td></tr>\n",
       "<tr><td>uid://A001/X335e/X10e</td><td>uid://A001/X3571/Xfb</td><td>Sun_10_a_06_TP</td><td>true</td><td>Solar Single Dish</td><td>TP-Array</td><td>2.283333333</td><td>h</td><td>248.0</td><td>GHz</td><td>[&apos;ALMA_RB_06&apos;]</td><td>X1537134793</td><td>2022.A.00001.S</td><td>2022.A</td><td>1</td><td>FullyObserved</td><td>X506110093</td><td>X1475112245</td><td>X1095924467</td><td>X462669282</td><td>Science Parameters (regional mapping)</td><td>7.5</td><td>GHz</td><td>248.0</td><td>GHz</td><td>717.2535017</td><td>mJy</td><td>6788.0</td><td>s</td><td>15.456</td><td>s</td><td>0.736</td><td>s</td><td>736.0</td><td>ms</td><td>false</td><td>false</td><td>15.456</td><td>0.736</td><td>21</td></tr>\n",
       "<tr><td>uid://A001/X335e/X10e</td><td>uid://A001/X3571/Xfb</td><td>Sun_10_a_06_TP</td><td>true</td><td>Solar Single Dish</td><td>TP-Array</td><td>2.283333333</td><td>h</td><td>248.0</td><td>GHz</td><td>[&apos;ALMA_RB_06&apos;]</td><td>X1537134793</td><td>2022.A.00001.S</td><td>2022.A</td><td>1</td><td>FullyObserved</td><td>X1537134793</td><td>X25106966</td><td>X1075064738</td><td>X481889952</td><td>Science parameters (full disc)</td><td>7.5</td><td>GHz</td><td>248.0</td><td>GHz</td><td>1426.167808</td><td>mJy</td><td>200.0</td><td>s</td><td>15.456</td><td>s</td><td>0.736</td><td>s</td><td>736.0</td><td>ms</td><td>false</td><td>false</td><td>15.456</td><td>0.736</td><td>21</td></tr>\n",
       "<tr><td>uid://A001/X335e/X10e</td><td>uid://A001/X3571/Xfb</td><td>Sun_10_a_06_TP</td><td>true</td><td>Solar Single Dish</td><td>TP-Array</td><td>2.283333333</td><td>h</td><td>248.0</td><td>GHz</td><td>[&apos;ALMA_RB_06&apos;]</td><td>X1537134793</td><td>2022.A.00001.S</td><td>2022.A</td><td>1</td><td>FullyObserved</td><td>X1537134793</td><td>X25106966</td><td>X1075064738</td><td>X481889952</td><td>Science parameters (full disc)</td><td>7.5</td><td>GHz</td><td>248.0</td><td>GHz</td><td>1426.167808</td><td>mJy</td><td>200.0</td><td>s</td><td>15.456</td><td>s</td><td>0.736</td><td>s</td><td>736.0</td><td>ms</td><td>false</td><td>false</td><td>15.456</td><td>0.736</td><td>21</td></tr>\n",
       "<tr><td>uid://A001/X335e/X10e</td><td>uid://A001/X3571/Xfb</td><td>Sun_10_a_06_TP</td><td>true</td><td>Solar Single Dish</td><td>TP-Array</td><td>2.283333333</td><td>h</td><td>248.0</td><td>GHz</td><td>[&apos;ALMA_RB_06&apos;]</td><td>X1537134793</td><td>2022.A.00001.S</td><td>2022.A</td><td>1</td><td>FullyObserved</td><td>X1537134793</td><td>X25106966</td><td>X1075064738</td><td>X481889952</td><td>Science parameters (full disc)</td><td>7.5</td><td>GHz</td><td>248.0</td><td>GHz</td><td>1426.167808</td><td>mJy</td><td>200.0</td><td>s</td><td>15.456</td><td>s</td><td>0.736</td><td>s</td><td>736.0</td><td>ms</td><td>false</td><td>false</td><td>15.456</td><td>0.736</td><td>21</td></tr>\n",
       "<tr><td>uid://A001/X335e/X10e</td><td>uid://A001/X3571/Xfb</td><td>Sun_10_a_06_TP</td><td>true</td><td>Solar Single Dish</td><td>TP-Array</td><td>2.283333333</td><td>h</td><td>248.0</td><td>GHz</td><td>[&apos;ALMA_RB_06&apos;]</td><td>X1537134793</td><td>2022.A.00001.S</td><td>2022.A</td><td>1</td><td>FullyObserved</td><td>X506110093</td><td>X1475112245</td><td>X1095924467</td><td>X462669282</td><td>Science Parameters (regional mapping)</td><td>7.5</td><td>GHz</td><td>248.0</td><td>GHz</td><td>717.2535017</td><td>mJy</td><td>6788.0</td><td>s</td><td>15.456</td><td>s</td><td>0.736</td><td>s</td><td>736.0</td><td>ms</td><td>false</td><td>false</td><td>15.456</td><td>0.736</td><td>21</td></tr>\n",
       "<tr><td>uid://A001/X335e/X10e</td><td>uid://A001/X3571/Xfb</td><td>Sun_10_a_06_TP</td><td>true</td><td>Solar Single Dish</td><td>TP-Array</td><td>2.283333333</td><td>h</td><td>248.0</td><td>GHz</td><td>[&apos;ALMA_RB_06&apos;]</td><td>X1537134793</td><td>2022.A.00001.S</td><td>2022.A</td><td>1</td><td>FullyObserved</td><td>X506110093</td><td>X1475112245</td><td>X1095924467</td><td>X462669282</td><td>Science Parameters (regional mapping)</td><td>7.5</td><td>GHz</td><td>248.0</td><td>GHz</td><td>717.2535017</td><td>mJy</td><td>6788.0</td><td>s</td><td>15.456</td><td>s</td><td>0.736</td><td>s</td><td>736.0</td><td>ms</td><td>false</td><td>false</td><td>15.456</td><td>0.736</td><td>21</td></tr>\n",
       "<tr><td>uid://A001/X335e/X10e</td><td>uid://A001/X3571/Xfb</td><td>Sun_10_a_06_TP</td><td>true</td><td>Solar Single Dish</td><td>TP-Array</td><td>2.283333333</td><td>h</td><td>248.0</td><td>GHz</td><td>[&apos;ALMA_RB_06&apos;]</td><td>X1537134793</td><td>2022.A.00001.S</td><td>2022.A</td><td>1</td><td>FullyObserved</td><td>X506110093</td><td>X1475112245</td><td>X1095924467</td><td>X462669282</td><td>Science Parameters (regional mapping)</td><td>7.5</td><td>GHz</td><td>248.0</td><td>GHz</td><td>717.2535017</td><td>mJy</td><td>6788.0</td><td>s</td><td>15.456</td><td>s</td><td>0.736</td><td>s</td><td>736.0</td><td>ms</td><td>false</td><td>false</td><td>15.456</td><td>0.736</td><td>21</td></tr>\n",
       "<tr><td>uid://A001/X335e/X10e</td><td>uid://A001/X3571/Xfb</td><td>Sun_10_a_06_TP</td><td>true</td><td>Solar Single Dish</td><td>TP-Array</td><td>2.283333333</td><td>h</td><td>248.0</td><td>GHz</td><td>[&apos;ALMA_RB_06&apos;]</td><td>X1537134793</td><td>2022.A.00001.S</td><td>2022.A</td><td>1</td><td>FullyObserved</td><td>X1537134793</td><td>X25106966</td><td>X1075064738</td><td>X481889952</td><td>Science parameters (full disc)</td><td>7.5</td><td>GHz</td><td>248.0</td><td>GHz</td><td>1426.167808</td><td>mJy</td><td>200.0</td><td>s</td><td>15.456</td><td>s</td><td>0.736</td><td>s</td><td>736.0</td><td>ms</td><td>false</td><td>false</td><td>15.456</td><td>0.736</td><td>21</td></tr>\n",
       "<tr><td>uid://A001/X335e/X10e</td><td>uid://A001/X3571/X125</td><td>Sun_10_c_06_TP</td><td>true</td><td>Solar Single Dish</td><td>TP-Array</td><td>2.283333333</td><td>h</td><td>248.0</td><td>GHz</td><td>[&apos;ALMA_RB_06&apos;]</td><td>X911661108</td><td>2022.A.00001.S</td><td>2022.A</td><td>5</td><td>Waiting</td><td>X612832326</td><td>X391737495</td><td>X1650333434</td><td>X1509297210</td><td>Science Parameters (regional mapping)</td><td>7.5</td><td>GHz</td><td>248.0</td><td>GHz</td><td>492.8831195</td><td>mJy</td><td>6788.0</td><td>s</td><td>15.12</td><td>s</td><td>1.008</td><td>s</td><td>1008.0</td><td>ms</td><td>false</td><td>false</td><td>15.12</td><td>1.008</td><td>15</td></tr>\n",
       "<tr><td>uid://A001/X335e/X10e</td><td>uid://A001/X3571/X125</td><td>Sun_10_c_06_TP</td><td>true</td><td>Solar Single Dish</td><td>TP-Array</td><td>2.283333333</td><td>h</td><td>248.0</td><td>GHz</td><td>[&apos;ALMA_RB_06&apos;]</td><td>X911661108</td><td>2022.A.00001.S</td><td>2022.A</td><td>5</td><td>Waiting</td><td>X911661108</td><td>X398084563</td><td>X985528751</td><td>X2131317530</td><td>Science parameters (full disc)</td><td>7.5</td><td>GHz</td><td>248.0</td><td>GHz</td><td>1938.444474</td><td>mJy</td><td>200.0</td><td>s</td><td>15.12</td><td>s</td><td>1.008</td><td>s</td><td>1008.0</td><td>ms</td><td>false</td><td>false</td><td>15.12</td><td>1.008</td><td>15</td></tr>\n",
       "<tr><td>uid://A001/X335e/X10e</td><td>uid://A001/X3571/X125</td><td>Sun_10_c_06_TP</td><td>true</td><td>Solar Single Dish</td><td>TP-Array</td><td>2.283333333</td><td>h</td><td>248.0</td><td>GHz</td><td>[&apos;ALMA_RB_06&apos;]</td><td>X911661108</td><td>2022.A.00001.S</td><td>2022.A</td><td>5</td><td>Waiting</td><td>X911661108</td><td>X398084563</td><td>X985528751</td><td>X2131317530</td><td>Science parameters (full disc)</td><td>7.5</td><td>GHz</td><td>248.0</td><td>GHz</td><td>1938.444474</td><td>mJy</td><td>200.0</td><td>s</td><td>15.12</td><td>s</td><td>1.008</td><td>s</td><td>1008.0</td><td>ms</td><td>false</td><td>false</td><td>15.12</td><td>1.008</td><td>15</td></tr>\n",
       "<tr><td>uid://A001/X335e/X10e</td><td>uid://A001/X3571/X125</td><td>Sun_10_c_06_TP</td><td>true</td><td>Solar Single Dish</td><td>TP-Array</td><td>2.283333333</td><td>h</td><td>248.0</td><td>GHz</td><td>[&apos;ALMA_RB_06&apos;]</td><td>X911661108</td><td>2022.A.00001.S</td><td>2022.A</td><td>5</td><td>Waiting</td><td>X911661108</td><td>X398084563</td><td>X985528751</td><td>X2131317530</td><td>Science parameters (full disc)</td><td>7.5</td><td>GHz</td><td>248.0</td><td>GHz</td><td>1938.444474</td><td>mJy</td><td>200.0</td><td>s</td><td>15.12</td><td>s</td><td>1.008</td><td>s</td><td>1008.0</td><td>ms</td><td>false</td><td>false</td><td>15.12</td><td>1.008</td><td>15</td></tr>\n",
       "<tr><td>uid://A001/X335e/X10e</td><td>uid://A001/X3571/X125</td><td>Sun_10_c_06_TP</td><td>true</td><td>Solar Single Dish</td><td>TP-Array</td><td>2.283333333</td><td>h</td><td>248.0</td><td>GHz</td><td>[&apos;ALMA_RB_06&apos;]</td><td>X911661108</td><td>2022.A.00001.S</td><td>2022.A</td><td>5</td><td>Waiting</td><td>X612832326</td><td>X391737495</td><td>X1650333434</td><td>X1509297210</td><td>Science Parameters (regional mapping)</td><td>7.5</td><td>GHz</td><td>248.0</td><td>GHz</td><td>492.8831195</td><td>mJy</td><td>6788.0</td><td>s</td><td>15.12</td><td>s</td><td>1.008</td><td>s</td><td>1008.0</td><td>ms</td><td>false</td><td>false</td><td>15.12</td><td>1.008</td><td>15</td></tr>\n",
       "<tr><td>uid://A001/X335e/X10e</td><td>uid://A001/X3571/X125</td><td>Sun_10_c_06_TP</td><td>true</td><td>Solar Single Dish</td><td>TP-Array</td><td>2.283333333</td><td>h</td><td>248.0</td><td>GHz</td><td>[&apos;ALMA_RB_06&apos;]</td><td>X911661108</td><td>2022.A.00001.S</td><td>2022.A</td><td>5</td><td>Waiting</td><td>X612832326</td><td>X391737495</td><td>X1650333434</td><td>X1509297210</td><td>Science Parameters (regional mapping)</td><td>7.5</td><td>GHz</td><td>248.0</td><td>GHz</td><td>492.8831195</td><td>mJy</td><td>6788.0</td><td>s</td><td>15.12</td><td>s</td><td>1.008</td><td>s</td><td>1008.0</td><td>ms</td><td>false</td><td>false</td><td>15.12</td><td>1.008</td><td>15</td></tr>\n",
       "<tr><td>uid://A001/X335e/X10e</td><td>uid://A001/X3571/X125</td><td>Sun_10_c_06_TP</td><td>true</td><td>Solar Single Dish</td><td>TP-Array</td><td>2.283333333</td><td>h</td><td>248.0</td><td>GHz</td><td>[&apos;ALMA_RB_06&apos;]</td><td>X911661108</td><td>2022.A.00001.S</td><td>2022.A</td><td>5</td><td>Waiting</td><td>X911661108</td><td>X398084563</td><td>X985528751</td><td>X2131317530</td><td>Science parameters (full disc)</td><td>7.5</td><td>GHz</td><td>248.0</td><td>GHz</td><td>1938.444474</td><td>mJy</td><td>200.0</td><td>s</td><td>15.12</td><td>s</td><td>1.008</td><td>s</td><td>1008.0</td><td>ms</td><td>false</td><td>false</td><td>15.12</td><td>1.008</td><td>15</td></tr>\n",
       "<tr><td>uid://A001/X335e/X10e</td><td>uid://A001/X3571/X125</td><td>Sun_10_c_06_TP</td><td>true</td><td>Solar Single Dish</td><td>TP-Array</td><td>2.283333333</td><td>h</td><td>248.0</td><td>GHz</td><td>[&apos;ALMA_RB_06&apos;]</td><td>X911661108</td><td>2022.A.00001.S</td><td>2022.A</td><td>5</td><td>Waiting</td><td>X612832326</td><td>X391737495</td><td>X1650333434</td><td>X1509297210</td><td>Science Parameters (regional mapping)</td><td>7.5</td><td>GHz</td><td>248.0</td><td>GHz</td><td>492.8831195</td><td>mJy</td><td>6788.0</td><td>s</td><td>15.12</td><td>s</td><td>1.008</td><td>s</td><td>1008.0</td><td>ms</td><td>false</td><td>false</td><td>15.12</td><td>1.008</td><td>15</td></tr>\n",
       "</table></div>"
      ],
      "text/plain": [
       "<Table length=20077>\n",
       "    OBSPROJECT_UID            SB_UID               SB_NAME       ... INTEGRATION_DURATION (s) Samples\n",
       "        str22                 str23                 str33        ...         float64           int64 \n",
       "--------------------- ---------------------- ------------------- ... ------------------------ -------\n",
       " uid://A001/Xa0/X1258 uid://A002/X758152/X42 VV219_Science_TP_B3 ...                    0.144     139\n",
       " uid://A001/Xa0/X1258 uid://A002/X758152/X46 VV219_Science_TP_B7 ...                    0.144      70\n",
       " uid://A001/Xa0/X1258 uid://A002/X758152/X4a VV219_D1_Science_TP ...                    0.144      70\n",
       "  uid://A001/Xa0/Xf3f  uid://A002/X95bb93/X2         M74_c_06_TP ...                     0.24      63\n",
       "  uid://A001/Xa0/Xf3f  uid://A002/X95bb93/X2         M74_c_06_TP ...                     0.24      63\n",
       "  uid://A001/Xa0/Xf3f  uid://A002/X95bb93/X2         M74_c_06_TP ...                     0.24      63\n",
       "  uid://A001/Xa0/Xf3f  uid://A002/X95bb93/X2         M74_c_06_TP ...                     0.24      63\n",
       "  uid://A001/Xa0/X1b1 uid://A002/X996c88/X59    G0.25+0._b_06_TP ...                    0.288      53\n",
       "  uid://A001/Xa0/X1b1 uid://A002/X996c88/X59    G0.25+0._b_06_TP ...                    0.288      53\n",
       "  uid://A001/Xa0/X1b1 uid://A002/X996c88/X59    G0.25+0._b_06_TP ...                    0.288      53\n",
       "  uid://A001/Xa0/X1b1 uid://A002/X996c88/X59    G0.25+0._b_06_TP ...                    0.288      53\n",
       " uid://A001/Xa0/X1270  uid://A002/X95de6f/X2         m83_c_03_TP ...                    0.448      45\n",
       " uid://A001/Xa0/X1270  uid://A002/X95de6f/X2         m83_c_03_TP ...                    0.448      45\n",
       " uid://A001/Xa0/X1270  uid://A002/X95de6f/X2         m83_c_03_TP ...                    0.448      45\n",
       " uid://A001/Xa0/X1270  uid://A002/X95de6f/X2         m83_c_03_TP ...                    0.448      45\n",
       " uid://A001/Xa0/X12af   uid://A001/X147/X312    Serpens__a_06_TP ...                    0.352      45\n",
       " uid://A001/Xa0/X12af   uid://A001/X147/X312    Serpens__a_06_TP ...                    0.352      45\n",
       "                  ...                    ...                 ... ...                      ...     ...\n",
       "uid://A001/X335e/X10e  uid://A001/X3571/X127      Sun_10_b_03_TP ...                    1.024      21\n",
       "uid://A001/X335e/X10e  uid://A001/X3571/X127      Sun_10_b_03_TP ...                    1.024      21\n",
       "uid://A001/X335e/X10e   uid://A001/X3571/Xfb      Sun_10_a_06_TP ...                    0.736      21\n",
       "uid://A001/X335e/X10e   uid://A001/X3571/Xfb      Sun_10_a_06_TP ...                    0.736      21\n",
       "uid://A001/X335e/X10e   uid://A001/X3571/Xfb      Sun_10_a_06_TP ...                    0.736      21\n",
       "uid://A001/X335e/X10e   uid://A001/X3571/Xfb      Sun_10_a_06_TP ...                    0.736      21\n",
       "uid://A001/X335e/X10e   uid://A001/X3571/Xfb      Sun_10_a_06_TP ...                    0.736      21\n",
       "uid://A001/X335e/X10e   uid://A001/X3571/Xfb      Sun_10_a_06_TP ...                    0.736      21\n",
       "uid://A001/X335e/X10e   uid://A001/X3571/Xfb      Sun_10_a_06_TP ...                    0.736      21\n",
       "uid://A001/X335e/X10e   uid://A001/X3571/Xfb      Sun_10_a_06_TP ...                    0.736      21\n",
       "uid://A001/X335e/X10e  uid://A001/X3571/X125      Sun_10_c_06_TP ...                    1.008      15\n",
       "uid://A001/X335e/X10e  uid://A001/X3571/X125      Sun_10_c_06_TP ...                    1.008      15\n",
       "uid://A001/X335e/X10e  uid://A001/X3571/X125      Sun_10_c_06_TP ...                    1.008      15\n",
       "uid://A001/X335e/X10e  uid://A001/X3571/X125      Sun_10_c_06_TP ...                    1.008      15\n",
       "uid://A001/X335e/X10e  uid://A001/X3571/X125      Sun_10_c_06_TP ...                    1.008      15\n",
       "uid://A001/X335e/X10e  uid://A001/X3571/X125      Sun_10_c_06_TP ...                    1.008      15\n",
       "uid://A001/X335e/X10e  uid://A001/X3571/X125      Sun_10_c_06_TP ...                    1.008      15\n",
       "uid://A001/X335e/X10e  uid://A001/X3571/X125      Sun_10_c_06_TP ...                    1.008      15"
      ]
     },
     "execution_count": 12,
     "metadata": {},
     "output_type": "execute_result"
    }
   ],
   "source": [
    "tp_dump_time"
   ]
  },
  {
   "cell_type": "code",
   "execution_count": 13,
   "id": "b7b19600",
   "metadata": {},
   "outputs": [
    {
     "data": {
      "text/plain": [
       "<TableColumns names=('OBSPROJECT_UID','SB_UID','SB_NAME','STANDARD_MODE','MODE_NAME','ARRAY','ESTIMATED_EXECUTION_TIME_PRJ','ESTIMATED_EXECUTION_TIME_PRJ_UNIT','REPRESENTATIVE_FREQUENCY','REPRESENTATIVE_FREQUENCY_UNIT','REQUIRED_RECIEVER_BANDS','REPRESENTATIVE_TARGET_REF','PRJ_CODE','CYCLE','EXECOUNT','SB_STATE','TARGET_ID','SPEC_REF','FIELD_REF','OBSERVING_PARAMETER_REF','SCIPARAM_NAME','SCIPARAM_REPRESENTATIVE_BANDWIDTH','SCIPARAM_REPRESENTATIVE_BANDWIDTH_UNIT','SCIPARAM_REPRESENTATIVE_FREQUENCY','SCIPARAM_REPRESENTATIVE_FREQUENCY_UNIT','SCIPARAM_SENSITIVITY_GOAL','SCIPARAM_SENSITIVITY_GOAL_UNIT','SCIPARAM_INTEGRATION_TIME','SCIPARAM_INTEGRATION_TIME_UNIT','SCIPARAM_SUB_SCAN_DURATION','SCIPARAM_SUB_SCAN_DURATION_UNIT','ACASPEC_INTEGRATION_DURATION','ACASPEC_INTEGRATION_DURATION_UNIT','ACASPEC_CHANNEL_AVERAGE_DURATION','ACASPEC_CHANNEL_AVERAGE_DURATION_UNIT','ACASPEC_ENABLE_180_DEGREE_WALSH_FUNCTION','ACASPEC_ENABLE_90_DEGREE_WALSH_FUNCTION','SUB_SCAN_DURATION (s)','INTEGRATION_DURATION (s)','Samples')>"
      ]
     },
     "execution_count": 13,
     "metadata": {},
     "output_type": "execute_result"
    }
   ],
   "source": [
    "tp_dump_time.columns"
   ]
  },
  {
   "cell_type": "markdown",
   "id": "33e9993d",
   "metadata": {},
   "source": [
    "## munge TP data"
   ]
  },
  {
   "cell_type": "markdown",
   "id": "26e6a82e",
   "metadata": {},
   "source": [
    "probably should double-check some of the values, particularly imsize. easiest route might to be not deliver them."
   ]
  },
  {
   "cell_type": "code",
   "execution_count": 14,
   "id": "ec935b3c",
   "metadata": {},
   "outputs": [],
   "source": [
    "reload(wsu_db)\n",
    "result2019_tp = wsu_db.create_tp_database(result2019)"
   ]
  },
  {
   "cell_type": "code",
   "execution_count": 15,
   "id": "b85e0040",
   "metadata": {},
   "outputs": [
    {
     "data": {
      "text/plain": [
       "447"
      ]
     },
     "execution_count": 15,
     "metadata": {},
     "output_type": "execute_result"
    }
   ],
   "source": [
    "len(result2019_tp)"
   ]
  },
  {
   "cell_type": "code",
   "execution_count": 16,
   "id": "299ccabd",
   "metadata": {
    "scrolled": true
   },
   "outputs": [
    {
     "data": {
      "text/html": [
       "<div><i>QTable length=447</i>\n",
       "<table id=\"table140521966807552\" class=\"table-striped table-bordered table-condensed\">\n",
       "<thead><tr><th>mous</th><th>proposal_id</th><th>schedblock_name</th><th>array</th><th>science_keyword</th><th>scientific_category</th><th>band</th><th>ntarget</th><th>target_name</th><th>s_fov</th><th>s_resolution</th><th>mosaic</th><th>imsize</th><th>pb</th><th>cell</th><th>blc_npol</th><th>blc_nspw</th><th>blc_specwidth</th><th>blc_freq</th><th>blc_velres</th><th>blc_nchan_agg</th><th>blc_nchan_max</th><th>blc_bandwidth_max</th><th>blc_bandwidth_agg</th><th>wsu_freq</th><th>wsu_npol</th><th>wsu_bandwidth_early</th><th>wsu_bandwidth_later_4x</th><th>wsu_bandwidth_spw</th><th>wsu_nspw_early</th><th>wsu_nspw_later_4x</th><th>wsu_specwidth_stepped2</th><th>wsu_chanavg_stepped2</th><th>wsu_velres_stepped2</th><th>wsu_nchan_spw_stepped2</th><th>wsu_nchan_agg_stepped2_early</th><th>wsu_nchan_agg_stepped2_later_4x</th><th>wsu_frac_bw_early</th><th>wsu_frac_bw_later_4x</th><th>wsu_frac_bw_spw</th></tr></thead>\n",
       "<thead><tr><th></th><th></th><th></th><th></th><th></th><th></th><th></th><th></th><th></th><th>deg</th><th>arcsec</th><th></th><th></th><th>arcsec</th><th>arcsec</th><th></th><th></th><th>kHz</th><th>GHz</th><th>km / s</th><th></th><th></th><th>GHz</th><th>GHz</th><th>GHz</th><th></th><th>GHz</th><th>GHz</th><th>GHz</th><th></th><th></th><th>kHz</th><th></th><th>km / s</th><th></th><th></th><th></th><th></th><th></th><th></th></tr></thead>\n",
       "<thead><tr><th>str22</th><th>str14</th><th>str18</th><th>str3</th><th>str105</th><th>str27</th><th>int64</th><th>float64</th><th>str29</th><th>float64</th><th>float64</th><th>str1</th><th>float64</th><th>float64</th><th>float64</th><th>int64</th><th>int64</th><th>float64</th><th>float64</th><th>float64</th><th>float64</th><th>float64</th><th>float64</th><th>float64</th><th>float64</th><th>int64</th><th>float64</th><th>float64</th><th>float64</th><th>int64</th><th>int64</th><th>float64</th><th>float64</th><th>float64</th><th>float64</th><th>float64</th><th>float64</th><th>float64</th><th>float64</th><th>float64</th></tr></thead>\n",
       "<tr><td>uid://A001/X1465/X1004</td><td>2019.1.01326.S</td><td>Position_i_03_TP</td><td>TP</td><td>Outflows, jets, feedback, Galactic centres/nuclei</td><td>Active galaxies</td><td>3</td><td>2.0</td><td>Position_8</td><td>0.01746660497991503</td><td>62.87974867219725</td><td>F</td><td>10.0</td><td>0.0</td><td>12.575949734439451</td><td>2</td><td>4</td><td>965.2369862129896</td><td>92.45000352385364</td><td>2.977997071370687</td><td>14336.0</td><td>4096.0</td><td>2.0</td><td>8.0</td><td>92.45000352385364</td><td>2</td><td>16.0</td><td>32.0</td><td>2.0</td><td>8</td><td>16</td><td>607.5</td><td>45.0</td><td>1.969971998843775</td><td>3292.0</td><td>26336.0</td><td>52672.0</td><td>0.1730665158479062</td><td>0.3461330316958124</td><td>0.021633314480988274</td></tr>\n",
       "<tr><td>uid://A001/X1465/X1004</td><td>2019.1.01326.S</td><td>Position_i_03_TP</td><td>TP</td><td>Outflows, jets, feedback, Galactic centres/nuclei</td><td>Active galaxies</td><td>3</td><td>2.0</td><td>Position_8_OFF_0</td><td>0.017466475160180468</td><td>62.879291027141825</td><td>F</td><td>10.0</td><td>0.0</td><td>12.575858205428364</td><td>2</td><td>4</td><td>965.2440815398124</td><td>92.45068762960969</td><td>2.9779970713706874</td><td>14336.0</td><td>4096.0</td><td>2.0</td><td>8.0</td><td>92.45068762960969</td><td>2</td><td>16.0</td><td>32.0</td><td>2.0</td><td>8</td><td>16</td><td>607.5</td><td>45.0</td><td>1.9699574216760087</td><td>3292.0</td><td>26336.0</td><td>52672.0</td><td>0.17306523521059883</td><td>0.34613047042119766</td><td>0.021633154401324853</td></tr>\n",
       "<tr><td>uid://A001/X1465/X100a</td><td>2019.1.01326.S</td><td>Position_j_03_TP</td><td>TP</td><td>Outflows, jets, feedback, Galactic centres/nuclei</td><td>Active galaxies</td><td>3</td><td>2.0</td><td>Position_2</td><td>0.016034756409375246</td><td>57.725123073750886</td><td>F</td><td>10.0</td><td>0.0</td><td>11.545024614750178</td><td>2</td><td>4</td><td>1116.951125568381</td><td>100.949449109937</td><td>3.1672797407443896</td><td>8192.0</td><td>2048.0</td><td>2.0</td><td>8.0</td><td>100.949449109937</td><td>2</td><td>16.0</td><td>32.0</td><td>2.0</td><td>8</td><td>16</td><td>661.5</td><td>49.0</td><td>1.9644754153242723</td><td>3023.0</td><td>24184.0</td><td>48368.0</td><td>0.15849516902836702</td><td>0.31699033805673404</td><td>0.019811896128545878</td></tr>\n",
       "<tr><td>uid://A001/X1465/X100a</td><td>2019.1.01326.S</td><td>Position_j_03_TP</td><td>TP</td><td>Outflows, jets, feedback, Galactic centres/nuclei</td><td>Active galaxies</td><td>3</td><td>2.0</td><td>Position_2_OFF_0</td><td>0.016034618483757104</td><td>57.72462654152557</td><td>F</td><td>10.0</td><td>0.0</td><td>11.544925308305114</td><td>2</td><td>4</td><td>1116.9607332914827</td><td>100.95031745084475</td><td>3.1672797407443896</td><td>8192.0</td><td>2048.0</td><td>2.0</td><td>8.0</td><td>100.95031745084475</td><td>2</td><td>16.0</td><td>32.0</td><td>2.0</td><td>8</td><td>16</td><td>661.5</td><td>49.0</td><td>1.9644585175629925</td><td>3023.0</td><td>24184.0</td><td>48368.0</td><td>0.15849380570586916</td><td>0.3169876114117383</td><td>0.019811725713233645</td></tr>\n",
       "<tr><td>uid://A001/X1465/X1010</td><td>2019.1.01326.S</td><td>Position_k_03_TP</td><td>TP</td><td>Outflows, jets, feedback, Galactic centres/nuclei</td><td>Active galaxies</td><td>3</td><td>2.0</td><td>Position_3</td><td>0.01603475618782238</td><td>57.72512227616057</td><td>F</td><td>10.0</td><td>0.0</td><td>11.545024455232113</td><td>2</td><td>4</td><td>1116.9514798209739</td><td>100.9494499054753</td><td>3.1672806946595498</td><td>8192.0</td><td>2048.0</td><td>2.0</td><td>8.0</td><td>100.9494499054753</td><td>2</td><td>16.0</td><td>32.0</td><td>2.0</td><td>8</td><td>16</td><td>661.5</td><td>49.0</td><td>1.9644753998431037</td><td>3023.0</td><td>24184.0</td><td>48368.0</td><td>0.15849516777933617</td><td>0.31699033555867234</td><td>0.01981189597241702</td></tr>\n",
       "<tr><td>uid://A001/X1465/X1010</td><td>2019.1.01326.S</td><td>Position_k_03_TP</td><td>TP</td><td>Outflows, jets, feedback, Galactic centres/nuclei</td><td>Active galaxies</td><td>3</td><td>2.0</td><td>Position_3_OFF_0</td><td>0.016034610164500713</td><td>57.724596592202566</td><td>F</td><td>10.0</td><td>0.0</td><td>11.544919318440513</td><td>2</td><td>4</td><td>1116.9616516283045</td><td>100.9503692277316</td><td>3.1672806946595498</td><td>8192.0</td><td>2048.0</td><td>2.0</td><td>8.0</td><td>100.9503692277316</td><td>2</td><td>16.0</td><td>32.0</td><td>2.0</td><td>8</td><td>16</td><td>661.5</td><td>49.0</td><td>1.9644575100030683</td><td>3023.0</td><td>24184.0</td><td>48368.0</td><td>0.15849372441527154</td><td>0.3169874488305431</td><td>0.019811715551908943</td></tr>\n",
       "<tr><td>uid://A001/X1465/X1016</td><td>2019.1.01326.S</td><td>Position_l_03_TP</td><td>TP</td><td>Outflows, jets, feedback, Galactic centres/nuclei</td><td>Active galaxies</td><td>3</td><td>2.0</td><td>Position_4</td><td>0.016034756267408766</td><td>57.72512256267156</td><td>F</td><td>10.0</td><td>0.0</td><td>11.545024512534312</td><td>2</td><td>4</td><td>1116.9515071570222</td><td>100.9494493462686</td><td>3.167280787229905</td><td>8192.0</td><td>2048.0</td><td>2.0</td><td>8.0</td><td>100.9494493462686</td><td>2</td><td>16.0</td><td>32.0</td><td>2.0</td><td>8</td><td>16</td><td>661.5</td><td>49.0</td><td>1.9644754107252616</td><td>3023.0</td><td>24184.0</td><td>48368.0</td><td>0.1584951686573158</td><td>0.3169903373146316</td><td>0.019811896082164476</td></tr>\n",
       "<tr><td>uid://A001/X1465/X1016</td><td>2019.1.01326.S</td><td>Position_l_03_TP</td><td>TP</td><td>Outflows, jets, feedback, Galactic centres/nuclei</td><td>Active galaxies</td><td>3</td><td>2.0</td><td>Position_4_OFF_0</td><td>0.016034614475758546</td><td>57.72461211273077</td><td>F</td><td>10.0</td><td>0.0</td><td>11.544922422546154</td><td>2</td><td>4</td><td>1116.961384188843</td><td>100.95034202685238</td><td>3.1672807872299042</td><td>8192.0</td><td>2048.0</td><td>2.0</td><td>8.0</td><td>100.95034202685238</td><td>2</td><td>16.0</td><td>32.0</td><td>2.0</td><td>8</td><td>16</td><td>661.5</td><td>49.0</td><td>1.9644580393224385</td><td>3023.0</td><td>24184.0</td><td>48368.0</td><td>0.15849376712110658</td><td>0.31698753424221315</td><td>0.019811720890138322</td></tr>\n",
       "<tr><td>uid://A001/X1465/X101c</td><td>2019.1.01326.S</td><td>Position_m_03_TP</td><td>TP</td><td>Outflows, jets, feedback, Galactic centres/nuclei</td><td>Active galaxies</td><td>3</td><td>2.0</td><td>Position_5</td><td>0.016034751040991512</td><td>57.72510114638052</td><td>F</td><td>10.0</td><td>0.0</td><td>11.545020229276103</td><td>2</td><td>4</td><td>1116.9628150684964</td><td>100.94946376207741</td><td>3.167311613022231</td><td>8192.0</td><td>2048.0</td><td>2.0</td><td>8.0</td><td>100.94946376207741</td><td>2</td><td>16.0</td><td>32.0</td><td>2.0</td><td>8</td><td>16</td><td>661.5</td><td>49.0</td><td>1.9644751301937868</td><td>3023.0</td><td>24184.0</td><td>48368.0</td><td>0.15849514602385184</td><td>0.3169902920477037</td><td>0.01981189325298148</td></tr>\n",
       "<tr><td>uid://A001/X1465/X101c</td><td>2019.1.01326.S</td><td>Position_m_03_TP</td><td>TP</td><td>Outflows, jets, feedback, Galactic centres/nuclei</td><td>Active galaxies</td><td>3</td><td>2.0</td><td>Position_5_OFF_0</td><td>0.01603460303743846</td><td>57.724567331552414</td><td>F</td><td>10.0</td><td>0.0</td><td>11.544913466310483</td><td>2</td><td>4</td><td>1116.9731443154822</td><td>100.95039663543386</td><td>3.16731161302223</td><td>8192.0</td><td>2048.0</td><td>2.0</td><td>8.0</td><td>100.95039663543386</td><td>2</td><td>16.0</td><td>32.0</td><td>2.0</td><td>8</td><td>16</td><td>661.5</td><td>49.0</td><td>1.964456976659284</td><td>3023.0</td><td>24184.0</td><td>48368.0</td><td>0.15849368138474412</td><td>0.31698736276948825</td><td>0.019811710173093015</td></tr>\n",
       "<tr><td>uid://A001/X1465/X1022</td><td>2019.1.01326.S</td><td>Position_n_03_TP</td><td>TP</td><td>Outflows, jets, feedback, Galactic centres/nuclei</td><td>Active galaxies</td><td>3</td><td>2.0</td><td>Position_6</td><td>0.016034729876431033</td><td>57.72502755515172</td><td>F</td><td>10.0</td><td>0.0</td><td>11.545005511030343</td><td>2</td><td>4</td><td>1117.0110850653723</td><td>100.94951336874313</td><td>3.1674433472694363</td><td>8192.0</td><td>2048.0</td><td>2.0</td><td>8.0</td><td>100.94951336874313</td><td>2</td><td>16.0</td><td>32.0</td><td>2.0</td><td>8</td><td>16</td><td>661.5</td><td>49.0</td><td>1.9644741648492512</td><td>3023.0</td><td>24184.0</td><td>48368.0</td><td>0.15849506813921957</td><td>0.31699013627843914</td><td>0.019811883517402446</td></tr>\n",
       "<tr><td>uid://A001/X1465/X1022</td><td>2019.1.01326.S</td><td>Position_n_03_TP</td><td>TP</td><td>Outflows, jets, feedback, Galactic centres/nuclei</td><td>Active galaxies</td><td>3</td><td>2.0</td><td>Position_6_OFF_0</td><td>0.01603459488898758</td><td>57.72454160035529</td><td>F</td><td>10.0</td><td>0.0</td><td>11.544908320071057</td><td>2</td><td>4</td><td>1117.0204886375686</td><td>100.95036321352073</td><td>3.167443347269436</td><td>8192.0</td><td>2048.0</td><td>2.0</td><td>8.0</td><td>100.95036321352073</td><td>2</td><td>16.0</td><td>32.0</td><td>2.0</td><td>8</td><td>16</td><td>661.5</td><td>49.0</td><td>1.9644576270374339</td><td>3023.0</td><td>24184.0</td><td>48368.0</td><td>0.15849373385768115</td><td>0.3169874677153623</td><td>0.019811716732210143</td></tr>\n",
       "<tr><td>uid://A001/X1465/X1028</td><td>2019.1.01326.S</td><td>Position_o_03_TP</td><td>TP</td><td>Outflows, jets, feedback, Galactic centres/nuclei</td><td>Active galaxies</td><td>3</td><td>2.0</td><td>Position_7</td><td>0.016034712244107376</td><td>57.724964078786556</td><td>F</td><td>10.0</td><td>0.0</td><td>11.544992815757311</td><td>2</td><td>4</td><td>1117.0353664412348</td><td>100.94956662462923</td><td>3.1675092458243572</td><td>8192.0</td><td>2048.0</td><td>2.0</td><td>8.0</td><td>100.94956662462923</td><td>2</td><td>16.0</td><td>32.0</td><td>2.0</td><td>8</td><td>16</td><td>661.5</td><td>49.0</td><td>1.9644731284920298</td><td>3023.0</td><td>24184.0</td><td>48368.0</td><td>0.15849498452523708</td><td>0.31698996905047416</td><td>0.019811873065654635</td></tr>\n",
       "<tr><td>uid://A001/X1465/X1028</td><td>2019.1.01326.S</td><td>Position_o_03_TP</td><td>TP</td><td>Outflows, jets, feedback, Galactic centres/nuclei</td><td>Active galaxies</td><td>3</td><td>2.0</td><td>Position_7_OFF_0</td><td>0.01603459571810087</td><td>57.72454458516313</td><td>F</td><td>10.0</td><td>0.0</td><td>11.544908917032625</td><td>2</td><td>4</td><td>1117.0434841183296</td><td>100.95030024149519</td><td>3.1675092458243572</td><td>8192.0</td><td>2048.0</td><td>2.0</td><td>8.0</td><td>100.95030024149519</td><td>2</td><td>16.0</td><td>32.0</td><td>2.0</td><td>8</td><td>16</td><td>661.5</td><td>49.0</td><td>1.9644588524510838</td><td>3023.0</td><td>24184.0</td><td>48368.0</td><td>0.15849383272486067</td><td>0.31698766544972135</td><td>0.019811729090607584</td></tr>\n",
       "<tr><td>uid://A001/X1465/X102e</td><td>2019.1.01326.S</td><td>Position_p_03_TP</td><td>TP</td><td>Outflows, jets, feedback, Galactic centres/nuclei</td><td>Active galaxies</td><td>3</td><td>2.0</td><td>Position_7</td><td>0.016034728234049802</td><td>57.725021642579286</td><td>F</td><td>10.0</td><td>0.0</td><td>11.545004328515857</td><td>2</td><td>4</td><td>1117.023685894179</td><td>100.94951523547415</td><td>3.1674777037259685</td><td>8192.0</td><td>2048.0</td><td>2.0</td><td>8.0</td><td>100.94951523547415</td><td>2</td><td>16.0</td><td>32.0</td><td>2.0</td><td>8</td><td>16</td><td>661.5</td><td>49.0</td><td>1.9644741285227285</td><td>3023.0</td><td>24184.0</td><td>48368.0</td><td>0.1584950652083718</td><td>0.3169901304167436</td><td>0.019811883151046476</td></tr>\n",
       "<tr><td>uid://A001/X1465/X102e</td><td>2019.1.01326.S</td><td>Position_p_03_TP</td><td>TP</td><td>Outflows, jets, feedback, Galactic centres/nuclei</td><td>Active galaxies</td><td>3</td><td>2.0</td><td>Position_7_OFF_0</td><td>0.016034607145929185</td><td>57.724585725345065</td><td>F</td><td>10.0</td><td>0.0</td><td>11.544917145069013</td><td>2</td><td>4</td><td>1117.0321212925376</td><td>100.95027757327048</td><td>3.167477703725968</td><td>8192.0</td><td>2048.0</td><td>2.0</td><td>8.0</td><td>100.95027757327048</td><td>2</td><td>16.0</td><td>32.0</td><td>2.0</td><td>8</td><td>16</td><td>661.5</td><td>49.0</td><td>1.9644592935672032</td><td>3023.0</td><td>24184.0</td><td>48368.0</td><td>0.1584938683143994</td><td>0.3169877366287988</td><td>0.019811733539299926</td></tr>\n",
       "<tr><td>uid://A001/X1465/X1034</td><td>2019.1.01326.S</td><td>Position_a_06_TP</td><td>TP</td><td>Outflows, jets, feedback, Galactic centres/nuclei</td><td>Active galaxies</td><td>6</td><td>2.0</td><td>Position_1-R</td><td>0.006364193323420747</td><td>22.911043173765858</td><td>F</td><td>10.0</td><td>0.0</td><td>4.582208634753171</td><td>2</td><td>4</td><td>1124.1988702982894</td><td>253.98752337256443</td><td>1.2916011241200995</td><td>8192.0</td><td>2048.0</td><td>2.0</td><td>8.0</td><td>253.98752337256443</td><td>2</td><td>16.0</td><td>32.0</td><td>2.0</td><td>8</td><td>16</td><td>418.5</td><td>31.0</td><td>0.49397364881172917</td><td>4778.0</td><td>38224.0</td><td>76448.0</td><td>0.06299522034604126</td><td>0.1259904406920825</td><td>0.007874402543255157</td></tr>\n",
       "<tr><td>...</td><td>...</td><td>...</td><td>...</td><td>...</td><td>...</td><td>...</td><td>...</td><td>...</td><td>...</td><td>...</td><td>...</td><td>...</td><td>...</td><td>...</td><td>...</td><td>...</td><td>...</td><td>...</td><td>...</td><td>...</td><td>...</td><td>...</td><td>...</td><td>...</td><td>...</td><td>...</td><td>...</td><td>...</td><td>...</td><td>...</td><td>...</td><td>...</td><td>...</td><td>...</td><td>...</td><td>...</td><td>...</td><td>...</td><td>...</td></tr>\n",
       "<tr><td>uid://A001/X14d8/X329</td><td>2019.2.00169.S</td><td>eso417-1_a_03_TP</td><td>TP</td><td>Inter-Stellar Medium (ISM)/Molecular clouds</td><td>ISM and star formation</td><td>3</td><td>1.0</td><td>eso417-18</td><td>0.015182415021315112</td><td>54.656693776464316</td><td>F</td><td>10.0</td><td>0.0</td><td>10.931338755292863</td><td>2</td><td>4</td><td>1139.0654328190842</td><td>106.51408537486921</td><td>3.0096440756189713</td><td>2432.0</td><td>2048.0</td><td>2.0</td><td>8.0</td><td>106.51408537486921</td><td>2</td><td>16.0</td><td>32.0</td><td>2.0</td><td>8</td><td>16</td><td>702.0</td><td>52.0</td><td>1.975835447258643</td><td>2849.0</td><td>22792.0</td><td>45584.0</td><td>0.15021487480917728</td><td>0.30042974961835456</td><td>0.01877685935114716</td></tr>\n",
       "<tr><td>uid://A001/X14d8/X353</td><td>2019.2.00146.S</td><td>I19220_a_03_TP</td><td>TP</td><td>High-mass star formation</td><td>ISM and star formation</td><td>3</td><td>2.0</td><td>I19220</td><td>0.01728725554668614</td><td>62.22026631427968</td><td>F</td><td>10.0</td><td>0.0</td><td>12.444053262855933</td><td>2</td><td>6</td><td>61.00492284261767</td><td>91.50472365920028</td><td>0.20510884721583486</td><td>12288.0</td><td>4096.0</td><td>2.0</td><td>4.25</td><td>91.50472365920028</td><td>2</td><td>16.0</td><td>32.0</td><td>2.0</td><td>8</td><td>16</td><td>27.0</td><td>2.0</td><td>0.08845878160505381</td><td>74074.0</td><td>592592.0</td><td>1185184.0</td><td>0.17485436117582648</td><td>0.34970872235165296</td><td>0.02185679514697831</td></tr>\n",
       "<tr><td>uid://A001/X14d8/X353</td><td>2019.2.00146.S</td><td>I19220_a_03_TP</td><td>TP</td><td>High-mass star formation</td><td>ISM and star formation</td><td>3</td><td>2.0</td><td>I19220_OFF_0</td><td>0.01728714754749328</td><td>62.22007976648758</td><td>F</td><td>10.0</td><td>0.0</td><td>12.444015953297516</td><td>2</td><td>6</td><td>61.00522472514263</td><td>91.50511581631342</td><td>0.20510884721583486</td><td>12288.0</td><td>4096.0</td><td>2.0</td><td>4.25</td><td>91.50511581631342</td><td>2</td><td>16.0</td><td>32.0</td><td>2.0</td><td>8</td><td>16</td><td>27.0</td><td>2.0</td><td>0.08845840250340344</td><td>74074.0</td><td>592592.0</td><td>1185184.0</td><td>0.1748536118146472</td><td>0.3497072236292944</td><td>0.0218567014768309</td></tr>\n",
       "<tr><td>uid://A001/X14d8/X355</td><td>2019.2.00146.S</td><td>I19074_b_03_TP</td><td>TP</td><td>High-mass star formation</td><td>ISM and star formation</td><td>3</td><td>2.0</td><td>I19074</td><td>0.01728645962443032</td><td>62.23121683095011</td><td>F</td><td>10.0</td><td>0.0</td><td>12.44624336619002</td><td>2</td><td>6</td><td>61.01117741683907</td><td>91.49970613743447</td><td>0.20512012874528177</td><td>12288.0</td><td>4096.0</td><td>2.0</td><td>4.25</td><td>91.49970613743447</td><td>2</td><td>16.0</td><td>32.0</td><td>2.0</td><td>8</td><td>16</td><td>27.0</td><td>2.0</td><td>0.08846363237322366</td><td>74074.0</td><td>592592.0</td><td>1185184.0</td><td>0.17486394957342993</td><td>0.34972789914685987</td><td>0.02185799369667874</td></tr>\n",
       "<tr><td>uid://A001/X14d8/X355</td><td>2019.2.00146.S</td><td>I19074_b_03_TP</td><td>TP</td><td>High-mass star formation</td><td>ISM and star formation</td><td>3</td><td>2.0</td><td>I19074_OFF_0</td><td>0.01728635247851354</td><td>62.230819898019924</td><td>F</td><td>10.0</td><td>0.0</td><td>12.446163979603982</td><td>2</td><td>6</td><td>61.01156108166037</td><td>91.50028011768016</td><td>0.20512012874528174</td><td>12288.0</td><td>4096.0</td><td>2.0</td><td>4.25</td><td>91.50028011768016</td><td>2</td><td>16.0</td><td>32.0</td><td>2.0</td><td>8</td><td>16</td><td>27.0</td><td>2.0</td><td>0.08846307744183571</td><td>74074.0</td><td>592592.0</td><td>1185184.0</td><td>0.1748628526538073</td><td>0.3497257053076146</td><td>0.021857856581725912</td></tr>\n",
       "<tr><td>uid://A001/X14d8/X365</td><td>2019.2.00097.S</td><td>2MASS_J0_b_04_TP</td><td>TP</td><td>Low-mass star formation, Astrochemistry</td><td>ISM and star formation</td><td>4</td><td>2.0</td><td>2MASS_J08093135-3604035</td><td>0.010913891069215857</td><td>39.289582762197035</td><td>F</td><td>10.0</td><td>0.0</td><td>7.8579165524394075</td><td>2</td><td>5</td><td>61.023275256598296</td><td>147.90675744411084</td><td>0.12631776922879986</td><td>14336.0</td><td>4096.0</td><td>2.0</td><td>4.375</td><td>147.90675744411084</td><td>2</td><td>8.0</td><td>32.0</td><td>2.0</td><td>4</td><td>16</td><td>40.5</td><td>3.0</td><td>0.08208951882126084</td><td>49382.0</td><td>197528.0</td><td>790112.0</td><td>0.054088130510351703</td><td>0.21635252204140681</td><td>0.013522032627587926</td></tr>\n",
       "<tr><td>uid://A001/X14d8/X365</td><td>2019.2.00097.S</td><td>2MASS_J0_b_04_TP</td><td>TP</td><td>Low-mass star formation, Astrochemistry</td><td>ISM and star formation</td><td>4</td><td>2.0</td><td>2MASS_J08093135-3604035_OFF_0</td><td>0.0109137520915279</td><td>39.28949277727305</td><td>F</td><td>10.0</td><td>0.0</td><td>7.857898555454609</td><td>2</td><td>5</td><td>61.02340562244366</td><td>147.90707305830458</td><td>0.1263177692287999</td><td>14336.0</td><td>4096.0</td><td>2.0</td><td>4.375</td><td>147.90707305830458</td><td>2</td><td>8.0</td><td>32.0</td><td>2.0</td><td>4</td><td>16</td><td>40.5</td><td>3.0</td><td>0.08208934365305043</td><td>49382.0</td><td>197528.0</td><td>790112.0</td><td>0.054088015093412205</td><td>0.21635206037364882</td><td>0.013522003773353051</td></tr>\n",
       "<tr><td>uid://A001/X14d8/X47b</td><td>2019.2.00096.S</td><td>IC443_f_06_TP</td><td>TP</td><td>Inter-Stellar Medium (ISM)/Molecular clouds</td><td>ISM and star formation</td><td>6</td><td>2.0</td><td>IC443</td><td>0.007172222643270937</td><td>25.81998771388906</td><td>F</td><td>10.0</td><td>0.0</td><td>5.163997542777812</td><td>2</td><td>5</td><td>70.53282319354282</td><td>224.12034797610346</td><td>0.0917722770450033</td><td>8192.0</td><td>2048.0</td><td>2.0</td><td>2.5</td><td>224.12034797610346</td><td>2</td><td>16.0</td><td>32.0</td><td>2.0</td><td>8</td><td>16</td><td>67.5</td><td>5.0</td><td>0.09029073485624622</td><td>29629.0</td><td>237032.0</td><td>474064.0</td><td>0.0713902157679408</td><td>0.1427804315358816</td><td>0.0089237769709926</td></tr>\n",
       "<tr><td>uid://A001/X14d8/X47b</td><td>2019.2.00096.S</td><td>IC443_f_06_TP</td><td>TP</td><td>Inter-Stellar Medium (ISM)/Molecular clouds</td><td>ISM and star formation</td><td>6</td><td>2.0</td><td>IC443_OFF_0</td><td>0.007172208741365554</td><td>25.81992875176948</td><td>F</td><td>10.0</td><td>0.0</td><td>5.163985750353897</td><td>2</td><td>5</td><td>70.53297069765834</td><td>224.12081868801152</td><td>0.09177227704500329</td><td>8192.0</td><td>2048.0</td><td>2.0</td><td>2.5</td><td>224.12081868801152</td><td>2</td><td>16.0</td><td>32.0</td><td>2.0</td><td>8</td><td>16</td><td>67.5</td><td>5.0</td><td>0.09029054522226072</td><td>29629.0</td><td>237032.0</td><td>474064.0</td><td>0.07139006582995254</td><td>0.14278013165990508</td><td>0.008923758228744067</td></tr>\n",
       "<tr><td>uid://A001/X14d8/X493</td><td>2019.2.00096.S</td><td>IC443_j_06_TP</td><td>TP</td><td>Inter-Stellar Medium (ISM)/Molecular clouds</td><td>ISM and star formation</td><td>6</td><td>2.0</td><td>IC443</td><td>0.007172222470904777</td><td>25.819997748926834</td><td>F</td><td>10.0</td><td>0.0</td><td>5.163999549785368</td><td>2</td><td>5</td><td>70.53242692324964</td><td>224.1203330088344</td><td>0.09177182624583459</td><td>8192.0</td><td>2048.0</td><td>2.0</td><td>2.5</td><td>224.1203330088344</td><td>2</td><td>16.0</td><td>32.0</td><td>2.0</td><td>8</td><td>16</td><td>67.5</td><td>5.0</td><td>0.09029074088606827</td><td>29629.0</td><td>237032.0</td><td>474064.0</td><td>0.07139022053554289</td><td>0.14278044107108578</td><td>0.008923777566942862</td></tr>\n",
       "<tr><td>uid://A001/X14d8/X493</td><td>2019.2.00096.S</td><td>IC443_j_06_TP</td><td>TP</td><td>Inter-Stellar Medium (ISM)/Molecular clouds</td><td>ISM and star formation</td><td>6</td><td>2.0</td><td>IC443_OFF_0</td><td>0.007172216059261757</td><td>25.81990511765744</td><td>F</td><td>10.0</td><td>0.0</td><td>5.1639810235314885</td><td>2</td><td>5</td><td>70.53258563282704</td><td>224.12083269068336</td><td>0.0917718262458346</td><td>8192.0</td><td>2048.0</td><td>2.0</td><td>2.5</td><td>224.12083269068336</td><td>2</td><td>16.0</td><td>32.0</td><td>2.0</td><td>8</td><td>16</td><td>67.5</td><td>5.0</td><td>0.09029053958106771</td><td>29629.0</td><td>237032.0</td><td>474064.0</td><td>0.07139006136962793</td><td>0.14278012273925586</td><td>0.008923757671203491</td></tr>\n",
       "<tr><td>uid://A001/X14d8/X499</td><td>2019.2.00096.S</td><td>IC443_k_06_TP</td><td>TP</td><td>Inter-Stellar Medium (ISM)/Molecular clouds</td><td>ISM and star formation</td><td>6</td><td>2.0</td><td>IC443</td><td>0.007172222625573374</td><td>25.819990177803014</td><td>F</td><td>10.0</td><td>0.0</td><td>5.163998035560604</td><td>2</td><td>5</td><td>70.53285996257439</td><td>224.1203897476365</td><td>0.09177235820475248</td><td>8192.0</td><td>2048.0</td><td>2.0</td><td>2.5</td><td>224.1203897476365</td><td>2</td><td>16.0</td><td>32.0</td><td>2.0</td><td>8</td><td>16</td><td>67.5</td><td>5.0</td><td>0.09029071802786921</td><td>29629.0</td><td>237032.0</td><td>474064.0</td><td>0.07139020246224041</td><td>0.14278040492448082</td><td>0.008923775307780052</td></tr>\n",
       "<tr><td>uid://A001/X14d8/X499</td><td>2019.2.00096.S</td><td>IC443_k_06_TP</td><td>TP</td><td>Inter-Stellar Medium (ISM)/Molecular clouds</td><td>ISM and star formation</td><td>6</td><td>2.0</td><td>IC443_OFF_0</td><td>0.007172206219609523</td><td>25.81988637773073</td><td>F</td><td>10.0</td><td>0.0</td><td>5.163977275546146</td><td>2</td><td>5</td><td>70.53308240467307</td><td>224.12111301089317</td><td>0.09177235820475248</td><td>8192.0</td><td>2048.0</td><td>2.0</td><td>2.5</td><td>224.12111301089317</td><td>2</td><td>16.0</td><td>32.0</td><td>2.0</td><td>8</td><td>16</td><td>67.5</td><td>5.0</td><td>0.09029042664988216</td><td>29629.0</td><td>237032.0</td><td>474064.0</td><td>0.07138997207827688</td><td>0.14277994415655376</td><td>0.00892374650978461</td></tr>\n",
       "<tr><td>uid://A001/X14d8/X49f</td><td>2019.2.00096.S</td><td>IC443_l_06_TP</td><td>TP</td><td>Inter-Stellar Medium (ISM)/Molecular clouds</td><td>ISM and star formation</td><td>6</td><td>2.0</td><td>IC443</td><td>0.007172219683278554</td><td>25.819976856648545</td><td>F</td><td>10.0</td><td>0.0</td><td>5.163995371329709</td><td>2</td><td>5</td><td>70.54567071677698</td><td>224.12045434405917</td><td>0.09178909590987844</td><td>8192.0</td><td>2048.0</td><td>2.0</td><td>2.5</td><td>224.12045434405917</td><td>2</td><td>16.0</td><td>32.0</td><td>2.0</td><td>8</td><td>16</td><td>67.5</td><td>5.0</td><td>0.09029069200410712</td><td>29629.0</td><td>237032.0</td><td>474064.0</td><td>0.07139018188602078</td><td>0.14278036377204156</td><td>0.008923772735752598</td></tr>\n",
       "<tr><td>uid://A001/X14d8/X49f</td><td>2019.2.00096.S</td><td>IC443_l_06_TP</td><td>TP</td><td>Inter-Stellar Medium (ISM)/Molecular clouds</td><td>ISM and star formation</td><td>6</td><td>2.0</td><td>IC443_OFF_0</td><td>0.007172237356878458</td><td>25.81998067246011</td><td>F</td><td>10.0</td><td>0.0</td><td>5.163996134492022</td><td>2</td><td>5</td><td>70.54557870550774</td><td>224.12016299473515</td><td>0.09178909590987845</td><td>8192.0</td><td>2048.0</td><td>2.0</td><td>2.5</td><td>224.12016299473515</td><td>2</td><td>16.0</td><td>32.0</td><td>2.0</td><td>8</td><td>16</td><td>67.5</td><td>5.0</td><td>0.09029080937923181</td><td>29629.0</td><td>237032.0</td><td>474064.0</td><td>0.0713902746910632</td><td>0.1427805493821264</td><td>0.0089237843363829</td></tr>\n",
       "<tr><td>uid://A001/X14d8/Xb1</td><td>2019.2.00078.S</td><td>G208N2_a_07_TP</td><td>TP</td><td>Pre-stellar cores, Infra-Red Dark Clouds (IRDC), Astrochemistry</td><td>ISM and star formation</td><td>7</td><td>2.0</td><td>G208N2</td><td>0.004433108907085203</td><td>15.959191648131384</td><td>F</td><td>10.0</td><td>0.0</td><td>3.1918383296262767</td><td>2</td><td>4</td><td>122.02463583428866</td><td>365.79206030782996</td><td>0.09823216517174835</td><td>16384.0</td><td>4096.0</td><td>2.0</td><td>2.75</td><td>365.79206030782996</td><td>2</td><td>8.0</td><td>32.0</td><td>2.0</td><td>4</td><td>16</td><td>108.0</td><td>8.0</td><td>0.0885136365090944</td><td>18518.0</td><td>74072.0</td><td>296288.0</td><td>0.02187034894433644</td><td>0.08748139577734576</td><td>0.00546758723608411</td></tr>\n",
       "<tr><td>uid://A001/X14d8/Xb1</td><td>2019.2.00078.S</td><td>G208N2_a_07_TP</td><td>TP</td><td>Pre-stellar cores, Infra-Red Dark Clouds (IRDC), Astrochemistry</td><td>ISM and star formation</td><td>7</td><td>2.0</td><td>G208N2_OFF_0</td><td>0.004433102041126636</td><td>15.959166845476638</td><td>F</td><td>10.0</td><td>0.0</td><td>3.1918333690953276</td><td>2</td><td>4</td><td>122.02482514241491</td><td>365.79262801258943</td><td>0.09823216517174833</td><td>16384.0</td><td>4096.0</td><td>2.0</td><td>2.75</td><td>365.79262801258943</td><td>2</td><td>8.0</td><td>32.0</td><td>2.0</td><td>4</td><td>16</td><td>108.0</td><td>8.0</td><td>0.08851349913723702</td><td>18518.0</td><td>74072.0</td><td>296288.0</td><td>0.02187031500187769</td><td>0.08748126000751076</td><td>0.0054675787504694226</td></tr>\n",
       "</table></div>"
      ],
      "text/plain": [
       "<QTable length=447>\n",
       "         mous           proposal_id   schedblock_name  ... wsu_frac_bw_later_4x    wsu_frac_bw_spw   \n",
       "                                                       ...                                           \n",
       "        str22              str14           str18       ...       float64               float64       \n",
       "---------------------- -------------- ---------------- ... -------------------- ---------------------\n",
       "uid://A001/X1465/X1004 2019.1.01326.S Position_i_03_TP ...   0.3461330316958124  0.021633314480988274\n",
       "uid://A001/X1465/X1004 2019.1.01326.S Position_i_03_TP ...  0.34613047042119766  0.021633154401324853\n",
       "uid://A001/X1465/X100a 2019.1.01326.S Position_j_03_TP ...  0.31699033805673404  0.019811896128545878\n",
       "uid://A001/X1465/X100a 2019.1.01326.S Position_j_03_TP ...   0.3169876114117383  0.019811725713233645\n",
       "uid://A001/X1465/X1010 2019.1.01326.S Position_k_03_TP ...  0.31699033555867234   0.01981189597241702\n",
       "uid://A001/X1465/X1010 2019.1.01326.S Position_k_03_TP ...   0.3169874488305431  0.019811715551908943\n",
       "uid://A001/X1465/X1016 2019.1.01326.S Position_l_03_TP ...   0.3169903373146316  0.019811896082164476\n",
       "uid://A001/X1465/X1016 2019.1.01326.S Position_l_03_TP ...  0.31698753424221315  0.019811720890138322\n",
       "uid://A001/X1465/X101c 2019.1.01326.S Position_m_03_TP ...   0.3169902920477037   0.01981189325298148\n",
       "uid://A001/X1465/X101c 2019.1.01326.S Position_m_03_TP ...  0.31698736276948825  0.019811710173093015\n",
       "uid://A001/X1465/X1022 2019.1.01326.S Position_n_03_TP ...  0.31699013627843914  0.019811883517402446\n",
       "uid://A001/X1465/X1022 2019.1.01326.S Position_n_03_TP ...   0.3169874677153623  0.019811716732210143\n",
       "uid://A001/X1465/X1028 2019.1.01326.S Position_o_03_TP ...  0.31698996905047416  0.019811873065654635\n",
       "uid://A001/X1465/X1028 2019.1.01326.S Position_o_03_TP ...  0.31698766544972135  0.019811729090607584\n",
       "uid://A001/X1465/X102e 2019.1.01326.S Position_p_03_TP ...   0.3169901304167436  0.019811883151046476\n",
       "uid://A001/X1465/X102e 2019.1.01326.S Position_p_03_TP ...   0.3169877366287988  0.019811733539299926\n",
       "uid://A001/X1465/X1034 2019.1.01326.S Position_a_06_TP ...   0.1259904406920825  0.007874402543255157\n",
       "                   ...            ...              ... ...                  ...                   ...\n",
       " uid://A001/X14d8/X329 2019.2.00169.S eso417-1_a_03_TP ...  0.30042974961835456   0.01877685935114716\n",
       " uid://A001/X14d8/X353 2019.2.00146.S   I19220_a_03_TP ...  0.34970872235165296   0.02185679514697831\n",
       " uid://A001/X14d8/X353 2019.2.00146.S   I19220_a_03_TP ...   0.3497072236292944    0.0218567014768309\n",
       " uid://A001/X14d8/X355 2019.2.00146.S   I19074_b_03_TP ...  0.34972789914685987   0.02185799369667874\n",
       " uid://A001/X14d8/X355 2019.2.00146.S   I19074_b_03_TP ...   0.3497257053076146  0.021857856581725912\n",
       " uid://A001/X14d8/X365 2019.2.00097.S 2MASS_J0_b_04_TP ...  0.21635252204140681  0.013522032627587926\n",
       " uid://A001/X14d8/X365 2019.2.00097.S 2MASS_J0_b_04_TP ...  0.21635206037364882  0.013522003773353051\n",
       " uid://A001/X14d8/X47b 2019.2.00096.S    IC443_f_06_TP ...   0.1427804315358816    0.0089237769709926\n",
       " uid://A001/X14d8/X47b 2019.2.00096.S    IC443_f_06_TP ...  0.14278013165990508  0.008923758228744067\n",
       " uid://A001/X14d8/X493 2019.2.00096.S    IC443_j_06_TP ...  0.14278044107108578  0.008923777566942862\n",
       " uid://A001/X14d8/X493 2019.2.00096.S    IC443_j_06_TP ...  0.14278012273925586  0.008923757671203491\n",
       " uid://A001/X14d8/X499 2019.2.00096.S    IC443_k_06_TP ...  0.14278040492448082  0.008923775307780052\n",
       " uid://A001/X14d8/X499 2019.2.00096.S    IC443_k_06_TP ...  0.14277994415655376   0.00892374650978461\n",
       " uid://A001/X14d8/X49f 2019.2.00096.S    IC443_l_06_TP ...  0.14278036377204156  0.008923772735752598\n",
       " uid://A001/X14d8/X49f 2019.2.00096.S    IC443_l_06_TP ...   0.1427805493821264    0.0089237843363829\n",
       "  uid://A001/X14d8/Xb1 2019.2.00078.S   G208N2_a_07_TP ...  0.08748139577734576   0.00546758723608411\n",
       "  uid://A001/X14d8/Xb1 2019.2.00078.S   G208N2_a_07_TP ...  0.08748126000751076 0.0054675787504694226"
      ]
     },
     "execution_count": 16,
     "metadata": {},
     "output_type": "execute_result"
    }
   ],
   "source": [
    "result2019_tp"
   ]
  },
  {
   "cell_type": "markdown",
   "id": "c61fc35c",
   "metadata": {},
   "source": [
    "imsize is definitely wrong. For example, uid://A001/X1465/X1004.\tThe SD pipeline has it as 78,76, which is much larger than given here."
   ]
  },
  {
   "cell_type": "code",
   "execution_count": 17,
   "id": "b98d6714",
   "metadata": {
    "scrolled": true
   },
   "outputs": [
    {
     "data": {
      "text/plain": [
       "<TableColumns names=('mous','proposal_id','schedblock_name','array','science_keyword','scientific_category','band','ntarget','target_name','s_fov','s_resolution','mosaic','imsize','pb','cell','blc_npol','blc_nspw','blc_specwidth','blc_freq','blc_velres','blc_nchan_agg','blc_nchan_max','blc_bandwidth_max','blc_bandwidth_agg','wsu_freq','wsu_npol','wsu_bandwidth_early','wsu_bandwidth_later_4x','wsu_bandwidth_spw','wsu_nspw_early','wsu_nspw_later_4x','wsu_specwidth_stepped2','wsu_chanavg_stepped2','wsu_velres_stepped2','wsu_nchan_spw_stepped2','wsu_nchan_agg_stepped2_early','wsu_nchan_agg_stepped2_later_4x','wsu_frac_bw_early','wsu_frac_bw_later_4x','wsu_frac_bw_spw')>"
      ]
     },
     "execution_count": 17,
     "metadata": {},
     "output_type": "execute_result"
    }
   ],
   "source": [
    "result2019_tp.columns"
   ]
  },
  {
   "cell_type": "code",
   "execution_count": 18,
   "id": "9fa45859",
   "metadata": {
    "scrolled": true
   },
   "outputs": [
    {
     "data": {
      "text/html": [
       "<div><i>QTable length=136</i>\n",
       "<table id=\"table140524895061472\" class=\"table-striped table-bordered table-condensed\">\n",
       "<thead><tr><th>mous</th><th>ntarget</th><th>target_name</th></tr></thead>\n",
       "<thead><tr><th>str22</th><th>float64</th><th>str29</th></tr></thead>\n",
       "<tr><td>uid://A001/X1465/X1ffd</td><td>10.0</td><td>Ridge-N1</td></tr>\n",
       "<tr><td>uid://A001/X1465/X1ffd</td><td>10.0</td><td>Ridge-N1_OFF_0</td></tr>\n",
       "<tr><td>uid://A001/X1465/X1ffd</td><td>10.0</td><td>Ridge-N2</td></tr>\n",
       "<tr><td>uid://A001/X1465/X1ffd</td><td>10.0</td><td>Ridge-N2_OFF_0</td></tr>\n",
       "<tr><td>uid://A001/X1465/X1ffd</td><td>10.0</td><td>Ridge-N3</td></tr>\n",
       "<tr><td>uid://A001/X1465/X1ffd</td><td>10.0</td><td>Ridge-N3_OFF_0</td></tr>\n",
       "<tr><td>uid://A001/X1465/X1ffd</td><td>10.0</td><td>Ridge-N4</td></tr>\n",
       "<tr><td>uid://A001/X1465/X1ffd</td><td>10.0</td><td>Ridge-N4_OFF_0</td></tr>\n",
       "<tr><td>uid://A001/X1465/X1ffd</td><td>10.0</td><td>Ridge-N5</td></tr>\n",
       "<tr><td>uid://A001/X1465/X1ffd</td><td>10.0</td><td>Ridge-N5_OFF_0</td></tr>\n",
       "<tr><td>uid://A001/X1465/X2005</td><td>10.0</td><td>Ridge-M1</td></tr>\n",
       "<tr><td>uid://A001/X1465/X2005</td><td>10.0</td><td>Ridge-M1_OFF_0</td></tr>\n",
       "<tr><td>uid://A001/X1465/X2005</td><td>10.0</td><td>Ridge-M2</td></tr>\n",
       "<tr><td>uid://A001/X1465/X2005</td><td>10.0</td><td>Ridge-M2_OFF_0</td></tr>\n",
       "<tr><td>uid://A001/X1465/X2005</td><td>10.0</td><td>Ridge-M3</td></tr>\n",
       "<tr><td>uid://A001/X1465/X2005</td><td>10.0</td><td>Ridge-M3_OFF_0</td></tr>\n",
       "<tr><td>uid://A001/X1465/X2005</td><td>10.0</td><td>Ridge-M4</td></tr>\n",
       "<tr><td>...</td><td>...</td><td>...</td></tr>\n",
       "<tr><td>uid://A001/X14c3/Xc43</td><td>8.0</td><td>G335.78+0.17_A</td></tr>\n",
       "<tr><td>uid://A001/X14c3/Xc43</td><td>8.0</td><td>G335.78+0.17_A_OFF_0</td></tr>\n",
       "<tr><td>uid://A001/X14c3/Xc53</td><td>8.0</td><td>G328.25-0.53_A</td></tr>\n",
       "<tr><td>uid://A001/X14c3/Xc53</td><td>8.0</td><td>G328.25-0.53_A_OFF_0</td></tr>\n",
       "<tr><td>uid://A001/X14c3/Xc53</td><td>8.0</td><td>G333.46-0.16_A</td></tr>\n",
       "<tr><td>uid://A001/X14c3/Xc53</td><td>8.0</td><td>G333.46-0.16_A_OFF_0</td></tr>\n",
       "<tr><td>uid://A001/X14c3/Xc53</td><td>8.0</td><td>G335.58-0.29_A</td></tr>\n",
       "<tr><td>uid://A001/X14c3/Xc53</td><td>8.0</td><td>G335.58-0.29_A_OFF_0</td></tr>\n",
       "<tr><td>uid://A001/X14c3/Xc53</td><td>8.0</td><td>G335.78+0.17_A</td></tr>\n",
       "<tr><td>uid://A001/X14c3/Xc53</td><td>8.0</td><td>G335.78+0.17_A_OFF_0</td></tr>\n",
       "<tr><td>uid://A001/X14d7/Xbe</td><td>8.0</td><td>G328.25-0.53_A</td></tr>\n",
       "<tr><td>uid://A001/X14d7/Xbe</td><td>8.0</td><td>G328.25-0.53_A_OFF_0</td></tr>\n",
       "<tr><td>uid://A001/X14d7/Xbe</td><td>8.0</td><td>G333.46-0.16_A</td></tr>\n",
       "<tr><td>uid://A001/X14d7/Xbe</td><td>8.0</td><td>G333.46-0.16_A_OFF_0</td></tr>\n",
       "<tr><td>uid://A001/X14d7/Xbe</td><td>8.0</td><td>G335.58-0.29_A</td></tr>\n",
       "<tr><td>uid://A001/X14d7/Xbe</td><td>8.0</td><td>G335.58-0.29_A_OFF_0</td></tr>\n",
       "<tr><td>uid://A001/X14d7/Xbe</td><td>8.0</td><td>G335.78+0.17_A</td></tr>\n",
       "<tr><td>uid://A001/X14d7/Xbe</td><td>8.0</td><td>G335.78+0.17_A_OFF_0</td></tr>\n",
       "</table></div>"
      ],
      "text/plain": [
       "<QTable length=136>\n",
       "         mous          ntarget     target_name     \n",
       "        str22          float64        str29        \n",
       "---------------------- ------- --------------------\n",
       "uid://A001/X1465/X1ffd    10.0             Ridge-N1\n",
       "uid://A001/X1465/X1ffd    10.0       Ridge-N1_OFF_0\n",
       "uid://A001/X1465/X1ffd    10.0             Ridge-N2\n",
       "uid://A001/X1465/X1ffd    10.0       Ridge-N2_OFF_0\n",
       "uid://A001/X1465/X1ffd    10.0             Ridge-N3\n",
       "uid://A001/X1465/X1ffd    10.0       Ridge-N3_OFF_0\n",
       "uid://A001/X1465/X1ffd    10.0             Ridge-N4\n",
       "uid://A001/X1465/X1ffd    10.0       Ridge-N4_OFF_0\n",
       "uid://A001/X1465/X1ffd    10.0             Ridge-N5\n",
       "uid://A001/X1465/X1ffd    10.0       Ridge-N5_OFF_0\n",
       "uid://A001/X1465/X2005    10.0             Ridge-M1\n",
       "uid://A001/X1465/X2005    10.0       Ridge-M1_OFF_0\n",
       "uid://A001/X1465/X2005    10.0             Ridge-M2\n",
       "uid://A001/X1465/X2005    10.0       Ridge-M2_OFF_0\n",
       "uid://A001/X1465/X2005    10.0             Ridge-M3\n",
       "uid://A001/X1465/X2005    10.0       Ridge-M3_OFF_0\n",
       "uid://A001/X1465/X2005    10.0             Ridge-M4\n",
       "                   ...     ...                  ...\n",
       " uid://A001/X14c3/Xc43     8.0       G335.78+0.17_A\n",
       " uid://A001/X14c3/Xc43     8.0 G335.78+0.17_A_OFF_0\n",
       " uid://A001/X14c3/Xc53     8.0       G328.25-0.53_A\n",
       " uid://A001/X14c3/Xc53     8.0 G328.25-0.53_A_OFF_0\n",
       " uid://A001/X14c3/Xc53     8.0       G333.46-0.16_A\n",
       " uid://A001/X14c3/Xc53     8.0 G333.46-0.16_A_OFF_0\n",
       " uid://A001/X14c3/Xc53     8.0       G335.58-0.29_A\n",
       " uid://A001/X14c3/Xc53     8.0 G335.58-0.29_A_OFF_0\n",
       " uid://A001/X14c3/Xc53     8.0       G335.78+0.17_A\n",
       " uid://A001/X14c3/Xc53     8.0 G335.78+0.17_A_OFF_0\n",
       "  uid://A001/X14d7/Xbe     8.0       G328.25-0.53_A\n",
       "  uid://A001/X14d7/Xbe     8.0 G328.25-0.53_A_OFF_0\n",
       "  uid://A001/X14d7/Xbe     8.0       G333.46-0.16_A\n",
       "  uid://A001/X14d7/Xbe     8.0 G333.46-0.16_A_OFF_0\n",
       "  uid://A001/X14d7/Xbe     8.0       G335.58-0.29_A\n",
       "  uid://A001/X14d7/Xbe     8.0 G335.58-0.29_A_OFF_0\n",
       "  uid://A001/X14d7/Xbe     8.0       G335.78+0.17_A\n",
       "  uid://A001/X14d7/Xbe     8.0 G335.78+0.17_A_OFF_0"
      ]
     },
     "execution_count": 18,
     "metadata": {},
     "output_type": "execute_result"
    }
   ],
   "source": [
    "idx = result2019_tp['ntarget'] > 3\n",
    "result2019_tp[idx]['mous','ntarget','target_name']"
   ]
  },
  {
   "cell_type": "markdown",
   "id": "c8195099",
   "metadata": {},
   "source": [
    "looks like the offs are a separate source."
   ]
  },
  {
   "cell_type": "code",
   "execution_count": 19,
   "id": "d881a6d4",
   "metadata": {},
   "outputs": [],
   "source": [
    "reload(wsu_db)\n",
    "result2021_tp = wsu_db.create_tp_database(result2021)"
   ]
  },
  {
   "cell_type": "code",
   "execution_count": 20,
   "id": "2575dfd7",
   "metadata": {
    "scrolled": false
   },
   "outputs": [
    {
     "data": {
      "text/plain": [
       "515"
      ]
     },
     "execution_count": 20,
     "metadata": {},
     "output_type": "execute_result"
    }
   ],
   "source": [
    "len(result2021_tp)"
   ]
  },
  {
   "cell_type": "markdown",
   "id": "884d3362",
   "metadata": {},
   "source": [
    "## munge dump time data base"
   ]
  },
  {
   "cell_type": "code",
   "execution_count": 21,
   "id": "10a1aa51",
   "metadata": {
    "scrolled": true
   },
   "outputs": [
    {
     "data": {
      "text/plain": [
       "<TableColumns names=('OBSPROJECT_UID','SB_UID','SB_NAME','STANDARD_MODE','MODE_NAME','ARRAY','ESTIMATED_EXECUTION_TIME_PRJ','ESTIMATED_EXECUTION_TIME_PRJ_UNIT','REPRESENTATIVE_FREQUENCY','REPRESENTATIVE_FREQUENCY_UNIT','REQUIRED_RECIEVER_BANDS','REPRESENTATIVE_TARGET_REF','PRJ_CODE','CYCLE','EXECOUNT','SB_STATE','TARGET_ID','SPEC_REF','FIELD_REF','OBSERVING_PARAMETER_REF','SCIPARAM_NAME','SCIPARAM_REPRESENTATIVE_BANDWIDTH','SCIPARAM_REPRESENTATIVE_BANDWIDTH_UNIT','SCIPARAM_REPRESENTATIVE_FREQUENCY','SCIPARAM_REPRESENTATIVE_FREQUENCY_UNIT','SCIPARAM_SENSITIVITY_GOAL','SCIPARAM_SENSITIVITY_GOAL_UNIT','SCIPARAM_INTEGRATION_TIME','SCIPARAM_INTEGRATION_TIME_UNIT','SCIPARAM_SUB_SCAN_DURATION','SCIPARAM_SUB_SCAN_DURATION_UNIT','ACASPEC_INTEGRATION_DURATION','ACASPEC_INTEGRATION_DURATION_UNIT','ACASPEC_CHANNEL_AVERAGE_DURATION','ACASPEC_CHANNEL_AVERAGE_DURATION_UNIT','ACASPEC_ENABLE_180_DEGREE_WALSH_FUNCTION','ACASPEC_ENABLE_90_DEGREE_WALSH_FUNCTION','SUB_SCAN_DURATION (s)','INTEGRATION_DURATION (s)','Samples')>"
      ]
     },
     "execution_count": 21,
     "metadata": {},
     "output_type": "execute_result"
    }
   ],
   "source": [
    "tp_dump_time.columns"
   ]
  },
  {
   "cell_type": "code",
   "execution_count": 22,
   "id": "75cfa3b3",
   "metadata": {
    "scrolled": false
   },
   "outputs": [],
   "source": [
    "reload(wsu_db)\n",
    "tp_dump_time_sb = wsu_db.aggregate_tdump_db(tp_dump_time)"
   ]
  },
  {
   "cell_type": "markdown",
   "id": "ff321b3c",
   "metadata": {},
   "source": [
    "## add dump time"
   ]
  },
  {
   "cell_type": "code",
   "execution_count": 23,
   "id": "a4cf63a2",
   "metadata": {},
   "outputs": [
    {
     "data": {
      "text/plain": [
       "<TableColumns names=('proposal_id','schedblock_name','CYCLE','ESTIMATED_EXECUTION_TIME_PRJ','ESTIMATED_EXECUTION_TIME_PRJ_UNIT','ACASPEC_INTEGRATION_DURATION','EXECOUNT','N_TDUMP')>"
      ]
     },
     "execution_count": 23,
     "metadata": {},
     "output_type": "execute_result"
    }
   ],
   "source": [
    "tp_dump_time_sb.columns"
   ]
  },
  {
   "cell_type": "code",
   "execution_count": 24,
   "id": "b3a8b731",
   "metadata": {},
   "outputs": [],
   "source": [
    "result2019_tp_dump = join(result2019_tp,tp_dump_time_sb,join_type='left')"
   ]
  },
  {
   "cell_type": "code",
   "execution_count": 25,
   "id": "1419756e",
   "metadata": {
    "scrolled": true
   },
   "outputs": [
    {
     "data": {
      "text/plain": [
       "<TableColumns names=('mous','proposal_id','schedblock_name','array','science_keyword','scientific_category','band','ntarget','target_name','s_fov','s_resolution','mosaic','imsize','pb','cell','blc_npol','blc_nspw','blc_specwidth','blc_freq','blc_velres','blc_nchan_agg','blc_nchan_max','blc_bandwidth_max','blc_bandwidth_agg','wsu_freq','wsu_npol','wsu_bandwidth_early','wsu_bandwidth_later_4x','wsu_bandwidth_spw','wsu_nspw_early','wsu_nspw_later_4x','wsu_specwidth_stepped2','wsu_chanavg_stepped2','wsu_velres_stepped2','wsu_nchan_spw_stepped2','wsu_nchan_agg_stepped2_early','wsu_nchan_agg_stepped2_later_4x','wsu_frac_bw_early','wsu_frac_bw_later_4x','wsu_frac_bw_spw','CYCLE','ESTIMATED_EXECUTION_TIME_PRJ','ESTIMATED_EXECUTION_TIME_PRJ_UNIT','ACASPEC_INTEGRATION_DURATION','EXECOUNT','N_TDUMP')>"
      ]
     },
     "execution_count": 25,
     "metadata": {},
     "output_type": "execute_result"
    }
   ],
   "source": [
    "result2019_tp_dump.columns"
   ]
  },
  {
   "cell_type": "code",
   "execution_count": 26,
   "id": "28e2c0d4",
   "metadata": {},
   "outputs": [
    {
     "data": {
      "text/plain": [
       "447"
      ]
     },
     "execution_count": 26,
     "metadata": {},
     "output_type": "execute_result"
    }
   ],
   "source": [
    "len(result2019_tp_dump)"
   ]
  },
  {
   "cell_type": "code",
   "execution_count": 27,
   "id": "49736043",
   "metadata": {
    "scrolled": true
   },
   "outputs": [
    {
     "data": {
      "text/plain": [
       "447"
      ]
     },
     "execution_count": 27,
     "metadata": {},
     "output_type": "execute_result"
    }
   ],
   "source": [
    "len(result2019_tp)"
   ]
  },
  {
   "cell_type": "code",
   "execution_count": 28,
   "id": "10232df0",
   "metadata": {},
   "outputs": [
    {
     "data": {
      "text/plain": [
       "<TableColumns names=('mous','proposal_id','schedblock_name','array','science_keyword','scientific_category','band','ntarget','target_name','s_fov','s_resolution','mosaic','imsize','pb','cell','blc_npol','blc_nspw','blc_specwidth','blc_freq','blc_velres','blc_nchan_agg','blc_nchan_max','blc_bandwidth_max','blc_bandwidth_agg','wsu_freq','wsu_npol','wsu_bandwidth_early','wsu_bandwidth_later_4x','wsu_bandwidth_spw','wsu_nspw_early','wsu_nspw_later_4x','wsu_specwidth_stepped2','wsu_chanavg_stepped2','wsu_velres_stepped2','wsu_nchan_spw_stepped2','wsu_nchan_agg_stepped2_early','wsu_nchan_agg_stepped2_later_4x','wsu_frac_bw_early','wsu_frac_bw_later_4x','wsu_frac_bw_spw','CYCLE','ESTIMATED_EXECUTION_TIME_PRJ','ESTIMATED_EXECUTION_TIME_PRJ_UNIT','ACASPEC_INTEGRATION_DURATION','EXECOUNT','N_TDUMP')>"
      ]
     },
     "execution_count": 28,
     "metadata": {},
     "output_type": "execute_result"
    }
   ],
   "source": [
    "result2019_tp_dump.columns"
   ]
  },
  {
   "cell_type": "code",
   "execution_count": 29,
   "id": "27dbba0e",
   "metadata": {
    "scrolled": true
   },
   "outputs": [
    {
     "data": {
      "text/html": [
       "<div><i>QTable length=447</i>\n",
       "<table id=\"table140525198341840\" class=\"table-striped table-bordered table-condensed\">\n",
       "<thead><tr><th>mous</th><th>proposal_id</th><th>ACASPEC_INTEGRATION_DURATION</th><th>N_TDUMP</th></tr></thead>\n",
       "<thead><tr><th>str22</th><th>str14</th><th>float64</th><th>int64</th></tr></thead>\n",
       "<tr><td>uid://A001/X1465/X346b</td><td>2019.1.00263.S</td><td>0.512</td><td>1</td></tr>\n",
       "<tr><td>uid://A001/X1465/X346b</td><td>2019.1.00263.S</td><td>0.512</td><td>1</td></tr>\n",
       "<tr><td>uid://A001/X1465/X2bd0</td><td>2019.1.00558.S</td><td>0.4</td><td>1</td></tr>\n",
       "<tr><td>uid://A001/X1465/X2bd0</td><td>2019.1.00558.S</td><td>0.4</td><td>1</td></tr>\n",
       "<tr><td>uid://A001/X1465/X296b</td><td>2019.1.00639.S</td><td>0.64</td><td>1</td></tr>\n",
       "<tr><td>uid://A001/X1465/X296b</td><td>2019.1.00639.S</td><td>0.64</td><td>1</td></tr>\n",
       "<tr><td>uid://A001/X1465/X2971</td><td>2019.1.00639.S</td><td>0.336</td><td>1</td></tr>\n",
       "<tr><td>uid://A001/X1465/X2971</td><td>2019.1.00639.S</td><td>0.336</td><td>1</td></tr>\n",
       "<tr><td>uid://A001/X1465/X2977</td><td>2019.1.00639.S</td><td>0.272</td><td>1</td></tr>\n",
       "<tr><td>uid://A001/X1465/X2977</td><td>2019.1.00639.S</td><td>0.272</td><td>1</td></tr>\n",
       "<tr><td>uid://A001/X1465/X277a</td><td>2019.1.00722.S</td><td>0.496</td><td>1</td></tr>\n",
       "<tr><td>uid://A001/X1465/X277a</td><td>2019.1.00722.S</td><td>0.496</td><td>1</td></tr>\n",
       "<tr><td>uid://A001/X1465/X2577</td><td>2019.1.00763.L</td><td>0.672</td><td>1</td></tr>\n",
       "<tr><td>uid://A001/X1465/X2571</td><td>2019.1.00763.L</td><td>0.672</td><td>1</td></tr>\n",
       "<tr><td>uid://A001/X1465/X2567</td><td>2019.1.00763.L</td><td>0.576</td><td>1</td></tr>\n",
       "<tr><td>uid://A001/X1465/X2561</td><td>2019.1.00763.L</td><td>0.224</td><td>1</td></tr>\n",
       "<tr><td>uid://A001/X1465/X255b</td><td>2019.1.00763.L</td><td>0.208</td><td>1</td></tr>\n",
       "<tr><td>...</td><td>...</td><td>...</td><td>...</td></tr>\n",
       "<tr><td>uid://A001/X14c3/X8d1</td><td>2019.2.00166.S</td><td>0.144</td><td>1</td></tr>\n",
       "<tr><td>uid://A001/X14c3/X8d7</td><td>2019.2.00166.S</td><td>0.144</td><td>1</td></tr>\n",
       "<tr><td>uid://A001/X14c3/X8d7</td><td>2019.2.00166.S</td><td>0.144</td><td>1</td></tr>\n",
       "<tr><td>uid://A001/X14c3/X8dd</td><td>2019.2.00166.S</td><td>0.144</td><td>1</td></tr>\n",
       "<tr><td>uid://A001/X14c3/X8dd</td><td>2019.2.00166.S</td><td>0.144</td><td>1</td></tr>\n",
       "<tr><td>uid://A001/X14d8/X31c</td><td>2019.2.00169.S</td><td>1.024</td><td>1</td></tr>\n",
       "<tr><td>uid://A001/X14d8/X321</td><td>2019.2.00169.S</td><td>1.024</td><td>1</td></tr>\n",
       "<tr><td>uid://A001/X14d8/X329</td><td>2019.2.00169.S</td><td>0.992</td><td>1</td></tr>\n",
       "<tr><td>uid://A001/X14c3/X1106</td><td>2019.2.00212.S</td><td>0.24</td><td>1</td></tr>\n",
       "<tr><td>uid://A001/X14c3/X1106</td><td>2019.2.00212.S</td><td>0.24</td><td>1</td></tr>\n",
       "<tr><td>uid://A001/X14c3/Xa31</td><td>2019.2.00232.S</td><td>0.368</td><td>1</td></tr>\n",
       "<tr><td>uid://A001/X14c3/Xa31</td><td>2019.2.00232.S</td><td>0.368</td><td>1</td></tr>\n",
       "<tr><td>uid://A001/X14c3/Xa37</td><td>2019.2.00232.S</td><td>0.336</td><td>1</td></tr>\n",
       "<tr><td>uid://A001/X14c3/Xa37</td><td>2019.2.00232.S</td><td>0.336</td><td>1</td></tr>\n",
       "<tr><td>uid://A001/X14c2/X1c5</td><td>2019.2.00236.S</td><td>0.352</td><td>1</td></tr>\n",
       "<tr><td>uid://A001/X14c2/X1c5</td><td>2019.2.00236.S</td><td>0.352</td><td>1</td></tr>\n",
       "<tr><td>uid://A001/X14d7/X5e</td><td>2019.2.00252.S</td><td>0.864</td><td>1</td></tr>\n",
       "<tr><td>uid://A001/X14d7/X5e</td><td>2019.2.00252.S</td><td>0.864</td><td>1</td></tr>\n",
       "</table></div>"
      ],
      "text/plain": [
       "<QTable length=447>\n",
       "         mous           proposal_id   ACASPEC_INTEGRATION_DURATION N_TDUMP\n",
       "        str22              str14                float64             int64 \n",
       "---------------------- -------------- ---------------------------- -------\n",
       "uid://A001/X1465/X346b 2019.1.00263.S                        0.512       1\n",
       "uid://A001/X1465/X346b 2019.1.00263.S                        0.512       1\n",
       "uid://A001/X1465/X2bd0 2019.1.00558.S                          0.4       1\n",
       "uid://A001/X1465/X2bd0 2019.1.00558.S                          0.4       1\n",
       "uid://A001/X1465/X296b 2019.1.00639.S                         0.64       1\n",
       "uid://A001/X1465/X296b 2019.1.00639.S                         0.64       1\n",
       "uid://A001/X1465/X2971 2019.1.00639.S                        0.336       1\n",
       "uid://A001/X1465/X2971 2019.1.00639.S                        0.336       1\n",
       "uid://A001/X1465/X2977 2019.1.00639.S                        0.272       1\n",
       "uid://A001/X1465/X2977 2019.1.00639.S                        0.272       1\n",
       "uid://A001/X1465/X277a 2019.1.00722.S                        0.496       1\n",
       "uid://A001/X1465/X277a 2019.1.00722.S                        0.496       1\n",
       "uid://A001/X1465/X2577 2019.1.00763.L                        0.672       1\n",
       "uid://A001/X1465/X2571 2019.1.00763.L                        0.672       1\n",
       "uid://A001/X1465/X2567 2019.1.00763.L                        0.576       1\n",
       "uid://A001/X1465/X2561 2019.1.00763.L                        0.224       1\n",
       "uid://A001/X1465/X255b 2019.1.00763.L                        0.208       1\n",
       "                   ...            ...                          ...     ...\n",
       " uid://A001/X14c3/X8d1 2019.2.00166.S                        0.144       1\n",
       " uid://A001/X14c3/X8d7 2019.2.00166.S                        0.144       1\n",
       " uid://A001/X14c3/X8d7 2019.2.00166.S                        0.144       1\n",
       " uid://A001/X14c3/X8dd 2019.2.00166.S                        0.144       1\n",
       " uid://A001/X14c3/X8dd 2019.2.00166.S                        0.144       1\n",
       " uid://A001/X14d8/X31c 2019.2.00169.S                        1.024       1\n",
       " uid://A001/X14d8/X321 2019.2.00169.S                        1.024       1\n",
       " uid://A001/X14d8/X329 2019.2.00169.S                        0.992       1\n",
       "uid://A001/X14c3/X1106 2019.2.00212.S                         0.24       1\n",
       "uid://A001/X14c3/X1106 2019.2.00212.S                         0.24       1\n",
       " uid://A001/X14c3/Xa31 2019.2.00232.S                        0.368       1\n",
       " uid://A001/X14c3/Xa31 2019.2.00232.S                        0.368       1\n",
       " uid://A001/X14c3/Xa37 2019.2.00232.S                        0.336       1\n",
       " uid://A001/X14c3/Xa37 2019.2.00232.S                        0.336       1\n",
       " uid://A001/X14c2/X1c5 2019.2.00236.S                        0.352       1\n",
       " uid://A001/X14c2/X1c5 2019.2.00236.S                        0.352       1\n",
       "  uid://A001/X14d7/X5e 2019.2.00252.S                        0.864       1\n",
       "  uid://A001/X14d7/X5e 2019.2.00252.S                        0.864       1"
      ]
     },
     "execution_count": 29,
     "metadata": {},
     "output_type": "execute_result"
    }
   ],
   "source": [
    "result2019_tp_dump['mous','proposal_id','ACASPEC_INTEGRATION_DURATION','N_TDUMP']"
   ]
  },
  {
   "cell_type": "code",
   "execution_count": 30,
   "id": "8637da59",
   "metadata": {},
   "outputs": [
    {
     "data": {
      "text/html": [
       "<div><i>QTable length=0</i>\n",
       "<table id=\"table140525198344000\" class=\"table-striped table-bordered table-condensed\">\n",
       "<thead><tr><th>mous</th><th>proposal_id</th><th>ACASPEC_INTEGRATION_DURATION</th><th>N_TDUMP</th></tr></thead>\n",
       "<thead><tr><th>str22</th><th>str14</th><th>float64</th><th>int64</th></tr></thead>\n",
       "</table></div>"
      ],
      "text/plain": [
       "<QTable length=0>\n",
       " mous proposal_id ACASPEC_INTEGRATION_DURATION N_TDUMP\n",
       "str22    str14              float64             int64 \n",
       "----- ----------- ---------------------------- -------"
      ]
     },
     "execution_count": 30,
     "metadata": {},
     "output_type": "execute_result"
    }
   ],
   "source": [
    "idx = result2019_tp_dump['N_TDUMP'] > 1\n",
    "result2019_tp_dump[idx]['mous','proposal_id','ACASPEC_INTEGRATION_DURATION','N_TDUMP']"
   ]
  },
  {
   "cell_type": "code",
   "execution_count": 31,
   "id": "0332dcc3",
   "metadata": {},
   "outputs": [],
   "source": [
    "result2021_tp_dump = join(result2021_tp,tp_dump_time_sb,join_type='left')"
   ]
  },
  {
   "cell_type": "code",
   "execution_count": 32,
   "id": "e2909856",
   "metadata": {},
   "outputs": [
    {
     "data": {
      "text/plain": [
       "515"
      ]
     },
     "execution_count": 32,
     "metadata": {},
     "output_type": "execute_result"
    }
   ],
   "source": [
    "len(result2021_tp)"
   ]
  },
  {
   "cell_type": "code",
   "execution_count": 33,
   "id": "0f9c4c8c",
   "metadata": {},
   "outputs": [
    {
     "data": {
      "text/plain": [
       "515"
      ]
     },
     "execution_count": 33,
     "metadata": {},
     "output_type": "execute_result"
    }
   ],
   "source": [
    "len(result2021_tp_dump)"
   ]
  },
  {
   "cell_type": "code",
   "execution_count": 34,
   "id": "e9545eec",
   "metadata": {},
   "outputs": [
    {
     "data": {
      "text/plain": [
       "<TableColumns names=('mous','proposal_id','schedblock_name','array','science_keyword','scientific_category','band','ntarget','target_name','s_fov','s_resolution','mosaic','imsize','pb','cell','blc_npol','blc_nspw','blc_specwidth','blc_freq','blc_velres','blc_nchan_agg','blc_nchan_max','blc_bandwidth_max','blc_bandwidth_agg','wsu_freq','wsu_npol','wsu_bandwidth_early','wsu_bandwidth_later_4x','wsu_bandwidth_spw','wsu_nspw_early','wsu_nspw_later_4x','wsu_specwidth_stepped2','wsu_chanavg_stepped2','wsu_velres_stepped2','wsu_nchan_spw_stepped2','wsu_nchan_agg_stepped2_early','wsu_nchan_agg_stepped2_later_4x','wsu_frac_bw_early','wsu_frac_bw_later_4x','wsu_frac_bw_spw','CYCLE','ESTIMATED_EXECUTION_TIME_PRJ','ESTIMATED_EXECUTION_TIME_PRJ_UNIT','ACASPEC_INTEGRATION_DURATION','EXECOUNT','N_TDUMP')>"
      ]
     },
     "execution_count": 34,
     "metadata": {},
     "output_type": "execute_result"
    }
   ],
   "source": [
    "result2021_tp_dump.columns"
   ]
  },
  {
   "cell_type": "code",
   "execution_count": 35,
   "id": "34f3b611",
   "metadata": {
    "scrolled": true
   },
   "outputs": [
    {
     "data": {
      "text/html": [
       "<div><i>QTable length=447</i>\n",
       "<table id=\"table140525198369216\" class=\"table-striped table-bordered table-condensed\">\n",
       "<thead><tr><th>mous</th><th>proposal_id</th><th>ACASPEC_INTEGRATION_DURATION</th><th>N_TDUMP</th></tr></thead>\n",
       "<thead><tr><th>str22</th><th>str14</th><th>float64</th><th>int64</th></tr></thead>\n",
       "<tr><td>uid://A001/X1465/X346b</td><td>2019.1.00263.S</td><td>0.512</td><td>1</td></tr>\n",
       "<tr><td>uid://A001/X1465/X346b</td><td>2019.1.00263.S</td><td>0.512</td><td>1</td></tr>\n",
       "<tr><td>uid://A001/X1465/X2bd0</td><td>2019.1.00558.S</td><td>0.4</td><td>1</td></tr>\n",
       "<tr><td>uid://A001/X1465/X2bd0</td><td>2019.1.00558.S</td><td>0.4</td><td>1</td></tr>\n",
       "<tr><td>uid://A001/X1465/X296b</td><td>2019.1.00639.S</td><td>0.64</td><td>1</td></tr>\n",
       "<tr><td>uid://A001/X1465/X296b</td><td>2019.1.00639.S</td><td>0.64</td><td>1</td></tr>\n",
       "<tr><td>uid://A001/X1465/X2971</td><td>2019.1.00639.S</td><td>0.336</td><td>1</td></tr>\n",
       "<tr><td>uid://A001/X1465/X2971</td><td>2019.1.00639.S</td><td>0.336</td><td>1</td></tr>\n",
       "<tr><td>uid://A001/X1465/X2977</td><td>2019.1.00639.S</td><td>0.272</td><td>1</td></tr>\n",
       "<tr><td>uid://A001/X1465/X2977</td><td>2019.1.00639.S</td><td>0.272</td><td>1</td></tr>\n",
       "<tr><td>uid://A001/X1465/X277a</td><td>2019.1.00722.S</td><td>0.496</td><td>1</td></tr>\n",
       "<tr><td>uid://A001/X1465/X277a</td><td>2019.1.00722.S</td><td>0.496</td><td>1</td></tr>\n",
       "<tr><td>uid://A001/X1465/X2577</td><td>2019.1.00763.L</td><td>0.672</td><td>1</td></tr>\n",
       "<tr><td>uid://A001/X1465/X2571</td><td>2019.1.00763.L</td><td>0.672</td><td>1</td></tr>\n",
       "<tr><td>uid://A001/X1465/X2567</td><td>2019.1.00763.L</td><td>0.576</td><td>1</td></tr>\n",
       "<tr><td>uid://A001/X1465/X2561</td><td>2019.1.00763.L</td><td>0.224</td><td>1</td></tr>\n",
       "<tr><td>uid://A001/X1465/X255b</td><td>2019.1.00763.L</td><td>0.208</td><td>1</td></tr>\n",
       "<tr><td>...</td><td>...</td><td>...</td><td>...</td></tr>\n",
       "<tr><td>uid://A001/X14c3/X8d1</td><td>2019.2.00166.S</td><td>0.144</td><td>1</td></tr>\n",
       "<tr><td>uid://A001/X14c3/X8d7</td><td>2019.2.00166.S</td><td>0.144</td><td>1</td></tr>\n",
       "<tr><td>uid://A001/X14c3/X8d7</td><td>2019.2.00166.S</td><td>0.144</td><td>1</td></tr>\n",
       "<tr><td>uid://A001/X14c3/X8dd</td><td>2019.2.00166.S</td><td>0.144</td><td>1</td></tr>\n",
       "<tr><td>uid://A001/X14c3/X8dd</td><td>2019.2.00166.S</td><td>0.144</td><td>1</td></tr>\n",
       "<tr><td>uid://A001/X14d8/X31c</td><td>2019.2.00169.S</td><td>1.024</td><td>1</td></tr>\n",
       "<tr><td>uid://A001/X14d8/X321</td><td>2019.2.00169.S</td><td>1.024</td><td>1</td></tr>\n",
       "<tr><td>uid://A001/X14d8/X329</td><td>2019.2.00169.S</td><td>0.992</td><td>1</td></tr>\n",
       "<tr><td>uid://A001/X14c3/X1106</td><td>2019.2.00212.S</td><td>0.24</td><td>1</td></tr>\n",
       "<tr><td>uid://A001/X14c3/X1106</td><td>2019.2.00212.S</td><td>0.24</td><td>1</td></tr>\n",
       "<tr><td>uid://A001/X14c3/Xa31</td><td>2019.2.00232.S</td><td>0.368</td><td>1</td></tr>\n",
       "<tr><td>uid://A001/X14c3/Xa31</td><td>2019.2.00232.S</td><td>0.368</td><td>1</td></tr>\n",
       "<tr><td>uid://A001/X14c3/Xa37</td><td>2019.2.00232.S</td><td>0.336</td><td>1</td></tr>\n",
       "<tr><td>uid://A001/X14c3/Xa37</td><td>2019.2.00232.S</td><td>0.336</td><td>1</td></tr>\n",
       "<tr><td>uid://A001/X14c2/X1c5</td><td>2019.2.00236.S</td><td>0.352</td><td>1</td></tr>\n",
       "<tr><td>uid://A001/X14c2/X1c5</td><td>2019.2.00236.S</td><td>0.352</td><td>1</td></tr>\n",
       "<tr><td>uid://A001/X14d7/X5e</td><td>2019.2.00252.S</td><td>0.864</td><td>1</td></tr>\n",
       "<tr><td>uid://A001/X14d7/X5e</td><td>2019.2.00252.S</td><td>0.864</td><td>1</td></tr>\n",
       "</table></div>"
      ],
      "text/plain": [
       "<QTable length=447>\n",
       "         mous           proposal_id   ACASPEC_INTEGRATION_DURATION N_TDUMP\n",
       "        str22              str14                float64             int64 \n",
       "---------------------- -------------- ---------------------------- -------\n",
       "uid://A001/X1465/X346b 2019.1.00263.S                        0.512       1\n",
       "uid://A001/X1465/X346b 2019.1.00263.S                        0.512       1\n",
       "uid://A001/X1465/X2bd0 2019.1.00558.S                          0.4       1\n",
       "uid://A001/X1465/X2bd0 2019.1.00558.S                          0.4       1\n",
       "uid://A001/X1465/X296b 2019.1.00639.S                         0.64       1\n",
       "uid://A001/X1465/X296b 2019.1.00639.S                         0.64       1\n",
       "uid://A001/X1465/X2971 2019.1.00639.S                        0.336       1\n",
       "uid://A001/X1465/X2971 2019.1.00639.S                        0.336       1\n",
       "uid://A001/X1465/X2977 2019.1.00639.S                        0.272       1\n",
       "uid://A001/X1465/X2977 2019.1.00639.S                        0.272       1\n",
       "uid://A001/X1465/X277a 2019.1.00722.S                        0.496       1\n",
       "uid://A001/X1465/X277a 2019.1.00722.S                        0.496       1\n",
       "uid://A001/X1465/X2577 2019.1.00763.L                        0.672       1\n",
       "uid://A001/X1465/X2571 2019.1.00763.L                        0.672       1\n",
       "uid://A001/X1465/X2567 2019.1.00763.L                        0.576       1\n",
       "uid://A001/X1465/X2561 2019.1.00763.L                        0.224       1\n",
       "uid://A001/X1465/X255b 2019.1.00763.L                        0.208       1\n",
       "                   ...            ...                          ...     ...\n",
       " uid://A001/X14c3/X8d1 2019.2.00166.S                        0.144       1\n",
       " uid://A001/X14c3/X8d7 2019.2.00166.S                        0.144       1\n",
       " uid://A001/X14c3/X8d7 2019.2.00166.S                        0.144       1\n",
       " uid://A001/X14c3/X8dd 2019.2.00166.S                        0.144       1\n",
       " uid://A001/X14c3/X8dd 2019.2.00166.S                        0.144       1\n",
       " uid://A001/X14d8/X31c 2019.2.00169.S                        1.024       1\n",
       " uid://A001/X14d8/X321 2019.2.00169.S                        1.024       1\n",
       " uid://A001/X14d8/X329 2019.2.00169.S                        0.992       1\n",
       "uid://A001/X14c3/X1106 2019.2.00212.S                         0.24       1\n",
       "uid://A001/X14c3/X1106 2019.2.00212.S                         0.24       1\n",
       " uid://A001/X14c3/Xa31 2019.2.00232.S                        0.368       1\n",
       " uid://A001/X14c3/Xa31 2019.2.00232.S                        0.368       1\n",
       " uid://A001/X14c3/Xa37 2019.2.00232.S                        0.336       1\n",
       " uid://A001/X14c3/Xa37 2019.2.00232.S                        0.336       1\n",
       " uid://A001/X14c2/X1c5 2019.2.00236.S                        0.352       1\n",
       " uid://A001/X14c2/X1c5 2019.2.00236.S                        0.352       1\n",
       "  uid://A001/X14d7/X5e 2019.2.00252.S                        0.864       1\n",
       "  uid://A001/X14d7/X5e 2019.2.00252.S                        0.864       1"
      ]
     },
     "execution_count": 35,
     "metadata": {},
     "output_type": "execute_result"
    }
   ],
   "source": [
    "result2019_tp_dump['mous','proposal_id','ACASPEC_INTEGRATION_DURATION','N_TDUMP']"
   ]
  },
  {
   "cell_type": "code",
   "execution_count": 36,
   "id": "3623faac",
   "metadata": {},
   "outputs": [
    {
     "data": {
      "text/html": [
       "<div><i>QTable length=0</i>\n",
       "<table id=\"table140525198371280\" class=\"table-striped table-bordered table-condensed\">\n",
       "<thead><tr><th>mous</th><th>proposal_id</th><th>ACASPEC_INTEGRATION_DURATION</th><th>N_TDUMP</th></tr></thead>\n",
       "<thead><tr><th>str22</th><th>str14</th><th>float64</th><th>int64</th></tr></thead>\n",
       "</table></div>"
      ],
      "text/plain": [
       "<QTable length=0>\n",
       " mous proposal_id ACASPEC_INTEGRATION_DURATION N_TDUMP\n",
       "str22    str14              float64             int64 \n",
       "----- ----------- ---------------------------- -------"
      ]
     },
     "execution_count": 36,
     "metadata": {},
     "output_type": "execute_result"
    }
   ],
   "source": [
    "idx = result2021_tp_dump['N_TDUMP'] > 1\n",
    "result2021_tp_dump[idx]['mous','proposal_id','ACASPEC_INTEGRATION_DURATION','N_TDUMP']"
   ]
  },
  {
   "cell_type": "code",
   "execution_count": 37,
   "id": "4f18f927",
   "metadata": {},
   "outputs": [],
   "source": [
    "result2019_tp_dump.write('data/tp_database_cycle7_persrc_20231120.ecsv',overwrite=True)"
   ]
  },
  {
   "cell_type": "code",
   "execution_count": 38,
   "id": "70d96078",
   "metadata": {},
   "outputs": [],
   "source": [
    "result2021_tp_dump.write('data/tp_database_cycle8_persrc_20231120.ecsv',overwrite=True)"
   ]
  },
  {
   "cell_type": "code",
   "execution_count": 39,
   "id": "a90e3535",
   "metadata": {},
   "outputs": [],
   "source": [
    "result_tp_dump = vstack([result2019_tp_dump,result2021_tp_dump])"
   ]
  },
  {
   "cell_type": "code",
   "execution_count": 40,
   "id": "0417640b",
   "metadata": {},
   "outputs": [],
   "source": [
    "result_tp_dump.write('data/tp_database_cycle7_cycle8_permous_20231120.ecsv',overwrite=True)"
   ]
  },
  {
   "cell_type": "markdown",
   "id": "85e0ed01",
   "metadata": {},
   "source": [
    "## aggregating per mous"
   ]
  },
  {
   "cell_type": "code",
   "execution_count": 41,
   "id": "fd5bf55e",
   "metadata": {},
   "outputs": [
    {
     "name": "stdout",
     "output_type": "stream",
     "text": [
      "Taking first value. Key aggregation not specified: mous\n",
      "Taking first value. Key aggregation not specified: proposal_id\n",
      "Taking first value. Key aggregation not specified: schedblock_name\n",
      "Taking first value. Key aggregation not specified: array\n",
      "Taking first value. Key aggregation not specified: science_keyword\n",
      "Taking first value. Key aggregation not specified: scientific_category\n",
      "Taking first value. Key aggregation not specified: band\n",
      "Taking first value. Key aggregation not specified: ntarget\n",
      "Taking first value. Key aggregation not specified: target_name\n",
      "Taking first value. Key aggregation not specified: mosaic\n",
      "Taking first value. Key aggregation not specified: blc_npol\n",
      "Taking first value. Key aggregation not specified: blc_nspw\n",
      "Taking first value. Key aggregation not specified: blc_nchan_agg\n",
      "Taking first value. Key aggregation not specified: blc_nchan_max\n",
      "Taking first value. Key aggregation not specified: blc_bandwidth_max\n",
      "Taking first value. Key aggregation not specified: blc_bandwidth_agg\n",
      "Taking first value. Key aggregation not specified: wsu_npol\n",
      "Taking first value. Key aggregation not specified: wsu_bandwidth_early\n",
      "Taking first value. Key aggregation not specified: wsu_bandwidth_later_4x\n",
      "Taking first value. Key aggregation not specified: wsu_bandwidth_spw\n",
      "Taking first value. Key aggregation not specified: wsu_nspw_early\n",
      "Taking first value. Key aggregation not specified: wsu_nspw_later_4x\n",
      "Taking first value. Key aggregation not specified: wsu_frac_bw_early\n",
      "Taking first value. Key aggregation not specified: wsu_frac_bw_later_4x\n",
      "Taking first value. Key aggregation not specified: wsu_frac_bw_spw\n",
      "Taking first value. Key aggregation not specified: CYCLE\n",
      "Taking first value. Key aggregation not specified: ESTIMATED_EXECUTION_TIME_PRJ\n",
      "Taking first value. Key aggregation not specified: ESTIMATED_EXECUTION_TIME_PRJ_UNIT\n",
      "Taking first value. Key aggregation not specified: ACASPEC_INTEGRATION_DURATION\n",
      "Taking first value. Key aggregation not specified: EXECOUNT\n",
      "Taking first value. Key aggregation not specified: N_TDUMP\n"
     ]
    }
   ],
   "source": [
    "result2019_tp_dump_mous = wsu_db.create_per_mous_db(result2019_tp_dump)"
   ]
  },
  {
   "cell_type": "code",
   "execution_count": 42,
   "id": "a9f6b3ac",
   "metadata": {},
   "outputs": [
    {
     "data": {
      "text/plain": [
       "210"
      ]
     },
     "execution_count": 42,
     "metadata": {},
     "output_type": "execute_result"
    }
   ],
   "source": [
    "len(result2019_tp_dump_mous)"
   ]
  },
  {
   "cell_type": "code",
   "execution_count": 43,
   "id": "59060c33",
   "metadata": {},
   "outputs": [
    {
     "name": "stdout",
     "output_type": "stream",
     "text": [
      "Taking first value. Key aggregation not specified: mous\n",
      "Taking first value. Key aggregation not specified: proposal_id\n",
      "Taking first value. Key aggregation not specified: schedblock_name\n",
      "Taking first value. Key aggregation not specified: array\n",
      "Taking first value. Key aggregation not specified: science_keyword\n",
      "Taking first value. Key aggregation not specified: scientific_category\n",
      "Taking first value. Key aggregation not specified: band\n",
      "Taking first value. Key aggregation not specified: ntarget\n",
      "Taking first value. Key aggregation not specified: target_name\n",
      "Taking first value. Key aggregation not specified: mosaic\n",
      "Taking first value. Key aggregation not specified: blc_npol\n",
      "Taking first value. Key aggregation not specified: blc_nspw\n",
      "Taking first value. Key aggregation not specified: blc_nchan_agg\n",
      "Taking first value. Key aggregation not specified: blc_nchan_max\n",
      "Taking first value. Key aggregation not specified: blc_bandwidth_max\n",
      "Taking first value. Key aggregation not specified: blc_bandwidth_agg\n",
      "Taking first value. Key aggregation not specified: wsu_npol\n",
      "Taking first value. Key aggregation not specified: wsu_bandwidth_early\n",
      "Taking first value. Key aggregation not specified: wsu_bandwidth_later_4x\n",
      "Taking first value. Key aggregation not specified: wsu_bandwidth_spw\n",
      "Taking first value. Key aggregation not specified: wsu_nspw_early\n",
      "Taking first value. Key aggregation not specified: wsu_nspw_later_4x\n",
      "Taking first value. Key aggregation not specified: wsu_frac_bw_early\n",
      "Taking first value. Key aggregation not specified: wsu_frac_bw_later_4x\n",
      "Taking first value. Key aggregation not specified: wsu_frac_bw_spw\n",
      "Taking first value. Key aggregation not specified: CYCLE\n",
      "Taking first value. Key aggregation not specified: ESTIMATED_EXECUTION_TIME_PRJ\n",
      "Taking first value. Key aggregation not specified: ESTIMATED_EXECUTION_TIME_PRJ_UNIT\n",
      "Taking first value. Key aggregation not specified: ACASPEC_INTEGRATION_DURATION\n",
      "Taking first value. Key aggregation not specified: EXECOUNT\n",
      "Taking first value. Key aggregation not specified: N_TDUMP\n"
     ]
    }
   ],
   "source": [
    "result2021_tp_dump_mous = wsu_db.create_per_mous_db(result2021_tp_dump)"
   ]
  },
  {
   "cell_type": "code",
   "execution_count": 49,
   "id": "89d2e03f",
   "metadata": {},
   "outputs": [
    {
     "data": {
      "text/plain": [
       "<TableColumns names=('mous','proposal_id','schedblock_name','array','science_keyword','scientific_category','band','ntarget','s_fov','s_resolution','mosaic','imsize','pb','cell','blc_npol','blc_nspw','blc_specwidth','blc_freq','blc_velres','blc_nchan_agg','blc_nchan_max','blc_bandwidth_max','blc_bandwidth_agg','wsu_freq','wsu_npol','wsu_bandwidth_early','wsu_bandwidth_later_4x','wsu_bandwidth_spw','wsu_nspw_early','wsu_nspw_later_4x','wsu_specwidth_stepped2','wsu_chanavg_stepped2','wsu_velres_stepped2','wsu_nchan_spw_stepped2','wsu_nchan_agg_stepped2_early','wsu_nchan_agg_stepped2_later_4x','wsu_frac_bw_early','wsu_frac_bw_later_4x','wsu_frac_bw_spw','CYCLE','ESTIMATED_EXECUTION_TIME_PRJ','ESTIMATED_EXECUTION_TIME_PRJ_UNIT','ACASPEC_INTEGRATION_DURATION','EXECOUNT','N_TDUMP')>"
      ]
     },
     "execution_count": 49,
     "metadata": {},
     "output_type": "execute_result"
    }
   ],
   "source": [
    "result2019_tp_dump_mous.columns"
   ]
  },
  {
   "cell_type": "code",
   "execution_count": 44,
   "id": "e34b8354",
   "metadata": {},
   "outputs": [],
   "source": [
    "result_tp_dump_mous = vstack([result2019_tp_dump_mous,result2021_tp_dump_mous])"
   ]
  },
  {
   "cell_type": "code",
   "execution_count": 46,
   "id": "d0a60668",
   "metadata": {},
   "outputs": [],
   "source": [
    "result2019_tp_dump_mous.write('data/tp_database_cycle7_permous_20231120.ecsv',overwrite=True)"
   ]
  },
  {
   "cell_type": "code",
   "execution_count": 47,
   "id": "e9972a5a",
   "metadata": {},
   "outputs": [],
   "source": [
    "result2021_tp_dump_mous.write('data/tp_database_cycle8_permous_20231120.ecsv',overwrite=True)"
   ]
  },
  {
   "cell_type": "code",
   "execution_count": 48,
   "id": "0abe930d",
   "metadata": {},
   "outputs": [],
   "source": [
    "result_tp_dump_mous.write('data/tp_database_cycle7_cycle8_permous_20231120.ecsv',overwrite=True)"
   ]
  },
  {
   "cell_type": "markdown",
   "id": "9afad105",
   "metadata": {},
   "source": [
    "## looking at estimated execution time"
   ]
  },
  {
   "cell_type": "code",
   "execution_count": null,
   "id": "fe00e0d2",
   "metadata": {
    "scrolled": true
   },
   "outputs": [],
   "source": [
    "result_tp_dump_mous['proposal_id','mous','ESTIMATED_EXECUTION_TIME_PRJ','ESTIMATED_EXECUTION_TIME_PRJ_UNIT','EXECOUNT']"
   ]
  },
  {
   "cell_type": "markdown",
   "id": "69ab3d77",
   "metadata": {},
   "source": [
    "These look consistent with mous times from a few checks."
   ]
  }
 ],
 "metadata": {
  "kernelspec": {
   "display_name": "Python 3 (ipykernel)",
   "language": "python",
   "name": "python3"
  },
  "language_info": {
   "codemirror_mode": {
    "name": "ipython",
    "version": 3
   },
   "file_extension": ".py",
   "mimetype": "text/x-python",
   "name": "python",
   "nbconvert_exporter": "python",
   "pygments_lexer": "ipython3",
   "version": "3.8.18"
  }
 },
 "nbformat": 4,
 "nbformat_minor": 5
}
