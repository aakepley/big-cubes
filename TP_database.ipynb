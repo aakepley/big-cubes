{
 "cells": [
  {
   "cell_type": "markdown",
   "id": "4e05adba",
   "metadata": {},
   "source": [
    "# Create total power data base"
   ]
  },
  {
   "cell_type": "markdown",
   "id": "f4d9b5d0",
   "metadata": {},
   "source": [
    "Create total power version of data base for Bunyo"
   ]
  },
  {
   "cell_type": "markdown",
   "id": "bda2d54e",
   "metadata": {},
   "source": [
    "## import libraries"
   ]
  },
  {
   "cell_type": "code",
   "execution_count": 1,
   "id": "b78badcb",
   "metadata": {},
   "outputs": [],
   "source": [
    "from importlib import reload\n",
    "import matplotlib.pyplot as plt\n",
    "from astropy.table import Table, join, vstack\n",
    "import numpy as np"
   ]
  },
  {
   "cell_type": "code",
   "execution_count": 2,
   "id": "556cac87",
   "metadata": {},
   "outputs": [],
   "source": [
    "import large_cubes"
   ]
  },
  {
   "cell_type": "code",
   "execution_count": 3,
   "id": "47c8183c",
   "metadata": {},
   "outputs": [
    {
     "data": {
      "text/plain": [
       "<module 'large_cubes' from '/Users/akepley/Dropbox/Support/naasc/WSU/big_cubes/large_cubes.py'>"
      ]
     },
     "execution_count": 3,
     "metadata": {},
     "output_type": "execute_result"
    }
   ],
   "source": [
    "reload(large_cubes)"
   ]
  },
  {
   "cell_type": "code",
   "execution_count": 4,
   "id": "264be6d4",
   "metadata": {},
   "outputs": [],
   "source": [
    "import wsu_db"
   ]
  },
  {
   "cell_type": "markdown",
   "id": "952df066",
   "metadata": {},
   "source": [
    "## import data"
   ]
  },
  {
   "cell_type": "code",
   "execution_count": 5,
   "id": "007f0992",
   "metadata": {},
   "outputs": [],
   "source": [
    "result2019 = Table.read('data/result_table_cycle7_with_calc_values_20220923.csv')"
   ]
  },
  {
   "cell_type": "code",
   "execution_count": 6,
   "id": "9d9f5a2d",
   "metadata": {},
   "outputs": [
    {
     "data": {
      "text/plain": [
       "51368"
      ]
     },
     "execution_count": 6,
     "metadata": {},
     "output_type": "execute_result"
    }
   ],
   "source": [
    "len(result2019)"
   ]
  },
  {
   "cell_type": "code",
   "execution_count": 7,
   "id": "e27aa032",
   "metadata": {},
   "outputs": [
    {
     "data": {
      "text/plain": [
       "<TableColumns names=('obs_publisher_did','facility_name','instrument_name','obs_id','dataproduct_type','calib_level','target_name','s_ra','s_dec','s_fov','s_resolution','t_min','t_max','t_exptime','t_resolution','em_min','em_max','em_res_power','pol_states','o_ucd','access_url','access_format','proposal_id','data_rights','gal_longitude','gal_latitude','band_list','em_resolution','bandwidth','antenna_arrays','is_mosaic','spatial_resolution','frequency_support','frequency','velocity_resolution','publication_year','proposal_abstract','schedblock_name','sensitivity_10kms','cont_sensitivity_bandwidth','pwv','group_ous_uid','member_ous_uid','asdm_uid','type','scan_intent','science_observation','spatial_scale_max','qa2_passed','science_keyword','scientific_category','collections','array','points_per_fov','spw_freq','spw_specwidth','spw_nchan','pb','cell','imsize','spw_nchan_max','mitigated','failed_mitigation_nbin1','failed_mitigation_nbin2','ntarget')>"
      ]
     },
     "execution_count": 7,
     "metadata": {},
     "output_type": "execute_result"
    }
   ],
   "source": [
    "result2019.columns"
   ]
  },
  {
   "cell_type": "code",
   "execution_count": 8,
   "id": "ca97bb99",
   "metadata": {
    "scrolled": true
   },
   "outputs": [
    {
     "data": {
      "text/html": [
       "<div><i>Table length=1939</i>\n",
       "<table id=\"table140374877815376\" class=\"table-striped table-bordered table-condensed\">\n",
       "<thead><tr><th>member_ous_uid</th><th>array</th><th>spw_freq</th><th>spw_specwidth</th><th>spw_nchan</th><th>s_resolution</th><th>is_mosaic</th></tr></thead>\n",
       "<thead><tr><th>str22</th><th>str3</th><th>float64</th><th>float64</th><th>float64</th><th>float64</th><th>str1</th></tr></thead>\n",
       "<tr><td>uid://A001/X14c3/X61b</td><td>TP</td><td>244.8958420797094</td><td>31375.263260995456</td><td>128.0</td><td>24.42088292236162</td><td>F</td></tr>\n",
       "<tr><td>uid://A001/X14c3/X61b</td><td>TP</td><td>230.10470525373535</td><td>972.2806791278714</td><td>4096.0</td><td>24.42088292236162</td><td>F</td></tr>\n",
       "<tr><td>uid://A001/X14c3/X61b</td><td>TP</td><td>231.9745826082978</td><td>31115.078538066395</td><td>128.0</td><td>24.42088292236162</td><td>F</td></tr>\n",
       "<tr><td>uid://A001/X14c3/X61b</td><td>TP</td><td>246.7856649655297</td><td>31374.285241760404</td><td>128.0</td><td>24.42088292236162</td><td>F</td></tr>\n",
       "<tr><td>uid://A001/X14c3/X615</td><td>TP</td><td>112.39773136835102</td><td>31526.326439925368</td><td>128.0</td><td>55.143705793363374</td><td>F</td></tr>\n",
       "<tr><td>uid://A001/X14c3/X615</td><td>TP</td><td>109.99943631422802</td><td>490.4794677676596</td><td>4096.0</td><td>55.143705793363374</td><td>F</td></tr>\n",
       "<tr><td>...</td><td>...</td><td>...</td><td>...</td><td>...</td><td>...</td><td>...</td></tr>\n",
       "<tr><td>uid://A001/X14c2/X9a</td><td>TP</td><td>232.35379132821924</td><td>31380.35414479961</td><td>128.0</td><td>25.74028822308344</td><td>F</td></tr>\n",
       "<tr><td>uid://A001/X14c2/X9a</td><td>TP</td><td>220.43116887696064</td><td>563.1110468263852</td><td>2048.0</td><td>25.74028822308344</td><td>F</td></tr>\n",
       "<tr><td>uid://A001/X14c2/X9a</td><td>TP</td><td>219.5924069271213</td><td>563.1061820514429</td><td>2048.0</td><td>25.74028822308344</td><td>F</td></tr>\n",
       "<tr><td>uid://A001/X14c3/X123c</td><td>TP</td><td>233.6604381036611</td><td>31386.597515503523</td><td>128.0</td><td>25.77538410084441</td><td>F</td></tr>\n",
       "<tr><td>uid://A001/X14c3/X123c</td><td>TP</td><td>229.6641623880752</td><td>565.7440655078437</td><td>2048.0</td><td>25.77538410084441</td><td>F</td></tr>\n",
       "<tr><td>uid://A001/X14c3/X123c</td><td>TP</td><td>219.5622933616384</td><td>563.2307271314663</td><td>2048.0</td><td>25.77538410084441</td><td>F</td></tr>\n",
       "<tr><td>uid://A001/X14c3/X123c</td><td>TP</td><td>218.16941722361838</td><td>1123.8762986992833</td><td>2048.0</td><td>25.77538410084441</td><td>F</td></tr>\n",
       "</table></div>"
      ],
      "text/plain": [
       "<Table length=1939>\n",
       "    member_ous_uid     array ...    s_resolution    is_mosaic\n",
       "        str22           str3 ...      float64          str1  \n",
       "---------------------- ----- ... ------------------ ---------\n",
       " uid://A001/X14c3/X61b    TP ...  24.42088292236162         F\n",
       " uid://A001/X14c3/X61b    TP ...  24.42088292236162         F\n",
       " uid://A001/X14c3/X61b    TP ...  24.42088292236162         F\n",
       " uid://A001/X14c3/X61b    TP ...  24.42088292236162         F\n",
       " uid://A001/X14c3/X615    TP ... 55.143705793363374         F\n",
       " uid://A001/X14c3/X615    TP ... 55.143705793363374         F\n",
       "                   ...   ... ...                ...       ...\n",
       "  uid://A001/X14c2/X9a    TP ...  25.74028822308344         F\n",
       "  uid://A001/X14c2/X9a    TP ...  25.74028822308344         F\n",
       "  uid://A001/X14c2/X9a    TP ...  25.74028822308344         F\n",
       "uid://A001/X14c3/X123c    TP ...  25.77538410084441         F\n",
       "uid://A001/X14c3/X123c    TP ...  25.77538410084441         F\n",
       "uid://A001/X14c3/X123c    TP ...  25.77538410084441         F\n",
       "uid://A001/X14c3/X123c    TP ...  25.77538410084441         F"
      ]
     },
     "execution_count": 8,
     "metadata": {},
     "output_type": "execute_result"
    }
   ],
   "source": [
    "idx = result2019['array'] == 'TP'\n",
    "result2019[idx]['member_ous_uid','array','spw_freq','spw_specwidth','spw_nchan','s_resolution','is_mosaic']"
   ]
  },
  {
   "cell_type": "code",
   "execution_count": 9,
   "id": "99afb396",
   "metadata": {},
   "outputs": [],
   "source": [
    "result2021 = Table.read('data/result_table_cycle8_with_calc_values_20220923.csv')"
   ]
  },
  {
   "cell_type": "code",
   "execution_count": 10,
   "id": "bea1778e",
   "metadata": {},
   "outputs": [
    {
     "data": {
      "text/plain": [
       "50107"
      ]
     },
     "execution_count": 10,
     "metadata": {},
     "output_type": "execute_result"
    }
   ],
   "source": [
    "len(result2021)"
   ]
  },
  {
   "cell_type": "code",
   "execution_count": 11,
   "id": "1a147df0",
   "metadata": {},
   "outputs": [],
   "source": [
    "# tp dump time\n",
    "tp_dump_time = Table.read('data/science_tp_schedblocks_params_from_bunyo.csv',encoding='utf-8-sig')"
   ]
  },
  {
   "cell_type": "code",
   "execution_count": 12,
   "id": "77d15b12",
   "metadata": {
    "scrolled": true
   },
   "outputs": [
    {
     "data": {
      "text/html": [
       "<div><i>Table length=20077</i>\n",
       "<table id=\"table140373222781376\" class=\"table-striped table-bordered table-condensed\">\n",
       "<thead><tr><th>OBSPROJECT_UID</th><th>SB_UID</th><th>SB_NAME</th><th>STANDARD_MODE</th><th>MODE_NAME</th><th>ARRAY</th><th>ESTIMATED_EXECUTION_TIME_PRJ</th><th>ESTIMATED_EXECUTION_TIME_PRJ_UNIT</th><th>REPRESENTATIVE_FREQUENCY</th><th>REPRESENTATIVE_FREQUENCY_UNIT</th><th>REQUIRED_RECIEVER_BANDS</th><th>REPRESENTATIVE_TARGET_REF</th><th>PRJ_CODE</th><th>CYCLE</th><th>EXECOUNT</th><th>SB_STATE</th><th>TARGET_ID</th><th>SPEC_REF</th><th>FIELD_REF</th><th>OBSERVING_PARAMETER_REF</th><th>SCIPARAM_NAME</th><th>SCIPARAM_REPRESENTATIVE_BANDWIDTH</th><th>SCIPARAM_REPRESENTATIVE_BANDWIDTH_UNIT</th><th>SCIPARAM_REPRESENTATIVE_FREQUENCY</th><th>SCIPARAM_REPRESENTATIVE_FREQUENCY_UNIT</th><th>SCIPARAM_SENSITIVITY_GOAL</th><th>SCIPARAM_SENSITIVITY_GOAL_UNIT</th><th>SCIPARAM_INTEGRATION_TIME</th><th>SCIPARAM_INTEGRATION_TIME_UNIT</th><th>SCIPARAM_SUB_SCAN_DURATION</th><th>SCIPARAM_SUB_SCAN_DURATION_UNIT</th><th>ACASPEC_INTEGRATION_DURATION</th><th>ACASPEC_INTEGRATION_DURATION_UNIT</th><th>ACASPEC_CHANNEL_AVERAGE_DURATION</th><th>ACASPEC_CHANNEL_AVERAGE_DURATION_UNIT</th><th>ACASPEC_ENABLE_180_DEGREE_WALSH_FUNCTION</th><th>ACASPEC_ENABLE_90_DEGREE_WALSH_FUNCTION</th><th>SUB_SCAN_DURATION (s)</th><th>INTEGRATION_DURATION (s)</th><th>Samples</th></tr></thead>\n",
       "<thead><tr><th>str22</th><th>str23</th><th>str33</th><th>str4</th><th>str20</th><th>str8</th><th>float64</th><th>str3</th><th>float64</th><th>str3</th><th>str28</th><th>str11</th><th>str14</th><th>str6</th><th>int64</th><th>str17</th><th>str11</th><th>str11</th><th>str11</th><th>str11</th><th>str37</th><th>float64</th><th>str3</th><th>float64</th><th>str3</th><th>float64</th><th>str3</th><th>float64</th><th>str3</th><th>float64</th><th>str1</th><th>float64</th><th>str2</th><th>float64</th><th>str2</th><th>str5</th><th>str5</th><th>float64</th><th>float64</th><th>int64</th></tr></thead>\n",
       "<tr><td>uid://A001/Xa0/X1258</td><td>uid://A002/X758152/X42</td><td>VV219_Science_TP_B3</td><td>true</td><td>Standard Single Dish</td><td>TP-Array</td><td>4.5</td><td>h</td><td>114.4199784</td><td>GHz</td><td>[&apos;ALMA_RB_03&apos;]</td><td>X1162338469</td><td>2012.1.00759.S</td><td>2012.1</td><td>3</td><td>ObservingTimedOut</td><td>X1162338469</td><td>X1447303509</td><td>X1950970087</td><td>X2056880778</td><td>Science Params</td><td>1.92</td><td>MHz</td><td>114.4199784</td><td>GHz</td><td>8.565950103</td><td>mJy</td><td>4.3368</td><td>min</td><td>20.016</td><td>s</td><td>0.144</td><td>s</td><td>0.144</td><td>s</td><td>false</td><td>false</td><td>20.016</td><td>0.144</td><td>139</td></tr>\n",
       "<tr><td>uid://A001/Xa0/X1258</td><td>uid://A002/X758152/X46</td><td>VV219_Science_TP_B7</td><td>true</td><td>Standard Single Dish</td><td>TP-Array</td><td>4.5</td><td>h</td><td>343.2424494</td><td>GHz</td><td>[&apos;ALMA_RB_07&apos;, &apos;ALMA_RB_06&apos;]</td><td>X1858323719</td><td>2012.1.00759.S</td><td>2012.1</td><td>3</td><td>ObservingTimedOut</td><td>X1858323719</td><td>X1775317541</td><td>X671993200</td><td>X867108706</td><td>Science Params</td><td>4.66</td><td>MHz</td><td>343.2424494</td><td>GHz</td><td>15.41713934</td><td>mJy</td><td>1.512</td><td>min</td><td>10.08</td><td>s</td><td>0.144</td><td>s</td><td>0.144</td><td>s</td><td>false</td><td>false</td><td>10.08</td><td>0.144</td><td>70</td></tr>\n",
       "<tr><td>uid://A001/Xa0/X1258</td><td>uid://A002/X758152/X4a</td><td>VV219_D1_Science_TP</td><td>true</td><td>Standard Single Dish</td><td>TP-Array</td><td>4.5</td><td>h</td><td>343.2424494</td><td>GHz</td><td>[&apos;ALMA_RB_07&apos;, &apos;ALMA_RB_06&apos;]</td><td>X1902151533</td><td>2012.1.00759.S</td><td>2012.1</td><td>3</td><td>ObservingTimedOut</td><td>X1902151533</td><td>X1777740274</td><td>X1008170695</td><td>X863167740</td><td>Science Params</td><td>5.724667853</td><td>MHz</td><td>343.2424494</td><td>GHz</td><td>15.41713934</td><td>mJy</td><td>1.68</td><td>min</td><td>10.08</td><td>s</td><td>0.144</td><td>s</td><td>0.144</td><td>s</td><td>false</td><td>false</td><td>10.08</td><td>0.144</td><td>70</td></tr>\n",
       "<tr><td>uid://A001/Xa0/Xf3f</td><td>uid://A002/X95bb93/X2</td><td>M74_c_06_TP</td><td>true</td><td>Standard Single Dish</td><td>TP-Array</td><td>1.5625</td><td>d</td><td>230.0348593</td><td>GHz</td><td>[&apos;ALMA_RB_06&apos;]</td><td>X1099822116</td><td>2012.1.00650.S</td><td>2012.1</td><td>25</td><td>FullyObserved</td><td>X1099822116</td><td>X1661884626</td><td>X747151669</td><td>X1313177120</td><td>Science Params</td><td>1.531278126</td><td>MHz</td><td>230.0348593</td><td>GHz</td><td>8.617898961</td><td>mJy</td><td>967.58</td><td>s</td><td>15.12</td><td>s</td><td>0.24</td><td>s</td><td>240.0</td><td>ms</td><td>false</td><td>false</td><td>15.12</td><td>0.24</td><td>63</td></tr>\n",
       "<tr><td>uid://A001/Xa0/Xf3f</td><td>uid://A002/X95bb93/X2</td><td>M74_c_06_TP</td><td>true</td><td>Standard Single Dish</td><td>TP-Array</td><td>1.5625</td><td>d</td><td>230.0348593</td><td>GHz</td><td>[&apos;ALMA_RB_06&apos;]</td><td>X1099822116</td><td>2012.1.00650.S</td><td>2012.1</td><td>25</td><td>FullyObserved</td><td>X1099822116</td><td>X1661884626</td><td>X747151669</td><td>X1313177120</td><td>Science Params</td><td>1.531278126</td><td>MHz</td><td>230.0348593</td><td>GHz</td><td>8.617898961</td><td>mJy</td><td>967.58</td><td>s</td><td>15.12</td><td>s</td><td>0.24</td><td>s</td><td>240.0</td><td>ms</td><td>false</td><td>false</td><td>15.12</td><td>0.24</td><td>63</td></tr>\n",
       "<tr><td>uid://A001/Xa0/Xf3f</td><td>uid://A002/X95bb93/X2</td><td>M74_c_06_TP</td><td>true</td><td>Standard Single Dish</td><td>TP-Array</td><td>1.5625</td><td>d</td><td>230.0348593</td><td>GHz</td><td>[&apos;ALMA_RB_06&apos;]</td><td>X1099822116</td><td>2012.1.00650.S</td><td>2012.1</td><td>25</td><td>FullyObserved</td><td>X1099822116</td><td>X1661884626</td><td>X747151669</td><td>X1313177120</td><td>Science Params</td><td>1.531278126</td><td>MHz</td><td>230.0348593</td><td>GHz</td><td>8.617898961</td><td>mJy</td><td>967.58</td><td>s</td><td>15.12</td><td>s</td><td>0.24</td><td>s</td><td>240.0</td><td>ms</td><td>false</td><td>false</td><td>15.12</td><td>0.24</td><td>63</td></tr>\n",
       "<tr><td>...</td><td>...</td><td>...</td><td>...</td><td>...</td><td>...</td><td>...</td><td>...</td><td>...</td><td>...</td><td>...</td><td>...</td><td>...</td><td>...</td><td>...</td><td>...</td><td>...</td><td>...</td><td>...</td><td>...</td><td>...</td><td>...</td><td>...</td><td>...</td><td>...</td><td>...</td><td>...</td><td>...</td><td>...</td><td>...</td><td>...</td><td>...</td><td>...</td><td>...</td><td>...</td><td>...</td><td>...</td><td>...</td><td>...</td><td>...</td></tr>\n",
       "<tr><td>uid://A001/X335e/X10e</td><td>uid://A001/X3571/X125</td><td>Sun_10_c_06_TP</td><td>true</td><td>Solar Single Dish</td><td>TP-Array</td><td>2.283333333</td><td>h</td><td>248.0</td><td>GHz</td><td>[&apos;ALMA_RB_06&apos;]</td><td>X911661108</td><td>2022.A.00001.S</td><td>2022.A</td><td>5</td><td>Waiting</td><td>X911661108</td><td>X398084563</td><td>X985528751</td><td>X2131317530</td><td>Science parameters (full disc)</td><td>7.5</td><td>GHz</td><td>248.0</td><td>GHz</td><td>1938.444474</td><td>mJy</td><td>200.0</td><td>s</td><td>15.12</td><td>s</td><td>1.008</td><td>s</td><td>1008.0</td><td>ms</td><td>false</td><td>false</td><td>15.12</td><td>1.008</td><td>15</td></tr>\n",
       "<tr><td>uid://A001/X335e/X10e</td><td>uid://A001/X3571/X125</td><td>Sun_10_c_06_TP</td><td>true</td><td>Solar Single Dish</td><td>TP-Array</td><td>2.283333333</td><td>h</td><td>248.0</td><td>GHz</td><td>[&apos;ALMA_RB_06&apos;]</td><td>X911661108</td><td>2022.A.00001.S</td><td>2022.A</td><td>5</td><td>Waiting</td><td>X911661108</td><td>X398084563</td><td>X985528751</td><td>X2131317530</td><td>Science parameters (full disc)</td><td>7.5</td><td>GHz</td><td>248.0</td><td>GHz</td><td>1938.444474</td><td>mJy</td><td>200.0</td><td>s</td><td>15.12</td><td>s</td><td>1.008</td><td>s</td><td>1008.0</td><td>ms</td><td>false</td><td>false</td><td>15.12</td><td>1.008</td><td>15</td></tr>\n",
       "<tr><td>uid://A001/X335e/X10e</td><td>uid://A001/X3571/X125</td><td>Sun_10_c_06_TP</td><td>true</td><td>Solar Single Dish</td><td>TP-Array</td><td>2.283333333</td><td>h</td><td>248.0</td><td>GHz</td><td>[&apos;ALMA_RB_06&apos;]</td><td>X911661108</td><td>2022.A.00001.S</td><td>2022.A</td><td>5</td><td>Waiting</td><td>X911661108</td><td>X398084563</td><td>X985528751</td><td>X2131317530</td><td>Science parameters (full disc)</td><td>7.5</td><td>GHz</td><td>248.0</td><td>GHz</td><td>1938.444474</td><td>mJy</td><td>200.0</td><td>s</td><td>15.12</td><td>s</td><td>1.008</td><td>s</td><td>1008.0</td><td>ms</td><td>false</td><td>false</td><td>15.12</td><td>1.008</td><td>15</td></tr>\n",
       "<tr><td>uid://A001/X335e/X10e</td><td>uid://A001/X3571/X125</td><td>Sun_10_c_06_TP</td><td>true</td><td>Solar Single Dish</td><td>TP-Array</td><td>2.283333333</td><td>h</td><td>248.0</td><td>GHz</td><td>[&apos;ALMA_RB_06&apos;]</td><td>X911661108</td><td>2022.A.00001.S</td><td>2022.A</td><td>5</td><td>Waiting</td><td>X612832326</td><td>X391737495</td><td>X1650333434</td><td>X1509297210</td><td>Science Parameters (regional mapping)</td><td>7.5</td><td>GHz</td><td>248.0</td><td>GHz</td><td>492.8831195</td><td>mJy</td><td>6788.0</td><td>s</td><td>15.12</td><td>s</td><td>1.008</td><td>s</td><td>1008.0</td><td>ms</td><td>false</td><td>false</td><td>15.12</td><td>1.008</td><td>15</td></tr>\n",
       "<tr><td>uid://A001/X335e/X10e</td><td>uid://A001/X3571/X125</td><td>Sun_10_c_06_TP</td><td>true</td><td>Solar Single Dish</td><td>TP-Array</td><td>2.283333333</td><td>h</td><td>248.0</td><td>GHz</td><td>[&apos;ALMA_RB_06&apos;]</td><td>X911661108</td><td>2022.A.00001.S</td><td>2022.A</td><td>5</td><td>Waiting</td><td>X612832326</td><td>X391737495</td><td>X1650333434</td><td>X1509297210</td><td>Science Parameters (regional mapping)</td><td>7.5</td><td>GHz</td><td>248.0</td><td>GHz</td><td>492.8831195</td><td>mJy</td><td>6788.0</td><td>s</td><td>15.12</td><td>s</td><td>1.008</td><td>s</td><td>1008.0</td><td>ms</td><td>false</td><td>false</td><td>15.12</td><td>1.008</td><td>15</td></tr>\n",
       "<tr><td>uid://A001/X335e/X10e</td><td>uid://A001/X3571/X125</td><td>Sun_10_c_06_TP</td><td>true</td><td>Solar Single Dish</td><td>TP-Array</td><td>2.283333333</td><td>h</td><td>248.0</td><td>GHz</td><td>[&apos;ALMA_RB_06&apos;]</td><td>X911661108</td><td>2022.A.00001.S</td><td>2022.A</td><td>5</td><td>Waiting</td><td>X911661108</td><td>X398084563</td><td>X985528751</td><td>X2131317530</td><td>Science parameters (full disc)</td><td>7.5</td><td>GHz</td><td>248.0</td><td>GHz</td><td>1938.444474</td><td>mJy</td><td>200.0</td><td>s</td><td>15.12</td><td>s</td><td>1.008</td><td>s</td><td>1008.0</td><td>ms</td><td>false</td><td>false</td><td>15.12</td><td>1.008</td><td>15</td></tr>\n",
       "<tr><td>uid://A001/X335e/X10e</td><td>uid://A001/X3571/X125</td><td>Sun_10_c_06_TP</td><td>true</td><td>Solar Single Dish</td><td>TP-Array</td><td>2.283333333</td><td>h</td><td>248.0</td><td>GHz</td><td>[&apos;ALMA_RB_06&apos;]</td><td>X911661108</td><td>2022.A.00001.S</td><td>2022.A</td><td>5</td><td>Waiting</td><td>X612832326</td><td>X391737495</td><td>X1650333434</td><td>X1509297210</td><td>Science Parameters (regional mapping)</td><td>7.5</td><td>GHz</td><td>248.0</td><td>GHz</td><td>492.8831195</td><td>mJy</td><td>6788.0</td><td>s</td><td>15.12</td><td>s</td><td>1.008</td><td>s</td><td>1008.0</td><td>ms</td><td>false</td><td>false</td><td>15.12</td><td>1.008</td><td>15</td></tr>\n",
       "</table></div>"
      ],
      "text/plain": [
       "<Table length=20077>\n",
       "    OBSPROJECT_UID            SB_UID         ... Samples\n",
       "        str22                 str23          ...  int64 \n",
       "--------------------- ---------------------- ... -------\n",
       " uid://A001/Xa0/X1258 uid://A002/X758152/X42 ...     139\n",
       " uid://A001/Xa0/X1258 uid://A002/X758152/X46 ...      70\n",
       " uid://A001/Xa0/X1258 uid://A002/X758152/X4a ...      70\n",
       "  uid://A001/Xa0/Xf3f  uid://A002/X95bb93/X2 ...      63\n",
       "  uid://A001/Xa0/Xf3f  uid://A002/X95bb93/X2 ...      63\n",
       "  uid://A001/Xa0/Xf3f  uid://A002/X95bb93/X2 ...      63\n",
       "                  ...                    ... ...     ...\n",
       "uid://A001/X335e/X10e  uid://A001/X3571/X125 ...      15\n",
       "uid://A001/X335e/X10e  uid://A001/X3571/X125 ...      15\n",
       "uid://A001/X335e/X10e  uid://A001/X3571/X125 ...      15\n",
       "uid://A001/X335e/X10e  uid://A001/X3571/X125 ...      15\n",
       "uid://A001/X335e/X10e  uid://A001/X3571/X125 ...      15\n",
       "uid://A001/X335e/X10e  uid://A001/X3571/X125 ...      15\n",
       "uid://A001/X335e/X10e  uid://A001/X3571/X125 ...      15"
      ]
     },
     "execution_count": 12,
     "metadata": {},
     "output_type": "execute_result"
    }
   ],
   "source": [
    "tp_dump_time"
   ]
  },
  {
   "cell_type": "code",
   "execution_count": 13,
   "id": "b7b19600",
   "metadata": {},
   "outputs": [
    {
     "data": {
      "text/plain": [
       "<TableColumns names=('OBSPROJECT_UID','SB_UID','SB_NAME','STANDARD_MODE','MODE_NAME','ARRAY','ESTIMATED_EXECUTION_TIME_PRJ','ESTIMATED_EXECUTION_TIME_PRJ_UNIT','REPRESENTATIVE_FREQUENCY','REPRESENTATIVE_FREQUENCY_UNIT','REQUIRED_RECIEVER_BANDS','REPRESENTATIVE_TARGET_REF','PRJ_CODE','CYCLE','EXECOUNT','SB_STATE','TARGET_ID','SPEC_REF','FIELD_REF','OBSERVING_PARAMETER_REF','SCIPARAM_NAME','SCIPARAM_REPRESENTATIVE_BANDWIDTH','SCIPARAM_REPRESENTATIVE_BANDWIDTH_UNIT','SCIPARAM_REPRESENTATIVE_FREQUENCY','SCIPARAM_REPRESENTATIVE_FREQUENCY_UNIT','SCIPARAM_SENSITIVITY_GOAL','SCIPARAM_SENSITIVITY_GOAL_UNIT','SCIPARAM_INTEGRATION_TIME','SCIPARAM_INTEGRATION_TIME_UNIT','SCIPARAM_SUB_SCAN_DURATION','SCIPARAM_SUB_SCAN_DURATION_UNIT','ACASPEC_INTEGRATION_DURATION','ACASPEC_INTEGRATION_DURATION_UNIT','ACASPEC_CHANNEL_AVERAGE_DURATION','ACASPEC_CHANNEL_AVERAGE_DURATION_UNIT','ACASPEC_ENABLE_180_DEGREE_WALSH_FUNCTION','ACASPEC_ENABLE_90_DEGREE_WALSH_FUNCTION','SUB_SCAN_DURATION (s)','INTEGRATION_DURATION (s)','Samples')>"
      ]
     },
     "execution_count": 13,
     "metadata": {},
     "output_type": "execute_result"
    }
   ],
   "source": [
    "tp_dump_time.columns"
   ]
  },
  {
   "cell_type": "markdown",
   "id": "33e9993d",
   "metadata": {},
   "source": [
    "## munge TP data"
   ]
  },
  {
   "cell_type": "markdown",
   "id": "26e6a82e",
   "metadata": {},
   "source": [
    "probably should double-check some of the values, particularly imsize. easiest route might to be not deliver them."
   ]
  },
  {
   "cell_type": "code",
   "execution_count": 15,
   "id": "ec935b3c",
   "metadata": {},
   "outputs": [],
   "source": [
    "reload(wsu_db)\n",
    "result2019_tp = wsu_db.create_tp_database(result2019)"
   ]
  },
  {
   "cell_type": "code",
   "execution_count": 16,
   "id": "b85e0040",
   "metadata": {},
   "outputs": [
    {
     "data": {
      "text/plain": [
       "447"
      ]
     },
     "execution_count": 16,
     "metadata": {},
     "output_type": "execute_result"
    }
   ],
   "source": [
    "len(result2019_tp)"
   ]
  },
  {
   "cell_type": "code",
   "execution_count": 17,
   "id": "299ccabd",
   "metadata": {
    "scrolled": true
   },
   "outputs": [
    {
     "data": {
      "text/html": [
       "<div><i>QTable length=447</i>\n",
       "<table id=\"table140374053972864\" class=\"table-striped table-bordered table-condensed\">\n",
       "<thead><tr><th>mous</th><th>proposal_id</th><th>schedblock_name</th><th>array</th><th>science_keyword</th><th>scientific_category</th><th>band</th><th>ntarget</th><th>target_name</th><th>s_fov</th><th>s_resolution</th><th>mosaic</th><th>imsize</th><th>pb</th><th>cell</th><th>blc_npol</th><th>blc_nspw</th><th>blc_specwidth</th><th>blc_freq</th><th>blc_velres</th><th>blc_nchan_agg</th><th>blc_nchan_max</th><th>blc_bandwidth_max</th><th>blc_bandwidth_agg</th><th>wsu_freq</th><th>wsu_npol</th><th>wsu_bandwidth_early</th><th>wsu_bandwidth_later_4x</th><th>wsu_bandwidth_spw</th><th>wsu_nspw_early</th><th>wsu_nspw_later_4x</th><th>wsu_specwidth_stepped2</th><th>wsu_chanavg_stepped2</th><th>wsu_velres_stepped2</th><th>wsu_nchan_spw_stepped2</th><th>wsu_nchan_agg_stepped2_early</th><th>wsu_nchan_agg_stepped2_later_4x</th><th>wsu_frac_bw_early</th><th>wsu_frac_bw_later_4x</th><th>wsu_frac_bw_spw</th></tr></thead>\n",
       "<thead><tr><th></th><th></th><th></th><th></th><th></th><th></th><th></th><th></th><th></th><th>deg</th><th>arcsec</th><th></th><th></th><th>arcsec</th><th>arcsec</th><th></th><th></th><th>kHz</th><th>GHz</th><th>km / s</th><th></th><th></th><th>GHz</th><th>GHz</th><th>GHz</th><th></th><th>GHz</th><th>GHz</th><th>GHz</th><th></th><th></th><th>kHz</th><th></th><th>km / s</th><th></th><th></th><th></th><th></th><th></th><th></th></tr></thead>\n",
       "<thead><tr><th>str22</th><th>str14</th><th>str18</th><th>str3</th><th>str105</th><th>str27</th><th>int64</th><th>float64</th><th>str29</th><th>float64</th><th>float64</th><th>str1</th><th>float64</th><th>float64</th><th>float64</th><th>int64</th><th>int64</th><th>float64</th><th>float64</th><th>float64</th><th>float64</th><th>float64</th><th>float64</th><th>float64</th><th>float64</th><th>int64</th><th>float64</th><th>float64</th><th>float64</th><th>int64</th><th>int64</th><th>float64</th><th>float64</th><th>float64</th><th>float64</th><th>float64</th><th>float64</th><th>float64</th><th>float64</th><th>float64</th></tr></thead>\n",
       "<tr><td>uid://A001/X1465/X1004</td><td>2019.1.01326.S</td><td>Position_i_03_TP</td><td>TP</td><td>Outflows, jets, feedback, Galactic centres/nuclei</td><td>Active galaxies</td><td>3</td><td>2.0</td><td>Position_8</td><td>0.01746660497991503</td><td>62.87974867219725</td><td>F</td><td>10.0</td><td>0.0</td><td>12.575949734439451</td><td>2</td><td>4</td><td>965.2369862129896</td><td>92.45000352385364</td><td>2.977997071370687</td><td>14336.0</td><td>4096.0</td><td>2.0</td><td>8.0</td><td>92.45000352385364</td><td>2</td><td>16.0</td><td>32.0</td><td>2.0</td><td>8</td><td>16</td><td>607.5</td><td>45.0</td><td>1.969971998843775</td><td>3292.0</td><td>26336.0</td><td>52672.0</td><td>0.1730665158479062</td><td>0.3461330316958124</td><td>0.021633314480988274</td></tr>\n",
       "<tr><td>uid://A001/X1465/X1004</td><td>2019.1.01326.S</td><td>Position_i_03_TP</td><td>TP</td><td>Outflows, jets, feedback, Galactic centres/nuclei</td><td>Active galaxies</td><td>3</td><td>2.0</td><td>Position_8_OFF_0</td><td>0.017466475160180468</td><td>62.879291027141825</td><td>F</td><td>10.0</td><td>0.0</td><td>12.575858205428364</td><td>2</td><td>4</td><td>965.2440815398124</td><td>92.45068762960969</td><td>2.9779970713706874</td><td>14336.0</td><td>4096.0</td><td>2.0</td><td>8.0</td><td>92.45068762960969</td><td>2</td><td>16.0</td><td>32.0</td><td>2.0</td><td>8</td><td>16</td><td>607.5</td><td>45.0</td><td>1.9699574216760087</td><td>3292.0</td><td>26336.0</td><td>52672.0</td><td>0.17306523521059883</td><td>0.34613047042119766</td><td>0.021633154401324853</td></tr>\n",
       "<tr><td>uid://A001/X1465/X100a</td><td>2019.1.01326.S</td><td>Position_j_03_TP</td><td>TP</td><td>Outflows, jets, feedback, Galactic centres/nuclei</td><td>Active galaxies</td><td>3</td><td>2.0</td><td>Position_2</td><td>0.016034756409375246</td><td>57.725123073750886</td><td>F</td><td>10.0</td><td>0.0</td><td>11.545024614750178</td><td>2</td><td>4</td><td>1116.951125568381</td><td>100.949449109937</td><td>3.1672797407443896</td><td>8192.0</td><td>2048.0</td><td>2.0</td><td>8.0</td><td>100.949449109937</td><td>2</td><td>16.0</td><td>32.0</td><td>2.0</td><td>8</td><td>16</td><td>661.5</td><td>49.0</td><td>1.9644754153242723</td><td>3023.0</td><td>24184.0</td><td>48368.0</td><td>0.15849516902836702</td><td>0.31699033805673404</td><td>0.019811896128545878</td></tr>\n",
       "<tr><td>uid://A001/X1465/X100a</td><td>2019.1.01326.S</td><td>Position_j_03_TP</td><td>TP</td><td>Outflows, jets, feedback, Galactic centres/nuclei</td><td>Active galaxies</td><td>3</td><td>2.0</td><td>Position_2_OFF_0</td><td>0.016034618483757104</td><td>57.72462654152557</td><td>F</td><td>10.0</td><td>0.0</td><td>11.544925308305114</td><td>2</td><td>4</td><td>1116.9607332914827</td><td>100.95031745084475</td><td>3.1672797407443896</td><td>8192.0</td><td>2048.0</td><td>2.0</td><td>8.0</td><td>100.95031745084475</td><td>2</td><td>16.0</td><td>32.0</td><td>2.0</td><td>8</td><td>16</td><td>661.5</td><td>49.0</td><td>1.9644585175629925</td><td>3023.0</td><td>24184.0</td><td>48368.0</td><td>0.15849380570586916</td><td>0.3169876114117383</td><td>0.019811725713233645</td></tr>\n",
       "<tr><td>uid://A001/X1465/X1010</td><td>2019.1.01326.S</td><td>Position_k_03_TP</td><td>TP</td><td>Outflows, jets, feedback, Galactic centres/nuclei</td><td>Active galaxies</td><td>3</td><td>2.0</td><td>Position_3</td><td>0.01603475618782238</td><td>57.72512227616057</td><td>F</td><td>10.0</td><td>0.0</td><td>11.545024455232113</td><td>2</td><td>4</td><td>1116.9514798209739</td><td>100.9494499054753</td><td>3.1672806946595498</td><td>8192.0</td><td>2048.0</td><td>2.0</td><td>8.0</td><td>100.9494499054753</td><td>2</td><td>16.0</td><td>32.0</td><td>2.0</td><td>8</td><td>16</td><td>661.5</td><td>49.0</td><td>1.9644753998431037</td><td>3023.0</td><td>24184.0</td><td>48368.0</td><td>0.15849516777933617</td><td>0.31699033555867234</td><td>0.01981189597241702</td></tr>\n",
       "<tr><td>uid://A001/X1465/X1010</td><td>2019.1.01326.S</td><td>Position_k_03_TP</td><td>TP</td><td>Outflows, jets, feedback, Galactic centres/nuclei</td><td>Active galaxies</td><td>3</td><td>2.0</td><td>Position_3_OFF_0</td><td>0.016034610164500713</td><td>57.724596592202566</td><td>F</td><td>10.0</td><td>0.0</td><td>11.544919318440513</td><td>2</td><td>4</td><td>1116.9616516283045</td><td>100.9503692277316</td><td>3.1672806946595498</td><td>8192.0</td><td>2048.0</td><td>2.0</td><td>8.0</td><td>100.9503692277316</td><td>2</td><td>16.0</td><td>32.0</td><td>2.0</td><td>8</td><td>16</td><td>661.5</td><td>49.0</td><td>1.9644575100030683</td><td>3023.0</td><td>24184.0</td><td>48368.0</td><td>0.15849372441527154</td><td>0.3169874488305431</td><td>0.019811715551908943</td></tr>\n",
       "<tr><td>...</td><td>...</td><td>...</td><td>...</td><td>...</td><td>...</td><td>...</td><td>...</td><td>...</td><td>...</td><td>...</td><td>...</td><td>...</td><td>...</td><td>...</td><td>...</td><td>...</td><td>...</td><td>...</td><td>...</td><td>...</td><td>...</td><td>...</td><td>...</td><td>...</td><td>...</td><td>...</td><td>...</td><td>...</td><td>...</td><td>...</td><td>...</td><td>...</td><td>...</td><td>...</td><td>...</td><td>...</td><td>...</td><td>...</td><td>...</td></tr>\n",
       "<tr><td>uid://A001/X14d8/X499</td><td>2019.2.00096.S</td><td>IC443_k_06_TP</td><td>TP</td><td>Inter-Stellar Medium (ISM)/Molecular clouds</td><td>ISM and star formation</td><td>6</td><td>2.0</td><td>IC443</td><td>0.007172222625573374</td><td>25.819990177803014</td><td>F</td><td>10.0</td><td>0.0</td><td>5.163998035560604</td><td>2</td><td>5</td><td>70.53285996257439</td><td>224.1203897476365</td><td>0.09177235820475248</td><td>8192.0</td><td>2048.0</td><td>2.0</td><td>2.5</td><td>224.1203897476365</td><td>2</td><td>16.0</td><td>32.0</td><td>2.0</td><td>8</td><td>16</td><td>67.5</td><td>5.0</td><td>0.09029071802786921</td><td>29629.0</td><td>237032.0</td><td>474064.0</td><td>0.07139020246224041</td><td>0.14278040492448082</td><td>0.008923775307780052</td></tr>\n",
       "<tr><td>uid://A001/X14d8/X499</td><td>2019.2.00096.S</td><td>IC443_k_06_TP</td><td>TP</td><td>Inter-Stellar Medium (ISM)/Molecular clouds</td><td>ISM and star formation</td><td>6</td><td>2.0</td><td>IC443_OFF_0</td><td>0.007172206219609523</td><td>25.81988637773073</td><td>F</td><td>10.0</td><td>0.0</td><td>5.163977275546146</td><td>2</td><td>5</td><td>70.53308240467307</td><td>224.12111301089317</td><td>0.09177235820475248</td><td>8192.0</td><td>2048.0</td><td>2.0</td><td>2.5</td><td>224.12111301089317</td><td>2</td><td>16.0</td><td>32.0</td><td>2.0</td><td>8</td><td>16</td><td>67.5</td><td>5.0</td><td>0.09029042664988216</td><td>29629.0</td><td>237032.0</td><td>474064.0</td><td>0.07138997207827688</td><td>0.14277994415655376</td><td>0.00892374650978461</td></tr>\n",
       "<tr><td>uid://A001/X14d8/X49f</td><td>2019.2.00096.S</td><td>IC443_l_06_TP</td><td>TP</td><td>Inter-Stellar Medium (ISM)/Molecular clouds</td><td>ISM and star formation</td><td>6</td><td>2.0</td><td>IC443</td><td>0.007172219683278554</td><td>25.819976856648545</td><td>F</td><td>10.0</td><td>0.0</td><td>5.163995371329709</td><td>2</td><td>5</td><td>70.54567071677698</td><td>224.12045434405917</td><td>0.09178909590987844</td><td>8192.0</td><td>2048.0</td><td>2.0</td><td>2.5</td><td>224.12045434405917</td><td>2</td><td>16.0</td><td>32.0</td><td>2.0</td><td>8</td><td>16</td><td>67.5</td><td>5.0</td><td>0.09029069200410712</td><td>29629.0</td><td>237032.0</td><td>474064.0</td><td>0.07139018188602078</td><td>0.14278036377204156</td><td>0.008923772735752598</td></tr>\n",
       "<tr><td>uid://A001/X14d8/X49f</td><td>2019.2.00096.S</td><td>IC443_l_06_TP</td><td>TP</td><td>Inter-Stellar Medium (ISM)/Molecular clouds</td><td>ISM and star formation</td><td>6</td><td>2.0</td><td>IC443_OFF_0</td><td>0.007172237356878458</td><td>25.81998067246011</td><td>F</td><td>10.0</td><td>0.0</td><td>5.163996134492022</td><td>2</td><td>5</td><td>70.54557870550774</td><td>224.12016299473515</td><td>0.09178909590987845</td><td>8192.0</td><td>2048.0</td><td>2.0</td><td>2.5</td><td>224.12016299473515</td><td>2</td><td>16.0</td><td>32.0</td><td>2.0</td><td>8</td><td>16</td><td>67.5</td><td>5.0</td><td>0.09029080937923181</td><td>29629.0</td><td>237032.0</td><td>474064.0</td><td>0.0713902746910632</td><td>0.1427805493821264</td><td>0.0089237843363829</td></tr>\n",
       "<tr><td>uid://A001/X14d8/Xb1</td><td>2019.2.00078.S</td><td>G208N2_a_07_TP</td><td>TP</td><td>Pre-stellar cores, Infra-Red Dark Clouds (IRDC), Astrochemistry</td><td>ISM and star formation</td><td>7</td><td>2.0</td><td>G208N2</td><td>0.004433108907085203</td><td>15.959191648131384</td><td>F</td><td>10.0</td><td>0.0</td><td>3.1918383296262767</td><td>2</td><td>4</td><td>122.02463583428866</td><td>365.79206030782996</td><td>0.09823216517174835</td><td>16384.0</td><td>4096.0</td><td>2.0</td><td>2.75</td><td>365.79206030782996</td><td>2</td><td>8.0</td><td>32.0</td><td>2.0</td><td>4</td><td>16</td><td>135.0</td><td>10.0</td><td>0.110642045636368</td><td>14814.0</td><td>59256.0</td><td>237024.0</td><td>0.02187034894433644</td><td>0.08748139577734576</td><td>0.00546758723608411</td></tr>\n",
       "<tr><td>uid://A001/X14d8/Xb1</td><td>2019.2.00078.S</td><td>G208N2_a_07_TP</td><td>TP</td><td>Pre-stellar cores, Infra-Red Dark Clouds (IRDC), Astrochemistry</td><td>ISM and star formation</td><td>7</td><td>2.0</td><td>G208N2_OFF_0</td><td>0.004433102041126636</td><td>15.959166845476638</td><td>F</td><td>10.0</td><td>0.0</td><td>3.1918333690953276</td><td>2</td><td>4</td><td>122.02482514241491</td><td>365.79262801258943</td><td>0.09823216517174833</td><td>16384.0</td><td>4096.0</td><td>2.0</td><td>2.75</td><td>365.79262801258943</td><td>2</td><td>8.0</td><td>32.0</td><td>2.0</td><td>4</td><td>16</td><td>135.0</td><td>10.0</td><td>0.11064187392154629</td><td>14814.0</td><td>59256.0</td><td>237024.0</td><td>0.02187031500187769</td><td>0.08748126000751076</td><td>0.0054675787504694226</td></tr>\n",
       "</table></div>"
      ],
      "text/plain": [
       "<QTable length=447>\n",
       "         mous           proposal_id   ...    wsu_frac_bw_spw   \n",
       "                                      ...                      \n",
       "        str22              str14      ...        float64       \n",
       "---------------------- -------------- ... ---------------------\n",
       "uid://A001/X1465/X1004 2019.1.01326.S ...  0.021633314480988274\n",
       "uid://A001/X1465/X1004 2019.1.01326.S ...  0.021633154401324853\n",
       "uid://A001/X1465/X100a 2019.1.01326.S ...  0.019811896128545878\n",
       "uid://A001/X1465/X100a 2019.1.01326.S ...  0.019811725713233645\n",
       "uid://A001/X1465/X1010 2019.1.01326.S ...   0.01981189597241702\n",
       "uid://A001/X1465/X1010 2019.1.01326.S ...  0.019811715551908943\n",
       "                   ...            ... ...                   ...\n",
       " uid://A001/X14d8/X499 2019.2.00096.S ...  0.008923775307780052\n",
       " uid://A001/X14d8/X499 2019.2.00096.S ...   0.00892374650978461\n",
       " uid://A001/X14d8/X49f 2019.2.00096.S ...  0.008923772735752598\n",
       " uid://A001/X14d8/X49f 2019.2.00096.S ...    0.0089237843363829\n",
       "  uid://A001/X14d8/Xb1 2019.2.00078.S ...   0.00546758723608411\n",
       "  uid://A001/X14d8/Xb1 2019.2.00078.S ... 0.0054675787504694226"
      ]
     },
     "execution_count": 17,
     "metadata": {},
     "output_type": "execute_result"
    }
   ],
   "source": [
    "result2019_tp"
   ]
  },
  {
   "cell_type": "markdown",
   "id": "c61fc35c",
   "metadata": {},
   "source": [
    "imsize is definitely wrong. For example, uid://A001/X1465/X1004.\tThe SD pipeline has it as 78,76, which is much larger than given here."
   ]
  },
  {
   "cell_type": "code",
   "execution_count": 18,
   "id": "b98d6714",
   "metadata": {
    "scrolled": true
   },
   "outputs": [
    {
     "data": {
      "text/plain": [
       "<TableColumns names=('mous','proposal_id','schedblock_name','array','science_keyword','scientific_category','band','ntarget','target_name','s_fov','s_resolution','mosaic','imsize','pb','cell','blc_npol','blc_nspw','blc_specwidth','blc_freq','blc_velres','blc_nchan_agg','blc_nchan_max','blc_bandwidth_max','blc_bandwidth_agg','wsu_freq','wsu_npol','wsu_bandwidth_early','wsu_bandwidth_later_4x','wsu_bandwidth_spw','wsu_nspw_early','wsu_nspw_later_4x','wsu_specwidth_stepped2','wsu_chanavg_stepped2','wsu_velres_stepped2','wsu_nchan_spw_stepped2','wsu_nchan_agg_stepped2_early','wsu_nchan_agg_stepped2_later_4x','wsu_frac_bw_early','wsu_frac_bw_later_4x','wsu_frac_bw_spw')>"
      ]
     },
     "execution_count": 18,
     "metadata": {},
     "output_type": "execute_result"
    }
   ],
   "source": [
    "result2019_tp.columns"
   ]
  },
  {
   "cell_type": "code",
   "execution_count": 19,
   "id": "9fa45859",
   "metadata": {
    "scrolled": false
   },
   "outputs": [
    {
     "data": {
      "text/html": [
       "<div><i>QTable length=136</i>\n",
       "<table id=\"table140373490081408\" class=\"table-striped table-bordered table-condensed\">\n",
       "<thead><tr><th>mous</th><th>ntarget</th><th>target_name</th></tr></thead>\n",
       "<thead><tr><th>str22</th><th>float64</th><th>str29</th></tr></thead>\n",
       "<tr><td>uid://A001/X1465/X1ffd</td><td>10.0</td><td>Ridge-N1</td></tr>\n",
       "<tr><td>uid://A001/X1465/X1ffd</td><td>10.0</td><td>Ridge-N1_OFF_0</td></tr>\n",
       "<tr><td>uid://A001/X1465/X1ffd</td><td>10.0</td><td>Ridge-N2</td></tr>\n",
       "<tr><td>uid://A001/X1465/X1ffd</td><td>10.0</td><td>Ridge-N2_OFF_0</td></tr>\n",
       "<tr><td>uid://A001/X1465/X1ffd</td><td>10.0</td><td>Ridge-N3</td></tr>\n",
       "<tr><td>uid://A001/X1465/X1ffd</td><td>10.0</td><td>Ridge-N3_OFF_0</td></tr>\n",
       "<tr><td>...</td><td>...</td><td>...</td></tr>\n",
       "<tr><td>uid://A001/X14d7/Xbe</td><td>8.0</td><td>G328.25-0.53_A_OFF_0</td></tr>\n",
       "<tr><td>uid://A001/X14d7/Xbe</td><td>8.0</td><td>G333.46-0.16_A</td></tr>\n",
       "<tr><td>uid://A001/X14d7/Xbe</td><td>8.0</td><td>G333.46-0.16_A_OFF_0</td></tr>\n",
       "<tr><td>uid://A001/X14d7/Xbe</td><td>8.0</td><td>G335.58-0.29_A</td></tr>\n",
       "<tr><td>uid://A001/X14d7/Xbe</td><td>8.0</td><td>G335.58-0.29_A_OFF_0</td></tr>\n",
       "<tr><td>uid://A001/X14d7/Xbe</td><td>8.0</td><td>G335.78+0.17_A</td></tr>\n",
       "<tr><td>uid://A001/X14d7/Xbe</td><td>8.0</td><td>G335.78+0.17_A_OFF_0</td></tr>\n",
       "</table></div>"
      ],
      "text/plain": [
       "<QTable length=136>\n",
       "         mous          ntarget     target_name     \n",
       "        str22          float64        str29        \n",
       "---------------------- ------- --------------------\n",
       "uid://A001/X1465/X1ffd    10.0             Ridge-N1\n",
       "uid://A001/X1465/X1ffd    10.0       Ridge-N1_OFF_0\n",
       "uid://A001/X1465/X1ffd    10.0             Ridge-N2\n",
       "uid://A001/X1465/X1ffd    10.0       Ridge-N2_OFF_0\n",
       "uid://A001/X1465/X1ffd    10.0             Ridge-N3\n",
       "uid://A001/X1465/X1ffd    10.0       Ridge-N3_OFF_0\n",
       "                   ...     ...                  ...\n",
       "  uid://A001/X14d7/Xbe     8.0 G328.25-0.53_A_OFF_0\n",
       "  uid://A001/X14d7/Xbe     8.0       G333.46-0.16_A\n",
       "  uid://A001/X14d7/Xbe     8.0 G333.46-0.16_A_OFF_0\n",
       "  uid://A001/X14d7/Xbe     8.0       G335.58-0.29_A\n",
       "  uid://A001/X14d7/Xbe     8.0 G335.58-0.29_A_OFF_0\n",
       "  uid://A001/X14d7/Xbe     8.0       G335.78+0.17_A\n",
       "  uid://A001/X14d7/Xbe     8.0 G335.78+0.17_A_OFF_0"
      ]
     },
     "execution_count": 19,
     "metadata": {},
     "output_type": "execute_result"
    }
   ],
   "source": [
    "idx = result2019_tp['ntarget'] > 3\n",
    "result2019_tp[idx]['mous','ntarget','target_name']"
   ]
  },
  {
   "cell_type": "markdown",
   "id": "c8195099",
   "metadata": {},
   "source": [
    "looks like the offs are a separate source."
   ]
  },
  {
   "cell_type": "markdown",
   "id": "44c675aa",
   "metadata": {},
   "source": [
    "Checking on the re-calculated velocities."
   ]
  },
  {
   "cell_type": "code",
   "execution_count": 23,
   "id": "04631c27",
   "metadata": {},
   "outputs": [
    {
     "data": {
      "text/plain": [
       "<TableColumns names=('mous','proposal_id','schedblock_name','array','science_keyword','scientific_category','band','ntarget','target_name','s_fov','s_resolution','mosaic','imsize','pb','cell','blc_npol','blc_nspw','blc_specwidth','blc_freq','blc_velres','blc_nchan_agg','blc_nchan_max','blc_bandwidth_max','blc_bandwidth_agg','wsu_freq','wsu_npol','wsu_bandwidth_early','wsu_bandwidth_later_4x','wsu_bandwidth_spw','wsu_nspw_early','wsu_nspw_later_4x','wsu_specwidth_stepped2','wsu_chanavg_stepped2','wsu_velres_stepped2','wsu_nchan_spw_stepped2','wsu_nchan_agg_stepped2_early','wsu_nchan_agg_stepped2_later_4x','wsu_frac_bw_early','wsu_frac_bw_later_4x','wsu_frac_bw_spw')>"
      ]
     },
     "execution_count": 23,
     "metadata": {},
     "output_type": "execute_result"
    }
   ],
   "source": [
    "result2019_tp.columns"
   ]
  },
  {
   "cell_type": "code",
   "execution_count": 29,
   "id": "f2479667",
   "metadata": {},
   "outputs": [
    {
     "data": {
      "text/plain": [
       "<matplotlib.lines.Line2D at 0x7fab6807cfd0>"
      ]
     },
     "execution_count": 29,
     "metadata": {},
     "output_type": "execute_result"
    },
    {
     "data": {
      "image/png": "[encoded data removed]",
      "text/plain": [
       "<Figure size 640x480 with 1 Axes>"
      ]
     },
     "metadata": {},
     "output_type": "display_data"
    }
   ],
   "source": [
    "plt.scatter(result2019_tp['blc_velres'],result2019_tp['wsu_velres_stepped2'])\n",
    "plt.xlim(0,0.5)\n",
    "plt.ylim(0,0.3)\n",
    "plt.axvline(0.1)\n",
    "plt.axhline(0.1)"
   ]
  },
  {
   "cell_type": "code",
   "execution_count": 20,
   "id": "d881a6d4",
   "metadata": {},
   "outputs": [],
   "source": [
    "reload(wsu_db)\n",
    "result2021_tp = wsu_db.create_tp_database(result2021)"
   ]
  },
  {
   "cell_type": "code",
   "execution_count": 21,
   "id": "2575dfd7",
   "metadata": {
    "scrolled": false
   },
   "outputs": [
    {
     "data": {
      "text/plain": [
       "515"
      ]
     },
     "execution_count": 21,
     "metadata": {},
     "output_type": "execute_result"
    }
   ],
   "source": [
    "len(result2021_tp)"
   ]
  },
  {
   "cell_type": "code",
   "execution_count": 30,
   "id": "1a3aa353",
   "metadata": {},
   "outputs": [
    {
     "data": {
      "text/plain": [
       "<matplotlib.lines.Line2D at 0x7fab9218de50>"
      ]
     },
     "execution_count": 30,
     "metadata": {},
     "output_type": "execute_result"
    },
    {
     "data": {
      "image/png": "[encoded data removed]",
      "text/plain": [
       "<Figure size 640x480 with 1 Axes>"
      ]
     },
     "metadata": {},
     "output_type": "display_data"
    }
   ],
   "source": [
    "plt.scatter(result2021_tp['blc_velres'],result2021_tp['wsu_velres_stepped2'])\n",
    "plt.xlim(0,0.5)\n",
    "plt.ylim(0,0.3)\n",
    "plt.axvline(0.1)\n",
    "plt.axhline(0.1)"
   ]
  },
  {
   "cell_type": "code",
   "execution_count": 31,
   "id": "22a1b581",
   "metadata": {
    "scrolled": true
   },
   "outputs": [
    {
     "data": {
      "text/plain": [
       "<TableColumns names=('mous','proposal_id','schedblock_name','array','science_keyword','scientific_category','band','ntarget','target_name','s_fov','s_resolution','mosaic','imsize','pb','cell','blc_npol','blc_nspw','blc_specwidth','blc_freq','blc_velres','blc_nchan_agg','blc_nchan_max','blc_bandwidth_max','blc_bandwidth_agg','wsu_freq','wsu_npol','wsu_bandwidth_early','wsu_bandwidth_later_4x','wsu_bandwidth_spw','wsu_nspw_early','wsu_nspw_later_4x','wsu_specwidth_stepped2','wsu_chanavg_stepped2','wsu_velres_stepped2','wsu_nchan_spw_stepped2','wsu_nchan_agg_stepped2_early','wsu_nchan_agg_stepped2_later_4x','wsu_frac_bw_early','wsu_frac_bw_later_4x','wsu_frac_bw_spw')>"
      ]
     },
     "execution_count": 31,
     "metadata": {},
     "output_type": "execute_result"
    }
   ],
   "source": [
    "result2019_tp.columns"
   ]
  },
  {
   "cell_type": "markdown",
   "id": "884d3362",
   "metadata": {},
   "source": [
    "## munge dump time data base"
   ]
  },
  {
   "cell_type": "code",
   "execution_count": 32,
   "id": "10a1aa51",
   "metadata": {
    "scrolled": true
   },
   "outputs": [
    {
     "data": {
      "text/plain": [
       "<TableColumns names=('OBSPROJECT_UID','SB_UID','SB_NAME','STANDARD_MODE','MODE_NAME','ARRAY','ESTIMATED_EXECUTION_TIME_PRJ','ESTIMATED_EXECUTION_TIME_PRJ_UNIT','REPRESENTATIVE_FREQUENCY','REPRESENTATIVE_FREQUENCY_UNIT','REQUIRED_RECIEVER_BANDS','REPRESENTATIVE_TARGET_REF','PRJ_CODE','CYCLE','EXECOUNT','SB_STATE','TARGET_ID','SPEC_REF','FIELD_REF','OBSERVING_PARAMETER_REF','SCIPARAM_NAME','SCIPARAM_REPRESENTATIVE_BANDWIDTH','SCIPARAM_REPRESENTATIVE_BANDWIDTH_UNIT','SCIPARAM_REPRESENTATIVE_FREQUENCY','SCIPARAM_REPRESENTATIVE_FREQUENCY_UNIT','SCIPARAM_SENSITIVITY_GOAL','SCIPARAM_SENSITIVITY_GOAL_UNIT','SCIPARAM_INTEGRATION_TIME','SCIPARAM_INTEGRATION_TIME_UNIT','SCIPARAM_SUB_SCAN_DURATION','SCIPARAM_SUB_SCAN_DURATION_UNIT','ACASPEC_INTEGRATION_DURATION','ACASPEC_INTEGRATION_DURATION_UNIT','ACASPEC_CHANNEL_AVERAGE_DURATION','ACASPEC_CHANNEL_AVERAGE_DURATION_UNIT','ACASPEC_ENABLE_180_DEGREE_WALSH_FUNCTION','ACASPEC_ENABLE_90_DEGREE_WALSH_FUNCTION','SUB_SCAN_DURATION (s)','INTEGRATION_DURATION (s)','Samples')>"
      ]
     },
     "execution_count": 32,
     "metadata": {},
     "output_type": "execute_result"
    }
   ],
   "source": [
    "tp_dump_time.columns"
   ]
  },
  {
   "cell_type": "code",
   "execution_count": 33,
   "id": "75cfa3b3",
   "metadata": {
    "scrolled": false
   },
   "outputs": [],
   "source": [
    "reload(wsu_db)\n",
    "tp_dump_time_sb = wsu_db.aggregate_tdump_db(tp_dump_time)"
   ]
  },
  {
   "cell_type": "markdown",
   "id": "ff321b3c",
   "metadata": {},
   "source": [
    "## add dump time"
   ]
  },
  {
   "cell_type": "code",
   "execution_count": 34,
   "id": "a4cf63a2",
   "metadata": {},
   "outputs": [
    {
     "data": {
      "text/plain": [
       "<TableColumns names=('proposal_id','schedblock_name','CYCLE','ESTIMATED_EXECUTION_TIME_PRJ','ESTIMATED_EXECUTION_TIME_PRJ_UNIT','ACASPEC_INTEGRATION_DURATION','EXECOUNT','N_TDUMP')>"
      ]
     },
     "execution_count": 34,
     "metadata": {},
     "output_type": "execute_result"
    }
   ],
   "source": [
    "tp_dump_time_sb.columns"
   ]
  },
  {
   "cell_type": "code",
   "execution_count": 35,
   "id": "b3a8b731",
   "metadata": {},
   "outputs": [],
   "source": [
    "result2019_tp_dump = join(result2019_tp,tp_dump_time_sb,join_type='left')"
   ]
  },
  {
   "cell_type": "code",
   "execution_count": 36,
   "id": "1419756e",
   "metadata": {
    "scrolled": true
   },
   "outputs": [
    {
     "data": {
      "text/plain": [
       "<TableColumns names=('mous','proposal_id','schedblock_name','array','science_keyword','scientific_category','band','ntarget','target_name','s_fov','s_resolution','mosaic','imsize','pb','cell','blc_npol','blc_nspw','blc_specwidth','blc_freq','blc_velres','blc_nchan_agg','blc_nchan_max','blc_bandwidth_max','blc_bandwidth_agg','wsu_freq','wsu_npol','wsu_bandwidth_early','wsu_bandwidth_later_4x','wsu_bandwidth_spw','wsu_nspw_early','wsu_nspw_later_4x','wsu_specwidth_stepped2','wsu_chanavg_stepped2','wsu_velres_stepped2','wsu_nchan_spw_stepped2','wsu_nchan_agg_stepped2_early','wsu_nchan_agg_stepped2_later_4x','wsu_frac_bw_early','wsu_frac_bw_later_4x','wsu_frac_bw_spw','CYCLE','ESTIMATED_EXECUTION_TIME_PRJ','ESTIMATED_EXECUTION_TIME_PRJ_UNIT','ACASPEC_INTEGRATION_DURATION','EXECOUNT','N_TDUMP')>"
      ]
     },
     "execution_count": 36,
     "metadata": {},
     "output_type": "execute_result"
    }
   ],
   "source": [
    "result2019_tp_dump.columns"
   ]
  },
  {
   "cell_type": "code",
   "execution_count": 37,
   "id": "28e2c0d4",
   "metadata": {},
   "outputs": [
    {
     "data": {
      "text/plain": [
       "447"
      ]
     },
     "execution_count": 37,
     "metadata": {},
     "output_type": "execute_result"
    }
   ],
   "source": [
    "len(result2019_tp_dump)"
   ]
  },
  {
   "cell_type": "code",
   "execution_count": 38,
   "id": "49736043",
   "metadata": {
    "scrolled": true
   },
   "outputs": [
    {
     "data": {
      "text/plain": [
       "447"
      ]
     },
     "execution_count": 38,
     "metadata": {},
     "output_type": "execute_result"
    }
   ],
   "source": [
    "len(result2019_tp)"
   ]
  },
  {
   "cell_type": "code",
   "execution_count": 39,
   "id": "10232df0",
   "metadata": {},
   "outputs": [
    {
     "data": {
      "text/plain": [
       "<TableColumns names=('mous','proposal_id','schedblock_name','array','science_keyword','scientific_category','band','ntarget','target_name','s_fov','s_resolution','mosaic','imsize','pb','cell','blc_npol','blc_nspw','blc_specwidth','blc_freq','blc_velres','blc_nchan_agg','blc_nchan_max','blc_bandwidth_max','blc_bandwidth_agg','wsu_freq','wsu_npol','wsu_bandwidth_early','wsu_bandwidth_later_4x','wsu_bandwidth_spw','wsu_nspw_early','wsu_nspw_later_4x','wsu_specwidth_stepped2','wsu_chanavg_stepped2','wsu_velres_stepped2','wsu_nchan_spw_stepped2','wsu_nchan_agg_stepped2_early','wsu_nchan_agg_stepped2_later_4x','wsu_frac_bw_early','wsu_frac_bw_later_4x','wsu_frac_bw_spw','CYCLE','ESTIMATED_EXECUTION_TIME_PRJ','ESTIMATED_EXECUTION_TIME_PRJ_UNIT','ACASPEC_INTEGRATION_DURATION','EXECOUNT','N_TDUMP')>"
      ]
     },
     "execution_count": 39,
     "metadata": {},
     "output_type": "execute_result"
    }
   ],
   "source": [
    "result2019_tp_dump.columns"
   ]
  },
  {
   "cell_type": "code",
   "execution_count": 40,
   "id": "27dbba0e",
   "metadata": {
    "scrolled": true
   },
   "outputs": [
    {
     "data": {
      "text/html": [
       "<div><i>QTable length=447</i>\n",
       "<table id=\"table140374917086992\" class=\"table-striped table-bordered table-condensed\">\n",
       "<thead><tr><th>mous</th><th>proposal_id</th><th>ACASPEC_INTEGRATION_DURATION</th><th>N_TDUMP</th></tr></thead>\n",
       "<thead><tr><th>str22</th><th>str14</th><th>float64</th><th>int64</th></tr></thead>\n",
       "<tr><td>uid://A001/X1465/X346b</td><td>2019.1.00263.S</td><td>0.512</td><td>1</td></tr>\n",
       "<tr><td>uid://A001/X1465/X346b</td><td>2019.1.00263.S</td><td>0.512</td><td>1</td></tr>\n",
       "<tr><td>uid://A001/X1465/X2bd0</td><td>2019.1.00558.S</td><td>0.4</td><td>1</td></tr>\n",
       "<tr><td>uid://A001/X1465/X2bd0</td><td>2019.1.00558.S</td><td>0.4</td><td>1</td></tr>\n",
       "<tr><td>uid://A001/X1465/X296b</td><td>2019.1.00639.S</td><td>0.64</td><td>1</td></tr>\n",
       "<tr><td>uid://A001/X1465/X296b</td><td>2019.1.00639.S</td><td>0.64</td><td>1</td></tr>\n",
       "<tr><td>...</td><td>...</td><td>...</td><td>...</td></tr>\n",
       "<tr><td>uid://A001/X14c3/Xa31</td><td>2019.2.00232.S</td><td>0.368</td><td>1</td></tr>\n",
       "<tr><td>uid://A001/X14c3/Xa37</td><td>2019.2.00232.S</td><td>0.336</td><td>1</td></tr>\n",
       "<tr><td>uid://A001/X14c3/Xa37</td><td>2019.2.00232.S</td><td>0.336</td><td>1</td></tr>\n",
       "<tr><td>uid://A001/X14c2/X1c5</td><td>2019.2.00236.S</td><td>0.352</td><td>1</td></tr>\n",
       "<tr><td>uid://A001/X14c2/X1c5</td><td>2019.2.00236.S</td><td>0.352</td><td>1</td></tr>\n",
       "<tr><td>uid://A001/X14d7/X5e</td><td>2019.2.00252.S</td><td>0.864</td><td>1</td></tr>\n",
       "<tr><td>uid://A001/X14d7/X5e</td><td>2019.2.00252.S</td><td>0.864</td><td>1</td></tr>\n",
       "</table></div>"
      ],
      "text/plain": [
       "<QTable length=447>\n",
       "         mous           proposal_id   ACASPEC_INTEGRATION_DURATION N_TDUMP\n",
       "        str22              str14                float64             int64 \n",
       "---------------------- -------------- ---------------------------- -------\n",
       "uid://A001/X1465/X346b 2019.1.00263.S                        0.512       1\n",
       "uid://A001/X1465/X346b 2019.1.00263.S                        0.512       1\n",
       "uid://A001/X1465/X2bd0 2019.1.00558.S                          0.4       1\n",
       "uid://A001/X1465/X2bd0 2019.1.00558.S                          0.4       1\n",
       "uid://A001/X1465/X296b 2019.1.00639.S                         0.64       1\n",
       "uid://A001/X1465/X296b 2019.1.00639.S                         0.64       1\n",
       "                   ...            ...                          ...     ...\n",
       " uid://A001/X14c3/Xa31 2019.2.00232.S                        0.368       1\n",
       " uid://A001/X14c3/Xa37 2019.2.00232.S                        0.336       1\n",
       " uid://A001/X14c3/Xa37 2019.2.00232.S                        0.336       1\n",
       " uid://A001/X14c2/X1c5 2019.2.00236.S                        0.352       1\n",
       " uid://A001/X14c2/X1c5 2019.2.00236.S                        0.352       1\n",
       "  uid://A001/X14d7/X5e 2019.2.00252.S                        0.864       1\n",
       "  uid://A001/X14d7/X5e 2019.2.00252.S                        0.864       1"
      ]
     },
     "execution_count": 40,
     "metadata": {},
     "output_type": "execute_result"
    }
   ],
   "source": [
    "result2019_tp_dump['mous','proposal_id','ACASPEC_INTEGRATION_DURATION','N_TDUMP']"
   ]
  },
  {
   "cell_type": "code",
   "execution_count": 41,
   "id": "8637da59",
   "metadata": {},
   "outputs": [
    {
     "data": {
      "text/html": [
       "<div><i>QTable length=0</i>\n",
       "<table id=\"table140374041535968\" class=\"table-striped table-bordered table-condensed\">\n",
       "<thead><tr><th>mous</th><th>proposal_id</th><th>ACASPEC_INTEGRATION_DURATION</th><th>N_TDUMP</th></tr></thead>\n",
       "<thead><tr><th>str22</th><th>str14</th><th>float64</th><th>int64</th></tr></thead>\n",
       "</table></div>"
      ],
      "text/plain": [
       "<QTable length=0>\n",
       " mous proposal_id ACASPEC_INTEGRATION_DURATION N_TDUMP\n",
       "str22    str14              float64             int64 \n",
       "----- ----------- ---------------------------- -------"
      ]
     },
     "execution_count": 41,
     "metadata": {},
     "output_type": "execute_result"
    }
   ],
   "source": [
    "idx = result2019_tp_dump['N_TDUMP'] > 1\n",
    "result2019_tp_dump[idx]['mous','proposal_id','ACASPEC_INTEGRATION_DURATION','N_TDUMP']"
   ]
  },
  {
   "cell_type": "code",
   "execution_count": 42,
   "id": "0332dcc3",
   "metadata": {},
   "outputs": [],
   "source": [
    "result2021_tp_dump = join(result2021_tp,tp_dump_time_sb,join_type='left')"
   ]
  },
  {
   "cell_type": "code",
   "execution_count": 43,
   "id": "e2909856",
   "metadata": {},
   "outputs": [
    {
     "data": {
      "text/plain": [
       "515"
      ]
     },
     "execution_count": 43,
     "metadata": {},
     "output_type": "execute_result"
    }
   ],
   "source": [
    "len(result2021_tp)"
   ]
  },
  {
   "cell_type": "code",
   "execution_count": 44,
   "id": "0f9c4c8c",
   "metadata": {},
   "outputs": [
    {
     "data": {
      "text/plain": [
       "515"
      ]
     },
     "execution_count": 44,
     "metadata": {},
     "output_type": "execute_result"
    }
   ],
   "source": [
    "len(result2021_tp_dump)"
   ]
  },
  {
   "cell_type": "code",
   "execution_count": 45,
   "id": "e9545eec",
   "metadata": {},
   "outputs": [
    {
     "data": {
      "text/plain": [
       "<TableColumns names=('mous','proposal_id','schedblock_name','array','science_keyword','scientific_category','band','ntarget','target_name','s_fov','s_resolution','mosaic','imsize','pb','cell','blc_npol','blc_nspw','blc_specwidth','blc_freq','blc_velres','blc_nchan_agg','blc_nchan_max','blc_bandwidth_max','blc_bandwidth_agg','wsu_freq','wsu_npol','wsu_bandwidth_early','wsu_bandwidth_later_4x','wsu_bandwidth_spw','wsu_nspw_early','wsu_nspw_later_4x','wsu_specwidth_stepped2','wsu_chanavg_stepped2','wsu_velres_stepped2','wsu_nchan_spw_stepped2','wsu_nchan_agg_stepped2_early','wsu_nchan_agg_stepped2_later_4x','wsu_frac_bw_early','wsu_frac_bw_later_4x','wsu_frac_bw_spw','CYCLE','ESTIMATED_EXECUTION_TIME_PRJ','ESTIMATED_EXECUTION_TIME_PRJ_UNIT','ACASPEC_INTEGRATION_DURATION','EXECOUNT','N_TDUMP')>"
      ]
     },
     "execution_count": 45,
     "metadata": {},
     "output_type": "execute_result"
    }
   ],
   "source": [
    "result2021_tp_dump.columns"
   ]
  },
  {
   "cell_type": "code",
   "execution_count": 46,
   "id": "34f3b611",
   "metadata": {
    "scrolled": true
   },
   "outputs": [
    {
     "data": {
      "text/html": [
       "<div><i>QTable length=447</i>\n",
       "<table id=\"table140374041407296\" class=\"table-striped table-bordered table-condensed\">\n",
       "<thead><tr><th>mous</th><th>proposal_id</th><th>ACASPEC_INTEGRATION_DURATION</th><th>N_TDUMP</th></tr></thead>\n",
       "<thead><tr><th>str22</th><th>str14</th><th>float64</th><th>int64</th></tr></thead>\n",
       "<tr><td>uid://A001/X1465/X346b</td><td>2019.1.00263.S</td><td>0.512</td><td>1</td></tr>\n",
       "<tr><td>uid://A001/X1465/X346b</td><td>2019.1.00263.S</td><td>0.512</td><td>1</td></tr>\n",
       "<tr><td>uid://A001/X1465/X2bd0</td><td>2019.1.00558.S</td><td>0.4</td><td>1</td></tr>\n",
       "<tr><td>uid://A001/X1465/X2bd0</td><td>2019.1.00558.S</td><td>0.4</td><td>1</td></tr>\n",
       "<tr><td>uid://A001/X1465/X296b</td><td>2019.1.00639.S</td><td>0.64</td><td>1</td></tr>\n",
       "<tr><td>uid://A001/X1465/X296b</td><td>2019.1.00639.S</td><td>0.64</td><td>1</td></tr>\n",
       "<tr><td>...</td><td>...</td><td>...</td><td>...</td></tr>\n",
       "<tr><td>uid://A001/X14c3/Xa31</td><td>2019.2.00232.S</td><td>0.368</td><td>1</td></tr>\n",
       "<tr><td>uid://A001/X14c3/Xa37</td><td>2019.2.00232.S</td><td>0.336</td><td>1</td></tr>\n",
       "<tr><td>uid://A001/X14c3/Xa37</td><td>2019.2.00232.S</td><td>0.336</td><td>1</td></tr>\n",
       "<tr><td>uid://A001/X14c2/X1c5</td><td>2019.2.00236.S</td><td>0.352</td><td>1</td></tr>\n",
       "<tr><td>uid://A001/X14c2/X1c5</td><td>2019.2.00236.S</td><td>0.352</td><td>1</td></tr>\n",
       "<tr><td>uid://A001/X14d7/X5e</td><td>2019.2.00252.S</td><td>0.864</td><td>1</td></tr>\n",
       "<tr><td>uid://A001/X14d7/X5e</td><td>2019.2.00252.S</td><td>0.864</td><td>1</td></tr>\n",
       "</table></div>"
      ],
      "text/plain": [
       "<QTable length=447>\n",
       "         mous           proposal_id   ACASPEC_INTEGRATION_DURATION N_TDUMP\n",
       "        str22              str14                float64             int64 \n",
       "---------------------- -------------- ---------------------------- -------\n",
       "uid://A001/X1465/X346b 2019.1.00263.S                        0.512       1\n",
       "uid://A001/X1465/X346b 2019.1.00263.S                        0.512       1\n",
       "uid://A001/X1465/X2bd0 2019.1.00558.S                          0.4       1\n",
       "uid://A001/X1465/X2bd0 2019.1.00558.S                          0.4       1\n",
       "uid://A001/X1465/X296b 2019.1.00639.S                         0.64       1\n",
       "uid://A001/X1465/X296b 2019.1.00639.S                         0.64       1\n",
       "                   ...            ...                          ...     ...\n",
       " uid://A001/X14c3/Xa31 2019.2.00232.S                        0.368       1\n",
       " uid://A001/X14c3/Xa37 2019.2.00232.S                        0.336       1\n",
       " uid://A001/X14c3/Xa37 2019.2.00232.S                        0.336       1\n",
       " uid://A001/X14c2/X1c5 2019.2.00236.S                        0.352       1\n",
       " uid://A001/X14c2/X1c5 2019.2.00236.S                        0.352       1\n",
       "  uid://A001/X14d7/X5e 2019.2.00252.S                        0.864       1\n",
       "  uid://A001/X14d7/X5e 2019.2.00252.S                        0.864       1"
      ]
     },
     "execution_count": 46,
     "metadata": {},
     "output_type": "execute_result"
    }
   ],
   "source": [
    "result2019_tp_dump['mous','proposal_id','ACASPEC_INTEGRATION_DURATION','N_TDUMP']"
   ]
  },
  {
   "cell_type": "code",
   "execution_count": 47,
   "id": "3623faac",
   "metadata": {},
   "outputs": [
    {
     "data": {
      "text/html": [
       "<div><i>QTable length=0</i>\n",
       "<table id=\"table140374042558816\" class=\"table-striped table-bordered table-condensed\">\n",
       "<thead><tr><th>mous</th><th>proposal_id</th><th>ACASPEC_INTEGRATION_DURATION</th><th>N_TDUMP</th></tr></thead>\n",
       "<thead><tr><th>str22</th><th>str14</th><th>float64</th><th>int64</th></tr></thead>\n",
       "</table></div>"
      ],
      "text/plain": [
       "<QTable length=0>\n",
       " mous proposal_id ACASPEC_INTEGRATION_DURATION N_TDUMP\n",
       "str22    str14              float64             int64 \n",
       "----- ----------- ---------------------------- -------"
      ]
     },
     "execution_count": 47,
     "metadata": {},
     "output_type": "execute_result"
    }
   ],
   "source": [
    "idx = result2021_tp_dump['N_TDUMP'] > 1\n",
    "result2021_tp_dump[idx]['mous','proposal_id','ACASPEC_INTEGRATION_DURATION','N_TDUMP']"
   ]
  },
  {
   "cell_type": "code",
   "execution_count": 61,
   "id": "4f18f927",
   "metadata": {},
   "outputs": [],
   "source": [
    "result2019_tp_dump.write('data/tp_database_cycle7_persrc_20231214.ecsv',overwrite=True)"
   ]
  },
  {
   "cell_type": "code",
   "execution_count": 62,
   "id": "70d96078",
   "metadata": {},
   "outputs": [],
   "source": [
    "result2021_tp_dump.write('data/tp_database_cycle8_persrc_20231214.ecsv',overwrite=True)"
   ]
  },
  {
   "cell_type": "code",
   "execution_count": 63,
   "id": "a90e3535",
   "metadata": {},
   "outputs": [],
   "source": [
    "result_tp_dump = vstack([result2019_tp_dump,result2021_tp_dump])"
   ]
  },
  {
   "cell_type": "code",
   "execution_count": 64,
   "id": "0417640b",
   "metadata": {},
   "outputs": [],
   "source": [
    "result_tp_dump.write('data/tp_database_cycle7_cycle8_permous_20231214.ecsv',overwrite=True)"
   ]
  },
  {
   "cell_type": "markdown",
   "id": "85e0ed01",
   "metadata": {},
   "source": [
    "## aggregating per mous"
   ]
  },
  {
   "cell_type": "code",
   "execution_count": 65,
   "id": "fd5bf55e",
   "metadata": {},
   "outputs": [
    {
     "name": "stdout",
     "output_type": "stream",
     "text": [
      "Taking first value. Key aggregation not specified: mous\n",
      "Taking first value. Key aggregation not specified: proposal_id\n",
      "Taking first value. Key aggregation not specified: schedblock_name\n",
      "Taking first value. Key aggregation not specified: array\n",
      "Taking first value. Key aggregation not specified: science_keyword\n",
      "Taking first value. Key aggregation not specified: scientific_category\n",
      "Taking first value. Key aggregation not specified: band\n",
      "Taking first value. Key aggregation not specified: ntarget\n",
      "Taking first value. Key aggregation not specified: target_name\n",
      "Taking first value. Key aggregation not specified: mosaic\n",
      "Taking first value. Key aggregation not specified: blc_npol\n",
      "Taking first value. Key aggregation not specified: blc_nspw\n",
      "Taking first value. Key aggregation not specified: blc_nchan_agg\n",
      "Taking first value. Key aggregation not specified: blc_nchan_max\n",
      "Taking first value. Key aggregation not specified: blc_bandwidth_max\n",
      "Taking first value. Key aggregation not specified: blc_bandwidth_agg\n",
      "Taking first value. Key aggregation not specified: wsu_npol\n",
      "Taking first value. Key aggregation not specified: wsu_bandwidth_early\n",
      "Taking first value. Key aggregation not specified: wsu_bandwidth_later_4x\n",
      "Taking first value. Key aggregation not specified: wsu_bandwidth_spw\n",
      "Taking first value. Key aggregation not specified: wsu_nspw_early\n",
      "Taking first value. Key aggregation not specified: wsu_nspw_later_4x\n",
      "Taking first value. Key aggregation not specified: wsu_frac_bw_early\n",
      "Taking first value. Key aggregation not specified: wsu_frac_bw_later_4x\n",
      "Taking first value. Key aggregation not specified: wsu_frac_bw_spw\n",
      "Taking first value. Key aggregation not specified: CYCLE\n",
      "Taking first value. Key aggregation not specified: ESTIMATED_EXECUTION_TIME_PRJ\n",
      "Taking first value. Key aggregation not specified: ESTIMATED_EXECUTION_TIME_PRJ_UNIT\n",
      "Taking first value. Key aggregation not specified: ACASPEC_INTEGRATION_DURATION\n",
      "Taking first value. Key aggregation not specified: EXECOUNT\n",
      "Taking first value. Key aggregation not specified: N_TDUMP\n"
     ]
    }
   ],
   "source": [
    "result2019_tp_dump_mous = wsu_db.create_per_mous_db(result2019_tp_dump)"
   ]
  },
  {
   "cell_type": "code",
   "execution_count": 66,
   "id": "a9f6b3ac",
   "metadata": {},
   "outputs": [
    {
     "data": {
      "text/plain": [
       "210"
      ]
     },
     "execution_count": 66,
     "metadata": {},
     "output_type": "execute_result"
    }
   ],
   "source": [
    "len(result2019_tp_dump_mous)"
   ]
  },
  {
   "cell_type": "code",
   "execution_count": 67,
   "id": "59060c33",
   "metadata": {},
   "outputs": [
    {
     "name": "stdout",
     "output_type": "stream",
     "text": [
      "Taking first value. Key aggregation not specified: mous\n",
      "Taking first value. Key aggregation not specified: proposal_id\n",
      "Taking first value. Key aggregation not specified: schedblock_name\n",
      "Taking first value. Key aggregation not specified: array\n",
      "Taking first value. Key aggregation not specified: science_keyword\n",
      "Taking first value. Key aggregation not specified: scientific_category\n",
      "Taking first value. Key aggregation not specified: band\n",
      "Taking first value. Key aggregation not specified: ntarget\n",
      "Taking first value. Key aggregation not specified: target_name\n",
      "Taking first value. Key aggregation not specified: mosaic\n",
      "Taking first value. Key aggregation not specified: blc_npol\n",
      "Taking first value. Key aggregation not specified: blc_nspw\n",
      "Taking first value. Key aggregation not specified: blc_nchan_agg\n",
      "Taking first value. Key aggregation not specified: blc_nchan_max\n",
      "Taking first value. Key aggregation not specified: blc_bandwidth_max\n",
      "Taking first value. Key aggregation not specified: blc_bandwidth_agg\n",
      "Taking first value. Key aggregation not specified: wsu_npol\n",
      "Taking first value. Key aggregation not specified: wsu_bandwidth_early\n",
      "Taking first value. Key aggregation not specified: wsu_bandwidth_later_4x\n",
      "Taking first value. Key aggregation not specified: wsu_bandwidth_spw\n",
      "Taking first value. Key aggregation not specified: wsu_nspw_early\n",
      "Taking first value. Key aggregation not specified: wsu_nspw_later_4x\n",
      "Taking first value. Key aggregation not specified: wsu_frac_bw_early\n",
      "Taking first value. Key aggregation not specified: wsu_frac_bw_later_4x\n",
      "Taking first value. Key aggregation not specified: wsu_frac_bw_spw\n",
      "Taking first value. Key aggregation not specified: CYCLE\n",
      "Taking first value. Key aggregation not specified: ESTIMATED_EXECUTION_TIME_PRJ\n",
      "Taking first value. Key aggregation not specified: ESTIMATED_EXECUTION_TIME_PRJ_UNIT\n",
      "Taking first value. Key aggregation not specified: ACASPEC_INTEGRATION_DURATION\n",
      "Taking first value. Key aggregation not specified: EXECOUNT\n",
      "Taking first value. Key aggregation not specified: N_TDUMP\n"
     ]
    }
   ],
   "source": [
    "result2021_tp_dump_mous = wsu_db.create_per_mous_db(result2021_tp_dump)"
   ]
  },
  {
   "cell_type": "code",
   "execution_count": 68,
   "id": "89d2e03f",
   "metadata": {},
   "outputs": [
    {
     "data": {
      "text/plain": [
       "<TableColumns names=('mous','proposal_id','schedblock_name','array','science_keyword','scientific_category','band','ntarget','s_fov','s_resolution','mosaic','imsize','pb','cell','blc_npol','blc_nspw','blc_specwidth','blc_freq','blc_velres','blc_nchan_agg','blc_nchan_max','blc_bandwidth_max','blc_bandwidth_agg','wsu_freq','wsu_npol','wsu_bandwidth_early','wsu_bandwidth_later_4x','wsu_bandwidth_spw','wsu_nspw_early','wsu_nspw_later_4x','wsu_specwidth_stepped2','wsu_chanavg_stepped2','wsu_velres_stepped2','wsu_nchan_spw_stepped2','wsu_nchan_agg_stepped2_early','wsu_nchan_agg_stepped2_later_4x','wsu_frac_bw_early','wsu_frac_bw_later_4x','wsu_frac_bw_spw','CYCLE','ESTIMATED_EXECUTION_TIME_PRJ','ESTIMATED_EXECUTION_TIME_PRJ_UNIT','ACASPEC_INTEGRATION_DURATION','EXECOUNT','N_TDUMP')>"
      ]
     },
     "execution_count": 68,
     "metadata": {},
     "output_type": "execute_result"
    }
   ],
   "source": [
    "result2019_tp_dump_mous.columns"
   ]
  },
  {
   "cell_type": "code",
   "execution_count": 69,
   "id": "e34b8354",
   "metadata": {},
   "outputs": [],
   "source": [
    "result_tp_dump_mous = vstack([result2019_tp_dump_mous,result2021_tp_dump_mous])"
   ]
  },
  {
   "cell_type": "code",
   "execution_count": 70,
   "id": "d0a60668",
   "metadata": {},
   "outputs": [],
   "source": [
    "result2019_tp_dump_mous.write('data/tp_database_cycle7_permous_20231214.ecsv',overwrite=True)"
   ]
  },
  {
   "cell_type": "code",
   "execution_count": 71,
   "id": "e9972a5a",
   "metadata": {},
   "outputs": [],
   "source": [
    "result2021_tp_dump_mous.write('data/tp_database_cycle8_permous_20231214.ecsv',overwrite=True)"
   ]
  },
  {
   "cell_type": "code",
   "execution_count": 72,
   "id": "0abe930d",
   "metadata": {},
   "outputs": [],
   "source": [
    "result_tp_dump_mous.write('data/tp_database_cycle7_cycle8_permous_20231214.ecsv',overwrite=True)"
   ]
  },
  {
   "cell_type": "markdown",
   "id": "9afad105",
   "metadata": {},
   "source": [
    "## looking at estimated execution time"
   ]
  },
  {
   "cell_type": "code",
   "execution_count": 60,
   "id": "fe00e0d2",
   "metadata": {
    "scrolled": true
   },
   "outputs": [
    {
     "data": {
      "text/html": [
       "<div><i>QTable length=419</i>\n",
       "<table id=\"table140374056641584\" class=\"table-striped table-bordered table-condensed\">\n",
       "<thead><tr><th>proposal_id</th><th>mous</th><th>ESTIMATED_EXECUTION_TIME_PRJ</th><th>ESTIMATED_EXECUTION_TIME_PRJ_UNIT</th><th>EXECOUNT</th></tr></thead>\n",
       "<thead><tr><th>str14</th><th>str22</th><th>float64</th><th>str3</th><th>int64</th></tr></thead>\n",
       "<tr><td>2019.1.01326.S</td><td>uid://A001/X1465/X1004</td><td>1.722933333</td><td>h</td><td>2</td></tr>\n",
       "<tr><td>2019.1.01326.S</td><td>uid://A001/X1465/X100a</td><td>1.163124444</td><td>h</td><td>1</td></tr>\n",
       "<tr><td>2019.1.01326.S</td><td>uid://A001/X1465/X1010</td><td>1.163124444</td><td>h</td><td>1</td></tr>\n",
       "<tr><td>2019.1.01326.S</td><td>uid://A001/X1465/X1016</td><td>1.163124444</td><td>h</td><td>1</td></tr>\n",
       "<tr><td>2019.1.01326.S</td><td>uid://A001/X1465/X101c</td><td>1.163124444</td><td>h</td><td>1</td></tr>\n",
       "<tr><td>2019.1.01326.S</td><td>uid://A001/X1465/X1022</td><td>1.163124444</td><td>h</td><td>1</td></tr>\n",
       "<tr><td>...</td><td>...</td><td>...</td><td>...</td><td>...</td></tr>\n",
       "<tr><td>2021.2.00140.S</td><td>uid://A001/X15aa/X2b8</td><td>14.67155556</td><td>h</td><td>11</td></tr>\n",
       "<tr><td>2021.2.00175.S</td><td>uid://A001/X15b4/X18</td><td>1.149977778</td><td>h</td><td>1</td></tr>\n",
       "<tr><td>2021.2.00116.S</td><td>uid://A001/X15b4/X3cc</td><td>17.37187111</td><td>h</td><td>13</td></tr>\n",
       "<tr><td>2021.1.00172.L</td><td>uid://A001/X15b4/X45</td><td>13.00788667</td><td>h</td><td>13</td></tr>\n",
       "<tr><td>2021.1.00172.L</td><td>uid://A001/X15b4/X49</td><td>19.64056889</td><td>h</td><td>28</td></tr>\n",
       "<tr><td>2021.1.00172.L</td><td>uid://A001/X15b4/X4d</td><td>7.161333333</td><td>h</td><td>6</td></tr>\n",
       "<tr><td>2021.1.00200.S</td><td>uid://A001/X15bf/X133</td><td>21.79833333</td><td>h</td><td>15</td></tr>\n",
       "</table></div>"
      ],
      "text/plain": [
       "<QTable length=419>\n",
       " proposal_id            mous          ... EXECOUNT\n",
       "    str14              str22          ...  int64  \n",
       "-------------- ---------------------- ... --------\n",
       "2019.1.01326.S uid://A001/X1465/X1004 ...        2\n",
       "2019.1.01326.S uid://A001/X1465/X100a ...        1\n",
       "2019.1.01326.S uid://A001/X1465/X1010 ...        1\n",
       "2019.1.01326.S uid://A001/X1465/X1016 ...        1\n",
       "2019.1.01326.S uid://A001/X1465/X101c ...        1\n",
       "2019.1.01326.S uid://A001/X1465/X1022 ...        1\n",
       "           ...                    ... ...      ...\n",
       "2021.2.00140.S  uid://A001/X15aa/X2b8 ...       11\n",
       "2021.2.00175.S   uid://A001/X15b4/X18 ...        1\n",
       "2021.2.00116.S  uid://A001/X15b4/X3cc ...       13\n",
       "2021.1.00172.L   uid://A001/X15b4/X45 ...       13\n",
       "2021.1.00172.L   uid://A001/X15b4/X49 ...       28\n",
       "2021.1.00172.L   uid://A001/X15b4/X4d ...        6\n",
       "2021.1.00200.S  uid://A001/X15bf/X133 ...       15"
      ]
     },
     "execution_count": 60,
     "metadata": {},
     "output_type": "execute_result"
    }
   ],
   "source": [
    "result_tp_dump_mous['proposal_id','mous','ESTIMATED_EXECUTION_TIME_PRJ','ESTIMATED_EXECUTION_TIME_PRJ_UNIT','EXECOUNT']"
   ]
  },
  {
   "cell_type": "markdown",
   "id": "69ab3d77",
   "metadata": {},
   "source": [
    "These look consistent with mous times from a few checks."
   ]
  }
 ],
 "metadata": {
  "kernelspec": {
   "display_name": "Python 3 (ipykernel)",
   "language": "python",
   "name": "python3"
  },
  "language_info": {
   "codemirror_mode": {
    "name": "ipython",
    "version": 3
   },
   "file_extension": ".py",
   "mimetype": "text/x-python",
   "name": "python",
   "nbconvert_exporter": "python",
   "pygments_lexer": "ipython3",
   "version": "3.8.18"
  }
 },
 "nbformat": 4,
 "nbformat_minor": 5
}
