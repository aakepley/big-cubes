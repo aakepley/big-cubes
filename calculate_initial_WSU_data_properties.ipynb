{
 "cells": [
  {
   "cell_type": "markdown",
   "id": "59f1549a",
   "metadata": {},
   "source": [
    "# Calculate initial WSU data properties"
   ]
  },
  {
   "cell_type": "markdown",
   "id": "3c7e6b58",
   "metadata": {},
   "source": [
    "The goal of this notebook is to calculate the properties of the initial WSU data based on the original data base with Early and Later WSU.\n",
    "\n",
    "Record of changes:\n",
    "* Original code (8/16/2024)"
   ]
  },
  {
   "cell_type": "code",
   "execution_count": 1,
   "id": "84e59980",
   "metadata": {},
   "outputs": [],
   "source": [
    "import numpy as np\n",
    "import matplotlib.pyplot as plt\n",
    "from astropy.table import Table, vstack, QTable\n",
    "import astropy.units as u\n",
    "import pandas as pd\n",
    "import pickle\n",
    "from importlib import reload\n",
    "import wsu_plots\n",
    "import wsu_db\n",
    "import re"
   ]
  },
  {
   "cell_type": "markdown",
   "id": "a95f1130",
   "metadata": {},
   "source": [
    "## Read in data files"
   ]
  },
  {
   "cell_type": "code",
   "execution_count": 33,
   "id": "63210337",
   "metadata": {},
   "outputs": [],
   "source": [
    "result_c7_mous = QTable.read('data/wsu_datarates_mit_per_mous_cycle7_20231212_without_band3_nbin3_npol4.ecsv')\n",
    "result_c8_mous = QTable.read('data/wsu_datarates_mit_per_mous_cycle8_20231212_without_band3_nbin3_npol4.ecsv')"
   ]
  },
  {
   "cell_type": "code",
   "execution_count": 34,
   "id": "6a193ad1",
   "metadata": {},
   "outputs": [
    {
     "data": {
      "text/plain": [
       "2712"
      ]
     },
     "execution_count": 34,
     "metadata": {},
     "output_type": "execute_result"
    }
   ],
   "source": [
    "len(result_c7_mous)"
   ]
  },
  {
   "cell_type": "code",
   "execution_count": 35,
   "id": "c873bf59",
   "metadata": {},
   "outputs": [
    {
     "data": {
      "text/plain": [
       "2480"
      ]
     },
     "execution_count": 35,
     "metadata": {},
     "output_type": "execute_result"
    }
   ],
   "source": [
    "len(result_c8_mous)"
   ]
  },
  {
   "cell_type": "code",
   "execution_count": 36,
   "id": "47da0018",
   "metadata": {},
   "outputs": [],
   "source": [
    "wsu_all = vstack([result_c7_mous,result_c8_mous])"
   ]
  },
  {
   "cell_type": "code",
   "execution_count": 37,
   "id": "8eda823e",
   "metadata": {},
   "outputs": [
    {
     "data": {
      "text/plain": [
       "5192"
      ]
     },
     "execution_count": 37,
     "metadata": {},
     "output_type": "execute_result"
    }
   ],
   "source": [
    "len(wsu_all)"
   ]
  },
  {
   "cell_type": "code",
   "execution_count": 38,
   "id": "0d1951de",
   "metadata": {},
   "outputs": [],
   "source": [
    "wsu_all['weights_all'] = wsu_all['time_tot']/np.sum(wsu_all['time_tot'])"
   ]
  },
  {
   "cell_type": "code",
   "execution_count": 39,
   "id": "db0c0a7f",
   "metadata": {},
   "outputs": [
    {
     "data": {
      "text/plain": [
       "<TableColumns names=('mous','proposal_id','schedblock_name','array','science_keyword','scientific_category','scientific_category_proposal','nant_typical','nant_array','nant_all','band','ntarget','s_fov','s_resolution','mosaic','imsize','pb','cell','blc_npol','blc_nspw','blc_specwidth','blc_freq','blc_velres','blc_nchan_agg','blc_nchan_max','blc_bandwidth_max','blc_bandwidth_agg','wsu_freq','wsu_npol','wsu_bandwidth_early','wsu_bandwidth_later_2x','wsu_bandwidth_later_4x','wsu_bandwidth_spw','wsu_nspw_early','wsu_nspw_later_2x','wsu_nspw_later_4x','wsu_specwidth_finest','wsu_chanavg_finest','wsu_velres_finest','wsu_specwidth_stepped','wsu_chanavg_stepped','wsu_velres_stepped','wsu_specwidth_stepped2','wsu_chanavg_stepped2','wsu_velres_stepped2','wsu_tint','wsu_nchan_spw_finest','wsu_nchan_spw_stepped','wsu_nchan_spw_stepped2','wsu_nchan_agg_finest_early','wsu_nchan_agg_finest_later_2x','wsu_nchan_agg_finest_later_4x','wsu_nchan_agg_stepped_early','wsu_nchan_agg_stepped_later_2x','wsu_nchan_agg_stepped_later_4x','wsu_nchan_agg_stepped2_early','wsu_nchan_agg_stepped2_later_2x','wsu_nchan_agg_stepped2_later_4x','wsu_frac_bw_early','wsu_frac_bw_later_2x','wsu_frac_bw_later_4x','wsu_frac_bw_spw','nbase_typical','nbase_array','nbase_all','L80','Project','SB_name','blc_tint','blc_ntunings','bp_time','flux_time','phase_time','pol_time','check_time','target_time_tot','time_tot','cal_time','mfssize','wsu_cubesize_stepped2','wsu_productsize_early_stepped2','wsu_datarate_early_stepped2_typical','wsu_visrate_early_stepped2_typical','wsu_datavol_early_stepped2_typical_target_tot','wsu_datavol_early_stepped2_typical_cal','wsu_datavol_early_stepped2_typical_total','wsu_nvis_early_stepped2_typical_target_tot','wsu_nvis_early_stepped2_typical_cal','wsu_nvis_early_stepped2_typical_total','blc_datarate_typical','blc_visrate_typical','blc_datavol_typical_target_tot','blc_datavol_typical_cal','blc_datavol_typical_total','blc_nvis_typical_target_tot','blc_nvis_typical_cal','blc_nvis_typical_total','wsu_datarate_early_stepped2_array','wsu_visrate_early_stepped2_array','wsu_datavol_early_stepped2_array_target_tot','wsu_datavol_early_stepped2_array_cal','wsu_datavol_early_stepped2_array_total','wsu_nvis_early_stepped2_array_target_tot','wsu_nvis_early_stepped2_array_cal','wsu_nvis_early_stepped2_array_total','blc_datarate_array','blc_visrate_array','blc_datavol_array_target_tot','blc_datavol_array_cal','blc_datavol_array_total','blc_nvis_array_target_tot','blc_nvis_array_cal','blc_nvis_array_total','wsu_productsize_later_2x_stepped2','wsu_datarate_later_2x_stepped2_typical','wsu_visrate_later_2x_stepped2_typical','wsu_datavol_later_2x_stepped2_typical_target_tot','wsu_datavol_later_2x_stepped2_typical_cal','wsu_datavol_later_2x_stepped2_typical_total','wsu_nvis_later_2x_stepped2_typical_target_tot','wsu_nvis_later_2x_stepped2_typical_cal','wsu_nvis_later_2x_stepped2_typical_total','wsu_datarate_later_2x_stepped2_array','wsu_visrate_later_2x_stepped2_array','wsu_datavol_later_2x_stepped2_array_target_tot','wsu_datavol_later_2x_stepped2_array_cal','wsu_datavol_later_2x_stepped2_array_total','wsu_nvis_later_2x_stepped2_array_target_tot','wsu_nvis_later_2x_stepped2_array_cal','wsu_nvis_later_2x_stepped2_array_total','wsu_productsize_later_4x_stepped2','wsu_datarate_later_4x_stepped2_typical','wsu_visrate_later_4x_stepped2_typical','wsu_datavol_later_4x_stepped2_typical_target_tot','wsu_datavol_later_4x_stepped2_typical_cal','wsu_datavol_later_4x_stepped2_typical_total','wsu_nvis_later_4x_stepped2_typical_target_tot','wsu_nvis_later_4x_stepped2_typical_cal','wsu_nvis_later_4x_stepped2_typical_total','wsu_datarate_later_4x_stepped2_array','wsu_visrate_later_4x_stepped2_array','wsu_datavol_later_4x_stepped2_array_target_tot','wsu_datavol_later_4x_stepped2_array_cal','wsu_datavol_later_4x_stepped2_array_total','wsu_nvis_later_4x_stepped2_array_target_tot','wsu_nvis_later_4x_stepped2_array_cal','wsu_nvis_later_4x_stepped2_array_total','blc_cubesize','blc_cubesize_sum','blc_productsize','cycle_info','plversion','procedure','nant','pl_totaltime','pl_imgtime','pl_cubetime','pl_aggtime','pl_fctime','nEB','npt','nscan','reptgt','allowedcubesize','allowedcubelimit','predcubesize','mitigatedcubesize','allowedprodsize','initialprodsize','mitigatedprodsize','mitigated','mit_nbins','mit_hm_imsize','mit_hm_cell','mit_field','mit_spw','pl_caltime','blc_sysperf_typical_allgrid','flops_per_vis_allgrid','wsu_sysperf_early_stepped2_typical_allgrid','wsu_sysperf_later_2x_stepped2_typical_allgrid','wsu_sysperf_later_4x_stepped2_typical_allgrid','blc_sysperf_typical_aprojonly','flops_per_vis_aprojonly','wsu_sysperf_early_stepped2_typical_aprojonly','wsu_sysperf_later_2x_stepped2_typical_aprojonly','wsu_sysperf_later_4x_stepped2_typical_aprojonly','weights_all')>"
      ]
     },
     "execution_count": 39,
     "metadata": {},
     "output_type": "execute_result"
    }
   ],
   "source": [
    "wsu_all.columns"
   ]
  },
  {
   "cell_type": "code",
   "execution_count": 40,
   "id": "7be1f34c",
   "metadata": {},
   "outputs": [
    {
     "data": {
      "text/latex": [
       "$[9.984,~9.984,~9.984,~\\dots,~3.072,~3.072,~9.984] \\; \\mathrm{s}$"
      ],
      "text/plain": [
       "<Quantity [9.984, 9.984, 9.984, ..., 3.072, 3.072, 9.984] s>"
      ]
     },
     "execution_count": 40,
     "metadata": {},
     "output_type": "execute_result"
    }
   ],
   "source": [
    "wsu_all['wsu_tint']"
   ]
  },
  {
   "cell_type": "markdown",
   "id": "528365e8",
   "metadata": {},
   "source": [
    "## calculating the initial WSU properties"
   ]
  },
  {
   "cell_type": "code",
   "execution_count": 135,
   "id": "870675a6",
   "metadata": {},
   "outputs": [],
   "source": [
    "reload(wsu_db)\n",
    "test = wsu_db.create_initial_wsu_db(wsu_all)"
   ]
  },
  {
   "cell_type": "code",
   "execution_count": 136,
   "id": "574a2739",
   "metadata": {
    "scrolled": false
   },
   "outputs": [
    {
     "data": {
      "text/plain": [
       "<TableColumns names=('mous','proposal_id','schedblock_name','array','science_keyword','scientific_category','scientific_category_proposal','nant_typical','nant_array','nant_all','band','ntarget','s_fov','s_resolution','mosaic','imsize','pb','cell','blc_npol','blc_nspw','blc_specwidth','blc_freq','blc_velres','blc_nchan_agg','blc_nchan_max','blc_bandwidth_max','blc_bandwidth_agg','wsu_freq','wsu_npol','wsu_bandwidth_early','wsu_bandwidth_later_2x','wsu_bandwidth_later_4x','wsu_bandwidth_spw','wsu_nspw_early','wsu_nspw_later_2x','wsu_nspw_later_4x','wsu_specwidth_finest','wsu_chanavg_finest','wsu_velres_finest','wsu_specwidth_stepped','wsu_chanavg_stepped','wsu_velres_stepped','wsu_specwidth_stepped2','wsu_chanavg_stepped2','wsu_velres_stepped2','wsu_tint','wsu_nchan_spw_finest','wsu_nchan_spw_stepped','wsu_nchan_spw_stepped2','wsu_nchan_agg_finest_early','wsu_nchan_agg_finest_later_2x','wsu_nchan_agg_finest_later_4x','wsu_nchan_agg_stepped_early','wsu_nchan_agg_stepped_later_2x','wsu_nchan_agg_stepped_later_4x','wsu_nchan_agg_stepped2_early','wsu_nchan_agg_stepped2_later_2x','wsu_nchan_agg_stepped2_later_4x','wsu_frac_bw_early','wsu_frac_bw_later_2x','wsu_frac_bw_later_4x','wsu_frac_bw_spw','nbase_typical','nbase_array','nbase_all','L80','Project','SB_name','blc_tint','blc_ntunings','bp_time','flux_time','phase_time','pol_time','check_time','target_time_tot','time_tot','cal_time','mfssize','wsu_cubesize_stepped2','wsu_productsize_early_stepped2','wsu_datarate_early_stepped2_typical','wsu_visrate_early_stepped2_typical','wsu_datavol_early_stepped2_typical_target_tot','wsu_datavol_early_stepped2_typical_cal','wsu_datavol_early_stepped2_typical_total','wsu_nvis_early_stepped2_typical_target_tot','wsu_nvis_early_stepped2_typical_cal','wsu_nvis_early_stepped2_typical_total','blc_datarate_typical','blc_visrate_typical','blc_datavol_typical_target_tot','blc_datavol_typical_cal','blc_datavol_typical_total','blc_nvis_typical_target_tot','blc_nvis_typical_cal','blc_nvis_typical_total','wsu_datarate_early_stepped2_array','wsu_visrate_early_stepped2_array','wsu_datavol_early_stepped2_array_target_tot','wsu_datavol_early_stepped2_array_cal','wsu_datavol_early_stepped2_array_total','wsu_nvis_early_stepped2_array_target_tot','wsu_nvis_early_stepped2_array_cal','wsu_nvis_early_stepped2_array_total','blc_datarate_array','blc_visrate_array','blc_datavol_array_target_tot','blc_datavol_array_cal','blc_datavol_array_total','blc_nvis_array_target_tot','blc_nvis_array_cal','blc_nvis_array_total','wsu_productsize_later_2x_stepped2','wsu_datarate_later_2x_stepped2_typical','wsu_visrate_later_2x_stepped2_typical','wsu_datavol_later_2x_stepped2_typical_target_tot','wsu_datavol_later_2x_stepped2_typical_cal','wsu_datavol_later_2x_stepped2_typical_total','wsu_nvis_later_2x_stepped2_typical_target_tot','wsu_nvis_later_2x_stepped2_typical_cal','wsu_nvis_later_2x_stepped2_typical_total','wsu_datarate_later_2x_stepped2_array','wsu_visrate_later_2x_stepped2_array','wsu_datavol_later_2x_stepped2_array_target_tot','wsu_datavol_later_2x_stepped2_array_cal','wsu_datavol_later_2x_stepped2_array_total','wsu_nvis_later_2x_stepped2_array_target_tot','wsu_nvis_later_2x_stepped2_array_cal','wsu_nvis_later_2x_stepped2_array_total','wsu_productsize_later_4x_stepped2','wsu_datarate_later_4x_stepped2_typical','wsu_visrate_later_4x_stepped2_typical','wsu_datavol_later_4x_stepped2_typical_target_tot','wsu_datavol_later_4x_stepped2_typical_cal','wsu_datavol_later_4x_stepped2_typical_total','wsu_nvis_later_4x_stepped2_typical_target_tot','wsu_nvis_later_4x_stepped2_typical_cal','wsu_nvis_later_4x_stepped2_typical_total','wsu_datarate_later_4x_stepped2_array','wsu_visrate_later_4x_stepped2_array','wsu_datavol_later_4x_stepped2_array_target_tot','wsu_datavol_later_4x_stepped2_array_cal','wsu_datavol_later_4x_stepped2_array_total','wsu_nvis_later_4x_stepped2_array_target_tot','wsu_nvis_later_4x_stepped2_array_cal','wsu_nvis_later_4x_stepped2_array_total','blc_cubesize','blc_cubesize_sum','blc_productsize','cycle_info','plversion','procedure','nant','pl_totaltime','pl_imgtime','pl_cubetime','pl_aggtime','pl_fctime','nEB','npt','nscan','reptgt','allowedcubesize','allowedcubelimit','predcubesize','mitigatedcubesize','allowedprodsize','initialprodsize','mitigatedprodsize','mitigated','mit_nbins','mit_hm_imsize','mit_hm_cell','mit_field','mit_spw','pl_caltime','blc_sysperf_typical_allgrid','flops_per_vis_allgrid','wsu_sysperf_early_stepped2_typical_allgrid','wsu_sysperf_later_2x_stepped2_typical_allgrid','wsu_sysperf_later_4x_stepped2_typical_allgrid','blc_sysperf_typical_aprojonly','flops_per_vis_aprojonly','wsu_sysperf_early_stepped2_typical_aprojonly','wsu_sysperf_later_2x_stepped2_typical_aprojonly','wsu_sysperf_later_4x_stepped2_typical_aprojonly','weights_all','nant_initial','wsu_tint_initial','wsu_bandwidth_initial','wsu_nspw_initial','wsu_npol_initial','wsu_chanavg_stepped2_initial','wsu_specwidth_stepped2_initial','wsu_velres_stepped2_initial','wsu_nchan_spw_stepped2_initial','wsu_nchan_agg_stepped2_initial','wsu_frac_bw_initial')>"
      ]
     },
     "execution_count": 136,
     "metadata": {},
     "output_type": "execute_result"
    }
   ],
   "source": [
    "test.columns"
   ]
  },
  {
   "cell_type": "code",
   "execution_count": 137,
   "id": "6daec8fc",
   "metadata": {},
   "outputs": [
    {
     "data": {
      "text/latex": [
       "$[607.5,~661.5,~661.5,~\\dots,~11529,~11664,~7762.5] \\; \\mathrm{kHz}$"
      ],
      "text/plain": [
       "<Quantity [  607.5,   661.5,   661.5, ..., 11529. , 11664. ,  7762.5] kHz>"
      ]
     },
     "execution_count": 137,
     "metadata": {},
     "output_type": "execute_result"
    }
   ],
   "source": [
    "test['wsu_specwidth_stepped2']"
   ]
  },
  {
   "cell_type": "code",
   "execution_count": null,
   "id": "8973f351",
   "metadata": {},
   "outputs": [],
   "source": []
  },
  {
   "cell_type": "markdown",
   "id": "f80958c6",
   "metadata": {},
   "source": [
    "hmmm.. it looks like in the earlier work, I'm not completely enforcing the band dependent channel averaging. Should I fix this? But this is the case where the velocity resolution is less than 0.1km/s, so allowed for in my earlier models."
   ]
  },
  {
   "cell_type": "code",
   "execution_count": 138,
   "id": "6c7d2743",
   "metadata": {},
   "outputs": [
    {
     "name": "stdout",
     "output_type": "stream",
     "text": [
      "27.0 kHz\n",
      "6763.5 kHz\n",
      "81.0 kHz\n",
      "6763.5 kHz\n"
     ]
    }
   ],
   "source": [
    "idx = test['band'] == 5\n",
    "print(np.min(test['wsu_specwidth_stepped2'][idx]))\n",
    "print(np.max(test['wsu_specwidth_stepped2'][idx]))\n",
    "print(np.min(test['wsu_specwidth_stepped2_initial'][idx]))\n",
    "print(np.max(test['wsu_specwidth_stepped2_initial'][idx]))"
   ]
  },
  {
   "cell_type": "code",
   "execution_count": 139,
   "id": "493291d7",
   "metadata": {},
   "outputs": [
    {
     "name": "stdout",
     "output_type": "stream",
     "text": [
      "2.0\n",
      "501.0\n",
      "6.0\n",
      "501.0\n"
     ]
    }
   ],
   "source": [
    "idx = test['band'] == 5\n",
    "print(np.min(test['wsu_chanavg_stepped2'][idx]))\n",
    "print(np.max(test['wsu_chanavg_stepped2'][idx]))\n",
    "print(np.min(test['wsu_chanavg_stepped2_initial'][idx]))\n",
    "print(np.max(test['wsu_chanavg_stepped2_initial'][idx]))"
   ]
  },
  {
   "cell_type": "code",
   "execution_count": 140,
   "id": "48affb89",
   "metadata": {},
   "outputs": [
    {
     "name": "stdout",
     "output_type": "stream",
     "text": [
      "0.04019781835382012 km / s\n",
      "9.999640960363058 km / s\n",
      "0.11831509142158976 km / s\n",
      "9.999640960363058 km / s\n"
     ]
    }
   ],
   "source": [
    "idx = test['band'] == 5\n",
    "print(np.min(test['wsu_velres_stepped2'][idx]))\n",
    "print(np.max(test['wsu_velres_stepped2'][idx]))\n",
    "print(np.min(test['wsu_velres_stepped2_initial'][idx]))\n",
    "print(np.max(test['wsu_velres_stepped2_initial'][idx]))"
   ]
  },
  {
   "cell_type": "code",
   "execution_count": 141,
   "id": "8b1585da",
   "metadata": {},
   "outputs": [
    {
     "name": "stdout",
     "output_type": "stream",
     "text": [
      "295.0\n",
      "74074.0\n",
      "295.0\n",
      "24691.0\n"
     ]
    }
   ],
   "source": [
    "idx = test['band'] == 5\n",
    "print(np.min(test['wsu_nchan_spw_stepped2'][idx]))\n",
    "print(np.max(test['wsu_nchan_spw_stepped2'][idx]))\n",
    "print(np.min(test['wsu_nchan_spw_stepped2_initial'][idx]))\n",
    "print(np.max(test['wsu_nchan_spw_stepped2_initial'][idx]))"
   ]
  },
  {
   "cell_type": "code",
   "execution_count": 142,
   "id": "3bed8c8c",
   "metadata": {},
   "outputs": [
    {
     "name": "stdout",
     "output_type": "stream",
     "text": [
      "1180.0\n",
      "296296.0\n",
      "1180.0\n",
      "98764.0\n"
     ]
    }
   ],
   "source": [
    "idx = test['band'] == 5\n",
    "print(np.min(test['wsu_nchan_agg_stepped2_early'][idx]))\n",
    "print(np.max(test['wsu_nchan_agg_stepped2_early'][idx]))\n",
    "print(np.min(test['wsu_nchan_agg_stepped2_initial'][idx]))\n",
    "print(np.max(test['wsu_nchan_agg_stepped2_initial'][idx]))"
   ]
  },
  {
   "cell_type": "code",
   "execution_count": 143,
   "id": "afe16ae6",
   "metadata": {},
   "outputs": [
    {
     "name": "stdout",
     "output_type": "stream",
     "text": [
      "484.0\n",
      "148144.0\n"
     ]
    }
   ],
   "source": [
    "print(np.min(test['wsu_nchan_agg_stepped2_initial']))\n",
    "print(np.max(test['wsu_nchan_agg_stepped2_initial']))"
   ]
  },
  {
   "cell_type": "code",
   "execution_count": null,
   "id": "37788103",
   "metadata": {},
   "outputs": [],
   "source": []
  }
 ],
 "metadata": {
  "kernelspec": {
   "display_name": "Python 3 (ipykernel)",
   "language": "python",
   "name": "python3"
  },
  "language_info": {
   "codemirror_mode": {
    "name": "ipython",
    "version": 3
   },
   "file_extension": ".py",
   "mimetype": "text/x-python",
   "name": "python",
   "nbconvert_exporter": "python",
   "pygments_lexer": "ipython3",
   "version": "3.8.18"
  }
 },
 "nbformat": 4,
 "nbformat_minor": 5
}
