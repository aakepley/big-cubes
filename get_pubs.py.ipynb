{
 "cells": [
  {
   "cell_type": "markdown",
   "id": "3ab09e09",
   "metadata": {},
   "source": [
    "# Get information on long baseline publications"
   ]
  },
  {
   "cell_type": "markdown",
   "id": "58952902",
   "metadata": {},
   "source": [
    "The goal here is to extract the publication information from all long baseline data and send to lance to get citation counts."
   ]
  },
  {
   "cell_type": "code",
   "execution_count": 17,
   "id": "b24702e0",
   "metadata": {},
   "outputs": [],
   "source": [
    "from astropy.table import Table\n",
    "import numpy as np\n",
    "from astroquery.alma import Alma"
   ]
  },
  {
   "cell_type": "code",
   "execution_count": 2,
   "id": "1d94d5c8",
   "metadata": {},
   "outputs": [],
   "source": [
    "mytab = Table.read('ALMA_12m_wL80_and_pubs.csv')"
   ]
  },
  {
   "cell_type": "code",
   "execution_count": 3,
   "id": "5f7a47c8",
   "metadata": {},
   "outputs": [
    {
     "data": {
      "text/plain": [
       "<TableColumns names=('Project code','Member ous id','ALMA source name','Publications','Array','L80 BL')>"
      ]
     },
     "execution_count": 3,
     "metadata": {},
     "output_type": "execute_result"
    }
   ],
   "source": [
    "mytab.columns"
   ]
  },
  {
   "cell_type": "code",
   "execution_count": 9,
   "id": "d5126a0f",
   "metadata": {},
   "outputs": [
    {
     "data": {
      "text/html": [
       "<i>Table length=10</i>\n",
       "<table id=\"table140288563293440\" class=\"table-striped table-bordered table-condensed\">\n",
       "<thead><tr><th>Project code</th><th>Member ous id</th><th>ALMA source name</th><th>Publications</th><th>Array</th><th>L80 BL</th></tr></thead>\n",
       "<thead><tr><th>str16</th><th>str23</th><th>str47</th><th>int64</th><th>str6</th><th>float64</th></tr></thead>\n",
       "<tr><td>2011.0.00191.S</td><td>uid://A001/X62/X2a</td><td>Fomalhaut b</td><td>2</td><td>12m</td><td>88.86359</td></tr>\n",
       "<tr><td>2011.0.00101.S</td><td>uid://A001/X74/X29</td><td>GRB021004</td><td>2</td><td>12m</td><td>85.9068</td></tr>\n",
       "<tr><td>2011.0.00131.S</td><td>uid://A001/X6f/X10</td><td>R Scl</td><td>5</td><td>12m</td><td>89.274315</td></tr>\n",
       "<tr><td>2011.0.00397.S</td><td>uid://A001/X74/X22d</td><td>J041754.10-281655.9</td><td>3</td><td>12m</td><td>92.03943</td></tr>\n",
       "<tr><td>2011.0.00397.S</td><td>uid://A001/X74/X22d</td><td>J035448.24-330827.2</td><td>3</td><td>12m</td><td>91.1818</td></tr>\n",
       "<tr><td>2011.0.00397.S</td><td>uid://A001/X74/X22f</td><td>J063027.81-212058.6</td><td>3</td><td>12m</td><td>86.96931</td></tr>\n",
       "<tr><td>2011.0.00397.S</td><td>uid://A001/X74/X22f</td><td>J061200.23-062209.6</td><td>3</td><td>12m</td><td>86.95875</td></tr>\n",
       "<tr><td>2011.0.00397.S</td><td>uid://A001/X74/X22d</td><td>J054930.06-373940.1</td><td>3</td><td>12m</td><td>88.99365</td></tr>\n",
       "<tr><td>2011.0.00397.S</td><td>uid://A001/X74/X22f</td><td>J070257.20-280842.3</td><td>3</td><td>12m</td><td>89.15855</td></tr>\n",
       "<tr><td>2011.0.00397.S</td><td>uid://A001/X74/X22d</td><td>J043921.92-315908.3</td><td>3</td><td>12m</td><td>91.67076</td></tr>\n",
       "</table>"
      ],
      "text/plain": [
       "<Table length=10>\n",
       " Project code     Member ous id      ALMA source name  ... Array   L80 BL \n",
       "    str16             str23               str47        ...  str6  float64 \n",
       "-------------- ------------------- ------------------- ... ----- ---------\n",
       "2011.0.00191.S  uid://A001/X62/X2a         Fomalhaut b ...   12m  88.86359\n",
       "2011.0.00101.S  uid://A001/X74/X29           GRB021004 ...   12m   85.9068\n",
       "2011.0.00131.S  uid://A001/X6f/X10               R Scl ...   12m 89.274315\n",
       "2011.0.00397.S uid://A001/X74/X22d J041754.10-281655.9 ...   12m  92.03943\n",
       "2011.0.00397.S uid://A001/X74/X22d J035448.24-330827.2 ...   12m   91.1818\n",
       "2011.0.00397.S uid://A001/X74/X22f J063027.81-212058.6 ...   12m  86.96931\n",
       "2011.0.00397.S uid://A001/X74/X22f J061200.23-062209.6 ...   12m  86.95875\n",
       "2011.0.00397.S uid://A001/X74/X22d J054930.06-373940.1 ...   12m  88.99365\n",
       "2011.0.00397.S uid://A001/X74/X22f J070257.20-280842.3 ...   12m  89.15855\n",
       "2011.0.00397.S uid://A001/X74/X22d J043921.92-315908.3 ...   12m  91.67076"
      ]
     },
     "execution_count": 9,
     "metadata": {},
     "output_type": "execute_result"
    }
   ],
   "source": [
    "mytab[0:10]"
   ]
  },
  {
   "cell_type": "code",
   "execution_count": 13,
   "id": "3beeaaef",
   "metadata": {},
   "outputs": [],
   "source": [
    "idx = mytab['L80 BL'] > 1000.0 # in m"
   ]
  },
  {
   "cell_type": "code",
   "execution_count": 14,
   "id": "27c7c21d",
   "metadata": {},
   "outputs": [
    {
     "data": {
      "text/plain": [
       "7242"
      ]
     },
     "execution_count": 14,
     "metadata": {},
     "output_type": "execute_result"
    }
   ],
   "source": [
    "np.sum(mytab['Publications'][idx])"
   ]
  },
  {
   "cell_type": "code",
   "execution_count": 15,
   "id": "2d682b86",
   "metadata": {},
   "outputs": [
    {
     "data": {
      "text/plain": [
       "46317"
      ]
     },
     "execution_count": 15,
     "metadata": {},
     "output_type": "execute_result"
    }
   ],
   "source": [
    "len(mytab)"
   ]
  },
  {
   "cell_type": "code",
   "execution_count": 16,
   "id": "176cb899",
   "metadata": {},
   "outputs": [
    {
     "data": {
      "text/plain": [
       "3627"
      ]
     },
     "execution_count": 16,
     "metadata": {},
     "output_type": "execute_result"
    }
   ],
   "source": [
    "len(mytab[idx])"
   ]
  },
  {
   "cell_type": "code",
   "execution_count": 38,
   "id": "0dc41c7b",
   "metadata": {},
   "outputs": [
    {
     "data": {
      "text/plain": [
       "2196"
      ]
     },
     "execution_count": 38,
     "metadata": {},
     "output_type": "execute_result"
    }
   ],
   "source": [
    "len(np.unique(mytab[idx]['Member ous id']))"
   ]
  },
  {
   "cell_type": "markdown",
   "id": "5e360afb",
   "metadata": {},
   "source": [
    "Okay, so the publications here doesn't include the link to the meta-data which is a pain. But I think I can you alma_query to get the publication bibcodes. \n",
    "\n",
    "The field is bib_reference.\n",
    "\n",
    "So how might i do this? loop through each unique MOUS, if > 1.0 km, save MOUS, L80 to new table. then use the new table to query alma archive and get bib_reference"
   ]
  },
  {
   "cell_type": "code",
   "execution_count": 18,
   "id": "c7f7d848",
   "metadata": {
    "scrolled": true
   },
   "outputs": [
    {
     "name": "stdout",
     "output_type": "stream",
     "text": [
      "\n",
      "Most common ALMA query keywords are listed below. These keywords are part of the ALMA ObsCore model, an IVOA standard for metadata representation (3rd column). They were also present in original ALMA Web form and, for backwards compatibility can be accessed with their old names (2nd column).\n",
      "More elaborate queries on the ObsCore model are possible with `query_sia` or `query_tap` methods\n",
      "  Description                       Original ALMA keyword               ObsCore keyword                    \n",
      "-------------------------------------------------------------------------------------------------------\n",
      "\n",
      "Position\n",
      "  Source name (astropy Resolver)    source_name_resolver                SkyCoord.from_name                 \n",
      "  Source name (ALMA)                source_name_alma                    target_name                        \n",
      "  RA Dec (Sexagesimal)              ra_dec                              s_ra, s_dec                        \n",
      "  Galactic (Degrees)                galactic                            gal_longitude, gal_latitude        \n",
      "  Angular resolution (arcsec)       spatial_resolution                  spatial_resolution                 \n",
      "  Largest angular scale (arcsec)    spatial_scale_max                   spatial_scale_max                  \n",
      "  Field of view (arcsec)            fov                                 s_fov                              \n",
      "\n",
      "Energy\n",
      "  Frequency (GHz)                   frequency                           frequency                          \n",
      "  Bandwidth (GHz)                   bandwidth                           bandwidth                          \n",
      "  Spectral resolution (KHz)         spectral_resolution                 em_resolution                      \n",
      "  Band                              band_list                           band_list                          \n",
      "\n",
      "Time\n",
      "  Observation date                  start_date                          t_min                              \n",
      "  Integration time (s)              integration_time                    t_exptime                          \n",
      "\n",
      "Polarization\n",
      "  Polarisation type (Single, Dual, Full) polarisation_type                   pol_states                         \n",
      "\n",
      "Observation\n",
      "  Line sensitivity (10 km/s) (mJy/beam) line_sensitivity                    sensitivity_10kms                  \n",
      "  Continuum sensitivity (mJy/beam)  continuum_sensitivity               cont_sensitivity_bandwidth         \n",
      "  Water vapour (mm)                 water_vapour                        pvw                                \n",
      "\n",
      "Project\n",
      "  Project code                      project_code                        proposal_id                        \n",
      "  Project title                     project_title                       obs_title                          \n",
      "  PI name                           pi_name                             obs_creator_name                   \n",
      "  Proposal authors                  proposal_authors                    proposal_authors                   \n",
      "  Project abstract                  project_abstract                    proposal_abstract                  \n",
      "  Publication count                 publication_count                   NA                                 \n",
      "  Science keyword                   science_keyword                     science_keyword                    \n",
      "\n",
      "Publication\n",
      "  Bibcode                           bibcode                             bib_reference                      \n",
      "  Title                             pub_title                           pub_title                          \n",
      "  First author                      first_author                        first_author                       \n",
      "  Authors                           authors                             authors                            \n",
      "  Abstract                          pub_abstract                        pub_abstract                       \n",
      "  Year                              publication_year                    pub_year                           \n",
      "\n",
      "Options\n",
      "  Public data only                  public_data                         data_rights                        \n",
      "  Science observations only         science_observation                 science_observation                \n",
      "\n",
      "Examples of queries:\n",
      "Alma.query('proposal_id':'2011.0.00131.S'}\n",
      "Alma.query({'band_list': ['5', '7']}\n",
      "Alma.query({'source_name_alma': 'GRB021004'})\n",
      "Alma.query(payload=dict(project_code='2017.1.01355.L', source_name_alma='G008.67'))\n"
     ]
    }
   ],
   "source": [
    "Alma.help()"
   ]
  },
  {
   "cell_type": "code",
   "execution_count": 19,
   "id": "e9371819",
   "metadata": {
    "scrolled": false
   },
   "outputs": [
    {
     "name": "stdout",
     "output_type": "stream",
     "text": [
      "Table to query is \"voa.ObsCore\".\n",
      "For example: \"select top 1 * from ivoa.ObsCore\"\n",
      "The scheme of the table is as follows.\n",
      "\n",
      "  Name                 Type            Unit       Description\n",
      "------------------------------------------------------------------------------------------\n",
      "  access_format        char(9)                    Content format of the data\n",
      "  access_url           char(72*)                  URL to download the data\n",
      "  antenna_arrays       char(660*)                 Blank-separated list of Pad:Antenna pairs, i.e., A109:DV09 J504:DV02 J505:DV05 for antennas DV09, DV02 and DV05 sitting on pads A109, J504, and J505, respectively.\n",
      "  asdm_uid             char(32*)                  UID of the ASDM containing this Field.\n",
      "  authors              char(4000*)                Full list of first author and all co-authors\n",
      "  band_list            char(30*)                  Space delimited list of bands\n",
      "  bandwidth            double          Hz         Total Bandwidth\n",
      "  bib_reference        char(4000*)                Bibliography code\n",
      "  calib_level          int                        calibration level (2 or 3). 2 if product_type = MOUS, 3 if product_type = GOUS\n",
      "  cont_sensitivity_bandwidth double          mJy/beam   Estimated noise in the aggregated continuum bandwidth. Note this is an indication only, it does not include the effects of flagging or dynamic range limitations.\n",
      "  data_rights          char(11)                   Access to data.\n",
      "  dataproduct_type     char(5*)                   type of product\n",
      "  em_max               double          m          stop spectral coordinate value\n",
      "  em_min               double          m          start spectral coordinate value\n",
      "  em_res_power         double                     typical spectral resolution\n",
      "  em_resolution        double          m          Estimated frequency resolution from all the spectral windows, using median values of channel widths.\n",
      "  facility_name        char(3)                    telescope name\n",
      "  first_author         char(256*)                 The first author as provided by <a href=\"http://telbib.eso.org\">telbib.eso.org</a>.\n",
      "  frequency            double          GHz        Observed (tuned) reference frequency on the sky.\n",
      "  frequency_support    char(4000*)     GHz        All frequency ranges used by the field\n",
      "  gal_latitude         double          deg        Galactic latitude of the observation for RA/Dec. Estimated using PyEphem and RA/Dec.\n",
      "  gal_longitude        double          deg        Galactic longitude of the observation for RA/Dec. Estimated using PyEphem and RA/Dec.\n",
      "  group_ous_uid        char(64*)                  Group OUS ID\n",
      "  instrument_name      char(4)                    instrument name\n",
      "  is_mosaic            char(1)                    Flag to indicate if this ASDM represents a mosaic or not.\n",
      "  lastModified         char(*)                    Time stamp of last modification of the metadata\n",
      "  member_ous_uid       char(64*)                  Member OUS ID\n",
      "  o_ucd                char(35)                   UCD describing the observable axis (pixel values)\n",
      "  obs_collection       char(4)                    short name for the data collection\n",
      "  obs_creator_name     char(256*)                 case-insensitive partial match over the full PI name. Wildcards can be used\n",
      "  obs_id               char(64*)                  internal dataset identifier\n",
      "  obs_publisher_did    char(33*)                  publisher dataset identifier\n",
      "  obs_release_date     char(*)                    timestamp of date the data becomes publicly available\n",
      "  obs_title            char(256*)                 Case-insensitive search over the project title\n",
      "  pol_states           char(64*)                  polarization states present in the data\n",
      "  proposal_abstract    char(4000*)                Text search on the proposal abstract. Only abstracts will be returned which contain the given text. The search is case-insensitive.\n",
      "  proposal_authors     char(2000*)                Full name of CoIs .\n",
      "  proposal_id          char(64*)                  Identifier of proposal to which NO observation belongs.\n",
      "  pub_abstract         char(4000*)                Case insensitive text search through the abstract of the publication.\n",
      "  pub_title            char(256*)                 Case insensitive search through the title of the publication.\n",
      "  publication_year     int                        The year the publication did appear in the printed version of the refereed journal.\n",
      "  pwv                  float           mm         Estimated precipitable water vapour from the XML_CALWVR_ENTITIES table.\n",
      "  qa2_passed           char(1)                    Quality Assessment 2 status: does the Member / Group OUS fulfil the PI's requirements?\n",
      "  s_dec                double          deg        DEC of central coordinates\n",
      "  s_fov                double          deg        size of the region covered (~diameter of minimum bounding circle)\n",
      "  s_ra                 double          deg        RA of central coordinates\n",
      "  s_region             char(*)         deg        region bounded by observation\n",
      "  s_resolution         double          deg        typical spatial resolution\n",
      "  scan_intent          char(256*)                 Scan intent list for the observed field.\n",
      "  schedblock_name      char(128*)                 Name of the Scheduling Block used as a template for executing the ASDM containing this Field.\n",
      "  science_keyword      char(200*)                 None\n",
      "  science_observation  char(1)                    Flag to indicate whether this is a science observation.\n",
      "  scientific_category  char(200*)                 None\n",
      "  sensitivity_10kms    double          mJy/beam   Estimated noise in an nominal 10km/s bandwidth. Note this is an indication only, it does not include the effects of flagging or Hanning smoothing, and a 10km/s bandwidth may not be achievable with the data as taken.\n",
      "  spatial_resolution   double          arcsec     Average of the maximum and minimum spatial resolution values of all spectral windows\n",
      "  spatial_scale_max    double          arcsec     Due to the fact that radio antennas can not be placed infinitely close, measurements do have a smallest separation which translates into a maximal angular distance beyond which features can not be resolved reliably any more. Adding observations with the ALMA Total Power array can add those missing largest scales.\n",
      "  t_exptime            double          s          exposure time of observation\n",
      "  t_max                double          d          end time of observation (MJD)\n",
      "  t_min                double          d          start time of observation (MJD)\n",
      "  t_resolution         double          s          typical temporal resolution\n",
      "  target_name          char(256*)                 name of intended target\n",
      "  type                 char(16*)                  Type flags.\n",
      "  velocity_resolution  double          m/s        Estimated velocity resolution from all the spectral windows, from frequency resolution.\n",
      "  collections          char(*)                    Indicates that there are external products\n"
     ]
    }
   ],
   "source": [
    "Alma.help_tap()"
   ]
  },
  {
   "cell_type": "code",
   "execution_count": 25,
   "id": "b27e0767",
   "metadata": {},
   "outputs": [],
   "source": [
    "result = Alma.query_tap(f\"SELECT bib_reference FROM ivoa.obscore WHERE member_ous_uid like 'uid://A001/X62/X2a'\").to_table()"
   ]
  },
  {
   "cell_type": "code",
   "execution_count": 31,
   "id": "df19b0d8",
   "metadata": {},
   "outputs": [],
   "source": [
    "test = result[0]"
   ]
  },
  {
   "cell_type": "code",
   "execution_count": 34,
   "id": "9dff35f8",
   "metadata": {},
   "outputs": [
    {
     "data": {
      "text/plain": [
       "['2012ApJ...750L..21B', '2015MNRAS.447.3936M']"
      ]
     },
     "execution_count": 34,
     "metadata": {},
     "output_type": "execute_result"
    }
   ],
   "source": [
    "test['bib_reference'].split(' ')"
   ]
  },
  {
   "cell_type": "code",
   "execution_count": null,
   "id": "f1d9c843",
   "metadata": {},
   "outputs": [],
   "source": []
  }
 ],
 "metadata": {
  "kernelspec": {
   "display_name": "Python 3",
   "language": "python",
   "name": "python3"
  },
  "language_info": {
   "codemirror_mode": {
    "name": "ipython",
    "version": 3
   },
   "file_extension": ".py",
   "mimetype": "text/x-python",
   "name": "python",
   "nbconvert_exporter": "python",
   "pygments_lexer": "ipython3",
   "version": "3.8.8"
  }
 },
 "nbformat": 4,
 "nbformat_minor": 5
}
