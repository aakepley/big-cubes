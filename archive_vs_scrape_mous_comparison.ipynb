{
 "cells": [
  {
   "cell_type": "markdown",
   "id": "72ad30e9",
   "metadata": {},
   "source": [
    "# MOUS comparison"
   ]
  },
  {
   "cell_type": "markdown",
   "id": "302fbbff",
   "metadata": {},
   "source": [
    "When talking with Crystal, I realized that Andy and I have different numbers of MOUSes in our databases. I'm going to check out why that is."
   ]
  },
  {
   "cell_type": "code",
   "execution_count": 76,
   "id": "1ede9af6",
   "metadata": {},
   "outputs": [],
   "source": [
    "from astropy.table import Table, vstack\n",
    "import pickle\n",
    "import numpy as np\n",
    "import matplotlib.pyplot as plt\n",
    "from importlib import reload\n",
    "import pandas as pd\n",
    "from astroquery.alma import Alma as alma"
   ]
  },
  {
   "cell_type": "code",
   "execution_count": 34,
   "id": "1b2ca27e",
   "metadata": {},
   "outputs": [],
   "source": [
    "# from Andy\n",
    "def under_to_slash(uid):\n",
    "    \"\"\"\n",
    "    Purpose: \n",
    "        Transition a given UID in \"___\" form to \"://\" form.\n",
    "\n",
    "    Inputs: \n",
    "        UID : string\n",
    "            An ALMA UID string (e.g. ASDM, MOUS)\n",
    "\n",
    "    Outputs:\n",
    "        UID in opposite form\n",
    "\n",
    "    Example:\n",
    "        >>> mous = 'uid___A001_X1341_X1b'\n",
    "        >>> mous = under_to_slash(mous)\n",
    "        >>> print(mous)\n",
    "        uid://A001/X1341/X1b\n",
    "    \"\"\"\n",
    "    # If it's empty, return it.\n",
    "    if not uid:\n",
    "        return uid\n",
    "    # If it's in the correct form already, simply return it.\n",
    "    if '://' in uid:\n",
    "        return uid\n",
    "    # Replace all underscores with slashes, split (and thus \n",
    "    # remove) the first slash and join it with a colon.\n",
    "    return ':'.join(uid.replace(\"_\", \"/\").split(\"/\",1))\n"
   ]
  },
  {
   "cell_type": "code",
   "execution_count": 35,
   "id": "dda0c9fd",
   "metadata": {},
   "outputs": [],
   "source": [
    "def slash_to_under(uid):\n",
    "    \"\"\"\n",
    "    Purpose: \n",
    "        Transition a given UID in \"://\" form to \"___\" form.\n",
    "\n",
    "    Inputs: \n",
    "        UID : string\n",
    "            An ALMA UID string (e.g. ASDM, MOUS)\n",
    "\n",
    "    Outputs:\n",
    "        UID in opposite form\n",
    "\n",
    "    Example:\n",
    "        >>> mous = 'uid://A001/X1341/X1b'\n",
    "        >>> mous = slash_to_under(mous)\n",
    "        >>> print(mous)\n",
    "        uid___A001_X1341_X1b\n",
    "    \"\"\"\n",
    "    # If it's empty, return it\n",
    "    if not uid:\n",
    "        return uid\n",
    "    # If it's in the correct form already, simply return it.\n",
    "    if '___' in uid:\n",
    "        return uid\n",
    "    # Simply replace all colon and slash chararcters with underscores\n",
    "    return uid.replace(\":\", \"_\").replace(\"/\", \"_\")\n"
   ]
  },
  {
   "cell_type": "code",
   "execution_count": 15,
   "id": "ec224ae7",
   "metadata": {},
   "outputs": [],
   "source": [
    "# Read Remy's scrape pickle\n",
    "results = pickle.load(open('allc7_stats.20220705.pkl','rb'))\n",
    "rpd  = pd.DataFrame(results).transpose()"
   ]
  },
  {
   "cell_type": "code",
   "execution_count": 17,
   "id": "136c9431",
   "metadata": {
    "scrolled": false
   },
   "outputs": [
    {
     "data": {
      "text/plain": [
       "2583"
      ]
     },
     "execution_count": 17,
     "metadata": {},
     "output_type": "execute_result"
    }
   ],
   "source": [
    "len(rpd)"
   ]
  },
  {
   "cell_type": "code",
   "execution_count": 99,
   "id": "2843e4b3",
   "metadata": {},
   "outputs": [],
   "source": [
    "cycle7 = Table.read('result_table_cycle7_with_calc_values_20220914.csv')"
   ]
  },
  {
   "cell_type": "code",
   "execution_count": 100,
   "id": "00d4e83b",
   "metadata": {},
   "outputs": [
    {
     "data": {
      "text/plain": [
       "51340"
      ]
     },
     "execution_count": 100,
     "metadata": {},
     "output_type": "execute_result"
    }
   ],
   "source": [
    "len(cycle7)"
   ]
  },
  {
   "cell_type": "code",
   "execution_count": 101,
   "id": "a386cb5f",
   "metadata": {},
   "outputs": [
    {
     "data": {
      "text/plain": [
       "<TableColumns names=('obs_publisher_did','facility_name','instrument_name','obs_id','dataproduct_type','calib_level','target_name','s_ra','s_dec','s_fov','s_resolution','t_min','t_max','t_exptime','t_resolution','em_min','em_max','em_res_power','pol_states','o_ucd','access_url','access_format','proposal_id','data_rights','gal_longitude','gal_latitude','band_list','em_resolution','bandwidth','antenna_arrays','is_mosaic','spatial_resolution','frequency_support','frequency','velocity_resolution','publication_year','proposal_abstract','schedblock_name','sensitivity_10kms','cont_sensitivity_bandwidth','pwv','group_ous_uid','member_ous_uid','asdm_uid','type','scan_intent','science_observation','spatial_scale_max','qa2_passed','science_keyword','scientific_category','collections','array','points_per_fov','spw_freq','spw_specwidth','spw_nchan','spw_nchan_max','mitigated','failed_mitigation_nbin1','failed_mitigation_nbin2','ntarget','pb','cell','imsize')>"
      ]
     },
     "execution_count": 101,
     "metadata": {},
     "output_type": "execute_result"
    }
   ],
   "source": [
    "cycle7.columns"
   ]
  },
  {
   "cell_type": "code",
   "execution_count": 102,
   "id": "e448ed86",
   "metadata": {},
   "outputs": [
    {
     "data": {
      "text/plain": [
       "2927"
      ]
     },
     "execution_count": 102,
     "metadata": {},
     "output_type": "execute_result"
    }
   ],
   "source": [
    "len(np.unique(cycle7['member_ous_uid']))"
   ]
  },
  {
   "cell_type": "code",
   "execution_count": 103,
   "id": "32ef62dd",
   "metadata": {
    "scrolled": false
   },
   "outputs": [
    {
     "data": {
      "text/html": [
       "&lt;Column name=&apos;array&apos; dtype=&apos;str3&apos; length=3&gt;\n",
       "<table>\n",
       "<tr><td>12m</td></tr>\n",
       "<tr><td>7m</td></tr>\n",
       "<tr><td>TP</td></tr>\n",
       "</table>"
      ],
      "text/plain": [
       "<Column name='array' dtype='str3' length=3>\n",
       "12m\n",
       " 7m\n",
       " TP"
      ]
     },
     "execution_count": 103,
     "metadata": {},
     "output_type": "execute_result"
    }
   ],
   "source": [
    "np.unique(cycle7['array'])"
   ]
  },
  {
   "cell_type": "code",
   "execution_count": 105,
   "id": "e3ddad19",
   "metadata": {
    "scrolled": true
   },
   "outputs": [
    {
     "data": {
      "text/plain": [
       "2717"
      ]
     },
     "execution_count": 105,
     "metadata": {},
     "output_type": "execute_result"
    }
   ],
   "source": [
    "len(np.unique(cycle7[cycle7['array'] != 'TP']['member_ous_uid']))"
   ]
  },
  {
   "cell_type": "code",
   "execution_count": 115,
   "id": "1f9695d8",
   "metadata": {},
   "outputs": [
    {
     "data": {
      "text/plain": [
       "210"
      ]
     },
     "execution_count": 115,
     "metadata": {},
     "output_type": "execute_result"
    }
   ],
   "source": [
    "len(np.unique(cycle7[cycle7['array'] == 'TP']['member_ous_uid']))"
   ]
  },
  {
   "cell_type": "code",
   "execution_count": 25,
   "id": "3eed8c5d",
   "metadata": {},
   "outputs": [
    {
     "data": {
      "text/plain": [
       "Index(['project', 'plversion', 'procedure', 'nant', 'totaltime', 'imgtime',\n",
       "       'cubetime', 'aggtime', 'fctime', 'nEB', 'npt', 'nscan', 'reptgt',\n",
       "       'nscience', 'nspw', 'webpredrms', 'webcontrms', 'webcontBW', 'webfreq',\n",
       "       'webbm', 'webdirtyDR', 'webcontpk', 'allowedcubesize',\n",
       "       'allowedcubelimit', 'predcubesize', 'mitigatedcubesize',\n",
       "       'allowedprodsize', 'initialprodsize', 'mitigatedprodsize', 'mitigated',\n",
       "       'mit_nbins', 'mit_hm_imsize', 'mit_hm_cell', 'mit_field', 'mit_spw'],\n",
       "      dtype='object')"
      ]
     },
     "execution_count": 25,
     "metadata": {},
     "output_type": "execute_result"
    }
   ],
   "source": [
    "rpd.columns"
   ]
  },
  {
   "cell_type": "code",
   "execution_count": 27,
   "id": "78981ae9",
   "metadata": {},
   "outputs": [
    {
     "data": {
      "text/plain": [
       "array(['hifa_calimage', 'hifa_calimage_NOrenorm', 'hifa_calimage_renorm',\n",
       "       'hifa_image'], dtype=object)"
      ]
     },
     "execution_count": 27,
     "metadata": {},
     "output_type": "execute_result"
    }
   ],
   "source": [
    "np.unique(rpd['procedure'])"
   ]
  },
  {
   "cell_type": "code",
   "execution_count": 29,
   "id": "70991e1a",
   "metadata": {
    "scrolled": false
   },
   "outputs": [
    {
     "data": {
      "text/plain": [
       "(array([ 772.,  131.,    0.,    0.,    0.,    2.,   42.,  373., 1129.,\n",
       "         134.]),\n",
       " array([6.0, 10.6, 15.2, 19.799999999999997, 24.4, 29.0,\n",
       "        33.599999999999994, 38.199999999999996, 42.8, 47.4, 52.0],\n",
       "       dtype=object),\n",
       " <BarContainer object of 10 artists>)"
      ]
     },
     "execution_count": 29,
     "metadata": {},
     "output_type": "execute_result"
    },
    {
     "data": {
      "image/png": "[encoded data removed]",
      "text/plain": [
       "<Figure size 432x288 with 1 Axes>"
      ]
     },
     "metadata": {
      "needs_background": "light"
     },
     "output_type": "display_data"
    }
   ],
   "source": [
    "plt.hist(rpd['nant'])"
   ]
  },
  {
   "cell_type": "code",
   "execution_count": 114,
   "id": "93324051",
   "metadata": {},
   "outputs": [
    {
     "data": {
      "text/plain": [
       "2583"
      ]
     },
     "execution_count": 114,
     "metadata": {},
     "output_type": "execute_result"
    }
   ],
   "source": [
    "len(rpd['nant'])"
   ]
  },
  {
   "cell_type": "code",
   "execution_count": 106,
   "id": "9de689f6",
   "metadata": {},
   "outputs": [],
   "source": [
    "archive_mous_list = np.unique(cycle7['member_ous_uid'])"
   ]
  },
  {
   "cell_type": "code",
   "execution_count": 107,
   "id": "9b988146",
   "metadata": {
    "scrolled": false
   },
   "outputs": [
    {
     "data": {
      "text/html": [
       "&lt;Column name=&apos;member_ous_uid&apos; dtype=&apos;str22&apos; length=2927&gt;\n",
       "<table>\n",
       "<tr><td>uid://A001/X1465/X1002</td></tr>\n",
       "<tr><td>uid://A001/X1465/X1004</td></tr>\n",
       "<tr><td>uid://A001/X1465/X1008</td></tr>\n",
       "<tr><td>uid://A001/X1465/X100a</td></tr>\n",
       "<tr><td>uid://A001/X1465/X100e</td></tr>\n",
       "<tr><td>uid://A001/X1465/X1010</td></tr>\n",
       "<tr><td>uid://A001/X1465/X1014</td></tr>\n",
       "<tr><td>uid://A001/X1465/X1016</td></tr>\n",
       "<tr><td>uid://A001/X1465/X101a</td></tr>\n",
       "<tr><td>uid://A001/X1465/X101c</td></tr>\n",
       "<tr><td>uid://A001/X1465/X1020</td></tr>\n",
       "<tr><td>uid://A001/X1465/X1022</td></tr>\n",
       "<tr><td>...</td></tr>\n",
       "<tr><td>uid://A001/X15a2/Xaa3</td></tr>\n",
       "<tr><td>uid://A001/X15a2/Xaa7</td></tr>\n",
       "<tr><td>uid://A001/X15a2/Xab1</td></tr>\n",
       "<tr><td>uid://A001/X15a2/Xab4</td></tr>\n",
       "<tr><td>uid://A001/X15a2/Xab7</td></tr>\n",
       "<tr><td>uid://A001/X15a2/Xed4</td></tr>\n",
       "<tr><td>uid://A001/X15a3/X18</td></tr>\n",
       "<tr><td>uid://A001/X15a3/X5</td></tr>\n",
       "<tr><td>uid://A001/X15a9/X134d</td></tr>\n",
       "<tr><td>uid://A001/X15a9/X1351</td></tr>\n",
       "<tr><td>uid://A001/X15aa/X74</td></tr>\n",
       "<tr><td>uid://A001/X15aa/X77</td></tr>\n",
       "</table>"
      ],
      "text/plain": [
       "<Column name='member_ous_uid' dtype='str22' length=2927>\n",
       "uid://A001/X1465/X1002\n",
       "uid://A001/X1465/X1004\n",
       "uid://A001/X1465/X1008\n",
       "uid://A001/X1465/X100a\n",
       "uid://A001/X1465/X100e\n",
       "uid://A001/X1465/X1010\n",
       "uid://A001/X1465/X1014\n",
       "uid://A001/X1465/X1016\n",
       "uid://A001/X1465/X101a\n",
       "uid://A001/X1465/X101c\n",
       "uid://A001/X1465/X1020\n",
       "uid://A001/X1465/X1022\n",
       "                   ...\n",
       " uid://A001/X15a2/Xaa3\n",
       " uid://A001/X15a2/Xaa7\n",
       " uid://A001/X15a2/Xab1\n",
       " uid://A001/X15a2/Xab4\n",
       " uid://A001/X15a2/Xab7\n",
       " uid://A001/X15a2/Xed4\n",
       "  uid://A001/X15a3/X18\n",
       "   uid://A001/X15a3/X5\n",
       "uid://A001/X15a9/X134d\n",
       "uid://A001/X15a9/X1351\n",
       "  uid://A001/X15aa/X74\n",
       "  uid://A001/X15aa/X77"
      ]
     },
     "execution_count": 107,
     "metadata": {},
     "output_type": "execute_result"
    }
   ],
   "source": [
    "archive_mous_list"
   ]
  },
  {
   "cell_type": "code",
   "execution_count": 108,
   "id": "0008f6aa",
   "metadata": {},
   "outputs": [
    {
     "data": {
      "text/plain": [
       "2927"
      ]
     },
     "execution_count": 108,
     "metadata": {},
     "output_type": "execute_result"
    }
   ],
   "source": [
    "len(archive_mous_list)"
   ]
  },
  {
   "cell_type": "code",
   "execution_count": 109,
   "id": "5242e66c",
   "metadata": {},
   "outputs": [
    {
     "data": {
      "text/plain": [
       "2583"
      ]
     },
     "execution_count": 109,
     "metadata": {},
     "output_type": "execute_result"
    }
   ],
   "source": [
    "len(rpd)"
   ]
  },
  {
   "cell_type": "code",
   "execution_count": 79,
   "id": "2a74242d",
   "metadata": {},
   "outputs": [
    {
     "name": "stdout",
     "output_type": "stream",
     "text": [
      "MOUS not in archive MOUS list: uid://A001/X1465/X1909\n",
      "MOUS not in archive MOUS list: uid://A001/X1465/X23eb\n",
      "MOUS not in archive MOUS list: uid://A001/X1465/X23f3\n",
      "MOUS not in archive MOUS list: uid://A001/X14c3/Xb84\n",
      "MOUS not in archive MOUS list: uid://A001/X1528/X31b\n",
      "MOUS not in archive MOUS list: uid://A001/X1583/X29\n",
      "MOUS not in archive MOUS list: uid://A001/X1586/X23\n",
      "MOUS not in archive MOUS list: uid://A001/X1586/X2c\n",
      "MOUS not in archive MOUS list: uid://A001/X1469/X103\n",
      "MOUS not in archive MOUS list: uid://A001/X1469/X107\n",
      "MOUS not in archive MOUS list: uid://A001/X1469/X10b\n",
      "MOUS not in archive MOUS list: uid://A001/X1469/X6\n",
      "MOUS not in archive MOUS list: uid://A001/X1469/Xdf\n",
      "MOUS not in archive MOUS list: uid://A001/X1469/Xe3\n",
      "MOUS not in archive MOUS list: uid://A001/X1469/Xe7\n",
      "MOUS not in archive MOUS list: uid://A001/X1469/Xeb\n",
      "MOUS not in archive MOUS list: uid://A001/X1469/Xef\n",
      "MOUS not in archive MOUS list: uid://A001/X1469/Xf3\n",
      "MOUS not in archive MOUS list: uid://A001/X1469/Xf7\n",
      "MOUS not in archive MOUS list: uid://A001/X1469/Xfb\n",
      "MOUS not in archive MOUS list: uid://A001/X1469/Xff\n",
      "MOUS not in archive MOUS list: uid://A001/X1474/X185\n",
      "MOUS not in archive MOUS list: uid://A001/X14c3/Xb8c\n",
      "MOUS not in archive MOUS list: uid://A001/X14d7/Xc9\n",
      "MOUS not in archive MOUS list: uid://A001/X14d8/X435\n",
      "MOUS not in archive MOUS list: uid://A001/X1528/X28f\n",
      "MOUS not in archive MOUS list: uid://A001/X1528/X2a8\n",
      "MOUS not in archive MOUS list: uid://A001/X1528/X367\n",
      "MOUS not in archive MOUS list: uid://A001/X1583/X19\n",
      "MOUS not in archive MOUS list: uid://A001/X1583/X1d\n",
      "MOUS not in archive MOUS list: uid://A001/X1583/X21\n",
      "MOUS not in archive MOUS list: uid://A001/X1583/X25\n",
      "MOUS not in archive MOUS list: uid://A001/X1583/X2d\n",
      "MOUS not in archive MOUS list: uid://A001/X1585/X23\n",
      "MOUS not in archive MOUS list: uid://A001/X1585/X30\n",
      "MOUS not in archive MOUS list: uid://A001/X1585/X36\n",
      "MOUS not in archive MOUS list: uid://A001/X1586/X11\n",
      "MOUS not in archive MOUS list: uid://A001/X1586/X20\n"
     ]
    }
   ],
   "source": [
    "# calculate which pickle values aren't in archive MOUS list\n",
    "final = ''\n",
    "for val in rpd.index:\n",
    "    newval = under_to_slash(val)\n",
    "    if newval not in archive_mous_list:\n",
    "        print(\"MOUS not in archive MOUS list: \"+newval)\n",
    "        result = alma.query_tap(f\"SELECT * FROM ivoa.obscore WHERE member_ous_uid like '\"+newval+\"'\").to_table()\n",
    "        tmptab = result['proposal_id','member_ous_uid','schedblock_name','target_name','science_keyword','scientific_category','science_observation']\n",
    "        if not final:\n",
    "            final = tmptab\n",
    "        else:\n",
    "            final = vstack([final,tmptab])"
   ]
  },
  {
   "cell_type": "code",
   "execution_count": 110,
   "id": "1963b622",
   "metadata": {
    "scrolled": true
   },
   "outputs": [
    {
     "data": {
      "text/html": [
       "<i>Table length=9</i>\n",
       "<table id=\"table140396720118848\" class=\"table-striped table-bordered table-condensed\">\n",
       "<thead><tr><th>proposal_id</th><th>member_ous_uid</th><th>schedblock_name</th><th>target_name</th><th>science_keyword</th><th>scientific_category</th><th>science_observation</th></tr></thead>\n",
       "<thead><tr><th>str64</th><th>str64</th><th>str128</th><th>str256</th><th>str200</th><th>str200</th><th>str1</th></tr></thead>\n",
       "<tr><td>2019.1.01094.S</td><td>uid://A001/X1528/X28f</td><td>Europa_b_07_TM1</td><td>Europa</td><td>Exo-planets</td><td>Disks and planet formation</td><td>T</td></tr>\n",
       "<tr><td>2019.1.01094.S</td><td>uid://A001/X1528/X28f</td><td>Europa_b_07_TM1</td><td>Europa</td><td>Exo-planets</td><td>Disks and planet formation</td><td>T</td></tr>\n",
       "<tr><td>2019.1.01094.S</td><td>uid://A001/X1528/X28f</td><td>Europa_b_07_TM1</td><td>Europa</td><td>Exo-planets</td><td>Disks and planet formation</td><td>T</td></tr>\n",
       "<tr><td>2019.1.01094.S</td><td>uid://A001/X1528/X28f</td><td>Europa_b_07_TM1</td><td>Europa</td><td>Exo-planets</td><td>Disks and planet formation</td><td>T</td></tr>\n",
       "<tr><td>2019.1.01094.S</td><td>uid://A001/X1528/X28f</td><td>Europa_b_07_TM1</td><td>Europa</td><td>Exo-planets</td><td>Disks and planet formation</td><td>T</td></tr>\n",
       "<tr><td>2019.1.01094.S</td><td>uid://A001/X1528/X2a8</td><td>Europa_c_07_TM1</td><td>Europa</td><td>Exo-planets</td><td>Disks and planet formation</td><td>T</td></tr>\n",
       "<tr><td>2019.1.01094.S</td><td>uid://A001/X1528/X2a8</td><td>Europa_c_07_TM1</td><td>Europa</td><td>Exo-planets</td><td>Disks and planet formation</td><td>T</td></tr>\n",
       "<tr><td>2019.1.01094.S</td><td>uid://A001/X1528/X2a8</td><td>Europa_c_07_TM1</td><td>Europa</td><td>Exo-planets</td><td>Disks and planet formation</td><td>T</td></tr>\n",
       "<tr><td>2019.1.01094.S</td><td>uid://A001/X1528/X2a8</td><td>Europa_c_07_TM1</td><td>Europa</td><td>Exo-planets</td><td>Disks and planet formation</td><td>T</td></tr>\n",
       "</table>"
      ],
      "text/plain": [
       "<Table length=9>\n",
       " proposal_id       member_ous_uid    ... science_observation\n",
       "    str64              str64         ...         str1       \n",
       "-------------- --------------------- ... -------------------\n",
       "2019.1.01094.S uid://A001/X1528/X28f ...                   T\n",
       "2019.1.01094.S uid://A001/X1528/X28f ...                   T\n",
       "2019.1.01094.S uid://A001/X1528/X28f ...                   T\n",
       "2019.1.01094.S uid://A001/X1528/X28f ...                   T\n",
       "2019.1.01094.S uid://A001/X1528/X28f ...                   T\n",
       "2019.1.01094.S uid://A001/X1528/X2a8 ...                   T\n",
       "2019.1.01094.S uid://A001/X1528/X2a8 ...                   T\n",
       "2019.1.01094.S uid://A001/X1528/X2a8 ...                   T\n",
       "2019.1.01094.S uid://A001/X1528/X2a8 ...                   T"
      ]
     },
     "execution_count": 110,
     "metadata": {},
     "output_type": "execute_result"
    }
   ],
   "source": [
    "idx = (final['scientific_category'] != 'Solar system') & (final['science_observation'] == 'T')\n",
    "final[idx]"
   ]
  },
  {
   "cell_type": "markdown",
   "id": "1a065aa1",
   "metadata": {},
   "source": [
    "The missing MOUSes from my archive query are all solar system or Europa data from another category, which makes sense, because I excluded them."
   ]
  },
  {
   "cell_type": "code",
   "execution_count": 92,
   "id": "d000a676",
   "metadata": {
    "scrolled": true
   },
   "outputs": [
    {
     "data": {
      "text/plain": [
       "38"
      ]
     },
     "execution_count": 92,
     "metadata": {},
     "output_type": "execute_result"
    }
   ],
   "source": [
    "len(np.unique(final['member_ous_uid']))"
   ]
  },
  {
   "cell_type": "markdown",
   "id": "c53e684f",
   "metadata": {},
   "source": [
    "But I have 2717 MOUS in my sample (excluding TP) and Andy has 2583"
   ]
  },
  {
   "cell_type": "code",
   "execution_count": 113,
   "id": "a0dafe38",
   "metadata": {},
   "outputs": [
    {
     "name": "stdout",
     "output_type": "stream",
     "text": [
      "MOUS not in archive MOUS list: uid___A001_X1465_X1004\n",
      "MOUS not in archive MOUS list: uid___A001_X1465_X100a\n",
      "MOUS not in archive MOUS list: uid___A001_X1465_X1010\n",
      "MOUS not in archive MOUS list: uid___A001_X1465_X1016\n",
      "MOUS not in archive MOUS list: uid___A001_X1465_X101c\n",
      "MOUS not in archive MOUS list: uid___A001_X1465_X1022\n",
      "MOUS not in archive MOUS list: uid___A001_X1465_X1028\n",
      "MOUS not in archive MOUS list: uid___A001_X1465_X102e\n",
      "MOUS not in archive MOUS list: uid___A001_X1465_X1034\n",
      "MOUS not in archive MOUS list: uid___A001_X1465_X103a\n",
      "MOUS not in archive MOUS list: uid___A001_X1465_X1040\n",
      "MOUS not in archive MOUS list: uid___A001_X1465_X1046\n",
      "MOUS not in archive MOUS list: uid___A001_X1465_X104c\n",
      "MOUS not in archive MOUS list: uid___A001_X1465_X1052\n",
      "MOUS not in archive MOUS list: uid___A001_X1465_X1058\n",
      "MOUS not in archive MOUS list: uid___A001_X1465_X105e\n",
      "MOUS not in archive MOUS list: uid___A001_X1465_X1064\n",
      "MOUS not in archive MOUS list: uid___A001_X1465_X106a\n",
      "MOUS not in archive MOUS list: uid___A001_X1465_X1070\n",
      "MOUS not in archive MOUS list: uid___A001_X1465_X1076\n",
      "MOUS not in archive MOUS list: uid___A001_X1465_X107c\n",
      "MOUS not in archive MOUS list: uid___A001_X1465_X1082\n",
      "MOUS not in archive MOUS list: uid___A001_X1465_X1088\n",
      "MOUS not in archive MOUS list: uid___A001_X1465_X108e\n",
      "MOUS not in archive MOUS list: uid___A001_X1465_X1198\n",
      "MOUS not in archive MOUS list: uid___A001_X1465_X11b6\n",
      "MOUS not in archive MOUS list: uid___A001_X1465_X1537\n",
      "MOUS not in archive MOUS list: uid___A001_X1465_X1631\n",
      "MOUS not in archive MOUS list: uid___A001_X1465_X17f\n",
      "MOUS not in archive MOUS list: uid___A001_X1465_X1885\n",
      "MOUS not in archive MOUS list: uid___A001_X1465_X1893\n",
      "MOUS not in archive MOUS list: uid___A001_X1465_X1903\n",
      "MOUS not in archive MOUS list: uid___A001_X1465_X1937\n",
      "MOUS not in archive MOUS list: uid___A001_X1465_X1a15\n",
      "MOUS not in archive MOUS list: uid___A001_X1465_X1a19\n",
      "MOUS not in archive MOUS list: uid___A001_X1465_X1afb\n",
      "MOUS not in archive MOUS list: uid___A001_X1465_X1b1\n",
      "MOUS not in archive MOUS list: uid___A001_X1465_X1b16\n",
      "MOUS not in archive MOUS list: uid___A001_X1465_X1b2e\n",
      "MOUS not in archive MOUS list: uid___A001_X1465_X1b34\n",
      "MOUS not in archive MOUS list: uid___A001_X1465_X1b3e\n",
      "MOUS not in archive MOUS list: uid___A001_X1465_X1b44\n",
      "MOUS not in archive MOUS list: uid___A001_X1465_X1b4a\n",
      "MOUS not in archive MOUS list: uid___A001_X1465_X1b50\n",
      "MOUS not in archive MOUS list: uid___A001_X1465_X1b56\n",
      "MOUS not in archive MOUS list: uid___A001_X1465_X1b5c\n",
      "MOUS not in archive MOUS list: uid___A001_X1465_X1bea\n",
      "MOUS not in archive MOUS list: uid___A001_X1465_X1bec\n",
      "MOUS not in archive MOUS list: uid___A001_X1465_X1c4c\n",
      "MOUS not in archive MOUS list: uid___A001_X1465_X1c6\n",
      "MOUS not in archive MOUS list: uid___A001_X1465_X1c94\n",
      "MOUS not in archive MOUS list: uid___A001_X1465_X1c9c\n",
      "MOUS not in archive MOUS list: uid___A001_X1465_X1ca0\n",
      "MOUS not in archive MOUS list: uid___A001_X1465_X1ce\n",
      "MOUS not in archive MOUS list: uid___A001_X1465_X1cf1\n",
      "MOUS not in archive MOUS list: uid___A001_X1465_X1cf7\n",
      "MOUS not in archive MOUS list: uid___A001_X1465_X1d0\n",
      "MOUS not in archive MOUS list: uid___A001_X1465_X1d2\n",
      "MOUS not in archive MOUS list: uid___A001_X1465_X1e53\n",
      "MOUS not in archive MOUS list: uid___A001_X1465_X1e96\n",
      "MOUS not in archive MOUS list: uid___A001_X1465_X1ffd\n",
      "MOUS not in archive MOUS list: uid___A001_X1465_X2005\n",
      "MOUS not in archive MOUS list: uid___A001_X1465_X200d\n",
      "MOUS not in archive MOUS list: uid___A001_X1465_X2015\n",
      "MOUS not in archive MOUS list: uid___A001_X1465_X204b\n",
      "MOUS not in archive MOUS list: uid___A001_X1465_X2186\n",
      "MOUS not in archive MOUS list: uid___A001_X1465_X218e\n",
      "MOUS not in archive MOUS list: uid___A001_X1465_X2196\n",
      "MOUS not in archive MOUS list: uid___A001_X1465_X219e\n",
      "MOUS not in archive MOUS list: uid___A001_X1465_X21a6\n",
      "MOUS not in archive MOUS list: uid___A001_X1465_X220e\n",
      "MOUS not in archive MOUS list: uid___A001_X1465_X23a9\n",
      "MOUS not in archive MOUS list: uid___A001_X1465_X23b1\n",
      "MOUS not in archive MOUS list: uid___A001_X1465_X24d3\n",
      "MOUS not in archive MOUS list: uid___A001_X1465_X24dd\n",
      "MOUS not in archive MOUS list: uid___A001_X1465_X24e3\n",
      "MOUS not in archive MOUS list: uid___A001_X1465_X24e9\n",
      "MOUS not in archive MOUS list: uid___A001_X1465_X24f7\n",
      "MOUS not in archive MOUS list: uid___A001_X1465_X24fd\n",
      "MOUS not in archive MOUS list: uid___A001_X1465_X2507\n",
      "MOUS not in archive MOUS list: uid___A001_X1465_X250d\n",
      "MOUS not in archive MOUS list: uid___A001_X1465_X2517\n",
      "MOUS not in archive MOUS list: uid___A001_X1465_X251d\n",
      "MOUS not in archive MOUS list: uid___A001_X1465_X2527\n",
      "MOUS not in archive MOUS list: uid___A001_X1465_X2535\n",
      "MOUS not in archive MOUS list: uid___A001_X1465_X253b\n",
      "MOUS not in archive MOUS list: uid___A001_X1465_X2541\n",
      "MOUS not in archive MOUS list: uid___A001_X1465_X254b\n",
      "MOUS not in archive MOUS list: uid___A001_X1465_X2551\n",
      "MOUS not in archive MOUS list: uid___A001_X1465_X255b\n",
      "MOUS not in archive MOUS list: uid___A001_X1465_X2561\n",
      "MOUS not in archive MOUS list: uid___A001_X1465_X2567\n",
      "MOUS not in archive MOUS list: uid___A001_X1465_X2571\n",
      "MOUS not in archive MOUS list: uid___A001_X1465_X2577\n",
      "MOUS not in archive MOUS list: uid___A001_X1465_X2587\n",
      "MOUS not in archive MOUS list: uid___A001_X1465_X277a\n",
      "MOUS not in archive MOUS list: uid___A001_X1465_X2874\n",
      "MOUS not in archive MOUS list: uid___A001_X1465_X296b\n",
      "MOUS not in archive MOUS list: uid___A001_X1465_X2971\n",
      "MOUS not in archive MOUS list: uid___A001_X1465_X2975\n",
      "MOUS not in archive MOUS list: uid___A001_X1465_X2977\n",
      "MOUS not in archive MOUS list: uid___A001_X1465_X2b5d\n",
      "MOUS not in archive MOUS list: uid___A001_X1465_X2bb1\n",
      "MOUS not in archive MOUS list: uid___A001_X1465_X2bd0\n",
      "MOUS not in archive MOUS list: uid___A001_X1465_X2d4d\n",
      "MOUS not in archive MOUS list: uid___A001_X1465_X2dd9\n",
      "MOUS not in archive MOUS list: uid___A001_X1465_X2df5\n",
      "MOUS not in archive MOUS list: uid___A001_X1465_X2dfe\n",
      "MOUS not in archive MOUS list: uid___A001_X1465_X2f02\n",
      "MOUS not in archive MOUS list: uid___A001_X1465_X2f5d\n",
      "MOUS not in archive MOUS list: uid___A001_X1465_X2f6\n",
      "MOUS not in archive MOUS list: uid___A001_X1465_X30e8\n",
      "MOUS not in archive MOUS list: uid___A001_X1465_X30ec\n",
      "MOUS not in archive MOUS list: uid___A001_X1465_X30f0\n",
      "MOUS not in archive MOUS list: uid___A001_X1465_X30f8\n",
      "MOUS not in archive MOUS list: uid___A001_X1465_X3102\n",
      "MOUS not in archive MOUS list: uid___A001_X1465_X31af\n",
      "MOUS not in archive MOUS list: uid___A001_X1465_X325\n",
      "MOUS not in archive MOUS list: uid___A001_X1465_X327b\n",
      "MOUS not in archive MOUS list: uid___A001_X1465_X32b\n",
      "MOUS not in archive MOUS list: uid___A001_X1465_X32df\n",
      "MOUS not in archive MOUS list: uid___A001_X1465_X331\n",
      "MOUS not in archive MOUS list: uid___A001_X1465_X337\n",
      "MOUS not in archive MOUS list: uid___A001_X1465_X3407\n",
      "MOUS not in archive MOUS list: uid___A001_X1465_X343f\n",
      "MOUS not in archive MOUS list: uid___A001_X1465_X346b\n",
      "MOUS not in archive MOUS list: uid___A001_X1465_X355\n",
      "MOUS not in archive MOUS list: uid___A001_X1465_X35f\n",
      "MOUS not in archive MOUS list: uid___A001_X1465_X36e1\n",
      "MOUS not in archive MOUS list: uid___A001_X1465_X36e3\n",
      "MOUS not in archive MOUS list: uid___A001_X1465_X3750\n",
      "MOUS not in archive MOUS list: uid___A001_X1465_X3856\n",
      "MOUS not in archive MOUS list: uid___A001_X1465_X3879\n",
      "MOUS not in archive MOUS list: uid___A001_X1465_X387d\n",
      "MOUS not in archive MOUS list: uid___A001_X1465_X3991\n",
      "MOUS not in archive MOUS list: uid___A001_X1465_X3a33\n",
      "MOUS not in archive MOUS list: uid___A001_X1465_X3a3f\n",
      "MOUS not in archive MOUS list: uid___A001_X1465_X3a43\n",
      "MOUS not in archive MOUS list: uid___A001_X1465_X3acd\n",
      "MOUS not in archive MOUS list: uid___A001_X1465_X3b1b\n",
      "MOUS not in archive MOUS list: uid___A001_X1465_X3b1d\n",
      "MOUS not in archive MOUS list: uid___A001_X1465_X3b48\n",
      "MOUS not in archive MOUS list: uid___A001_X1465_X3b4f\n",
      "MOUS not in archive MOUS list: uid___A001_X1465_X3b5e\n",
      "MOUS not in archive MOUS list: uid___A001_X1465_X3c36\n",
      "MOUS not in archive MOUS list: uid___A001_X1465_X3c70\n",
      "MOUS not in archive MOUS list: uid___A001_X1465_X3cc\n",
      "MOUS not in archive MOUS list: uid___A001_X1465_X3d1c\n",
      "MOUS not in archive MOUS list: uid___A001_X1465_X3d2\n",
      "MOUS not in archive MOUS list: uid___A001_X1465_X3dc\n",
      "MOUS not in archive MOUS list: uid___A001_X1465_X3e6\n",
      "MOUS not in archive MOUS list: uid___A001_X1465_X3f0\n",
      "MOUS not in archive MOUS list: uid___A001_X1465_X3fa\n"
     ]
    },
    {
     "name": "stdout",
     "output_type": "stream",
     "text": [
      "MOUS not in archive MOUS list: uid___A001_X1465_X402\n",
      "MOUS not in archive MOUS list: uid___A001_X1465_X405\n",
      "MOUS not in archive MOUS list: uid___A001_X1465_X40f\n",
      "MOUS not in archive MOUS list: uid___A001_X1465_X443\n",
      "MOUS not in archive MOUS list: uid___A001_X1465_X4c7\n",
      "MOUS not in archive MOUS list: uid___A001_X1465_X4f0\n",
      "MOUS not in archive MOUS list: uid___A001_X1465_X5bc\n",
      "MOUS not in archive MOUS list: uid___A001_X1465_X66d\n",
      "MOUS not in archive MOUS list: uid___A001_X1465_X72\n",
      "MOUS not in archive MOUS list: uid___A001_X1465_X7b3\n",
      "MOUS not in archive MOUS list: uid___A001_X1465_X840\n",
      "MOUS not in archive MOUS list: uid___A001_X1465_Xa71\n",
      "MOUS not in archive MOUS list: uid___A001_X1465_Xad6\n",
      "MOUS not in archive MOUS list: uid___A001_X1465_Xb48\n",
      "MOUS not in archive MOUS list: uid___A001_X1465_Xb4b\n",
      "MOUS not in archive MOUS list: uid___A001_X1465_Xb4e\n",
      "MOUS not in archive MOUS list: uid___A001_X1465_Xbf9\n",
      "MOUS not in archive MOUS list: uid___A001_X1465_Xbff\n",
      "MOUS not in archive MOUS list: uid___A001_X1465_Xc05\n",
      "MOUS not in archive MOUS list: uid___A001_X1465_Xc59\n",
      "MOUS not in archive MOUS list: uid___A001_X1465_Xd60\n",
      "MOUS not in archive MOUS list: uid___A001_X1465_Xd63\n",
      "MOUS not in archive MOUS list: uid___A001_X1465_Xe7b\n",
      "MOUS not in archive MOUS list: uid___A001_X1465_Xe81\n",
      "MOUS not in archive MOUS list: uid___A001_X1465_Xe8d\n",
      "MOUS not in archive MOUS list: uid___A001_X1465_Xe93\n",
      "MOUS not in archive MOUS list: uid___A001_X1465_Xe99\n",
      "MOUS not in archive MOUS list: uid___A001_X1465_Xeab\n",
      "MOUS not in archive MOUS list: uid___A001_X1465_Xeb1\n",
      "MOUS not in archive MOUS list: uid___A001_X1465_Xec3\n",
      "MOUS not in archive MOUS list: uid___A001_X1465_Xef6\n",
      "MOUS not in archive MOUS list: uid___A001_X1465_Xefe\n",
      "MOUS not in archive MOUS list: uid___A001_X1465_Xf02\n",
      "MOUS not in archive MOUS list: uid___A001_X1465_Xfd2\n",
      "MOUS not in archive MOUS list: uid___A001_X1465_Xfd4\n",
      "MOUS not in archive MOUS list: uid___A001_X1465_Xfda\n",
      "MOUS not in archive MOUS list: uid___A001_X1465_Xfe0\n",
      "MOUS not in archive MOUS list: uid___A001_X1465_Xfe4\n",
      "MOUS not in archive MOUS list: uid___A001_X1465_Xfe6\n",
      "MOUS not in archive MOUS list: uid___A001_X1465_Xfec\n",
      "MOUS not in archive MOUS list: uid___A001_X1465_Xff2\n",
      "MOUS not in archive MOUS list: uid___A001_X1465_Xff8\n",
      "MOUS not in archive MOUS list: uid___A001_X1465_Xffe\n",
      "MOUS not in archive MOUS list: uid___A001_X1467_X224\n",
      "MOUS not in archive MOUS list: uid___A001_X1467_X26e\n",
      "MOUS not in archive MOUS list: uid___A001_X1467_X272\n",
      "MOUS not in archive MOUS list: uid___A001_X1468_X1a8\n",
      "MOUS not in archive MOUS list: uid___A001_X1468_X1de\n",
      "MOUS not in archive MOUS list: uid___A001_X1469_X178\n",
      "MOUS not in archive MOUS list: uid___A001_X1469_X17c\n",
      "MOUS not in archive MOUS list: uid___A001_X1469_X2c1\n",
      "MOUS not in archive MOUS list: uid___A001_X146a_X26\n",
      "MOUS not in archive MOUS list: uid___A001_X146a_X31e\n",
      "MOUS not in archive MOUS list: uid___A001_X146a_X322\n",
      "MOUS not in archive MOUS list: uid___A001_X146a_Xa3\n",
      "MOUS not in archive MOUS list: uid___A001_X146a_Xa7\n",
      "MOUS not in archive MOUS list: uid___A001_X146c_X25b\n",
      "MOUS not in archive MOUS list: uid___A001_X146c_Xa\n",
      "MOUS not in archive MOUS list: uid___A001_X146c_Xdf\n",
      "MOUS not in archive MOUS list: uid___A001_X146c_Xe4\n",
      "MOUS not in archive MOUS list: uid___A001_X146c_Xe6\n",
      "MOUS not in archive MOUS list: uid___A001_X146d_X16\n",
      "MOUS not in archive MOUS list: uid___A001_X146d_X60\n",
      "MOUS not in archive MOUS list: uid___A001_X1471_X287\n",
      "MOUS not in archive MOUS list: uid___A001_X1471_X292\n",
      "MOUS not in archive MOUS list: uid___A001_X1471_X296\n",
      "MOUS not in archive MOUS list: uid___A001_X1471_X30d\n",
      "MOUS not in archive MOUS list: uid___A001_X1471_X313\n",
      "MOUS not in archive MOUS list: uid___A001_X1471_X317\n",
      "MOUS not in archive MOUS list: uid___A001_X1471_X31b\n",
      "MOUS not in archive MOUS list: uid___A001_X1473_Xbd6\n",
      "MOUS not in archive MOUS list: uid___A001_X1473_Xbda\n",
      "MOUS not in archive MOUS list: uid___A001_X1473_Xbde\n",
      "MOUS not in archive MOUS list: uid___A001_X1473_Xbe6\n",
      "MOUS not in archive MOUS list: uid___A001_X1473_Xbec\n",
      "MOUS not in archive MOUS list: uid___A001_X1474_X59\n",
      "MOUS not in archive MOUS list: uid___A001_X1476_Xa6\n",
      "MOUS not in archive MOUS list: uid___A001_X1477_X41\n",
      "MOUS not in archive MOUS list: uid___A001_X14c2_X104\n",
      "MOUS not in archive MOUS list: uid___A001_X14c2_X130\n",
      "MOUS not in archive MOUS list: uid___A001_X14c2_X13c\n",
      "MOUS not in archive MOUS list: uid___A001_X14c2_X1c5\n",
      "MOUS not in archive MOUS list: uid___A001_X14c2_X208\n",
      "MOUS not in archive MOUS list: uid___A001_X14c2_X20d\n",
      "MOUS not in archive MOUS list: uid___A001_X14c2_X212\n",
      "MOUS not in archive MOUS list: uid___A001_X14c2_X6f\n",
      "MOUS not in archive MOUS list: uid___A001_X14c2_X75\n",
      "MOUS not in archive MOUS list: uid___A001_X14c2_X9a\n",
      "MOUS not in archive MOUS list: uid___A001_X14c2_Xfe\n",
      "MOUS not in archive MOUS list: uid___A001_X14c3_X1043\n",
      "MOUS not in archive MOUS list: uid___A001_X14c3_X1049\n",
      "MOUS not in archive MOUS list: uid___A001_X14c3_X104f\n",
      "MOUS not in archive MOUS list: uid___A001_X14c3_X1055\n",
      "MOUS not in archive MOUS list: uid___A001_X14c3_X105b\n",
      "MOUS not in archive MOUS list: uid___A001_X14c3_X1061\n",
      "MOUS not in archive MOUS list: uid___A001_X14c3_X1067\n",
      "MOUS not in archive MOUS list: uid___A001_X14c3_X106d\n",
      "MOUS not in archive MOUS list: uid___A001_X14c3_X1073\n",
      "MOUS not in archive MOUS list: uid___A001_X14c3_X1079\n",
      "MOUS not in archive MOUS list: uid___A001_X14c3_X107f\n",
      "MOUS not in archive MOUS list: uid___A001_X14c3_X1085\n",
      "MOUS not in archive MOUS list: uid___A001_X14c3_X10e\n",
      "MOUS not in archive MOUS list: uid___A001_X14c3_X1106\n",
      "MOUS not in archive MOUS list: uid___A001_X14c3_X118\n",
      "MOUS not in archive MOUS list: uid___A001_X14c3_X1233\n",
      "MOUS not in archive MOUS list: uid___A001_X14c3_X123c\n",
      "MOUS not in archive MOUS list: uid___A001_X14c3_X1265\n",
      "MOUS not in archive MOUS list: uid___A001_X14c3_X127d\n",
      "MOUS not in archive MOUS list: uid___A001_X14c3_X129c\n",
      "MOUS not in archive MOUS list: uid___A001_X14c3_X129e\n",
      "MOUS not in archive MOUS list: uid___A001_X14c3_X12a2\n",
      "MOUS not in archive MOUS list: uid___A001_X14c3_X12a4\n",
      "MOUS not in archive MOUS list: uid___A001_X14c3_X12a8\n",
      "MOUS not in archive MOUS list: uid___A001_X14c3_X12aa\n",
      "MOUS not in archive MOUS list: uid___A001_X14c3_X12e8\n",
      "MOUS not in archive MOUS list: uid___A001_X14c3_X12ee\n",
      "MOUS not in archive MOUS list: uid___A001_X14c3_X15a\n",
      "MOUS not in archive MOUS list: uid___A001_X14c3_X1a0\n",
      "MOUS not in archive MOUS list: uid___A001_X14c3_X1aa\n",
      "MOUS not in archive MOUS list: uid___A001_X14c3_X1dc\n",
      "MOUS not in archive MOUS list: uid___A001_X14c3_X1e6\n",
      "MOUS not in archive MOUS list: uid___A001_X14c3_X2dc\n",
      "MOUS not in archive MOUS list: uid___A001_X14c3_X2e0\n",
      "MOUS not in archive MOUS list: uid___A001_X14c3_X2e2\n",
      "MOUS not in archive MOUS list: uid___A001_X14c3_X2ee\n",
      "MOUS not in archive MOUS list: uid___A001_X14c3_X2f4\n",
      "MOUS not in archive MOUS list: uid___A001_X14c3_X2fa\n",
      "MOUS not in archive MOUS list: uid___A001_X14c3_X3ef\n",
      "MOUS not in archive MOUS list: uid___A001_X14c3_X422\n",
      "MOUS not in archive MOUS list: uid___A001_X14c3_X42e\n",
      "MOUS not in archive MOUS list: uid___A001_X14c3_X434\n",
      "MOUS not in archive MOUS list: uid___A001_X14c3_X446\n",
      "MOUS not in archive MOUS list: uid___A001_X14c3_X470\n",
      "MOUS not in archive MOUS list: uid___A001_X14c3_X60a\n",
      "MOUS not in archive MOUS list: uid___A001_X14c3_X615\n",
      "MOUS not in archive MOUS list: uid___A001_X14c3_X61b\n",
      "MOUS not in archive MOUS list: uid___A001_X14c3_X73d\n",
      "MOUS not in archive MOUS list: uid___A001_X14c3_X75d\n",
      "MOUS not in archive MOUS list: uid___A001_X14c3_X765\n",
      "MOUS not in archive MOUS list: uid___A001_X14c3_X786\n",
      "MOUS not in archive MOUS list: uid___A001_X14c3_X78c\n",
      "MOUS not in archive MOUS list: uid___A001_X14c3_X798\n",
      "MOUS not in archive MOUS list: uid___A001_X14c3_X79e\n",
      "MOUS not in archive MOUS list: uid___A001_X14c3_X7d2\n",
      "MOUS not in archive MOUS list: uid___A001_X14c3_X8b3\n",
      "MOUS not in archive MOUS list: uid___A001_X14c3_X8b9\n",
      "MOUS not in archive MOUS list: uid___A001_X14c3_X8bf\n",
      "MOUS not in archive MOUS list: uid___A001_X14c3_X8c5\n",
      "MOUS not in archive MOUS list: uid___A001_X14c3_X8c9\n",
      "MOUS not in archive MOUS list: uid___A001_X14c3_X8cb\n",
      "MOUS not in archive MOUS list: uid___A001_X14c3_X8d1\n",
      "MOUS not in archive MOUS list: uid___A001_X14c3_X8d7\n",
      "MOUS not in archive MOUS list: uid___A001_X14c3_X8dd\n",
      "MOUS not in archive MOUS list: uid___A001_X14c3_X91c\n",
      "MOUS not in archive MOUS list: uid___A001_X14c3_X928\n"
     ]
    },
    {
     "name": "stdout",
     "output_type": "stream",
     "text": [
      "MOUS not in archive MOUS list: uid___A001_X14c3_Xa31\n",
      "MOUS not in archive MOUS list: uid___A001_X14c3_Xa37\n",
      "MOUS not in archive MOUS list: uid___A001_X14c3_Xb6a\n",
      "MOUS not in archive MOUS list: uid___A001_X14c3_Xb76\n",
      "MOUS not in archive MOUS list: uid___A001_X14c3_Xbc9\n",
      "MOUS not in archive MOUS list: uid___A001_X14c3_Xbce\n",
      "MOUS not in archive MOUS list: uid___A001_X14c3_Xbd3\n",
      "MOUS not in archive MOUS list: uid___A001_X14c3_Xbd9\n",
      "MOUS not in archive MOUS list: uid___A001_X14c3_Xbde\n",
      "MOUS not in archive MOUS list: uid___A001_X14c3_Xbe3\n",
      "MOUS not in archive MOUS list: uid___A001_X14c3_Xbf9\n",
      "MOUS not in archive MOUS list: uid___A001_X14c3_Xc03\n",
      "MOUS not in archive MOUS list: uid___A001_X14c3_Xc09\n",
      "MOUS not in archive MOUS list: uid___A001_X14c3_Xc13\n",
      "MOUS not in archive MOUS list: uid___A001_X14c3_Xc19\n",
      "MOUS not in archive MOUS list: uid___A001_X14c3_Xc29\n",
      "MOUS not in archive MOUS list: uid___A001_X14c3_Xc2e\n",
      "MOUS not in archive MOUS list: uid___A001_X14c3_Xc33\n",
      "MOUS not in archive MOUS list: uid___A001_X14c3_Xc39\n",
      "MOUS not in archive MOUS list: uid___A001_X14c3_Xc3e\n",
      "MOUS not in archive MOUS list: uid___A001_X14c3_Xc4\n",
      "MOUS not in archive MOUS list: uid___A001_X14c3_Xc43\n",
      "MOUS not in archive MOUS list: uid___A001_X14c3_Xc49\n",
      "MOUS not in archive MOUS list: uid___A001_X14c3_Xc4e\n",
      "MOUS not in archive MOUS list: uid___A001_X14c3_Xc53\n",
      "MOUS not in archive MOUS list: uid___A001_X14c3_Xfad\n",
      "MOUS not in archive MOUS list: uid___A001_X14c3_Xfe5\n",
      "MOUS not in archive MOUS list: uid___A001_X14d7_X5c\n",
      "MOUS not in archive MOUS list: uid___A001_X14d7_X5e\n",
      "MOUS not in archive MOUS list: uid___A001_X14d7_X90\n",
      "MOUS not in archive MOUS list: uid___A001_X14d7_X9c\n",
      "MOUS not in archive MOUS list: uid___A001_X14d7_Xb4\n",
      "MOUS not in archive MOUS list: uid___A001_X14d7_Xbe\n",
      "MOUS not in archive MOUS list: uid___A001_X14d7_Xf5\n",
      "MOUS not in archive MOUS list: uid___A001_X14d8_X2c4\n",
      "MOUS not in archive MOUS list: uid___A001_X14d8_X307\n",
      "MOUS not in archive MOUS list: uid___A001_X14d8_X309\n",
      "MOUS not in archive MOUS list: uid___A001_X14d8_X31c\n",
      "MOUS not in archive MOUS list: uid___A001_X14d8_X321\n",
      "MOUS not in archive MOUS list: uid___A001_X14d8_X329\n",
      "MOUS not in archive MOUS list: uid___A001_X14d8_X353\n",
      "MOUS not in archive MOUS list: uid___A001_X14d8_X355\n",
      "MOUS not in archive MOUS list: uid___A001_X14d8_X365\n",
      "MOUS not in archive MOUS list: uid___A001_X14d8_X386\n",
      "MOUS not in archive MOUS list: uid___A001_X14d8_X47b\n",
      "MOUS not in archive MOUS list: uid___A001_X14d8_X493\n",
      "MOUS not in archive MOUS list: uid___A001_X14d8_X499\n",
      "MOUS not in archive MOUS list: uid___A001_X14d8_X49f\n",
      "MOUS not in archive MOUS list: uid___A001_X14d8_Xaf\n",
      "MOUS not in archive MOUS list: uid___A001_X14d8_Xb1\n",
      "MOUS not in archive MOUS list: uid___A001_X14ed_X169\n",
      "MOUS not in archive MOUS list: uid___A001_X14ed_X1a2\n",
      "MOUS not in archive MOUS list: uid___A001_X14ed_X1b7\n",
      "MOUS not in archive MOUS list: uid___A001_X14ed_X1c3\n",
      "MOUS not in archive MOUS list: uid___A001_X14ed_X1c6\n",
      "MOUS not in archive MOUS list: uid___A001_X14ed_X1d2\n",
      "MOUS not in archive MOUS list: uid___A001_X14ed_X1d5\n",
      "MOUS not in archive MOUS list: uid___A001_X14ed_X1f6\n",
      "MOUS not in archive MOUS list: uid___A001_X14ed_X278\n",
      "MOUS not in archive MOUS list: uid___A001_X14ed_X2a8\n",
      "MOUS not in archive MOUS list: uid___A001_X14ed_X305\n",
      "MOUS not in archive MOUS list: uid___A001_X14ee_X17\n",
      "MOUS not in archive MOUS list: uid___A001_X14ee_X21\n",
      "MOUS not in archive MOUS list: uid___A001_X14ee_X34\n",
      "MOUS not in archive MOUS list: uid___A001_X1527_X2c8\n",
      "MOUS not in archive MOUS list: uid___A001_X1527_X3d7\n",
      "MOUS not in archive MOUS list: uid___A001_X1527_X3e0\n",
      "MOUS not in archive MOUS list: uid___A001_X1527_X3e3\n",
      "MOUS not in archive MOUS list: uid___A001_X1581_X4c\n",
      "MOUS not in archive MOUS list: uid___A001_X1581_X4f\n",
      "MOUS not in archive MOUS list: uid___A001_X1581_X52\n",
      "MOUS not in archive MOUS list: uid___A001_X1591_X3c\n",
      "MOUS not in archive MOUS list: uid___A001_X15a2_Xaa7\n",
      "MOUS not in archive MOUS list: uid___A001_X15a3_X18\n"
     ]
    }
   ],
   "source": [
    "# calculate which pickle values aren't in archive MOUS list\n",
    "final2 = ''\n",
    "for val in archive_mous_list:\n",
    "    newval = slash_to_under(val)\n",
    "    if newval not in rpd.index:\n",
    "        print(\"MOUS not in archive MOUS list: \"+newval)\n",
    "        result = alma.query_tap(f\"SELECT * FROM ivoa.obscore WHERE member_ous_uid like '\"+newval+\"'\").to_table()\n",
    "        tmptab = result['proposal_id','member_ous_uid','schedblock_name','target_name','science_keyword','scientific_category','science_observation']\n",
    "        if not final2:\n",
    "            final2 = tmptab\n",
    "        else:\n",
    "            final2 = vstack([final2,tmptab])"
   ]
  },
  {
   "cell_type": "markdown",
   "id": "796f3bb0",
   "metadata": {},
   "source": [
    "It looks like I have TP data plus manual and exclude solar system projects. While Andy has IF data (no manual) and includes solar system projects. He also doesn't have some runs that didn't have a final product until recently: \tuid://A001/X1465/X11b6"
   ]
  },
  {
   "cell_type": "code",
   "execution_count": 119,
   "id": "22d1d905",
   "metadata": {},
   "outputs": [],
   "source": [
    "final2.show_in_browser()"
   ]
  },
  {
   "cell_type": "code",
   "execution_count": 120,
   "id": "7ee7c110",
   "metadata": {},
   "outputs": [
    {
     "data": {
      "text/plain": [
       "9909"
      ]
     },
     "execution_count": 120,
     "metadata": {},
     "output_type": "execute_result"
    }
   ],
   "source": [
    "len(final2)"
   ]
  },
  {
   "cell_type": "code",
   "execution_count": 121,
   "id": "0a4feed9",
   "metadata": {},
   "outputs": [
    {
     "data": {
      "text/plain": [
       "382"
      ]
     },
     "execution_count": 121,
     "metadata": {},
     "output_type": "execute_result"
    }
   ],
   "source": [
    "len(np.unique(final2['member_ous_uid']))"
   ]
  },
  {
   "cell_type": "code",
   "execution_count": 123,
   "id": "c404502f",
   "metadata": {
    "scrolled": false
   },
   "outputs": [
    {
     "name": "stdout",
     "output_type": "stream",
     "text": [
      "Table to query is \"voa.ObsCore\".\n",
      "For example: \"select top 1 * from ivoa.ObsCore\"\n",
      "The scheme of the table is as follows.\n",
      "\n",
      "  Name                 Type            Unit       Description\n",
      "------------------------------------------------------------------------------------------\n",
      "  access_estsize       int             kbyte      Estimated size of datasets in kilobytes\n",
      "  access_format        char(9)                    Content format of the data\n",
      "  access_url           char(72*)                  URL to download the data\n",
      "  antenna_arrays       char(660*)                 Blank-separated list of Pad:Antenna pairs, i.e., A109:DV09 J504:DV02 J505:DV05 for antennas DV09, DV02 and DV05 sitting on pads A109, J504, and J505, respectively.\n",
      "  asdm_uid             char(32*)                  UID of the ASDM containing this Field.\n",
      "  authors              char(4000*)                Full list of first author and all co-authors\n",
      "  band_list            char(30*)                  Space delimited list of bands\n",
      "  bandwidth            double          Hz         Total Bandwidth\n",
      "  bib_reference        char(4000*)                Bibliography code\n",
      "  calib_level          int                        calibration level (2 or 3). 2 if product_type = MOUS, 3 if product_type = GOUS\n",
      "  cont_sensitivity_bandwidth double          mJy/beam   Estimated noise in the aggregated continuum bandwidth. Note this is an indication only, it does not include the effects of flagging or dynamic range limitations.\n",
      "  data_rights          char(11)                   Access to data.\n",
      "  dataproduct_type     char(5*)                   type of product\n",
      "  em_max               double          m          stop spectral coordinate value\n",
      "  em_min               double          m          start spectral coordinate value\n",
      "  em_res_power         double                     typical spectral resolution\n",
      "  em_resolution        double          m          Estimated frequency resolution from all the spectral windows, using median values of channel widths.\n",
      "  em_xel               int                        Number of elements along the spectral axis\n",
      "  facility_name        char(3)                    telescope name\n",
      "  first_author         char(256*)                 The first author as provided by <a href=\"http://telbib.eso.org\">telbib.eso.org</a>.\n",
      "  frequency            double          GHz        Observed (tuned) reference frequency on the sky.\n",
      "  frequency_support    char(4000*)     GHz        All frequency ranges used by the field\n",
      "  gal_latitude         double          deg        Galactic latitude of the observation for RA/Dec. Estimated using PyEphem and RA/Dec.\n",
      "  gal_longitude        double          deg        Galactic longitude of the observation for RA/Dec. Estimated using PyEphem and RA/Dec.\n",
      "  group_ous_uid        char(64*)                  Group OUS ID\n",
      "  instrument_name      char(4)                    instrument name\n",
      "  is_mosaic            char(1)                    Flag to indicate if this ASDM represents a mosaic or not.\n",
      "  lastModified         char(32*)                  Time stamp of last modification of the metadata\n",
      "  member_ous_uid       char(64*)                  Member OUS ID\n",
      "  o_ucd                char(35)                   UCD describing the observable axis (pixel values)\n",
      "  obs_collection       char(4)                    short name for the data collection\n",
      "  obs_creator_name     char(256*)                 case-insensitive partial match over the full PI name. Wildcards can be used\n",
      "  obs_id               char(64*)                  internal dataset identifier\n",
      "  obs_publisher_did    char(33*)                  publisher dataset identifier\n",
      "  obs_release_date     char(*)                    timestamp of date the data becomes publicly available\n",
      "  obs_title            char(256*)                 Case-insensitive search over the project title\n",
      "  pol_states           char(64*)                  polarization states present in the data\n",
      "  pol_xel              int                        Number of polarization samples\n",
      "  proposal_abstract    char(4000*)                Text search on the proposal abstract. Only abstracts will be returned which contain the given text. The search is case-insensitive.\n",
      "  proposal_authors     char(2000*)                Full name of CoIs .\n",
      "  proposal_id          char(64*)                  Identifier of proposal to which NO observation belongs.\n",
      "  pub_abstract         char(4000*)                Case insensitive text search through the abstract of the publication.\n",
      "  pub_title            char(256*)                 Case insensitive search through the title of the publication.\n",
      "  publication_year     int                        The year the publication did appear in the printed version of the refereed journal.\n",
      "  pwv                  float           mm         Estimated precipitable water vapour from the XML_CALWVR_ENTITIES table.\n",
      "  qa2_passed           char(1)                    Quality Assessment 2 status: does the Member / Group OUS fulfil the PI's requirements?\n",
      "  s_dec                double          deg        DEC of central coordinates\n",
      "  s_fov                double          deg        size of the region covered (~diameter of minimum bounding circle)\n",
      "  s_ra                 double          deg        RA of central coordinates\n",
      "  s_region             char(*)                    region bounded by observation\n",
      "  s_resolution         double          arcsec     typical spatial resolution\n",
      "  s_xel1               int                        Number of elements along the first spatial axis\n",
      "  s_xel2               int                        Number of elements along the second spatial axis\n",
      "  scan_intent          char(256*)                 Scan intent list for the observed field.\n",
      "  schedblock_name      char(128*)                 Name of the Scheduling Block used as a template for executing the ASDM containing this Field.\n",
      "  science_keyword      char(200*)                 None\n",
      "  science_observation  char(1)                    Flag to indicate whether this is a science observation.\n",
      "  scientific_category  char(200*)                 None\n",
      "  sensitivity_10kms    double          mJy/beam   Estimated noise in an nominal 10km/s bandwidth. Note this is an indication only, it does not include the effects of flagging or Hanning smoothing, and a 10km/s bandwidth may not be achievable with the data as taken.\n",
      "  spatial_resolution   double          arcsec     Average of the maximum and minimum spatial resolution values of all spectral windows\n",
      "  spatial_scale_max    double          arcsec     Due to the fact that radio antennas can not be placed infinitely close, measurements do have a smallest separation which translates into a maximal angular distance beyond which features can not be resolved reliably any more. Adding observations with the ALMA Total Power array can add those missing largest scales.\n",
      "  t_exptime            double          s          exposure time of observation\n",
      "  t_max                double          d          end time of observation (MJD)\n",
      "  t_min                double          d          start time of observation (MJD)\n",
      "  t_resolution         double          s          typical temporal resolution\n",
      "  t_xel                int                        Number of elements along the time axis\n",
      "  target_name          char(256*)                 name of intended target\n",
      "  type                 char(16*)                  Type flags.\n",
      "  velocity_resolution  double          m/s        Estimated velocity resolution from all the spectral windows, from frequency resolution.\n",
      "  collections          char(128*)                 Indicates that there are external products\n"
     ]
    }
   ],
   "source": [
    "alma.help_tap()"
   ]
  },
  {
   "cell_type": "code",
   "execution_count": null,
   "id": "1c8aeeb5",
   "metadata": {},
   "outputs": [],
   "source": []
  }
 ],
 "metadata": {
  "kernelspec": {
   "display_name": "Python 3",
   "language": "python",
   "name": "python3"
  },
  "language_info": {
   "codemirror_mode": {
    "name": "ipython",
    "version": 3
   },
   "file_extension": ".py",
   "mimetype": "text/x-python",
   "name": "python",
   "nbconvert_exporter": "python",
   "pygments_lexer": "ipython3",
   "version": "3.8.8"
  }
 },
 "nbformat": 4,
 "nbformat_minor": 5
}
