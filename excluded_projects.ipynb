{
 "cells": [
  {
   "cell_type": "markdown",
   "id": "c13cb4a8",
   "metadata": {},
   "source": [
    "## calculating the number of excluded projects"
   ]
  },
  {
   "cell_type": "code",
   "execution_count": 1,
   "id": "d2fc1d10",
   "metadata": {},
   "outputs": [],
   "source": [
    "import numpy as np\n",
    "import matplotlib.pyplot as plt\n",
    "from astropy.table import Table"
   ]
  },
  {
   "cell_type": "markdown",
   "id": "fd8aafb1",
   "metadata": {},
   "source": [
    "# Reading in info on excluded projects"
   ]
  },
  {
   "cell_type": "code",
   "execution_count": 3,
   "id": "f9913e4b",
   "metadata": {},
   "outputs": [],
   "source": [
    "sun_2019 = Table.read('data/excluded_samples/sun_2019.csv')"
   ]
  },
  {
   "cell_type": "code",
   "execution_count": 4,
   "id": "65047888",
   "metadata": {},
   "outputs": [],
   "source": [
    "sun_2021 = Table.read('data/excluded_samples/sun_2021.csv')"
   ]
  },
  {
   "cell_type": "code",
   "execution_count": 5,
   "id": "6cd5982c",
   "metadata": {},
   "outputs": [
    {
     "data": {
      "text/plain": [
       "<TableColumns names=('Project code','ALMA source name','RA','Dec','Band','Frequency support','Ang.res.','Array','Mosaic','FOV','Scientific category','Science keyword','Member ous id','Type','Scan intent')>"
      ]
     },
     "execution_count": 5,
     "metadata": {},
     "output_type": "execute_result"
    }
   ],
   "source": [
    "sun_2019.columns"
   ]
  },
  {
   "cell_type": "code",
   "execution_count": 7,
   "id": "050e2718",
   "metadata": {},
   "outputs": [
    {
     "data": {
      "text/plain": [
       "16"
      ]
     },
     "execution_count": 7,
     "metadata": {},
     "output_type": "execute_result"
    }
   ],
   "source": [
    "len(np.unique(sun_2019['Member ous id']))"
   ]
  },
  {
   "cell_type": "code",
   "execution_count": 8,
   "id": "d1519a26",
   "metadata": {},
   "outputs": [
    {
     "data": {
      "text/plain": [
       "8"
      ]
     },
     "execution_count": 8,
     "metadata": {},
     "output_type": "execute_result"
    }
   ],
   "source": [
    "len(np.unique(sun_2021['Member ous id']))"
   ]
  },
  {
   "cell_type": "code",
   "execution_count": 9,
   "id": "6e08db1e",
   "metadata": {},
   "outputs": [],
   "source": [
    "solar_system_2019 = Table.read('data/excluded_samples/solar_system_2019.csv')"
   ]
  },
  {
   "cell_type": "code",
   "execution_count": 10,
   "id": "3ffbab2c",
   "metadata": {},
   "outputs": [],
   "source": [
    "solar_system_2021 = Table.read('data/excluded_samples/solar_system_2021.csv')"
   ]
  },
  {
   "cell_type": "code",
   "execution_count": 11,
   "id": "827d6f1b",
   "metadata": {},
   "outputs": [
    {
     "data": {
      "text/plain": [
       "39"
      ]
     },
     "execution_count": 11,
     "metadata": {},
     "output_type": "execute_result"
    }
   ],
   "source": [
    "len(np.unique(solar_system_2019['Member ous id']))"
   ]
  },
  {
   "cell_type": "code",
   "execution_count": 12,
   "id": "afcaaaba",
   "metadata": {},
   "outputs": [
    {
     "data": {
      "text/plain": [
       "38"
      ]
     },
     "execution_count": 12,
     "metadata": {},
     "output_type": "execute_result"
    }
   ],
   "source": [
    "len(np.unique(solar_system_2021['Member ous id']))"
   ]
  },
  {
   "cell_type": "code",
   "execution_count": 15,
   "id": "a48cf29d",
   "metadata": {},
   "outputs": [],
   "source": [
    "vlbi_2019 = Table.read('data/excluded_samples/vlbi_2019.csv')"
   ]
  },
  {
   "cell_type": "code",
   "execution_count": 16,
   "id": "86afef66",
   "metadata": {},
   "outputs": [],
   "source": [
    "vlbi_2021 = Table.read('data/excluded_samples/vlbi_2021.csv')"
   ]
  },
  {
   "cell_type": "code",
   "execution_count": 17,
   "id": "08cc24f7",
   "metadata": {},
   "outputs": [
    {
     "data": {
      "text/plain": [
       "9"
      ]
     },
     "execution_count": 17,
     "metadata": {},
     "output_type": "execute_result"
    }
   ],
   "source": [
    "len(np.unique(vlbi_2019['Member ous id']))"
   ]
  },
  {
   "cell_type": "code",
   "execution_count": 18,
   "id": "84320879",
   "metadata": {},
   "outputs": [
    {
     "data": {
      "text/plain": [
       "17"
      ]
     },
     "execution_count": 18,
     "metadata": {},
     "output_type": "execute_result"
    }
   ],
   "source": [
    "len(np.unique(vlbi_2021['Member ous id']))"
   ]
  },
  {
   "cell_type": "code",
   "execution_count": 19,
   "id": "60e28c42",
   "metadata": {},
   "outputs": [
    {
     "data": {
      "text/plain": [
       "127"
      ]
     },
     "execution_count": 19,
     "metadata": {},
     "output_type": "execute_result"
    }
   ],
   "source": [
    "16+8+39+38+9+17"
   ]
  },
  {
   "cell_type": "code",
   "execution_count": 20,
   "id": "c4a70646",
   "metadata": {},
   "outputs": [
    {
     "data": {
      "text/plain": [
       "127"
      ]
     },
     "execution_count": 20,
     "metadata": {},
     "output_type": "execute_result"
    }
   ],
   "source": [
    "16+8+39+38+9+17"
   ]
  },
  {
   "cell_type": "code",
   "execution_count": 21,
   "id": "4218f075",
   "metadata": {},
   "outputs": [
    {
     "data": {
      "text/plain": [
       "0.024423076923076922"
      ]
     },
     "execution_count": 21,
     "metadata": {},
     "output_type": "execute_result"
    }
   ],
   "source": [
    "127/5200.0"
   ]
  },
  {
   "cell_type": "code",
   "execution_count": 23,
   "id": "078fd8e1",
   "metadata": {},
   "outputs": [
    {
     "data": {
      "text/plain": [
       "2.3840810963018586"
      ]
     },
     "execution_count": 23,
     "metadata": {},
     "output_type": "execute_result"
    }
   ],
   "source": [
    "100*127/(5200+127)"
   ]
  },
  {
   "cell_type": "code",
   "execution_count": 25,
   "id": "e388e344",
   "metadata": {},
   "outputs": [
    {
     "data": {
      "text/plain": [
       "0.4505350103247607"
      ]
     },
     "execution_count": 25,
     "metadata": {},
     "output_type": "execute_result"
    }
   ],
   "source": [
    "100*(16+8)/(5200+127)"
   ]
  },
  {
   "cell_type": "code",
   "execution_count": 26,
   "id": "36935427",
   "metadata": {},
   "outputs": [
    {
     "data": {
      "text/plain": [
       "1.445466491458607"
      ]
     },
     "execution_count": 26,
     "metadata": {},
     "output_type": "execute_result"
    }
   ],
   "source": [
    "100*(39+38)/(5200+127)"
   ]
  },
  {
   "cell_type": "code",
   "execution_count": 27,
   "id": "a8a1e6f0",
   "metadata": {},
   "outputs": [
    {
     "data": {
      "text/plain": [
       "0.4880795945184907"
      ]
     },
     "execution_count": 27,
     "metadata": {},
     "output_type": "execute_result"
    }
   ],
   "source": [
    "100*(9+17)/(5200+127)"
   ]
  },
  {
   "cell_type": "code",
   "execution_count": null,
   "id": "058ed660",
   "metadata": {},
   "outputs": [],
   "source": []
  }
 ],
 "metadata": {
  "kernelspec": {
   "display_name": "Python 3 (ipykernel)",
   "language": "python",
   "name": "python3"
  },
  "language_info": {
   "codemirror_mode": {
    "name": "ipython",
    "version": 3
   },
   "file_extension": ".py",
   "mimetype": "text/x-python",
   "name": "python",
   "nbconvert_exporter": "python",
   "pygments_lexer": "ipython3",
   "version": "3.8.18"
  }
 },
 "nbformat": 4,
 "nbformat_minor": 5
}
