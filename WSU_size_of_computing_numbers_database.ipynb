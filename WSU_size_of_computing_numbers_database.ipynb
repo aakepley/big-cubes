{
 "cells": [
  {
   "cell_type": "markdown",
   "id": "e1660869",
   "metadata": {},
   "source": [
    "# WSU size of computing estimate numbers (Database)"
   ]
  },
  {
   "cell_type": "markdown",
   "id": "a64ed1f4",
   "metadata": {},
   "source": [
    "The goal here is to put together some numbers on the type of projects ALMA would process as part of the WSU to be used to produce a total size of computing estimate.\n",
    "\n",
    "Amanda Kepley (20220921)"
   ]
  },
  {
   "cell_type": "code",
   "execution_count": 67,
   "id": "cf32bfed",
   "metadata": {},
   "outputs": [],
   "source": [
    "import numpy as np\n",
    "import astropy.units as u\n",
    "from ast import literal_eval\n",
    "from astropy import constants as const\n",
    "from matplotlib import pyplot as plt, ticker as mticker\n",
    "import re\n",
    "import math\n",
    "from astropy.table import Table, QTable, vstack, join\n",
    "from astropy import constants as const\n",
    "from importlib import reload"
   ]
  },
  {
   "cell_type": "markdown",
   "id": "38efb2f1",
   "metadata": {},
   "source": [
    "## TOC"
   ]
  },
  {
   "cell_type": "markdown",
   "id": "a7034b2d",
   "metadata": {},
   "source": [
    "* [Read in Data](#readin)\n",
    "* [Generate WSU DB](#wsu_db)"
   ]
  },
  {
   "cell_type": "markdown",
   "id": "4e97564b",
   "metadata": {},
   "source": [
    "## Read in massaged cycle 7 and 8 data <a id=\"readin\"></a>"
   ]
  },
  {
   "cell_type": "code",
   "execution_count": 58,
   "id": "a94ccacf",
   "metadata": {},
   "outputs": [],
   "source": [
    "cycle7tab = Table.read('data/result_table_cycle7_with_calc_values_20220923.csv')\n",
    "cycle8tab = Table.read('data/result_table_cycle8_with_calc_values_20220923.csv')"
   ]
  },
  {
   "cell_type": "markdown",
   "id": "387f7b8c",
   "metadata": {},
   "source": [
    "Information that we already have:\n",
    "* FOV\n",
    "* resolution\n",
    "* mosaic or not\n",
    "* frequency\n",
    "* image linear size\n",
    "* number of baseline (7m vs. 12m)\n",
    "* n polarizations\n",
    "\n",
    "Information that I need to calculate for WSU:\n",
    "* Bandwidth (16GHz for all receivers)\n",
    "* channel width (follow procedure in data memo)\n",
    "* nchan (calculate from bandwidth and channel width)\n",
    "* dump time (is this just a 7m vs. 12m dichotomy). Looks like in her spreadsheet Crystal uses 3.024s for 12m and 10.08s for 7m.\n",
    "\n",
    "The data rate memo calculated the number of channels two ways:\n",
    "* finest spectral resolution across all spw for cycle 7 project [the writeup says sbs, but I think they mean spws. confirm with crystal?]\n",
    "* fix resolution:\n",
    "  * *> 10km/s* -> 10km/s\n",
    "  * 1-10 km/s -> 1km/s\n",
    "  * 0.1-1 km/s -> 0.1km/s\n",
    "  * <0.1km/s -> 0.1km/s\n",
    "\n",
    "How am I going to get to a fraction of projects? Using the time estimate doesn't seem right because the time for spectral scans will be drastically faster. What I can do is just count the number of MOUS'es and divide by the total.\n",
    "\n",
    "Another question is what to do for projects with multiple targets? Just do the same thing for all targets. That might make sense since you usually want the same spectral setup for all your sources. But you might have a different mosaic size. Can I take largest? or average? That might be easiest.\n"
   ]
  },
  {
   "cell_type": "markdown",
   "id": "e6d7681d",
   "metadata": {},
   "source": [
    "## Put together WSU mous data base <a id=\"wsu_db\"></a>"
   ]
  },
  {
   "cell_type": "code",
   "execution_count": 59,
   "id": "eb5b7583",
   "metadata": {},
   "outputs": [],
   "source": [
    "import wsu_db"
   ]
  },
  {
   "cell_type": "code",
   "execution_count": 60,
   "id": "b688fb4a",
   "metadata": {},
   "outputs": [
    {
     "data": {
      "text/plain": [
       "<module 'wsu_db' from '/Users/akepley/Dropbox/Support/naasc/WSU/big_cubes/wsu_db.py'>"
      ]
     },
     "execution_count": 60,
     "metadata": {},
     "output_type": "execute_result"
    }
   ],
   "source": [
    "reload(wsu_db)"
   ]
  },
  {
   "cell_type": "code",
   "execution_count": 61,
   "id": "30f8e60e",
   "metadata": {
    "scrolled": false
   },
   "outputs": [],
   "source": [
    "result = wsu_db.create_database(cycle7tab)"
   ]
  },
  {
   "cell_type": "code",
   "execution_count": 62,
   "id": "0ea744c5",
   "metadata": {},
   "outputs": [],
   "source": [
    "result_c8 = wsu_db.create_database(cycle8tab)"
   ]
  },
  {
   "cell_type": "code",
   "execution_count": 63,
   "id": "9b0357a5",
   "metadata": {},
   "outputs": [],
   "source": [
    "# save data bases if what's desired\n",
    "result.write('data/cycle7wsu_20221003.fits',overwrite=True)\n",
    "result_c8.write('data/cycle8wsu_20221003.fits',overwrite=True)"
   ]
  },
  {
   "cell_type": "code",
   "execution_count": 64,
   "id": "b978430c",
   "metadata": {
    "scrolled": true
   },
   "outputs": [
    {
     "data": {
      "text/plain": [
       "<TableColumns names=('mous','proposal_id','array','nant_typical','nant_array','nant_all','band','ntarget','target_name','s_fov','s_resolution','mosaic','imsize','pb','cell','npol','velocity_resolution_current','wsu_freq','wsu_bandwidth_initial','wsu_bandwidth_final','wsu_bandwidth_spw','wsu_specwidth_finest','wsu_chanavg_finest','wsu_specwidth_stepped','wsu_chanavg_stepped','wsu_specwidth_stepped2','wsu_chanavg_stepped2','tint','nbase_typical','nbase_array','nbase_all','wsu_nchan_final_finest','wsu_nchan_final_stepped','wsu_nchan_final_stepped2','wsu_nchan_spw_finest','wsu_nchan_spw_stepped','wsu_nchan_spw_stepped2','wsu_nchan_initial_finest','wsu_nchan_initial_stepped','wsu_nchan_initial_stepped2','vis_rate_typical_initial_finest','vis_rate_typical_initial_stepped','vis_rate_typical_initial_stepped2','vis_rate_array_initial_finest','vis_rate_array_initial_stepped','vis_rate_array_initial_stepped2','vis_rate_all_initial_finest','vis_rate_all_initial_stepped','vis_rate_all_initial_stepped2','vis_rate_typical_final_finest','vis_rate_typical_final_stepped','vis_rate_typical_final_stepped2','vis_rate_array_final_finest','vis_rate_array_final_stepped','vis_rate_array_final_stepped2','vis_rate_all_final_finest','vis_rate_all_final_stepped','vis_rate_all_final_stepped2','frac_bw_initial','frac_bw_final','frac_bw_spw')>"
      ]
     },
     "execution_count": 64,
     "metadata": {},
     "output_type": "execute_result"
    }
   ],
   "source": [
    "result.columns"
   ]
  },
  {
   "cell_type": "code",
   "execution_count": 65,
   "id": "e2f17896",
   "metadata": {
    "scrolled": true
   },
   "outputs": [
    {
     "data": {
      "text/plain": [
       "11519"
      ]
     },
     "execution_count": 65,
     "metadata": {},
     "output_type": "execute_result"
    }
   ],
   "source": [
    "len(result)"
   ]
  },
  {
   "cell_type": "markdown",
   "id": "0b7a45b8",
   "metadata": {},
   "source": [
    "## Adding in calibration TOS information"
   ]
  },
  {
   "cell_type": "markdown",
   "id": "e2c606b1",
   "metadata": {},
   "source": [
    "This is needed to get the total number of visibilities and the data volume. Also necessary to start refine the data rates."
   ]
  },
  {
   "cell_type": "code",
   "execution_count": 22,
   "id": "615de8c1",
   "metadata": {},
   "outputs": [],
   "source": [
    "import large_cubes\n",
    "from importlib import reload"
   ]
  },
  {
   "cell_type": "code",
   "execution_count": 83,
   "id": "1c0da7e7",
   "metadata": {
    "scrolled": false
   },
   "outputs": [
    {
     "name": "stdout",
     "output_type": "stream",
     "text": [
      "Intent not recognized: BANDPASS DIFFGAIN FLUX PHASE WVR\n",
      "Intent not recognized: BANDPASS DIFFGAIN FLUX PHASE WVR\n",
      "Intent not recognized: BANDPASS DIFFGAIN FLUX PHASE WVR\n",
      "Intent not recognized: DIFFGAIN PHASE WVR\n",
      "Intent not recognized: DIFFGAIN PHASE WVR\n",
      "Intent not recognized: DIFFGAIN PHASE WVR\n",
      "Intent not recognized: DIFFGAIN PHASE WVR\n",
      "Intent not recognized: DIFFGAIN PHASE WVR\n",
      "Intent not recognized: BANDPASS DIFFGAIN FLUX PHASE WVR\n",
      "Intent not recognized: BANDPASS DIFFGAIN FLUX PHASE WVR\n",
      "Intent not recognized: BANDPASS PHASE WVR\n",
      "Intent not recognized: BANDPASS PHASE WVR\n",
      "project_id list greater than 1. This shouldn't happen. MOUS: uid://A002/X445835/X6\n",
      "made it to table creation\n"
     ]
    }
   ],
   "source": [
    "reload(large_cubes)\n",
    "tos_db = large_cubes.calc_time_on_source('data/project_mous_band_array_eb_size___source_intent_inttime')"
   ]
  },
  {
   "cell_type": "code",
   "execution_count": 84,
   "id": "0b2acaf3",
   "metadata": {
    "scrolled": false
   },
   "outputs": [
    {
     "data": {
      "text/html": [
       "<i>Table length=22430</i>\n",
       "<table id=\"table140254845416832\" class=\"table-striped table-bordered table-condensed\">\n",
       "<thead><tr><th>proposal_id</th><th>mous</th><th>band</th><th>array</th><th>bp_time_s</th><th>flux_time_s</th><th>phase_time_s</th><th>pol_time_s</th><th>check_time_s</th><th>target_time_s</th><th>target_name</th><th>target_time_tot_s</th><th>ntarget</th></tr></thead>\n",
       "<thead><tr><th>str14</th><th>str22</th><th>float64</th><th>str6</th><th>float64</th><th>float64</th><th>float64</th><th>float64</th><th>float64</th><th>float64</th><th>str35</th><th>float64</th><th>float64</th></tr></thead>\n",
       "<tr><td>2019.1.01326.S</td><td>uid://A001/X1465/X1002</td><td>3.0</td><td>7m</td><td>1209.6</td><td>0.0</td><td>362.88</td><td>0.0</td><td>0.0</td><td>60.48</td><td>Position_8</td><td>60.48</td><td>1.0</td></tr>\n",
       "<tr><td>2019.1.01326.S</td><td>uid://A001/X1465/X1008</td><td>3.0</td><td>7m</td><td>604.8</td><td>0.0</td><td>120.96</td><td>0.0</td><td>0.0</td><td>10.08</td><td>Position_2</td><td>10.08</td><td>1.0</td></tr>\n",
       "<tr><td>2019.1.01326.S</td><td>uid://A001/X1465/X100e</td><td>3.0</td><td>7m</td><td>604.8</td><td>0.0</td><td>120.96</td><td>0.0</td><td>0.0</td><td>10.08</td><td>Position_3</td><td>10.08</td><td>1.0</td></tr>\n",
       "<tr><td>2019.1.01326.S</td><td>uid://A001/X1465/X1014</td><td>3.0</td><td>7m</td><td>604.8</td><td>0.0</td><td>120.96</td><td>0.0</td><td>0.0</td><td>10.08</td><td>Position_4</td><td>10.08</td><td>1.0</td></tr>\n",
       "<tr><td>2019.1.01326.S</td><td>uid://A001/X1465/X101a</td><td>3.0</td><td>7m</td><td>604.8</td><td>0.0</td><td>120.96</td><td>0.0</td><td>0.0</td><td>10.08</td><td>Position_5</td><td>10.08</td><td>1.0</td></tr>\n",
       "<tr><td>2019.1.01326.S</td><td>uid://A001/X1465/X1020</td><td>3.0</td><td>7m</td><td>604.8</td><td>0.0</td><td>120.96</td><td>0.0</td><td>0.0</td><td>10.08</td><td>Position_6</td><td>10.08</td><td>1.0</td></tr>\n",
       "<tr><td>2019.1.01326.S</td><td>uid://A001/X1465/X1026</td><td>3.0</td><td>7m</td><td>604.8</td><td>0.0</td><td>120.96</td><td>0.0</td><td>0.0</td><td>10.08</td><td>Position_7</td><td>10.08</td><td>1.0</td></tr>\n",
       "<tr><td>2019.1.01326.S</td><td>uid://A001/X1465/X102c</td><td>3.0</td><td>7m</td><td>604.8</td><td>0.0</td><td>120.96</td><td>0.0</td><td>0.0</td><td>10.08</td><td>Position_7</td><td>10.08</td><td>1.0</td></tr>\n",
       "<tr><td>2019.1.01326.S</td><td>uid://A001/X1465/X1032</td><td>6.0</td><td>7m</td><td>604.8</td><td>0.0</td><td>423.36</td><td>0.0</td><td>0.0</td><td>20.16</td><td>Position_1-R</td><td>20.16</td><td>1.0</td></tr>\n",
       "<tr><td>2019.1.01326.S</td><td>uid://A001/X1465/X1038</td><td>6.0</td><td>7m</td><td>604.8</td><td>0.0</td><td>423.36</td><td>0.0</td><td>0.0</td><td>20.16</td><td>Position_1-L</td><td>20.16</td><td>1.0</td></tr>\n",
       "<tr><td>...</td><td>...</td><td>...</td><td>...</td><td>...</td><td>...</td><td>...</td><td>...</td><td>...</td><td>...</td><td>...</td><td>...</td><td>...</td></tr>\n",
       "<tr><td>2019.1.01166.T</td><td>uid://A001/X3360/X35</td><td>6.0</td><td>12m</td><td>302.4</td><td>0.0</td><td>181.44</td><td>0.0</td><td>120.96</td><td>2237.76</td><td>ASASSN15oi</td><td>2237.76</td><td>1.0</td></tr>\n",
       "<tr><td>2021.A.00013.S</td><td>uid://A001/X3360/Xa</td><td>7.0</td><td>12m</td><td>2419.2</td><td>0.0</td><td>967.68</td><td>0.0</td><td>0.0</td><td>11249.28</td><td>65803_Didymos_1996_GT</td><td>11249.28</td><td>1.0</td></tr>\n",
       "<tr><td>2021.A.00013.S</td><td>uid://A001/X3360/Xd</td><td>7.0</td><td>7m</td><td>4838.4</td><td>0.0</td><td>1935.36</td><td>0.0</td><td>0.0</td><td>11249.28</td><td>65803_Didymos_1996_GT</td><td>11249.28</td><td>1.0</td></tr>\n",
       "<tr><td>2022.A.00009.T</td><td>uid://A001/X3571/X12</td><td>3.0</td><td>7m</td><td>604.8</td><td>0.0</td><td>362.88</td><td>0.0</td><td>0.0</td><td>2872.8</td><td>GRB221009A</td><td>2872.8</td><td>1.0</td></tr>\n",
       "<tr><td>2022.A.00009.T</td><td>uid://A001/X3571/X16</td><td>5.0</td><td>7m</td><td>1209.6</td><td>0.0</td><td>604.8</td><td>0.0</td><td>0.0</td><td>3084.48</td><td>GRB221009A</td><td>3084.48</td><td>1.0</td></tr>\n",
       "<tr><td>2022.A.00009.T</td><td>uid://A001/X3571/X1a</td><td>4.0</td><td>7m</td><td>604.8</td><td>0.0</td><td>362.88</td><td>0.0</td><td>0.0</td><td>2782.08</td><td>GRB221009A</td><td>2782.08</td><td>1.0</td></tr>\n",
       "<tr><td>2022.A.00009.T</td><td>uid://A001/X3571/X1e</td><td>5.0</td><td>7m</td><td>1209.6</td><td>0.0</td><td>604.8</td><td>0.0</td><td>0.0</td><td>3084.48</td><td>GRB221009A</td><td>3084.48</td><td>1.0</td></tr>\n",
       "<tr><td>2022.1.00115.T</td><td>uid://A001/X3571/X5c</td><td>3.0</td><td>12m</td><td>302.4</td><td>0.0</td><td>60.48</td><td>0.0</td><td>0.0</td><td>302.4</td><td>Supernova_A_ToO</td><td>302.4</td><td>1.0</td></tr>\n",
       "<tr><td>2022.1.00115.T</td><td>uid://A001/X3571/X6f</td><td>6.0</td><td>12m</td><td>302.4</td><td>0.0</td><td>90.72</td><td>0.0</td><td>60.48</td><td>544.32</td><td>Supernova_A_ToO</td><td>544.32</td><td>1.0</td></tr>\n",
       "<tr><td>2022.A.00009.T</td><td>uid://A001/X3571/Xa</td><td>4.0</td><td>12m</td><td>604.8</td><td>0.0</td><td>423.36</td><td>846.72</td><td>241.92</td><td>4656.96</td><td>GRB221009A</td><td>4656.96</td><td>1.0</td></tr>\n",
       "</table>"
      ],
      "text/plain": [
       "<Table length=22430>\n",
       " proposal_id            mous            band  ... target_time_tot_s ntarget\n",
       "    str14              str22          float64 ...      float64      float64\n",
       "-------------- ---------------------- ------- ... ----------------- -------\n",
       "2019.1.01326.S uid://A001/X1465/X1002     3.0 ...             60.48     1.0\n",
       "2019.1.01326.S uid://A001/X1465/X1008     3.0 ...             10.08     1.0\n",
       "2019.1.01326.S uid://A001/X1465/X100e     3.0 ...             10.08     1.0\n",
       "2019.1.01326.S uid://A001/X1465/X1014     3.0 ...             10.08     1.0\n",
       "2019.1.01326.S uid://A001/X1465/X101a     3.0 ...             10.08     1.0\n",
       "2019.1.01326.S uid://A001/X1465/X1020     3.0 ...             10.08     1.0\n",
       "2019.1.01326.S uid://A001/X1465/X1026     3.0 ...             10.08     1.0\n",
       "2019.1.01326.S uid://A001/X1465/X102c     3.0 ...             10.08     1.0\n",
       "2019.1.01326.S uid://A001/X1465/X1032     6.0 ...             20.16     1.0\n",
       "2019.1.01326.S uid://A001/X1465/X1038     6.0 ...             20.16     1.0\n",
       "           ...                    ...     ... ...               ...     ...\n",
       "2019.1.01166.T   uid://A001/X3360/X35     6.0 ...           2237.76     1.0\n",
       "2021.A.00013.S    uid://A001/X3360/Xa     7.0 ...          11249.28     1.0\n",
       "2021.A.00013.S    uid://A001/X3360/Xd     7.0 ...          11249.28     1.0\n",
       "2022.A.00009.T   uid://A001/X3571/X12     3.0 ...            2872.8     1.0\n",
       "2022.A.00009.T   uid://A001/X3571/X16     5.0 ...           3084.48     1.0\n",
       "2022.A.00009.T   uid://A001/X3571/X1a     4.0 ...           2782.08     1.0\n",
       "2022.A.00009.T   uid://A001/X3571/X1e     5.0 ...           3084.48     1.0\n",
       "2022.1.00115.T   uid://A001/X3571/X5c     3.0 ...             302.4     1.0\n",
       "2022.1.00115.T   uid://A001/X3571/X6f     6.0 ...            544.32     1.0\n",
       "2022.A.00009.T    uid://A001/X3571/Xa     4.0 ...           4656.96     1.0"
      ]
     },
     "execution_count": 84,
     "metadata": {},
     "output_type": "execute_result"
    }
   ],
   "source": [
    "tos_db"
   ]
  },
  {
   "cell_type": "code",
   "execution_count": 111,
   "id": "23611455",
   "metadata": {},
   "outputs": [
    {
     "data": {
      "text/plain": [
       "22430"
      ]
     },
     "execution_count": 111,
     "metadata": {},
     "output_type": "execute_result"
    }
   ],
   "source": [
    "len(tos_db)"
   ]
  },
  {
   "cell_type": "code",
   "execution_count": 113,
   "id": "e3ebfbe3",
   "metadata": {},
   "outputs": [],
   "source": [
    "tos_db.write('data/tos_db.ecsv',overwrite=True)"
   ]
  },
  {
   "cell_type": "code",
   "execution_count": 112,
   "id": "7c8ca3b4",
   "metadata": {},
   "outputs": [
    {
     "data": {
      "text/plain": [
       "22430"
      ]
     },
     "execution_count": 112,
     "metadata": {},
     "output_type": "execute_result"
    }
   ],
   "source": [
    "len(tos_db)"
   ]
  },
  {
   "cell_type": "code",
   "execution_count": 114,
   "id": "97a4e92b",
   "metadata": {
    "scrolled": false
   },
   "outputs": [
    {
     "data": {
      "text/plain": [
       "<TableColumns names=('proposal_id','mous','band','array','bp_time_s','flux_time_s','phase_time_s','pol_time_s','check_time_s','target_time_s','target_name','target_time_tot_s','ntarget')>"
      ]
     },
     "execution_count": 114,
     "metadata": {},
     "output_type": "execute_result"
    }
   ],
   "source": [
    "tos_db.columns"
   ]
  },
  {
   "cell_type": "code",
   "execution_count": 120,
   "id": "fed6d820",
   "metadata": {},
   "outputs": [
    {
     "data": {
      "text/plain": [
       "<module 'wsu_db' from '/Users/akepley/Dropbox/Support/naasc/WSU/big_cubes/wsu_db.py'>"
      ]
     },
     "execution_count": 120,
     "metadata": {},
     "output_type": "execute_result"
    }
   ],
   "source": [
    "reload(wsu_db)"
   ]
  },
  {
   "cell_type": "code",
   "execution_count": 121,
   "id": "443cfa0d",
   "metadata": {},
   "outputs": [],
   "source": [
    "result_tos = wsu_db.add_tos_to_db(result,tos_db)"
   ]
  },
  {
   "cell_type": "code",
   "execution_count": 122,
   "id": "8bf3da33",
   "metadata": {},
   "outputs": [],
   "source": [
    "result_c8_tos = wsu_db.add_tos_to_db(result_c8,tos_db)"
   ]
  },
  {
   "cell_type": "code",
   "execution_count": 123,
   "id": "671ca56d",
   "metadata": {
    "scrolled": true
   },
   "outputs": [],
   "source": [
    "result_tos.write('data/result_tos.ecsv')\n",
    "result_c8_tos.write('data/result_c8_tos.ecsv')"
   ]
  },
  {
   "cell_type": "code",
   "execution_count": 124,
   "id": "f787dde9",
   "metadata": {
    "scrolled": true
   },
   "outputs": [
    {
     "data": {
      "text/plain": [
       "<TableColumns names=('mous','proposal_id','array','nant_typical','nant_array','nant_all','band','ntarget','target_name','s_fov','s_resolution','mosaic','imsize','pb','cell','npol','velocity_resolution_current','wsu_freq','wsu_bandwidth_initial','wsu_bandwidth_final','wsu_bandwidth_spw','wsu_specwidth_finest','wsu_chanavg_finest','wsu_specwidth_stepped','wsu_chanavg_stepped','wsu_specwidth_stepped2','wsu_chanavg_stepped2','tint','nbase_typical','nbase_array','nbase_all','wsu_nchan_final_finest','wsu_nchan_final_stepped','wsu_nchan_final_stepped2','wsu_nchan_spw_finest','wsu_nchan_spw_stepped','wsu_nchan_spw_stepped2','wsu_nchan_initial_finest','wsu_nchan_initial_stepped','wsu_nchan_initial_stepped2','vis_rate_typical_initial_finest','vis_rate_typical_initial_stepped','vis_rate_typical_initial_stepped2','vis_rate_array_initial_finest','vis_rate_array_initial_stepped','vis_rate_array_initial_stepped2','vis_rate_all_initial_finest','vis_rate_all_initial_stepped','vis_rate_all_initial_stepped2','vis_rate_typical_final_finest','vis_rate_typical_final_stepped','vis_rate_typical_final_stepped2','vis_rate_array_final_finest','vis_rate_array_final_stepped','vis_rate_array_final_stepped2','vis_rate_all_final_finest','vis_rate_all_final_stepped','vis_rate_all_final_stepped2','frac_bw_initial','frac_bw_final','frac_bw_spw','bp_time_s','flux_time_s','phase_time_s','pol_time_s','check_time_s','target_time_s','target_time_tot_s')>"
      ]
     },
     "execution_count": 124,
     "metadata": {},
     "output_type": "execute_result"
    }
   ],
   "source": [
    "result_tos.columns"
   ]
  },
  {
   "cell_type": "code",
   "execution_count": null,
   "id": "6f01aae5",
   "metadata": {},
   "outputs": [],
   "source": []
  },
  {
   "cell_type": "markdown",
   "id": "bc5da0f0",
   "metadata": {},
   "source": [
    "## Mosaic imsize investigation"
   ]
  },
  {
   "cell_type": "code",
   "execution_count": 92,
   "id": "6c75dfad",
   "metadata": {},
   "outputs": [
    {
     "data": {
      "text/html": [
       "<i>QTable length=3</i>\n",
       "<table id=\"table140254780982032\" class=\"table-striped table-bordered table-condensed\">\n",
       "<thead><tr><th>mous</th><th>imsize</th><th>cell</th><th>s_fov</th><th>s_resolution</th><th>wsu_freq</th><th>pb</th><th>mosaic</th></tr></thead>\n",
       "<thead><tr><th></th><th></th><th></th><th>deg</th><th>arcsec</th><th>GHz</th><th></th><th></th></tr></thead>\n",
       "<thead><tr><th>str32</th><th>float64</th><th>float64</th><th>float64</th><th>float64</th><th>float64</th><th>float64</th><th>str32</th></tr></thead>\n",
       "<tr><td>uid://A001/X1471/X313</td><td>8092.5</td><td>0.006952670050637091</td><td>0.01056278408537675</td><td>0.03476335025318546</td><td>223.75965364178407</td><td>26.039520237581446</td><td>T</td></tr>\n",
       "<tr><td>uid://A001/X1471/X317</td><td>7715.0</td><td>0.007193344668357089</td><td>0.010440455664308955</td><td>0.035966723341785446</td><td>227.56311759987634</td><td>25.5974979187608</td><td>T</td></tr>\n",
       "<tr><td>uid://A001/X1471/X31b</td><td>5870.0</td><td>0.006340537801652289</td><td>0.006994422567682404</td><td>0.031702689008261446</td><td>338.9565787793444</td><td>17.175818907103793</td><td>T</td></tr>\n",
       "</table>"
      ],
      "text/plain": [
       "<QTable length=3>\n",
       "         mous          imsize         cell         ...         pb         mosaic\n",
       "                                                   ...                          \n",
       "        str32         float64       float64        ...      float64       str32 \n",
       "--------------------- ------- -------------------- ... ------------------ ------\n",
       "uid://A001/X1471/X313  8092.5 0.006952670050637091 ... 26.039520237581446      T\n",
       "uid://A001/X1471/X317  7715.0 0.007193344668357089 ...   25.5974979187608      T\n",
       "uid://A001/X1471/X31b  5870.0 0.006340537801652289 ... 17.175818907103793      T"
      ]
     },
     "execution_count": 92,
     "metadata": {},
     "output_type": "execute_result"
    }
   ],
   "source": [
    "idx = (result['mosaic'] == 'T') & (result['imsize'] >5800)\n",
    "result['mous','imsize','cell','s_fov','s_resolution','wsu_freq','pb','mosaic'][idx]"
   ]
  },
  {
   "cell_type": "code",
   "execution_count": null,
   "id": "66e84448",
   "metadata": {
    "scrolled": true
   },
   "outputs": [],
   "source": [
    "0.01056278408537675 *3600.0  "
   ]
  },
  {
   "cell_type": "markdown",
   "id": "3651795b",
   "metadata": {},
   "source": [
    "Image pre-check values for  2019.1.00796.S, uid://A001/X1471/X317\t\n",
    "\n",
    "* beam = 0.0457 x 0.0404 arcsec\n",
    "* cell = 0.0081 x 0.0081 arcsec\n",
    "\n",
    "Unmitigated imsize calculated in pipeline for X317 is 7776, 7776 according to SCG tests\n",
    "\n",
    "eye balling the spatial set up it looks like there's 10-12arcsec between pointings and the plot says the primary beam is 26.0arcsec\n",
    "\n",
    "The pipeline math is   \n",
    "\n",
    "npts <= 3\n",
    "* nxpix = int((1.65 * beam_radius_v + xspread) / cellx_v)\n",
    "\n",
    "npts >3\n",
    "* nxpix = int((1.5 * beam_radius_v + xspread) / cellx_v)\n",
    "\n",
    "We only have two pointings here.\n",
    "\n"
   ]
  },
  {
   "cell_type": "code",
   "execution_count": null,
   "id": "8637bbf3",
   "metadata": {},
   "outputs": [],
   "source": [
    "(26.0 + 10.0)"
   ]
  },
  {
   "cell_type": "code",
   "execution_count": null,
   "id": "25f87961",
   "metadata": {},
   "outputs": [],
   "source": [
    "(1.65 * 26.0 + 10.0)/0.0081"
   ]
  },
  {
   "cell_type": "markdown",
   "id": "1fcee162",
   "metadata": {},
   "source": [
    "So my estimate is a little on the low end, but not crazy"
   ]
  },
  {
   "cell_type": "code",
   "execution_count": null,
   "id": "7e23da1f",
   "metadata": {},
   "outputs": [],
   "source": [
    "(0.01044*3600+25.6*0.70)/0.0072"
   ]
  },
  {
   "cell_type": "markdown",
   "id": "648f8eaf",
   "metadata": {},
   "source": [
    "## Imsize investigation"
   ]
  },
  {
   "cell_type": "markdown",
   "id": "cf15c8e3",
   "metadata": {},
   "source": [
    "Something is  odd with my image sizes. I'm using 2019.1.01463.S uid://A001/X1465/Xc05 as my poster child\n",
    "\n",
    "For the unmitigated imaging done by the pipeline, the pipeline calculates the following values:\n",
    "* beam: 0.0322\" x 0.0211\"\n",
    "* cell: 0.0042\" x 0.0042\"\n",
    "* imsize: [11250, 11250] pixels\n",
    "* FOV: 47.25 arcsec"
   ]
  },
  {
   "cell_type": "markdown",
   "id": "502d704b",
   "metadata": {},
   "source": [
    "Now let's look at what I get from my calculations"
   ]
  },
  {
   "cell_type": "code",
   "execution_count": null,
   "id": "7d82b830",
   "metadata": {
    "scrolled": false
   },
   "outputs": [],
   "source": [
    "#2019.1.01463.S\n",
    "idx =result['mous'] == 'uid://A001/X1465/Xc05'\n",
    "result['mous','s_fov','s_resolution','imsize','wsu_nchan_final_stepped','wsu_nchan_final_finest','mosaic'][idx]"
   ]
  },
  {
   "cell_type": "code",
   "execution_count": null,
   "id": "9c062794",
   "metadata": {},
   "outputs": [],
   "source": [
    "np.log10(237037.03703703705)"
   ]
  },
  {
   "cell_type": "code",
   "execution_count": null,
   "id": "28f6e6c0",
   "metadata": {},
   "outputs": [],
   "source": [
    "np.log10(32921.81069958848)"
   ]
  },
  {
   "cell_type": "code",
   "execution_count": null,
   "id": "ec6e0df5",
   "metadata": {},
   "outputs": [],
   "source": [
    "# the imsize is\n",
    "0.007157768473981626*3600.00 # arcsec"
   ]
  },
  {
   "cell_type": "code",
   "execution_count": null,
   "id": "e6d5676e",
   "metadata": {
    "scrolled": true
   },
   "outputs": [],
   "source": [
    "# What's the estimated imsize at this frequency??\n",
    "# frequency\n",
    "freq = 218.821 #GHz\n",
    "19.4*300/218.821"
   ]
  },
  {
   "cell_type": "markdown",
   "id": "088ace75",
   "metadata": {},
   "source": [
    "This is comparable to the imsize calculated above."
   ]
  },
  {
   "cell_type": "code",
   "execution_count": null,
   "id": "419029e0",
   "metadata": {
    "scrolled": true
   },
   "outputs": [],
   "source": [
    "# What pixel size does this imply for five pixels per beam?\n",
    "0.024588/5.0"
   ]
  },
  {
   "cell_type": "code",
   "execution_count": null,
   "id": "8f7edf9f",
   "metadata": {},
   "outputs": [],
   "source": [
    "# What pixel size does this imply for six pixels per beam?\n",
    "0.024588/6.0"
   ]
  },
  {
   "cell_type": "markdown",
   "id": "c221c71f",
   "metadata": {},
   "source": [
    "What happens if I use the points_per_fov value??"
   ]
  },
  {
   "cell_type": "code",
   "execution_count": null,
   "id": "5b784163",
   "metadata": {
    "scrolled": false
   },
   "outputs": [],
   "source": [
    "idx2 = cycle7tab['member_ous_uid'] == 'uid://A001/X1465/Xc05'\n",
    "cycle7tab['proposal_id','member_ous_uid','s_fov','s_resolution','points_per_fov','spw_nchan','is_mosaic'][idx2]"
   ]
  },
  {
   "cell_type": "code",
   "execution_count": null,
   "id": "a920c9d9",
   "metadata": {},
   "outputs": [],
   "source": [
    "# imsize from points per fov value\n",
    "np.sqrt(1100957.4775723005)*5.0"
   ]
  },
  {
   "cell_type": "markdown",
   "id": "7a5ecde0",
   "metadata": {},
   "source": [
    "Matches imsize above."
   ]
  },
  {
   "cell_type": "markdown",
   "id": "8ae4e2a5",
   "metadata": {},
   "source": [
    "So it looks like the FOV is the difference:"
   ]
  },
  {
   "cell_type": "code",
   "execution_count": null,
   "id": "d2239c08",
   "metadata": {},
   "outputs": [],
   "source": [
    "(47.25/25.76)*5250"
   ]
  },
  {
   "cell_type": "markdown",
   "id": "de56434c",
   "metadata": {},
   "source": [
    "Still an underestimate, but closer."
   ]
  },
  {
   "cell_type": "markdown",
   "id": "18c981e7",
   "metadata": {},
   "source": [
    "The pipeline calculates the primary beam as\n",
    "\n",
    "primary_beam_size = \\\n",
    "            1.22 \\\n",
    "            * cqa.getvalue(cqa.convert(cqa.constants('c'), 'm/s')) \\\n",
    "            / ref_frequency \\\n",
    "            / smallest_diameter \\\n",
    "            * (180.0 * 3600.0 / math.pi)"
   ]
  },
  {
   "cell_type": "code",
   "execution_count": null,
   "id": "6e5bccad",
   "metadata": {
    "scrolled": true
   },
   "outputs": [],
   "source": [
    "1.22 * ((const.c.value /  218.821e9) / (12.0) )*(180*3600.0/math.pi)"
   ]
  },
  {
   "cell_type": "markdown",
   "id": "1dbd93ce",
   "metadata": {},
   "source": [
    "Pipeline calculation is here:\n",
    "\n",
    "beam_radius_v = primary_beam\n",
    "\n",
    "beam_fwhp = 1.12 / 1.22 * beam_radius_v\n",
    "\n",
    "nxpix = int(utils.round_half_up(1.1 * beam_fwhp * math.sqrt(-math.log(sfpblimit) / math.log(2.)) / cellx_v))"
   ]
  },
  {
   "cell_type": "code",
   "execution_count": null,
   "id": "6184df72",
   "metadata": {},
   "outputs": [],
   "source": [
    "(1.12/1.22)* 28.73"
   ]
  },
  {
   "cell_type": "code",
   "execution_count": null,
   "id": "53c56ee1",
   "metadata": {},
   "outputs": [],
   "source": [
    "1.1 * 26.38 * math.sqrt(-math.log(0.2) / math.log(2.0))"
   ]
  },
  {
   "cell_type": "markdown",
   "id": "88c7da3a",
   "metadata": {},
   "source": [
    "Okay. This is the value I get above. \n",
    "\n",
    "What's the constant??"
   ]
  },
  {
   "cell_type": "code",
   "execution_count": null,
   "id": "7859a0aa",
   "metadata": {},
   "outputs": [],
   "source": [
    "1.1* (1.12/1.22)*math.sqrt(-math.log(0.2) / math.log(2.0))"
   ]
  },
  {
   "cell_type": "code",
   "execution_count": null,
   "id": "c1aa13c6",
   "metadata": {
    "scrolled": true
   },
   "outputs": [],
   "source": [
    "1.54*25.8"
   ]
  },
  {
   "cell_type": "code",
   "execution_count": null,
   "id": "f478e396",
   "metadata": {},
   "outputs": [],
   "source": [
    "40.0/0.0040"
   ]
  },
  {
   "cell_type": "code",
   "execution_count": null,
   "id": "5d9865d0",
   "metadata": {},
   "outputs": [],
   "source": []
  }
 ],
 "metadata": {
  "kernelspec": {
   "display_name": "Python 3",
   "language": "python",
   "name": "python3"
  },
  "language_info": {
   "codemirror_mode": {
    "name": "ipython",
    "version": 3
   },
   "file_extension": ".py",
   "mimetype": "text/x-python",
   "name": "python",
   "nbconvert_exporter": "python",
   "pygments_lexer": "ipython3",
   "version": "3.8.8"
  }
 },
 "nbformat": 4,
 "nbformat_minor": 5
}
