{
 "cells": [
  {
   "cell_type": "markdown",
   "id": "e1660869",
   "metadata": {},
   "source": [
    "# WSU size of computing estimate numbers (Database)"
   ]
  },
  {
   "cell_type": "markdown",
   "id": "a64ed1f4",
   "metadata": {},
   "source": [
    "The goal here is to put together some numbers on the type of projects ALMA would process as part of the WSU to be used to produce a total size of computing estimate.\n",
    "\n",
    "Amanda Kepley (20220921)"
   ]
  },
  {
   "cell_type": "code",
   "execution_count": 1,
   "id": "cf32bfed",
   "metadata": {},
   "outputs": [],
   "source": [
    "import numpy as np\n",
    "import astropy.units as u\n",
    "from ast import literal_eval\n",
    "from astropy import constants as const\n",
    "from matplotlib import pyplot as plt, ticker as mticker\n",
    "import re\n",
    "import math\n",
    "from astropy.table import Table, QTable, vstack, join, unique\n",
    "from importlib import reload\n",
    "import pickle\n",
    "import pandas as pd"
   ]
  },
  {
   "cell_type": "markdown",
   "id": "4e97564b",
   "metadata": {},
   "source": [
    "## Read in massaged cycle 7 and 8 data <a id=\"readin\"></a>"
   ]
  },
  {
   "cell_type": "code",
   "execution_count": 2,
   "id": "a94ccacf",
   "metadata": {},
   "outputs": [],
   "source": [
    "cycle7tab = Table.read('data/result_table_cycle7_with_calc_values_20220923.csv')\n",
    "cycle8tab = Table.read('data/result_table_cycle8_with_calc_values_20220923.csv')"
   ]
  },
  {
   "cell_type": "code",
   "execution_count": 3,
   "id": "332cedea",
   "metadata": {
    "scrolled": true
   },
   "outputs": [
    {
     "data": {
      "text/plain": [
       "<TableColumns names=('obs_publisher_did','facility_name','instrument_name','obs_id','dataproduct_type','calib_level','target_name','s_ra','s_dec','s_fov','s_resolution','t_min','t_max','t_exptime','t_resolution','em_min','em_max','em_res_power','pol_states','o_ucd','access_url','access_format','proposal_id','data_rights','gal_longitude','gal_latitude','band_list','em_resolution','bandwidth','antenna_arrays','is_mosaic','spatial_resolution','frequency_support','frequency','velocity_resolution','publication_year','proposal_abstract','schedblock_name','sensitivity_10kms','cont_sensitivity_bandwidth','pwv','group_ous_uid','member_ous_uid','asdm_uid','type','scan_intent','science_observation','spatial_scale_max','qa2_passed','science_keyword','scientific_category','collections','array','points_per_fov','spw_freq','spw_specwidth','spw_nchan','pb','cell','imsize','spw_nchan_max','mitigated','failed_mitigation_nbin1','failed_mitigation_nbin2','ntarget')>"
      ]
     },
     "execution_count": 3,
     "metadata": {},
     "output_type": "execute_result"
    }
   ],
   "source": [
    "cycle7tab.columns"
   ]
  },
  {
   "cell_type": "code",
   "execution_count": 4,
   "id": "043ef134",
   "metadata": {},
   "outputs": [
    {
     "data": {
      "text/plain": [
       "<TableColumns names=('obs_publisher_did','facility_name','instrument_name','obs_id','dataproduct_type','calib_level','target_name','s_ra','s_dec','s_fov','s_resolution','t_min','t_max','t_exptime','t_resolution','em_min','em_max','em_res_power','pol_states','o_ucd','access_url','access_format','proposal_id','data_rights','gal_longitude','gal_latitude','band_list','em_resolution','bandwidth','antenna_arrays','is_mosaic','spatial_resolution','frequency_support','frequency','velocity_resolution','publication_year','proposal_abstract','schedblock_name','sensitivity_10kms','cont_sensitivity_bandwidth','pwv','group_ous_uid','member_ous_uid','asdm_uid','type','scan_intent','science_observation','spatial_scale_max','qa2_passed','science_keyword','scientific_category','collections','array','points_per_fov','spw_freq','spw_specwidth','spw_nchan','pb','cell','imsize','spw_nchan_max','mitigated','failed_mitigation_nbin1','failed_mitigation_nbin2','ntarget')>"
      ]
     },
     "execution_count": 4,
     "metadata": {},
     "output_type": "execute_result"
    }
   ],
   "source": [
    "cycle8tab.columns"
   ]
  },
  {
   "cell_type": "markdown",
   "id": "e6d7681d",
   "metadata": {},
   "source": [
    "## Put together WSU mous data base <a id=\"wsu_db\"></a>"
   ]
  },
  {
   "cell_type": "code",
   "execution_count": 5,
   "id": "eb5b7583",
   "metadata": {},
   "outputs": [],
   "source": [
    "import wsu_db"
   ]
  },
  {
   "cell_type": "code",
   "execution_count": 6,
   "id": "b688fb4a",
   "metadata": {},
   "outputs": [
    {
     "data": {
      "text/plain": [
       "<module 'wsu_db' from '/Users/akepley/Dropbox/Support/naasc/WSU/big_cubes/wsu_db.py'>"
      ]
     },
     "execution_count": 6,
     "metadata": {},
     "output_type": "execute_result"
    }
   ],
   "source": [
    "reload(wsu_db)"
   ]
  },
  {
   "cell_type": "code",
   "execution_count": 7,
   "id": "30f8e60e",
   "metadata": {
    "scrolled": false
   },
   "outputs": [],
   "source": [
    "reload(wsu_db)\n",
    "result = wsu_db.create_database(cycle7tab)"
   ]
  },
  {
   "cell_type": "code",
   "execution_count": 10,
   "id": "1ef787ad",
   "metadata": {},
   "outputs": [
    {
     "data": {
      "text/html": [
       "<div><i>QTable length=11519</i>\n",
       "<table id=\"table140415801277456\" class=\"table-striped table-bordered table-condensed\">\n",
       "<thead><tr><th>proposal_id</th><th>gous</th><th>mous</th><th>schedblock_name</th></tr></thead>\n",
       "<thead><tr><th>str14</th><th>str22</th><th>str22</th><th>str18</th></tr></thead>\n",
       "<tr><td>2019.1.01326.S</td><td>uid://A001/X1465/X1001</td><td>uid://A001/X1465/X1002</td><td>Position_i_03_7M</td></tr>\n",
       "<tr><td>2019.1.01326.S</td><td>uid://A001/X1465/X1007</td><td>uid://A001/X1465/X1008</td><td>Position_j_03_7M</td></tr>\n",
       "<tr><td>2019.1.01326.S</td><td>uid://A001/X1465/X100d</td><td>uid://A001/X1465/X100e</td><td>Position_k_03_7M</td></tr>\n",
       "<tr><td>2019.1.01326.S</td><td>uid://A001/X1465/X1013</td><td>uid://A001/X1465/X1014</td><td>Position_l_03_7M</td></tr>\n",
       "<tr><td>2019.1.01326.S</td><td>uid://A001/X1465/X1019</td><td>uid://A001/X1465/X101a</td><td>Position_m_03_7M</td></tr>\n",
       "<tr><td>2019.1.01326.S</td><td>uid://A001/X1465/X101f</td><td>uid://A001/X1465/X1020</td><td>Position_n_03_7M</td></tr>\n",
       "<tr><td>2019.1.01326.S</td><td>uid://A001/X1465/X1025</td><td>uid://A001/X1465/X1026</td><td>Position_o_03_7M</td></tr>\n",
       "<tr><td>2019.1.01326.S</td><td>uid://A001/X1465/X102b</td><td>uid://A001/X1465/X102c</td><td>Position_p_03_7M</td></tr>\n",
       "<tr><td>...</td><td>...</td><td>...</td><td>...</td></tr>\n",
       "<tr><td>2019.1.01324.T</td><td>uid://A001/X15a2/Xab3</td><td>uid://A001/X15a2/Xab4</td><td>Transien_d_03_TM1</td></tr>\n",
       "<tr><td>2019.1.01324.T</td><td>uid://A001/X15a2/Xab6</td><td>uid://A001/X15a2/Xab7</td><td>Transien_e_03_TM1</td></tr>\n",
       "<tr><td>2019.1.00863.T</td><td>uid://A001/X15a1/X1ec9</td><td>uid://A001/X15a2/Xed4</td><td>GRB21110_c_03_TM1</td></tr>\n",
       "<tr><td>2019.1.01587.S</td><td>uid://A001/X15a3/X17</td><td>uid://A001/X15a3/X18</td><td>J1511+04_a_07_TM1</td></tr>\n",
       "<tr><td>2019.A.00040.S</td><td>uid://A001/X15a3/X4</td><td>uid://A001/X15a3/X5</td><td>ASASSN-2_a_07_TM1</td></tr>\n",
       "<tr><td>2019.1.01634.L</td><td>uid://A001/X15a9/X134c</td><td>uid://A001/X15a9/X134d</td><td>UVISTA-J_b_06_TM1</td></tr>\n",
       "<tr><td>2019.1.01634.L</td><td>uid://A001/X15a9/X1350</td><td>uid://A001/X15a9/X1351</td><td>UVISTA-J_c_06_TM1</td></tr>\n",
       "<tr><td>2019.1.00863.T</td><td>uid://A001/X15aa/X73</td><td>uid://A001/X15aa/X74</td><td>SGRB2_a_03_TM1</td></tr>\n",
       "<tr><td>2019.1.00863.T</td><td>uid://A001/X15aa/X76</td><td>uid://A001/X15aa/X77</td><td>GRB21110_e_03_TM1</td></tr>\n",
       "</table></div>"
      ],
      "text/plain": [
       "<QTable length=11519>\n",
       " proposal_id            gous                   mous           schedblock_name \n",
       "    str14              str22                  str22                str18      \n",
       "-------------- ---------------------- ---------------------- -----------------\n",
       "2019.1.01326.S uid://A001/X1465/X1001 uid://A001/X1465/X1002  Position_i_03_7M\n",
       "2019.1.01326.S uid://A001/X1465/X1007 uid://A001/X1465/X1008  Position_j_03_7M\n",
       "2019.1.01326.S uid://A001/X1465/X100d uid://A001/X1465/X100e  Position_k_03_7M\n",
       "2019.1.01326.S uid://A001/X1465/X1013 uid://A001/X1465/X1014  Position_l_03_7M\n",
       "2019.1.01326.S uid://A001/X1465/X1019 uid://A001/X1465/X101a  Position_m_03_7M\n",
       "2019.1.01326.S uid://A001/X1465/X101f uid://A001/X1465/X1020  Position_n_03_7M\n",
       "2019.1.01326.S uid://A001/X1465/X1025 uid://A001/X1465/X1026  Position_o_03_7M\n",
       "2019.1.01326.S uid://A001/X1465/X102b uid://A001/X1465/X102c  Position_p_03_7M\n",
       "           ...                    ...                    ...               ...\n",
       "2019.1.01324.T  uid://A001/X15a2/Xab3  uid://A001/X15a2/Xab4 Transien_d_03_TM1\n",
       "2019.1.01324.T  uid://A001/X15a2/Xab6  uid://A001/X15a2/Xab7 Transien_e_03_TM1\n",
       "2019.1.00863.T uid://A001/X15a1/X1ec9  uid://A001/X15a2/Xed4 GRB21110_c_03_TM1\n",
       "2019.1.01587.S   uid://A001/X15a3/X17   uid://A001/X15a3/X18 J1511+04_a_07_TM1\n",
       "2019.A.00040.S    uid://A001/X15a3/X4    uid://A001/X15a3/X5 ASASSN-2_a_07_TM1\n",
       "2019.1.01634.L uid://A001/X15a9/X134c uid://A001/X15a9/X134d UVISTA-J_b_06_TM1\n",
       "2019.1.01634.L uid://A001/X15a9/X1350 uid://A001/X15a9/X1351 UVISTA-J_c_06_TM1\n",
       "2019.1.00863.T   uid://A001/X15aa/X73   uid://A001/X15aa/X74    SGRB2_a_03_TM1\n",
       "2019.1.00863.T   uid://A001/X15aa/X76   uid://A001/X15aa/X77 GRB21110_e_03_TM1"
      ]
     },
     "execution_count": 10,
     "metadata": {},
     "output_type": "execute_result"
    }
   ],
   "source": [
    "result['proposal_id','gous','mous','schedblock_name']"
   ]
  },
  {
   "cell_type": "code",
   "execution_count": 11,
   "id": "6a3f4731",
   "metadata": {},
   "outputs": [],
   "source": [
    "result_c8 = wsu_db.create_database(cycle8tab)"
   ]
  },
  {
   "cell_type": "code",
   "execution_count": 12,
   "id": "617498b3",
   "metadata": {},
   "outputs": [],
   "source": [
    "idx = (result['band'] == 3) & (result['wsu_chanavg_stepped2'] <= 3)\n",
    "result[idx]['mous','band','blc_freq','wsu_freq','blc_velres','wsu_velres_stepped2','wsu_chanavg_stepped2'].show_in_browser(jsviewer=True)"
   ]
  },
  {
   "cell_type": "code",
   "execution_count": 14,
   "id": "3fd704ca",
   "metadata": {},
   "outputs": [
    {
     "data": {
      "text/plain": [
       "Text(0.5, 1.0, 'new velres calc with min nbin -- band 3 only')"
      ]
     },
     "execution_count": 14,
     "metadata": {},
     "output_type": "execute_result"
    },
    {
     "data": {
      "image/png": "[encoded data removed]",
      "text/plain": [
       "<Figure size 640x480 with 1 Axes>"
      ]
     },
     "metadata": {},
     "output_type": "display_data"
    }
   ],
   "source": [
    "idx = (result['band'] == 3)\n",
    "plt.scatter(result[idx]['blc_velres'],result[idx]['wsu_velres_stepped2'])\n",
    "plt.xlabel('BLC velres (km/s)')\n",
    "plt.ylabel('WSU velres (km/s)')\n",
    "plt.xlim(0,0.75)\n",
    "plt.ylim(0,0.75)\n",
    "plt.axvline(0.1)\n",
    "plt.axhline(0.1)\n",
    "plt.title('new velres calc with min nbin -- band 3 only')"
   ]
  },
  {
   "cell_type": "code",
   "execution_count": 15,
   "id": "41441fcd",
   "metadata": {},
   "outputs": [
    {
     "data": {
      "text/plain": [
       "(0.0, 0.75)"
      ]
     },
     "execution_count": 15,
     "metadata": {},
     "output_type": "execute_result"
    },
    {
     "data": {
      "image/png": "[encoded data removed]",
      "text/plain": [
       "<Figure size 640x480 with 1 Axes>"
      ]
     },
     "metadata": {},
     "output_type": "display_data"
    }
   ],
   "source": [
    "plt.scatter(result_c8['blc_velres'],result_c8['wsu_velres_stepped2'])\n",
    "plt.xlabel('BLC velres (km/s)')\n",
    "plt.ylabel('WSU velres (km/s)')\n",
    "plt.xlim(0,0.75)\n",
    "plt.ylim(0,0.75)"
   ]
  },
  {
   "cell_type": "code",
   "execution_count": 16,
   "id": "c2762ad6",
   "metadata": {
    "scrolled": true
   },
   "outputs": [
    {
     "data": {
      "text/plain": [
       "<TableColumns names=('mous','proposal_id','gous','schedblock_name','array','science_keyword','scientific_category','nant_typical','nant_array','nant_all','band','ntarget','target_name','s_fov','s_resolution','mosaic','imsize','pb','cell','blc_npol','blc_nspw','blc_specwidth','blc_freq','blc_velres','blc_nchan_agg','blc_nchan_max','blc_bandwidth_max','blc_bandwidth_agg','wsu_freq','wsu_npol','wsu_bandwidth_early','wsu_bandwidth_later_2x','wsu_bandwidth_later_4x','wsu_bandwidth_spw','wsu_nspw_early','wsu_nspw_later_2x','wsu_nspw_later_4x','wsu_specwidth_finest','wsu_chanavg_finest','wsu_velres_finest','wsu_specwidth_stepped','wsu_chanavg_stepped','wsu_velres_stepped','wsu_specwidth_stepped2','wsu_chanavg_stepped2','wsu_velres_stepped2','wsu_tint','wsu_nchan_spw_finest','wsu_nchan_spw_stepped','wsu_nchan_spw_stepped2','wsu_nchan_agg_finest_early','wsu_nchan_agg_finest_later_2x','wsu_nchan_agg_finest_later_4x','wsu_nchan_agg_stepped_early','wsu_nchan_agg_stepped_later_2x','wsu_nchan_agg_stepped_later_4x','wsu_nchan_agg_stepped2_early','wsu_nchan_agg_stepped2_later_2x','wsu_nchan_agg_stepped2_later_4x','wsu_frac_bw_early','wsu_frac_bw_later_2x','wsu_frac_bw_later_4x','wsu_frac_bw_spw','nbase_typical','nbase_array','nbase_all')>"
      ]
     },
     "execution_count": 16,
     "metadata": {},
     "output_type": "execute_result"
    }
   ],
   "source": [
    "result_c8.columns"
   ]
  },
  {
   "cell_type": "code",
   "execution_count": 17,
   "id": "2a4b5b10",
   "metadata": {},
   "outputs": [
    {
     "data": {
      "text/latex": [
       "$[3.072,~9.984] \\; \\mathrm{s}$"
      ],
      "text/plain": [
       "<Quantity [3.072, 9.984] s>"
      ]
     },
     "execution_count": 17,
     "metadata": {},
     "output_type": "execute_result"
    }
   ],
   "source": [
    "np.unique(result_c8['wsu_tint'])"
   ]
  },
  {
   "cell_type": "code",
   "execution_count": 18,
   "id": "9b0357a5",
   "metadata": {},
   "outputs": [],
   "source": [
    "# save data bases if what's desired\n",
    "result.write('data/cycle7wsu_20240315_gous.ecsv',overwrite=True)\n",
    "result_c8.write('data/cycle8wsu_20240315_gous.ecsv',overwrite=True)"
   ]
  },
  {
   "cell_type": "code",
   "execution_count": 19,
   "id": "e2f17896",
   "metadata": {
    "scrolled": true
   },
   "outputs": [
    {
     "data": {
      "text/plain": [
       "11519"
      ]
     },
     "execution_count": 19,
     "metadata": {},
     "output_type": "execute_result"
    }
   ],
   "source": [
    "len(result)"
   ]
  },
  {
   "cell_type": "code",
   "execution_count": 20,
   "id": "33e3cf9a",
   "metadata": {},
   "outputs": [
    {
     "data": {
      "text/plain": [
       "10843"
      ]
     },
     "execution_count": 20,
     "metadata": {},
     "output_type": "execute_result"
    }
   ],
   "source": [
    "len(result_c8)"
   ]
  },
  {
   "cell_type": "markdown",
   "id": "10dc7f09",
   "metadata": {},
   "source": [
    "## Adding in L80, BLC tint, and BLC ntunings info"
   ]
  },
  {
   "cell_type": "code",
   "execution_count": 21,
   "id": "bcca4ff0",
   "metadata": {
    "scrolled": true
   },
   "outputs": [
    {
     "data": {
      "text/plain": [
       "<module 'wsu_db' from '/Users/akepley/Dropbox/Support/naasc/WSU/big_cubes/wsu_db.py'>"
      ]
     },
     "execution_count": 21,
     "metadata": {},
     "output_type": "execute_result"
    }
   ],
   "source": [
    "reload(wsu_db)"
   ]
  },
  {
   "cell_type": "code",
   "execution_count": 22,
   "id": "2de184f1",
   "metadata": {},
   "outputs": [],
   "source": [
    "# data on L80 obtained from archive\n",
    "result_L80 = wsu_db.add_l80(result,l80_file='data/cycle7_L80.csv')"
   ]
  },
  {
   "cell_type": "code",
   "execution_count": 23,
   "id": "bcf9d136",
   "metadata": {},
   "outputs": [],
   "source": [
    "result_c8_L80 = wsu_db.add_l80(result_c8,l80_file='data/cycle8_L80.csv')"
   ]
  },
  {
   "cell_type": "code",
   "execution_count": 24,
   "id": "dfee24e8",
   "metadata": {
    "scrolled": true
   },
   "outputs": [
    {
     "data": {
      "text/plain": [
       "11519"
      ]
     },
     "execution_count": 24,
     "metadata": {},
     "output_type": "execute_result"
    }
   ],
   "source": [
    "len(result_L80)"
   ]
  },
  {
   "cell_type": "code",
   "execution_count": 25,
   "id": "f9e6295a",
   "metadata": {},
   "outputs": [
    {
     "data": {
      "text/plain": [
       "10843"
      ]
     },
     "execution_count": 25,
     "metadata": {},
     "output_type": "execute_result"
    }
   ],
   "source": [
    "len(result_c8_L80)"
   ]
  },
  {
   "cell_type": "code",
   "execution_count": 26,
   "id": "53b24f4a",
   "metadata": {},
   "outputs": [
    {
     "data": {
      "text/plain": [
       "<module 'wsu_db' from '/Users/akepley/Dropbox/Support/naasc/WSU/big_cubes/wsu_db.py'>"
      ]
     },
     "execution_count": 26,
     "metadata": {},
     "output_type": "execute_result"
    }
   ],
   "source": [
    "reload(wsu_db)"
   ]
  },
  {
   "cell_type": "code",
   "execution_count": 27,
   "id": "a12e5849",
   "metadata": {
    "scrolled": false
   },
   "outputs": [],
   "source": [
    "# data on BLC tint obtained from Richard Simon from OT SBs\n",
    "result_L80_tint = wsu_db.add_blc_tint_from_db(result_L80,\n",
    "                                              'data/SB_MetaData_C7_C8_2023Jan27.csv')"
   ]
  },
  {
   "cell_type": "code",
   "execution_count": 28,
   "id": "24110f0d",
   "metadata": {},
   "outputs": [],
   "source": [
    "result_c8_L80_tint = wsu_db.add_blc_tint_from_db(result_c8_L80,\n",
    "                                              'data/SB_MetaData_C7_C8_2023Jan27.csv')"
   ]
  },
  {
   "cell_type": "code",
   "execution_count": 29,
   "id": "64168821",
   "metadata": {},
   "outputs": [
    {
     "data": {
      "text/plain": [
       "11519"
      ]
     },
     "execution_count": 29,
     "metadata": {},
     "output_type": "execute_result"
    }
   ],
   "source": [
    "len(result_L80_tint)"
   ]
  },
  {
   "cell_type": "code",
   "execution_count": 30,
   "id": "85917631",
   "metadata": {
    "scrolled": true
   },
   "outputs": [
    {
     "data": {
      "text/plain": [
       "10843"
      ]
     },
     "execution_count": 30,
     "metadata": {},
     "output_type": "execute_result"
    }
   ],
   "source": [
    "len(result_c8_L80_tint)"
   ]
  },
  {
   "cell_type": "code",
   "execution_count": 31,
   "id": "68b8d42c",
   "metadata": {
    "scrolled": true
   },
   "outputs": [
    {
     "data": {
      "text/plain": [
       "<module 'wsu_db' from '/Users/akepley/Dropbox/Support/naasc/WSU/big_cubes/wsu_db.py'>"
      ]
     },
     "execution_count": 31,
     "metadata": {},
     "output_type": "execute_result"
    }
   ],
   "source": [
    "reload(wsu_db)"
   ]
  },
  {
   "cell_type": "code",
   "execution_count": 32,
   "id": "7ae3f2b8",
   "metadata": {
    "scrolled": true
   },
   "outputs": [
    {
     "name": "stdout",
     "output_type": "stream",
     "text": [
      "Match found for 2019.1.01600.S, AS2COS00_a_03_TM1\n",
      "Match found for 2019.1.01365.S, 9io9_a_04_TM1\n",
      "Match found for 2019.1.00571.S, S255IR_N_a_06_TM1\n",
      "Match found for 2019.1.00571.S, S255IR_N_b_06_TM1\n",
      "Match found for 2019.1.00571.S, S255IR_N_d_06_TM1\n",
      "Match found for 2019.1.00486.S, SPT0112-_a_03_TM1\n",
      "Match found for 2019.1.00486.S, SPT0457-_a_03_TM1\n",
      "Match found for 2019.1.00486.S, SPT2340-_a_03_TM1\n",
      "Match found for 2019.1.00377.S, V883_Ori_a_06_TM1\n",
      "Match found for 2019.1.00377.S, V883_Ori_b_06_TM1\n",
      "Match found for 2019.1.00377.S, V883_Ori_c_06_TM1\n",
      "Match found for 2019.1.00092.S, BrickMas_a_04_TM1\n",
      "Match found for 2019.1.00092.S, BrickMas_a_06_TM1\n",
      "Match found for 2019.1.00092.S, BrickMas_b_06_TM1\n"
     ]
    }
   ],
   "source": [
    "# data on multi-tuning projects obtained from Richard Simon from spreadsheet listing multi-tuning projects\n",
    "wsu_db.add_blc_ntunings(result_L80_tint,'data/Cycle7_SBs_MultiFreqSpecSetup_clean.csv')"
   ]
  },
  {
   "cell_type": "code",
   "execution_count": 33,
   "id": "78b45005",
   "metadata": {},
   "outputs": [],
   "source": [
    "#idx = (result_L80_tint['blc_ntunings'] > 1) \n",
    "#result_L80_tint['proposal_id','mous','blc_nspw','blc_ntunings'][idx].show_in_browser()"
   ]
  },
  {
   "cell_type": "code",
   "execution_count": 34,
   "id": "f5784458",
   "metadata": {},
   "outputs": [
    {
     "name": "stdout",
     "output_type": "stream",
     "text": [
      "Match found for 2021.1.00018.S, AR1635_a_03_TM1\n",
      "Match found for 2021.1.00018.S, AR231_a_03_TM1\n",
      "Match found for 2021.1.00018.S, AR2482_a_03_TM1\n",
      "Match found for 2021.1.00018.S, AR1693_a_03_TM1\n",
      "Match found for 2021.1.00018.S, AR2598_a_03_TM1\n",
      "Match found for 2021.1.00018.S, AR2170_a_03_TM1\n",
      "Match found for 2021.1.00018.S, AR1872_a_03_TM1\n",
      "Match found for 2021.1.00246.S, AS2COS00_a_03_TM1\n",
      "Match found for 2021.1.00246.S, AS2COS01_a_03_TM1\n",
      "Match found for 2021.1.00452.S, V883_Ori_a_07_TM1\n",
      "Match found for 2021.1.00917.S, V4334_Sg_a_06_TM1\n",
      "Match found for 2021.1.00917.S, V4334_Sg_b_06_TM1\n",
      "Match found for 2021.1.00917.S, V4334_Sg_a_07_TM1\n",
      "Match found for 2021.1.00917.S, V4334_Sg_b_07_TM1\n",
      "Match found for 2021.1.01056.S, S255IR_N_a_06_TM1\n",
      "Match found for 2021.1.01056.S, S255IR_N_b_06_TM1\n",
      "Match found for 2021.1.01056.S, S255IR_N_c_06_TM1\n",
      "Match found for 2021.1.01164.S, IRAS_162_c_06_TM1\n",
      "Match found for 2021.1.01543.S, ACT-S_J0_a_03_TM1\n",
      "Match found for 2021.1.01543.S, ACT-S_J0_b_03_TM1\n",
      "Match found for 2021.1.01543.S, ACT-S_J0_c_03_TM1\n",
      "Match found for 2021.1.01543.S, ACT-S_J2_a_03_TM1\n",
      "Match found for 2021.1.01543.S, ACT-S_J2_b_03_TM1\n",
      "Match found for 2021.1.01543.S, ACT-S_J1_a_03_TM1\n",
      "Match found for 2021.1.01543.S, ACT-S_J1_c_03_TM1\n",
      "Match found for 2021.1.01543.S, ACT-S_J0_e_03_TM1\n",
      "Match found for 2021.1.01543.S, ACT-S_J0_f_03_TM1\n",
      "Match found for 2021.1.01543.S, ACT-S_J2_c_03_TM1\n",
      "Match found for 2021.1.01543.S, ACT-S_J0_g_03_TM1\n",
      "Match found for 2021.1.01543.S, ACT-S_J1_f_03_TM1\n",
      "Match found for 2021.1.01543.S, ACT-S_J0_h_03_TM1\n",
      "Match found for 2021.1.01594.S, J0853+03_b_06_TM1\n"
     ]
    }
   ],
   "source": [
    "wsu_db.add_blc_ntunings(result_c8_L80_tint,'data/Cycle8_SBs_MultiFreqSpecSetup_clean.csv')"
   ]
  },
  {
   "cell_type": "code",
   "execution_count": 35,
   "id": "2da74df6",
   "metadata": {},
   "outputs": [],
   "source": [
    "#idx = result_c8_L80_tint['blc_ntunings'] > 1\n",
    "#result_c8_L80_tint['proposal_id','mous','blc_nspw','blc_ntunings'][idx].show_in_browser()"
   ]
  },
  {
   "cell_type": "markdown",
   "id": "0b7a45b8",
   "metadata": {},
   "source": [
    "## Adding in calibration TOS information"
   ]
  },
  {
   "cell_type": "markdown",
   "id": "e2c606b1",
   "metadata": {},
   "source": [
    "This is needed to get the total number of visibilities and the data volume. Also necessary to start refine the data rates."
   ]
  },
  {
   "cell_type": "code",
   "execution_count": 36,
   "id": "615de8c1",
   "metadata": {},
   "outputs": [],
   "source": [
    "import large_cubes\n",
    "from importlib import reload"
   ]
  },
  {
   "cell_type": "code",
   "execution_count": 37,
   "id": "1c0da7e7",
   "metadata": {
    "scrolled": false
   },
   "outputs": [
    {
     "name": "stdout",
     "output_type": "stream",
     "text": [
      "Intent not recognized: BANDPASS DIFFGAIN FLUX PHASE WVR\n",
      "Intent not recognized: BANDPASS DIFFGAIN FLUX PHASE WVR\n",
      "Intent not recognized: BANDPASS DIFFGAIN FLUX PHASE WVR\n",
      "Intent not recognized: DIFFGAIN PHASE WVR\n",
      "Intent not recognized: DIFFGAIN PHASE WVR\n",
      "Intent not recognized: DIFFGAIN PHASE WVR\n",
      "Intent not recognized: DIFFGAIN PHASE WVR\n",
      "Intent not recognized: DIFFGAIN PHASE WVR\n",
      "Intent not recognized: BANDPASS DIFFGAIN FLUX PHASE WVR\n",
      "Intent not recognized: BANDPASS DIFFGAIN FLUX PHASE WVR\n",
      "Intent not recognized: BANDPASS PHASE WVR\n",
      "Intent not recognized: BANDPASS PHASE WVR\n",
      "project_id list greater than 1. This shouldn't happen. MOUS: uid://A002/X445835/X6\n",
      "made it to table creation\n"
     ]
    }
   ],
   "source": [
    "reload(large_cubes)\n",
    "# tos information from Felix from archive metadata. Note that it does include QA0 fails for both cases.\n",
    "\n",
    "# this source file only had the time on source per pointing, not the total time on source over the whole mosaic \n",
    "#tos_db = large_cubes.calc_time_on_source('data/project_mous_band_array_eb_size___source_intent_inttime')\n",
    "\n",
    "# this source file has the time on source over the whole mosaic. \n",
    "tos_db = large_cubes.calc_time_on_source('data/files_from_felix_202303/source_asdm_scan_sumint')"
   ]
  },
  {
   "cell_type": "code",
   "execution_count": 38,
   "id": "2674c285",
   "metadata": {},
   "outputs": [
    {
     "data": {
      "text/plain": [
       "<TableColumns names=('proposal_id','mous','band','array','bp_time','flux_time','phase_time','pol_time','check_time','target_time','target_name','target_time_tot','ntarget','time_tot','cal_time')>"
      ]
     },
     "execution_count": 38,
     "metadata": {},
     "output_type": "execute_result"
    }
   ],
   "source": [
    "tos_db.columns"
   ]
  },
  {
   "cell_type": "code",
   "execution_count": 39,
   "id": "23611455",
   "metadata": {},
   "outputs": [
    {
     "data": {
      "text/plain": [
       "24884"
      ]
     },
     "execution_count": 39,
     "metadata": {},
     "output_type": "execute_result"
    }
   ],
   "source": [
    "len(tos_db)"
   ]
  },
  {
   "cell_type": "code",
   "execution_count": 40,
   "id": "06edbe99",
   "metadata": {},
   "outputs": [
    {
     "data": {
      "text/html": [
       "<div><i>QTable length=24884</i>\n",
       "<table id=\"table140414881465776\" class=\"table-striped table-bordered table-condensed\">\n",
       "<thead><tr><th>proposal_id</th><th>mous</th><th>band</th><th>array</th><th>bp_time</th><th>flux_time</th><th>phase_time</th><th>pol_time</th><th>check_time</th><th>target_time</th><th>target_name</th><th>target_time_tot</th><th>ntarget</th><th>time_tot</th><th>cal_time</th></tr></thead>\n",
       "<thead><tr><th></th><th></th><th></th><th></th><th>s</th><th>s</th><th>s</th><th>s</th><th>s</th><th>s</th><th></th><th>s</th><th></th><th>s</th><th>s</th></tr></thead>\n",
       "<thead><tr><th>str14</th><th>str22</th><th>float64</th><th>str6</th><th>float64</th><th>float64</th><th>float64</th><th>float64</th><th>float64</th><th>float64</th><th>str35</th><th>float64</th><th>float64</th><th>float64</th><th>float64</th></tr></thead>\n",
       "<tr><td>2019.1.01326.S</td><td>uid://A001/X1465/X1002</td><td>3.0</td><td>7m</td><td>1209.6</td><td>0.0</td><td>362.88</td><td>0.0</td><td>0.0</td><td>1995.84</td><td>Position_8</td><td>1995.84</td><td>1.0</td><td>3568.3199999999997</td><td>1572.48</td></tr>\n",
       "<tr><td>2019.1.01326.S</td><td>uid://A001/X1465/X1008</td><td>3.0</td><td>7m</td><td>604.8</td><td>0.0</td><td>120.96</td><td>0.0</td><td>0.0</td><td>393.12</td><td>Position_2</td><td>393.12</td><td>1.0</td><td>1118.88</td><td>725.76</td></tr>\n",
       "<tr><td>2019.1.01326.S</td><td>uid://A001/X1465/X100e</td><td>3.0</td><td>7m</td><td>604.8</td><td>0.0</td><td>120.96</td><td>0.0</td><td>0.0</td><td>393.12</td><td>Position_3</td><td>393.12</td><td>1.0</td><td>1118.88</td><td>725.76</td></tr>\n",
       "<tr><td>2019.1.01326.S</td><td>uid://A001/X1465/X1014</td><td>3.0</td><td>7m</td><td>604.8</td><td>0.0</td><td>120.96</td><td>0.0</td><td>0.0</td><td>393.12</td><td>Position_4</td><td>393.12</td><td>1.0</td><td>1118.88</td><td>725.76</td></tr>\n",
       "<tr><td>2019.1.01326.S</td><td>uid://A001/X1465/X101a</td><td>3.0</td><td>7m</td><td>604.8</td><td>0.0</td><td>120.96</td><td>0.0</td><td>0.0</td><td>393.12</td><td>Position_5</td><td>393.12</td><td>1.0</td><td>1118.88</td><td>725.76</td></tr>\n",
       "<tr><td>2019.1.01326.S</td><td>uid://A001/X1465/X1020</td><td>3.0</td><td>7m</td><td>604.8</td><td>0.0</td><td>120.96</td><td>0.0</td><td>0.0</td><td>393.12</td><td>Position_6</td><td>393.12</td><td>1.0</td><td>1118.88</td><td>725.76</td></tr>\n",
       "<tr><td>2019.1.01326.S</td><td>uid://A001/X1465/X1026</td><td>3.0</td><td>7m</td><td>604.8</td><td>0.0</td><td>120.96</td><td>0.0</td><td>0.0</td><td>393.12</td><td>Position_7</td><td>393.12</td><td>1.0</td><td>1118.88</td><td>725.76</td></tr>\n",
       "<tr><td>2019.1.01326.S</td><td>uid://A001/X1465/X102c</td><td>3.0</td><td>7m</td><td>604.8</td><td>0.0</td><td>120.96</td><td>0.0</td><td>0.0</td><td>393.12</td><td>Position_7</td><td>393.12</td><td>1.0</td><td>1118.88</td><td>725.76</td></tr>\n",
       "<tr><td>...</td><td>...</td><td>...</td><td>...</td><td>...</td><td>...</td><td>...</td><td>...</td><td>...</td><td>...</td><td>...</td><td>...</td><td>...</td><td>...</td><td>...</td></tr>\n",
       "<tr><td>2022.1.00526.S</td><td>uid://A001/X3577/Xd1</td><td>3.0</td><td>12m</td><td>604.8</td><td>0.0</td><td>302.4</td><td>0.0</td><td>0.0</td><td>4415.04</td><td>SPT0027-50</td><td>4415.04</td><td>1.0</td><td>5322.24</td><td>907.1999999999999</td></tr>\n",
       "<tr><td>2022.1.00526.S</td><td>uid://A001/X3577/Xe1</td><td>3.0</td><td>12m</td><td>302.4</td><td>0.0</td><td>151.2</td><td>0.0</td><td>0.0</td><td>2268.0</td><td>SPT0402-45</td><td>2268.0</td><td>1.0</td><td>2721.6</td><td>453.59999999999997</td></tr>\n",
       "<tr><td>2022.1.00526.S</td><td>uid://A001/X3577/Xe5</td><td>4.0</td><td>12m</td><td>302.4</td><td>0.0</td><td>120.96</td><td>0.0</td><td>0.0</td><td>1663.2</td><td>SPT0402-45</td><td>1663.2</td><td>1.0</td><td>2086.56</td><td>423.35999999999996</td></tr>\n",
       "<tr><td>2022.1.00526.S</td><td>uid://A001/X3577/Xf1</td><td>3.0</td><td>12m</td><td>302.4</td><td>0.0</td><td>181.44</td><td>0.0</td><td>0.0</td><td>2812.32</td><td>SPT0604-64</td><td>2812.32</td><td>1.0</td><td>3296.1600000000003</td><td>483.84</td></tr>\n",
       "<tr><td>2022.1.00526.S</td><td>uid://A001/X3577/Xf9</td><td>5.0</td><td>12m</td><td>604.8</td><td>0.0</td><td>60.48</td><td>0.0</td><td>0.0</td><td>302.4</td><td>SPT0604-64</td><td>302.4</td><td>1.0</td><td>967.68</td><td>665.28</td></tr>\n",
       "<tr><td>2022.1.01433.T</td><td>uid://A001/X3578/X12</td><td>3.0</td><td>12m</td><td>604.8</td><td>0.0</td><td>181.44</td><td>0.0</td><td>0.0</td><td>1753.92</td><td>GRB221009A</td><td>1753.92</td><td>1.0</td><td>2540.16</td><td>786.24</td></tr>\n",
       "<tr><td>2022.1.01433.T</td><td>uid://A001/X3578/X15</td><td>3.0</td><td>12m</td><td>302.4</td><td>0.0</td><td>90.72</td><td>0.0</td><td>0.0</td><td>876.96</td><td>GRB221009A</td><td>876.96</td><td>1.0</td><td>1270.08</td><td>393.12</td></tr>\n",
       "<tr><td>2022.1.01433.T</td><td>uid://A001/X3578/X18</td><td>3.0</td><td>12m</td><td>302.4</td><td>0.0</td><td>90.72</td><td>0.0</td><td>0.0</td><td>876.96</td><td>GRB221009A</td><td>876.96</td><td>1.0</td><td>1270.08</td><td>393.12</td></tr>\n",
       "</table></div>"
      ],
      "text/plain": [
       "<QTable length=24884>\n",
       " proposal_id            mous            band  ... ntarget      time_tot           cal_time     \n",
       "                                              ...                 s                  s         \n",
       "    str14              str22          float64 ... float64      float64            float64      \n",
       "-------------- ---------------------- ------- ... ------- ------------------ ------------------\n",
       "2019.1.01326.S uid://A001/X1465/X1002     3.0 ...     1.0 3568.3199999999997            1572.48\n",
       "2019.1.01326.S uid://A001/X1465/X1008     3.0 ...     1.0            1118.88             725.76\n",
       "2019.1.01326.S uid://A001/X1465/X100e     3.0 ...     1.0            1118.88             725.76\n",
       "2019.1.01326.S uid://A001/X1465/X1014     3.0 ...     1.0            1118.88             725.76\n",
       "2019.1.01326.S uid://A001/X1465/X101a     3.0 ...     1.0            1118.88             725.76\n",
       "2019.1.01326.S uid://A001/X1465/X1020     3.0 ...     1.0            1118.88             725.76\n",
       "2019.1.01326.S uid://A001/X1465/X1026     3.0 ...     1.0            1118.88             725.76\n",
       "2019.1.01326.S uid://A001/X1465/X102c     3.0 ...     1.0            1118.88             725.76\n",
       "           ...                    ...     ... ...     ...                ...                ...\n",
       "2022.1.00526.S   uid://A001/X3577/Xd1     3.0 ...     1.0            5322.24  907.1999999999999\n",
       "2022.1.00526.S   uid://A001/X3577/Xe1     3.0 ...     1.0             2721.6 453.59999999999997\n",
       "2022.1.00526.S   uid://A001/X3577/Xe5     4.0 ...     1.0            2086.56 423.35999999999996\n",
       "2022.1.00526.S   uid://A001/X3577/Xf1     3.0 ...     1.0 3296.1600000000003             483.84\n",
       "2022.1.00526.S   uid://A001/X3577/Xf9     5.0 ...     1.0             967.68             665.28\n",
       "2022.1.01433.T   uid://A001/X3578/X12     3.0 ...     1.0            2540.16             786.24\n",
       "2022.1.01433.T   uid://A001/X3578/X15     3.0 ...     1.0            1270.08             393.12\n",
       "2022.1.01433.T   uid://A001/X3578/X18     3.0 ...     1.0            1270.08             393.12"
      ]
     },
     "execution_count": 40,
     "metadata": {},
     "output_type": "execute_result"
    }
   ],
   "source": [
    "tos_db"
   ]
  },
  {
   "cell_type": "code",
   "execution_count": 41,
   "id": "e3ebfbe3",
   "metadata": {},
   "outputs": [],
   "source": [
    "tos_db.write('data/tos_db_20231212.ecsv',overwrite=True)"
   ]
  },
  {
   "cell_type": "code",
   "execution_count": 42,
   "id": "fed6d820",
   "metadata": {},
   "outputs": [
    {
     "data": {
      "text/plain": [
       "<module 'wsu_db' from '/Users/akepley/Dropbox/Support/naasc/WSU/big_cubes/wsu_db.py'>"
      ]
     },
     "execution_count": 42,
     "metadata": {},
     "output_type": "execute_result"
    }
   ],
   "source": [
    "reload(wsu_db)"
   ]
  },
  {
   "cell_type": "code",
   "execution_count": 43,
   "id": "443cfa0d",
   "metadata": {},
   "outputs": [],
   "source": [
    "result_tos = wsu_db.add_tos_to_db(result_L80_tint,tos_db)"
   ]
  },
  {
   "cell_type": "code",
   "execution_count": 44,
   "id": "8bf3da33",
   "metadata": {},
   "outputs": [],
   "source": [
    "result_c8_tos = wsu_db.add_tos_to_db(result_c8_L80_tint,tos_db)"
   ]
  },
  {
   "cell_type": "code",
   "execution_count": 45,
   "id": "671ca56d",
   "metadata": {
    "scrolled": true
   },
   "outputs": [],
   "source": [
    "result_tos.write('data/result_tos_20240315_gous.ecsv',overwrite=True)\n",
    "result_c8_tos.write('data/result_c8_tos_20240315_gous.ecsv',overwrite=True)"
   ]
  },
  {
   "cell_type": "code",
   "execution_count": 46,
   "id": "b3ce51e3",
   "metadata": {},
   "outputs": [
    {
     "data": {
      "text/html": [
       "<div><i>QTable length=11519</i>\n",
       "<table id=\"table140413762891440\" class=\"table-striped table-bordered table-condensed\">\n",
       "<thead><tr><th>mous</th><th>proposal_id</th><th>gous</th><th>schedblock_name</th><th>array</th><th>science_keyword</th><th>scientific_category</th><th>nant_typical</th><th>nant_array</th><th>nant_all</th><th>band</th><th>ntarget</th><th>target_name</th><th>s_fov</th><th>s_resolution</th><th>mosaic</th><th>imsize</th><th>pb</th><th>cell</th><th>blc_npol</th><th>blc_nspw</th><th>blc_specwidth</th><th>blc_freq</th><th>blc_velres</th><th>blc_nchan_agg</th><th>blc_nchan_max</th><th>blc_bandwidth_max</th><th>blc_bandwidth_agg</th><th>wsu_freq</th><th>wsu_npol</th><th>wsu_bandwidth_early</th><th>wsu_bandwidth_later_2x</th><th>wsu_bandwidth_later_4x</th><th>wsu_bandwidth_spw</th><th>wsu_nspw_early</th><th>wsu_nspw_later_2x</th><th>wsu_nspw_later_4x</th><th>wsu_specwidth_finest</th><th>wsu_chanavg_finest</th><th>wsu_velres_finest</th><th>wsu_specwidth_stepped</th><th>wsu_chanavg_stepped</th><th>wsu_velres_stepped</th><th>wsu_specwidth_stepped2</th><th>wsu_chanavg_stepped2</th><th>wsu_velres_stepped2</th><th>wsu_tint</th><th>wsu_nchan_spw_finest</th><th>wsu_nchan_spw_stepped</th><th>wsu_nchan_spw_stepped2</th><th>wsu_nchan_agg_finest_early</th><th>wsu_nchan_agg_finest_later_2x</th><th>wsu_nchan_agg_finest_later_4x</th><th>wsu_nchan_agg_stepped_early</th><th>wsu_nchan_agg_stepped_later_2x</th><th>wsu_nchan_agg_stepped_later_4x</th><th>wsu_nchan_agg_stepped2_early</th><th>wsu_nchan_agg_stepped2_later_2x</th><th>wsu_nchan_agg_stepped2_later_4x</th><th>wsu_frac_bw_early</th><th>wsu_frac_bw_later_2x</th><th>wsu_frac_bw_later_4x</th><th>wsu_frac_bw_spw</th><th>nbase_typical</th><th>nbase_array</th><th>nbase_all</th><th>L80</th><th>Project</th><th>SB_name</th><th>blc_tint</th><th>blc_ntunings</th><th>bp_time</th><th>flux_time</th><th>phase_time</th><th>pol_time</th><th>check_time</th><th>target_time</th><th>target_time_tot</th><th>time_tot</th><th>cal_time</th></tr></thead>\n",
       "<thead><tr><th></th><th></th><th></th><th></th><th></th><th></th><th></th><th></th><th></th><th></th><th></th><th></th><th></th><th>deg</th><th>arcsec</th><th></th><th></th><th>arcsec</th><th>arcsec</th><th></th><th></th><th>kHz</th><th>GHz</th><th>km / s</th><th></th><th></th><th>GHz</th><th>GHz</th><th>GHz</th><th></th><th>GHz</th><th>GHz</th><th>GHz</th><th>GHz</th><th></th><th></th><th></th><th>kHz</th><th></th><th>km / s</th><th>kHz</th><th></th><th>km / s</th><th>kHz</th><th></th><th>km / s</th><th>s</th><th></th><th></th><th></th><th></th><th></th><th></th><th></th><th></th><th></th><th></th><th></th><th></th><th></th><th></th><th></th><th></th><th></th><th></th><th></th><th>m</th><th></th><th></th><th>s</th><th></th><th>s</th><th>s</th><th>s</th><th>s</th><th>s</th><th>s</th><th>s</th><th>s</th><th>s</th></tr></thead>\n",
       "<thead><tr><th>str22</th><th>str14</th><th>str22</th><th>str18</th><th>str6</th><th>str105</th><th>str27</th><th>int64</th><th>int64</th><th>int64</th><th>float64</th><th>float64</th><th>str35</th><th>float64</th><th>float64</th><th>str1</th><th>float64</th><th>float64</th><th>float64</th><th>int64</th><th>int64</th><th>float64</th><th>float64</th><th>float64</th><th>float64</th><th>float64</th><th>float64</th><th>float64</th><th>float64</th><th>int64</th><th>float64</th><th>float64</th><th>float64</th><th>float64</th><th>int64</th><th>int64</th><th>int64</th><th>float64</th><th>float64</th><th>float64</th><th>float64</th><th>float64</th><th>float64</th><th>float64</th><th>float64</th><th>float64</th><th>float64</th><th>float64</th><th>float64</th><th>float64</th><th>float64</th><th>float64</th><th>float64</th><th>float64</th><th>float64</th><th>float64</th><th>float64</th><th>float64</th><th>float64</th><th>float64</th><th>float64</th><th>float64</th><th>float64</th><th>float64</th><th>float64</th><th>float64</th><th>float64</th><th>str14</th><th>str26</th><th>float64</th><th>float64</th><th>float64</th><th>float64</th><th>float64</th><th>float64</th><th>float64</th><th>float64</th><th>float64</th><th>float64</th><th>float64</th></tr></thead>\n",
       "<tr><td>uid://A001/X1465/X1002</td><td>2019.1.01326.S</td><td>uid://A001/X1465/X1001</td><td>Position_i_03_7M</td><td>7m</td><td>Outflows, jets, feedback, Galactic centres/nuclei</td><td>Active galaxies</td><td>10</td><td>12</td><td>16</td><td>3.0</td><td>1.0</td><td>Position_8</td><td>0.13050363616709187</td><td>12.418751976046456</td><td>T</td><td>220.0</td><td>108.514167152526</td><td>2.483750395209291</td><td>2</td><td>4</td><td>965.2043680983645</td><td>92.45001476575733</td><td>2.9778920543263903</td><td>14336.0</td><td>4096.0</td><td>2.0</td><td>8.0</td><td>92.45001476575733</td><td>2</td><td>16.0</td><td>16.0</td><td>32.0</td><td>2.0</td><td>8</td><td>8</td><td>16</td><td>958.5</td><td>71.0</td><td>3.108177664666337</td><td>297.0</td><td>22.0</td><td>0.9630973045444989</td><td>607.5</td><td>45.0</td><td>1.9699717592955657</td><td>9.984</td><td>2086.0</td><td>6734.0</td><td>3292.0</td><td>16688.0</td><td>16688.0</td><td>33376.0</td><td>53872.0</td><td>53872.0</td><td>107744.0</td><td>26336.0</td><td>26336.0</td><td>52672.0</td><td>0.17306649480305175</td><td>0.17306649480305175</td><td>0.3461329896061035</td><td>0.02163331185038147</td><td>45.0</td><td>66.0</td><td>120.0</td><td>30.03768</td><td>2019.1.01326.S</td><td>Position_i_03_7M</td><td>10.08</td><td>1.0</td><td>1209.6</td><td>0.0</td><td>362.88</td><td>0.0</td><td>0.0</td><td>1995.84</td><td>1995.84</td><td>3568.3199999999997</td><td>1572.48</td></tr>\n",
       "<tr><td>uid://A001/X1465/X1008</td><td>2019.1.01326.S</td><td>uid://A001/X1465/X1007</td><td>Position_j_03_7M</td><td>7m</td><td>Outflows, jets, feedback, Galactic centres/nuclei</td><td>Active galaxies</td><td>10</td><td>12</td><td>16</td><td>3.0</td><td>1.0</td><td>Position_2</td><td>0.13352956949867897</td><td>11.495155000772085</td><td>T</td><td>240.0</td><td>99.33587941322293</td><td>2.299031000154417</td><td>2</td><td>4</td><td>1116.9672480031732</td><td>100.94947251671041</td><td>3.1673235453701216</td><td>8192.0</td><td>2048.0</td><td>2.0</td><td>8.0</td><td>100.94947251671041</td><td>2</td><td>16.0</td><td>16.0</td><td>32.0</td><td>2.0</td><td>8</td><td>8</td><td>16</td><td>1107.0</td><td>82.0</td><td>3.2874887082848767</td><td>324.0</td><td>24.0</td><td>0.9621918170589883</td><td>661.5</td><td>49.0</td><td>1.9644749598287679</td><td>9.984</td><td>1806.0</td><td>6172.0</td><td>3023.0</td><td>14448.0</td><td>14448.0</td><td>28896.0</td><td>49376.0</td><td>49376.0</td><td>98752.0</td><td>24184.0</td><td>24184.0</td><td>48368.0</td><td>0.15849513227869003</td><td>0.15849513227869003</td><td>0.31699026455738005</td><td>0.019811891534836253</td><td>45.0</td><td>66.0</td><td>120.0</td><td>30.609047</td><td>2019.1.01326.S</td><td>Position_j_03_7M</td><td>10.08</td><td>1.0</td><td>604.8</td><td>0.0</td><td>120.96</td><td>0.0</td><td>0.0</td><td>393.12</td><td>393.12</td><td>1118.88</td><td>725.76</td></tr>\n",
       "<tr><td>uid://A001/X1465/X100e</td><td>2019.1.01326.S</td><td>uid://A001/X1465/X100d</td><td>Position_k_03_7M</td><td>7m</td><td>Outflows, jets, feedback, Galactic centres/nuclei</td><td>Active galaxies</td><td>10</td><td>12</td><td>16</td><td>3.0</td><td>1.0</td><td>Position_3</td><td>0.1335711696824279</td><td>11.477738486513816</td><td>T</td><td>240.0</td><td>99.3358716017038</td><td>2.295547697302763</td><td>2</td><td>4</td><td>1116.9768029798806</td><td>100.9494845484696</td><td>3.1673495625218457</td><td>8192.0</td><td>2048.0</td><td>2.0</td><td>8.0</td><td>100.9494845484696</td><td>2</td><td>16.0</td><td>16.0</td><td>32.0</td><td>2.0</td><td>8</td><td>8</td><td>16</td><td>1107.0</td><td>82.0</td><td>3.2874883164624453</td><td>324.0</td><td>24.0</td><td>0.9621917023792522</td><td>661.5</td><td>49.0</td><td>1.9644747256909736</td><td>9.984</td><td>1806.0</td><td>6172.0</td><td>3023.0</td><td>14448.0</td><td>14448.0</td><td>28896.0</td><td>49376.0</td><td>49376.0</td><td>98752.0</td><td>24184.0</td><td>24184.0</td><td>48368.0</td><td>0.15849511338829875</td><td>0.15849511338829875</td><td>0.3169902267765975</td><td>0.019811889173537343</td><td>45.0</td><td>66.0</td><td>120.0</td><td>30.655828</td><td>2019.1.01326.S</td><td>Position_k_03_7M</td><td>10.08</td><td>1.0</td><td>604.8</td><td>0.0</td><td>120.96</td><td>0.0</td><td>0.0</td><td>393.12</td><td>393.12</td><td>1118.88</td><td>725.76</td></tr>\n",
       "<tr><td>uid://A001/X1465/X1014</td><td>2019.1.01326.S</td><td>uid://A001/X1465/X1013</td><td>Position_l_03_7M</td><td>7m</td><td>Outflows, jets, feedback, Galactic centres/nuclei</td><td>Active galaxies</td><td>10</td><td>12</td><td>16</td><td>3.0</td><td>1.0</td><td>Position_4</td><td>0.1335853198822303</td><td>11.302668272847619</td><td>T</td><td>245.0</td><td>99.33587213428518</td><td>2.2605336545695236</td><td>2</td><td>4</td><td>1116.9790739480793</td><td>100.94948499173799</td><td>3.1673558199446665</td><td>8192.0</td><td>2048.0</td><td>2.0</td><td>8.0</td><td>100.94948499173799</td><td>2</td><td>16.0</td><td>16.0</td><td>32.0</td><td>2.0</td><td>8</td><td>8</td><td>16</td><td>1107.0</td><td>82.0</td><td>3.28748830202711</td><td>324.0</td><td>24.0</td><td>0.9621916981542762</td><td>661.5</td><td>49.0</td><td>1.9644747170649806</td><td>9.984</td><td>1806.0</td><td>6172.0</td><td>3023.0</td><td>14448.0</td><td>14448.0</td><td>28896.0</td><td>49376.0</td><td>49376.0</td><td>98752.0</td><td>24184.0</td><td>24184.0</td><td>48368.0</td><td>0.15849511269234795</td><td>0.15849511269234795</td><td>0.3169902253846959</td><td>0.019811889086543494</td><td>45.0</td><td>66.0</td><td>120.0</td><td>31.127703</td><td>2019.1.01326.S</td><td>Position_l_03_7M</td><td>10.08</td><td>1.0</td><td>604.8</td><td>0.0</td><td>120.96</td><td>0.0</td><td>0.0</td><td>393.12</td><td>393.12</td><td>1118.88</td><td>725.76</td></tr>\n",
       "<tr><td>uid://A001/X1465/X101a</td><td>2019.1.01326.S</td><td>uid://A001/X1465/X1019</td><td>Position_m_03_7M</td><td>7m</td><td>Outflows, jets, feedback, Galactic centres/nuclei</td><td>Active galaxies</td><td>10</td><td>12</td><td>16</td><td>3.0</td><td>1.0</td><td>Position_5</td><td>0.1336314854176951</td><td>11.413765574280458</td><td>T</td><td>240.0</td><td>99.33587285679403</td><td>2.2827531148560913</td><td>2</td><td>4</td><td>1116.978577743549</td><td>100.94948404645515</td><td>3.1673544786256693</td><td>8192.0</td><td>2048.0</td><td>2.0</td><td>8.0</td><td>100.94948404645515</td><td>2</td><td>16.0</td><td>16.0</td><td>32.0</td><td>2.0</td><td>8</td><td>8</td><td>16</td><td>1107.0</td><td>82.0</td><td>3.2874883328108857</td><td>324.0</td><td>24.0</td><td>0.9621917071641618</td><td>661.5</td><td>49.0</td><td>1.9644747354601635</td><td>9.984</td><td>1806.0</td><td>6172.0</td><td>3023.0</td><td>14448.0</td><td>14448.0</td><td>28896.0</td><td>49376.0</td><td>49376.0</td><td>98752.0</td><td>24184.0</td><td>24184.0</td><td>48368.0</td><td>0.1584951141764834</td><td>0.1584951141764834</td><td>0.3169902283529668</td><td>0.019811889272060425</td><td>45.0</td><td>66.0</td><td>120.0</td><td>30.823065</td><td>2019.1.01326.S</td><td>Position_m_03_7M</td><td>10.08</td><td>1.0</td><td>604.8</td><td>0.0</td><td>120.96</td><td>0.0</td><td>0.0</td><td>393.12</td><td>393.12</td><td>1118.88</td><td>725.76</td></tr>\n",
       "<tr><td>uid://A001/X1465/X1020</td><td>2019.1.01326.S</td><td>uid://A001/X1465/X101f</td><td>Position_n_03_7M</td><td>7m</td><td>Outflows, jets, feedback, Galactic centres/nuclei</td><td>Active galaxies</td><td>10</td><td>12</td><td>16</td><td>3.0</td><td>1.0</td><td>Position_6</td><td>0.13371358744210624</td><td>12.310711444421296</td><td>T</td><td>225.0</td><td>99.33586798161843</td><td>2.4621422888842592</td><td>2</td><td>4</td><td>1116.9863042364896</td><td>100.94949231787314</td><td>3.1673755615409136</td><td>8192.0</td><td>2048.0</td><td>2.0</td><td>8.0</td><td>100.94949231787314</td><td>2</td><td>16.0</td><td>16.0</td><td>32.0</td><td>2.0</td><td>8</td><td>8</td><td>16</td><td>1107.0</td><td>82.0</td><td>3.2874880634465784</td><td>324.0</td><td>24.0</td><td>0.9621916283258277</td><td>661.5</td><td>49.0</td><td>1.964474574498565</td><td>9.984</td><td>1806.0</td><td>6172.0</td><td>3023.0</td><td>14448.0</td><td>14448.0</td><td>28896.0</td><td>49376.0</td><td>49376.0</td><td>98752.0</td><td>24184.0</td><td>24184.0</td><td>48368.0</td><td>0.15849510118999574</td><td>0.15849510118999574</td><td>0.3169902023799915</td><td>0.019811887648749468</td><td>45.0</td><td>66.0</td><td>120.0</td><td>28.57859</td><td>2019.1.01326.S</td><td>Position_n_03_7M</td><td>10.08</td><td>1.0</td><td>604.8</td><td>0.0</td><td>120.96</td><td>0.0</td><td>0.0</td><td>393.12</td><td>393.12</td><td>1118.88</td><td>725.76</td></tr>\n",
       "<tr><td>uid://A001/X1465/X1026</td><td>2019.1.01326.S</td><td>uid://A001/X1465/X1025</td><td>Position_o_03_7M</td><td>7m</td><td>Outflows, jets, feedback, Galactic centres/nuclei</td><td>Active galaxies</td><td>10</td><td>12</td><td>16</td><td>3.0</td><td>1.0</td><td>Position_7</td><td>0.13373216928158022</td><td>11.753922287777575</td><td>T</td><td>235.0</td><td>99.33586625816268</td><td>2.3507844575555152</td><td>2</td><td>4</td><td>1116.988488853616</td><td>100.94949500553065</td><td>3.1673815119399906</td><td>8192.0</td><td>2048.0</td><td>2.0</td><td>8.0</td><td>100.94949500553065</td><td>2</td><td>16.0</td><td>16.0</td><td>32.0</td><td>2.0</td><td>8</td><td>8</td><td>16</td><td>1107.0</td><td>82.0</td><td>3.2874879759212075</td><td>324.0</td><td>24.0</td><td>0.962191602708646</td><td>661.5</td><td>49.0</td><td>1.9644745221968187</td><td>9.984</td><td>1806.0</td><td>6172.0</td><td>3023.0</td><td>14448.0</td><td>14448.0</td><td>28896.0</td><td>49376.0</td><td>49376.0</td><td>98752.0</td><td>24184.0</td><td>24184.0</td><td>48368.0</td><td>0.15849509697025646</td><td>0.15849509697025646</td><td>0.3169901939405129</td><td>0.019811887121282058</td><td>45.0</td><td>66.0</td><td>120.0</td><td>29.931335</td><td>2019.1.01326.S</td><td>Position_o_03_7M</td><td>10.08</td><td>1.0</td><td>604.8</td><td>0.0</td><td>120.96</td><td>0.0</td><td>0.0</td><td>393.12</td><td>393.12</td><td>1118.88</td><td>725.76</td></tr>\n",
       "<tr><td>uid://A001/X1465/X102c</td><td>2019.1.01326.S</td><td>uid://A001/X1465/X102b</td><td>Position_p_03_7M</td><td>7m</td><td>Outflows, jets, feedback, Galactic centres/nuclei</td><td>Active galaxies</td><td>10</td><td>12</td><td>16</td><td>3.0</td><td>1.0</td><td>Position_7</td><td>0.1337135102695543</td><td>12.23308102480371</td><td>T</td><td>225.0</td><td>99.33585300632527</td><td>2.446616204960742</td><td>2</td><td>4</td><td>1117.0123506192197</td><td>100.94951872567178</td><td>3.1674466780927557</td><td>8192.0</td><td>2048.0</td><td>2.0</td><td>8.0</td><td>100.94951872567178</td><td>2</td><td>16.0</td><td>16.0</td><td>32.0</td><td>2.0</td><td>8</td><td>8</td><td>16</td><td>1107.0</td><td>82.0</td><td>3.2874872034590923</td><td>324.0</td><td>24.0</td><td>0.9621913766221734</td><td>661.5</td><td>49.0</td><td>1.964474060603604</td><td>9.984</td><td>1806.0</td><td>6172.0</td><td>3023.0</td><td>14448.0</td><td>14448.0</td><td>28896.0</td><td>49376.0</td><td>49376.0</td><td>98752.0</td><td>24184.0</td><td>24184.0</td><td>48368.0</td><td>0.15849505972861216</td><td>0.15849505972861216</td><td>0.31699011945722433</td><td>0.01981188246607652</td><td>45.0</td><td>66.0</td><td>120.0</td><td>28.755129</td><td>2019.1.01326.S</td><td>Position_p_03_7M</td><td>10.08</td><td>1.0</td><td>604.8</td><td>0.0</td><td>120.96</td><td>0.0</td><td>0.0</td><td>393.12</td><td>393.12</td><td>1118.88</td><td>725.76</td></tr>\n",
       "<tr><td>...</td><td>...</td><td>...</td><td>...</td><td>...</td><td>...</td><td>...</td><td>...</td><td>...</td><td>...</td><td>...</td><td>...</td><td>...</td><td>...</td><td>...</td><td>...</td><td>...</td><td>...</td><td>...</td><td>...</td><td>...</td><td>...</td><td>...</td><td>...</td><td>...</td><td>...</td><td>...</td><td>...</td><td>...</td><td>...</td><td>...</td><td>...</td><td>...</td><td>...</td><td>...</td><td>...</td><td>...</td><td>...</td><td>...</td><td>...</td><td>...</td><td>...</td><td>...</td><td>...</td><td>...</td><td>...</td><td>...</td><td>...</td><td>...</td><td>...</td><td>...</td><td>...</td><td>...</td><td>...</td><td>...</td><td>...</td><td>...</td><td>...</td><td>...</td><td>...</td><td>...</td><td>...</td><td>...</td><td>...</td><td>...</td><td>...</td><td>...</td><td>...</td><td>...</td><td>...</td><td>...</td><td>...</td><td>...</td><td>...</td><td>...</td><td>...</td><td>...</td><td>...</td><td>...</td><td>...</td></tr>\n",
       "<tr><td>uid://A001/X15a2/Xab7</td><td>2019.1.01324.T</td><td>uid://A001/X15a2/Xab6</td><td>Transien_e_03_TM1</td><td>12m</td><td>Black holes, Transients</td><td>Stars and stellar evolution</td><td>47</td><td>50</td><td>66</td><td>3.0</td><td>1.0</td><td>GX_339-4</td><td>0.016588794717785</td><td>0.1678109021398266</td><td>F</td><td>2740.0</td><td>59.93310822407246</td><td>0.03356218042796532</td><td>2</td><td>4</td><td>1117.3945505165266</td><td>97.48910779793061</td><td>3.2686022854814705</td><td>7680.0</td><td>1920.0</td><td>1.875</td><td>7.5</td><td>97.48910779793061</td><td>2</td><td>16.0</td><td>16.0</td><td>32.0</td><td>2.0</td><td>8</td><td>8</td><td>16</td><td>1107.0</td><td>82.0</td><td>3.4041777435678258</td><td>324.0</td><td>24.0</td><td>0.9963447054344856</td><td>648.0</td><td>48.0</td><td>1.9926894108689712</td><td>3.072</td><td>1806.0</td><td>6172.0</td><td>3086.0</td><td>14448.0</td><td>14448.0</td><td>28896.0</td><td>49376.0</td><td>49376.0</td><td>98752.0</td><td>24688.0</td><td>24688.0</td><td>49376.0</td><td>0.1641208988512215</td><td>0.1641208988512215</td><td>0.328241797702443</td><td>0.020515112356402687</td><td>1081.0</td><td>1225.0</td><td>2145.0</td><td>2169.2878</td><td>2019.1.01324.T</td><td>Transien_e_03_TM1</td><td>2.016</td><td>1.0</td><td>302.4</td><td>0.0</td><td>127.008</td><td>0.0</td><td>36.288</td><td>308.448</td><td>308.448</td><td>774.144</td><td>465.69599999999997</td></tr>\n",
       "<tr><td>uid://A001/X15a2/Xed4</td><td>2019.1.00863.T</td><td>uid://A001/X15a1/X1ec9</td><td>GRB21110_c_03_TM1</td><td>12m</td><td>Pulsars and neutron stars, Transients</td><td>Stars and stellar evolution</td><td>47</td><td>50</td><td>66</td><td>3.0</td><td>1.0</td><td>GRB211106A</td><td>0.016588169547963195</td><td>0.4317903496458591</td><td>F</td><td>1060.0</td><td>59.930849568683314</td><td>0.08635806992917182</td><td>2</td><td>4</td><td>30913.85272485866</td><td>97.49278193738127</td><td>90.52858123839745</td><td>512.0</td><td>128.0</td><td>2.0</td><td>8.0</td><td>97.49278193738127</td><td>2</td><td>16.0</td><td>16.0</td><td>32.0</td><td>2.0</td><td>8</td><td>8</td><td>16</td><td>30901.5</td><td>2289.0</td><td>95.02279509099664</td><td>3240.0</td><td>240.0</td><td>9.96307156917396</td><td>3240.0</td><td>240.0</td><td>9.96307156917396</td><td>3.072</td><td>64.0</td><td>617.0</td><td>617.0</td><td>512.0</td><td>512.0</td><td>1024.0</td><td>4936.0</td><td>4936.0</td><td>9872.0</td><td>4936.0</td><td>4936.0</td><td>9872.0</td><td>0.16411471374646644</td><td>0.16411471374646644</td><td>0.3282294274929329</td><td>0.020514339218308305</td><td>1081.0</td><td>1225.0</td><td>2145.0</td><td>843.02625</td><td>2019.1.00863.T</td><td>GRB21110_c_03_TM1</td><td>2.016</td><td>1.0</td><td>302.4</td><td>0.0</td><td>151.2</td><td>0.0</td><td>0.0</td><td>2056.32</td><td>2056.32</td><td>2509.92</td><td>453.59999999999997</td></tr>\n",
       "<tr><td>uid://A001/X15a3/X18</td><td>2019.1.01587.S</td><td>uid://A001/X15a3/X17</td><td>J1511+04_a_07_TM1</td><td>12m</td><td>Galaxy structure &amp; evolution</td><td>Galaxy evolution</td><td>47</td><td>50</td><td>66</td><td>7.0</td><td>1.0</td><td>J1511+0408</td><td>0.00473533757302897</td><td>0.09574715915292428</td><td>F</td><td>1370.0</td><td>17.044407549621972</td><td>0.019149431830584856</td><td>2</td><td>4</td><td>3893.0806528778044</td><td>341.56730347969506</td><td>3.3677629762572647</td><td>1920.0</td><td>480.0</td><td>1.875</td><td>7.5</td><td>341.56730347969506</td><td>2</td><td>8.0</td><td>16.0</td><td>32.0</td><td>2.0</td><td>4</td><td>8</td><td>16</td><td>3888.0</td><td>288.0</td><td>3.41248434738804</td><td>1134.0</td><td>84.0</td><td>0.9953079346548451</td><td>2268.0</td><td>168.0</td><td>1.9906158693096903</td><td>3.072</td><td>514.0</td><td>1763.0</td><td>881.0</td><td>2056.0</td><td>4112.0</td><td>8224.0</td><td>7052.0</td><td>14104.0</td><td>28208.0</td><td>3524.0</td><td>7048.0</td><td>14096.0</td><td>0.023421445549677945</td><td>0.04684289109935589</td><td>0.09368578219871178</td><td>0.005855361387419486</td><td>1081.0</td><td>1225.0</td><td>2145.0</td><td>1068.3083</td><td>2019.1.01587.S</td><td>J1511+04_a_07_TM1</td><td>6.048</td><td>1.0</td><td>1814.4</td><td>0.0</td><td>302.4</td><td>0.0</td><td>241.92</td><td>1028.16</td><td>1028.16</td><td>3386.88</td><td>2358.7200000000003</td></tr>\n",
       "<tr><td>uid://A001/X15a3/X5</td><td>2019.A.00040.S</td><td>uid://A001/X15a3/X4</td><td>ASASSN-2_a_07_TM1</td><td>12m</td><td>Debris disks</td><td>Disks and planet formation</td><td>47</td><td>50</td><td>66</td><td>7.0</td><td>1.0</td><td>ASASSN-21qj</td><td>0.004736613751849588</td><td>0.017512278432268685</td><td>F</td><td>7490.0</td><td>17.04810208137214</td><td>0.003502455686453737</td><td>2</td><td>4</td><td>979.229489693065</td><td>341.49625374808505</td><td>0.8470622795880317</td><td>4224.0</td><td>3840.0</td><td>2.0</td><td>7.875</td><td>341.49625374808505</td><td>2</td><td>8.0</td><td>16.0</td><td>32.0</td><td>2.0</td><td>4</td><td>8</td><td>16</td><td>972.0</td><td>72.0</td><td>0.8532985822765676</td><td>108.0</td><td>8.0</td><td>0.09481095358628529</td><td>567.0</td><td>42.0</td><td>0.49775750632799776</td><td>3.072</td><td>2057.0</td><td>18518.0</td><td>3527.0</td><td>8228.0</td><td>16456.0</td><td>32912.0</td><td>74072.0</td><td>148144.0</td><td>296288.0</td><td>14108.0</td><td>28216.0</td><td>56432.0</td><td>0.023426318479913517</td><td>0.04685263695982703</td><td>0.09370527391965407</td><td>0.005856579619978379</td><td>1081.0</td><td>1225.0</td><td>2145.0</td><td>5902.4077</td><td>2019.A.00040.S</td><td>ASASSN-2_a_07_TM1</td><td>2.016</td><td>1.0</td><td>1814.3999999999999</td><td>0.0</td><td>1868.832</td><td>0.0</td><td>217.728</td><td>5152.896</td><td>5152.896</td><td>9053.856</td><td>3900.96</td></tr>\n",
       "<tr><td>uid://A001/X15a9/X134d</td><td>2019.1.01634.L</td><td>uid://A001/X15a9/X134c</td><td>UVISTA-J_b_06_TM1</td><td>12m</td><td>Lyman Break Galaxies (LBG), Galaxy structure &amp; evolution</td><td>Galaxy evolution</td><td>47</td><td>50</td><td>66</td><td>6.0</td><td>1.0</td><td>UVISTA-J-1212</td><td>0.007381374109636608</td><td>1.2855946465692392</td><td>F</td><td>160.0</td><td>26.56061402394846</td><td>0.25711892931384783</td><td>2</td><td>3</td><td>7779.002950074101</td><td>219.13075675583687</td><td>10.558843821668365</td><td>720.0</td><td>240.0</td><td>1.875</td><td>5.625</td><td>219.13075675583687</td><td>2</td><td>16.0</td><td>16.0</td><td>32.0</td><td>2.0</td><td>8</td><td>8</td><td>16</td><td>7776.0</td><td>576.0</td><td>10.6383338784591</td><td>7303.5</td><td>541.0</td><td>9.99190734070551</td><td>7303.5</td><td>541.0</td><td>9.99190734070551</td><td>3.072</td><td>257.0</td><td>273.0</td><td>273.0</td><td>2056.0</td><td>2056.0</td><td>4112.0</td><td>2184.0</td><td>2184.0</td><td>4368.0</td><td>2184.0</td><td>2184.0</td><td>4368.0</td><td>0.07301576573218226</td><td>0.07301576573218226</td><td>0.1460315314643645</td><td>0.009126970716522782</td><td>1081.0</td><td>1225.0</td><td>2145.0</td><td>122.633286</td><td>2019.1.01634.L</td><td>UVISTA-J_b_06_TM1</td><td>6.048</td><td>1.0</td><td>604.8</td><td>0.0</td><td>241.92</td><td>0.0</td><td>0.0</td><td>2903.04</td><td>2903.04</td><td>3749.7599999999998</td><td>846.7199999999999</td></tr>\n",
       "<tr><td>uid://A001/X15a9/X1351</td><td>2019.1.01634.L</td><td>uid://A001/X15a9/X1350</td><td>UVISTA-J_c_06_TM1</td><td>12m</td><td>Lyman Break Galaxies (LBG), Galaxy structure &amp; evolution</td><td>Galaxy evolution</td><td>47</td><td>50</td><td>66</td><td>6.0</td><td>1.0</td><td>UVISTA-J-1212</td><td>0.007204637033625908</td><td>1.3081616346248486</td><td>F</td><td>150.0</td><td>25.924606029864425</td><td>0.26163232692496974</td><td>2</td><td>3</td><td>7779.804031912504</td><td>224.50623842940158</td><td>10.309003680864372</td><td>720.0</td><td>240.0</td><td>1.875</td><td>5.625</td><td>224.50623842940158</td><td>2</td><td>16.0</td><td>16.0</td><td>32.0</td><td>2.0</td><td>8</td><td>8</td><td>16</td><td>7776.0</td><td>576.0</td><td>10.383614146833903</td><td>7479.0</td><td>554.0</td><td>9.987017773170109</td><td>7479.0</td><td>554.0</td><td>9.987017773170109</td><td>3.072</td><td>257.0</td><td>267.0</td><td>267.0</td><td>2056.0</td><td>2056.0</td><td>4112.0</td><td>2136.0</td><td>2136.0</td><td>4272.0</td><td>2136.0</td><td>2136.0</td><td>4272.0</td><td>0.0712675073616334</td><td>0.0712675073616334</td><td>0.1425350147232668</td><td>0.008908438420204175</td><td>1081.0</td><td>1225.0</td><td>2145.0</td><td>120.855606</td><td>2019.1.01634.L</td><td>UVISTA-J_c_06_TM1</td><td>6.048</td><td>1.0</td><td>302.4</td><td>0.0</td><td>120.96</td><td>0.0</td><td>0.0</td><td>1149.12</td><td>1149.12</td><td>1572.4799999999998</td><td>423.35999999999996</td></tr>\n",
       "<tr><td>uid://A001/X15aa/X74</td><td>2019.1.00863.T</td><td>uid://A001/X15aa/X73</td><td>SGRB2_a_03_TM1</td><td>12m</td><td>Pulsars and neutron stars, Transients</td><td>Stars and stellar evolution</td><td>47</td><td>50</td><td>66</td><td>3.0</td><td>1.0</td><td>GRB211106A</td><td>0.01658832667287695</td><td>0.6470849266662538</td><td>F</td><td>710.0</td><td>59.931417240091704</td><td>0.12941698533325077</td><td>2</td><td>4</td><td>30913.559908317307</td><td>97.4918584840845</td><td>90.52858123839745</td><td>512.0</td><td>128.0</td><td>2.0</td><td>8.0</td><td>97.4918584840845</td><td>2</td><td>16.0</td><td>16.0</td><td>32.0</td><td>2.0</td><td>8</td><td>8</td><td>16</td><td>30901.5</td><td>2289.0</td><td>95.02369515706123</td><td>3240.0</td><td>240.0</td><td>9.963165940452031</td><td>3240.0</td><td>240.0</td><td>9.963165940452031</td><td>3.072</td><td>64.0</td><td>617.0</td><td>617.0</td><td>512.0</td><td>512.0</td><td>1024.0</td><td>4936.0</td><td>4936.0</td><td>9872.0</td><td>4936.0</td><td>4936.0</td><td>9872.0</td><td>0.1641162682585643</td><td>0.1641162682585643</td><td>0.3282325365171286</td><td>0.020514533532320536</td><td>1081.0</td><td>1225.0</td><td>2145.0</td><td>562.5464</td><td>2019.1.00863.T</td><td>SGRB2_a_03_TM1</td><td>2.016</td><td>1.0</td><td>302.4</td><td>0.0</td><td>151.2</td><td>0.0</td><td>0.0</td><td>2056.32</td><td>2056.32</td><td>2509.92</td><td>453.59999999999997</td></tr>\n",
       "<tr><td>uid://A001/X15aa/X77</td><td>2019.1.00863.T</td><td>uid://A001/X15aa/X76</td><td>GRB21110_e_03_TM1</td><td>12m</td><td>Pulsars and neutron stars, Transients</td><td>Stars and stellar evolution</td><td>47</td><td>50</td><td>66</td><td>3.0</td><td>1.0</td><td>GRB211106A</td><td>0.01658864995868178</td><td>1.1041984061268773</td><td>F</td><td>420.0</td><td>59.93258522869232</td><td>0.22083968122537545</td><td>2</td><td>4</td><td>30912.957453318253</td><td>97.48995852634154</td><td>90.52858123839742</td><td>512.0</td><td>128.0</td><td>2.0</td><td>8.0</td><td>97.48995852634154</td><td>2</td><td>16.0</td><td>16.0</td><td>32.0</td><td>2.0</td><td>8</td><td>8</td><td>16</td><td>30901.5</td><td>2289.0</td><td>95.02554705040603</td><td>3240.0</td><td>240.0</td><td>9.963360110134314</td><td>3240.0</td><td>240.0</td><td>9.963360110134314</td><td>3.072</td><td>64.0</td><td>617.0</td><td>617.0</td><td>512.0</td><td>512.0</td><td>1024.0</td><td>4936.0</td><td>4936.0</td><td>9872.0</td><td>4936.0</td><td>4936.0</td><td>9872.0</td><td>0.16411946668001548</td><td>0.16411946668001548</td><td>0.32823893336003096</td><td>0.020514933335001935</td><td>1081.0</td><td>1225.0</td><td>2145.0</td><td>329.6704</td><td>2019.1.00863.T</td><td>GRB21110_e_03_TM1</td><td>2.016</td><td>1.0</td><td>302.4</td><td>0.0</td><td>151.2</td><td>0.0</td><td>0.0</td><td>2056.32</td><td>2056.32</td><td>2509.92</td><td>453.59999999999997</td></tr>\n",
       "</table></div>"
      ],
      "text/plain": [
       "<QTable length=11519>\n",
       "         mous           proposal_id   ...      time_tot           cal_time     \n",
       "                                      ...         s                  s         \n",
       "        str22              str14      ...      float64            float64      \n",
       "---------------------- -------------- ... ------------------ ------------------\n",
       "uid://A001/X1465/X1002 2019.1.01326.S ... 3568.3199999999997            1572.48\n",
       "uid://A001/X1465/X1008 2019.1.01326.S ...            1118.88             725.76\n",
       "uid://A001/X1465/X100e 2019.1.01326.S ...            1118.88             725.76\n",
       "uid://A001/X1465/X1014 2019.1.01326.S ...            1118.88             725.76\n",
       "uid://A001/X1465/X101a 2019.1.01326.S ...            1118.88             725.76\n",
       "uid://A001/X1465/X1020 2019.1.01326.S ...            1118.88             725.76\n",
       "uid://A001/X1465/X1026 2019.1.01326.S ...            1118.88             725.76\n",
       "uid://A001/X1465/X102c 2019.1.01326.S ...            1118.88             725.76\n",
       "                   ...            ... ...                ...                ...\n",
       " uid://A001/X15a2/Xab7 2019.1.01324.T ...            774.144 465.69599999999997\n",
       " uid://A001/X15a2/Xed4 2019.1.00863.T ...            2509.92 453.59999999999997\n",
       "  uid://A001/X15a3/X18 2019.1.01587.S ...            3386.88 2358.7200000000003\n",
       "   uid://A001/X15a3/X5 2019.A.00040.S ...           9053.856            3900.96\n",
       "uid://A001/X15a9/X134d 2019.1.01634.L ... 3749.7599999999998  846.7199999999999\n",
       "uid://A001/X15a9/X1351 2019.1.01634.L ... 1572.4799999999998 423.35999999999996\n",
       "  uid://A001/X15aa/X74 2019.1.00863.T ...            2509.92 453.59999999999997\n",
       "  uid://A001/X15aa/X77 2019.1.00863.T ...            2509.92 453.59999999999997"
      ]
     },
     "execution_count": 46,
     "metadata": {},
     "output_type": "execute_result"
    }
   ],
   "source": [
    "result_tos"
   ]
  },
  {
   "cell_type": "code",
   "execution_count": 47,
   "id": "f787dde9",
   "metadata": {
    "scrolled": true
   },
   "outputs": [
    {
     "data": {
      "text/plain": [
       "<TableColumns names=('mous','proposal_id','gous','schedblock_name','array','science_keyword','scientific_category','nant_typical','nant_array','nant_all','band','ntarget','target_name','s_fov','s_resolution','mosaic','imsize','pb','cell','blc_npol','blc_nspw','blc_specwidth','blc_freq','blc_velres','blc_nchan_agg','blc_nchan_max','blc_bandwidth_max','blc_bandwidth_agg','wsu_freq','wsu_npol','wsu_bandwidth_early','wsu_bandwidth_later_2x','wsu_bandwidth_later_4x','wsu_bandwidth_spw','wsu_nspw_early','wsu_nspw_later_2x','wsu_nspw_later_4x','wsu_specwidth_finest','wsu_chanavg_finest','wsu_velres_finest','wsu_specwidth_stepped','wsu_chanavg_stepped','wsu_velres_stepped','wsu_specwidth_stepped2','wsu_chanavg_stepped2','wsu_velres_stepped2','wsu_tint','wsu_nchan_spw_finest','wsu_nchan_spw_stepped','wsu_nchan_spw_stepped2','wsu_nchan_agg_finest_early','wsu_nchan_agg_finest_later_2x','wsu_nchan_agg_finest_later_4x','wsu_nchan_agg_stepped_early','wsu_nchan_agg_stepped_later_2x','wsu_nchan_agg_stepped_later_4x','wsu_nchan_agg_stepped2_early','wsu_nchan_agg_stepped2_later_2x','wsu_nchan_agg_stepped2_later_4x','wsu_frac_bw_early','wsu_frac_bw_later_2x','wsu_frac_bw_later_4x','wsu_frac_bw_spw','nbase_typical','nbase_array','nbase_all','L80','Project','SB_name','blc_tint','blc_ntunings','bp_time','flux_time','phase_time','pol_time','check_time','target_time','target_time_tot','time_tot','cal_time')>"
      ]
     },
     "execution_count": 47,
     "metadata": {},
     "output_type": "execute_result"
    }
   ],
   "source": [
    "result_tos.columns"
   ]
  },
  {
   "cell_type": "code",
   "execution_count": 48,
   "id": "4e34efd9",
   "metadata": {},
   "outputs": [
    {
     "data": {
      "text/html": [
       "<div><i>QTable length=10843</i>\n",
       "<table id=\"table140413667937968\" class=\"table-striped table-bordered table-condensed\">\n",
       "<thead><tr><th>mous</th><th>proposal_id</th><th>gous</th><th>schedblock_name</th><th>array</th><th>science_keyword</th><th>scientific_category</th><th>nant_typical</th><th>nant_array</th><th>nant_all</th><th>band</th><th>ntarget</th><th>target_name</th><th>s_fov</th><th>s_resolution</th><th>mosaic</th><th>imsize</th><th>pb</th><th>cell</th><th>blc_npol</th><th>blc_nspw</th><th>blc_specwidth</th><th>blc_freq</th><th>blc_velres</th><th>blc_nchan_agg</th><th>blc_nchan_max</th><th>blc_bandwidth_max</th><th>blc_bandwidth_agg</th><th>wsu_freq</th><th>wsu_npol</th><th>wsu_bandwidth_early</th><th>wsu_bandwidth_later_2x</th><th>wsu_bandwidth_later_4x</th><th>wsu_bandwidth_spw</th><th>wsu_nspw_early</th><th>wsu_nspw_later_2x</th><th>wsu_nspw_later_4x</th><th>wsu_specwidth_finest</th><th>wsu_chanavg_finest</th><th>wsu_velres_finest</th><th>wsu_specwidth_stepped</th><th>wsu_chanavg_stepped</th><th>wsu_velres_stepped</th><th>wsu_specwidth_stepped2</th><th>wsu_chanavg_stepped2</th><th>wsu_velres_stepped2</th><th>wsu_tint</th><th>wsu_nchan_spw_finest</th><th>wsu_nchan_spw_stepped</th><th>wsu_nchan_spw_stepped2</th><th>wsu_nchan_agg_finest_early</th><th>wsu_nchan_agg_finest_later_2x</th><th>wsu_nchan_agg_finest_later_4x</th><th>wsu_nchan_agg_stepped_early</th><th>wsu_nchan_agg_stepped_later_2x</th><th>wsu_nchan_agg_stepped_later_4x</th><th>wsu_nchan_agg_stepped2_early</th><th>wsu_nchan_agg_stepped2_later_2x</th><th>wsu_nchan_agg_stepped2_later_4x</th><th>wsu_frac_bw_early</th><th>wsu_frac_bw_later_2x</th><th>wsu_frac_bw_later_4x</th><th>wsu_frac_bw_spw</th><th>nbase_typical</th><th>nbase_array</th><th>nbase_all</th><th>L80</th><th>Project</th><th>SB_name</th><th>blc_tint</th><th>blc_ntunings</th><th>bp_time</th><th>flux_time</th><th>phase_time</th><th>pol_time</th><th>check_time</th><th>target_time</th><th>target_time_tot</th><th>time_tot</th><th>cal_time</th></tr></thead>\n",
       "<thead><tr><th></th><th></th><th></th><th></th><th></th><th></th><th></th><th></th><th></th><th></th><th></th><th></th><th></th><th>deg</th><th>arcsec</th><th></th><th></th><th>arcsec</th><th>arcsec</th><th></th><th></th><th>kHz</th><th>GHz</th><th>km / s</th><th></th><th></th><th>GHz</th><th>GHz</th><th>GHz</th><th></th><th>GHz</th><th>GHz</th><th>GHz</th><th>GHz</th><th></th><th></th><th></th><th>kHz</th><th></th><th>km / s</th><th>kHz</th><th></th><th>km / s</th><th>kHz</th><th></th><th>km / s</th><th>s</th><th></th><th></th><th></th><th></th><th></th><th></th><th></th><th></th><th></th><th></th><th></th><th></th><th></th><th></th><th></th><th></th><th></th><th></th><th></th><th>m</th><th></th><th></th><th>s</th><th></th><th>s</th><th>s</th><th>s</th><th>s</th><th>s</th><th>s</th><th>s</th><th>s</th><th>s</th></tr></thead>\n",
       "<thead><tr><th>str22</th><th>str14</th><th>str22</th><th>str26</th><th>str6</th><th>str105</th><th>str27</th><th>int64</th><th>int64</th><th>int64</th><th>float64</th><th>float64</th><th>str35</th><th>float64</th><th>float64</th><th>str1</th><th>float64</th><th>float64</th><th>float64</th><th>int64</th><th>int64</th><th>float64</th><th>float64</th><th>float64</th><th>float64</th><th>float64</th><th>float64</th><th>float64</th><th>float64</th><th>int64</th><th>float64</th><th>float64</th><th>float64</th><th>float64</th><th>int64</th><th>int64</th><th>int64</th><th>float64</th><th>float64</th><th>float64</th><th>float64</th><th>float64</th><th>float64</th><th>float64</th><th>float64</th><th>float64</th><th>float64</th><th>float64</th><th>float64</th><th>float64</th><th>float64</th><th>float64</th><th>float64</th><th>float64</th><th>float64</th><th>float64</th><th>float64</th><th>float64</th><th>float64</th><th>float64</th><th>float64</th><th>float64</th><th>float64</th><th>float64</th><th>float64</th><th>float64</th><th>float64</th><th>str14</th><th>str26</th><th>float64</th><th>float64</th><th>float64</th><th>float64</th><th>float64</th><th>float64</th><th>float64</th><th>float64</th><th>float64</th><th>float64</th><th>float64</th></tr></thead>\n",
       "<tr><td>uid://A001/X158f/X111</td><td>2021.1.01571.S</td><td>uid://A001/X158f/X110</td><td>G09v1.40_a_08_TM1</td><td>12m</td><td>Outflows, jets, feedback</td><td>Active galaxies</td><td>47</td><td>50</td><td>66</td><td>8.0</td><td>1.0</td><td>G09v1.40</td><td>0.004000240613311581</td><td>0.45833271459124353</td><td>F</td><td>240.0</td><td>14.397483872538897</td><td>0.0916665429182487</td><td>2</td><td>4</td><td>31176.314691250842</td><td>404.3315523311515</td><td>22.83384100374022</td><td>512.0</td><td>128.0</td><td>2.0</td><td>8.0</td><td>404.3315523311515</td><td>2</td><td>16.0</td><td>16.0</td><td>32.0</td><td>2.0</td><td>8</td><td>8</td><td>16</td><td>31171.5</td><td>2309.0</td><td>23.112172549159283</td><td>13486.5</td><td>999.0</td><td>9.999593060463459</td><td>13486.5</td><td>999.0</td><td>9.999593060463459</td><td>3.072</td><td>64.0</td><td>148.0</td><td>148.0</td><td>512.0</td><td>512.0</td><td>1024.0</td><td>1184.0</td><td>1184.0</td><td>2368.0</td><td>1184.0</td><td>1184.0</td><td>2368.0</td><td>0.03957148510363061</td><td>0.03957148510363061</td><td>0.07914297020726122</td><td>0.004946435637953826</td><td>1081.0</td><td>1225.0</td><td>2145.0</td><td>191.52359</td><td>2021.1.01571.S</td><td>G09v1.40_a_08_TM1</td><td>2.016</td><td>1.0</td><td>———</td><td>———</td><td>———</td><td>———</td><td>———</td><td>———</td><td>———</td><td>———</td><td>———</td></tr>\n",
       "<tr><td>uid://A001/X158f/X115</td><td>2021.1.01571.S</td><td>uid://A001/X158f/X114</td><td>SPT0125-_a_07_TM1</td><td>12m</td><td>Outflows, jets, feedback</td><td>Active galaxies</td><td>47</td><td>50</td><td>66</td><td>7.0</td><td>1.0</td><td>SPT0125-47</td><td>0.0045375135989717905</td><td>0.2911647419354411</td><td>F</td><td>430.0</td><td>16.331349317037823</td><td>0.05823294838708822</td><td>2</td><td>4</td><td>31160.819141109412</td><td>356.47101883940036</td><td>25.85577672790684</td><td>512.0</td><td>128.0</td><td>2.0</td><td>8.0</td><td>356.47101883940036</td><td>2</td><td>8.0</td><td>16.0</td><td>32.0</td><td>2.0</td><td>4</td><td>8</td><td>16</td><td>31158.0</td><td>2308.0</td><td>26.203906945300194</td><td>11880.0</td><td>880.0</td><td>9.991091036336297</td><td>11880.0</td><td>880.0</td><td>9.991091036336297</td><td>3.072</td><td>64.0</td><td>168.0</td><td>168.0</td><td>256.0</td><td>512.0</td><td>1024.0</td><td>672.0</td><td>1344.0</td><td>2688.0</td><td>672.0</td><td>1344.0</td><td>2688.0</td><td>0.022442217115002588</td><td>0.044884434230005175</td><td>0.08976886846001035</td><td>0.005610554278750647</td><td>1081.0</td><td>1225.0</td><td>2145.0</td><td>341.9766</td><td>2021.1.01571.S</td><td>SPT0125-_a_07_TM1</td><td>2.016</td><td>1.0</td><td>302.4</td><td>0.0</td><td>90.72</td><td>0.0</td><td>0.0</td><td>453.6</td><td>453.6</td><td>846.72</td><td>393.12</td></tr>\n",
       "<tr><td>uid://A001/X158f/X13a</td><td>2021.1.01543.S</td><td>uid://A001/X158f/X139</td><td>ACT-S_J0_a_03_TM1</td><td>12m</td><td>Sub-mm Galaxies (SMG), Gravitational lenses</td><td>Galaxy evolution</td><td>47</td><td>50</td><td>66</td><td>3.0</td><td>1.0</td><td>ACT-S_J0007.5+1606</td><td>0.016370669248356715</td><td>3.2510106691183673</td><td>F</td><td>140.0</td><td>59.27082942119824</td><td>0.6502021338236735</td><td>2</td><td>20</td><td>7727.466820763161</td><td>98.80399468281071</td><td>20.998292318707925</td><td>4800.0</td><td>240.0</td><td>1.875</td><td>37.5</td><td>98.80399468281071</td><td>2</td><td>16.0</td><td>16.0</td><td>32.0</td><td>2.0</td><td>8</td><td>8</td><td>16</td><td>7722.0</td><td>572.0</td><td>23.430200045127812</td><td>3294.0</td><td>244.0</td><td>9.994700718551027</td><td>3294.0</td><td>244.0</td><td>9.994700718551027</td><td>3.072</td><td>259.0</td><td>607.0</td><td>607.0</td><td>2072.0</td><td>2072.0</td><td>4144.0</td><td>4856.0</td><td>4856.0</td><td>9712.0</td><td>4856.0</td><td>4856.0</td><td>9712.0</td><td>0.16193677240849025</td><td>0.16193677240849025</td><td>0.3238735448169805</td><td>0.02024209655106128</td><td>1081.0</td><td>1225.0</td><td>2145.0</td><td>110.20184</td><td>2021.1.01543.S</td><td>ACT-S_J0_a_03_TM1</td><td>6.048</td><td>5.0</td><td>3024.0</td><td>0.0</td><td>604.8</td><td>0.0</td><td>0.0</td><td>1512.0</td><td>1512.0</td><td>5140.8</td><td>3628.8</td></tr>\n",
       "<tr><td>uid://A001/X158f/X13e</td><td>2021.1.01543.S</td><td>uid://A001/X158f/X13d</td><td>ACT-S_J0_b_03_TM1</td><td>12m</td><td>Sub-mm Galaxies (SMG), Gravitational lenses</td><td>Galaxy evolution</td><td>47</td><td>50</td><td>66</td><td>3.0</td><td>1.0</td><td>ACT-S_J0732.1+1709</td><td>0.016369060528796033</td><td>3.1183686839850737</td><td>F</td><td>150.0</td><td>59.265060245387154</td><td>0.6236737367970147</td><td>2</td><td>20</td><td>966.0466580540649</td><td>98.81361279933466</td><td>2.6250367912778914</td><td>76800.0</td><td>3840.0</td><td>1.875</td><td>37.5</td><td>98.81361279933466</td><td>2</td><td>16.0</td><td>16.0</td><td>32.0</td><td>2.0</td><td>8</td><td>8</td><td>16</td><td>958.5</td><td>71.0</td><td>2.9080109799905505</td><td>324.0</td><td>24.0</td><td>0.9829896270390595</td><td>648.0</td><td>48.0</td><td>1.965979254078119</td><td>3.072</td><td>2086.0</td><td>6172.0</td><td>3086.0</td><td>16688.0</td><td>16688.0</td><td>33376.0</td><td>49376.0</td><td>49376.0</td><td>98752.0</td><td>24688.0</td><td>24688.0</td><td>49376.0</td><td>0.16192101013948285</td><td>0.16192101013948285</td><td>0.3238420202789657</td><td>0.020240126267435356</td><td>1081.0</td><td>1225.0</td><td>2145.0</td><td>115.18967</td><td>2021.1.01543.S</td><td>ACT-S_J0_b_03_TM1</td><td>6.048</td><td>5.0</td><td>———</td><td>———</td><td>———</td><td>———</td><td>———</td><td>———</td><td>———</td><td>———</td><td>———</td></tr>\n",
       "<tr><td>uid://A001/X158f/X142</td><td>2021.1.01543.S</td><td>uid://A001/X158f/X141</td><td>ACT-S_J0_c_03_TM1</td><td>12m</td><td>Sub-mm Galaxies (SMG), Gravitational lenses</td><td>Galaxy evolution</td><td>47</td><td>50</td><td>66</td><td>3.0</td><td>1.0</td><td>ACT-S_J0503.2-3609</td><td>0.016369146727628202</td><td>2.782605450987199</td><td>F</td><td>160.0</td><td>59.26537233287519</td><td>0.5565210901974396</td><td>2</td><td>20</td><td>966.0415709169566</td><td>98.81309245345668</td><td>2.6250367912778914</td><td>76800.0</td><td>3840.0</td><td>1.875</td><td>37.5</td><td>98.81309245345668</td><td>2</td><td>16.0</td><td>16.0</td><td>32.0</td><td>2.0</td><td>8</td><td>8</td><td>16</td><td>958.5</td><td>71.0</td><td>2.908026293462571</td><td>324.0</td><td>24.0</td><td>0.9829948034239677</td><td>648.0</td><td>48.0</td><td>1.9659896068479354</td><td>3.072</td><td>2086.0</td><td>6172.0</td><td>3086.0</td><td>16688.0</td><td>16688.0</td><td>33376.0</td><td>49376.0</td><td>49376.0</td><td>98752.0</td><td>24688.0</td><td>24688.0</td><td>49376.0</td><td>0.16192186280918575</td><td>0.16192186280918575</td><td>0.3238437256183715</td><td>0.020240232851148218</td><td>1081.0</td><td>1225.0</td><td>2145.0</td><td>129.0898</td><td>2021.1.01543.S</td><td>ACT-S_J0_c_03_TM1</td><td>6.048</td><td>5.0</td><td>1512.0</td><td>0.0</td><td>302.4</td><td>0.0</td><td>0.0</td><td>756.0</td><td>756.0</td><td>2570.4</td><td>1814.4</td></tr>\n",
       "<tr><td>uid://A001/X158f/X146</td><td>2021.1.01543.S</td><td>uid://A001/X158f/X145</td><td>ACT-S_J2_a_03_TM1</td><td>12m</td><td>Sub-mm Galaxies (SMG), Gravitational lenses</td><td>Galaxy evolution</td><td>47</td><td>50</td><td>66</td><td>3.0</td><td>1.0</td><td>ACT-S_J2114.9+0557</td><td>0.016372897494422896</td><td>2.67464628092988</td><td>F</td><td>170.0</td><td>59.27895218491757</td><td>0.534929256185976</td><td>2</td><td>20</td><td>965.8202663709701</td><td>98.79045596738686</td><td>2.6250367912778914</td><td>76800.0</td><td>3840.0</td><td>1.875</td><td>37.5</td><td>98.79045596738686</td><td>2</td><td>16.0</td><td>16.0</td><td>32.0</td><td>2.0</td><td>8</td><td>8</td><td>16</td><td>958.5</td><td>71.0</td><td>2.90869262803951</td><td>324.0</td><td>24.0</td><td>0.9832200432809611</td><td>648.0</td><td>48.0</td><td>1.9664400865619223</td><td>3.072</td><td>2086.0</td><td>6172.0</td><td>3086.0</td><td>16688.0</td><td>16688.0</td><td>33376.0</td><td>49376.0</td><td>49376.0</td><td>98752.0</td><td>24688.0</td><td>24688.0</td><td>49376.0</td><td>0.16195896499639592</td><td>0.16195896499639592</td><td>0.32391792999279184</td><td>0.02024487062454949</td><td>1081.0</td><td>1225.0</td><td>2145.0</td><td>134.33105</td><td>2021.1.01543.S</td><td>ACT-S_J2_a_03_TM1</td><td>6.048</td><td>5.0</td><td>3024.0</td><td>0.0</td><td>604.8</td><td>0.0</td><td>0.0</td><td>1512.0</td><td>1512.0</td><td>5140.8</td><td>3628.8</td></tr>\n",
       "<tr><td>uid://A001/X158f/X14a</td><td>2021.1.01543.S</td><td>uid://A001/X158f/X149</td><td>ACT-S_J2_b_03_TM1</td><td>12m</td><td>Sub-mm Galaxies (SMG), Gravitational lenses</td><td>Galaxy evolution</td><td>47</td><td>50</td><td>66</td><td>3.0</td><td>1.0</td><td>ACT-S_J2154.4-0410</td><td>0.016371873969355813</td><td>2.882049505691609</td><td>F</td><td>160.0</td><td>59.27518769807356</td><td>0.5764099011383215</td><td>2</td><td>20</td><td>965.8816056364767</td><td>98.79673000386387</td><td>2.625036791277892</td><td>76800.0</td><td>3840.0</td><td>1.875</td><td>37.5</td><td>98.79673000386387</td><td>2</td><td>16.0</td><td>16.0</td><td>32.0</td><td>2.0</td><td>8</td><td>8</td><td>16</td><td>958.5</td><td>71.0</td><td>2.9085079129821594</td><td>324.0</td><td>24.0</td><td>0.9831576043883354</td><td>648.0</td><td>48.0</td><td>1.9663152087766709</td><td>3.072</td><td>2086.0</td><td>6172.0</td><td>3086.0</td><td>16688.0</td><td>16688.0</td><td>33376.0</td><td>49376.0</td><td>49376.0</td><td>98752.0</td><td>24688.0</td><td>24688.0</td><td>49376.0</td><td>0.16194867987406314</td><td>0.16194867987406314</td><td>0.3238973597481263</td><td>0.020243584984257892</td><td>1081.0</td><td>1225.0</td><td>2145.0</td><td>123.74107</td><td>2021.1.01543.S</td><td>ACT-S_J2_b_03_TM1</td><td>6.048</td><td>5.0</td><td>3024.0</td><td>0.0</td><td>604.8</td><td>0.0</td><td>0.0</td><td>1512.0</td><td>1512.0</td><td>5140.8</td><td>3628.8</td></tr>\n",
       "<tr><td>uid://A001/X158f/X162</td><td>2021.1.01543.S</td><td>uid://A001/X158f/X161</td><td>ACT-S_J0_e_03_TM1</td><td>12m</td><td>Sub-mm Galaxies (SMG), Gravitational lenses</td><td>Galaxy evolution</td><td>47</td><td>50</td><td>66</td><td>3.0</td><td>1.0</td><td>ACT-S_J0244.6+1501</td><td>0.016369206884524156</td><td>3.2665774476859673</td><td>F</td><td>140.0</td><td>59.26559013413854</td><td>0.6533154895371936</td><td>2</td><td>20</td><td>7728.149946101046</td><td>98.81272931497574</td><td>20.99829231870792</td><td>4800.0</td><td>240.0</td><td>1.875</td><td>37.5</td><td>98.81272931497574</td><td>2</td><td>16.0</td><td>16.0</td><td>32.0</td><td>2.0</td><td>8</td><td>8</td><td>16</td><td>7722.0</td><td>572.0</td><td>23.428128913398474</td><td>3294.0</td><td>244.0</td><td>9.993817228792356</td><td>3294.0</td><td>244.0</td><td>9.993817228792356</td><td>3.072</td><td>259.0</td><td>607.0</td><td>607.0</td><td>2072.0</td><td>2072.0</td><td>4144.0</td><td>4856.0</td><td>4856.0</td><td>9712.0</td><td>4856.0</td><td>4856.0</td><td>9712.0</td><td>0.1619224578748185</td><td>0.1619224578748185</td><td>0.323844915749637</td><td>0.02024030723435231</td><td>1081.0</td><td>1225.0</td><td>2145.0</td><td>109.96343</td><td>2021.1.01543.S</td><td>ACT-S_J0_e_03_TM1</td><td>6.048</td><td>5.0</td><td>1512.0</td><td>0.0</td><td>302.4</td><td>0.0</td><td>0.0</td><td>756.0</td><td>756.0</td><td>2570.4</td><td>1814.4</td></tr>\n",
       "<tr><td>...</td><td>...</td><td>...</td><td>...</td><td>...</td><td>...</td><td>...</td><td>...</td><td>...</td><td>...</td><td>...</td><td>...</td><td>...</td><td>...</td><td>...</td><td>...</td><td>...</td><td>...</td><td>...</td><td>...</td><td>...</td><td>...</td><td>...</td><td>...</td><td>...</td><td>...</td><td>...</td><td>...</td><td>...</td><td>...</td><td>...</td><td>...</td><td>...</td><td>...</td><td>...</td><td>...</td><td>...</td><td>...</td><td>...</td><td>...</td><td>...</td><td>...</td><td>...</td><td>...</td><td>...</td><td>...</td><td>...</td><td>...</td><td>...</td><td>...</td><td>...</td><td>...</td><td>...</td><td>...</td><td>...</td><td>...</td><td>...</td><td>...</td><td>...</td><td>...</td><td>...</td><td>...</td><td>...</td><td>...</td><td>...</td><td>...</td><td>...</td><td>...</td><td>...</td><td>...</td><td>...</td><td>...</td><td>...</td><td>...</td><td>...</td><td>...</td><td>...</td><td>...</td><td>...</td><td>...</td></tr>\n",
       "<tr><td>uid://A001/X2dfa/X1a6</td><td>2021.1.00657.T</td><td>uid://A001/X2dfa/X1a5</td><td>GRB_pol1_a_03_TM1</td><td>12m</td><td>Transients</td><td>Stars and stellar evolution</td><td>47</td><td>50</td><td>66</td><td>3.0</td><td>1.0</td><td>GRB_220921A</td><td>0.016589200057329435</td><td>1.5710240354182818</td><td>F</td><td>290.0</td><td>59.93456257142128</td><td>0.3142048070836564</td><td>4</td><td>4</td><td>61829.15353991239</td><td>97.48674216621754</td><td>181.04349501259708</td><td>256.0</td><td>64.0</td><td>2.0</td><td>8.0</td><td>97.48674216621754</td><td>4</td><td>16.0</td><td>16.0</td><td>32.0</td><td>2.0</td><td>8</td><td>8</td><td>16</td><td>61816.5</td><td>4579.0</td><td>190.0988797877688</td><td>3240.0</td><td>240.0</td><td>9.96368882923444</td><td>3240.0</td><td>240.0</td><td>9.96368882923444</td><td>3.072</td><td>32.0</td><td>617.0</td><td>617.0</td><td>256.0</td><td>256.0</td><td>512.0</td><td>4936.0</td><td>4936.0</td><td>9872.0</td><td>4936.0</td><td>4936.0</td><td>9872.0</td><td>0.1641248814399764</td><td>0.1641248814399764</td><td>0.3282497628799528</td><td>0.02051561017999705</td><td>1081.0</td><td>1225.0</td><td>2145.0</td><td>229.91562</td><td>2021.1.00657.T</td><td>GRB_pol1_a_03_TM1</td><td>2.016</td><td>1.0</td><td>604.8</td><td>0.0</td><td>393.12</td><td>846.72</td><td>0.0</td><td>4777.92</td><td>4777.92</td><td>6622.5599999999995</td><td>1844.6399999999999</td></tr>\n",
       "<tr><td>uid://A001/X2dfa/X31</td><td>2021.A.00026.S</td><td>uid://A001/X2dfa/X30</td><td>SN2018iv_a_03_TM1</td><td>12m</td><td>Supernovae (SN) ejecta, Transients</td><td>Stars and stellar evolution</td><td>47</td><td>50</td><td>66</td><td>3.0</td><td>1.0</td><td>SN2018ivc</td><td>0.01617571736123677</td><td>0.6673839526848321</td><td>F</td><td>670.0</td><td>58.42916113372068</td><td>0.13347679053696643</td><td>2</td><td>4</td><td>30918.55801024583</td><td>99.97907608523947</td><td>88.39320752767087</td><td>512.0</td><td>128.0</td><td>2.0</td><td>8.0</td><td>99.97907608523947</td><td>2</td><td>16.0</td><td>16.0</td><td>32.0</td><td>2.0</td><td>8</td><td>8</td><td>16</td><td>30915.0</td><td>2290.0</td><td>92.70023490883513</td><td>3334.5</td><td>247.0</td><td>9.998671625538112</td><td>3334.5</td><td>247.0</td><td>9.998671625538112</td><td>3.072</td><td>64.0</td><td>599.0</td><td>599.0</td><td>512.0</td><td>512.0</td><td>1024.0</td><td>4792.0</td><td>4792.0</td><td>9584.0</td><td>4792.0</td><td>4792.0</td><td>9584.0</td><td>0.1600334852700462</td><td>0.1600334852700462</td><td>0.3200669705400924</td><td>0.020004185658755776</td><td>1081.0</td><td>1225.0</td><td>2145.0</td><td>531.8683</td><td>2021.A.00026.S</td><td>SN2018iv_a_03_TM1</td><td>2.016</td><td>1.0</td><td>302.4</td><td>0.0</td><td>60.48</td><td>0.0</td><td>0.0</td><td>302.4</td><td>302.4</td><td>665.28</td><td>362.88</td></tr>\n",
       "<tr><td>uid://A001/X2dfa/X35</td><td>2021.A.00026.S</td><td>uid://A001/X2dfa/X34</td><td>SN2018iv_a_06_TM1</td><td>12m</td><td>Supernovae (SN) ejecta, Transients</td><td>Stars and stellar evolution</td><td>47</td><td>50</td><td>66</td><td>6.0</td><td>1.0</td><td>SN2018ivc</td><td>0.006470287779124912</td><td>0.2615351333141033</td><td>F</td><td>690.0</td><td>23.30547607272075</td><td>0.05230702666282065</td><td>2</td><td>4</td><td>31120.21908426349</td><td>249.98671839607223</td><td>36.31097144587433</td><td>512.0</td><td>128.0</td><td>2.0</td><td>8.0</td><td>249.98671839607223</td><td>2</td><td>16.0</td><td>16.0</td><td>32.0</td><td>2.0</td><td>8</td><td>8</td><td>16</td><td>31117.5</td><td>2305.0</td><td>37.31714977367203</td><td>8329.5</td><td>617.0</td><td>9.989015796249735</td><td>8329.5</td><td>617.0</td><td>9.989015796249735</td><td>3.072</td><td>64.0</td><td>240.0</td><td>240.0</td><td>512.0</td><td>512.0</td><td>1024.0</td><td>1920.0</td><td>1920.0</td><td>3840.0</td><td>1920.0</td><td>1920.0</td><td>3840.0</td><td>0.06400340027124973</td><td>0.06400340027124973</td><td>0.12800680054249947</td><td>0.008000425033906217</td><td>1081.0</td><td>1225.0</td><td>2145.0</td><td>542.88806</td><td>2021.A.00026.S</td><td>SN2018iv_a_06_TM1</td><td>2.016</td><td>1.0</td><td>302.4</td><td>0.0</td><td>90.72</td><td>0.0</td><td>60.48</td><td>574.56</td><td>574.56</td><td>1028.1599999999999</td><td>453.6</td></tr>\n",
       "<tr><td>uid://A001/X2dfa/X3b</td><td>2021.A.00030.S</td><td>uid://A001/X2dfa/X3a</td><td>J0410_a_06_TM1</td><td>12m</td><td>High-z Active Galactic Nuclei (AGN)</td><td>Active galaxies</td><td>47</td><td>50</td><td>66</td><td>6.0</td><td>1.0</td><td>J0410</td><td>0.006994215289678344</td><td>0.4459354268065195</td><td>F</td><td>430.0</td><td>25.191705300323946</td><td>0.0891870853613039</td><td>2</td><td>4</td><td>7779.1514907499895</td><td>231.25939830567333</td><td>9.81868747324187</td><td>960.0</td><td>240.0</td><td>1.875</td><td>7.5</td><td>231.25939830567333</td><td>2</td><td>16.0</td><td>16.0</td><td>32.0</td><td>2.0</td><td>8</td><td>8</td><td>16</td><td>7776.0</td><td>576.0</td><td>10.080395307120412</td><td>769.5</td><td>57.0</td><td>0.9975391189337909</td><td>1539.0</td><td>114.0</td><td>1.9950782378675818</td><td>3.072</td><td>257.0</td><td>2599.0</td><td>1299.0</td><td>2056.0</td><td>2056.0</td><td>4112.0</td><td>20792.0</td><td>20792.0</td><td>41584.0</td><td>10392.0</td><td>10392.0</td><td>20784.0</td><td>0.06918637736336047</td><td>0.06918637736336047</td><td>0.13837275472672095</td><td>0.00864829717042006</td><td>1081.0</td><td>1225.0</td><td>2145.0</td><td>337.97833</td><td>2021.A.00030.S</td><td>J0410_a_06_TM1</td><td>6.048</td><td>1.0</td><td>1512.0</td><td>0.0</td><td>756.0</td><td>0.0</td><td>0.0</td><td>8830.08</td><td>8830.08</td><td>11098.08</td><td>2268.0</td></tr>\n",
       "<tr><td>uid://A001/X2dfa/X7d</td><td>2021.A.00031.S</td><td>uid://A001/X2dfa/X7c</td><td>S5_z17_a_1_07_TM1</td><td>12m</td><td>Lyman Alpha Emitters/Blobs (LAE/LAB), Sub-mm Galaxies (SMG)</td><td>Galaxy evolution</td><td>47</td><td>50</td><td>66</td><td>7.0</td><td>1.0</td><td>S5_z17_1</td><td>0.004729663751037771</td><td>0.49239980824463386</td><td>F</td><td>270.0</td><td>17.024344790855686</td><td>0.09847996164892678</td><td>2</td><td>4</td><td>31156.484611738135</td><td>341.9719024574107</td><td>26.921950358357705</td><td>512.0</td><td>128.0</td><td>2.0</td><td>8.0</td><td>341.9719024574107</td><td>2</td><td>8.0</td><td>16.0</td><td>32.0</td><td>2.0</td><td>4</td><td>8</td><td>16</td><td>31144.5</td><td>2307.0</td><td>27.30307999308165</td><td>11394.0</td><td>844.0</td><td>9.988643049051111</td><td>11394.0</td><td>844.0</td><td>9.988643049051111</td><td>3.072</td><td>64.0</td><td>175.0</td><td>175.0</td><td>256.0</td><td>512.0</td><td>1024.0</td><td>700.0</td><td>1400.0</td><td>2800.0</td><td>700.0</td><td>1400.0</td><td>2800.0</td><td>0.023393734814211302</td><td>0.046787469628422604</td><td>0.09357493925684521</td><td>0.0058484337035528255</td><td>1081.0</td><td>1225.0</td><td>2145.0</td><td>210.78053</td><td>2021.A.00031.S</td><td>S5_z17_a_1_07_TM1</td><td>2.016</td><td>1.0</td><td>604.8</td><td>0.0</td><td>120.96</td><td>0.0</td><td>0.0</td><td>677.376</td><td>677.376</td><td>1403.136</td><td>725.76</td></tr>\n",
       "<tr><td>uid://A001/X2dfa/X81</td><td>2021.A.00031.S</td><td>uid://A001/X2dfa/X80</td><td>S5_z17_b_1_07_TM1</td><td>12m</td><td>Lyman Alpha Emitters/Blobs (LAE/LAB), Sub-mm Galaxies (SMG)</td><td>Galaxy evolution</td><td>47</td><td>50</td><td>66</td><td>7.0</td><td>1.0</td><td>S5_z17_1</td><td>0.0046749855612464005</td><td>0.4862921449100933</td><td>F</td><td>270.0</td><td>16.827399874261154</td><td>0.09725842898201867</td><td>2</td><td>4</td><td>31157.562751841728</td><td>345.9717562903143</td><td>26.61600144156713</td><td>512.0</td><td>128.0</td><td>2.0</td><td>8.0</td><td>345.9717562903143</td><td>2</td><td>8.0</td><td>16.0</td><td>32.0</td><td>2.0</td><td>4</td><td>8</td><td>16</td><td>31144.5</td><td>2307.0</td><td>26.987423217131525</td><td>11529.0</td><td>854.0</td><td>9.99014279472489</td><td>11529.0</td><td>854.0</td><td>9.99014279472489</td><td>3.072</td><td>64.0</td><td>173.0</td><td>173.0</td><td>256.0</td><td>512.0</td><td>1024.0</td><td>692.0</td><td>1384.0</td><td>2768.0</td><td>692.0</td><td>1384.0</td><td>2768.0</td><td>0.023123274818095216</td><td>0.04624654963619043</td><td>0.09249309927238086</td><td>0.005780818704523804</td><td>1081.0</td><td>1225.0</td><td>2145.0</td><td>210.9593</td><td>2021.A.00031.S</td><td>S5_z17_b_1_07_TM1</td><td>2.016</td><td>1.0</td><td>302.4</td><td>0.0</td><td>60.48</td><td>0.0</td><td>0.0</td><td>338.688</td><td>338.688</td><td>701.568</td><td>362.88</td></tr>\n",
       "<tr><td>uid://A001/X2dfa/X85</td><td>2021.A.00031.S</td><td>uid://A001/X2dfa/X84</td><td>S5_z17_c_1_07_TM1</td><td>12m</td><td>Lyman Alpha Emitters/Blobs (LAE/LAB), Sub-mm Galaxies (SMG)</td><td>Galaxy evolution</td><td>47</td><td>50</td><td>66</td><td>7.0</td><td>1.0</td><td>S5_z17_1</td><td>0.004621557161354669</td><td>0.4811240330029407</td><td>F</td><td>270.0</td><td>16.634960910677357</td><td>0.09622480660058814</td><td>2</td><td>4</td><td>31158.626091286704</td><td>349.9716099065537</td><td>26.316936747390976</td><td>512.0</td><td>128.0</td><td>2.0</td><td>8.0</td><td>349.9716099065537</td><td>2</td><td>8.0</td><td>16.0</td><td>32.0</td><td>2.0</td><td>4</td><td>8</td><td>16</td><td>31158.0</td><td>2308.0</td><td>26.690546152752596</td><td>11664.0</td><td>864.0</td><td>9.991608265155216</td><td>11664.0</td><td>864.0</td><td>9.991608265155216</td><td>3.072</td><td>64.0</td><td>171.0</td><td>171.0</td><td>256.0</td><td>512.0</td><td>1024.0</td><td>684.0</td><td>1368.0</td><td>2736.0</td><td>684.0</td><td>1368.0</td><td>2736.0</td><td>0.022858997054464186</td><td>0.04571799410892837</td><td>0.09143598821785674</td><td>0.005714749263616046</td><td>1081.0</td><td>1225.0</td><td>2145.0</td><td>210.78885</td><td>2021.A.00031.S</td><td>S5_z17_c_1_07_TM1</td><td>2.016</td><td>1.0</td><td>302.4</td><td>0.0</td><td>60.48</td><td>0.0</td><td>0.0</td><td>338.688</td><td>338.688</td><td>701.568</td><td>362.88</td></tr>\n",
       "<tr><td>uid://A001/X2dfa/X8b</td><td>2021.1.01209.S</td><td>uid://A001/X2dfa/X8a</td><td>Wolf_359_d_06_7M</td><td>7m</td><td>Main sequence stars</td><td>Stars and stellar evolution</td><td>10</td><td>12</td><td>16</td><td>6.0</td><td>1.0</td><td>Wolf_359</td><td>0.011945137906881832</td><td>5.090876921859115</td><td>F</td><td>60.0</td><td>42.92689687201506</td><td>1.018175384371823</td><td>2</td><td>4</td><td>31112.220139350786</td><td>233.00021471966954</td><td>38.87224355701299</td><td>512.0</td><td>128.0</td><td>2.0</td><td>8.0</td><td>233.00021471966954</td><td>2</td><td>16.0</td><td>16.0</td><td>32.0</td><td>2.0</td><td>8</td><td>8</td><td>16</td><td>31104.0</td><td>2304.0</td><td>40.020326268157795</td><td>7762.5</td><td>575.0</td><td>9.987711633763341</td><td>7762.5</td><td>575.0</td><td>9.987711633763341</td><td>9.984</td><td>64.0</td><td>257.0</td><td>257.0</td><td>512.0</td><td>512.0</td><td>1024.0</td><td>2056.0</td><td>2056.0</td><td>4112.0</td><td>2056.0</td><td>2056.0</td><td>4112.0</td><td>0.06866946461508691</td><td>0.06866946461508691</td><td>0.13733892923017382</td><td>0.008583683076885864</td><td>45.0</td><td>66.0</td><td>120.0</td><td>29.922184</td><td>2021.1.01209.S</td><td>Wolf_359_d_06_7M</td><td>1.008</td><td>1.0</td><td>1814.3999999999999</td><td>0.0</td><td>1451.52</td><td>0.0</td><td>0.0</td><td>8996.400000000001</td><td>8996.400000000001</td><td>12262.320000000002</td><td>3265.92</td></tr>\n",
       "</table></div>"
      ],
      "text/plain": [
       "<QTable length=10843>\n",
       "         mous          proposal_id   ...      time_tot           cal_time     \n",
       "                                     ...         s                  s         \n",
       "        str22             str14      ...      float64            float64      \n",
       "--------------------- -------------- ... ------------------ ------------------\n",
       "uid://A001/X158f/X111 2021.1.01571.S ...                ———                ———\n",
       "uid://A001/X158f/X115 2021.1.01571.S ...             846.72             393.12\n",
       "uid://A001/X158f/X13a 2021.1.01543.S ...             5140.8             3628.8\n",
       "uid://A001/X158f/X13e 2021.1.01543.S ...                ———                ———\n",
       "uid://A001/X158f/X142 2021.1.01543.S ...             2570.4             1814.4\n",
       "uid://A001/X158f/X146 2021.1.01543.S ...             5140.8             3628.8\n",
       "uid://A001/X158f/X14a 2021.1.01543.S ...             5140.8             3628.8\n",
       "uid://A001/X158f/X162 2021.1.01543.S ...             2570.4             1814.4\n",
       "                  ...            ... ...                ...                ...\n",
       "uid://A001/X2dfa/X1a6 2021.1.00657.T ... 6622.5599999999995 1844.6399999999999\n",
       " uid://A001/X2dfa/X31 2021.A.00026.S ...             665.28             362.88\n",
       " uid://A001/X2dfa/X35 2021.A.00026.S ... 1028.1599999999999              453.6\n",
       " uid://A001/X2dfa/X3b 2021.A.00030.S ...           11098.08             2268.0\n",
       " uid://A001/X2dfa/X7d 2021.A.00031.S ...           1403.136             725.76\n",
       " uid://A001/X2dfa/X81 2021.A.00031.S ...            701.568             362.88\n",
       " uid://A001/X2dfa/X85 2021.A.00031.S ...            701.568             362.88\n",
       " uid://A001/X2dfa/X8b 2021.1.01209.S ... 12262.320000000002            3265.92"
      ]
     },
     "execution_count": 48,
     "metadata": {},
     "output_type": "execute_result"
    }
   ],
   "source": [
    "result_c8_tos"
   ]
  },
  {
   "cell_type": "code",
   "execution_count": 49,
   "id": "0c352860",
   "metadata": {},
   "outputs": [
    {
     "data": {
      "text/plain": [
       "<TableColumns names=('mous','proposal_id','gous','schedblock_name','array','science_keyword','scientific_category','nant_typical','nant_array','nant_all','band','ntarget','target_name','s_fov','s_resolution','mosaic','imsize','pb','cell','blc_npol','blc_nspw','blc_specwidth','blc_freq','blc_velres','blc_nchan_agg','blc_nchan_max','blc_bandwidth_max','blc_bandwidth_agg','wsu_freq','wsu_npol','wsu_bandwidth_early','wsu_bandwidth_later_2x','wsu_bandwidth_later_4x','wsu_bandwidth_spw','wsu_nspw_early','wsu_nspw_later_2x','wsu_nspw_later_4x','wsu_specwidth_finest','wsu_chanavg_finest','wsu_velres_finest','wsu_specwidth_stepped','wsu_chanavg_stepped','wsu_velres_stepped','wsu_specwidth_stepped2','wsu_chanavg_stepped2','wsu_velres_stepped2','wsu_tint','wsu_nchan_spw_finest','wsu_nchan_spw_stepped','wsu_nchan_spw_stepped2','wsu_nchan_agg_finest_early','wsu_nchan_agg_finest_later_2x','wsu_nchan_agg_finest_later_4x','wsu_nchan_agg_stepped_early','wsu_nchan_agg_stepped_later_2x','wsu_nchan_agg_stepped_later_4x','wsu_nchan_agg_stepped2_early','wsu_nchan_agg_stepped2_later_2x','wsu_nchan_agg_stepped2_later_4x','wsu_frac_bw_early','wsu_frac_bw_later_2x','wsu_frac_bw_later_4x','wsu_frac_bw_spw','nbase_typical','nbase_array','nbase_all','L80','Project','SB_name','blc_tint','blc_ntunings','bp_time','flux_time','phase_time','pol_time','check_time','target_time','target_time_tot','time_tot','cal_time')>"
      ]
     },
     "execution_count": 49,
     "metadata": {},
     "output_type": "execute_result"
    }
   ],
   "source": [
    "result_c8_tos.columns"
   ]
  },
  {
   "cell_type": "markdown",
   "id": "74e4c13a",
   "metadata": {},
   "source": [
    "## Adding in data rates"
   ]
  },
  {
   "cell_type": "code",
   "execution_count": 50,
   "id": "600af55e",
   "metadata": {},
   "outputs": [
    {
     "data": {
      "text/plain": [
       "<module 'wsu_db' from '/Users/akepley/Dropbox/Support/naasc/WSU/big_cubes/wsu_db.py'>"
      ]
     },
     "execution_count": 50,
     "metadata": {},
     "output_type": "execute_result"
    }
   ],
   "source": [
    "reload(large_cubes)\n",
    "reload(wsu_db)"
   ]
  },
  {
   "cell_type": "code",
   "execution_count": 51,
   "id": "e56ca026",
   "metadata": {},
   "outputs": [
    {
     "data": {
      "text/plain": [
       "11519"
      ]
     },
     "execution_count": 51,
     "metadata": {},
     "output_type": "execute_result"
    }
   ],
   "source": [
    "len(result_tos)"
   ]
  },
  {
   "cell_type": "code",
   "execution_count": 52,
   "id": "a834b556",
   "metadata": {
    "scrolled": false
   },
   "outputs": [],
   "source": [
    "wsu_db.add_rates_to_db(result_tos)"
   ]
  },
  {
   "cell_type": "code",
   "execution_count": 53,
   "id": "448aca8f",
   "metadata": {},
   "outputs": [],
   "source": [
    "wsu_db.add_rates_to_db(result_c8_tos)"
   ]
  },
  {
   "cell_type": "markdown",
   "id": "c87b8a2a",
   "metadata": {},
   "source": [
    "## adding cycle information"
   ]
  },
  {
   "cell_type": "code",
   "execution_count": 54,
   "id": "89a8796b",
   "metadata": {},
   "outputs": [],
   "source": [
    "cycle_info = np.full(len(result_tos),'cycle7')\n",
    "result_tos['cycle_info'] = cycle_info"
   ]
  },
  {
   "cell_type": "code",
   "execution_count": 55,
   "id": "979b0460",
   "metadata": {},
   "outputs": [],
   "source": [
    "cycle_info = np.full(len(result_c8_tos),'cycle8')\n",
    "result_c8_tos['cycle_info'] = cycle_info"
   ]
  },
  {
   "cell_type": "markdown",
   "id": "a6257f0b",
   "metadata": {},
   "source": [
    "## fix up science categories"
   ]
  },
  {
   "cell_type": "code",
   "execution_count": 56,
   "id": "9aa09356",
   "metadata": {},
   "outputs": [],
   "source": [
    "reload(wsu_db)\n",
    "wsu_db.fix_scientific_categories(result_tos)"
   ]
  },
  {
   "cell_type": "code",
   "execution_count": 57,
   "id": "34c3e3f9",
   "metadata": {},
   "outputs": [],
   "source": [
    "wsu_db.fix_scientific_categories(result_c8_tos)"
   ]
  },
  {
   "cell_type": "code",
   "execution_count": 58,
   "id": "a1193a17",
   "metadata": {},
   "outputs": [
    {
     "data": {
      "text/html": [
       "&lt;Column name=&apos;scientific_category_proposal&apos; dtype=&apos;str52&apos; length=5&gt;\n",
       "<table>\n",
       "<tr><td>Circumstellar disks, exoplanets and the solar system</td></tr>\n",
       "<tr><td>Cosmology and the high redshift Universe</td></tr>\n",
       "<tr><td>Galaxies and galactic nuclei</td></tr>\n",
       "<tr><td>ISM, star formation and astrochemistry</td></tr>\n",
       "<tr><td>Stellar evolution and the Sun</td></tr>\n",
       "</table>"
      ],
      "text/plain": [
       "<Column name='scientific_category_proposal' dtype='str52' length=5>\n",
       "Circumstellar disks, exoplanets and the solar system\n",
       "            Cosmology and the high redshift Universe\n",
       "                        Galaxies and galactic nuclei\n",
       "              ISM, star formation and astrochemistry\n",
       "                       Stellar evolution and the Sun"
      ]
     },
     "execution_count": 58,
     "metadata": {},
     "output_type": "execute_result"
    }
   ],
   "source": [
    "np.unique(result_tos['scientific_category_proposal'])"
   ]
  },
  {
   "cell_type": "markdown",
   "id": "49b7fc9e",
   "metadata": {},
   "source": [
    "# creating per mous version of data base"
   ]
  },
  {
   "cell_type": "markdown",
   "id": "e6dde6dd",
   "metadata": {},
   "source": [
    "This is going to be more useful for the DMGs as well as for combining with mitigation information (which is per MOUS). But I don't think the fractions of time are going to be useful, so I'll leave them off and recalculate.\n",
    "\n",
    "I think that the path forward uses the group_by function and aggregation to get values."
   ]
  },
  {
   "cell_type": "code",
   "execution_count": 82,
   "id": "b2a55486",
   "metadata": {},
   "outputs": [
    {
     "data": {
      "text/plain": [
       "<module 'wsu_db' from '/Users/akepley/Dropbox/Support/naasc/WSU/big_cubes/wsu_db.py'>"
      ]
     },
     "execution_count": 82,
     "metadata": {},
     "output_type": "execute_result"
    }
   ],
   "source": [
    "reload(wsu_db)"
   ]
  },
  {
   "cell_type": "code",
   "execution_count": 59,
   "id": "449ad98c",
   "metadata": {
    "scrolled": false
   },
   "outputs": [
    {
     "name": "stdout",
     "output_type": "stream",
     "text": [
      "Taking first value. Key aggregation not specified: mous\n",
      "Taking first value. Key aggregation not specified: proposal_id\n",
      "Taking first value. Key aggregation not specified: gous\n",
      "Taking first value. Key aggregation not specified: schedblock_name\n",
      "Taking first value. Key aggregation not specified: array\n",
      "Taking first value. Key aggregation not specified: science_keyword\n",
      "Taking first value. Key aggregation not specified: scientific_category_proposal\n",
      "Taking first value. Key aggregation not specified: scientific_category\n",
      "Taking first value. Key aggregation not specified: nant_typical\n",
      "Taking first value. Key aggregation not specified: nant_array\n",
      "Taking first value. Key aggregation not specified: nant_all\n",
      "Taking first value. Key aggregation not specified: band\n",
      "Taking first value. Key aggregation not specified: ntarget\n",
      "Taking first value. Key aggregation not specified: target_name\n",
      "Taking first value. Key aggregation not specified: mosaic\n",
      "Taking first value. Key aggregation not specified: blc_npol\n",
      "Taking first value. Key aggregation not specified: blc_nspw\n",
      "Taking first value. Key aggregation not specified: blc_nchan_agg\n",
      "Taking first value. Key aggregation not specified: blc_nchan_max\n",
      "Taking first value. Key aggregation not specified: blc_bandwidth_max\n",
      "Taking first value. Key aggregation not specified: blc_bandwidth_agg\n",
      "Taking first value. Key aggregation not specified: wsu_npol\n",
      "Taking first value. Key aggregation not specified: wsu_bandwidth_early\n",
      "Taking first value. Key aggregation not specified: wsu_bandwidth_later_2x\n",
      "Taking first value. Key aggregation not specified: wsu_bandwidth_later_4x\n",
      "Taking first value. Key aggregation not specified: wsu_bandwidth_spw\n",
      "Taking first value. Key aggregation not specified: wsu_nspw_early\n",
      "Taking first value. Key aggregation not specified: wsu_nspw_later_2x\n",
      "Taking first value. Key aggregation not specified: wsu_nspw_later_4x\n",
      "Taking first value. Key aggregation not specified: wsu_tint\n",
      "Taking first value. Key aggregation not specified: wsu_frac_bw_early\n",
      "Taking first value. Key aggregation not specified: wsu_frac_bw_later_2x\n",
      "Taking first value. Key aggregation not specified: wsu_frac_bw_later_4x\n",
      "Taking first value. Key aggregation not specified: wsu_frac_bw_spw\n",
      "Taking first value. Key aggregation not specified: nbase_typical\n",
      "Taking first value. Key aggregation not specified: nbase_array\n",
      "Taking first value. Key aggregation not specified: nbase_all\n",
      "Taking first value. Key aggregation not specified: L80\n",
      "Taking first value. Key aggregation not specified: Project\n",
      "Taking first value. Key aggregation not specified: SB_name\n",
      "Taking first value. Key aggregation not specified: blc_tint\n",
      "Taking first value. Key aggregation not specified: blc_ntunings\n",
      "Taking first value. Key aggregation not specified: bp_time\n",
      "Taking first value. Key aggregation not specified: flux_time\n",
      "Taking first value. Key aggregation not specified: phase_time\n",
      "Taking first value. Key aggregation not specified: pol_time\n",
      "Taking first value. Key aggregation not specified: check_time\n",
      "Taking first value. Key aggregation not specified: target_time\n",
      "Taking first value. Key aggregation not specified: target_time_tot\n",
      "Taking first value. Key aggregation not specified: time_tot\n",
      "Taking first value. Key aggregation not specified: cal_time\n",
      "Taking first value. Key aggregation not specified: wsu_datavol_early_stepped2_typical_target\n",
      "Taking first value. Key aggregation not specified: wsu_datavol_early_stepped2_typical_target_tot\n",
      "Taking first value. Key aggregation not specified: wsu_datavol_early_stepped2_typical_cal\n",
      "Taking first value. Key aggregation not specified: wsu_datavol_early_stepped2_typical_total\n",
      "Taking first value. Key aggregation not specified: wsu_nvis_early_stepped2_typical_target\n",
      "Taking first value. Key aggregation not specified: wsu_nvis_early_stepped2_typical_target_tot\n",
      "Taking first value. Key aggregation not specified: wsu_nvis_early_stepped2_typical_cal\n",
      "Taking first value. Key aggregation not specified: wsu_nvis_early_stepped2_typical_total\n",
      "Taking first value. Key aggregation not specified: blc_datarate_typical\n",
      "Taking first value. Key aggregation not specified: blc_visrate_typical\n",
      "Taking first value. Key aggregation not specified: blc_datavol_typical_target\n",
      "Taking first value. Key aggregation not specified: blc_datavol_typical_target_tot\n",
      "Taking first value. Key aggregation not specified: blc_datavol_typical_cal\n",
      "Taking first value. Key aggregation not specified: blc_datavol_typical_total\n",
      "Taking first value. Key aggregation not specified: blc_nvis_typical_target\n",
      "Taking first value. Key aggregation not specified: blc_nvis_typical_target_tot\n",
      "Taking first value. Key aggregation not specified: blc_nvis_typical_cal\n",
      "Taking first value. Key aggregation not specified: blc_nvis_typical_total\n",
      "Taking first value. Key aggregation not specified: wsu_datavol_early_stepped2_array_target\n",
      "Taking first value. Key aggregation not specified: wsu_datavol_early_stepped2_array_target_tot\n",
      "Taking first value. Key aggregation not specified: wsu_datavol_early_stepped2_array_cal\n",
      "Taking first value. Key aggregation not specified: wsu_datavol_early_stepped2_array_total\n",
      "Taking first value. Key aggregation not specified: wsu_nvis_early_stepped2_array_target\n",
      "Taking first value. Key aggregation not specified: wsu_nvis_early_stepped2_array_target_tot\n",
      "Taking first value. Key aggregation not specified: wsu_nvis_early_stepped2_array_cal\n",
      "Taking first value. Key aggregation not specified: wsu_nvis_early_stepped2_array_total\n",
      "Taking first value. Key aggregation not specified: blc_datarate_array\n",
      "Taking first value. Key aggregation not specified: blc_visrate_array\n",
      "Taking first value. Key aggregation not specified: blc_datavol_array_target\n",
      "Taking first value. Key aggregation not specified: blc_datavol_array_target_tot\n",
      "Taking first value. Key aggregation not specified: blc_datavol_array_cal\n",
      "Taking first value. Key aggregation not specified: blc_datavol_array_total\n",
      "Taking first value. Key aggregation not specified: blc_nvis_array_target\n",
      "Taking first value. Key aggregation not specified: blc_nvis_array_target_tot\n",
      "Taking first value. Key aggregation not specified: blc_nvis_array_cal\n",
      "Taking first value. Key aggregation not specified: blc_nvis_array_total\n",
      "Taking first value. Key aggregation not specified: wsu_datavol_later_2x_stepped2_typical_target\n",
      "Taking first value. Key aggregation not specified: wsu_datavol_later_2x_stepped2_typical_target_tot\n",
      "Taking first value. Key aggregation not specified: wsu_datavol_later_2x_stepped2_typical_cal\n",
      "Taking first value. Key aggregation not specified: wsu_datavol_later_2x_stepped2_typical_total\n",
      "Taking first value. Key aggregation not specified: wsu_nvis_later_2x_stepped2_typical_target\n",
      "Taking first value. Key aggregation not specified: wsu_nvis_later_2x_stepped2_typical_target_tot\n",
      "Taking first value. Key aggregation not specified: wsu_nvis_later_2x_stepped2_typical_cal\n",
      "Taking first value. Key aggregation not specified: wsu_nvis_later_2x_stepped2_typical_total\n",
      "Taking first value. Key aggregation not specified: wsu_datavol_later_2x_stepped2_array_target\n",
      "Taking first value. Key aggregation not specified: wsu_datavol_later_2x_stepped2_array_target_tot\n",
      "Taking first value. Key aggregation not specified: wsu_datavol_later_2x_stepped2_array_cal\n",
      "Taking first value. Key aggregation not specified: wsu_datavol_later_2x_stepped2_array_total\n",
      "Taking first value. Key aggregation not specified: wsu_nvis_later_2x_stepped2_array_target\n",
      "Taking first value. Key aggregation not specified: wsu_nvis_later_2x_stepped2_array_target_tot\n",
      "Taking first value. Key aggregation not specified: wsu_nvis_later_2x_stepped2_array_cal\n",
      "Taking first value. Key aggregation not specified: wsu_nvis_later_2x_stepped2_array_total\n",
      "Taking first value. Key aggregation not specified: wsu_datavol_later_4x_stepped2_typical_target\n",
      "Taking first value. Key aggregation not specified: wsu_datavol_later_4x_stepped2_typical_target_tot\n",
      "Taking first value. Key aggregation not specified: wsu_datavol_later_4x_stepped2_typical_cal\n",
      "Taking first value. Key aggregation not specified: wsu_datavol_later_4x_stepped2_typical_total\n",
      "Taking first value. Key aggregation not specified: wsu_nvis_later_4x_stepped2_typical_target\n",
      "Taking first value. Key aggregation not specified: wsu_nvis_later_4x_stepped2_typical_target_tot\n",
      "Taking first value. Key aggregation not specified: wsu_nvis_later_4x_stepped2_typical_cal\n",
      "Taking first value. Key aggregation not specified: wsu_nvis_later_4x_stepped2_typical_total\n",
      "Taking first value. Key aggregation not specified: wsu_datavol_later_4x_stepped2_array_target\n",
      "Taking first value. Key aggregation not specified: wsu_datavol_later_4x_stepped2_array_target_tot\n",
      "Taking first value. Key aggregation not specified: wsu_datavol_later_4x_stepped2_array_cal\n",
      "Taking first value. Key aggregation not specified: wsu_datavol_later_4x_stepped2_array_total\n",
      "Taking first value. Key aggregation not specified: wsu_nvis_later_4x_stepped2_array_target\n",
      "Taking first value. Key aggregation not specified: wsu_nvis_later_4x_stepped2_array_target_tot\n",
      "Taking first value. Key aggregation not specified: wsu_nvis_later_4x_stepped2_array_cal\n",
      "Taking first value. Key aggregation not specified: wsu_nvis_later_4x_stepped2_array_total\n",
      "Taking first value. Key aggregation not specified: blc_cubesize\n",
      "Taking first value. Key aggregation not specified: blc_cubesize_sum\n",
      "Taking first value. Key aggregation not specified: cycle_info\n"
     ]
    }
   ],
   "source": [
    "result_tos_mous = wsu_db.create_per_mous_db(result_tos)"
   ]
  },
  {
   "cell_type": "code",
   "execution_count": 60,
   "id": "bc445288",
   "metadata": {},
   "outputs": [
    {
     "data": {
      "text/plain": [
       "<TableColumns names=('mous','proposal_id','gous','schedblock_name','array','science_keyword','scientific_category_proposal','scientific_category','nant_typical','nant_array','nant_all','band','ntarget','s_fov','s_resolution','mosaic','imsize','pb','cell','blc_npol','blc_nspw','blc_specwidth','blc_freq','blc_velres','blc_nchan_agg','blc_nchan_max','blc_bandwidth_max','blc_bandwidth_agg','wsu_freq','wsu_npol','wsu_bandwidth_early','wsu_bandwidth_later_2x','wsu_bandwidth_later_4x','wsu_bandwidth_spw','wsu_nspw_early','wsu_nspw_later_2x','wsu_nspw_later_4x','wsu_specwidth_finest','wsu_chanavg_finest','wsu_velres_finest','wsu_specwidth_stepped','wsu_chanavg_stepped','wsu_velres_stepped','wsu_specwidth_stepped2','wsu_chanavg_stepped2','wsu_velres_stepped2','wsu_tint','wsu_nchan_spw_finest','wsu_nchan_spw_stepped','wsu_nchan_spw_stepped2','wsu_nchan_agg_finest_early','wsu_nchan_agg_finest_later_2x','wsu_nchan_agg_finest_later_4x','wsu_nchan_agg_stepped_early','wsu_nchan_agg_stepped_later_2x','wsu_nchan_agg_stepped_later_4x','wsu_nchan_agg_stepped2_early','wsu_nchan_agg_stepped2_later_2x','wsu_nchan_agg_stepped2_later_4x','wsu_frac_bw_early','wsu_frac_bw_later_2x','wsu_frac_bw_later_4x','wsu_frac_bw_spw','nbase_typical','nbase_array','nbase_all','L80','Project','SB_name','blc_tint','blc_ntunings','bp_time','flux_time','phase_time','pol_time','check_time','target_time_tot','time_tot','cal_time','mfssize','wsu_cubesize_stepped2','wsu_productsize_early_stepped2','wsu_datarate_early_stepped2_typical','wsu_visrate_early_stepped2_typical','wsu_datavol_early_stepped2_typical_target_tot','wsu_datavol_early_stepped2_typical_cal','wsu_datavol_early_stepped2_typical_total','wsu_nvis_early_stepped2_typical_target_tot','wsu_nvis_early_stepped2_typical_cal','wsu_nvis_early_stepped2_typical_total','blc_datarate_typical','blc_visrate_typical','blc_datavol_typical_target_tot','blc_datavol_typical_cal','blc_datavol_typical_total','blc_nvis_typical_target_tot','blc_nvis_typical_cal','blc_nvis_typical_total','wsu_datarate_early_stepped2_array','wsu_visrate_early_stepped2_array','wsu_datavol_early_stepped2_array_target_tot','wsu_datavol_early_stepped2_array_cal','wsu_datavol_early_stepped2_array_total','wsu_nvis_early_stepped2_array_target_tot','wsu_nvis_early_stepped2_array_cal','wsu_nvis_early_stepped2_array_total','blc_datarate_array','blc_visrate_array','blc_datavol_array_target_tot','blc_datavol_array_cal','blc_datavol_array_total','blc_nvis_array_target_tot','blc_nvis_array_cal','blc_nvis_array_total','wsu_productsize_later_2x_stepped2','wsu_datarate_later_2x_stepped2_typical','wsu_visrate_later_2x_stepped2_typical','wsu_datavol_later_2x_stepped2_typical_target_tot','wsu_datavol_later_2x_stepped2_typical_cal','wsu_datavol_later_2x_stepped2_typical_total','wsu_nvis_later_2x_stepped2_typical_target_tot','wsu_nvis_later_2x_stepped2_typical_cal','wsu_nvis_later_2x_stepped2_typical_total','wsu_datarate_later_2x_stepped2_array','wsu_visrate_later_2x_stepped2_array','wsu_datavol_later_2x_stepped2_array_target_tot','wsu_datavol_later_2x_stepped2_array_cal','wsu_datavol_later_2x_stepped2_array_total','wsu_nvis_later_2x_stepped2_array_target_tot','wsu_nvis_later_2x_stepped2_array_cal','wsu_nvis_later_2x_stepped2_array_total','wsu_productsize_later_4x_stepped2','wsu_datarate_later_4x_stepped2_typical','wsu_visrate_later_4x_stepped2_typical','wsu_datavol_later_4x_stepped2_typical_target_tot','wsu_datavol_later_4x_stepped2_typical_cal','wsu_datavol_later_4x_stepped2_typical_total','wsu_nvis_later_4x_stepped2_typical_target_tot','wsu_nvis_later_4x_stepped2_typical_cal','wsu_nvis_later_4x_stepped2_typical_total','wsu_datarate_later_4x_stepped2_array','wsu_visrate_later_4x_stepped2_array','wsu_datavol_later_4x_stepped2_array_target_tot','wsu_datavol_later_4x_stepped2_array_cal','wsu_datavol_later_4x_stepped2_array_total','wsu_nvis_later_4x_stepped2_array_target_tot','wsu_nvis_later_4x_stepped2_array_cal','wsu_nvis_later_4x_stepped2_array_total','blc_cubesize','blc_cubesize_sum','blc_productsize','cycle_info')>"
      ]
     },
     "execution_count": 60,
     "metadata": {},
     "output_type": "execute_result"
    }
   ],
   "source": [
    "result_tos_mous.columns"
   ]
  },
  {
   "cell_type": "markdown",
   "id": "5e7e8adc",
   "metadata": {},
   "source": [
    "Double-checking that I got the BLC productsize right. "
   ]
  },
  {
   "cell_type": "code",
   "execution_count": 61,
   "id": "055e2b6d",
   "metadata": {
    "scrolled": false
   },
   "outputs": [
    {
     "data": {
      "text/html": [
       "<div><i>QTable length=7603</i>\n",
       "<table id=\"table140415902283568\" class=\"table-striped table-bordered table-condensed\">\n",
       "<thead><tr><th>mous</th><th>proposal_id</th><th>schedblock_name</th><th>ntarget</th><th>blc_productsize</th></tr></thead>\n",
       "<thead><tr><th></th><th></th><th></th><th></th><th>Gbyte</th></tr></thead>\n",
       "<thead><tr><th>str22</th><th>str14</th><th>str18</th><th>float64</th><th>float64</th></tr></thead>\n",
       "<tr><td>uid://A001/X1465/X11b6</td><td>2019.1.01291.S</td><td>1_a_06_TM1</td><td>30.0</td><td>22.7432576</td></tr>\n",
       "<tr><td>uid://A001/X1465/X11b6</td><td>2019.1.01291.S</td><td>1_a_06_TM1</td><td>30.0</td><td>23.3013536</td></tr>\n",
       "<tr><td>uid://A001/X1465/X11b6</td><td>2019.1.01291.S</td><td>1_a_06_TM1</td><td>30.0</td><td>23.3013536</td></tr>\n",
       "<tr><td>uid://A001/X1465/X11b6</td><td>2019.1.01291.S</td><td>1_a_06_TM1</td><td>30.0</td><td>23.3013536</td></tr>\n",
       "<tr><td>uid://A001/X1465/X11b6</td><td>2019.1.01291.S</td><td>1_a_06_TM1</td><td>30.0</td><td>23.3013536</td></tr>\n",
       "<tr><td>uid://A001/X1465/X11b6</td><td>2019.1.01291.S</td><td>1_a_06_TM1</td><td>30.0</td><td>23.3013536</td></tr>\n",
       "<tr><td>uid://A001/X1465/X11b6</td><td>2019.1.01291.S</td><td>1_a_06_TM1</td><td>30.0</td><td>23.8662144</td></tr>\n",
       "<tr><td>uid://A001/X1465/X11b6</td><td>2019.1.01291.S</td><td>1_a_06_TM1</td><td>30.0</td><td>23.8662144</td></tr>\n",
       "<tr><td>...</td><td>...</td><td>...</td><td>...</td><td>...</td></tr>\n",
       "<tr><td>uid://A001/X14ed/X2cf</td><td>2019.2.00120.S</td><td>IRAS_181_c_07_7M</td><td>17.0</td><td>0.2360448</td></tr>\n",
       "<tr><td>uid://A001/X14ed/X2cf</td><td>2019.2.00120.S</td><td>IRAS_181_c_07_7M</td><td>17.0</td><td>0.2360448</td></tr>\n",
       "<tr><td>uid://A001/X14ed/X2cf</td><td>2019.2.00120.S</td><td>IRAS_181_c_07_7M</td><td>17.0</td><td>0.3212832</td></tr>\n",
       "<tr><td>uid://A001/X14ed/X2cf</td><td>2019.2.00120.S</td><td>IRAS_181_c_07_7M</td><td>17.0</td><td>0.2360448</td></tr>\n",
       "<tr><td>uid://A001/X14ed/X2cf</td><td>2019.2.00120.S</td><td>IRAS_181_c_07_7M</td><td>17.0</td><td>0.2360448</td></tr>\n",
       "<tr><td>uid://A001/X14ed/X2cf</td><td>2019.2.00120.S</td><td>IRAS_181_c_07_7M</td><td>17.0</td><td>0.2360448</td></tr>\n",
       "<tr><td>uid://A001/X14ed/X2cf</td><td>2019.2.00120.S</td><td>IRAS_181_c_07_7M</td><td>17.0</td><td>0.2360448</td></tr>\n",
       "<tr><td>uid://A001/X14ed/X2cf</td><td>2019.2.00120.S</td><td>IRAS_181_c_07_7M</td><td>17.0</td><td>0.2360448</td></tr>\n",
       "</table></div>"
      ],
      "text/plain": [
       "<QTable length=7603>\n",
       "         mous           proposal_id   schedblock_name  ntarget blc_productsize\n",
       "                                                                    Gbyte     \n",
       "        str22              str14           str18       float64     float64    \n",
       "---------------------- -------------- ---------------- ------- ---------------\n",
       "uid://A001/X1465/X11b6 2019.1.01291.S       1_a_06_TM1    30.0      22.7432576\n",
       "uid://A001/X1465/X11b6 2019.1.01291.S       1_a_06_TM1    30.0      23.3013536\n",
       "uid://A001/X1465/X11b6 2019.1.01291.S       1_a_06_TM1    30.0      23.3013536\n",
       "uid://A001/X1465/X11b6 2019.1.01291.S       1_a_06_TM1    30.0      23.3013536\n",
       "uid://A001/X1465/X11b6 2019.1.01291.S       1_a_06_TM1    30.0      23.3013536\n",
       "uid://A001/X1465/X11b6 2019.1.01291.S       1_a_06_TM1    30.0      23.3013536\n",
       "uid://A001/X1465/X11b6 2019.1.01291.S       1_a_06_TM1    30.0      23.8662144\n",
       "uid://A001/X1465/X11b6 2019.1.01291.S       1_a_06_TM1    30.0      23.8662144\n",
       "                   ...            ...              ...     ...             ...\n",
       " uid://A001/X14ed/X2cf 2019.2.00120.S IRAS_181_c_07_7M    17.0       0.2360448\n",
       " uid://A001/X14ed/X2cf 2019.2.00120.S IRAS_181_c_07_7M    17.0       0.2360448\n",
       " uid://A001/X14ed/X2cf 2019.2.00120.S IRAS_181_c_07_7M    17.0       0.3212832\n",
       " uid://A001/X14ed/X2cf 2019.2.00120.S IRAS_181_c_07_7M    17.0       0.2360448\n",
       " uid://A001/X14ed/X2cf 2019.2.00120.S IRAS_181_c_07_7M    17.0       0.2360448\n",
       " uid://A001/X14ed/X2cf 2019.2.00120.S IRAS_181_c_07_7M    17.0       0.2360448\n",
       " uid://A001/X14ed/X2cf 2019.2.00120.S IRAS_181_c_07_7M    17.0       0.2360448\n",
       " uid://A001/X14ed/X2cf 2019.2.00120.S IRAS_181_c_07_7M    17.0       0.2360448"
      ]
     },
     "execution_count": 61,
     "metadata": {},
     "output_type": "execute_result"
    }
   ],
   "source": [
    "idx = result_tos['ntarget'] > 10\n",
    "result_tos[idx]['mous','proposal_id','schedblock_name','ntarget','blc_productsize']"
   ]
  },
  {
   "cell_type": "code",
   "execution_count": 62,
   "id": "8a7bce59",
   "metadata": {
    "scrolled": true
   },
   "outputs": [
    {
     "data": {
      "text/html": [
       "<div><i>QTable length=1</i>\n",
       "<table id=\"table140415902075536\" class=\"table-striped table-bordered table-condensed\">\n",
       "<thead><tr><th>mous</th><th>proposal_id</th><th>schedblock_name</th><th>ntarget</th><th>blc_productsize</th></tr></thead>\n",
       "<thead><tr><th></th><th></th><th></th><th></th><th>Gbyte</th></tr></thead>\n",
       "<thead><tr><th>str22</th><th>str14</th><th>str18</th><th>float64</th><th>float64</th></tr></thead>\n",
       "<tr><td>uid://A001/X1465/X11b6</td><td>2019.1.01291.S</td><td>1_a_06_TM1</td><td>30.0</td><td>705.3014303999998</td></tr>\n",
       "</table></div>"
      ],
      "text/plain": [
       "<QTable length=1>\n",
       "         mous           proposal_id   schedblock_name ntarget  blc_productsize \n",
       "                                                                    Gbyte      \n",
       "        str22              str14           str18      float64      float64     \n",
       "---------------------- -------------- --------------- ------- -----------------\n",
       "uid://A001/X1465/X11b6 2019.1.01291.S      1_a_06_TM1    30.0 705.3014303999998"
      ]
     },
     "execution_count": 62,
     "metadata": {},
     "output_type": "execute_result"
    }
   ],
   "source": [
    "idx = result_tos_mous['mous'] == 'uid://A001/X1465/X11b6'\n",
    "result_tos_mous[idx]['mous','proposal_id','schedblock_name','ntarget','blc_productsize']"
   ]
  },
  {
   "cell_type": "code",
   "execution_count": 63,
   "id": "b8d85e53",
   "metadata": {},
   "outputs": [
    {
     "data": {
      "text/plain": [
       "690"
      ]
     },
     "execution_count": 63,
     "metadata": {},
     "output_type": "execute_result"
    }
   ],
   "source": [
    "30*23"
   ]
  },
  {
   "cell_type": "markdown",
   "id": "411bacd5",
   "metadata": {},
   "source": [
    "Looks like I did. The individual BLC product size times the number of targets is now the per mous blc_productsize"
   ]
  },
  {
   "cell_type": "code",
   "execution_count": 64,
   "id": "cf92922d",
   "metadata": {
    "scrolled": true
   },
   "outputs": [
    {
     "data": {
      "text/html": [
       "<div><i>QTable length=2719</i>\n",
       "<table id=\"table140416399421200\" class=\"table-striped table-bordered table-condensed\">\n",
       "<thead><tr><th>mous</th><th>proposal_id</th><th>gous</th><th>schedblock_name</th><th>array</th><th>science_keyword</th><th>scientific_category_proposal</th><th>scientific_category</th><th>nant_typical</th><th>nant_array</th><th>nant_all</th><th>band</th><th>ntarget</th><th>s_fov</th><th>s_resolution</th><th>mosaic</th><th>imsize</th><th>pb</th><th>cell</th><th>blc_npol</th><th>blc_nspw</th><th>blc_specwidth</th><th>blc_freq</th><th>blc_velres</th><th>blc_nchan_agg</th><th>blc_nchan_max</th><th>blc_bandwidth_max</th><th>blc_bandwidth_agg</th><th>wsu_freq</th><th>wsu_npol</th><th>wsu_bandwidth_early</th><th>wsu_bandwidth_later_2x</th><th>wsu_bandwidth_later_4x</th><th>wsu_bandwidth_spw</th><th>wsu_nspw_early</th><th>wsu_nspw_later_2x</th><th>wsu_nspw_later_4x</th><th>wsu_specwidth_finest</th><th>wsu_chanavg_finest</th><th>wsu_velres_finest</th><th>wsu_specwidth_stepped</th><th>wsu_chanavg_stepped</th><th>wsu_velres_stepped</th><th>wsu_specwidth_stepped2</th><th>wsu_chanavg_stepped2</th><th>wsu_velres_stepped2</th><th>wsu_tint</th><th>wsu_nchan_spw_finest</th><th>wsu_nchan_spw_stepped</th><th>wsu_nchan_spw_stepped2</th><th>wsu_nchan_agg_finest_early</th><th>wsu_nchan_agg_finest_later_2x</th><th>wsu_nchan_agg_finest_later_4x</th><th>wsu_nchan_agg_stepped_early</th><th>wsu_nchan_agg_stepped_later_2x</th><th>wsu_nchan_agg_stepped_later_4x</th><th>wsu_nchan_agg_stepped2_early</th><th>wsu_nchan_agg_stepped2_later_2x</th><th>wsu_nchan_agg_stepped2_later_4x</th><th>wsu_frac_bw_early</th><th>wsu_frac_bw_later_2x</th><th>wsu_frac_bw_later_4x</th><th>wsu_frac_bw_spw</th><th>nbase_typical</th><th>nbase_array</th><th>nbase_all</th><th>L80</th><th>Project</th><th>SB_name</th><th>blc_tint</th><th>blc_ntunings</th><th>bp_time</th><th>flux_time</th><th>phase_time</th><th>pol_time</th><th>check_time</th><th>target_time_tot</th><th>time_tot</th><th>cal_time</th><th>mfssize</th><th>wsu_cubesize_stepped2</th><th>wsu_productsize_early_stepped2</th><th>wsu_datarate_early_stepped2_typical</th><th>wsu_visrate_early_stepped2_typical</th><th>wsu_datavol_early_stepped2_typical_target_tot</th><th>wsu_datavol_early_stepped2_typical_cal</th><th>wsu_datavol_early_stepped2_typical_total</th><th>wsu_nvis_early_stepped2_typical_target_tot</th><th>wsu_nvis_early_stepped2_typical_cal</th><th>wsu_nvis_early_stepped2_typical_total</th><th>blc_datarate_typical</th><th>blc_visrate_typical</th><th>blc_datavol_typical_target_tot</th><th>blc_datavol_typical_cal</th><th>blc_datavol_typical_total</th><th>blc_nvis_typical_target_tot</th><th>blc_nvis_typical_cal</th><th>blc_nvis_typical_total</th><th>wsu_datarate_early_stepped2_array</th><th>wsu_visrate_early_stepped2_array</th><th>wsu_datavol_early_stepped2_array_target_tot</th><th>wsu_datavol_early_stepped2_array_cal</th><th>wsu_datavol_early_stepped2_array_total</th><th>wsu_nvis_early_stepped2_array_target_tot</th><th>wsu_nvis_early_stepped2_array_cal</th><th>wsu_nvis_early_stepped2_array_total</th><th>blc_datarate_array</th><th>blc_visrate_array</th><th>blc_datavol_array_target_tot</th><th>blc_datavol_array_cal</th><th>blc_datavol_array_total</th><th>blc_nvis_array_target_tot</th><th>blc_nvis_array_cal</th><th>blc_nvis_array_total</th><th>wsu_productsize_later_2x_stepped2</th><th>wsu_datarate_later_2x_stepped2_typical</th><th>wsu_visrate_later_2x_stepped2_typical</th><th>wsu_datavol_later_2x_stepped2_typical_target_tot</th><th>wsu_datavol_later_2x_stepped2_typical_cal</th><th>wsu_datavol_later_2x_stepped2_typical_total</th><th>wsu_nvis_later_2x_stepped2_typical_target_tot</th><th>wsu_nvis_later_2x_stepped2_typical_cal</th><th>wsu_nvis_later_2x_stepped2_typical_total</th><th>wsu_datarate_later_2x_stepped2_array</th><th>wsu_visrate_later_2x_stepped2_array</th><th>wsu_datavol_later_2x_stepped2_array_target_tot</th><th>wsu_datavol_later_2x_stepped2_array_cal</th><th>wsu_datavol_later_2x_stepped2_array_total</th><th>wsu_nvis_later_2x_stepped2_array_target_tot</th><th>wsu_nvis_later_2x_stepped2_array_cal</th><th>wsu_nvis_later_2x_stepped2_array_total</th><th>wsu_productsize_later_4x_stepped2</th><th>wsu_datarate_later_4x_stepped2_typical</th><th>wsu_visrate_later_4x_stepped2_typical</th><th>wsu_datavol_later_4x_stepped2_typical_target_tot</th><th>wsu_datavol_later_4x_stepped2_typical_cal</th><th>wsu_datavol_later_4x_stepped2_typical_total</th><th>wsu_nvis_later_4x_stepped2_typical_target_tot</th><th>wsu_nvis_later_4x_stepped2_typical_cal</th><th>wsu_nvis_later_4x_stepped2_typical_total</th><th>wsu_datarate_later_4x_stepped2_array</th><th>wsu_visrate_later_4x_stepped2_array</th><th>wsu_datavol_later_4x_stepped2_array_target_tot</th><th>wsu_datavol_later_4x_stepped2_array_cal</th><th>wsu_datavol_later_4x_stepped2_array_total</th><th>wsu_nvis_later_4x_stepped2_array_target_tot</th><th>wsu_nvis_later_4x_stepped2_array_cal</th><th>wsu_nvis_later_4x_stepped2_array_total</th><th>blc_cubesize</th><th>blc_cubesize_sum</th><th>blc_productsize</th><th>cycle_info</th></tr></thead>\n",
       "<thead><tr><th></th><th></th><th></th><th></th><th></th><th></th><th></th><th></th><th></th><th></th><th></th><th></th><th></th><th>deg</th><th>arcsec</th><th></th><th></th><th>arcsec</th><th>arcsec</th><th></th><th></th><th>kHz</th><th>GHz</th><th>km / s</th><th></th><th></th><th>GHz</th><th>GHz</th><th>GHz</th><th></th><th>GHz</th><th>GHz</th><th>GHz</th><th>GHz</th><th></th><th></th><th></th><th>kHz</th><th></th><th>km / s</th><th>kHz</th><th></th><th>km / s</th><th>kHz</th><th></th><th>km / s</th><th>s</th><th></th><th></th><th></th><th></th><th></th><th></th><th></th><th></th><th></th><th></th><th></th><th></th><th></th><th></th><th></th><th></th><th></th><th></th><th></th><th>m</th><th></th><th></th><th>s</th><th></th><th>s</th><th>s</th><th>s</th><th>s</th><th>s</th><th>s</th><th>s</th><th>s</th><th>Gbyte</th><th>Gbyte</th><th>Gbyte</th><th>Gbyte / s</th><th>Gvis / h</th><th>Gbyte</th><th>Gbyte</th><th>Gbyte</th><th>Gvis</th><th>Gvis</th><th>Gvis</th><th>Gbyte / s</th><th>Gvis / h</th><th>Gbyte</th><th>Gbyte</th><th>Gbyte</th><th>Gvis</th><th>Gvis</th><th>Gvis</th><th>Gbyte / s</th><th>Gvis / h</th><th>Gbyte</th><th>Gbyte</th><th>Gbyte</th><th>Gvis</th><th>Gvis</th><th>Gvis</th><th>Gbyte / s</th><th>Gvis / h</th><th>Gbyte</th><th>Gbyte</th><th>Gbyte</th><th>Gvis</th><th>Gvis</th><th>Gvis</th><th>Gbyte</th><th>Gbyte / s</th><th>Gvis / h</th><th>Gbyte</th><th>Gbyte</th><th>Gbyte</th><th>Gvis</th><th>Gvis</th><th>Gvis</th><th>Gbyte / s</th><th>Gvis / h</th><th>Gbyte</th><th>Gbyte</th><th>Gbyte</th><th>Gvis</th><th>Gvis</th><th>Gvis</th><th>Gbyte</th><th>Gbyte / s</th><th>Gvis / h</th><th>Gbyte</th><th>Gbyte</th><th>Gbyte</th><th>Gvis</th><th>Gvis</th><th>Gvis</th><th>Gbyte / s</th><th>Gvis / h</th><th>Gbyte</th><th>Gbyte</th><th>Gbyte</th><th>Gvis</th><th>Gvis</th><th>Gvis</th><th>Gbyte</th><th>Gbyte</th><th>Gbyte</th><th></th></tr></thead>\n",
       "<thead><tr><th>str22</th><th>str14</th><th>str22</th><th>str18</th><th>str3</th><th>str105</th><th>str52</th><th>str27</th><th>int64</th><th>int64</th><th>int64</th><th>float64</th><th>float64</th><th>float64</th><th>float64</th><th>str1</th><th>float64</th><th>float64</th><th>float64</th><th>int64</th><th>int64</th><th>float64</th><th>float64</th><th>float64</th><th>float64</th><th>float64</th><th>float64</th><th>float64</th><th>float64</th><th>int64</th><th>float64</th><th>float64</th><th>float64</th><th>float64</th><th>int64</th><th>int64</th><th>int64</th><th>float64</th><th>float64</th><th>float64</th><th>float64</th><th>float64</th><th>float64</th><th>float64</th><th>float64</th><th>float64</th><th>float64</th><th>float64</th><th>float64</th><th>float64</th><th>float64</th><th>float64</th><th>float64</th><th>float64</th><th>float64</th><th>float64</th><th>float64</th><th>float64</th><th>float64</th><th>float64</th><th>float64</th><th>float64</th><th>float64</th><th>float64</th><th>float64</th><th>float64</th><th>float64</th><th>str14</th><th>str18</th><th>float64</th><th>float64</th><th>float64</th><th>float64</th><th>float64</th><th>float64</th><th>float64</th><th>float64</th><th>float64</th><th>float64</th><th>float64</th><th>float64</th><th>float64</th><th>float64</th><th>float64</th><th>float64</th><th>float64</th><th>float64</th><th>float64</th><th>float64</th><th>float64</th><th>float64</th><th>float64</th><th>float64</th><th>float64</th><th>float64</th><th>float64</th><th>float64</th><th>float64</th><th>float64</th><th>float64</th><th>float64</th><th>float64</th><th>float64</th><th>float64</th><th>float64</th><th>float64</th><th>float64</th><th>float64</th><th>float64</th><th>float64</th><th>float64</th><th>float64</th><th>float64</th><th>float64</th><th>float64</th><th>float64</th><th>float64</th><th>float64</th><th>float64</th><th>float64</th><th>float64</th><th>float64</th><th>float64</th><th>float64</th><th>float64</th><th>float64</th><th>float64</th><th>float64</th><th>float64</th><th>float64</th><th>float64</th><th>float64</th><th>float64</th><th>float64</th><th>float64</th><th>float64</th><th>float64</th><th>float64</th><th>float64</th><th>float64</th><th>float64</th><th>float64</th><th>float64</th><th>float64</th><th>float64</th><th>float64</th><th>float64</th><th>float64</th><th>float64</th><th>float64</th><th>float64</th><th>str6</th></tr></thead>\n",
       "<tr><td>uid://A001/X1465/X1002</td><td>2019.1.01326.S</td><td>uid://A001/X1465/X1001</td><td>Position_i_03_7M</td><td>7m</td><td>Outflows, jets, feedback, Galactic centres/nuclei</td><td>Galaxies and galactic nuclei</td><td>Active galaxies</td><td>10</td><td>12</td><td>16</td><td>3.0</td><td>1.0</td><td>0.13050363616709187</td><td>12.418751976046456</td><td>T</td><td>220.0</td><td>108.514167152526</td><td>2.483750395209291</td><td>2</td><td>4</td><td>965.2043680983645</td><td>92.45001476575733</td><td>2.9778920543263903</td><td>14336.0</td><td>4096.0</td><td>2.0</td><td>8.0</td><td>92.45001476575733</td><td>2</td><td>16.0</td><td>16.0</td><td>32.0</td><td>2.0</td><td>8</td><td>8</td><td>16</td><td>958.5</td><td>71.0</td><td>3.108177664666337</td><td>297.0</td><td>22.0</td><td>0.9630973045444989</td><td>607.5</td><td>45.0</td><td>1.9699717592955657</td><td>9.984</td><td>2086.0</td><td>6734.0</td><td>3292.0</td><td>16688.0</td><td>16688.0</td><td>33376.0</td><td>53872.0</td><td>53872.0</td><td>107744.0</td><td>26336.0</td><td>26336.0</td><td>52672.0</td><td>0.17306649480305175</td><td>0.17306649480305175</td><td>0.3461329896061035</td><td>0.02163331185038147</td><td>45.0</td><td>66.0</td><td>120.0</td><td>30.03768</td><td>2019.1.01326.S</td><td>Position_i_03_7M</td><td>10.08</td><td>1.0</td><td>1209.6</td><td>0.0</td><td>362.88</td><td>0.0</td><td>0.0</td><td>1995.84</td><td>3568.3199999999997</td><td>1572.48</td><td>0.0001936</td><td>0.6373312</td><td>10.2003968</td><td>0.0011606410256410258</td><td>1.7093076923076922</td><td>2.3164537846153848</td><td>1.8250848000000002</td><td>4.141538584615385</td><td>0.9476401846153846</td><td>0.7466256</td><td>1.6942657846153844</td><td>0.0006257777777777777</td><td>0.9216</td><td>1.24895232</td><td>0.98402304</td><td>2.2329753599999997</td><td>0.51093504</td><td>0.40255488</td><td>0.91348992</td><td>0.001646</td><td>2.5069846153846154</td><td>3.2851526399999997</td><td>2.58830208</td><td>5.873454719999999</td><td>1.3898722707692308</td><td>1.09505088</td><td>2.4849231507692306</td><td>0.0008874666666666666</td><td>1.35168</td><td>1.7712414719999998</td><td>1.395523584</td><td>3.1667650559999996</td><td>0.749371392</td><td>0.590413824</td><td>1.339785216</td><td>10.2003968</td><td>0.0011606410256410258</td><td>1.7093076923076922</td><td>2.3164537846153848</td><td>1.8250848000000002</td><td>4.141538584615385</td><td>0.9476401846153846</td><td>0.7466256</td><td>1.6942657846153844</td><td>0.001646</td><td>2.5069846153846154</td><td>3.2851526399999997</td><td>2.58830208</td><td>5.873454719999999</td><td>1.3898722707692308</td><td>1.09505088</td><td>2.4849231507692306</td><td>20.4007936</td><td>0.0023212820512820516</td><td>3.4186153846153844</td><td>4.6329075692307695</td><td>3.6501696000000003</td><td>8.28307716923077</td><td>1.8952803692307691</td><td>1.4932512</td><td>3.3885315692307687</td><td>0.003292</td><td>5.013969230769231</td><td>6.5703052799999995</td><td>5.17660416</td><td>11.746909439999998</td><td>2.7797445415384616</td><td>2.19010176</td><td>4.969846301538461</td><td>0.7929856</td><td>2.7754496</td><td>5.552448</td><td>cycle7</td></tr>\n",
       "<tr><td>uid://A001/X1465/X1008</td><td>2019.1.01326.S</td><td>uid://A001/X1465/X1007</td><td>Position_j_03_7M</td><td>7m</td><td>Outflows, jets, feedback, Galactic centres/nuclei</td><td>Galaxies and galactic nuclei</td><td>Active galaxies</td><td>10</td><td>12</td><td>16</td><td>3.0</td><td>1.0</td><td>0.13352956949867897</td><td>11.495155000772085</td><td>T</td><td>240.0</td><td>99.33587941322293</td><td>2.299031000154417</td><td>2</td><td>4</td><td>1116.9672480031732</td><td>100.94947251671041</td><td>3.1673235453701216</td><td>8192.0</td><td>2048.0</td><td>2.0</td><td>8.0</td><td>100.94947251671041</td><td>2</td><td>16.0</td><td>16.0</td><td>32.0</td><td>2.0</td><td>8</td><td>8</td><td>16</td><td>1107.0</td><td>82.0</td><td>3.2874887082848767</td><td>324.0</td><td>24.0</td><td>0.9621918170589883</td><td>661.5</td><td>49.0</td><td>1.9644749598287679</td><td>9.984</td><td>1806.0</td><td>6172.0</td><td>3023.0</td><td>14448.0</td><td>14448.0</td><td>28896.0</td><td>49376.0</td><td>49376.0</td><td>98752.0</td><td>24184.0</td><td>24184.0</td><td>48368.0</td><td>0.15849513227869003</td><td>0.15849513227869003</td><td>0.31699026455738005</td><td>0.019811891534836253</td><td>45.0</td><td>66.0</td><td>120.0</td><td>30.609047</td><td>2019.1.01326.S</td><td>Position_j_03_7M</td><td>10.08</td><td>1.0</td><td>604.8</td><td>0.0</td><td>120.96</td><td>0.0</td><td>0.0</td><td>393.12</td><td>1118.88</td><td>725.76</td><td>0.0002304</td><td>0.6964992</td><td>11.1476736</td><td>0.001065801282051282</td><td>1.5696346153846155</td><td>0.41898779999999997</td><td>0.7735159384615384</td><td>1.1925037384615385</td><td>0.1714041</td><td>0.31643833846153846</td><td>0.4878424384615385</td><td>0.0003575873015873016</td><td>0.5266285714285714</td><td>0.14057472000000001</td><td>0.25952256</td><td>0.40009728000000006</td><td>0.057507840000000005</td><td>0.10616832000000001</td><td>0.16367616000000001</td><td>0.0015115</td><td>2.3021307692307693</td><td>0.59420088</td><td>1.0969862400000001</td><td>1.6911871200000002</td><td>0.25139268000000004</td><td>0.4641095630769231</td><td>0.7155022430769231</td><td>0.0005071238095238095</td><td>0.7723885714285714</td><td>0.199360512</td><td>0.36805017599999995</td><td>0.567410688</td><td>0.08434483200000001</td><td>0.155713536</td><td>0.24005836800000002</td><td>11.1476736</td><td>0.001065801282051282</td><td>1.5696346153846155</td><td>0.41898779999999997</td><td>0.7735159384615384</td><td>1.1925037384615385</td><td>0.1714041</td><td>0.31643833846153846</td><td>0.4878424384615385</td><td>0.0015115</td><td>2.3021307692307693</td><td>0.59420088</td><td>1.0969862400000001</td><td>1.6911871200000002</td><td>0.25139268000000004</td><td>0.4641095630769231</td><td>0.7155022430769231</td><td>22.2953472</td><td>0.002131602564102564</td><td>3.139269230769231</td><td>0.8379755999999999</td><td>1.5470318769230769</td><td>2.385007476923077</td><td>0.3428082</td><td>0.6328766769230769</td><td>0.975684876923077</td><td>0.003023</td><td>4.604261538461539</td><td>1.18840176</td><td>2.1939724800000002</td><td>3.3823742400000003</td><td>0.5027853600000001</td><td>0.9282191261538462</td><td>1.4310044861538462</td><td>0.4718592</td><td>1.8874368</td><td>3.7767168</td><td>cycle7</td></tr>\n",
       "<tr><td>uid://A001/X1465/X100e</td><td>2019.1.01326.S</td><td>uid://A001/X1465/X100d</td><td>Position_k_03_7M</td><td>7m</td><td>Outflows, jets, feedback, Galactic centres/nuclei</td><td>Galaxies and galactic nuclei</td><td>Active galaxies</td><td>10</td><td>12</td><td>16</td><td>3.0</td><td>1.0</td><td>0.1335711696824279</td><td>11.477738486513816</td><td>T</td><td>240.0</td><td>99.3358716017038</td><td>2.295547697302763</td><td>2</td><td>4</td><td>1116.9768029798806</td><td>100.9494845484696</td><td>3.1673495625218457</td><td>8192.0</td><td>2048.0</td><td>2.0</td><td>8.0</td><td>100.9494845484696</td><td>2</td><td>16.0</td><td>16.0</td><td>32.0</td><td>2.0</td><td>8</td><td>8</td><td>16</td><td>1107.0</td><td>82.0</td><td>3.2874883164624453</td><td>324.0</td><td>24.0</td><td>0.9621917023792522</td><td>661.5</td><td>49.0</td><td>1.9644747256909736</td><td>9.984</td><td>1806.0</td><td>6172.0</td><td>3023.0</td><td>14448.0</td><td>14448.0</td><td>28896.0</td><td>49376.0</td><td>49376.0</td><td>98752.0</td><td>24184.0</td><td>24184.0</td><td>48368.0</td><td>0.15849511338829875</td><td>0.15849511338829875</td><td>0.3169902267765975</td><td>0.019811889173537343</td><td>45.0</td><td>66.0</td><td>120.0</td><td>30.655828</td><td>2019.1.01326.S</td><td>Position_k_03_7M</td><td>10.08</td><td>1.0</td><td>604.8</td><td>0.0</td><td>120.96</td><td>0.0</td><td>0.0</td><td>393.12</td><td>1118.88</td><td>725.76</td><td>0.0002304</td><td>0.6964992</td><td>11.1476736</td><td>0.001065801282051282</td><td>1.5696346153846155</td><td>0.41898779999999997</td><td>0.7735159384615384</td><td>1.1925037384615385</td><td>0.1714041</td><td>0.31643833846153846</td><td>0.4878424384615385</td><td>0.0003575873015873016</td><td>0.5266285714285714</td><td>0.14057472000000001</td><td>0.25952256</td><td>0.40009728000000006</td><td>0.057507840000000005</td><td>0.10616832000000001</td><td>0.16367616000000001</td><td>0.0015115</td><td>2.3021307692307693</td><td>0.59420088</td><td>1.0969862400000001</td><td>1.6911871200000002</td><td>0.25139268000000004</td><td>0.4641095630769231</td><td>0.7155022430769231</td><td>0.0005071238095238095</td><td>0.7723885714285714</td><td>0.199360512</td><td>0.36805017599999995</td><td>0.567410688</td><td>0.08434483200000001</td><td>0.155713536</td><td>0.24005836800000002</td><td>11.1476736</td><td>0.001065801282051282</td><td>1.5696346153846155</td><td>0.41898779999999997</td><td>0.7735159384615384</td><td>1.1925037384615385</td><td>0.1714041</td><td>0.31643833846153846</td><td>0.4878424384615385</td><td>0.0015115</td><td>2.3021307692307693</td><td>0.59420088</td><td>1.0969862400000001</td><td>1.6911871200000002</td><td>0.25139268000000004</td><td>0.4641095630769231</td><td>0.7155022430769231</td><td>22.2953472</td><td>0.002131602564102564</td><td>3.139269230769231</td><td>0.8379755999999999</td><td>1.5470318769230769</td><td>2.385007476923077</td><td>0.3428082</td><td>0.6328766769230769</td><td>0.975684876923077</td><td>0.003023</td><td>4.604261538461539</td><td>1.18840176</td><td>2.1939724800000002</td><td>3.3823742400000003</td><td>0.5027853600000001</td><td>0.9282191261538462</td><td>1.4310044861538462</td><td>0.4718592</td><td>1.8874368</td><td>3.7767168</td><td>cycle7</td></tr>\n",
       "<tr><td>uid://A001/X1465/X1014</td><td>2019.1.01326.S</td><td>uid://A001/X1465/X1013</td><td>Position_l_03_7M</td><td>7m</td><td>Outflows, jets, feedback, Galactic centres/nuclei</td><td>Galaxies and galactic nuclei</td><td>Active galaxies</td><td>10</td><td>12</td><td>16</td><td>3.0</td><td>1.0</td><td>0.1335853198822303</td><td>11.302668272847619</td><td>T</td><td>245.0</td><td>99.33587213428518</td><td>2.2605336545695236</td><td>2</td><td>4</td><td>1116.9790739480793</td><td>100.94948499173799</td><td>3.1673558199446665</td><td>8192.0</td><td>2048.0</td><td>2.0</td><td>8.0</td><td>100.94948499173799</td><td>2</td><td>16.0</td><td>16.0</td><td>32.0</td><td>2.0</td><td>8</td><td>8</td><td>16</td><td>1107.0</td><td>82.0</td><td>3.28748830202711</td><td>324.0</td><td>24.0</td><td>0.9621916981542762</td><td>661.5</td><td>49.0</td><td>1.9644747170649806</td><td>9.984</td><td>1806.0</td><td>6172.0</td><td>3023.0</td><td>14448.0</td><td>14448.0</td><td>28896.0</td><td>49376.0</td><td>49376.0</td><td>98752.0</td><td>24184.0</td><td>24184.0</td><td>48368.0</td><td>0.15849511269234795</td><td>0.15849511269234795</td><td>0.3169902253846959</td><td>0.019811889086543494</td><td>45.0</td><td>66.0</td><td>120.0</td><td>31.127703</td><td>2019.1.01326.S</td><td>Position_l_03_7M</td><td>10.08</td><td>1.0</td><td>604.8</td><td>0.0</td><td>120.96</td><td>0.0</td><td>0.0</td><td>393.12</td><td>1118.88</td><td>725.76</td><td>0.0002401</td><td>0.7258223</td><td>11.6169984</td><td>0.001065801282051282</td><td>1.5696346153846155</td><td>0.41898779999999997</td><td>0.7735159384615384</td><td>1.1925037384615385</td><td>0.1714041</td><td>0.31643833846153846</td><td>0.4878424384615385</td><td>0.0003575873015873016</td><td>0.5266285714285714</td><td>0.14057472000000001</td><td>0.25952256</td><td>0.40009728000000006</td><td>0.057507840000000005</td><td>0.10616832000000001</td><td>0.16367616000000001</td><td>0.0015115</td><td>2.3021307692307693</td><td>0.59420088</td><td>1.0969862400000001</td><td>1.6911871200000002</td><td>0.25139268000000004</td><td>0.4641095630769231</td><td>0.7155022430769231</td><td>0.0005071238095238095</td><td>0.7723885714285714</td><td>0.199360512</td><td>0.36805017599999995</td><td>0.567410688</td><td>0.08434483200000001</td><td>0.155713536</td><td>0.24005836800000002</td><td>11.6169984</td><td>0.001065801282051282</td><td>1.5696346153846155</td><td>0.41898779999999997</td><td>0.7735159384615384</td><td>1.1925037384615385</td><td>0.1714041</td><td>0.31643833846153846</td><td>0.4878424384615385</td><td>0.0015115</td><td>2.3021307692307693</td><td>0.59420088</td><td>1.0969862400000001</td><td>1.6911871200000002</td><td>0.25139268000000004</td><td>0.4641095630769231</td><td>0.7155022430769231</td><td>23.2339968</td><td>0.002131602564102564</td><td>3.139269230769231</td><td>0.8379755999999999</td><td>1.5470318769230769</td><td>2.385007476923077</td><td>0.3428082</td><td>0.6328766769230769</td><td>0.975684876923077</td><td>0.003023</td><td>4.604261538461539</td><td>1.18840176</td><td>2.1939724800000002</td><td>3.3823742400000003</td><td>0.5027853600000001</td><td>0.9282191261538462</td><td>1.4310044861538462</td><td>0.4917248</td><td>1.9668992</td><td>3.9357192000000003</td><td>cycle7</td></tr>\n",
       "<tr><td>uid://A001/X1465/X101a</td><td>2019.1.01326.S</td><td>uid://A001/X1465/X1019</td><td>Position_m_03_7M</td><td>7m</td><td>Outflows, jets, feedback, Galactic centres/nuclei</td><td>Galaxies and galactic nuclei</td><td>Active galaxies</td><td>10</td><td>12</td><td>16</td><td>3.0</td><td>1.0</td><td>0.1336314854176951</td><td>11.413765574280458</td><td>T</td><td>240.0</td><td>99.33587285679403</td><td>2.2827531148560913</td><td>2</td><td>4</td><td>1116.978577743549</td><td>100.94948404645515</td><td>3.1673544786256693</td><td>8192.0</td><td>2048.0</td><td>2.0</td><td>8.0</td><td>100.94948404645515</td><td>2</td><td>16.0</td><td>16.0</td><td>32.0</td><td>2.0</td><td>8</td><td>8</td><td>16</td><td>1107.0</td><td>82.0</td><td>3.2874883328108857</td><td>324.0</td><td>24.0</td><td>0.9621917071641618</td><td>661.5</td><td>49.0</td><td>1.9644747354601635</td><td>9.984</td><td>1806.0</td><td>6172.0</td><td>3023.0</td><td>14448.0</td><td>14448.0</td><td>28896.0</td><td>49376.0</td><td>49376.0</td><td>98752.0</td><td>24184.0</td><td>24184.0</td><td>48368.0</td><td>0.1584951141764834</td><td>0.1584951141764834</td><td>0.3169902283529668</td><td>0.019811889272060425</td><td>45.0</td><td>66.0</td><td>120.0</td><td>30.823065</td><td>2019.1.01326.S</td><td>Position_m_03_7M</td><td>10.08</td><td>1.0</td><td>604.8</td><td>0.0</td><td>120.96</td><td>0.0</td><td>0.0</td><td>393.12</td><td>1118.88</td><td>725.76</td><td>0.0002304</td><td>0.6964992</td><td>11.1476736</td><td>0.001065801282051282</td><td>1.5696346153846155</td><td>0.41898779999999997</td><td>0.7735159384615384</td><td>1.1925037384615385</td><td>0.1714041</td><td>0.31643833846153846</td><td>0.4878424384615385</td><td>0.0003575873015873016</td><td>0.5266285714285714</td><td>0.14057472000000001</td><td>0.25952256</td><td>0.40009728000000006</td><td>0.057507840000000005</td><td>0.10616832000000001</td><td>0.16367616000000001</td><td>0.0015115</td><td>2.3021307692307693</td><td>0.59420088</td><td>1.0969862400000001</td><td>1.6911871200000002</td><td>0.25139268000000004</td><td>0.4641095630769231</td><td>0.7155022430769231</td><td>0.0005071238095238095</td><td>0.7723885714285714</td><td>0.199360512</td><td>0.36805017599999995</td><td>0.567410688</td><td>0.08434483200000001</td><td>0.155713536</td><td>0.24005836800000002</td><td>11.1476736</td><td>0.001065801282051282</td><td>1.5696346153846155</td><td>0.41898779999999997</td><td>0.7735159384615384</td><td>1.1925037384615385</td><td>0.1714041</td><td>0.31643833846153846</td><td>0.4878424384615385</td><td>0.0015115</td><td>2.3021307692307693</td><td>0.59420088</td><td>1.0969862400000001</td><td>1.6911871200000002</td><td>0.25139268000000004</td><td>0.4641095630769231</td><td>0.7155022430769231</td><td>22.2953472</td><td>0.002131602564102564</td><td>3.139269230769231</td><td>0.8379755999999999</td><td>1.5470318769230769</td><td>2.385007476923077</td><td>0.3428082</td><td>0.6328766769230769</td><td>0.975684876923077</td><td>0.003023</td><td>4.604261538461539</td><td>1.18840176</td><td>2.1939724800000002</td><td>3.3823742400000003</td><td>0.5027853600000001</td><td>0.9282191261538462</td><td>1.4310044861538462</td><td>0.4718592</td><td>1.8874368</td><td>3.7767168</td><td>cycle7</td></tr>\n",
       "<tr><td>uid://A001/X1465/X1020</td><td>2019.1.01326.S</td><td>uid://A001/X1465/X101f</td><td>Position_n_03_7M</td><td>7m</td><td>Outflows, jets, feedback, Galactic centres/nuclei</td><td>Galaxies and galactic nuclei</td><td>Active galaxies</td><td>10</td><td>12</td><td>16</td><td>3.0</td><td>1.0</td><td>0.13371358744210624</td><td>12.310711444421296</td><td>T</td><td>225.0</td><td>99.33586798161843</td><td>2.4621422888842592</td><td>2</td><td>4</td><td>1116.9863042364896</td><td>100.94949231787314</td><td>3.1673755615409136</td><td>8192.0</td><td>2048.0</td><td>2.0</td><td>8.0</td><td>100.94949231787314</td><td>2</td><td>16.0</td><td>16.0</td><td>32.0</td><td>2.0</td><td>8</td><td>8</td><td>16</td><td>1107.0</td><td>82.0</td><td>3.2874880634465784</td><td>324.0</td><td>24.0</td><td>0.9621916283258277</td><td>661.5</td><td>49.0</td><td>1.964474574498565</td><td>9.984</td><td>1806.0</td><td>6172.0</td><td>3023.0</td><td>14448.0</td><td>14448.0</td><td>28896.0</td><td>49376.0</td><td>49376.0</td><td>98752.0</td><td>24184.0</td><td>24184.0</td><td>48368.0</td><td>0.15849510118999574</td><td>0.15849510118999574</td><td>0.3169902023799915</td><td>0.019811887648749468</td><td>45.0</td><td>66.0</td><td>120.0</td><td>28.57859</td><td>2019.1.01326.S</td><td>Position_n_03_7M</td><td>10.08</td><td>1.0</td><td>604.8</td><td>0.0</td><td>120.96</td><td>0.0</td><td>0.0</td><td>393.12</td><td>1118.88</td><td>725.76</td><td>0.0002025</td><td>0.6121575</td><td>9.79776</td><td>0.001065801282051282</td><td>1.5696346153846155</td><td>0.41898779999999997</td><td>0.7735159384615384</td><td>1.1925037384615385</td><td>0.1714041</td><td>0.31643833846153846</td><td>0.4878424384615385</td><td>0.0003575873015873016</td><td>0.5266285714285714</td><td>0.14057472000000001</td><td>0.25952256</td><td>0.40009728000000006</td><td>0.057507840000000005</td><td>0.10616832000000001</td><td>0.16367616000000001</td><td>0.0015115</td><td>2.3021307692307693</td><td>0.59420088</td><td>1.0969862400000001</td><td>1.6911871200000002</td><td>0.25139268000000004</td><td>0.4641095630769231</td><td>0.7155022430769231</td><td>0.0005071238095238095</td><td>0.7723885714285714</td><td>0.199360512</td><td>0.36805017599999995</td><td>0.567410688</td><td>0.08434483200000001</td><td>0.155713536</td><td>0.24005836800000002</td><td>9.79776</td><td>0.001065801282051282</td><td>1.5696346153846155</td><td>0.41898779999999997</td><td>0.7735159384615384</td><td>1.1925037384615385</td><td>0.1714041</td><td>0.31643833846153846</td><td>0.4878424384615385</td><td>0.0015115</td><td>2.3021307692307693</td><td>0.59420088</td><td>1.0969862400000001</td><td>1.6911871200000002</td><td>0.25139268000000004</td><td>0.4641095630769231</td><td>0.7155022430769231</td><td>19.59552</td><td>0.002131602564102564</td><td>3.139269230769231</td><td>0.8379755999999999</td><td>1.5470318769230769</td><td>2.385007476923077</td><td>0.3428082</td><td>0.6328766769230769</td><td>0.975684876923077</td><td>0.003023</td><td>4.604261538461539</td><td>1.18840176</td><td>2.1939724800000002</td><td>3.3823742400000003</td><td>0.5027853600000001</td><td>0.9282191261538462</td><td>1.4310044861538462</td><td>0.41472</td><td>1.65888</td><td>3.3193799999999998</td><td>cycle7</td></tr>\n",
       "<tr><td>uid://A001/X1465/X1026</td><td>2019.1.01326.S</td><td>uid://A001/X1465/X1025</td><td>Position_o_03_7M</td><td>7m</td><td>Outflows, jets, feedback, Galactic centres/nuclei</td><td>Galaxies and galactic nuclei</td><td>Active galaxies</td><td>10</td><td>12</td><td>16</td><td>3.0</td><td>1.0</td><td>0.13373216928158022</td><td>11.753922287777575</td><td>T</td><td>235.0</td><td>99.33586625816268</td><td>2.3507844575555152</td><td>2</td><td>4</td><td>1116.988488853616</td><td>100.94949500553065</td><td>3.1673815119399906</td><td>8192.0</td><td>2048.0</td><td>2.0</td><td>8.0</td><td>100.94949500553065</td><td>2</td><td>16.0</td><td>16.0</td><td>32.0</td><td>2.0</td><td>8</td><td>8</td><td>16</td><td>1107.0</td><td>82.0</td><td>3.2874879759212075</td><td>324.0</td><td>24.0</td><td>0.962191602708646</td><td>661.5</td><td>49.0</td><td>1.9644745221968187</td><td>9.984</td><td>1806.0</td><td>6172.0</td><td>3023.0</td><td>14448.0</td><td>14448.0</td><td>28896.0</td><td>49376.0</td><td>49376.0</td><td>98752.0</td><td>24184.0</td><td>24184.0</td><td>48368.0</td><td>0.15849509697025646</td><td>0.15849509697025646</td><td>0.3169901939405129</td><td>0.019811887121282058</td><td>45.0</td><td>66.0</td><td>120.0</td><td>29.931335</td><td>2019.1.01326.S</td><td>Position_o_03_7M</td><td>10.08</td><td>1.0</td><td>604.8</td><td>0.0</td><td>120.96</td><td>0.0</td><td>0.0</td><td>393.12</td><td>1118.88</td><td>725.76</td><td>0.0002209</td><td>0.6677807</td><td>10.6880256</td><td>0.001065801282051282</td><td>1.5696346153846155</td><td>0.41898779999999997</td><td>0.7735159384615384</td><td>1.1925037384615385</td><td>0.1714041</td><td>0.31643833846153846</td><td>0.4878424384615385</td><td>0.0003575873015873016</td><td>0.5266285714285714</td><td>0.14057472000000001</td><td>0.25952256</td><td>0.40009728000000006</td><td>0.057507840000000005</td><td>0.10616832000000001</td><td>0.16367616000000001</td><td>0.0015115</td><td>2.3021307692307693</td><td>0.59420088</td><td>1.0969862400000001</td><td>1.6911871200000002</td><td>0.25139268000000004</td><td>0.4641095630769231</td><td>0.7155022430769231</td><td>0.0005071238095238095</td><td>0.7723885714285714</td><td>0.199360512</td><td>0.36805017599999995</td><td>0.567410688</td><td>0.08434483200000001</td><td>0.155713536</td><td>0.24005836800000002</td><td>10.6880256</td><td>0.001065801282051282</td><td>1.5696346153846155</td><td>0.41898779999999997</td><td>0.7735159384615384</td><td>1.1925037384615385</td><td>0.1714041</td><td>0.31643833846153846</td><td>0.4878424384615385</td><td>0.0015115</td><td>2.3021307692307693</td><td>0.59420088</td><td>1.0969862400000001</td><td>1.6911871200000002</td><td>0.25139268000000004</td><td>0.4641095630769231</td><td>0.7155022430769231</td><td>21.3760512</td><td>0.002131602564102564</td><td>3.139269230769231</td><td>0.8379755999999999</td><td>1.5470318769230769</td><td>2.385007476923077</td><td>0.3428082</td><td>0.6328766769230769</td><td>0.975684876923077</td><td>0.003023</td><td>4.604261538461539</td><td>1.18840176</td><td>2.1939724800000002</td><td>3.3823742400000003</td><td>0.5027853600000001</td><td>0.9282191261538462</td><td>1.4310044861538462</td><td>0.4524032</td><td>1.8096128</td><td>3.6209928000000002</td><td>cycle7</td></tr>\n",
       "<tr><td>uid://A001/X1465/X102c</td><td>2019.1.01326.S</td><td>uid://A001/X1465/X102b</td><td>Position_p_03_7M</td><td>7m</td><td>Outflows, jets, feedback, Galactic centres/nuclei</td><td>Galaxies and galactic nuclei</td><td>Active galaxies</td><td>10</td><td>12</td><td>16</td><td>3.0</td><td>1.0</td><td>0.1337135102695543</td><td>12.23308102480371</td><td>T</td><td>225.0</td><td>99.33585300632527</td><td>2.446616204960742</td><td>2</td><td>4</td><td>1117.0123506192197</td><td>100.94951872567178</td><td>3.1674466780927557</td><td>8192.0</td><td>2048.0</td><td>2.0</td><td>8.0</td><td>100.94951872567178</td><td>2</td><td>16.0</td><td>16.0</td><td>32.0</td><td>2.0</td><td>8</td><td>8</td><td>16</td><td>1107.0</td><td>82.0</td><td>3.2874872034590923</td><td>324.0</td><td>24.0</td><td>0.9621913766221734</td><td>661.5</td><td>49.0</td><td>1.964474060603604</td><td>9.984</td><td>1806.0</td><td>6172.0</td><td>3023.0</td><td>14448.0</td><td>14448.0</td><td>28896.0</td><td>49376.0</td><td>49376.0</td><td>98752.0</td><td>24184.0</td><td>24184.0</td><td>48368.0</td><td>0.15849505972861216</td><td>0.15849505972861216</td><td>0.31699011945722433</td><td>0.01981188246607652</td><td>45.0</td><td>66.0</td><td>120.0</td><td>28.755129</td><td>2019.1.01326.S</td><td>Position_p_03_7M</td><td>10.08</td><td>1.0</td><td>604.8</td><td>0.0</td><td>120.96</td><td>0.0</td><td>0.0</td><td>393.12</td><td>1118.88</td><td>725.76</td><td>0.0002025</td><td>0.6121575</td><td>9.79776</td><td>0.001065801282051282</td><td>1.5696346153846155</td><td>0.41898779999999997</td><td>0.7735159384615384</td><td>1.1925037384615385</td><td>0.1714041</td><td>0.31643833846153846</td><td>0.4878424384615385</td><td>0.0003575873015873016</td><td>0.5266285714285714</td><td>0.14057472000000001</td><td>0.25952256</td><td>0.40009728000000006</td><td>0.057507840000000005</td><td>0.10616832000000001</td><td>0.16367616000000001</td><td>0.0015115</td><td>2.3021307692307693</td><td>0.59420088</td><td>1.0969862400000001</td><td>1.6911871200000002</td><td>0.25139268000000004</td><td>0.4641095630769231</td><td>0.7155022430769231</td><td>0.0005071238095238095</td><td>0.7723885714285714</td><td>0.199360512</td><td>0.36805017599999995</td><td>0.567410688</td><td>0.08434483200000001</td><td>0.155713536</td><td>0.24005836800000002</td><td>9.79776</td><td>0.001065801282051282</td><td>1.5696346153846155</td><td>0.41898779999999997</td><td>0.7735159384615384</td><td>1.1925037384615385</td><td>0.1714041</td><td>0.31643833846153846</td><td>0.4878424384615385</td><td>0.0015115</td><td>2.3021307692307693</td><td>0.59420088</td><td>1.0969862400000001</td><td>1.6911871200000002</td><td>0.25139268000000004</td><td>0.4641095630769231</td><td>0.7155022430769231</td><td>19.59552</td><td>0.002131602564102564</td><td>3.139269230769231</td><td>0.8379755999999999</td><td>1.5470318769230769</td><td>2.385007476923077</td><td>0.3428082</td><td>0.6328766769230769</td><td>0.975684876923077</td><td>0.003023</td><td>4.604261538461539</td><td>1.18840176</td><td>2.1939724800000002</td><td>3.3823742400000003</td><td>0.5027853600000001</td><td>0.9282191261538462</td><td>1.4310044861538462</td><td>0.41472</td><td>1.65888</td><td>3.3193799999999998</td><td>cycle7</td></tr>\n",
       "<tr><td>...</td><td>...</td><td>...</td><td>...</td><td>...</td><td>...</td><td>...</td><td>...</td><td>...</td><td>...</td><td>...</td><td>...</td><td>...</td><td>...</td><td>...</td><td>...</td><td>...</td><td>...</td><td>...</td><td>...</td><td>...</td><td>...</td><td>...</td><td>...</td><td>...</td><td>...</td><td>...</td><td>...</td><td>...</td><td>...</td><td>...</td><td>...</td><td>...</td><td>...</td><td>...</td><td>...</td><td>...</td><td>...</td><td>...</td><td>...</td><td>...</td><td>...</td><td>...</td><td>...</td><td>...</td><td>...</td><td>...</td><td>...</td><td>...</td><td>...</td><td>...</td><td>...</td><td>...</td><td>...</td><td>...</td><td>...</td><td>...</td><td>...</td><td>...</td><td>...</td><td>...</td><td>...</td><td>...</td><td>...</td><td>...</td><td>...</td><td>...</td><td>...</td><td>...</td><td>...</td><td>...</td><td>...</td><td>...</td><td>...</td><td>...</td><td>...</td><td>...</td><td>...</td><td>...</td><td>...</td><td>...</td><td>...</td><td>...</td><td>...</td><td>...</td><td>...</td><td>...</td><td>...</td><td>...</td><td>...</td><td>...</td><td>...</td><td>...</td><td>...</td><td>...</td><td>...</td><td>...</td><td>...</td><td>...</td><td>...</td><td>...</td><td>...</td><td>...</td><td>...</td><td>...</td><td>...</td><td>...</td><td>...</td><td>...</td><td>...</td><td>...</td><td>...</td><td>...</td><td>...</td><td>...</td><td>...</td><td>...</td><td>...</td><td>...</td><td>...</td><td>...</td><td>...</td><td>...</td><td>...</td><td>...</td><td>...</td><td>...</td><td>...</td><td>...</td><td>...</td><td>...</td><td>...</td><td>...</td><td>...</td><td>...</td><td>...</td><td>...</td><td>...</td><td>...</td><td>...</td><td>...</td><td>...</td><td>...</td><td>...</td><td>...</td><td>...</td><td>...</td><td>...</td><td>...</td><td>...</td><td>...</td><td>...</td></tr>\n",
       "<tr><td>uid://A001/X15a2/Xab7</td><td>2019.1.01324.T</td><td>uid://A001/X15a2/Xab6</td><td>Transien_e_03_TM1</td><td>12m</td><td>Black holes, Transients</td><td>Stellar evolution and the Sun</td><td>Stars and stellar evolution</td><td>47</td><td>50</td><td>66</td><td>3.0</td><td>1.0</td><td>0.016588794717785</td><td>0.1678109021398266</td><td>F</td><td>2740.0</td><td>59.93310822407246</td><td>0.03356218042796532</td><td>2</td><td>4</td><td>1117.3945505165266</td><td>97.48910779793061</td><td>3.2686022854814705</td><td>7680.0</td><td>1920.0</td><td>1.875</td><td>7.5</td><td>97.48910779793061</td><td>2</td><td>16.0</td><td>16.0</td><td>32.0</td><td>2.0</td><td>8</td><td>8</td><td>16</td><td>1107.0</td><td>82.0</td><td>3.4041777435678258</td><td>324.0</td><td>24.0</td><td>0.9963447054344856</td><td>648.0</td><td>48.0</td><td>1.9926894108689712</td><td>3.072</td><td>1806.0</td><td>6172.0</td><td>3086.0</td><td>14448.0</td><td>14448.0</td><td>28896.0</td><td>49376.0</td><td>49376.0</td><td>98752.0</td><td>24688.0</td><td>24688.0</td><td>49376.0</td><td>0.1641208988512215</td><td>0.1641208988512215</td><td>0.328241797702443</td><td>0.020515112356402687</td><td>1081.0</td><td>1225.0</td><td>2145.0</td><td>2169.2878</td><td>2019.1.01324.T</td><td>Transien_e_03_TM1</td><td>2.016</td><td>1.0</td><td>302.4</td><td>0.0</td><td>127.008</td><td>0.0</td><td>36.288</td><td>308.448</td><td>774.144</td><td>465.69599999999997</td><td>0.0300304</td><td>92.6738144</td><td>1483.2615168</td><td>0.072521</td><td>125.098725</td><td>22.368957408</td><td>33.772739615999996</td><td>56.141697024</td><td>10.718458757999999</td><td>16.182771066</td><td>26.901229824</td><td>0.034377142857142856</td><td>59.30057142857143</td><td>10.60356096</td><td>16.009297919999998</td><td>26.61285888</td><td>5.08087296</td><td>7.67112192</td><td>12.751994880000002</td><td>0.081971875</td><td>141.763125</td><td>25.284060899999997</td><td>38.1739743</td><td>63.4580352</td><td>12.14626455</td><td>18.33847785</td><td>30.484742400000002</td><td>0.03885714285714286</td><td>67.2</td><td>11.985408</td><td>18.095616</td><td>30.081024000000003</td><td>5.757696</td><td>8.692992</td><td>14.450688000000001</td><td>1483.2615168</td><td>0.072521</td><td>125.098725</td><td>22.368957408</td><td>33.772739615999996</td><td>56.141697024</td><td>10.718458757999999</td><td>16.182771066</td><td>26.901229824</td><td>0.081971875</td><td>141.763125</td><td>25.284060899999997</td><td>38.1739743</td><td>63.4580352</td><td>12.14626455</td><td>18.33847785</td><td>30.484742400000002</td><td>2966.5230336</td><td>0.145042</td><td>250.19745</td><td>44.737914816</td><td>67.54547923199999</td><td>112.283394048</td><td>21.436917515999998</td><td>32.365542132</td><td>53.802459648</td><td>0.16394375</td><td>283.52625</td><td>50.56812179999999</td><td>76.3479486</td><td>126.9160704</td><td>24.2925291</td><td>36.6769557</td><td>60.969484800000004</td><td>57.658368</td><td>230.633472</td><td>461.50718720000003</td><td>cycle7</td></tr>\n",
       "<tr><td>uid://A001/X15a2/Xed4</td><td>2019.1.00863.T</td><td>uid://A001/X15a1/X1ec9</td><td>GRB21110_c_03_TM1</td><td>12m</td><td>Pulsars and neutron stars, Transients</td><td>Stellar evolution and the Sun</td><td>Stars and stellar evolution</td><td>47</td><td>50</td><td>66</td><td>3.0</td><td>1.0</td><td>0.016588169547963195</td><td>0.4317903496458591</td><td>F</td><td>1060.0</td><td>59.930849568683314</td><td>0.08635806992917182</td><td>2</td><td>4</td><td>30913.85272485866</td><td>97.49278193738127</td><td>90.52858123839745</td><td>512.0</td><td>128.0</td><td>2.0</td><td>8.0</td><td>97.49278193738127</td><td>2</td><td>16.0</td><td>16.0</td><td>32.0</td><td>2.0</td><td>8</td><td>8</td><td>16</td><td>30901.5</td><td>2289.0</td><td>95.02279509099664</td><td>3240.0</td><td>240.0</td><td>9.96307156917396</td><td>3240.0</td><td>240.0</td><td>9.96307156917396</td><td>3.072</td><td>64.0</td><td>617.0</td><td>617.0</td><td>512.0</td><td>512.0</td><td>1024.0</td><td>4936.0</td><td>4936.0</td><td>9872.0</td><td>4936.0</td><td>4936.0</td><td>9872.0</td><td>0.16411471374646644</td><td>0.16411471374646644</td><td>0.3282294274929329</td><td>0.020514339218308305</td><td>1081.0</td><td>1225.0</td><td>2145.0</td><td>843.02625</td><td>2019.1.00863.T</td><td>GRB21110_c_03_TM1</td><td>2.016</td><td>1.0</td><td>302.4</td><td>0.0</td><td>151.2</td><td>0.0</td><td>0.0</td><td>2056.32</td><td>2509.92</td><td>453.59999999999997</td><td>0.0044944</td><td>2.7730448</td><td>44.4406272</td><td>0.0144995</td><td>25.011637500000003</td><td>29.815611840000003</td><td>6.576973199999999</td><td>36.39258504</td><td>14.286647340000002</td><td>3.1514663250000003</td><td>17.438113665000003</td><td>0.0022918095238095237</td><td>3.9533714285714288</td><td>4.71269376</td><td>1.0395648</td><td>5.75225856</td><td>2.2581657600000002</td><td>0.49812480000000003</td><td>2.7562905600000005</td><td>0.0163890625</td><td>28.3434375</td><td>33.701157</td><td>7.434078749999999</td><td>41.13523575</td><td>16.189771500000003</td><td>3.5712731250000003</td><td>19.761044625</td><td>0.0025904761904761904</td><td>4.48</td><td>5.326848</td><td>1.1750399999999999</td><td>6.501888</td><td>2.5589760000000004</td><td>0.5644800000000001</td><td>3.1234560000000005</td><td>44.4406272</td><td>0.0144995</td><td>25.011637500000003</td><td>29.815611840000003</td><td>6.576973199999999</td><td>36.39258504</td><td>14.286647340000002</td><td>3.1514663250000003</td><td>17.438113665000003</td><td>0.0163890625</td><td>28.3434375</td><td>33.701157</td><td>7.434078749999999</td><td>41.13523575</td><td>16.189771500000003</td><td>3.5712731250000003</td><td>19.761044625</td><td>88.8812544</td><td>0.028999</td><td>50.023275000000005</td><td>59.631223680000005</td><td>13.153946399999999</td><td>72.78517008</td><td>28.573294680000004</td><td>6.302932650000001</td><td>34.876227330000006</td><td>0.032778125</td><td>56.686875</td><td>67.402314</td><td>14.868157499999999</td><td>82.2704715</td><td>32.379543000000005</td><td>7.1425462500000005</td><td>39.52208925</td><td>0.5752832</td><td>2.3011328</td><td>4.6382208</td><td>cycle7</td></tr>\n",
       "<tr><td>uid://A001/X15a3/X18</td><td>2019.1.01587.S</td><td>uid://A001/X15a3/X17</td><td>J1511+04_a_07_TM1</td><td>12m</td><td>Galaxy structure &amp; evolution</td><td>Cosmology and the high redshift Universe</td><td>Galaxy evolution</td><td>47</td><td>50</td><td>66</td><td>7.0</td><td>1.0</td><td>0.00473533757302897</td><td>0.09574715915292428</td><td>F</td><td>1370.0</td><td>17.044407549621972</td><td>0.019149431830584856</td><td>2</td><td>4</td><td>3893.0806528778044</td><td>341.56730347969506</td><td>3.3677629762572647</td><td>1920.0</td><td>480.0</td><td>1.875</td><td>7.5</td><td>341.56730347969506</td><td>2</td><td>8.0</td><td>16.0</td><td>32.0</td><td>2.0</td><td>4</td><td>8</td><td>16</td><td>3888.0</td><td>288.0</td><td>3.41248434738804</td><td>1134.0</td><td>84.0</td><td>0.9953079346548451</td><td>2268.0</td><td>168.0</td><td>1.9906158693096903</td><td>3.072</td><td>514.0</td><td>1763.0</td><td>881.0</td><td>2056.0</td><td>4112.0</td><td>8224.0</td><td>7052.0</td><td>14104.0</td><td>28208.0</td><td>3524.0</td><td>7048.0</td><td>14096.0</td><td>0.023421445549677945</td><td>0.04684289109935589</td><td>0.09368578219871178</td><td>0.005855361387419486</td><td>1081.0</td><td>1225.0</td><td>2145.0</td><td>1068.3083</td><td>2019.1.01587.S</td><td>J1511+04_a_07_TM1</td><td>6.048</td><td>1.0</td><td>1814.4</td><td>0.0</td><td>302.4</td><td>0.0</td><td>241.92</td><td>1028.16</td><td>3386.88</td><td>2358.7200000000003</td><td>0.0075076</td><td>6.6141956</td><td>52.973625600000005</td><td>0.01035175</td><td>17.85676875</td><td>10.64325528</td><td>24.41687976</td><td>35.06013504</td><td>5.099893155</td><td>11.699754885000003</td><td>16.79964804</td><td>0.0028647619047619047</td><td>4.941714285714285</td><td>2.9454336000000003</td><td>6.7571712</td><td>9.7026048</td><td>1.4113536</td><td>3.2378112000000003</td><td>4.6491648</td><td>0.01170078125</td><td>20.235468750000003</td><td>12.03027525</td><td>27.598866750000003</td><td>39.629142</td><td>5.779249875000001</td><td>13.258279125000003</td><td>19.037529000000003</td><td>0.003238095238095238</td><td>5.6</td><td>3.32928</td><td>7.63776</td><td>10.967039999999999</td><td>1.5993600000000001</td><td>3.6691200000000004</td><td>5.26848</td><td>105.94725120000001</td><td>0.0207035</td><td>35.7135375</td><td>21.28651056</td><td>48.83375952</td><td>70.12027008</td><td>10.19978631</td><td>23.399509770000005</td><td>33.59929608</td><td>0.0234015625</td><td>40.470937500000005</td><td>24.0605505</td><td>55.197733500000005</td><td>79.258284</td><td>11.558499750000003</td><td>26.516558250000006</td><td>38.075058000000006</td><td>211.89450240000002</td><td>0.041407</td><td>71.427075</td><td>42.57302112</td><td>97.66751904</td><td>140.24054016</td><td>20.39957262</td><td>46.79901954000001</td><td>67.19859216</td><td>0.046803125</td><td>80.94187500000001</td><td>48.121101</td><td>110.39546700000001</td><td>158.516568</td><td>23.116999500000006</td><td>53.03311650000001</td><td>76.15011600000001</td><td>3.603648</td><td>14.414592</td><td>28.8892448</td><td>cycle7</td></tr>\n",
       "<tr><td>uid://A001/X15a3/X5</td><td>2019.A.00040.S</td><td>uid://A001/X15a3/X4</td><td>ASASSN-2_a_07_TM1</td><td>12m</td><td>Debris disks</td><td>Circumstellar disks, exoplanets and the solar system</td><td>Disks and planet formation</td><td>47</td><td>50</td><td>66</td><td>7.0</td><td>1.0</td><td>0.004736613751849588</td><td>0.017512278432268685</td><td>F</td><td>7490.0</td><td>17.04810208137214</td><td>0.003502455686453737</td><td>2</td><td>4</td><td>979.229489693065</td><td>341.49625374808505</td><td>0.8470622795880317</td><td>4224.0</td><td>3840.0</td><td>2.0</td><td>7.875</td><td>341.49625374808505</td><td>2</td><td>8.0</td><td>16.0</td><td>32.0</td><td>2.0</td><td>4</td><td>8</td><td>16</td><td>972.0</td><td>72.0</td><td>0.8532985822765676</td><td>108.0</td><td>8.0</td><td>0.09481095358628529</td><td>567.0</td><td>42.0</td><td>0.49775750632799776</td><td>3.072</td><td>2057.0</td><td>18518.0</td><td>3527.0</td><td>8228.0</td><td>16456.0</td><td>32912.0</td><td>74072.0</td><td>148144.0</td><td>296288.0</td><td>14108.0</td><td>28216.0</td><td>56432.0</td><td>0.023426318479913517</td><td>0.04685263695982703</td><td>0.09370527391965407</td><td>0.005856579619978379</td><td>1081.0</td><td>1225.0</td><td>2145.0</td><td>5902.4077</td><td>2019.A.00040.S</td><td>ASASSN-2_a_07_TM1</td><td>2.016</td><td>1.0</td><td>1814.3999999999999</td><td>0.0</td><td>1868.832</td><td>0.0</td><td>217.728</td><td>5152.896</td><td>9053.856</td><td>3900.96</td><td>0.2244004</td><td>791.4602108</td><td>6333.4768896000005</td><td>0.04144225</td><td>71.48788125</td><td>213.547604256</td><td>161.66455956000001</td><td>375.212163816</td><td>102.324893706</td><td>77.46426812250002</td><td>179.7891618285</td><td>0.01890742857142857</td><td>32.61531428571429</td><td>97.428013056</td><td>73.75712256</td><td>171.185135616</td><td>46.684256256000005</td><td>35.34195456000001</td><td>82.026210816</td><td>0.04684296875</td><td>81.01078125000001</td><td>241.3769463</td><td>182.732547375</td><td>424.10949367499995</td><td>115.95559185</td><td>87.78328256250002</td><td>203.7388744125</td><td>0.021371428571428572</td><td>36.96</td><td>110.1247488</td><td>83.369088</td><td>193.4938368</td><td>52.9030656</td><td>40.049856000000005</td><td>92.9529216</td><td>12666.953779200001</td><td>0.0828845</td><td>142.9757625</td><td>427.095208512</td><td>323.32911912000003</td><td>750.424327632</td><td>204.649787412</td><td>154.92853624500003</td><td>359.578323657</td><td>0.0936859375</td><td>162.02156250000002</td><td>482.7538926</td><td>365.46509475</td><td>848.2189873499999</td><td>231.9111837</td><td>175.56656512500004</td><td>407.477748825</td><td>25333.907558400002</td><td>0.165769</td><td>285.951525</td><td>854.190417024</td><td>646.6582382400001</td><td>1500.848655264</td><td>409.299574824</td><td>309.85707249000006</td><td>719.156647314</td><td>0.187371875</td><td>324.04312500000003</td><td>965.5077852</td><td>730.9301895</td><td>1696.4379746999998</td><td>463.8223674</td><td>351.1331302500001</td><td>814.95549765</td><td>861.697536</td><td>947.8672896</td><td>1897.5297824000002</td><td>cycle7</td></tr>\n",
       "<tr><td>uid://A001/X15a9/X134d</td><td>2019.1.01634.L</td><td>uid://A001/X15a9/X134c</td><td>UVISTA-J_b_06_TM1</td><td>12m</td><td>Lyman Break Galaxies (LBG), Galaxy structure &amp; evolution</td><td>Cosmology and the high redshift Universe</td><td>Galaxy evolution</td><td>47</td><td>50</td><td>66</td><td>6.0</td><td>1.0</td><td>0.007381374109636608</td><td>1.2855946465692392</td><td>F</td><td>160.0</td><td>26.56061402394846</td><td>0.25711892931384783</td><td>2</td><td>3</td><td>7779.002950074101</td><td>219.13075675583687</td><td>10.558843821668365</td><td>720.0</td><td>240.0</td><td>1.875</td><td>5.625</td><td>219.13075675583687</td><td>2</td><td>16.0</td><td>16.0</td><td>32.0</td><td>2.0</td><td>8</td><td>8</td><td>16</td><td>7776.0</td><td>576.0</td><td>10.6383338784591</td><td>7303.5</td><td>541.0</td><td>9.99190734070551</td><td>7303.5</td><td>541.0</td><td>9.99190734070551</td><td>3.072</td><td>257.0</td><td>273.0</td><td>273.0</td><td>2056.0</td><td>2056.0</td><td>4112.0</td><td>2184.0</td><td>2184.0</td><td>4368.0</td><td>2184.0</td><td>2184.0</td><td>4368.0</td><td>0.07301576573218226</td><td>0.07301576573218226</td><td>0.1460315314643645</td><td>0.009126970716522782</td><td>1081.0</td><td>1225.0</td><td>2145.0</td><td>122.633286</td><td>2019.1.01634.L</td><td>UVISTA-J_b_06_TM1</td><td>6.048</td><td>1.0</td><td>604.8</td><td>0.0</td><td>241.92</td><td>0.0</td><td>0.0</td><td>2903.04</td><td>3749.7599999999998</td><td>846.7199999999999</td><td>0.0001024</td><td>0.0279552</td><td>0.4489216</td><td>0.0064155</td><td>11.0667375</td><td>18.624453120000002</td><td>5.432132159999999</td><td>24.05658528</td><td>8.92421712</td><td>2.60289666</td><td>11.527113779999999</td><td>0.0010742857142857143</td><td>1.853142857142857</td><td>3.1186944</td><td>0.9096191999999999</td><td>4.0283136</td><td>1.4943743999999999</td><td>0.4358591999999999</td><td>1.9302335999999995</td><td>0.0072515625</td><td>12.5409375</td><td>21.051576</td><td>6.1400429999999995</td><td>27.191619</td><td>10.113012</td><td>2.9496284999999998</td><td>13.062640499999999</td><td>0.0012142857142857144</td><td>2.0999999999999996</td><td>3.5251200000000003</td><td>1.02816</td><td>4.55328</td><td>1.6934399999999998</td><td>0.49391999999999986</td><td>2.1873599999999995</td><td>0.4489216</td><td>0.0064155</td><td>11.0667375</td><td>18.624453120000002</td><td>5.432132159999999</td><td>24.05658528</td><td>8.92421712</td><td>2.60289666</td><td>11.527113779999999</td><td>0.0072515625</td><td>12.5409375</td><td>21.051576</td><td>6.1400429999999995</td><td>27.191619</td><td>10.113012</td><td>2.9496284999999998</td><td>13.062640499999999</td><td>0.8978432</td><td>0.012831</td><td>22.133475</td><td>37.248906240000004</td><td>10.864264319999998</td><td>48.11317056</td><td>17.84843424</td><td>5.20579332</td><td>23.054227559999998</td><td>0.014503125</td><td>25.081875</td><td>42.103152</td><td>12.280085999999999</td><td>54.383238</td><td>20.226024</td><td>5.8992569999999995</td><td>26.125280999999998</td><td>0.024576</td><td>0.073728</td><td>0.1480704</td><td>cycle7</td></tr>\n",
       "<tr><td>uid://A001/X15a9/X1351</td><td>2019.1.01634.L</td><td>uid://A001/X15a9/X1350</td><td>UVISTA-J_c_06_TM1</td><td>12m</td><td>Lyman Break Galaxies (LBG), Galaxy structure &amp; evolution</td><td>Cosmology and the high redshift Universe</td><td>Galaxy evolution</td><td>47</td><td>50</td><td>66</td><td>6.0</td><td>1.0</td><td>0.007204637033625908</td><td>1.3081616346248486</td><td>F</td><td>150.0</td><td>25.924606029864425</td><td>0.26163232692496974</td><td>2</td><td>3</td><td>7779.804031912504</td><td>224.50623842940158</td><td>10.309003680864372</td><td>720.0</td><td>240.0</td><td>1.875</td><td>5.625</td><td>224.50623842940158</td><td>2</td><td>16.0</td><td>16.0</td><td>32.0</td><td>2.0</td><td>8</td><td>8</td><td>16</td><td>7776.0</td><td>576.0</td><td>10.383614146833903</td><td>7479.0</td><td>554.0</td><td>9.987017773170109</td><td>7479.0</td><td>554.0</td><td>9.987017773170109</td><td>3.072</td><td>257.0</td><td>267.0</td><td>267.0</td><td>2056.0</td><td>2056.0</td><td>4112.0</td><td>2136.0</td><td>2136.0</td><td>4272.0</td><td>2136.0</td><td>2136.0</td><td>4272.0</td><td>0.0712675073616334</td><td>0.0712675073616334</td><td>0.1425350147232668</td><td>0.008908438420204175</td><td>1081.0</td><td>1225.0</td><td>2145.0</td><td>120.855606</td><td>2019.1.01634.L</td><td>UVISTA-J_c_06_TM1</td><td>6.048</td><td>1.0</td><td>302.4</td><td>0.0</td><td>120.96</td><td>0.0</td><td>0.0</td><td>1149.12</td><td>1572.4799999999998</td><td>423.35999999999996</td><td>9e-05</td><td>0.02403</td><td>0.38592</td><td>0.0062745</td><td>10.8235125</td><td>7.210153439999999</td><td>2.6563723199999996</td><td>9.866525759999998</td><td>3.4548651899999996</td><td>1.2728450699999998</td><td>4.727710259999999</td><td>0.0010742857142857143</td><td>1.853142857142857</td><td>1.2344832</td><td>0.4548095999999999</td><td>1.6892927999999998</td><td>0.5915231999999999</td><td>0.21792959999999995</td><td>0.8094527999999999</td><td>0.0070921875</td><td>12.2653125</td><td>8.1497745</td><td>3.0025485</td><td>11.152322999999999</td><td>3.91508775</td><td>1.4424007499999998</td><td>5.3574885</td><td>0.0012142857142857144</td><td>2.0999999999999996</td><td>1.39536</td><td>0.51408</td><td>1.90944</td><td>0.6703199999999998</td><td>0.24695999999999993</td><td>0.9172799999999998</td><td>0.38592</td><td>0.0062745</td><td>10.8235125</td><td>7.210153439999999</td><td>2.6563723199999996</td><td>9.866525759999998</td><td>3.4548651899999996</td><td>1.2728450699999998</td><td>4.727710259999999</td><td>0.0070921875</td><td>12.2653125</td><td>8.1497745</td><td>3.0025485</td><td>11.152322999999999</td><td>3.91508775</td><td>1.4424007499999998</td><td>5.3574885</td><td>0.77184</td><td>0.012549</td><td>21.647025</td><td>14.420306879999998</td><td>5.312744639999999</td><td>19.733051519999997</td><td>6.909730379999999</td><td>2.5456901399999996</td><td>9.455420519999999</td><td>0.014184375</td><td>24.530625</td><td>16.299549</td><td>6.005097</td><td>22.304645999999998</td><td>7.8301755</td><td>2.8848014999999996</td><td>10.714977</td><td>0.0216</td><td>0.0648</td><td>0.13014</td><td>cycle7</td></tr>\n",
       "<tr><td>uid://A001/X15aa/X74</td><td>2019.1.00863.T</td><td>uid://A001/X15aa/X73</td><td>SGRB2_a_03_TM1</td><td>12m</td><td>Pulsars and neutron stars, Transients</td><td>Stellar evolution and the Sun</td><td>Stars and stellar evolution</td><td>47</td><td>50</td><td>66</td><td>3.0</td><td>1.0</td><td>0.01658832667287695</td><td>0.6470849266662538</td><td>F</td><td>710.0</td><td>59.931417240091704</td><td>0.12941698533325077</td><td>2</td><td>4</td><td>30913.559908317307</td><td>97.4918584840845</td><td>90.52858123839745</td><td>512.0</td><td>128.0</td><td>2.0</td><td>8.0</td><td>97.4918584840845</td><td>2</td><td>16.0</td><td>16.0</td><td>32.0</td><td>2.0</td><td>8</td><td>8</td><td>16</td><td>30901.5</td><td>2289.0</td><td>95.02369515706123</td><td>3240.0</td><td>240.0</td><td>9.963165940452031</td><td>3240.0</td><td>240.0</td><td>9.963165940452031</td><td>3.072</td><td>64.0</td><td>617.0</td><td>617.0</td><td>512.0</td><td>512.0</td><td>1024.0</td><td>4936.0</td><td>4936.0</td><td>9872.0</td><td>4936.0</td><td>4936.0</td><td>9872.0</td><td>0.1641162682585643</td><td>0.1641162682585643</td><td>0.3282325365171286</td><td>0.020514533532320536</td><td>1081.0</td><td>1225.0</td><td>2145.0</td><td>562.5464</td><td>2019.1.00863.T</td><td>SGRB2_a_03_TM1</td><td>2.016</td><td>1.0</td><td>302.4</td><td>0.0</td><td>151.2</td><td>0.0</td><td>0.0</td><td>2056.32</td><td>2509.92</td><td>453.59999999999997</td><td>0.0020164</td><td>1.2441188</td><td>19.9381632</td><td>0.0144995</td><td>25.011637500000003</td><td>29.815611840000003</td><td>6.576973199999999</td><td>36.39258504</td><td>14.286647340000002</td><td>3.1514663250000003</td><td>17.438113665000003</td><td>0.0022918095238095237</td><td>3.9533714285714288</td><td>4.71269376</td><td>1.0395648</td><td>5.75225856</td><td>2.2581657600000002</td><td>0.49812480000000003</td><td>2.7562905600000005</td><td>0.0163890625</td><td>28.3434375</td><td>33.701157</td><td>7.434078749999999</td><td>41.13523575</td><td>16.189771500000003</td><td>3.5712731250000003</td><td>19.761044625</td><td>0.0025904761904761904</td><td>4.48</td><td>5.326848</td><td>1.1750399999999999</td><td>6.501888</td><td>2.5589760000000004</td><td>0.5644800000000001</td><td>3.1234560000000005</td><td>19.9381632</td><td>0.0144995</td><td>25.011637500000003</td><td>29.815611840000003</td><td>6.576973199999999</td><td>36.39258504</td><td>14.286647340000002</td><td>3.1514663250000003</td><td>17.438113665000003</td><td>0.0163890625</td><td>28.3434375</td><td>33.701157</td><td>7.434078749999999</td><td>41.13523575</td><td>16.189771500000003</td><td>3.5712731250000003</td><td>19.761044625</td><td>39.8763264</td><td>0.028999</td><td>50.023275000000005</td><td>59.631223680000005</td><td>13.153946399999999</td><td>72.78517008</td><td>28.573294680000004</td><td>6.302932650000001</td><td>34.876227330000006</td><td>0.032778125</td><td>56.686875</td><td>67.402314</td><td>14.868157499999999</td><td>82.2704715</td><td>32.379543000000005</td><td>7.1425462500000005</td><td>39.52208925</td><td>0.2580992</td><td>1.0323968</td><td>2.0809247999999996</td><td>cycle7</td></tr>\n",
       "<tr><td>uid://A001/X15aa/X77</td><td>2019.1.00863.T</td><td>uid://A001/X15aa/X76</td><td>GRB21110_e_03_TM1</td><td>12m</td><td>Pulsars and neutron stars, Transients</td><td>Stellar evolution and the Sun</td><td>Stars and stellar evolution</td><td>47</td><td>50</td><td>66</td><td>3.0</td><td>1.0</td><td>0.01658864995868178</td><td>1.1041984061268773</td><td>F</td><td>420.0</td><td>59.93258522869232</td><td>0.22083968122537545</td><td>2</td><td>4</td><td>30912.957453318253</td><td>97.48995852634154</td><td>90.52858123839742</td><td>512.0</td><td>128.0</td><td>2.0</td><td>8.0</td><td>97.48995852634154</td><td>2</td><td>16.0</td><td>16.0</td><td>32.0</td><td>2.0</td><td>8</td><td>8</td><td>16</td><td>30901.5</td><td>2289.0</td><td>95.02554705040603</td><td>3240.0</td><td>240.0</td><td>9.963360110134314</td><td>3240.0</td><td>240.0</td><td>9.963360110134314</td><td>3.072</td><td>64.0</td><td>617.0</td><td>617.0</td><td>512.0</td><td>512.0</td><td>1024.0</td><td>4936.0</td><td>4936.0</td><td>9872.0</td><td>4936.0</td><td>4936.0</td><td>9872.0</td><td>0.16411946668001548</td><td>0.16411946668001548</td><td>0.32823893336003096</td><td>0.020514933335001935</td><td>1081.0</td><td>1225.0</td><td>2145.0</td><td>329.6704</td><td>2019.1.00863.T</td><td>GRB21110_e_03_TM1</td><td>2.016</td><td>1.0</td><td>302.4</td><td>0.0</td><td>151.2</td><td>0.0</td><td>0.0</td><td>2056.32</td><td>2509.92</td><td>453.59999999999997</td><td>0.0007056</td><td>0.4353552</td><td>6.9769727999999995</td><td>0.0144995</td><td>25.011637500000003</td><td>29.815611840000003</td><td>6.576973199999999</td><td>36.39258504</td><td>14.286647340000002</td><td>3.1514663250000003</td><td>17.438113665000003</td><td>0.0022918095238095237</td><td>3.9533714285714288</td><td>4.71269376</td><td>1.0395648</td><td>5.75225856</td><td>2.2581657600000002</td><td>0.49812480000000003</td><td>2.7562905600000005</td><td>0.0163890625</td><td>28.3434375</td><td>33.701157</td><td>7.434078749999999</td><td>41.13523575</td><td>16.189771500000003</td><td>3.5712731250000003</td><td>19.761044625</td><td>0.0025904761904761904</td><td>4.48</td><td>5.326848</td><td>1.1750399999999999</td><td>6.501888</td><td>2.5589760000000004</td><td>0.5644800000000001</td><td>3.1234560000000005</td><td>6.9769727999999995</td><td>0.0144995</td><td>25.011637500000003</td><td>29.815611840000003</td><td>6.576973199999999</td><td>36.39258504</td><td>14.286647340000002</td><td>3.1514663250000003</td><td>17.438113665000003</td><td>0.0163890625</td><td>28.3434375</td><td>33.701157</td><td>7.434078749999999</td><td>41.13523575</td><td>16.189771500000003</td><td>3.5712731250000003</td><td>19.761044625</td><td>13.953945599999999</td><td>0.028999</td><td>50.023275000000005</td><td>59.631223680000005</td><td>13.153946399999999</td><td>72.78517008</td><td>28.573294680000004</td><td>6.302932650000001</td><td>34.876227330000006</td><td>0.032778125</td><td>56.686875</td><td>67.402314</td><td>14.868157499999999</td><td>82.2704715</td><td>32.379543000000005</td><td>7.1425462500000005</td><td>39.52208925</td><td>0.0903168</td><td>0.3612672</td><td>0.7281792</td><td>cycle7</td></tr>\n",
       "</table></div>"
      ],
      "text/plain": [
       "<QTable length=2719>\n",
       "         mous           proposal_id            gous          ...  blc_productsize   cycle_info\n",
       "                                                             ...       Gbyte                  \n",
       "        str22              str14              str22          ...      float64          str6   \n",
       "---------------------- -------------- ---------------------- ... ------------------ ----------\n",
       "uid://A001/X1465/X1002 2019.1.01326.S uid://A001/X1465/X1001 ...           5.552448     cycle7\n",
       "uid://A001/X1465/X1008 2019.1.01326.S uid://A001/X1465/X1007 ...          3.7767168     cycle7\n",
       "uid://A001/X1465/X100e 2019.1.01326.S uid://A001/X1465/X100d ...          3.7767168     cycle7\n",
       "uid://A001/X1465/X1014 2019.1.01326.S uid://A001/X1465/X1013 ... 3.9357192000000003     cycle7\n",
       "uid://A001/X1465/X101a 2019.1.01326.S uid://A001/X1465/X1019 ...          3.7767168     cycle7\n",
       "uid://A001/X1465/X1020 2019.1.01326.S uid://A001/X1465/X101f ... 3.3193799999999998     cycle7\n",
       "uid://A001/X1465/X1026 2019.1.01326.S uid://A001/X1465/X1025 ... 3.6209928000000002     cycle7\n",
       "uid://A001/X1465/X102c 2019.1.01326.S uid://A001/X1465/X102b ... 3.3193799999999998     cycle7\n",
       "                   ...            ...                    ... ...                ...        ...\n",
       " uid://A001/X15a2/Xab7 2019.1.01324.T  uid://A001/X15a2/Xab6 ... 461.50718720000003     cycle7\n",
       " uid://A001/X15a2/Xed4 2019.1.00863.T uid://A001/X15a1/X1ec9 ...          4.6382208     cycle7\n",
       "  uid://A001/X15a3/X18 2019.1.01587.S   uid://A001/X15a3/X17 ...         28.8892448     cycle7\n",
       "   uid://A001/X15a3/X5 2019.A.00040.S    uid://A001/X15a3/X4 ... 1897.5297824000002     cycle7\n",
       "uid://A001/X15a9/X134d 2019.1.01634.L uid://A001/X15a9/X134c ...          0.1480704     cycle7\n",
       "uid://A001/X15a9/X1351 2019.1.01634.L uid://A001/X15a9/X1350 ...            0.13014     cycle7\n",
       "  uid://A001/X15aa/X74 2019.1.00863.T   uid://A001/X15aa/X73 ... 2.0809247999999996     cycle7\n",
       "  uid://A001/X15aa/X77 2019.1.00863.T   uid://A001/X15aa/X76 ...          0.7281792     cycle7"
      ]
     },
     "execution_count": 64,
     "metadata": {},
     "output_type": "execute_result"
    }
   ],
   "source": [
    "result_tos_mous"
   ]
  },
  {
   "cell_type": "code",
   "execution_count": 65,
   "id": "e42cc429",
   "metadata": {
    "scrolled": false
   },
   "outputs": [
    {
     "data": {
      "text/plain": [
       "2719"
      ]
     },
     "execution_count": 65,
     "metadata": {},
     "output_type": "execute_result"
    }
   ],
   "source": [
    "len(result_tos_mous)"
   ]
  },
  {
   "cell_type": "code",
   "execution_count": 66,
   "id": "20fdbb47",
   "metadata": {},
   "outputs": [
    {
     "data": {
      "text/plain": [
       "<TableColumns names=('mous','proposal_id','gous','schedblock_name','array','science_keyword','scientific_category_proposal','scientific_category','nant_typical','nant_array','nant_all','band','ntarget','s_fov','s_resolution','mosaic','imsize','pb','cell','blc_npol','blc_nspw','blc_specwidth','blc_freq','blc_velres','blc_nchan_agg','blc_nchan_max','blc_bandwidth_max','blc_bandwidth_agg','wsu_freq','wsu_npol','wsu_bandwidth_early','wsu_bandwidth_later_2x','wsu_bandwidth_later_4x','wsu_bandwidth_spw','wsu_nspw_early','wsu_nspw_later_2x','wsu_nspw_later_4x','wsu_specwidth_finest','wsu_chanavg_finest','wsu_velres_finest','wsu_specwidth_stepped','wsu_chanavg_stepped','wsu_velres_stepped','wsu_specwidth_stepped2','wsu_chanavg_stepped2','wsu_velres_stepped2','wsu_tint','wsu_nchan_spw_finest','wsu_nchan_spw_stepped','wsu_nchan_spw_stepped2','wsu_nchan_agg_finest_early','wsu_nchan_agg_finest_later_2x','wsu_nchan_agg_finest_later_4x','wsu_nchan_agg_stepped_early','wsu_nchan_agg_stepped_later_2x','wsu_nchan_agg_stepped_later_4x','wsu_nchan_agg_stepped2_early','wsu_nchan_agg_stepped2_later_2x','wsu_nchan_agg_stepped2_later_4x','wsu_frac_bw_early','wsu_frac_bw_later_2x','wsu_frac_bw_later_4x','wsu_frac_bw_spw','nbase_typical','nbase_array','nbase_all','L80','Project','SB_name','blc_tint','blc_ntunings','bp_time','flux_time','phase_time','pol_time','check_time','target_time_tot','time_tot','cal_time','mfssize','wsu_cubesize_stepped2','wsu_productsize_early_stepped2','wsu_datarate_early_stepped2_typical','wsu_visrate_early_stepped2_typical','wsu_datavol_early_stepped2_typical_target_tot','wsu_datavol_early_stepped2_typical_cal','wsu_datavol_early_stepped2_typical_total','wsu_nvis_early_stepped2_typical_target_tot','wsu_nvis_early_stepped2_typical_cal','wsu_nvis_early_stepped2_typical_total','blc_datarate_typical','blc_visrate_typical','blc_datavol_typical_target_tot','blc_datavol_typical_cal','blc_datavol_typical_total','blc_nvis_typical_target_tot','blc_nvis_typical_cal','blc_nvis_typical_total','wsu_datarate_early_stepped2_array','wsu_visrate_early_stepped2_array','wsu_datavol_early_stepped2_array_target_tot','wsu_datavol_early_stepped2_array_cal','wsu_datavol_early_stepped2_array_total','wsu_nvis_early_stepped2_array_target_tot','wsu_nvis_early_stepped2_array_cal','wsu_nvis_early_stepped2_array_total','blc_datarate_array','blc_visrate_array','blc_datavol_array_target_tot','blc_datavol_array_cal','blc_datavol_array_total','blc_nvis_array_target_tot','blc_nvis_array_cal','blc_nvis_array_total','wsu_productsize_later_2x_stepped2','wsu_datarate_later_2x_stepped2_typical','wsu_visrate_later_2x_stepped2_typical','wsu_datavol_later_2x_stepped2_typical_target_tot','wsu_datavol_later_2x_stepped2_typical_cal','wsu_datavol_later_2x_stepped2_typical_total','wsu_nvis_later_2x_stepped2_typical_target_tot','wsu_nvis_later_2x_stepped2_typical_cal','wsu_nvis_later_2x_stepped2_typical_total','wsu_datarate_later_2x_stepped2_array','wsu_visrate_later_2x_stepped2_array','wsu_datavol_later_2x_stepped2_array_target_tot','wsu_datavol_later_2x_stepped2_array_cal','wsu_datavol_later_2x_stepped2_array_total','wsu_nvis_later_2x_stepped2_array_target_tot','wsu_nvis_later_2x_stepped2_array_cal','wsu_nvis_later_2x_stepped2_array_total','wsu_productsize_later_4x_stepped2','wsu_datarate_later_4x_stepped2_typical','wsu_visrate_later_4x_stepped2_typical','wsu_datavol_later_4x_stepped2_typical_target_tot','wsu_datavol_later_4x_stepped2_typical_cal','wsu_datavol_later_4x_stepped2_typical_total','wsu_nvis_later_4x_stepped2_typical_target_tot','wsu_nvis_later_4x_stepped2_typical_cal','wsu_nvis_later_4x_stepped2_typical_total','wsu_datarate_later_4x_stepped2_array','wsu_visrate_later_4x_stepped2_array','wsu_datavol_later_4x_stepped2_array_target_tot','wsu_datavol_later_4x_stepped2_array_cal','wsu_datavol_later_4x_stepped2_array_total','wsu_nvis_later_4x_stepped2_array_target_tot','wsu_nvis_later_4x_stepped2_array_cal','wsu_nvis_later_4x_stepped2_array_total','blc_cubesize','blc_cubesize_sum','blc_productsize','cycle_info')>"
      ]
     },
     "execution_count": 66,
     "metadata": {},
     "output_type": "execute_result"
    }
   ],
   "source": [
    "result_tos_mous.columns"
   ]
  },
  {
   "cell_type": "code",
   "execution_count": 67,
   "id": "dda076d0",
   "metadata": {
    "scrolled": true
   },
   "outputs": [
    {
     "name": "stdout",
     "output_type": "stream",
     "text": [
      "Taking first value. Key aggregation not specified: mous\n",
      "Taking first value. Key aggregation not specified: proposal_id\n",
      "Taking first value. Key aggregation not specified: gous\n",
      "Taking first value. Key aggregation not specified: schedblock_name\n",
      "Taking first value. Key aggregation not specified: array\n",
      "Taking first value. Key aggregation not specified: science_keyword\n",
      "Taking first value. Key aggregation not specified: scientific_category_proposal\n",
      "Taking first value. Key aggregation not specified: scientific_category\n",
      "Taking first value. Key aggregation not specified: nant_typical\n",
      "Taking first value. Key aggregation not specified: nant_array\n",
      "Taking first value. Key aggregation not specified: nant_all\n",
      "Taking first value. Key aggregation not specified: band\n",
      "Taking first value. Key aggregation not specified: ntarget\n",
      "Taking first value. Key aggregation not specified: target_name\n",
      "Taking first value. Key aggregation not specified: mosaic\n",
      "Taking first value. Key aggregation not specified: blc_npol\n",
      "Taking first value. Key aggregation not specified: blc_nspw\n",
      "Taking first value. Key aggregation not specified: blc_nchan_agg\n",
      "Taking first value. Key aggregation not specified: blc_nchan_max\n",
      "Taking first value. Key aggregation not specified: blc_bandwidth_max\n",
      "Taking first value. Key aggregation not specified: blc_bandwidth_agg\n",
      "Taking first value. Key aggregation not specified: wsu_npol\n",
      "Taking first value. Key aggregation not specified: wsu_bandwidth_early\n",
      "Taking first value. Key aggregation not specified: wsu_bandwidth_later_2x\n",
      "Taking first value. Key aggregation not specified: wsu_bandwidth_later_4x\n",
      "Taking first value. Key aggregation not specified: wsu_bandwidth_spw\n",
      "Taking first value. Key aggregation not specified: wsu_nspw_early\n",
      "Taking first value. Key aggregation not specified: wsu_nspw_later_2x\n",
      "Taking first value. Key aggregation not specified: wsu_nspw_later_4x\n",
      "Taking first value. Key aggregation not specified: wsu_tint\n",
      "Taking first value. Key aggregation not specified: wsu_frac_bw_early\n",
      "Taking first value. Key aggregation not specified: wsu_frac_bw_later_2x\n",
      "Taking first value. Key aggregation not specified: wsu_frac_bw_later_4x\n",
      "Taking first value. Key aggregation not specified: wsu_frac_bw_spw\n",
      "Taking first value. Key aggregation not specified: nbase_typical\n",
      "Taking first value. Key aggregation not specified: nbase_array\n",
      "Taking first value. Key aggregation not specified: nbase_all\n",
      "Taking first value. Key aggregation not specified: L80\n",
      "Taking first value. Key aggregation not specified: Project\n",
      "Taking first value. Key aggregation not specified: SB_name\n",
      "Taking first value. Key aggregation not specified: blc_tint\n",
      "Taking first value. Key aggregation not specified: blc_ntunings\n",
      "Taking first value. Key aggregation not specified: bp_time\n",
      "Taking first value. Key aggregation not specified: flux_time\n",
      "Taking first value. Key aggregation not specified: phase_time\n",
      "Taking first value. Key aggregation not specified: pol_time\n",
      "Taking first value. Key aggregation not specified: check_time\n",
      "Taking first value. Key aggregation not specified: target_time\n",
      "Taking first value. Key aggregation not specified: target_time_tot\n",
      "Taking first value. Key aggregation not specified: time_tot\n",
      "Taking first value. Key aggregation not specified: cal_time\n",
      "Taking first value. Key aggregation not specified: wsu_datavol_early_stepped2_typical_target\n",
      "Taking first value. Key aggregation not specified: wsu_datavol_early_stepped2_typical_target_tot\n",
      "Taking first value. Key aggregation not specified: wsu_datavol_early_stepped2_typical_cal\n",
      "Taking first value. Key aggregation not specified: wsu_datavol_early_stepped2_typical_total\n",
      "Taking first value. Key aggregation not specified: wsu_nvis_early_stepped2_typical_target\n",
      "Taking first value. Key aggregation not specified: wsu_nvis_early_stepped2_typical_target_tot\n",
      "Taking first value. Key aggregation not specified: wsu_nvis_early_stepped2_typical_cal\n",
      "Taking first value. Key aggregation not specified: wsu_nvis_early_stepped2_typical_total\n",
      "Taking first value. Key aggregation not specified: blc_datarate_typical\n",
      "Taking first value. Key aggregation not specified: blc_visrate_typical\n",
      "Taking first value. Key aggregation not specified: blc_datavol_typical_target\n",
      "Taking first value. Key aggregation not specified: blc_datavol_typical_target_tot\n",
      "Taking first value. Key aggregation not specified: blc_datavol_typical_cal\n",
      "Taking first value. Key aggregation not specified: blc_datavol_typical_total\n",
      "Taking first value. Key aggregation not specified: blc_nvis_typical_target\n",
      "Taking first value. Key aggregation not specified: blc_nvis_typical_target_tot\n",
      "Taking first value. Key aggregation not specified: blc_nvis_typical_cal\n",
      "Taking first value. Key aggregation not specified: blc_nvis_typical_total\n",
      "Taking first value. Key aggregation not specified: wsu_datavol_early_stepped2_array_target\n",
      "Taking first value. Key aggregation not specified: wsu_datavol_early_stepped2_array_target_tot\n",
      "Taking first value. Key aggregation not specified: wsu_datavol_early_stepped2_array_cal\n",
      "Taking first value. Key aggregation not specified: wsu_datavol_early_stepped2_array_total\n",
      "Taking first value. Key aggregation not specified: wsu_nvis_early_stepped2_array_target\n",
      "Taking first value. Key aggregation not specified: wsu_nvis_early_stepped2_array_target_tot\n",
      "Taking first value. Key aggregation not specified: wsu_nvis_early_stepped2_array_cal\n",
      "Taking first value. Key aggregation not specified: wsu_nvis_early_stepped2_array_total\n",
      "Taking first value. Key aggregation not specified: blc_datarate_array\n",
      "Taking first value. Key aggregation not specified: blc_visrate_array\n",
      "Taking first value. Key aggregation not specified: blc_datavol_array_target\n",
      "Taking first value. Key aggregation not specified: blc_datavol_array_target_tot\n",
      "Taking first value. Key aggregation not specified: blc_datavol_array_cal\n",
      "Taking first value. Key aggregation not specified: blc_datavol_array_total\n",
      "Taking first value. Key aggregation not specified: blc_nvis_array_target\n",
      "Taking first value. Key aggregation not specified: blc_nvis_array_target_tot\n",
      "Taking first value. Key aggregation not specified: blc_nvis_array_cal\n",
      "Taking first value. Key aggregation not specified: blc_nvis_array_total\n",
      "Taking first value. Key aggregation not specified: wsu_datavol_later_2x_stepped2_typical_target\n",
      "Taking first value. Key aggregation not specified: wsu_datavol_later_2x_stepped2_typical_target_tot\n",
      "Taking first value. Key aggregation not specified: wsu_datavol_later_2x_stepped2_typical_cal\n",
      "Taking first value. Key aggregation not specified: wsu_datavol_later_2x_stepped2_typical_total\n",
      "Taking first value. Key aggregation not specified: wsu_nvis_later_2x_stepped2_typical_target\n",
      "Taking first value. Key aggregation not specified: wsu_nvis_later_2x_stepped2_typical_target_tot\n",
      "Taking first value. Key aggregation not specified: wsu_nvis_later_2x_stepped2_typical_cal\n",
      "Taking first value. Key aggregation not specified: wsu_nvis_later_2x_stepped2_typical_total\n",
      "Taking first value. Key aggregation not specified: wsu_datavol_later_2x_stepped2_array_target\n",
      "Taking first value. Key aggregation not specified: wsu_datavol_later_2x_stepped2_array_target_tot\n",
      "Taking first value. Key aggregation not specified: wsu_datavol_later_2x_stepped2_array_cal\n",
      "Taking first value. Key aggregation not specified: wsu_datavol_later_2x_stepped2_array_total\n",
      "Taking first value. Key aggregation not specified: wsu_nvis_later_2x_stepped2_array_target\n",
      "Taking first value. Key aggregation not specified: wsu_nvis_later_2x_stepped2_array_target_tot\n",
      "Taking first value. Key aggregation not specified: wsu_nvis_later_2x_stepped2_array_cal\n",
      "Taking first value. Key aggregation not specified: wsu_nvis_later_2x_stepped2_array_total\n",
      "Taking first value. Key aggregation not specified: wsu_datavol_later_4x_stepped2_typical_target\n",
      "Taking first value. Key aggregation not specified: wsu_datavol_later_4x_stepped2_typical_target_tot\n",
      "Taking first value. Key aggregation not specified: wsu_datavol_later_4x_stepped2_typical_cal\n",
      "Taking first value. Key aggregation not specified: wsu_datavol_later_4x_stepped2_typical_total\n",
      "Taking first value. Key aggregation not specified: wsu_nvis_later_4x_stepped2_typical_target\n",
      "Taking first value. Key aggregation not specified: wsu_nvis_later_4x_stepped2_typical_target_tot\n",
      "Taking first value. Key aggregation not specified: wsu_nvis_later_4x_stepped2_typical_cal\n",
      "Taking first value. Key aggregation not specified: wsu_nvis_later_4x_stepped2_typical_total\n",
      "Taking first value. Key aggregation not specified: wsu_datavol_later_4x_stepped2_array_target\n",
      "Taking first value. Key aggregation not specified: wsu_datavol_later_4x_stepped2_array_target_tot\n",
      "Taking first value. Key aggregation not specified: wsu_datavol_later_4x_stepped2_array_cal\n",
      "Taking first value. Key aggregation not specified: wsu_datavol_later_4x_stepped2_array_total\n",
      "Taking first value. Key aggregation not specified: wsu_nvis_later_4x_stepped2_array_target\n",
      "Taking first value. Key aggregation not specified: wsu_nvis_later_4x_stepped2_array_target_tot\n",
      "Taking first value. Key aggregation not specified: wsu_nvis_later_4x_stepped2_array_cal\n",
      "Taking first value. Key aggregation not specified: wsu_nvis_later_4x_stepped2_array_total\n",
      "Taking first value. Key aggregation not specified: blc_cubesize\n",
      "Taking first value. Key aggregation not specified: blc_cubesize_sum\n",
      "Taking first value. Key aggregation not specified: cycle_info\n"
     ]
    }
   ],
   "source": [
    "result_c8_tos_mous = wsu_db.create_per_mous_db(result_c8_tos)"
   ]
  },
  {
   "cell_type": "code",
   "execution_count": 68,
   "id": "1a5326d5",
   "metadata": {},
   "outputs": [
    {
     "data": {
      "text/plain": [
       "2481"
      ]
     },
     "execution_count": 68,
     "metadata": {},
     "output_type": "execute_result"
    }
   ],
   "source": [
    "len(result_c8_tos_mous)"
   ]
  },
  {
   "cell_type": "markdown",
   "id": "61f28347",
   "metadata": {},
   "source": [
    "## Apply mitigations to per mous database"
   ]
  },
  {
   "cell_type": "markdown",
   "id": "a2dafff9",
   "metadata": {},
   "source": [
    "Commented the following out since I don't think it makes too much sense right now"
   ]
  },
  {
   "cell_type": "code",
   "execution_count": 69,
   "id": "0ec4d07a",
   "metadata": {},
   "outputs": [],
   "source": [
    "#reload(wsu_db)"
   ]
  },
  {
   "cell_type": "code",
   "execution_count": 70,
   "id": "21d95750",
   "metadata": {},
   "outputs": [],
   "source": [
    "#wsu_db.apply_mitigations(result_tos_mous)"
   ]
  },
  {
   "cell_type": "code",
   "execution_count": 71,
   "id": "c6873889",
   "metadata": {},
   "outputs": [],
   "source": [
    "#wsu_db.apply_mitigations(result_c8_tos_mous)"
   ]
  },
  {
   "cell_type": "markdown",
   "id": "8ffe2e7d",
   "metadata": {},
   "source": [
    "## Adding in current mitigation information"
   ]
  },
  {
   "cell_type": "code",
   "execution_count": 72,
   "id": "b976e850",
   "metadata": {},
   "outputs": [
    {
     "data": {
      "text/plain": [
       "<module 'wsu_db' from '/Users/akepley/Dropbox/Support/naasc/WSU/big_cubes/wsu_db.py'>"
      ]
     },
     "execution_count": 72,
     "metadata": {},
     "output_type": "execute_result"
    }
   ],
   "source": [
    "reload(wsu_db)"
   ]
  },
  {
   "cell_type": "code",
   "execution_count": 73,
   "id": "e87777f7",
   "metadata": {},
   "outputs": [],
   "source": [
    "c7_pickle = '/Users/akepley/Dropbox/Support/naasc/WSU/mitigation/weblog_stats/allc7_stats.20220930.pkl'\n",
    "c7_astropy = wsu_db.get_pipeinfo(c7_pickle)"
   ]
  },
  {
   "cell_type": "code",
   "execution_count": 74,
   "id": "7f0ddba9",
   "metadata": {
    "scrolled": true
   },
   "outputs": [
    {
     "data": {
      "text/html": [
       "<div><i>Table masked=True length=2565</i>\n",
       "<table id=\"table140414862529728\" class=\"table-striped table-bordered table-condensed\">\n",
       "<thead><tr><th>mous</th><th>project</th><th>plversion</th><th>procedure</th><th>nant</th><th>totaltime</th><th>imgtime</th><th>cubetime</th><th>aggtime</th><th>fctime</th><th>nEB</th><th>npt</th><th>nscan</th><th>reptgt</th><th>nscience</th><th>nspw</th><th>webpredrms</th><th>webcontrms</th><th>webcontBW</th><th>webfreq</th><th>webbm</th><th>webdirtyDR</th><th>webDRcorr</th><th>webcontpk</th><th>webfreqline</th><th>webbmline</th><th>webpredrmsline</th><th>webdirtyDRline</th><th>webDRcorrline</th><th>weblinerms</th><th>weblinepk</th><th>weblineBW</th><th>allowedcubesize</th><th>allowedcubelimit</th><th>predcubesize</th><th>mitigatedcubesize</th><th>allowedprodsize</th><th>initialprodsize</th><th>prodsizeaftercube</th><th>mitigatedprodsize</th><th>mitigated</th><th>mit_nbins</th><th>mit_hm_imsize</th><th>mit_hm_cell</th><th>mit_field</th><th>mit_spw</th></tr></thead>\n",
       "<thead><tr><th>str22</th><th>str14</th><th>str4</th><th>str20</th><th>int64</th><th>float64</th><th>float64</th><th>float64</th><th>float64</th><th>float64</th><th>int64</th><th>int64</th><th>int64</th><th>str35</th><th>int64</th><th>int64</th><th>float64</th><th>float64</th><th>float64</th><th>float64</th><th>float64</th><th>float64</th><th>float64</th><th>float64</th><th>float64</th><th>float64</th><th>float64</th><th>float64</th><th>float64</th><th>float64</th><th>float64</th><th>float64</th><th>float64</th><th>float64</th><th>float64</th><th>float64</th><th>float64</th><th>float64</th><th>float64</th><th>float64</th><th>bool</th><th>str64</th><th>str7</th><th>str7</th><th>str846</th><th>str54</th></tr></thead>\n",
       "<tr><td>uid://A001/X1465/X1002</td><td>2019.1.01326.S</td><td>C7</td><td>hifa_calimage</td><td>10</td><td>5.1194444444444445</td><td>4.113333333333333</td><td>3.731666666666667</td><td>0.06194444444444445</td><td>0.16666666666666666</td><td>1</td><td>34</td><td>2</td><td>Position_8</td><td>1</td><td>4</td><td>0.0019</td><td>0.0025</td><td>2.76</td><td>92.6159</td><td>13.628499550574158</td><td>54.0</td><td>2.5</td><td>0.105</td><td>85.9</td><td>15.461953304805961</td><td>0.079</td><td>38.0</td><td>2.5</td><td>0.074</td><td>3.49</td><td>1.8727352000000002</td><td>40.0</td><td>60.0</td><td>1.68</td><td>1.68</td><td>350.0</td><td>11.7</td><td>11.7</td><td>11.7</td><td>False</td><td>default</td><td>default</td><td>default</td><td>default</td><td>default</td></tr>\n",
       "<tr><td>uid://A001/X1465/X1008</td><td>2019.1.01326.S</td><td>C7</td><td>hifa_calimage</td><td>10</td><td>1.9755555555555557</td><td>1.267777777777778</td><td>0.9855555555555555</td><td>0.05583333333333334</td><td>0.10694444444444444</td><td>1</td><td>39</td><td>1</td><td>Position_2</td><td>1</td><td>4</td><td>0.0014</td><td>0.0017</td><td>6.65</td><td>100.8709</td><td>12.991420245685227</td><td>6.9</td><td>1.5</td><td>0.0171</td><td>93.9</td><td>14.877499789951266</td><td>0.085</td><td>25.0</td><td>2.5</td><td>0.077</td><td>2.14</td><td>1.863162</td><td>40.0</td><td>60.0</td><td>0.86</td><td>0.86</td><td>350.0</td><td>6.88</td><td>6.88</td><td>6.88</td><td>False</td><td>default</td><td>default</td><td>default</td><td>default</td><td>default</td></tr>\n",
       "<tr><td>uid://A001/X1465/X100e</td><td>2019.1.01326.S</td><td>C7</td><td>hifa_calimage</td><td>10</td><td>2.3316666666666666</td><td>1.5105555555555559</td><td>1.1925000000000001</td><td>0.06055555555555556</td><td>0.12555555555555556</td><td>1</td><td>39</td><td>1</td><td>Position_3</td><td>1</td><td>4</td><td>0.0013</td><td>0.0016</td><td>6.51</td><td>100.8724</td><td>13.053160536820192</td><td>12.0</td><td>2.0</td><td>0.0174</td><td>93.9</td><td>14.458215657542254</td><td>0.076</td><td>34.0</td><td>2.5</td><td>0.073</td><td>3.27</td><td>1.8709740000000001</td><td>40.0</td><td>60.0</td><td>0.839</td><td>0.839</td><td>350.0</td><td>6.71</td><td>6.71</td><td>6.71</td><td>False</td><td>default</td><td>default</td><td>default</td><td>default</td><td>default</td></tr>\n",
       "<tr><td>uid://A001/X1465/X1014</td><td>2019.1.01326.S</td><td>C7</td><td>hifa_calimage</td><td>9</td><td>2.283888888888889</td><td>1.5136111111111115</td><td>1.2166666666666668</td><td>0.04527777777777778</td><td>0.1175</td><td>1</td><td>39</td><td>1</td><td>Position_4</td><td>1</td><td>4</td><td>0.0014</td><td>0.0016</td><td>6.85</td><td>100.8729</td><td>12.373560522339558</td><td>4.1</td><td>1.5</td><td>0.0161</td><td>93.9</td><td>14.043076585990693</td><td>0.095</td><td>18.0</td><td>2.0</td><td>0.09</td><td>2.08</td><td>1.8709740000000001</td><td>40.0</td><td>60.0</td><td>0.86</td><td>0.86</td><td>350.0</td><td>6.88</td><td>6.88</td><td>6.88</td><td>False</td><td>default</td><td>default</td><td>default</td><td>default</td><td>default</td></tr>\n",
       "<tr><td>uid://A001/X1465/X101a</td><td>2019.1.01326.S</td><td>C7</td><td>hifa_calimage</td><td>9</td><td>2.1558333333333333</td><td>1.357777777777778</td><td>1.0480555555555557</td><td>0.058333333333333334</td><td>0.12361111111111112</td><td>1</td><td>39</td><td>1</td><td>Position_5</td><td>1</td><td>4</td><td>0.0015</td><td>0.0018</td><td>6.64</td><td>100.8733</td><td>12.637444361895326</td><td>9.0</td><td>1.5</td><td>0.0192</td><td>93.9</td><td>14.30971697833329</td><td>0.095</td><td>14.0</td><td>2.0</td><td>0.091</td><td>1.54</td><td>1.8709740000000001</td><td>40.0</td><td>60.0</td><td>0.86</td><td>0.86</td><td>350.0</td><td>6.88</td><td>6.88</td><td>6.88</td><td>False</td><td>default</td><td>default</td><td>default</td><td>default</td><td>default</td></tr>\n",
       "<tr><td>uid://A001/X1465/X1020</td><td>2019.1.01326.S</td><td>C7</td><td>hifa_calimage</td><td>9</td><td>2.058611111111111</td><td>1.3386111111111112</td><td>1.0475</td><td>0.05</td><td>0.10333333333333333</td><td>1</td><td>39</td><td>1</td><td>Position_6</td><td>1</td><td>4</td><td>0.0022</td><td>0.0043</td><td>2.84</td><td>100.8397</td><td>14.280756282494286</td><td>110.0</td><td>3.6</td><td>0.255</td><td>93.9</td><td>16.75857989210303</td><td>0.1</td><td>54.0</td><td>2.5</td><td>0.084</td><td>6.62</td><td>1.8709740000000001</td><td>40.0</td><td>60.0</td><td>0.708</td><td>0.708</td><td>350.0</td><td>5.67</td><td>5.67</td><td>5.67</td><td>False</td><td>default</td><td>default</td><td>default</td><td>default</td><td>default</td></tr>\n",
       "<tr><td>uid://A001/X1465/X1026</td><td>2019.1.01326.S</td><td>C7</td><td>hifa_calimage</td><td>10</td><td>2.2508333333333335</td><td>1.4333333333333336</td><td>1.1119444444444446</td><td>0.060833333333333336</td><td>0.11722222222222223</td><td>1</td><td>39</td><td>1</td><td>Position_7</td><td>1</td><td>4</td><td>0.0014</td><td>0.0022</td><td>6.03</td><td>100.8724</td><td>13.603492198696628</td><td>28.0</td><td>2.5</td><td>0.0435</td><td>93.9</td><td>15.484185480676729</td><td>0.078</td><td>34.0</td><td>2.5</td><td>0.069</td><td>3.98</td><td>1.867068</td><td>40.0</td><td>60.0</td><td>0.892</td><td>0.892</td><td>350.0</td><td>7.14</td><td>7.14</td><td>7.14</td><td>False</td><td>default</td><td>default</td><td>default</td><td>default</td><td>default</td></tr>\n",
       "<tr><td>uid://A001/X1465/X102c</td><td>2019.1.01326.S</td><td>C7</td><td>hifa_calimage</td><td>10</td><td>2.8238888888888884</td><td>1.7941666666666667</td><td>1.4258333333333335</td><td>0.07944444444444444</td><td>0.11638888888888889</td><td>1</td><td>39</td><td>1</td><td>Position_7</td><td>1</td><td>4</td><td>0.0018</td><td>0.002</td><td>5.16</td><td>101.0561</td><td>13.564659966250536</td><td>84.0</td><td>2.8</td><td>0.153</td><td>93.9</td><td>15.110592311355633</td><td>0.089</td><td>110.0</td><td>3.6</td><td>0.08</td><td>13.0</td><td>1.8711656</td><td>40.0</td><td>60.0</td><td>0.472</td><td>0.472</td><td>350.0</td><td>3.78</td><td>3.78</td><td>3.78</td><td>False</td><td>default</td><td>default</td><td>default</td><td>default</td><td>default</td></tr>\n",
       "<tr><td>...</td><td>...</td><td>...</td><td>...</td><td>...</td><td>...</td><td>...</td><td>...</td><td>...</td><td>...</td><td>...</td><td>...</td><td>...</td><td>...</td><td>...</td><td>...</td><td>...</td><td>...</td><td>...</td><td>...</td><td>...</td><td>...</td><td>...</td><td>...</td><td>...</td><td>...</td><td>...</td><td>...</td><td>...</td><td>...</td><td>...</td><td>...</td><td>...</td><td>...</td><td>...</td><td>...</td><td>...</td><td>...</td><td>...</td><td>...</td><td>...</td><td>...</td><td>...</td><td>...</td><td>...</td><td>...</td></tr>\n",
       "<tr><td>uid://A001/X15a2/Xab1</td><td>2019.1.01324.T</td><td>2021</td><td>hifa_calimage_renorm</td><td>42</td><td>23.29888888888889</td><td>13.06388888888889</td><td>10.904444444444445</td><td>0.25027777777777777</td><td>1.2483333333333333</td><td>1</td><td>1</td><td>7</td><td>GX_339-4</td><td>1</td><td>4</td><td>2.9e-05</td><td>3.4e-05</td><td>6.21</td><td>97.5096</td><td>0.12280065146407002</td><td>150.0</td><td>2.5</td><td>0.0043</td><td>104.5</td><td>0.12789057822998534</td><td>0.0018</td><td>7.3</td><td>1.0</td><td>2.0</td><td>0.0179</td><td>1.8721422</td><td>40.0</td><td>60.0</td><td>181.0</td><td>14.0</td><td>500.0</td><td>1450.0</td><td>112.0</td><td>112.0</td><td>True</td><td>default</td><td>0.7pb</td><td>3ppb</td><td>default</td><td>default</td></tr>\n",
       "<tr><td>uid://A001/X15a2/Xab4</td><td>2019.1.01324.T</td><td>2021</td><td>hifa_calimage_renorm</td><td>45</td><td>29.66472222222222</td><td>17.71277777777778</td><td>15.154444444444445</td><td>0.30916666666666665</td><td>1.4558333333333333</td><td>1</td><td>1</td><td>7</td><td>GX_339-4</td><td>1</td><td>4</td><td>2.5e-05</td><td>2.8e-05</td><td>7.04</td><td>97.5076</td><td>0.11410828190801929</td><td>130.0</td><td>2.5</td><td>0.00331</td><td>104.5</td><td>0.11344602240713422</td><td>0.0016</td><td>6.8</td><td>1.0</td><td>1.8</td><td>0.0145</td><td>1.8731187999999999</td><td>40.0</td><td>60.0</td><td>276.0</td><td>20.2</td><td>500.0</td><td>2210.0</td><td>161.0</td><td>161.0</td><td>True</td><td>default</td><td>0.7pb</td><td>3ppb</td><td>default</td><td>default</td></tr>\n",
       "<tr><td>uid://A001/X15a2/Xab7</td><td>2019.1.01324.T</td><td>2021</td><td>hifa_calimage_renorm</td><td>42</td><td>31.281388888888888</td><td>13.486944444444443</td><td>10.138055555555555</td><td>0.21333333333333335</td><td>2.5413888888888887</td><td>1</td><td>1</td><td>6</td><td>GX_339-4</td><td>1</td><td>4</td><td>3e-05</td><td>3.4e-05</td><td>6.42</td><td>97.5028</td><td>0.16244999230532453</td><td>64.0</td><td>2.0</td><td>0.00191</td><td>104.5</td><td>0.16023732399163437</td><td>0.002</td><td>6.7</td><td>1.0</td><td>2.1</td><td>0.0161</td><td>1.8731187999999999</td><td>40.0</td><td>60.0</td><td>156.0</td><td>35.8</td><td>500.0</td><td>1240.0</td><td>71.7</td><td>71.7</td><td>True</td><td>default</td><td>0.68pb</td><td>default</td><td>default</td><td>23</td></tr>\n",
       "<tr><td>uid://A001/X15a2/Xed4</td><td>2019.1.00863.T</td><td>2021</td><td>hifa_calimage_renorm</td><td>44</td><td>4.855277777777777</td><td>0.8577777777777779</td><td>0.42083333333333334</td><td>0.09805555555555555</td><td>0.14888888888888888</td><td>1</td><td>1</td><td>4</td><td>GRB211106A</td><td>1</td><td>4</td><td>1.1e-05</td><td>1.3e-05</td><td>6.94</td><td>97.5006</td><td>0.41629797020883974</td><td>8.2</td><td>1.0</td><td>0.000155</td><td>102.5</td><td>0.4131101548013556</td><td>0.00014000000000000001</td><td>6.1</td><td>1.0</td><td>0.16</td><td>0.00275</td><td>1.8283005</td><td>40.0</td><td>60.0</td><td>1.66</td><td>1.66</td><td>500.0</td><td>13.4</td><td>13.4</td><td>13.4</td><td>False</td><td>default</td><td>default</td><td>default</td><td>default</td><td>default</td></tr>\n",
       "<tr><td>uid://A001/X15a3/X5</td><td>2019.A.00040.S</td><td>2021</td><td>hifa_calimage_renorm</td><td>46</td><td>65.73444444444445</td><td>18.252499999999998</td><td>10.916666666666666</td><td>0.3561111111111111</td><td>2.43</td><td>3</td><td>1</td><td>44</td><td>ASASSN-21qj</td><td>1</td><td>4</td><td>1.5e-05</td><td>1.7e-05</td><td>5.9</td><td>341.4157</td><td>0.017893015397076033</td><td>6.4</td><td>1.0</td><td>0.000107</td><td>346.575</td><td>0.01794435844492636</td><td>0.00019</td><td>7.2</td><td>1.0</td><td>1.0</td><td>0.00791</td><td>1.8721422</td><td>40.0</td><td>60.0</td><td>1150.0</td><td>44.2</td><td>500.0</td><td>2520.0</td><td>106.0</td><td>106.0</td><td>True</td><td>21:1,25:2,23:1,19:1</td><td>0.7pb</td><td>3ppb</td><td>default</td><td>default</td></tr>\n",
       "<tr><td>uid://A001/X15a9/X134d</td><td>2019.1.01634.L</td><td>2021</td><td>hifa_calimage_renorm</td><td>46</td><td>4.651944444444445</td><td>0.3486111111111111</td><td>0.05694444444444445</td><td>0.053611111111111116</td><td>0.034722222222222224</td><td>2</td><td>1</td><td>3</td><td>UVISTA-J-1212</td><td>1</td><td>3</td><td>1.5e-05</td><td>1.9e-05</td><td>5.27</td><td>219.1503</td><td>1.2767928571228773</td><td>17.0</td><td>1.0</td><td>0.000497</td><td>220.8807</td><td>1.2913171570144957</td><td>0.00039</td><td>6.0</td><td>1.0</td><td>0.51</td><td>0.00758</td><td>1.8438916</td><td>40.0</td><td>60.0</td><td>0.0384</td><td>0.0384</td><td>500.0</td><td>0.231</td><td>0.231</td><td>0.231</td><td>False</td><td>default</td><td>default</td><td>default</td><td>default</td><td>default</td></tr>\n",
       "<tr><td>uid://A001/X15a9/X1351</td><td>2019.1.01634.L</td><td>2021</td><td>hifa_calimage_renorm</td><td>46</td><td>2.147222222222222</td><td>0.1983333333333333</td><td>0.02861111111111111</td><td>0.03638888888888889</td><td>0.015833333333333335</td><td>1</td><td>1</td><td>3</td><td>UVISTA-J-1212</td><td>1</td><td>3</td><td>2.2e-05</td><td>2.7e-05</td><td>5.2</td><td>224.5336</td><td>1.3259713420734252</td><td>10.0</td><td>1.0</td><td>0.000444</td><td>226.2563</td><td>1.3416407864998738</td><td>0.00055</td><td>6.2</td><td>1.0</td><td>0.66</td><td>0.009269999999999999</td><td>1.859494</td><td>40.0</td><td>60.0</td><td>0.0354</td><td>0.0354</td><td>500.0</td><td>0.213</td><td>0.213</td><td>0.213</td><td>False</td><td>default</td><td>default</td><td>default</td><td>default</td><td>default</td></tr>\n",
       "<tr><td>uid://A001/X15aa/X74</td><td>2019.1.00863.T</td><td>2021</td><td>hifa_calimage_renorm</td><td>44</td><td>4.363888888888889</td><td>0.5072222222222221</td><td>0.16694444444444442</td><td>0.06611111111111112</td><td>0.09083333333333334</td><td>1</td><td>1</td><td>4</td><td>GRB211106A</td><td>1</td><td>4</td><td>1.2e-05</td><td>1.4e-05</td><td>6.94</td><td>97.4997</td><td>0.6413018010266305</td><td>5.2</td><td>1.0</td><td>0.000199</td><td>102.5</td><td>0.6305608614558947</td><td>0.00015</td><td>6.2</td><td>1.0</td><td>0.18</td><td>0.00321</td><td>1.8282771</td><td>40.0</td><td>60.0</td><td>0.484</td><td>0.484</td><td>500.0</td><td>3.9</td><td>3.9</td><td>3.9</td><td>False</td><td>default</td><td>default</td><td>default</td><td>default</td><td>default</td></tr>\n",
       "<tr><td>uid://A001/X15aa/X77</td><td>2019.1.00863.T</td><td>2021</td><td>hifa_calimage_renorm</td><td>42</td><td>4.161388888888889</td><td>0.418888888888889</td><td>0.11416666666666667</td><td>0.06194444444444445</td><td>0.06916666666666667</td><td>1</td><td>1</td><td>4</td><td>GRB211106A</td><td>1</td><td>4</td><td>1.2e-05</td><td>1.4e-05</td><td>6.66</td><td>97.3728</td><td>1.0641898326896382</td><td>4.8</td><td>1.0</td><td>0.000146</td><td>102.5</td><td>1.043335995736752</td><td>0.00015</td><td>5.8</td><td>1.0</td><td>0.17</td><td>0.00257</td><td>1.828242</td><td>40.0</td><td>60.0</td><td>0.21</td><td>0.21</td><td>500.0</td><td>1.69</td><td>1.69</td><td>1.69</td><td>False</td><td>default</td><td>default</td><td>default</td><td>default</td><td>default</td></tr>\n",
       "</table></div>"
      ],
      "text/plain": [
       "<Table masked=True length=2565>\n",
       "         mous             project     plversion ... mit_hm_cell mit_field mit_spw\n",
       "        str22              str14         str4   ...     str7      str846   str54 \n",
       "---------------------- -------------- --------- ... ----------- --------- -------\n",
       "uid://A001/X1465/X1002 2019.1.01326.S        C7 ...     default   default default\n",
       "uid://A001/X1465/X1008 2019.1.01326.S        C7 ...     default   default default\n",
       "uid://A001/X1465/X100e 2019.1.01326.S        C7 ...     default   default default\n",
       "uid://A001/X1465/X1014 2019.1.01326.S        C7 ...     default   default default\n",
       "uid://A001/X1465/X101a 2019.1.01326.S        C7 ...     default   default default\n",
       "uid://A001/X1465/X1020 2019.1.01326.S        C7 ...     default   default default\n",
       "uid://A001/X1465/X1026 2019.1.01326.S        C7 ...     default   default default\n",
       "uid://A001/X1465/X102c 2019.1.01326.S        C7 ...     default   default default\n",
       "                   ...            ...       ... ...         ...       ...     ...\n",
       " uid://A001/X15a2/Xab1 2019.1.01324.T      2021 ...        3ppb   default default\n",
       " uid://A001/X15a2/Xab4 2019.1.01324.T      2021 ...        3ppb   default default\n",
       " uid://A001/X15a2/Xab7 2019.1.01324.T      2021 ...     default   default      23\n",
       " uid://A001/X15a2/Xed4 2019.1.00863.T      2021 ...     default   default default\n",
       "   uid://A001/X15a3/X5 2019.A.00040.S      2021 ...        3ppb   default default\n",
       "uid://A001/X15a9/X134d 2019.1.01634.L      2021 ...     default   default default\n",
       "uid://A001/X15a9/X1351 2019.1.01634.L      2021 ...     default   default default\n",
       "  uid://A001/X15aa/X74 2019.1.00863.T      2021 ...     default   default default\n",
       "  uid://A001/X15aa/X77 2019.1.00863.T      2021 ...     default   default default"
      ]
     },
     "execution_count": 74,
     "metadata": {},
     "output_type": "execute_result"
    }
   ],
   "source": [
    "c7_astropy"
   ]
  },
  {
   "cell_type": "code",
   "execution_count": 75,
   "id": "2fd2e405",
   "metadata": {},
   "outputs": [
    {
     "data": {
      "text/plain": [
       "<TableColumns names=('mous','project','plversion','procedure','nant','totaltime','imgtime','cubetime','aggtime','fctime','nEB','npt','nscan','reptgt','nscience','nspw','webpredrms','webcontrms','webcontBW','webfreq','webbm','webdirtyDR','webDRcorr','webcontpk','webfreqline','webbmline','webpredrmsline','webdirtyDRline','webDRcorrline','weblinerms','weblinepk','weblineBW','allowedcubesize','allowedcubelimit','predcubesize','mitigatedcubesize','allowedprodsize','initialprodsize','prodsizeaftercube','mitigatedprodsize','mitigated','mit_nbins','mit_hm_imsize','mit_hm_cell','mit_field','mit_spw')>"
      ]
     },
     "execution_count": 75,
     "metadata": {},
     "output_type": "execute_result"
    }
   ],
   "source": [
    "c7_astropy.columns"
   ]
  },
  {
   "cell_type": "code",
   "execution_count": 76,
   "id": "b08c3de5",
   "metadata": {
    "scrolled": true
   },
   "outputs": [
    {
     "data": {
      "text/plain": [
       "590000.0"
      ]
     },
     "execution_count": 76,
     "metadata": {},
     "output_type": "execute_result"
    }
   ],
   "source": [
    "np.max(c7_astropy['webdirtyDR'])"
   ]
  },
  {
   "cell_type": "code",
   "execution_count": 77,
   "id": "49f17ae4",
   "metadata": {},
   "outputs": [
    {
     "data": {
      "text/plain": [
       "(array([930., 489., 389., 269., 232., 140.,  68.,  37.,   8.,   3.]),\n",
       " array([0.38021124, 0.91927532, 1.4583394 , 1.99740347, 2.53646755,\n",
       "        3.07553163, 3.6145957 , 4.15365978, 4.69272386, 5.23178793,\n",
       "        5.77085201]),\n",
       " <BarContainer object of 10 artists>)"
      ]
     },
     "execution_count": 77,
     "metadata": {},
     "output_type": "execute_result"
    },
    {
     "data": {
      "image/png": "[encoded data removed]",
      "text/plain": [
       "<Figure size 640x480 with 1 Axes>"
      ]
     },
     "metadata": {},
     "output_type": "display_data"
    }
   ],
   "source": [
    "plt.hist(np.log10(c7_astropy['webdirtyDR']))"
   ]
  },
  {
   "cell_type": "code",
   "execution_count": 78,
   "id": "c3ea23d4",
   "metadata": {
    "scrolled": true
   },
   "outputs": [
    {
     "data": {
      "text/plain": [
       "<module 'wsu_db' from '/Users/akepley/Dropbox/Support/naasc/WSU/big_cubes/wsu_db.py'>"
      ]
     },
     "execution_count": 78,
     "metadata": {},
     "output_type": "execute_result"
    }
   ],
   "source": [
    "reload(wsu_db)"
   ]
  },
  {
   "cell_type": "code",
   "execution_count": 79,
   "id": "4b0681b5",
   "metadata": {},
   "outputs": [],
   "source": [
    "result_tos_mous_mit = wsu_db.join_wsu_and_mit_dbs(result_tos_mous, c7_astropy)"
   ]
  },
  {
   "cell_type": "code",
   "execution_count": 80,
   "id": "b2ce5ef4",
   "metadata": {},
   "outputs": [
    {
     "data": {
      "text/html": [
       "<div><i>Table masked=True length=2719</i>\n",
       "<table id=\"table140416403868304\" class=\"table-striped table-bordered table-condensed\">\n",
       "<thead><tr><th>mous</th><th>proposal_id</th><th>gous</th><th>schedblock_name</th><th>array</th><th>science_keyword</th><th>scientific_category_proposal</th><th>scientific_category</th><th>nant_typical</th><th>nant_array</th><th>nant_all</th><th>band</th><th>ntarget</th><th>s_fov</th><th>s_resolution</th><th>mosaic</th><th>imsize</th><th>pb</th><th>cell</th><th>blc_npol</th><th>blc_nspw</th><th>blc_specwidth</th><th>blc_freq</th><th>blc_velres</th><th>blc_nchan_agg</th><th>blc_nchan_max</th><th>blc_bandwidth_max</th><th>blc_bandwidth_agg</th><th>wsu_freq</th><th>wsu_npol</th><th>wsu_bandwidth_early</th><th>wsu_bandwidth_later_2x</th><th>wsu_bandwidth_later_4x</th><th>wsu_bandwidth_spw</th><th>wsu_nspw_early</th><th>wsu_nspw_later_2x</th><th>wsu_nspw_later_4x</th><th>wsu_specwidth_finest</th><th>wsu_chanavg_finest</th><th>wsu_velres_finest</th><th>wsu_specwidth_stepped</th><th>wsu_chanavg_stepped</th><th>wsu_velres_stepped</th><th>wsu_specwidth_stepped2</th><th>wsu_chanavg_stepped2</th><th>wsu_velres_stepped2</th><th>wsu_tint</th><th>wsu_nchan_spw_finest</th><th>wsu_nchan_spw_stepped</th><th>wsu_nchan_spw_stepped2</th><th>wsu_nchan_agg_finest_early</th><th>wsu_nchan_agg_finest_later_2x</th><th>wsu_nchan_agg_finest_later_4x</th><th>wsu_nchan_agg_stepped_early</th><th>wsu_nchan_agg_stepped_later_2x</th><th>wsu_nchan_agg_stepped_later_4x</th><th>wsu_nchan_agg_stepped2_early</th><th>wsu_nchan_agg_stepped2_later_2x</th><th>wsu_nchan_agg_stepped2_later_4x</th><th>wsu_frac_bw_early</th><th>wsu_frac_bw_later_2x</th><th>wsu_frac_bw_later_4x</th><th>wsu_frac_bw_spw</th><th>nbase_typical</th><th>nbase_array</th><th>nbase_all</th><th>L80</th><th>Project</th><th>SB_name</th><th>blc_tint</th><th>blc_ntunings</th><th>bp_time</th><th>flux_time</th><th>phase_time</th><th>pol_time</th><th>check_time</th><th>target_time_tot</th><th>time_tot</th><th>cal_time</th><th>mfssize</th><th>wsu_cubesize_stepped2</th><th>wsu_productsize_early_stepped2</th><th>wsu_datarate_early_stepped2_typical</th><th>wsu_visrate_early_stepped2_typical</th><th>wsu_datavol_early_stepped2_typical_target_tot</th><th>wsu_datavol_early_stepped2_typical_cal</th><th>wsu_datavol_early_stepped2_typical_total</th><th>wsu_nvis_early_stepped2_typical_target_tot</th><th>wsu_nvis_early_stepped2_typical_cal</th><th>wsu_nvis_early_stepped2_typical_total</th><th>blc_datarate_typical</th><th>blc_visrate_typical</th><th>blc_datavol_typical_target_tot</th><th>blc_datavol_typical_cal</th><th>blc_datavol_typical_total</th><th>blc_nvis_typical_target_tot</th><th>blc_nvis_typical_cal</th><th>blc_nvis_typical_total</th><th>wsu_datarate_early_stepped2_array</th><th>wsu_visrate_early_stepped2_array</th><th>wsu_datavol_early_stepped2_array_target_tot</th><th>wsu_datavol_early_stepped2_array_cal</th><th>wsu_datavol_early_stepped2_array_total</th><th>wsu_nvis_early_stepped2_array_target_tot</th><th>wsu_nvis_early_stepped2_array_cal</th><th>wsu_nvis_early_stepped2_array_total</th><th>blc_datarate_array</th><th>blc_visrate_array</th><th>blc_datavol_array_target_tot</th><th>blc_datavol_array_cal</th><th>blc_datavol_array_total</th><th>blc_nvis_array_target_tot</th><th>blc_nvis_array_cal</th><th>blc_nvis_array_total</th><th>wsu_productsize_later_2x_stepped2</th><th>wsu_datarate_later_2x_stepped2_typical</th><th>wsu_visrate_later_2x_stepped2_typical</th><th>wsu_datavol_later_2x_stepped2_typical_target_tot</th><th>wsu_datavol_later_2x_stepped2_typical_cal</th><th>wsu_datavol_later_2x_stepped2_typical_total</th><th>wsu_nvis_later_2x_stepped2_typical_target_tot</th><th>wsu_nvis_later_2x_stepped2_typical_cal</th><th>wsu_nvis_later_2x_stepped2_typical_total</th><th>wsu_datarate_later_2x_stepped2_array</th><th>wsu_visrate_later_2x_stepped2_array</th><th>wsu_datavol_later_2x_stepped2_array_target_tot</th><th>wsu_datavol_later_2x_stepped2_array_cal</th><th>wsu_datavol_later_2x_stepped2_array_total</th><th>wsu_nvis_later_2x_stepped2_array_target_tot</th><th>wsu_nvis_later_2x_stepped2_array_cal</th><th>wsu_nvis_later_2x_stepped2_array_total</th><th>wsu_productsize_later_4x_stepped2</th><th>wsu_datarate_later_4x_stepped2_typical</th><th>wsu_visrate_later_4x_stepped2_typical</th><th>wsu_datavol_later_4x_stepped2_typical_target_tot</th><th>wsu_datavol_later_4x_stepped2_typical_cal</th><th>wsu_datavol_later_4x_stepped2_typical_total</th><th>wsu_nvis_later_4x_stepped2_typical_target_tot</th><th>wsu_nvis_later_4x_stepped2_typical_cal</th><th>wsu_nvis_later_4x_stepped2_typical_total</th><th>wsu_datarate_later_4x_stepped2_array</th><th>wsu_visrate_later_4x_stepped2_array</th><th>wsu_datavol_later_4x_stepped2_array_target_tot</th><th>wsu_datavol_later_4x_stepped2_array_cal</th><th>wsu_datavol_later_4x_stepped2_array_total</th><th>wsu_nvis_later_4x_stepped2_array_target_tot</th><th>wsu_nvis_later_4x_stepped2_array_cal</th><th>wsu_nvis_later_4x_stepped2_array_total</th><th>blc_cubesize</th><th>blc_cubesize_sum</th><th>blc_productsize</th><th>cycle_info</th><th>plversion</th><th>procedure</th><th>nant</th><th>pl_totaltime</th><th>pl_imgtime</th><th>pl_cubetime</th><th>pl_aggtime</th><th>pl_fctime</th><th>nEB</th><th>npt</th><th>nscan</th><th>reptgt</th><th>allowedcubesize</th><th>allowedcubelimit</th><th>predcubesize</th><th>mitigatedcubesize</th><th>allowedprodsize</th><th>initialprodsize</th><th>mitigatedprodsize</th><th>mitigated</th><th>mit_nbins</th><th>mit_hm_imsize</th><th>mit_hm_cell</th><th>mit_field</th><th>mit_spw</th><th>pl_caltime</th></tr></thead>\n",
       "<thead><tr><th></th><th></th><th></th><th></th><th></th><th></th><th></th><th></th><th></th><th></th><th></th><th></th><th></th><th>deg</th><th>arcsec</th><th></th><th></th><th>arcsec</th><th>arcsec</th><th></th><th></th><th>kHz</th><th>GHz</th><th>km / s</th><th></th><th></th><th>GHz</th><th>GHz</th><th>GHz</th><th></th><th>GHz</th><th>GHz</th><th>GHz</th><th>GHz</th><th></th><th></th><th></th><th>kHz</th><th></th><th>km / s</th><th>kHz</th><th></th><th>km / s</th><th>kHz</th><th></th><th>km / s</th><th>s</th><th></th><th></th><th></th><th></th><th></th><th></th><th></th><th></th><th></th><th></th><th></th><th></th><th></th><th></th><th></th><th></th><th></th><th></th><th></th><th>m</th><th></th><th></th><th>s</th><th></th><th>s</th><th>s</th><th>s</th><th>s</th><th>s</th><th>s</th><th>s</th><th>s</th><th>Gbyte</th><th>Gbyte</th><th>Gbyte</th><th>Gbyte / s</th><th>Gvis / h</th><th>Gbyte</th><th>Gbyte</th><th>Gbyte</th><th>Gvis</th><th>Gvis</th><th>Gvis</th><th>Gbyte / s</th><th>Gvis / h</th><th>Gbyte</th><th>Gbyte</th><th>Gbyte</th><th>Gvis</th><th>Gvis</th><th>Gvis</th><th>Gbyte / s</th><th>Gvis / h</th><th>Gbyte</th><th>Gbyte</th><th>Gbyte</th><th>Gvis</th><th>Gvis</th><th>Gvis</th><th>Gbyte / s</th><th>Gvis / h</th><th>Gbyte</th><th>Gbyte</th><th>Gbyte</th><th>Gvis</th><th>Gvis</th><th>Gvis</th><th>Gbyte</th><th>Gbyte / s</th><th>Gvis / h</th><th>Gbyte</th><th>Gbyte</th><th>Gbyte</th><th>Gvis</th><th>Gvis</th><th>Gvis</th><th>Gbyte / s</th><th>Gvis / h</th><th>Gbyte</th><th>Gbyte</th><th>Gbyte</th><th>Gvis</th><th>Gvis</th><th>Gvis</th><th>Gbyte</th><th>Gbyte / s</th><th>Gvis / h</th><th>Gbyte</th><th>Gbyte</th><th>Gbyte</th><th>Gvis</th><th>Gvis</th><th>Gvis</th><th>Gbyte / s</th><th>Gvis / h</th><th>Gbyte</th><th>Gbyte</th><th>Gbyte</th><th>Gvis</th><th>Gvis</th><th>Gvis</th><th>Gbyte</th><th>Gbyte</th><th>Gbyte</th><th></th><th></th><th></th><th></th><th>h</th><th>h</th><th>h</th><th>h</th><th>h</th><th></th><th></th><th></th><th></th><th>Gbyte</th><th>Gbyte</th><th>Gbyte</th><th>Gbyte</th><th>Gbyte</th><th>Gbyte</th><th>Gbyte</th><th></th><th></th><th></th><th></th><th></th><th></th><th>h</th></tr></thead>\n",
       "<thead><tr><th>str22</th><th>str14</th><th>str22</th><th>str18</th><th>str3</th><th>str105</th><th>str52</th><th>str27</th><th>int64</th><th>int64</th><th>int64</th><th>float64</th><th>float64</th><th>float64</th><th>float64</th><th>str1</th><th>float64</th><th>float64</th><th>float64</th><th>int64</th><th>int64</th><th>float64</th><th>float64</th><th>float64</th><th>float64</th><th>float64</th><th>float64</th><th>float64</th><th>float64</th><th>int64</th><th>float64</th><th>float64</th><th>float64</th><th>float64</th><th>int64</th><th>int64</th><th>int64</th><th>float64</th><th>float64</th><th>float64</th><th>float64</th><th>float64</th><th>float64</th><th>float64</th><th>float64</th><th>float64</th><th>float64</th><th>float64</th><th>float64</th><th>float64</th><th>float64</th><th>float64</th><th>float64</th><th>float64</th><th>float64</th><th>float64</th><th>float64</th><th>float64</th><th>float64</th><th>float64</th><th>float64</th><th>float64</th><th>float64</th><th>float64</th><th>float64</th><th>float64</th><th>float64</th><th>str14</th><th>str18</th><th>float64</th><th>float64</th><th>float64</th><th>float64</th><th>float64</th><th>float64</th><th>float64</th><th>float64</th><th>float64</th><th>float64</th><th>float64</th><th>float64</th><th>float64</th><th>float64</th><th>float64</th><th>float64</th><th>float64</th><th>float64</th><th>float64</th><th>float64</th><th>float64</th><th>float64</th><th>float64</th><th>float64</th><th>float64</th><th>float64</th><th>float64</th><th>float64</th><th>float64</th><th>float64</th><th>float64</th><th>float64</th><th>float64</th><th>float64</th><th>float64</th><th>float64</th><th>float64</th><th>float64</th><th>float64</th><th>float64</th><th>float64</th><th>float64</th><th>float64</th><th>float64</th><th>float64</th><th>float64</th><th>float64</th><th>float64</th><th>float64</th><th>float64</th><th>float64</th><th>float64</th><th>float64</th><th>float64</th><th>float64</th><th>float64</th><th>float64</th><th>float64</th><th>float64</th><th>float64</th><th>float64</th><th>float64</th><th>float64</th><th>float64</th><th>float64</th><th>float64</th><th>float64</th><th>float64</th><th>float64</th><th>float64</th><th>float64</th><th>float64</th><th>float64</th><th>float64</th><th>float64</th><th>float64</th><th>float64</th><th>float64</th><th>float64</th><th>float64</th><th>float64</th><th>float64</th><th>str6</th><th>str4</th><th>str20</th><th>int64</th><th>float64</th><th>float64</th><th>float64</th><th>float64</th><th>float64</th><th>int64</th><th>int64</th><th>int64</th><th>str35</th><th>float64</th><th>float64</th><th>float64</th><th>float64</th><th>float64</th><th>float64</th><th>float64</th><th>bool</th><th>str64</th><th>str7</th><th>str7</th><th>str846</th><th>str54</th><th>float64</th></tr></thead>\n",
       "<tr><td>uid://A001/X1465/X1002</td><td>2019.1.01326.S</td><td>uid://A001/X1465/X1001</td><td>Position_i_03_7M</td><td>7m</td><td>Outflows, jets, feedback, Galactic centres/nuclei</td><td>Galaxies and galactic nuclei</td><td>Active galaxies</td><td>10</td><td>12</td><td>16</td><td>3.0</td><td>1.0</td><td>0.13050363616709187</td><td>12.418751976046456</td><td>T</td><td>220.0</td><td>108.514167152526</td><td>2.483750395209291</td><td>2</td><td>4</td><td>965.2043680983645</td><td>92.45001476575733</td><td>2.9778920543263903</td><td>14336.0</td><td>4096.0</td><td>2.0</td><td>8.0</td><td>92.45001476575733</td><td>2</td><td>16.0</td><td>16.0</td><td>32.0</td><td>2.0</td><td>8</td><td>8</td><td>16</td><td>958.5</td><td>71.0</td><td>3.108177664666337</td><td>297.0</td><td>22.0</td><td>0.9630973045444989</td><td>607.5</td><td>45.0</td><td>1.9699717592955657</td><td>9.984</td><td>2086.0</td><td>6734.0</td><td>3292.0</td><td>16688.0</td><td>16688.0</td><td>33376.0</td><td>53872.0</td><td>53872.0</td><td>107744.0</td><td>26336.0</td><td>26336.0</td><td>52672.0</td><td>0.17306649480305175</td><td>0.17306649480305175</td><td>0.3461329896061035</td><td>0.02163331185038147</td><td>45.0</td><td>66.0</td><td>120.0</td><td>30.03768</td><td>2019.1.01326.S</td><td>Position_i_03_7M</td><td>10.08</td><td>1.0</td><td>1209.6</td><td>0.0</td><td>362.88</td><td>0.0</td><td>0.0</td><td>1995.84</td><td>3568.3199999999997</td><td>1572.48</td><td>0.0001936</td><td>0.6373312</td><td>10.2003968</td><td>0.0011606410256410258</td><td>1.7093076923076922</td><td>2.3164537846153848</td><td>1.8250848000000002</td><td>4.141538584615385</td><td>0.9476401846153846</td><td>0.7466256</td><td>1.6942657846153844</td><td>0.0006257777777777777</td><td>0.9216</td><td>1.24895232</td><td>0.98402304</td><td>2.2329753599999997</td><td>0.51093504</td><td>0.40255488</td><td>0.91348992</td><td>0.001646</td><td>2.5069846153846154</td><td>3.2851526399999997</td><td>2.58830208</td><td>5.873454719999999</td><td>1.3898722707692308</td><td>1.09505088</td><td>2.4849231507692306</td><td>0.0008874666666666666</td><td>1.35168</td><td>1.7712414719999998</td><td>1.395523584</td><td>3.1667650559999996</td><td>0.749371392</td><td>0.590413824</td><td>1.339785216</td><td>10.2003968</td><td>0.0011606410256410258</td><td>1.7093076923076922</td><td>2.3164537846153848</td><td>1.8250848000000002</td><td>4.141538584615385</td><td>0.9476401846153846</td><td>0.7466256</td><td>1.6942657846153844</td><td>0.001646</td><td>2.5069846153846154</td><td>3.2851526399999997</td><td>2.58830208</td><td>5.873454719999999</td><td>1.3898722707692308</td><td>1.09505088</td><td>2.4849231507692306</td><td>20.4007936</td><td>0.0023212820512820516</td><td>3.4186153846153844</td><td>4.6329075692307695</td><td>3.6501696000000003</td><td>8.28307716923077</td><td>1.8952803692307691</td><td>1.4932512</td><td>3.3885315692307687</td><td>0.003292</td><td>5.013969230769231</td><td>6.5703052799999995</td><td>5.17660416</td><td>11.746909439999998</td><td>2.7797445415384616</td><td>2.19010176</td><td>4.969846301538461</td><td>0.7929856</td><td>2.7754496</td><td>5.552448</td><td>cycle7</td><td>C7</td><td>hifa_calimage</td><td>10</td><td>5.1194444444444445</td><td>4.113333333333333</td><td>3.731666666666667</td><td>0.06194444444444445</td><td>0.16666666666666666</td><td>1</td><td>34</td><td>2</td><td>Position_8</td><td>40.0</td><td>60.0</td><td>1.68</td><td>1.68</td><td>350.0</td><td>11.7</td><td>11.7</td><td>False</td><td>default</td><td>default</td><td>default</td><td>default</td><td>default</td><td>1.0061111111111112</td></tr>\n",
       "<tr><td>uid://A001/X1465/X1008</td><td>2019.1.01326.S</td><td>uid://A001/X1465/X1007</td><td>Position_j_03_7M</td><td>7m</td><td>Outflows, jets, feedback, Galactic centres/nuclei</td><td>Galaxies and galactic nuclei</td><td>Active galaxies</td><td>10</td><td>12</td><td>16</td><td>3.0</td><td>1.0</td><td>0.13352956949867897</td><td>11.495155000772085</td><td>T</td><td>240.0</td><td>99.33587941322293</td><td>2.299031000154417</td><td>2</td><td>4</td><td>1116.9672480031732</td><td>100.94947251671041</td><td>3.1673235453701216</td><td>8192.0</td><td>2048.0</td><td>2.0</td><td>8.0</td><td>100.94947251671041</td><td>2</td><td>16.0</td><td>16.0</td><td>32.0</td><td>2.0</td><td>8</td><td>8</td><td>16</td><td>1107.0</td><td>82.0</td><td>3.2874887082848767</td><td>324.0</td><td>24.0</td><td>0.9621918170589883</td><td>661.5</td><td>49.0</td><td>1.9644749598287679</td><td>9.984</td><td>1806.0</td><td>6172.0</td><td>3023.0</td><td>14448.0</td><td>14448.0</td><td>28896.0</td><td>49376.0</td><td>49376.0</td><td>98752.0</td><td>24184.0</td><td>24184.0</td><td>48368.0</td><td>0.15849513227869003</td><td>0.15849513227869003</td><td>0.31699026455738005</td><td>0.019811891534836253</td><td>45.0</td><td>66.0</td><td>120.0</td><td>30.609047</td><td>2019.1.01326.S</td><td>Position_j_03_7M</td><td>10.08</td><td>1.0</td><td>604.8</td><td>0.0</td><td>120.96</td><td>0.0</td><td>0.0</td><td>393.12</td><td>1118.88</td><td>725.76</td><td>0.0002304</td><td>0.6964992</td><td>11.1476736</td><td>0.001065801282051282</td><td>1.5696346153846155</td><td>0.41898779999999997</td><td>0.7735159384615384</td><td>1.1925037384615385</td><td>0.1714041</td><td>0.31643833846153846</td><td>0.4878424384615385</td><td>0.0003575873015873016</td><td>0.5266285714285714</td><td>0.14057472000000001</td><td>0.25952256</td><td>0.40009728000000006</td><td>0.057507840000000005</td><td>0.10616832000000001</td><td>0.16367616000000001</td><td>0.0015115</td><td>2.3021307692307693</td><td>0.59420088</td><td>1.0969862400000001</td><td>1.6911871200000002</td><td>0.25139268000000004</td><td>0.4641095630769231</td><td>0.7155022430769231</td><td>0.0005071238095238095</td><td>0.7723885714285714</td><td>0.199360512</td><td>0.36805017599999995</td><td>0.567410688</td><td>0.08434483200000001</td><td>0.155713536</td><td>0.24005836800000002</td><td>11.1476736</td><td>0.001065801282051282</td><td>1.5696346153846155</td><td>0.41898779999999997</td><td>0.7735159384615384</td><td>1.1925037384615385</td><td>0.1714041</td><td>0.31643833846153846</td><td>0.4878424384615385</td><td>0.0015115</td><td>2.3021307692307693</td><td>0.59420088</td><td>1.0969862400000001</td><td>1.6911871200000002</td><td>0.25139268000000004</td><td>0.4641095630769231</td><td>0.7155022430769231</td><td>22.2953472</td><td>0.002131602564102564</td><td>3.139269230769231</td><td>0.8379755999999999</td><td>1.5470318769230769</td><td>2.385007476923077</td><td>0.3428082</td><td>0.6328766769230769</td><td>0.975684876923077</td><td>0.003023</td><td>4.604261538461539</td><td>1.18840176</td><td>2.1939724800000002</td><td>3.3823742400000003</td><td>0.5027853600000001</td><td>0.9282191261538462</td><td>1.4310044861538462</td><td>0.4718592</td><td>1.8874368</td><td>3.7767168</td><td>cycle7</td><td>C7</td><td>hifa_calimage</td><td>10</td><td>1.9755555555555557</td><td>1.267777777777778</td><td>0.9855555555555555</td><td>0.05583333333333334</td><td>0.10694444444444444</td><td>1</td><td>39</td><td>1</td><td>Position_2</td><td>40.0</td><td>60.0</td><td>0.86</td><td>0.86</td><td>350.0</td><td>6.88</td><td>6.88</td><td>False</td><td>default</td><td>default</td><td>default</td><td>default</td><td>default</td><td>0.7077777777777778</td></tr>\n",
       "<tr><td>uid://A001/X1465/X100e</td><td>2019.1.01326.S</td><td>uid://A001/X1465/X100d</td><td>Position_k_03_7M</td><td>7m</td><td>Outflows, jets, feedback, Galactic centres/nuclei</td><td>Galaxies and galactic nuclei</td><td>Active galaxies</td><td>10</td><td>12</td><td>16</td><td>3.0</td><td>1.0</td><td>0.1335711696824279</td><td>11.477738486513816</td><td>T</td><td>240.0</td><td>99.3358716017038</td><td>2.295547697302763</td><td>2</td><td>4</td><td>1116.9768029798806</td><td>100.9494845484696</td><td>3.1673495625218457</td><td>8192.0</td><td>2048.0</td><td>2.0</td><td>8.0</td><td>100.9494845484696</td><td>2</td><td>16.0</td><td>16.0</td><td>32.0</td><td>2.0</td><td>8</td><td>8</td><td>16</td><td>1107.0</td><td>82.0</td><td>3.2874883164624453</td><td>324.0</td><td>24.0</td><td>0.9621917023792522</td><td>661.5</td><td>49.0</td><td>1.9644747256909736</td><td>9.984</td><td>1806.0</td><td>6172.0</td><td>3023.0</td><td>14448.0</td><td>14448.0</td><td>28896.0</td><td>49376.0</td><td>49376.0</td><td>98752.0</td><td>24184.0</td><td>24184.0</td><td>48368.0</td><td>0.15849511338829875</td><td>0.15849511338829875</td><td>0.3169902267765975</td><td>0.019811889173537343</td><td>45.0</td><td>66.0</td><td>120.0</td><td>30.655828</td><td>2019.1.01326.S</td><td>Position_k_03_7M</td><td>10.08</td><td>1.0</td><td>604.8</td><td>0.0</td><td>120.96</td><td>0.0</td><td>0.0</td><td>393.12</td><td>1118.88</td><td>725.76</td><td>0.0002304</td><td>0.6964992</td><td>11.1476736</td><td>0.001065801282051282</td><td>1.5696346153846155</td><td>0.41898779999999997</td><td>0.7735159384615384</td><td>1.1925037384615385</td><td>0.1714041</td><td>0.31643833846153846</td><td>0.4878424384615385</td><td>0.0003575873015873016</td><td>0.5266285714285714</td><td>0.14057472000000001</td><td>0.25952256</td><td>0.40009728000000006</td><td>0.057507840000000005</td><td>0.10616832000000001</td><td>0.16367616000000001</td><td>0.0015115</td><td>2.3021307692307693</td><td>0.59420088</td><td>1.0969862400000001</td><td>1.6911871200000002</td><td>0.25139268000000004</td><td>0.4641095630769231</td><td>0.7155022430769231</td><td>0.0005071238095238095</td><td>0.7723885714285714</td><td>0.199360512</td><td>0.36805017599999995</td><td>0.567410688</td><td>0.08434483200000001</td><td>0.155713536</td><td>0.24005836800000002</td><td>11.1476736</td><td>0.001065801282051282</td><td>1.5696346153846155</td><td>0.41898779999999997</td><td>0.7735159384615384</td><td>1.1925037384615385</td><td>0.1714041</td><td>0.31643833846153846</td><td>0.4878424384615385</td><td>0.0015115</td><td>2.3021307692307693</td><td>0.59420088</td><td>1.0969862400000001</td><td>1.6911871200000002</td><td>0.25139268000000004</td><td>0.4641095630769231</td><td>0.7155022430769231</td><td>22.2953472</td><td>0.002131602564102564</td><td>3.139269230769231</td><td>0.8379755999999999</td><td>1.5470318769230769</td><td>2.385007476923077</td><td>0.3428082</td><td>0.6328766769230769</td><td>0.975684876923077</td><td>0.003023</td><td>4.604261538461539</td><td>1.18840176</td><td>2.1939724800000002</td><td>3.3823742400000003</td><td>0.5027853600000001</td><td>0.9282191261538462</td><td>1.4310044861538462</td><td>0.4718592</td><td>1.8874368</td><td>3.7767168</td><td>cycle7</td><td>C7</td><td>hifa_calimage</td><td>10</td><td>2.3316666666666666</td><td>1.5105555555555559</td><td>1.1925000000000001</td><td>0.06055555555555556</td><td>0.12555555555555556</td><td>1</td><td>39</td><td>1</td><td>Position_3</td><td>40.0</td><td>60.0</td><td>0.839</td><td>0.839</td><td>350.0</td><td>6.71</td><td>6.71</td><td>False</td><td>default</td><td>default</td><td>default</td><td>default</td><td>default</td><td>0.8211111111111107</td></tr>\n",
       "<tr><td>uid://A001/X1465/X1014</td><td>2019.1.01326.S</td><td>uid://A001/X1465/X1013</td><td>Position_l_03_7M</td><td>7m</td><td>Outflows, jets, feedback, Galactic centres/nuclei</td><td>Galaxies and galactic nuclei</td><td>Active galaxies</td><td>10</td><td>12</td><td>16</td><td>3.0</td><td>1.0</td><td>0.1335853198822303</td><td>11.302668272847619</td><td>T</td><td>245.0</td><td>99.33587213428518</td><td>2.2605336545695236</td><td>2</td><td>4</td><td>1116.9790739480793</td><td>100.94948499173799</td><td>3.1673558199446665</td><td>8192.0</td><td>2048.0</td><td>2.0</td><td>8.0</td><td>100.94948499173799</td><td>2</td><td>16.0</td><td>16.0</td><td>32.0</td><td>2.0</td><td>8</td><td>8</td><td>16</td><td>1107.0</td><td>82.0</td><td>3.28748830202711</td><td>324.0</td><td>24.0</td><td>0.9621916981542762</td><td>661.5</td><td>49.0</td><td>1.9644747170649806</td><td>9.984</td><td>1806.0</td><td>6172.0</td><td>3023.0</td><td>14448.0</td><td>14448.0</td><td>28896.0</td><td>49376.0</td><td>49376.0</td><td>98752.0</td><td>24184.0</td><td>24184.0</td><td>48368.0</td><td>0.15849511269234795</td><td>0.15849511269234795</td><td>0.3169902253846959</td><td>0.019811889086543494</td><td>45.0</td><td>66.0</td><td>120.0</td><td>31.127703</td><td>2019.1.01326.S</td><td>Position_l_03_7M</td><td>10.08</td><td>1.0</td><td>604.8</td><td>0.0</td><td>120.96</td><td>0.0</td><td>0.0</td><td>393.12</td><td>1118.88</td><td>725.76</td><td>0.0002401</td><td>0.7258223</td><td>11.6169984</td><td>0.001065801282051282</td><td>1.5696346153846155</td><td>0.41898779999999997</td><td>0.7735159384615384</td><td>1.1925037384615385</td><td>0.1714041</td><td>0.31643833846153846</td><td>0.4878424384615385</td><td>0.0003575873015873016</td><td>0.5266285714285714</td><td>0.14057472000000001</td><td>0.25952256</td><td>0.40009728000000006</td><td>0.057507840000000005</td><td>0.10616832000000001</td><td>0.16367616000000001</td><td>0.0015115</td><td>2.3021307692307693</td><td>0.59420088</td><td>1.0969862400000001</td><td>1.6911871200000002</td><td>0.25139268000000004</td><td>0.4641095630769231</td><td>0.7155022430769231</td><td>0.0005071238095238095</td><td>0.7723885714285714</td><td>0.199360512</td><td>0.36805017599999995</td><td>0.567410688</td><td>0.08434483200000001</td><td>0.155713536</td><td>0.24005836800000002</td><td>11.6169984</td><td>0.001065801282051282</td><td>1.5696346153846155</td><td>0.41898779999999997</td><td>0.7735159384615384</td><td>1.1925037384615385</td><td>0.1714041</td><td>0.31643833846153846</td><td>0.4878424384615385</td><td>0.0015115</td><td>2.3021307692307693</td><td>0.59420088</td><td>1.0969862400000001</td><td>1.6911871200000002</td><td>0.25139268000000004</td><td>0.4641095630769231</td><td>0.7155022430769231</td><td>23.2339968</td><td>0.002131602564102564</td><td>3.139269230769231</td><td>0.8379755999999999</td><td>1.5470318769230769</td><td>2.385007476923077</td><td>0.3428082</td><td>0.6328766769230769</td><td>0.975684876923077</td><td>0.003023</td><td>4.604261538461539</td><td>1.18840176</td><td>2.1939724800000002</td><td>3.3823742400000003</td><td>0.5027853600000001</td><td>0.9282191261538462</td><td>1.4310044861538462</td><td>0.4917248</td><td>1.9668992</td><td>3.9357192000000003</td><td>cycle7</td><td>C7</td><td>hifa_calimage</td><td>9</td><td>2.283888888888889</td><td>1.5136111111111115</td><td>1.2166666666666668</td><td>0.04527777777777778</td><td>0.1175</td><td>1</td><td>39</td><td>1</td><td>Position_4</td><td>40.0</td><td>60.0</td><td>0.86</td><td>0.86</td><td>350.0</td><td>6.88</td><td>6.88</td><td>False</td><td>default</td><td>default</td><td>default</td><td>default</td><td>default</td><td>0.7702777777777774</td></tr>\n",
       "<tr><td>uid://A001/X1465/X101a</td><td>2019.1.01326.S</td><td>uid://A001/X1465/X1019</td><td>Position_m_03_7M</td><td>7m</td><td>Outflows, jets, feedback, Galactic centres/nuclei</td><td>Galaxies and galactic nuclei</td><td>Active galaxies</td><td>10</td><td>12</td><td>16</td><td>3.0</td><td>1.0</td><td>0.1336314854176951</td><td>11.413765574280458</td><td>T</td><td>240.0</td><td>99.33587285679403</td><td>2.2827531148560913</td><td>2</td><td>4</td><td>1116.978577743549</td><td>100.94948404645515</td><td>3.1673544786256693</td><td>8192.0</td><td>2048.0</td><td>2.0</td><td>8.0</td><td>100.94948404645515</td><td>2</td><td>16.0</td><td>16.0</td><td>32.0</td><td>2.0</td><td>8</td><td>8</td><td>16</td><td>1107.0</td><td>82.0</td><td>3.2874883328108857</td><td>324.0</td><td>24.0</td><td>0.9621917071641618</td><td>661.5</td><td>49.0</td><td>1.9644747354601635</td><td>9.984</td><td>1806.0</td><td>6172.0</td><td>3023.0</td><td>14448.0</td><td>14448.0</td><td>28896.0</td><td>49376.0</td><td>49376.0</td><td>98752.0</td><td>24184.0</td><td>24184.0</td><td>48368.0</td><td>0.1584951141764834</td><td>0.1584951141764834</td><td>0.3169902283529668</td><td>0.019811889272060425</td><td>45.0</td><td>66.0</td><td>120.0</td><td>30.823065</td><td>2019.1.01326.S</td><td>Position_m_03_7M</td><td>10.08</td><td>1.0</td><td>604.8</td><td>0.0</td><td>120.96</td><td>0.0</td><td>0.0</td><td>393.12</td><td>1118.88</td><td>725.76</td><td>0.0002304</td><td>0.6964992</td><td>11.1476736</td><td>0.001065801282051282</td><td>1.5696346153846155</td><td>0.41898779999999997</td><td>0.7735159384615384</td><td>1.1925037384615385</td><td>0.1714041</td><td>0.31643833846153846</td><td>0.4878424384615385</td><td>0.0003575873015873016</td><td>0.5266285714285714</td><td>0.14057472000000001</td><td>0.25952256</td><td>0.40009728000000006</td><td>0.057507840000000005</td><td>0.10616832000000001</td><td>0.16367616000000001</td><td>0.0015115</td><td>2.3021307692307693</td><td>0.59420088</td><td>1.0969862400000001</td><td>1.6911871200000002</td><td>0.25139268000000004</td><td>0.4641095630769231</td><td>0.7155022430769231</td><td>0.0005071238095238095</td><td>0.7723885714285714</td><td>0.199360512</td><td>0.36805017599999995</td><td>0.567410688</td><td>0.08434483200000001</td><td>0.155713536</td><td>0.24005836800000002</td><td>11.1476736</td><td>0.001065801282051282</td><td>1.5696346153846155</td><td>0.41898779999999997</td><td>0.7735159384615384</td><td>1.1925037384615385</td><td>0.1714041</td><td>0.31643833846153846</td><td>0.4878424384615385</td><td>0.0015115</td><td>2.3021307692307693</td><td>0.59420088</td><td>1.0969862400000001</td><td>1.6911871200000002</td><td>0.25139268000000004</td><td>0.4641095630769231</td><td>0.7155022430769231</td><td>22.2953472</td><td>0.002131602564102564</td><td>3.139269230769231</td><td>0.8379755999999999</td><td>1.5470318769230769</td><td>2.385007476923077</td><td>0.3428082</td><td>0.6328766769230769</td><td>0.975684876923077</td><td>0.003023</td><td>4.604261538461539</td><td>1.18840176</td><td>2.1939724800000002</td><td>3.3823742400000003</td><td>0.5027853600000001</td><td>0.9282191261538462</td><td>1.4310044861538462</td><td>0.4718592</td><td>1.8874368</td><td>3.7767168</td><td>cycle7</td><td>C7</td><td>hifa_calimage</td><td>9</td><td>2.1558333333333333</td><td>1.357777777777778</td><td>1.0480555555555557</td><td>0.058333333333333334</td><td>0.12361111111111112</td><td>1</td><td>39</td><td>1</td><td>Position_5</td><td>40.0</td><td>60.0</td><td>0.86</td><td>0.86</td><td>350.0</td><td>6.88</td><td>6.88</td><td>False</td><td>default</td><td>default</td><td>default</td><td>default</td><td>default</td><td>0.7980555555555553</td></tr>\n",
       "<tr><td>uid://A001/X1465/X1020</td><td>2019.1.01326.S</td><td>uid://A001/X1465/X101f</td><td>Position_n_03_7M</td><td>7m</td><td>Outflows, jets, feedback, Galactic centres/nuclei</td><td>Galaxies and galactic nuclei</td><td>Active galaxies</td><td>10</td><td>12</td><td>16</td><td>3.0</td><td>1.0</td><td>0.13371358744210624</td><td>12.310711444421296</td><td>T</td><td>225.0</td><td>99.33586798161843</td><td>2.4621422888842592</td><td>2</td><td>4</td><td>1116.9863042364896</td><td>100.94949231787314</td><td>3.1673755615409136</td><td>8192.0</td><td>2048.0</td><td>2.0</td><td>8.0</td><td>100.94949231787314</td><td>2</td><td>16.0</td><td>16.0</td><td>32.0</td><td>2.0</td><td>8</td><td>8</td><td>16</td><td>1107.0</td><td>82.0</td><td>3.2874880634465784</td><td>324.0</td><td>24.0</td><td>0.9621916283258277</td><td>661.5</td><td>49.0</td><td>1.964474574498565</td><td>9.984</td><td>1806.0</td><td>6172.0</td><td>3023.0</td><td>14448.0</td><td>14448.0</td><td>28896.0</td><td>49376.0</td><td>49376.0</td><td>98752.0</td><td>24184.0</td><td>24184.0</td><td>48368.0</td><td>0.15849510118999574</td><td>0.15849510118999574</td><td>0.3169902023799915</td><td>0.019811887648749468</td><td>45.0</td><td>66.0</td><td>120.0</td><td>28.57859</td><td>2019.1.01326.S</td><td>Position_n_03_7M</td><td>10.08</td><td>1.0</td><td>604.8</td><td>0.0</td><td>120.96</td><td>0.0</td><td>0.0</td><td>393.12</td><td>1118.88</td><td>725.76</td><td>0.0002025</td><td>0.6121575</td><td>9.79776</td><td>0.001065801282051282</td><td>1.5696346153846155</td><td>0.41898779999999997</td><td>0.7735159384615384</td><td>1.1925037384615385</td><td>0.1714041</td><td>0.31643833846153846</td><td>0.4878424384615385</td><td>0.0003575873015873016</td><td>0.5266285714285714</td><td>0.14057472000000001</td><td>0.25952256</td><td>0.40009728000000006</td><td>0.057507840000000005</td><td>0.10616832000000001</td><td>0.16367616000000001</td><td>0.0015115</td><td>2.3021307692307693</td><td>0.59420088</td><td>1.0969862400000001</td><td>1.6911871200000002</td><td>0.25139268000000004</td><td>0.4641095630769231</td><td>0.7155022430769231</td><td>0.0005071238095238095</td><td>0.7723885714285714</td><td>0.199360512</td><td>0.36805017599999995</td><td>0.567410688</td><td>0.08434483200000001</td><td>0.155713536</td><td>0.24005836800000002</td><td>9.79776</td><td>0.001065801282051282</td><td>1.5696346153846155</td><td>0.41898779999999997</td><td>0.7735159384615384</td><td>1.1925037384615385</td><td>0.1714041</td><td>0.31643833846153846</td><td>0.4878424384615385</td><td>0.0015115</td><td>2.3021307692307693</td><td>0.59420088</td><td>1.0969862400000001</td><td>1.6911871200000002</td><td>0.25139268000000004</td><td>0.4641095630769231</td><td>0.7155022430769231</td><td>19.59552</td><td>0.002131602564102564</td><td>3.139269230769231</td><td>0.8379755999999999</td><td>1.5470318769230769</td><td>2.385007476923077</td><td>0.3428082</td><td>0.6328766769230769</td><td>0.975684876923077</td><td>0.003023</td><td>4.604261538461539</td><td>1.18840176</td><td>2.1939724800000002</td><td>3.3823742400000003</td><td>0.5027853600000001</td><td>0.9282191261538462</td><td>1.4310044861538462</td><td>0.41472</td><td>1.65888</td><td>3.3193799999999998</td><td>cycle7</td><td>C7</td><td>hifa_calimage</td><td>9</td><td>2.058611111111111</td><td>1.3386111111111112</td><td>1.0475</td><td>0.05</td><td>0.10333333333333333</td><td>1</td><td>39</td><td>1</td><td>Position_6</td><td>40.0</td><td>60.0</td><td>0.708</td><td>0.708</td><td>350.0</td><td>5.67</td><td>5.67</td><td>False</td><td>default</td><td>default</td><td>default</td><td>default</td><td>default</td><td>0.7199999999999998</td></tr>\n",
       "<tr><td>uid://A001/X1465/X1026</td><td>2019.1.01326.S</td><td>uid://A001/X1465/X1025</td><td>Position_o_03_7M</td><td>7m</td><td>Outflows, jets, feedback, Galactic centres/nuclei</td><td>Galaxies and galactic nuclei</td><td>Active galaxies</td><td>10</td><td>12</td><td>16</td><td>3.0</td><td>1.0</td><td>0.13373216928158022</td><td>11.753922287777575</td><td>T</td><td>235.0</td><td>99.33586625816268</td><td>2.3507844575555152</td><td>2</td><td>4</td><td>1116.988488853616</td><td>100.94949500553065</td><td>3.1673815119399906</td><td>8192.0</td><td>2048.0</td><td>2.0</td><td>8.0</td><td>100.94949500553065</td><td>2</td><td>16.0</td><td>16.0</td><td>32.0</td><td>2.0</td><td>8</td><td>8</td><td>16</td><td>1107.0</td><td>82.0</td><td>3.2874879759212075</td><td>324.0</td><td>24.0</td><td>0.962191602708646</td><td>661.5</td><td>49.0</td><td>1.9644745221968187</td><td>9.984</td><td>1806.0</td><td>6172.0</td><td>3023.0</td><td>14448.0</td><td>14448.0</td><td>28896.0</td><td>49376.0</td><td>49376.0</td><td>98752.0</td><td>24184.0</td><td>24184.0</td><td>48368.0</td><td>0.15849509697025646</td><td>0.15849509697025646</td><td>0.3169901939405129</td><td>0.019811887121282058</td><td>45.0</td><td>66.0</td><td>120.0</td><td>29.931335</td><td>2019.1.01326.S</td><td>Position_o_03_7M</td><td>10.08</td><td>1.0</td><td>604.8</td><td>0.0</td><td>120.96</td><td>0.0</td><td>0.0</td><td>393.12</td><td>1118.88</td><td>725.76</td><td>0.0002209</td><td>0.6677807</td><td>10.6880256</td><td>0.001065801282051282</td><td>1.5696346153846155</td><td>0.41898779999999997</td><td>0.7735159384615384</td><td>1.1925037384615385</td><td>0.1714041</td><td>0.31643833846153846</td><td>0.4878424384615385</td><td>0.0003575873015873016</td><td>0.5266285714285714</td><td>0.14057472000000001</td><td>0.25952256</td><td>0.40009728000000006</td><td>0.057507840000000005</td><td>0.10616832000000001</td><td>0.16367616000000001</td><td>0.0015115</td><td>2.3021307692307693</td><td>0.59420088</td><td>1.0969862400000001</td><td>1.6911871200000002</td><td>0.25139268000000004</td><td>0.4641095630769231</td><td>0.7155022430769231</td><td>0.0005071238095238095</td><td>0.7723885714285714</td><td>0.199360512</td><td>0.36805017599999995</td><td>0.567410688</td><td>0.08434483200000001</td><td>0.155713536</td><td>0.24005836800000002</td><td>10.6880256</td><td>0.001065801282051282</td><td>1.5696346153846155</td><td>0.41898779999999997</td><td>0.7735159384615384</td><td>1.1925037384615385</td><td>0.1714041</td><td>0.31643833846153846</td><td>0.4878424384615385</td><td>0.0015115</td><td>2.3021307692307693</td><td>0.59420088</td><td>1.0969862400000001</td><td>1.6911871200000002</td><td>0.25139268000000004</td><td>0.4641095630769231</td><td>0.7155022430769231</td><td>21.3760512</td><td>0.002131602564102564</td><td>3.139269230769231</td><td>0.8379755999999999</td><td>1.5470318769230769</td><td>2.385007476923077</td><td>0.3428082</td><td>0.6328766769230769</td><td>0.975684876923077</td><td>0.003023</td><td>4.604261538461539</td><td>1.18840176</td><td>2.1939724800000002</td><td>3.3823742400000003</td><td>0.5027853600000001</td><td>0.9282191261538462</td><td>1.4310044861538462</td><td>0.4524032</td><td>1.8096128</td><td>3.6209928000000002</td><td>cycle7</td><td>C7</td><td>hifa_calimage</td><td>10</td><td>2.2508333333333335</td><td>1.4333333333333336</td><td>1.1119444444444446</td><td>0.060833333333333336</td><td>0.11722222222222223</td><td>1</td><td>39</td><td>1</td><td>Position_7</td><td>40.0</td><td>60.0</td><td>0.892</td><td>0.892</td><td>350.0</td><td>7.14</td><td>7.14</td><td>False</td><td>default</td><td>default</td><td>default</td><td>default</td><td>default</td><td>0.8174999999999999</td></tr>\n",
       "<tr><td>uid://A001/X1465/X102c</td><td>2019.1.01326.S</td><td>uid://A001/X1465/X102b</td><td>Position_p_03_7M</td><td>7m</td><td>Outflows, jets, feedback, Galactic centres/nuclei</td><td>Galaxies and galactic nuclei</td><td>Active galaxies</td><td>10</td><td>12</td><td>16</td><td>3.0</td><td>1.0</td><td>0.1337135102695543</td><td>12.23308102480371</td><td>T</td><td>225.0</td><td>99.33585300632527</td><td>2.446616204960742</td><td>2</td><td>4</td><td>1117.0123506192197</td><td>100.94951872567178</td><td>3.1674466780927557</td><td>8192.0</td><td>2048.0</td><td>2.0</td><td>8.0</td><td>100.94951872567178</td><td>2</td><td>16.0</td><td>16.0</td><td>32.0</td><td>2.0</td><td>8</td><td>8</td><td>16</td><td>1107.0</td><td>82.0</td><td>3.2874872034590923</td><td>324.0</td><td>24.0</td><td>0.9621913766221734</td><td>661.5</td><td>49.0</td><td>1.964474060603604</td><td>9.984</td><td>1806.0</td><td>6172.0</td><td>3023.0</td><td>14448.0</td><td>14448.0</td><td>28896.0</td><td>49376.0</td><td>49376.0</td><td>98752.0</td><td>24184.0</td><td>24184.0</td><td>48368.0</td><td>0.15849505972861216</td><td>0.15849505972861216</td><td>0.31699011945722433</td><td>0.01981188246607652</td><td>45.0</td><td>66.0</td><td>120.0</td><td>28.755129</td><td>2019.1.01326.S</td><td>Position_p_03_7M</td><td>10.08</td><td>1.0</td><td>604.8</td><td>0.0</td><td>120.96</td><td>0.0</td><td>0.0</td><td>393.12</td><td>1118.88</td><td>725.76</td><td>0.0002025</td><td>0.6121575</td><td>9.79776</td><td>0.001065801282051282</td><td>1.5696346153846155</td><td>0.41898779999999997</td><td>0.7735159384615384</td><td>1.1925037384615385</td><td>0.1714041</td><td>0.31643833846153846</td><td>0.4878424384615385</td><td>0.0003575873015873016</td><td>0.5266285714285714</td><td>0.14057472000000001</td><td>0.25952256</td><td>0.40009728000000006</td><td>0.057507840000000005</td><td>0.10616832000000001</td><td>0.16367616000000001</td><td>0.0015115</td><td>2.3021307692307693</td><td>0.59420088</td><td>1.0969862400000001</td><td>1.6911871200000002</td><td>0.25139268000000004</td><td>0.4641095630769231</td><td>0.7155022430769231</td><td>0.0005071238095238095</td><td>0.7723885714285714</td><td>0.199360512</td><td>0.36805017599999995</td><td>0.567410688</td><td>0.08434483200000001</td><td>0.155713536</td><td>0.24005836800000002</td><td>9.79776</td><td>0.001065801282051282</td><td>1.5696346153846155</td><td>0.41898779999999997</td><td>0.7735159384615384</td><td>1.1925037384615385</td><td>0.1714041</td><td>0.31643833846153846</td><td>0.4878424384615385</td><td>0.0015115</td><td>2.3021307692307693</td><td>0.59420088</td><td>1.0969862400000001</td><td>1.6911871200000002</td><td>0.25139268000000004</td><td>0.4641095630769231</td><td>0.7155022430769231</td><td>19.59552</td><td>0.002131602564102564</td><td>3.139269230769231</td><td>0.8379755999999999</td><td>1.5470318769230769</td><td>2.385007476923077</td><td>0.3428082</td><td>0.6328766769230769</td><td>0.975684876923077</td><td>0.003023</td><td>4.604261538461539</td><td>1.18840176</td><td>2.1939724800000002</td><td>3.3823742400000003</td><td>0.5027853600000001</td><td>0.9282191261538462</td><td>1.4310044861538462</td><td>0.41472</td><td>1.65888</td><td>3.3193799999999998</td><td>cycle7</td><td>C7</td><td>hifa_calimage</td><td>10</td><td>2.8238888888888884</td><td>1.7941666666666667</td><td>1.4258333333333335</td><td>0.07944444444444444</td><td>0.11638888888888889</td><td>1</td><td>39</td><td>1</td><td>Position_7</td><td>40.0</td><td>60.0</td><td>0.472</td><td>0.472</td><td>350.0</td><td>3.78</td><td>3.78</td><td>False</td><td>default</td><td>default</td><td>default</td><td>default</td><td>default</td><td>1.0297222222222218</td></tr>\n",
       "<tr><td>...</td><td>...</td><td>...</td><td>...</td><td>...</td><td>...</td><td>...</td><td>...</td><td>...</td><td>...</td><td>...</td><td>...</td><td>...</td><td>...</td><td>...</td><td>...</td><td>...</td><td>...</td><td>...</td><td>...</td><td>...</td><td>...</td><td>...</td><td>...</td><td>...</td><td>...</td><td>...</td><td>...</td><td>...</td><td>...</td><td>...</td><td>...</td><td>...</td><td>...</td><td>...</td><td>...</td><td>...</td><td>...</td><td>...</td><td>...</td><td>...</td><td>...</td><td>...</td><td>...</td><td>...</td><td>...</td><td>...</td><td>...</td><td>...</td><td>...</td><td>...</td><td>...</td><td>...</td><td>...</td><td>...</td><td>...</td><td>...</td><td>...</td><td>...</td><td>...</td><td>...</td><td>...</td><td>...</td><td>...</td><td>...</td><td>...</td><td>...</td><td>...</td><td>...</td><td>...</td><td>...</td><td>...</td><td>...</td><td>...</td><td>...</td><td>...</td><td>...</td><td>...</td><td>...</td><td>...</td><td>...</td><td>...</td><td>...</td><td>...</td><td>...</td><td>...</td><td>...</td><td>...</td><td>...</td><td>...</td><td>...</td><td>...</td><td>...</td><td>...</td><td>...</td><td>...</td><td>...</td><td>...</td><td>...</td><td>...</td><td>...</td><td>...</td><td>...</td><td>...</td><td>...</td><td>...</td><td>...</td><td>...</td><td>...</td><td>...</td><td>...</td><td>...</td><td>...</td><td>...</td><td>...</td><td>...</td><td>...</td><td>...</td><td>...</td><td>...</td><td>...</td><td>...</td><td>...</td><td>...</td><td>...</td><td>...</td><td>...</td><td>...</td><td>...</td><td>...</td><td>...</td><td>...</td><td>...</td><td>...</td><td>...</td><td>...</td><td>...</td><td>...</td><td>...</td><td>...</td><td>...</td><td>...</td><td>...</td><td>...</td><td>...</td><td>...</td><td>...</td><td>...</td><td>...</td><td>...</td><td>...</td><td>...</td><td>...</td><td>...</td><td>...</td><td>...</td><td>...</td><td>...</td><td>...</td><td>...</td><td>...</td><td>...</td><td>...</td><td>...</td><td>...</td><td>...</td><td>...</td><td>...</td><td>...</td><td>...</td><td>...</td><td>...</td><td>...</td><td>...</td><td>...</td><td>...</td><td>...</td><td>...</td></tr>\n",
       "<tr><td>uid://A001/X15a2/Xab7</td><td>2019.1.01324.T</td><td>uid://A001/X15a2/Xab6</td><td>Transien_e_03_TM1</td><td>12m</td><td>Black holes, Transients</td><td>Stellar evolution and the Sun</td><td>Stars and stellar evolution</td><td>47</td><td>50</td><td>66</td><td>3.0</td><td>1.0</td><td>0.016588794717785</td><td>0.1678109021398266</td><td>F</td><td>2740.0</td><td>59.93310822407246</td><td>0.03356218042796532</td><td>2</td><td>4</td><td>1117.3945505165266</td><td>97.48910779793061</td><td>3.2686022854814705</td><td>7680.0</td><td>1920.0</td><td>1.875</td><td>7.5</td><td>97.48910779793061</td><td>2</td><td>16.0</td><td>16.0</td><td>32.0</td><td>2.0</td><td>8</td><td>8</td><td>16</td><td>1107.0</td><td>82.0</td><td>3.4041777435678258</td><td>324.0</td><td>24.0</td><td>0.9963447054344856</td><td>648.0</td><td>48.0</td><td>1.9926894108689712</td><td>3.072</td><td>1806.0</td><td>6172.0</td><td>3086.0</td><td>14448.0</td><td>14448.0</td><td>28896.0</td><td>49376.0</td><td>49376.0</td><td>98752.0</td><td>24688.0</td><td>24688.0</td><td>49376.0</td><td>0.1641208988512215</td><td>0.1641208988512215</td><td>0.328241797702443</td><td>0.020515112356402687</td><td>1081.0</td><td>1225.0</td><td>2145.0</td><td>2169.2878</td><td>2019.1.01324.T</td><td>Transien_e_03_TM1</td><td>2.016</td><td>1.0</td><td>302.4</td><td>0.0</td><td>127.008</td><td>0.0</td><td>36.288</td><td>308.448</td><td>774.144</td><td>465.69599999999997</td><td>0.0300304</td><td>92.6738144</td><td>1483.2615168</td><td>0.072521</td><td>125.098725</td><td>22.368957408</td><td>33.772739615999996</td><td>56.141697024</td><td>10.718458757999999</td><td>16.182771066</td><td>26.901229824</td><td>0.034377142857142856</td><td>59.30057142857143</td><td>10.60356096</td><td>16.009297919999998</td><td>26.61285888</td><td>5.08087296</td><td>7.67112192</td><td>12.751994880000002</td><td>0.081971875</td><td>141.763125</td><td>25.284060899999997</td><td>38.1739743</td><td>63.4580352</td><td>12.14626455</td><td>18.33847785</td><td>30.484742400000002</td><td>0.03885714285714286</td><td>67.2</td><td>11.985408</td><td>18.095616</td><td>30.081024000000003</td><td>5.757696</td><td>8.692992</td><td>14.450688000000001</td><td>1483.2615168</td><td>0.072521</td><td>125.098725</td><td>22.368957408</td><td>33.772739615999996</td><td>56.141697024</td><td>10.718458757999999</td><td>16.182771066</td><td>26.901229824</td><td>0.081971875</td><td>141.763125</td><td>25.284060899999997</td><td>38.1739743</td><td>63.4580352</td><td>12.14626455</td><td>18.33847785</td><td>30.484742400000002</td><td>2966.5230336</td><td>0.145042</td><td>250.19745</td><td>44.737914816</td><td>67.54547923199999</td><td>112.283394048</td><td>21.436917515999998</td><td>32.365542132</td><td>53.802459648</td><td>0.16394375</td><td>283.52625</td><td>50.56812179999999</td><td>76.3479486</td><td>126.9160704</td><td>24.2925291</td><td>36.6769557</td><td>60.969484800000004</td><td>57.658368</td><td>230.633472</td><td>461.50718720000003</td><td>cycle7</td><td>2021</td><td>hifa_calimage_renorm</td><td>42</td><td>31.281388888888888</td><td>13.486944444444443</td><td>10.138055555555555</td><td>0.21333333333333335</td><td>2.5413888888888887</td><td>1</td><td>1</td><td>6</td><td>GX_339-4</td><td>40.0</td><td>60.0</td><td>156.0</td><td>35.8</td><td>500.0</td><td>1240.0</td><td>71.7</td><td>True</td><td>default</td><td>0.68pb</td><td>default</td><td>default</td><td>23</td><td>17.794444444444444</td></tr>\n",
       "<tr><td>uid://A001/X15a2/Xed4</td><td>2019.1.00863.T</td><td>uid://A001/X15a1/X1ec9</td><td>GRB21110_c_03_TM1</td><td>12m</td><td>Pulsars and neutron stars, Transients</td><td>Stellar evolution and the Sun</td><td>Stars and stellar evolution</td><td>47</td><td>50</td><td>66</td><td>3.0</td><td>1.0</td><td>0.016588169547963195</td><td>0.4317903496458591</td><td>F</td><td>1060.0</td><td>59.930849568683314</td><td>0.08635806992917182</td><td>2</td><td>4</td><td>30913.85272485866</td><td>97.49278193738127</td><td>90.52858123839745</td><td>512.0</td><td>128.0</td><td>2.0</td><td>8.0</td><td>97.49278193738127</td><td>2</td><td>16.0</td><td>16.0</td><td>32.0</td><td>2.0</td><td>8</td><td>8</td><td>16</td><td>30901.5</td><td>2289.0</td><td>95.02279509099664</td><td>3240.0</td><td>240.0</td><td>9.96307156917396</td><td>3240.0</td><td>240.0</td><td>9.96307156917396</td><td>3.072</td><td>64.0</td><td>617.0</td><td>617.0</td><td>512.0</td><td>512.0</td><td>1024.0</td><td>4936.0</td><td>4936.0</td><td>9872.0</td><td>4936.0</td><td>4936.0</td><td>9872.0</td><td>0.16411471374646644</td><td>0.16411471374646644</td><td>0.3282294274929329</td><td>0.020514339218308305</td><td>1081.0</td><td>1225.0</td><td>2145.0</td><td>843.02625</td><td>2019.1.00863.T</td><td>GRB21110_c_03_TM1</td><td>2.016</td><td>1.0</td><td>302.4</td><td>0.0</td><td>151.2</td><td>0.0</td><td>0.0</td><td>2056.32</td><td>2509.92</td><td>453.59999999999997</td><td>0.0044944</td><td>2.7730448</td><td>44.4406272</td><td>0.0144995</td><td>25.011637500000003</td><td>29.815611840000003</td><td>6.576973199999999</td><td>36.39258504</td><td>14.286647340000002</td><td>3.1514663250000003</td><td>17.438113665000003</td><td>0.0022918095238095237</td><td>3.9533714285714288</td><td>4.71269376</td><td>1.0395648</td><td>5.75225856</td><td>2.2581657600000002</td><td>0.49812480000000003</td><td>2.7562905600000005</td><td>0.0163890625</td><td>28.3434375</td><td>33.701157</td><td>7.434078749999999</td><td>41.13523575</td><td>16.189771500000003</td><td>3.5712731250000003</td><td>19.761044625</td><td>0.0025904761904761904</td><td>4.48</td><td>5.326848</td><td>1.1750399999999999</td><td>6.501888</td><td>2.5589760000000004</td><td>0.5644800000000001</td><td>3.1234560000000005</td><td>44.4406272</td><td>0.0144995</td><td>25.011637500000003</td><td>29.815611840000003</td><td>6.576973199999999</td><td>36.39258504</td><td>14.286647340000002</td><td>3.1514663250000003</td><td>17.438113665000003</td><td>0.0163890625</td><td>28.3434375</td><td>33.701157</td><td>7.434078749999999</td><td>41.13523575</td><td>16.189771500000003</td><td>3.5712731250000003</td><td>19.761044625</td><td>88.8812544</td><td>0.028999</td><td>50.023275000000005</td><td>59.631223680000005</td><td>13.153946399999999</td><td>72.78517008</td><td>28.573294680000004</td><td>6.302932650000001</td><td>34.876227330000006</td><td>0.032778125</td><td>56.686875</td><td>67.402314</td><td>14.868157499999999</td><td>82.2704715</td><td>32.379543000000005</td><td>7.1425462500000005</td><td>39.52208925</td><td>0.5752832</td><td>2.3011328</td><td>4.6382208</td><td>cycle7</td><td>2021</td><td>hifa_calimage_renorm</td><td>44</td><td>4.855277777777777</td><td>0.8577777777777779</td><td>0.42083333333333334</td><td>0.09805555555555555</td><td>0.14888888888888888</td><td>1</td><td>1</td><td>4</td><td>GRB211106A</td><td>40.0</td><td>60.0</td><td>1.66</td><td>1.66</td><td>500.0</td><td>13.4</td><td>13.4</td><td>False</td><td>default</td><td>default</td><td>default</td><td>default</td><td>default</td><td>3.9974999999999996</td></tr>\n",
       "<tr><td>uid://A001/X15a3/X18</td><td>2019.1.01587.S</td><td>uid://A001/X15a3/X17</td><td>J1511+04_a_07_TM1</td><td>12m</td><td>Galaxy structure &amp; evolution</td><td>Cosmology and the high redshift Universe</td><td>Galaxy evolution</td><td>47</td><td>50</td><td>66</td><td>7.0</td><td>1.0</td><td>0.00473533757302897</td><td>0.09574715915292428</td><td>F</td><td>1370.0</td><td>17.044407549621972</td><td>0.019149431830584856</td><td>2</td><td>4</td><td>3893.0806528778044</td><td>341.56730347969506</td><td>3.3677629762572647</td><td>1920.0</td><td>480.0</td><td>1.875</td><td>7.5</td><td>341.56730347969506</td><td>2</td><td>8.0</td><td>16.0</td><td>32.0</td><td>2.0</td><td>4</td><td>8</td><td>16</td><td>3888.0</td><td>288.0</td><td>3.41248434738804</td><td>1134.0</td><td>84.0</td><td>0.9953079346548451</td><td>2268.0</td><td>168.0</td><td>1.9906158693096903</td><td>3.072</td><td>514.0</td><td>1763.0</td><td>881.0</td><td>2056.0</td><td>4112.0</td><td>8224.0</td><td>7052.0</td><td>14104.0</td><td>28208.0</td><td>3524.0</td><td>7048.0</td><td>14096.0</td><td>0.023421445549677945</td><td>0.04684289109935589</td><td>0.09368578219871178</td><td>0.005855361387419486</td><td>1081.0</td><td>1225.0</td><td>2145.0</td><td>1068.3083</td><td>2019.1.01587.S</td><td>J1511+04_a_07_TM1</td><td>6.048</td><td>1.0</td><td>1814.4</td><td>0.0</td><td>302.4</td><td>0.0</td><td>241.92</td><td>1028.16</td><td>3386.88</td><td>2358.7200000000003</td><td>0.0075076</td><td>6.6141956</td><td>52.973625600000005</td><td>0.01035175</td><td>17.85676875</td><td>10.64325528</td><td>24.41687976</td><td>35.06013504</td><td>5.099893155</td><td>11.699754885000003</td><td>16.79964804</td><td>0.0028647619047619047</td><td>4.941714285714285</td><td>2.9454336000000003</td><td>6.7571712</td><td>9.7026048</td><td>1.4113536</td><td>3.2378112000000003</td><td>4.6491648</td><td>0.01170078125</td><td>20.235468750000003</td><td>12.03027525</td><td>27.598866750000003</td><td>39.629142</td><td>5.779249875000001</td><td>13.258279125000003</td><td>19.037529000000003</td><td>0.003238095238095238</td><td>5.6</td><td>3.32928</td><td>7.63776</td><td>10.967039999999999</td><td>1.5993600000000001</td><td>3.6691200000000004</td><td>5.26848</td><td>105.94725120000001</td><td>0.0207035</td><td>35.7135375</td><td>21.28651056</td><td>48.83375952</td><td>70.12027008</td><td>10.19978631</td><td>23.399509770000005</td><td>33.59929608</td><td>0.0234015625</td><td>40.470937500000005</td><td>24.0605505</td><td>55.197733500000005</td><td>79.258284</td><td>11.558499750000003</td><td>26.516558250000006</td><td>38.075058000000006</td><td>211.89450240000002</td><td>0.041407</td><td>71.427075</td><td>42.57302112</td><td>97.66751904</td><td>140.24054016</td><td>20.39957262</td><td>46.79901954000001</td><td>67.19859216</td><td>0.046803125</td><td>80.94187500000001</td><td>48.121101</td><td>110.39546700000001</td><td>158.516568</td><td>23.116999500000006</td><td>53.03311650000001</td><td>76.15011600000001</td><td>3.603648</td><td>14.414592</td><td>28.8892448</td><td>cycle7</td><td>--</td><td>--</td><td>--</td><td>--</td><td>--</td><td>--</td><td>--</td><td>--</td><td>--</td><td>--</td><td>--</td><td>--</td><td>--</td><td>--</td><td>--</td><td>--</td><td>--</td><td>--</td><td>--</td><td>--</td><td>--</td><td>--</td><td>--</td><td>--</td><td>--</td><td>--</td></tr>\n",
       "<tr><td>uid://A001/X15a3/X5</td><td>2019.A.00040.S</td><td>uid://A001/X15a3/X4</td><td>ASASSN-2_a_07_TM1</td><td>12m</td><td>Debris disks</td><td>Circumstellar disks, exoplanets and the solar system</td><td>Disks and planet formation</td><td>47</td><td>50</td><td>66</td><td>7.0</td><td>1.0</td><td>0.004736613751849588</td><td>0.017512278432268685</td><td>F</td><td>7490.0</td><td>17.04810208137214</td><td>0.003502455686453737</td><td>2</td><td>4</td><td>979.229489693065</td><td>341.49625374808505</td><td>0.8470622795880317</td><td>4224.0</td><td>3840.0</td><td>2.0</td><td>7.875</td><td>341.49625374808505</td><td>2</td><td>8.0</td><td>16.0</td><td>32.0</td><td>2.0</td><td>4</td><td>8</td><td>16</td><td>972.0</td><td>72.0</td><td>0.8532985822765676</td><td>108.0</td><td>8.0</td><td>0.09481095358628529</td><td>567.0</td><td>42.0</td><td>0.49775750632799776</td><td>3.072</td><td>2057.0</td><td>18518.0</td><td>3527.0</td><td>8228.0</td><td>16456.0</td><td>32912.0</td><td>74072.0</td><td>148144.0</td><td>296288.0</td><td>14108.0</td><td>28216.0</td><td>56432.0</td><td>0.023426318479913517</td><td>0.04685263695982703</td><td>0.09370527391965407</td><td>0.005856579619978379</td><td>1081.0</td><td>1225.0</td><td>2145.0</td><td>5902.4077</td><td>2019.A.00040.S</td><td>ASASSN-2_a_07_TM1</td><td>2.016</td><td>1.0</td><td>1814.3999999999999</td><td>0.0</td><td>1868.832</td><td>0.0</td><td>217.728</td><td>5152.896</td><td>9053.856</td><td>3900.96</td><td>0.2244004</td><td>791.4602108</td><td>6333.4768896000005</td><td>0.04144225</td><td>71.48788125</td><td>213.547604256</td><td>161.66455956000001</td><td>375.212163816</td><td>102.324893706</td><td>77.46426812250002</td><td>179.7891618285</td><td>0.01890742857142857</td><td>32.61531428571429</td><td>97.428013056</td><td>73.75712256</td><td>171.185135616</td><td>46.684256256000005</td><td>35.34195456000001</td><td>82.026210816</td><td>0.04684296875</td><td>81.01078125000001</td><td>241.3769463</td><td>182.732547375</td><td>424.10949367499995</td><td>115.95559185</td><td>87.78328256250002</td><td>203.7388744125</td><td>0.021371428571428572</td><td>36.96</td><td>110.1247488</td><td>83.369088</td><td>193.4938368</td><td>52.9030656</td><td>40.049856000000005</td><td>92.9529216</td><td>12666.953779200001</td><td>0.0828845</td><td>142.9757625</td><td>427.095208512</td><td>323.32911912000003</td><td>750.424327632</td><td>204.649787412</td><td>154.92853624500003</td><td>359.578323657</td><td>0.0936859375</td><td>162.02156250000002</td><td>482.7538926</td><td>365.46509475</td><td>848.2189873499999</td><td>231.9111837</td><td>175.56656512500004</td><td>407.477748825</td><td>25333.907558400002</td><td>0.165769</td><td>285.951525</td><td>854.190417024</td><td>646.6582382400001</td><td>1500.848655264</td><td>409.299574824</td><td>309.85707249000006</td><td>719.156647314</td><td>0.187371875</td><td>324.04312500000003</td><td>965.5077852</td><td>730.9301895</td><td>1696.4379746999998</td><td>463.8223674</td><td>351.1331302500001</td><td>814.95549765</td><td>861.697536</td><td>947.8672896</td><td>1897.5297824000002</td><td>cycle7</td><td>2021</td><td>hifa_calimage_renorm</td><td>46</td><td>65.73444444444445</td><td>18.252499999999998</td><td>10.916666666666666</td><td>0.3561111111111111</td><td>2.43</td><td>3</td><td>1</td><td>44</td><td>ASASSN-21qj</td><td>40.0</td><td>60.0</td><td>1150.0</td><td>44.2</td><td>500.0</td><td>2520.0</td><td>106.0</td><td>True</td><td>21:1,25:2,23:1,19:1</td><td>0.7pb</td><td>3ppb</td><td>default</td><td>default</td><td>47.48194444444445</td></tr>\n",
       "<tr><td>uid://A001/X15a9/X134d</td><td>2019.1.01634.L</td><td>uid://A001/X15a9/X134c</td><td>UVISTA-J_b_06_TM1</td><td>12m</td><td>Lyman Break Galaxies (LBG), Galaxy structure &amp; evolution</td><td>Cosmology and the high redshift Universe</td><td>Galaxy evolution</td><td>47</td><td>50</td><td>66</td><td>6.0</td><td>1.0</td><td>0.007381374109636608</td><td>1.2855946465692392</td><td>F</td><td>160.0</td><td>26.56061402394846</td><td>0.25711892931384783</td><td>2</td><td>3</td><td>7779.002950074101</td><td>219.13075675583687</td><td>10.558843821668365</td><td>720.0</td><td>240.0</td><td>1.875</td><td>5.625</td><td>219.13075675583687</td><td>2</td><td>16.0</td><td>16.0</td><td>32.0</td><td>2.0</td><td>8</td><td>8</td><td>16</td><td>7776.0</td><td>576.0</td><td>10.6383338784591</td><td>7303.5</td><td>541.0</td><td>9.99190734070551</td><td>7303.5</td><td>541.0</td><td>9.99190734070551</td><td>3.072</td><td>257.0</td><td>273.0</td><td>273.0</td><td>2056.0</td><td>2056.0</td><td>4112.0</td><td>2184.0</td><td>2184.0</td><td>4368.0</td><td>2184.0</td><td>2184.0</td><td>4368.0</td><td>0.07301576573218226</td><td>0.07301576573218226</td><td>0.1460315314643645</td><td>0.009126970716522782</td><td>1081.0</td><td>1225.0</td><td>2145.0</td><td>122.633286</td><td>2019.1.01634.L</td><td>UVISTA-J_b_06_TM1</td><td>6.048</td><td>1.0</td><td>604.8</td><td>0.0</td><td>241.92</td><td>0.0</td><td>0.0</td><td>2903.04</td><td>3749.7599999999998</td><td>846.7199999999999</td><td>0.0001024</td><td>0.0279552</td><td>0.4489216</td><td>0.0064155</td><td>11.0667375</td><td>18.624453120000002</td><td>5.432132159999999</td><td>24.05658528</td><td>8.92421712</td><td>2.60289666</td><td>11.527113779999999</td><td>0.0010742857142857143</td><td>1.853142857142857</td><td>3.1186944</td><td>0.9096191999999999</td><td>4.0283136</td><td>1.4943743999999999</td><td>0.4358591999999999</td><td>1.9302335999999995</td><td>0.0072515625</td><td>12.5409375</td><td>21.051576</td><td>6.1400429999999995</td><td>27.191619</td><td>10.113012</td><td>2.9496284999999998</td><td>13.062640499999999</td><td>0.0012142857142857144</td><td>2.0999999999999996</td><td>3.5251200000000003</td><td>1.02816</td><td>4.55328</td><td>1.6934399999999998</td><td>0.49391999999999986</td><td>2.1873599999999995</td><td>0.4489216</td><td>0.0064155</td><td>11.0667375</td><td>18.624453120000002</td><td>5.432132159999999</td><td>24.05658528</td><td>8.92421712</td><td>2.60289666</td><td>11.527113779999999</td><td>0.0072515625</td><td>12.5409375</td><td>21.051576</td><td>6.1400429999999995</td><td>27.191619</td><td>10.113012</td><td>2.9496284999999998</td><td>13.062640499999999</td><td>0.8978432</td><td>0.012831</td><td>22.133475</td><td>37.248906240000004</td><td>10.864264319999998</td><td>48.11317056</td><td>17.84843424</td><td>5.20579332</td><td>23.054227559999998</td><td>0.014503125</td><td>25.081875</td><td>42.103152</td><td>12.280085999999999</td><td>54.383238</td><td>20.226024</td><td>5.8992569999999995</td><td>26.125280999999998</td><td>0.024576</td><td>0.073728</td><td>0.1480704</td><td>cycle7</td><td>2021</td><td>hifa_calimage_renorm</td><td>46</td><td>4.651944444444445</td><td>0.3486111111111111</td><td>0.05694444444444445</td><td>0.053611111111111116</td><td>0.034722222222222224</td><td>2</td><td>1</td><td>3</td><td>UVISTA-J-1212</td><td>40.0</td><td>60.0</td><td>0.0384</td><td>0.0384</td><td>500.0</td><td>0.231</td><td>0.231</td><td>False</td><td>default</td><td>default</td><td>default</td><td>default</td><td>default</td><td>4.303333333333334</td></tr>\n",
       "<tr><td>uid://A001/X15a9/X1351</td><td>2019.1.01634.L</td><td>uid://A001/X15a9/X1350</td><td>UVISTA-J_c_06_TM1</td><td>12m</td><td>Lyman Break Galaxies (LBG), Galaxy structure &amp; evolution</td><td>Cosmology and the high redshift Universe</td><td>Galaxy evolution</td><td>47</td><td>50</td><td>66</td><td>6.0</td><td>1.0</td><td>0.007204637033625908</td><td>1.3081616346248486</td><td>F</td><td>150.0</td><td>25.924606029864425</td><td>0.26163232692496974</td><td>2</td><td>3</td><td>7779.804031912504</td><td>224.50623842940158</td><td>10.309003680864372</td><td>720.0</td><td>240.0</td><td>1.875</td><td>5.625</td><td>224.50623842940158</td><td>2</td><td>16.0</td><td>16.0</td><td>32.0</td><td>2.0</td><td>8</td><td>8</td><td>16</td><td>7776.0</td><td>576.0</td><td>10.383614146833903</td><td>7479.0</td><td>554.0</td><td>9.987017773170109</td><td>7479.0</td><td>554.0</td><td>9.987017773170109</td><td>3.072</td><td>257.0</td><td>267.0</td><td>267.0</td><td>2056.0</td><td>2056.0</td><td>4112.0</td><td>2136.0</td><td>2136.0</td><td>4272.0</td><td>2136.0</td><td>2136.0</td><td>4272.0</td><td>0.0712675073616334</td><td>0.0712675073616334</td><td>0.1425350147232668</td><td>0.008908438420204175</td><td>1081.0</td><td>1225.0</td><td>2145.0</td><td>120.855606</td><td>2019.1.01634.L</td><td>UVISTA-J_c_06_TM1</td><td>6.048</td><td>1.0</td><td>302.4</td><td>0.0</td><td>120.96</td><td>0.0</td><td>0.0</td><td>1149.12</td><td>1572.4799999999998</td><td>423.35999999999996</td><td>9e-05</td><td>0.02403</td><td>0.38592</td><td>0.0062745</td><td>10.8235125</td><td>7.210153439999999</td><td>2.6563723199999996</td><td>9.866525759999998</td><td>3.4548651899999996</td><td>1.2728450699999998</td><td>4.727710259999999</td><td>0.0010742857142857143</td><td>1.853142857142857</td><td>1.2344832</td><td>0.4548095999999999</td><td>1.6892927999999998</td><td>0.5915231999999999</td><td>0.21792959999999995</td><td>0.8094527999999999</td><td>0.0070921875</td><td>12.2653125</td><td>8.1497745</td><td>3.0025485</td><td>11.152322999999999</td><td>3.91508775</td><td>1.4424007499999998</td><td>5.3574885</td><td>0.0012142857142857144</td><td>2.0999999999999996</td><td>1.39536</td><td>0.51408</td><td>1.90944</td><td>0.6703199999999998</td><td>0.24695999999999993</td><td>0.9172799999999998</td><td>0.38592</td><td>0.0062745</td><td>10.8235125</td><td>7.210153439999999</td><td>2.6563723199999996</td><td>9.866525759999998</td><td>3.4548651899999996</td><td>1.2728450699999998</td><td>4.727710259999999</td><td>0.0070921875</td><td>12.2653125</td><td>8.1497745</td><td>3.0025485</td><td>11.152322999999999</td><td>3.91508775</td><td>1.4424007499999998</td><td>5.3574885</td><td>0.77184</td><td>0.012549</td><td>21.647025</td><td>14.420306879999998</td><td>5.312744639999999</td><td>19.733051519999997</td><td>6.909730379999999</td><td>2.5456901399999996</td><td>9.455420519999999</td><td>0.014184375</td><td>24.530625</td><td>16.299549</td><td>6.005097</td><td>22.304645999999998</td><td>7.8301755</td><td>2.8848014999999996</td><td>10.714977</td><td>0.0216</td><td>0.0648</td><td>0.13014</td><td>cycle7</td><td>2021</td><td>hifa_calimage_renorm</td><td>46</td><td>2.147222222222222</td><td>0.1983333333333333</td><td>0.02861111111111111</td><td>0.03638888888888889</td><td>0.015833333333333335</td><td>1</td><td>1</td><td>3</td><td>UVISTA-J-1212</td><td>40.0</td><td>60.0</td><td>0.0354</td><td>0.0354</td><td>500.0</td><td>0.213</td><td>0.213</td><td>False</td><td>default</td><td>default</td><td>default</td><td>default</td><td>default</td><td>1.948888888888889</td></tr>\n",
       "<tr><td>uid://A001/X15aa/X74</td><td>2019.1.00863.T</td><td>uid://A001/X15aa/X73</td><td>SGRB2_a_03_TM1</td><td>12m</td><td>Pulsars and neutron stars, Transients</td><td>Stellar evolution and the Sun</td><td>Stars and stellar evolution</td><td>47</td><td>50</td><td>66</td><td>3.0</td><td>1.0</td><td>0.01658832667287695</td><td>0.6470849266662538</td><td>F</td><td>710.0</td><td>59.931417240091704</td><td>0.12941698533325077</td><td>2</td><td>4</td><td>30913.559908317307</td><td>97.4918584840845</td><td>90.52858123839745</td><td>512.0</td><td>128.0</td><td>2.0</td><td>8.0</td><td>97.4918584840845</td><td>2</td><td>16.0</td><td>16.0</td><td>32.0</td><td>2.0</td><td>8</td><td>8</td><td>16</td><td>30901.5</td><td>2289.0</td><td>95.02369515706123</td><td>3240.0</td><td>240.0</td><td>9.963165940452031</td><td>3240.0</td><td>240.0</td><td>9.963165940452031</td><td>3.072</td><td>64.0</td><td>617.0</td><td>617.0</td><td>512.0</td><td>512.0</td><td>1024.0</td><td>4936.0</td><td>4936.0</td><td>9872.0</td><td>4936.0</td><td>4936.0</td><td>9872.0</td><td>0.1641162682585643</td><td>0.1641162682585643</td><td>0.3282325365171286</td><td>0.020514533532320536</td><td>1081.0</td><td>1225.0</td><td>2145.0</td><td>562.5464</td><td>2019.1.00863.T</td><td>SGRB2_a_03_TM1</td><td>2.016</td><td>1.0</td><td>302.4</td><td>0.0</td><td>151.2</td><td>0.0</td><td>0.0</td><td>2056.32</td><td>2509.92</td><td>453.59999999999997</td><td>0.0020164</td><td>1.2441188</td><td>19.9381632</td><td>0.0144995</td><td>25.011637500000003</td><td>29.815611840000003</td><td>6.576973199999999</td><td>36.39258504</td><td>14.286647340000002</td><td>3.1514663250000003</td><td>17.438113665000003</td><td>0.0022918095238095237</td><td>3.9533714285714288</td><td>4.71269376</td><td>1.0395648</td><td>5.75225856</td><td>2.2581657600000002</td><td>0.49812480000000003</td><td>2.7562905600000005</td><td>0.0163890625</td><td>28.3434375</td><td>33.701157</td><td>7.434078749999999</td><td>41.13523575</td><td>16.189771500000003</td><td>3.5712731250000003</td><td>19.761044625</td><td>0.0025904761904761904</td><td>4.48</td><td>5.326848</td><td>1.1750399999999999</td><td>6.501888</td><td>2.5589760000000004</td><td>0.5644800000000001</td><td>3.1234560000000005</td><td>19.9381632</td><td>0.0144995</td><td>25.011637500000003</td><td>29.815611840000003</td><td>6.576973199999999</td><td>36.39258504</td><td>14.286647340000002</td><td>3.1514663250000003</td><td>17.438113665000003</td><td>0.0163890625</td><td>28.3434375</td><td>33.701157</td><td>7.434078749999999</td><td>41.13523575</td><td>16.189771500000003</td><td>3.5712731250000003</td><td>19.761044625</td><td>39.8763264</td><td>0.028999</td><td>50.023275000000005</td><td>59.631223680000005</td><td>13.153946399999999</td><td>72.78517008</td><td>28.573294680000004</td><td>6.302932650000001</td><td>34.876227330000006</td><td>0.032778125</td><td>56.686875</td><td>67.402314</td><td>14.868157499999999</td><td>82.2704715</td><td>32.379543000000005</td><td>7.1425462500000005</td><td>39.52208925</td><td>0.2580992</td><td>1.0323968</td><td>2.0809247999999996</td><td>cycle7</td><td>2021</td><td>hifa_calimage_renorm</td><td>44</td><td>4.363888888888889</td><td>0.5072222222222221</td><td>0.16694444444444442</td><td>0.06611111111111112</td><td>0.09083333333333334</td><td>1</td><td>1</td><td>4</td><td>GRB211106A</td><td>40.0</td><td>60.0</td><td>0.484</td><td>0.484</td><td>500.0</td><td>3.9</td><td>3.9</td><td>False</td><td>default</td><td>default</td><td>default</td><td>default</td><td>default</td><td>3.856666666666667</td></tr>\n",
       "<tr><td>uid://A001/X15aa/X77</td><td>2019.1.00863.T</td><td>uid://A001/X15aa/X76</td><td>GRB21110_e_03_TM1</td><td>12m</td><td>Pulsars and neutron stars, Transients</td><td>Stellar evolution and the Sun</td><td>Stars and stellar evolution</td><td>47</td><td>50</td><td>66</td><td>3.0</td><td>1.0</td><td>0.01658864995868178</td><td>1.1041984061268773</td><td>F</td><td>420.0</td><td>59.93258522869232</td><td>0.22083968122537545</td><td>2</td><td>4</td><td>30912.957453318253</td><td>97.48995852634154</td><td>90.52858123839742</td><td>512.0</td><td>128.0</td><td>2.0</td><td>8.0</td><td>97.48995852634154</td><td>2</td><td>16.0</td><td>16.0</td><td>32.0</td><td>2.0</td><td>8</td><td>8</td><td>16</td><td>30901.5</td><td>2289.0</td><td>95.02554705040603</td><td>3240.0</td><td>240.0</td><td>9.963360110134314</td><td>3240.0</td><td>240.0</td><td>9.963360110134314</td><td>3.072</td><td>64.0</td><td>617.0</td><td>617.0</td><td>512.0</td><td>512.0</td><td>1024.0</td><td>4936.0</td><td>4936.0</td><td>9872.0</td><td>4936.0</td><td>4936.0</td><td>9872.0</td><td>0.16411946668001548</td><td>0.16411946668001548</td><td>0.32823893336003096</td><td>0.020514933335001935</td><td>1081.0</td><td>1225.0</td><td>2145.0</td><td>329.6704</td><td>2019.1.00863.T</td><td>GRB21110_e_03_TM1</td><td>2.016</td><td>1.0</td><td>302.4</td><td>0.0</td><td>151.2</td><td>0.0</td><td>0.0</td><td>2056.32</td><td>2509.92</td><td>453.59999999999997</td><td>0.0007056</td><td>0.4353552</td><td>6.9769727999999995</td><td>0.0144995</td><td>25.011637500000003</td><td>29.815611840000003</td><td>6.576973199999999</td><td>36.39258504</td><td>14.286647340000002</td><td>3.1514663250000003</td><td>17.438113665000003</td><td>0.0022918095238095237</td><td>3.9533714285714288</td><td>4.71269376</td><td>1.0395648</td><td>5.75225856</td><td>2.2581657600000002</td><td>0.49812480000000003</td><td>2.7562905600000005</td><td>0.0163890625</td><td>28.3434375</td><td>33.701157</td><td>7.434078749999999</td><td>41.13523575</td><td>16.189771500000003</td><td>3.5712731250000003</td><td>19.761044625</td><td>0.0025904761904761904</td><td>4.48</td><td>5.326848</td><td>1.1750399999999999</td><td>6.501888</td><td>2.5589760000000004</td><td>0.5644800000000001</td><td>3.1234560000000005</td><td>6.9769727999999995</td><td>0.0144995</td><td>25.011637500000003</td><td>29.815611840000003</td><td>6.576973199999999</td><td>36.39258504</td><td>14.286647340000002</td><td>3.1514663250000003</td><td>17.438113665000003</td><td>0.0163890625</td><td>28.3434375</td><td>33.701157</td><td>7.434078749999999</td><td>41.13523575</td><td>16.189771500000003</td><td>3.5712731250000003</td><td>19.761044625</td><td>13.953945599999999</td><td>0.028999</td><td>50.023275000000005</td><td>59.631223680000005</td><td>13.153946399999999</td><td>72.78517008</td><td>28.573294680000004</td><td>6.302932650000001</td><td>34.876227330000006</td><td>0.032778125</td><td>56.686875</td><td>67.402314</td><td>14.868157499999999</td><td>82.2704715</td><td>32.379543000000005</td><td>7.1425462500000005</td><td>39.52208925</td><td>0.0903168</td><td>0.3612672</td><td>0.7281792</td><td>cycle7</td><td>2021</td><td>hifa_calimage_renorm</td><td>42</td><td>4.161388888888889</td><td>0.418888888888889</td><td>0.11416666666666667</td><td>0.06194444444444445</td><td>0.06916666666666667</td><td>1</td><td>1</td><td>4</td><td>GRB211106A</td><td>40.0</td><td>60.0</td><td>0.21</td><td>0.21</td><td>500.0</td><td>1.69</td><td>1.69</td><td>False</td><td>default</td><td>default</td><td>default</td><td>default</td><td>default</td><td>3.7425</td></tr>\n",
       "</table></div>"
      ],
      "text/plain": [
       "<Table masked=True length=2719>\n",
       "         mous           proposal_id            gous          ... mit_spw     pl_caltime    \n",
       "                                                             ...                 h         \n",
       "        str22              str14              str22          ...  str54       float64      \n",
       "---------------------- -------------- ---------------------- ... ------- ------------------\n",
       "uid://A001/X1465/X1002 2019.1.01326.S uid://A001/X1465/X1001 ... default 1.0061111111111112\n",
       "uid://A001/X1465/X1008 2019.1.01326.S uid://A001/X1465/X1007 ... default 0.7077777777777778\n",
       "uid://A001/X1465/X100e 2019.1.01326.S uid://A001/X1465/X100d ... default 0.8211111111111107\n",
       "uid://A001/X1465/X1014 2019.1.01326.S uid://A001/X1465/X1013 ... default 0.7702777777777774\n",
       "uid://A001/X1465/X101a 2019.1.01326.S uid://A001/X1465/X1019 ... default 0.7980555555555553\n",
       "uid://A001/X1465/X1020 2019.1.01326.S uid://A001/X1465/X101f ... default 0.7199999999999998\n",
       "uid://A001/X1465/X1026 2019.1.01326.S uid://A001/X1465/X1025 ... default 0.8174999999999999\n",
       "uid://A001/X1465/X102c 2019.1.01326.S uid://A001/X1465/X102b ... default 1.0297222222222218\n",
       "                   ...            ...                    ... ...     ...                ...\n",
       " uid://A001/X15a2/Xab7 2019.1.01324.T  uid://A001/X15a2/Xab6 ...      23 17.794444444444444\n",
       " uid://A001/X15a2/Xed4 2019.1.00863.T uid://A001/X15a1/X1ec9 ... default 3.9974999999999996\n",
       "  uid://A001/X15a3/X18 2019.1.01587.S   uid://A001/X15a3/X17 ...      --                 --\n",
       "   uid://A001/X15a3/X5 2019.A.00040.S    uid://A001/X15a3/X4 ... default  47.48194444444445\n",
       "uid://A001/X15a9/X134d 2019.1.01634.L uid://A001/X15a9/X134c ... default  4.303333333333334\n",
       "uid://A001/X15a9/X1351 2019.1.01634.L uid://A001/X15a9/X1350 ... default  1.948888888888889\n",
       "  uid://A001/X15aa/X74 2019.1.00863.T   uid://A001/X15aa/X73 ... default  3.856666666666667\n",
       "  uid://A001/X15aa/X77 2019.1.00863.T   uid://A001/X15aa/X76 ... default             3.7425"
      ]
     },
     "execution_count": 80,
     "metadata": {},
     "output_type": "execute_result"
    }
   ],
   "source": [
    "result_tos_mous_mit"
   ]
  },
  {
   "cell_type": "code",
   "execution_count": 81,
   "id": "f0ad2259",
   "metadata": {},
   "outputs": [
    {
     "data": {
      "text/plain": [
       "<module 'wsu_db' from '/Users/akepley/Dropbox/Support/naasc/WSU/big_cubes/wsu_db.py'>"
      ]
     },
     "execution_count": 81,
     "metadata": {},
     "output_type": "execute_result"
    }
   ],
   "source": [
    "reload(wsu_db)"
   ]
  },
  {
   "cell_type": "code",
   "execution_count": 82,
   "id": "d0ae9397",
   "metadata": {
    "scrolled": false
   },
   "outputs": [],
   "source": [
    "c8_pickle = '/Users/akepley/Dropbox/Support/naasc/WSU/mitigation/weblog_stats/cycle8_stats.ignacio.20230103.pkl'\n",
    "c8_astropy = wsu_db.get_pipeinfo(c8_pickle)"
   ]
  },
  {
   "cell_type": "code",
   "execution_count": 83,
   "id": "4d852b9d",
   "metadata": {},
   "outputs": [],
   "source": [
    "result_c8_tos_mous_mit = wsu_db.join_wsu_and_mit_dbs(result_c8_tos_mous, c8_astropy)"
   ]
  },
  {
   "cell_type": "code",
   "execution_count": 84,
   "id": "bbe824a8",
   "metadata": {
    "scrolled": true
   },
   "outputs": [
    {
     "data": {
      "text/html": [
       "<div><i>Table masked=True length=2481</i>\n",
       "<table id=\"table140411755821040\" class=\"table-striped table-bordered table-condensed\">\n",
       "<thead><tr><th>mous</th><th>proposal_id</th><th>gous</th><th>schedblock_name</th><th>array</th><th>science_keyword</th><th>scientific_category_proposal</th><th>scientific_category</th><th>nant_typical</th><th>nant_array</th><th>nant_all</th><th>band</th><th>ntarget</th><th>s_fov</th><th>s_resolution</th><th>mosaic</th><th>imsize</th><th>pb</th><th>cell</th><th>blc_npol</th><th>blc_nspw</th><th>blc_specwidth</th><th>blc_freq</th><th>blc_velres</th><th>blc_nchan_agg</th><th>blc_nchan_max</th><th>blc_bandwidth_max</th><th>blc_bandwidth_agg</th><th>wsu_freq</th><th>wsu_npol</th><th>wsu_bandwidth_early</th><th>wsu_bandwidth_later_2x</th><th>wsu_bandwidth_later_4x</th><th>wsu_bandwidth_spw</th><th>wsu_nspw_early</th><th>wsu_nspw_later_2x</th><th>wsu_nspw_later_4x</th><th>wsu_specwidth_finest</th><th>wsu_chanavg_finest</th><th>wsu_velres_finest</th><th>wsu_specwidth_stepped</th><th>wsu_chanavg_stepped</th><th>wsu_velres_stepped</th><th>wsu_specwidth_stepped2</th><th>wsu_chanavg_stepped2</th><th>wsu_velres_stepped2</th><th>wsu_tint</th><th>wsu_nchan_spw_finest</th><th>wsu_nchan_spw_stepped</th><th>wsu_nchan_spw_stepped2</th><th>wsu_nchan_agg_finest_early</th><th>wsu_nchan_agg_finest_later_2x</th><th>wsu_nchan_agg_finest_later_4x</th><th>wsu_nchan_agg_stepped_early</th><th>wsu_nchan_agg_stepped_later_2x</th><th>wsu_nchan_agg_stepped_later_4x</th><th>wsu_nchan_agg_stepped2_early</th><th>wsu_nchan_agg_stepped2_later_2x</th><th>wsu_nchan_agg_stepped2_later_4x</th><th>wsu_frac_bw_early</th><th>wsu_frac_bw_later_2x</th><th>wsu_frac_bw_later_4x</th><th>wsu_frac_bw_spw</th><th>nbase_typical</th><th>nbase_array</th><th>nbase_all</th><th>L80</th><th>Project</th><th>SB_name</th><th>blc_tint</th><th>blc_ntunings</th><th>bp_time</th><th>flux_time</th><th>phase_time</th><th>pol_time</th><th>check_time</th><th>target_time_tot</th><th>time_tot</th><th>cal_time</th><th>mfssize</th><th>wsu_cubesize_stepped2</th><th>wsu_productsize_early_stepped2</th><th>wsu_datarate_early_stepped2_typical</th><th>wsu_visrate_early_stepped2_typical</th><th>wsu_datavol_early_stepped2_typical_target_tot</th><th>wsu_datavol_early_stepped2_typical_cal</th><th>wsu_datavol_early_stepped2_typical_total</th><th>wsu_nvis_early_stepped2_typical_target_tot</th><th>wsu_nvis_early_stepped2_typical_cal</th><th>wsu_nvis_early_stepped2_typical_total</th><th>blc_datarate_typical</th><th>blc_visrate_typical</th><th>blc_datavol_typical_target_tot</th><th>blc_datavol_typical_cal</th><th>blc_datavol_typical_total</th><th>blc_nvis_typical_target_tot</th><th>blc_nvis_typical_cal</th><th>blc_nvis_typical_total</th><th>wsu_datarate_early_stepped2_array</th><th>wsu_visrate_early_stepped2_array</th><th>wsu_datavol_early_stepped2_array_target_tot</th><th>wsu_datavol_early_stepped2_array_cal</th><th>wsu_datavol_early_stepped2_array_total</th><th>wsu_nvis_early_stepped2_array_target_tot</th><th>wsu_nvis_early_stepped2_array_cal</th><th>wsu_nvis_early_stepped2_array_total</th><th>blc_datarate_array</th><th>blc_visrate_array</th><th>blc_datavol_array_target_tot</th><th>blc_datavol_array_cal</th><th>blc_datavol_array_total</th><th>blc_nvis_array_target_tot</th><th>blc_nvis_array_cal</th><th>blc_nvis_array_total</th><th>wsu_productsize_later_2x_stepped2</th><th>wsu_datarate_later_2x_stepped2_typical</th><th>wsu_visrate_later_2x_stepped2_typical</th><th>wsu_datavol_later_2x_stepped2_typical_target_tot</th><th>wsu_datavol_later_2x_stepped2_typical_cal</th><th>wsu_datavol_later_2x_stepped2_typical_total</th><th>wsu_nvis_later_2x_stepped2_typical_target_tot</th><th>wsu_nvis_later_2x_stepped2_typical_cal</th><th>wsu_nvis_later_2x_stepped2_typical_total</th><th>wsu_datarate_later_2x_stepped2_array</th><th>wsu_visrate_later_2x_stepped2_array</th><th>wsu_datavol_later_2x_stepped2_array_target_tot</th><th>wsu_datavol_later_2x_stepped2_array_cal</th><th>wsu_datavol_later_2x_stepped2_array_total</th><th>wsu_nvis_later_2x_stepped2_array_target_tot</th><th>wsu_nvis_later_2x_stepped2_array_cal</th><th>wsu_nvis_later_2x_stepped2_array_total</th><th>wsu_productsize_later_4x_stepped2</th><th>wsu_datarate_later_4x_stepped2_typical</th><th>wsu_visrate_later_4x_stepped2_typical</th><th>wsu_datavol_later_4x_stepped2_typical_target_tot</th><th>wsu_datavol_later_4x_stepped2_typical_cal</th><th>wsu_datavol_later_4x_stepped2_typical_total</th><th>wsu_nvis_later_4x_stepped2_typical_target_tot</th><th>wsu_nvis_later_4x_stepped2_typical_cal</th><th>wsu_nvis_later_4x_stepped2_typical_total</th><th>wsu_datarate_later_4x_stepped2_array</th><th>wsu_visrate_later_4x_stepped2_array</th><th>wsu_datavol_later_4x_stepped2_array_target_tot</th><th>wsu_datavol_later_4x_stepped2_array_cal</th><th>wsu_datavol_later_4x_stepped2_array_total</th><th>wsu_nvis_later_4x_stepped2_array_target_tot</th><th>wsu_nvis_later_4x_stepped2_array_cal</th><th>wsu_nvis_later_4x_stepped2_array_total</th><th>blc_cubesize</th><th>blc_cubesize_sum</th><th>blc_productsize</th><th>cycle_info</th><th>plversion</th><th>procedure</th><th>nant</th><th>pl_totaltime</th><th>pl_imgtime</th><th>pl_cubetime</th><th>pl_aggtime</th><th>pl_fctime</th><th>nEB</th><th>npt</th><th>nscan</th><th>reptgt</th><th>allowedcubesize</th><th>allowedcubelimit</th><th>predcubesize</th><th>mitigatedcubesize</th><th>allowedprodsize</th><th>initialprodsize</th><th>mitigatedprodsize</th><th>mitigated</th><th>mit_nbins</th><th>mit_hm_imsize</th><th>mit_hm_cell</th><th>mit_field</th><th>mit_spw</th><th>pl_caltime</th></tr></thead>\n",
       "<thead><tr><th></th><th></th><th></th><th></th><th></th><th></th><th></th><th></th><th></th><th></th><th></th><th></th><th></th><th>deg</th><th>arcsec</th><th></th><th></th><th>arcsec</th><th>arcsec</th><th></th><th></th><th>kHz</th><th>GHz</th><th>km / s</th><th></th><th></th><th>GHz</th><th>GHz</th><th>GHz</th><th></th><th>GHz</th><th>GHz</th><th>GHz</th><th>GHz</th><th></th><th></th><th></th><th>kHz</th><th></th><th>km / s</th><th>kHz</th><th></th><th>km / s</th><th>kHz</th><th></th><th>km / s</th><th>s</th><th></th><th></th><th></th><th></th><th></th><th></th><th></th><th></th><th></th><th></th><th></th><th></th><th></th><th></th><th></th><th></th><th></th><th></th><th></th><th>m</th><th></th><th></th><th>s</th><th></th><th>s</th><th>s</th><th>s</th><th>s</th><th>s</th><th>s</th><th>s</th><th>s</th><th>Gbyte</th><th>Gbyte</th><th>Gbyte</th><th>Gbyte / s</th><th>Gvis / h</th><th>Gbyte</th><th>Gbyte</th><th>Gbyte</th><th>Gvis</th><th>Gvis</th><th>Gvis</th><th>Gbyte / s</th><th>Gvis / h</th><th>Gbyte</th><th>Gbyte</th><th>Gbyte</th><th>Gvis</th><th>Gvis</th><th>Gvis</th><th>Gbyte / s</th><th>Gvis / h</th><th>Gbyte</th><th>Gbyte</th><th>Gbyte</th><th>Gvis</th><th>Gvis</th><th>Gvis</th><th>Gbyte / s</th><th>Gvis / h</th><th>Gbyte</th><th>Gbyte</th><th>Gbyte</th><th>Gvis</th><th>Gvis</th><th>Gvis</th><th>Gbyte</th><th>Gbyte / s</th><th>Gvis / h</th><th>Gbyte</th><th>Gbyte</th><th>Gbyte</th><th>Gvis</th><th>Gvis</th><th>Gvis</th><th>Gbyte / s</th><th>Gvis / h</th><th>Gbyte</th><th>Gbyte</th><th>Gbyte</th><th>Gvis</th><th>Gvis</th><th>Gvis</th><th>Gbyte</th><th>Gbyte / s</th><th>Gvis / h</th><th>Gbyte</th><th>Gbyte</th><th>Gbyte</th><th>Gvis</th><th>Gvis</th><th>Gvis</th><th>Gbyte / s</th><th>Gvis / h</th><th>Gbyte</th><th>Gbyte</th><th>Gbyte</th><th>Gvis</th><th>Gvis</th><th>Gvis</th><th>Gbyte</th><th>Gbyte</th><th>Gbyte</th><th></th><th></th><th></th><th></th><th>h</th><th>h</th><th>h</th><th>h</th><th>h</th><th></th><th></th><th></th><th></th><th>Gbyte</th><th>Gbyte</th><th>Gbyte</th><th>Gbyte</th><th>Gbyte</th><th>Gbyte</th><th>Gbyte</th><th></th><th></th><th></th><th></th><th></th><th></th><th>h</th></tr></thead>\n",
       "<thead><tr><th>str22</th><th>str14</th><th>str22</th><th>str26</th><th>str3</th><th>str105</th><th>str52</th><th>str27</th><th>int64</th><th>int64</th><th>int64</th><th>float64</th><th>float64</th><th>float64</th><th>float64</th><th>str1</th><th>float64</th><th>float64</th><th>float64</th><th>int64</th><th>int64</th><th>float64</th><th>float64</th><th>float64</th><th>float64</th><th>float64</th><th>float64</th><th>float64</th><th>float64</th><th>int64</th><th>float64</th><th>float64</th><th>float64</th><th>float64</th><th>int64</th><th>int64</th><th>int64</th><th>float64</th><th>float64</th><th>float64</th><th>float64</th><th>float64</th><th>float64</th><th>float64</th><th>float64</th><th>float64</th><th>float64</th><th>float64</th><th>float64</th><th>float64</th><th>float64</th><th>float64</th><th>float64</th><th>float64</th><th>float64</th><th>float64</th><th>float64</th><th>float64</th><th>float64</th><th>float64</th><th>float64</th><th>float64</th><th>float64</th><th>float64</th><th>float64</th><th>float64</th><th>float64</th><th>str14</th><th>str26</th><th>float64</th><th>float64</th><th>float64</th><th>float64</th><th>float64</th><th>float64</th><th>float64</th><th>float64</th><th>float64</th><th>float64</th><th>float64</th><th>float64</th><th>float64</th><th>float64</th><th>float64</th><th>float64</th><th>float64</th><th>float64</th><th>float64</th><th>float64</th><th>float64</th><th>float64</th><th>float64</th><th>float64</th><th>float64</th><th>float64</th><th>float64</th><th>float64</th><th>float64</th><th>float64</th><th>float64</th><th>float64</th><th>float64</th><th>float64</th><th>float64</th><th>float64</th><th>float64</th><th>float64</th><th>float64</th><th>float64</th><th>float64</th><th>float64</th><th>float64</th><th>float64</th><th>float64</th><th>float64</th><th>float64</th><th>float64</th><th>float64</th><th>float64</th><th>float64</th><th>float64</th><th>float64</th><th>float64</th><th>float64</th><th>float64</th><th>float64</th><th>float64</th><th>float64</th><th>float64</th><th>float64</th><th>float64</th><th>float64</th><th>float64</th><th>float64</th><th>float64</th><th>float64</th><th>float64</th><th>float64</th><th>float64</th><th>float64</th><th>float64</th><th>float64</th><th>float64</th><th>float64</th><th>float64</th><th>float64</th><th>float64</th><th>float64</th><th>float64</th><th>float64</th><th>float64</th><th>str6</th><th>str4</th><th>str20</th><th>int64</th><th>float64</th><th>float64</th><th>float64</th><th>float64</th><th>float64</th><th>int64</th><th>int64</th><th>int64</th><th>str29</th><th>float64</th><th>float64</th><th>float64</th><th>float64</th><th>float64</th><th>float64</th><th>float64</th><th>bool</th><th>str64</th><th>str7</th><th>str7</th><th>str769</th><th>str44</th><th>float64</th></tr></thead>\n",
       "<tr><td>uid://A001/X158f/X111</td><td>2021.1.01571.S</td><td>uid://A001/X158f/X110</td><td>G09v1.40_a_08_TM1</td><td>12m</td><td>Outflows, jets, feedback</td><td>Galaxies and galactic nuclei</td><td>Active galaxies</td><td>47</td><td>50</td><td>66</td><td>8.0</td><td>1.0</td><td>0.004000240613311581</td><td>0.45833271459124353</td><td>F</td><td>240.0</td><td>14.397483872538897</td><td>0.0916665429182487</td><td>2</td><td>4</td><td>31176.314691250842</td><td>404.3315523311515</td><td>22.83384100374022</td><td>512.0</td><td>128.0</td><td>2.0</td><td>8.0</td><td>404.3315523311515</td><td>2</td><td>16.0</td><td>16.0</td><td>32.0</td><td>2.0</td><td>8</td><td>8</td><td>16</td><td>31171.5</td><td>2309.0</td><td>23.112172549159283</td><td>13486.5</td><td>999.0</td><td>9.999593060463459</td><td>13486.5</td><td>999.0</td><td>9.999593060463459</td><td>3.072</td><td>64.0</td><td>148.0</td><td>148.0</td><td>512.0</td><td>512.0</td><td>1024.0</td><td>1184.0</td><td>1184.0</td><td>2368.0</td><td>1184.0</td><td>1184.0</td><td>2368.0</td><td>0.03957148510363061</td><td>0.03957148510363061</td><td>0.07914297020726122</td><td>0.004946435637953826</td><td>1081.0</td><td>1225.0</td><td>2145.0</td><td>191.52359</td><td>2021.1.01571.S</td><td>G09v1.40_a_08_TM1</td><td>2.016</td><td>1.0</td><td>1209.6</td><td>0.0</td><td>362.88</td><td>0.0</td><td>0.0</td><td>1995.84</td><td>3568.3199999999997</td><td>1572.48</td><td>0.0002304</td><td>0.0340992</td><td>0.5492736</td><td>0.003478</td><td>5.999549999999999</td><td>6.94153152</td><td>5.469085440000001</td><td>12.41061696</td><td>3.3261505199999997</td><td>2.62060344</td><td>5.946753959999999</td><td>0.0022918095238095237</td><td>3.9533714285714288</td><td>4.5740851199999994</td><td>3.6038246399999996</td><td>8.177909759999999</td><td>2.1917491200000003</td><td>1.7268326400000003</td><td>3.91858176</td><td>0.00393125</td><td>6.798749999999999</td><td>7.846145999999999</td><td>6.181812</td><td>14.027957999999998</td><td>3.7692269999999994</td><td>2.9696939999999996</td><td>6.738920999999999</td><td>0.0025904761904761904</td><td>4.48</td><td>5.170176</td><td>4.073472</td><td>9.243647999999999</td><td>2.483712</td><td>1.9568640000000004</td><td>4.440576</td><td>0.5492736</td><td>0.003478</td><td>5.999549999999999</td><td>6.94153152</td><td>5.469085440000001</td><td>12.41061696</td><td>3.3261505199999997</td><td>2.62060344</td><td>5.946753959999999</td><td>0.00393125</td><td>6.798749999999999</td><td>7.846145999999999</td><td>6.181812</td><td>14.027957999999998</td><td>3.7692269999999994</td><td>2.9696939999999996</td><td>6.738920999999999</td><td>1.0985472</td><td>0.006956</td><td>11.999099999999999</td><td>13.88306304</td><td>10.938170880000001</td><td>24.82123392</td><td>6.652301039999999</td><td>5.24120688</td><td>11.893507919999998</td><td>0.0078625</td><td>13.597499999999998</td><td>15.692291999999998</td><td>12.363624</td><td>28.055915999999996</td><td>7.538453999999999</td><td>5.939387999999999</td><td>13.477841999999997</td><td>0.0294912</td><td>0.1179648</td><td>0.23777279999999998</td><td>cycle8</td><td>--</td><td>--</td><td>--</td><td>--</td><td>--</td><td>--</td><td>--</td><td>--</td><td>--</td><td>--</td><td>--</td><td>--</td><td>--</td><td>--</td><td>--</td><td>--</td><td>--</td><td>--</td><td>--</td><td>--</td><td>--</td><td>--</td><td>--</td><td>--</td><td>--</td><td>--</td></tr>\n",
       "<tr><td>uid://A001/X158f/X115</td><td>2021.1.01571.S</td><td>uid://A001/X158f/X114</td><td>SPT0125-_a_07_TM1</td><td>12m</td><td>Outflows, jets, feedback</td><td>Galaxies and galactic nuclei</td><td>Active galaxies</td><td>47</td><td>50</td><td>66</td><td>7.0</td><td>1.0</td><td>0.0045375135989717905</td><td>0.2911647419354411</td><td>F</td><td>430.0</td><td>16.331349317037823</td><td>0.05823294838708822</td><td>2</td><td>4</td><td>31160.819141109412</td><td>356.47101883940036</td><td>25.85577672790684</td><td>512.0</td><td>128.0</td><td>2.0</td><td>8.0</td><td>356.47101883940036</td><td>2</td><td>8.0</td><td>16.0</td><td>32.0</td><td>2.0</td><td>4</td><td>8</td><td>16</td><td>31158.0</td><td>2308.0</td><td>26.203906945300194</td><td>11880.0</td><td>880.0</td><td>9.991091036336297</td><td>11880.0</td><td>880.0</td><td>9.991091036336297</td><td>3.072</td><td>64.0</td><td>168.0</td><td>168.0</td><td>256.0</td><td>512.0</td><td>1024.0</td><td>672.0</td><td>1344.0</td><td>2688.0</td><td>672.0</td><td>1344.0</td><td>2688.0</td><td>0.022442217115002588</td><td>0.044884434230005175</td><td>0.08976886846001035</td><td>0.005610554278750647</td><td>1081.0</td><td>1225.0</td><td>2145.0</td><td>341.9766</td><td>2021.1.01571.S</td><td>SPT0125-_a_07_TM1</td><td>2.016</td><td>1.0</td><td>302.4</td><td>0.0</td><td>90.72</td><td>0.0</td><td>0.0</td><td>453.6</td><td>846.72</td><td>393.12</td><td>0.0007396</td><td>0.1242528</td><td>0.9999392</td><td>0.001974</td><td>3.40515</td><td>0.8954064</td><td>0.7760188800000001</td><td>1.67142528</td><td>0.4290489</td><td>0.37184238000000003</td><td>0.8008912800000001</td><td>0.0022918095238095237</td><td>3.9533714285714288</td><td>1.0395648</td><td>0.9009561599999999</td><td>1.94052096</td><td>0.49812480000000003</td><td>0.43170816000000006</td><td>0.9298329600000002</td><td>0.00223125</td><td>3.8587499999999997</td><td>1.0120950000000002</td><td>0.8771490000000001</td><td>1.8892440000000001</td><td>0.4862025</td><td>0.42137549999999996</td><td>0.907578</td><td>0.0025904761904761904</td><td>4.48</td><td>1.17504</td><td>1.018368</td><td>2.193408</td><td>0.5644800000000001</td><td>0.4892160000000001</td><td>1.0536960000000002</td><td>1.9998784</td><td>0.003948</td><td>6.8103</td><td>1.7908128</td><td>1.5520377600000002</td><td>3.34285056</td><td>0.8580978</td><td>0.7436847600000001</td><td>1.6017825600000002</td><td>0.0044625</td><td>7.717499999999999</td><td>2.0241900000000004</td><td>1.7542980000000001</td><td>3.7784880000000003</td><td>0.972405</td><td>0.8427509999999999</td><td>1.815156</td><td>3.9997568</td><td>0.007896</td><td>13.6206</td><td>3.5816256</td><td>3.1040755200000003</td><td>6.68570112</td><td>1.7161956</td><td>1.4873695200000001</td><td>3.2035651200000004</td><td>0.008925</td><td>15.434999999999999</td><td>4.048380000000001</td><td>3.5085960000000003</td><td>7.556976000000001</td><td>1.94481</td><td>1.6855019999999998</td><td>3.630312</td><td>0.0946688</td><td>0.3786752</td><td>0.7632672</td><td>cycle8</td><td>2021</td><td>hifa_calimage_renorm</td><td>41</td><td>2.2647222222222223</td><td>0.3552777801619636</td><td>0.11055555555555556</td><td>0.041666666666666664</td><td>0.02638889127307468</td><td>1</td><td>1</td><td>2</td><td>SPT0125-47</td><td>40.0</td><td>60.0</td><td>0.128</td><td>0.128</td><td>500.0</td><td>1.03</td><td>1.03</td><td>False</td><td>default</td><td>default</td><td>default</td><td>default</td><td>default</td><td>1.9094444420602588</td></tr>\n",
       "<tr><td>uid://A001/X158f/X13a</td><td>2021.1.01543.S</td><td>uid://A001/X158f/X139</td><td>ACT-S_J0_a_03_TM1</td><td>12m</td><td>Sub-mm Galaxies (SMG), Gravitational lenses</td><td>Cosmology and the high redshift Universe</td><td>Galaxy evolution</td><td>47</td><td>50</td><td>66</td><td>3.0</td><td>1.0</td><td>0.016370669248356715</td><td>3.2510106691183673</td><td>F</td><td>140.0</td><td>59.27082942119824</td><td>0.6502021338236735</td><td>2</td><td>20</td><td>7727.466820763161</td><td>98.80399468281071</td><td>20.998292318707925</td><td>4800.0</td><td>240.0</td><td>1.875</td><td>37.5</td><td>98.80399468281071</td><td>2</td><td>16.0</td><td>16.0</td><td>32.0</td><td>2.0</td><td>8</td><td>8</td><td>16</td><td>7722.0</td><td>572.0</td><td>23.430200045127812</td><td>3294.0</td><td>244.0</td><td>9.994700718551027</td><td>3294.0</td><td>244.0</td><td>9.994700718551027</td><td>3.072</td><td>259.0</td><td>607.0</td><td>607.0</td><td>2072.0</td><td>2072.0</td><td>4144.0</td><td>4856.0</td><td>4856.0</td><td>9712.0</td><td>4856.0</td><td>4856.0</td><td>9712.0</td><td>0.16193677240849025</td><td>0.16193677240849025</td><td>0.3238735448169805</td><td>0.02024209655106128</td><td>1081.0</td><td>1225.0</td><td>2145.0</td><td>110.20184</td><td>2021.1.01543.S</td><td>ACT-S_J0_a_03_TM1</td><td>6.048</td><td>5.0</td><td>3024.0</td><td>0.0</td><td>604.8</td><td>0.0</td><td>0.0</td><td>1512.0</td><td>5140.8</td><td>3628.8</td><td>7.84e-05</td><td>0.0475888</td><td>0.7626752</td><td>0.0142645</td><td>24.6062625</td><td>21.567923999999998</td><td>51.7630176</td><td>73.3309416</td><td>10.33463025</td><td>24.8031126</td><td>35.13774285</td><td>0.0014323809523809523</td><td>2.4708571428571426</td><td>2.16576</td><td>5.197824</td><td>7.363584</td><td>1.0377599999999998</td><td>2.490624</td><td>3.528384</td><td>0.0161234375</td><td>27.8840625</td><td>24.3786375</td><td>58.50873000000001</td><td>82.88736750000001</td><td>11.71130625</td><td>28.107135</td><td>39.81844125</td><td>0.001619047619047619</td><td>2.8</td><td>2.448</td><td>5.8751999999999995</td><td>8.3232</td><td>1.176</td><td>2.8224</td><td>3.9984</td><td>0.7626752</td><td>0.0142645</td><td>24.6062625</td><td>21.567923999999998</td><td>51.7630176</td><td>73.3309416</td><td>10.33463025</td><td>24.8031126</td><td>35.13774285</td><td>0.0161234375</td><td>27.8840625</td><td>24.3786375</td><td>58.50873000000001</td><td>82.88736750000001</td><td>11.71130625</td><td>28.107135</td><td>39.81844125</td><td>1.5253504</td><td>0.028529</td><td>49.212525</td><td>43.135847999999996</td><td>103.5260352</td><td>146.6618832</td><td>20.6692605</td><td>49.6062252</td><td>70.2754857</td><td>0.032246875</td><td>55.768125</td><td>48.757275</td><td>117.01746000000001</td><td>165.77473500000002</td><td>23.4226125</td><td>56.21427</td><td>79.6368825</td><td>0.018816</td><td>0.37632</td><td>0.755776</td><td>cycle8</td><td>2021</td><td>hifa_calimage_renorm</td><td>42</td><td>22.008055555555554</td><td>1.261388878027598</td><td>0.2633333333333333</td><td>0.07833333333333334</td><td>0.08444443358315362</td><td>2</td><td>1</td><td>5</td><td>ACT-S_J0007.5+1606</td><td>40.0</td><td>60.0</td><td>0.0384</td><td>0.0384</td><td>500.0</td><td>1.54</td><td>1.54</td><td>False</td><td>default</td><td>default</td><td>default</td><td>default</td><td>default</td><td>20.746666677527955</td></tr>\n",
       "<tr><td>uid://A001/X158f/X13e</td><td>2021.1.01543.S</td><td>uid://A001/X158f/X13d</td><td>ACT-S_J0_b_03_TM1</td><td>12m</td><td>Sub-mm Galaxies (SMG), Gravitational lenses</td><td>Cosmology and the high redshift Universe</td><td>Galaxy evolution</td><td>47</td><td>50</td><td>66</td><td>3.0</td><td>1.0</td><td>0.016369060528796033</td><td>3.1183686839850737</td><td>F</td><td>150.0</td><td>59.265060245387154</td><td>0.6236737367970147</td><td>2</td><td>20</td><td>966.0466580540649</td><td>98.81361279933466</td><td>2.6250367912778914</td><td>76800.0</td><td>3840.0</td><td>1.875</td><td>37.5</td><td>98.81361279933466</td><td>2</td><td>16.0</td><td>16.0</td><td>32.0</td><td>2.0</td><td>8</td><td>8</td><td>16</td><td>958.5</td><td>71.0</td><td>2.9080109799905505</td><td>324.0</td><td>24.0</td><td>0.9829896270390595</td><td>648.0</td><td>48.0</td><td>1.965979254078119</td><td>3.072</td><td>2086.0</td><td>6172.0</td><td>3086.0</td><td>16688.0</td><td>16688.0</td><td>33376.0</td><td>49376.0</td><td>49376.0</td><td>98752.0</td><td>24688.0</td><td>24688.0</td><td>49376.0</td><td>0.16192101013948285</td><td>0.16192101013948285</td><td>0.3238420202789657</td><td>0.020240126267435356</td><td>1081.0</td><td>1225.0</td><td>2145.0</td><td>115.18967</td><td>2021.1.01543.S</td><td>ACT-S_J0_b_03_TM1</td><td>6.048</td><td>5.0</td><td>1209.6</td><td>0.0</td><td>362.88</td><td>0.0</td><td>0.0</td><td>1995.84</td><td>3568.3199999999997</td><td>1572.48</td><td>9e-05</td><td>0.27774</td><td>4.4452799999999995</td><td>0.072521</td><td>125.098725</td><td>144.74031263999998</td><td>114.03782208</td><td>258.77813471999997</td><td>69.35473314000001</td><td>54.64312308</td><td>123.99785622</td><td>0.022918095238095237</td><td>39.53371428571428</td><td>45.740851199999994</td><td>36.0382464</td><td>81.77909759999999</td><td>21.917491199999997</td><td>17.2683264</td><td>39.18581759999999</td><td>0.081971875</td><td>141.763125</td><td>163.602747</td><td>128.899134</td><td>292.50188099999997</td><td>78.59347650000001</td><td>61.922133</td><td>140.5156095</td><td>0.025904761904761903</td><td>44.8</td><td>51.70175999999999</td><td>40.734719999999996</td><td>92.43647999999999</td><td>24.83712</td><td>19.56864</td><td>44.405759999999994</td><td>4.4452799999999995</td><td>0.072521</td><td>125.098725</td><td>144.74031263999998</td><td>114.03782208</td><td>258.77813471999997</td><td>69.35473314000001</td><td>54.64312308</td><td>123.99785622</td><td>0.081971875</td><td>141.763125</td><td>163.602747</td><td>128.899134</td><td>292.50188099999997</td><td>78.59347650000001</td><td>61.922133</td><td>140.5156095</td><td>8.890559999999999</td><td>0.145042</td><td>250.19745</td><td>289.48062527999997</td><td>228.07564416</td><td>517.5562694399999</td><td>138.70946628000002</td><td>109.28624616</td><td>247.99571244</td><td>0.16394375</td><td>283.52625</td><td>327.205494</td><td>257.798268</td><td>585.0037619999999</td><td>157.18695300000002</td><td>123.844266</td><td>281.031219</td><td>0.3456</td><td>6.912</td><td>13.8276</td><td>cycle8</td><td>--</td><td>--</td><td>--</td><td>--</td><td>--</td><td>--</td><td>--</td><td>--</td><td>--</td><td>--</td><td>--</td><td>--</td><td>--</td><td>--</td><td>--</td><td>--</td><td>--</td><td>--</td><td>--</td><td>--</td><td>--</td><td>--</td><td>--</td><td>--</td><td>--</td><td>--</td></tr>\n",
       "<tr><td>uid://A001/X158f/X142</td><td>2021.1.01543.S</td><td>uid://A001/X158f/X141</td><td>ACT-S_J0_c_03_TM1</td><td>12m</td><td>Sub-mm Galaxies (SMG), Gravitational lenses</td><td>Cosmology and the high redshift Universe</td><td>Galaxy evolution</td><td>47</td><td>50</td><td>66</td><td>3.0</td><td>1.0</td><td>0.016369146727628202</td><td>2.782605450987199</td><td>F</td><td>160.0</td><td>59.26537233287519</td><td>0.5565210901974396</td><td>2</td><td>20</td><td>966.0415709169566</td><td>98.81309245345668</td><td>2.6250367912778914</td><td>76800.0</td><td>3840.0</td><td>1.875</td><td>37.5</td><td>98.81309245345668</td><td>2</td><td>16.0</td><td>16.0</td><td>32.0</td><td>2.0</td><td>8</td><td>8</td><td>16</td><td>958.5</td><td>71.0</td><td>2.908026293462571</td><td>324.0</td><td>24.0</td><td>0.9829948034239677</td><td>648.0</td><td>48.0</td><td>1.9659896068479354</td><td>3.072</td><td>2086.0</td><td>6172.0</td><td>3086.0</td><td>16688.0</td><td>16688.0</td><td>33376.0</td><td>49376.0</td><td>49376.0</td><td>98752.0</td><td>24688.0</td><td>24688.0</td><td>49376.0</td><td>0.16192186280918575</td><td>0.16192186280918575</td><td>0.3238437256183715</td><td>0.020240232851148218</td><td>1081.0</td><td>1225.0</td><td>2145.0</td><td>129.0898</td><td>2021.1.01543.S</td><td>ACT-S_J0_c_03_TM1</td><td>6.048</td><td>5.0</td><td>1512.0</td><td>0.0</td><td>302.4</td><td>0.0</td><td>0.0</td><td>756.0</td><td>2570.4</td><td>1814.4</td><td>0.0001024</td><td>0.3160064</td><td>5.0577408</td><td>0.072521</td><td>125.098725</td><td>54.825876</td><td>131.5821024</td><td>186.40797840000002</td><td>26.27073225</td><td>63.049757400000004</td><td>89.32048965000001</td><td>0.022918095238095237</td><td>39.53371428571428</td><td>17.32608</td><td>41.582592</td><td>58.908672</td><td>8.302079999999998</td><td>19.924992</td><td>28.227072</td><td>0.081971875</td><td>141.763125</td><td>61.9707375</td><td>148.72977</td><td>210.70050750000001</td><td>29.77025625</td><td>71.448615</td><td>101.21887125</td><td>0.025904761904761903</td><td>44.8</td><td>19.584</td><td>47.001599999999996</td><td>66.5856</td><td>9.408</td><td>22.5792</td><td>31.9872</td><td>5.0577408</td><td>0.072521</td><td>125.098725</td><td>54.825876</td><td>131.5821024</td><td>186.40797840000002</td><td>26.27073225</td><td>63.049757400000004</td><td>89.32048965000001</td><td>0.081971875</td><td>141.763125</td><td>61.9707375</td><td>148.72977</td><td>210.70050750000001</td><td>29.77025625</td><td>71.448615</td><td>101.21887125</td><td>10.1154816</td><td>0.145042</td><td>250.19745</td><td>109.651752</td><td>263.1642048</td><td>372.81595680000004</td><td>52.5414645</td><td>126.09951480000001</td><td>178.64097930000003</td><td>0.16394375</td><td>283.52625</td><td>123.941475</td><td>297.45954</td><td>421.40101500000003</td><td>59.5405125</td><td>142.89723</td><td>202.4377425</td><td>0.393216</td><td>7.86432</td><td>15.732736000000001</td><td>cycle8</td><td>2021</td><td>hifa_calimage_renorm</td><td>42</td><td>28.948888888888888</td><td>7.481111142635346</td><td>5.016111111111111</td><td>0.3327777777777778</td><td>0.6019444759686788</td><td>1</td><td>1</td><td>5</td><td>ACT-S_J0503.2-3609</td><td>40.0</td><td>60.0</td><td>0.96</td><td>0.96</td><td>500.0</td><td>38.4</td><td>38.4</td><td>False</td><td>default</td><td>default</td><td>default</td><td>default</td><td>default</td><td>21.467777746253542</td></tr>\n",
       "<tr><td>uid://A001/X158f/X146</td><td>2021.1.01543.S</td><td>uid://A001/X158f/X145</td><td>ACT-S_J2_a_03_TM1</td><td>12m</td><td>Sub-mm Galaxies (SMG), Gravitational lenses</td><td>Cosmology and the high redshift Universe</td><td>Galaxy evolution</td><td>47</td><td>50</td><td>66</td><td>3.0</td><td>1.0</td><td>0.016372897494422896</td><td>2.67464628092988</td><td>F</td><td>170.0</td><td>59.27895218491757</td><td>0.534929256185976</td><td>2</td><td>20</td><td>965.8202663709701</td><td>98.79045596738686</td><td>2.6250367912778914</td><td>76800.0</td><td>3840.0</td><td>1.875</td><td>37.5</td><td>98.79045596738686</td><td>2</td><td>16.0</td><td>16.0</td><td>32.0</td><td>2.0</td><td>8</td><td>8</td><td>16</td><td>958.5</td><td>71.0</td><td>2.90869262803951</td><td>324.0</td><td>24.0</td><td>0.9832200432809611</td><td>648.0</td><td>48.0</td><td>1.9664400865619223</td><td>3.072</td><td>2086.0</td><td>6172.0</td><td>3086.0</td><td>16688.0</td><td>16688.0</td><td>33376.0</td><td>49376.0</td><td>49376.0</td><td>98752.0</td><td>24688.0</td><td>24688.0</td><td>49376.0</td><td>0.16195896499639592</td><td>0.16195896499639592</td><td>0.32391792999279184</td><td>0.02024487062454949</td><td>1081.0</td><td>1225.0</td><td>2145.0</td><td>134.33105</td><td>2021.1.01543.S</td><td>ACT-S_J2_a_03_TM1</td><td>6.048</td><td>5.0</td><td>3024.0</td><td>0.0</td><td>604.8</td><td>0.0</td><td>0.0</td><td>1512.0</td><td>5140.8</td><td>3628.8</td><td>0.0001156</td><td>0.3567416</td><td>5.7097152</td><td>0.072521</td><td>125.098725</td><td>109.651752</td><td>263.1642048</td><td>372.81595680000004</td><td>52.5414645</td><td>126.09951480000001</td><td>178.64097930000003</td><td>0.022918095238095237</td><td>39.53371428571428</td><td>34.65216</td><td>83.165184</td><td>117.817344</td><td>16.604159999999997</td><td>39.849984</td><td>56.454144</td><td>0.081971875</td><td>141.763125</td><td>123.941475</td><td>297.45954</td><td>421.40101500000003</td><td>59.5405125</td><td>142.89723</td><td>202.4377425</td><td>0.025904761904761903</td><td>44.8</td><td>39.168</td><td>94.00319999999999</td><td>133.1712</td><td>18.816</td><td>45.1584</td><td>63.9744</td><td>5.7097152</td><td>0.072521</td><td>125.098725</td><td>109.651752</td><td>263.1642048</td><td>372.81595680000004</td><td>52.5414645</td><td>126.09951480000001</td><td>178.64097930000003</td><td>0.081971875</td><td>141.763125</td><td>123.941475</td><td>297.45954</td><td>421.40101500000003</td><td>59.5405125</td><td>142.89723</td><td>202.4377425</td><td>11.4194304</td><td>0.145042</td><td>250.19745</td><td>219.303504</td><td>526.3284096</td><td>745.6319136000001</td><td>105.082929</td><td>252.19902960000002</td><td>357.28195860000005</td><td>0.16394375</td><td>283.52625</td><td>247.88295</td><td>594.91908</td><td>842.8020300000001</td><td>119.081025</td><td>285.79446</td><td>404.875485</td><td>0.443904</td><td>8.87808</td><td>17.760784</td><td>cycle8</td><td>2021</td><td>hifa_calimage_renorm</td><td>44</td><td>30.290555555555557</td><td>6.273333328829871</td><td>3.9716666666666667</td><td>0.31805555555555554</td><td>0.5511111066076491</td><td>1</td><td>1</td><td>5</td><td>ACT-S_J2114.9+0557</td><td>40.0</td><td>60.0</td><td>0.96</td><td>0.96</td><td>500.0</td><td>38.4</td><td>38.4</td><td>False</td><td>default</td><td>default</td><td>default</td><td>default</td><td>default</td><td>24.017222226725686</td></tr>\n",
       "<tr><td>uid://A001/X158f/X14a</td><td>2021.1.01543.S</td><td>uid://A001/X158f/X149</td><td>ACT-S_J2_b_03_TM1</td><td>12m</td><td>Sub-mm Galaxies (SMG), Gravitational lenses</td><td>Cosmology and the high redshift Universe</td><td>Galaxy evolution</td><td>47</td><td>50</td><td>66</td><td>3.0</td><td>1.0</td><td>0.016371873969355813</td><td>2.882049505691609</td><td>F</td><td>160.0</td><td>59.27518769807356</td><td>0.5764099011383215</td><td>2</td><td>20</td><td>965.8816056364767</td><td>98.79673000386387</td><td>2.625036791277892</td><td>76800.0</td><td>3840.0</td><td>1.875</td><td>37.5</td><td>98.79673000386387</td><td>2</td><td>16.0</td><td>16.0</td><td>32.0</td><td>2.0</td><td>8</td><td>8</td><td>16</td><td>958.5</td><td>71.0</td><td>2.9085079129821594</td><td>324.0</td><td>24.0</td><td>0.9831576043883354</td><td>648.0</td><td>48.0</td><td>1.9663152087766709</td><td>3.072</td><td>2086.0</td><td>6172.0</td><td>3086.0</td><td>16688.0</td><td>16688.0</td><td>33376.0</td><td>49376.0</td><td>49376.0</td><td>98752.0</td><td>24688.0</td><td>24688.0</td><td>49376.0</td><td>0.16194867987406314</td><td>0.16194867987406314</td><td>0.3238973597481263</td><td>0.020243584984257892</td><td>1081.0</td><td>1225.0</td><td>2145.0</td><td>123.74107</td><td>2021.1.01543.S</td><td>ACT-S_J2_b_03_TM1</td><td>6.048</td><td>5.0</td><td>3024.0</td><td>0.0</td><td>604.8</td><td>0.0</td><td>0.0</td><td>1512.0</td><td>5140.8</td><td>3628.8</td><td>0.0001024</td><td>0.3160064</td><td>5.0577408</td><td>0.072521</td><td>125.098725</td><td>109.651752</td><td>263.1642048</td><td>372.81595680000004</td><td>52.5414645</td><td>126.09951480000001</td><td>178.64097930000003</td><td>0.022918095238095237</td><td>39.53371428571428</td><td>34.65216</td><td>83.165184</td><td>117.817344</td><td>16.604159999999997</td><td>39.849984</td><td>56.454144</td><td>0.081971875</td><td>141.763125</td><td>123.941475</td><td>297.45954</td><td>421.40101500000003</td><td>59.5405125</td><td>142.89723</td><td>202.4377425</td><td>0.025904761904761903</td><td>44.8</td><td>39.168</td><td>94.00319999999999</td><td>133.1712</td><td>18.816</td><td>45.1584</td><td>63.9744</td><td>5.0577408</td><td>0.072521</td><td>125.098725</td><td>109.651752</td><td>263.1642048</td><td>372.81595680000004</td><td>52.5414645</td><td>126.09951480000001</td><td>178.64097930000003</td><td>0.081971875</td><td>141.763125</td><td>123.941475</td><td>297.45954</td><td>421.40101500000003</td><td>59.5405125</td><td>142.89723</td><td>202.4377425</td><td>10.1154816</td><td>0.145042</td><td>250.19745</td><td>219.303504</td><td>526.3284096</td><td>745.6319136000001</td><td>105.082929</td><td>252.19902960000002</td><td>357.28195860000005</td><td>0.16394375</td><td>283.52625</td><td>247.88295</td><td>594.91908</td><td>842.8020300000001</td><td>119.081025</td><td>285.79446</td><td>404.875485</td><td>0.393216</td><td>7.86432</td><td>15.732736000000001</td><td>cycle8</td><td>2021</td><td>hifa_calimage_renorm</td><td>42</td><td>51.75111111111111</td><td>8.688888887034523</td><td>5.3052777777777775</td><td>0.596388888888889</td><td>0.6616666648123</td><td>2</td><td>1</td><td>5</td><td>ACT-S_J2154.4-0410</td><td>40.0</td><td>60.0</td><td>1.12</td><td>1.12</td><td>500.0</td><td>44.8</td><td>44.8</td><td>False</td><td>default</td><td>default</td><td>default</td><td>default</td><td>default</td><td>43.062222224076585</td></tr>\n",
       "<tr><td>uid://A001/X158f/X162</td><td>2021.1.01543.S</td><td>uid://A001/X158f/X161</td><td>ACT-S_J0_e_03_TM1</td><td>12m</td><td>Sub-mm Galaxies (SMG), Gravitational lenses</td><td>Cosmology and the high redshift Universe</td><td>Galaxy evolution</td><td>47</td><td>50</td><td>66</td><td>3.0</td><td>1.0</td><td>0.016369206884524156</td><td>3.2665774476859673</td><td>F</td><td>140.0</td><td>59.26559013413854</td><td>0.6533154895371936</td><td>2</td><td>20</td><td>7728.149946101046</td><td>98.81272931497574</td><td>20.99829231870792</td><td>4800.0</td><td>240.0</td><td>1.875</td><td>37.5</td><td>98.81272931497574</td><td>2</td><td>16.0</td><td>16.0</td><td>32.0</td><td>2.0</td><td>8</td><td>8</td><td>16</td><td>7722.0</td><td>572.0</td><td>23.428128913398474</td><td>3294.0</td><td>244.0</td><td>9.993817228792356</td><td>3294.0</td><td>244.0</td><td>9.993817228792356</td><td>3.072</td><td>259.0</td><td>607.0</td><td>607.0</td><td>2072.0</td><td>2072.0</td><td>4144.0</td><td>4856.0</td><td>4856.0</td><td>9712.0</td><td>4856.0</td><td>4856.0</td><td>9712.0</td><td>0.1619224578748185</td><td>0.1619224578748185</td><td>0.323844915749637</td><td>0.02024030723435231</td><td>1081.0</td><td>1225.0</td><td>2145.0</td><td>109.96343</td><td>2021.1.01543.S</td><td>ACT-S_J0_e_03_TM1</td><td>6.048</td><td>5.0</td><td>1512.0</td><td>0.0</td><td>302.4</td><td>0.0</td><td>0.0</td><td>756.0</td><td>2570.4</td><td>1814.4</td><td>7.84e-05</td><td>0.0475888</td><td>0.7626752</td><td>0.0142645</td><td>24.6062625</td><td>10.783961999999999</td><td>25.8815088</td><td>36.6654708</td><td>5.167315125</td><td>12.4015563</td><td>17.568871425</td><td>0.0014323809523809523</td><td>2.4708571428571426</td><td>1.08288</td><td>2.598912</td><td>3.681792</td><td>0.5188799999999999</td><td>1.245312</td><td>1.764192</td><td>0.0161234375</td><td>27.8840625</td><td>12.18931875</td><td>29.254365000000004</td><td>41.443683750000005</td><td>5.855653125</td><td>14.0535675</td><td>19.909220625</td><td>0.001619047619047619</td><td>2.8</td><td>1.224</td><td>2.9375999999999998</td><td>4.1616</td><td>0.588</td><td>1.4112</td><td>1.9992</td><td>0.7626752</td><td>0.0142645</td><td>24.6062625</td><td>10.783961999999999</td><td>25.8815088</td><td>36.6654708</td><td>5.167315125</td><td>12.4015563</td><td>17.568871425</td><td>0.0161234375</td><td>27.8840625</td><td>12.18931875</td><td>29.254365000000004</td><td>41.443683750000005</td><td>5.855653125</td><td>14.0535675</td><td>19.909220625</td><td>1.5253504</td><td>0.028529</td><td>49.212525</td><td>21.567923999999998</td><td>51.7630176</td><td>73.3309416</td><td>10.33463025</td><td>24.8031126</td><td>35.13774285</td><td>0.032246875</td><td>55.768125</td><td>24.3786375</td><td>58.50873000000001</td><td>82.88736750000001</td><td>11.71130625</td><td>28.107135</td><td>39.81844125</td><td>0.018816</td><td>0.37632</td><td>0.755776</td><td>cycle8</td><td>2021</td><td>hifa_calimage_renorm</td><td>46</td><td>14.667222222222222</td><td>1.2019444462988111</td><td>0.3075</td><td>0.06166666666666667</td><td>0.08000000185436673</td><td>1</td><td>1</td><td>5</td><td>ACT-S_J0244.6+1501</td><td>40.0</td><td>60.0</td><td>0.06</td><td>0.06</td><td>500.0</td><td>2.41</td><td>2.41</td><td>False</td><td>default</td><td>default</td><td>default</td><td>default</td><td>default</td><td>13.465277775923411</td></tr>\n",
       "<tr><td>...</td><td>...</td><td>...</td><td>...</td><td>...</td><td>...</td><td>...</td><td>...</td><td>...</td><td>...</td><td>...</td><td>...</td><td>...</td><td>...</td><td>...</td><td>...</td><td>...</td><td>...</td><td>...</td><td>...</td><td>...</td><td>...</td><td>...</td><td>...</td><td>...</td><td>...</td><td>...</td><td>...</td><td>...</td><td>...</td><td>...</td><td>...</td><td>...</td><td>...</td><td>...</td><td>...</td><td>...</td><td>...</td><td>...</td><td>...</td><td>...</td><td>...</td><td>...</td><td>...</td><td>...</td><td>...</td><td>...</td><td>...</td><td>...</td><td>...</td><td>...</td><td>...</td><td>...</td><td>...</td><td>...</td><td>...</td><td>...</td><td>...</td><td>...</td><td>...</td><td>...</td><td>...</td><td>...</td><td>...</td><td>...</td><td>...</td><td>...</td><td>...</td><td>...</td><td>...</td><td>...</td><td>...</td><td>...</td><td>...</td><td>...</td><td>...</td><td>...</td><td>...</td><td>...</td><td>...</td><td>...</td><td>...</td><td>...</td><td>...</td><td>...</td><td>...</td><td>...</td><td>...</td><td>...</td><td>...</td><td>...</td><td>...</td><td>...</td><td>...</td><td>...</td><td>...</td><td>...</td><td>...</td><td>...</td><td>...</td><td>...</td><td>...</td><td>...</td><td>...</td><td>...</td><td>...</td><td>...</td><td>...</td><td>...</td><td>...</td><td>...</td><td>...</td><td>...</td><td>...</td><td>...</td><td>...</td><td>...</td><td>...</td><td>...</td><td>...</td><td>...</td><td>...</td><td>...</td><td>...</td><td>...</td><td>...</td><td>...</td><td>...</td><td>...</td><td>...</td><td>...</td><td>...</td><td>...</td><td>...</td><td>...</td><td>...</td><td>...</td><td>...</td><td>...</td><td>...</td><td>...</td><td>...</td><td>...</td><td>...</td><td>...</td><td>...</td><td>...</td><td>...</td><td>...</td><td>...</td><td>...</td><td>...</td><td>...</td><td>...</td><td>...</td><td>...</td><td>...</td><td>...</td><td>...</td><td>...</td><td>...</td><td>...</td><td>...</td><td>...</td><td>...</td><td>...</td><td>...</td><td>...</td><td>...</td><td>...</td><td>...</td><td>...</td><td>...</td><td>...</td><td>...</td><td>...</td><td>...</td><td>...</td></tr>\n",
       "<tr><td>uid://A001/X2dfa/X1a6</td><td>2021.1.00657.T</td><td>uid://A001/X2dfa/X1a5</td><td>GRB_pol1_a_03_TM1</td><td>12m</td><td>Transients</td><td>Stellar evolution and the Sun</td><td>Stars and stellar evolution</td><td>47</td><td>50</td><td>66</td><td>3.0</td><td>1.0</td><td>0.016589200057329435</td><td>1.5710240354182818</td><td>F</td><td>290.0</td><td>59.93456257142128</td><td>0.3142048070836564</td><td>4</td><td>4</td><td>61829.15353991239</td><td>97.48674216621754</td><td>181.04349501259708</td><td>256.0</td><td>64.0</td><td>2.0</td><td>8.0</td><td>97.48674216621754</td><td>4</td><td>16.0</td><td>16.0</td><td>32.0</td><td>2.0</td><td>8</td><td>8</td><td>16</td><td>61816.5</td><td>4579.0</td><td>190.0988797877688</td><td>3240.0</td><td>240.0</td><td>9.96368882923444</td><td>3240.0</td><td>240.0</td><td>9.96368882923444</td><td>3.072</td><td>32.0</td><td>617.0</td><td>617.0</td><td>256.0</td><td>256.0</td><td>512.0</td><td>4936.0</td><td>4936.0</td><td>9872.0</td><td>4936.0</td><td>4936.0</td><td>9872.0</td><td>0.1641248814399764</td><td>0.1641248814399764</td><td>0.3282497628799528</td><td>0.02051561017999705</td><td>1081.0</td><td>1225.0</td><td>2145.0</td><td>229.91562</td><td>2021.1.00657.T</td><td>GRB_pol1_a_03_TM1</td><td>2.016</td><td>1.0</td><td>604.8</td><td>0.0</td><td>393.12</td><td>846.72</td><td>0.0</td><td>4777.92</td><td>6622.5599999999995</td><td>1844.6399999999999</td><td>0.0003364</td><td>0.2075588</td><td>3.3263231999999996</td><td>0.028999</td><td>50.023275000000005</td><td>138.55490208</td><td>53.49271536</td><td>192.04761743999998</td><td>66.39089058</td><td>25.631926110000002</td><td>92.02281669</td><td>0.0022918095238095237</td><td>3.9533714285714288</td><td>10.95008256</td><td>4.2275635199999995</td><td>15.177646079999997</td><td>5.24691456</td><td>2.02570752</td><td>7.27262208</td><td>0.032778125</td><td>56.686875</td><td>156.611259</td><td>60.46384049999999</td><td>217.07509949999996</td><td>75.2348205</td><td>29.04635475</td><td>104.28117524999999</td><td>0.0025904761904761904</td><td>4.48</td><td>12.377087999999999</td><td>4.778496</td><td>17.155583999999998</td><td>5.945856</td><td>2.2955520000000003</td><td>8.241408</td><td>3.3263231999999996</td><td>0.028999</td><td>50.023275000000005</td><td>138.55490208</td><td>53.49271536</td><td>192.04761743999998</td><td>66.39089058</td><td>25.631926110000002</td><td>92.02281669</td><td>0.032778125</td><td>56.686875</td><td>156.611259</td><td>60.46384049999999</td><td>217.07509949999996</td><td>75.2348205</td><td>29.04635475</td><td>104.28117524999999</td><td>6.652646399999999</td><td>0.057998</td><td>100.04655000000001</td><td>277.10980416</td><td>106.98543072</td><td>384.09523487999996</td><td>132.78178116</td><td>51.263852220000004</td><td>184.04563338</td><td>0.06555625</td><td>113.37375</td><td>313.222518</td><td>120.92768099999998</td><td>434.15019899999993</td><td>150.469641</td><td>58.0927095</td><td>208.56235049999998</td><td>0.0215296</td><td>0.0861184</td><td>0.174928</td><td>cycle8</td><td>--</td><td>--</td><td>--</td><td>--</td><td>--</td><td>--</td><td>--</td><td>--</td><td>--</td><td>--</td><td>--</td><td>--</td><td>--</td><td>--</td><td>--</td><td>--</td><td>--</td><td>--</td><td>--</td><td>--</td><td>--</td><td>--</td><td>--</td><td>--</td><td>--</td><td>--</td></tr>\n",
       "<tr><td>uid://A001/X2dfa/X31</td><td>2021.A.00026.S</td><td>uid://A001/X2dfa/X30</td><td>SN2018iv_a_03_TM1</td><td>12m</td><td>Supernovae (SN) ejecta, Transients</td><td>Stellar evolution and the Sun</td><td>Stars and stellar evolution</td><td>47</td><td>50</td><td>66</td><td>3.0</td><td>1.0</td><td>0.01617571736123677</td><td>0.6673839526848321</td><td>F</td><td>670.0</td><td>58.42916113372068</td><td>0.13347679053696643</td><td>2</td><td>4</td><td>30918.55801024583</td><td>99.97907608523947</td><td>88.39320752767087</td><td>512.0</td><td>128.0</td><td>2.0</td><td>8.0</td><td>99.97907608523947</td><td>2</td><td>16.0</td><td>16.0</td><td>32.0</td><td>2.0</td><td>8</td><td>8</td><td>16</td><td>30915.0</td><td>2290.0</td><td>92.70023490883513</td><td>3334.5</td><td>247.0</td><td>9.998671625538112</td><td>3334.5</td><td>247.0</td><td>9.998671625538112</td><td>3.072</td><td>64.0</td><td>599.0</td><td>599.0</td><td>512.0</td><td>512.0</td><td>1024.0</td><td>4792.0</td><td>4792.0</td><td>9584.0</td><td>4792.0</td><td>4792.0</td><td>9584.0</td><td>0.1600334852700462</td><td>0.1600334852700462</td><td>0.3200669705400924</td><td>0.020004185658755776</td><td>1081.0</td><td>1225.0</td><td>2145.0</td><td>531.8683</td><td>2021.A.00026.S</td><td>SN2018iv_a_03_TM1</td><td>2.016</td><td>1.0</td><td>302.4</td><td>0.0</td><td>60.48</td><td>0.0</td><td>0.0</td><td>302.4</td><td>665.28</td><td>362.88</td><td>0.0017956</td><td>1.0755644</td><td>17.237759999999998</td><td>0.0140765</td><td>24.281962500000002</td><td>4.2567336</td><td>5.10808032</td><td>9.36481392</td><td>2.03968485</td><td>2.44762182</td><td>4.487306670000001</td><td>0.0022918095238095237</td><td>3.9533714285714288</td><td>0.6930431999999999</td><td>0.8316518399999999</td><td>1.52469504</td><td>0.33208319999999997</td><td>0.39849984</td><td>0.73058304</td><td>0.0159109375</td><td>27.5165625</td><td>4.811467499999999</td><td>5.7737609999999995</td><td>10.5852285</td><td>2.31139125</td><td>2.7736695</td><td>5.085060749999999</td><td>0.0025904761904761904</td><td>4.48</td><td>0.78336</td><td>0.940032</td><td>1.7233919999999998</td><td>0.37632</td><td>0.45158400000000004</td><td>0.8279040000000001</td><td>17.237759999999998</td><td>0.0140765</td><td>24.281962500000002</td><td>4.2567336</td><td>5.10808032</td><td>9.36481392</td><td>2.03968485</td><td>2.44762182</td><td>4.487306670000001</td><td>0.0159109375</td><td>27.5165625</td><td>4.811467499999999</td><td>5.7737609999999995</td><td>10.5852285</td><td>2.31139125</td><td>2.7736695</td><td>5.085060749999999</td><td>34.475519999999996</td><td>0.028153</td><td>48.563925000000005</td><td>8.5134672</td><td>10.21616064</td><td>18.72962784</td><td>4.0793697</td><td>4.89524364</td><td>8.974613340000001</td><td>0.031821875</td><td>55.033125</td><td>9.622934999999998</td><td>11.547521999999999</td><td>21.170457</td><td>4.6227825</td><td>5.547339</td><td>10.170121499999999</td><td>0.2298368</td><td>0.9193472</td><td>1.8530592000000001</td><td>cycle8</td><td>2021</td><td>hifa_calimage_renorm</td><td>45</td><td>2.415833333333333</td><td>0.49277778148651125</td><td>0.12222222222222222</td><td>0.08916666666666666</td><td>0.040555559264289005</td><td>1</td><td>1</td><td>1</td><td>SN2018ivc</td><td>40.0</td><td>60.0</td><td>0.382</td><td>0.382</td><td>500.0</td><td>3.08</td><td>3.08</td><td>False</td><td>default</td><td>default</td><td>default</td><td>default</td><td>default</td><td>1.9230555518468218</td></tr>\n",
       "<tr><td>uid://A001/X2dfa/X35</td><td>2021.A.00026.S</td><td>uid://A001/X2dfa/X34</td><td>SN2018iv_a_06_TM1</td><td>12m</td><td>Supernovae (SN) ejecta, Transients</td><td>Stellar evolution and the Sun</td><td>Stars and stellar evolution</td><td>47</td><td>50</td><td>66</td><td>6.0</td><td>1.0</td><td>0.006470287779124912</td><td>0.2615351333141033</td><td>F</td><td>690.0</td><td>23.30547607272075</td><td>0.05230702666282065</td><td>2</td><td>4</td><td>31120.21908426349</td><td>249.98671839607223</td><td>36.31097144587433</td><td>512.0</td><td>128.0</td><td>2.0</td><td>8.0</td><td>249.98671839607223</td><td>2</td><td>16.0</td><td>16.0</td><td>32.0</td><td>2.0</td><td>8</td><td>8</td><td>16</td><td>31117.5</td><td>2305.0</td><td>37.31714977367203</td><td>8329.5</td><td>617.0</td><td>9.989015796249735</td><td>8329.5</td><td>617.0</td><td>9.989015796249735</td><td>3.072</td><td>64.0</td><td>240.0</td><td>240.0</td><td>512.0</td><td>512.0</td><td>1024.0</td><td>1920.0</td><td>1920.0</td><td>3840.0</td><td>1920.0</td><td>1920.0</td><td>3840.0</td><td>0.06400340027124973</td><td>0.06400340027124973</td><td>0.12800680054249947</td><td>0.008000425033906217</td><td>1081.0</td><td>1225.0</td><td>2145.0</td><td>542.88806</td><td>2021.A.00026.S</td><td>SN2018iv_a_06_TM1</td><td>2.016</td><td>1.0</td><td>302.4</td><td>0.0</td><td>90.72</td><td>0.0</td><td>60.48</td><td>574.56</td><td>1028.1599999999999</td><td>453.6</td><td>0.0019044</td><td>0.457056</td><td>7.3433664</td><td>0.00564</td><td>9.729</td><td>3.2405183999999996</td><td>2.558304</td><td>5.798822399999999</td><td>1.5527483999999998</td><td>1.225854</td><td>2.7786023999999996</td><td>0.0022918095238095237</td><td>3.9533714285714288</td><td>1.3167820799999999</td><td>1.0395648</td><td>2.3563468799999994</td><td>0.63095808</td><td>0.49812480000000003</td><td>1.12908288</td><td>0.006375</td><td>11.025</td><td>3.6628199999999995</td><td>2.8917</td><td>6.554519999999998</td><td>1.75959</td><td>1.38915</td><td>3.1487399999999997</td><td>0.0025904761904761904</td><td>4.48</td><td>1.4883839999999997</td><td>1.17504</td><td>2.6634239999999996</td><td>0.715008</td><td>0.5644800000000001</td><td>1.279488</td><td>7.3433664</td><td>0.00564</td><td>9.729</td><td>3.2405183999999996</td><td>2.558304</td><td>5.798822399999999</td><td>1.5527483999999998</td><td>1.225854</td><td>2.7786023999999996</td><td>0.006375</td><td>11.025</td><td>3.6628199999999995</td><td>2.8917</td><td>6.554519999999998</td><td>1.75959</td><td>1.38915</td><td>3.1487399999999997</td><td>14.6867328</td><td>0.01128</td><td>19.458</td><td>6.481036799999999</td><td>5.116608</td><td>11.597644799999998</td><td>3.1054967999999996</td><td>2.451708</td><td>5.557204799999999</td><td>0.01275</td><td>22.05</td><td>7.325639999999999</td><td>5.7834</td><td>13.109039999999997</td><td>3.51918</td><td>2.7783</td><td>6.297479999999999</td><td>0.2437632</td><td>0.9750528</td><td>1.9653408</td><td>cycle8</td><td>2021</td><td>hifa_calimage_renorm</td><td>45</td><td>3.070555555555556</td><td>0.6230555372767979</td><td>0.22166666666666668</td><td>0.0961111111111111</td><td>0.04666664838790893</td><td>1</td><td>1</td><td>2</td><td>SN2018ivc</td><td>40.0</td><td>60.0</td><td>0.328</td><td>0.328</td><td>500.0</td><td>2.64</td><td>2.64</td><td>False</td><td>default</td><td>default</td><td>default</td><td>default</td><td>default</td><td>2.447500018278758</td></tr>\n",
       "<tr><td>uid://A001/X2dfa/X3b</td><td>2021.A.00030.S</td><td>uid://A001/X2dfa/X3a</td><td>J0410_a_06_TM1</td><td>12m</td><td>High-z Active Galactic Nuclei (AGN)</td><td>Cosmology and the high redshift Universe</td><td>Active galaxies</td><td>47</td><td>50</td><td>66</td><td>6.0</td><td>1.0</td><td>0.006994215289678344</td><td>0.4459354268065195</td><td>F</td><td>430.0</td><td>25.191705300323946</td><td>0.0891870853613039</td><td>2</td><td>4</td><td>7779.1514907499895</td><td>231.25939830567333</td><td>9.81868747324187</td><td>960.0</td><td>240.0</td><td>1.875</td><td>7.5</td><td>231.25939830567333</td><td>2</td><td>16.0</td><td>16.0</td><td>32.0</td><td>2.0</td><td>8</td><td>8</td><td>16</td><td>7776.0</td><td>576.0</td><td>10.080395307120412</td><td>769.5</td><td>57.0</td><td>0.9975391189337909</td><td>1539.0</td><td>114.0</td><td>1.9950782378675818</td><td>3.072</td><td>257.0</td><td>2599.0</td><td>1299.0</td><td>2056.0</td><td>2056.0</td><td>4112.0</td><td>20792.0</td><td>20792.0</td><td>41584.0</td><td>10392.0</td><td>10392.0</td><td>20784.0</td><td>0.06918637736336047</td><td>0.06918637736336047</td><td>0.13837275472672095</td><td>0.00864829717042006</td><td>1081.0</td><td>1225.0</td><td>2145.0</td><td>337.97833</td><td>2021.A.00030.S</td><td>J0410_a_06_TM1</td><td>6.048</td><td>1.0</td><td>1512.0</td><td>0.0</td><td>756.0</td><td>0.0</td><td>0.0</td><td>8830.08</td><td>11098.08</td><td>2268.0</td><td>0.0007396</td><td>0.9607404</td><td>15.38368</td><td>0.0305265</td><td>52.6582125</td><td>269.55143712</td><td>69.23410200000001</td><td>338.78553912</td><td>129.16006362</td><td>33.174673874999996</td><td>162.33473749499998</td><td>0.0014323809523809523</td><td>2.4708571428571426</td><td>12.648038399999999</td><td>3.24864</td><td>15.896678399999999</td><td>6.060518399999999</td><td>1.5566399999999998</td><td>7.617158399999998</td><td>0.0345046875</td><td>59.672812500000006</td><td>304.679151</td><td>78.25663125</td><td>382.93578225</td><td>146.3654745</td><td>37.593871875000005</td><td>183.959346375</td><td>0.001619047619047619</td><td>2.8</td><td>14.296319999999998</td><td>3.6719999999999997</td><td>17.96832</td><td>6.867839999999999</td><td>1.7639999999999998</td><td>8.631839999999999</td><td>15.38368</td><td>0.0305265</td><td>52.6582125</td><td>269.55143712</td><td>69.23410200000001</td><td>338.78553912</td><td>129.16006362</td><td>33.174673874999996</td><td>162.33473749499998</td><td>0.0345046875</td><td>59.672812500000006</td><td>304.679151</td><td>78.25663125</td><td>382.93578225</td><td>146.3654745</td><td>37.593871875000005</td><td>183.959346375</td><td>30.76736</td><td>0.061053</td><td>105.316425</td><td>539.10287424</td><td>138.46820400000001</td><td>677.57107824</td><td>258.32012724</td><td>66.34934774999999</td><td>324.66947498999997</td><td>0.069009375</td><td>119.34562500000001</td><td>609.358302</td><td>156.5132625</td><td>765.8715645</td><td>292.730949</td><td>75.18774375000001</td><td>367.91869275</td><td>0.177504</td><td>0.710016</td><td>1.4259488</td><td>cycle8</td><td>2021</td><td>hifa_calimage</td><td>45</td><td>21.31888888888889</td><td>3.288611111376021</td><td>1.1177777777777778</td><td>0.2897222222222222</td><td>1.021944444709354</td><td>4</td><td>1</td><td>5</td><td>J0410</td><td>40.0</td><td>60.0</td><td>0.319</td><td>0.319</td><td>500.0</td><td>2.56</td><td>2.56</td><td>False</td><td>default</td><td>default</td><td>default</td><td>default</td><td>default</td><td>18.030277777512868</td></tr>\n",
       "<tr><td>uid://A001/X2dfa/X7d</td><td>2021.A.00031.S</td><td>uid://A001/X2dfa/X7c</td><td>S5_z17_a_1_07_TM1</td><td>12m</td><td>Lyman Alpha Emitters/Blobs (LAE/LAB), Sub-mm Galaxies (SMG)</td><td>Cosmology and the high redshift Universe</td><td>Galaxy evolution</td><td>47</td><td>50</td><td>66</td><td>7.0</td><td>1.0</td><td>0.004729663751037771</td><td>0.49239980824463386</td><td>F</td><td>270.0</td><td>17.024344790855686</td><td>0.09847996164892678</td><td>2</td><td>4</td><td>31156.484611738135</td><td>341.9719024574107</td><td>26.921950358357705</td><td>512.0</td><td>128.0</td><td>2.0</td><td>8.0</td><td>341.9719024574107</td><td>2</td><td>8.0</td><td>16.0</td><td>32.0</td><td>2.0</td><td>4</td><td>8</td><td>16</td><td>31144.5</td><td>2307.0</td><td>27.30307999308165</td><td>11394.0</td><td>844.0</td><td>9.988643049051111</td><td>11394.0</td><td>844.0</td><td>9.988643049051111</td><td>3.072</td><td>64.0</td><td>175.0</td><td>175.0</td><td>256.0</td><td>512.0</td><td>1024.0</td><td>700.0</td><td>1400.0</td><td>2800.0</td><td>700.0</td><td>1400.0</td><td>2800.0</td><td>0.023393734814211302</td><td>0.046787469628422604</td><td>0.09357493925684521</td><td>0.0058484337035528255</td><td>1081.0</td><td>1225.0</td><td>2145.0</td><td>210.78053</td><td>2021.A.00031.S</td><td>S5_z17_a_1_07_TM1</td><td>2.016</td><td>1.0</td><td>604.8</td><td>0.0</td><td>120.96</td><td>0.0</td><td>0.0</td><td>677.376</td><td>1403.136</td><td>725.76</td><td>0.0002916</td><td>0.05103</td><td>0.4105728</td><td>0.00205625</td><td>3.5470312500000003</td><td>1.3928543999999998</td><td>1.492344</td><td>2.8851983999999997</td><td>0.6674094</td><td>0.7150815</td><td>1.3824909</td><td>0.0022918095238095237</td><td>3.9533714285714288</td><td>1.5524167679999998</td><td>1.6633036799999998</td><td>3.215720448</td><td>0.7438663680000001</td><td>0.79699968</td><td>1.540866048</td><td>0.00232421875</td><td>4.01953125</td><td>1.5743699999999998</td><td>1.6868249999999998</td><td>3.261195</td><td>0.756315</td><td>0.8103375</td><td>1.5666525</td><td>0.0025904761904761904</td><td>4.48</td><td>1.7547263999999998</td><td>1.880064</td><td>3.6347903999999995</td><td>0.8429568000000001</td><td>0.9031680000000001</td><td>1.7461248000000003</td><td>0.8211456</td><td>0.0041125</td><td>7.094062500000001</td><td>2.7857087999999997</td><td>2.984688</td><td>5.770396799999999</td><td>1.3348188</td><td>1.430163</td><td>2.7649818</td><td>0.0046484375</td><td>8.0390625</td><td>3.1487399999999997</td><td>3.3736499999999996</td><td>6.52239</td><td>1.51263</td><td>1.620675</td><td>3.133305</td><td>1.6422912</td><td>0.008225</td><td>14.188125000000001</td><td>5.571417599999999</td><td>5.969376</td><td>11.540793599999999</td><td>2.6696376</td><td>2.860326</td><td>5.5299636</td><td>0.009296875</td><td>16.078125</td><td>6.297479999999999</td><td>6.747299999999999</td><td>13.04478</td><td>3.02526</td><td>3.24135</td><td>6.26661</td><td>0.0373248</td><td>0.1492992</td><td>0.3009312</td><td>cycle8</td><td>2021</td><td>hifa_calimage_renorm</td><td>43</td><td>2.2352777777777777</td><td>0.2522222275204129</td><td>0.04638888888888889</td><td>0.029444444444444447</td><td>0.021666671964857314</td><td>1</td><td>1</td><td>1</td><td>S5_z17_1</td><td>40.0</td><td>60.0</td><td>0.0755</td><td>0.0755</td><td>500.0</td><td>0.609</td><td>0.609</td><td>False</td><td>default</td><td>default</td><td>default</td><td>default</td><td>default</td><td>1.9830555502573648</td></tr>\n",
       "<tr><td>uid://A001/X2dfa/X81</td><td>2021.A.00031.S</td><td>uid://A001/X2dfa/X80</td><td>S5_z17_b_1_07_TM1</td><td>12m</td><td>Lyman Alpha Emitters/Blobs (LAE/LAB), Sub-mm Galaxies (SMG)</td><td>Cosmology and the high redshift Universe</td><td>Galaxy evolution</td><td>47</td><td>50</td><td>66</td><td>7.0</td><td>1.0</td><td>0.0046749855612464005</td><td>0.4862921449100933</td><td>F</td><td>270.0</td><td>16.827399874261154</td><td>0.09725842898201867</td><td>2</td><td>4</td><td>31157.562751841728</td><td>345.9717562903143</td><td>26.61600144156713</td><td>512.0</td><td>128.0</td><td>2.0</td><td>8.0</td><td>345.9717562903143</td><td>2</td><td>8.0</td><td>16.0</td><td>32.0</td><td>2.0</td><td>4</td><td>8</td><td>16</td><td>31144.5</td><td>2307.0</td><td>26.987423217131525</td><td>11529.0</td><td>854.0</td><td>9.99014279472489</td><td>11529.0</td><td>854.0</td><td>9.99014279472489</td><td>3.072</td><td>64.0</td><td>173.0</td><td>173.0</td><td>256.0</td><td>512.0</td><td>1024.0</td><td>692.0</td><td>1384.0</td><td>2768.0</td><td>692.0</td><td>1384.0</td><td>2768.0</td><td>0.023123274818095216</td><td>0.04624654963619043</td><td>0.09249309927238086</td><td>0.005780818704523804</td><td>1081.0</td><td>1225.0</td><td>2145.0</td><td>210.9593</td><td>2021.A.00031.S</td><td>S5_z17_b_1_07_TM1</td><td>2.016</td><td>1.0</td><td>302.4</td><td>0.0</td><td>60.48</td><td>0.0</td><td>0.0</td><td>338.688</td><td>701.568</td><td>362.88</td><td>0.0002916</td><td>0.0504468</td><td>0.4059072</td><td>0.00203275</td><td>3.50649375</td><td>0.688468032</td><td>0.7376443199999999</td><td>1.4261123519999999</td><td>0.329890932</td><td>0.35345457</td><td>0.683345502</td><td>0.0022918095238095237</td><td>3.9533714285714288</td><td>0.7762083839999999</td><td>0.8316518399999999</td><td>1.607860224</td><td>0.37193318400000003</td><td>0.39849984</td><td>0.770433024</td><td>0.00229765625</td><td>3.9735937499999996</td><td>0.7781885999999999</td><td>0.8337735</td><td>1.6119620999999997</td><td>0.37383569999999994</td><td>0.40053825</td><td>0.7743739499999999</td><td>0.0025904761904761904</td><td>4.48</td><td>0.8773631999999999</td><td>0.940032</td><td>1.8173951999999998</td><td>0.42147840000000003</td><td>0.45158400000000004</td><td>0.8730624000000001</td><td>0.8118144</td><td>0.0040655</td><td>7.0129875</td><td>1.376936064</td><td>1.4752886399999998</td><td>2.8522247039999997</td><td>0.659781864</td><td>0.70690914</td><td>1.366691004</td><td>0.0045953125</td><td>7.947187499999999</td><td>1.5563771999999998</td><td>1.667547</td><td>3.2239241999999995</td><td>0.7476713999999999</td><td>0.8010765</td><td>1.5487478999999997</td><td>1.6236288</td><td>0.008131</td><td>14.025975</td><td>2.753872128</td><td>2.9505772799999996</td><td>5.704449407999999</td><td>1.319563728</td><td>1.41381828</td><td>2.733382008</td><td>0.009190625</td><td>15.894374999999998</td><td>3.1127543999999996</td><td>3.335094</td><td>6.447848399999999</td><td>1.4953427999999997</td><td>1.602153</td><td>3.0974957999999995</td><td>0.0373248</td><td>0.1492992</td><td>0.3009312</td><td>cycle8</td><td>2021</td><td>hifa_calimage_renorm</td><td>43</td><td>1.9133333333333333</td><td>0.22194444788826836</td><td>0.03638888888888889</td><td>0.0275</td><td>0.02000000344382392</td><td>1</td><td>1</td><td>1</td><td>S5_z17_1</td><td>40.0</td><td>60.0</td><td>0.0664</td><td>0.0664</td><td>500.0</td><td>0.535</td><td>0.535</td><td>False</td><td>default</td><td>default</td><td>default</td><td>default</td><td>default</td><td>1.691388885445065</td></tr>\n",
       "<tr><td>uid://A001/X2dfa/X85</td><td>2021.A.00031.S</td><td>uid://A001/X2dfa/X84</td><td>S5_z17_c_1_07_TM1</td><td>12m</td><td>Lyman Alpha Emitters/Blobs (LAE/LAB), Sub-mm Galaxies (SMG)</td><td>Cosmology and the high redshift Universe</td><td>Galaxy evolution</td><td>47</td><td>50</td><td>66</td><td>7.0</td><td>1.0</td><td>0.004621557161354669</td><td>0.4811240330029407</td><td>F</td><td>270.0</td><td>16.634960910677357</td><td>0.09622480660058814</td><td>2</td><td>4</td><td>31158.626091286704</td><td>349.9716099065537</td><td>26.316936747390976</td><td>512.0</td><td>128.0</td><td>2.0</td><td>8.0</td><td>349.9716099065537</td><td>2</td><td>8.0</td><td>16.0</td><td>32.0</td><td>2.0</td><td>4</td><td>8</td><td>16</td><td>31158.0</td><td>2308.0</td><td>26.690546152752596</td><td>11664.0</td><td>864.0</td><td>9.991608265155216</td><td>11664.0</td><td>864.0</td><td>9.991608265155216</td><td>3.072</td><td>64.0</td><td>171.0</td><td>171.0</td><td>256.0</td><td>512.0</td><td>1024.0</td><td>684.0</td><td>1368.0</td><td>2736.0</td><td>684.0</td><td>1368.0</td><td>2736.0</td><td>0.022858997054464186</td><td>0.04571799410892837</td><td>0.09143598821785674</td><td>0.005714749263616046</td><td>1081.0</td><td>1225.0</td><td>2145.0</td><td>210.78885</td><td>2021.A.00031.S</td><td>S5_z17_c_1_07_TM1</td><td>2.016</td><td>1.0</td><td>302.4</td><td>0.0</td><td>60.48</td><td>0.0</td><td>0.0</td><td>338.688</td><td>701.568</td><td>362.88</td><td>0.0002916</td><td>0.0498636</td><td>0.40124160000000003</td><td>0.00200925</td><td>3.46595625</td><td>0.680508864</td><td>0.7291166400000001</td><td>1.409625504</td><td>0.326077164</td><td>0.34936839000000003</td><td>0.6754455540000001</td><td>0.0022918095238095237</td><td>3.9533714285714288</td><td>0.7762083839999999</td><td>0.8316518399999999</td><td>1.607860224</td><td>0.37193318400000003</td><td>0.39849984</td><td>0.770433024</td><td>0.00227109375</td><td>3.92765625</td><td>0.7691922</td><td>0.8241345</td><td>1.5933267</td><td>0.3695139</td><td>0.39590775</td><td>0.76542165</td><td>0.0025904761904761904</td><td>4.48</td><td>0.8773631999999999</td><td>0.940032</td><td>1.8173951999999998</td><td>0.42147840000000003</td><td>0.45158400000000004</td><td>0.8730624000000001</td><td>0.8024832000000001</td><td>0.0040185</td><td>6.9319125</td><td>1.361017728</td><td>1.4582332800000002</td><td>2.819251008</td><td>0.652154328</td><td>0.6987367800000001</td><td>1.3508911080000001</td><td>0.0045421875</td><td>7.8553125</td><td>1.5383844</td><td>1.648269</td><td>3.1866534</td><td>0.7390278</td><td>0.7918155</td><td>1.5308433</td><td>1.6049664000000001</td><td>0.008037</td><td>13.863825</td><td>2.722035456</td><td>2.9164665600000004</td><td>5.638502016</td><td>1.304308656</td><td>1.3974735600000001</td><td>2.7017822160000002</td><td>0.009084375</td><td>15.710625</td><td>3.0767688</td><td>3.296538</td><td>6.3733068</td><td>1.4780556</td><td>1.583631</td><td>3.0616866</td><td>0.0373248</td><td>0.1492992</td><td>0.3009312</td><td>cycle8</td><td>--</td><td>--</td><td>--</td><td>--</td><td>--</td><td>--</td><td>--</td><td>--</td><td>--</td><td>--</td><td>--</td><td>--</td><td>--</td><td>--</td><td>--</td><td>--</td><td>--</td><td>--</td><td>--</td><td>--</td><td>--</td><td>--</td><td>--</td><td>--</td><td>--</td><td>--</td></tr>\n",
       "<tr><td>uid://A001/X2dfa/X8b</td><td>2021.1.01209.S</td><td>uid://A001/X2dfa/X8a</td><td>Wolf_359_d_06_7M</td><td>7m</td><td>Main sequence stars</td><td>Stellar evolution and the Sun</td><td>Stars and stellar evolution</td><td>10</td><td>12</td><td>16</td><td>6.0</td><td>1.0</td><td>0.011945137906881832</td><td>5.090876921859115</td><td>F</td><td>60.0</td><td>42.92689687201506</td><td>1.018175384371823</td><td>2</td><td>4</td><td>31112.220139350786</td><td>233.00021471966954</td><td>38.87224355701299</td><td>512.0</td><td>128.0</td><td>2.0</td><td>8.0</td><td>233.00021471966954</td><td>2</td><td>16.0</td><td>16.0</td><td>32.0</td><td>2.0</td><td>8</td><td>8</td><td>16</td><td>31104.0</td><td>2304.0</td><td>40.020326268157795</td><td>7762.5</td><td>575.0</td><td>9.987711633763341</td><td>7762.5</td><td>575.0</td><td>9.987711633763341</td><td>9.984</td><td>64.0</td><td>257.0</td><td>257.0</td><td>512.0</td><td>512.0</td><td>1024.0</td><td>2056.0</td><td>2056.0</td><td>4112.0</td><td>2056.0</td><td>2056.0</td><td>4112.0</td><td>0.06866946461508691</td><td>0.06866946461508691</td><td>0.13733892923017382</td><td>0.008583683076885864</td><td>45.0</td><td>66.0</td><td>120.0</td><td>29.922184</td><td>2021.1.01209.S</td><td>Wolf_359_d_06_7M</td><td>1.008</td><td>1.0</td><td>1814.3999999999999</td><td>0.0</td><td>1451.52</td><td>0.0</td><td>0.0</td><td>8996.400000000001</td><td>12262.320000000002</td><td>3265.92</td><td>1.44e-05</td><td>0.0037008</td><td>0.0594432</td><td>9.060897435897436e-05</td><td>0.1334423076923077</td><td>0.815154576923077</td><td>0.29592166153846156</td><td>1.1110762384615387</td><td>0.333472326923077</td><td>0.12105886153846154</td><td>0.45453118846153856</td><td>0.0002234920634920635</td><td>0.3291428571428572</td><td>2.0106240000000004</td><td>0.7299072</td><td>2.7405312000000004</td><td>0.8225280000000003</td><td>0.29859840000000004</td><td>1.1211264000000003</td><td>0.0001285</td><td>0.19571538461538462</td><td>1.1560374000000002</td><td>0.41967072000000005</td><td>1.5757081200000003</td><td>0.4890927461538463</td><td>0.17755299692307694</td><td>0.6666457430769233</td><td>0.0003169523809523809</td><td>0.48274285714285714</td><td>2.8514304000000004</td><td>1.03514112</td><td>3.88657152</td><td>1.2063744000000003</td><td>0.43794432</td><td>1.6443187200000002</td><td>0.0594432</td><td>9.060897435897436e-05</td><td>0.1334423076923077</td><td>0.815154576923077</td><td>0.29592166153846156</td><td>1.1110762384615387</td><td>0.333472326923077</td><td>0.12105886153846154</td><td>0.45453118846153856</td><td>0.0001285</td><td>0.19571538461538462</td><td>1.1560374000000002</td><td>0.41967072000000005</td><td>1.5757081200000003</td><td>0.4890927461538463</td><td>0.17755299692307694</td><td>0.6666457430769233</td><td>0.1188864</td><td>0.00018121794871794872</td><td>0.2668846153846154</td><td>1.630309153846154</td><td>0.5918433230769231</td><td>2.2221524769230774</td><td>0.666944653846154</td><td>0.24211772307692309</td><td>0.9090623769230771</td><td>0.000257</td><td>0.39143076923076925</td><td>2.3120748000000004</td><td>0.8393414400000001</td><td>3.1514162400000005</td><td>0.9781854923076926</td><td>0.3551059938461539</td><td>1.3332914861538465</td><td>0.0018432</td><td>0.0073728</td><td>0.014860799999999999</td><td>cycle8</td><td>--</td><td>--</td><td>--</td><td>--</td><td>--</td><td>--</td><td>--</td><td>--</td><td>--</td><td>--</td><td>--</td><td>--</td><td>--</td><td>--</td><td>--</td><td>--</td><td>--</td><td>--</td><td>--</td><td>--</td><td>--</td><td>--</td><td>--</td><td>--</td><td>--</td><td>--</td></tr>\n",
       "</table></div>"
      ],
      "text/plain": [
       "<Table masked=True length=2481>\n",
       "         mous          proposal_id            gous         ... mit_field mit_spw     pl_caltime    \n",
       "                                                           ...                           h         \n",
       "        str22             str14              str22         ...   str769   str44       float64      \n",
       "--------------------- -------------- --------------------- ... --------- ------- ------------------\n",
       "uid://A001/X158f/X111 2021.1.01571.S uid://A001/X158f/X110 ...        --      --                 --\n",
       "uid://A001/X158f/X115 2021.1.01571.S uid://A001/X158f/X114 ...   default default 1.9094444420602588\n",
       "uid://A001/X158f/X13a 2021.1.01543.S uid://A001/X158f/X139 ...   default default 20.746666677527955\n",
       "uid://A001/X158f/X13e 2021.1.01543.S uid://A001/X158f/X13d ...        --      --                 --\n",
       "uid://A001/X158f/X142 2021.1.01543.S uid://A001/X158f/X141 ...   default default 21.467777746253542\n",
       "uid://A001/X158f/X146 2021.1.01543.S uid://A001/X158f/X145 ...   default default 24.017222226725686\n",
       "uid://A001/X158f/X14a 2021.1.01543.S uid://A001/X158f/X149 ...   default default 43.062222224076585\n",
       "uid://A001/X158f/X162 2021.1.01543.S uid://A001/X158f/X161 ...   default default 13.465277775923411\n",
       "                  ...            ...                   ... ...       ...     ...                ...\n",
       "uid://A001/X2dfa/X1a6 2021.1.00657.T uid://A001/X2dfa/X1a5 ...        --      --                 --\n",
       " uid://A001/X2dfa/X31 2021.A.00026.S  uid://A001/X2dfa/X30 ...   default default 1.9230555518468218\n",
       " uid://A001/X2dfa/X35 2021.A.00026.S  uid://A001/X2dfa/X34 ...   default default  2.447500018278758\n",
       " uid://A001/X2dfa/X3b 2021.A.00030.S  uid://A001/X2dfa/X3a ...   default default 18.030277777512868\n",
       " uid://A001/X2dfa/X7d 2021.A.00031.S  uid://A001/X2dfa/X7c ...   default default 1.9830555502573648\n",
       " uid://A001/X2dfa/X81 2021.A.00031.S  uid://A001/X2dfa/X80 ...   default default  1.691388885445065\n",
       " uid://A001/X2dfa/X85 2021.A.00031.S  uid://A001/X2dfa/X84 ...        --      --                 --\n",
       " uid://A001/X2dfa/X8b 2021.1.01209.S  uid://A001/X2dfa/X8a ...        --      --                 --"
      ]
     },
     "execution_count": 84,
     "metadata": {},
     "output_type": "execute_result"
    }
   ],
   "source": [
    "result_c8_tos_mous_mit"
   ]
  },
  {
   "cell_type": "code",
   "execution_count": 85,
   "id": "beff4ace",
   "metadata": {
    "scrolled": false
   },
   "outputs": [
    {
     "data": {
      "text/html": [
       "<div><i>Table length=1</i>\n",
       "<table id=\"table140413762847360\" class=\"table-striped table-bordered table-condensed\">\n",
       "<thead><tr><th>proposal_id</th><th>mous</th><th>schedblock_name</th><th>array</th></tr></thead>\n",
       "<thead><tr><th>str14</th><th>str22</th><th>str18</th><th>str3</th></tr></thead>\n",
       "<tr><td>2019.1.00003.S</td><td>uid://A001/X1470/X2e3</td><td>MACS0454_a_06_TM1</td><td>12m</td></tr>\n",
       "</table></div>"
      ],
      "text/plain": [
       "<Table length=1>\n",
       " proposal_id            mous          schedblock_name  array\n",
       "    str14              str22               str18        str3\n",
       "-------------- --------------------- ----------------- -----\n",
       "2019.1.00003.S uid://A001/X1470/X2e3 MACS0454_a_06_TM1   12m"
      ]
     },
     "execution_count": 85,
     "metadata": {},
     "output_type": "execute_result"
    }
   ],
   "source": [
    "idx = result_tos_mous_mit['schedblock_name'] == 'MACS0454_a_06_TM1'\n",
    "result_tos_mous_mit[idx]['proposal_id','mous','schedblock_name','array']"
   ]
  },
  {
   "cell_type": "markdown",
   "id": "fabdcafa",
   "metadata": {},
   "source": [
    "## calculating the required system performance"
   ]
  },
  {
   "cell_type": "markdown",
   "id": "cf386488",
   "metadata": {},
   "source": [
    "Everything including wproject and aproject"
   ]
  },
  {
   "cell_type": "code",
   "execution_count": 86,
   "id": "a06ed342",
   "metadata": {},
   "outputs": [],
   "source": [
    "reload(wsu_db)\n",
    "wsu_db.calc_sysperf(result_tos_mous_mit,\n",
    "                    label='allgrid',\n",
    "                    mosaic_aproject=True,\n",
    "                    wproject=True)"
   ]
  },
  {
   "cell_type": "code",
   "execution_count": 87,
   "id": "0f7e4e15",
   "metadata": {},
   "outputs": [],
   "source": [
    "wsu_db.calc_sysperf(result_c8_tos_mous_mit,\n",
    "                    label='allgrid',\n",
    "                    mosaic_aproject=True,\n",
    "                    wproject=True)"
   ]
  },
  {
   "cell_type": "markdown",
   "id": "a4e973ad",
   "metadata": {},
   "source": [
    "Only aproject for mosaics"
   ]
  },
  {
   "cell_type": "code",
   "execution_count": 88,
   "id": "51730f0a",
   "metadata": {},
   "outputs": [],
   "source": [
    "wsu_db.calc_sysperf(result_tos_mous_mit,\n",
    "                    label='aprojonly',\n",
    "                    mosaic_aproject=True,\n",
    "                    wproject=False)"
   ]
  },
  {
   "cell_type": "code",
   "execution_count": 89,
   "id": "f7b4d74a",
   "metadata": {},
   "outputs": [],
   "source": [
    "wsu_db.calc_sysperf(result_c8_tos_mous_mit,\n",
    "                    label='aprojonly',\n",
    "                    mosaic_aproject=True,\n",
    "                    wproject=False)"
   ]
  },
  {
   "cell_type": "code",
   "execution_count": 90,
   "id": "d566101e",
   "metadata": {},
   "outputs": [
    {
     "data": {
      "text/plain": [
       "<TableColumns names=('mous','proposal_id','gous','schedblock_name','array','science_keyword','scientific_category_proposal','scientific_category','nant_typical','nant_array','nant_all','band','ntarget','s_fov','s_resolution','mosaic','imsize','pb','cell','blc_npol','blc_nspw','blc_specwidth','blc_freq','blc_velres','blc_nchan_agg','blc_nchan_max','blc_bandwidth_max','blc_bandwidth_agg','wsu_freq','wsu_npol','wsu_bandwidth_early','wsu_bandwidth_later_2x','wsu_bandwidth_later_4x','wsu_bandwidth_spw','wsu_nspw_early','wsu_nspw_later_2x','wsu_nspw_later_4x','wsu_specwidth_finest','wsu_chanavg_finest','wsu_velres_finest','wsu_specwidth_stepped','wsu_chanavg_stepped','wsu_velres_stepped','wsu_specwidth_stepped2','wsu_chanavg_stepped2','wsu_velres_stepped2','wsu_tint','wsu_nchan_spw_finest','wsu_nchan_spw_stepped','wsu_nchan_spw_stepped2','wsu_nchan_agg_finest_early','wsu_nchan_agg_finest_later_2x','wsu_nchan_agg_finest_later_4x','wsu_nchan_agg_stepped_early','wsu_nchan_agg_stepped_later_2x','wsu_nchan_agg_stepped_later_4x','wsu_nchan_agg_stepped2_early','wsu_nchan_agg_stepped2_later_2x','wsu_nchan_agg_stepped2_later_4x','wsu_frac_bw_early','wsu_frac_bw_later_2x','wsu_frac_bw_later_4x','wsu_frac_bw_spw','nbase_typical','nbase_array','nbase_all','L80','Project','SB_name','blc_tint','blc_ntunings','bp_time','flux_time','phase_time','pol_time','check_time','target_time_tot','time_tot','cal_time','mfssize','wsu_cubesize_stepped2','wsu_productsize_early_stepped2','wsu_datarate_early_stepped2_typical','wsu_visrate_early_stepped2_typical','wsu_datavol_early_stepped2_typical_target_tot','wsu_datavol_early_stepped2_typical_cal','wsu_datavol_early_stepped2_typical_total','wsu_nvis_early_stepped2_typical_target_tot','wsu_nvis_early_stepped2_typical_cal','wsu_nvis_early_stepped2_typical_total','blc_datarate_typical','blc_visrate_typical','blc_datavol_typical_target_tot','blc_datavol_typical_cal','blc_datavol_typical_total','blc_nvis_typical_target_tot','blc_nvis_typical_cal','blc_nvis_typical_total','wsu_datarate_early_stepped2_array','wsu_visrate_early_stepped2_array','wsu_datavol_early_stepped2_array_target_tot','wsu_datavol_early_stepped2_array_cal','wsu_datavol_early_stepped2_array_total','wsu_nvis_early_stepped2_array_target_tot','wsu_nvis_early_stepped2_array_cal','wsu_nvis_early_stepped2_array_total','blc_datarate_array','blc_visrate_array','blc_datavol_array_target_tot','blc_datavol_array_cal','blc_datavol_array_total','blc_nvis_array_target_tot','blc_nvis_array_cal','blc_nvis_array_total','wsu_productsize_later_2x_stepped2','wsu_datarate_later_2x_stepped2_typical','wsu_visrate_later_2x_stepped2_typical','wsu_datavol_later_2x_stepped2_typical_target_tot','wsu_datavol_later_2x_stepped2_typical_cal','wsu_datavol_later_2x_stepped2_typical_total','wsu_nvis_later_2x_stepped2_typical_target_tot','wsu_nvis_later_2x_stepped2_typical_cal','wsu_nvis_later_2x_stepped2_typical_total','wsu_datarate_later_2x_stepped2_array','wsu_visrate_later_2x_stepped2_array','wsu_datavol_later_2x_stepped2_array_target_tot','wsu_datavol_later_2x_stepped2_array_cal','wsu_datavol_later_2x_stepped2_array_total','wsu_nvis_later_2x_stepped2_array_target_tot','wsu_nvis_later_2x_stepped2_array_cal','wsu_nvis_later_2x_stepped2_array_total','wsu_productsize_later_4x_stepped2','wsu_datarate_later_4x_stepped2_typical','wsu_visrate_later_4x_stepped2_typical','wsu_datavol_later_4x_stepped2_typical_target_tot','wsu_datavol_later_4x_stepped2_typical_cal','wsu_datavol_later_4x_stepped2_typical_total','wsu_nvis_later_4x_stepped2_typical_target_tot','wsu_nvis_later_4x_stepped2_typical_cal','wsu_nvis_later_4x_stepped2_typical_total','wsu_datarate_later_4x_stepped2_array','wsu_visrate_later_4x_stepped2_array','wsu_datavol_later_4x_stepped2_array_target_tot','wsu_datavol_later_4x_stepped2_array_cal','wsu_datavol_later_4x_stepped2_array_total','wsu_nvis_later_4x_stepped2_array_target_tot','wsu_nvis_later_4x_stepped2_array_cal','wsu_nvis_later_4x_stepped2_array_total','blc_cubesize','blc_cubesize_sum','blc_productsize','cycle_info','plversion','procedure','nant','pl_totaltime','pl_imgtime','pl_cubetime','pl_aggtime','pl_fctime','nEB','npt','nscan','reptgt','allowedcubesize','allowedcubelimit','predcubesize','mitigatedcubesize','allowedprodsize','initialprodsize','mitigatedprodsize','mitigated','mit_nbins','mit_hm_imsize','mit_hm_cell','mit_field','mit_spw','pl_caltime','blc_sysperf_typical_allgrid','flops_per_vis_allgrid','wsu_sysperf_early_stepped2_typical_allgrid','wsu_sysperf_later_2x_stepped2_typical_allgrid','wsu_sysperf_later_4x_stepped2_typical_allgrid','blc_sysperf_typical_aprojonly','flops_per_vis_aprojonly','wsu_sysperf_early_stepped2_typical_aprojonly','wsu_sysperf_later_2x_stepped2_typical_aprojonly','wsu_sysperf_later_4x_stepped2_typical_aprojonly')>"
      ]
     },
     "execution_count": 90,
     "metadata": {},
     "output_type": "execute_result"
    }
   ],
   "source": [
    "result_tos_mous_mit.columns"
   ]
  },
  {
   "cell_type": "code",
   "execution_count": 91,
   "id": "b4ac7717",
   "metadata": {},
   "outputs": [
    {
     "data": {
      "text/plain": [
       "<TableColumns names=('mous','proposal_id','gous','schedblock_name','array','science_keyword','scientific_category_proposal','scientific_category','nant_typical','nant_array','nant_all','band','ntarget','s_fov','s_resolution','mosaic','imsize','pb','cell','blc_npol','blc_nspw','blc_specwidth','blc_freq','blc_velres','blc_nchan_agg','blc_nchan_max','blc_bandwidth_max','blc_bandwidth_agg','wsu_freq','wsu_npol','wsu_bandwidth_early','wsu_bandwidth_later_2x','wsu_bandwidth_later_4x','wsu_bandwidth_spw','wsu_nspw_early','wsu_nspw_later_2x','wsu_nspw_later_4x','wsu_specwidth_finest','wsu_chanavg_finest','wsu_velres_finest','wsu_specwidth_stepped','wsu_chanavg_stepped','wsu_velres_stepped','wsu_specwidth_stepped2','wsu_chanavg_stepped2','wsu_velres_stepped2','wsu_tint','wsu_nchan_spw_finest','wsu_nchan_spw_stepped','wsu_nchan_spw_stepped2','wsu_nchan_agg_finest_early','wsu_nchan_agg_finest_later_2x','wsu_nchan_agg_finest_later_4x','wsu_nchan_agg_stepped_early','wsu_nchan_agg_stepped_later_2x','wsu_nchan_agg_stepped_later_4x','wsu_nchan_agg_stepped2_early','wsu_nchan_agg_stepped2_later_2x','wsu_nchan_agg_stepped2_later_4x','wsu_frac_bw_early','wsu_frac_bw_later_2x','wsu_frac_bw_later_4x','wsu_frac_bw_spw','nbase_typical','nbase_array','nbase_all','L80','Project','SB_name','blc_tint','blc_ntunings','bp_time','flux_time','phase_time','pol_time','check_time','target_time_tot','time_tot','cal_time','mfssize','wsu_cubesize_stepped2','wsu_productsize_early_stepped2','wsu_datarate_early_stepped2_typical','wsu_visrate_early_stepped2_typical','wsu_datavol_early_stepped2_typical_target_tot','wsu_datavol_early_stepped2_typical_cal','wsu_datavol_early_stepped2_typical_total','wsu_nvis_early_stepped2_typical_target_tot','wsu_nvis_early_stepped2_typical_cal','wsu_nvis_early_stepped2_typical_total','blc_datarate_typical','blc_visrate_typical','blc_datavol_typical_target_tot','blc_datavol_typical_cal','blc_datavol_typical_total','blc_nvis_typical_target_tot','blc_nvis_typical_cal','blc_nvis_typical_total','wsu_datarate_early_stepped2_array','wsu_visrate_early_stepped2_array','wsu_datavol_early_stepped2_array_target_tot','wsu_datavol_early_stepped2_array_cal','wsu_datavol_early_stepped2_array_total','wsu_nvis_early_stepped2_array_target_tot','wsu_nvis_early_stepped2_array_cal','wsu_nvis_early_stepped2_array_total','blc_datarate_array','blc_visrate_array','blc_datavol_array_target_tot','blc_datavol_array_cal','blc_datavol_array_total','blc_nvis_array_target_tot','blc_nvis_array_cal','blc_nvis_array_total','wsu_productsize_later_2x_stepped2','wsu_datarate_later_2x_stepped2_typical','wsu_visrate_later_2x_stepped2_typical','wsu_datavol_later_2x_stepped2_typical_target_tot','wsu_datavol_later_2x_stepped2_typical_cal','wsu_datavol_later_2x_stepped2_typical_total','wsu_nvis_later_2x_stepped2_typical_target_tot','wsu_nvis_later_2x_stepped2_typical_cal','wsu_nvis_later_2x_stepped2_typical_total','wsu_datarate_later_2x_stepped2_array','wsu_visrate_later_2x_stepped2_array','wsu_datavol_later_2x_stepped2_array_target_tot','wsu_datavol_later_2x_stepped2_array_cal','wsu_datavol_later_2x_stepped2_array_total','wsu_nvis_later_2x_stepped2_array_target_tot','wsu_nvis_later_2x_stepped2_array_cal','wsu_nvis_later_2x_stepped2_array_total','wsu_productsize_later_4x_stepped2','wsu_datarate_later_4x_stepped2_typical','wsu_visrate_later_4x_stepped2_typical','wsu_datavol_later_4x_stepped2_typical_target_tot','wsu_datavol_later_4x_stepped2_typical_cal','wsu_datavol_later_4x_stepped2_typical_total','wsu_nvis_later_4x_stepped2_typical_target_tot','wsu_nvis_later_4x_stepped2_typical_cal','wsu_nvis_later_4x_stepped2_typical_total','wsu_datarate_later_4x_stepped2_array','wsu_visrate_later_4x_stepped2_array','wsu_datavol_later_4x_stepped2_array_target_tot','wsu_datavol_later_4x_stepped2_array_cal','wsu_datavol_later_4x_stepped2_array_total','wsu_nvis_later_4x_stepped2_array_target_tot','wsu_nvis_later_4x_stepped2_array_cal','wsu_nvis_later_4x_stepped2_array_total','blc_cubesize','blc_cubesize_sum','blc_productsize','cycle_info','plversion','procedure','nant','pl_totaltime','pl_imgtime','pl_cubetime','pl_aggtime','pl_fctime','nEB','npt','nscan','reptgt','allowedcubesize','allowedcubelimit','predcubesize','mitigatedcubesize','allowedprodsize','initialprodsize','mitigatedprodsize','mitigated','mit_nbins','mit_hm_imsize','mit_hm_cell','mit_field','mit_spw','pl_caltime','blc_sysperf_typical_allgrid','flops_per_vis_allgrid','wsu_sysperf_early_stepped2_typical_allgrid','wsu_sysperf_later_2x_stepped2_typical_allgrid','wsu_sysperf_later_4x_stepped2_typical_allgrid','blc_sysperf_typical_aprojonly','flops_per_vis_aprojonly','wsu_sysperf_early_stepped2_typical_aprojonly','wsu_sysperf_later_2x_stepped2_typical_aprojonly','wsu_sysperf_later_4x_stepped2_typical_aprojonly')>"
      ]
     },
     "execution_count": 91,
     "metadata": {},
     "output_type": "execute_result"
    }
   ],
   "source": [
    "result_c8_tos_mous_mit.columns"
   ]
  },
  {
   "cell_type": "markdown",
   "id": "5c2558e6",
   "metadata": {},
   "source": [
    "## Writing out the final file"
   ]
  },
  {
   "cell_type": "code",
   "execution_count": 92,
   "id": "4b4fb026",
   "metadata": {},
   "outputs": [],
   "source": [
    "# per MOUS/src\n",
    "result_tos.write('data/wsu_datarates_per_mous_src_cycle7_20240315_gous.ecsv',overwrite=True)\n",
    "result_c8_tos.write('data/wsu_datarates_per_mous_src_cycle8_20240315_gous.ecsv',overwrite=True)"
   ]
  },
  {
   "cell_type": "code",
   "execution_count": 93,
   "id": "91250162",
   "metadata": {},
   "outputs": [],
   "source": [
    "# per MOUS\n",
    "result_tos_mous_mit.write('data/wsu_datarates_mit_per_mous_cycle7_20240315_gous.ecsv',overwrite=True)\n",
    "result_c8_tos_mous_mit.write('data/wsu_datarates_mit_per_mous_cycle8_20240315_gous.ecsv',overwrite=True)"
   ]
  },
  {
   "cell_type": "markdown",
   "id": "20340f8a",
   "metadata": {},
   "source": [
    "# Writing out final file excluding Band 3, full pol, nbin=3 projects"
   ]
  },
  {
   "cell_type": "code",
   "execution_count": 94,
   "id": "d0a530e2",
   "metadata": {},
   "outputs": [
    {
     "name": "stdout",
     "output_type": "stream",
     "text": [
      "         mous         \n",
      "----------------------\n",
      "uid://A001/X1465/X1537\n",
      " uid://A001/X1465/X1c6\n",
      "uid://A001/X1465/X1c94\n",
      "uid://A001/X1465/X1c9c\n",
      "uid://A001/X1465/X1ca0\n",
      "uid://A001/X1465/X2dd9\n",
      "uid://A001/X1465/X3856\n"
     ]
    },
    {
     "data": {
      "text/html": [
       "<div><i>QTable length=18</i>\n",
       "<table id=\"table140415859042048\" class=\"table-striped table-bordered table-condensed\">\n",
       "<thead><tr><th>mous</th><th>band</th><th>wsu_chanavg_stepped2</th><th>wsu_npol</th><th>wsu_datarate_early_stepped2_typical</th></tr></thead>\n",
       "<thead><tr><th></th><th></th><th></th><th></th><th>Gbyte / s</th></tr></thead>\n",
       "<thead><tr><th>str22</th><th>float64</th><th>float64</th><th>int64</th><th>float64</th></tr></thead>\n",
       "<tr><td>uid://A001/X1465/X1537</td><td>3.0</td><td>3.0</td><td>4</td><td>2.320954</td></tr>\n",
       "<tr><td>uid://A001/X1465/X1537</td><td>3.0</td><td>3.0</td><td>4</td><td>2.320954</td></tr>\n",
       "<tr><td>uid://A001/X1465/X1c6</td><td>3.0</td><td>3.0</td><td>4</td><td>2.320954</td></tr>\n",
       "<tr><td>uid://A001/X1465/X1c94</td><td>3.0</td><td>3.0</td><td>4</td><td>2.320954</td></tr>\n",
       "<tr><td>uid://A001/X1465/X1c9c</td><td>3.0</td><td>3.0</td><td>4</td><td>2.320954</td></tr>\n",
       "<tr><td>uid://A001/X1465/X1c9c</td><td>3.0</td><td>3.0</td><td>4</td><td>2.320954</td></tr>\n",
       "<tr><td>uid://A001/X1465/X1ca0</td><td>3.0</td><td>3.0</td><td>4</td><td>2.320954</td></tr>\n",
       "<tr><td>uid://A001/X1465/X1ca0</td><td>3.0</td><td>3.0</td><td>4</td><td>2.320954</td></tr>\n",
       "<tr><td>uid://A001/X1465/X2dd9</td><td>3.0</td><td>3.0</td><td>4</td><td>2.320954</td></tr>\n",
       "<tr><td>uid://A001/X1465/X3856</td><td>3.0</td><td>3.0</td><td>4</td><td>2.320954</td></tr>\n",
       "<tr><td>uid://A001/X1465/X3856</td><td>3.0</td><td>3.0</td><td>4</td><td>2.320954</td></tr>\n",
       "<tr><td>uid://A001/X1465/X3856</td><td>3.0</td><td>3.0</td><td>4</td><td>2.320954</td></tr>\n",
       "<tr><td>uid://A001/X1465/X3856</td><td>3.0</td><td>3.0</td><td>4</td><td>2.320954</td></tr>\n",
       "<tr><td>uid://A001/X1465/X3856</td><td>3.0</td><td>3.0</td><td>4</td><td>2.320954</td></tr>\n",
       "<tr><td>uid://A001/X1465/X3856</td><td>3.0</td><td>3.0</td><td>4</td><td>2.320954</td></tr>\n",
       "<tr><td>uid://A001/X1465/X3856</td><td>3.0</td><td>3.0</td><td>4</td><td>2.320954</td></tr>\n",
       "<tr><td>uid://A001/X1465/X3856</td><td>3.0</td><td>3.0</td><td>4</td><td>2.320954</td></tr>\n",
       "<tr><td>uid://A001/X1465/X3856</td><td>3.0</td><td>3.0</td><td>4</td><td>2.320954</td></tr>\n",
       "</table></div>"
      ],
      "text/plain": [
       "<QTable length=18>\n",
       "         mous            band  wsu_chanavg_stepped2 wsu_npol wsu_datarate_early_stepped2_typical\n",
       "                                                                          Gbyte / s             \n",
       "        str22          float64       float64         int64                 float64              \n",
       "---------------------- ------- -------------------- -------- -----------------------------------\n",
       "uid://A001/X1465/X1537     3.0                  3.0        4                            2.320954\n",
       "uid://A001/X1465/X1537     3.0                  3.0        4                            2.320954\n",
       " uid://A001/X1465/X1c6     3.0                  3.0        4                            2.320954\n",
       "uid://A001/X1465/X1c94     3.0                  3.0        4                            2.320954\n",
       "uid://A001/X1465/X1c9c     3.0                  3.0        4                            2.320954\n",
       "uid://A001/X1465/X1c9c     3.0                  3.0        4                            2.320954\n",
       "uid://A001/X1465/X1ca0     3.0                  3.0        4                            2.320954\n",
       "uid://A001/X1465/X1ca0     3.0                  3.0        4                            2.320954\n",
       "uid://A001/X1465/X2dd9     3.0                  3.0        4                            2.320954\n",
       "uid://A001/X1465/X3856     3.0                  3.0        4                            2.320954\n",
       "uid://A001/X1465/X3856     3.0                  3.0        4                            2.320954\n",
       "uid://A001/X1465/X3856     3.0                  3.0        4                            2.320954\n",
       "uid://A001/X1465/X3856     3.0                  3.0        4                            2.320954\n",
       "uid://A001/X1465/X3856     3.0                  3.0        4                            2.320954\n",
       "uid://A001/X1465/X3856     3.0                  3.0        4                            2.320954\n",
       "uid://A001/X1465/X3856     3.0                  3.0        4                            2.320954\n",
       "uid://A001/X1465/X3856     3.0                  3.0        4                            2.320954\n",
       "uid://A001/X1465/X3856     3.0                  3.0        4                            2.320954"
      ]
     },
     "execution_count": 94,
     "metadata": {},
     "output_type": "execute_result"
    }
   ],
   "source": [
    "idx = (result_tos['band'] == 3.0) & (result_tos['wsu_chanavg_stepped2'] == 3) & (result_tos['wsu_npol'] == 4)\n",
    "print(np.unique(result_tos[idx]['mous']))\n",
    "result_tos[idx]['mous','band','wsu_chanavg_stepped2','wsu_npol','wsu_datarate_early_stepped2_typical']"
   ]
  },
  {
   "cell_type": "code",
   "execution_count": 95,
   "id": "2edf1e50",
   "metadata": {
    "scrolled": true
   },
   "outputs": [
    {
     "name": "stdout",
     "output_type": "stream",
     "text": [
      "         mous        \n",
      "---------------------\n",
      "uid://A001/X158f/X814\n"
     ]
    },
    {
     "data": {
      "text/html": [
       "<div><i>QTable length=1</i>\n",
       "<table id=\"table140416101982704\" class=\"table-striped table-bordered table-condensed\">\n",
       "<thead><tr><th>mous</th><th>band</th><th>wsu_chanavg_stepped2</th><th>wsu_npol</th><th>wsu_datarate_early_stepped2_typical</th></tr></thead>\n",
       "<thead><tr><th></th><th></th><th></th><th></th><th>Gbyte / s</th></tr></thead>\n",
       "<thead><tr><th>str22</th><th>float64</th><th>float64</th><th>int64</th><th>float64</th></tr></thead>\n",
       "<tr><td>uid://A001/X158f/X814</td><td>3.0</td><td>3.0</td><td>4</td><td>2.320954</td></tr>\n",
       "</table></div>"
      ],
      "text/plain": [
       "<QTable length=1>\n",
       "         mous           band  wsu_chanavg_stepped2 wsu_npol wsu_datarate_early_stepped2_typical\n",
       "                                                                         Gbyte / s             \n",
       "        str22         float64       float64         int64                 float64              \n",
       "--------------------- ------- -------------------- -------- -----------------------------------\n",
       "uid://A001/X158f/X814     3.0                  3.0        4                            2.320954"
      ]
     },
     "execution_count": 95,
     "metadata": {},
     "output_type": "execute_result"
    }
   ],
   "source": [
    "idx = (result_c8_tos['band'] == 3) &(result_c8_tos['wsu_chanavg_stepped2'] == 3) & (result_c8_tos['wsu_npol'] == 4)\n",
    "print(np.unique(result_c8_tos[idx]['mous']))\n",
    "result_c8_tos[idx]['mous','band','wsu_chanavg_stepped2','wsu_npol','wsu_datarate_early_stepped2_typical']"
   ]
  },
  {
   "cell_type": "markdown",
   "id": "f511b2c8",
   "metadata": {},
   "source": [
    "Don't need to do this any more since the problematic cases are removed."
   ]
  },
  {
   "cell_type": "code",
   "execution_count": 96,
   "id": "af7b6b20",
   "metadata": {
    "scrolled": true
   },
   "outputs": [
    {
     "name": "stdout",
     "output_type": "stream",
     "text": [
      "18\n",
      "11501\n",
      "11519\n"
     ]
    }
   ],
   "source": [
    "idx = (result_tos['band'] == 3) &(result_tos['wsu_chanavg_stepped2'] == 3) & (result_tos['wsu_npol'] == 4)\n",
    "print(np.sum(idx))\n",
    "idx_opp = np.invert(idx)\n",
    "print(np.sum(idx_opp))\n",
    "print(len(idx))"
   ]
  },
  {
   "cell_type": "code",
   "execution_count": 97,
   "id": "8282a7f1",
   "metadata": {},
   "outputs": [
    {
     "name": "stdout",
     "output_type": "stream",
     "text": [
      "1\n",
      "10842\n",
      "10843\n"
     ]
    }
   ],
   "source": [
    "idx = (result_c8_tos['band'] == 3) & (result_c8_tos['wsu_chanavg_stepped2'] == 3) & (result_c8_tos['wsu_npol'] == 4)\n",
    "print(np.sum(idx))\n",
    "idx_opp = np.invert(idx)\n",
    "print(np.sum(idx_opp))\n",
    "print(len(idx))"
   ]
  },
  {
   "cell_type": "code",
   "execution_count": 98,
   "id": "2767b56e",
   "metadata": {},
   "outputs": [
    {
     "name": "stdout",
     "output_type": "stream",
     "text": [
      "7\n",
      "2712\n",
      "2719\n"
     ]
    }
   ],
   "source": [
    "idx = (result_tos_mous_mit['band'] == 3) & (result_tos_mous_mit['wsu_chanavg_stepped2'] == 3) & (result_tos_mous_mit['wsu_npol'] == 4)\n",
    "print(np.sum(idx))\n",
    "idx_opp = np.invert(idx)\n",
    "print(np.sum(idx_opp))\n",
    "print(len(idx))"
   ]
  },
  {
   "cell_type": "code",
   "execution_count": 99,
   "id": "1cb8a416",
   "metadata": {},
   "outputs": [
    {
     "name": "stdout",
     "output_type": "stream",
     "text": [
      "1\n",
      "2480\n",
      "2481\n"
     ]
    }
   ],
   "source": [
    "idx = (result_c8_tos_mous_mit['band'] == 3) & (result_c8_tos_mous_mit['wsu_chanavg_stepped2'] == 3) & (result_c8_tos_mous_mit['wsu_npol'] == 4)\n",
    "print(np.sum(idx))\n",
    "idx_opp = np.invert(idx)\n",
    "print(np.sum(idx_opp))\n",
    "print(len(idx))"
   ]
  },
  {
   "cell_type": "code",
   "execution_count": 137,
   "id": "26f3d60c",
   "metadata": {},
   "outputs": [],
   "source": [
    "idx = (result_tos['band'] == 3) &  (result_tos['wsu_chanavg_stepped2'] == 3) & (result_tos['wsu_npol'] == 4)\n",
    "idx_opp = np.invert(idx)\n",
    "(result_tos[idx_opp]).write('data/wsu_datarates_per_mous_src_cycle7_20240315_gous_without_band3_nbin3_npol4.ecsv',overwrite=True)"
   ]
  },
  {
   "cell_type": "code",
   "execution_count": 100,
   "id": "f158b547",
   "metadata": {},
   "outputs": [],
   "source": [
    "idx = (result_c8_tos['band'] == 3) & (result_c8_tos['wsu_chanavg_stepped2'] == 3) & (result_c8_tos['wsu_npol'] == 4)\n",
    "idx_opp = np.invert(idx)\n",
    "(result_c8_tos[idx_opp]).write('data/wsu_datarates_per_mous_src_cycle8_20240315_gous_without_band3_nbin3_npol4.ecsv',overwrite=True)"
   ]
  },
  {
   "cell_type": "code",
   "execution_count": 101,
   "id": "b7deeb1d",
   "metadata": {},
   "outputs": [],
   "source": [
    "idx = (result_tos_mous_mit['band'] == 3) & (result_tos_mous_mit['wsu_chanavg_stepped2'] == 3) & (result_tos_mous_mit['wsu_npol'] == 4)\n",
    "idx_opp = np.invert(idx)\n",
    "result_tos_mous_mit[idx_opp].write('data/wsu_datarates_mit_per_mous_cycle7_20240315_gous_without_band3_nbin3_npol4.ecsv',\n",
    "                                   overwrite=True)"
   ]
  },
  {
   "cell_type": "code",
   "execution_count": 102,
   "id": "a22becda",
   "metadata": {},
   "outputs": [],
   "source": [
    "idx = (result_c8_tos_mous_mit['band'] == 3) & (result_c8_tos_mous_mit['wsu_chanavg_stepped2'] == 3) & (result_c8_tos_mous_mit['wsu_npol'] == 4)\n",
    "idx_opp = np.invert(idx)\n",
    "result_c8_tos_mous_mit[idx_opp].write('data/wsu_datarates_mit_per_mous_cycle8_20240315_gous_without_band3_nbin3_npol4.ecsv',overwrite=True)"
   ]
  },
  {
   "cell_type": "markdown",
   "id": "f30ad99a",
   "metadata": {},
   "source": [
    "### figure out masking"
   ]
  },
  {
   "cell_type": "code",
   "execution_count": null,
   "id": "5f8e042b",
   "metadata": {},
   "outputs": [],
   "source": [
    "test = result_tos_mous_mit['pl_imgtime']/result_tos_mous_mit['pl_totaltime']"
   ]
  },
  {
   "cell_type": "code",
   "execution_count": null,
   "id": "6526a8f4",
   "metadata": {},
   "outputs": [],
   "source": [
    "plt.hist(test)"
   ]
  },
  {
   "cell_type": "code",
   "execution_count": null,
   "id": "9a94acb6",
   "metadata": {},
   "outputs": [],
   "source": []
  },
  {
   "cell_type": "markdown",
   "id": "7005e73c",
   "metadata": {},
   "source": [
    "## Figuring out how to factor in spectral scans"
   ]
  },
  {
   "cell_type": "markdown",
   "id": "9fca6584",
   "metadata": {},
   "source": [
    "Below are some experiments"
   ]
  },
  {
   "cell_type": "code",
   "execution_count": null,
   "id": "180806f0",
   "metadata": {},
   "outputs": [],
   "source": [
    "idx = result_c8_tos['proposal_id'] == '2021.1.00917.S'\n",
    "result_c8_tos['proposal_id','target_name','blc_nspw'][idx].show_in_browser()"
   ]
  },
  {
   "cell_type": "code",
   "execution_count": null,
   "id": "c11126a6",
   "metadata": {},
   "outputs": [],
   "source": [
    "idx = (result_c8_tos['blc_nspw'] == 20) | (result_c8_tos['blc_nspw'] == 16)\n",
    "result_c8_tos['proposal_id','target_name','blc_nspw'][idx].show_in_browser()"
   ]
  },
  {
   "cell_type": "code",
   "execution_count": null,
   "id": "d5e4eb99",
   "metadata": {},
   "outputs": [],
   "source": []
  },
  {
   "cell_type": "markdown",
   "id": "94d31fa7",
   "metadata": {},
   "source": [
    "## Adding in BLC int"
   ]
  },
  {
   "cell_type": "markdown",
   "id": "6bd1c09d",
   "metadata": {},
   "source": [
    "This is a failed experiment below. The data table had the information I needed, but not for the problems in my sample."
   ]
  },
  {
   "cell_type": "code",
   "execution_count": null,
   "id": "7ba77f03",
   "metadata": {},
   "outputs": [],
   "source": [
    "# this data file might ahve what I need.\n",
    "blc_info = Table.read('data/sb_science_targets_consolidated_bl.csv')"
   ]
  },
  {
   "cell_type": "code",
   "execution_count": null,
   "id": "3b82fe67",
   "metadata": {
    "scrolled": true
   },
   "outputs": [],
   "source": [
    "blc_info.columns"
   ]
  },
  {
   "cell_type": "code",
   "execution_count": null,
   "id": "73b1f44a",
   "metadata": {
    "scrolled": true
   },
   "outputs": [],
   "source": [
    "blc_info['OBSPROJECT_UID','SB_UID','SB_NAME','FIELD_SOURCE_NAME','BLSPEC_INTEGRATION_DURATION']"
   ]
  },
  {
   "cell_type": "markdown",
   "id": "00531b36",
   "metadata": {},
   "source": [
    " But it doesn't look liek there's overlap between my sample and this file."
   ]
  },
  {
   "cell_type": "code",
   "execution_count": null,
   "id": "291b1024",
   "metadata": {
    "scrolled": false
   },
   "outputs": [],
   "source": [
    "plt.hist(blc_info['BLSPEC_INTEGRATION_DURATION'])"
   ]
  },
  {
   "cell_type": "markdown",
   "id": "0bca1a54",
   "metadata": {},
   "source": [
    "But the times are either 6 or 2"
   ]
  },
  {
   "cell_type": "markdown",
   "id": "bc5da0f0",
   "metadata": {},
   "source": [
    "## Mosaic imsize investigation"
   ]
  },
  {
   "cell_type": "markdown",
   "id": "b957d0c5",
   "metadata": {},
   "source": [
    "This isn't needed for calculation. It was used to figure out what prefix factor I needed for imsizes."
   ]
  },
  {
   "cell_type": "code",
   "execution_count": null,
   "id": "6c75dfad",
   "metadata": {},
   "outputs": [],
   "source": [
    "idx = (result['mosaic'] == 'T') & (result['imsize'] >5800)\n",
    "result['mous','imsize','cell','s_fov','s_resolution','wsu_freq','pb','mosaic'][idx]"
   ]
  },
  {
   "cell_type": "code",
   "execution_count": null,
   "id": "66e84448",
   "metadata": {
    "scrolled": true
   },
   "outputs": [],
   "source": [
    "0.01056278408537675 *3600.0  "
   ]
  },
  {
   "cell_type": "markdown",
   "id": "3651795b",
   "metadata": {},
   "source": [
    "Image pre-check values for  2019.1.00796.S, uid://A001/X1471/X317\t\n",
    "\n",
    "* beam = 0.0457 x 0.0404 arcsec\n",
    "* cell = 0.0081 x 0.0081 arcsec\n",
    "\n",
    "Unmitigated imsize calculated in pipeline for X317 is 7776, 7776 according to SCG tests\n",
    "\n",
    "eye balling the spatial set up it looks like there's 10-12arcsec between pointings and the plot says the primary beam is 26.0arcsec\n",
    "\n",
    "The pipeline math is   \n",
    "\n",
    "npts <= 3\n",
    "* nxpix = int((1.65 * beam_radius_v + xspread) / cellx_v)\n",
    "\n",
    "npts >3\n",
    "* nxpix = int((1.5 * beam_radius_v + xspread) / cellx_v)\n",
    "\n",
    "We only have two pointings here.\n",
    "\n"
   ]
  },
  {
   "cell_type": "code",
   "execution_count": null,
   "id": "8637bbf3",
   "metadata": {},
   "outputs": [],
   "source": [
    "(26.0 + 10.0)"
   ]
  },
  {
   "cell_type": "code",
   "execution_count": null,
   "id": "25f87961",
   "metadata": {},
   "outputs": [],
   "source": [
    "(1.65 * 26.0 + 10.0)/0.0081"
   ]
  },
  {
   "cell_type": "markdown",
   "id": "1fcee162",
   "metadata": {},
   "source": [
    "So my estimate is a little on the low end, but not crazy"
   ]
  },
  {
   "cell_type": "code",
   "execution_count": null,
   "id": "7e23da1f",
   "metadata": {},
   "outputs": [],
   "source": [
    "(0.01044*3600+25.6*0.70)/0.0072"
   ]
  },
  {
   "cell_type": "markdown",
   "id": "648f8eaf",
   "metadata": {},
   "source": [
    "## Imsize investigation"
   ]
  },
  {
   "cell_type": "markdown",
   "id": "cf15c8e3",
   "metadata": {},
   "source": [
    "Something is  odd with my image sizes. I'm using 2019.1.01463.S uid://A001/X1465/Xc05 as my poster child\n",
    "\n",
    "For the unmitigated imaging done by the pipeline, the pipeline calculates the following values:\n",
    "* beam: 0.0322\" x 0.0211\"\n",
    "* cell: 0.0042\" x 0.0042\"\n",
    "* imsize: [11250, 11250] pixels\n",
    "* FOV: 47.25 arcsec"
   ]
  },
  {
   "cell_type": "markdown",
   "id": "502d704b",
   "metadata": {},
   "source": [
    "Now let's look at what I get from my calculations"
   ]
  },
  {
   "cell_type": "code",
   "execution_count": null,
   "id": "7d82b830",
   "metadata": {
    "scrolled": false
   },
   "outputs": [],
   "source": [
    "#2019.1.01463.S\n",
    "idx =result['mous'] == 'uid://A001/X1465/Xc05'\n",
    "result['mous','s_fov','s_resolution','imsize','wsu_nchan_final_stepped','wsu_nchan_final_finest','mosaic'][idx]"
   ]
  },
  {
   "cell_type": "code",
   "execution_count": null,
   "id": "9c062794",
   "metadata": {},
   "outputs": [],
   "source": [
    "np.log10(237037.03703703705)"
   ]
  },
  {
   "cell_type": "code",
   "execution_count": null,
   "id": "28f6e6c0",
   "metadata": {},
   "outputs": [],
   "source": [
    "np.log10(32921.81069958848)"
   ]
  },
  {
   "cell_type": "code",
   "execution_count": null,
   "id": "ec6e0df5",
   "metadata": {},
   "outputs": [],
   "source": [
    "# the imsize is\n",
    "0.007157768473981626*3600.00 # arcsec"
   ]
  },
  {
   "cell_type": "code",
   "execution_count": null,
   "id": "e6d5676e",
   "metadata": {
    "scrolled": true
   },
   "outputs": [],
   "source": [
    "# What's the estimated imsize at this frequency??\n",
    "# frequency\n",
    "freq = 218.821 #GHz\n",
    "19.4*300/218.821"
   ]
  },
  {
   "cell_type": "markdown",
   "id": "088ace75",
   "metadata": {},
   "source": [
    "This is comparable to the imsize calculated above."
   ]
  },
  {
   "cell_type": "code",
   "execution_count": null,
   "id": "419029e0",
   "metadata": {
    "scrolled": true
   },
   "outputs": [],
   "source": [
    "# What pixel size does this imply for five pixels per beam?\n",
    "0.024588/5.0"
   ]
  },
  {
   "cell_type": "code",
   "execution_count": null,
   "id": "8f7edf9f",
   "metadata": {},
   "outputs": [],
   "source": [
    "# What pixel size does this imply for six pixels per beam?\n",
    "0.024588/6.0"
   ]
  },
  {
   "cell_type": "markdown",
   "id": "c221c71f",
   "metadata": {},
   "source": [
    "What happens if I use the points_per_fov value??"
   ]
  },
  {
   "cell_type": "code",
   "execution_count": null,
   "id": "5b784163",
   "metadata": {
    "scrolled": false
   },
   "outputs": [],
   "source": [
    "idx2 = cycle7tab['member_ous_uid'] == 'uid://A001/X1465/Xc05'\n",
    "cycle7tab['proposal_id','member_ous_uid','s_fov','s_resolution','points_per_fov','spw_nchan','is_mosaic'][idx2]"
   ]
  },
  {
   "cell_type": "code",
   "execution_count": null,
   "id": "a920c9d9",
   "metadata": {},
   "outputs": [],
   "source": [
    "# imsize from points per fov value\n",
    "np.sqrt(1100957.4775723005)*5.0"
   ]
  },
  {
   "cell_type": "markdown",
   "id": "7a5ecde0",
   "metadata": {},
   "source": [
    "Matches imsize above."
   ]
  },
  {
   "cell_type": "markdown",
   "id": "8ae4e2a5",
   "metadata": {},
   "source": [
    "So it looks like the FOV is the difference:"
   ]
  },
  {
   "cell_type": "code",
   "execution_count": null,
   "id": "d2239c08",
   "metadata": {},
   "outputs": [],
   "source": [
    "(47.25/25.76)*5250"
   ]
  },
  {
   "cell_type": "markdown",
   "id": "de56434c",
   "metadata": {},
   "source": [
    "Still an underestimate, but closer."
   ]
  },
  {
   "cell_type": "markdown",
   "id": "18c981e7",
   "metadata": {},
   "source": [
    "The pipeline calculates the primary beam as\n",
    "\n",
    "primary_beam_size = \\\n",
    "            1.22 \\\n",
    "            * cqa.getvalue(cqa.convert(cqa.constants('c'), 'm/s')) \\\n",
    "            / ref_frequency \\\n",
    "            / smallest_diameter \\\n",
    "            * (180.0 * 3600.0 / math.pi)"
   ]
  },
  {
   "cell_type": "code",
   "execution_count": null,
   "id": "6e5bccad",
   "metadata": {
    "scrolled": true
   },
   "outputs": [],
   "source": [
    "1.22 * ((const.c.value /  218.821e9) / (12.0) )*(180*3600.0/math.pi)"
   ]
  },
  {
   "cell_type": "markdown",
   "id": "1dbd93ce",
   "metadata": {},
   "source": [
    "Pipeline calculation is here:\n",
    "\n",
    "beam_radius_v = primary_beam\n",
    "\n",
    "beam_fwhp = 1.12 / 1.22 * beam_radius_v\n",
    "\n",
    "nxpix = int(utils.round_half_up(1.1 * beam_fwhp * math.sqrt(-math.log(sfpblimit) / math.log(2.)) / cellx_v))"
   ]
  },
  {
   "cell_type": "code",
   "execution_count": null,
   "id": "6184df72",
   "metadata": {},
   "outputs": [],
   "source": [
    "(1.12/1.22)* 28.73"
   ]
  },
  {
   "cell_type": "code",
   "execution_count": null,
   "id": "53c56ee1",
   "metadata": {},
   "outputs": [],
   "source": [
    "1.1 * 26.38 * math.sqrt(-math.log(0.2) / math.log(2.0))"
   ]
  },
  {
   "cell_type": "markdown",
   "id": "88c7da3a",
   "metadata": {},
   "source": [
    "Okay. This is the value I get above. \n",
    "\n",
    "What's the constant??"
   ]
  },
  {
   "cell_type": "code",
   "execution_count": null,
   "id": "7859a0aa",
   "metadata": {},
   "outputs": [],
   "source": [
    "1.1* (1.12/1.22)*math.sqrt(-math.log(0.2) / math.log(2.0))"
   ]
  },
  {
   "cell_type": "code",
   "execution_count": null,
   "id": "c1aa13c6",
   "metadata": {
    "scrolled": true
   },
   "outputs": [],
   "source": [
    "1.54*25.8"
   ]
  },
  {
   "cell_type": "code",
   "execution_count": null,
   "id": "f478e396",
   "metadata": {},
   "outputs": [],
   "source": [
    "40.0/0.0040"
   ]
  },
  {
   "cell_type": "code",
   "execution_count": null,
   "id": "5d9865d0",
   "metadata": {},
   "outputs": [],
   "source": []
  }
 ],
 "metadata": {
  "kernelspec": {
   "display_name": "Python 3 (ipykernel)",
   "language": "python",
   "name": "python3"
  },
  "language_info": {
   "codemirror_mode": {
    "name": "ipython",
    "version": 3
   },
   "file_extension": ".py",
   "mimetype": "text/x-python",
   "name": "python",
   "nbconvert_exporter": "python",
   "pygments_lexer": "ipython3",
   "version": "3.8.18"
  }
 },
 "nbformat": 4,
 "nbformat_minor": 5
}
