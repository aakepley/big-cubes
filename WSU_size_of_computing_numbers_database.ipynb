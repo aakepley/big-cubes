{
 "cells": [
  {
   "cell_type": "markdown",
   "id": "e1660869",
   "metadata": {},
   "source": [
    "# WSU size of computing estimate numbers (Database)"
   ]
  },
  {
   "cell_type": "markdown",
   "id": "a64ed1f4",
   "metadata": {},
   "source": [
    "The goal here is to put together some numbers on the type of projects ALMA would process as part of the WSU to be used to produce a total size of computing estimate.\n",
    "\n",
    "Amanda Kepley (20220921)"
   ]
  },
  {
   "cell_type": "code",
   "execution_count": 1,
   "id": "cf32bfed",
   "metadata": {},
   "outputs": [],
   "source": [
    "import numpy as np\n",
    "import astropy.units as u\n",
    "from ast import literal_eval\n",
    "from astropy import constants as const\n",
    "from matplotlib import pyplot as plt, ticker as mticker\n",
    "import re\n",
    "import math\n",
    "from astropy.table import Table, QTable, vstack, join, unique\n",
    "from astropy import constants as const\n",
    "from importlib import reload\n",
    "import pickle\n",
    "import pandas as pd"
   ]
  },
  {
   "cell_type": "markdown",
   "id": "4e97564b",
   "metadata": {},
   "source": [
    "## Read in massaged cycle 7 and 8 data <a id=\"readin\"></a>"
   ]
  },
  {
   "cell_type": "code",
   "execution_count": 2,
   "id": "a94ccacf",
   "metadata": {},
   "outputs": [],
   "source": [
    "cycle7tab = Table.read('data/result_table_cycle7_with_calc_values_20220923.csv')\n",
    "cycle8tab = Table.read('data/result_table_cycle8_with_calc_values_20220923.csv')"
   ]
  },
  {
   "cell_type": "code",
   "execution_count": 3,
   "id": "332cedea",
   "metadata": {
    "scrolled": true
   },
   "outputs": [
    {
     "data": {
      "text/plain": [
       "<TableColumns names=('obs_publisher_did','facility_name','instrument_name','obs_id','dataproduct_type','calib_level','target_name','s_ra','s_dec','s_fov','s_resolution','t_min','t_max','t_exptime','t_resolution','em_min','em_max','em_res_power','pol_states','o_ucd','access_url','access_format','proposal_id','data_rights','gal_longitude','gal_latitude','band_list','em_resolution','bandwidth','antenna_arrays','is_mosaic','spatial_resolution','frequency_support','frequency','velocity_resolution','publication_year','proposal_abstract','schedblock_name','sensitivity_10kms','cont_sensitivity_bandwidth','pwv','group_ous_uid','member_ous_uid','asdm_uid','type','scan_intent','science_observation','spatial_scale_max','qa2_passed','science_keyword','scientific_category','collections','array','points_per_fov','spw_freq','spw_specwidth','spw_nchan','pb','cell','imsize','spw_nchan_max','mitigated','failed_mitigation_nbin1','failed_mitigation_nbin2','ntarget')>"
      ]
     },
     "execution_count": 3,
     "metadata": {},
     "output_type": "execute_result"
    }
   ],
   "source": [
    "cycle7tab.columns"
   ]
  },
  {
   "cell_type": "markdown",
   "id": "e6d7681d",
   "metadata": {},
   "source": [
    "## Put together WSU mous data base <a id=\"wsu_db\"></a>"
   ]
  },
  {
   "cell_type": "code",
   "execution_count": 4,
   "id": "eb5b7583",
   "metadata": {},
   "outputs": [],
   "source": [
    "import wsu_db"
   ]
  },
  {
   "cell_type": "code",
   "execution_count": 5,
   "id": "b688fb4a",
   "metadata": {},
   "outputs": [
    {
     "data": {
      "text/plain": [
       "<module 'wsu_db' from '/Users/akepley/Dropbox/Support/naasc/WSU/big_cubes/wsu_db.py'>"
      ]
     },
     "execution_count": 5,
     "metadata": {},
     "output_type": "execute_result"
    }
   ],
   "source": [
    "reload(wsu_db)"
   ]
  },
  {
   "cell_type": "code",
   "execution_count": 6,
   "id": "30f8e60e",
   "metadata": {
    "scrolled": false
   },
   "outputs": [],
   "source": [
    "result = wsu_db.create_database(cycle7tab)"
   ]
  },
  {
   "cell_type": "code",
   "execution_count": 7,
   "id": "614c2066",
   "metadata": {},
   "outputs": [
    {
     "data": {
      "text/plain": [
       "<TableColumns names=('mous','proposal_id','array','nant_typical','nant_array','nant_all','band','ntarget','target_name','s_fov','s_resolution','mosaic','imsize','pb','cell','blc_npol','blc_nspw','blc_specwidth','blc_freq','blc_velres','blc_nchan_agg','blc_nchan_max','blc_bandwidth_max','blc_bandwidth_agg','wsu_freq','wsu_npol','wsu_bandwidth_early','wsu_bandwidth_later_2x','wsu_bandwidth_later_4x','wsu_bandwidth_spw','wsu_nspw_early','wsu_nspw_later_2x','wsu_nspw_later_4x','wsu_specwidth_finest','wsu_chanavg_finest','wsu_velres_finest','wsu_specwidth_stepped','wsu_chanavg_stepped','wsu_velres_stepped','wsu_specwidth_stepped2','wsu_chanavg_stepped2','wsu_velres_stepped2','wsu_tint','wsu_nchan_spw_finest','wsu_nchan_spw_stepped','wsu_nchan_spw_stepped2','wsu_frac_bw_early','wsu_frac_bw_later_2x','wsu_frac_bw_later_4x','wsu_frac_bw_spw','nbase_typical','nbase_array','nbase_all')>"
      ]
     },
     "execution_count": 7,
     "metadata": {},
     "output_type": "execute_result"
    }
   ],
   "source": [
    "result.columns"
   ]
  },
  {
   "cell_type": "code",
   "execution_count": 8,
   "id": "6a3f4731",
   "metadata": {},
   "outputs": [],
   "source": [
    "result_c8 = wsu_db.create_database(cycle8tab)"
   ]
  },
  {
   "cell_type": "code",
   "execution_count": 9,
   "id": "9b0357a5",
   "metadata": {},
   "outputs": [],
   "source": [
    "# save data bases if what's desired\n",
    "#result.write('data/cycle7wsu_20221003.fits',overwrite=True)\n",
    "#result_c8.write('data/cycle8wsu_20221003.fits',overwrite=True)\n",
    "result.write('data/cycle7wsu_20230103.fits',overwrite=True)\n",
    "result_c8.write('data/cycle8wsu_20230103.fits',overwrite=True)"
   ]
  },
  {
   "cell_type": "code",
   "execution_count": 10,
   "id": "b978430c",
   "metadata": {
    "scrolled": true
   },
   "outputs": [
    {
     "data": {
      "text/plain": [
       "<TableColumns names=('mous','proposal_id','array','nant_typical','nant_array','nant_all','band','ntarget','target_name','s_fov','s_resolution','mosaic','imsize','pb','cell','blc_npol','blc_nspw','blc_specwidth','blc_freq','blc_velres','blc_nchan_agg','blc_nchan_max','blc_bandwidth_max','blc_bandwidth_agg','wsu_freq','wsu_npol','wsu_bandwidth_early','wsu_bandwidth_later_2x','wsu_bandwidth_later_4x','wsu_bandwidth_spw','wsu_nspw_early','wsu_nspw_later_2x','wsu_nspw_later_4x','wsu_specwidth_finest','wsu_chanavg_finest','wsu_velres_finest','wsu_specwidth_stepped','wsu_chanavg_stepped','wsu_velres_stepped','wsu_specwidth_stepped2','wsu_chanavg_stepped2','wsu_velres_stepped2','wsu_tint','wsu_nchan_spw_finest','wsu_nchan_spw_stepped','wsu_nchan_spw_stepped2','wsu_frac_bw_early','wsu_frac_bw_later_2x','wsu_frac_bw_later_4x','wsu_frac_bw_spw','nbase_typical','nbase_array','nbase_all')>"
      ]
     },
     "execution_count": 10,
     "metadata": {},
     "output_type": "execute_result"
    }
   ],
   "source": [
    "result.columns"
   ]
  },
  {
   "cell_type": "code",
   "execution_count": 11,
   "id": "e2f17896",
   "metadata": {
    "scrolled": true
   },
   "outputs": [
    {
     "data": {
      "text/plain": [
       "11519"
      ]
     },
     "execution_count": 11,
     "metadata": {},
     "output_type": "execute_result"
    }
   ],
   "source": [
    "len(result)"
   ]
  },
  {
   "cell_type": "code",
   "execution_count": 12,
   "id": "27faf1af",
   "metadata": {},
   "outputs": [
    {
     "data": {
      "text/plain": [
       "<TableColumns names=('mous','proposal_id','array','nant_typical','nant_array','nant_all','band','ntarget','target_name','s_fov','s_resolution','mosaic','imsize','pb','cell','blc_npol','blc_nspw','blc_specwidth','blc_freq','blc_velres','blc_nchan_agg','blc_nchan_max','blc_bandwidth_max','blc_bandwidth_agg','wsu_freq','wsu_npol','wsu_bandwidth_early','wsu_bandwidth_later_2x','wsu_bandwidth_later_4x','wsu_bandwidth_spw','wsu_nspw_early','wsu_nspw_later_2x','wsu_nspw_later_4x','wsu_specwidth_finest','wsu_chanavg_finest','wsu_velres_finest','wsu_specwidth_stepped','wsu_chanavg_stepped','wsu_velres_stepped','wsu_specwidth_stepped2','wsu_chanavg_stepped2','wsu_velres_stepped2','wsu_tint','wsu_nchan_spw_finest','wsu_nchan_spw_stepped','wsu_nchan_spw_stepped2','wsu_frac_bw_early','wsu_frac_bw_later_2x','wsu_frac_bw_later_4x','wsu_frac_bw_spw','nbase_typical','nbase_array','nbase_all')>"
      ]
     },
     "execution_count": 12,
     "metadata": {},
     "output_type": "execute_result"
    }
   ],
   "source": [
    "result_c8.columns"
   ]
  },
  {
   "cell_type": "code",
   "execution_count": 13,
   "id": "33e3cf9a",
   "metadata": {},
   "outputs": [
    {
     "data": {
      "text/plain": [
       "10843"
      ]
     },
     "execution_count": 13,
     "metadata": {},
     "output_type": "execute_result"
    }
   ],
   "source": [
    "len(result_c8)"
   ]
  },
  {
   "cell_type": "markdown",
   "id": "0b7a45b8",
   "metadata": {},
   "source": [
    "## Adding in calibration TOS information"
   ]
  },
  {
   "cell_type": "markdown",
   "id": "e2c606b1",
   "metadata": {},
   "source": [
    "This is needed to get the total number of visibilities and the data volume. Also necessary to start refine the data rates."
   ]
  },
  {
   "cell_type": "code",
   "execution_count": 14,
   "id": "615de8c1",
   "metadata": {},
   "outputs": [],
   "source": [
    "import large_cubes\n",
    "from importlib import reload"
   ]
  },
  {
   "cell_type": "code",
   "execution_count": 15,
   "id": "1c0da7e7",
   "metadata": {
    "scrolled": false
   },
   "outputs": [
    {
     "name": "stdout",
     "output_type": "stream",
     "text": [
      "Intent not recognized: BANDPASS DIFFGAIN FLUX PHASE WVR\n",
      "Intent not recognized: BANDPASS DIFFGAIN FLUX PHASE WVR\n",
      "Intent not recognized: BANDPASS DIFFGAIN FLUX PHASE WVR\n",
      "Intent not recognized: DIFFGAIN PHASE WVR\n",
      "Intent not recognized: DIFFGAIN PHASE WVR\n",
      "Intent not recognized: DIFFGAIN PHASE WVR\n",
      "Intent not recognized: DIFFGAIN PHASE WVR\n",
      "Intent not recognized: DIFFGAIN PHASE WVR\n",
      "Intent not recognized: BANDPASS DIFFGAIN FLUX PHASE WVR\n",
      "Intent not recognized: BANDPASS DIFFGAIN FLUX PHASE WVR\n",
      "Intent not recognized: BANDPASS PHASE WVR\n",
      "Intent not recognized: BANDPASS PHASE WVR\n",
      "project_id list greater than 1. This shouldn't happen. MOUS: uid://A002/X445835/X6\n",
      "made it to table creation\n"
     ]
    }
   ],
   "source": [
    "reload(large_cubes)\n",
    "tos_db = large_cubes.calc_time_on_source('data/project_mous_band_array_eb_size___source_intent_inttime')"
   ]
  },
  {
   "cell_type": "code",
   "execution_count": 16,
   "id": "2674c285",
   "metadata": {},
   "outputs": [
    {
     "data": {
      "text/plain": [
       "<TableColumns names=('proposal_id','mous','band','array','bp_time_s','flux_time_s','phase_time_s','pol_time_s','check_time_s','target_time_s','target_name','target_time_tot_s','ntarget','time_tot_s','cal_time_s')>"
      ]
     },
     "execution_count": 16,
     "metadata": {},
     "output_type": "execute_result"
    }
   ],
   "source": [
    "tos_db.columns"
   ]
  },
  {
   "cell_type": "code",
   "execution_count": 17,
   "id": "23611455",
   "metadata": {},
   "outputs": [
    {
     "data": {
      "text/plain": [
       "22430"
      ]
     },
     "execution_count": 17,
     "metadata": {},
     "output_type": "execute_result"
    }
   ],
   "source": [
    "len(tos_db)"
   ]
  },
  {
   "cell_type": "code",
   "execution_count": 18,
   "id": "e3ebfbe3",
   "metadata": {},
   "outputs": [],
   "source": [
    "tos_db.write('data/tos_db.ecsv',overwrite=True)"
   ]
  },
  {
   "cell_type": "code",
   "execution_count": 19,
   "id": "fed6d820",
   "metadata": {},
   "outputs": [
    {
     "data": {
      "text/plain": [
       "<module 'wsu_db' from '/Users/akepley/Dropbox/Support/naasc/WSU/big_cubes/wsu_db.py'>"
      ]
     },
     "execution_count": 19,
     "metadata": {},
     "output_type": "execute_result"
    }
   ],
   "source": [
    "reload(wsu_db)"
   ]
  },
  {
   "cell_type": "code",
   "execution_count": 85,
   "id": "443cfa0d",
   "metadata": {},
   "outputs": [],
   "source": [
    "result_tos = wsu_db.add_tos_to_db(result,tos_db)"
   ]
  },
  {
   "cell_type": "code",
   "execution_count": 86,
   "id": "8bf3da33",
   "metadata": {},
   "outputs": [],
   "source": [
    "result_c8_tos = wsu_db.add_tos_to_db(result_c8,tos_db)"
   ]
  },
  {
   "cell_type": "code",
   "execution_count": 87,
   "id": "671ca56d",
   "metadata": {
    "scrolled": true
   },
   "outputs": [],
   "source": [
    "result_tos.write('data/result_tos.ecsv',overwrite=True)\n",
    "result_c8_tos.write('data/result_c8_tos.ecsv',overwrite=True)"
   ]
  },
  {
   "cell_type": "code",
   "execution_count": 78,
   "id": "f787dde9",
   "metadata": {
    "scrolled": false
   },
   "outputs": [
    {
     "data": {
      "text/plain": [
       "<TableColumns names=('mous','proposal_id','array','nant_typical','nant_array','nant_all','band','ntarget','target_name','s_fov','s_resolution','mosaic','imsize','pb','cell','blc_npol','blc_nspw','blc_specwidth','blc_freq','blc_velres','blc_nchan_agg','blc_nchan_max','blc_bandwidth_max','blc_bandwidth_agg','wsu_freq','wsu_npol','wsu_bandwidth_early','wsu_bandwidth_later_2x','wsu_bandwidth_later_4x','wsu_bandwidth_spw','wsu_nspw_early','wsu_nspw_later_2x','wsu_nspw_later_4x','wsu_specwidth_finest','wsu_chanavg_finest','wsu_velres_finest','wsu_specwidth_stepped','wsu_chanavg_stepped','wsu_velres_stepped','wsu_specwidth_stepped2','wsu_chanavg_stepped2','wsu_velres_stepped2','wsu_tint','wsu_nchan_spw_finest','wsu_nchan_spw_stepped','wsu_nchan_spw_stepped2','wsu_frac_bw_early','wsu_frac_bw_later_2x','wsu_frac_bw_later_4x','wsu_frac_bw_spw','nbase_typical','nbase_array','nbase_all','bp_time_s','flux_time_s','phase_time_s','pol_time_s','check_time_s','target_time_s','target_time_tot_s','time_tot_s','cal_time_s')>"
      ]
     },
     "execution_count": 78,
     "metadata": {},
     "output_type": "execute_result"
    }
   ],
   "source": [
    "result_tos.columns"
   ]
  },
  {
   "cell_type": "code",
   "execution_count": 79,
   "id": "4e34efd9",
   "metadata": {},
   "outputs": [
    {
     "data": {
      "text/plain": [
       "11519"
      ]
     },
     "execution_count": 79,
     "metadata": {},
     "output_type": "execute_result"
    }
   ],
   "source": [
    "len(result_tos)"
   ]
  },
  {
   "cell_type": "code",
   "execution_count": 80,
   "id": "0c352860",
   "metadata": {},
   "outputs": [
    {
     "data": {
      "text/plain": [
       "10843"
      ]
     },
     "execution_count": 80,
     "metadata": {},
     "output_type": "execute_result"
    }
   ],
   "source": [
    "len(result_c8_tos)"
   ]
  },
  {
   "cell_type": "markdown",
   "id": "74e4c13a",
   "metadata": {},
   "source": [
    "## Adding in data rates"
   ]
  },
  {
   "cell_type": "code",
   "execution_count": 88,
   "id": "600af55e",
   "metadata": {},
   "outputs": [
    {
     "data": {
      "text/plain": [
       "<module 'wsu_db' from '/Users/akepley/Dropbox/Support/naasc/WSU/big_cubes/wsu_db.py'>"
      ]
     },
     "execution_count": 88,
     "metadata": {},
     "output_type": "execute_result"
    }
   ],
   "source": [
    "reload(large_cubes)\n",
    "reload(wsu_db)"
   ]
  },
  {
   "cell_type": "code",
   "execution_count": 89,
   "id": "e56ca026",
   "metadata": {},
   "outputs": [
    {
     "data": {
      "text/plain": [
       "11519"
      ]
     },
     "execution_count": 89,
     "metadata": {},
     "output_type": "execute_result"
    }
   ],
   "source": [
    "len(result_tos)"
   ]
  },
  {
   "cell_type": "code",
   "execution_count": 90,
   "id": "a834b556",
   "metadata": {
    "scrolled": false
   },
   "outputs": [
    {
     "name": "stdout",
     "output_type": "stream",
     "text": [
      "11519\n"
     ]
    }
   ],
   "source": [
    "wsu_db.add_rates_to_db(result_tos)"
   ]
  },
  {
   "cell_type": "code",
   "execution_count": 91,
   "id": "7a1b675f",
   "metadata": {
    "scrolled": true
   },
   "outputs": [
    {
     "data": {
      "text/plain": [
       "['mous',\n",
       " 'proposal_id',\n",
       " 'array',\n",
       " 'nant_typical',\n",
       " 'nant_array',\n",
       " 'nant_all',\n",
       " 'band',\n",
       " 'ntarget',\n",
       " 'target_name',\n",
       " 's_fov',\n",
       " 's_resolution',\n",
       " 'mosaic',\n",
       " 'imsize',\n",
       " 'pb',\n",
       " 'cell',\n",
       " 'blc_npol',\n",
       " 'blc_nspw',\n",
       " 'blc_specwidth',\n",
       " 'blc_freq',\n",
       " 'blc_velres',\n",
       " 'blc_nchan_agg',\n",
       " 'blc_nchan_max',\n",
       " 'blc_bandwidth_max',\n",
       " 'blc_bandwidth_agg',\n",
       " 'wsu_freq',\n",
       " 'wsu_npol',\n",
       " 'wsu_bandwidth_early',\n",
       " 'wsu_bandwidth_later_2x',\n",
       " 'wsu_bandwidth_later_4x',\n",
       " 'wsu_bandwidth_spw',\n",
       " 'wsu_nspw_early',\n",
       " 'wsu_nspw_later_2x',\n",
       " 'wsu_nspw_later_4x',\n",
       " 'wsu_specwidth_finest',\n",
       " 'wsu_chanavg_finest',\n",
       " 'wsu_velres_finest',\n",
       " 'wsu_specwidth_stepped',\n",
       " 'wsu_chanavg_stepped',\n",
       " 'wsu_velres_stepped',\n",
       " 'wsu_specwidth_stepped2',\n",
       " 'wsu_chanavg_stepped2',\n",
       " 'wsu_velres_stepped2',\n",
       " 'wsu_tint',\n",
       " 'wsu_nchan_spw_finest',\n",
       " 'wsu_nchan_spw_stepped',\n",
       " 'wsu_nchan_spw_stepped2',\n",
       " 'wsu_frac_bw_early',\n",
       " 'wsu_frac_bw_later_2x',\n",
       " 'wsu_frac_bw_later_4x',\n",
       " 'wsu_frac_bw_spw',\n",
       " 'nbase_typical',\n",
       " 'nbase_array',\n",
       " 'nbase_all',\n",
       " 'bp_time_s',\n",
       " 'flux_time_s',\n",
       " 'phase_time_s',\n",
       " 'pol_time_s',\n",
       " 'check_time_s',\n",
       " 'target_time_s',\n",
       " 'target_time_tot_s',\n",
       " 'time_tot_s',\n",
       " 'cal_time_s',\n",
       " 'mfssize',\n",
       " 'wsu_cubesize_stepped2',\n",
       " 'wsu_productsize_early_stepped2',\n",
       " 'wsu_datarate_early_stepped2_typical',\n",
       " 'wsu_visrate_early_stepped2_typical',\n",
       " 'wsu_datavol_early_stepped2_typical_target',\n",
       " 'wsu_datavol_early_stepped2_typical_target_tot',\n",
       " 'wsu_datavol_early_stepped2_typical_cal',\n",
       " 'wsu_datavol_early_stepped2_typical_total',\n",
       " 'wsu_nvis_early_stepped2_typical_target',\n",
       " 'wsu_nvis_early_stepped2_typical_target_tot',\n",
       " 'wsu_nvis_early_stepped2_typical_cal',\n",
       " 'wsu_nvis_early_stepped2_typical_total',\n",
       " 'wsu_productsize_later_2x_stepped2',\n",
       " 'wsu_datarate_later_2x_stepped2_typical',\n",
       " 'wsu_visrate_later_2x_stepped2_typical',\n",
       " 'wsu_datavol_later_2x_stepped2_typical_target',\n",
       " 'wsu_datavol_later_2x_stepped2_typical_target_tot',\n",
       " 'wsu_datavol_later_2x_stepped2_typical_cal',\n",
       " 'wsu_datavol_later_2x_stepped2_typical_total',\n",
       " 'wsu_nvis_later_2x_stepped2_typical_target',\n",
       " 'wsu_nvis_later_2x_stepped2_typical_target_tot',\n",
       " 'wsu_nvis_later_2x_stepped2_typical_cal',\n",
       " 'wsu_nvis_later_2x_stepped2_typical_total',\n",
       " 'wsu_productsize_later_4x_stepped2',\n",
       " 'wsu_datarate_later_4x_stepped2_typical',\n",
       " 'wsu_visrate_later_4x_stepped2_typical',\n",
       " 'wsu_datavol_later_4x_stepped2_typical_target',\n",
       " 'wsu_datavol_later_4x_stepped2_typical_target_tot',\n",
       " 'wsu_datavol_later_4x_stepped2_typical_cal',\n",
       " 'wsu_datavol_later_4x_stepped2_typical_total',\n",
       " 'wsu_nvis_later_4x_stepped2_typical_target',\n",
       " 'wsu_nvis_later_4x_stepped2_typical_target_tot',\n",
       " 'wsu_nvis_later_4x_stepped2_typical_cal',\n",
       " 'wsu_nvis_later_4x_stepped2_typical_total']"
      ]
     },
     "execution_count": 91,
     "metadata": {},
     "output_type": "execute_result"
    }
   ],
   "source": [
    "result_tos.keys()"
   ]
  },
  {
   "cell_type": "code",
   "execution_count": 92,
   "id": "448aca8f",
   "metadata": {},
   "outputs": [
    {
     "name": "stdout",
     "output_type": "stream",
     "text": [
      "10843\n"
     ]
    }
   ],
   "source": [
    "wsu_db.add_rates_to_db(result_c8_tos)"
   ]
  },
  {
   "cell_type": "code",
   "execution_count": 93,
   "id": "8e2319b5",
   "metadata": {},
   "outputs": [
    {
     "data": {
      "text/latex": [
       "$[4959.455,~0.8111824,~17.82569,~\\dots,~0.69218592,~0.68717008,~0.4510782] \\; \\mathrm{}$"
      ],
      "text/plain": [
       "<Quantity [4.95945504e+03, 8.11182400e-01, 1.78256900e+01, ...,\n",
       "           6.92185920e-01, 6.87170080e-01, 4.51078200e-01]>"
      ]
     },
     "execution_count": 93,
     "metadata": {},
     "output_type": "execute_result"
    }
   ],
   "source": [
    "result_c8_tos['wsu_nvis_early_stepped2_typical_total']"
   ]
  },
  {
   "cell_type": "code",
   "execution_count": 94,
   "id": "62e1f8a4",
   "metadata": {},
   "outputs": [
    {
     "data": {
      "text/latex": [
       "$80.472236 \\; \\mathrm{Tbyte}$"
      ],
      "text/plain": [
       "<Quantity 80.47223552 Tbyte>"
      ]
     },
     "execution_count": 94,
     "metadata": {},
     "output_type": "execute_result"
    }
   ],
   "source": [
    "np.max(result_c8_tos['wsu_productsize_early_stepped2'].to(u.TB))"
   ]
  },
  {
   "cell_type": "code",
   "execution_count": 96,
   "id": "412a1ac6",
   "metadata": {
    "scrolled": false
   },
   "outputs": [
    {
     "data": {
      "text/latex": [
       "$4.4355913 \\; \\mathrm{Pbyte}$"
      ],
      "text/plain": [
       "<Quantity 4.43559133 Pbyte>"
      ]
     },
     "execution_count": 96,
     "metadata": {},
     "output_type": "execute_result"
    }
   ],
   "source": [
    "np.sum(result_c8_tos['wsu_productsize_later_2x_stepped2'].to(u.PB))"
   ]
  },
  {
   "cell_type": "code",
   "execution_count": 97,
   "id": "108644dd",
   "metadata": {},
   "outputs": [
    {
     "data": {
      "text/latex": [
       "$8.8711827 \\; \\mathrm{Pbyte}$"
      ],
      "text/plain": [
       "<Quantity 8.87118265 Pbyte>"
      ]
     },
     "execution_count": 97,
     "metadata": {},
     "output_type": "execute_result"
    }
   ],
   "source": [
    "np.sum(result_c8_tos['wsu_productsize_later_4x_stepped2'].to(u.PB))"
   ]
  },
  {
   "cell_type": "markdown",
   "id": "49b7fc9e",
   "metadata": {},
   "source": [
    "# creating per mous version of data base"
   ]
  },
  {
   "cell_type": "markdown",
   "id": "e6dde6dd",
   "metadata": {},
   "source": [
    "This is going to be more useful for the DMGs as well as for combining with mitigation information (which is per MOUS). But I don't think the fractions of time are going to be useful, so I'll leave them off and recalculate.\n",
    "\n",
    "I think that the path forward uses the group_by function and aggregation to get values."
   ]
  },
  {
   "cell_type": "code",
   "execution_count": 98,
   "id": "b2a55486",
   "metadata": {},
   "outputs": [
    {
     "data": {
      "text/plain": [
       "<module 'wsu_db' from '/Users/akepley/Dropbox/Support/naasc/WSU/big_cubes/wsu_db.py'>"
      ]
     },
     "execution_count": 98,
     "metadata": {},
     "output_type": "execute_result"
    }
   ],
   "source": [
    "reload(wsu_db)"
   ]
  },
  {
   "cell_type": "code",
   "execution_count": 99,
   "id": "449ad98c",
   "metadata": {},
   "outputs": [
    {
     "ename": "AttributeError",
     "evalue": "'Quantity' object has no 'groups' member",
     "output_type": "error",
     "traceback": [
      "\u001b[0;31m---------------------------------------------------------------------------\u001b[0m",
      "\u001b[0;31mAttributeError\u001b[0m                            Traceback (most recent call last)",
      "\u001b[0;32m<ipython-input-99-377c082fbf82>\u001b[0m in \u001b[0;36m<module>\u001b[0;34m\u001b[0m\n\u001b[0;32m----> 1\u001b[0;31m \u001b[0mtest\u001b[0m \u001b[0;34m=\u001b[0m \u001b[0mwsu_db\u001b[0m\u001b[0;34m.\u001b[0m\u001b[0mcreate_per_mous_db\u001b[0m\u001b[0;34m(\u001b[0m\u001b[0mresult_tos\u001b[0m\u001b[0;34m)\u001b[0m\u001b[0;34m\u001b[0m\u001b[0;34m\u001b[0m\u001b[0m\n\u001b[0m",
      "\u001b[0;32m~/Dropbox/Support/naasc/WSU/big_cubes/wsu_db.py\u001b[0m in \u001b[0;36mcreate_per_mous_db\u001b[0;34m(mydb)\u001b[0m\n\u001b[1;32m    695\u001b[0m                        'wsu_visrate_early_stepped2','wsu_visrate_later_2x_stepped2','wsu_visrate_later_4x_stepped2']:\n\u001b[1;32m    696\u001b[0m \u001b[0;34m\u001b[0m\u001b[0m\n\u001b[0;32m--> 697\u001b[0;31m             \u001b[0mnewdb_dict\u001b[0m\u001b[0;34m[\u001b[0m\u001b[0mmykey\u001b[0m\u001b[0;34m]\u001b[0m \u001b[0;34m=\u001b[0m \u001b[0mmydb_by_mous\u001b[0m\u001b[0;34m[\u001b[0m\u001b[0mmykey\u001b[0m\u001b[0;34m]\u001b[0m\u001b[0;34m.\u001b[0m\u001b[0mgroups\u001b[0m\u001b[0;34m.\u001b[0m\u001b[0maggregate\u001b[0m\u001b[0;34m(\u001b[0m\u001b[0mnp\u001b[0m\u001b[0;34m.\u001b[0m\u001b[0mmax\u001b[0m\u001b[0;34m)\u001b[0m\u001b[0;34m\u001b[0m\u001b[0;34m\u001b[0m\u001b[0m\n\u001b[0m\u001b[1;32m    698\u001b[0m \u001b[0;34m\u001b[0m\u001b[0m\n\u001b[1;32m    699\u001b[0m         \u001b[0;31m# take sum\u001b[0m\u001b[0;34m\u001b[0m\u001b[0;34m\u001b[0m\u001b[0;34m\u001b[0m\u001b[0m\n",
      "\u001b[0;32m~/opt/anaconda3/lib/python3.8/site-packages/astropy/units/quantity.py\u001b[0m in \u001b[0;36m__getattr__\u001b[0;34m(self, attr)\u001b[0m\n\u001b[1;32m    839\u001b[0m         \"\"\"\n\u001b[1;32m    840\u001b[0m         \u001b[0;32mif\u001b[0m \u001b[0;32mnot\u001b[0m \u001b[0mself\u001b[0m\u001b[0;34m.\u001b[0m\u001b[0m_include_easy_conversion_members\u001b[0m\u001b[0;34m:\u001b[0m\u001b[0;34m\u001b[0m\u001b[0;34m\u001b[0m\u001b[0m\n\u001b[0;32m--> 841\u001b[0;31m             raise AttributeError(\n\u001b[0m\u001b[1;32m    842\u001b[0m                 \"'{}' object has no '{}' member\".format(\n\u001b[1;32m    843\u001b[0m                     \u001b[0mself\u001b[0m\u001b[0;34m.\u001b[0m\u001b[0m__class__\u001b[0m\u001b[0;34m.\u001b[0m\u001b[0m__name__\u001b[0m\u001b[0;34m,\u001b[0m\u001b[0;34m\u001b[0m\u001b[0;34m\u001b[0m\u001b[0m\n",
      "\u001b[0;31mAttributeError\u001b[0m: 'Quantity' object has no 'groups' member"
     ]
    }
   ],
   "source": [
    "test = wsu_db.create_per_mous_db(result_tos)"
   ]
  },
  {
   "cell_type": "code",
   "execution_count": 100,
   "id": "cf92922d",
   "metadata": {},
   "outputs": [
    {
     "name": "stdout",
     "output_type": "stream",
     "text": [
      "> \u001b[0;32m/Users/akepley/opt/anaconda3/lib/python3.8/site-packages/astropy/units/quantity.py\u001b[0m(841)\u001b[0;36m__getattr__\u001b[0;34m()\u001b[0m\n",
      "\u001b[0;32m    839 \u001b[0;31m        \"\"\"\n",
      "\u001b[0m\u001b[0;32m    840 \u001b[0;31m        \u001b[0;32mif\u001b[0m \u001b[0;32mnot\u001b[0m \u001b[0mself\u001b[0m\u001b[0;34m.\u001b[0m\u001b[0m_include_easy_conversion_members\u001b[0m\u001b[0;34m:\u001b[0m\u001b[0;34m\u001b[0m\u001b[0;34m\u001b[0m\u001b[0m\n",
      "\u001b[0m\u001b[0;32m--> 841 \u001b[0;31m            raise AttributeError(\n",
      "\u001b[0m\u001b[0;32m    842 \u001b[0;31m                \"'{}' object has no '{}' member\".format(\n",
      "\u001b[0m\u001b[0;32m    843 \u001b[0;31m                    \u001b[0mself\u001b[0m\u001b[0;34m.\u001b[0m\u001b[0m__class__\u001b[0m\u001b[0;34m.\u001b[0m\u001b[0m__name__\u001b[0m\u001b[0;34m,\u001b[0m\u001b[0;34m\u001b[0m\u001b[0;34m\u001b[0m\u001b[0m\n",
      "\u001b[0m\n",
      "ipdb> up\n",
      "> \u001b[0;32m/Users/akepley/Dropbox/Support/naasc/WSU/big_cubes/wsu_db.py\u001b[0m(697)\u001b[0;36mcreate_per_mous_db\u001b[0;34m()\u001b[0m\n",
      "\u001b[0;32m    695 \u001b[0;31m                       'wsu_visrate_early_stepped2','wsu_visrate_later_2x_stepped2','wsu_visrate_later_4x_stepped2']:\n",
      "\u001b[0m\u001b[0;32m    696 \u001b[0;31m\u001b[0;34m\u001b[0m\u001b[0m\n",
      "\u001b[0m\u001b[0;32m--> 697 \u001b[0;31m            \u001b[0mnewdb_dict\u001b[0m\u001b[0;34m[\u001b[0m\u001b[0mmykey\u001b[0m\u001b[0;34m]\u001b[0m \u001b[0;34m=\u001b[0m \u001b[0mmydb_by_mous\u001b[0m\u001b[0;34m[\u001b[0m\u001b[0mmykey\u001b[0m\u001b[0;34m]\u001b[0m\u001b[0;34m.\u001b[0m\u001b[0mgroups\u001b[0m\u001b[0;34m.\u001b[0m\u001b[0maggregate\u001b[0m\u001b[0;34m(\u001b[0m\u001b[0mnp\u001b[0m\u001b[0;34m.\u001b[0m\u001b[0mmax\u001b[0m\u001b[0;34m)\u001b[0m\u001b[0;34m\u001b[0m\u001b[0;34m\u001b[0m\u001b[0m\n",
      "\u001b[0m\u001b[0;32m    698 \u001b[0;31m\u001b[0;34m\u001b[0m\u001b[0m\n",
      "\u001b[0m\u001b[0;32m    699 \u001b[0;31m        \u001b[0;31m# take sum\u001b[0m\u001b[0;34m\u001b[0m\u001b[0;34m\u001b[0m\u001b[0;34m\u001b[0m\u001b[0m\n",
      "\u001b[0m\n",
      "ipdb> mykey\n",
      "'s_fov'\n",
      "ipdb> mydb_by_mous[mykey].groups\n",
      "*** AttributeError: 'Quantity' object has no 'groups' member\n",
      "ipdb> (mydb_by_mous[mykey]).groups\n",
      "*** AttributeError: 'Quantity' object has no 'groups' member\n",
      "ipdb> mydb_mous\n",
      "*** NameError: name 'mydb_mous' is not defined\n",
      "ipdb> idx_grp\n",
      "array([    0,     1,     2, ..., 11516, 11517, 11518])\n",
      "ipdb> mydb_by_mous[mykey].groups\n",
      "*** AttributeError: 'Quantity' object has no 'groups' member\n",
      "ipdb> mydb_by_mous.groups\n",
      "<TableGroups indices=[    0     1     2 ... 11517 11518 11519]>\n",
      "ipdb> mydb_by_mous.groups.aggregate(np.max)\n"
     ]
    },
    {
     "name": "stderr",
     "output_type": "stream",
     "text": [
      "WARNING: Cannot aggregate column 'proposal_id' with type '<U14' [astropy.table.groups]\n",
      "WARNING: Cannot aggregate column 'array' with type '<U6' [astropy.table.groups]\n",
      "WARNING: Cannot aggregate column 'target_name' with type '<U35' [astropy.table.groups]\n"
     ]
    },
    {
     "name": "stdout",
     "output_type": "stream",
     "text": [
      "*** AttributeError: 'Quantity' object has no 'groups' member\n",
      "ipdb> mykey\n",
      "'s_fov'\n",
      "ipdb> mydb['s_fov']\n",
      "<Quantity [0.13050364, 0.13352957, 0.13357117, ..., 0.00720464, 0.01658833,\n",
      "           0.01658865] deg>\n",
      "ipdb> (mydb['s_fov'].value).groups.aggregate(np.max)\n",
      "*** AttributeError: 'numpy.ndarray' object has no attribute 'groups'\n",
      "ipdb> mydb['s_fov].groups\n",
      "*** SyntaxError: EOL while scanning string literal\n",
      "ipdb> mydb['s_fov'].groups\n",
      "*** AttributeError: 'Quantity' object has no 'groups' member\n",
      "ipdb> (mydb['s_fov']).groups\n",
      "*** AttributeError: 'Quantity' object has no 'groups' member\n",
      "ipdb> mydb_by_mous.groups.aggregate(np.max)\n",
      "*** AttributeError: 'Quantity' object has no 'groups' member\n",
      "ipdb> mydb_by_mous.groups.indices\n",
      "array([    0,     1,     2, ..., 11517, 11518, 11519])\n",
      "ipdb> mydb_by_mous['wsu_chanavg_finest'].groups.aggregate(np.max)\n",
      "<Column name='wsu_chanavg_finest' dtype='float64' length=2719>\n",
      "  71.0\n",
      "  82.0\n",
      "  82.0\n",
      "  82.0\n",
      "  82.0\n",
      "  82.0\n",
      "  82.0\n",
      "  82.0\n",
      "  83.0\n",
      "  83.0\n",
      "  83.0\n",
      "  83.0\n",
      "   ...\n",
      "  83.0\n",
      "2308.0\n",
      "  82.0\n",
      "  82.0\n",
      "  82.0\n",
      "2289.0\n",
      " 288.0\n",
      "  72.0\n",
      " 576.0\n",
      " 576.0\n",
      "2289.0\n",
      "2289.0\n",
      "ipdb> exit\n"
     ]
    }
   ],
   "source": [
    "%debug"
   ]
  },
  {
   "cell_type": "code",
   "execution_count": null,
   "id": "a0decf64",
   "metadata": {},
   "outputs": [],
   "source": []
  },
  {
   "cell_type": "markdown",
   "id": "8ffe2e7d",
   "metadata": {},
   "source": [
    "## Adding in current mitigation information"
   ]
  },
  {
   "cell_type": "code",
   "execution_count": null,
   "id": "2f15c453",
   "metadata": {},
   "outputs": [],
   "source": [
    "c7_pickle = '/Users/akepley/Dropbox/Support/naasc/WSU/mitigation/weblog_stats/allc7_stats.20220930.pkl'\n",
    "c7_mit = pickle.load(open(c7_pickle,'rb'))\n",
    "c7_rpd = pd.DataFrame(c7_mit).transpose()"
   ]
  },
  {
   "cell_type": "code",
   "execution_count": null,
   "id": "c0c62e2b",
   "metadata": {
    "scrolled": false
   },
   "outputs": [],
   "source": [
    "c7_astropy = Table.from_pandas(c7_rpd,index=True)\n",
    "c7_astropy.rename_column('index','mous')"
   ]
  },
  {
   "cell_type": "code",
   "execution_count": null,
   "id": "693ffa08",
   "metadata": {
    "scrolled": true
   },
   "outputs": [],
   "source": [
    "c7_astropy"
   ]
  },
  {
   "cell_type": "code",
   "execution_count": null,
   "id": "0a1c20f0",
   "metadata": {},
   "outputs": [],
   "source": [
    "reload(large_cubes)"
   ]
  },
  {
   "cell_type": "code",
   "execution_count": null,
   "id": "4b2b744c",
   "metadata": {
    "scrolled": true
   },
   "outputs": [],
   "source": [
    "large_cubes.fix_mous_col(c7_astropy)  "
   ]
  },
  {
   "cell_type": "code",
   "execution_count": null,
   "id": "d0ae9397",
   "metadata": {},
   "outputs": [],
   "source": [
    "c8_pickle = '/Users/akepley/Dropbox/Support/naasc/WSU/mitigation/weblog_stats/cycle8_stats.ignacio.20230103.pkl'\n",
    "c8_mit = pickle.load(open(c8_pickle,'rb'))\n",
    "c8_rpd = pd.DataFrame(c8_mit).transpose()"
   ]
  },
  {
   "cell_type": "code",
   "execution_count": null,
   "id": "39b81337",
   "metadata": {},
   "outputs": [],
   "source": [
    "c8_astropy = Table.from_pandas(c8_rpd,index=True)\n",
    "c8_astropy.rename_column('index','mous')"
   ]
  },
  {
   "cell_type": "code",
   "execution_count": null,
   "id": "6ed2100d",
   "metadata": {},
   "outputs": [],
   "source": [
    "c8_astropy"
   ]
  },
  {
   "cell_type": "markdown",
   "id": "48efa80a",
   "metadata": {},
   "source": [
    "Things to think about:\n",
    "* Need to confirm the above to mous version with slashes.\n",
    "* This information is per MOUS not per MOUS/SRC. Can I do some sort of grouping to generate a table that might make sense and calculate totals per MOUS??\n"
   ]
  },
  {
   "cell_type": "code",
   "execution_count": null,
   "id": "ba30cbfc",
   "metadata": {},
   "outputs": [],
   "source": [
    "test = result_rates.unique('mous')"
   ]
  },
  {
   "cell_type": "code",
   "execution_count": null,
   "id": "195ff2df",
   "metadata": {},
   "outputs": [],
   "source": [
    "print(test.groups.keys)"
   ]
  },
  {
   "cell_type": "code",
   "execution_count": null,
   "id": "19b75da8",
   "metadata": {},
   "outputs": [],
   "source": [
    "len(result_rates)"
   ]
  },
  {
   "cell_type": "code",
   "execution_count": null,
   "id": "b2bee077",
   "metadata": {},
   "outputs": [],
   "source": []
  },
  {
   "cell_type": "code",
   "execution_count": null,
   "id": "9861205e",
   "metadata": {},
   "outputs": [],
   "source": []
  },
  {
   "cell_type": "code",
   "execution_count": null,
   "id": "52d32f8c",
   "metadata": {},
   "outputs": [],
   "source": [
    "c7_pickle = '/Users/akepley/Dropbox/Support/naasc/WSU/mitigation/weblog_stats/allc7_stats.20220930.pkl'\n",
    "c7_mit = pickle.load(open(c7_pickle,'rb'))\n",
    "c7_rpd = pd.DataFrame(c7_mit).transpose()"
   ]
  },
  {
   "cell_type": "code",
   "execution_count": null,
   "id": "3b504569",
   "metadata": {},
   "outputs": [],
   "source": []
  },
  {
   "cell_type": "code",
   "execution_count": null,
   "id": "4d852b9d",
   "metadata": {},
   "outputs": [],
   "source": []
  },
  {
   "cell_type": "code",
   "execution_count": null,
   "id": "bbe824a8",
   "metadata": {},
   "outputs": [],
   "source": []
  },
  {
   "cell_type": "code",
   "execution_count": null,
   "id": "acce2c93",
   "metadata": {},
   "outputs": [],
   "source": []
  },
  {
   "cell_type": "markdown",
   "id": "597e9778",
   "metadata": {},
   "source": [
    "## calculating fractions of time"
   ]
  },
  {
   "cell_type": "code",
   "execution_count": null,
   "id": "ccb9d8a2",
   "metadata": {},
   "outputs": [],
   "source": [
    "reload(wsu_db)"
   ]
  },
  {
   "cell_type": "code",
   "execution_count": null,
   "id": "053b049c",
   "metadata": {},
   "outputs": [],
   "source": [
    " wsu_db.calc_frac_time(result_tos,cycle='c7')"
   ]
  },
  {
   "cell_type": "code",
   "execution_count": null,
   "id": "dd835ca6",
   "metadata": {},
   "outputs": [],
   "source": [
    "np.sum(result_tos['frac_c7_target_time'])"
   ]
  },
  {
   "cell_type": "code",
   "execution_count": null,
   "id": "7b8034fc",
   "metadata": {
    "scrolled": true
   },
   "outputs": [],
   "source": [
    "np.max(result_tos['frac_c7_target_time'])"
   ]
  },
  {
   "cell_type": "code",
   "execution_count": null,
   "id": "2bf30761",
   "metadata": {},
   "outputs": [],
   "source": [
    "wsu_db.calc_frac_time(result_c8_tos,cycle='c8')"
   ]
  },
  {
   "cell_type": "code",
   "execution_count": null,
   "id": "8233cc8a",
   "metadata": {},
   "outputs": [],
   "source": [
    "np.sum(result_c8_tos['frac_c8_target_time'])"
   ]
  },
  {
   "cell_type": "code",
   "execution_count": null,
   "id": "4080804b",
   "metadata": {
    "scrolled": true
   },
   "outputs": [],
   "source": [
    "np.max(result_c8_tos['frac_c8_target_time'])"
   ]
  },
  {
   "cell_type": "markdown",
   "id": "60e9c64f",
   "metadata": {},
   "source": [
    "## Writing out the final file"
   ]
  },
  {
   "cell_type": "code",
   "execution_count": null,
   "id": "85ddec79",
   "metadata": {},
   "outputs": [],
   "source": [
    "# per MOUS/src\n",
    "result_tos.write('data/wsu_datarates_per_moussrc_cycle7_20230109.ecsv')\n",
    "result_c8_tos.write('data/wsu_datarates_per_moussrc_cycle8_20230109.ecsv')"
   ]
  },
  {
   "cell_type": "code",
   "execution_count": null,
   "id": "0a1b409a",
   "metadata": {},
   "outputs": [],
   "source": []
  },
  {
   "cell_type": "code",
   "execution_count": null,
   "id": "44ac094c",
   "metadata": {},
   "outputs": [],
   "source": []
  },
  {
   "cell_type": "markdown",
   "id": "bc5da0f0",
   "metadata": {},
   "source": [
    "## Mosaic imsize investigation"
   ]
  },
  {
   "cell_type": "code",
   "execution_count": null,
   "id": "6c75dfad",
   "metadata": {},
   "outputs": [],
   "source": [
    "idx = (result['mosaic'] == 'T') & (result['imsize'] >5800)\n",
    "result['mous','imsize','cell','s_fov','s_resolution','wsu_freq','pb','mosaic'][idx]"
   ]
  },
  {
   "cell_type": "code",
   "execution_count": null,
   "id": "66e84448",
   "metadata": {
    "scrolled": true
   },
   "outputs": [],
   "source": [
    "0.01056278408537675 *3600.0  "
   ]
  },
  {
   "cell_type": "markdown",
   "id": "3651795b",
   "metadata": {},
   "source": [
    "Image pre-check values for  2019.1.00796.S, uid://A001/X1471/X317\t\n",
    "\n",
    "* beam = 0.0457 x 0.0404 arcsec\n",
    "* cell = 0.0081 x 0.0081 arcsec\n",
    "\n",
    "Unmitigated imsize calculated in pipeline for X317 is 7776, 7776 according to SCG tests\n",
    "\n",
    "eye balling the spatial set up it looks like there's 10-12arcsec between pointings and the plot says the primary beam is 26.0arcsec\n",
    "\n",
    "The pipeline math is   \n",
    "\n",
    "npts <= 3\n",
    "* nxpix = int((1.65 * beam_radius_v + xspread) / cellx_v)\n",
    "\n",
    "npts >3\n",
    "* nxpix = int((1.5 * beam_radius_v + xspread) / cellx_v)\n",
    "\n",
    "We only have two pointings here.\n",
    "\n"
   ]
  },
  {
   "cell_type": "code",
   "execution_count": null,
   "id": "8637bbf3",
   "metadata": {},
   "outputs": [],
   "source": [
    "(26.0 + 10.0)"
   ]
  },
  {
   "cell_type": "code",
   "execution_count": null,
   "id": "25f87961",
   "metadata": {},
   "outputs": [],
   "source": [
    "(1.65 * 26.0 + 10.0)/0.0081"
   ]
  },
  {
   "cell_type": "markdown",
   "id": "1fcee162",
   "metadata": {},
   "source": [
    "So my estimate is a little on the low end, but not crazy"
   ]
  },
  {
   "cell_type": "code",
   "execution_count": null,
   "id": "7e23da1f",
   "metadata": {},
   "outputs": [],
   "source": [
    "(0.01044*3600+25.6*0.70)/0.0072"
   ]
  },
  {
   "cell_type": "markdown",
   "id": "648f8eaf",
   "metadata": {},
   "source": [
    "## Imsize investigation"
   ]
  },
  {
   "cell_type": "markdown",
   "id": "cf15c8e3",
   "metadata": {},
   "source": [
    "Something is  odd with my image sizes. I'm using 2019.1.01463.S uid://A001/X1465/Xc05 as my poster child\n",
    "\n",
    "For the unmitigated imaging done by the pipeline, the pipeline calculates the following values:\n",
    "* beam: 0.0322\" x 0.0211\"\n",
    "* cell: 0.0042\" x 0.0042\"\n",
    "* imsize: [11250, 11250] pixels\n",
    "* FOV: 47.25 arcsec"
   ]
  },
  {
   "cell_type": "markdown",
   "id": "502d704b",
   "metadata": {},
   "source": [
    "Now let's look at what I get from my calculations"
   ]
  },
  {
   "cell_type": "code",
   "execution_count": null,
   "id": "7d82b830",
   "metadata": {
    "scrolled": false
   },
   "outputs": [],
   "source": [
    "#2019.1.01463.S\n",
    "idx =result['mous'] == 'uid://A001/X1465/Xc05'\n",
    "result['mous','s_fov','s_resolution','imsize','wsu_nchan_final_stepped','wsu_nchan_final_finest','mosaic'][idx]"
   ]
  },
  {
   "cell_type": "code",
   "execution_count": null,
   "id": "9c062794",
   "metadata": {},
   "outputs": [],
   "source": [
    "np.log10(237037.03703703705)"
   ]
  },
  {
   "cell_type": "code",
   "execution_count": null,
   "id": "28f6e6c0",
   "metadata": {},
   "outputs": [],
   "source": [
    "np.log10(32921.81069958848)"
   ]
  },
  {
   "cell_type": "code",
   "execution_count": null,
   "id": "ec6e0df5",
   "metadata": {},
   "outputs": [],
   "source": [
    "# the imsize is\n",
    "0.007157768473981626*3600.00 # arcsec"
   ]
  },
  {
   "cell_type": "code",
   "execution_count": null,
   "id": "e6d5676e",
   "metadata": {
    "scrolled": true
   },
   "outputs": [],
   "source": [
    "# What's the estimated imsize at this frequency??\n",
    "# frequency\n",
    "freq = 218.821 #GHz\n",
    "19.4*300/218.821"
   ]
  },
  {
   "cell_type": "markdown",
   "id": "088ace75",
   "metadata": {},
   "source": [
    "This is comparable to the imsize calculated above."
   ]
  },
  {
   "cell_type": "code",
   "execution_count": null,
   "id": "419029e0",
   "metadata": {
    "scrolled": true
   },
   "outputs": [],
   "source": [
    "# What pixel size does this imply for five pixels per beam?\n",
    "0.024588/5.0"
   ]
  },
  {
   "cell_type": "code",
   "execution_count": null,
   "id": "8f7edf9f",
   "metadata": {},
   "outputs": [],
   "source": [
    "# What pixel size does this imply for six pixels per beam?\n",
    "0.024588/6.0"
   ]
  },
  {
   "cell_type": "markdown",
   "id": "c221c71f",
   "metadata": {},
   "source": [
    "What happens if I use the points_per_fov value??"
   ]
  },
  {
   "cell_type": "code",
   "execution_count": null,
   "id": "5b784163",
   "metadata": {
    "scrolled": false
   },
   "outputs": [],
   "source": [
    "idx2 = cycle7tab['member_ous_uid'] == 'uid://A001/X1465/Xc05'\n",
    "cycle7tab['proposal_id','member_ous_uid','s_fov','s_resolution','points_per_fov','spw_nchan','is_mosaic'][idx2]"
   ]
  },
  {
   "cell_type": "code",
   "execution_count": null,
   "id": "a920c9d9",
   "metadata": {},
   "outputs": [],
   "source": [
    "# imsize from points per fov value\n",
    "np.sqrt(1100957.4775723005)*5.0"
   ]
  },
  {
   "cell_type": "markdown",
   "id": "7a5ecde0",
   "metadata": {},
   "source": [
    "Matches imsize above."
   ]
  },
  {
   "cell_type": "markdown",
   "id": "8ae4e2a5",
   "metadata": {},
   "source": [
    "So it looks like the FOV is the difference:"
   ]
  },
  {
   "cell_type": "code",
   "execution_count": null,
   "id": "d2239c08",
   "metadata": {},
   "outputs": [],
   "source": [
    "(47.25/25.76)*5250"
   ]
  },
  {
   "cell_type": "markdown",
   "id": "de56434c",
   "metadata": {},
   "source": [
    "Still an underestimate, but closer."
   ]
  },
  {
   "cell_type": "markdown",
   "id": "18c981e7",
   "metadata": {},
   "source": [
    "The pipeline calculates the primary beam as\n",
    "\n",
    "primary_beam_size = \\\n",
    "            1.22 \\\n",
    "            * cqa.getvalue(cqa.convert(cqa.constants('c'), 'm/s')) \\\n",
    "            / ref_frequency \\\n",
    "            / smallest_diameter \\\n",
    "            * (180.0 * 3600.0 / math.pi)"
   ]
  },
  {
   "cell_type": "code",
   "execution_count": null,
   "id": "6e5bccad",
   "metadata": {
    "scrolled": true
   },
   "outputs": [],
   "source": [
    "1.22 * ((const.c.value /  218.821e9) / (12.0) )*(180*3600.0/math.pi)"
   ]
  },
  {
   "cell_type": "markdown",
   "id": "1dbd93ce",
   "metadata": {},
   "source": [
    "Pipeline calculation is here:\n",
    "\n",
    "beam_radius_v = primary_beam\n",
    "\n",
    "beam_fwhp = 1.12 / 1.22 * beam_radius_v\n",
    "\n",
    "nxpix = int(utils.round_half_up(1.1 * beam_fwhp * math.sqrt(-math.log(sfpblimit) / math.log(2.)) / cellx_v))"
   ]
  },
  {
   "cell_type": "code",
   "execution_count": null,
   "id": "6184df72",
   "metadata": {},
   "outputs": [],
   "source": [
    "(1.12/1.22)* 28.73"
   ]
  },
  {
   "cell_type": "code",
   "execution_count": null,
   "id": "53c56ee1",
   "metadata": {},
   "outputs": [],
   "source": [
    "1.1 * 26.38 * math.sqrt(-math.log(0.2) / math.log(2.0))"
   ]
  },
  {
   "cell_type": "markdown",
   "id": "88c7da3a",
   "metadata": {},
   "source": [
    "Okay. This is the value I get above. \n",
    "\n",
    "What's the constant??"
   ]
  },
  {
   "cell_type": "code",
   "execution_count": null,
   "id": "7859a0aa",
   "metadata": {},
   "outputs": [],
   "source": [
    "1.1* (1.12/1.22)*math.sqrt(-math.log(0.2) / math.log(2.0))"
   ]
  },
  {
   "cell_type": "code",
   "execution_count": null,
   "id": "c1aa13c6",
   "metadata": {
    "scrolled": true
   },
   "outputs": [],
   "source": [
    "1.54*25.8"
   ]
  },
  {
   "cell_type": "code",
   "execution_count": null,
   "id": "f478e396",
   "metadata": {},
   "outputs": [],
   "source": [
    "40.0/0.0040"
   ]
  },
  {
   "cell_type": "code",
   "execution_count": null,
   "id": "5d9865d0",
   "metadata": {},
   "outputs": [],
   "source": []
  }
 ],
 "metadata": {
  "kernelspec": {
   "display_name": "Python 3",
   "language": "python",
   "name": "python3"
  },
  "language_info": {
   "codemirror_mode": {
    "name": "ipython",
    "version": 3
   },
   "file_extension": ".py",
   "mimetype": "text/x-python",
   "name": "python",
   "nbconvert_exporter": "python",
   "pygments_lexer": "ipython3",
   "version": "3.8.8"
  }
 },
 "nbformat": 4,
 "nbformat_minor": 5
}
