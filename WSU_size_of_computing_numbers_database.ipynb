{
 "cells": [
  {
   "cell_type": "markdown",
   "id": "e1660869",
   "metadata": {},
   "source": [
    "# WSU size of computing estimate numbers (Database)"
   ]
  },
  {
   "cell_type": "markdown",
   "id": "a64ed1f4",
   "metadata": {},
   "source": [
    "The goal here is to put together some numbers on the type of projects ALMA would process as part of the WSU to be used to produce a total size of computing estimate.\n",
    "\n",
    "Amanda Kepley (20220921)"
   ]
  },
  {
   "cell_type": "code",
   "execution_count": 158,
   "id": "cf32bfed",
   "metadata": {},
   "outputs": [],
   "source": [
    "import numpy as np\n",
    "import astropy.units as u\n",
    "from ast import literal_eval\n",
    "from astropy import constants as const\n",
    "from matplotlib import pyplot as plt, ticker as mticker\n",
    "import re\n",
    "import math\n",
    "from astropy.table import Table, QTable, vstack, join\n",
    "from astropy import constants as const\n",
    "from importlib import reload\n",
    "import pickle\n",
    "import pandas as pd"
   ]
  },
  {
   "cell_type": "markdown",
   "id": "4e97564b",
   "metadata": {},
   "source": [
    "## Read in massaged cycle 7 and 8 data <a id=\"readin\"></a>"
   ]
  },
  {
   "cell_type": "code",
   "execution_count": 2,
   "id": "a94ccacf",
   "metadata": {},
   "outputs": [],
   "source": [
    "cycle7tab = Table.read('data/result_table_cycle7_with_calc_values_20220923.csv')\n",
    "cycle8tab = Table.read('data/result_table_cycle8_with_calc_values_20220923.csv')"
   ]
  },
  {
   "cell_type": "code",
   "execution_count": 3,
   "id": "e6a21143",
   "metadata": {
    "scrolled": true
   },
   "outputs": [
    {
     "data": {
      "text/plain": [
       "<TableColumns names=('obs_publisher_did','facility_name','instrument_name','obs_id','dataproduct_type','calib_level','target_name','s_ra','s_dec','s_fov','s_resolution','t_min','t_max','t_exptime','t_resolution','em_min','em_max','em_res_power','pol_states','o_ucd','access_url','access_format','proposal_id','data_rights','gal_longitude','gal_latitude','band_list','em_resolution','bandwidth','antenna_arrays','is_mosaic','spatial_resolution','frequency_support','frequency','velocity_resolution','publication_year','proposal_abstract','schedblock_name','sensitivity_10kms','cont_sensitivity_bandwidth','pwv','group_ous_uid','member_ous_uid','asdm_uid','type','scan_intent','science_observation','spatial_scale_max','qa2_passed','science_keyword','scientific_category','collections','array','points_per_fov','spw_freq','spw_specwidth','spw_nchan','pb','cell','imsize','spw_nchan_max','mitigated','failed_mitigation_nbin1','failed_mitigation_nbin2','ntarget')>"
      ]
     },
     "execution_count": 3,
     "metadata": {},
     "output_type": "execute_result"
    }
   ],
   "source": [
    "cycle7tab.columns"
   ]
  },
  {
   "cell_type": "markdown",
   "id": "e6d7681d",
   "metadata": {},
   "source": [
    "## Put together WSU mous data base <a id=\"wsu_db\"></a>"
   ]
  },
  {
   "cell_type": "code",
   "execution_count": 5,
   "id": "eb5b7583",
   "metadata": {},
   "outputs": [],
   "source": [
    "import wsu_db"
   ]
  },
  {
   "cell_type": "code",
   "execution_count": 6,
   "id": "b688fb4a",
   "metadata": {},
   "outputs": [
    {
     "data": {
      "text/plain": [
       "<module 'wsu_db' from '/Users/akepley/Dropbox/Support/naasc/WSU/big_cubes/wsu_db.py'>"
      ]
     },
     "execution_count": 6,
     "metadata": {},
     "output_type": "execute_result"
    }
   ],
   "source": [
    "reload(wsu_db)"
   ]
  },
  {
   "cell_type": "code",
   "execution_count": 7,
   "id": "30f8e60e",
   "metadata": {
    "scrolled": false
   },
   "outputs": [],
   "source": [
    "result = wsu_db.create_database(cycle7tab)"
   ]
  },
  {
   "cell_type": "code",
   "execution_count": 8,
   "id": "6074f246",
   "metadata": {},
   "outputs": [
    {
     "data": {
      "text/plain": [
       "<TableColumns names=('mous','proposal_id','array','nant_typical','nant_array','nant_all','band','ntarget','target_name','s_fov','s_resolution','mosaic','imsize','pb','cell','blc_npol','blc_nspw','blc_specwidth','blc_freq','blc_velres','blc_nchan_agg','blc_nchan_max','blc_bandwidth_max','blc_bandwidth_agg','wsu_freq','wsu_npol','wsu_bandwidth_early','wsu_bandwidth_later_2x','wsu_bandwidth_later_4x','wsu_bandwidth_spw','wsu_nspw_early','wsu_nspw_later_2x','wsu_nspw_later_4x','wsu_specwidth_finest','wsu_chanavg_finest','wsu_velres_finest','wsu_specwidth_stepped','wsu_chanavg_stepped','wsu_velres_stepped','wsu_specwidth_stepped2','wsu_chanavg_stepped2','wsu_velres_stepped2','wsu_tint','wsu_nchan_spw_finest','wsu_nchan_spw_stepped','wsu_nchan_spw_stepped2','wsu_frac_bw_initial','wsu_frac_bw_later_2x','wsu_frac_bw_later_4x','wsu_frac_bw_spw','nbase_typical','nbase_array','nbase_all')>"
      ]
     },
     "execution_count": 8,
     "metadata": {},
     "output_type": "execute_result"
    }
   ],
   "source": [
    "result.columns"
   ]
  },
  {
   "cell_type": "code",
   "execution_count": 9,
   "id": "e5ee1f96",
   "metadata": {},
   "outputs": [],
   "source": [
    "result_c8 = wsu_db.create_database(cycle8tab)"
   ]
  },
  {
   "cell_type": "code",
   "execution_count": 10,
   "id": "9b0357a5",
   "metadata": {},
   "outputs": [],
   "source": [
    "# save data bases if what's desired\n",
    "#result.write('data/cycle7wsu_20221003.fits',overwrite=True)\n",
    "#result_c8.write('data/cycle8wsu_20221003.fits',overwrite=True)\n",
    "result.write('data/cycle7wsu_20230103.fits',overwrite=True)\n",
    "result_c8.write('data/cycle8wsu_20230103.fits',overwrite=True)"
   ]
  },
  {
   "cell_type": "code",
   "execution_count": 11,
   "id": "b978430c",
   "metadata": {
    "scrolled": true
   },
   "outputs": [
    {
     "data": {
      "text/plain": [
       "<TableColumns names=('mous','proposal_id','array','nant_typical','nant_array','nant_all','band','ntarget','target_name','s_fov','s_resolution','mosaic','imsize','pb','cell','blc_npol','blc_nspw','blc_specwidth','blc_freq','blc_velres','blc_nchan_agg','blc_nchan_max','blc_bandwidth_max','blc_bandwidth_agg','wsu_freq','wsu_npol','wsu_bandwidth_early','wsu_bandwidth_later_2x','wsu_bandwidth_later_4x','wsu_bandwidth_spw','wsu_nspw_early','wsu_nspw_later_2x','wsu_nspw_later_4x','wsu_specwidth_finest','wsu_chanavg_finest','wsu_velres_finest','wsu_specwidth_stepped','wsu_chanavg_stepped','wsu_velres_stepped','wsu_specwidth_stepped2','wsu_chanavg_stepped2','wsu_velres_stepped2','wsu_tint','wsu_nchan_spw_finest','wsu_nchan_spw_stepped','wsu_nchan_spw_stepped2','wsu_frac_bw_initial','wsu_frac_bw_later_2x','wsu_frac_bw_later_4x','wsu_frac_bw_spw','nbase_typical','nbase_array','nbase_all')>"
      ]
     },
     "execution_count": 11,
     "metadata": {},
     "output_type": "execute_result"
    }
   ],
   "source": [
    "result.columns"
   ]
  },
  {
   "cell_type": "code",
   "execution_count": 12,
   "id": "e2f17896",
   "metadata": {
    "scrolled": true
   },
   "outputs": [
    {
     "data": {
      "text/plain": [
       "11519"
      ]
     },
     "execution_count": 12,
     "metadata": {},
     "output_type": "execute_result"
    }
   ],
   "source": [
    "len(result)"
   ]
  },
  {
   "cell_type": "markdown",
   "id": "0b7a45b8",
   "metadata": {},
   "source": [
    "## Adding in calibration TOS information"
   ]
  },
  {
   "cell_type": "markdown",
   "id": "e2c606b1",
   "metadata": {},
   "source": [
    "This is needed to get the total number of visibilities and the data volume. Also necessary to start refine the data rates."
   ]
  },
  {
   "cell_type": "code",
   "execution_count": 13,
   "id": "615de8c1",
   "metadata": {},
   "outputs": [],
   "source": [
    "import large_cubes\n",
    "from importlib import reload"
   ]
  },
  {
   "cell_type": "code",
   "execution_count": 14,
   "id": "1c0da7e7",
   "metadata": {
    "scrolled": false
   },
   "outputs": [
    {
     "name": "stdout",
     "output_type": "stream",
     "text": [
      "Intent not recognized: BANDPASS DIFFGAIN FLUX PHASE WVR\n",
      "Intent not recognized: BANDPASS DIFFGAIN FLUX PHASE WVR\n",
      "Intent not recognized: BANDPASS DIFFGAIN FLUX PHASE WVR\n",
      "Intent not recognized: DIFFGAIN PHASE WVR\n",
      "Intent not recognized: DIFFGAIN PHASE WVR\n",
      "Intent not recognized: DIFFGAIN PHASE WVR\n",
      "Intent not recognized: DIFFGAIN PHASE WVR\n",
      "Intent not recognized: DIFFGAIN PHASE WVR\n",
      "Intent not recognized: BANDPASS DIFFGAIN FLUX PHASE WVR\n",
      "Intent not recognized: BANDPASS DIFFGAIN FLUX PHASE WVR\n",
      "Intent not recognized: BANDPASS PHASE WVR\n",
      "Intent not recognized: BANDPASS PHASE WVR\n",
      "project_id list greater than 1. This shouldn't happen. MOUS: uid://A002/X445835/X6\n",
      "made it to table creation\n"
     ]
    }
   ],
   "source": [
    "reload(large_cubes)\n",
    "tos_db = large_cubes.calc_time_on_source('data/project_mous_band_array_eb_size___source_intent_inttime')"
   ]
  },
  {
   "cell_type": "code",
   "execution_count": 15,
   "id": "2a7cac31",
   "metadata": {},
   "outputs": [
    {
     "data": {
      "text/plain": [
       "<TableColumns names=('proposal_id','mous','band','array','bp_time_s','flux_time_s','phase_time_s','pol_time_s','check_time_s','target_time_s','target_name','target_time_tot_s','ntarget','time_tot_s','cal_time_s')>"
      ]
     },
     "execution_count": 15,
     "metadata": {},
     "output_type": "execute_result"
    }
   ],
   "source": [
    "tos_db.columns"
   ]
  },
  {
   "cell_type": "code",
   "execution_count": 16,
   "id": "23611455",
   "metadata": {},
   "outputs": [
    {
     "data": {
      "text/plain": [
       "22430"
      ]
     },
     "execution_count": 16,
     "metadata": {},
     "output_type": "execute_result"
    }
   ],
   "source": [
    "len(tos_db)"
   ]
  },
  {
   "cell_type": "code",
   "execution_count": 17,
   "id": "e3ebfbe3",
   "metadata": {},
   "outputs": [],
   "source": [
    "tos_db.write('data/tos_db.ecsv',overwrite=True)"
   ]
  },
  {
   "cell_type": "code",
   "execution_count": 18,
   "id": "fed6d820",
   "metadata": {},
   "outputs": [
    {
     "data": {
      "text/plain": [
       "<module 'wsu_db' from '/Users/akepley/Dropbox/Support/naasc/WSU/big_cubes/wsu_db.py'>"
      ]
     },
     "execution_count": 18,
     "metadata": {},
     "output_type": "execute_result"
    }
   ],
   "source": [
    "reload(wsu_db)"
   ]
  },
  {
   "cell_type": "code",
   "execution_count": 19,
   "id": "443cfa0d",
   "metadata": {},
   "outputs": [],
   "source": [
    "result_tos = wsu_db.add_tos_to_db(result,tos_db)"
   ]
  },
  {
   "cell_type": "code",
   "execution_count": 20,
   "id": "8bf3da33",
   "metadata": {},
   "outputs": [],
   "source": [
    "result_c8_tos = wsu_db.add_tos_to_db(result_c8,tos_db)"
   ]
  },
  {
   "cell_type": "code",
   "execution_count": 22,
   "id": "671ca56d",
   "metadata": {
    "scrolled": true
   },
   "outputs": [],
   "source": [
    "result_tos.write('data/result_tos.ecsv',overwrite=True)\n",
    "result_c8_tos.write('data/result_c8_tos.ecsv',overwrite=True)"
   ]
  },
  {
   "cell_type": "code",
   "execution_count": 23,
   "id": "f787dde9",
   "metadata": {
    "scrolled": false
   },
   "outputs": [
    {
     "data": {
      "text/plain": [
       "<TableColumns names=('mous','proposal_id','array','nant_typical','nant_array','nant_all','band','ntarget','target_name','s_fov','s_resolution','mosaic','imsize','pb','cell','blc_npol','blc_nspw','blc_specwidth','blc_freq','blc_velres','blc_nchan_agg','blc_nchan_max','blc_bandwidth_max','blc_bandwidth_agg','wsu_freq','wsu_npol','wsu_bandwidth_early','wsu_bandwidth_later_2x','wsu_bandwidth_later_4x','wsu_bandwidth_spw','wsu_nspw_early','wsu_nspw_later_2x','wsu_nspw_later_4x','wsu_specwidth_finest','wsu_chanavg_finest','wsu_velres_finest','wsu_specwidth_stepped','wsu_chanavg_stepped','wsu_velres_stepped','wsu_specwidth_stepped2','wsu_chanavg_stepped2','wsu_velres_stepped2','wsu_tint','wsu_nchan_spw_finest','wsu_nchan_spw_stepped','wsu_nchan_spw_stepped2','wsu_frac_bw_initial','wsu_frac_bw_later_2x','wsu_frac_bw_later_4x','wsu_frac_bw_spw','nbase_typical','nbase_array','nbase_all','bp_time_s','flux_time_s','phase_time_s','pol_time_s','check_time_s','target_time_s','target_time_tot_s','time_tot_s','cal_time_s')>"
      ]
     },
     "execution_count": 23,
     "metadata": {},
     "output_type": "execute_result"
    }
   ],
   "source": [
    "result_tos.columns"
   ]
  },
  {
   "cell_type": "code",
   "execution_count": 24,
   "id": "884ae6f9",
   "metadata": {},
   "outputs": [
    {
     "data": {
      "text/plain": [
       "11519"
      ]
     },
     "execution_count": 24,
     "metadata": {},
     "output_type": "execute_result"
    }
   ],
   "source": [
    "len(result_tos)"
   ]
  },
  {
   "cell_type": "code",
   "execution_count": 25,
   "id": "45997c71",
   "metadata": {},
   "outputs": [
    {
     "data": {
      "text/plain": [
       "10843"
      ]
     },
     "execution_count": 25,
     "metadata": {},
     "output_type": "execute_result"
    }
   ],
   "source": [
    "len(result_c8_tos)"
   ]
  },
  {
   "cell_type": "code",
   "execution_count": 26,
   "id": "8e3270e9",
   "metadata": {},
   "outputs": [
    {
     "data": {
      "text/html": [
       "<i>QTable length=9105</i>\n",
       "<table id=\"table140340174076656\" class=\"table-striped table-bordered table-condensed\">\n",
       "<thead><tr><th>target_time_s</th><th>target_time_tot_s</th></tr></thead>\n",
       "<thead><tr><th>float64</th><th>float64</th></tr></thead>\n",
       "<tr><td>1088.64</td><td>4475.52</td></tr>\n",
       "<tr><td>1149.12</td><td>4475.52</td></tr>\n",
       "<tr><td>1149.12</td><td>4475.52</td></tr>\n",
       "<tr><td>1088.64</td><td>4475.52</td></tr>\n",
       "<tr><td>774.1440000000001</td><td>22401.791999999998</td></tr>\n",
       "<tr><td>749.9520000000001</td><td>22401.791999999998</td></tr>\n",
       "<tr><td>774.1440000000001</td><td>22401.791999999998</td></tr>\n",
       "<tr><td>774.1440000000001</td><td>22401.791999999998</td></tr>\n",
       "<tr><td>774.1440000000001</td><td>22401.791999999998</td></tr>\n",
       "<tr><td>749.9520000000001</td><td>22401.791999999998</td></tr>\n",
       "<tr><td>...</td><td>...</td></tr>\n",
       "<tr><td>211.68</td><td>635.04</td></tr>\n",
       "<tr><td>211.68</td><td>635.04</td></tr>\n",
       "<tr><td>211.68</td><td>635.04</td></tr>\n",
       "<tr><td>1270.08</td><td>5080.32</td></tr>\n",
       "<tr><td>1270.08</td><td>5080.32</td></tr>\n",
       "<tr><td>1270.08</td><td>5080.32</td></tr>\n",
       "<tr><td>1270.08</td><td>5080.32</td></tr>\n",
       "<tr><td>1814.4</td><td>5443.2</td></tr>\n",
       "<tr><td>1814.4</td><td>5443.2</td></tr>\n",
       "<tr><td>1814.4</td><td>5443.2</td></tr>\n",
       "</table>"
      ],
      "text/plain": [
       "<QTable length=9105>\n",
       "  target_time_s   target_time_tot_s \n",
       "     float64           float64      \n",
       "----------------- ------------------\n",
       "          1088.64            4475.52\n",
       "          1149.12            4475.52\n",
       "          1149.12            4475.52\n",
       "          1088.64            4475.52\n",
       "774.1440000000001 22401.791999999998\n",
       "749.9520000000001 22401.791999999998\n",
       "774.1440000000001 22401.791999999998\n",
       "774.1440000000001 22401.791999999998\n",
       "774.1440000000001 22401.791999999998\n",
       "749.9520000000001 22401.791999999998\n",
       "              ...                ...\n",
       "           211.68             635.04\n",
       "           211.68             635.04\n",
       "           211.68             635.04\n",
       "          1270.08            5080.32\n",
       "          1270.08            5080.32\n",
       "          1270.08            5080.32\n",
       "          1270.08            5080.32\n",
       "           1814.4             5443.2\n",
       "           1814.4             5443.2\n",
       "           1814.4             5443.2"
      ]
     },
     "execution_count": 26,
     "metadata": {},
     "output_type": "execute_result"
    }
   ],
   "source": [
    "idx = result_tos['ntarget'] >= 3\n",
    "result_tos[idx]['target_time_s','target_time_tot_s']"
   ]
  },
  {
   "cell_type": "markdown",
   "id": "1d324c9b",
   "metadata": {},
   "source": [
    "## Adding in data rates"
   ]
  },
  {
   "cell_type": "code",
   "execution_count": 109,
   "id": "e111c891",
   "metadata": {},
   "outputs": [
    {
     "data": {
      "text/plain": [
       "<module 'wsu_db' from '/Users/akepley/Dropbox/Support/naasc/WSU/big_cubes/wsu_db.py'>"
      ]
     },
     "execution_count": 109,
     "metadata": {},
     "output_type": "execute_result"
    }
   ],
   "source": [
    "reload(large_cubes)\n",
    "reload(wsu_db)"
   ]
  },
  {
   "cell_type": "code",
   "execution_count": 110,
   "id": "715cf4e3",
   "metadata": {},
   "outputs": [],
   "source": [
    "result_rates = wsu_db.add_rates_to_db(result_tos)"
   ]
  },
  {
   "cell_type": "code",
   "execution_count": 111,
   "id": "8d51cf6f",
   "metadata": {},
   "outputs": [
    {
     "data": {
      "text/plain": [
       "<TableColumns names=('mous','proposal_id','array','nant_typical','nant_array','nant_all','band','ntarget','target_name','s_fov','s_resolution','mosaic','imsize','pb','cell','blc_npol','blc_nspw','blc_specwidth','blc_freq','blc_velres','blc_nchan_agg','blc_nchan_max','blc_bandwidth_max','blc_bandwidth_agg','wsu_freq','wsu_npol','wsu_bandwidth_early','wsu_bandwidth_later_2x','wsu_bandwidth_later_4x','wsu_bandwidth_spw','wsu_nspw_early','wsu_nspw_later_2x','wsu_nspw_later_4x','wsu_specwidth_finest','wsu_chanavg_finest','wsu_velres_finest','wsu_specwidth_stepped','wsu_chanavg_stepped','wsu_velres_stepped','wsu_specwidth_stepped2','wsu_chanavg_stepped2','wsu_velres_stepped2','wsu_tint','wsu_nchan_spw_finest','wsu_nchan_spw_stepped','wsu_nchan_spw_stepped2','wsu_frac_bw_initial','wsu_frac_bw_later_2x','wsu_frac_bw_later_4x','wsu_frac_bw_spw','nbase_typical','nbase_array','nbase_all','bp_time_s','flux_time_s','phase_time_s','pol_time_s','check_time_s','target_time_s','target_time_tot_s','time_tot_s','cal_time_s','mfssize','wsu_cubesize_finest','productsize_wsu_early_finest','datarate_typical_wsu_early_finest','visrate_typical_wsu_early_finest','datavol_typical_wsu_early_finest_target','datavol_typical_wsu_early_finest_cal','datavol_typical_wsu_early_finest_total','nvis_typical_wsu_early_finest_target','nvis_typical_wsu_early_finest_cal','nvis_typical_wsu_early_finest_total','productsize_wsu_later_2x_finest','datarate_typical_wsu_later_2x_finest','visrate_typical_wsu_later_2x_finest','datavol_typical_wsu_later_2x_finest_target','datavol_typical_wsu_later_2x_finest_cal','datavol_typical_wsu_later_2x_finest_total','nvis_typical_wsu_later_2x_finest_target','nvis_typical_wsu_later_2x_finest_cal','nvis_typical_wsu_later_2x_finest_total','productsize_wsu_later_4x_finest','datarate_typical_wsu_later_4x_finest','visrate_typical_wsu_later_4x_finest','datavol_typical_wsu_later_4x_finest_target','datavol_typical_wsu_later_4x_finest_cal','datavol_typical_wsu_later_4x_finest_total','nvis_typical_wsu_later_4x_finest_target','nvis_typical_wsu_later_4x_finest_cal','nvis_typical_wsu_later_4x_finest_total','wsu_cubesize_stepped','productsize_wsu_early_stepped','datarate_typical_wsu_early_stepped','visrate_typical_wsu_early_stepped','datavol_typical_wsu_early_stepped_target','datavol_typical_wsu_early_stepped_cal','datavol_typical_wsu_early_stepped_total','nvis_typical_wsu_early_stepped_target','nvis_typical_wsu_early_stepped_cal','nvis_typical_wsu_early_stepped_total','productsize_wsu_later_2x_stepped','datarate_typical_wsu_later_2x_stepped','visrate_typical_wsu_later_2x_stepped','datavol_typical_wsu_later_2x_stepped_target','datavol_typical_wsu_later_2x_stepped_cal','datavol_typical_wsu_later_2x_stepped_total','nvis_typical_wsu_later_2x_stepped_target','nvis_typical_wsu_later_2x_stepped_cal','nvis_typical_wsu_later_2x_stepped_total','productsize_wsu_later_4x_stepped','datarate_typical_wsu_later_4x_stepped','visrate_typical_wsu_later_4x_stepped','datavol_typical_wsu_later_4x_stepped_target','datavol_typical_wsu_later_4x_stepped_cal','datavol_typical_wsu_later_4x_stepped_total','nvis_typical_wsu_later_4x_stepped_target','nvis_typical_wsu_later_4x_stepped_cal','nvis_typical_wsu_later_4x_stepped_total','wsu_cubesize_stepped2','productsize_wsu_early_stepped2','datarate_typical_wsu_early_stepped2','visrate_typical_wsu_early_stepped2','datavol_typical_wsu_early_stepped2_target','datavol_typical_wsu_early_stepped2_cal','datavol_typical_wsu_early_stepped2_total','nvis_typical_wsu_early_stepped2_target','nvis_typical_wsu_early_stepped2_cal','nvis_typical_wsu_early_stepped2_total','productsize_wsu_later_2x_stepped2','datarate_typical_wsu_later_2x_stepped2','visrate_typical_wsu_later_2x_stepped2','datavol_typical_wsu_later_2x_stepped2_target','datavol_typical_wsu_later_2x_stepped2_cal','datavol_typical_wsu_later_2x_stepped2_total','nvis_typical_wsu_later_2x_stepped2_target','nvis_typical_wsu_later_2x_stepped2_cal','nvis_typical_wsu_later_2x_stepped2_total','productsize_wsu_later_4x_stepped2','datarate_typical_wsu_later_4x_stepped2','visrate_typical_wsu_later_4x_stepped2','datavol_typical_wsu_later_4x_stepped2_target','datavol_typical_wsu_later_4x_stepped2_cal','datavol_typical_wsu_later_4x_stepped2_total','nvis_typical_wsu_later_4x_stepped2_target','nvis_typical_wsu_later_4x_stepped2_cal','nvis_typical_wsu_later_4x_stepped2_total','datarate_array_wsu_early_finest','visrate_array_wsu_early_finest','datavol_array_wsu_early_finest_target','datavol_array_wsu_early_finest_cal','datavol_array_wsu_early_finest_total','nvis_array_wsu_early_finest_target','nvis_array_wsu_early_finest_cal','nvis_array_wsu_early_finest_total','datarate_array_wsu_later_2x_finest','visrate_array_wsu_later_2x_finest','datavol_array_wsu_later_2x_finest_target','datavol_array_wsu_later_2x_finest_cal','datavol_array_wsu_later_2x_finest_total','nvis_array_wsu_later_2x_finest_target','nvis_array_wsu_later_2x_finest_cal','nvis_array_wsu_later_2x_finest_total','datarate_array_wsu_later_4x_finest','visrate_array_wsu_later_4x_finest','datavol_array_wsu_later_4x_finest_target','datavol_array_wsu_later_4x_finest_cal','datavol_array_wsu_later_4x_finest_total','nvis_array_wsu_later_4x_finest_target','nvis_array_wsu_later_4x_finest_cal','nvis_array_wsu_later_4x_finest_total','datarate_array_wsu_early_stepped','visrate_array_wsu_early_stepped','datavol_array_wsu_early_stepped_target','datavol_array_wsu_early_stepped_cal','datavol_array_wsu_early_stepped_total','nvis_array_wsu_early_stepped_target','nvis_array_wsu_early_stepped_cal','nvis_array_wsu_early_stepped_total','datarate_array_wsu_later_2x_stepped','visrate_array_wsu_later_2x_stepped','datavol_array_wsu_later_2x_stepped_target','datavol_array_wsu_later_2x_stepped_cal','datavol_array_wsu_later_2x_stepped_total','nvis_array_wsu_later_2x_stepped_target','nvis_array_wsu_later_2x_stepped_cal','nvis_array_wsu_later_2x_stepped_total','datarate_array_wsu_later_4x_stepped','visrate_array_wsu_later_4x_stepped','datavol_array_wsu_later_4x_stepped_target','datavol_array_wsu_later_4x_stepped_cal','datavol_array_wsu_later_4x_stepped_total','nvis_array_wsu_later_4x_stepped_target','nvis_array_wsu_later_4x_stepped_cal','nvis_array_wsu_later_4x_stepped_total','datarate_array_wsu_early_stepped2','visrate_array_wsu_early_stepped2','datavol_array_wsu_early_stepped2_target','datavol_array_wsu_early_stepped2_cal','datavol_array_wsu_early_stepped2_total','nvis_array_wsu_early_stepped2_target','nvis_array_wsu_early_stepped2_cal','nvis_array_wsu_early_stepped2_total','datarate_array_wsu_later_2x_stepped2','visrate_array_wsu_later_2x_stepped2','datavol_array_wsu_later_2x_stepped2_target','datavol_array_wsu_later_2x_stepped2_cal','datavol_array_wsu_later_2x_stepped2_total','nvis_array_wsu_later_2x_stepped2_target','nvis_array_wsu_later_2x_stepped2_cal','nvis_array_wsu_later_2x_stepped2_total','datarate_array_wsu_later_4x_stepped2','visrate_array_wsu_later_4x_stepped2','datavol_array_wsu_later_4x_stepped2_target','datavol_array_wsu_later_4x_stepped2_cal','datavol_array_wsu_later_4x_stepped2_total','nvis_array_wsu_later_4x_stepped2_target','nvis_array_wsu_later_4x_stepped2_cal','nvis_array_wsu_later_4x_stepped2_total','datarate_all_wsu_early_finest','visrate_all_wsu_early_finest','datavol_all_wsu_early_finest_target','datavol_all_wsu_early_finest_cal','datavol_all_wsu_early_finest_total','nvis_all_wsu_early_finest_target','nvis_all_wsu_early_finest_cal','nvis_all_wsu_early_finest_total','datarate_all_wsu_later_2x_finest','visrate_all_wsu_later_2x_finest','datavol_all_wsu_later_2x_finest_target','datavol_all_wsu_later_2x_finest_cal','datavol_all_wsu_later_2x_finest_total','nvis_all_wsu_later_2x_finest_target','nvis_all_wsu_later_2x_finest_cal','nvis_all_wsu_later_2x_finest_total','datarate_all_wsu_later_4x_finest','visrate_all_wsu_later_4x_finest','datavol_all_wsu_later_4x_finest_target','datavol_all_wsu_later_4x_finest_cal','datavol_all_wsu_later_4x_finest_total','nvis_all_wsu_later_4x_finest_target','nvis_all_wsu_later_4x_finest_cal','nvis_all_wsu_later_4x_finest_total','datarate_all_wsu_early_stepped','visrate_all_wsu_early_stepped','datavol_all_wsu_early_stepped_target','datavol_all_wsu_early_stepped_cal','datavol_all_wsu_early_stepped_total','nvis_all_wsu_early_stepped_target','nvis_all_wsu_early_stepped_cal','nvis_all_wsu_early_stepped_total','datarate_all_wsu_later_2x_stepped','visrate_all_wsu_later_2x_stepped','datavol_all_wsu_later_2x_stepped_target','datavol_all_wsu_later_2x_stepped_cal','datavol_all_wsu_later_2x_stepped_total','nvis_all_wsu_later_2x_stepped_target','nvis_all_wsu_later_2x_stepped_cal','nvis_all_wsu_later_2x_stepped_total','datarate_all_wsu_later_4x_stepped','visrate_all_wsu_later_4x_stepped','datavol_all_wsu_later_4x_stepped_target','datavol_all_wsu_later_4x_stepped_cal','datavol_all_wsu_later_4x_stepped_total','nvis_all_wsu_later_4x_stepped_target','nvis_all_wsu_later_4x_stepped_cal','nvis_all_wsu_later_4x_stepped_total','datarate_all_wsu_early_stepped2','visrate_all_wsu_early_stepped2','datavol_all_wsu_early_stepped2_target','datavol_all_wsu_early_stepped2_cal','datavol_all_wsu_early_stepped2_total','nvis_all_wsu_early_stepped2_target','nvis_all_wsu_early_stepped2_cal','nvis_all_wsu_early_stepped2_total','datarate_all_wsu_later_2x_stepped2','visrate_all_wsu_later_2x_stepped2','datavol_all_wsu_later_2x_stepped2_target','datavol_all_wsu_later_2x_stepped2_cal','datavol_all_wsu_later_2x_stepped2_total','nvis_all_wsu_later_2x_stepped2_target','nvis_all_wsu_later_2x_stepped2_cal','nvis_all_wsu_later_2x_stepped2_total','datarate_all_wsu_later_4x_stepped2','visrate_all_wsu_later_4x_stepped2','datavol_all_wsu_later_4x_stepped2_target','datavol_all_wsu_later_4x_stepped2_cal','datavol_all_wsu_later_4x_stepped2_total','nvis_all_wsu_later_4x_stepped2_target','nvis_all_wsu_later_4x_stepped2_cal','nvis_all_wsu_later_4x_stepped2_total','datarate_wsu_early_finest_typical','visrate_wsu_early_finest_typical','datavol_wsu_early_finest_typical_target','datavol_wsu_early_finest_typical_cal','datavol_wsu_early_finest_typical_total','nvis_wsu_early_finest_typical_target','nvis_wsu_early_finest_typical_cal','nvis_wsu_early_finest_typical_total','datarate_wsu_later_2x_finest_typical','visrate_wsu_later_2x_finest_typical','datavol_wsu_later_2x_finest_typical_target','datavol_wsu_later_2x_finest_typical_cal','datavol_wsu_later_2x_finest_typical_total','nvis_wsu_later_2x_finest_typical_target','nvis_wsu_later_2x_finest_typical_cal','nvis_wsu_later_2x_finest_typical_total','datarate_wsu_later_4x_finest_typical','visrate_wsu_later_4x_finest_typical','datavol_wsu_later_4x_finest_typical_target','datavol_wsu_later_4x_finest_typical_cal','datavol_wsu_later_4x_finest_typical_total','nvis_wsu_later_4x_finest_typical_target','nvis_wsu_later_4x_finest_typical_cal','nvis_wsu_later_4x_finest_typical_total','datarate_wsu_early_stepped_typical','visrate_wsu_early_stepped_typical','datavol_wsu_early_stepped_typical_target','datavol_wsu_early_stepped_typical_cal','datavol_wsu_early_stepped_typical_total','nvis_wsu_early_stepped_typical_target','nvis_wsu_early_stepped_typical_cal','nvis_wsu_early_stepped_typical_total','datarate_wsu_later_2x_stepped_typical','visrate_wsu_later_2x_stepped_typical','datavol_wsu_later_2x_stepped_typical_target','datavol_wsu_later_2x_stepped_typical_cal','datavol_wsu_later_2x_stepped_typical_total','nvis_wsu_later_2x_stepped_typical_target','nvis_wsu_later_2x_stepped_typical_cal','nvis_wsu_later_2x_stepped_typical_total','datarate_wsu_later_4x_stepped_typical','visrate_wsu_later_4x_stepped_typical','datavol_wsu_later_4x_stepped_typical_target','datavol_wsu_later_4x_stepped_typical_cal','datavol_wsu_later_4x_stepped_typical_total','nvis_wsu_later_4x_stepped_typical_target','nvis_wsu_later_4x_stepped_typical_cal','nvis_wsu_later_4x_stepped_typical_total','datarate_wsu_early_stepped2_typical','visrate_wsu_early_stepped2_typical','datavol_wsu_early_stepped2_typical_target','datavol_wsu_early_stepped2_typical_cal','datavol_wsu_early_stepped2_typical_total','nvis_wsu_early_stepped2_typical_target','nvis_wsu_early_stepped2_typical_cal','nvis_wsu_early_stepped2_typical_total','datarate_wsu_later_2x_stepped2_typical','visrate_wsu_later_2x_stepped2_typical','datavol_wsu_later_2x_stepped2_typical_target','datavol_wsu_later_2x_stepped2_typical_cal','datavol_wsu_later_2x_stepped2_typical_total','nvis_wsu_later_2x_stepped2_typical_target','nvis_wsu_later_2x_stepped2_typical_cal','nvis_wsu_later_2x_stepped2_typical_total','datarate_wsu_later_4x_stepped2_typical','visrate_wsu_later_4x_stepped2_typical','datavol_wsu_later_4x_stepped2_typical_target','datavol_wsu_later_4x_stepped2_typical_cal','datavol_wsu_later_4x_stepped2_typical_total','nvis_wsu_later_4x_stepped2_typical_target','nvis_wsu_later_4x_stepped2_typical_cal','nvis_wsu_later_4x_stepped2_typical_total','datarate_wsu_early_finest_array','visrate_wsu_early_finest_array','datavol_wsu_early_finest_array_target','datavol_wsu_early_finest_array_cal','datavol_wsu_early_finest_array_total','nvis_wsu_early_finest_array_target','nvis_wsu_early_finest_array_cal','nvis_wsu_early_finest_array_total','datarate_wsu_later_2x_finest_array','visrate_wsu_later_2x_finest_array','datavol_wsu_later_2x_finest_array_target','datavol_wsu_later_2x_finest_array_cal','datavol_wsu_later_2x_finest_array_total','nvis_wsu_later_2x_finest_array_target','nvis_wsu_later_2x_finest_array_cal','nvis_wsu_later_2x_finest_array_total','datarate_wsu_later_4x_finest_array','visrate_wsu_later_4x_finest_array','datavol_wsu_later_4x_finest_array_target','datavol_wsu_later_4x_finest_array_cal','datavol_wsu_later_4x_finest_array_total','nvis_wsu_later_4x_finest_array_target','nvis_wsu_later_4x_finest_array_cal','nvis_wsu_later_4x_finest_array_total','datarate_wsu_early_stepped_array','visrate_wsu_early_stepped_array','datavol_wsu_early_stepped_array_target','datavol_wsu_early_stepped_array_cal','datavol_wsu_early_stepped_array_total','nvis_wsu_early_stepped_array_target','nvis_wsu_early_stepped_array_cal','nvis_wsu_early_stepped_array_total','datarate_wsu_later_2x_stepped_array','visrate_wsu_later_2x_stepped_array','datavol_wsu_later_2x_stepped_array_target','datavol_wsu_later_2x_stepped_array_cal','datavol_wsu_later_2x_stepped_array_total','nvis_wsu_later_2x_stepped_array_target','nvis_wsu_later_2x_stepped_array_cal','nvis_wsu_later_2x_stepped_array_total','datarate_wsu_later_4x_stepped_array','visrate_wsu_later_4x_stepped_array','datavol_wsu_later_4x_stepped_array_target','datavol_wsu_later_4x_stepped_array_cal','datavol_wsu_later_4x_stepped_array_total','nvis_wsu_later_4x_stepped_array_target','nvis_wsu_later_4x_stepped_array_cal','nvis_wsu_later_4x_stepped_array_total','datarate_wsu_early_stepped2_array','visrate_wsu_early_stepped2_array','datavol_wsu_early_stepped2_array_target','datavol_wsu_early_stepped2_array_cal','datavol_wsu_early_stepped2_array_total','nvis_wsu_early_stepped2_array_target','nvis_wsu_early_stepped2_array_cal','nvis_wsu_early_stepped2_array_total','datarate_wsu_later_2x_stepped2_array','visrate_wsu_later_2x_stepped2_array','datavol_wsu_later_2x_stepped2_array_target','datavol_wsu_later_2x_stepped2_array_cal','datavol_wsu_later_2x_stepped2_array_total','nvis_wsu_later_2x_stepped2_array_target','nvis_wsu_later_2x_stepped2_array_cal','nvis_wsu_later_2x_stepped2_array_total','datarate_wsu_later_4x_stepped2_array','visrate_wsu_later_4x_stepped2_array','datavol_wsu_later_4x_stepped2_array_target','datavol_wsu_later_4x_stepped2_array_cal','datavol_wsu_later_4x_stepped2_array_total','nvis_wsu_later_4x_stepped2_array_target','nvis_wsu_later_4x_stepped2_array_cal','nvis_wsu_later_4x_stepped2_array_total','datarate_wsu_early_finest_all','visrate_wsu_early_finest_all','datavol_wsu_early_finest_all_target','datavol_wsu_early_finest_all_cal','datavol_wsu_early_finest_all_total','nvis_wsu_early_finest_all_target','nvis_wsu_early_finest_all_cal','nvis_wsu_early_finest_all_total','datarate_wsu_later_2x_finest_all','visrate_wsu_later_2x_finest_all','datavol_wsu_later_2x_finest_all_target','datavol_wsu_later_2x_finest_all_cal','datavol_wsu_later_2x_finest_all_total','nvis_wsu_later_2x_finest_all_target','nvis_wsu_later_2x_finest_all_cal','nvis_wsu_later_2x_finest_all_total','datarate_wsu_later_4x_finest_all','visrate_wsu_later_4x_finest_all','datavol_wsu_later_4x_finest_all_target','datavol_wsu_later_4x_finest_all_cal','datavol_wsu_later_4x_finest_all_total','nvis_wsu_later_4x_finest_all_target','nvis_wsu_later_4x_finest_all_cal','nvis_wsu_later_4x_finest_all_total','datarate_wsu_early_stepped_all','visrate_wsu_early_stepped_all','datavol_wsu_early_stepped_all_target','datavol_wsu_early_stepped_all_cal','datavol_wsu_early_stepped_all_total','nvis_wsu_early_stepped_all_target','nvis_wsu_early_stepped_all_cal','nvis_wsu_early_stepped_all_total','datarate_wsu_later_2x_stepped_all','visrate_wsu_later_2x_stepped_all','datavol_wsu_later_2x_stepped_all_target','datavol_wsu_later_2x_stepped_all_cal','datavol_wsu_later_2x_stepped_all_total','nvis_wsu_later_2x_stepped_all_target','nvis_wsu_later_2x_stepped_all_cal','nvis_wsu_later_2x_stepped_all_total','datarate_wsu_later_4x_stepped_all','visrate_wsu_later_4x_stepped_all','datavol_wsu_later_4x_stepped_all_target','datavol_wsu_later_4x_stepped_all_cal','datavol_wsu_later_4x_stepped_all_total','nvis_wsu_later_4x_stepped_all_target','nvis_wsu_later_4x_stepped_all_cal','nvis_wsu_later_4x_stepped_all_total','datarate_wsu_early_stepped2_all','visrate_wsu_early_stepped2_all','datavol_wsu_early_stepped2_all_target','datavol_wsu_early_stepped2_all_cal','datavol_wsu_early_stepped2_all_total','nvis_wsu_early_stepped2_all_target','nvis_wsu_early_stepped2_all_cal','nvis_wsu_early_stepped2_all_total','datarate_wsu_later_2x_stepped2_all','visrate_wsu_later_2x_stepped2_all','datavol_wsu_later_2x_stepped2_all_target','datavol_wsu_later_2x_stepped2_all_cal','datavol_wsu_later_2x_stepped2_all_total','nvis_wsu_later_2x_stepped2_all_target','nvis_wsu_later_2x_stepped2_all_cal','nvis_wsu_later_2x_stepped2_all_total','datarate_wsu_later_4x_stepped2_all','visrate_wsu_later_4x_stepped2_all','datavol_wsu_later_4x_stepped2_all_target','datavol_wsu_later_4x_stepped2_all_cal','datavol_wsu_later_4x_stepped2_all_total','nvis_wsu_later_4x_stepped2_all_target','nvis_wsu_later_4x_stepped2_all_cal','nvis_wsu_later_4x_stepped2_all_total')>"
      ]
     },
     "execution_count": 111,
     "metadata": {},
     "output_type": "execute_result"
    }
   ],
   "source": [
    "result_rates.columns"
   ]
  },
  {
   "cell_type": "code",
   "execution_count": 112,
   "id": "2bc77fc3",
   "metadata": {},
   "outputs": [],
   "source": [
    "result_c8_rates = wsu_db.add_rates_to_db(result_c8_tos)"
   ]
  },
  {
   "cell_type": "code",
   "execution_count": 113,
   "id": "a5af1609",
   "metadata": {},
   "outputs": [
    {
     "data": {
      "text/latex": [
       "$[4959.455,~0.8111824,~17.82569,~\\dots,~0.69218592,~0.68717008,~0.4510782] \\; \\mathrm{}$"
      ],
      "text/plain": [
       "<Quantity [4.95945504e+03, 8.11182400e-01, 1.78256900e+01, ...,\n",
       "           6.92185920e-01, 6.87170080e-01, 4.51078200e-01]>"
      ]
     },
     "execution_count": 113,
     "metadata": {},
     "output_type": "execute_result"
    }
   ],
   "source": [
    "result_c8_rates['nvis_wsu_early_stepped2_typical_total']"
   ]
  },
  {
   "cell_type": "code",
   "execution_count": 117,
   "id": "45e68b71",
   "metadata": {},
   "outputs": [
    {
     "data": {
      "text/latex": [
       "$80.471013 \\; \\mathrm{Tbyte}$"
      ],
      "text/plain": [
       "<Quantity 80.47101336 Tbyte>"
      ]
     },
     "execution_count": 117,
     "metadata": {},
     "output_type": "execute_result"
    }
   ],
   "source": [
    "np.max(result_c8_rates['productsize_wsu_early_stepped2'].to(u.TB))"
   ]
  },
  {
   "cell_type": "code",
   "execution_count": 120,
   "id": "0919e487",
   "metadata": {
    "scrolled": true
   },
   "outputs": [
    {
     "data": {
      "text/latex": [
       "$2.8227899 \\; \\mathrm{Pbyte}$"
      ],
      "text/plain": [
       "<Quantity 2.82278993 Pbyte>"
      ]
     },
     "execution_count": 120,
     "metadata": {},
     "output_type": "execute_result"
    }
   ],
   "source": [
    "np.sum(result_c8_rates['productsize_wsu_early_stepped2'].to(u.PB))"
   ]
  },
  {
   "cell_type": "markdown",
   "id": "d59fbb0e",
   "metadata": {},
   "source": [
    "## calculating fractions of time"
   ]
  },
  {
   "cell_type": "code",
   "execution_count": 131,
   "id": "c0b780a6",
   "metadata": {},
   "outputs": [
    {
     "data": {
      "text/plain": [
       "<module 'wsu_db' from '/Users/akepley/Dropbox/Support/naasc/WSU/big_cubes/wsu_db.py'>"
      ]
     },
     "execution_count": 131,
     "metadata": {},
     "output_type": "execute_result"
    }
   ],
   "source": [
    "reload(wsu_db)"
   ]
  },
  {
   "cell_type": "code",
   "execution_count": 132,
   "id": "9e385603",
   "metadata": {},
   "outputs": [],
   "source": [
    "result_rates_frac = wsu_db.calc_frac_time(result_rates,cycle='c7')"
   ]
  },
  {
   "cell_type": "code",
   "execution_count": 134,
   "id": "be64aa3d",
   "metadata": {},
   "outputs": [
    {
     "data": {
      "text/plain": [
       "1.0"
      ]
     },
     "execution_count": 134,
     "metadata": {},
     "output_type": "execute_result"
    }
   ],
   "source": [
    "np.sum(result_rates_frac['frac_c7_target_time'])"
   ]
  },
  {
   "cell_type": "code",
   "execution_count": 135,
   "id": "622233a6",
   "metadata": {
    "scrolled": true
   },
   "outputs": [
    {
     "data": {
      "text/plain": [
       "0.00717072621059315"
      ]
     },
     "execution_count": 135,
     "metadata": {},
     "output_type": "execute_result"
    }
   ],
   "source": [
    "np.max(result_rates_frac['frac_c7_target_time'])"
   ]
  },
  {
   "cell_type": "code",
   "execution_count": 136,
   "id": "dc28ca2a",
   "metadata": {},
   "outputs": [],
   "source": [
    "result_c8_rates_frac = wsu_db.calc_frac_time(result_c8_rates,cycle='c8')"
   ]
  },
  {
   "cell_type": "code",
   "execution_count": 138,
   "id": "1b62a45e",
   "metadata": {},
   "outputs": [
    {
     "data": {
      "text/plain": [
       "1.0"
      ]
     },
     "execution_count": 138,
     "metadata": {},
     "output_type": "execute_result"
    }
   ],
   "source": [
    "np.sum(result_c8_rates_frac['frac_c8_target_time'])"
   ]
  },
  {
   "cell_type": "code",
   "execution_count": 140,
   "id": "66ad93b2",
   "metadata": {},
   "outputs": [
    {
     "data": {
      "text/plain": [
       "0.007069429338320445"
      ]
     },
     "execution_count": 140,
     "metadata": {},
     "output_type": "execute_result"
    }
   ],
   "source": [
    "np.max(result_c8_rates_frac['frac_c8_target_time'])"
   ]
  },
  {
   "cell_type": "markdown",
   "id": "7c4e3ebf",
   "metadata": {},
   "source": [
    "## Adding in current mitigation information"
   ]
  },
  {
   "cell_type": "code",
   "execution_count": 149,
   "id": "21835530",
   "metadata": {},
   "outputs": [],
   "source": [
    "c7_pickle = '/Users/akepley/Dropbox/Support/naasc/WSU/mitigation/weblog_stats/allc7_stats.20220930.pkl'\n",
    "c7_mit = pickle.load(open(c7_pickle,'rb'))\n",
    "c7_rpd = pd.DataFrame(c7_mit).transpose()"
   ]
  },
  {
   "cell_type": "code",
   "execution_count": 156,
   "id": "d8c90593",
   "metadata": {
    "scrolled": false
   },
   "outputs": [],
   "source": [
    "c7_astropy = Table.from_pandas(c7_rpd,index=True)\n",
    "c7_astropy.rename_column('index','mous')"
   ]
  },
  {
   "cell_type": "code",
   "execution_count": 157,
   "id": "6ae42040",
   "metadata": {
    "scrolled": false
   },
   "outputs": [
    {
     "data": {
      "text/html": [
       "<i>Table length=2565</i>\n",
       "<table id=\"table140341412220640\" class=\"table-striped table-bordered table-condensed\">\n",
       "<thead><tr><th>mous</th><th>project</th><th>plversion</th><th>procedure</th><th>nant</th><th>totaltime</th><th>imgtime</th><th>cubetime</th><th>aggtime</th><th>fctime</th><th>nEB</th><th>npt</th><th>nscan</th><th>reptgt</th><th>nscience</th><th>nspw</th><th>webpredrms</th><th>webcontrms</th><th>webcontBW</th><th>webfreq</th><th>webbm</th><th>webdirtyDR</th><th>webDRcorr</th><th>webcontpk</th><th>webfreqline</th><th>webbmline</th><th>webpredrmsline</th><th>webdirtyDRline</th><th>webDRcorrline</th><th>weblinerms</th><th>weblinepk</th><th>weblineBW</th><th>allowedcubesize</th><th>allowedcubelimit</th><th>predcubesize</th><th>mitigatedcubesize</th><th>allowedprodsize</th><th>initialprodsize</th><th>prodsizeaftercube</th><th>mitigatedprodsize</th><th>mitigated</th><th>mit_nbins</th><th>mit_hm_imsize</th><th>mit_hm_cell</th><th>mit_field</th><th>mit_spw</th></tr></thead>\n",
       "<thead><tr><th>str22</th><th>str14</th><th>str4</th><th>str20</th><th>object</th><th>object</th><th>object</th><th>object</th><th>object</th><th>object</th><th>object</th><th>object</th><th>object</th><th>str35</th><th>object</th><th>object</th><th>object</th><th>object</th><th>object</th><th>object</th><th>object</th><th>object</th><th>object</th><th>object</th><th>object</th><th>object</th><th>object</th><th>object</th><th>object</th><th>object</th><th>object</th><th>object</th><th>object</th><th>object</th><th>object</th><th>object</th><th>object</th><th>object</th><th>object</th><th>object</th><th>object</th><th>str64</th><th>str7</th><th>str7</th><th>str846</th><th>str54</th></tr></thead>\n",
       "<tr><td>uid___A001_X1465_X1002</td><td>2019.1.01326.S</td><td>C7</td><td>hifa_calimage</td><td>10</td><td>5.1194444444444445</td><td>4.113333333333333</td><td>3.731666666666667</td><td>0.06194444444444445</td><td>0.16666666666666666</td><td>1</td><td>34</td><td>2</td><td>Position_8</td><td>1</td><td>4</td><td>0.0019</td><td>0.0025</td><td>2.76</td><td>92.6159</td><td>13.628499550574158</td><td>54.0</td><td>2.5</td><td>0.105</td><td>85.9</td><td>15.461953304805961</td><td>0.079</td><td>38.0</td><td>2.5</td><td>0.074</td><td>3.49</td><td>1.8727352000000002</td><td>40.0</td><td>60.0</td><td>1.68</td><td>1.68</td><td>350.0</td><td>11.7</td><td>11.7</td><td>11.7</td><td>False</td><td>default</td><td>default</td><td>default</td><td>default</td><td>default</td></tr>\n",
       "<tr><td>uid___A001_X1465_X1008</td><td>2019.1.01326.S</td><td>C7</td><td>hifa_calimage</td><td>10</td><td>1.9755555555555557</td><td>1.267777777777778</td><td>0.9855555555555555</td><td>0.05583333333333334</td><td>0.10694444444444444</td><td>1</td><td>39</td><td>1</td><td>Position_2</td><td>1</td><td>4</td><td>0.0014</td><td>0.0017</td><td>6.65</td><td>100.8709</td><td>12.991420245685227</td><td>6.9</td><td>1.5</td><td>0.0171</td><td>93.9</td><td>14.877499789951266</td><td>0.085</td><td>25.0</td><td>2.5</td><td>0.077</td><td>2.14</td><td>1.863162</td><td>40.0</td><td>60.0</td><td>0.86</td><td>0.86</td><td>350.0</td><td>6.88</td><td>6.88</td><td>6.88</td><td>False</td><td>default</td><td>default</td><td>default</td><td>default</td><td>default</td></tr>\n",
       "<tr><td>uid___A001_X1465_X100e</td><td>2019.1.01326.S</td><td>C7</td><td>hifa_calimage</td><td>10</td><td>2.3316666666666666</td><td>1.5105555555555559</td><td>1.1925000000000001</td><td>0.06055555555555556</td><td>0.12555555555555556</td><td>1</td><td>39</td><td>1</td><td>Position_3</td><td>1</td><td>4</td><td>0.0013</td><td>0.0016</td><td>6.51</td><td>100.8724</td><td>13.053160536820192</td><td>12.0</td><td>2.0</td><td>0.0174</td><td>93.9</td><td>14.458215657542254</td><td>0.076</td><td>34.0</td><td>2.5</td><td>0.073</td><td>3.27</td><td>1.8709740000000001</td><td>40.0</td><td>60.0</td><td>0.839</td><td>0.839</td><td>350.0</td><td>6.71</td><td>6.71</td><td>6.71</td><td>False</td><td>default</td><td>default</td><td>default</td><td>default</td><td>default</td></tr>\n",
       "<tr><td>uid___A001_X1465_X1014</td><td>2019.1.01326.S</td><td>C7</td><td>hifa_calimage</td><td>9</td><td>2.283888888888889</td><td>1.5136111111111115</td><td>1.2166666666666668</td><td>0.04527777777777778</td><td>0.1175</td><td>1</td><td>39</td><td>1</td><td>Position_4</td><td>1</td><td>4</td><td>0.0014</td><td>0.0016</td><td>6.85</td><td>100.8729</td><td>12.373560522339558</td><td>4.1</td><td>1.5</td><td>0.0161</td><td>93.9</td><td>14.043076585990693</td><td>0.095</td><td>18.0</td><td>2.0</td><td>0.09</td><td>2.08</td><td>1.8709740000000001</td><td>40.0</td><td>60.0</td><td>0.86</td><td>0.86</td><td>350.0</td><td>6.88</td><td>6.88</td><td>6.88</td><td>False</td><td>default</td><td>default</td><td>default</td><td>default</td><td>default</td></tr>\n",
       "<tr><td>uid___A001_X1465_X101a</td><td>2019.1.01326.S</td><td>C7</td><td>hifa_calimage</td><td>9</td><td>2.1558333333333333</td><td>1.357777777777778</td><td>1.0480555555555557</td><td>0.058333333333333334</td><td>0.12361111111111112</td><td>1</td><td>39</td><td>1</td><td>Position_5</td><td>1</td><td>4</td><td>0.0015</td><td>0.0018</td><td>6.64</td><td>100.8733</td><td>12.637444361895326</td><td>9.0</td><td>1.5</td><td>0.0192</td><td>93.9</td><td>14.30971697833329</td><td>0.095</td><td>14.0</td><td>2.0</td><td>0.091</td><td>1.54</td><td>1.8709740000000001</td><td>40.0</td><td>60.0</td><td>0.86</td><td>0.86</td><td>350.0</td><td>6.88</td><td>6.88</td><td>6.88</td><td>False</td><td>default</td><td>default</td><td>default</td><td>default</td><td>default</td></tr>\n",
       "<tr><td>uid___A001_X1465_X1020</td><td>2019.1.01326.S</td><td>C7</td><td>hifa_calimage</td><td>9</td><td>2.058611111111111</td><td>1.3386111111111112</td><td>1.0475</td><td>0.05</td><td>0.10333333333333333</td><td>1</td><td>39</td><td>1</td><td>Position_6</td><td>1</td><td>4</td><td>0.0022</td><td>0.0043</td><td>2.84</td><td>100.8397</td><td>14.280756282494286</td><td>110.0</td><td>3.6</td><td>0.255</td><td>93.9</td><td>16.75857989210303</td><td>0.1</td><td>54.0</td><td>2.5</td><td>0.084</td><td>6.62</td><td>1.8709740000000001</td><td>40.0</td><td>60.0</td><td>0.708</td><td>0.708</td><td>350.0</td><td>5.67</td><td>5.67</td><td>5.67</td><td>False</td><td>default</td><td>default</td><td>default</td><td>default</td><td>default</td></tr>\n",
       "<tr><td>uid___A001_X1465_X1026</td><td>2019.1.01326.S</td><td>C7</td><td>hifa_calimage</td><td>10</td><td>2.2508333333333335</td><td>1.4333333333333336</td><td>1.1119444444444446</td><td>0.060833333333333336</td><td>0.11722222222222223</td><td>1</td><td>39</td><td>1</td><td>Position_7</td><td>1</td><td>4</td><td>0.0014</td><td>0.0022</td><td>6.03</td><td>100.8724</td><td>13.603492198696628</td><td>28.0</td><td>2.5</td><td>0.0435</td><td>93.9</td><td>15.484185480676729</td><td>0.078</td><td>34.0</td><td>2.5</td><td>0.069</td><td>3.98</td><td>1.867068</td><td>40.0</td><td>60.0</td><td>0.892</td><td>0.892</td><td>350.0</td><td>7.14</td><td>7.14</td><td>7.14</td><td>False</td><td>default</td><td>default</td><td>default</td><td>default</td><td>default</td></tr>\n",
       "<tr><td>uid___A001_X1465_X102c</td><td>2019.1.01326.S</td><td>C7</td><td>hifa_calimage</td><td>10</td><td>2.8238888888888884</td><td>1.7941666666666667</td><td>1.4258333333333335</td><td>0.07944444444444444</td><td>0.11638888888888889</td><td>1</td><td>39</td><td>1</td><td>Position_7</td><td>1</td><td>4</td><td>0.0018</td><td>0.002</td><td>5.16</td><td>101.0561</td><td>13.564659966250536</td><td>84.0</td><td>2.8</td><td>0.153</td><td>93.9</td><td>15.110592311355633</td><td>0.089</td><td>110.0</td><td>3.6</td><td>0.08</td><td>13.0</td><td>1.8711656</td><td>40.0</td><td>60.0</td><td>0.472</td><td>0.472</td><td>350.0</td><td>3.78</td><td>3.78</td><td>3.78</td><td>False</td><td>default</td><td>default</td><td>default</td><td>default</td><td>default</td></tr>\n",
       "<tr><td>uid___A001_X1465_X1032</td><td>2019.1.01326.S</td><td>2020</td><td>hifa_calimage</td><td>9</td><td>7.6258333333333335</td><td>5.505833333333334</td><td>3.595277777777778</td><td>0.34055555555555556</td><td>1.0438888888888889</td><td>1</td><td>139</td><td>6</td><td>Position_1-R</td><td>1</td><td>4</td><td>0.0017</td><td>0.0019</td><td>5.4</td><td>254.1533</td><td>5.4279277813913485</td><td>4.2</td><td>1.5</td><td>0.0192</td><td>261.15</td><td>5.492722457943784</td><td>0.1</td><td>12.0</td><td>2.0</td><td>0.091</td><td>1.61</td><td>1.870189</td><td>40.0</td><td>60.0</td><td>1.39</td><td>1.39</td><td>350.0</td><td>11.1</td><td>11.1</td><td>11.1</td><td>False</td><td>default</td><td>default</td><td>default</td><td>default</td><td>default</td></tr>\n",
       "<tr><td>uid___A001_X1465_X1038</td><td>2019.1.01326.S</td><td>2020</td><td>hifa_image</td><td>9</td><td>1.5972222222222223</td><td>1.1397222222222223</td><td>0.7816666666666667</td><td>0.05333333333333334</td><td>0.16666666666666666</td><td>1</td><td>139</td><td>6</td><td>Position_1-L</td><td>1</td><td>4</td><td>0.002</td><td>0.0023</td><td>5.59</td><td>254.1646</td><td>5.904743855579174</td><td>7.6</td><td>1.5</td><td>0.0253</td><td>261.15</td><td>5.820360813557867</td><td>0.12</td><td>9.8</td><td>1.5</td><td>0.11</td><td>2.04</td><td>1.8662826</td><td>40.0</td><td>60.0</td><td>1.72</td><td>1.72</td><td>350.0</td><td>13.8</td><td>13.8</td><td>13.8</td><td>False</td><td>default</td><td>default</td><td>default</td><td>default</td><td>default</td></tr>\n",
       "<tr><td>...</td><td>...</td><td>...</td><td>...</td><td>...</td><td>...</td><td>...</td><td>...</td><td>...</td><td>...</td><td>...</td><td>...</td><td>...</td><td>...</td><td>...</td><td>...</td><td>...</td><td>...</td><td>...</td><td>...</td><td>...</td><td>...</td><td>...</td><td>...</td><td>...</td><td>...</td><td>...</td><td>...</td><td>...</td><td>...</td><td>...</td><td>...</td><td>...</td><td>...</td><td>...</td><td>...</td><td>...</td><td>...</td><td>...</td><td>...</td><td>...</td><td>...</td><td>...</td><td>...</td><td>...</td><td>...</td></tr>\n",
       "<tr><td>uid___A001_X15a2_Xaa3</td><td>2019.1.01324.T</td><td>2021</td><td>hifa_calimage_renorm</td><td>45</td><td>69.97583333333334</td><td>43.46333333333333</td><td>12.576944444444445</td><td>1.2941666666666665</td><td>24.90861111111111</td><td>1</td><td>1</td><td>9</td><td>GX_339-4</td><td>1</td><td>4</td><td>2.9e-05</td><td>3.5e-05</td><td>7.39</td><td>233.0175</td><td>0.05326312044933155</td><td>84.0</td><td>2.0</td><td>0.00244</td><td>242.0</td><td>0.05563308368228387</td><td>0.0023</td><td>13.0</td><td>1.0</td><td>2.4</td><td>0.0339</td><td>1.8731187999999999</td><td>40.0</td><td>60.0</td><td>156.0</td><td>38.9</td><td>500.0</td><td>1240.0</td><td>77.8</td><td>77.8</td><td>True</td><td>default</td><td>0.68pb</td><td>default</td><td>default</td><td>31</td></tr>\n",
       "<tr><td>uid___A001_X15a2_Xab1</td><td>2019.1.01324.T</td><td>2021</td><td>hifa_calimage_renorm</td><td>42</td><td>23.29888888888889</td><td>13.06388888888889</td><td>10.904444444444445</td><td>0.25027777777777777</td><td>1.2483333333333333</td><td>1</td><td>1</td><td>7</td><td>GX_339-4</td><td>1</td><td>4</td><td>2.9e-05</td><td>3.4e-05</td><td>6.21</td><td>97.5096</td><td>0.12280065146407002</td><td>150.0</td><td>2.5</td><td>0.0043</td><td>104.5</td><td>0.12789057822998534</td><td>0.0018</td><td>7.3</td><td>1.0</td><td>2.0</td><td>0.0179</td><td>1.8721422</td><td>40.0</td><td>60.0</td><td>181.0</td><td>14.0</td><td>500.0</td><td>1450.0</td><td>112.0</td><td>112.0</td><td>True</td><td>default</td><td>0.7pb</td><td>3ppb</td><td>default</td><td>default</td></tr>\n",
       "<tr><td>uid___A001_X15a2_Xab4</td><td>2019.1.01324.T</td><td>2021</td><td>hifa_calimage_renorm</td><td>45</td><td>29.66472222222222</td><td>17.71277777777778</td><td>15.154444444444445</td><td>0.30916666666666665</td><td>1.4558333333333333</td><td>1</td><td>1</td><td>7</td><td>GX_339-4</td><td>1</td><td>4</td><td>2.5e-05</td><td>2.8e-05</td><td>7.04</td><td>97.5076</td><td>0.11410828190801929</td><td>130.0</td><td>2.5</td><td>0.00331</td><td>104.5</td><td>0.11344602240713422</td><td>0.0016</td><td>6.8</td><td>1.0</td><td>1.8</td><td>0.0145</td><td>1.8731187999999999</td><td>40.0</td><td>60.0</td><td>276.0</td><td>20.2</td><td>500.0</td><td>2210.0</td><td>161.0</td><td>161.0</td><td>True</td><td>default</td><td>0.7pb</td><td>3ppb</td><td>default</td><td>default</td></tr>\n",
       "<tr><td>uid___A001_X15a2_Xab7</td><td>2019.1.01324.T</td><td>2021</td><td>hifa_calimage_renorm</td><td>42</td><td>31.281388888888888</td><td>13.486944444444443</td><td>10.138055555555555</td><td>0.21333333333333335</td><td>2.5413888888888887</td><td>1</td><td>1</td><td>6</td><td>GX_339-4</td><td>1</td><td>4</td><td>3e-05</td><td>3.4e-05</td><td>6.42</td><td>97.5028</td><td>0.16244999230532453</td><td>64.0</td><td>2.0</td><td>0.00191</td><td>104.5</td><td>0.16023732399163437</td><td>0.002</td><td>6.7</td><td>1.0</td><td>2.1</td><td>0.0161</td><td>1.8731187999999999</td><td>40.0</td><td>60.0</td><td>156.0</td><td>35.8</td><td>500.0</td><td>1240.0</td><td>71.7</td><td>71.7</td><td>True</td><td>default</td><td>0.68pb</td><td>default</td><td>default</td><td>23</td></tr>\n",
       "<tr><td>uid___A001_X15a2_Xed4</td><td>2019.1.00863.T</td><td>2021</td><td>hifa_calimage_renorm</td><td>44</td><td>4.855277777777777</td><td>0.8577777777777779</td><td>0.42083333333333334</td><td>0.09805555555555555</td><td>0.14888888888888888</td><td>1</td><td>1</td><td>4</td><td>GRB211106A</td><td>1</td><td>4</td><td>1.1e-05</td><td>1.3e-05</td><td>6.94</td><td>97.5006</td><td>0.41629797020883974</td><td>8.2</td><td>1.0</td><td>0.000155</td><td>102.5</td><td>0.4131101548013556</td><td>0.00014000000000000001</td><td>6.1</td><td>1.0</td><td>0.16</td><td>0.00275</td><td>1.8283005</td><td>40.0</td><td>60.0</td><td>1.66</td><td>1.66</td><td>500.0</td><td>13.4</td><td>13.4</td><td>13.4</td><td>False</td><td>default</td><td>default</td><td>default</td><td>default</td><td>default</td></tr>\n",
       "<tr><td>uid___A001_X15a3_X5</td><td>2019.A.00040.S</td><td>2021</td><td>hifa_calimage_renorm</td><td>46</td><td>65.73444444444445</td><td>18.252499999999998</td><td>10.916666666666666</td><td>0.3561111111111111</td><td>2.43</td><td>3</td><td>1</td><td>44</td><td>ASASSN-21qj</td><td>1</td><td>4</td><td>1.5e-05</td><td>1.7e-05</td><td>5.9</td><td>341.4157</td><td>0.017893015397076033</td><td>6.4</td><td>1.0</td><td>0.000107</td><td>346.575</td><td>0.01794435844492636</td><td>0.00019</td><td>7.2</td><td>1.0</td><td>1.0</td><td>0.00791</td><td>1.8721422</td><td>40.0</td><td>60.0</td><td>1150.0</td><td>44.2</td><td>500.0</td><td>2520.0</td><td>106.0</td><td>106.0</td><td>True</td><td>21:1,25:2,23:1,19:1</td><td>0.7pb</td><td>3ppb</td><td>default</td><td>default</td></tr>\n",
       "<tr><td>uid___A001_X15a9_X134d</td><td>2019.1.01634.L</td><td>2021</td><td>hifa_calimage_renorm</td><td>46</td><td>4.651944444444445</td><td>0.3486111111111111</td><td>0.05694444444444445</td><td>0.053611111111111116</td><td>0.034722222222222224</td><td>2</td><td>1</td><td>3</td><td>UVISTA-J-1212</td><td>1</td><td>3</td><td>1.5e-05</td><td>1.9e-05</td><td>5.27</td><td>219.1503</td><td>1.2767928571228773</td><td>17.0</td><td>1.0</td><td>0.000497</td><td>220.8807</td><td>1.2913171570144957</td><td>0.00039</td><td>6.0</td><td>1.0</td><td>0.51</td><td>0.00758</td><td>1.8438916</td><td>40.0</td><td>60.0</td><td>0.0384</td><td>0.0384</td><td>500.0</td><td>0.231</td><td>0.231</td><td>0.231</td><td>False</td><td>default</td><td>default</td><td>default</td><td>default</td><td>default</td></tr>\n",
       "<tr><td>uid___A001_X15a9_X1351</td><td>2019.1.01634.L</td><td>2021</td><td>hifa_calimage_renorm</td><td>46</td><td>2.147222222222222</td><td>0.1983333333333333</td><td>0.02861111111111111</td><td>0.03638888888888889</td><td>0.015833333333333335</td><td>1</td><td>1</td><td>3</td><td>UVISTA-J-1212</td><td>1</td><td>3</td><td>2.2e-05</td><td>2.7e-05</td><td>5.2</td><td>224.5336</td><td>1.3259713420734252</td><td>10.0</td><td>1.0</td><td>0.000444</td><td>226.2563</td><td>1.3416407864998738</td><td>0.00055</td><td>6.2</td><td>1.0</td><td>0.66</td><td>0.009269999999999999</td><td>1.859494</td><td>40.0</td><td>60.0</td><td>0.0354</td><td>0.0354</td><td>500.0</td><td>0.213</td><td>0.213</td><td>0.213</td><td>False</td><td>default</td><td>default</td><td>default</td><td>default</td><td>default</td></tr>\n",
       "<tr><td>uid___A001_X15aa_X74</td><td>2019.1.00863.T</td><td>2021</td><td>hifa_calimage_renorm</td><td>44</td><td>4.363888888888889</td><td>0.5072222222222221</td><td>0.16694444444444442</td><td>0.06611111111111112</td><td>0.09083333333333334</td><td>1</td><td>1</td><td>4</td><td>GRB211106A</td><td>1</td><td>4</td><td>1.2e-05</td><td>1.4e-05</td><td>6.94</td><td>97.4997</td><td>0.6413018010266305</td><td>5.2</td><td>1.0</td><td>0.000199</td><td>102.5</td><td>0.6305608614558947</td><td>0.00015</td><td>6.2</td><td>1.0</td><td>0.18</td><td>0.00321</td><td>1.8282771</td><td>40.0</td><td>60.0</td><td>0.484</td><td>0.484</td><td>500.0</td><td>3.9</td><td>3.9</td><td>3.9</td><td>False</td><td>default</td><td>default</td><td>default</td><td>default</td><td>default</td></tr>\n",
       "<tr><td>uid___A001_X15aa_X77</td><td>2019.1.00863.T</td><td>2021</td><td>hifa_calimage_renorm</td><td>42</td><td>4.161388888888889</td><td>0.418888888888889</td><td>0.11416666666666667</td><td>0.06194444444444445</td><td>0.06916666666666667</td><td>1</td><td>1</td><td>4</td><td>GRB211106A</td><td>1</td><td>4</td><td>1.2e-05</td><td>1.4e-05</td><td>6.66</td><td>97.3728</td><td>1.0641898326896382</td><td>4.8</td><td>1.0</td><td>0.000146</td><td>102.5</td><td>1.043335995736752</td><td>0.00015</td><td>5.8</td><td>1.0</td><td>0.17</td><td>0.00257</td><td>1.828242</td><td>40.0</td><td>60.0</td><td>0.21</td><td>0.21</td><td>500.0</td><td>1.69</td><td>1.69</td><td>1.69</td><td>False</td><td>default</td><td>default</td><td>default</td><td>default</td><td>default</td></tr>\n",
       "</table>"
      ],
      "text/plain": [
       "<Table length=2565>\n",
       "         mous             project     plversion ... mit_field mit_spw\n",
       "        str22              str14         str4   ...   str846   str54 \n",
       "---------------------- -------------- --------- ... --------- -------\n",
       "uid___A001_X1465_X1002 2019.1.01326.S        C7 ...   default default\n",
       "uid___A001_X1465_X1008 2019.1.01326.S        C7 ...   default default\n",
       "uid___A001_X1465_X100e 2019.1.01326.S        C7 ...   default default\n",
       "uid___A001_X1465_X1014 2019.1.01326.S        C7 ...   default default\n",
       "uid___A001_X1465_X101a 2019.1.01326.S        C7 ...   default default\n",
       "uid___A001_X1465_X1020 2019.1.01326.S        C7 ...   default default\n",
       "uid___A001_X1465_X1026 2019.1.01326.S        C7 ...   default default\n",
       "uid___A001_X1465_X102c 2019.1.01326.S        C7 ...   default default\n",
       "uid___A001_X1465_X1032 2019.1.01326.S      2020 ...   default default\n",
       "uid___A001_X1465_X1038 2019.1.01326.S      2020 ...   default default\n",
       "                   ...            ...       ... ...       ...     ...\n",
       " uid___A001_X15a2_Xaa3 2019.1.01324.T      2021 ...   default      31\n",
       " uid___A001_X15a2_Xab1 2019.1.01324.T      2021 ...   default default\n",
       " uid___A001_X15a2_Xab4 2019.1.01324.T      2021 ...   default default\n",
       " uid___A001_X15a2_Xab7 2019.1.01324.T      2021 ...   default      23\n",
       " uid___A001_X15a2_Xed4 2019.1.00863.T      2021 ...   default default\n",
       "   uid___A001_X15a3_X5 2019.A.00040.S      2021 ...   default default\n",
       "uid___A001_X15a9_X134d 2019.1.01634.L      2021 ...   default default\n",
       "uid___A001_X15a9_X1351 2019.1.01634.L      2021 ...   default default\n",
       "  uid___A001_X15aa_X74 2019.1.00863.T      2021 ...   default default\n",
       "  uid___A001_X15aa_X77 2019.1.00863.T      2021 ...   default default"
      ]
     },
     "execution_count": 157,
     "metadata": {},
     "output_type": "execute_result"
    }
   ],
   "source": [
    "c7_astropy"
   ]
  },
  {
   "cell_type": "markdown",
   "id": "d2eff658",
   "metadata": {},
   "source": [
    "Things to think about:\n",
    "* Need to confirm the above to mous version with slashes.\n",
    "* This information is per MOUS not per MOUS/SRC. Can I do some sort of grouping to generate a table that might make sense and calculate totals per MOUS??\n"
   ]
  },
  {
   "cell_type": "code",
   "execution_count": 161,
   "id": "06756e31",
   "metadata": {},
   "outputs": [],
   "source": [
    "test = join(result_rates_frac,c7_astropy)"
   ]
  },
  {
   "cell_type": "code",
   "execution_count": 164,
   "id": "97809e6b",
   "metadata": {},
   "outputs": [
    {
     "data": {
      "text/html": [
       "&lt;Column name=&apos;mous&apos; dtype=&apos;str22&apos; length=11519&gt;\n",
       "<table>\n",
       "<tr><td>uid://A001/X1465/X1002</td></tr>\n",
       "<tr><td>uid://A001/X1465/X1008</td></tr>\n",
       "<tr><td>uid://A001/X1465/X100e</td></tr>\n",
       "<tr><td>uid://A001/X1465/X1014</td></tr>\n",
       "<tr><td>uid://A001/X1465/X101a</td></tr>\n",
       "<tr><td>uid://A001/X1465/X1020</td></tr>\n",
       "<tr><td>uid://A001/X1465/X1026</td></tr>\n",
       "<tr><td>uid://A001/X1465/X102c</td></tr>\n",
       "<tr><td>uid://A001/X1465/X1032</td></tr>\n",
       "<tr><td>uid://A001/X1465/X1038</td></tr>\n",
       "<tr><td>uid://A001/X1465/X103e</td></tr>\n",
       "<tr><td>uid://A001/X1465/X1044</td></tr>\n",
       "<tr><td>...</td></tr>\n",
       "<tr><td>uid://A001/X15a2/Xaa3</td></tr>\n",
       "<tr><td>uid://A001/X15a2/Xaa7</td></tr>\n",
       "<tr><td>uid://A001/X15a2/Xab1</td></tr>\n",
       "<tr><td>uid://A001/X15a2/Xab4</td></tr>\n",
       "<tr><td>uid://A001/X15a2/Xab7</td></tr>\n",
       "<tr><td>uid://A001/X15a2/Xed4</td></tr>\n",
       "<tr><td>uid://A001/X15a3/X18</td></tr>\n",
       "<tr><td>uid://A001/X15a3/X5</td></tr>\n",
       "<tr><td>uid://A001/X15a9/X134d</td></tr>\n",
       "<tr><td>uid://A001/X15a9/X1351</td></tr>\n",
       "<tr><td>uid://A001/X15aa/X74</td></tr>\n",
       "<tr><td>uid://A001/X15aa/X77</td></tr>\n",
       "</table>"
      ],
      "text/plain": [
       "<Column name='mous' dtype='str22' length=11519>\n",
       "uid://A001/X1465/X1002\n",
       "uid://A001/X1465/X1008\n",
       "uid://A001/X1465/X100e\n",
       "uid://A001/X1465/X1014\n",
       "uid://A001/X1465/X101a\n",
       "uid://A001/X1465/X1020\n",
       "uid://A001/X1465/X1026\n",
       "uid://A001/X1465/X102c\n",
       "uid://A001/X1465/X1032\n",
       "uid://A001/X1465/X1038\n",
       "uid://A001/X1465/X103e\n",
       "uid://A001/X1465/X1044\n",
       "                   ...\n",
       " uid://A001/X15a2/Xaa3\n",
       " uid://A001/X15a2/Xaa7\n",
       " uid://A001/X15a2/Xab1\n",
       " uid://A001/X15a2/Xab4\n",
       " uid://A001/X15a2/Xab7\n",
       " uid://A001/X15a2/Xed4\n",
       "  uid://A001/X15a3/X18\n",
       "   uid://A001/X15a3/X5\n",
       "uid://A001/X15a9/X134d\n",
       "uid://A001/X15a9/X1351\n",
       "  uid://A001/X15aa/X74\n",
       "  uid://A001/X15aa/X77"
      ]
     },
     "execution_count": 164,
     "metadata": {},
     "output_type": "execute_result"
    }
   ],
   "source": [
    "result_rates_frac['mous']"
   ]
  },
  {
   "cell_type": "code",
   "execution_count": null,
   "id": "92e1797b",
   "metadata": {},
   "outputs": [],
   "source": []
  },
  {
   "cell_type": "code",
   "execution_count": null,
   "id": "0603bde2",
   "metadata": {},
   "outputs": [],
   "source": []
  },
  {
   "cell_type": "code",
   "execution_count": null,
   "id": "630aa24e",
   "metadata": {},
   "outputs": [],
   "source": []
  },
  {
   "cell_type": "code",
   "execution_count": null,
   "id": "84af7574",
   "metadata": {},
   "outputs": [],
   "source": [
    "c7_pickle = '/Users/akepley/Dropbox/Support/naasc/WSU/mitigation/weblog_stats/allc7_stats.20220930.pkl'\n",
    "c7_mit = pickle.load(open(c7_pickle,'rb'))\n",
    "c7_rpd = pd.DataFrame(c7_mit).transpose()"
   ]
  },
  {
   "cell_type": "code",
   "execution_count": null,
   "id": "d5bca7eb",
   "metadata": {},
   "outputs": [],
   "source": []
  },
  {
   "cell_type": "code",
   "execution_count": null,
   "id": "11f266db",
   "metadata": {},
   "outputs": [],
   "source": []
  },
  {
   "cell_type": "code",
   "execution_count": null,
   "id": "d0852296",
   "metadata": {},
   "outputs": [],
   "source": []
  },
  {
   "cell_type": "code",
   "execution_count": null,
   "id": "d4ccdd5c",
   "metadata": {},
   "outputs": [],
   "source": []
  },
  {
   "cell_type": "markdown",
   "id": "e5ecb751",
   "metadata": {},
   "source": [
    "## Writing out the final file"
   ]
  },
  {
   "cell_type": "markdown",
   "id": "bc5da0f0",
   "metadata": {},
   "source": [
    "## Mosaic imsize investigation"
   ]
  },
  {
   "cell_type": "code",
   "execution_count": null,
   "id": "6c75dfad",
   "metadata": {},
   "outputs": [],
   "source": [
    "idx = (result['mosaic'] == 'T') & (result['imsize'] >5800)\n",
    "result['mous','imsize','cell','s_fov','s_resolution','wsu_freq','pb','mosaic'][idx]"
   ]
  },
  {
   "cell_type": "code",
   "execution_count": null,
   "id": "66e84448",
   "metadata": {
    "scrolled": true
   },
   "outputs": [],
   "source": [
    "0.01056278408537675 *3600.0  "
   ]
  },
  {
   "cell_type": "markdown",
   "id": "3651795b",
   "metadata": {},
   "source": [
    "Image pre-check values for  2019.1.00796.S, uid://A001/X1471/X317\t\n",
    "\n",
    "* beam = 0.0457 x 0.0404 arcsec\n",
    "* cell = 0.0081 x 0.0081 arcsec\n",
    "\n",
    "Unmitigated imsize calculated in pipeline for X317 is 7776, 7776 according to SCG tests\n",
    "\n",
    "eye balling the spatial set up it looks like there's 10-12arcsec between pointings and the plot says the primary beam is 26.0arcsec\n",
    "\n",
    "The pipeline math is   \n",
    "\n",
    "npts <= 3\n",
    "* nxpix = int((1.65 * beam_radius_v + xspread) / cellx_v)\n",
    "\n",
    "npts >3\n",
    "* nxpix = int((1.5 * beam_radius_v + xspread) / cellx_v)\n",
    "\n",
    "We only have two pointings here.\n",
    "\n"
   ]
  },
  {
   "cell_type": "code",
   "execution_count": null,
   "id": "8637bbf3",
   "metadata": {},
   "outputs": [],
   "source": [
    "(26.0 + 10.0)"
   ]
  },
  {
   "cell_type": "code",
   "execution_count": null,
   "id": "25f87961",
   "metadata": {},
   "outputs": [],
   "source": [
    "(1.65 * 26.0 + 10.0)/0.0081"
   ]
  },
  {
   "cell_type": "markdown",
   "id": "1fcee162",
   "metadata": {},
   "source": [
    "So my estimate is a little on the low end, but not crazy"
   ]
  },
  {
   "cell_type": "code",
   "execution_count": null,
   "id": "7e23da1f",
   "metadata": {},
   "outputs": [],
   "source": [
    "(0.01044*3600+25.6*0.70)/0.0072"
   ]
  },
  {
   "cell_type": "markdown",
   "id": "648f8eaf",
   "metadata": {},
   "source": [
    "## Imsize investigation"
   ]
  },
  {
   "cell_type": "markdown",
   "id": "cf15c8e3",
   "metadata": {},
   "source": [
    "Something is  odd with my image sizes. I'm using 2019.1.01463.S uid://A001/X1465/Xc05 as my poster child\n",
    "\n",
    "For the unmitigated imaging done by the pipeline, the pipeline calculates the following values:\n",
    "* beam: 0.0322\" x 0.0211\"\n",
    "* cell: 0.0042\" x 0.0042\"\n",
    "* imsize: [11250, 11250] pixels\n",
    "* FOV: 47.25 arcsec"
   ]
  },
  {
   "cell_type": "markdown",
   "id": "502d704b",
   "metadata": {},
   "source": [
    "Now let's look at what I get from my calculations"
   ]
  },
  {
   "cell_type": "code",
   "execution_count": null,
   "id": "7d82b830",
   "metadata": {
    "scrolled": false
   },
   "outputs": [],
   "source": [
    "#2019.1.01463.S\n",
    "idx =result['mous'] == 'uid://A001/X1465/Xc05'\n",
    "result['mous','s_fov','s_resolution','imsize','wsu_nchan_final_stepped','wsu_nchan_final_finest','mosaic'][idx]"
   ]
  },
  {
   "cell_type": "code",
   "execution_count": null,
   "id": "9c062794",
   "metadata": {},
   "outputs": [],
   "source": [
    "np.log10(237037.03703703705)"
   ]
  },
  {
   "cell_type": "code",
   "execution_count": null,
   "id": "28f6e6c0",
   "metadata": {},
   "outputs": [],
   "source": [
    "np.log10(32921.81069958848)"
   ]
  },
  {
   "cell_type": "code",
   "execution_count": null,
   "id": "ec6e0df5",
   "metadata": {},
   "outputs": [],
   "source": [
    "# the imsize is\n",
    "0.007157768473981626*3600.00 # arcsec"
   ]
  },
  {
   "cell_type": "code",
   "execution_count": null,
   "id": "e6d5676e",
   "metadata": {
    "scrolled": true
   },
   "outputs": [],
   "source": [
    "# What's the estimated imsize at this frequency??\n",
    "# frequency\n",
    "freq = 218.821 #GHz\n",
    "19.4*300/218.821"
   ]
  },
  {
   "cell_type": "markdown",
   "id": "088ace75",
   "metadata": {},
   "source": [
    "This is comparable to the imsize calculated above."
   ]
  },
  {
   "cell_type": "code",
   "execution_count": null,
   "id": "419029e0",
   "metadata": {
    "scrolled": true
   },
   "outputs": [],
   "source": [
    "# What pixel size does this imply for five pixels per beam?\n",
    "0.024588/5.0"
   ]
  },
  {
   "cell_type": "code",
   "execution_count": null,
   "id": "8f7edf9f",
   "metadata": {},
   "outputs": [],
   "source": [
    "# What pixel size does this imply for six pixels per beam?\n",
    "0.024588/6.0"
   ]
  },
  {
   "cell_type": "markdown",
   "id": "c221c71f",
   "metadata": {},
   "source": [
    "What happens if I use the points_per_fov value??"
   ]
  },
  {
   "cell_type": "code",
   "execution_count": null,
   "id": "5b784163",
   "metadata": {
    "scrolled": false
   },
   "outputs": [],
   "source": [
    "idx2 = cycle7tab['member_ous_uid'] == 'uid://A001/X1465/Xc05'\n",
    "cycle7tab['proposal_id','member_ous_uid','s_fov','s_resolution','points_per_fov','spw_nchan','is_mosaic'][idx2]"
   ]
  },
  {
   "cell_type": "code",
   "execution_count": null,
   "id": "a920c9d9",
   "metadata": {},
   "outputs": [],
   "source": [
    "# imsize from points per fov value\n",
    "np.sqrt(1100957.4775723005)*5.0"
   ]
  },
  {
   "cell_type": "markdown",
   "id": "7a5ecde0",
   "metadata": {},
   "source": [
    "Matches imsize above."
   ]
  },
  {
   "cell_type": "markdown",
   "id": "8ae4e2a5",
   "metadata": {},
   "source": [
    "So it looks like the FOV is the difference:"
   ]
  },
  {
   "cell_type": "code",
   "execution_count": null,
   "id": "d2239c08",
   "metadata": {},
   "outputs": [],
   "source": [
    "(47.25/25.76)*5250"
   ]
  },
  {
   "cell_type": "markdown",
   "id": "de56434c",
   "metadata": {},
   "source": [
    "Still an underestimate, but closer."
   ]
  },
  {
   "cell_type": "markdown",
   "id": "18c981e7",
   "metadata": {},
   "source": [
    "The pipeline calculates the primary beam as\n",
    "\n",
    "primary_beam_size = \\\n",
    "            1.22 \\\n",
    "            * cqa.getvalue(cqa.convert(cqa.constants('c'), 'm/s')) \\\n",
    "            / ref_frequency \\\n",
    "            / smallest_diameter \\\n",
    "            * (180.0 * 3600.0 / math.pi)"
   ]
  },
  {
   "cell_type": "code",
   "execution_count": null,
   "id": "6e5bccad",
   "metadata": {
    "scrolled": true
   },
   "outputs": [],
   "source": [
    "1.22 * ((const.c.value /  218.821e9) / (12.0) )*(180*3600.0/math.pi)"
   ]
  },
  {
   "cell_type": "markdown",
   "id": "1dbd93ce",
   "metadata": {},
   "source": [
    "Pipeline calculation is here:\n",
    "\n",
    "beam_radius_v = primary_beam\n",
    "\n",
    "beam_fwhp = 1.12 / 1.22 * beam_radius_v\n",
    "\n",
    "nxpix = int(utils.round_half_up(1.1 * beam_fwhp * math.sqrt(-math.log(sfpblimit) / math.log(2.)) / cellx_v))"
   ]
  },
  {
   "cell_type": "code",
   "execution_count": null,
   "id": "6184df72",
   "metadata": {},
   "outputs": [],
   "source": [
    "(1.12/1.22)* 28.73"
   ]
  },
  {
   "cell_type": "code",
   "execution_count": null,
   "id": "53c56ee1",
   "metadata": {},
   "outputs": [],
   "source": [
    "1.1 * 26.38 * math.sqrt(-math.log(0.2) / math.log(2.0))"
   ]
  },
  {
   "cell_type": "markdown",
   "id": "88c7da3a",
   "metadata": {},
   "source": [
    "Okay. This is the value I get above. \n",
    "\n",
    "What's the constant??"
   ]
  },
  {
   "cell_type": "code",
   "execution_count": null,
   "id": "7859a0aa",
   "metadata": {},
   "outputs": [],
   "source": [
    "1.1* (1.12/1.22)*math.sqrt(-math.log(0.2) / math.log(2.0))"
   ]
  },
  {
   "cell_type": "code",
   "execution_count": null,
   "id": "c1aa13c6",
   "metadata": {
    "scrolled": true
   },
   "outputs": [],
   "source": [
    "1.54*25.8"
   ]
  },
  {
   "cell_type": "code",
   "execution_count": null,
   "id": "f478e396",
   "metadata": {},
   "outputs": [],
   "source": [
    "40.0/0.0040"
   ]
  },
  {
   "cell_type": "code",
   "execution_count": null,
   "id": "5d9865d0",
   "metadata": {},
   "outputs": [],
   "source": []
  }
 ],
 "metadata": {
  "kernelspec": {
   "display_name": "Python 3",
   "language": "python",
   "name": "python3"
  },
  "language_info": {
   "codemirror_mode": {
    "name": "ipython",
    "version": 3
   },
   "file_extension": ".py",
   "mimetype": "text/x-python",
   "name": "python",
   "nbconvert_exporter": "python",
   "pygments_lexer": "ipython3",
   "version": "3.8.8"
  }
 },
 "nbformat": 4,
 "nbformat_minor": 5
}
