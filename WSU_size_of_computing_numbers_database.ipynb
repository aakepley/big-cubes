{
 "cells": [
  {
   "cell_type": "markdown",
   "id": "e1660869",
   "metadata": {},
   "source": [
    "# WSU size of computing estimate numbers (Database)"
   ]
  },
  {
   "cell_type": "markdown",
   "id": "a64ed1f4",
   "metadata": {},
   "source": [
    "The goal here is to put together some numbers on the type of projects ALMA would process as part of the WSU to be used to produce a total size of computing estimate.\n",
    "\n",
    "Amanda Kepley (20220921)"
   ]
  },
  {
   "cell_type": "code",
   "execution_count": 1,
   "id": "cf32bfed",
   "metadata": {},
   "outputs": [],
   "source": [
    "import numpy as np\n",
    "import astropy.units as u\n",
    "from ast import literal_eval\n",
    "from astropy import constants as const\n",
    "from matplotlib import pyplot as plt, ticker as mticker\n",
    "import re\n",
    "import math\n",
    "from astropy.table import Table, QTable, vstack, join, unique\n",
    "from importlib import reload\n",
    "import pickle\n",
    "import pandas as pd"
   ]
  },
  {
   "cell_type": "markdown",
   "id": "4e97564b",
   "metadata": {},
   "source": [
    "## Read in massaged cycle 7 and 8 data <a id=\"readin\"></a>"
   ]
  },
  {
   "cell_type": "code",
   "execution_count": 2,
   "id": "a94ccacf",
   "metadata": {},
   "outputs": [],
   "source": [
    "cycle7tab = Table.read('data/result_table_cycle7_with_calc_values_20220923.csv')\n",
    "cycle8tab = Table.read('data/result_table_cycle8_with_calc_values_20220923.csv')"
   ]
  },
  {
   "cell_type": "code",
   "execution_count": 3,
   "id": "332cedea",
   "metadata": {
    "scrolled": true
   },
   "outputs": [
    {
     "data": {
      "text/plain": [
       "<TableColumns names=('obs_publisher_did','facility_name','instrument_name','obs_id','dataproduct_type','calib_level','target_name','s_ra','s_dec','s_fov','s_resolution','t_min','t_max','t_exptime','t_resolution','em_min','em_max','em_res_power','pol_states','o_ucd','access_url','access_format','proposal_id','data_rights','gal_longitude','gal_latitude','band_list','em_resolution','bandwidth','antenna_arrays','is_mosaic','spatial_resolution','frequency_support','frequency','velocity_resolution','publication_year','proposal_abstract','schedblock_name','sensitivity_10kms','cont_sensitivity_bandwidth','pwv','group_ous_uid','member_ous_uid','asdm_uid','type','scan_intent','science_observation','spatial_scale_max','qa2_passed','science_keyword','scientific_category','collections','array','points_per_fov','spw_freq','spw_specwidth','spw_nchan','pb','cell','imsize','spw_nchan_max','mitigated','failed_mitigation_nbin1','failed_mitigation_nbin2','ntarget')>"
      ]
     },
     "execution_count": 3,
     "metadata": {},
     "output_type": "execute_result"
    }
   ],
   "source": [
    "cycle7tab.columns"
   ]
  },
  {
   "cell_type": "markdown",
   "id": "e6d7681d",
   "metadata": {},
   "source": [
    "## Put together WSU mous data base <a id=\"wsu_db\"></a>"
   ]
  },
  {
   "cell_type": "code",
   "execution_count": 4,
   "id": "eb5b7583",
   "metadata": {},
   "outputs": [],
   "source": [
    "import wsu_db"
   ]
  },
  {
   "cell_type": "code",
   "execution_count": 5,
   "id": "b688fb4a",
   "metadata": {},
   "outputs": [
    {
     "data": {
      "text/plain": [
       "<module 'wsu_db' from '/Users/akepley/Dropbox/Support/naasc/WSU/big_cubes/wsu_db.py'>"
      ]
     },
     "execution_count": 5,
     "metadata": {},
     "output_type": "execute_result"
    }
   ],
   "source": [
    "reload(wsu_db)"
   ]
  },
  {
   "cell_type": "code",
   "execution_count": 6,
   "id": "30f8e60e",
   "metadata": {
    "scrolled": false
   },
   "outputs": [],
   "source": [
    "result = wsu_db.create_database(cycle7tab)"
   ]
  },
  {
   "cell_type": "code",
   "execution_count": 7,
   "id": "614c2066",
   "metadata": {},
   "outputs": [
    {
     "data": {
      "text/plain": [
       "<TableColumns names=('mous','proposal_id','array','nant_typical','nant_array','nant_all','band','ntarget','target_name','s_fov','s_resolution','mosaic','imsize','pb','cell','blc_npol','blc_nspw','blc_specwidth','blc_freq','blc_velres','blc_nchan_agg','blc_nchan_max','blc_bandwidth_max','blc_bandwidth_agg','wsu_freq','wsu_npol','wsu_bandwidth_early','wsu_bandwidth_later_2x','wsu_bandwidth_later_4x','wsu_bandwidth_spw','wsu_nspw_early','wsu_nspw_later_2x','wsu_nspw_later_4x','wsu_specwidth_finest','wsu_chanavg_finest','wsu_velres_finest','wsu_specwidth_stepped','wsu_chanavg_stepped','wsu_velres_stepped','wsu_specwidth_stepped2','wsu_chanavg_stepped2','wsu_velres_stepped2','wsu_tint','wsu_nchan_spw_finest','wsu_nchan_spw_stepped','wsu_nchan_spw_stepped2','wsu_frac_bw_early','wsu_frac_bw_later_2x','wsu_frac_bw_later_4x','wsu_frac_bw_spw','nbase_typical','nbase_array','nbase_all')>"
      ]
     },
     "execution_count": 7,
     "metadata": {},
     "output_type": "execute_result"
    }
   ],
   "source": [
    "result.columns"
   ]
  },
  {
   "cell_type": "code",
   "execution_count": 8,
   "id": "107c95bd",
   "metadata": {},
   "outputs": [
    {
     "data": {
      "text/html": [
       "<div><i>QTable length=11519</i>\n",
       "<table id=\"table140433635783680\" class=\"table-striped table-bordered table-condensed\">\n",
       "<thead><tr><th>mous</th><th>proposal_id</th><th>array</th><th>nant_typical</th><th>nant_array</th><th>nant_all</th><th>band</th><th>ntarget</th><th>target_name</th><th>s_fov</th><th>s_resolution</th><th>mosaic</th><th>imsize</th><th>pb</th><th>cell</th><th>blc_npol</th><th>blc_nspw</th><th>blc_specwidth</th><th>blc_freq</th><th>blc_velres</th><th>blc_nchan_agg</th><th>blc_nchan_max</th><th>blc_bandwidth_max</th><th>blc_bandwidth_agg</th><th>wsu_freq</th><th>wsu_npol</th><th>wsu_bandwidth_early</th><th>wsu_bandwidth_later_2x</th><th>wsu_bandwidth_later_4x</th><th>wsu_bandwidth_spw</th><th>wsu_nspw_early</th><th>wsu_nspw_later_2x</th><th>wsu_nspw_later_4x</th><th>wsu_specwidth_finest</th><th>wsu_chanavg_finest</th><th>wsu_velres_finest</th><th>wsu_specwidth_stepped</th><th>wsu_chanavg_stepped</th><th>wsu_velres_stepped</th><th>wsu_specwidth_stepped2</th><th>wsu_chanavg_stepped2</th><th>wsu_velres_stepped2</th><th>wsu_tint</th><th>wsu_nchan_spw_finest</th><th>wsu_nchan_spw_stepped</th><th>wsu_nchan_spw_stepped2</th><th>wsu_frac_bw_early</th><th>wsu_frac_bw_later_2x</th><th>wsu_frac_bw_later_4x</th><th>wsu_frac_bw_spw</th><th>nbase_typical</th><th>nbase_array</th><th>nbase_all</th></tr></thead>\n",
       "<thead><tr><th></th><th></th><th></th><th></th><th></th><th></th><th></th><th></th><th></th><th>deg</th><th>arcsec</th><th></th><th></th><th>arcsec</th><th>arcsec</th><th></th><th></th><th>kHz</th><th>GHz</th><th>km / s</th><th></th><th></th><th>GHz</th><th>GHz</th><th>GHz</th><th></th><th>GHz</th><th>GHz</th><th>GHz</th><th>GHz</th><th></th><th></th><th></th><th>kHz</th><th></th><th>km / s</th><th>kHz</th><th></th><th>km / s</th><th>kHz</th><th></th><th>km / s</th><th>s</th><th></th><th></th><th></th><th></th><th></th><th></th><th></th><th></th><th></th><th></th></tr></thead>\n",
       "<thead><tr><th>str22</th><th>str14</th><th>str3</th><th>int64</th><th>int64</th><th>int64</th><th>int64</th><th>float64</th><th>str29</th><th>float64</th><th>float64</th><th>str1</th><th>float64</th><th>float64</th><th>float64</th><th>int64</th><th>int64</th><th>float64</th><th>float64</th><th>float64</th><th>float64</th><th>float64</th><th>float64</th><th>float64</th><th>float64</th><th>int64</th><th>float64</th><th>float64</th><th>float64</th><th>float64</th><th>int64</th><th>int64</th><th>int64</th><th>float64</th><th>float64</th><th>float64</th><th>float64</th><th>float64</th><th>float64</th><th>float64</th><th>float64</th><th>float64</th><th>float64</th><th>float64</th><th>float64</th><th>float64</th><th>float64</th><th>float64</th><th>float64</th><th>float64</th><th>float64</th><th>float64</th><th>float64</th></tr></thead>\n",
       "<tr><td>uid://A001/X1465/X1002</td><td>2019.1.01326.S</td><td>7m</td><td>10</td><td>12</td><td>16</td><td>3</td><td>1.0</td><td>Position_8</td><td>0.13050363616709187</td><td>12.418751976046456</td><td>T</td><td>220.0</td><td>108.514167152526</td><td>2.483750395209291</td><td>2</td><td>4</td><td>965.2043680983645</td><td>92.45001476575733</td><td>2.9778920543263903</td><td>14336.0</td><td>4096.0</td><td>2.0</td><td>8.0</td><td>92.45001476575733</td><td>2</td><td>8.0</td><td>16.0</td><td>32.0</td><td>1.6</td><td>5</td><td>10</td><td>20</td><td>958.5</td><td>71.0</td><td>3.108177664666337</td><td>297.0</td><td>22.0</td><td>0.9630973045444989</td><td>607.5</td><td>45.0</td><td>1.9699717592955657</td><td>10.08</td><td>1669.0</td><td>5387.0</td><td>2633.0</td><td>0.08653324740152588</td><td>0.17306649480305175</td><td>0.3461329896061035</td><td>0.017306649480305178</td><td>45.0</td><td>66.0</td><td>120.0</td></tr>\n",
       "<tr><td>uid://A001/X1465/X1008</td><td>2019.1.01326.S</td><td>7m</td><td>10</td><td>12</td><td>16</td><td>3</td><td>1.0</td><td>Position_2</td><td>0.13352956949867897</td><td>11.495155000772085</td><td>T</td><td>240.0</td><td>99.33587941322293</td><td>2.299031000154417</td><td>2</td><td>4</td><td>1116.9672480031732</td><td>100.94947251671041</td><td>3.1673235453701216</td><td>8192.0</td><td>2048.0</td><td>2.0</td><td>8.0</td><td>100.94947251671041</td><td>2</td><td>8.0</td><td>16.0</td><td>32.0</td><td>1.6</td><td>5</td><td>10</td><td>20</td><td>1107.0</td><td>82.0</td><td>3.2874887082848767</td><td>324.0</td><td>24.0</td><td>0.9621918170589883</td><td>661.5</td><td>49.0</td><td>1.9644749598287679</td><td>10.08</td><td>1445.0</td><td>4938.0</td><td>2418.0</td><td>0.07924756613934501</td><td>0.15849513227869003</td><td>0.31699026455738005</td><td>0.015849513227869004</td><td>45.0</td><td>66.0</td><td>120.0</td></tr>\n",
       "<tr><td>uid://A001/X1465/X100e</td><td>2019.1.01326.S</td><td>7m</td><td>10</td><td>12</td><td>16</td><td>3</td><td>1.0</td><td>Position_3</td><td>0.1335711696824279</td><td>11.477738486513816</td><td>T</td><td>240.0</td><td>99.3358716017038</td><td>2.295547697302763</td><td>2</td><td>4</td><td>1116.9768029798806</td><td>100.9494845484696</td><td>3.1673495625218457</td><td>8192.0</td><td>2048.0</td><td>2.0</td><td>8.0</td><td>100.9494845484696</td><td>2</td><td>8.0</td><td>16.0</td><td>32.0</td><td>1.6</td><td>5</td><td>10</td><td>20</td><td>1107.0</td><td>82.0</td><td>3.2874883164624453</td><td>324.0</td><td>24.0</td><td>0.9621917023792522</td><td>661.5</td><td>49.0</td><td>1.9644747256909736</td><td>10.08</td><td>1445.0</td><td>4938.0</td><td>2418.0</td><td>0.07924755669414937</td><td>0.15849511338829875</td><td>0.3169902267765975</td><td>0.015849511338829874</td><td>45.0</td><td>66.0</td><td>120.0</td></tr>\n",
       "<tr><td>uid://A001/X1465/X1014</td><td>2019.1.01326.S</td><td>7m</td><td>10</td><td>12</td><td>16</td><td>3</td><td>1.0</td><td>Position_4</td><td>0.1335853198822303</td><td>11.302668272847619</td><td>T</td><td>245.0</td><td>99.33587213428518</td><td>2.2605336545695236</td><td>2</td><td>4</td><td>1116.9790739480793</td><td>100.94948499173799</td><td>3.1673558199446665</td><td>8192.0</td><td>2048.0</td><td>2.0</td><td>8.0</td><td>100.94948499173799</td><td>2</td><td>8.0</td><td>16.0</td><td>32.0</td><td>1.6</td><td>5</td><td>10</td><td>20</td><td>1107.0</td><td>82.0</td><td>3.28748830202711</td><td>324.0</td><td>24.0</td><td>0.9621916981542762</td><td>661.5</td><td>49.0</td><td>1.9644747170649806</td><td>10.08</td><td>1445.0</td><td>4938.0</td><td>2418.0</td><td>0.07924755634617398</td><td>0.15849511269234795</td><td>0.3169902253846959</td><td>0.015849511269234794</td><td>45.0</td><td>66.0</td><td>120.0</td></tr>\n",
       "<tr><td>uid://A001/X1465/X101a</td><td>2019.1.01326.S</td><td>7m</td><td>10</td><td>12</td><td>16</td><td>3</td><td>1.0</td><td>Position_5</td><td>0.1336314854176951</td><td>11.413765574280458</td><td>T</td><td>240.0</td><td>99.33587285679403</td><td>2.2827531148560913</td><td>2</td><td>4</td><td>1116.978577743549</td><td>100.94948404645515</td><td>3.1673544786256693</td><td>8192.0</td><td>2048.0</td><td>2.0</td><td>8.0</td><td>100.94948404645515</td><td>2</td><td>8.0</td><td>16.0</td><td>32.0</td><td>1.6</td><td>5</td><td>10</td><td>20</td><td>1107.0</td><td>82.0</td><td>3.2874883328108857</td><td>324.0</td><td>24.0</td><td>0.9621917071641618</td><td>661.5</td><td>49.0</td><td>1.9644747354601635</td><td>10.08</td><td>1445.0</td><td>4938.0</td><td>2418.0</td><td>0.0792475570882417</td><td>0.1584951141764834</td><td>0.3169902283529668</td><td>0.015849511417648343</td><td>45.0</td><td>66.0</td><td>120.0</td></tr>\n",
       "<tr><td>uid://A001/X1465/X1020</td><td>2019.1.01326.S</td><td>7m</td><td>10</td><td>12</td><td>16</td><td>3</td><td>1.0</td><td>Position_6</td><td>0.13371358744210624</td><td>12.310711444421296</td><td>T</td><td>225.0</td><td>99.33586798161843</td><td>2.4621422888842592</td><td>2</td><td>4</td><td>1116.9863042364896</td><td>100.94949231787314</td><td>3.1673755615409136</td><td>8192.0</td><td>2048.0</td><td>2.0</td><td>8.0</td><td>100.94949231787314</td><td>2</td><td>8.0</td><td>16.0</td><td>32.0</td><td>1.6</td><td>5</td><td>10</td><td>20</td><td>1107.0</td><td>82.0</td><td>3.2874880634465784</td><td>324.0</td><td>24.0</td><td>0.9621916283258277</td><td>661.5</td><td>49.0</td><td>1.964474574498565</td><td>10.08</td><td>1445.0</td><td>4938.0</td><td>2418.0</td><td>0.07924755059499787</td><td>0.15849510118999574</td><td>0.3169902023799915</td><td>0.015849510118999575</td><td>45.0</td><td>66.0</td><td>120.0</td></tr>\n",
       "<tr><td>...</td><td>...</td><td>...</td><td>...</td><td>...</td><td>...</td><td>...</td><td>...</td><td>...</td><td>...</td><td>...</td><td>...</td><td>...</td><td>...</td><td>...</td><td>...</td><td>...</td><td>...</td><td>...</td><td>...</td><td>...</td><td>...</td><td>...</td><td>...</td><td>...</td><td>...</td><td>...</td><td>...</td><td>...</td><td>...</td><td>...</td><td>...</td><td>...</td><td>...</td><td>...</td><td>...</td><td>...</td><td>...</td><td>...</td><td>...</td><td>...</td><td>...</td><td>...</td><td>...</td><td>...</td><td>...</td><td>...</td><td>...</td><td>...</td><td>...</td><td>...</td><td>...</td><td>...</td></tr>\n",
       "<tr><td>uid://A001/X15a3/X18</td><td>2019.1.01587.S</td><td>12m</td><td>47</td><td>54</td><td>66</td><td>7</td><td>1.0</td><td>J1511+0408</td><td>0.00473533757302897</td><td>0.09574715915292428</td><td>F</td><td>1370.0</td><td>17.044407549621972</td><td>0.019149431830584856</td><td>2</td><td>4</td><td>3893.0806528778044</td><td>341.56730347969506</td><td>3.3677629762572647</td><td>1920.0</td><td>480.0</td><td>1.875</td><td>7.5</td><td>341.56730347969506</td><td>2</td><td>8.0</td><td>16.0</td><td>32.0</td><td>1.6</td><td>5</td><td>10</td><td>20</td><td>3888.0</td><td>288.0</td><td>3.41248434738804</td><td>1134.0</td><td>84.0</td><td>0.9953079346548451</td><td>2268.0</td><td>168.0</td><td>1.9906158693096903</td><td>3.024</td><td>411.0</td><td>1410.0</td><td>705.0</td><td>0.023421445549677945</td><td>0.04684289109935589</td><td>0.09368578219871178</td><td>0.00468428910993559</td><td>1081.0</td><td>1431.0</td><td>2145.0</td></tr>\n",
       "<tr><td>uid://A001/X15a3/X5</td><td>2019.A.00040.S</td><td>12m</td><td>47</td><td>54</td><td>66</td><td>7</td><td>1.0</td><td>ASASSN-21qj</td><td>0.004736613751849588</td><td>0.017512278432268685</td><td>F</td><td>7490.0</td><td>17.04810208137214</td><td>0.003502455686453737</td><td>2</td><td>4</td><td>979.229489693065</td><td>341.49625374808505</td><td>0.8470622795880317</td><td>4224.0</td><td>3840.0</td><td>2.0</td><td>7.875</td><td>341.49625374808505</td><td>2</td><td>8.0</td><td>16.0</td><td>32.0</td><td>1.6</td><td>5</td><td>10</td><td>20</td><td>972.0</td><td>72.0</td><td>0.8532985822765676</td><td>108.0</td><td>8.0</td><td>0.09481095358628529</td><td>567.0</td><td>42.0</td><td>0.49775750632799776</td><td>3.024</td><td>1646.0</td><td>14814.0</td><td>2821.0</td><td>0.023426318479913517</td><td>0.04685263695982703</td><td>0.09370527391965407</td><td>0.004685263695982703</td><td>1081.0</td><td>1431.0</td><td>2145.0</td></tr>\n",
       "<tr><td>uid://A001/X15a9/X134d</td><td>2019.1.01634.L</td><td>12m</td><td>47</td><td>54</td><td>66</td><td>6</td><td>1.0</td><td>UVISTA-J-1212</td><td>0.007381374109636608</td><td>1.2855946465692392</td><td>F</td><td>160.0</td><td>26.56061402394846</td><td>0.25711892931384783</td><td>2</td><td>3</td><td>7779.002950074101</td><td>219.13075675583687</td><td>10.558843821668365</td><td>720.0</td><td>240.0</td><td>1.875</td><td>5.625</td><td>219.13075675583687</td><td>2</td><td>16.0</td><td>16.0</td><td>32.0</td><td>1.6</td><td>10</td><td>10</td><td>20</td><td>7776.0</td><td>576.0</td><td>10.6383338784591</td><td>7303.5</td><td>541.0</td><td>9.99190734070551</td><td>7303.5</td><td>541.0</td><td>9.99190734070551</td><td>3.024</td><td>205.0</td><td>219.0</td><td>219.0</td><td>0.07301576573218226</td><td>0.07301576573218226</td><td>0.1460315314643645</td><td>0.007301576573218226</td><td>1081.0</td><td>1431.0</td><td>2145.0</td></tr>\n",
       "<tr><td>uid://A001/X15a9/X1351</td><td>2019.1.01634.L</td><td>12m</td><td>47</td><td>54</td><td>66</td><td>6</td><td>1.0</td><td>UVISTA-J-1212</td><td>0.007204637033625908</td><td>1.3081616346248486</td><td>F</td><td>150.0</td><td>25.924606029864425</td><td>0.26163232692496974</td><td>2</td><td>3</td><td>7779.804031912504</td><td>224.50623842940158</td><td>10.309003680864372</td><td>720.0</td><td>240.0</td><td>1.875</td><td>5.625</td><td>224.50623842940158</td><td>2</td><td>16.0</td><td>16.0</td><td>32.0</td><td>1.6</td><td>10</td><td>10</td><td>20</td><td>7776.0</td><td>576.0</td><td>10.383614146833903</td><td>7479.0</td><td>554.0</td><td>9.987017773170109</td><td>7479.0</td><td>554.0</td><td>9.987017773170109</td><td>3.024</td><td>205.0</td><td>213.0</td><td>213.0</td><td>0.0712675073616334</td><td>0.0712675073616334</td><td>0.1425350147232668</td><td>0.007126750736163341</td><td>1081.0</td><td>1431.0</td><td>2145.0</td></tr>\n",
       "<tr><td>uid://A001/X15aa/X74</td><td>2019.1.00863.T</td><td>12m</td><td>47</td><td>54</td><td>66</td><td>3</td><td>1.0</td><td>GRB211106A</td><td>0.01658832667287695</td><td>0.6470849266662538</td><td>F</td><td>710.0</td><td>59.931417240091704</td><td>0.12941698533325077</td><td>2</td><td>4</td><td>30913.559908317307</td><td>97.4918584840845</td><td>90.52858123839745</td><td>512.0</td><td>128.0</td><td>2.0</td><td>8.0</td><td>97.4918584840845</td><td>2</td><td>8.0</td><td>16.0</td><td>32.0</td><td>1.6</td><td>5</td><td>10</td><td>20</td><td>30901.5</td><td>2289.0</td><td>95.02369515706123</td><td>3240.0</td><td>240.0</td><td>9.963165940452031</td><td>3240.0</td><td>240.0</td><td>9.963165940452031</td><td>3.024</td><td>51.0</td><td>493.0</td><td>493.0</td><td>0.08205813412928215</td><td>0.1641162682585643</td><td>0.3282325365171286</td><td>0.01641162682585643</td><td>1081.0</td><td>1431.0</td><td>2145.0</td></tr>\n",
       "<tr><td>uid://A001/X15aa/X77</td><td>2019.1.00863.T</td><td>12m</td><td>47</td><td>54</td><td>66</td><td>3</td><td>1.0</td><td>GRB211106A</td><td>0.01658864995868178</td><td>1.1041984061268773</td><td>F</td><td>420.0</td><td>59.93258522869232</td><td>0.22083968122537545</td><td>2</td><td>4</td><td>30912.957453318253</td><td>97.48995852634154</td><td>90.52858123839742</td><td>512.0</td><td>128.0</td><td>2.0</td><td>8.0</td><td>97.48995852634154</td><td>2</td><td>8.0</td><td>16.0</td><td>32.0</td><td>1.6</td><td>5</td><td>10</td><td>20</td><td>30901.5</td><td>2289.0</td><td>95.02554705040603</td><td>3240.0</td><td>240.0</td><td>9.963360110134314</td><td>3240.0</td><td>240.0</td><td>9.963360110134314</td><td>3.024</td><td>51.0</td><td>493.0</td><td>493.0</td><td>0.08205973334000774</td><td>0.16411946668001548</td><td>0.32823893336003096</td><td>0.016411946668001547</td><td>1081.0</td><td>1431.0</td><td>2145.0</td></tr>\n",
       "</table></div>"
      ],
      "text/plain": [
       "<QTable length=11519>\n",
       "         mous           proposal_id   array ... nbase_array nbase_all\n",
       "                                            ...                      \n",
       "        str22              str14       str3 ...   float64    float64 \n",
       "---------------------- -------------- ----- ... ----------- ---------\n",
       "uid://A001/X1465/X1002 2019.1.01326.S    7m ...        66.0     120.0\n",
       "uid://A001/X1465/X1008 2019.1.01326.S    7m ...        66.0     120.0\n",
       "uid://A001/X1465/X100e 2019.1.01326.S    7m ...        66.0     120.0\n",
       "uid://A001/X1465/X1014 2019.1.01326.S    7m ...        66.0     120.0\n",
       "uid://A001/X1465/X101a 2019.1.01326.S    7m ...        66.0     120.0\n",
       "uid://A001/X1465/X1020 2019.1.01326.S    7m ...        66.0     120.0\n",
       "                   ...            ...   ... ...         ...       ...\n",
       "  uid://A001/X15a3/X18 2019.1.01587.S   12m ...      1431.0    2145.0\n",
       "   uid://A001/X15a3/X5 2019.A.00040.S   12m ...      1431.0    2145.0\n",
       "uid://A001/X15a9/X134d 2019.1.01634.L   12m ...      1431.0    2145.0\n",
       "uid://A001/X15a9/X1351 2019.1.01634.L   12m ...      1431.0    2145.0\n",
       "  uid://A001/X15aa/X74 2019.1.00863.T   12m ...      1431.0    2145.0\n",
       "  uid://A001/X15aa/X77 2019.1.00863.T   12m ...      1431.0    2145.0"
      ]
     },
     "execution_count": 8,
     "metadata": {},
     "output_type": "execute_result"
    }
   ],
   "source": [
    "result"
   ]
  },
  {
   "cell_type": "code",
   "execution_count": 9,
   "id": "6a3f4731",
   "metadata": {},
   "outputs": [],
   "source": [
    "result_c8 = wsu_db.create_database(cycle8tab)"
   ]
  },
  {
   "cell_type": "code",
   "execution_count": 10,
   "id": "571fc82e",
   "metadata": {
    "scrolled": true
   },
   "outputs": [
    {
     "data": {
      "text/plain": [
       "<TableColumns names=('mous','proposal_id','array','nant_typical','nant_array','nant_all','band','ntarget','target_name','s_fov','s_resolution','mosaic','imsize','pb','cell','blc_npol','blc_nspw','blc_specwidth','blc_freq','blc_velres','blc_nchan_agg','blc_nchan_max','blc_bandwidth_max','blc_bandwidth_agg','wsu_freq','wsu_npol','wsu_bandwidth_early','wsu_bandwidth_later_2x','wsu_bandwidth_later_4x','wsu_bandwidth_spw','wsu_nspw_early','wsu_nspw_later_2x','wsu_nspw_later_4x','wsu_specwidth_finest','wsu_chanavg_finest','wsu_velres_finest','wsu_specwidth_stepped','wsu_chanavg_stepped','wsu_velres_stepped','wsu_specwidth_stepped2','wsu_chanavg_stepped2','wsu_velres_stepped2','wsu_tint','wsu_nchan_spw_finest','wsu_nchan_spw_stepped','wsu_nchan_spw_stepped2','wsu_frac_bw_early','wsu_frac_bw_later_2x','wsu_frac_bw_later_4x','wsu_frac_bw_spw','nbase_typical','nbase_array','nbase_all')>"
      ]
     },
     "execution_count": 10,
     "metadata": {},
     "output_type": "execute_result"
    }
   ],
   "source": [
    "result_c8.columns"
   ]
  },
  {
   "cell_type": "code",
   "execution_count": 11,
   "id": "586fbb57",
   "metadata": {},
   "outputs": [
    {
     "data": {
      "text/html": [
       "<div><i>QTable length=10843</i>\n",
       "<table id=\"table140434492274384\" class=\"table-striped table-bordered table-condensed\">\n",
       "<thead><tr><th>mous</th><th>proposal_id</th><th>array</th><th>nant_typical</th><th>nant_array</th><th>nant_all</th><th>band</th><th>ntarget</th><th>target_name</th><th>s_fov</th><th>s_resolution</th><th>mosaic</th><th>imsize</th><th>pb</th><th>cell</th><th>blc_npol</th><th>blc_nspw</th><th>blc_specwidth</th><th>blc_freq</th><th>blc_velres</th><th>blc_nchan_agg</th><th>blc_nchan_max</th><th>blc_bandwidth_max</th><th>blc_bandwidth_agg</th><th>wsu_freq</th><th>wsu_npol</th><th>wsu_bandwidth_early</th><th>wsu_bandwidth_later_2x</th><th>wsu_bandwidth_later_4x</th><th>wsu_bandwidth_spw</th><th>wsu_nspw_early</th><th>wsu_nspw_later_2x</th><th>wsu_nspw_later_4x</th><th>wsu_specwidth_finest</th><th>wsu_chanavg_finest</th><th>wsu_velres_finest</th><th>wsu_specwidth_stepped</th><th>wsu_chanavg_stepped</th><th>wsu_velres_stepped</th><th>wsu_specwidth_stepped2</th><th>wsu_chanavg_stepped2</th><th>wsu_velres_stepped2</th><th>wsu_tint</th><th>wsu_nchan_spw_finest</th><th>wsu_nchan_spw_stepped</th><th>wsu_nchan_spw_stepped2</th><th>wsu_frac_bw_early</th><th>wsu_frac_bw_later_2x</th><th>wsu_frac_bw_later_4x</th><th>wsu_frac_bw_spw</th><th>nbase_typical</th><th>nbase_array</th><th>nbase_all</th></tr></thead>\n",
       "<thead><tr><th></th><th></th><th></th><th></th><th></th><th></th><th></th><th></th><th></th><th>deg</th><th>arcsec</th><th></th><th></th><th>arcsec</th><th>arcsec</th><th></th><th></th><th>kHz</th><th>GHz</th><th>km / s</th><th></th><th></th><th>GHz</th><th>GHz</th><th>GHz</th><th></th><th>GHz</th><th>GHz</th><th>GHz</th><th>GHz</th><th></th><th></th><th></th><th>kHz</th><th></th><th>km / s</th><th>kHz</th><th></th><th>km / s</th><th>kHz</th><th></th><th>km / s</th><th>s</th><th></th><th></th><th></th><th></th><th></th><th></th><th></th><th></th><th></th><th></th></tr></thead>\n",
       "<thead><tr><th>str22</th><th>str14</th><th>str3</th><th>int64</th><th>int64</th><th>int64</th><th>int64</th><th>float64</th><th>str33</th><th>float64</th><th>float64</th><th>str1</th><th>float64</th><th>float64</th><th>float64</th><th>int64</th><th>int64</th><th>float64</th><th>float64</th><th>float64</th><th>float64</th><th>float64</th><th>float64</th><th>float64</th><th>float64</th><th>int64</th><th>float64</th><th>float64</th><th>float64</th><th>float64</th><th>int64</th><th>int64</th><th>int64</th><th>float64</th><th>float64</th><th>float64</th><th>float64</th><th>float64</th><th>float64</th><th>float64</th><th>float64</th><th>float64</th><th>float64</th><th>float64</th><th>float64</th><th>float64</th><th>float64</th><th>float64</th><th>float64</th><th>float64</th><th>float64</th><th>float64</th><th>float64</th></tr></thead>\n",
       "<tr><td>uid://A001/X158f/X111</td><td>2021.1.01571.S</td><td>12m</td><td>47</td><td>54</td><td>66</td><td>8</td><td>1.0</td><td>G09v1.40</td><td>0.004000240613311581</td><td>0.45833271459124353</td><td>F</td><td>240.0</td><td>14.397483872538897</td><td>0.0916665429182487</td><td>2</td><td>4</td><td>31176.314691250842</td><td>404.3315523311515</td><td>22.83384100374022</td><td>512.0</td><td>128.0</td><td>2.0</td><td>8.0</td><td>404.3315523311515</td><td>2</td><td>8.0</td><td>16.0</td><td>32.0</td><td>1.6</td><td>5</td><td>10</td><td>20</td><td>31171.5</td><td>2309.0</td><td>23.112172549159283</td><td>13486.5</td><td>999.0</td><td>9.999593060463459</td><td>13486.5</td><td>999.0</td><td>9.999593060463459</td><td>3.024</td><td>51.0</td><td>118.0</td><td>118.0</td><td>0.019785742551815304</td><td>0.03957148510363061</td><td>0.07914297020726122</td><td>0.003957148510363061</td><td>1081.0</td><td>1431.0</td><td>2145.0</td></tr>\n",
       "<tr><td>uid://A001/X158f/X115</td><td>2021.1.01571.S</td><td>12m</td><td>47</td><td>54</td><td>66</td><td>7</td><td>1.0</td><td>SPT0125-47</td><td>0.0045375135989717905</td><td>0.2911647419354411</td><td>F</td><td>430.0</td><td>16.331349317037823</td><td>0.05823294838708822</td><td>2</td><td>4</td><td>31160.819141109412</td><td>356.47101883940036</td><td>25.85577672790684</td><td>512.0</td><td>128.0</td><td>2.0</td><td>8.0</td><td>356.47101883940036</td><td>2</td><td>8.0</td><td>16.0</td><td>32.0</td><td>1.6</td><td>5</td><td>10</td><td>20</td><td>31158.0</td><td>2308.0</td><td>26.203906945300194</td><td>11880.0</td><td>880.0</td><td>9.991091036336297</td><td>11880.0</td><td>880.0</td><td>9.991091036336297</td><td>3.024</td><td>51.0</td><td>134.0</td><td>134.0</td><td>0.022442217115002588</td><td>0.044884434230005175</td><td>0.08976886846001035</td><td>0.004488443423000517</td><td>1081.0</td><td>1431.0</td><td>2145.0</td></tr>\n",
       "<tr><td>uid://A001/X158f/X13a</td><td>2021.1.01543.S</td><td>12m</td><td>47</td><td>54</td><td>66</td><td>3</td><td>1.0</td><td>ACT-S_J0007.5+1606</td><td>0.016370669248356715</td><td>3.2510106691183673</td><td>F</td><td>140.0</td><td>59.27082942119824</td><td>0.6502021338236735</td><td>2</td><td>20</td><td>7727.466820763161</td><td>98.80399468281071</td><td>20.998292318707925</td><td>4800.0</td><td>240.0</td><td>1.875</td><td>37.5</td><td>98.80399468281071</td><td>2</td><td>8.0</td><td>16.0</td><td>32.0</td><td>1.6</td><td>5</td><td>10</td><td>20</td><td>7722.0</td><td>572.0</td><td>23.430200045127812</td><td>3294.0</td><td>244.0</td><td>9.994700718551027</td><td>3294.0</td><td>244.0</td><td>9.994700718551027</td><td>3.024</td><td>207.0</td><td>485.0</td><td>485.0</td><td>0.08096838620424512</td><td>0.16193677240849025</td><td>0.3238735448169805</td><td>0.01619367724084903</td><td>1081.0</td><td>1431.0</td><td>2145.0</td></tr>\n",
       "<tr><td>uid://A001/X158f/X13e</td><td>2021.1.01543.S</td><td>12m</td><td>47</td><td>54</td><td>66</td><td>3</td><td>1.0</td><td>ACT-S_J0732.1+1709</td><td>0.016369060528796033</td><td>3.1183686839850737</td><td>F</td><td>150.0</td><td>59.265060245387154</td><td>0.6236737367970147</td><td>2</td><td>20</td><td>966.0466580540649</td><td>98.81361279933466</td><td>2.6250367912778914</td><td>76800.0</td><td>3840.0</td><td>1.875</td><td>37.5</td><td>98.81361279933466</td><td>2</td><td>8.0</td><td>16.0</td><td>32.0</td><td>1.6</td><td>5</td><td>10</td><td>20</td><td>958.5</td><td>71.0</td><td>2.9080109799905505</td><td>324.0</td><td>24.0</td><td>0.9829896270390595</td><td>648.0</td><td>48.0</td><td>1.965979254078119</td><td>3.024</td><td>1669.0</td><td>4938.0</td><td>2469.0</td><td>0.08096050506974142</td><td>0.16192101013948285</td><td>0.3238420202789657</td><td>0.016192101013948284</td><td>1081.0</td><td>1431.0</td><td>2145.0</td></tr>\n",
       "<tr><td>uid://A001/X158f/X142</td><td>2021.1.01543.S</td><td>12m</td><td>47</td><td>54</td><td>66</td><td>3</td><td>1.0</td><td>ACT-S_J0503.2-3609</td><td>0.016369146727628202</td><td>2.782605450987199</td><td>F</td><td>160.0</td><td>59.26537233287519</td><td>0.5565210901974396</td><td>2</td><td>20</td><td>966.0415709169566</td><td>98.81309245345668</td><td>2.6250367912778914</td><td>76800.0</td><td>3840.0</td><td>1.875</td><td>37.5</td><td>98.81309245345668</td><td>2</td><td>8.0</td><td>16.0</td><td>32.0</td><td>1.6</td><td>5</td><td>10</td><td>20</td><td>958.5</td><td>71.0</td><td>2.908026293462571</td><td>324.0</td><td>24.0</td><td>0.9829948034239677</td><td>648.0</td><td>48.0</td><td>1.9659896068479354</td><td>3.024</td><td>1669.0</td><td>4938.0</td><td>2469.0</td><td>0.08096093140459287</td><td>0.16192186280918575</td><td>0.3238437256183715</td><td>0.016192186280918577</td><td>1081.0</td><td>1431.0</td><td>2145.0</td></tr>\n",
       "<tr><td>uid://A001/X158f/X146</td><td>2021.1.01543.S</td><td>12m</td><td>47</td><td>54</td><td>66</td><td>3</td><td>1.0</td><td>ACT-S_J2114.9+0557</td><td>0.016372897494422896</td><td>2.67464628092988</td><td>F</td><td>170.0</td><td>59.27895218491757</td><td>0.534929256185976</td><td>2</td><td>20</td><td>965.8202663709701</td><td>98.79045596738686</td><td>2.6250367912778914</td><td>76800.0</td><td>3840.0</td><td>1.875</td><td>37.5</td><td>98.79045596738686</td><td>2</td><td>8.0</td><td>16.0</td><td>32.0</td><td>1.6</td><td>5</td><td>10</td><td>20</td><td>958.5</td><td>71.0</td><td>2.90869262803951</td><td>324.0</td><td>24.0</td><td>0.9832200432809611</td><td>648.0</td><td>48.0</td><td>1.9664400865619223</td><td>3.024</td><td>1669.0</td><td>4938.0</td><td>2469.0</td><td>0.08097948249819796</td><td>0.16195896499639592</td><td>0.32391792999279184</td><td>0.01619589649963959</td><td>1081.0</td><td>1431.0</td><td>2145.0</td></tr>\n",
       "<tr><td>...</td><td>...</td><td>...</td><td>...</td><td>...</td><td>...</td><td>...</td><td>...</td><td>...</td><td>...</td><td>...</td><td>...</td><td>...</td><td>...</td><td>...</td><td>...</td><td>...</td><td>...</td><td>...</td><td>...</td><td>...</td><td>...</td><td>...</td><td>...</td><td>...</td><td>...</td><td>...</td><td>...</td><td>...</td><td>...</td><td>...</td><td>...</td><td>...</td><td>...</td><td>...</td><td>...</td><td>...</td><td>...</td><td>...</td><td>...</td><td>...</td><td>...</td><td>...</td><td>...</td><td>...</td><td>...</td><td>...</td><td>...</td><td>...</td><td>...</td><td>...</td><td>...</td><td>...</td></tr>\n",
       "<tr><td>uid://A001/X2dfa/X35</td><td>2021.A.00026.S</td><td>12m</td><td>47</td><td>54</td><td>66</td><td>6</td><td>1.0</td><td>SN2018ivc</td><td>0.006470287779124912</td><td>0.2615351333141033</td><td>F</td><td>690.0</td><td>23.30547607272075</td><td>0.05230702666282065</td><td>2</td><td>4</td><td>31120.21908426349</td><td>249.98671839607223</td><td>36.31097144587433</td><td>512.0</td><td>128.0</td><td>2.0</td><td>8.0</td><td>249.98671839607223</td><td>2</td><td>16.0</td><td>16.0</td><td>32.0</td><td>1.6</td><td>10</td><td>10</td><td>20</td><td>31117.5</td><td>2305.0</td><td>37.31714977367203</td><td>8329.5</td><td>617.0</td><td>9.989015796249735</td><td>8329.5</td><td>617.0</td><td>9.989015796249735</td><td>3.024</td><td>51.0</td><td>192.0</td><td>192.0</td><td>0.06400340027124973</td><td>0.06400340027124973</td><td>0.12800680054249947</td><td>0.006400340027124973</td><td>1081.0</td><td>1431.0</td><td>2145.0</td></tr>\n",
       "<tr><td>uid://A001/X2dfa/X3b</td><td>2021.A.00030.S</td><td>12m</td><td>47</td><td>54</td><td>66</td><td>6</td><td>1.0</td><td>J0410</td><td>0.006994215289678344</td><td>0.4459354268065195</td><td>F</td><td>430.0</td><td>25.191705300323946</td><td>0.0891870853613039</td><td>2</td><td>4</td><td>7779.1514907499895</td><td>231.25939830567333</td><td>9.81868747324187</td><td>960.0</td><td>240.0</td><td>1.875</td><td>7.5</td><td>231.25939830567333</td><td>2</td><td>16.0</td><td>16.0</td><td>32.0</td><td>1.6</td><td>10</td><td>10</td><td>20</td><td>7776.0</td><td>576.0</td><td>10.080395307120412</td><td>769.5</td><td>57.0</td><td>0.9975391189337909</td><td>1539.0</td><td>114.0</td><td>1.9950782378675818</td><td>3.024</td><td>205.0</td><td>2079.0</td><td>1039.0</td><td>0.06918637736336047</td><td>0.06918637736336047</td><td>0.13837275472672095</td><td>0.006918637736336048</td><td>1081.0</td><td>1431.0</td><td>2145.0</td></tr>\n",
       "<tr><td>uid://A001/X2dfa/X7d</td><td>2021.A.00031.S</td><td>12m</td><td>47</td><td>54</td><td>66</td><td>7</td><td>1.0</td><td>S5_z17_1</td><td>0.004729663751037771</td><td>0.49239980824463386</td><td>F</td><td>270.0</td><td>17.024344790855686</td><td>0.09847996164892678</td><td>2</td><td>4</td><td>31156.484611738135</td><td>341.9719024574107</td><td>26.921950358357705</td><td>512.0</td><td>128.0</td><td>2.0</td><td>8.0</td><td>341.9719024574107</td><td>2</td><td>8.0</td><td>16.0</td><td>32.0</td><td>1.6</td><td>5</td><td>10</td><td>20</td><td>31144.5</td><td>2307.0</td><td>27.30307999308165</td><td>11394.0</td><td>844.0</td><td>9.988643049051111</td><td>11394.0</td><td>844.0</td><td>9.988643049051111</td><td>3.024</td><td>51.0</td><td>140.0</td><td>140.0</td><td>0.023393734814211302</td><td>0.046787469628422604</td><td>0.09357493925684521</td><td>0.004678746962842261</td><td>1081.0</td><td>1431.0</td><td>2145.0</td></tr>\n",
       "<tr><td>uid://A001/X2dfa/X81</td><td>2021.A.00031.S</td><td>12m</td><td>47</td><td>54</td><td>66</td><td>7</td><td>1.0</td><td>S5_z17_1</td><td>0.0046749855612464005</td><td>0.4862921449100933</td><td>F</td><td>270.0</td><td>16.827399874261154</td><td>0.09725842898201867</td><td>2</td><td>4</td><td>31157.562751841728</td><td>345.9717562903143</td><td>26.61600144156713</td><td>512.0</td><td>128.0</td><td>2.0</td><td>8.0</td><td>345.9717562903143</td><td>2</td><td>8.0</td><td>16.0</td><td>32.0</td><td>1.6</td><td>5</td><td>10</td><td>20</td><td>31144.5</td><td>2307.0</td><td>26.987423217131525</td><td>11529.0</td><td>854.0</td><td>9.99014279472489</td><td>11529.0</td><td>854.0</td><td>9.99014279472489</td><td>3.024</td><td>51.0</td><td>138.0</td><td>138.0</td><td>0.023123274818095216</td><td>0.04624654963619043</td><td>0.09249309927238086</td><td>0.004624654963619044</td><td>1081.0</td><td>1431.0</td><td>2145.0</td></tr>\n",
       "<tr><td>uid://A001/X2dfa/X85</td><td>2021.A.00031.S</td><td>12m</td><td>47</td><td>54</td><td>66</td><td>7</td><td>1.0</td><td>S5_z17_1</td><td>0.004621557161354669</td><td>0.4811240330029407</td><td>F</td><td>270.0</td><td>16.634960910677357</td><td>0.09622480660058814</td><td>2</td><td>4</td><td>31158.626091286704</td><td>349.9716099065537</td><td>26.316936747390976</td><td>512.0</td><td>128.0</td><td>2.0</td><td>8.0</td><td>349.9716099065537</td><td>2</td><td>8.0</td><td>16.0</td><td>32.0</td><td>1.6</td><td>5</td><td>10</td><td>20</td><td>31158.0</td><td>2308.0</td><td>26.690546152752596</td><td>11664.0</td><td>864.0</td><td>9.991608265155216</td><td>11664.0</td><td>864.0</td><td>9.991608265155216</td><td>3.024</td><td>51.0</td><td>137.0</td><td>137.0</td><td>0.022858997054464186</td><td>0.04571799410892837</td><td>0.09143598821785674</td><td>0.004571799410892838</td><td>1081.0</td><td>1431.0</td><td>2145.0</td></tr>\n",
       "<tr><td>uid://A001/X2dfa/X8b</td><td>2021.1.01209.S</td><td>7m</td><td>10</td><td>12</td><td>16</td><td>6</td><td>1.0</td><td>Wolf_359</td><td>0.011945137906881832</td><td>5.090876921859115</td><td>F</td><td>60.0</td><td>42.92689687201506</td><td>1.018175384371823</td><td>2</td><td>4</td><td>31112.220139350786</td><td>233.00021471966954</td><td>38.87224355701299</td><td>512.0</td><td>128.0</td><td>2.0</td><td>8.0</td><td>233.00021471966954</td><td>2</td><td>16.0</td><td>16.0</td><td>32.0</td><td>1.6</td><td>10</td><td>10</td><td>20</td><td>31104.0</td><td>2304.0</td><td>40.020326268157795</td><td>7762.5</td><td>575.0</td><td>9.987711633763341</td><td>7762.5</td><td>575.0</td><td>9.987711633763341</td><td>10.08</td><td>51.0</td><td>206.0</td><td>206.0</td><td>0.06866946461508691</td><td>0.06866946461508691</td><td>0.13733892923017382</td><td>0.006866946461508691</td><td>45.0</td><td>66.0</td><td>120.0</td></tr>\n",
       "</table></div>"
      ],
      "text/plain": [
       "<QTable length=10843>\n",
       "         mous          proposal_id   array ... nbase_array nbase_all\n",
       "                                           ...                      \n",
       "        str22             str14       str3 ...   float64    float64 \n",
       "--------------------- -------------- ----- ... ----------- ---------\n",
       "uid://A001/X158f/X111 2021.1.01571.S   12m ...      1431.0    2145.0\n",
       "uid://A001/X158f/X115 2021.1.01571.S   12m ...      1431.0    2145.0\n",
       "uid://A001/X158f/X13a 2021.1.01543.S   12m ...      1431.0    2145.0\n",
       "uid://A001/X158f/X13e 2021.1.01543.S   12m ...      1431.0    2145.0\n",
       "uid://A001/X158f/X142 2021.1.01543.S   12m ...      1431.0    2145.0\n",
       "uid://A001/X158f/X146 2021.1.01543.S   12m ...      1431.0    2145.0\n",
       "                  ...            ...   ... ...         ...       ...\n",
       " uid://A001/X2dfa/X35 2021.A.00026.S   12m ...      1431.0    2145.0\n",
       " uid://A001/X2dfa/X3b 2021.A.00030.S   12m ...      1431.0    2145.0\n",
       " uid://A001/X2dfa/X7d 2021.A.00031.S   12m ...      1431.0    2145.0\n",
       " uid://A001/X2dfa/X81 2021.A.00031.S   12m ...      1431.0    2145.0\n",
       " uid://A001/X2dfa/X85 2021.A.00031.S   12m ...      1431.0    2145.0\n",
       " uid://A001/X2dfa/X8b 2021.1.01209.S    7m ...        66.0     120.0"
      ]
     },
     "execution_count": 11,
     "metadata": {},
     "output_type": "execute_result"
    }
   ],
   "source": [
    "result_c8"
   ]
  },
  {
   "cell_type": "code",
   "execution_count": 12,
   "id": "9b0357a5",
   "metadata": {},
   "outputs": [],
   "source": [
    "# save data bases if what's desired\n",
    "result.write('data/cycle7wsu_20230103.ecsv',overwrite=True)\n",
    "result_c8.write('data/cycle8wsu_20230103.ecsv',overwrite=True)"
   ]
  },
  {
   "cell_type": "code",
   "execution_count": 13,
   "id": "e2f17896",
   "metadata": {
    "scrolled": true
   },
   "outputs": [
    {
     "data": {
      "text/plain": [
       "11519"
      ]
     },
     "execution_count": 13,
     "metadata": {},
     "output_type": "execute_result"
    }
   ],
   "source": [
    "len(result)"
   ]
  },
  {
   "cell_type": "code",
   "execution_count": 14,
   "id": "33e3cf9a",
   "metadata": {},
   "outputs": [
    {
     "data": {
      "text/plain": [
       "10843"
      ]
     },
     "execution_count": 14,
     "metadata": {},
     "output_type": "execute_result"
    }
   ],
   "source": [
    "len(result_c8)"
   ]
  },
  {
   "cell_type": "markdown",
   "id": "7e8ec971",
   "metadata": {},
   "source": [
    "## Adding in L80 and BLC tint info"
   ]
  },
  {
   "cell_type": "markdown",
   "id": "fff7dcf9",
   "metadata": {},
   "source": [
    "I don't have BLC tint information easily accessible, so making some educated guesses based on array and L80. These files are based on downloads of data from interactive interface where each row is project/mous/src. The astroquery interface returns project/mous/src/spw."
   ]
  },
  {
   "cell_type": "code",
   "execution_count": 15,
   "id": "2acd8971",
   "metadata": {
    "scrolled": true
   },
   "outputs": [
    {
     "data": {
      "text/plain": [
       "<module 'wsu_db' from '/Users/akepley/Dropbox/Support/naasc/WSU/big_cubes/wsu_db.py'>"
      ]
     },
     "execution_count": 15,
     "metadata": {},
     "output_type": "execute_result"
    }
   ],
   "source": [
    "reload(wsu_db)"
   ]
  },
  {
   "cell_type": "code",
   "execution_count": 16,
   "id": "3a5a28fe",
   "metadata": {},
   "outputs": [],
   "source": [
    "result_L80 = wsu_db.add_l80(result,l80_file='data/cycle7_L80.csv')"
   ]
  },
  {
   "cell_type": "code",
   "execution_count": 42,
   "id": "3e80c125",
   "metadata": {},
   "outputs": [],
   "source": [
    "result_c8_L80 = wsu_db.add_l80(result_c8,l80_file='data/cycle8_L80.csv')"
   ]
  },
  {
   "cell_type": "code",
   "execution_count": 18,
   "id": "b6f10640",
   "metadata": {},
   "outputs": [],
   "source": [
    "wsu_db.add_blc_tint(result_L80,breakpt_12m=3000.0 * u.m)"
   ]
  },
  {
   "cell_type": "code",
   "execution_count": 43,
   "id": "6e82d2ad",
   "metadata": {},
   "outputs": [],
   "source": [
    "wsu_db.add_blc_tint(result_c8_L80,breakpt_12m=3000.0 * u.m)"
   ]
  },
  {
   "cell_type": "code",
   "execution_count": 19,
   "id": "b0427263",
   "metadata": {},
   "outputs": [
    {
     "data": {
      "text/plain": [
       "<matplotlib.collections.PathCollection at 0x7fb8b8040880>"
      ]
     },
     "execution_count": 19,
     "metadata": {},
     "output_type": "execute_result"
    },
    {
     "data": {
      "image/png": "[encoded data removed]",
      "text/plain": [
       "<Figure size 640x480 with 1 Axes>"
      ]
     },
     "metadata": {},
     "output_type": "display_data"
    }
   ],
   "source": [
    "plt.scatter(result_L80['L80'],result_L80['blc_tint'])"
   ]
  },
  {
   "cell_type": "code",
   "execution_count": 20,
   "id": "7b497b5c",
   "metadata": {},
   "outputs": [
    {
     "data": {
      "text/plain": [
       "11519"
      ]
     },
     "execution_count": 20,
     "metadata": {},
     "output_type": "execute_result"
    }
   ],
   "source": [
    "len(result_L80)"
   ]
  },
  {
   "cell_type": "code",
   "execution_count": 21,
   "id": "5f8e5650",
   "metadata": {},
   "outputs": [
    {
     "data": {
      "text/plain": [
       "10843"
      ]
     },
     "execution_count": 21,
     "metadata": {},
     "output_type": "execute_result"
    }
   ],
   "source": [
    "len(result_c8_L80)"
   ]
  },
  {
   "cell_type": "markdown",
   "id": "0b7a45b8",
   "metadata": {},
   "source": [
    "## Adding in calibration TOS information"
   ]
  },
  {
   "cell_type": "markdown",
   "id": "e2c606b1",
   "metadata": {},
   "source": [
    "This is needed to get the total number of visibilities and the data volume. Also necessary to start refine the data rates."
   ]
  },
  {
   "cell_type": "code",
   "execution_count": 22,
   "id": "615de8c1",
   "metadata": {},
   "outputs": [],
   "source": [
    "import large_cubes\n",
    "from importlib import reload"
   ]
  },
  {
   "cell_type": "code",
   "execution_count": 23,
   "id": "1c0da7e7",
   "metadata": {
    "scrolled": false
   },
   "outputs": [
    {
     "name": "stdout",
     "output_type": "stream",
     "text": [
      "Intent not recognized: BANDPASS DIFFGAIN FLUX PHASE WVR\n",
      "Intent not recognized: BANDPASS DIFFGAIN FLUX PHASE WVR\n",
      "Intent not recognized: BANDPASS DIFFGAIN FLUX PHASE WVR\n",
      "Intent not recognized: DIFFGAIN PHASE WVR\n",
      "Intent not recognized: DIFFGAIN PHASE WVR\n",
      "Intent not recognized: DIFFGAIN PHASE WVR\n",
      "Intent not recognized: DIFFGAIN PHASE WVR\n",
      "Intent not recognized: DIFFGAIN PHASE WVR\n",
      "Intent not recognized: BANDPASS DIFFGAIN FLUX PHASE WVR\n",
      "Intent not recognized: BANDPASS DIFFGAIN FLUX PHASE WVR\n",
      "Intent not recognized: BANDPASS PHASE WVR\n",
      "Intent not recognized: BANDPASS PHASE WVR\n",
      "project_id list greater than 1. This shouldn't happen. MOUS: uid://A002/X445835/X6\n",
      "made it to table creation\n"
     ]
    }
   ],
   "source": [
    "reload(large_cubes)\n",
    "tos_db = large_cubes.calc_time_on_source('data/project_mous_band_array_eb_size___source_intent_inttime')"
   ]
  },
  {
   "cell_type": "code",
   "execution_count": 24,
   "id": "2674c285",
   "metadata": {},
   "outputs": [
    {
     "data": {
      "text/plain": [
       "<TableColumns names=('proposal_id','mous','band','array','bp_time','flux_time','phase_time','pol_time','check_time','target_time','target_name','target_time_tot','ntarget','time_tot','cal_time')>"
      ]
     },
     "execution_count": 24,
     "metadata": {},
     "output_type": "execute_result"
    }
   ],
   "source": [
    "tos_db.columns"
   ]
  },
  {
   "cell_type": "code",
   "execution_count": 25,
   "id": "23611455",
   "metadata": {},
   "outputs": [
    {
     "data": {
      "text/plain": [
       "22430"
      ]
     },
     "execution_count": 25,
     "metadata": {},
     "output_type": "execute_result"
    }
   ],
   "source": [
    "len(tos_db)"
   ]
  },
  {
   "cell_type": "code",
   "execution_count": 26,
   "id": "d66025d0",
   "metadata": {},
   "outputs": [
    {
     "data": {
      "text/html": [
       "<div><i>QTable length=22430</i>\n",
       "<table id=\"table140433353193024\" class=\"table-striped table-bordered table-condensed\">\n",
       "<thead><tr><th>proposal_id</th><th>mous</th><th>band</th><th>array</th><th>bp_time</th><th>flux_time</th><th>phase_time</th><th>pol_time</th><th>check_time</th><th>target_time</th><th>target_name</th><th>target_time_tot</th><th>ntarget</th><th>time_tot</th><th>cal_time</th></tr></thead>\n",
       "<thead><tr><th></th><th></th><th></th><th></th><th>s</th><th>s</th><th>s</th><th>s</th><th>s</th><th>s</th><th></th><th>s</th><th></th><th>s</th><th>s</th></tr></thead>\n",
       "<thead><tr><th>str14</th><th>str22</th><th>float64</th><th>str6</th><th>float64</th><th>float64</th><th>float64</th><th>float64</th><th>float64</th><th>float64</th><th>str35</th><th>float64</th><th>float64</th><th>float64</th><th>float64</th></tr></thead>\n",
       "<tr><td>2019.1.01326.S</td><td>uid://A001/X1465/X1002</td><td>3.0</td><td>7m</td><td>1209.6</td><td>0.0</td><td>362.88</td><td>0.0</td><td>0.0</td><td>60.48</td><td>Position_8</td><td>60.48</td><td>1.0</td><td>1632.96</td><td>1572.48</td></tr>\n",
       "<tr><td>2019.1.01326.S</td><td>uid://A001/X1465/X1008</td><td>3.0</td><td>7m</td><td>604.8</td><td>0.0</td><td>120.96</td><td>0.0</td><td>0.0</td><td>10.08</td><td>Position_2</td><td>10.08</td><td>1.0</td><td>735.84</td><td>725.76</td></tr>\n",
       "<tr><td>2019.1.01326.S</td><td>uid://A001/X1465/X100e</td><td>3.0</td><td>7m</td><td>604.8</td><td>0.0</td><td>120.96</td><td>0.0</td><td>0.0</td><td>10.08</td><td>Position_3</td><td>10.08</td><td>1.0</td><td>735.84</td><td>725.76</td></tr>\n",
       "<tr><td>2019.1.01326.S</td><td>uid://A001/X1465/X1014</td><td>3.0</td><td>7m</td><td>604.8</td><td>0.0</td><td>120.96</td><td>0.0</td><td>0.0</td><td>10.08</td><td>Position_4</td><td>10.08</td><td>1.0</td><td>735.84</td><td>725.76</td></tr>\n",
       "<tr><td>2019.1.01326.S</td><td>uid://A001/X1465/X101a</td><td>3.0</td><td>7m</td><td>604.8</td><td>0.0</td><td>120.96</td><td>0.0</td><td>0.0</td><td>10.08</td><td>Position_5</td><td>10.08</td><td>1.0</td><td>735.84</td><td>725.76</td></tr>\n",
       "<tr><td>2019.1.01326.S</td><td>uid://A001/X1465/X1020</td><td>3.0</td><td>7m</td><td>604.8</td><td>0.0</td><td>120.96</td><td>0.0</td><td>0.0</td><td>10.08</td><td>Position_6</td><td>10.08</td><td>1.0</td><td>735.84</td><td>725.76</td></tr>\n",
       "<tr><td>...</td><td>...</td><td>...</td><td>...</td><td>...</td><td>...</td><td>...</td><td>...</td><td>...</td><td>...</td><td>...</td><td>...</td><td>...</td><td>...</td><td>...</td></tr>\n",
       "<tr><td>2022.A.00009.T</td><td>uid://A001/X3571/X16</td><td>5.0</td><td>7m</td><td>1209.6</td><td>0.0</td><td>604.8</td><td>0.0</td><td>0.0</td><td>3084.48</td><td>GRB221009A</td><td>3084.48</td><td>1.0</td><td>4898.88</td><td>1814.3999999999999</td></tr>\n",
       "<tr><td>2022.A.00009.T</td><td>uid://A001/X3571/X1a</td><td>4.0</td><td>7m</td><td>604.8</td><td>0.0</td><td>362.88</td><td>0.0</td><td>0.0</td><td>2782.08</td><td>GRB221009A</td><td>2782.08</td><td>1.0</td><td>3749.7599999999998</td><td>967.68</td></tr>\n",
       "<tr><td>2022.A.00009.T</td><td>uid://A001/X3571/X1e</td><td>5.0</td><td>7m</td><td>1209.6</td><td>0.0</td><td>604.8</td><td>0.0</td><td>0.0</td><td>3084.48</td><td>GRB221009A</td><td>3084.48</td><td>1.0</td><td>4898.88</td><td>1814.3999999999999</td></tr>\n",
       "<tr><td>2022.1.00115.T</td><td>uid://A001/X3571/X5c</td><td>3.0</td><td>12m</td><td>302.4</td><td>0.0</td><td>60.48</td><td>0.0</td><td>0.0</td><td>302.4</td><td>Supernova_A_ToO</td><td>302.4</td><td>1.0</td><td>665.28</td><td>362.88</td></tr>\n",
       "<tr><td>2022.1.00115.T</td><td>uid://A001/X3571/X6f</td><td>6.0</td><td>12m</td><td>302.4</td><td>0.0</td><td>90.72</td><td>0.0</td><td>60.48</td><td>544.32</td><td>Supernova_A_ToO</td><td>544.32</td><td>1.0</td><td>997.9200000000001</td><td>453.6</td></tr>\n",
       "<tr><td>2022.A.00009.T</td><td>uid://A001/X3571/Xa</td><td>4.0</td><td>12m</td><td>604.8</td><td>0.0</td><td>423.36</td><td>846.72</td><td>241.92</td><td>4656.96</td><td>GRB221009A</td><td>4656.96</td><td>1.0</td><td>6773.76</td><td>2116.7999999999997</td></tr>\n",
       "</table></div>"
      ],
      "text/plain": [
       "<QTable length=22430>\n",
       " proposal_id            mous          ...      time_tot           cal_time     \n",
       "                                      ...         s                  s         \n",
       "    str14              str22          ...      float64            float64      \n",
       "-------------- ---------------------- ... ------------------ ------------------\n",
       "2019.1.01326.S uid://A001/X1465/X1002 ...            1632.96            1572.48\n",
       "2019.1.01326.S uid://A001/X1465/X1008 ...             735.84             725.76\n",
       "2019.1.01326.S uid://A001/X1465/X100e ...             735.84             725.76\n",
       "2019.1.01326.S uid://A001/X1465/X1014 ...             735.84             725.76\n",
       "2019.1.01326.S uid://A001/X1465/X101a ...             735.84             725.76\n",
       "2019.1.01326.S uid://A001/X1465/X1020 ...             735.84             725.76\n",
       "           ...                    ... ...                ...                ...\n",
       "2022.A.00009.T   uid://A001/X3571/X16 ...            4898.88 1814.3999999999999\n",
       "2022.A.00009.T   uid://A001/X3571/X1a ... 3749.7599999999998             967.68\n",
       "2022.A.00009.T   uid://A001/X3571/X1e ...            4898.88 1814.3999999999999\n",
       "2022.1.00115.T   uid://A001/X3571/X5c ...             665.28             362.88\n",
       "2022.1.00115.T   uid://A001/X3571/X6f ...  997.9200000000001              453.6\n",
       "2022.A.00009.T    uid://A001/X3571/Xa ...            6773.76 2116.7999999999997"
      ]
     },
     "execution_count": 26,
     "metadata": {},
     "output_type": "execute_result"
    }
   ],
   "source": [
    "tos_db"
   ]
  },
  {
   "cell_type": "code",
   "execution_count": 27,
   "id": "e3ebfbe3",
   "metadata": {},
   "outputs": [],
   "source": [
    "tos_db.write('data/tos_db_20230103.ecsv',overwrite=True)"
   ]
  },
  {
   "cell_type": "code",
   "execution_count": 28,
   "id": "fed6d820",
   "metadata": {},
   "outputs": [
    {
     "data": {
      "text/plain": [
       "<module 'wsu_db' from '/Users/akepley/Dropbox/Support/naasc/WSU/big_cubes/wsu_db.py'>"
      ]
     },
     "execution_count": 28,
     "metadata": {},
     "output_type": "execute_result"
    }
   ],
   "source": [
    "reload(wsu_db)"
   ]
  },
  {
   "cell_type": "code",
   "execution_count": 44,
   "id": "443cfa0d",
   "metadata": {},
   "outputs": [],
   "source": [
    "result_tos = wsu_db.add_tos_to_db(result_L80,tos_db)"
   ]
  },
  {
   "cell_type": "code",
   "execution_count": 45,
   "id": "8bf3da33",
   "metadata": {},
   "outputs": [],
   "source": [
    "result_c8_tos = wsu_db.add_tos_to_db(result_c8_L80,tos_db)"
   ]
  },
  {
   "cell_type": "code",
   "execution_count": 46,
   "id": "671ca56d",
   "metadata": {
    "scrolled": true
   },
   "outputs": [],
   "source": [
    "result_tos.write('data/result_tos_20230103.ecsv',overwrite=True)\n",
    "result_c8_tos.write('data/result_c8_tos_20230103.ecsv',overwrite=True)"
   ]
  },
  {
   "cell_type": "code",
   "execution_count": 32,
   "id": "c3202612",
   "metadata": {},
   "outputs": [
    {
     "data": {
      "text/html": [
       "<div><i>QTable length=11519</i>\n",
       "<table id=\"table140431358978656\" class=\"table-striped table-bordered table-condensed\">\n",
       "<thead><tr><th>mous</th><th>proposal_id</th><th>array</th><th>nant_typical</th><th>nant_array</th><th>nant_all</th><th>band</th><th>ntarget</th><th>target_name</th><th>s_fov</th><th>s_resolution</th><th>mosaic</th><th>imsize</th><th>pb</th><th>cell</th><th>blc_npol</th><th>blc_nspw</th><th>blc_specwidth</th><th>blc_freq</th><th>blc_velres</th><th>blc_nchan_agg</th><th>blc_nchan_max</th><th>blc_bandwidth_max</th><th>blc_bandwidth_agg</th><th>wsu_freq</th><th>wsu_npol</th><th>wsu_bandwidth_early</th><th>wsu_bandwidth_later_2x</th><th>wsu_bandwidth_later_4x</th><th>wsu_bandwidth_spw</th><th>wsu_nspw_early</th><th>wsu_nspw_later_2x</th><th>wsu_nspw_later_4x</th><th>wsu_specwidth_finest</th><th>wsu_chanavg_finest</th><th>wsu_velres_finest</th><th>wsu_specwidth_stepped</th><th>wsu_chanavg_stepped</th><th>wsu_velres_stepped</th><th>wsu_specwidth_stepped2</th><th>wsu_chanavg_stepped2</th><th>wsu_velres_stepped2</th><th>wsu_tint</th><th>wsu_nchan_spw_finest</th><th>wsu_nchan_spw_stepped</th><th>wsu_nchan_spw_stepped2</th><th>wsu_frac_bw_early</th><th>wsu_frac_bw_later_2x</th><th>wsu_frac_bw_later_4x</th><th>wsu_frac_bw_spw</th><th>nbase_typical</th><th>nbase_array</th><th>nbase_all</th><th>Project code</th><th>Array</th><th>L80</th><th>blc_tint</th><th>bp_time</th><th>flux_time</th><th>phase_time</th><th>pol_time</th><th>check_time</th><th>target_time</th><th>target_time_tot</th><th>time_tot</th><th>cal_time</th></tr></thead>\n",
       "<thead><tr><th></th><th></th><th></th><th></th><th></th><th></th><th></th><th></th><th></th><th>deg</th><th>arcsec</th><th></th><th></th><th>arcsec</th><th>arcsec</th><th></th><th></th><th>kHz</th><th>GHz</th><th>km / s</th><th></th><th></th><th>GHz</th><th>GHz</th><th>GHz</th><th></th><th>GHz</th><th>GHz</th><th>GHz</th><th>GHz</th><th></th><th></th><th></th><th>kHz</th><th></th><th>km / s</th><th>kHz</th><th></th><th>km / s</th><th>kHz</th><th></th><th>km / s</th><th>s</th><th></th><th></th><th></th><th></th><th></th><th></th><th></th><th></th><th></th><th></th><th></th><th></th><th>m</th><th>s</th><th>s</th><th>s</th><th>s</th><th>s</th><th>s</th><th>s</th><th>s</th><th>s</th><th>s</th></tr></thead>\n",
       "<thead><tr><th>str22</th><th>str14</th><th>str6</th><th>int64</th><th>int64</th><th>int64</th><th>float64</th><th>float64</th><th>str35</th><th>float64</th><th>float64</th><th>str1</th><th>float64</th><th>float64</th><th>float64</th><th>int64</th><th>int64</th><th>float64</th><th>float64</th><th>float64</th><th>float64</th><th>float64</th><th>float64</th><th>float64</th><th>float64</th><th>int64</th><th>float64</th><th>float64</th><th>float64</th><th>float64</th><th>int64</th><th>int64</th><th>int64</th><th>float64</th><th>float64</th><th>float64</th><th>float64</th><th>float64</th><th>float64</th><th>float64</th><th>float64</th><th>float64</th><th>float64</th><th>float64</th><th>float64</th><th>float64</th><th>float64</th><th>float64</th><th>float64</th><th>float64</th><th>float64</th><th>float64</th><th>float64</th><th>str14</th><th>str6</th><th>float64</th><th>float64</th><th>float64</th><th>float64</th><th>float64</th><th>float64</th><th>float64</th><th>float64</th><th>float64</th><th>float64</th><th>float64</th></tr></thead>\n",
       "<tr><td>uid://A001/X1465/X1002</td><td>2019.1.01326.S</td><td>7m</td><td>10</td><td>12</td><td>16</td><td>3.0</td><td>1.0</td><td>Position_8</td><td>0.13050363616709187</td><td>12.418751976046456</td><td>T</td><td>220.0</td><td>108.514167152526</td><td>2.483750395209291</td><td>2</td><td>4</td><td>965.2043680983645</td><td>92.45001476575733</td><td>2.9778920543263903</td><td>14336.0</td><td>4096.0</td><td>2.0</td><td>8.0</td><td>92.45001476575733</td><td>2</td><td>8.0</td><td>16.0</td><td>32.0</td><td>1.6</td><td>5</td><td>10</td><td>20</td><td>958.5</td><td>71.0</td><td>3.108177664666337</td><td>297.0</td><td>22.0</td><td>0.9630973045444989</td><td>607.5</td><td>45.0</td><td>1.9699717592955657</td><td>10.08</td><td>1669.0</td><td>5387.0</td><td>2633.0</td><td>0.08653324740152588</td><td>0.17306649480305175</td><td>0.3461329896061035</td><td>0.017306649480305178</td><td>45.0</td><td>66.0</td><td>120.0</td><td>2019.1.01326.S</td><td>7m</td><td>30.03768</td><td>10.1</td><td>1209.6</td><td>0.0</td><td>362.88</td><td>0.0</td><td>0.0</td><td>60.48</td><td>60.48</td><td>1632.96</td><td>1572.48</td></tr>\n",
       "<tr><td>uid://A001/X1465/X1008</td><td>2019.1.01326.S</td><td>7m</td><td>10</td><td>12</td><td>16</td><td>3.0</td><td>1.0</td><td>Position_2</td><td>0.13352956949867897</td><td>11.495155000772085</td><td>T</td><td>240.0</td><td>99.33587941322293</td><td>2.299031000154417</td><td>2</td><td>4</td><td>1116.9672480031732</td><td>100.94947251671041</td><td>3.1673235453701216</td><td>8192.0</td><td>2048.0</td><td>2.0</td><td>8.0</td><td>100.94947251671041</td><td>2</td><td>8.0</td><td>16.0</td><td>32.0</td><td>1.6</td><td>5</td><td>10</td><td>20</td><td>1107.0</td><td>82.0</td><td>3.2874887082848767</td><td>324.0</td><td>24.0</td><td>0.9621918170589883</td><td>661.5</td><td>49.0</td><td>1.9644749598287679</td><td>10.08</td><td>1445.0</td><td>4938.0</td><td>2418.0</td><td>0.07924756613934501</td><td>0.15849513227869003</td><td>0.31699026455738005</td><td>0.015849513227869004</td><td>45.0</td><td>66.0</td><td>120.0</td><td>2019.1.01326.S</td><td>7m</td><td>30.609047</td><td>10.1</td><td>604.8</td><td>0.0</td><td>120.96</td><td>0.0</td><td>0.0</td><td>10.08</td><td>10.08</td><td>735.84</td><td>725.76</td></tr>\n",
       "<tr><td>uid://A001/X1465/X100e</td><td>2019.1.01326.S</td><td>7m</td><td>10</td><td>12</td><td>16</td><td>3.0</td><td>1.0</td><td>Position_3</td><td>0.1335711696824279</td><td>11.477738486513816</td><td>T</td><td>240.0</td><td>99.3358716017038</td><td>2.295547697302763</td><td>2</td><td>4</td><td>1116.9768029798806</td><td>100.9494845484696</td><td>3.1673495625218457</td><td>8192.0</td><td>2048.0</td><td>2.0</td><td>8.0</td><td>100.9494845484696</td><td>2</td><td>8.0</td><td>16.0</td><td>32.0</td><td>1.6</td><td>5</td><td>10</td><td>20</td><td>1107.0</td><td>82.0</td><td>3.2874883164624453</td><td>324.0</td><td>24.0</td><td>0.9621917023792522</td><td>661.5</td><td>49.0</td><td>1.9644747256909736</td><td>10.08</td><td>1445.0</td><td>4938.0</td><td>2418.0</td><td>0.07924755669414937</td><td>0.15849511338829875</td><td>0.3169902267765975</td><td>0.015849511338829874</td><td>45.0</td><td>66.0</td><td>120.0</td><td>2019.1.01326.S</td><td>7m</td><td>30.655828</td><td>10.1</td><td>604.8</td><td>0.0</td><td>120.96</td><td>0.0</td><td>0.0</td><td>10.08</td><td>10.08</td><td>735.84</td><td>725.76</td></tr>\n",
       "<tr><td>uid://A001/X1465/X1014</td><td>2019.1.01326.S</td><td>7m</td><td>10</td><td>12</td><td>16</td><td>3.0</td><td>1.0</td><td>Position_4</td><td>0.1335853198822303</td><td>11.302668272847619</td><td>T</td><td>245.0</td><td>99.33587213428518</td><td>2.2605336545695236</td><td>2</td><td>4</td><td>1116.9790739480793</td><td>100.94948499173799</td><td>3.1673558199446665</td><td>8192.0</td><td>2048.0</td><td>2.0</td><td>8.0</td><td>100.94948499173799</td><td>2</td><td>8.0</td><td>16.0</td><td>32.0</td><td>1.6</td><td>5</td><td>10</td><td>20</td><td>1107.0</td><td>82.0</td><td>3.28748830202711</td><td>324.0</td><td>24.0</td><td>0.9621916981542762</td><td>661.5</td><td>49.0</td><td>1.9644747170649806</td><td>10.08</td><td>1445.0</td><td>4938.0</td><td>2418.0</td><td>0.07924755634617398</td><td>0.15849511269234795</td><td>0.3169902253846959</td><td>0.015849511269234794</td><td>45.0</td><td>66.0</td><td>120.0</td><td>2019.1.01326.S</td><td>7m</td><td>31.127703</td><td>10.1</td><td>604.8</td><td>0.0</td><td>120.96</td><td>0.0</td><td>0.0</td><td>10.08</td><td>10.08</td><td>735.84</td><td>725.76</td></tr>\n",
       "<tr><td>uid://A001/X1465/X101a</td><td>2019.1.01326.S</td><td>7m</td><td>10</td><td>12</td><td>16</td><td>3.0</td><td>1.0</td><td>Position_5</td><td>0.1336314854176951</td><td>11.413765574280458</td><td>T</td><td>240.0</td><td>99.33587285679403</td><td>2.2827531148560913</td><td>2</td><td>4</td><td>1116.978577743549</td><td>100.94948404645515</td><td>3.1673544786256693</td><td>8192.0</td><td>2048.0</td><td>2.0</td><td>8.0</td><td>100.94948404645515</td><td>2</td><td>8.0</td><td>16.0</td><td>32.0</td><td>1.6</td><td>5</td><td>10</td><td>20</td><td>1107.0</td><td>82.0</td><td>3.2874883328108857</td><td>324.0</td><td>24.0</td><td>0.9621917071641618</td><td>661.5</td><td>49.0</td><td>1.9644747354601635</td><td>10.08</td><td>1445.0</td><td>4938.0</td><td>2418.0</td><td>0.0792475570882417</td><td>0.1584951141764834</td><td>0.3169902283529668</td><td>0.015849511417648343</td><td>45.0</td><td>66.0</td><td>120.0</td><td>2019.1.01326.S</td><td>7m</td><td>30.823065</td><td>10.1</td><td>604.8</td><td>0.0</td><td>120.96</td><td>0.0</td><td>0.0</td><td>10.08</td><td>10.08</td><td>735.84</td><td>725.76</td></tr>\n",
       "<tr><td>uid://A001/X1465/X1020</td><td>2019.1.01326.S</td><td>7m</td><td>10</td><td>12</td><td>16</td><td>3.0</td><td>1.0</td><td>Position_6</td><td>0.13371358744210624</td><td>12.310711444421296</td><td>T</td><td>225.0</td><td>99.33586798161843</td><td>2.4621422888842592</td><td>2</td><td>4</td><td>1116.9863042364896</td><td>100.94949231787314</td><td>3.1673755615409136</td><td>8192.0</td><td>2048.0</td><td>2.0</td><td>8.0</td><td>100.94949231787314</td><td>2</td><td>8.0</td><td>16.0</td><td>32.0</td><td>1.6</td><td>5</td><td>10</td><td>20</td><td>1107.0</td><td>82.0</td><td>3.2874880634465784</td><td>324.0</td><td>24.0</td><td>0.9621916283258277</td><td>661.5</td><td>49.0</td><td>1.964474574498565</td><td>10.08</td><td>1445.0</td><td>4938.0</td><td>2418.0</td><td>0.07924755059499787</td><td>0.15849510118999574</td><td>0.3169902023799915</td><td>0.015849510118999575</td><td>45.0</td><td>66.0</td><td>120.0</td><td>2019.1.01326.S</td><td>7m</td><td>28.57859</td><td>10.1</td><td>604.8</td><td>0.0</td><td>120.96</td><td>0.0</td><td>0.0</td><td>10.08</td><td>10.08</td><td>735.84</td><td>725.76</td></tr>\n",
       "<tr><td>...</td><td>...</td><td>...</td><td>...</td><td>...</td><td>...</td><td>...</td><td>...</td><td>...</td><td>...</td><td>...</td><td>...</td><td>...</td><td>...</td><td>...</td><td>...</td><td>...</td><td>...</td><td>...</td><td>...</td><td>...</td><td>...</td><td>...</td><td>...</td><td>...</td><td>...</td><td>...</td><td>...</td><td>...</td><td>...</td><td>...</td><td>...</td><td>...</td><td>...</td><td>...</td><td>...</td><td>...</td><td>...</td><td>...</td><td>...</td><td>...</td><td>...</td><td>...</td><td>...</td><td>...</td><td>...</td><td>...</td><td>...</td><td>...</td><td>...</td><td>...</td><td>...</td><td>...</td><td>...</td><td>...</td><td>...</td><td>...</td><td>...</td><td>...</td><td>...</td><td>...</td><td>...</td><td>...</td><td>...</td><td>...</td><td>...</td></tr>\n",
       "<tr><td>uid://A001/X15a3/X18</td><td>2019.1.01587.S</td><td>12m</td><td>47</td><td>54</td><td>66</td><td>7.0</td><td>1.0</td><td>J1511+0408</td><td>0.00473533757302897</td><td>0.09574715915292428</td><td>F</td><td>1370.0</td><td>17.044407549621972</td><td>0.019149431830584856</td><td>2</td><td>4</td><td>3893.0806528778044</td><td>341.56730347969506</td><td>3.3677629762572647</td><td>1920.0</td><td>480.0</td><td>1.875</td><td>7.5</td><td>341.56730347969506</td><td>2</td><td>8.0</td><td>16.0</td><td>32.0</td><td>1.6</td><td>5</td><td>10</td><td>20</td><td>3888.0</td><td>288.0</td><td>3.41248434738804</td><td>1134.0</td><td>84.0</td><td>0.9953079346548451</td><td>2268.0</td><td>168.0</td><td>1.9906158693096903</td><td>3.024</td><td>411.0</td><td>1410.0</td><td>705.0</td><td>0.023421445549677945</td><td>0.04684289109935589</td><td>0.09368578219871178</td><td>0.00468428910993559</td><td>1081.0</td><td>1431.0</td><td>2145.0</td><td>2019.1.01587.S</td><td>12m</td><td>1068.3083</td><td>6.05</td><td>1814.4</td><td>0.0</td><td>302.4</td><td>0.0</td><td>241.92</td><td>1028.16</td><td>1028.16</td><td>3386.88</td><td>2358.7200000000003</td></tr>\n",
       "<tr><td>uid://A001/X15a3/X5</td><td>2019.A.00040.S</td><td>12m</td><td>47</td><td>54</td><td>66</td><td>7.0</td><td>1.0</td><td>ASASSN-21qj</td><td>0.004736613751849588</td><td>0.017512278432268685</td><td>F</td><td>7490.0</td><td>17.04810208137214</td><td>0.003502455686453737</td><td>2</td><td>4</td><td>979.229489693065</td><td>341.49625374808505</td><td>0.8470622795880317</td><td>4224.0</td><td>3840.0</td><td>2.0</td><td>7.875</td><td>341.49625374808505</td><td>2</td><td>8.0</td><td>16.0</td><td>32.0</td><td>1.6</td><td>5</td><td>10</td><td>20</td><td>972.0</td><td>72.0</td><td>0.8532985822765676</td><td>108.0</td><td>8.0</td><td>0.09481095358628529</td><td>567.0</td><td>42.0</td><td>0.49775750632799776</td><td>3.024</td><td>1646.0</td><td>14814.0</td><td>2821.0</td><td>0.023426318479913517</td><td>0.04685263695982703</td><td>0.09370527391965407</td><td>0.004685263695982703</td><td>1081.0</td><td>1431.0</td><td>2145.0</td><td>2019.A.00040.S</td><td>12m</td><td>5902.4077</td><td>2.02</td><td>1814.3999999999999</td><td>0.0</td><td>1868.832</td><td>0.0</td><td>217.728</td><td>5152.896</td><td>5152.896</td><td>9053.856</td><td>3900.96</td></tr>\n",
       "<tr><td>uid://A001/X15a9/X134d</td><td>2019.1.01634.L</td><td>12m</td><td>47</td><td>54</td><td>66</td><td>6.0</td><td>1.0</td><td>UVISTA-J-1212</td><td>0.007381374109636608</td><td>1.2855946465692392</td><td>F</td><td>160.0</td><td>26.56061402394846</td><td>0.25711892931384783</td><td>2</td><td>3</td><td>7779.002950074101</td><td>219.13075675583687</td><td>10.558843821668365</td><td>720.0</td><td>240.0</td><td>1.875</td><td>5.625</td><td>219.13075675583687</td><td>2</td><td>16.0</td><td>16.0</td><td>32.0</td><td>1.6</td><td>10</td><td>10</td><td>20</td><td>7776.0</td><td>576.0</td><td>10.6383338784591</td><td>7303.5</td><td>541.0</td><td>9.99190734070551</td><td>7303.5</td><td>541.0</td><td>9.99190734070551</td><td>3.024</td><td>205.0</td><td>219.0</td><td>219.0</td><td>0.07301576573218226</td><td>0.07301576573218226</td><td>0.1460315314643645</td><td>0.007301576573218226</td><td>1081.0</td><td>1431.0</td><td>2145.0</td><td>2019.1.01634.L</td><td>12m</td><td>122.633286</td><td>6.05</td><td>604.8</td><td>0.0</td><td>241.92</td><td>0.0</td><td>0.0</td><td>2903.04</td><td>2903.04</td><td>3749.7599999999998</td><td>846.7199999999999</td></tr>\n",
       "<tr><td>uid://A001/X15a9/X1351</td><td>2019.1.01634.L</td><td>12m</td><td>47</td><td>54</td><td>66</td><td>6.0</td><td>1.0</td><td>UVISTA-J-1212</td><td>0.007204637033625908</td><td>1.3081616346248486</td><td>F</td><td>150.0</td><td>25.924606029864425</td><td>0.26163232692496974</td><td>2</td><td>3</td><td>7779.804031912504</td><td>224.50623842940158</td><td>10.309003680864372</td><td>720.0</td><td>240.0</td><td>1.875</td><td>5.625</td><td>224.50623842940158</td><td>2</td><td>16.0</td><td>16.0</td><td>32.0</td><td>1.6</td><td>10</td><td>10</td><td>20</td><td>7776.0</td><td>576.0</td><td>10.383614146833903</td><td>7479.0</td><td>554.0</td><td>9.987017773170109</td><td>7479.0</td><td>554.0</td><td>9.987017773170109</td><td>3.024</td><td>205.0</td><td>213.0</td><td>213.0</td><td>0.0712675073616334</td><td>0.0712675073616334</td><td>0.1425350147232668</td><td>0.007126750736163341</td><td>1081.0</td><td>1431.0</td><td>2145.0</td><td>2019.1.01634.L</td><td>12m</td><td>120.855606</td><td>6.05</td><td>302.4</td><td>0.0</td><td>120.96</td><td>0.0</td><td>0.0</td><td>1149.12</td><td>1149.12</td><td>1572.4799999999998</td><td>423.35999999999996</td></tr>\n",
       "<tr><td>uid://A001/X15aa/X74</td><td>2019.1.00863.T</td><td>12m</td><td>47</td><td>54</td><td>66</td><td>3.0</td><td>1.0</td><td>GRB211106A</td><td>0.01658832667287695</td><td>0.6470849266662538</td><td>F</td><td>710.0</td><td>59.931417240091704</td><td>0.12941698533325077</td><td>2</td><td>4</td><td>30913.559908317307</td><td>97.4918584840845</td><td>90.52858123839745</td><td>512.0</td><td>128.0</td><td>2.0</td><td>8.0</td><td>97.4918584840845</td><td>2</td><td>8.0</td><td>16.0</td><td>32.0</td><td>1.6</td><td>5</td><td>10</td><td>20</td><td>30901.5</td><td>2289.0</td><td>95.02369515706123</td><td>3240.0</td><td>240.0</td><td>9.963165940452031</td><td>3240.0</td><td>240.0</td><td>9.963165940452031</td><td>3.024</td><td>51.0</td><td>493.0</td><td>493.0</td><td>0.08205813412928215</td><td>0.1641162682585643</td><td>0.3282325365171286</td><td>0.01641162682585643</td><td>1081.0</td><td>1431.0</td><td>2145.0</td><td>2019.1.00863.T</td><td>12m</td><td>562.5464</td><td>6.05</td><td>302.4</td><td>0.0</td><td>151.2</td><td>0.0</td><td>0.0</td><td>2056.32</td><td>2056.32</td><td>2509.92</td><td>453.59999999999997</td></tr>\n",
       "<tr><td>uid://A001/X15aa/X77</td><td>2019.1.00863.T</td><td>12m</td><td>47</td><td>54</td><td>66</td><td>3.0</td><td>1.0</td><td>GRB211106A</td><td>0.01658864995868178</td><td>1.1041984061268773</td><td>F</td><td>420.0</td><td>59.93258522869232</td><td>0.22083968122537545</td><td>2</td><td>4</td><td>30912.957453318253</td><td>97.48995852634154</td><td>90.52858123839742</td><td>512.0</td><td>128.0</td><td>2.0</td><td>8.0</td><td>97.48995852634154</td><td>2</td><td>8.0</td><td>16.0</td><td>32.0</td><td>1.6</td><td>5</td><td>10</td><td>20</td><td>30901.5</td><td>2289.0</td><td>95.02554705040603</td><td>3240.0</td><td>240.0</td><td>9.963360110134314</td><td>3240.0</td><td>240.0</td><td>9.963360110134314</td><td>3.024</td><td>51.0</td><td>493.0</td><td>493.0</td><td>0.08205973334000774</td><td>0.16411946668001548</td><td>0.32823893336003096</td><td>0.016411946668001547</td><td>1081.0</td><td>1431.0</td><td>2145.0</td><td>2019.1.00863.T</td><td>12m</td><td>329.6704</td><td>6.05</td><td>302.4</td><td>0.0</td><td>151.2</td><td>0.0</td><td>0.0</td><td>2056.32</td><td>2056.32</td><td>2509.92</td><td>453.59999999999997</td></tr>\n",
       "</table></div>"
      ],
      "text/plain": [
       "<QTable length=11519>\n",
       "         mous           proposal_id   ...      time_tot           cal_time     \n",
       "                                      ...         s                  s         \n",
       "        str22              str14      ...      float64            float64      \n",
       "---------------------- -------------- ... ------------------ ------------------\n",
       "uid://A001/X1465/X1002 2019.1.01326.S ...            1632.96            1572.48\n",
       "uid://A001/X1465/X1008 2019.1.01326.S ...             735.84             725.76\n",
       "uid://A001/X1465/X100e 2019.1.01326.S ...             735.84             725.76\n",
       "uid://A001/X1465/X1014 2019.1.01326.S ...             735.84             725.76\n",
       "uid://A001/X1465/X101a 2019.1.01326.S ...             735.84             725.76\n",
       "uid://A001/X1465/X1020 2019.1.01326.S ...             735.84             725.76\n",
       "                   ...            ... ...                ...                ...\n",
       "  uid://A001/X15a3/X18 2019.1.01587.S ...            3386.88 2358.7200000000003\n",
       "   uid://A001/X15a3/X5 2019.A.00040.S ...           9053.856            3900.96\n",
       "uid://A001/X15a9/X134d 2019.1.01634.L ... 3749.7599999999998  846.7199999999999\n",
       "uid://A001/X15a9/X1351 2019.1.01634.L ... 1572.4799999999998 423.35999999999996\n",
       "  uid://A001/X15aa/X74 2019.1.00863.T ...            2509.92 453.59999999999997\n",
       "  uid://A001/X15aa/X77 2019.1.00863.T ...            2509.92 453.59999999999997"
      ]
     },
     "execution_count": 32,
     "metadata": {},
     "output_type": "execute_result"
    }
   ],
   "source": [
    "result_tos"
   ]
  },
  {
   "cell_type": "code",
   "execution_count": 33,
   "id": "f787dde9",
   "metadata": {
    "scrolled": false
   },
   "outputs": [
    {
     "data": {
      "text/plain": [
       "<TableColumns names=('mous','proposal_id','array','nant_typical','nant_array','nant_all','band','ntarget','target_name','s_fov','s_resolution','mosaic','imsize','pb','cell','blc_npol','blc_nspw','blc_specwidth','blc_freq','blc_velres','blc_nchan_agg','blc_nchan_max','blc_bandwidth_max','blc_bandwidth_agg','wsu_freq','wsu_npol','wsu_bandwidth_early','wsu_bandwidth_later_2x','wsu_bandwidth_later_4x','wsu_bandwidth_spw','wsu_nspw_early','wsu_nspw_later_2x','wsu_nspw_later_4x','wsu_specwidth_finest','wsu_chanavg_finest','wsu_velres_finest','wsu_specwidth_stepped','wsu_chanavg_stepped','wsu_velres_stepped','wsu_specwidth_stepped2','wsu_chanavg_stepped2','wsu_velres_stepped2','wsu_tint','wsu_nchan_spw_finest','wsu_nchan_spw_stepped','wsu_nchan_spw_stepped2','wsu_frac_bw_early','wsu_frac_bw_later_2x','wsu_frac_bw_later_4x','wsu_frac_bw_spw','nbase_typical','nbase_array','nbase_all','Project code','Array','L80','blc_tint','bp_time','flux_time','phase_time','pol_time','check_time','target_time','target_time_tot','time_tot','cal_time')>"
      ]
     },
     "execution_count": 33,
     "metadata": {},
     "output_type": "execute_result"
    }
   ],
   "source": [
    "result_tos.columns"
   ]
  },
  {
   "cell_type": "code",
   "execution_count": 34,
   "id": "4e34efd9",
   "metadata": {},
   "outputs": [
    {
     "data": {
      "text/plain": [
       "10843"
      ]
     },
     "execution_count": 34,
     "metadata": {},
     "output_type": "execute_result"
    }
   ],
   "source": [
    "len(result_c8_tos)"
   ]
  },
  {
   "cell_type": "code",
   "execution_count": 35,
   "id": "0c352860",
   "metadata": {},
   "outputs": [
    {
     "data": {
      "text/plain": [
       "10843"
      ]
     },
     "execution_count": 35,
     "metadata": {},
     "output_type": "execute_result"
    }
   ],
   "source": [
    "len(result_c8_tos)"
   ]
  },
  {
   "cell_type": "markdown",
   "id": "74e4c13a",
   "metadata": {},
   "source": [
    "## Adding in data rates"
   ]
  },
  {
   "cell_type": "code",
   "execution_count": 36,
   "id": "600af55e",
   "metadata": {},
   "outputs": [
    {
     "data": {
      "text/plain": [
       "<module 'wsu_db' from '/Users/akepley/Dropbox/Support/naasc/WSU/big_cubes/wsu_db.py'>"
      ]
     },
     "execution_count": 36,
     "metadata": {},
     "output_type": "execute_result"
    }
   ],
   "source": [
    "reload(large_cubes)\n",
    "reload(wsu_db)"
   ]
  },
  {
   "cell_type": "code",
   "execution_count": 37,
   "id": "e56ca026",
   "metadata": {},
   "outputs": [
    {
     "data": {
      "text/plain": [
       "11519"
      ]
     },
     "execution_count": 37,
     "metadata": {},
     "output_type": "execute_result"
    }
   ],
   "source": [
    "len(result_tos)"
   ]
  },
  {
   "cell_type": "code",
   "execution_count": 47,
   "id": "a834b556",
   "metadata": {
    "scrolled": false
   },
   "outputs": [],
   "source": [
    "wsu_db.add_rates_to_db(result_tos)"
   ]
  },
  {
   "cell_type": "code",
   "execution_count": 40,
   "id": "7a1b675f",
   "metadata": {
    "scrolled": false
   },
   "outputs": [
    {
     "data": {
      "text/html": [
       "<div><i>QTable length=11519</i>\n",
       "<table id=\"table140431358978656\" class=\"table-striped table-bordered table-condensed\">\n",
       "<thead><tr><th>mous</th><th>proposal_id</th><th>array</th><th>nant_typical</th><th>nant_array</th><th>nant_all</th><th>band</th><th>ntarget</th><th>target_name</th><th>s_fov</th><th>s_resolution</th><th>mosaic</th><th>imsize</th><th>pb</th><th>cell</th><th>blc_npol</th><th>blc_nspw</th><th>blc_specwidth</th><th>blc_freq</th><th>blc_velres</th><th>blc_nchan_agg</th><th>blc_nchan_max</th><th>blc_bandwidth_max</th><th>blc_bandwidth_agg</th><th>wsu_freq</th><th>wsu_npol</th><th>wsu_bandwidth_early</th><th>wsu_bandwidth_later_2x</th><th>wsu_bandwidth_later_4x</th><th>wsu_bandwidth_spw</th><th>wsu_nspw_early</th><th>wsu_nspw_later_2x</th><th>wsu_nspw_later_4x</th><th>wsu_specwidth_finest</th><th>wsu_chanavg_finest</th><th>wsu_velres_finest</th><th>wsu_specwidth_stepped</th><th>wsu_chanavg_stepped</th><th>wsu_velres_stepped</th><th>wsu_specwidth_stepped2</th><th>wsu_chanavg_stepped2</th><th>wsu_velres_stepped2</th><th>wsu_tint</th><th>wsu_nchan_spw_finest</th><th>wsu_nchan_spw_stepped</th><th>wsu_nchan_spw_stepped2</th><th>wsu_frac_bw_early</th><th>wsu_frac_bw_later_2x</th><th>wsu_frac_bw_later_4x</th><th>wsu_frac_bw_spw</th><th>nbase_typical</th><th>nbase_array</th><th>nbase_all</th><th>Project code</th><th>Array</th><th>L80</th><th>blc_tint</th><th>bp_time</th><th>flux_time</th><th>phase_time</th><th>pol_time</th><th>check_time</th><th>target_time</th><th>target_time_tot</th><th>time_tot</th><th>cal_time</th><th>mfssize</th><th>wsu_cubesize_stepped2</th><th>wsu_productsize_early_stepped2</th><th>wsu_datarate_early_stepped2_typical</th><th>wsu_visrate_early_stepped2_typical</th><th>wsu_datavol_early_stepped2_typical_target</th><th>wsu_datavol_early_stepped2_typical_target_tot</th><th>wsu_datavol_early_stepped2_typical_cal</th><th>wsu_datavol_early_stepped2_typical_total</th><th>wsu_nvis_early_stepped2_typical_target</th><th>wsu_nvis_early_stepped2_typical_target_tot</th><th>wsu_nvis_early_stepped2_typical_cal</th><th>wsu_nvis_early_stepped2_typical_total</th><th>wsu_productsize_later_2x_stepped2</th><th>wsu_datarate_later_2x_stepped2_typical</th><th>wsu_visrate_later_2x_stepped2_typical</th><th>wsu_datavol_later_2x_stepped2_typical_target</th><th>wsu_datavol_later_2x_stepped2_typical_target_tot</th><th>wsu_datavol_later_2x_stepped2_typical_cal</th><th>wsu_datavol_later_2x_stepped2_typical_total</th><th>wsu_nvis_later_2x_stepped2_typical_target</th><th>wsu_nvis_later_2x_stepped2_typical_target_tot</th><th>wsu_nvis_later_2x_stepped2_typical_cal</th><th>wsu_nvis_later_2x_stepped2_typical_total</th><th>wsu_productsize_later_4x_stepped2</th><th>wsu_datarate_later_4x_stepped2_typical</th><th>wsu_visrate_later_4x_stepped2_typical</th><th>wsu_datavol_later_4x_stepped2_typical_target</th><th>wsu_datavol_later_4x_stepped2_typical_target_tot</th><th>wsu_datavol_later_4x_stepped2_typical_cal</th><th>wsu_datavol_later_4x_stepped2_typical_total</th><th>wsu_nvis_later_4x_stepped2_typical_target</th><th>wsu_nvis_later_4x_stepped2_typical_target_tot</th><th>wsu_nvis_later_4x_stepped2_typical_cal</th><th>wsu_nvis_later_4x_stepped2_typical_total</th><th>blc_datarate_typical</th><th>blc_visrate_typical</th><th>blc_datavol_typical_target</th><th>blc_datavol_typical_target_tot</th><th>blc_datavol_typical_cal</th><th>blc_datavol_typical_total</th><th>blc_nvis_typical_target</th><th>blc_nvis_typical_target_tot</th><th>blc_nvis_typical_cal</th><th>blc_nvis_typical_total</th></tr></thead>\n",
       "<thead><tr><th></th><th></th><th></th><th></th><th></th><th></th><th></th><th></th><th></th><th>deg</th><th>arcsec</th><th></th><th></th><th>arcsec</th><th>arcsec</th><th></th><th></th><th>kHz</th><th>GHz</th><th>km / s</th><th></th><th></th><th>GHz</th><th>GHz</th><th>GHz</th><th></th><th>GHz</th><th>GHz</th><th>GHz</th><th>GHz</th><th></th><th></th><th></th><th>kHz</th><th></th><th>km / s</th><th>kHz</th><th></th><th>km / s</th><th>kHz</th><th></th><th>km / s</th><th>s</th><th></th><th></th><th></th><th></th><th></th><th></th><th></th><th></th><th></th><th></th><th></th><th></th><th>m</th><th>s</th><th>s</th><th>s</th><th>s</th><th>s</th><th>s</th><th>s</th><th>s</th><th>s</th><th>s</th><th>Gbyte</th><th>Gbyte</th><th>Gbyte</th><th>Gbyte / s</th><th>Gvis / h</th><th>Gbyte</th><th>Gbyte</th><th>Gbyte</th><th>Gbyte</th><th>Gvis</th><th>Gvis</th><th>Gvis</th><th>Gvis</th><th>Gbyte</th><th>Gbyte / s</th><th>Gvis / h</th><th>Gbyte</th><th>Gbyte</th><th>Gbyte</th><th>Gbyte</th><th>Gvis</th><th>Gvis</th><th>Gvis</th><th>Gvis</th><th>Gbyte</th><th>Gbyte / s</th><th>Gvis / h</th><th>Gbyte</th><th>Gbyte</th><th>Gbyte</th><th>Gbyte</th><th>Gvis</th><th>Gvis</th><th>Gvis</th><th>Gvis</th><th>Gbyte / s</th><th>Gvis / h</th><th>Gbyte</th><th>Gbyte</th><th>Gbyte</th><th>Gbyte</th><th>Gvis</th><th>Gvis</th><th>Gvis</th><th>Gvis</th></tr></thead>\n",
       "<thead><tr><th>str22</th><th>str14</th><th>str6</th><th>int64</th><th>int64</th><th>int64</th><th>float64</th><th>float64</th><th>str35</th><th>float64</th><th>float64</th><th>str1</th><th>float64</th><th>float64</th><th>float64</th><th>int64</th><th>int64</th><th>float64</th><th>float64</th><th>float64</th><th>float64</th><th>float64</th><th>float64</th><th>float64</th><th>float64</th><th>int64</th><th>float64</th><th>float64</th><th>float64</th><th>float64</th><th>int64</th><th>int64</th><th>int64</th><th>float64</th><th>float64</th><th>float64</th><th>float64</th><th>float64</th><th>float64</th><th>float64</th><th>float64</th><th>float64</th><th>float64</th><th>float64</th><th>float64</th><th>float64</th><th>float64</th><th>float64</th><th>float64</th><th>float64</th><th>float64</th><th>float64</th><th>float64</th><th>str14</th><th>str6</th><th>float64</th><th>float64</th><th>float64</th><th>float64</th><th>float64</th><th>float64</th><th>float64</th><th>float64</th><th>float64</th><th>float64</th><th>float64</th><th>float64</th><th>float64</th><th>float64</th><th>float64</th><th>float64</th><th>float64</th><th>float64</th><th>float64</th><th>float64</th><th>float64</th><th>float64</th><th>float64</th><th>float64</th><th>float64</th><th>float64</th><th>float64</th><th>float64</th><th>float64</th><th>float64</th><th>float64</th><th>float64</th><th>float64</th><th>float64</th><th>float64</th><th>float64</th><th>float64</th><th>float64</th><th>float64</th><th>float64</th><th>float64</th><th>float64</th><th>float64</th><th>float64</th><th>float64</th><th>float64</th><th>float64</th><th>float64</th><th>float64</th><th>float64</th><th>float64</th><th>float64</th><th>float64</th><th>float64</th><th>float64</th><th>float64</th></tr></thead>\n",
       "<tr><td>uid://A001/X1465/X1002</td><td>2019.1.01326.S</td><td>7m</td><td>10</td><td>12</td><td>16</td><td>3.0</td><td>1.0</td><td>Position_8</td><td>0.13050363616709187</td><td>12.418751976046456</td><td>T</td><td>220.0</td><td>108.514167152526</td><td>2.483750395209291</td><td>2</td><td>4</td><td>965.2043680983645</td><td>92.45001476575733</td><td>2.9778920543263903</td><td>14336.0</td><td>4096.0</td><td>2.0</td><td>8.0</td><td>92.45001476575733</td><td>2</td><td>8.0</td><td>16.0</td><td>32.0</td><td>1.6</td><td>5</td><td>10</td><td>20</td><td>958.5</td><td>71.0</td><td>3.108177664666337</td><td>297.0</td><td>22.0</td><td>0.9630973045444989</td><td>607.5</td><td>45.0</td><td>1.9699717592955657</td><td>10.08</td><td>1669.0</td><td>5387.0</td><td>2633.0</td><td>0.08653324740152588</td><td>0.17306649480305175</td><td>0.3461329896061035</td><td>0.017306649480305178</td><td>45.0</td><td>66.0</td><td>120.0</td><td>2019.1.01326.S</td><td>7m</td><td>30.03768</td><td>10.1</td><td>1209.6</td><td>0.0</td><td>362.88</td><td>0.0</td><td>0.0</td><td>60.48</td><td>60.48</td><td>1632.96</td><td>1572.48</td><td>0.0001936</td><td>0.5097488</td><td>5.099424</td><td>0.0005746626984126984</td><td>0.8463214285714287</td><td>0.0347556</td><td>0.0347556</td><td>0.9036456</td><td>0.9384012</td><td>0.0142182</td><td>0.0142182</td><td>0.36967320000000004</td><td>0.38389140000000005</td><td>10.198848</td><td>0.0011493253968253968</td><td>1.6926428571428573</td><td>0.0695112</td><td>0.0695112</td><td>1.8072912</td><td>1.8768024</td><td>0.0284364</td><td>0.0284364</td><td>0.7393464000000001</td><td>0.7677828000000001</td><td>20.397696</td><td>0.0022986507936507937</td><td>3.3852857142857147</td><td>0.1390224</td><td>0.1390224</td><td>3.6145824</td><td>3.7536048</td><td>0.0568728</td><td>0.0568728</td><td>1.4786928000000001</td><td>1.5355656000000002</td><td>0.0006245386138613862</td><td>0.9197750495049505</td><td>0.03777209536633663</td><td>0.03777209536633663</td><td>0.9820744795247526</td><td>1.0198465748910892</td><td>0.015452220831683168</td><td>0.015452220831683168</td><td>0.4017577416237624</td><td>0.41720996245544556</td></tr>\n",
       "<tr><td>uid://A001/X1465/X1008</td><td>2019.1.01326.S</td><td>7m</td><td>10</td><td>12</td><td>16</td><td>3.0</td><td>1.0</td><td>Position_2</td><td>0.13352956949867897</td><td>11.495155000772085</td><td>T</td><td>240.0</td><td>99.33587941322293</td><td>2.299031000154417</td><td>2</td><td>4</td><td>1116.9672480031732</td><td>100.94947251671041</td><td>3.1673235453701216</td><td>8192.0</td><td>2048.0</td><td>2.0</td><td>8.0</td><td>100.94947251671041</td><td>2</td><td>8.0</td><td>16.0</td><td>32.0</td><td>1.6</td><td>5</td><td>10</td><td>20</td><td>1107.0</td><td>82.0</td><td>3.2874887082848767</td><td>324.0</td><td>24.0</td><td>0.9621918170589883</td><td>661.5</td><td>49.0</td><td>1.9644749598287679</td><td>10.08</td><td>1445.0</td><td>4938.0</td><td>2418.0</td><td>0.07924756613934501</td><td>0.15849513227869003</td><td>0.31699026455738005</td><td>0.015849513227869004</td><td>45.0</td><td>66.0</td><td>120.0</td><td>2019.1.01326.S</td><td>7m</td><td>30.609047</td><td>10.1</td><td>604.8</td><td>0.0</td><td>120.96</td><td>0.0</td><td>0.0</td><td>10.08</td><td>10.08</td><td>735.84</td><td>725.76</td><td>0.0002304</td><td>0.5571072</td><td>5.573376</td><td>0.0005277380952380952</td><td>0.7772142857142857</td><td>0.0053196</td><td>0.0053196</td><td>0.3830112</td><td>0.38833080000000003</td><td>0.0021762</td><td>0.0021762</td><td>0.1566864</td><td>0.1588626</td><td>11.146752</td><td>0.0010554761904761904</td><td>1.5544285714285715</td><td>0.0106392</td><td>0.0106392</td><td>0.7660224</td><td>0.7766616000000001</td><td>0.0043524</td><td>0.0043524</td><td>0.3133728</td><td>0.3177252</td><td>22.293504</td><td>0.002110952380952381</td><td>3.108857142857143</td><td>0.0212784</td><td>0.0212784</td><td>1.5320448</td><td>1.5533232000000001</td><td>0.0087048</td><td>0.0087048</td><td>0.6267456</td><td>0.6354504</td><td>0.0003568792079207921</td><td>0.5255857425742574</td><td>0.0035973424158415846</td><td>0.0035973424158415846</td><td>0.2590086539405941</td><td>0.26260599635643567</td><td>0.0014716400792079206</td><td>0.0014716400792079206</td><td>0.10595808570297029</td><td>0.10742972578217821</td></tr>\n",
       "<tr><td>uid://A001/X1465/X100e</td><td>2019.1.01326.S</td><td>7m</td><td>10</td><td>12</td><td>16</td><td>3.0</td><td>1.0</td><td>Position_3</td><td>0.1335711696824279</td><td>11.477738486513816</td><td>T</td><td>240.0</td><td>99.3358716017038</td><td>2.295547697302763</td><td>2</td><td>4</td><td>1116.9768029798806</td><td>100.9494845484696</td><td>3.1673495625218457</td><td>8192.0</td><td>2048.0</td><td>2.0</td><td>8.0</td><td>100.9494845484696</td><td>2</td><td>8.0</td><td>16.0</td><td>32.0</td><td>1.6</td><td>5</td><td>10</td><td>20</td><td>1107.0</td><td>82.0</td><td>3.2874883164624453</td><td>324.0</td><td>24.0</td><td>0.9621917023792522</td><td>661.5</td><td>49.0</td><td>1.9644747256909736</td><td>10.08</td><td>1445.0</td><td>4938.0</td><td>2418.0</td><td>0.07924755669414937</td><td>0.15849511338829875</td><td>0.3169902267765975</td><td>0.015849511338829874</td><td>45.0</td><td>66.0</td><td>120.0</td><td>2019.1.01326.S</td><td>7m</td><td>30.655828</td><td>10.1</td><td>604.8</td><td>0.0</td><td>120.96</td><td>0.0</td><td>0.0</td><td>10.08</td><td>10.08</td><td>735.84</td><td>725.76</td><td>0.0002304</td><td>0.5571072</td><td>5.573376</td><td>0.0005277380952380952</td><td>0.7772142857142857</td><td>0.0053196</td><td>0.0053196</td><td>0.3830112</td><td>0.38833080000000003</td><td>0.0021762</td><td>0.0021762</td><td>0.1566864</td><td>0.1588626</td><td>11.146752</td><td>0.0010554761904761904</td><td>1.5544285714285715</td><td>0.0106392</td><td>0.0106392</td><td>0.7660224</td><td>0.7766616000000001</td><td>0.0043524</td><td>0.0043524</td><td>0.3133728</td><td>0.3177252</td><td>22.293504</td><td>0.002110952380952381</td><td>3.108857142857143</td><td>0.0212784</td><td>0.0212784</td><td>1.5320448</td><td>1.5533232000000001</td><td>0.0087048</td><td>0.0087048</td><td>0.6267456</td><td>0.6354504</td><td>0.0003568792079207921</td><td>0.5255857425742574</td><td>0.0035973424158415846</td><td>0.0035973424158415846</td><td>0.2590086539405941</td><td>0.26260599635643567</td><td>0.0014716400792079206</td><td>0.0014716400792079206</td><td>0.10595808570297029</td><td>0.10742972578217821</td></tr>\n",
       "<tr><td>uid://A001/X1465/X1014</td><td>2019.1.01326.S</td><td>7m</td><td>10</td><td>12</td><td>16</td><td>3.0</td><td>1.0</td><td>Position_4</td><td>0.1335853198822303</td><td>11.302668272847619</td><td>T</td><td>245.0</td><td>99.33587213428518</td><td>2.2605336545695236</td><td>2</td><td>4</td><td>1116.9790739480793</td><td>100.94948499173799</td><td>3.1673558199446665</td><td>8192.0</td><td>2048.0</td><td>2.0</td><td>8.0</td><td>100.94948499173799</td><td>2</td><td>8.0</td><td>16.0</td><td>32.0</td><td>1.6</td><td>5</td><td>10</td><td>20</td><td>1107.0</td><td>82.0</td><td>3.28748830202711</td><td>324.0</td><td>24.0</td><td>0.9621916981542762</td><td>661.5</td><td>49.0</td><td>1.9644747170649806</td><td>10.08</td><td>1445.0</td><td>4938.0</td><td>2418.0</td><td>0.07924755634617398</td><td>0.15849511269234795</td><td>0.3169902253846959</td><td>0.015849511269234794</td><td>45.0</td><td>66.0</td><td>120.0</td><td>2019.1.01326.S</td><td>7m</td><td>31.127703</td><td>10.1</td><td>604.8</td><td>0.0</td><td>120.96</td><td>0.0</td><td>0.0</td><td>10.08</td><td>10.08</td><td>735.84</td><td>725.76</td><td>0.0002401</td><td>0.5805618</td><td>5.808019</td><td>0.0005277380952380952</td><td>0.7772142857142857</td><td>0.0053196</td><td>0.0053196</td><td>0.3830112</td><td>0.38833080000000003</td><td>0.0021762</td><td>0.0021762</td><td>0.1566864</td><td>0.1588626</td><td>11.616038</td><td>0.0010554761904761904</td><td>1.5544285714285715</td><td>0.0106392</td><td>0.0106392</td><td>0.7660224</td><td>0.7766616000000001</td><td>0.0043524</td><td>0.0043524</td><td>0.3133728</td><td>0.3177252</td><td>23.232076</td><td>0.002110952380952381</td><td>3.108857142857143</td><td>0.0212784</td><td>0.0212784</td><td>1.5320448</td><td>1.5533232000000001</td><td>0.0087048</td><td>0.0087048</td><td>0.6267456</td><td>0.6354504</td><td>0.0003568792079207921</td><td>0.5255857425742574</td><td>0.0035973424158415846</td><td>0.0035973424158415846</td><td>0.2590086539405941</td><td>0.26260599635643567</td><td>0.0014716400792079206</td><td>0.0014716400792079206</td><td>0.10595808570297029</td><td>0.10742972578217821</td></tr>\n",
       "<tr><td>uid://A001/X1465/X101a</td><td>2019.1.01326.S</td><td>7m</td><td>10</td><td>12</td><td>16</td><td>3.0</td><td>1.0</td><td>Position_5</td><td>0.1336314854176951</td><td>11.413765574280458</td><td>T</td><td>240.0</td><td>99.33587285679403</td><td>2.2827531148560913</td><td>2</td><td>4</td><td>1116.978577743549</td><td>100.94948404645515</td><td>3.1673544786256693</td><td>8192.0</td><td>2048.0</td><td>2.0</td><td>8.0</td><td>100.94948404645515</td><td>2</td><td>8.0</td><td>16.0</td><td>32.0</td><td>1.6</td><td>5</td><td>10</td><td>20</td><td>1107.0</td><td>82.0</td><td>3.2874883328108857</td><td>324.0</td><td>24.0</td><td>0.9621917071641618</td><td>661.5</td><td>49.0</td><td>1.9644747354601635</td><td>10.08</td><td>1445.0</td><td>4938.0</td><td>2418.0</td><td>0.0792475570882417</td><td>0.1584951141764834</td><td>0.3169902283529668</td><td>0.015849511417648343</td><td>45.0</td><td>66.0</td><td>120.0</td><td>2019.1.01326.S</td><td>7m</td><td>30.823065</td><td>10.1</td><td>604.8</td><td>0.0</td><td>120.96</td><td>0.0</td><td>0.0</td><td>10.08</td><td>10.08</td><td>735.84</td><td>725.76</td><td>0.0002304</td><td>0.5571072</td><td>5.573376</td><td>0.0005277380952380952</td><td>0.7772142857142857</td><td>0.0053196</td><td>0.0053196</td><td>0.3830112</td><td>0.38833080000000003</td><td>0.0021762</td><td>0.0021762</td><td>0.1566864</td><td>0.1588626</td><td>11.146752</td><td>0.0010554761904761904</td><td>1.5544285714285715</td><td>0.0106392</td><td>0.0106392</td><td>0.7660224</td><td>0.7766616000000001</td><td>0.0043524</td><td>0.0043524</td><td>0.3133728</td><td>0.3177252</td><td>22.293504</td><td>0.002110952380952381</td><td>3.108857142857143</td><td>0.0212784</td><td>0.0212784</td><td>1.5320448</td><td>1.5533232000000001</td><td>0.0087048</td><td>0.0087048</td><td>0.6267456</td><td>0.6354504</td><td>0.0003568792079207921</td><td>0.5255857425742574</td><td>0.0035973424158415846</td><td>0.0035973424158415846</td><td>0.2590086539405941</td><td>0.26260599635643567</td><td>0.0014716400792079206</td><td>0.0014716400792079206</td><td>0.10595808570297029</td><td>0.10742972578217821</td></tr>\n",
       "<tr><td>uid://A001/X1465/X1020</td><td>2019.1.01326.S</td><td>7m</td><td>10</td><td>12</td><td>16</td><td>3.0</td><td>1.0</td><td>Position_6</td><td>0.13371358744210624</td><td>12.310711444421296</td><td>T</td><td>225.0</td><td>99.33586798161843</td><td>2.4621422888842592</td><td>2</td><td>4</td><td>1116.9863042364896</td><td>100.94949231787314</td><td>3.1673755615409136</td><td>8192.0</td><td>2048.0</td><td>2.0</td><td>8.0</td><td>100.94949231787314</td><td>2</td><td>8.0</td><td>16.0</td><td>32.0</td><td>1.6</td><td>5</td><td>10</td><td>20</td><td>1107.0</td><td>82.0</td><td>3.2874880634465784</td><td>324.0</td><td>24.0</td><td>0.9621916283258277</td><td>661.5</td><td>49.0</td><td>1.964474574498565</td><td>10.08</td><td>1445.0</td><td>4938.0</td><td>2418.0</td><td>0.07924755059499787</td><td>0.15849510118999574</td><td>0.3169902023799915</td><td>0.015849510118999575</td><td>45.0</td><td>66.0</td><td>120.0</td><td>2019.1.01326.S</td><td>7m</td><td>28.57859</td><td>10.1</td><td>604.8</td><td>0.0</td><td>120.96</td><td>0.0</td><td>0.0</td><td>10.08</td><td>10.08</td><td>735.84</td><td>725.76</td><td>0.0002025</td><td>0.489645</td><td>4.8984749999999995</td><td>0.0005277380952380952</td><td>0.7772142857142857</td><td>0.0053196</td><td>0.0053196</td><td>0.3830112</td><td>0.38833080000000003</td><td>0.0021762</td><td>0.0021762</td><td>0.1566864</td><td>0.1588626</td><td>9.796949999999999</td><td>0.0010554761904761904</td><td>1.5544285714285715</td><td>0.0106392</td><td>0.0106392</td><td>0.7660224</td><td>0.7766616000000001</td><td>0.0043524</td><td>0.0043524</td><td>0.3133728</td><td>0.3177252</td><td>19.593899999999998</td><td>0.002110952380952381</td><td>3.108857142857143</td><td>0.0212784</td><td>0.0212784</td><td>1.5320448</td><td>1.5533232000000001</td><td>0.0087048</td><td>0.0087048</td><td>0.6267456</td><td>0.6354504</td><td>0.0003568792079207921</td><td>0.5255857425742574</td><td>0.0035973424158415846</td><td>0.0035973424158415846</td><td>0.2590086539405941</td><td>0.26260599635643567</td><td>0.0014716400792079206</td><td>0.0014716400792079206</td><td>0.10595808570297029</td><td>0.10742972578217821</td></tr>\n",
       "<tr><td>...</td><td>...</td><td>...</td><td>...</td><td>...</td><td>...</td><td>...</td><td>...</td><td>...</td><td>...</td><td>...</td><td>...</td><td>...</td><td>...</td><td>...</td><td>...</td><td>...</td><td>...</td><td>...</td><td>...</td><td>...</td><td>...</td><td>...</td><td>...</td><td>...</td><td>...</td><td>...</td><td>...</td><td>...</td><td>...</td><td>...</td><td>...</td><td>...</td><td>...</td><td>...</td><td>...</td><td>...</td><td>...</td><td>...</td><td>...</td><td>...</td><td>...</td><td>...</td><td>...</td><td>...</td><td>...</td><td>...</td><td>...</td><td>...</td><td>...</td><td>...</td><td>...</td><td>...</td><td>...</td><td>...</td><td>...</td><td>...</td><td>...</td><td>...</td><td>...</td><td>...</td><td>...</td><td>...</td><td>...</td><td>...</td><td>...</td><td>...</td><td>...</td><td>...</td><td>...</td><td>...</td><td>...</td><td>...</td><td>...</td><td>...</td><td>...</td><td>...</td><td>...</td><td>...</td><td>...</td><td>...</td><td>...</td><td>...</td><td>...</td><td>...</td><td>...</td><td>...</td><td>...</td><td>...</td><td>...</td><td>...</td><td>...</td><td>...</td><td>...</td><td>...</td><td>...</td><td>...</td><td>...</td><td>...</td><td>...</td><td>...</td><td>...</td><td>...</td><td>...</td><td>...</td><td>...</td><td>...</td><td>...</td><td>...</td><td>...</td><td>...</td></tr>\n",
       "<tr><td>uid://A001/X15a3/X18</td><td>2019.1.01587.S</td><td>12m</td><td>47</td><td>54</td><td>66</td><td>7.0</td><td>1.0</td><td>J1511+0408</td><td>0.00473533757302897</td><td>0.09574715915292428</td><td>F</td><td>1370.0</td><td>17.044407549621972</td><td>0.019149431830584856</td><td>2</td><td>4</td><td>3893.0806528778044</td><td>341.56730347969506</td><td>3.3677629762572647</td><td>1920.0</td><td>480.0</td><td>1.875</td><td>7.5</td><td>341.56730347969506</td><td>2</td><td>8.0</td><td>16.0</td><td>32.0</td><td>1.6</td><td>5</td><td>10</td><td>20</td><td>3888.0</td><td>288.0</td><td>3.41248434738804</td><td>1134.0</td><td>84.0</td><td>0.9953079346548451</td><td>2268.0</td><td>168.0</td><td>1.9906158693096903</td><td>3.024</td><td>411.0</td><td>1410.0</td><td>705.0</td><td>0.023421445549677945</td><td>0.04684289109935589</td><td>0.09368578219871178</td><td>0.00468428910993559</td><td>1081.0</td><td>1431.0</td><td>2145.0</td><td>2019.1.01587.S</td><td>12m</td><td>1068.3083</td><td>6.05</td><td>1814.4</td><td>0.0</td><td>302.4</td><td>0.0</td><td>241.92</td><td>1028.16</td><td>1028.16</td><td>3386.88</td><td>2358.7200000000003</td><td>0.0075076</td><td>5.292858</td><td>53.003656</td><td>0.010519047619047619</td><td>18.14535714285714</td><td>10.815264</td><td>10.815264</td><td>24.811488</td><td>35.626752</td><td>5.182314</td><td>5.182314</td><td>11.888838</td><td>17.071151999999998</td><td>106.007312</td><td>0.021038095238095238</td><td>36.29071428571428</td><td>21.630528</td><td>21.630528</td><td>49.622976</td><td>71.253504</td><td>10.364628</td><td>10.364628</td><td>23.777676</td><td>34.142303999999996</td><td>212.014624</td><td>0.042076190476190475</td><td>72.58142857142856</td><td>43.261056</td><td>43.261056</td><td>99.245952</td><td>142.507008</td><td>20.729256</td><td>20.729256</td><td>47.555352</td><td>68.28460799999999</td><td>0.002863814876033058</td><td>4.940080661157024</td><td>2.9444599029421488</td><td>2.9444599029421488</td><td>6.754937424396695</td><td>9.699397327338843</td><td>1.4108870368264463</td><td>1.4108870368264463</td><td>3.236740849190083</td><td>4.6476278860165285</td></tr>\n",
       "<tr><td>uid://A001/X15a3/X5</td><td>2019.A.00040.S</td><td>12m</td><td>47</td><td>54</td><td>66</td><td>7.0</td><td>1.0</td><td>ASASSN-21qj</td><td>0.004736613751849588</td><td>0.017512278432268685</td><td>F</td><td>7490.0</td><td>17.04810208137214</td><td>0.003502455686453737</td><td>2</td><td>4</td><td>979.229489693065</td><td>341.49625374808505</td><td>0.8470622795880317</td><td>4224.0</td><td>3840.0</td><td>2.0</td><td>7.875</td><td>341.49625374808505</td><td>2</td><td>8.0</td><td>16.0</td><td>32.0</td><td>1.6</td><td>5</td><td>10</td><td>20</td><td>972.0</td><td>72.0</td><td>0.8532985822765676</td><td>108.0</td><td>8.0</td><td>0.09481095358628529</td><td>567.0</td><td>42.0</td><td>0.49775750632799776</td><td>3.024</td><td>1646.0</td><td>14814.0</td><td>2821.0</td><td>0.023426318479913517</td><td>0.04685263695982703</td><td>0.09370527391965407</td><td>0.004685263695982703</td><td>1081.0</td><td>1431.0</td><td>2145.0</td><td>2019.A.00040.S</td><td>12m</td><td>5902.4077</td><td>2.02</td><td>1814.3999999999999</td><td>0.0</td><td>1868.832</td><td>0.0</td><td>217.728</td><td>5152.896</td><td>5152.896</td><td>9053.856</td><td>3900.96</td><td>0.2244004</td><td>633.0335284</td><td>6332.579288000001</td><td>0.042091111111111114</td><td>72.60716666666666</td><td>216.89111808</td><td>216.89111808</td><td>164.1957408</td><td>381.08685888</td><td>103.92699407999999</td><td>103.92699407999999</td><td>78.6771258</td><td>182.60411987999996</td><td>12665.158576000002</td><td>0.08418222222222223</td><td>145.21433333333331</td><td>433.78223616</td><td>433.78223616</td><td>328.3914816</td><td>762.17371776</td><td>207.85398815999997</td><td>207.85398815999997</td><td>157.3542516</td><td>365.2082397599999</td><td>25330.317152000003</td><td>0.16836444444444446</td><td>290.42866666666663</td><td>867.56447232</td><td>867.56447232</td><td>656.7829632</td><td>1524.34743552</td><td>415.70797631999994</td><td>415.70797631999994</td><td>314.7085032</td><td>730.4164795199998</td><td>0.018869988118811878</td><td>32.550729504950496</td><td>97.23508629747325</td><td>97.23508629747325</td><td>73.61106885196038</td><td>170.84615514943363</td><td>46.59181218420594</td><td>46.59181218420594</td><td>35.27197049156436</td><td>81.8637826757703</td></tr>\n",
       "<tr><td>uid://A001/X15a9/X134d</td><td>2019.1.01634.L</td><td>12m</td><td>47</td><td>54</td><td>66</td><td>6.0</td><td>1.0</td><td>UVISTA-J-1212</td><td>0.007381374109636608</td><td>1.2855946465692392</td><td>F</td><td>160.0</td><td>26.56061402394846</td><td>0.25711892931384783</td><td>2</td><td>3</td><td>7779.002950074101</td><td>219.13075675583687</td><td>10.558843821668365</td><td>720.0</td><td>240.0</td><td>1.875</td><td>5.625</td><td>219.13075675583687</td><td>2</td><td>16.0</td><td>16.0</td><td>32.0</td><td>1.6</td><td>10</td><td>10</td><td>20</td><td>7776.0</td><td>576.0</td><td>10.6383338784591</td><td>7303.5</td><td>541.0</td><td>9.99190734070551</td><td>7303.5</td><td>541.0</td><td>9.99190734070551</td><td>3.024</td><td>205.0</td><td>219.0</td><td>219.0</td><td>0.07301576573218226</td><td>0.07301576573218226</td><td>0.1460315314643645</td><td>0.007301576573218226</td><td>1081.0</td><td>1431.0</td><td>2145.0</td><td>2019.1.01634.L</td><td>12m</td><td>122.633286</td><td>6.05</td><td>604.8</td><td>0.0</td><td>241.92</td><td>0.0</td><td>0.0</td><td>2903.04</td><td>2903.04</td><td>3749.7599999999998</td><td>846.7199999999999</td><td>0.0001024</td><td>0.0224256</td><td>0.45055999999999996</td><td>0.006535238095238095</td><td>11.273285714285715</td><td>18.9720576</td><td>18.9720576</td><td>5.533516799999999</td><td>24.505574399999997</td><td>9.090777600000001</td><td>9.090777600000001</td><td>2.6514767999999997</td><td>11.742254399999998</td><td>0.45055999999999996</td><td>0.006535238095238095</td><td>11.273285714285715</td><td>18.9720576</td><td>18.9720576</td><td>5.533516799999999</td><td>24.505574399999997</td><td>9.090777600000001</td><td>9.090777600000001</td><td>2.6514767999999997</td><td>11.742254399999998</td><td>0.9011199999999999</td><td>0.01307047619047619</td><td>22.54657142857143</td><td>37.9441152</td><td>37.9441152</td><td>11.067033599999998</td><td>49.011148799999994</td><td>18.181555200000002</td><td>18.181555200000002</td><td>5.3029535999999995</td><td>23.484508799999997</td><td>0.0010739305785123967</td><td>1.8525302479338843</td><td>3.117663426644628</td><td>3.117663426644628</td><td>0.9093184994380165</td><td>4.0269819260826445</td><td>1.4938803919338843</td><td>1.4938803919338843</td><td>0.4357151143140495</td><td>1.9295955062479337</td></tr>\n",
       "<tr><td>uid://A001/X15a9/X1351</td><td>2019.1.01634.L</td><td>12m</td><td>47</td><td>54</td><td>66</td><td>6.0</td><td>1.0</td><td>UVISTA-J-1212</td><td>0.007204637033625908</td><td>1.3081616346248486</td><td>F</td><td>150.0</td><td>25.924606029864425</td><td>0.26163232692496974</td><td>2</td><td>3</td><td>7779.804031912504</td><td>224.50623842940158</td><td>10.309003680864372</td><td>720.0</td><td>240.0</td><td>1.875</td><td>5.625</td><td>224.50623842940158</td><td>2</td><td>16.0</td><td>16.0</td><td>32.0</td><td>1.6</td><td>10</td><td>10</td><td>20</td><td>7776.0</td><td>576.0</td><td>10.383614146833903</td><td>7479.0</td><td>554.0</td><td>9.987017773170109</td><td>7479.0</td><td>554.0</td><td>9.987017773170109</td><td>3.024</td><td>205.0</td><td>213.0</td><td>213.0</td><td>0.0712675073616334</td><td>0.0712675073616334</td><td>0.1425350147232668</td><td>0.007126750736163341</td><td>1081.0</td><td>1431.0</td><td>2145.0</td><td>2019.1.01634.L</td><td>12m</td><td>120.855606</td><td>6.05</td><td>302.4</td><td>0.0</td><td>120.96</td><td>0.0</td><td>0.0</td><td>1149.12</td><td>1149.12</td><td>1572.4799999999998</td><td>423.35999999999996</td><td>9e-05</td><td>0.01917</td><td>0.3852</td><td>0.006356190476190475</td><td>10.964428571428572</td><td>7.304025599999998</td><td>7.304025599999998</td><td>2.6909567999999995</td><td>9.994982399999998</td><td>3.4998456</td><td>3.4998456</td><td>1.2894168</td><td>4.7892624</td><td>0.3852</td><td>0.006356190476190475</td><td>10.964428571428572</td><td>7.304025599999998</td><td>7.304025599999998</td><td>2.6909567999999995</td><td>9.994982399999998</td><td>3.4998456</td><td>3.4998456</td><td>1.2894168</td><td>4.7892624</td><td>0.7704</td><td>0.01271238095238095</td><td>21.928857142857144</td><td>14.608051199999997</td><td>14.608051199999997</td><td>5.381913599999999</td><td>19.989964799999996</td><td>6.9996912</td><td>6.9996912</td><td>2.5788336</td><td>9.5785248</td><td>0.0010739305785123967</td><td>1.8525302479338843</td><td>1.2340751063801652</td><td>1.2340751063801652</td><td>0.45465924971900823</td><td>1.6887343560991732</td><td>0.5913276551404959</td><td>0.5913276551404959</td><td>0.21785755715702476</td><td>0.8091852122975206</td></tr>\n",
       "<tr><td>uid://A001/X15aa/X74</td><td>2019.1.00863.T</td><td>12m</td><td>47</td><td>54</td><td>66</td><td>3.0</td><td>1.0</td><td>GRB211106A</td><td>0.01658832667287695</td><td>0.6470849266662538</td><td>F</td><td>710.0</td><td>59.931417240091704</td><td>0.12941698533325077</td><td>2</td><td>4</td><td>30913.559908317307</td><td>97.4918584840845</td><td>90.52858123839745</td><td>512.0</td><td>128.0</td><td>2.0</td><td>8.0</td><td>97.4918584840845</td><td>2</td><td>8.0</td><td>16.0</td><td>32.0</td><td>1.6</td><td>5</td><td>10</td><td>20</td><td>30901.5</td><td>2289.0</td><td>95.02369515706123</td><td>3240.0</td><td>240.0</td><td>9.963165940452031</td><td>3240.0</td><td>240.0</td><td>9.963165940452031</td><td>3.024</td><td>51.0</td><td>493.0</td><td>493.0</td><td>0.08205813412928215</td><td>0.1641162682585643</td><td>0.3282325365171286</td><td>0.01641162682585643</td><td>1081.0</td><td>1431.0</td><td>2145.0</td><td>2019.1.00863.T</td><td>12m</td><td>562.5464</td><td>6.05</td><td>302.4</td><td>0.0</td><td>151.2</td><td>0.0</td><td>0.0</td><td>2056.32</td><td>2056.32</td><td>2509.92</td><td>453.59999999999997</td><td>0.0020164</td><td>0.9940852</td><td>9.961016</td><td>0.007355873015873016</td><td>12.688880952380952</td><td>15.126028800000002</td><td>15.126028800000002</td><td>3.336624</td><td>18.4626528</td><td>7.2478888</td><td>7.2478888</td><td>1.5987989999999999</td><td>8.8466878</td><td>19.922032</td><td>0.014711746031746032</td><td>25.377761904761904</td><td>30.252057600000004</td><td>30.252057600000004</td><td>6.673248</td><td>36.9253056</td><td>14.4957776</td><td>14.4957776</td><td>3.1975979999999997</td><td>17.6933756</td><td>39.844064</td><td>0.029423492063492065</td><td>50.75552380952381</td><td>60.50411520000001</td><td>60.50411520000001</td><td>13.346496</td><td>73.8506112</td><td>28.9915552</td><td>28.9915552</td><td>6.395195999999999</td><td>35.3867512</td><td>0.0007636839669421488</td><td>1.3173548429752064</td><td>1.5703786149024794</td><td>1.5703786149024794</td><td>0.34640704740495865</td><td>1.9167856623074382</td><td>0.7524730863074379</td><td>0.7524730863074379</td><td>0.16598671021487602</td><td>0.918459796522314</td></tr>\n",
       "<tr><td>uid://A001/X15aa/X77</td><td>2019.1.00863.T</td><td>12m</td><td>47</td><td>54</td><td>66</td><td>3.0</td><td>1.0</td><td>GRB211106A</td><td>0.01658864995868178</td><td>1.1041984061268773</td><td>F</td><td>420.0</td><td>59.93258522869232</td><td>0.22083968122537545</td><td>2</td><td>4</td><td>30912.957453318253</td><td>97.48995852634154</td><td>90.52858123839742</td><td>512.0</td><td>128.0</td><td>2.0</td><td>8.0</td><td>97.48995852634154</td><td>2</td><td>8.0</td><td>16.0</td><td>32.0</td><td>1.6</td><td>5</td><td>10</td><td>20</td><td>30901.5</td><td>2289.0</td><td>95.02554705040603</td><td>3240.0</td><td>240.0</td><td>9.963360110134314</td><td>3240.0</td><td>240.0</td><td>9.963360110134314</td><td>3.024</td><td>51.0</td><td>493.0</td><td>493.0</td><td>0.08205973334000774</td><td>0.16411946668001548</td><td>0.32823893336003096</td><td>0.016411946668001547</td><td>1081.0</td><td>1431.0</td><td>2145.0</td><td>2019.1.00863.T</td><td>12m</td><td>329.6704</td><td>6.05</td><td>302.4</td><td>0.0</td><td>151.2</td><td>0.0</td><td>0.0</td><td>2056.32</td><td>2056.32</td><td>2509.92</td><td>453.59999999999997</td><td>0.0007056</td><td>0.3478608</td><td>3.485664</td><td>0.007355873015873016</td><td>12.688880952380952</td><td>15.126028800000002</td><td>15.126028800000002</td><td>3.336624</td><td>18.4626528</td><td>7.2478888</td><td>7.2478888</td><td>1.5987989999999999</td><td>8.8466878</td><td>6.971328</td><td>0.014711746031746032</td><td>25.377761904761904</td><td>30.252057600000004</td><td>30.252057600000004</td><td>6.673248</td><td>36.9253056</td><td>14.4957776</td><td>14.4957776</td><td>3.1975979999999997</td><td>17.6933756</td><td>13.942656</td><td>0.029423492063492065</td><td>50.75552380952381</td><td>60.50411520000001</td><td>60.50411520000001</td><td>13.346496</td><td>73.8506112</td><td>28.9915552</td><td>28.9915552</td><td>6.395195999999999</td><td>35.3867512</td><td>0.0007636839669421488</td><td>1.3173548429752064</td><td>1.5703786149024794</td><td>1.5703786149024794</td><td>0.34640704740495865</td><td>1.9167856623074382</td><td>0.7524730863074379</td><td>0.7524730863074379</td><td>0.16598671021487602</td><td>0.918459796522314</td></tr>\n",
       "</table></div>"
      ],
      "text/plain": [
       "<QTable length=11519>\n",
       "         mous           proposal_id   ... blc_nvis_typical_total\n",
       "                                      ...          Gvis         \n",
       "        str22              str14      ...        float64        \n",
       "---------------------- -------------- ... ----------------------\n",
       "uid://A001/X1465/X1002 2019.1.01326.S ...    0.41720996245544556\n",
       "uid://A001/X1465/X1008 2019.1.01326.S ...    0.10742972578217821\n",
       "uid://A001/X1465/X100e 2019.1.01326.S ...    0.10742972578217821\n",
       "uid://A001/X1465/X1014 2019.1.01326.S ...    0.10742972578217821\n",
       "uid://A001/X1465/X101a 2019.1.01326.S ...    0.10742972578217821\n",
       "uid://A001/X1465/X1020 2019.1.01326.S ...    0.10742972578217821\n",
       "                   ...            ... ...                    ...\n",
       "  uid://A001/X15a3/X18 2019.1.01587.S ...     4.6476278860165285\n",
       "   uid://A001/X15a3/X5 2019.A.00040.S ...       81.8637826757703\n",
       "uid://A001/X15a9/X134d 2019.1.01634.L ...     1.9295955062479337\n",
       "uid://A001/X15a9/X1351 2019.1.01634.L ...     0.8091852122975206\n",
       "  uid://A001/X15aa/X74 2019.1.00863.T ...      0.918459796522314\n",
       "  uid://A001/X15aa/X77 2019.1.00863.T ...      0.918459796522314"
      ]
     },
     "execution_count": 40,
     "metadata": {},
     "output_type": "execute_result"
    }
   ],
   "source": [
    "result_tos"
   ]
  },
  {
   "cell_type": "code",
   "execution_count": 48,
   "id": "448aca8f",
   "metadata": {},
   "outputs": [],
   "source": [
    "wsu_db.add_rates_to_db(result_c8_tos)"
   ]
  },
  {
   "cell_type": "markdown",
   "id": "49b7fc9e",
   "metadata": {},
   "source": [
    "# creating per mous version of data base"
   ]
  },
  {
   "cell_type": "markdown",
   "id": "e6dde6dd",
   "metadata": {},
   "source": [
    "This is going to be more useful for the DMGs as well as for combining with mitigation information (which is per MOUS). But I don't think the fractions of time are going to be useful, so I'll leave them off and recalculate.\n",
    "\n",
    "I think that the path forward uses the group_by function and aggregation to get values."
   ]
  },
  {
   "cell_type": "code",
   "execution_count": 49,
   "id": "b2a55486",
   "metadata": {},
   "outputs": [
    {
     "data": {
      "text/plain": [
       "<module 'wsu_db' from '/Users/akepley/Dropbox/Support/naasc/WSU/big_cubes/wsu_db.py'>"
      ]
     },
     "execution_count": 49,
     "metadata": {},
     "output_type": "execute_result"
    }
   ],
   "source": [
    "reload(wsu_db)"
   ]
  },
  {
   "cell_type": "code",
   "execution_count": 50,
   "id": "449ad98c",
   "metadata": {
    "scrolled": false
   },
   "outputs": [
    {
     "name": "stdout",
     "output_type": "stream",
     "text": [
      "Taking first value. Key aggregation not specified: mous\n",
      "Taking first value. Key aggregation not specified: proposal_id\n",
      "Taking first value. Key aggregation not specified: array\n",
      "Taking first value. Key aggregation not specified: nant_typical\n",
      "Taking first value. Key aggregation not specified: nant_array\n",
      "Taking first value. Key aggregation not specified: nant_all\n",
      "Taking first value. Key aggregation not specified: band\n",
      "Taking first value. Key aggregation not specified: ntarget\n",
      "Taking first value. Key aggregation not specified: target_name\n",
      "Taking first value. Key aggregation not specified: mosaic\n",
      "Taking first value. Key aggregation not specified: blc_npol\n",
      "Taking first value. Key aggregation not specified: blc_nspw\n",
      "Taking first value. Key aggregation not specified: blc_nchan_agg\n",
      "Taking first value. Key aggregation not specified: blc_nchan_max\n",
      "Taking first value. Key aggregation not specified: blc_bandwidth_max\n",
      "Taking first value. Key aggregation not specified: blc_bandwidth_agg\n",
      "Taking first value. Key aggregation not specified: wsu_npol\n",
      "Taking first value. Key aggregation not specified: wsu_bandwidth_early\n",
      "Taking first value. Key aggregation not specified: wsu_bandwidth_later_2x\n",
      "Taking first value. Key aggregation not specified: wsu_bandwidth_later_4x\n",
      "Taking first value. Key aggregation not specified: wsu_bandwidth_spw\n",
      "Taking first value. Key aggregation not specified: wsu_nspw_early\n",
      "Taking first value. Key aggregation not specified: wsu_nspw_later_2x\n",
      "Taking first value. Key aggregation not specified: wsu_nspw_later_4x\n",
      "Taking first value. Key aggregation not specified: wsu_tint\n",
      "Taking first value. Key aggregation not specified: wsu_frac_bw_early\n",
      "Taking first value. Key aggregation not specified: wsu_frac_bw_later_2x\n",
      "Taking first value. Key aggregation not specified: wsu_frac_bw_later_4x\n",
      "Taking first value. Key aggregation not specified: wsu_frac_bw_spw\n",
      "Taking first value. Key aggregation not specified: nbase_typical\n",
      "Taking first value. Key aggregation not specified: nbase_array\n",
      "Taking first value. Key aggregation not specified: nbase_all\n",
      "Taking first value. Key aggregation not specified: Project code\n",
      "Taking first value. Key aggregation not specified: Array\n",
      "Taking first value. Key aggregation not specified: L80\n",
      "Taking first value. Key aggregation not specified: blc_tint\n",
      "Taking first value. Key aggregation not specified: bp_time\n",
      "Taking first value. Key aggregation not specified: flux_time\n",
      "Taking first value. Key aggregation not specified: phase_time\n",
      "Taking first value. Key aggregation not specified: pol_time\n",
      "Taking first value. Key aggregation not specified: check_time\n",
      "Taking first value. Key aggregation not specified: target_time\n",
      "Taking first value. Key aggregation not specified: target_time_tot\n",
      "Taking first value. Key aggregation not specified: time_tot\n",
      "Taking first value. Key aggregation not specified: cal_time\n",
      "Taking first value. Key aggregation not specified: wsu_datavol_early_stepped2_typical_target\n",
      "Taking first value. Key aggregation not specified: wsu_datavol_early_stepped2_typical_target_tot\n",
      "Taking first value. Key aggregation not specified: wsu_datavol_early_stepped2_typical_cal\n",
      "Taking first value. Key aggregation not specified: wsu_datavol_early_stepped2_typical_total\n",
      "Taking first value. Key aggregation not specified: wsu_nvis_early_stepped2_typical_target\n",
      "Taking first value. Key aggregation not specified: wsu_nvis_early_stepped2_typical_target_tot\n",
      "Taking first value. Key aggregation not specified: wsu_nvis_early_stepped2_typical_cal\n",
      "Taking first value. Key aggregation not specified: wsu_nvis_early_stepped2_typical_total\n",
      "Taking first value. Key aggregation not specified: wsu_datavol_later_2x_stepped2_typical_target\n",
      "Taking first value. Key aggregation not specified: wsu_datavol_later_2x_stepped2_typical_target_tot\n",
      "Taking first value. Key aggregation not specified: wsu_datavol_later_2x_stepped2_typical_cal\n",
      "Taking first value. Key aggregation not specified: wsu_datavol_later_2x_stepped2_typical_total\n",
      "Taking first value. Key aggregation not specified: wsu_nvis_later_2x_stepped2_typical_target\n",
      "Taking first value. Key aggregation not specified: wsu_nvis_later_2x_stepped2_typical_target_tot\n",
      "Taking first value. Key aggregation not specified: wsu_nvis_later_2x_stepped2_typical_cal\n",
      "Taking first value. Key aggregation not specified: wsu_nvis_later_2x_stepped2_typical_total\n",
      "Taking first value. Key aggregation not specified: wsu_datavol_later_4x_stepped2_typical_target\n",
      "Taking first value. Key aggregation not specified: wsu_datavol_later_4x_stepped2_typical_target_tot\n",
      "Taking first value. Key aggregation not specified: wsu_datavol_later_4x_stepped2_typical_cal\n",
      "Taking first value. Key aggregation not specified: wsu_datavol_later_4x_stepped2_typical_total\n",
      "Taking first value. Key aggregation not specified: wsu_nvis_later_4x_stepped2_typical_target\n",
      "Taking first value. Key aggregation not specified: wsu_nvis_later_4x_stepped2_typical_target_tot\n",
      "Taking first value. Key aggregation not specified: wsu_nvis_later_4x_stepped2_typical_cal\n",
      "Taking first value. Key aggregation not specified: wsu_nvis_later_4x_stepped2_typical_total\n",
      "Taking first value. Key aggregation not specified: blc_datarate_typical\n",
      "Taking first value. Key aggregation not specified: blc_visrate_typical\n",
      "Taking first value. Key aggregation not specified: blc_datavol_typical_target\n",
      "Taking first value. Key aggregation not specified: blc_datavol_typical_target_tot\n",
      "Taking first value. Key aggregation not specified: blc_datavol_typical_cal\n",
      "Taking first value. Key aggregation not specified: blc_datavol_typical_total\n",
      "Taking first value. Key aggregation not specified: blc_nvis_typical_target\n",
      "Taking first value. Key aggregation not specified: blc_nvis_typical_target_tot\n",
      "Taking first value. Key aggregation not specified: blc_nvis_typical_cal\n",
      "Taking first value. Key aggregation not specified: blc_nvis_typical_total\n"
     ]
    }
   ],
   "source": [
    "result_tos_mous = wsu_db.create_per_mous_db(result_tos)"
   ]
  },
  {
   "cell_type": "code",
   "execution_count": 51,
   "id": "cf92922d",
   "metadata": {},
   "outputs": [
    {
     "data": {
      "text/html": [
       "<div><i>QTable length=2719</i>\n",
       "<table id=\"table140429057543568\" class=\"table-striped table-bordered table-condensed\">\n",
       "<thead><tr><th>mous</th><th>proposal_id</th><th>array</th><th>nant_typical</th><th>nant_array</th><th>nant_all</th><th>band</th><th>ntarget</th><th>s_fov</th><th>s_resolution</th><th>mosaic</th><th>imsize</th><th>pb</th><th>cell</th><th>blc_npol</th><th>blc_nspw</th><th>blc_specwidth</th><th>blc_freq</th><th>blc_velres</th><th>blc_nchan_agg</th><th>blc_nchan_max</th><th>blc_bandwidth_max</th><th>blc_bandwidth_agg</th><th>wsu_freq</th><th>wsu_npol</th><th>wsu_bandwidth_early</th><th>wsu_bandwidth_later_2x</th><th>wsu_bandwidth_later_4x</th><th>wsu_bandwidth_spw</th><th>wsu_nspw_early</th><th>wsu_nspw_later_2x</th><th>wsu_nspw_later_4x</th><th>wsu_specwidth_finest</th><th>wsu_chanavg_finest</th><th>wsu_velres_finest</th><th>wsu_specwidth_stepped</th><th>wsu_chanavg_stepped</th><th>wsu_velres_stepped</th><th>wsu_specwidth_stepped2</th><th>wsu_chanavg_stepped2</th><th>wsu_velres_stepped2</th><th>wsu_tint</th><th>wsu_nchan_spw_finest</th><th>wsu_nchan_spw_stepped</th><th>wsu_nchan_spw_stepped2</th><th>wsu_frac_bw_early</th><th>wsu_frac_bw_later_2x</th><th>wsu_frac_bw_later_4x</th><th>wsu_frac_bw_spw</th><th>nbase_typical</th><th>nbase_array</th><th>nbase_all</th><th>Project code</th><th>Array</th><th>L80</th><th>blc_tint</th><th>bp_time</th><th>flux_time</th><th>phase_time</th><th>pol_time</th><th>check_time</th><th>target_time_tot</th><th>time_tot</th><th>cal_time</th><th>mfssize</th><th>wsu_cubesize_stepped2</th><th>wsu_productsize_early_stepped2</th><th>wsu_datarate_early_stepped2_typical</th><th>wsu_visrate_early_stepped2_typical</th><th>wsu_datavol_early_stepped2_typical_target_tot</th><th>wsu_datavol_early_stepped2_typical_cal</th><th>wsu_datavol_early_stepped2_typical_total</th><th>wsu_nvis_early_stepped2_typical_target_tot</th><th>wsu_nvis_early_stepped2_typical_cal</th><th>wsu_nvis_early_stepped2_typical_total</th><th>wsu_productsize_later_2x_stepped2</th><th>wsu_datarate_later_2x_stepped2_typical</th><th>wsu_visrate_later_2x_stepped2_typical</th><th>wsu_datavol_later_2x_stepped2_typical_target_tot</th><th>wsu_datavol_later_2x_stepped2_typical_cal</th><th>wsu_datavol_later_2x_stepped2_typical_total</th><th>wsu_nvis_later_2x_stepped2_typical_target_tot</th><th>wsu_nvis_later_2x_stepped2_typical_cal</th><th>wsu_nvis_later_2x_stepped2_typical_total</th><th>wsu_productsize_later_4x_stepped2</th><th>wsu_datarate_later_4x_stepped2_typical</th><th>wsu_visrate_later_4x_stepped2_typical</th><th>wsu_datavol_later_4x_stepped2_typical_target_tot</th><th>wsu_datavol_later_4x_stepped2_typical_cal</th><th>wsu_datavol_later_4x_stepped2_typical_total</th><th>wsu_nvis_later_4x_stepped2_typical_target_tot</th><th>wsu_nvis_later_4x_stepped2_typical_cal</th><th>wsu_nvis_later_4x_stepped2_typical_total</th><th>blc_datarate_typical</th><th>blc_visrate_typical</th><th>blc_datavol_typical_target_tot</th><th>blc_datavol_typical_cal</th><th>blc_datavol_typical_total</th><th>blc_nvis_typical_target_tot</th><th>blc_nvis_typical_cal</th><th>blc_nvis_typical_total</th></tr></thead>\n",
       "<thead><tr><th></th><th></th><th></th><th></th><th></th><th></th><th></th><th></th><th>deg</th><th>arcsec</th><th></th><th></th><th>arcsec</th><th>arcsec</th><th></th><th></th><th>kHz</th><th>GHz</th><th>km / s</th><th></th><th></th><th>GHz</th><th>GHz</th><th>GHz</th><th></th><th>GHz</th><th>GHz</th><th>GHz</th><th>GHz</th><th></th><th></th><th></th><th>kHz</th><th></th><th>km / s</th><th>kHz</th><th></th><th>km / s</th><th>kHz</th><th></th><th>km / s</th><th>s</th><th></th><th></th><th></th><th></th><th></th><th></th><th></th><th></th><th></th><th></th><th></th><th></th><th>m</th><th>s</th><th>s</th><th>s</th><th>s</th><th>s</th><th>s</th><th>s</th><th>s</th><th>s</th><th>Gbyte</th><th>Gbyte</th><th>Gbyte</th><th>Gbyte / s</th><th>Gvis / h</th><th>Gbyte</th><th>Gbyte</th><th>Gbyte</th><th>Gvis</th><th>Gvis</th><th>Gvis</th><th>Gbyte</th><th>Gbyte / s</th><th>Gvis / h</th><th>Gbyte</th><th>Gbyte</th><th>Gbyte</th><th>Gvis</th><th>Gvis</th><th>Gvis</th><th>Gbyte</th><th>Gbyte / s</th><th>Gvis / h</th><th>Gbyte</th><th>Gbyte</th><th>Gbyte</th><th>Gvis</th><th>Gvis</th><th>Gvis</th><th>Gbyte / s</th><th>Gvis / h</th><th>Gbyte</th><th>Gbyte</th><th>Gbyte</th><th>Gvis</th><th>Gvis</th><th>Gvis</th></tr></thead>\n",
       "<thead><tr><th>str22</th><th>str14</th><th>str3</th><th>int64</th><th>int64</th><th>int64</th><th>float64</th><th>float64</th><th>float64</th><th>float64</th><th>str1</th><th>float64</th><th>float64</th><th>float64</th><th>int64</th><th>int64</th><th>float64</th><th>float64</th><th>float64</th><th>float64</th><th>float64</th><th>float64</th><th>float64</th><th>float64</th><th>int64</th><th>float64</th><th>float64</th><th>float64</th><th>float64</th><th>int64</th><th>int64</th><th>int64</th><th>float64</th><th>float64</th><th>float64</th><th>float64</th><th>float64</th><th>float64</th><th>float64</th><th>float64</th><th>float64</th><th>float64</th><th>float64</th><th>float64</th><th>float64</th><th>float64</th><th>float64</th><th>float64</th><th>float64</th><th>float64</th><th>float64</th><th>float64</th><th>str14</th><th>str6</th><th>float64</th><th>float64</th><th>float64</th><th>float64</th><th>float64</th><th>float64</th><th>float64</th><th>float64</th><th>float64</th><th>float64</th><th>float64</th><th>float64</th><th>float64</th><th>float64</th><th>float64</th><th>float64</th><th>float64</th><th>float64</th><th>float64</th><th>float64</th><th>float64</th><th>float64</th><th>float64</th><th>float64</th><th>float64</th><th>float64</th><th>float64</th><th>float64</th><th>float64</th><th>float64</th><th>float64</th><th>float64</th><th>float64</th><th>float64</th><th>float64</th><th>float64</th><th>float64</th><th>float64</th><th>float64</th><th>float64</th><th>float64</th><th>float64</th><th>float64</th><th>float64</th><th>float64</th><th>float64</th><th>float64</th></tr></thead>\n",
       "<tr><td>uid://A001/X1465/X1002</td><td>2019.1.01326.S</td><td>7m</td><td>10</td><td>12</td><td>16</td><td>3.0</td><td>1.0</td><td>0.13050363616709187</td><td>12.418751976046456</td><td>T</td><td>220.0</td><td>108.514167152526</td><td>2.483750395209291</td><td>2</td><td>4</td><td>965.2043680983645</td><td>92.45001476575733</td><td>2.9778920543263903</td><td>14336.0</td><td>4096.0</td><td>2.0</td><td>8.0</td><td>92.45001476575733</td><td>2</td><td>8.0</td><td>16.0</td><td>32.0</td><td>1.6</td><td>5</td><td>10</td><td>20</td><td>958.5</td><td>71.0</td><td>3.108177664666337</td><td>297.0</td><td>22.0</td><td>0.9630973045444989</td><td>607.5</td><td>45.0</td><td>1.9699717592955657</td><td>10.08</td><td>1669.0</td><td>5387.0</td><td>2633.0</td><td>0.08653324740152588</td><td>0.17306649480305175</td><td>0.3461329896061035</td><td>0.017306649480305178</td><td>45.0</td><td>66.0</td><td>120.0</td><td>2019.1.01326.S</td><td>7m</td><td>30.03768</td><td>10.1</td><td>1209.6</td><td>0.0</td><td>362.88</td><td>0.0</td><td>0.0</td><td>60.48</td><td>1632.96</td><td>1572.48</td><td>0.0001936</td><td>0.5097488</td><td>5.099424</td><td>0.0005746626984126984</td><td>0.8463214285714287</td><td>0.0347556</td><td>0.9036456</td><td>0.9384012</td><td>0.0142182</td><td>0.36967320000000004</td><td>0.38389140000000005</td><td>10.198848</td><td>0.0011493253968253968</td><td>1.6926428571428573</td><td>0.0695112</td><td>1.8072912</td><td>1.8768024</td><td>0.0284364</td><td>0.7393464000000001</td><td>0.7677828000000001</td><td>20.397696</td><td>0.0022986507936507937</td><td>3.3852857142857147</td><td>0.1390224</td><td>3.6145824</td><td>3.7536048</td><td>0.0568728</td><td>1.4786928000000001</td><td>1.5355656000000002</td><td>0.0006245386138613862</td><td>0.9197750495049505</td><td>0.03777209536633663</td><td>0.9820744795247526</td><td>1.0198465748910892</td><td>0.015452220831683168</td><td>0.4017577416237624</td><td>0.41720996245544556</td></tr>\n",
       "<tr><td>uid://A001/X1465/X1008</td><td>2019.1.01326.S</td><td>7m</td><td>10</td><td>12</td><td>16</td><td>3.0</td><td>1.0</td><td>0.13352956949867897</td><td>11.495155000772085</td><td>T</td><td>240.0</td><td>99.33587941322293</td><td>2.299031000154417</td><td>2</td><td>4</td><td>1116.9672480031732</td><td>100.94947251671041</td><td>3.1673235453701216</td><td>8192.0</td><td>2048.0</td><td>2.0</td><td>8.0</td><td>100.94947251671041</td><td>2</td><td>8.0</td><td>16.0</td><td>32.0</td><td>1.6</td><td>5</td><td>10</td><td>20</td><td>1107.0</td><td>82.0</td><td>3.2874887082848767</td><td>324.0</td><td>24.0</td><td>0.9621918170589883</td><td>661.5</td><td>49.0</td><td>1.9644749598287679</td><td>10.08</td><td>1445.0</td><td>4938.0</td><td>2418.0</td><td>0.07924756613934501</td><td>0.15849513227869003</td><td>0.31699026455738005</td><td>0.015849513227869004</td><td>45.0</td><td>66.0</td><td>120.0</td><td>2019.1.01326.S</td><td>7m</td><td>30.609047</td><td>10.1</td><td>604.8</td><td>0.0</td><td>120.96</td><td>0.0</td><td>0.0</td><td>10.08</td><td>735.84</td><td>725.76</td><td>0.0002304</td><td>0.5571072</td><td>5.573376</td><td>0.0005277380952380952</td><td>0.7772142857142857</td><td>0.0053196</td><td>0.3830112</td><td>0.38833080000000003</td><td>0.0021762</td><td>0.1566864</td><td>0.1588626</td><td>11.146752</td><td>0.0010554761904761904</td><td>1.5544285714285715</td><td>0.0106392</td><td>0.7660224</td><td>0.7766616000000001</td><td>0.0043524</td><td>0.3133728</td><td>0.3177252</td><td>22.293504</td><td>0.002110952380952381</td><td>3.108857142857143</td><td>0.0212784</td><td>1.5320448</td><td>1.5533232000000001</td><td>0.0087048</td><td>0.6267456</td><td>0.6354504</td><td>0.0003568792079207921</td><td>0.5255857425742574</td><td>0.0035973424158415846</td><td>0.2590086539405941</td><td>0.26260599635643567</td><td>0.0014716400792079206</td><td>0.10595808570297029</td><td>0.10742972578217821</td></tr>\n",
       "<tr><td>uid://A001/X1465/X100e</td><td>2019.1.01326.S</td><td>7m</td><td>10</td><td>12</td><td>16</td><td>3.0</td><td>1.0</td><td>0.1335711696824279</td><td>11.477738486513816</td><td>T</td><td>240.0</td><td>99.3358716017038</td><td>2.295547697302763</td><td>2</td><td>4</td><td>1116.9768029798806</td><td>100.9494845484696</td><td>3.1673495625218457</td><td>8192.0</td><td>2048.0</td><td>2.0</td><td>8.0</td><td>100.9494845484696</td><td>2</td><td>8.0</td><td>16.0</td><td>32.0</td><td>1.6</td><td>5</td><td>10</td><td>20</td><td>1107.0</td><td>82.0</td><td>3.2874883164624453</td><td>324.0</td><td>24.0</td><td>0.9621917023792522</td><td>661.5</td><td>49.0</td><td>1.9644747256909736</td><td>10.08</td><td>1445.0</td><td>4938.0</td><td>2418.0</td><td>0.07924755669414937</td><td>0.15849511338829875</td><td>0.3169902267765975</td><td>0.015849511338829874</td><td>45.0</td><td>66.0</td><td>120.0</td><td>2019.1.01326.S</td><td>7m</td><td>30.655828</td><td>10.1</td><td>604.8</td><td>0.0</td><td>120.96</td><td>0.0</td><td>0.0</td><td>10.08</td><td>735.84</td><td>725.76</td><td>0.0002304</td><td>0.5571072</td><td>5.573376</td><td>0.0005277380952380952</td><td>0.7772142857142857</td><td>0.0053196</td><td>0.3830112</td><td>0.38833080000000003</td><td>0.0021762</td><td>0.1566864</td><td>0.1588626</td><td>11.146752</td><td>0.0010554761904761904</td><td>1.5544285714285715</td><td>0.0106392</td><td>0.7660224</td><td>0.7766616000000001</td><td>0.0043524</td><td>0.3133728</td><td>0.3177252</td><td>22.293504</td><td>0.002110952380952381</td><td>3.108857142857143</td><td>0.0212784</td><td>1.5320448</td><td>1.5533232000000001</td><td>0.0087048</td><td>0.6267456</td><td>0.6354504</td><td>0.0003568792079207921</td><td>0.5255857425742574</td><td>0.0035973424158415846</td><td>0.2590086539405941</td><td>0.26260599635643567</td><td>0.0014716400792079206</td><td>0.10595808570297029</td><td>0.10742972578217821</td></tr>\n",
       "<tr><td>uid://A001/X1465/X1014</td><td>2019.1.01326.S</td><td>7m</td><td>10</td><td>12</td><td>16</td><td>3.0</td><td>1.0</td><td>0.1335853198822303</td><td>11.302668272847619</td><td>T</td><td>245.0</td><td>99.33587213428518</td><td>2.2605336545695236</td><td>2</td><td>4</td><td>1116.9790739480793</td><td>100.94948499173799</td><td>3.1673558199446665</td><td>8192.0</td><td>2048.0</td><td>2.0</td><td>8.0</td><td>100.94948499173799</td><td>2</td><td>8.0</td><td>16.0</td><td>32.0</td><td>1.6</td><td>5</td><td>10</td><td>20</td><td>1107.0</td><td>82.0</td><td>3.28748830202711</td><td>324.0</td><td>24.0</td><td>0.9621916981542762</td><td>661.5</td><td>49.0</td><td>1.9644747170649806</td><td>10.08</td><td>1445.0</td><td>4938.0</td><td>2418.0</td><td>0.07924755634617398</td><td>0.15849511269234795</td><td>0.3169902253846959</td><td>0.015849511269234794</td><td>45.0</td><td>66.0</td><td>120.0</td><td>2019.1.01326.S</td><td>7m</td><td>31.127703</td><td>10.1</td><td>604.8</td><td>0.0</td><td>120.96</td><td>0.0</td><td>0.0</td><td>10.08</td><td>735.84</td><td>725.76</td><td>0.0002401</td><td>0.5805618</td><td>5.808019</td><td>0.0005277380952380952</td><td>0.7772142857142857</td><td>0.0053196</td><td>0.3830112</td><td>0.38833080000000003</td><td>0.0021762</td><td>0.1566864</td><td>0.1588626</td><td>11.616038</td><td>0.0010554761904761904</td><td>1.5544285714285715</td><td>0.0106392</td><td>0.7660224</td><td>0.7766616000000001</td><td>0.0043524</td><td>0.3133728</td><td>0.3177252</td><td>23.232076</td><td>0.002110952380952381</td><td>3.108857142857143</td><td>0.0212784</td><td>1.5320448</td><td>1.5533232000000001</td><td>0.0087048</td><td>0.6267456</td><td>0.6354504</td><td>0.0003568792079207921</td><td>0.5255857425742574</td><td>0.0035973424158415846</td><td>0.2590086539405941</td><td>0.26260599635643567</td><td>0.0014716400792079206</td><td>0.10595808570297029</td><td>0.10742972578217821</td></tr>\n",
       "<tr><td>uid://A001/X1465/X101a</td><td>2019.1.01326.S</td><td>7m</td><td>10</td><td>12</td><td>16</td><td>3.0</td><td>1.0</td><td>0.1336314854176951</td><td>11.413765574280458</td><td>T</td><td>240.0</td><td>99.33587285679403</td><td>2.2827531148560913</td><td>2</td><td>4</td><td>1116.978577743549</td><td>100.94948404645515</td><td>3.1673544786256693</td><td>8192.0</td><td>2048.0</td><td>2.0</td><td>8.0</td><td>100.94948404645515</td><td>2</td><td>8.0</td><td>16.0</td><td>32.0</td><td>1.6</td><td>5</td><td>10</td><td>20</td><td>1107.0</td><td>82.0</td><td>3.2874883328108857</td><td>324.0</td><td>24.0</td><td>0.9621917071641618</td><td>661.5</td><td>49.0</td><td>1.9644747354601635</td><td>10.08</td><td>1445.0</td><td>4938.0</td><td>2418.0</td><td>0.0792475570882417</td><td>0.1584951141764834</td><td>0.3169902283529668</td><td>0.015849511417648343</td><td>45.0</td><td>66.0</td><td>120.0</td><td>2019.1.01326.S</td><td>7m</td><td>30.823065</td><td>10.1</td><td>604.8</td><td>0.0</td><td>120.96</td><td>0.0</td><td>0.0</td><td>10.08</td><td>735.84</td><td>725.76</td><td>0.0002304</td><td>0.5571072</td><td>5.573376</td><td>0.0005277380952380952</td><td>0.7772142857142857</td><td>0.0053196</td><td>0.3830112</td><td>0.38833080000000003</td><td>0.0021762</td><td>0.1566864</td><td>0.1588626</td><td>11.146752</td><td>0.0010554761904761904</td><td>1.5544285714285715</td><td>0.0106392</td><td>0.7660224</td><td>0.7766616000000001</td><td>0.0043524</td><td>0.3133728</td><td>0.3177252</td><td>22.293504</td><td>0.002110952380952381</td><td>3.108857142857143</td><td>0.0212784</td><td>1.5320448</td><td>1.5533232000000001</td><td>0.0087048</td><td>0.6267456</td><td>0.6354504</td><td>0.0003568792079207921</td><td>0.5255857425742574</td><td>0.0035973424158415846</td><td>0.2590086539405941</td><td>0.26260599635643567</td><td>0.0014716400792079206</td><td>0.10595808570297029</td><td>0.10742972578217821</td></tr>\n",
       "<tr><td>uid://A001/X1465/X1020</td><td>2019.1.01326.S</td><td>7m</td><td>10</td><td>12</td><td>16</td><td>3.0</td><td>1.0</td><td>0.13371358744210624</td><td>12.310711444421296</td><td>T</td><td>225.0</td><td>99.33586798161843</td><td>2.4621422888842592</td><td>2</td><td>4</td><td>1116.9863042364896</td><td>100.94949231787314</td><td>3.1673755615409136</td><td>8192.0</td><td>2048.0</td><td>2.0</td><td>8.0</td><td>100.94949231787314</td><td>2</td><td>8.0</td><td>16.0</td><td>32.0</td><td>1.6</td><td>5</td><td>10</td><td>20</td><td>1107.0</td><td>82.0</td><td>3.2874880634465784</td><td>324.0</td><td>24.0</td><td>0.9621916283258277</td><td>661.5</td><td>49.0</td><td>1.964474574498565</td><td>10.08</td><td>1445.0</td><td>4938.0</td><td>2418.0</td><td>0.07924755059499787</td><td>0.15849510118999574</td><td>0.3169902023799915</td><td>0.015849510118999575</td><td>45.0</td><td>66.0</td><td>120.0</td><td>2019.1.01326.S</td><td>7m</td><td>28.57859</td><td>10.1</td><td>604.8</td><td>0.0</td><td>120.96</td><td>0.0</td><td>0.0</td><td>10.08</td><td>735.84</td><td>725.76</td><td>0.0002025</td><td>0.489645</td><td>4.8984749999999995</td><td>0.0005277380952380952</td><td>0.7772142857142857</td><td>0.0053196</td><td>0.3830112</td><td>0.38833080000000003</td><td>0.0021762</td><td>0.1566864</td><td>0.1588626</td><td>9.796949999999999</td><td>0.0010554761904761904</td><td>1.5544285714285715</td><td>0.0106392</td><td>0.7660224</td><td>0.7766616000000001</td><td>0.0043524</td><td>0.3133728</td><td>0.3177252</td><td>19.593899999999998</td><td>0.002110952380952381</td><td>3.108857142857143</td><td>0.0212784</td><td>1.5320448</td><td>1.5533232000000001</td><td>0.0087048</td><td>0.6267456</td><td>0.6354504</td><td>0.0003568792079207921</td><td>0.5255857425742574</td><td>0.0035973424158415846</td><td>0.2590086539405941</td><td>0.26260599635643567</td><td>0.0014716400792079206</td><td>0.10595808570297029</td><td>0.10742972578217821</td></tr>\n",
       "<tr><td>...</td><td>...</td><td>...</td><td>...</td><td>...</td><td>...</td><td>...</td><td>...</td><td>...</td><td>...</td><td>...</td><td>...</td><td>...</td><td>...</td><td>...</td><td>...</td><td>...</td><td>...</td><td>...</td><td>...</td><td>...</td><td>...</td><td>...</td><td>...</td><td>...</td><td>...</td><td>...</td><td>...</td><td>...</td><td>...</td><td>...</td><td>...</td><td>...</td><td>...</td><td>...</td><td>...</td><td>...</td><td>...</td><td>...</td><td>...</td><td>...</td><td>...</td><td>...</td><td>...</td><td>...</td><td>...</td><td>...</td><td>...</td><td>...</td><td>...</td><td>...</td><td>...</td><td>...</td><td>...</td><td>...</td><td>...</td><td>...</td><td>...</td><td>...</td><td>...</td><td>...</td><td>...</td><td>...</td><td>...</td><td>...</td><td>...</td><td>...</td><td>...</td><td>...</td><td>...</td><td>...</td><td>...</td><td>...</td><td>...</td><td>...</td><td>...</td><td>...</td><td>...</td><td>...</td><td>...</td><td>...</td><td>...</td><td>...</td><td>...</td><td>...</td><td>...</td><td>...</td><td>...</td><td>...</td><td>...</td><td>...</td><td>...</td><td>...</td><td>...</td><td>...</td><td>...</td><td>...</td><td>...</td><td>...</td><td>...</td><td>...</td></tr>\n",
       "<tr><td>uid://A001/X15a3/X18</td><td>2019.1.01587.S</td><td>12m</td><td>47</td><td>54</td><td>66</td><td>7.0</td><td>1.0</td><td>0.00473533757302897</td><td>0.09574715915292428</td><td>F</td><td>1370.0</td><td>17.044407549621972</td><td>0.019149431830584856</td><td>2</td><td>4</td><td>3893.0806528778044</td><td>341.56730347969506</td><td>3.3677629762572647</td><td>1920.0</td><td>480.0</td><td>1.875</td><td>7.5</td><td>341.56730347969506</td><td>2</td><td>8.0</td><td>16.0</td><td>32.0</td><td>1.6</td><td>5</td><td>10</td><td>20</td><td>3888.0</td><td>288.0</td><td>3.41248434738804</td><td>1134.0</td><td>84.0</td><td>0.9953079346548451</td><td>2268.0</td><td>168.0</td><td>1.9906158693096903</td><td>3.024</td><td>411.0</td><td>1410.0</td><td>705.0</td><td>0.023421445549677945</td><td>0.04684289109935589</td><td>0.09368578219871178</td><td>0.00468428910993559</td><td>1081.0</td><td>1431.0</td><td>2145.0</td><td>2019.1.01587.S</td><td>12m</td><td>1068.3083</td><td>6.05</td><td>1814.4</td><td>0.0</td><td>302.4</td><td>0.0</td><td>241.92</td><td>1028.16</td><td>3386.88</td><td>2358.7200000000003</td><td>0.0075076</td><td>5.292858</td><td>53.003656</td><td>0.010519047619047619</td><td>18.14535714285714</td><td>10.815264</td><td>24.811488</td><td>35.626752</td><td>5.182314</td><td>11.888838</td><td>17.071151999999998</td><td>106.007312</td><td>0.021038095238095238</td><td>36.29071428571428</td><td>21.630528</td><td>49.622976</td><td>71.253504</td><td>10.364628</td><td>23.777676</td><td>34.142303999999996</td><td>212.014624</td><td>0.042076190476190475</td><td>72.58142857142856</td><td>43.261056</td><td>99.245952</td><td>142.507008</td><td>20.729256</td><td>47.555352</td><td>68.28460799999999</td><td>0.002863814876033058</td><td>4.940080661157024</td><td>2.9444599029421488</td><td>6.754937424396695</td><td>9.699397327338843</td><td>1.4108870368264463</td><td>3.236740849190083</td><td>4.6476278860165285</td></tr>\n",
       "<tr><td>uid://A001/X15a3/X5</td><td>2019.A.00040.S</td><td>12m</td><td>47</td><td>54</td><td>66</td><td>7.0</td><td>1.0</td><td>0.004736613751849588</td><td>0.017512278432268685</td><td>F</td><td>7490.0</td><td>17.04810208137214</td><td>0.003502455686453737</td><td>2</td><td>4</td><td>979.229489693065</td><td>341.49625374808505</td><td>0.8470622795880317</td><td>4224.0</td><td>3840.0</td><td>2.0</td><td>7.875</td><td>341.49625374808505</td><td>2</td><td>8.0</td><td>16.0</td><td>32.0</td><td>1.6</td><td>5</td><td>10</td><td>20</td><td>972.0</td><td>72.0</td><td>0.8532985822765676</td><td>108.0</td><td>8.0</td><td>0.09481095358628529</td><td>567.0</td><td>42.0</td><td>0.49775750632799776</td><td>3.024</td><td>1646.0</td><td>14814.0</td><td>2821.0</td><td>0.023426318479913517</td><td>0.04685263695982703</td><td>0.09370527391965407</td><td>0.004685263695982703</td><td>1081.0</td><td>1431.0</td><td>2145.0</td><td>2019.A.00040.S</td><td>12m</td><td>5902.4077</td><td>2.02</td><td>1814.3999999999999</td><td>0.0</td><td>1868.832</td><td>0.0</td><td>217.728</td><td>5152.896</td><td>9053.856</td><td>3900.96</td><td>0.2244004</td><td>633.0335284</td><td>6332.579288000001</td><td>0.042091111111111114</td><td>72.60716666666666</td><td>216.89111808</td><td>164.1957408</td><td>381.08685888</td><td>103.92699407999999</td><td>78.6771258</td><td>182.60411987999996</td><td>12665.158576000002</td><td>0.08418222222222223</td><td>145.21433333333331</td><td>433.78223616</td><td>328.3914816</td><td>762.17371776</td><td>207.85398815999997</td><td>157.3542516</td><td>365.2082397599999</td><td>25330.317152000003</td><td>0.16836444444444446</td><td>290.42866666666663</td><td>867.56447232</td><td>656.7829632</td><td>1524.34743552</td><td>415.70797631999994</td><td>314.7085032</td><td>730.4164795199998</td><td>0.018869988118811878</td><td>32.550729504950496</td><td>97.23508629747325</td><td>73.61106885196038</td><td>170.84615514943363</td><td>46.59181218420594</td><td>35.27197049156436</td><td>81.8637826757703</td></tr>\n",
       "<tr><td>uid://A001/X15a9/X134d</td><td>2019.1.01634.L</td><td>12m</td><td>47</td><td>54</td><td>66</td><td>6.0</td><td>1.0</td><td>0.007381374109636608</td><td>1.2855946465692392</td><td>F</td><td>160.0</td><td>26.56061402394846</td><td>0.25711892931384783</td><td>2</td><td>3</td><td>7779.002950074101</td><td>219.13075675583687</td><td>10.558843821668365</td><td>720.0</td><td>240.0</td><td>1.875</td><td>5.625</td><td>219.13075675583687</td><td>2</td><td>16.0</td><td>16.0</td><td>32.0</td><td>1.6</td><td>10</td><td>10</td><td>20</td><td>7776.0</td><td>576.0</td><td>10.6383338784591</td><td>7303.5</td><td>541.0</td><td>9.99190734070551</td><td>7303.5</td><td>541.0</td><td>9.99190734070551</td><td>3.024</td><td>205.0</td><td>219.0</td><td>219.0</td><td>0.07301576573218226</td><td>0.07301576573218226</td><td>0.1460315314643645</td><td>0.007301576573218226</td><td>1081.0</td><td>1431.0</td><td>2145.0</td><td>2019.1.01634.L</td><td>12m</td><td>122.633286</td><td>6.05</td><td>604.8</td><td>0.0</td><td>241.92</td><td>0.0</td><td>0.0</td><td>2903.04</td><td>3749.7599999999998</td><td>846.7199999999999</td><td>0.0001024</td><td>0.0224256</td><td>0.45055999999999996</td><td>0.006535238095238095</td><td>11.273285714285715</td><td>18.9720576</td><td>5.533516799999999</td><td>24.505574399999997</td><td>9.090777600000001</td><td>2.6514767999999997</td><td>11.742254399999998</td><td>0.45055999999999996</td><td>0.006535238095238095</td><td>11.273285714285715</td><td>18.9720576</td><td>5.533516799999999</td><td>24.505574399999997</td><td>9.090777600000001</td><td>2.6514767999999997</td><td>11.742254399999998</td><td>0.9011199999999999</td><td>0.01307047619047619</td><td>22.54657142857143</td><td>37.9441152</td><td>11.067033599999998</td><td>49.011148799999994</td><td>18.181555200000002</td><td>5.3029535999999995</td><td>23.484508799999997</td><td>0.0010739305785123967</td><td>1.8525302479338843</td><td>3.117663426644628</td><td>0.9093184994380165</td><td>4.0269819260826445</td><td>1.4938803919338843</td><td>0.4357151143140495</td><td>1.9295955062479337</td></tr>\n",
       "<tr><td>uid://A001/X15a9/X1351</td><td>2019.1.01634.L</td><td>12m</td><td>47</td><td>54</td><td>66</td><td>6.0</td><td>1.0</td><td>0.007204637033625908</td><td>1.3081616346248486</td><td>F</td><td>150.0</td><td>25.924606029864425</td><td>0.26163232692496974</td><td>2</td><td>3</td><td>7779.804031912504</td><td>224.50623842940158</td><td>10.309003680864372</td><td>720.0</td><td>240.0</td><td>1.875</td><td>5.625</td><td>224.50623842940158</td><td>2</td><td>16.0</td><td>16.0</td><td>32.0</td><td>1.6</td><td>10</td><td>10</td><td>20</td><td>7776.0</td><td>576.0</td><td>10.383614146833903</td><td>7479.0</td><td>554.0</td><td>9.987017773170109</td><td>7479.0</td><td>554.0</td><td>9.987017773170109</td><td>3.024</td><td>205.0</td><td>213.0</td><td>213.0</td><td>0.0712675073616334</td><td>0.0712675073616334</td><td>0.1425350147232668</td><td>0.007126750736163341</td><td>1081.0</td><td>1431.0</td><td>2145.0</td><td>2019.1.01634.L</td><td>12m</td><td>120.855606</td><td>6.05</td><td>302.4</td><td>0.0</td><td>120.96</td><td>0.0</td><td>0.0</td><td>1149.12</td><td>1572.4799999999998</td><td>423.35999999999996</td><td>9e-05</td><td>0.01917</td><td>0.3852</td><td>0.006356190476190475</td><td>10.964428571428572</td><td>7.304025599999998</td><td>2.6909567999999995</td><td>9.994982399999998</td><td>3.4998456</td><td>1.2894168</td><td>4.7892624</td><td>0.3852</td><td>0.006356190476190475</td><td>10.964428571428572</td><td>7.304025599999998</td><td>2.6909567999999995</td><td>9.994982399999998</td><td>3.4998456</td><td>1.2894168</td><td>4.7892624</td><td>0.7704</td><td>0.01271238095238095</td><td>21.928857142857144</td><td>14.608051199999997</td><td>5.381913599999999</td><td>19.989964799999996</td><td>6.9996912</td><td>2.5788336</td><td>9.5785248</td><td>0.0010739305785123967</td><td>1.8525302479338843</td><td>1.2340751063801652</td><td>0.45465924971900823</td><td>1.6887343560991732</td><td>0.5913276551404959</td><td>0.21785755715702476</td><td>0.8091852122975206</td></tr>\n",
       "<tr><td>uid://A001/X15aa/X74</td><td>2019.1.00863.T</td><td>12m</td><td>47</td><td>54</td><td>66</td><td>3.0</td><td>1.0</td><td>0.01658832667287695</td><td>0.6470849266662538</td><td>F</td><td>710.0</td><td>59.931417240091704</td><td>0.12941698533325077</td><td>2</td><td>4</td><td>30913.559908317307</td><td>97.4918584840845</td><td>90.52858123839745</td><td>512.0</td><td>128.0</td><td>2.0</td><td>8.0</td><td>97.4918584840845</td><td>2</td><td>8.0</td><td>16.0</td><td>32.0</td><td>1.6</td><td>5</td><td>10</td><td>20</td><td>30901.5</td><td>2289.0</td><td>95.02369515706123</td><td>3240.0</td><td>240.0</td><td>9.963165940452031</td><td>3240.0</td><td>240.0</td><td>9.963165940452031</td><td>3.024</td><td>51.0</td><td>493.0</td><td>493.0</td><td>0.08205813412928215</td><td>0.1641162682585643</td><td>0.3282325365171286</td><td>0.01641162682585643</td><td>1081.0</td><td>1431.0</td><td>2145.0</td><td>2019.1.00863.T</td><td>12m</td><td>562.5464</td><td>6.05</td><td>302.4</td><td>0.0</td><td>151.2</td><td>0.0</td><td>0.0</td><td>2056.32</td><td>2509.92</td><td>453.59999999999997</td><td>0.0020164</td><td>0.9940852</td><td>9.961016</td><td>0.007355873015873016</td><td>12.688880952380952</td><td>15.126028800000002</td><td>3.336624</td><td>18.4626528</td><td>7.2478888</td><td>1.5987989999999999</td><td>8.8466878</td><td>19.922032</td><td>0.014711746031746032</td><td>25.377761904761904</td><td>30.252057600000004</td><td>6.673248</td><td>36.9253056</td><td>14.4957776</td><td>3.1975979999999997</td><td>17.6933756</td><td>39.844064</td><td>0.029423492063492065</td><td>50.75552380952381</td><td>60.50411520000001</td><td>13.346496</td><td>73.8506112</td><td>28.9915552</td><td>6.395195999999999</td><td>35.3867512</td><td>0.0007636839669421488</td><td>1.3173548429752064</td><td>1.5703786149024794</td><td>0.34640704740495865</td><td>1.9167856623074382</td><td>0.7524730863074379</td><td>0.16598671021487602</td><td>0.918459796522314</td></tr>\n",
       "<tr><td>uid://A001/X15aa/X77</td><td>2019.1.00863.T</td><td>12m</td><td>47</td><td>54</td><td>66</td><td>3.0</td><td>1.0</td><td>0.01658864995868178</td><td>1.1041984061268773</td><td>F</td><td>420.0</td><td>59.93258522869232</td><td>0.22083968122537545</td><td>2</td><td>4</td><td>30912.957453318253</td><td>97.48995852634154</td><td>90.52858123839742</td><td>512.0</td><td>128.0</td><td>2.0</td><td>8.0</td><td>97.48995852634154</td><td>2</td><td>8.0</td><td>16.0</td><td>32.0</td><td>1.6</td><td>5</td><td>10</td><td>20</td><td>30901.5</td><td>2289.0</td><td>95.02554705040603</td><td>3240.0</td><td>240.0</td><td>9.963360110134314</td><td>3240.0</td><td>240.0</td><td>9.963360110134314</td><td>3.024</td><td>51.0</td><td>493.0</td><td>493.0</td><td>0.08205973334000774</td><td>0.16411946668001548</td><td>0.32823893336003096</td><td>0.016411946668001547</td><td>1081.0</td><td>1431.0</td><td>2145.0</td><td>2019.1.00863.T</td><td>12m</td><td>329.6704</td><td>6.05</td><td>302.4</td><td>0.0</td><td>151.2</td><td>0.0</td><td>0.0</td><td>2056.32</td><td>2509.92</td><td>453.59999999999997</td><td>0.0007056</td><td>0.3478608</td><td>3.485664</td><td>0.007355873015873016</td><td>12.688880952380952</td><td>15.126028800000002</td><td>3.336624</td><td>18.4626528</td><td>7.2478888</td><td>1.5987989999999999</td><td>8.8466878</td><td>6.971328</td><td>0.014711746031746032</td><td>25.377761904761904</td><td>30.252057600000004</td><td>6.673248</td><td>36.9253056</td><td>14.4957776</td><td>3.1975979999999997</td><td>17.6933756</td><td>13.942656</td><td>0.029423492063492065</td><td>50.75552380952381</td><td>60.50411520000001</td><td>13.346496</td><td>73.8506112</td><td>28.9915552</td><td>6.395195999999999</td><td>35.3867512</td><td>0.0007636839669421488</td><td>1.3173548429752064</td><td>1.5703786149024794</td><td>0.34640704740495865</td><td>1.9167856623074382</td><td>0.7524730863074379</td><td>0.16598671021487602</td><td>0.918459796522314</td></tr>\n",
       "</table></div>"
      ],
      "text/plain": [
       "<QTable length=2719>\n",
       "         mous           proposal_id   ... blc_nvis_typical_total\n",
       "                                      ...          Gvis         \n",
       "        str22              str14      ...        float64        \n",
       "---------------------- -------------- ... ----------------------\n",
       "uid://A001/X1465/X1002 2019.1.01326.S ...    0.41720996245544556\n",
       "uid://A001/X1465/X1008 2019.1.01326.S ...    0.10742972578217821\n",
       "uid://A001/X1465/X100e 2019.1.01326.S ...    0.10742972578217821\n",
       "uid://A001/X1465/X1014 2019.1.01326.S ...    0.10742972578217821\n",
       "uid://A001/X1465/X101a 2019.1.01326.S ...    0.10742972578217821\n",
       "uid://A001/X1465/X1020 2019.1.01326.S ...    0.10742972578217821\n",
       "                   ...            ... ...                    ...\n",
       "  uid://A001/X15a3/X18 2019.1.01587.S ...     4.6476278860165285\n",
       "   uid://A001/X15a3/X5 2019.A.00040.S ...       81.8637826757703\n",
       "uid://A001/X15a9/X134d 2019.1.01634.L ...     1.9295955062479337\n",
       "uid://A001/X15a9/X1351 2019.1.01634.L ...     0.8091852122975206\n",
       "  uid://A001/X15aa/X74 2019.1.00863.T ...      0.918459796522314\n",
       "  uid://A001/X15aa/X77 2019.1.00863.T ...      0.918459796522314"
      ]
     },
     "execution_count": 51,
     "metadata": {},
     "output_type": "execute_result"
    }
   ],
   "source": [
    "result_tos_mous"
   ]
  },
  {
   "cell_type": "code",
   "execution_count": 52,
   "id": "d706a102",
   "metadata": {
    "scrolled": true
   },
   "outputs": [
    {
     "data": {
      "text/plain": [
       "2719"
      ]
     },
     "execution_count": 52,
     "metadata": {},
     "output_type": "execute_result"
    }
   ],
   "source": [
    "len(result_tos_mous)"
   ]
  },
  {
   "cell_type": "code",
   "execution_count": 53,
   "id": "8bf7331d",
   "metadata": {},
   "outputs": [
    {
     "data": {
      "text/plain": [
       "<TableColumns names=('mous','proposal_id','array','nant_typical','nant_array','nant_all','band','ntarget','s_fov','s_resolution','mosaic','imsize','pb','cell','blc_npol','blc_nspw','blc_specwidth','blc_freq','blc_velres','blc_nchan_agg','blc_nchan_max','blc_bandwidth_max','blc_bandwidth_agg','wsu_freq','wsu_npol','wsu_bandwidth_early','wsu_bandwidth_later_2x','wsu_bandwidth_later_4x','wsu_bandwidth_spw','wsu_nspw_early','wsu_nspw_later_2x','wsu_nspw_later_4x','wsu_specwidth_finest','wsu_chanavg_finest','wsu_velres_finest','wsu_specwidth_stepped','wsu_chanavg_stepped','wsu_velres_stepped','wsu_specwidth_stepped2','wsu_chanavg_stepped2','wsu_velres_stepped2','wsu_tint','wsu_nchan_spw_finest','wsu_nchan_spw_stepped','wsu_nchan_spw_stepped2','wsu_frac_bw_early','wsu_frac_bw_later_2x','wsu_frac_bw_later_4x','wsu_frac_bw_spw','nbase_typical','nbase_array','nbase_all','Project code','Array','L80','blc_tint','bp_time','flux_time','phase_time','pol_time','check_time','target_time_tot','time_tot','cal_time','mfssize','wsu_cubesize_stepped2','wsu_productsize_early_stepped2','wsu_datarate_early_stepped2_typical','wsu_visrate_early_stepped2_typical','wsu_datavol_early_stepped2_typical_target_tot','wsu_datavol_early_stepped2_typical_cal','wsu_datavol_early_stepped2_typical_total','wsu_nvis_early_stepped2_typical_target_tot','wsu_nvis_early_stepped2_typical_cal','wsu_nvis_early_stepped2_typical_total','wsu_productsize_later_2x_stepped2','wsu_datarate_later_2x_stepped2_typical','wsu_visrate_later_2x_stepped2_typical','wsu_datavol_later_2x_stepped2_typical_target_tot','wsu_datavol_later_2x_stepped2_typical_cal','wsu_datavol_later_2x_stepped2_typical_total','wsu_nvis_later_2x_stepped2_typical_target_tot','wsu_nvis_later_2x_stepped2_typical_cal','wsu_nvis_later_2x_stepped2_typical_total','wsu_productsize_later_4x_stepped2','wsu_datarate_later_4x_stepped2_typical','wsu_visrate_later_4x_stepped2_typical','wsu_datavol_later_4x_stepped2_typical_target_tot','wsu_datavol_later_4x_stepped2_typical_cal','wsu_datavol_later_4x_stepped2_typical_total','wsu_nvis_later_4x_stepped2_typical_target_tot','wsu_nvis_later_4x_stepped2_typical_cal','wsu_nvis_later_4x_stepped2_typical_total','blc_datarate_typical','blc_visrate_typical','blc_datavol_typical_target_tot','blc_datavol_typical_cal','blc_datavol_typical_total','blc_nvis_typical_target_tot','blc_nvis_typical_cal','blc_nvis_typical_total')>"
      ]
     },
     "execution_count": 53,
     "metadata": {},
     "output_type": "execute_result"
    }
   ],
   "source": [
    "result_tos_mous.columns"
   ]
  },
  {
   "cell_type": "code",
   "execution_count": 54,
   "id": "cce5648e",
   "metadata": {},
   "outputs": [
    {
     "name": "stdout",
     "output_type": "stream",
     "text": [
      "Taking first value. Key aggregation not specified: mous\n",
      "Taking first value. Key aggregation not specified: proposal_id\n",
      "Taking first value. Key aggregation not specified: array\n",
      "Taking first value. Key aggregation not specified: nant_typical\n",
      "Taking first value. Key aggregation not specified: nant_array\n",
      "Taking first value. Key aggregation not specified: nant_all\n",
      "Taking first value. Key aggregation not specified: band\n",
      "Taking first value. Key aggregation not specified: ntarget\n",
      "Taking first value. Key aggregation not specified: target_name\n",
      "Taking first value. Key aggregation not specified: mosaic\n",
      "Taking first value. Key aggregation not specified: blc_npol\n",
      "Taking first value. Key aggregation not specified: blc_nspw\n",
      "Taking first value. Key aggregation not specified: blc_nchan_agg\n",
      "Taking first value. Key aggregation not specified: blc_nchan_max\n",
      "Taking first value. Key aggregation not specified: blc_bandwidth_max\n",
      "Taking first value. Key aggregation not specified: blc_bandwidth_agg\n",
      "Taking first value. Key aggregation not specified: wsu_npol\n",
      "Taking first value. Key aggregation not specified: wsu_bandwidth_early\n",
      "Taking first value. Key aggregation not specified: wsu_bandwidth_later_2x\n",
      "Taking first value. Key aggregation not specified: wsu_bandwidth_later_4x\n",
      "Taking first value. Key aggregation not specified: wsu_bandwidth_spw\n",
      "Taking first value. Key aggregation not specified: wsu_nspw_early\n",
      "Taking first value. Key aggregation not specified: wsu_nspw_later_2x\n",
      "Taking first value. Key aggregation not specified: wsu_nspw_later_4x\n",
      "Taking first value. Key aggregation not specified: wsu_tint\n",
      "Taking first value. Key aggregation not specified: wsu_frac_bw_early\n",
      "Taking first value. Key aggregation not specified: wsu_frac_bw_later_2x\n",
      "Taking first value. Key aggregation not specified: wsu_frac_bw_later_4x\n",
      "Taking first value. Key aggregation not specified: wsu_frac_bw_spw\n",
      "Taking first value. Key aggregation not specified: nbase_typical\n",
      "Taking first value. Key aggregation not specified: nbase_array\n",
      "Taking first value. Key aggregation not specified: nbase_all\n",
      "Taking first value. Key aggregation not specified: Project code\n",
      "Taking first value. Key aggregation not specified: Array\n",
      "Taking first value. Key aggregation not specified: L80\n",
      "Taking first value. Key aggregation not specified: blc_tint\n",
      "Taking first value. Key aggregation not specified: bp_time\n",
      "Taking first value. Key aggregation not specified: flux_time\n",
      "Taking first value. Key aggregation not specified: phase_time\n",
      "Taking first value. Key aggregation not specified: pol_time\n",
      "Taking first value. Key aggregation not specified: check_time\n",
      "Taking first value. Key aggregation not specified: target_time\n",
      "Taking first value. Key aggregation not specified: target_time_tot\n",
      "Taking first value. Key aggregation not specified: time_tot\n",
      "Taking first value. Key aggregation not specified: cal_time\n",
      "Taking first value. Key aggregation not specified: wsu_datavol_early_stepped2_typical_target\n",
      "Taking first value. Key aggregation not specified: wsu_datavol_early_stepped2_typical_target_tot\n",
      "Taking first value. Key aggregation not specified: wsu_datavol_early_stepped2_typical_cal\n",
      "Taking first value. Key aggregation not specified: wsu_datavol_early_stepped2_typical_total\n",
      "Taking first value. Key aggregation not specified: wsu_nvis_early_stepped2_typical_target\n",
      "Taking first value. Key aggregation not specified: wsu_nvis_early_stepped2_typical_target_tot\n",
      "Taking first value. Key aggregation not specified: wsu_nvis_early_stepped2_typical_cal\n",
      "Taking first value. Key aggregation not specified: wsu_nvis_early_stepped2_typical_total\n",
      "Taking first value. Key aggregation not specified: wsu_datavol_later_2x_stepped2_typical_target\n",
      "Taking first value. Key aggregation not specified: wsu_datavol_later_2x_stepped2_typical_target_tot\n",
      "Taking first value. Key aggregation not specified: wsu_datavol_later_2x_stepped2_typical_cal\n",
      "Taking first value. Key aggregation not specified: wsu_datavol_later_2x_stepped2_typical_total\n",
      "Taking first value. Key aggregation not specified: wsu_nvis_later_2x_stepped2_typical_target\n",
      "Taking first value. Key aggregation not specified: wsu_nvis_later_2x_stepped2_typical_target_tot\n",
      "Taking first value. Key aggregation not specified: wsu_nvis_later_2x_stepped2_typical_cal\n",
      "Taking first value. Key aggregation not specified: wsu_nvis_later_2x_stepped2_typical_total\n",
      "Taking first value. Key aggregation not specified: wsu_datavol_later_4x_stepped2_typical_target\n",
      "Taking first value. Key aggregation not specified: wsu_datavol_later_4x_stepped2_typical_target_tot\n",
      "Taking first value. Key aggregation not specified: wsu_datavol_later_4x_stepped2_typical_cal\n",
      "Taking first value. Key aggregation not specified: wsu_datavol_later_4x_stepped2_typical_total\n",
      "Taking first value. Key aggregation not specified: wsu_nvis_later_4x_stepped2_typical_target\n",
      "Taking first value. Key aggregation not specified: wsu_nvis_later_4x_stepped2_typical_target_tot\n",
      "Taking first value. Key aggregation not specified: wsu_nvis_later_4x_stepped2_typical_cal\n",
      "Taking first value. Key aggregation not specified: wsu_nvis_later_4x_stepped2_typical_total\n",
      "Taking first value. Key aggregation not specified: blc_datarate_typical\n",
      "Taking first value. Key aggregation not specified: blc_visrate_typical\n",
      "Taking first value. Key aggregation not specified: blc_datavol_typical_target\n",
      "Taking first value. Key aggregation not specified: blc_datavol_typical_target_tot\n",
      "Taking first value. Key aggregation not specified: blc_datavol_typical_cal\n",
      "Taking first value. Key aggregation not specified: blc_datavol_typical_total\n",
      "Taking first value. Key aggregation not specified: blc_nvis_typical_target\n",
      "Taking first value. Key aggregation not specified: blc_nvis_typical_target_tot\n",
      "Taking first value. Key aggregation not specified: blc_nvis_typical_cal\n",
      "Taking first value. Key aggregation not specified: blc_nvis_typical_total\n"
     ]
    }
   ],
   "source": [
    "result_c8_tos_mous = wsu_db.create_per_mous_db(result_c8_tos)"
   ]
  },
  {
   "cell_type": "code",
   "execution_count": 55,
   "id": "1625a8c7",
   "metadata": {},
   "outputs": [
    {
     "data": {
      "text/plain": [
       "2481"
      ]
     },
     "execution_count": 55,
     "metadata": {},
     "output_type": "execute_result"
    }
   ],
   "source": [
    "len(result_c8_tos_mous)"
   ]
  },
  {
   "cell_type": "markdown",
   "id": "8ffe2e7d",
   "metadata": {},
   "source": [
    "## Adding in current mitigation information"
   ]
  },
  {
   "cell_type": "code",
   "execution_count": 56,
   "id": "2f15c453",
   "metadata": {},
   "outputs": [],
   "source": [
    "c7_pickle = '/Users/akepley/Dropbox/Support/naasc/WSU/mitigation/weblog_stats/allc7_stats.20220930.pkl'\n",
    "c7_mit = pickle.load(open(c7_pickle,'rb'))\n",
    "c7_rpd = pd.DataFrame(c7_mit).transpose()"
   ]
  },
  {
   "cell_type": "code",
   "execution_count": 57,
   "id": "c0c62e2b",
   "metadata": {
    "scrolled": false
   },
   "outputs": [],
   "source": [
    "c7_astropy = Table.from_pandas(c7_rpd,index=True)\n",
    "c7_astropy.rename_column('index','mous')"
   ]
  },
  {
   "cell_type": "code",
   "execution_count": 58,
   "id": "693ffa08",
   "metadata": {
    "scrolled": false
   },
   "outputs": [
    {
     "data": {
      "text/html": [
       "<div><i>Table length=2565</i>\n",
       "<table id=\"table140434495829808\" class=\"table-striped table-bordered table-condensed\">\n",
       "<thead><tr><th>mous</th><th>project</th><th>plversion</th><th>procedure</th><th>nant</th><th>totaltime</th><th>imgtime</th><th>cubetime</th><th>aggtime</th><th>fctime</th><th>nEB</th><th>npt</th><th>nscan</th><th>reptgt</th><th>nscience</th><th>nspw</th><th>webpredrms</th><th>webcontrms</th><th>webcontBW</th><th>webfreq</th><th>webbm</th><th>webdirtyDR</th><th>webDRcorr</th><th>webcontpk</th><th>webfreqline</th><th>webbmline</th><th>webpredrmsline</th><th>webdirtyDRline</th><th>webDRcorrline</th><th>weblinerms</th><th>weblinepk</th><th>weblineBW</th><th>allowedcubesize</th><th>allowedcubelimit</th><th>predcubesize</th><th>mitigatedcubesize</th><th>allowedprodsize</th><th>initialprodsize</th><th>prodsizeaftercube</th><th>mitigatedprodsize</th><th>mitigated</th><th>mit_nbins</th><th>mit_hm_imsize</th><th>mit_hm_cell</th><th>mit_field</th><th>mit_spw</th></tr></thead>\n",
       "<thead><tr><th>str22</th><th>str14</th><th>str4</th><th>str20</th><th>object</th><th>object</th><th>object</th><th>object</th><th>object</th><th>object</th><th>object</th><th>object</th><th>object</th><th>str35</th><th>object</th><th>object</th><th>object</th><th>object</th><th>object</th><th>object</th><th>object</th><th>object</th><th>object</th><th>object</th><th>object</th><th>object</th><th>object</th><th>object</th><th>object</th><th>object</th><th>object</th><th>object</th><th>object</th><th>object</th><th>object</th><th>object</th><th>object</th><th>object</th><th>object</th><th>object</th><th>object</th><th>str64</th><th>str7</th><th>str7</th><th>str846</th><th>str54</th></tr></thead>\n",
       "<tr><td>uid___A001_X1465_X1002</td><td>2019.1.01326.S</td><td>C7</td><td>hifa_calimage</td><td>10</td><td>5.1194444444444445</td><td>4.113333333333333</td><td>3.731666666666667</td><td>0.06194444444444445</td><td>0.16666666666666666</td><td>1</td><td>34</td><td>2</td><td>Position_8</td><td>1</td><td>4</td><td>0.0019</td><td>0.0025</td><td>2.76</td><td>92.6159</td><td>13.628499550574158</td><td>54.0</td><td>2.5</td><td>0.105</td><td>85.9</td><td>15.461953304805961</td><td>0.079</td><td>38.0</td><td>2.5</td><td>0.074</td><td>3.49</td><td>1.8727352000000002</td><td>40.0</td><td>60.0</td><td>1.68</td><td>1.68</td><td>350.0</td><td>11.7</td><td>11.7</td><td>11.7</td><td>False</td><td>default</td><td>default</td><td>default</td><td>default</td><td>default</td></tr>\n",
       "<tr><td>uid___A001_X1465_X1008</td><td>2019.1.01326.S</td><td>C7</td><td>hifa_calimage</td><td>10</td><td>1.9755555555555557</td><td>1.267777777777778</td><td>0.9855555555555555</td><td>0.05583333333333334</td><td>0.10694444444444444</td><td>1</td><td>39</td><td>1</td><td>Position_2</td><td>1</td><td>4</td><td>0.0014</td><td>0.0017</td><td>6.65</td><td>100.8709</td><td>12.991420245685227</td><td>6.9</td><td>1.5</td><td>0.0171</td><td>93.9</td><td>14.877499789951266</td><td>0.085</td><td>25.0</td><td>2.5</td><td>0.077</td><td>2.14</td><td>1.863162</td><td>40.0</td><td>60.0</td><td>0.86</td><td>0.86</td><td>350.0</td><td>6.88</td><td>6.88</td><td>6.88</td><td>False</td><td>default</td><td>default</td><td>default</td><td>default</td><td>default</td></tr>\n",
       "<tr><td>uid___A001_X1465_X100e</td><td>2019.1.01326.S</td><td>C7</td><td>hifa_calimage</td><td>10</td><td>2.3316666666666666</td><td>1.5105555555555559</td><td>1.1925000000000001</td><td>0.06055555555555556</td><td>0.12555555555555556</td><td>1</td><td>39</td><td>1</td><td>Position_3</td><td>1</td><td>4</td><td>0.0013</td><td>0.0016</td><td>6.51</td><td>100.8724</td><td>13.053160536820192</td><td>12.0</td><td>2.0</td><td>0.0174</td><td>93.9</td><td>14.458215657542254</td><td>0.076</td><td>34.0</td><td>2.5</td><td>0.073</td><td>3.27</td><td>1.8709740000000001</td><td>40.0</td><td>60.0</td><td>0.839</td><td>0.839</td><td>350.0</td><td>6.71</td><td>6.71</td><td>6.71</td><td>False</td><td>default</td><td>default</td><td>default</td><td>default</td><td>default</td></tr>\n",
       "<tr><td>uid___A001_X1465_X1014</td><td>2019.1.01326.S</td><td>C7</td><td>hifa_calimage</td><td>9</td><td>2.283888888888889</td><td>1.5136111111111115</td><td>1.2166666666666668</td><td>0.04527777777777778</td><td>0.1175</td><td>1</td><td>39</td><td>1</td><td>Position_4</td><td>1</td><td>4</td><td>0.0014</td><td>0.0016</td><td>6.85</td><td>100.8729</td><td>12.373560522339558</td><td>4.1</td><td>1.5</td><td>0.0161</td><td>93.9</td><td>14.043076585990693</td><td>0.095</td><td>18.0</td><td>2.0</td><td>0.09</td><td>2.08</td><td>1.8709740000000001</td><td>40.0</td><td>60.0</td><td>0.86</td><td>0.86</td><td>350.0</td><td>6.88</td><td>6.88</td><td>6.88</td><td>False</td><td>default</td><td>default</td><td>default</td><td>default</td><td>default</td></tr>\n",
       "<tr><td>uid___A001_X1465_X101a</td><td>2019.1.01326.S</td><td>C7</td><td>hifa_calimage</td><td>9</td><td>2.1558333333333333</td><td>1.357777777777778</td><td>1.0480555555555557</td><td>0.058333333333333334</td><td>0.12361111111111112</td><td>1</td><td>39</td><td>1</td><td>Position_5</td><td>1</td><td>4</td><td>0.0015</td><td>0.0018</td><td>6.64</td><td>100.8733</td><td>12.637444361895326</td><td>9.0</td><td>1.5</td><td>0.0192</td><td>93.9</td><td>14.30971697833329</td><td>0.095</td><td>14.0</td><td>2.0</td><td>0.091</td><td>1.54</td><td>1.8709740000000001</td><td>40.0</td><td>60.0</td><td>0.86</td><td>0.86</td><td>350.0</td><td>6.88</td><td>6.88</td><td>6.88</td><td>False</td><td>default</td><td>default</td><td>default</td><td>default</td><td>default</td></tr>\n",
       "<tr><td>uid___A001_X1465_X1020</td><td>2019.1.01326.S</td><td>C7</td><td>hifa_calimage</td><td>9</td><td>2.058611111111111</td><td>1.3386111111111112</td><td>1.0475</td><td>0.05</td><td>0.10333333333333333</td><td>1</td><td>39</td><td>1</td><td>Position_6</td><td>1</td><td>4</td><td>0.0022</td><td>0.0043</td><td>2.84</td><td>100.8397</td><td>14.280756282494286</td><td>110.0</td><td>3.6</td><td>0.255</td><td>93.9</td><td>16.75857989210303</td><td>0.1</td><td>54.0</td><td>2.5</td><td>0.084</td><td>6.62</td><td>1.8709740000000001</td><td>40.0</td><td>60.0</td><td>0.708</td><td>0.708</td><td>350.0</td><td>5.67</td><td>5.67</td><td>5.67</td><td>False</td><td>default</td><td>default</td><td>default</td><td>default</td><td>default</td></tr>\n",
       "<tr><td>...</td><td>...</td><td>...</td><td>...</td><td>...</td><td>...</td><td>...</td><td>...</td><td>...</td><td>...</td><td>...</td><td>...</td><td>...</td><td>...</td><td>...</td><td>...</td><td>...</td><td>...</td><td>...</td><td>...</td><td>...</td><td>...</td><td>...</td><td>...</td><td>...</td><td>...</td><td>...</td><td>...</td><td>...</td><td>...</td><td>...</td><td>...</td><td>...</td><td>...</td><td>...</td><td>...</td><td>...</td><td>...</td><td>...</td><td>...</td><td>...</td><td>...</td><td>...</td><td>...</td><td>...</td><td>...</td></tr>\n",
       "<tr><td>uid___A001_X15a2_Xab7</td><td>2019.1.01324.T</td><td>2021</td><td>hifa_calimage_renorm</td><td>42</td><td>31.281388888888888</td><td>13.486944444444443</td><td>10.138055555555555</td><td>0.21333333333333335</td><td>2.5413888888888887</td><td>1</td><td>1</td><td>6</td><td>GX_339-4</td><td>1</td><td>4</td><td>3e-05</td><td>3.4e-05</td><td>6.42</td><td>97.5028</td><td>0.16244999230532453</td><td>64.0</td><td>2.0</td><td>0.00191</td><td>104.5</td><td>0.16023732399163437</td><td>0.002</td><td>6.7</td><td>1.0</td><td>2.1</td><td>0.0161</td><td>1.8731187999999999</td><td>40.0</td><td>60.0</td><td>156.0</td><td>35.8</td><td>500.0</td><td>1240.0</td><td>71.7</td><td>71.7</td><td>True</td><td>default</td><td>0.68pb</td><td>default</td><td>default</td><td>23</td></tr>\n",
       "<tr><td>uid___A001_X15a2_Xed4</td><td>2019.1.00863.T</td><td>2021</td><td>hifa_calimage_renorm</td><td>44</td><td>4.855277777777777</td><td>0.8577777777777779</td><td>0.42083333333333334</td><td>0.09805555555555555</td><td>0.14888888888888888</td><td>1</td><td>1</td><td>4</td><td>GRB211106A</td><td>1</td><td>4</td><td>1.1e-05</td><td>1.3e-05</td><td>6.94</td><td>97.5006</td><td>0.41629797020883974</td><td>8.2</td><td>1.0</td><td>0.000155</td><td>102.5</td><td>0.4131101548013556</td><td>0.00014000000000000001</td><td>6.1</td><td>1.0</td><td>0.16</td><td>0.00275</td><td>1.8283005</td><td>40.0</td><td>60.0</td><td>1.66</td><td>1.66</td><td>500.0</td><td>13.4</td><td>13.4</td><td>13.4</td><td>False</td><td>default</td><td>default</td><td>default</td><td>default</td><td>default</td></tr>\n",
       "<tr><td>uid___A001_X15a3_X5</td><td>2019.A.00040.S</td><td>2021</td><td>hifa_calimage_renorm</td><td>46</td><td>65.73444444444445</td><td>18.252499999999998</td><td>10.916666666666666</td><td>0.3561111111111111</td><td>2.43</td><td>3</td><td>1</td><td>44</td><td>ASASSN-21qj</td><td>1</td><td>4</td><td>1.5e-05</td><td>1.7e-05</td><td>5.9</td><td>341.4157</td><td>0.017893015397076033</td><td>6.4</td><td>1.0</td><td>0.000107</td><td>346.575</td><td>0.01794435844492636</td><td>0.00019</td><td>7.2</td><td>1.0</td><td>1.0</td><td>0.00791</td><td>1.8721422</td><td>40.0</td><td>60.0</td><td>1150.0</td><td>44.2</td><td>500.0</td><td>2520.0</td><td>106.0</td><td>106.0</td><td>True</td><td>21:1,25:2,23:1,19:1</td><td>0.7pb</td><td>3ppb</td><td>default</td><td>default</td></tr>\n",
       "<tr><td>uid___A001_X15a9_X134d</td><td>2019.1.01634.L</td><td>2021</td><td>hifa_calimage_renorm</td><td>46</td><td>4.651944444444445</td><td>0.3486111111111111</td><td>0.05694444444444445</td><td>0.053611111111111116</td><td>0.034722222222222224</td><td>2</td><td>1</td><td>3</td><td>UVISTA-J-1212</td><td>1</td><td>3</td><td>1.5e-05</td><td>1.9e-05</td><td>5.27</td><td>219.1503</td><td>1.2767928571228773</td><td>17.0</td><td>1.0</td><td>0.000497</td><td>220.8807</td><td>1.2913171570144957</td><td>0.00039</td><td>6.0</td><td>1.0</td><td>0.51</td><td>0.00758</td><td>1.8438916</td><td>40.0</td><td>60.0</td><td>0.0384</td><td>0.0384</td><td>500.0</td><td>0.231</td><td>0.231</td><td>0.231</td><td>False</td><td>default</td><td>default</td><td>default</td><td>default</td><td>default</td></tr>\n",
       "<tr><td>uid___A001_X15a9_X1351</td><td>2019.1.01634.L</td><td>2021</td><td>hifa_calimage_renorm</td><td>46</td><td>2.147222222222222</td><td>0.1983333333333333</td><td>0.02861111111111111</td><td>0.03638888888888889</td><td>0.015833333333333335</td><td>1</td><td>1</td><td>3</td><td>UVISTA-J-1212</td><td>1</td><td>3</td><td>2.2e-05</td><td>2.7e-05</td><td>5.2</td><td>224.5336</td><td>1.3259713420734252</td><td>10.0</td><td>1.0</td><td>0.000444</td><td>226.2563</td><td>1.3416407864998738</td><td>0.00055</td><td>6.2</td><td>1.0</td><td>0.66</td><td>0.009269999999999999</td><td>1.859494</td><td>40.0</td><td>60.0</td><td>0.0354</td><td>0.0354</td><td>500.0</td><td>0.213</td><td>0.213</td><td>0.213</td><td>False</td><td>default</td><td>default</td><td>default</td><td>default</td><td>default</td></tr>\n",
       "<tr><td>uid___A001_X15aa_X74</td><td>2019.1.00863.T</td><td>2021</td><td>hifa_calimage_renorm</td><td>44</td><td>4.363888888888889</td><td>0.5072222222222221</td><td>0.16694444444444442</td><td>0.06611111111111112</td><td>0.09083333333333334</td><td>1</td><td>1</td><td>4</td><td>GRB211106A</td><td>1</td><td>4</td><td>1.2e-05</td><td>1.4e-05</td><td>6.94</td><td>97.4997</td><td>0.6413018010266305</td><td>5.2</td><td>1.0</td><td>0.000199</td><td>102.5</td><td>0.6305608614558947</td><td>0.00015</td><td>6.2</td><td>1.0</td><td>0.18</td><td>0.00321</td><td>1.8282771</td><td>40.0</td><td>60.0</td><td>0.484</td><td>0.484</td><td>500.0</td><td>3.9</td><td>3.9</td><td>3.9</td><td>False</td><td>default</td><td>default</td><td>default</td><td>default</td><td>default</td></tr>\n",
       "<tr><td>uid___A001_X15aa_X77</td><td>2019.1.00863.T</td><td>2021</td><td>hifa_calimage_renorm</td><td>42</td><td>4.161388888888889</td><td>0.418888888888889</td><td>0.11416666666666667</td><td>0.06194444444444445</td><td>0.06916666666666667</td><td>1</td><td>1</td><td>4</td><td>GRB211106A</td><td>1</td><td>4</td><td>1.2e-05</td><td>1.4e-05</td><td>6.66</td><td>97.3728</td><td>1.0641898326896382</td><td>4.8</td><td>1.0</td><td>0.000146</td><td>102.5</td><td>1.043335995736752</td><td>0.00015</td><td>5.8</td><td>1.0</td><td>0.17</td><td>0.00257</td><td>1.828242</td><td>40.0</td><td>60.0</td><td>0.21</td><td>0.21</td><td>500.0</td><td>1.69</td><td>1.69</td><td>1.69</td><td>False</td><td>default</td><td>default</td><td>default</td><td>default</td><td>default</td></tr>\n",
       "</table></div>"
      ],
      "text/plain": [
       "<Table length=2565>\n",
       "         mous             project     plversion ... mit_field mit_spw\n",
       "        str22              str14         str4   ...   str846   str54 \n",
       "---------------------- -------------- --------- ... --------- -------\n",
       "uid___A001_X1465_X1002 2019.1.01326.S        C7 ...   default default\n",
       "uid___A001_X1465_X1008 2019.1.01326.S        C7 ...   default default\n",
       "uid___A001_X1465_X100e 2019.1.01326.S        C7 ...   default default\n",
       "uid___A001_X1465_X1014 2019.1.01326.S        C7 ...   default default\n",
       "uid___A001_X1465_X101a 2019.1.01326.S        C7 ...   default default\n",
       "uid___A001_X1465_X1020 2019.1.01326.S        C7 ...   default default\n",
       "                   ...            ...       ... ...       ...     ...\n",
       " uid___A001_X15a2_Xab7 2019.1.01324.T      2021 ...   default      23\n",
       " uid___A001_X15a2_Xed4 2019.1.00863.T      2021 ...   default default\n",
       "   uid___A001_X15a3_X5 2019.A.00040.S      2021 ...   default default\n",
       "uid___A001_X15a9_X134d 2019.1.01634.L      2021 ...   default default\n",
       "uid___A001_X15a9_X1351 2019.1.01634.L      2021 ...   default default\n",
       "  uid___A001_X15aa_X74 2019.1.00863.T      2021 ...   default default\n",
       "  uid___A001_X15aa_X77 2019.1.00863.T      2021 ...   default default"
      ]
     },
     "execution_count": 58,
     "metadata": {},
     "output_type": "execute_result"
    }
   ],
   "source": [
    "c7_astropy"
   ]
  },
  {
   "cell_type": "code",
   "execution_count": 59,
   "id": "0a1c20f0",
   "metadata": {},
   "outputs": [
    {
     "data": {
      "text/plain": [
       "<module 'large_cubes' from '/Users/akepley/Dropbox/Support/naasc/WSU/big_cubes/large_cubes.py'>"
      ]
     },
     "execution_count": 59,
     "metadata": {},
     "output_type": "execute_result"
    }
   ],
   "source": [
    "reload(large_cubes)"
   ]
  },
  {
   "cell_type": "code",
   "execution_count": 60,
   "id": "4b2b744c",
   "metadata": {
    "scrolled": true
   },
   "outputs": [],
   "source": [
    "large_cubes.fix_mous_col(c7_astropy)  "
   ]
  },
  {
   "cell_type": "code",
   "execution_count": 75,
   "id": "565f4d86",
   "metadata": {},
   "outputs": [
    {
     "data": {
      "text/plain": [
       "<module 'wsu_db' from '/Users/akepley/Dropbox/Support/naasc/WSU/big_cubes/wsu_db.py'>"
      ]
     },
     "execution_count": 75,
     "metadata": {},
     "output_type": "execute_result"
    }
   ],
   "source": [
    "reload(wsu_db)"
   ]
  },
  {
   "cell_type": "code",
   "execution_count": 76,
   "id": "1b890f5b",
   "metadata": {},
   "outputs": [],
   "source": [
    "result_tos_mous_mit = wsu_db.join_wsu_and_mit_dbs(result_tos_mous, c7_astropy)"
   ]
  },
  {
   "cell_type": "code",
   "execution_count": 77,
   "id": "f975456b",
   "metadata": {},
   "outputs": [
    {
     "data": {
      "text/html": [
       "<div><i>QTable length=2527</i>\n",
       "<table id=\"table140432150930432\" class=\"table-striped table-bordered table-condensed\">\n",
       "<thead><tr><th>mous</th><th>proposal_id</th><th>array</th><th>nant_typical</th><th>nant_array</th><th>nant_all</th><th>band</th><th>ntarget</th><th>s_fov</th><th>s_resolution</th><th>mosaic</th><th>imsize</th><th>pb</th><th>cell</th><th>blc_npol</th><th>blc_nspw</th><th>blc_specwidth</th><th>blc_freq</th><th>blc_velres</th><th>blc_nchan_agg</th><th>blc_nchan_max</th><th>blc_bandwidth_max</th><th>blc_bandwidth_agg</th><th>wsu_freq</th><th>wsu_npol</th><th>wsu_bandwidth_early</th><th>wsu_bandwidth_later_2x</th><th>wsu_bandwidth_later_4x</th><th>wsu_bandwidth_spw</th><th>wsu_nspw_early</th><th>wsu_nspw_later_2x</th><th>wsu_nspw_later_4x</th><th>wsu_specwidth_finest</th><th>wsu_chanavg_finest</th><th>wsu_velres_finest</th><th>wsu_specwidth_stepped</th><th>wsu_chanavg_stepped</th><th>wsu_velres_stepped</th><th>wsu_specwidth_stepped2</th><th>wsu_chanavg_stepped2</th><th>wsu_velres_stepped2</th><th>wsu_tint</th><th>wsu_nchan_spw_finest</th><th>wsu_nchan_spw_stepped</th><th>wsu_nchan_spw_stepped2</th><th>wsu_frac_bw_early</th><th>wsu_frac_bw_later_2x</th><th>wsu_frac_bw_later_4x</th><th>wsu_frac_bw_spw</th><th>nbase_typical</th><th>nbase_array</th><th>nbase_all</th><th>Project code</th><th>Array</th><th>L80</th><th>blc_tint</th><th>bp_time</th><th>flux_time</th><th>phase_time</th><th>pol_time</th><th>check_time</th><th>target_time_tot</th><th>time_tot</th><th>cal_time</th><th>mfssize</th><th>wsu_cubesize_stepped2</th><th>wsu_productsize_early_stepped2</th><th>wsu_datarate_early_stepped2_typical</th><th>wsu_visrate_early_stepped2_typical</th><th>wsu_datavol_early_stepped2_typical_target_tot</th><th>wsu_datavol_early_stepped2_typical_cal</th><th>wsu_datavol_early_stepped2_typical_total</th><th>wsu_nvis_early_stepped2_typical_target_tot</th><th>wsu_nvis_early_stepped2_typical_cal</th><th>wsu_nvis_early_stepped2_typical_total</th><th>wsu_productsize_later_2x_stepped2</th><th>wsu_datarate_later_2x_stepped2_typical</th><th>wsu_visrate_later_2x_stepped2_typical</th><th>wsu_datavol_later_2x_stepped2_typical_target_tot</th><th>wsu_datavol_later_2x_stepped2_typical_cal</th><th>wsu_datavol_later_2x_stepped2_typical_total</th><th>wsu_nvis_later_2x_stepped2_typical_target_tot</th><th>wsu_nvis_later_2x_stepped2_typical_cal</th><th>wsu_nvis_later_2x_stepped2_typical_total</th><th>wsu_productsize_later_4x_stepped2</th><th>wsu_datarate_later_4x_stepped2_typical</th><th>wsu_visrate_later_4x_stepped2_typical</th><th>wsu_datavol_later_4x_stepped2_typical_target_tot</th><th>wsu_datavol_later_4x_stepped2_typical_cal</th><th>wsu_datavol_later_4x_stepped2_typical_total</th><th>wsu_nvis_later_4x_stepped2_typical_target_tot</th><th>wsu_nvis_later_4x_stepped2_typical_cal</th><th>wsu_nvis_later_4x_stepped2_typical_total</th><th>blc_datarate_typical</th><th>blc_visrate_typical</th><th>blc_datavol_typical_target_tot</th><th>blc_datavol_typical_cal</th><th>blc_datavol_typical_total</th><th>blc_nvis_typical_target_tot</th><th>blc_nvis_typical_cal</th><th>blc_nvis_typical_total</th><th>plversion</th><th>procedure</th><th>nant</th><th>pl_totaltime</th><th>pl_imgtime</th><th>pl_cubetime</th><th>pl_aggtime</th><th>pl_fctime</th><th>nEB</th><th>npt</th><th>nscan</th><th>reptgt</th><th>allowedcubesize</th><th>allowedcubelimit</th><th>predcubesize</th><th>mitigatedcubesize</th><th>allowedprodsize</th><th>initialprodsize</th><th>mitigatedprodsize</th><th>mitigated</th><th>mit_nbins</th><th>mit_hm_imsize</th><th>mit_hm_cell</th><th>mit_field</th><th>mit_spw</th><th>pl_caltime</th></tr></thead>\n",
       "<thead><tr><th></th><th></th><th></th><th></th><th></th><th></th><th></th><th></th><th>deg</th><th>arcsec</th><th></th><th></th><th>arcsec</th><th>arcsec</th><th></th><th></th><th>kHz</th><th>GHz</th><th>km / s</th><th></th><th></th><th>GHz</th><th>GHz</th><th>GHz</th><th></th><th>GHz</th><th>GHz</th><th>GHz</th><th>GHz</th><th></th><th></th><th></th><th>kHz</th><th></th><th>km / s</th><th>kHz</th><th></th><th>km / s</th><th>kHz</th><th></th><th>km / s</th><th>s</th><th></th><th></th><th></th><th></th><th></th><th></th><th></th><th></th><th></th><th></th><th></th><th></th><th>m</th><th>s</th><th>s</th><th>s</th><th>s</th><th>s</th><th>s</th><th>s</th><th>s</th><th>s</th><th>Gbyte</th><th>Gbyte</th><th>Gbyte</th><th>Gbyte / s</th><th>Gvis / h</th><th>Gbyte</th><th>Gbyte</th><th>Gbyte</th><th>Gvis</th><th>Gvis</th><th>Gvis</th><th>Gbyte</th><th>Gbyte / s</th><th>Gvis / h</th><th>Gbyte</th><th>Gbyte</th><th>Gbyte</th><th>Gvis</th><th>Gvis</th><th>Gvis</th><th>Gbyte</th><th>Gbyte / s</th><th>Gvis / h</th><th>Gbyte</th><th>Gbyte</th><th>Gbyte</th><th>Gvis</th><th>Gvis</th><th>Gvis</th><th>Gbyte / s</th><th>Gvis / h</th><th>Gbyte</th><th>Gbyte</th><th>Gbyte</th><th>Gvis</th><th>Gvis</th><th>Gvis</th><th></th><th></th><th></th><th>h</th><th>h</th><th>h</th><th>h</th><th>h</th><th></th><th></th><th></th><th></th><th>Gbyte</th><th>Gbyte</th><th>Gbyte</th><th>Gbyte</th><th>Gbyte</th><th>Gbyte</th><th>Gbyte</th><th></th><th></th><th></th><th></th><th></th><th></th><th>h</th></tr></thead>\n",
       "<thead><tr><th>str22</th><th>str14</th><th>str3</th><th>int64</th><th>int64</th><th>int64</th><th>float64</th><th>float64</th><th>float64</th><th>float64</th><th>str1</th><th>float64</th><th>float64</th><th>float64</th><th>int64</th><th>int64</th><th>float64</th><th>float64</th><th>float64</th><th>float64</th><th>float64</th><th>float64</th><th>float64</th><th>float64</th><th>int64</th><th>float64</th><th>float64</th><th>float64</th><th>float64</th><th>int64</th><th>int64</th><th>int64</th><th>float64</th><th>float64</th><th>float64</th><th>float64</th><th>float64</th><th>float64</th><th>float64</th><th>float64</th><th>float64</th><th>float64</th><th>float64</th><th>float64</th><th>float64</th><th>float64</th><th>float64</th><th>float64</th><th>float64</th><th>float64</th><th>float64</th><th>float64</th><th>str14</th><th>str6</th><th>float64</th><th>float64</th><th>float64</th><th>float64</th><th>float64</th><th>float64</th><th>float64</th><th>float64</th><th>float64</th><th>float64</th><th>float64</th><th>float64</th><th>float64</th><th>float64</th><th>float64</th><th>float64</th><th>float64</th><th>float64</th><th>float64</th><th>float64</th><th>float64</th><th>float64</th><th>float64</th><th>float64</th><th>float64</th><th>float64</th><th>float64</th><th>float64</th><th>float64</th><th>float64</th><th>float64</th><th>float64</th><th>float64</th><th>float64</th><th>float64</th><th>float64</th><th>float64</th><th>float64</th><th>float64</th><th>float64</th><th>float64</th><th>float64</th><th>float64</th><th>float64</th><th>float64</th><th>float64</th><th>float64</th><th>str4</th><th>str20</th><th>object</th><th>object</th><th>object</th><th>object</th><th>object</th><th>object</th><th>object</th><th>object</th><th>object</th><th>str35</th><th>object</th><th>object</th><th>object</th><th>object</th><th>object</th><th>object</th><th>object</th><th>object</th><th>str64</th><th>str7</th><th>str7</th><th>str846</th><th>str54</th><th>float64</th></tr></thead>\n",
       "<tr><td>uid://A001/X1465/X1002</td><td>2019.1.01326.S</td><td>7m</td><td>10</td><td>12</td><td>16</td><td>3.0</td><td>1.0</td><td>0.13050363616709187</td><td>12.418751976046456</td><td>T</td><td>220.0</td><td>108.514167152526</td><td>2.483750395209291</td><td>2</td><td>4</td><td>965.2043680983645</td><td>92.45001476575733</td><td>2.9778920543263903</td><td>14336.0</td><td>4096.0</td><td>2.0</td><td>8.0</td><td>92.45001476575733</td><td>2</td><td>8.0</td><td>16.0</td><td>32.0</td><td>1.6</td><td>5</td><td>10</td><td>20</td><td>958.5</td><td>71.0</td><td>3.108177664666337</td><td>297.0</td><td>22.0</td><td>0.9630973045444989</td><td>607.5</td><td>45.0</td><td>1.9699717592955657</td><td>10.08</td><td>1669.0</td><td>5387.0</td><td>2633.0</td><td>0.08653324740152588</td><td>0.17306649480305175</td><td>0.3461329896061035</td><td>0.017306649480305178</td><td>45.0</td><td>66.0</td><td>120.0</td><td>2019.1.01326.S</td><td>7m</td><td>30.03768</td><td>10.1</td><td>1209.6</td><td>0.0</td><td>362.88</td><td>0.0</td><td>0.0</td><td>60.48</td><td>1632.96</td><td>1572.48</td><td>0.0001936</td><td>0.5097488</td><td>5.099424</td><td>0.0005746626984126984</td><td>0.8463214285714287</td><td>0.0347556</td><td>0.9036456</td><td>0.9384012</td><td>0.0142182</td><td>0.36967320000000004</td><td>0.38389140000000005</td><td>10.198848</td><td>0.0011493253968253968</td><td>1.6926428571428573</td><td>0.0695112</td><td>1.8072912</td><td>1.8768024</td><td>0.0284364</td><td>0.7393464000000001</td><td>0.7677828000000001</td><td>20.397696</td><td>0.0022986507936507937</td><td>3.3852857142857147</td><td>0.1390224</td><td>3.6145824</td><td>3.7536048</td><td>0.0568728</td><td>1.4786928000000001</td><td>1.5355656000000002</td><td>0.0006245386138613862</td><td>0.9197750495049505</td><td>0.03777209536633663</td><td>0.9820744795247526</td><td>1.0198465748910892</td><td>0.015452220831683168</td><td>0.4017577416237624</td><td>0.41720996245544556</td><td>C7</td><td>hifa_calimage</td><td>10</td><td>5.1194444444444445</td><td>4.113333333333333</td><td>3.731666666666667</td><td>0.06194444444444445</td><td>0.16666666666666666</td><td>1</td><td>34</td><td>2</td><td>Position_8</td><td>40.0</td><td>60.0</td><td>1.68</td><td>1.68</td><td>350.0</td><td>11.7</td><td>11.7</td><td>False</td><td>default</td><td>default</td><td>default</td><td>default</td><td>default</td><td>1.0061111111111112</td></tr>\n",
       "<tr><td>uid://A001/X1465/X1008</td><td>2019.1.01326.S</td><td>7m</td><td>10</td><td>12</td><td>16</td><td>3.0</td><td>1.0</td><td>0.13352956949867897</td><td>11.495155000772085</td><td>T</td><td>240.0</td><td>99.33587941322293</td><td>2.299031000154417</td><td>2</td><td>4</td><td>1116.9672480031732</td><td>100.94947251671041</td><td>3.1673235453701216</td><td>8192.0</td><td>2048.0</td><td>2.0</td><td>8.0</td><td>100.94947251671041</td><td>2</td><td>8.0</td><td>16.0</td><td>32.0</td><td>1.6</td><td>5</td><td>10</td><td>20</td><td>1107.0</td><td>82.0</td><td>3.2874887082848767</td><td>324.0</td><td>24.0</td><td>0.9621918170589883</td><td>661.5</td><td>49.0</td><td>1.9644749598287679</td><td>10.08</td><td>1445.0</td><td>4938.0</td><td>2418.0</td><td>0.07924756613934501</td><td>0.15849513227869003</td><td>0.31699026455738005</td><td>0.015849513227869004</td><td>45.0</td><td>66.0</td><td>120.0</td><td>2019.1.01326.S</td><td>7m</td><td>30.609047</td><td>10.1</td><td>604.8</td><td>0.0</td><td>120.96</td><td>0.0</td><td>0.0</td><td>10.08</td><td>735.84</td><td>725.76</td><td>0.0002304</td><td>0.5571072</td><td>5.573376</td><td>0.0005277380952380952</td><td>0.7772142857142857</td><td>0.0053196</td><td>0.3830112</td><td>0.38833080000000003</td><td>0.0021762</td><td>0.1566864</td><td>0.1588626</td><td>11.146752</td><td>0.0010554761904761904</td><td>1.5544285714285715</td><td>0.0106392</td><td>0.7660224</td><td>0.7766616000000001</td><td>0.0043524</td><td>0.3133728</td><td>0.3177252</td><td>22.293504</td><td>0.002110952380952381</td><td>3.108857142857143</td><td>0.0212784</td><td>1.5320448</td><td>1.5533232000000001</td><td>0.0087048</td><td>0.6267456</td><td>0.6354504</td><td>0.0003568792079207921</td><td>0.5255857425742574</td><td>0.0035973424158415846</td><td>0.2590086539405941</td><td>0.26260599635643567</td><td>0.0014716400792079206</td><td>0.10595808570297029</td><td>0.10742972578217821</td><td>C7</td><td>hifa_calimage</td><td>10</td><td>1.9755555555555557</td><td>1.267777777777778</td><td>0.9855555555555555</td><td>0.05583333333333334</td><td>0.10694444444444444</td><td>1</td><td>39</td><td>1</td><td>Position_2</td><td>40.0</td><td>60.0</td><td>0.86</td><td>0.86</td><td>350.0</td><td>6.88</td><td>6.88</td><td>False</td><td>default</td><td>default</td><td>default</td><td>default</td><td>default</td><td>0.7077777777777778</td></tr>\n",
       "<tr><td>uid://A001/X1465/X100e</td><td>2019.1.01326.S</td><td>7m</td><td>10</td><td>12</td><td>16</td><td>3.0</td><td>1.0</td><td>0.1335711696824279</td><td>11.477738486513816</td><td>T</td><td>240.0</td><td>99.3358716017038</td><td>2.295547697302763</td><td>2</td><td>4</td><td>1116.9768029798806</td><td>100.9494845484696</td><td>3.1673495625218457</td><td>8192.0</td><td>2048.0</td><td>2.0</td><td>8.0</td><td>100.9494845484696</td><td>2</td><td>8.0</td><td>16.0</td><td>32.0</td><td>1.6</td><td>5</td><td>10</td><td>20</td><td>1107.0</td><td>82.0</td><td>3.2874883164624453</td><td>324.0</td><td>24.0</td><td>0.9621917023792522</td><td>661.5</td><td>49.0</td><td>1.9644747256909736</td><td>10.08</td><td>1445.0</td><td>4938.0</td><td>2418.0</td><td>0.07924755669414937</td><td>0.15849511338829875</td><td>0.3169902267765975</td><td>0.015849511338829874</td><td>45.0</td><td>66.0</td><td>120.0</td><td>2019.1.01326.S</td><td>7m</td><td>30.655828</td><td>10.1</td><td>604.8</td><td>0.0</td><td>120.96</td><td>0.0</td><td>0.0</td><td>10.08</td><td>735.84</td><td>725.76</td><td>0.0002304</td><td>0.5571072</td><td>5.573376</td><td>0.0005277380952380952</td><td>0.7772142857142857</td><td>0.0053196</td><td>0.3830112</td><td>0.38833080000000003</td><td>0.0021762</td><td>0.1566864</td><td>0.1588626</td><td>11.146752</td><td>0.0010554761904761904</td><td>1.5544285714285715</td><td>0.0106392</td><td>0.7660224</td><td>0.7766616000000001</td><td>0.0043524</td><td>0.3133728</td><td>0.3177252</td><td>22.293504</td><td>0.002110952380952381</td><td>3.108857142857143</td><td>0.0212784</td><td>1.5320448</td><td>1.5533232000000001</td><td>0.0087048</td><td>0.6267456</td><td>0.6354504</td><td>0.0003568792079207921</td><td>0.5255857425742574</td><td>0.0035973424158415846</td><td>0.2590086539405941</td><td>0.26260599635643567</td><td>0.0014716400792079206</td><td>0.10595808570297029</td><td>0.10742972578217821</td><td>C7</td><td>hifa_calimage</td><td>10</td><td>2.3316666666666666</td><td>1.5105555555555559</td><td>1.1925000000000001</td><td>0.06055555555555556</td><td>0.12555555555555556</td><td>1</td><td>39</td><td>1</td><td>Position_3</td><td>40.0</td><td>60.0</td><td>0.839</td><td>0.839</td><td>350.0</td><td>6.71</td><td>6.71</td><td>False</td><td>default</td><td>default</td><td>default</td><td>default</td><td>default</td><td>0.8211111111111107</td></tr>\n",
       "<tr><td>uid://A001/X1465/X1014</td><td>2019.1.01326.S</td><td>7m</td><td>10</td><td>12</td><td>16</td><td>3.0</td><td>1.0</td><td>0.1335853198822303</td><td>11.302668272847619</td><td>T</td><td>245.0</td><td>99.33587213428518</td><td>2.2605336545695236</td><td>2</td><td>4</td><td>1116.9790739480793</td><td>100.94948499173799</td><td>3.1673558199446665</td><td>8192.0</td><td>2048.0</td><td>2.0</td><td>8.0</td><td>100.94948499173799</td><td>2</td><td>8.0</td><td>16.0</td><td>32.0</td><td>1.6</td><td>5</td><td>10</td><td>20</td><td>1107.0</td><td>82.0</td><td>3.28748830202711</td><td>324.0</td><td>24.0</td><td>0.9621916981542762</td><td>661.5</td><td>49.0</td><td>1.9644747170649806</td><td>10.08</td><td>1445.0</td><td>4938.0</td><td>2418.0</td><td>0.07924755634617398</td><td>0.15849511269234795</td><td>0.3169902253846959</td><td>0.015849511269234794</td><td>45.0</td><td>66.0</td><td>120.0</td><td>2019.1.01326.S</td><td>7m</td><td>31.127703</td><td>10.1</td><td>604.8</td><td>0.0</td><td>120.96</td><td>0.0</td><td>0.0</td><td>10.08</td><td>735.84</td><td>725.76</td><td>0.0002401</td><td>0.5805618</td><td>5.808019</td><td>0.0005277380952380952</td><td>0.7772142857142857</td><td>0.0053196</td><td>0.3830112</td><td>0.38833080000000003</td><td>0.0021762</td><td>0.1566864</td><td>0.1588626</td><td>11.616038</td><td>0.0010554761904761904</td><td>1.5544285714285715</td><td>0.0106392</td><td>0.7660224</td><td>0.7766616000000001</td><td>0.0043524</td><td>0.3133728</td><td>0.3177252</td><td>23.232076</td><td>0.002110952380952381</td><td>3.108857142857143</td><td>0.0212784</td><td>1.5320448</td><td>1.5533232000000001</td><td>0.0087048</td><td>0.6267456</td><td>0.6354504</td><td>0.0003568792079207921</td><td>0.5255857425742574</td><td>0.0035973424158415846</td><td>0.2590086539405941</td><td>0.26260599635643567</td><td>0.0014716400792079206</td><td>0.10595808570297029</td><td>0.10742972578217821</td><td>C7</td><td>hifa_calimage</td><td>9</td><td>2.283888888888889</td><td>1.5136111111111115</td><td>1.2166666666666668</td><td>0.04527777777777778</td><td>0.1175</td><td>1</td><td>39</td><td>1</td><td>Position_4</td><td>40.0</td><td>60.0</td><td>0.86</td><td>0.86</td><td>350.0</td><td>6.88</td><td>6.88</td><td>False</td><td>default</td><td>default</td><td>default</td><td>default</td><td>default</td><td>0.7702777777777774</td></tr>\n",
       "<tr><td>uid://A001/X1465/X101a</td><td>2019.1.01326.S</td><td>7m</td><td>10</td><td>12</td><td>16</td><td>3.0</td><td>1.0</td><td>0.1336314854176951</td><td>11.413765574280458</td><td>T</td><td>240.0</td><td>99.33587285679403</td><td>2.2827531148560913</td><td>2</td><td>4</td><td>1116.978577743549</td><td>100.94948404645515</td><td>3.1673544786256693</td><td>8192.0</td><td>2048.0</td><td>2.0</td><td>8.0</td><td>100.94948404645515</td><td>2</td><td>8.0</td><td>16.0</td><td>32.0</td><td>1.6</td><td>5</td><td>10</td><td>20</td><td>1107.0</td><td>82.0</td><td>3.2874883328108857</td><td>324.0</td><td>24.0</td><td>0.9621917071641618</td><td>661.5</td><td>49.0</td><td>1.9644747354601635</td><td>10.08</td><td>1445.0</td><td>4938.0</td><td>2418.0</td><td>0.0792475570882417</td><td>0.1584951141764834</td><td>0.3169902283529668</td><td>0.015849511417648343</td><td>45.0</td><td>66.0</td><td>120.0</td><td>2019.1.01326.S</td><td>7m</td><td>30.823065</td><td>10.1</td><td>604.8</td><td>0.0</td><td>120.96</td><td>0.0</td><td>0.0</td><td>10.08</td><td>735.84</td><td>725.76</td><td>0.0002304</td><td>0.5571072</td><td>5.573376</td><td>0.0005277380952380952</td><td>0.7772142857142857</td><td>0.0053196</td><td>0.3830112</td><td>0.38833080000000003</td><td>0.0021762</td><td>0.1566864</td><td>0.1588626</td><td>11.146752</td><td>0.0010554761904761904</td><td>1.5544285714285715</td><td>0.0106392</td><td>0.7660224</td><td>0.7766616000000001</td><td>0.0043524</td><td>0.3133728</td><td>0.3177252</td><td>22.293504</td><td>0.002110952380952381</td><td>3.108857142857143</td><td>0.0212784</td><td>1.5320448</td><td>1.5533232000000001</td><td>0.0087048</td><td>0.6267456</td><td>0.6354504</td><td>0.0003568792079207921</td><td>0.5255857425742574</td><td>0.0035973424158415846</td><td>0.2590086539405941</td><td>0.26260599635643567</td><td>0.0014716400792079206</td><td>0.10595808570297029</td><td>0.10742972578217821</td><td>C7</td><td>hifa_calimage</td><td>9</td><td>2.1558333333333333</td><td>1.357777777777778</td><td>1.0480555555555557</td><td>0.058333333333333334</td><td>0.12361111111111112</td><td>1</td><td>39</td><td>1</td><td>Position_5</td><td>40.0</td><td>60.0</td><td>0.86</td><td>0.86</td><td>350.0</td><td>6.88</td><td>6.88</td><td>False</td><td>default</td><td>default</td><td>default</td><td>default</td><td>default</td><td>0.7980555555555553</td></tr>\n",
       "<tr><td>uid://A001/X1465/X1020</td><td>2019.1.01326.S</td><td>7m</td><td>10</td><td>12</td><td>16</td><td>3.0</td><td>1.0</td><td>0.13371358744210624</td><td>12.310711444421296</td><td>T</td><td>225.0</td><td>99.33586798161843</td><td>2.4621422888842592</td><td>2</td><td>4</td><td>1116.9863042364896</td><td>100.94949231787314</td><td>3.1673755615409136</td><td>8192.0</td><td>2048.0</td><td>2.0</td><td>8.0</td><td>100.94949231787314</td><td>2</td><td>8.0</td><td>16.0</td><td>32.0</td><td>1.6</td><td>5</td><td>10</td><td>20</td><td>1107.0</td><td>82.0</td><td>3.2874880634465784</td><td>324.0</td><td>24.0</td><td>0.9621916283258277</td><td>661.5</td><td>49.0</td><td>1.964474574498565</td><td>10.08</td><td>1445.0</td><td>4938.0</td><td>2418.0</td><td>0.07924755059499787</td><td>0.15849510118999574</td><td>0.3169902023799915</td><td>0.015849510118999575</td><td>45.0</td><td>66.0</td><td>120.0</td><td>2019.1.01326.S</td><td>7m</td><td>28.57859</td><td>10.1</td><td>604.8</td><td>0.0</td><td>120.96</td><td>0.0</td><td>0.0</td><td>10.08</td><td>735.84</td><td>725.76</td><td>0.0002025</td><td>0.489645</td><td>4.8984749999999995</td><td>0.0005277380952380952</td><td>0.7772142857142857</td><td>0.0053196</td><td>0.3830112</td><td>0.38833080000000003</td><td>0.0021762</td><td>0.1566864</td><td>0.1588626</td><td>9.796949999999999</td><td>0.0010554761904761904</td><td>1.5544285714285715</td><td>0.0106392</td><td>0.7660224</td><td>0.7766616000000001</td><td>0.0043524</td><td>0.3133728</td><td>0.3177252</td><td>19.593899999999998</td><td>0.002110952380952381</td><td>3.108857142857143</td><td>0.0212784</td><td>1.5320448</td><td>1.5533232000000001</td><td>0.0087048</td><td>0.6267456</td><td>0.6354504</td><td>0.0003568792079207921</td><td>0.5255857425742574</td><td>0.0035973424158415846</td><td>0.2590086539405941</td><td>0.26260599635643567</td><td>0.0014716400792079206</td><td>0.10595808570297029</td><td>0.10742972578217821</td><td>C7</td><td>hifa_calimage</td><td>9</td><td>2.058611111111111</td><td>1.3386111111111112</td><td>1.0475</td><td>0.05</td><td>0.10333333333333333</td><td>1</td><td>39</td><td>1</td><td>Position_6</td><td>40.0</td><td>60.0</td><td>0.708</td><td>0.708</td><td>350.0</td><td>5.67</td><td>5.67</td><td>False</td><td>default</td><td>default</td><td>default</td><td>default</td><td>default</td><td>0.7199999999999998</td></tr>\n",
       "<tr><td>...</td><td>...</td><td>...</td><td>...</td><td>...</td><td>...</td><td>...</td><td>...</td><td>...</td><td>...</td><td>...</td><td>...</td><td>...</td><td>...</td><td>...</td><td>...</td><td>...</td><td>...</td><td>...</td><td>...</td><td>...</td><td>...</td><td>...</td><td>...</td><td>...</td><td>...</td><td>...</td><td>...</td><td>...</td><td>...</td><td>...</td><td>...</td><td>...</td><td>...</td><td>...</td><td>...</td><td>...</td><td>...</td><td>...</td><td>...</td><td>...</td><td>...</td><td>...</td><td>...</td><td>...</td><td>...</td><td>...</td><td>...</td><td>...</td><td>...</td><td>...</td><td>...</td><td>...</td><td>...</td><td>...</td><td>...</td><td>...</td><td>...</td><td>...</td><td>...</td><td>...</td><td>...</td><td>...</td><td>...</td><td>...</td><td>...</td><td>...</td><td>...</td><td>...</td><td>...</td><td>...</td><td>...</td><td>...</td><td>...</td><td>...</td><td>...</td><td>...</td><td>...</td><td>...</td><td>...</td><td>...</td><td>...</td><td>...</td><td>...</td><td>...</td><td>...</td><td>...</td><td>...</td><td>...</td><td>...</td><td>...</td><td>...</td><td>...</td><td>...</td><td>...</td><td>...</td><td>...</td><td>...</td><td>...</td><td>...</td><td>...</td><td>...</td><td>...</td><td>...</td><td>...</td><td>...</td><td>...</td><td>...</td><td>...</td><td>...</td><td>...</td><td>...</td><td>...</td><td>...</td><td>...</td><td>...</td><td>...</td><td>...</td><td>...</td><td>...</td><td>...</td><td>...</td><td>...</td><td>...</td><td>...</td><td>...</td><td>...</td></tr>\n",
       "<tr><td>uid://A001/X15a2/Xed4</td><td>2019.1.00863.T</td><td>12m</td><td>47</td><td>54</td><td>66</td><td>3.0</td><td>1.0</td><td>0.016588169547963195</td><td>0.4317903496458591</td><td>F</td><td>1060.0</td><td>59.930849568683314</td><td>0.08635806992917182</td><td>2</td><td>4</td><td>30913.85272485866</td><td>97.49278193738127</td><td>90.52858123839745</td><td>512.0</td><td>128.0</td><td>2.0</td><td>8.0</td><td>97.49278193738127</td><td>2</td><td>8.0</td><td>16.0</td><td>32.0</td><td>1.6</td><td>5</td><td>10</td><td>20</td><td>30901.5</td><td>2289.0</td><td>95.02279509099664</td><td>3240.0</td><td>240.0</td><td>9.96307156917396</td><td>3240.0</td><td>240.0</td><td>9.96307156917396</td><td>3.024</td><td>51.0</td><td>493.0</td><td>493.0</td><td>0.08205735687323322</td><td>0.16411471374646644</td><td>0.3282294274929329</td><td>0.016411471374646644</td><td>1081.0</td><td>1431.0</td><td>2145.0</td><td>2019.1.00863.T</td><td>12m</td><td>843.02625</td><td>6.05</td><td>302.4</td><td>0.0</td><td>151.2</td><td>0.0</td><td>0.0</td><td>2056.32</td><td>2509.92</td><td>453.59999999999997</td><td>0.0044944</td><td>2.2157392</td><td>22.202336</td><td>0.007355873015873016</td><td>12.688880952380952</td><td>15.126028800000002</td><td>3.336624</td><td>18.4626528</td><td>7.2478888</td><td>1.5987989999999999</td><td>8.8466878</td><td>44.404672</td><td>0.014711746031746032</td><td>25.377761904761904</td><td>30.252057600000004</td><td>6.673248</td><td>36.9253056</td><td>14.4957776</td><td>3.1975979999999997</td><td>17.6933756</td><td>88.809344</td><td>0.029423492063492065</td><td>50.75552380952381</td><td>60.50411520000001</td><td>13.346496</td><td>73.8506112</td><td>28.9915552</td><td>6.395195999999999</td><td>35.3867512</td><td>0.0007636839669421488</td><td>1.3173548429752064</td><td>1.5703786149024794</td><td>0.34640704740495865</td><td>1.9167856623074382</td><td>0.7524730863074379</td><td>0.16598671021487602</td><td>0.918459796522314</td><td>2021</td><td>hifa_calimage_renorm</td><td>44</td><td>4.855277777777777</td><td>0.8577777777777779</td><td>0.42083333333333334</td><td>0.09805555555555555</td><td>0.14888888888888888</td><td>1</td><td>1</td><td>4</td><td>GRB211106A</td><td>40.0</td><td>60.0</td><td>1.66</td><td>1.66</td><td>500.0</td><td>13.4</td><td>13.4</td><td>False</td><td>default</td><td>default</td><td>default</td><td>default</td><td>default</td><td>3.9974999999999996</td></tr>\n",
       "<tr><td>uid://A001/X15a3/X5</td><td>2019.A.00040.S</td><td>12m</td><td>47</td><td>54</td><td>66</td><td>7.0</td><td>1.0</td><td>0.004736613751849588</td><td>0.017512278432268685</td><td>F</td><td>7490.0</td><td>17.04810208137214</td><td>0.003502455686453737</td><td>2</td><td>4</td><td>979.229489693065</td><td>341.49625374808505</td><td>0.8470622795880317</td><td>4224.0</td><td>3840.0</td><td>2.0</td><td>7.875</td><td>341.49625374808505</td><td>2</td><td>8.0</td><td>16.0</td><td>32.0</td><td>1.6</td><td>5</td><td>10</td><td>20</td><td>972.0</td><td>72.0</td><td>0.8532985822765676</td><td>108.0</td><td>8.0</td><td>0.09481095358628529</td><td>567.0</td><td>42.0</td><td>0.49775750632799776</td><td>3.024</td><td>1646.0</td><td>14814.0</td><td>2821.0</td><td>0.023426318479913517</td><td>0.04685263695982703</td><td>0.09370527391965407</td><td>0.004685263695982703</td><td>1081.0</td><td>1431.0</td><td>2145.0</td><td>2019.A.00040.S</td><td>12m</td><td>5902.4077</td><td>2.02</td><td>1814.3999999999999</td><td>0.0</td><td>1868.832</td><td>0.0</td><td>217.728</td><td>5152.896</td><td>9053.856</td><td>3900.96</td><td>0.2244004</td><td>633.0335284</td><td>6332.579288000001</td><td>0.042091111111111114</td><td>72.60716666666666</td><td>216.89111808</td><td>164.1957408</td><td>381.08685888</td><td>103.92699407999999</td><td>78.6771258</td><td>182.60411987999996</td><td>12665.158576000002</td><td>0.08418222222222223</td><td>145.21433333333331</td><td>433.78223616</td><td>328.3914816</td><td>762.17371776</td><td>207.85398815999997</td><td>157.3542516</td><td>365.2082397599999</td><td>25330.317152000003</td><td>0.16836444444444446</td><td>290.42866666666663</td><td>867.56447232</td><td>656.7829632</td><td>1524.34743552</td><td>415.70797631999994</td><td>314.7085032</td><td>730.4164795199998</td><td>0.018869988118811878</td><td>32.550729504950496</td><td>97.23508629747325</td><td>73.61106885196038</td><td>170.84615514943363</td><td>46.59181218420594</td><td>35.27197049156436</td><td>81.8637826757703</td><td>2021</td><td>hifa_calimage_renorm</td><td>46</td><td>65.73444444444445</td><td>18.252499999999998</td><td>10.916666666666666</td><td>0.3561111111111111</td><td>2.43</td><td>3</td><td>1</td><td>44</td><td>ASASSN-21qj</td><td>40.0</td><td>60.0</td><td>1150.0</td><td>44.2</td><td>500.0</td><td>2520.0</td><td>106.0</td><td>True</td><td>21:1,25:2,23:1,19:1</td><td>0.7pb</td><td>3ppb</td><td>default</td><td>default</td><td>47.48194444444445</td></tr>\n",
       "<tr><td>uid://A001/X15a9/X134d</td><td>2019.1.01634.L</td><td>12m</td><td>47</td><td>54</td><td>66</td><td>6.0</td><td>1.0</td><td>0.007381374109636608</td><td>1.2855946465692392</td><td>F</td><td>160.0</td><td>26.56061402394846</td><td>0.25711892931384783</td><td>2</td><td>3</td><td>7779.002950074101</td><td>219.13075675583687</td><td>10.558843821668365</td><td>720.0</td><td>240.0</td><td>1.875</td><td>5.625</td><td>219.13075675583687</td><td>2</td><td>16.0</td><td>16.0</td><td>32.0</td><td>1.6</td><td>10</td><td>10</td><td>20</td><td>7776.0</td><td>576.0</td><td>10.6383338784591</td><td>7303.5</td><td>541.0</td><td>9.99190734070551</td><td>7303.5</td><td>541.0</td><td>9.99190734070551</td><td>3.024</td><td>205.0</td><td>219.0</td><td>219.0</td><td>0.07301576573218226</td><td>0.07301576573218226</td><td>0.1460315314643645</td><td>0.007301576573218226</td><td>1081.0</td><td>1431.0</td><td>2145.0</td><td>2019.1.01634.L</td><td>12m</td><td>122.633286</td><td>6.05</td><td>604.8</td><td>0.0</td><td>241.92</td><td>0.0</td><td>0.0</td><td>2903.04</td><td>3749.7599999999998</td><td>846.7199999999999</td><td>0.0001024</td><td>0.0224256</td><td>0.45055999999999996</td><td>0.006535238095238095</td><td>11.273285714285715</td><td>18.9720576</td><td>5.533516799999999</td><td>24.505574399999997</td><td>9.090777600000001</td><td>2.6514767999999997</td><td>11.742254399999998</td><td>0.45055999999999996</td><td>0.006535238095238095</td><td>11.273285714285715</td><td>18.9720576</td><td>5.533516799999999</td><td>24.505574399999997</td><td>9.090777600000001</td><td>2.6514767999999997</td><td>11.742254399999998</td><td>0.9011199999999999</td><td>0.01307047619047619</td><td>22.54657142857143</td><td>37.9441152</td><td>11.067033599999998</td><td>49.011148799999994</td><td>18.181555200000002</td><td>5.3029535999999995</td><td>23.484508799999997</td><td>0.0010739305785123967</td><td>1.8525302479338843</td><td>3.117663426644628</td><td>0.9093184994380165</td><td>4.0269819260826445</td><td>1.4938803919338843</td><td>0.4357151143140495</td><td>1.9295955062479337</td><td>2021</td><td>hifa_calimage_renorm</td><td>46</td><td>4.651944444444445</td><td>0.3486111111111111</td><td>0.05694444444444445</td><td>0.053611111111111116</td><td>0.034722222222222224</td><td>2</td><td>1</td><td>3</td><td>UVISTA-J-1212</td><td>40.0</td><td>60.0</td><td>0.0384</td><td>0.0384</td><td>500.0</td><td>0.231</td><td>0.231</td><td>False</td><td>default</td><td>default</td><td>default</td><td>default</td><td>default</td><td>4.303333333333334</td></tr>\n",
       "<tr><td>uid://A001/X15a9/X1351</td><td>2019.1.01634.L</td><td>12m</td><td>47</td><td>54</td><td>66</td><td>6.0</td><td>1.0</td><td>0.007204637033625908</td><td>1.3081616346248486</td><td>F</td><td>150.0</td><td>25.924606029864425</td><td>0.26163232692496974</td><td>2</td><td>3</td><td>7779.804031912504</td><td>224.50623842940158</td><td>10.309003680864372</td><td>720.0</td><td>240.0</td><td>1.875</td><td>5.625</td><td>224.50623842940158</td><td>2</td><td>16.0</td><td>16.0</td><td>32.0</td><td>1.6</td><td>10</td><td>10</td><td>20</td><td>7776.0</td><td>576.0</td><td>10.383614146833903</td><td>7479.0</td><td>554.0</td><td>9.987017773170109</td><td>7479.0</td><td>554.0</td><td>9.987017773170109</td><td>3.024</td><td>205.0</td><td>213.0</td><td>213.0</td><td>0.0712675073616334</td><td>0.0712675073616334</td><td>0.1425350147232668</td><td>0.007126750736163341</td><td>1081.0</td><td>1431.0</td><td>2145.0</td><td>2019.1.01634.L</td><td>12m</td><td>120.855606</td><td>6.05</td><td>302.4</td><td>0.0</td><td>120.96</td><td>0.0</td><td>0.0</td><td>1149.12</td><td>1572.4799999999998</td><td>423.35999999999996</td><td>9e-05</td><td>0.01917</td><td>0.3852</td><td>0.006356190476190475</td><td>10.964428571428572</td><td>7.304025599999998</td><td>2.6909567999999995</td><td>9.994982399999998</td><td>3.4998456</td><td>1.2894168</td><td>4.7892624</td><td>0.3852</td><td>0.006356190476190475</td><td>10.964428571428572</td><td>7.304025599999998</td><td>2.6909567999999995</td><td>9.994982399999998</td><td>3.4998456</td><td>1.2894168</td><td>4.7892624</td><td>0.7704</td><td>0.01271238095238095</td><td>21.928857142857144</td><td>14.608051199999997</td><td>5.381913599999999</td><td>19.989964799999996</td><td>6.9996912</td><td>2.5788336</td><td>9.5785248</td><td>0.0010739305785123967</td><td>1.8525302479338843</td><td>1.2340751063801652</td><td>0.45465924971900823</td><td>1.6887343560991732</td><td>0.5913276551404959</td><td>0.21785755715702476</td><td>0.8091852122975206</td><td>2021</td><td>hifa_calimage_renorm</td><td>46</td><td>2.147222222222222</td><td>0.1983333333333333</td><td>0.02861111111111111</td><td>0.03638888888888889</td><td>0.015833333333333335</td><td>1</td><td>1</td><td>3</td><td>UVISTA-J-1212</td><td>40.0</td><td>60.0</td><td>0.0354</td><td>0.0354</td><td>500.0</td><td>0.213</td><td>0.213</td><td>False</td><td>default</td><td>default</td><td>default</td><td>default</td><td>default</td><td>1.948888888888889</td></tr>\n",
       "<tr><td>uid://A001/X15aa/X74</td><td>2019.1.00863.T</td><td>12m</td><td>47</td><td>54</td><td>66</td><td>3.0</td><td>1.0</td><td>0.01658832667287695</td><td>0.6470849266662538</td><td>F</td><td>710.0</td><td>59.931417240091704</td><td>0.12941698533325077</td><td>2</td><td>4</td><td>30913.559908317307</td><td>97.4918584840845</td><td>90.52858123839745</td><td>512.0</td><td>128.0</td><td>2.0</td><td>8.0</td><td>97.4918584840845</td><td>2</td><td>8.0</td><td>16.0</td><td>32.0</td><td>1.6</td><td>5</td><td>10</td><td>20</td><td>30901.5</td><td>2289.0</td><td>95.02369515706123</td><td>3240.0</td><td>240.0</td><td>9.963165940452031</td><td>3240.0</td><td>240.0</td><td>9.963165940452031</td><td>3.024</td><td>51.0</td><td>493.0</td><td>493.0</td><td>0.08205813412928215</td><td>0.1641162682585643</td><td>0.3282325365171286</td><td>0.01641162682585643</td><td>1081.0</td><td>1431.0</td><td>2145.0</td><td>2019.1.00863.T</td><td>12m</td><td>562.5464</td><td>6.05</td><td>302.4</td><td>0.0</td><td>151.2</td><td>0.0</td><td>0.0</td><td>2056.32</td><td>2509.92</td><td>453.59999999999997</td><td>0.0020164</td><td>0.9940852</td><td>9.961016</td><td>0.007355873015873016</td><td>12.688880952380952</td><td>15.126028800000002</td><td>3.336624</td><td>18.4626528</td><td>7.2478888</td><td>1.5987989999999999</td><td>8.8466878</td><td>19.922032</td><td>0.014711746031746032</td><td>25.377761904761904</td><td>30.252057600000004</td><td>6.673248</td><td>36.9253056</td><td>14.4957776</td><td>3.1975979999999997</td><td>17.6933756</td><td>39.844064</td><td>0.029423492063492065</td><td>50.75552380952381</td><td>60.50411520000001</td><td>13.346496</td><td>73.8506112</td><td>28.9915552</td><td>6.395195999999999</td><td>35.3867512</td><td>0.0007636839669421488</td><td>1.3173548429752064</td><td>1.5703786149024794</td><td>0.34640704740495865</td><td>1.9167856623074382</td><td>0.7524730863074379</td><td>0.16598671021487602</td><td>0.918459796522314</td><td>2021</td><td>hifa_calimage_renorm</td><td>44</td><td>4.363888888888889</td><td>0.5072222222222221</td><td>0.16694444444444442</td><td>0.06611111111111112</td><td>0.09083333333333334</td><td>1</td><td>1</td><td>4</td><td>GRB211106A</td><td>40.0</td><td>60.0</td><td>0.484</td><td>0.484</td><td>500.0</td><td>3.9</td><td>3.9</td><td>False</td><td>default</td><td>default</td><td>default</td><td>default</td><td>default</td><td>3.856666666666667</td></tr>\n",
       "<tr><td>uid://A001/X15aa/X77</td><td>2019.1.00863.T</td><td>12m</td><td>47</td><td>54</td><td>66</td><td>3.0</td><td>1.0</td><td>0.01658864995868178</td><td>1.1041984061268773</td><td>F</td><td>420.0</td><td>59.93258522869232</td><td>0.22083968122537545</td><td>2</td><td>4</td><td>30912.957453318253</td><td>97.48995852634154</td><td>90.52858123839742</td><td>512.0</td><td>128.0</td><td>2.0</td><td>8.0</td><td>97.48995852634154</td><td>2</td><td>8.0</td><td>16.0</td><td>32.0</td><td>1.6</td><td>5</td><td>10</td><td>20</td><td>30901.5</td><td>2289.0</td><td>95.02554705040603</td><td>3240.0</td><td>240.0</td><td>9.963360110134314</td><td>3240.0</td><td>240.0</td><td>9.963360110134314</td><td>3.024</td><td>51.0</td><td>493.0</td><td>493.0</td><td>0.08205973334000774</td><td>0.16411946668001548</td><td>0.32823893336003096</td><td>0.016411946668001547</td><td>1081.0</td><td>1431.0</td><td>2145.0</td><td>2019.1.00863.T</td><td>12m</td><td>329.6704</td><td>6.05</td><td>302.4</td><td>0.0</td><td>151.2</td><td>0.0</td><td>0.0</td><td>2056.32</td><td>2509.92</td><td>453.59999999999997</td><td>0.0007056</td><td>0.3478608</td><td>3.485664</td><td>0.007355873015873016</td><td>12.688880952380952</td><td>15.126028800000002</td><td>3.336624</td><td>18.4626528</td><td>7.2478888</td><td>1.5987989999999999</td><td>8.8466878</td><td>6.971328</td><td>0.014711746031746032</td><td>25.377761904761904</td><td>30.252057600000004</td><td>6.673248</td><td>36.9253056</td><td>14.4957776</td><td>3.1975979999999997</td><td>17.6933756</td><td>13.942656</td><td>0.029423492063492065</td><td>50.75552380952381</td><td>60.50411520000001</td><td>13.346496</td><td>73.8506112</td><td>28.9915552</td><td>6.395195999999999</td><td>35.3867512</td><td>0.0007636839669421488</td><td>1.3173548429752064</td><td>1.5703786149024794</td><td>0.34640704740495865</td><td>1.9167856623074382</td><td>0.7524730863074379</td><td>0.16598671021487602</td><td>0.918459796522314</td><td>2021</td><td>hifa_calimage_renorm</td><td>42</td><td>4.161388888888889</td><td>0.418888888888889</td><td>0.11416666666666667</td><td>0.06194444444444445</td><td>0.06916666666666667</td><td>1</td><td>1</td><td>4</td><td>GRB211106A</td><td>40.0</td><td>60.0</td><td>0.21</td><td>0.21</td><td>500.0</td><td>1.69</td><td>1.69</td><td>False</td><td>default</td><td>default</td><td>default</td><td>default</td><td>default</td><td>3.7425</td></tr>\n",
       "</table></div>"
      ],
      "text/plain": [
       "<QTable length=2527>\n",
       "         mous           proposal_id   array ... mit_spw     pl_caltime    \n",
       "                                            ...                 h         \n",
       "        str22              str14       str3 ...  str54       float64      \n",
       "---------------------- -------------- ----- ... ------- ------------------\n",
       "uid://A001/X1465/X1002 2019.1.01326.S    7m ... default 1.0061111111111112\n",
       "uid://A001/X1465/X1008 2019.1.01326.S    7m ... default 0.7077777777777778\n",
       "uid://A001/X1465/X100e 2019.1.01326.S    7m ... default 0.8211111111111107\n",
       "uid://A001/X1465/X1014 2019.1.01326.S    7m ... default 0.7702777777777774\n",
       "uid://A001/X1465/X101a 2019.1.01326.S    7m ... default 0.7980555555555553\n",
       "uid://A001/X1465/X1020 2019.1.01326.S    7m ... default 0.7199999999999998\n",
       "                   ...            ...   ... ...     ...                ...\n",
       " uid://A001/X15a2/Xed4 2019.1.00863.T   12m ... default 3.9974999999999996\n",
       "   uid://A001/X15a3/X5 2019.A.00040.S   12m ... default  47.48194444444445\n",
       "uid://A001/X15a9/X134d 2019.1.01634.L   12m ... default  4.303333333333334\n",
       "uid://A001/X15a9/X1351 2019.1.01634.L   12m ... default  1.948888888888889\n",
       "  uid://A001/X15aa/X74 2019.1.00863.T   12m ... default  3.856666666666667\n",
       "  uid://A001/X15aa/X77 2019.1.00863.T   12m ... default             3.7425"
      ]
     },
     "execution_count": 77,
     "metadata": {},
     "output_type": "execute_result"
    }
   ],
   "source": [
    "result_tos_mous_mit"
   ]
  },
  {
   "cell_type": "code",
   "execution_count": 64,
   "id": "d0ae9397",
   "metadata": {},
   "outputs": [],
   "source": [
    "c8_pickle = '/Users/akepley/Dropbox/Support/naasc/WSU/mitigation/weblog_stats/cycle8_stats.ignacio.20230103.pkl'\n",
    "c8_mit = pickle.load(open(c8_pickle,'rb'))\n",
    "c8_rpd = pd.DataFrame(c8_mit).transpose()"
   ]
  },
  {
   "cell_type": "code",
   "execution_count": 65,
   "id": "39b81337",
   "metadata": {},
   "outputs": [],
   "source": [
    "c8_astropy = Table.from_pandas(c8_rpd,index=True)\n",
    "c8_astropy.rename_column('index','mous')"
   ]
  },
  {
   "cell_type": "code",
   "execution_count": 66,
   "id": "6ed2100d",
   "metadata": {
    "scrolled": true
   },
   "outputs": [
    {
     "data": {
      "text/html": [
       "<div><i>Table length=2219</i>\n",
       "<table id=\"table140434495775936\" class=\"table-striped table-bordered table-condensed\">\n",
       "<thead><tr><th>mous</th><th>project</th><th>plversion</th><th>procedure</th><th>nant</th><th>totaltime</th><th>imgtime</th><th>cubetime</th><th>aggtime</th><th>fctime</th><th>nEB</th><th>npt</th><th>nscan</th><th>reptgt</th><th>nscience</th><th>nspw</th><th>webpredrms</th><th>webcontrms</th><th>webcontBW</th><th>webfreq</th><th>webbm</th><th>webdirtyDR</th><th>webcontpk</th><th>allowedcubesize</th><th>allowedcubelimit</th><th>predcubesize</th><th>mitigatedcubesize</th><th>allowedprodsize</th><th>initialprodsize</th><th>prodsizeaftercube</th><th>mitigatedprodsize</th><th>mitigated</th><th>mit_nbins</th><th>mit_hm_imsize</th><th>mit_hm_cell</th><th>mit_field</th><th>mit_spw</th></tr></thead>\n",
       "<thead><tr><th>str22</th><th>str14</th><th>str4</th><th>str20</th><th>object</th><th>object</th><th>object</th><th>object</th><th>object</th><th>object</th><th>object</th><th>object</th><th>object</th><th>str29</th><th>object</th><th>object</th><th>object</th><th>object</th><th>object</th><th>object</th><th>object</th><th>object</th><th>object</th><th>object</th><th>object</th><th>object</th><th>object</th><th>object</th><th>object</th><th>object</th><th>object</th><th>object</th><th>str64</th><th>str7</th><th>str7</th><th>str769</th><th>str44</th></tr></thead>\n",
       "<tr><td>uid___A001_X1590_X2130</td><td>2021.1.00548.S</td><td>2021</td><td>hifa_calimage_renorm</td><td>9</td><td>1.7116666666666667</td><td>0.97305555873447</td><td>0.7186111111111111</td><td>0.05416666666666667</td><td>0.05500000317891439</td><td>1</td><td>4</td><td>1</td><td>SgrC</td><td>1</td><td>4</td><td>0.00079</td><td>0.0032</td><td>2.18</td><td>97.8589</td><td>13.146862743635836</td><td>100.0</td><td>0.112</td><td>40.0</td><td>60.0</td><td>0.236</td><td>0.236</td><td>500.0</td><td>1.89</td><td>1.89</td><td>1.89</td><td>False</td><td>default</td><td>default</td><td>default</td><td>default</td><td>default</td></tr>\n",
       "<tr><td>uid___A001_X1590_X1554</td><td>2021.1.00966.S</td><td>2021</td><td>hifa_calimage_renorm</td><td>9</td><td>1.2266666666666668</td><td>0.5997221554650202</td><td>0.06388888888888888</td><td>0.09722222222222221</td><td>0.02888882213168674</td><td>1</td><td>1</td><td>1</td><td>PGC95569</td><td>4</td><td>4</td><td>0.00073</td><td>0.0009699999999999999</td><td>6.94</td><td>233.004</td><td>5.6147128154519175</td><td>6.6</td><td>0.0072699999999999996</td><td>40.0</td><td>60.0</td><td>0.00328</td><td>0.00328</td><td>500.0</td><td>0.106</td><td>0.106</td><td>0.106</td><td>False</td><td>default</td><td>default</td><td>default</td><td>default</td><td>default</td></tr>\n",
       "<tr><td>uid___A001_X159b_X12</td><td>2021.1.00927.S</td><td>2021</td><td>hifa_calimage_renorm</td><td>9</td><td>0.8644444444444445</td><td>0.27972223440806077</td><td>0.10277777777777779</td><td>0.03027777777777778</td><td>0.01222223440806071</td><td>1</td><td>1</td><td>2</td><td>Betelgeuse</td><td>1</td><td>4</td><td>0.00033</td><td>0.0034</td><td>5.32</td><td>221.0088</td><td>6.376143034782078</td><td>790.0</td><td>0.263</td><td>40.0</td><td>60.0</td><td>0.0212</td><td>0.0212</td><td>500.0</td><td>0.17</td><td>0.17</td><td>0.17</td><td>False</td><td>default</td><td>default</td><td>default</td><td>default</td><td>default</td></tr>\n",
       "<tr><td>uid___A001_X1590_X16d5</td><td>2021.1.00927.S</td><td>2021</td><td>hifa_calimage_renorm</td><td>9</td><td>0.6844444444444444</td><td>0.20638888518015547</td><td>0.03666666666666667</td><td>0.029722222222222223</td><td>0.008888885180155437</td><td>1</td><td>1</td><td>1</td><td>Betelgeuse</td><td>1</td><td>4</td><td>0.0008900000000000001</td><td>0.009</td><td>6.44</td><td>340.793</td><td>4.2673879598649105</td><td>590.0</td><td>0.514</td><td>40.0</td><td>60.0</td><td>0.0021</td><td>0.0021</td><td>500.0</td><td>0.0169</td><td>0.0169</td><td>0.0169</td><td>False</td><td>default</td><td>default</td><td>default</td><td>default</td><td>default</td></tr>\n",
       "<tr><td>uid___A001_X1590_X2199</td><td>2021.1.00520.S</td><td>2021</td><td>hifa_calimage_renorm</td><td>47</td><td>40.8975</td><td>16.9791666536861</td><td>12.890833333333333</td><td>0.4688888888888889</td><td>1.893888875908322</td><td>1</td><td>1</td><td>24</td><td>HOPS-153</td><td>1</td><td>5</td><td>4.1e-05</td><td>5.8e-05</td><td>3.36</td><td>336.9324</td><td>0.028861739379323625</td><td>150.0</td><td>0.00431</td><td>40.0</td><td>60.0</td><td>290.0</td><td>24.9</td><td>500.0</td><td>2320.0</td><td>199.0</td><td>199.0</td><td>True</td><td>default</td><td>0.7pb</td><td>3ppb</td><td>default</td><td>default</td></tr>\n",
       "<tr><td>uid___A001_X1590_X23be</td><td>2021.1.00442.S</td><td>2021</td><td>hifa_calimage_renorm</td><td>44</td><td>58.26583333333333</td><td>18.17249999470181</td><td>10.971111111111112</td><td>1.5780555555555555</td><td>3.303888883590698</td><td>1</td><td>1</td><td>54</td><td>AFGL2591</td><td>1</td><td>4</td><td>2.1e-05</td><td>3.3e-05</td><td>1.42</td><td>104.9525</td><td>0.10426936271024197</td><td>170.0</td><td>0.00365</td><td>40.0</td><td>60.0</td><td>504.0</td><td>40.8</td><td>500.0</td><td>4030.0</td><td>81.6</td><td>81.6</td><td>True</td><td>default</td><td>0.7pb</td><td>3ppb</td><td>default</td><td>27</td></tr>\n",
       "<tr><td>...</td><td>...</td><td>...</td><td>...</td><td>...</td><td>...</td><td>...</td><td>...</td><td>...</td><td>...</td><td>...</td><td>...</td><td>...</td><td>...</td><td>...</td><td>...</td><td>...</td><td>...</td><td>...</td><td>...</td><td>...</td><td>...</td><td>...</td><td>...</td><td>...</td><td>...</td><td>...</td><td>...</td><td>...</td><td>...</td><td>...</td><td>...</td><td>...</td><td>...</td><td>...</td><td>...</td><td>...</td></tr>\n",
       "<tr><td>uid___A001_X1590_X17a6</td><td>2021.1.00871.S</td><td>2021</td><td>hifa_calimage_renorm</td><td>42</td><td>4.476111111111111</td><td>0.7563888801468743</td><td>0.28388888888888886</td><td>0.08055555555555555</td><td>0.06749999125798543</td><td>1</td><td>1</td><td>4</td><td>LDS_5606_A</td><td>1</td><td>4</td><td>3.3e-05</td><td>4.1e-05</td><td>6.45</td><td>340.6964</td><td>0.5003198976654837</td><td>150.0</td><td>0.00491</td><td>40.0</td><td>60.0</td><td>0.786</td><td>0.786</td><td>500.0</td><td>1.89</td><td>1.89</td><td>1.89</td><td>False</td><td>default</td><td>default</td><td>default</td><td>default</td><td>default</td></tr>\n",
       "<tr><td>uid___A001_X1590_X26fd</td><td>2021.1.00389.S</td><td>2021</td><td>hifa_calimage_renorm</td><td>47</td><td>9.10361111111111</td><td>0.5375000084771051</td><td>0.11166666666666668</td><td>0.07361111111111111</td><td>0.07055556403266058</td><td>2</td><td>1</td><td>5</td><td>COSMOS-z10-2</td><td>1</td><td>4</td><td>2.8e-05</td><td>3.3e-05</td><td>5.66</td><td>319.704</td><td>0.4187982807987636</td><td>8.0</td><td>0.000336</td><td>40.0</td><td>60.0</td><td>0.142</td><td>0.142</td><td>500.0</td><td>1.14</td><td>1.14</td><td>1.14</td><td>False</td><td>default</td><td>default</td><td>default</td><td>default</td><td>default</td></tr>\n",
       "<tr><td>uid___A001_X1590_X35e3</td><td>2021.1.00024.S</td><td>2021</td><td>hifa_calimage_renorm</td><td>44</td><td>18.90888888888889</td><td>10.787222389115227</td><td>3.8722222222222222</td><td>1.2752777777777777</td><td>0.921666833559672</td><td>1</td><td>1</td><td>2</td><td>cdfs27</td><td>42</td><td>4</td><td>9.4e-05</td><td>0.00011</td><td>7.24</td><td>237.9942</td><td>0.7776888838089432</td><td>9.0</td><td>0.00116</td><td>40.0</td><td>60.0</td><td>0.249</td><td>0.249</td><td>500.0</td><td>83.8</td><td>83.8</td><td>83.8</td><td>True</td><td>default</td><td>default</td><td>default</td><td>default</td><td>default</td></tr>\n",
       "<tr><td>uid___A001_X2dfa_X181</td><td>2021.1.00911.T</td><td>2021</td><td>hifa_calimage_renorm</td><td>43</td><td>51.7075</td><td>17.050555553966095</td><td>11.115277777777777</td><td>1.321388888888889</td><td>1.9844444428549872</td><td>2</td><td>1</td><td>7</td><td>PANSTARRS_C2017_K2</td><td>1</td><td>4</td><td>3.7e-05</td><td>4.2e-05</td><td>2.16</td><td>357.6283</td><td>0.39764054119267067</td><td>16.0</td><td>0.000563</td><td>40.0</td><td>60.0</td><td>2.26</td><td>2.26</td><td>500.0</td><td>18.1</td><td>18.1</td><td>18.1</td><td>False</td><td>default</td><td>default</td><td>default</td><td>default</td><td>default</td></tr>\n",
       "<tr><td>uid___A001_X2dfa_X60</td><td>2021.1.00862.S</td><td>2021</td><td>hifa_calimage_renorm</td><td>43</td><td>11.476944444444445</td><td>2.6180555635028413</td><td>1.6222222222222222</td><td>0.17416666666666666</td><td>0.2622222301695082</td><td>1</td><td>1</td><td>5</td><td>PANSTARRS_C2017_K2</td><td>1</td><td>8</td><td>3.8e-05</td><td>4.6e-05</td><td>2.56</td><td>297.8238</td><td>0.5568357028783266</td><td>12.0</td><td>0.000494</td><td>40.0</td><td>60.0</td><td>1.13</td><td>1.13</td><td>500.0</td><td>6.96</td><td>6.96</td><td>6.96</td><td>False</td><td>default</td><td>default</td><td>default</td><td>default</td><td>default</td></tr>\n",
       "<tr><td>uid___A001_X1590_X30aa</td><td>2021.1.00172.L</td><td>2021</td><td>hifa_calimage_renorm</td><td>45</td><td>194.4897222222222</td><td>145.53750001006657</td><td>115.49277777777777</td><td>10.67861111111111</td><td>15.939722232288785</td><td>2</td><td>90</td><td>4</td><td>Sgr_A_star</td><td>1</td><td>6</td><td>8.2e-05</td><td>9.6e-05</td><td>1.26</td><td>93.6764</td><td>1.2525174649480941</td><td>10.0</td><td>0.00113</td><td>40.0</td><td>60.0</td><td>93.3</td><td>16.6</td><td>500.0</td><td>747.0</td><td>133.0</td><td>133.0</td><td>True</td><td>29:2,33:2,27:2,25:2,31:2,35:2</td><td>0.27pb</td><td>3ppb</td><td>default</td><td>default</td></tr>\n",
       "<tr><td>uid___A001_X1590_X1f41</td><td>2021.1.00666.S</td><td>2021</td><td>hifa_calimage</td><td>43</td><td>2.6463888888888887</td><td>0.38444444497426344</td><td>0.08722222222222221</td><td>0.07027777777777777</td><td>0.030833333863152398</td><td>1</td><td>1</td><td>2</td><td>AS2UDS026.0</td><td>1</td><td>4</td><td>2.1e-05</td><td>2.5e-05</td><td>6.36</td><td>153.9777</td><td>0.8648699324175861</td><td>16.0</td><td>0.00035</td><td>40.0</td><td>60.0</td><td>0.221</td><td>0.221</td><td>500.0</td><td>1.36</td><td>1.36</td><td>1.36</td><td>False</td><td>default</td><td>default</td><td>default</td><td>default</td><td>default</td></tr>\n",
       "</table></div>"
      ],
      "text/plain": [
       "<Table length=2219>\n",
       "         mous             project     plversion ... mit_field mit_spw\n",
       "        str22              str14         str4   ...   str769   str44 \n",
       "---------------------- -------------- --------- ... --------- -------\n",
       "uid___A001_X1590_X2130 2021.1.00548.S      2021 ...   default default\n",
       "uid___A001_X1590_X1554 2021.1.00966.S      2021 ...   default default\n",
       "  uid___A001_X159b_X12 2021.1.00927.S      2021 ...   default default\n",
       "uid___A001_X1590_X16d5 2021.1.00927.S      2021 ...   default default\n",
       "uid___A001_X1590_X2199 2021.1.00520.S      2021 ...   default default\n",
       "uid___A001_X1590_X23be 2021.1.00442.S      2021 ...   default      27\n",
       "                   ...            ...       ... ...       ...     ...\n",
       "uid___A001_X1590_X17a6 2021.1.00871.S      2021 ...   default default\n",
       "uid___A001_X1590_X26fd 2021.1.00389.S      2021 ...   default default\n",
       "uid___A001_X1590_X35e3 2021.1.00024.S      2021 ...   default default\n",
       " uid___A001_X2dfa_X181 2021.1.00911.T      2021 ...   default default\n",
       "  uid___A001_X2dfa_X60 2021.1.00862.S      2021 ...   default default\n",
       "uid___A001_X1590_X30aa 2021.1.00172.L      2021 ...   default default\n",
       "uid___A001_X1590_X1f41 2021.1.00666.S      2021 ...   default default"
      ]
     },
     "execution_count": 66,
     "metadata": {},
     "output_type": "execute_result"
    }
   ],
   "source": [
    "c8_astropy"
   ]
  },
  {
   "cell_type": "code",
   "execution_count": 67,
   "id": "35cb1694",
   "metadata": {},
   "outputs": [],
   "source": [
    "large_cubes.fix_mous_col(c8_astropy)  "
   ]
  },
  {
   "cell_type": "code",
   "execution_count": 68,
   "id": "195ff2df",
   "metadata": {},
   "outputs": [
    {
     "data": {
      "text/html": [
       "<div><i>Table length=2219</i>\n",
       "<table id=\"table140434495775936\" class=\"table-striped table-bordered table-condensed\">\n",
       "<thead><tr><th>mous</th><th>project</th><th>plversion</th><th>procedure</th><th>nant</th><th>totaltime</th><th>imgtime</th><th>cubetime</th><th>aggtime</th><th>fctime</th><th>nEB</th><th>npt</th><th>nscan</th><th>reptgt</th><th>nscience</th><th>nspw</th><th>webpredrms</th><th>webcontrms</th><th>webcontBW</th><th>webfreq</th><th>webbm</th><th>webdirtyDR</th><th>webcontpk</th><th>allowedcubesize</th><th>allowedcubelimit</th><th>predcubesize</th><th>mitigatedcubesize</th><th>allowedprodsize</th><th>initialprodsize</th><th>prodsizeaftercube</th><th>mitigatedprodsize</th><th>mitigated</th><th>mit_nbins</th><th>mit_hm_imsize</th><th>mit_hm_cell</th><th>mit_field</th><th>mit_spw</th></tr></thead>\n",
       "<thead><tr><th>str22</th><th>str14</th><th>str4</th><th>str20</th><th>object</th><th>object</th><th>object</th><th>object</th><th>object</th><th>object</th><th>object</th><th>object</th><th>object</th><th>str29</th><th>object</th><th>object</th><th>object</th><th>object</th><th>object</th><th>object</th><th>object</th><th>object</th><th>object</th><th>object</th><th>object</th><th>object</th><th>object</th><th>object</th><th>object</th><th>object</th><th>object</th><th>object</th><th>str64</th><th>str7</th><th>str7</th><th>str769</th><th>str44</th></tr></thead>\n",
       "<tr><td>uid://A001/X1590/X2130</td><td>2021.1.00548.S</td><td>2021</td><td>hifa_calimage_renorm</td><td>9</td><td>1.7116666666666667</td><td>0.97305555873447</td><td>0.7186111111111111</td><td>0.05416666666666667</td><td>0.05500000317891439</td><td>1</td><td>4</td><td>1</td><td>SgrC</td><td>1</td><td>4</td><td>0.00079</td><td>0.0032</td><td>2.18</td><td>97.8589</td><td>13.146862743635836</td><td>100.0</td><td>0.112</td><td>40.0</td><td>60.0</td><td>0.236</td><td>0.236</td><td>500.0</td><td>1.89</td><td>1.89</td><td>1.89</td><td>False</td><td>default</td><td>default</td><td>default</td><td>default</td><td>default</td></tr>\n",
       "<tr><td>uid://A001/X1590/X1554</td><td>2021.1.00966.S</td><td>2021</td><td>hifa_calimage_renorm</td><td>9</td><td>1.2266666666666668</td><td>0.5997221554650202</td><td>0.06388888888888888</td><td>0.09722222222222221</td><td>0.02888882213168674</td><td>1</td><td>1</td><td>1</td><td>PGC95569</td><td>4</td><td>4</td><td>0.00073</td><td>0.0009699999999999999</td><td>6.94</td><td>233.004</td><td>5.6147128154519175</td><td>6.6</td><td>0.0072699999999999996</td><td>40.0</td><td>60.0</td><td>0.00328</td><td>0.00328</td><td>500.0</td><td>0.106</td><td>0.106</td><td>0.106</td><td>False</td><td>default</td><td>default</td><td>default</td><td>default</td><td>default</td></tr>\n",
       "<tr><td>uid://A001/X159b/X12</td><td>2021.1.00927.S</td><td>2021</td><td>hifa_calimage_renorm</td><td>9</td><td>0.8644444444444445</td><td>0.27972223440806077</td><td>0.10277777777777779</td><td>0.03027777777777778</td><td>0.01222223440806071</td><td>1</td><td>1</td><td>2</td><td>Betelgeuse</td><td>1</td><td>4</td><td>0.00033</td><td>0.0034</td><td>5.32</td><td>221.0088</td><td>6.376143034782078</td><td>790.0</td><td>0.263</td><td>40.0</td><td>60.0</td><td>0.0212</td><td>0.0212</td><td>500.0</td><td>0.17</td><td>0.17</td><td>0.17</td><td>False</td><td>default</td><td>default</td><td>default</td><td>default</td><td>default</td></tr>\n",
       "<tr><td>uid://A001/X1590/X16d5</td><td>2021.1.00927.S</td><td>2021</td><td>hifa_calimage_renorm</td><td>9</td><td>0.6844444444444444</td><td>0.20638888518015547</td><td>0.03666666666666667</td><td>0.029722222222222223</td><td>0.008888885180155437</td><td>1</td><td>1</td><td>1</td><td>Betelgeuse</td><td>1</td><td>4</td><td>0.0008900000000000001</td><td>0.009</td><td>6.44</td><td>340.793</td><td>4.2673879598649105</td><td>590.0</td><td>0.514</td><td>40.0</td><td>60.0</td><td>0.0021</td><td>0.0021</td><td>500.0</td><td>0.0169</td><td>0.0169</td><td>0.0169</td><td>False</td><td>default</td><td>default</td><td>default</td><td>default</td><td>default</td></tr>\n",
       "<tr><td>uid://A001/X1590/X2199</td><td>2021.1.00520.S</td><td>2021</td><td>hifa_calimage_renorm</td><td>47</td><td>40.8975</td><td>16.9791666536861</td><td>12.890833333333333</td><td>0.4688888888888889</td><td>1.893888875908322</td><td>1</td><td>1</td><td>24</td><td>HOPS-153</td><td>1</td><td>5</td><td>4.1e-05</td><td>5.8e-05</td><td>3.36</td><td>336.9324</td><td>0.028861739379323625</td><td>150.0</td><td>0.00431</td><td>40.0</td><td>60.0</td><td>290.0</td><td>24.9</td><td>500.0</td><td>2320.0</td><td>199.0</td><td>199.0</td><td>True</td><td>default</td><td>0.7pb</td><td>3ppb</td><td>default</td><td>default</td></tr>\n",
       "<tr><td>uid://A001/X1590/X23be</td><td>2021.1.00442.S</td><td>2021</td><td>hifa_calimage_renorm</td><td>44</td><td>58.26583333333333</td><td>18.17249999470181</td><td>10.971111111111112</td><td>1.5780555555555555</td><td>3.303888883590698</td><td>1</td><td>1</td><td>54</td><td>AFGL2591</td><td>1</td><td>4</td><td>2.1e-05</td><td>3.3e-05</td><td>1.42</td><td>104.9525</td><td>0.10426936271024197</td><td>170.0</td><td>0.00365</td><td>40.0</td><td>60.0</td><td>504.0</td><td>40.8</td><td>500.0</td><td>4030.0</td><td>81.6</td><td>81.6</td><td>True</td><td>default</td><td>0.7pb</td><td>3ppb</td><td>default</td><td>27</td></tr>\n",
       "<tr><td>...</td><td>...</td><td>...</td><td>...</td><td>...</td><td>...</td><td>...</td><td>...</td><td>...</td><td>...</td><td>...</td><td>...</td><td>...</td><td>...</td><td>...</td><td>...</td><td>...</td><td>...</td><td>...</td><td>...</td><td>...</td><td>...</td><td>...</td><td>...</td><td>...</td><td>...</td><td>...</td><td>...</td><td>...</td><td>...</td><td>...</td><td>...</td><td>...</td><td>...</td><td>...</td><td>...</td><td>...</td></tr>\n",
       "<tr><td>uid://A001/X1590/X17a6</td><td>2021.1.00871.S</td><td>2021</td><td>hifa_calimage_renorm</td><td>42</td><td>4.476111111111111</td><td>0.7563888801468743</td><td>0.28388888888888886</td><td>0.08055555555555555</td><td>0.06749999125798543</td><td>1</td><td>1</td><td>4</td><td>LDS_5606_A</td><td>1</td><td>4</td><td>3.3e-05</td><td>4.1e-05</td><td>6.45</td><td>340.6964</td><td>0.5003198976654837</td><td>150.0</td><td>0.00491</td><td>40.0</td><td>60.0</td><td>0.786</td><td>0.786</td><td>500.0</td><td>1.89</td><td>1.89</td><td>1.89</td><td>False</td><td>default</td><td>default</td><td>default</td><td>default</td><td>default</td></tr>\n",
       "<tr><td>uid://A001/X1590/X26fd</td><td>2021.1.00389.S</td><td>2021</td><td>hifa_calimage_renorm</td><td>47</td><td>9.10361111111111</td><td>0.5375000084771051</td><td>0.11166666666666668</td><td>0.07361111111111111</td><td>0.07055556403266058</td><td>2</td><td>1</td><td>5</td><td>COSMOS-z10-2</td><td>1</td><td>4</td><td>2.8e-05</td><td>3.3e-05</td><td>5.66</td><td>319.704</td><td>0.4187982807987636</td><td>8.0</td><td>0.000336</td><td>40.0</td><td>60.0</td><td>0.142</td><td>0.142</td><td>500.0</td><td>1.14</td><td>1.14</td><td>1.14</td><td>False</td><td>default</td><td>default</td><td>default</td><td>default</td><td>default</td></tr>\n",
       "<tr><td>uid://A001/X1590/X35e3</td><td>2021.1.00024.S</td><td>2021</td><td>hifa_calimage_renorm</td><td>44</td><td>18.90888888888889</td><td>10.787222389115227</td><td>3.8722222222222222</td><td>1.2752777777777777</td><td>0.921666833559672</td><td>1</td><td>1</td><td>2</td><td>cdfs27</td><td>42</td><td>4</td><td>9.4e-05</td><td>0.00011</td><td>7.24</td><td>237.9942</td><td>0.7776888838089432</td><td>9.0</td><td>0.00116</td><td>40.0</td><td>60.0</td><td>0.249</td><td>0.249</td><td>500.0</td><td>83.8</td><td>83.8</td><td>83.8</td><td>True</td><td>default</td><td>default</td><td>default</td><td>default</td><td>default</td></tr>\n",
       "<tr><td>uid://A001/X2dfa/X181</td><td>2021.1.00911.T</td><td>2021</td><td>hifa_calimage_renorm</td><td>43</td><td>51.7075</td><td>17.050555553966095</td><td>11.115277777777777</td><td>1.321388888888889</td><td>1.9844444428549872</td><td>2</td><td>1</td><td>7</td><td>PANSTARRS_C2017_K2</td><td>1</td><td>4</td><td>3.7e-05</td><td>4.2e-05</td><td>2.16</td><td>357.6283</td><td>0.39764054119267067</td><td>16.0</td><td>0.000563</td><td>40.0</td><td>60.0</td><td>2.26</td><td>2.26</td><td>500.0</td><td>18.1</td><td>18.1</td><td>18.1</td><td>False</td><td>default</td><td>default</td><td>default</td><td>default</td><td>default</td></tr>\n",
       "<tr><td>uid://A001/X2dfa/X60</td><td>2021.1.00862.S</td><td>2021</td><td>hifa_calimage_renorm</td><td>43</td><td>11.476944444444445</td><td>2.6180555635028413</td><td>1.6222222222222222</td><td>0.17416666666666666</td><td>0.2622222301695082</td><td>1</td><td>1</td><td>5</td><td>PANSTARRS_C2017_K2</td><td>1</td><td>8</td><td>3.8e-05</td><td>4.6e-05</td><td>2.56</td><td>297.8238</td><td>0.5568357028783266</td><td>12.0</td><td>0.000494</td><td>40.0</td><td>60.0</td><td>1.13</td><td>1.13</td><td>500.0</td><td>6.96</td><td>6.96</td><td>6.96</td><td>False</td><td>default</td><td>default</td><td>default</td><td>default</td><td>default</td></tr>\n",
       "<tr><td>uid://A001/X1590/X30aa</td><td>2021.1.00172.L</td><td>2021</td><td>hifa_calimage_renorm</td><td>45</td><td>194.4897222222222</td><td>145.53750001006657</td><td>115.49277777777777</td><td>10.67861111111111</td><td>15.939722232288785</td><td>2</td><td>90</td><td>4</td><td>Sgr_A_star</td><td>1</td><td>6</td><td>8.2e-05</td><td>9.6e-05</td><td>1.26</td><td>93.6764</td><td>1.2525174649480941</td><td>10.0</td><td>0.00113</td><td>40.0</td><td>60.0</td><td>93.3</td><td>16.6</td><td>500.0</td><td>747.0</td><td>133.0</td><td>133.0</td><td>True</td><td>29:2,33:2,27:2,25:2,31:2,35:2</td><td>0.27pb</td><td>3ppb</td><td>default</td><td>default</td></tr>\n",
       "<tr><td>uid://A001/X1590/X1f41</td><td>2021.1.00666.S</td><td>2021</td><td>hifa_calimage</td><td>43</td><td>2.6463888888888887</td><td>0.38444444497426344</td><td>0.08722222222222221</td><td>0.07027777777777777</td><td>0.030833333863152398</td><td>1</td><td>1</td><td>2</td><td>AS2UDS026.0</td><td>1</td><td>4</td><td>2.1e-05</td><td>2.5e-05</td><td>6.36</td><td>153.9777</td><td>0.8648699324175861</td><td>16.0</td><td>0.00035</td><td>40.0</td><td>60.0</td><td>0.221</td><td>0.221</td><td>500.0</td><td>1.36</td><td>1.36</td><td>1.36</td><td>False</td><td>default</td><td>default</td><td>default</td><td>default</td><td>default</td></tr>\n",
       "</table></div>"
      ],
      "text/plain": [
       "<Table length=2219>\n",
       "         mous             project     plversion ... mit_field mit_spw\n",
       "        str22              str14         str4   ...   str769   str44 \n",
       "---------------------- -------------- --------- ... --------- -------\n",
       "uid://A001/X1590/X2130 2021.1.00548.S      2021 ...   default default\n",
       "uid://A001/X1590/X1554 2021.1.00966.S      2021 ...   default default\n",
       "  uid://A001/X159b/X12 2021.1.00927.S      2021 ...   default default\n",
       "uid://A001/X1590/X16d5 2021.1.00927.S      2021 ...   default default\n",
       "uid://A001/X1590/X2199 2021.1.00520.S      2021 ...   default default\n",
       "uid://A001/X1590/X23be 2021.1.00442.S      2021 ...   default      27\n",
       "                   ...            ...       ... ...       ...     ...\n",
       "uid://A001/X1590/X17a6 2021.1.00871.S      2021 ...   default default\n",
       "uid://A001/X1590/X26fd 2021.1.00389.S      2021 ...   default default\n",
       "uid://A001/X1590/X35e3 2021.1.00024.S      2021 ...   default default\n",
       " uid://A001/X2dfa/X181 2021.1.00911.T      2021 ...   default default\n",
       "  uid://A001/X2dfa/X60 2021.1.00862.S      2021 ...   default default\n",
       "uid://A001/X1590/X30aa 2021.1.00172.L      2021 ...   default default\n",
       "uid://A001/X1590/X1f41 2021.1.00666.S      2021 ...   default default"
      ]
     },
     "execution_count": 68,
     "metadata": {},
     "output_type": "execute_result"
    }
   ],
   "source": [
    "c8_astropy"
   ]
  },
  {
   "cell_type": "code",
   "execution_count": 69,
   "id": "4a109426",
   "metadata": {},
   "outputs": [
    {
     "data": {
      "text/plain": [
       "<module 'wsu_db' from '/Users/akepley/Dropbox/Support/naasc/WSU/big_cubes/wsu_db.py'>"
      ]
     },
     "execution_count": 69,
     "metadata": {},
     "output_type": "execute_result"
    }
   ],
   "source": [
    "reload(wsu_db)"
   ]
  },
  {
   "cell_type": "code",
   "execution_count": 78,
   "id": "4d852b9d",
   "metadata": {},
   "outputs": [],
   "source": [
    "result_c8_tos_mous_mit = wsu_db.join_wsu_and_mit_dbs(result_c8_tos_mous, c8_astropy)"
   ]
  },
  {
   "cell_type": "code",
   "execution_count": 79,
   "id": "bbe824a8",
   "metadata": {},
   "outputs": [
    {
     "data": {
      "text/html": [
       "<div><i>QTable length=2191</i>\n",
       "<table id=\"table140432175121024\" class=\"table-striped table-bordered table-condensed\">\n",
       "<thead><tr><th>mous</th><th>proposal_id</th><th>array</th><th>nant_typical</th><th>nant_array</th><th>nant_all</th><th>band</th><th>ntarget</th><th>s_fov</th><th>s_resolution</th><th>mosaic</th><th>imsize</th><th>pb</th><th>cell</th><th>blc_npol</th><th>blc_nspw</th><th>blc_specwidth</th><th>blc_freq</th><th>blc_velres</th><th>blc_nchan_agg</th><th>blc_nchan_max</th><th>blc_bandwidth_max</th><th>blc_bandwidth_agg</th><th>wsu_freq</th><th>wsu_npol</th><th>wsu_bandwidth_early</th><th>wsu_bandwidth_later_2x</th><th>wsu_bandwidth_later_4x</th><th>wsu_bandwidth_spw</th><th>wsu_nspw_early</th><th>wsu_nspw_later_2x</th><th>wsu_nspw_later_4x</th><th>wsu_specwidth_finest</th><th>wsu_chanavg_finest</th><th>wsu_velres_finest</th><th>wsu_specwidth_stepped</th><th>wsu_chanavg_stepped</th><th>wsu_velres_stepped</th><th>wsu_specwidth_stepped2</th><th>wsu_chanavg_stepped2</th><th>wsu_velres_stepped2</th><th>wsu_tint</th><th>wsu_nchan_spw_finest</th><th>wsu_nchan_spw_stepped</th><th>wsu_nchan_spw_stepped2</th><th>wsu_frac_bw_early</th><th>wsu_frac_bw_later_2x</th><th>wsu_frac_bw_later_4x</th><th>wsu_frac_bw_spw</th><th>nbase_typical</th><th>nbase_array</th><th>nbase_all</th><th>Project code</th><th>Array</th><th>L80</th><th>blc_tint</th><th>bp_time</th><th>flux_time</th><th>phase_time</th><th>pol_time</th><th>check_time</th><th>target_time_tot</th><th>time_tot</th><th>cal_time</th><th>mfssize</th><th>wsu_cubesize_stepped2</th><th>wsu_productsize_early_stepped2</th><th>wsu_datarate_early_stepped2_typical</th><th>wsu_visrate_early_stepped2_typical</th><th>wsu_datavol_early_stepped2_typical_target_tot</th><th>wsu_datavol_early_stepped2_typical_cal</th><th>wsu_datavol_early_stepped2_typical_total</th><th>wsu_nvis_early_stepped2_typical_target_tot</th><th>wsu_nvis_early_stepped2_typical_cal</th><th>wsu_nvis_early_stepped2_typical_total</th><th>wsu_productsize_later_2x_stepped2</th><th>wsu_datarate_later_2x_stepped2_typical</th><th>wsu_visrate_later_2x_stepped2_typical</th><th>wsu_datavol_later_2x_stepped2_typical_target_tot</th><th>wsu_datavol_later_2x_stepped2_typical_cal</th><th>wsu_datavol_later_2x_stepped2_typical_total</th><th>wsu_nvis_later_2x_stepped2_typical_target_tot</th><th>wsu_nvis_later_2x_stepped2_typical_cal</th><th>wsu_nvis_later_2x_stepped2_typical_total</th><th>wsu_productsize_later_4x_stepped2</th><th>wsu_datarate_later_4x_stepped2_typical</th><th>wsu_visrate_later_4x_stepped2_typical</th><th>wsu_datavol_later_4x_stepped2_typical_target_tot</th><th>wsu_datavol_later_4x_stepped2_typical_cal</th><th>wsu_datavol_later_4x_stepped2_typical_total</th><th>wsu_nvis_later_4x_stepped2_typical_target_tot</th><th>wsu_nvis_later_4x_stepped2_typical_cal</th><th>wsu_nvis_later_4x_stepped2_typical_total</th><th>blc_datarate_typical</th><th>blc_visrate_typical</th><th>blc_datavol_typical_target_tot</th><th>blc_datavol_typical_cal</th><th>blc_datavol_typical_total</th><th>blc_nvis_typical_target_tot</th><th>blc_nvis_typical_cal</th><th>blc_nvis_typical_total</th><th>plversion</th><th>procedure</th><th>nant</th><th>pl_totaltime</th><th>pl_imgtime</th><th>pl_cubetime</th><th>pl_aggtime</th><th>pl_fctime</th><th>nEB</th><th>npt</th><th>nscan</th><th>reptgt</th><th>allowedcubesize</th><th>allowedcubelimit</th><th>predcubesize</th><th>mitigatedcubesize</th><th>allowedprodsize</th><th>initialprodsize</th><th>mitigatedprodsize</th><th>mitigated</th><th>mit_nbins</th><th>mit_hm_imsize</th><th>mit_hm_cell</th><th>mit_field</th><th>mit_spw</th><th>pl_caltime</th></tr></thead>\n",
       "<thead><tr><th></th><th></th><th></th><th></th><th></th><th></th><th></th><th></th><th>deg</th><th>arcsec</th><th></th><th></th><th>arcsec</th><th>arcsec</th><th></th><th></th><th>kHz</th><th>GHz</th><th>km / s</th><th></th><th></th><th>GHz</th><th>GHz</th><th>GHz</th><th></th><th>GHz</th><th>GHz</th><th>GHz</th><th>GHz</th><th></th><th></th><th></th><th>kHz</th><th></th><th>km / s</th><th>kHz</th><th></th><th>km / s</th><th>kHz</th><th></th><th>km / s</th><th>s</th><th></th><th></th><th></th><th></th><th></th><th></th><th></th><th></th><th></th><th></th><th></th><th></th><th>m</th><th>s</th><th>s</th><th>s</th><th>s</th><th>s</th><th>s</th><th>s</th><th>s</th><th>s</th><th>Gbyte</th><th>Gbyte</th><th>Gbyte</th><th>Gbyte / s</th><th>Gvis / h</th><th>Gbyte</th><th>Gbyte</th><th>Gbyte</th><th>Gvis</th><th>Gvis</th><th>Gvis</th><th>Gbyte</th><th>Gbyte / s</th><th>Gvis / h</th><th>Gbyte</th><th>Gbyte</th><th>Gbyte</th><th>Gvis</th><th>Gvis</th><th>Gvis</th><th>Gbyte</th><th>Gbyte / s</th><th>Gvis / h</th><th>Gbyte</th><th>Gbyte</th><th>Gbyte</th><th>Gvis</th><th>Gvis</th><th>Gvis</th><th>Gbyte / s</th><th>Gvis / h</th><th>Gbyte</th><th>Gbyte</th><th>Gbyte</th><th>Gvis</th><th>Gvis</th><th>Gvis</th><th></th><th></th><th></th><th>h</th><th>h</th><th>h</th><th>h</th><th>h</th><th></th><th></th><th></th><th></th><th>Gbyte</th><th>Gbyte</th><th>Gbyte</th><th>Gbyte</th><th>Gbyte</th><th>Gbyte</th><th>Gbyte</th><th></th><th></th><th></th><th></th><th></th><th></th><th>h</th></tr></thead>\n",
       "<thead><tr><th>str22</th><th>str14</th><th>str3</th><th>int64</th><th>int64</th><th>int64</th><th>float64</th><th>float64</th><th>float64</th><th>float64</th><th>str1</th><th>float64</th><th>float64</th><th>float64</th><th>int64</th><th>int64</th><th>float64</th><th>float64</th><th>float64</th><th>float64</th><th>float64</th><th>float64</th><th>float64</th><th>float64</th><th>int64</th><th>float64</th><th>float64</th><th>float64</th><th>float64</th><th>int64</th><th>int64</th><th>int64</th><th>float64</th><th>float64</th><th>float64</th><th>float64</th><th>float64</th><th>float64</th><th>float64</th><th>float64</th><th>float64</th><th>float64</th><th>float64</th><th>float64</th><th>float64</th><th>float64</th><th>float64</th><th>float64</th><th>float64</th><th>float64</th><th>float64</th><th>float64</th><th>str14</th><th>str3</th><th>float64</th><th>float64</th><th>float64</th><th>float64</th><th>float64</th><th>float64</th><th>float64</th><th>float64</th><th>float64</th><th>float64</th><th>float64</th><th>float64</th><th>float64</th><th>float64</th><th>float64</th><th>float64</th><th>float64</th><th>float64</th><th>float64</th><th>float64</th><th>float64</th><th>float64</th><th>float64</th><th>float64</th><th>float64</th><th>float64</th><th>float64</th><th>float64</th><th>float64</th><th>float64</th><th>float64</th><th>float64</th><th>float64</th><th>float64</th><th>float64</th><th>float64</th><th>float64</th><th>float64</th><th>float64</th><th>float64</th><th>float64</th><th>float64</th><th>float64</th><th>float64</th><th>float64</th><th>float64</th><th>float64</th><th>str4</th><th>str20</th><th>object</th><th>object</th><th>object</th><th>object</th><th>object</th><th>object</th><th>object</th><th>object</th><th>object</th><th>str29</th><th>object</th><th>object</th><th>object</th><th>object</th><th>object</th><th>object</th><th>object</th><th>object</th><th>str64</th><th>str7</th><th>str7</th><th>str769</th><th>str44</th><th>float64</th></tr></thead>\n",
       "<tr><td>uid://A001/X158f/X115</td><td>2021.1.01571.S</td><td>12m</td><td>47</td><td>54</td><td>66</td><td>7.0</td><td>1.0</td><td>0.0045375135989717905</td><td>0.2911647419354411</td><td>F</td><td>430.0</td><td>16.331349317037823</td><td>0.05823294838708822</td><td>2</td><td>4</td><td>31160.819141109412</td><td>356.47101883940036</td><td>25.85577672790684</td><td>512.0</td><td>128.0</td><td>2.0</td><td>8.0</td><td>356.47101883940036</td><td>2</td><td>8.0</td><td>16.0</td><td>32.0</td><td>1.6</td><td>5</td><td>10</td><td>20</td><td>31158.0</td><td>2308.0</td><td>26.203906945300194</td><td>11880.0</td><td>880.0</td><td>9.991091036336297</td><td>11880.0</td><td>880.0</td><td>9.991091036336297</td><td>3.024</td><td>51.0</td><td>134.0</td><td>134.0</td><td>0.022442217115002588</td><td>0.044884434230005175</td><td>0.08976886846001035</td><td>0.004488443423000517</td><td>1081.0</td><td>1431.0</td><td>2145.0</td><td>2021.1.01571.S</td><td>12m</td><td>341.9766</td><td>6.05</td><td>302.4</td><td>0.0</td><td>90.72</td><td>0.0</td><td>0.0</td><td>453.6</td><td>846.72</td><td>393.12</td><td>0.0007396</td><td>0.0991064</td><td>0.9984599999999999</td><td>0.001999365079365079</td><td>3.4489047619047617</td><td>0.9069119999999999</td><td>0.7859903999999999</td><td>1.6929024</td><td>0.434562</td><td>0.3766204</td><td>0.8111824</td><td>1.9969199999999998</td><td>0.003998730158730158</td><td>6.897809523809523</td><td>1.8138239999999999</td><td>1.5719807999999997</td><td>3.3858048</td><td>0.869124</td><td>0.7532408</td><td>1.6223648</td><td>3.9938399999999996</td><td>0.007997460317460316</td><td>13.795619047619047</td><td>3.6276479999999998</td><td>3.1439615999999995</td><td>6.7716096</td><td>1.738248</td><td>1.5064816</td><td>3.2447296</td><td>0.0007636839669421488</td><td>1.3173548429752064</td><td>0.3464070474049587</td><td>0.30021944108429754</td><td>0.6466264884892562</td><td>0.16598671021487602</td><td>0.14385514885289255</td><td>0.30984185906776857</td><td>2021</td><td>hifa_calimage_renorm</td><td>41</td><td>2.2647222222222223</td><td>0.3552777801619636</td><td>0.11055555555555556</td><td>0.041666666666666664</td><td>0.02638889127307468</td><td>1</td><td>1</td><td>2</td><td>SPT0125-47</td><td>40.0</td><td>60.0</td><td>0.128</td><td>0.128</td><td>500.0</td><td>1.03</td><td>1.03</td><td>False</td><td>default</td><td>default</td><td>default</td><td>default</td><td>default</td><td>1.9094444420602588</td></tr>\n",
       "<tr><td>uid://A001/X158f/X13a</td><td>2021.1.01543.S</td><td>12m</td><td>47</td><td>54</td><td>66</td><td>3.0</td><td>1.0</td><td>0.016370669248356715</td><td>3.2510106691183673</td><td>F</td><td>140.0</td><td>59.27082942119824</td><td>0.6502021338236735</td><td>2</td><td>20</td><td>7727.466820763161</td><td>98.80399468281071</td><td>20.998292318707925</td><td>4800.0</td><td>240.0</td><td>1.875</td><td>37.5</td><td>98.80399468281071</td><td>2</td><td>8.0</td><td>16.0</td><td>32.0</td><td>1.6</td><td>5</td><td>10</td><td>20</td><td>7722.0</td><td>572.0</td><td>23.430200045127812</td><td>3294.0</td><td>244.0</td><td>9.994700718551027</td><td>3294.0</td><td>244.0</td><td>9.994700718551027</td><td>3.024</td><td>207.0</td><td>485.0</td><td>485.0</td><td>0.08096838620424512</td><td>0.16193677240849025</td><td>0.3238735448169805</td><td>0.01619367724084903</td><td>1081.0</td><td>1431.0</td><td>2145.0</td><td>2021.1.01543.S</td><td>12m</td><td>110.20184</td><td>6.05</td><td>3024.0</td><td>0.0</td><td>604.8</td><td>0.0</td><td>0.0</td><td>1512.0</td><td>5140.8</td><td>3628.8</td><td>7.84e-05</td><td>0.038024</td><td>0.38102400000000003</td><td>0.007236507936507937</td><td>12.48297619047619</td><td>10.941600000000001</td><td>26.259840000000004</td><td>37.201440000000005</td><td>5.24285</td><td>12.58284</td><td>17.82569</td><td>0.7620480000000001</td><td>0.014473015873015874</td><td>24.96595238095238</td><td>21.883200000000002</td><td>52.51968000000001</td><td>74.40288000000001</td><td>10.4857</td><td>25.16568</td><td>35.65138</td><td>1.5240960000000001</td><td>0.028946031746031747</td><td>49.93190476190476</td><td>43.766400000000004</td><td>105.03936000000002</td><td>148.80576000000002</td><td>20.9714</td><td>50.33136</td><td>71.30276</td><td>0.0071595371900826455</td><td>12.350201652892563</td><td>10.82522023140496</td><td>25.980528555371905</td><td>36.80574878677687</td><td>5.187084694214876</td><td>12.449003266115703</td><td>17.63608796033058</td><td>2021</td><td>hifa_calimage_renorm</td><td>42</td><td>22.008055555555554</td><td>1.261388878027598</td><td>0.2633333333333333</td><td>0.07833333333333334</td><td>0.08444443358315362</td><td>2</td><td>1</td><td>5</td><td>ACT-S_J0007.5+1606</td><td>40.0</td><td>60.0</td><td>0.0384</td><td>0.0384</td><td>500.0</td><td>1.54</td><td>1.54</td><td>False</td><td>default</td><td>default</td><td>default</td><td>default</td><td>default</td><td>20.746666677527955</td></tr>\n",
       "<tr><td>uid://A001/X158f/X142</td><td>2021.1.01543.S</td><td>12m</td><td>47</td><td>54</td><td>66</td><td>3.0</td><td>1.0</td><td>0.016369146727628202</td><td>2.782605450987199</td><td>F</td><td>160.0</td><td>59.26537233287519</td><td>0.5565210901974396</td><td>2</td><td>20</td><td>966.0415709169566</td><td>98.81309245345668</td><td>2.6250367912778914</td><td>76800.0</td><td>3840.0</td><td>1.875</td><td>37.5</td><td>98.81309245345668</td><td>2</td><td>8.0</td><td>16.0</td><td>32.0</td><td>1.6</td><td>5</td><td>10</td><td>20</td><td>958.5</td><td>71.0</td><td>2.908026293462571</td><td>324.0</td><td>24.0</td><td>0.9829948034239677</td><td>648.0</td><td>48.0</td><td>1.9659896068479354</td><td>3.024</td><td>1669.0</td><td>4938.0</td><td>2469.0</td><td>0.08096093140459287</td><td>0.16192186280918575</td><td>0.3238437256183715</td><td>0.016192186280918577</td><td>1081.0</td><td>1431.0</td><td>2145.0</td><td>2021.1.01543.S</td><td>12m</td><td>129.0898</td><td>6.05</td><td>1512.0</td><td>0.0</td><td>302.4</td><td>0.0</td><td>0.0</td><td>756.0</td><td>2570.4</td><td>1814.4</td><td>0.0001024</td><td>0.2528256</td><td>2.52928</td><td>0.03683904761904762</td><td>63.547357142857145</td><td>27.85032</td><td>66.840768</td><td>94.69108800000001</td><td>13.344945</td><td>32.027868</td><td>45.37281300000001</td><td>5.05856</td><td>0.07367809523809524</td><td>127.09471428571429</td><td>55.70064</td><td>133.681536</td><td>189.38217600000002</td><td>26.68989</td><td>64.055736</td><td>90.74562600000002</td><td>10.11712</td><td>0.14735619047619047</td><td>254.18942857142858</td><td>111.40128</td><td>267.363072</td><td>378.76435200000003</td><td>53.37978</td><td>128.111472</td><td>181.49125200000003</td><td>0.11455259504132233</td><td>197.603226446281</td><td>86.60176185123969</td><td>207.84422844297524</td><td>294.44599029421494</td><td>41.49667755371901</td><td>99.59202612892562</td><td>141.08870368264465</td><td>2021</td><td>hifa_calimage_renorm</td><td>42</td><td>28.948888888888888</td><td>7.481111142635346</td><td>5.016111111111111</td><td>0.3327777777777778</td><td>0.6019444759686788</td><td>1</td><td>1</td><td>5</td><td>ACT-S_J0503.2-3609</td><td>40.0</td><td>60.0</td><td>0.96</td><td>0.96</td><td>500.0</td><td>38.4</td><td>38.4</td><td>False</td><td>default</td><td>default</td><td>default</td><td>default</td><td>default</td><td>21.467777746253542</td></tr>\n",
       "<tr><td>uid://A001/X158f/X146</td><td>2021.1.01543.S</td><td>12m</td><td>47</td><td>54</td><td>66</td><td>3.0</td><td>1.0</td><td>0.016372897494422896</td><td>2.67464628092988</td><td>F</td><td>170.0</td><td>59.27895218491757</td><td>0.534929256185976</td><td>2</td><td>20</td><td>965.8202663709701</td><td>98.79045596738686</td><td>2.6250367912778914</td><td>76800.0</td><td>3840.0</td><td>1.875</td><td>37.5</td><td>98.79045596738686</td><td>2</td><td>8.0</td><td>16.0</td><td>32.0</td><td>1.6</td><td>5</td><td>10</td><td>20</td><td>958.5</td><td>71.0</td><td>2.90869262803951</td><td>324.0</td><td>24.0</td><td>0.9832200432809611</td><td>648.0</td><td>48.0</td><td>1.9664400865619223</td><td>3.024</td><td>1669.0</td><td>4938.0</td><td>2469.0</td><td>0.08097948249819796</td><td>0.16195896499639592</td><td>0.32391792999279184</td><td>0.01619589649963959</td><td>1081.0</td><td>1431.0</td><td>2145.0</td><td>2021.1.01543.S</td><td>12m</td><td>134.33105</td><td>6.05</td><td>3024.0</td><td>0.0</td><td>604.8</td><td>0.0</td><td>0.0</td><td>1512.0</td><td>5140.8</td><td>3628.8</td><td>0.0001156</td><td>0.2854164</td><td>2.85532</td><td>0.03683904761904762</td><td>63.547357142857145</td><td>55.70064</td><td>133.681536</td><td>189.38217600000002</td><td>26.68989</td><td>64.055736</td><td>90.74562600000002</td><td>5.71064</td><td>0.07367809523809524</td><td>127.09471428571429</td><td>111.40128</td><td>267.363072</td><td>378.76435200000003</td><td>53.37978</td><td>128.111472</td><td>181.49125200000003</td><td>11.42128</td><td>0.14735619047619047</td><td>254.18942857142858</td><td>222.80256</td><td>534.726144</td><td>757.5287040000001</td><td>106.75956</td><td>256.222944</td><td>362.98250400000006</td><td>0.11455259504132233</td><td>197.603226446281</td><td>173.20352370247937</td><td>415.6884568859505</td><td>588.8919805884299</td><td>82.99335510743802</td><td>199.18405225785125</td><td>282.1774073652893</td><td>2021</td><td>hifa_calimage_renorm</td><td>44</td><td>30.290555555555557</td><td>6.273333328829871</td><td>3.9716666666666667</td><td>0.31805555555555554</td><td>0.5511111066076491</td><td>1</td><td>1</td><td>5</td><td>ACT-S_J2114.9+0557</td><td>40.0</td><td>60.0</td><td>0.96</td><td>0.96</td><td>500.0</td><td>38.4</td><td>38.4</td><td>False</td><td>default</td><td>default</td><td>default</td><td>default</td><td>default</td><td>24.017222226725686</td></tr>\n",
       "<tr><td>uid://A001/X158f/X14a</td><td>2021.1.01543.S</td><td>12m</td><td>47</td><td>54</td><td>66</td><td>3.0</td><td>1.0</td><td>0.016371873969355813</td><td>2.882049505691609</td><td>F</td><td>160.0</td><td>59.27518769807356</td><td>0.5764099011383215</td><td>2</td><td>20</td><td>965.8816056364767</td><td>98.79673000386387</td><td>2.625036791277892</td><td>76800.0</td><td>3840.0</td><td>1.875</td><td>37.5</td><td>98.79673000386387</td><td>2</td><td>8.0</td><td>16.0</td><td>32.0</td><td>1.6</td><td>5</td><td>10</td><td>20</td><td>958.5</td><td>71.0</td><td>2.9085079129821594</td><td>324.0</td><td>24.0</td><td>0.9831576043883354</td><td>648.0</td><td>48.0</td><td>1.9663152087766709</td><td>3.024</td><td>1669.0</td><td>4938.0</td><td>2469.0</td><td>0.08097433993703157</td><td>0.16194867987406314</td><td>0.3238973597481263</td><td>0.016194867987406315</td><td>1081.0</td><td>1431.0</td><td>2145.0</td><td>2021.1.01543.S</td><td>12m</td><td>123.74107</td><td>6.05</td><td>3024.0</td><td>0.0</td><td>604.8</td><td>0.0</td><td>0.0</td><td>1512.0</td><td>5140.8</td><td>3628.8</td><td>0.0001024</td><td>0.2528256</td><td>2.52928</td><td>0.03683904761904762</td><td>63.547357142857145</td><td>55.70064</td><td>133.681536</td><td>189.38217600000002</td><td>26.68989</td><td>64.055736</td><td>90.74562600000002</td><td>5.05856</td><td>0.07367809523809524</td><td>127.09471428571429</td><td>111.40128</td><td>267.363072</td><td>378.76435200000003</td><td>53.37978</td><td>128.111472</td><td>181.49125200000003</td><td>10.11712</td><td>0.14735619047619047</td><td>254.18942857142858</td><td>222.80256</td><td>534.726144</td><td>757.5287040000001</td><td>106.75956</td><td>256.222944</td><td>362.98250400000006</td><td>0.11455259504132233</td><td>197.603226446281</td><td>173.20352370247937</td><td>415.6884568859505</td><td>588.8919805884299</td><td>82.99335510743802</td><td>199.18405225785125</td><td>282.1774073652893</td><td>2021</td><td>hifa_calimage_renorm</td><td>42</td><td>51.75111111111111</td><td>8.688888887034523</td><td>5.3052777777777775</td><td>0.596388888888889</td><td>0.6616666648123</td><td>2</td><td>1</td><td>5</td><td>ACT-S_J2154.4-0410</td><td>40.0</td><td>60.0</td><td>1.12</td><td>1.12</td><td>500.0</td><td>44.8</td><td>44.8</td><td>False</td><td>default</td><td>default</td><td>default</td><td>default</td><td>default</td><td>43.062222224076585</td></tr>\n",
       "<tr><td>uid://A001/X158f/X162</td><td>2021.1.01543.S</td><td>12m</td><td>47</td><td>54</td><td>66</td><td>3.0</td><td>1.0</td><td>0.016369206884524156</td><td>3.2665774476859673</td><td>F</td><td>140.0</td><td>59.26559013413854</td><td>0.6533154895371936</td><td>2</td><td>20</td><td>7728.149946101046</td><td>98.81272931497574</td><td>20.99829231870792</td><td>4800.0</td><td>240.0</td><td>1.875</td><td>37.5</td><td>98.81272931497574</td><td>2</td><td>8.0</td><td>16.0</td><td>32.0</td><td>1.6</td><td>5</td><td>10</td><td>20</td><td>7722.0</td><td>572.0</td><td>23.428128913398474</td><td>3294.0</td><td>244.0</td><td>9.993817228792356</td><td>3294.0</td><td>244.0</td><td>9.993817228792356</td><td>3.024</td><td>207.0</td><td>485.0</td><td>485.0</td><td>0.08096122893740924</td><td>0.1619224578748185</td><td>0.323844915749637</td><td>0.016192245787481848</td><td>1081.0</td><td>1431.0</td><td>2145.0</td><td>2021.1.01543.S</td><td>12m</td><td>109.96343</td><td>6.05</td><td>1512.0</td><td>0.0</td><td>302.4</td><td>0.0</td><td>0.0</td><td>756.0</td><td>2570.4</td><td>1814.4</td><td>7.84e-05</td><td>0.038024</td><td>0.38102400000000003</td><td>0.007236507936507937</td><td>12.48297619047619</td><td>5.4708000000000006</td><td>13.129920000000002</td><td>18.600720000000003</td><td>2.621425</td><td>6.29142</td><td>8.912845</td><td>0.7620480000000001</td><td>0.014473015873015874</td><td>24.96595238095238</td><td>10.941600000000001</td><td>26.259840000000004</td><td>37.201440000000005</td><td>5.24285</td><td>12.58284</td><td>17.82569</td><td>1.5240960000000001</td><td>0.028946031746031747</td><td>49.93190476190476</td><td>21.883200000000002</td><td>52.51968000000001</td><td>74.40288000000001</td><td>10.4857</td><td>25.16568</td><td>35.65138</td><td>0.0071595371900826455</td><td>12.350201652892563</td><td>5.41261011570248</td><td>12.990264277685952</td><td>18.402874393388434</td><td>2.593542347107438</td><td>6.2245016330578515</td><td>8.81804398016529</td><td>2021</td><td>hifa_calimage_renorm</td><td>46</td><td>14.667222222222222</td><td>1.2019444462988111</td><td>0.3075</td><td>0.06166666666666667</td><td>0.08000000185436673</td><td>1</td><td>1</td><td>5</td><td>ACT-S_J0244.6+1501</td><td>40.0</td><td>60.0</td><td>0.06</td><td>0.06</td><td>500.0</td><td>2.41</td><td>2.41</td><td>False</td><td>default</td><td>default</td><td>default</td><td>default</td><td>default</td><td>13.465277775923411</td></tr>\n",
       "<tr><td>...</td><td>...</td><td>...</td><td>...</td><td>...</td><td>...</td><td>...</td><td>...</td><td>...</td><td>...</td><td>...</td><td>...</td><td>...</td><td>...</td><td>...</td><td>...</td><td>...</td><td>...</td><td>...</td><td>...</td><td>...</td><td>...</td><td>...</td><td>...</td><td>...</td><td>...</td><td>...</td><td>...</td><td>...</td><td>...</td><td>...</td><td>...</td><td>...</td><td>...</td><td>...</td><td>...</td><td>...</td><td>...</td><td>...</td><td>...</td><td>...</td><td>...</td><td>...</td><td>...</td><td>...</td><td>...</td><td>...</td><td>...</td><td>...</td><td>...</td><td>...</td><td>...</td><td>...</td><td>...</td><td>...</td><td>...</td><td>...</td><td>...</td><td>...</td><td>...</td><td>...</td><td>...</td><td>...</td><td>...</td><td>...</td><td>...</td><td>...</td><td>...</td><td>...</td><td>...</td><td>...</td><td>...</td><td>...</td><td>...</td><td>...</td><td>...</td><td>...</td><td>...</td><td>...</td><td>...</td><td>...</td><td>...</td><td>...</td><td>...</td><td>...</td><td>...</td><td>...</td><td>...</td><td>...</td><td>...</td><td>...</td><td>...</td><td>...</td><td>...</td><td>...</td><td>...</td><td>...</td><td>...</td><td>...</td><td>...</td><td>...</td><td>...</td><td>...</td><td>...</td><td>...</td><td>...</td><td>...</td><td>...</td><td>...</td><td>...</td><td>...</td><td>...</td><td>...</td><td>...</td><td>...</td><td>...</td><td>...</td><td>...</td><td>...</td><td>...</td><td>...</td><td>...</td><td>...</td><td>...</td><td>...</td><td>...</td><td>...</td></tr>\n",
       "<tr><td>uid://A001/X2dfa/X144</td><td>2021.A.00023.S</td><td>12m</td><td>47</td><td>54</td><td>66</td><td>7.0</td><td>1.0</td><td>0.005432257867583187</td><td>0.5232648706898014</td><td>F</td><td>290.0</td><td>19.55433136228538</td><td>0.10465297413796029</td><td>2</td><td>4</td><td>3891.9013337073725</td><td>297.75575464903073</td><td>3.8542419972118083</td><td>1920.0</td><td>480.0</td><td>1.875</td><td>7.5</td><td>297.75575464903073</td><td>2</td><td>8.0</td><td>16.0</td><td>32.0</td><td>1.6</td><td>5</td><td>10</td><td>20</td><td>3888.0</td><td>288.0</td><td>3.914594624973419</td><td>985.5</td><td>73.0</td><td>0.9922409986911791</td><td>1984.5</td><td>147.0</td><td>1.9980743398301826</td><td>3.024</td><td>411.0</td><td>1623.0</td><td>806.0</td><td>0.026867658727300577</td><td>0.05373531745460115</td><td>0.1074706349092023</td><td>0.0053735317454601155</td><td>1081.0</td><td>1431.0</td><td>2145.0</td><td>2021.A.00023.S</td><td>12m</td><td>219.45287</td><td>6.05</td><td>1814.4</td><td>0.0</td><td>544.32</td><td>0.0</td><td>0.0</td><td>6471.36</td><td>8830.08</td><td>2358.7200000000003</td><td>0.0003364</td><td>0.2711384</td><td>2.714748</td><td>0.012026031746031746</td><td>20.74490476190476</td><td>77.8247808</td><td>28.366041600000003</td><td>106.1908224</td><td>37.29104079999999</td><td>13.592061600000001</td><td>50.88310239999999</td><td>5.429496</td><td>0.024052063492063493</td><td>41.48980952380952</td><td>155.6495616</td><td>56.732083200000005</td><td>212.3816448</td><td>74.58208159999998</td><td>27.184123200000002</td><td>101.76620479999998</td><td>10.858992</td><td>0.048104126984126985</td><td>82.97961904761904</td><td>311.2991232</td><td>113.46416640000001</td><td>424.7632896</td><td>149.16416319999996</td><td>54.368246400000004</td><td>203.53240959999997</td><td>0.002863814876033058</td><td>4.940080661157024</td><td>18.53277703616529</td><td>6.754937424396695</td><td>25.287714460561983</td><td>8.880288996495866</td><td>3.236740849190083</td><td>12.117029845685948</td><td>2021</td><td>hifa_calimage_renorm</td><td>43</td><td>15.186111111111112</td><td>1.075277764002482</td><td>0.2808333333333333</td><td>0.1847222222222222</td><td>0.21055554178025987</td><td>2</td><td>1</td><td>8</td><td>GLz11</td><td>40.0</td><td>60.0</td><td>0.283</td><td>0.283</td><td>500.0</td><td>2.27</td><td>2.27</td><td>False</td><td>default</td><td>default</td><td>default</td><td>default</td><td>default</td><td>14.11083334710863</td></tr>\n",
       "<tr><td>uid://A001/X2dfa/X31</td><td>2021.A.00026.S</td><td>12m</td><td>47</td><td>54</td><td>66</td><td>3.0</td><td>1.0</td><td>0.01617571736123677</td><td>0.6673839526848321</td><td>F</td><td>670.0</td><td>58.42916113372068</td><td>0.13347679053696643</td><td>2</td><td>4</td><td>30918.55801024583</td><td>99.97907608523947</td><td>88.39320752767087</td><td>512.0</td><td>128.0</td><td>2.0</td><td>8.0</td><td>99.97907608523947</td><td>2</td><td>8.0</td><td>16.0</td><td>32.0</td><td>1.6</td><td>5</td><td>10</td><td>20</td><td>30915.0</td><td>2290.0</td><td>92.70023490883513</td><td>3334.5</td><td>247.0</td><td>9.998671625538112</td><td>3334.5</td><td>247.0</td><td>9.998671625538112</td><td>3.024</td><td>51.0</td><td>479.0</td><td>479.0</td><td>0.0800167426350231</td><td>0.1600334852700462</td><td>0.3200669705400924</td><td>0.01600334852700462</td><td>1081.0</td><td>1431.0</td><td>2145.0</td><td>2021.A.00026.S</td><td>12m</td><td>531.8683</td><td>6.05</td><td>302.4</td><td>0.0</td><td>60.48</td><td>0.0</td><td>0.0</td><td>302.4</td><td>665.28</td><td>362.88</td><td>0.0017956</td><td>0.8600924</td><td>8.61888</td><td>0.007146984126984127</td><td>12.328547619047619</td><td>2.1612479999999996</td><td>2.5934976</td><td>4.7547456</td><td>1.0355979999999998</td><td>1.2427176</td><td>2.2783156</td><td>17.23776</td><td>0.014293968253968253</td><td>24.657095238095238</td><td>4.322495999999999</td><td>5.1869952</td><td>9.5094912</td><td>2.0711959999999996</td><td>2.4854352</td><td>4.5566312</td><td>34.47552</td><td>0.028587936507936507</td><td>49.314190476190475</td><td>8.644991999999998</td><td>10.3739904</td><td>19.0189824</td><td>4.142391999999999</td><td>4.9708704</td><td>9.1132624</td><td>0.0007636839669421488</td><td>1.3173548429752064</td><td>0.23093803160330578</td><td>0.27712563792396694</td><td>0.5080636695272727</td><td>0.11065780680991733</td><td>0.13278936817190082</td><td>0.24344717498181814</td><td>2021</td><td>hifa_calimage_renorm</td><td>45</td><td>2.415833333333333</td><td>0.49277778148651125</td><td>0.12222222222222222</td><td>0.08916666666666666</td><td>0.040555559264289005</td><td>1</td><td>1</td><td>1</td><td>SN2018ivc</td><td>40.0</td><td>60.0</td><td>0.382</td><td>0.382</td><td>500.0</td><td>3.08</td><td>3.08</td><td>False</td><td>default</td><td>default</td><td>default</td><td>default</td><td>default</td><td>1.9230555518468218</td></tr>\n",
       "<tr><td>uid://A001/X2dfa/X35</td><td>2021.A.00026.S</td><td>12m</td><td>47</td><td>54</td><td>66</td><td>6.0</td><td>1.0</td><td>0.006470287779124912</td><td>0.2615351333141033</td><td>F</td><td>690.0</td><td>23.30547607272075</td><td>0.05230702666282065</td><td>2</td><td>4</td><td>31120.21908426349</td><td>249.98671839607223</td><td>36.31097144587433</td><td>512.0</td><td>128.0</td><td>2.0</td><td>8.0</td><td>249.98671839607223</td><td>2</td><td>16.0</td><td>16.0</td><td>32.0</td><td>1.6</td><td>10</td><td>10</td><td>20</td><td>31117.5</td><td>2305.0</td><td>37.31714977367203</td><td>8329.5</td><td>617.0</td><td>9.989015796249735</td><td>8329.5</td><td>617.0</td><td>9.989015796249735</td><td>3.024</td><td>51.0</td><td>192.0</td><td>192.0</td><td>0.06400340027124973</td><td>0.06400340027124973</td><td>0.12800680054249947</td><td>0.006400340027124973</td><td>1081.0</td><td>1431.0</td><td>2145.0</td><td>2021.A.00026.S</td><td>12m</td><td>542.88806</td><td>6.05</td><td>302.4</td><td>0.0</td><td>90.72</td><td>0.0</td><td>60.48</td><td>574.56</td><td>1028.1599999999999</td><td>453.6</td><td>0.0019044</td><td>0.3656448</td><td>7.3509839999999995</td><td>0.005729523809523809</td><td>9.88342857142857</td><td>3.2919551999999994</td><td>2.598912</td><td>5.890867199999999</td><td>1.5773951999999998</td><td>1.245312</td><td>2.8227071999999995</td><td>7.3509839999999995</td><td>0.005729523809523809</td><td>9.88342857142857</td><td>3.2919551999999994</td><td>2.598912</td><td>5.890867199999999</td><td>1.5773951999999998</td><td>1.245312</td><td>2.8227071999999995</td><td>14.701967999999999</td><td>0.011459047619047619</td><td>19.76685714285714</td><td>6.583910399999999</td><td>5.197824</td><td>11.781734399999998</td><td>3.1547903999999996</td><td>2.490624</td><td>5.645414399999999</td><td>0.0007636839669421488</td><td>1.3173548429752064</td><td>0.43878226004628096</td><td>0.3464070474049587</td><td>0.7851893074512396</td><td>0.21024983293884295</td><td>0.16598671021487602</td><td>0.3762365431537189</td><td>2021</td><td>hifa_calimage_renorm</td><td>45</td><td>3.070555555555556</td><td>0.6230555372767979</td><td>0.22166666666666668</td><td>0.0961111111111111</td><td>0.04666664838790893</td><td>1</td><td>1</td><td>2</td><td>SN2018ivc</td><td>40.0</td><td>60.0</td><td>0.328</td><td>0.328</td><td>500.0</td><td>2.64</td><td>2.64</td><td>False</td><td>default</td><td>default</td><td>default</td><td>default</td><td>default</td><td>2.447500018278758</td></tr>\n",
       "<tr><td>uid://A001/X2dfa/X3b</td><td>2021.A.00030.S</td><td>12m</td><td>47</td><td>54</td><td>66</td><td>6.0</td><td>1.0</td><td>0.006994215289678344</td><td>0.4459354268065195</td><td>F</td><td>430.0</td><td>25.191705300323946</td><td>0.0891870853613039</td><td>2</td><td>4</td><td>7779.1514907499895</td><td>231.25939830567333</td><td>9.81868747324187</td><td>960.0</td><td>240.0</td><td>1.875</td><td>7.5</td><td>231.25939830567333</td><td>2</td><td>16.0</td><td>16.0</td><td>32.0</td><td>1.6</td><td>10</td><td>10</td><td>20</td><td>7776.0</td><td>576.0</td><td>10.080395307120412</td><td>769.5</td><td>57.0</td><td>0.9975391189337909</td><td>1539.0</td><td>114.0</td><td>1.9950782378675818</td><td>3.024</td><td>205.0</td><td>2079.0</td><td>1039.0</td><td>0.06918637736336047</td><td>0.06918637736336047</td><td>0.13837275472672095</td><td>0.006918637736336048</td><td>1081.0</td><td>1431.0</td><td>2145.0</td><td>2021.A.00030.S</td><td>12m</td><td>337.97833</td><td>6.05</td><td>1512.0</td><td>0.0</td><td>756.0</td><td>0.0</td><td>0.0</td><td>8830.08</td><td>11098.08</td><td>2268.0</td><td>0.0007396</td><td>0.7684444</td><td>15.38368</td><td>0.031005079365079367</td><td>53.4837619047619</td><td>273.7773312</td><td>70.31952000000001</td><td>344.0968512</td><td>131.18497119999998</td><td>33.69477</td><td>164.87974119999996</td><td>15.38368</td><td>0.031005079365079367</td><td>53.4837619047619</td><td>273.7773312</td><td>70.31952000000001</td><td>344.0968512</td><td>131.18497119999998</td><td>33.69477</td><td>164.87974119999996</td><td>30.76736</td><td>0.062010158730158735</td><td>106.9675238095238</td><td>547.5546624</td><td>140.63904000000002</td><td>688.1937024</td><td>262.36994239999996</td><td>67.38954</td><td>329.7594823999999</td><td>0.001431907438016529</td><td>2.470040330578512</td><td>12.643857230280991</td><td>3.2475660694214876</td><td>15.89142329970248</td><td>6.058514922842974</td><td>1.5561254082644627</td><td>7.614640331107436</td><td>2021</td><td>hifa_calimage</td><td>45</td><td>21.31888888888889</td><td>3.288611111376021</td><td>1.1177777777777778</td><td>0.2897222222222222</td><td>1.021944444709354</td><td>4</td><td>1</td><td>5</td><td>J0410</td><td>40.0</td><td>60.0</td><td>0.319</td><td>0.319</td><td>500.0</td><td>2.56</td><td>2.56</td><td>False</td><td>default</td><td>default</td><td>default</td><td>default</td><td>default</td><td>18.030277777512868</td></tr>\n",
       "<tr><td>uid://A001/X2dfa/X7d</td><td>2021.A.00031.S</td><td>12m</td><td>47</td><td>54</td><td>66</td><td>7.0</td><td>1.0</td><td>0.004729663751037771</td><td>0.49239980824463386</td><td>F</td><td>270.0</td><td>17.024344790855686</td><td>0.09847996164892678</td><td>2</td><td>4</td><td>31156.484611738135</td><td>341.9719024574107</td><td>26.921950358357705</td><td>512.0</td><td>128.0</td><td>2.0</td><td>8.0</td><td>341.9719024574107</td><td>2</td><td>8.0</td><td>16.0</td><td>32.0</td><td>1.6</td><td>5</td><td>10</td><td>20</td><td>31144.5</td><td>2307.0</td><td>27.30307999308165</td><td>11394.0</td><td>844.0</td><td>9.988643049051111</td><td>11394.0</td><td>844.0</td><td>9.988643049051111</td><td>3.024</td><td>51.0</td><td>140.0</td><td>140.0</td><td>0.023393734814211302</td><td>0.046787469628422604</td><td>0.09357493925684521</td><td>0.004678746962842261</td><td>1081.0</td><td>1431.0</td><td>2145.0</td><td>2021.A.00031.S</td><td>12m</td><td>210.78053</td><td>6.05</td><td>604.8</td><td>0.0</td><td>120.96</td><td>0.0</td><td>0.0</td><td>677.376</td><td>1403.136</td><td>725.76</td><td>0.0002916</td><td>0.040824</td><td>0.411156</td><td>0.002088888888888889</td><td>3.603333333333333</td><td>1.4149631999999999</td><td>1.516032</td><td>2.9309952</td><td>0.6780031999999999</td><td>0.726432</td><td>1.4044351999999998</td><td>0.822312</td><td>0.004177777777777778</td><td>7.206666666666666</td><td>2.8299263999999997</td><td>3.032064</td><td>5.8619904</td><td>1.3560063999999998</td><td>1.452864</td><td>2.8088703999999995</td><td>1.644624</td><td>0.008355555555555555</td><td>14.413333333333332</td><td>5.6598527999999995</td><td>6.064128</td><td>11.7239808</td><td>2.7120127999999997</td><td>2.905728</td><td>5.617740799999999</td><td>0.0007636839669421488</td><td>1.3173548429752064</td><td>0.5173011907914049</td><td>0.5542512758479339</td><td>1.0715524666393388</td><td>0.24787348725421485</td><td>0.26557873634380164</td><td>0.5134522235980165</td><td>2021</td><td>hifa_calimage_renorm</td><td>43</td><td>2.2352777777777777</td><td>0.2522222275204129</td><td>0.04638888888888889</td><td>0.029444444444444447</td><td>0.021666671964857314</td><td>1</td><td>1</td><td>1</td><td>S5_z17_1</td><td>40.0</td><td>60.0</td><td>0.0755</td><td>0.0755</td><td>500.0</td><td>0.609</td><td>0.609</td><td>False</td><td>default</td><td>default</td><td>default</td><td>default</td><td>default</td><td>1.9830555502573648</td></tr>\n",
       "<tr><td>uid://A001/X2dfa/X81</td><td>2021.A.00031.S</td><td>12m</td><td>47</td><td>54</td><td>66</td><td>7.0</td><td>1.0</td><td>0.0046749855612464005</td><td>0.4862921449100933</td><td>F</td><td>270.0</td><td>16.827399874261154</td><td>0.09725842898201867</td><td>2</td><td>4</td><td>31157.562751841728</td><td>345.9717562903143</td><td>26.61600144156713</td><td>512.0</td><td>128.0</td><td>2.0</td><td>8.0</td><td>345.9717562903143</td><td>2</td><td>8.0</td><td>16.0</td><td>32.0</td><td>1.6</td><td>5</td><td>10</td><td>20</td><td>31144.5</td><td>2307.0</td><td>26.987423217131525</td><td>11529.0</td><td>854.0</td><td>9.99014279472489</td><td>11529.0</td><td>854.0</td><td>9.99014279472489</td><td>3.024</td><td>51.0</td><td>138.0</td><td>138.0</td><td>0.023123274818095216</td><td>0.04624654963619043</td><td>0.09249309927238086</td><td>0.004624654963619044</td><td>1081.0</td><td>1431.0</td><td>2145.0</td><td>2021.A.00031.S</td><td>12m</td><td>210.9593</td><td>6.05</td><td>302.4</td><td>0.0</td><td>60.48</td><td>0.0</td><td>0.0</td><td>338.688</td><td>701.568</td><td>362.88</td><td>0.0002916</td><td>0.0402408</td><td>0.405324</td><td>0.0020590476190476188</td><td>3.551857142857143</td><td>0.6973747199999999</td><td>0.7471871999999999</td><td>1.4445619199999997</td><td>0.33415872</td><td>0.35802720000000005</td><td>0.69218592</td><td>0.810648</td><td>0.0041180952380952375</td><td>7.103714285714286</td><td>1.3947494399999998</td><td>1.4943743999999999</td><td>2.8891238399999994</td><td>0.66831744</td><td>0.7160544000000001</td><td>1.38437184</td><td>1.621296</td><td>0.008236190476190475</td><td>14.207428571428572</td><td>2.7894988799999996</td><td>2.9887487999999998</td><td>5.778247679999999</td><td>1.33663488</td><td>1.4321088000000002</td><td>2.76874368</td><td>0.0007636839669421488</td><td>1.3173548429752064</td><td>0.25865059539570245</td><td>0.27712563792396694</td><td>0.5357762333196694</td><td>0.12393674362710742</td><td>0.13278936817190082</td><td>0.2567261117990082</td><td>2021</td><td>hifa_calimage_renorm</td><td>43</td><td>1.9133333333333333</td><td>0.22194444788826836</td><td>0.03638888888888889</td><td>0.0275</td><td>0.02000000344382392</td><td>1</td><td>1</td><td>1</td><td>S5_z17_1</td><td>40.0</td><td>60.0</td><td>0.0664</td><td>0.0664</td><td>500.0</td><td>0.535</td><td>0.535</td><td>False</td><td>default</td><td>default</td><td>default</td><td>default</td><td>default</td><td>1.691388885445065</td></tr>\n",
       "</table></div>"
      ],
      "text/plain": [
       "<QTable length=2191>\n",
       "         mous          proposal_id   array ... mit_spw     pl_caltime    \n",
       "                                           ...                 h         \n",
       "        str22             str14       str3 ...  str44       float64      \n",
       "--------------------- -------------- ----- ... ------- ------------------\n",
       "uid://A001/X158f/X115 2021.1.01571.S   12m ... default 1.9094444420602588\n",
       "uid://A001/X158f/X13a 2021.1.01543.S   12m ... default 20.746666677527955\n",
       "uid://A001/X158f/X142 2021.1.01543.S   12m ... default 21.467777746253542\n",
       "uid://A001/X158f/X146 2021.1.01543.S   12m ... default 24.017222226725686\n",
       "uid://A001/X158f/X14a 2021.1.01543.S   12m ... default 43.062222224076585\n",
       "uid://A001/X158f/X162 2021.1.01543.S   12m ... default 13.465277775923411\n",
       "                  ...            ...   ... ...     ...                ...\n",
       "uid://A001/X2dfa/X144 2021.A.00023.S   12m ... default  14.11083334710863\n",
       " uid://A001/X2dfa/X31 2021.A.00026.S   12m ... default 1.9230555518468218\n",
       " uid://A001/X2dfa/X35 2021.A.00026.S   12m ... default  2.447500018278758\n",
       " uid://A001/X2dfa/X3b 2021.A.00030.S   12m ... default 18.030277777512868\n",
       " uid://A001/X2dfa/X7d 2021.A.00031.S   12m ... default 1.9830555502573648\n",
       " uid://A001/X2dfa/X81 2021.A.00031.S   12m ... default  1.691388885445065"
      ]
     },
     "execution_count": 79,
     "metadata": {},
     "output_type": "execute_result"
    }
   ],
   "source": [
    "result_c8_tos_mous_mit"
   ]
  },
  {
   "cell_type": "markdown",
   "id": "5138cfa3",
   "metadata": {},
   "source": [
    "## Writing out the final file"
   ]
  },
  {
   "cell_type": "code",
   "execution_count": 80,
   "id": "0230b689",
   "metadata": {},
   "outputs": [],
   "source": [
    "# per MOUS/src\n",
    "result_tos.write('data/wsu_datarates_per_mous_src_cycle7_20230109.ecsv',overwrite=True)\n",
    "result_c8_tos.write('data/wsu_datarates_per_mous_src_cycle8_20230109.ecsv',overwrite=True)"
   ]
  },
  {
   "cell_type": "code",
   "execution_count": 81,
   "id": "d70288e6",
   "metadata": {},
   "outputs": [],
   "source": [
    "# per MOUS\n",
    "result_tos_mous_mit.write('data/wsu_datarates_mit_per_mous_cycle7_20230109.ecsv',overwrite=True)\n",
    "result_c8_tos_mous_mit.write('data/wsu_datarates_mit_per_mous_cycle8_20230109.ecsv',overwrite=True)"
   ]
  },
  {
   "cell_type": "markdown",
   "id": "dff8eb21",
   "metadata": {},
   "source": [
    "## Adding in BLC int"
   ]
  },
  {
   "cell_type": "markdown",
   "id": "93b2f3b2",
   "metadata": {},
   "source": [
    "This is a failed experiment below. The data table had the information I needed, but not for the problems in my sample."
   ]
  },
  {
   "cell_type": "code",
   "execution_count": null,
   "id": "5c6d332f",
   "metadata": {},
   "outputs": [],
   "source": [
    "# this data file might ahve what I need.\n",
    "blc_info = Table.read('data/sb_science_targets_consolidated_bl.csv')"
   ]
  },
  {
   "cell_type": "code",
   "execution_count": null,
   "id": "26b9217a",
   "metadata": {
    "scrolled": true
   },
   "outputs": [],
   "source": [
    "blc_info.columns"
   ]
  },
  {
   "cell_type": "code",
   "execution_count": null,
   "id": "22138052",
   "metadata": {
    "scrolled": true
   },
   "outputs": [],
   "source": [
    "blc_info['OBSPROJECT_UID','SB_UID','SB_NAME','FIELD_SOURCE_NAME','BLSPEC_INTEGRATION_DURATION']"
   ]
  },
  {
   "cell_type": "markdown",
   "id": "19356ae9",
   "metadata": {},
   "source": [
    " But it doesn't look liek there's overlap between my sample and this file."
   ]
  },
  {
   "cell_type": "code",
   "execution_count": null,
   "id": "30ea421b",
   "metadata": {
    "scrolled": false
   },
   "outputs": [],
   "source": [
    "plt.hist(blc_info['BLSPEC_INTEGRATION_DURATION'])"
   ]
  },
  {
   "cell_type": "markdown",
   "id": "5ef69ccc",
   "metadata": {},
   "source": [
    "But the times are either 6 or 2"
   ]
  },
  {
   "cell_type": "markdown",
   "id": "bc5da0f0",
   "metadata": {},
   "source": [
    "## Mosaic imsize investigation"
   ]
  },
  {
   "cell_type": "markdown",
   "id": "c66fcc72",
   "metadata": {},
   "source": [
    "This isn't needed for calculation. It was used to figure out what prefix factor I needed for imsizes."
   ]
  },
  {
   "cell_type": "code",
   "execution_count": null,
   "id": "6c75dfad",
   "metadata": {},
   "outputs": [],
   "source": [
    "idx = (result['mosaic'] == 'T') & (result['imsize'] >5800)\n",
    "result['mous','imsize','cell','s_fov','s_resolution','wsu_freq','pb','mosaic'][idx]"
   ]
  },
  {
   "cell_type": "code",
   "execution_count": null,
   "id": "66e84448",
   "metadata": {
    "scrolled": true
   },
   "outputs": [],
   "source": [
    "0.01056278408537675 *3600.0  "
   ]
  },
  {
   "cell_type": "markdown",
   "id": "3651795b",
   "metadata": {},
   "source": [
    "Image pre-check values for  2019.1.00796.S, uid://A001/X1471/X317\t\n",
    "\n",
    "* beam = 0.0457 x 0.0404 arcsec\n",
    "* cell = 0.0081 x 0.0081 arcsec\n",
    "\n",
    "Unmitigated imsize calculated in pipeline for X317 is 7776, 7776 according to SCG tests\n",
    "\n",
    "eye balling the spatial set up it looks like there's 10-12arcsec between pointings and the plot says the primary beam is 26.0arcsec\n",
    "\n",
    "The pipeline math is   \n",
    "\n",
    "npts <= 3\n",
    "* nxpix = int((1.65 * beam_radius_v + xspread) / cellx_v)\n",
    "\n",
    "npts >3\n",
    "* nxpix = int((1.5 * beam_radius_v + xspread) / cellx_v)\n",
    "\n",
    "We only have two pointings here.\n",
    "\n"
   ]
  },
  {
   "cell_type": "code",
   "execution_count": null,
   "id": "8637bbf3",
   "metadata": {},
   "outputs": [],
   "source": [
    "(26.0 + 10.0)"
   ]
  },
  {
   "cell_type": "code",
   "execution_count": null,
   "id": "25f87961",
   "metadata": {},
   "outputs": [],
   "source": [
    "(1.65 * 26.0 + 10.0)/0.0081"
   ]
  },
  {
   "cell_type": "markdown",
   "id": "1fcee162",
   "metadata": {},
   "source": [
    "So my estimate is a little on the low end, but not crazy"
   ]
  },
  {
   "cell_type": "code",
   "execution_count": null,
   "id": "7e23da1f",
   "metadata": {},
   "outputs": [],
   "source": [
    "(0.01044*3600+25.6*0.70)/0.0072"
   ]
  },
  {
   "cell_type": "markdown",
   "id": "648f8eaf",
   "metadata": {},
   "source": [
    "## Imsize investigation"
   ]
  },
  {
   "cell_type": "markdown",
   "id": "cf15c8e3",
   "metadata": {},
   "source": [
    "Something is  odd with my image sizes. I'm using 2019.1.01463.S uid://A001/X1465/Xc05 as my poster child\n",
    "\n",
    "For the unmitigated imaging done by the pipeline, the pipeline calculates the following values:\n",
    "* beam: 0.0322\" x 0.0211\"\n",
    "* cell: 0.0042\" x 0.0042\"\n",
    "* imsize: [11250, 11250] pixels\n",
    "* FOV: 47.25 arcsec"
   ]
  },
  {
   "cell_type": "markdown",
   "id": "502d704b",
   "metadata": {},
   "source": [
    "Now let's look at what I get from my calculations"
   ]
  },
  {
   "cell_type": "code",
   "execution_count": null,
   "id": "7d82b830",
   "metadata": {
    "scrolled": false
   },
   "outputs": [],
   "source": [
    "#2019.1.01463.S\n",
    "idx =result['mous'] == 'uid://A001/X1465/Xc05'\n",
    "result['mous','s_fov','s_resolution','imsize','wsu_nchan_final_stepped','wsu_nchan_final_finest','mosaic'][idx]"
   ]
  },
  {
   "cell_type": "code",
   "execution_count": null,
   "id": "9c062794",
   "metadata": {},
   "outputs": [],
   "source": [
    "np.log10(237037.03703703705)"
   ]
  },
  {
   "cell_type": "code",
   "execution_count": null,
   "id": "28f6e6c0",
   "metadata": {},
   "outputs": [],
   "source": [
    "np.log10(32921.81069958848)"
   ]
  },
  {
   "cell_type": "code",
   "execution_count": null,
   "id": "ec6e0df5",
   "metadata": {},
   "outputs": [],
   "source": [
    "# the imsize is\n",
    "0.007157768473981626*3600.00 # arcsec"
   ]
  },
  {
   "cell_type": "code",
   "execution_count": null,
   "id": "e6d5676e",
   "metadata": {
    "scrolled": true
   },
   "outputs": [],
   "source": [
    "# What's the estimated imsize at this frequency??\n",
    "# frequency\n",
    "freq = 218.821 #GHz\n",
    "19.4*300/218.821"
   ]
  },
  {
   "cell_type": "markdown",
   "id": "088ace75",
   "metadata": {},
   "source": [
    "This is comparable to the imsize calculated above."
   ]
  },
  {
   "cell_type": "code",
   "execution_count": null,
   "id": "419029e0",
   "metadata": {
    "scrolled": true
   },
   "outputs": [],
   "source": [
    "# What pixel size does this imply for five pixels per beam?\n",
    "0.024588/5.0"
   ]
  },
  {
   "cell_type": "code",
   "execution_count": null,
   "id": "8f7edf9f",
   "metadata": {},
   "outputs": [],
   "source": [
    "# What pixel size does this imply for six pixels per beam?\n",
    "0.024588/6.0"
   ]
  },
  {
   "cell_type": "markdown",
   "id": "c221c71f",
   "metadata": {},
   "source": [
    "What happens if I use the points_per_fov value??"
   ]
  },
  {
   "cell_type": "code",
   "execution_count": null,
   "id": "5b784163",
   "metadata": {
    "scrolled": false
   },
   "outputs": [],
   "source": [
    "idx2 = cycle7tab['member_ous_uid'] == 'uid://A001/X1465/Xc05'\n",
    "cycle7tab['proposal_id','member_ous_uid','s_fov','s_resolution','points_per_fov','spw_nchan','is_mosaic'][idx2]"
   ]
  },
  {
   "cell_type": "code",
   "execution_count": null,
   "id": "a920c9d9",
   "metadata": {},
   "outputs": [],
   "source": [
    "# imsize from points per fov value\n",
    "np.sqrt(1100957.4775723005)*5.0"
   ]
  },
  {
   "cell_type": "markdown",
   "id": "7a5ecde0",
   "metadata": {},
   "source": [
    "Matches imsize above."
   ]
  },
  {
   "cell_type": "markdown",
   "id": "8ae4e2a5",
   "metadata": {},
   "source": [
    "So it looks like the FOV is the difference:"
   ]
  },
  {
   "cell_type": "code",
   "execution_count": null,
   "id": "d2239c08",
   "metadata": {},
   "outputs": [],
   "source": [
    "(47.25/25.76)*5250"
   ]
  },
  {
   "cell_type": "markdown",
   "id": "de56434c",
   "metadata": {},
   "source": [
    "Still an underestimate, but closer."
   ]
  },
  {
   "cell_type": "markdown",
   "id": "18c981e7",
   "metadata": {},
   "source": [
    "The pipeline calculates the primary beam as\n",
    "\n",
    "primary_beam_size = \\\n",
    "            1.22 \\\n",
    "            * cqa.getvalue(cqa.convert(cqa.constants('c'), 'm/s')) \\\n",
    "            / ref_frequency \\\n",
    "            / smallest_diameter \\\n",
    "            * (180.0 * 3600.0 / math.pi)"
   ]
  },
  {
   "cell_type": "code",
   "execution_count": null,
   "id": "6e5bccad",
   "metadata": {
    "scrolled": true
   },
   "outputs": [],
   "source": [
    "1.22 * ((const.c.value /  218.821e9) / (12.0) )*(180*3600.0/math.pi)"
   ]
  },
  {
   "cell_type": "markdown",
   "id": "1dbd93ce",
   "metadata": {},
   "source": [
    "Pipeline calculation is here:\n",
    "\n",
    "beam_radius_v = primary_beam\n",
    "\n",
    "beam_fwhp = 1.12 / 1.22 * beam_radius_v\n",
    "\n",
    "nxpix = int(utils.round_half_up(1.1 * beam_fwhp * math.sqrt(-math.log(sfpblimit) / math.log(2.)) / cellx_v))"
   ]
  },
  {
   "cell_type": "code",
   "execution_count": null,
   "id": "6184df72",
   "metadata": {},
   "outputs": [],
   "source": [
    "(1.12/1.22)* 28.73"
   ]
  },
  {
   "cell_type": "code",
   "execution_count": null,
   "id": "53c56ee1",
   "metadata": {},
   "outputs": [],
   "source": [
    "1.1 * 26.38 * math.sqrt(-math.log(0.2) / math.log(2.0))"
   ]
  },
  {
   "cell_type": "markdown",
   "id": "88c7da3a",
   "metadata": {},
   "source": [
    "Okay. This is the value I get above. \n",
    "\n",
    "What's the constant??"
   ]
  },
  {
   "cell_type": "code",
   "execution_count": null,
   "id": "7859a0aa",
   "metadata": {},
   "outputs": [],
   "source": [
    "1.1* (1.12/1.22)*math.sqrt(-math.log(0.2) / math.log(2.0))"
   ]
  },
  {
   "cell_type": "code",
   "execution_count": null,
   "id": "c1aa13c6",
   "metadata": {
    "scrolled": true
   },
   "outputs": [],
   "source": [
    "1.54*25.8"
   ]
  },
  {
   "cell_type": "code",
   "execution_count": null,
   "id": "f478e396",
   "metadata": {},
   "outputs": [],
   "source": [
    "40.0/0.0040"
   ]
  },
  {
   "cell_type": "code",
   "execution_count": null,
   "id": "5d9865d0",
   "metadata": {},
   "outputs": [],
   "source": []
  }
 ],
 "metadata": {
  "kernelspec": {
   "display_name": "Python 3 (ipykernel)",
   "language": "python",
   "name": "python3"
  },
  "language_info": {
   "codemirror_mode": {
    "name": "ipython",
    "version": 3
   },
   "file_extension": ".py",
   "mimetype": "text/x-python",
   "name": "python",
   "nbconvert_exporter": "python",
   "pygments_lexer": "ipython3",
   "version": "3.8.8"
  }
 },
 "nbformat": 4,
 "nbformat_minor": 5
}
