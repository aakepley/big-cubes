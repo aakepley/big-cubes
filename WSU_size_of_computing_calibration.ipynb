{
 "cells": [
  {
   "cell_type": "code",
   "execution_count": 3,
   "id": "08d27ab7",
   "metadata": {},
   "outputs": [],
   "source": [
    "import astropy\n",
    "import numpy as np\n",
    "from astropy.table import Table\n",
    "import matplotlib.pyplot as plt"
   ]
  },
  {
   "cell_type": "markdown",
   "id": "19e63b08",
   "metadata": {},
   "source": [
    "# The Problem"
   ]
  },
  {
   "cell_type": "markdown",
   "id": "b80c9453",
   "metadata": {},
   "source": [
    "The Dataiku framework that we were going to use to extract the calibration scan information and time on source was affected in the JAO Cyberattack. I'm trying to find some other way to get the information. I have two options:\n",
    "* files from Ignacio that he had on his system including scan_table.csv.gz and sb_science_targets_consolidated_bl.csv\n",
    "* files from Felix with information that he has gleaned from the achive. I believe that this is all MOUS (not EB). I don't know if the per EB information can be gotten out since we process by MOUS"
   ]
  },
  {
   "cell_type": "markdown",
   "id": "adb562e4",
   "metadata": {},
   "source": [
    "## Playing with Ignacio's data set"
   ]
  },
  {
   "cell_type": "code",
   "execution_count": 6,
   "id": "1b17dc14",
   "metadata": {},
   "outputs": [],
   "source": [
    "scan_table = Table.read('scan_table.csv')"
   ]
  },
  {
   "cell_type": "code",
   "execution_count": 7,
   "id": "3f05d554",
   "metadata": {},
   "outputs": [
    {
     "data": {
      "text/plain": [
       "['EXECBLOCK_UID',\n",
       " 'scanNumber',\n",
       " 'startTime',\n",
       " 'endTime',\n",
       " 'numIntent',\n",
       " 'numSubscan',\n",
       " 'scanIntent',\n",
       " 'calDataType',\n",
       " 'numField',\n",
       " 'sourceName']"
      ]
     },
     "execution_count": 7,
     "metadata": {},
     "output_type": "execute_result"
    }
   ],
   "source": [
    "scan_table.keys()"
   ]
  },
  {
   "cell_type": "markdown",
   "id": "c7fe6f1f",
   "metadata": {},
   "source": [
    "Hmmmm.... looks like they key off of EXECBLOCK_UID. Not what I have for the other stuff (MOUS). But there might be a relatively straightforward way to map EXECBLOCK_UID to MEMBER_OUS_UID. Felix might have something for this."
   ]
  },
  {
   "cell_type": "code",
   "execution_count": 8,
   "id": "92cc58d0",
   "metadata": {},
   "outputs": [
    {
     "data": {
      "text/plain": [
       "87268"
      ]
     },
     "execution_count": 8,
     "metadata": {},
     "output_type": "execute_result"
    }
   ],
   "source": [
    "len(scan_table)"
   ]
  },
  {
   "cell_type": "code",
   "execution_count": 13,
   "id": "082ea907",
   "metadata": {},
   "outputs": [
    {
     "data": {
      "text/plain": [
       "0"
      ]
     },
     "execution_count": 13,
     "metadata": {},
     "output_type": "execute_result"
    }
   ],
   "source": [
    "np.sum(scan_table['scanIntent'] == 'OBSERVE_TARGET')"
   ]
  },
  {
   "cell_type": "code",
   "execution_count": 14,
   "id": "53a4d7e1",
   "metadata": {},
   "outputs": [
    {
     "data": {
      "text/html": [
       "&lt;Column name=&apos;scanIntent&apos; dtype=&apos;str20&apos; length=9&gt;\n",
       "<table>\n",
       "<tr><td>CALIBRATE_ATMOSPHERE</td></tr>\n",
       "<tr><td>CALIBRATE_BANDPASS</td></tr>\n",
       "<tr><td>CALIBRATE_DELAY</td></tr>\n",
       "<tr><td>CALIBRATE_FLUX</td></tr>\n",
       "<tr><td>CALIBRATE_FOCUS</td></tr>\n",
       "<tr><td>CALIBRATE_PHASE</td></tr>\n",
       "<tr><td>CALIBRATE_POINTING</td></tr>\n",
       "<tr><td>CALIBRATE_WVR</td></tr>\n",
       "<tr><td>OBSERVE_CHECK_SOURCE</td></tr>\n",
       "</table>"
      ],
      "text/plain": [
       "<Column name='scanIntent' dtype='str20' length=9>\n",
       "CALIBRATE_ATMOSPHERE\n",
       "  CALIBRATE_BANDPASS\n",
       "     CALIBRATE_DELAY\n",
       "      CALIBRATE_FLUX\n",
       "     CALIBRATE_FOCUS\n",
       "     CALIBRATE_PHASE\n",
       "  CALIBRATE_POINTING\n",
       "       CALIBRATE_WVR\n",
       "OBSERVE_CHECK_SOURCE"
      ]
     },
     "execution_count": 14,
     "metadata": {},
     "output_type": "execute_result"
    }
   ],
   "source": [
    "np.unique(scan_table['scanIntent'])"
   ]
  },
  {
   "cell_type": "markdown",
   "id": "336c70fa",
   "metadata": {},
   "source": [
    "Okay, so it only has the information for the calibration and none on the science sources"
   ]
  },
  {
   "cell_type": "code",
   "execution_count": 15,
   "id": "e13261e3",
   "metadata": {},
   "outputs": [
    {
     "data": {
      "text/html": [
       "<i>Table length=10</i>\n",
       "<table id=\"table140235423566432\" class=\"table-striped table-bordered table-condensed\">\n",
       "<thead><tr><th>EXECBLOCK_UID</th><th>scanNumber</th><th>startTime</th><th>endTime</th><th>numIntent</th><th>numSubscan</th><th>scanIntent</th><th>calDataType</th><th>numField</th><th>sourceName</th></tr></thead>\n",
       "<thead><tr><th>str25</th><th>int64</th><th>str24</th><th>str24</th><th>int64</th><th>int64</th><th>str20</th><th>str55</th><th>int64</th><th>str10</th></tr></thead>\n",
       "<tr><td>uid://A002/Xc5b102/X2ba2</td><td>1</td><td>2017-10-14T13:46:03.185Z</td><td>2017-10-14T13:48:09.017Z</td><td>2</td><td>10</td><td>CALIBRATE_POINTING</td><td>[&quot;CHANNEL_AVERAGE_CROSS&quot;,&quot;WVR&quot;]</td><td>1</td><td>J1058+0133</td></tr>\n",
       "<tr><td>uid://A002/Xc5b102/X2ba2</td><td>1</td><td>2017-10-14T13:46:03.185Z</td><td>2017-10-14T13:48:09.017Z</td><td>2</td><td>10</td><td>CALIBRATE_WVR</td><td>[&quot;CHANNEL_AVERAGE_CROSS&quot;,&quot;WVR&quot;]</td><td>1</td><td>J1058+0133</td></tr>\n",
       "<tr><td>uid://A002/Xc5b102/X2ba2</td><td>2</td><td>2017-10-14T13:48:10.111Z</td><td>2017-10-14T13:49:26.410Z</td><td>2</td><td>10</td><td>CALIBRATE_POINTING</td><td>[&quot;CHANNEL_AVERAGE_CROSS&quot;,&quot;WVR&quot;]</td><td>1</td><td>J1058+0133</td></tr>\n",
       "<tr><td>uid://A002/Xc5b102/X2ba2</td><td>2</td><td>2017-10-14T13:48:10.111Z</td><td>2017-10-14T13:49:26.410Z</td><td>2</td><td>10</td><td>CALIBRATE_WVR</td><td>[&quot;CHANNEL_AVERAGE_CROSS&quot;,&quot;WVR&quot;]</td><td>1</td><td>J1058+0133</td></tr>\n",
       "<tr><td>uid://A002/Xc5b102/X2ba2</td><td>3</td><td>2017-10-14T13:49:27.478Z</td><td>2017-10-14T13:53:50.160Z</td><td>2</td><td>14</td><td>CALIBRATE_FOCUS</td><td>[&quot;CHANNEL_AVERAGE_CROSS&quot;,&quot;WVR&quot;]</td><td>1</td><td>J1058+0133</td></tr>\n",
       "<tr><td>uid://A002/Xc5b102/X2ba2</td><td>3</td><td>2017-10-14T13:49:27.478Z</td><td>2017-10-14T13:53:50.160Z</td><td>2</td><td>14</td><td>CALIBRATE_WVR</td><td>[&quot;CHANNEL_AVERAGE_CROSS&quot;,&quot;WVR&quot;]</td><td>1</td><td>J1058+0133</td></tr>\n",
       "<tr><td>uid://A002/Xc5b102/X2ba2</td><td>4</td><td>2017-10-14T13:53:51.645Z</td><td>2017-10-14T13:55:08.897Z</td><td>2</td><td>10</td><td>CALIBRATE_POINTING</td><td>[&quot;CHANNEL_AVERAGE_CROSS&quot;,&quot;WVR&quot;]</td><td>1</td><td>J1058+0133</td></tr>\n",
       "<tr><td>uid://A002/Xc5b102/X2ba2</td><td>4</td><td>2017-10-14T13:53:51.645Z</td><td>2017-10-14T13:55:08.897Z</td><td>2</td><td>10</td><td>CALIBRATE_WVR</td><td>[&quot;CHANNEL_AVERAGE_CROSS&quot;,&quot;WVR&quot;]</td><td>1</td><td>J1058+0133</td></tr>\n",
       "<tr><td>uid://A002/Xc5b102/X2ba2</td><td>5</td><td>2017-10-14T13:55:10.231Z</td><td>2017-10-14T13:56:38.647Z</td><td>2</td><td>3</td><td>CALIBRATE_ATMOSPHERE</td><td>[&quot;FULL_RESOLUTION_AUTO&quot;,&quot;WVR&quot;]</td><td>1</td><td>J1058+0133</td></tr>\n",
       "<tr><td>uid://A002/Xc5b102/X2ba2</td><td>5</td><td>2017-10-14T13:55:10.231Z</td><td>2017-10-14T13:56:38.647Z</td><td>2</td><td>3</td><td>CALIBRATE_WVR</td><td>[&quot;FULL_RESOLUTION_AUTO&quot;,&quot;WVR&quot;]</td><td>1</td><td>J1058+0133</td></tr>\n",
       "</table>"
      ],
      "text/plain": [
       "<Table length=10>\n",
       "     EXECBLOCK_UID       scanNumber ... numField sourceName\n",
       "         str25             int64    ...  int64     str10   \n",
       "------------------------ ---------- ... -------- ----------\n",
       "uid://A002/Xc5b102/X2ba2          1 ...        1 J1058+0133\n",
       "uid://A002/Xc5b102/X2ba2          1 ...        1 J1058+0133\n",
       "uid://A002/Xc5b102/X2ba2          2 ...        1 J1058+0133\n",
       "uid://A002/Xc5b102/X2ba2          2 ...        1 J1058+0133\n",
       "uid://A002/Xc5b102/X2ba2          3 ...        1 J1058+0133\n",
       "uid://A002/Xc5b102/X2ba2          3 ...        1 J1058+0133\n",
       "uid://A002/Xc5b102/X2ba2          4 ...        1 J1058+0133\n",
       "uid://A002/Xc5b102/X2ba2          4 ...        1 J1058+0133\n",
       "uid://A002/Xc5b102/X2ba2          5 ...        1 J1058+0133\n",
       "uid://A002/Xc5b102/X2ba2          5 ...        1 J1058+0133"
      ]
     },
     "execution_count": 15,
     "metadata": {},
     "output_type": "execute_result"
    }
   ],
   "source": [
    "scan_table[0:10]"
   ]
  },
  {
   "cell_type": "markdown",
   "id": "0d7689ca",
   "metadata": {},
   "source": [
    "But the startTime and endTime could be used to get some time on the calibration sources for different intents"
   ]
  },
  {
   "cell_type": "code",
   "execution_count": 55,
   "id": "1cbe326d",
   "metadata": {},
   "outputs": [
    {
     "data": {
      "text/html": [
       "<i>Table length=0</i>\n",
       "<table id=\"table140235691138736\" class=\"table-striped table-bordered table-condensed\">\n",
       "<thead><tr><th>EXECBLOCK_UID</th><th>scanNumber</th><th>startTime</th><th>endTime</th><th>numIntent</th><th>numSubscan</th><th>scanIntent</th><th>calDataType</th><th>numField</th><th>sourceName</th></tr></thead>\n",
       "<thead><tr><th>str25</th><th>int64</th><th>str24</th><th>str24</th><th>int64</th><th>int64</th><th>str20</th><th>str55</th><th>int64</th><th>str10</th></tr></thead>\n",
       "</table>"
      ],
      "text/plain": [
       "<Table length=0>\n",
       "EXECBLOCK_UID scanNumber startTime endTime ... calDataType numField sourceName\n",
       "    str25       int64      str24    str24  ...    str55     int64     str10   \n",
       "------------- ---------- --------- ------- ... ----------- -------- ----------"
      ]
     },
     "execution_count": 55,
     "metadata": {},
     "output_type": "execute_result"
    }
   ],
   "source": [
    "idx = scan_table['EXECBLOCK_UID'] == 'uid://A002/Xedbc85/X78df'\n",
    "scan_table[idx]"
   ]
  },
  {
   "cell_type": "code",
   "execution_count": 42,
   "id": "83322318",
   "metadata": {},
   "outputs": [],
   "source": [
    "ignacio2 = Table.read('sb_science_targets_consolidated_bl.csv')"
   ]
  },
  {
   "cell_type": "code",
   "execution_count": 50,
   "id": "222aa831",
   "metadata": {},
   "outputs": [
    {
     "data": {
      "text/plain": [
       "<TableColumns names=('OBSPROJECT_UID','SB_UID','SB_NAME','MODE_NAME','ARRAY','REPRESENTATIVE_TARGET_REF','TARGET_ID','SPEC_REF','FIELD_REF','OBSERVING_PARAMETER_REF','SCIPARAM_NAME','SCIPARAM_REPRESENTATIVE_BANDWIDTH','SCIPARAM_REPRESENTATIVE_BANDWIDTH_UNIT','SCIPARAM_REPRESENTATIVE_FREQUENCY','SCIPARAM_REPRESENTATIVE_FREQUENCY_UNIT','SCIPARAM_SENSITIVITY_GOAL','SCIPARAM_SENSITIVITY_GOAL_UNIT','SCIPARAM_INTEGRATION_TIME','SCIPARAM_INTEGRATION_TIME_UNIT','SCIPARAM_SUB_SCAN_DURATION','SCIPARAM_SUB_SCAN_DURATION_UNIT','SCIPARAM_FORCE_ATM_CAL','FIELD_SOLAR_SYSTEM_OBJECT','FIELD_SOURCE_LONG','FIELD_SOURCE_LONG_UNIT','FIELD_SOURCE_LAT','FIELD_SOURCE_LAT_UNIT','FIELD_FIELD_NAME','FIELD_SOURCE_NAME','FIELD_SOURCE_CENTER_VELOCITY','FIELD_SOURCE_CENTER_VELOCITY_UNIT','FIELD_SOURCE_VELOCITY_REF_SYSTEM','FIELD_SOURCE_VELOCITY_DOPPLER_CALC','FIELD_PM_RA','FIELD_PM_RA_UNIT','FIELD_PM_DEC','FIELD_PM_DEC_UNIT','FIELD_NON_SIDEREAL_MOTION','FIELD_PARALLAX','FIELD_PARALLAX_UNIT','FIELD_NAME','BLSPEC_NAME','BLSPEC_INTEGRATION_DURATION','BLSPEC_INTEGRATION_DURATION_UNIT','BLSPEC_CHANNEL_AVERAGE_DURATION','BLSPEC_CHANNEL_AVERAGE_DURATION_UNIT','BLSPEC_ENABLE_180_DEGREE_WALSH_FUNCTION','BLSPEC_ENABLE_90_DEGREE_WALSH_FUNCTION','FRQSETUP_BAND','FRQSETUP_DOPPLER_REFERENCE','FRQSETUP_REST_FREQUENCY','FRQSETUP_REST_FREQUENCY_UNIT','FRQSETUP_TRANSITION_NAME','FRQSETUP_LO1_FREQUENCY','FRQSETUP_LO1_FREQUENCY_UNIT','BLBB_BASEBAND_SPEC_ID','BLBB_DATA_PRODUCTS','BLBB_CENTER_FREQUENCY','BLBB_CENTER_FREQUENCY_UNIT','BLBB_LO2_FREQUENCY','BLBB_LO2_FREQUENCY_UNIT','BLSPW_SPW_NAME','BLSPW_CORRELATION_BITS','BLSPW_SIDEBAND','BLSPW_WINDOW_FUNCTION','BLSPW_CENTER_FREQUENCY','BLSPW_CENTER_FREQUENCY_UNIT','BLSPW_SPECTRAL_AVG_FACTOR','BLSPW_EFFECTIVE_BANDWITH','BLSPW_EFFECTIVE_BANDWITH_UNIT','BLSPW_EFFECTIVE_NUMBER_CHANNELS','BLSPW_ASSOCIATED_SPW_NUMBER_IN_PAIR','BLSPW_USE_THIS_SPECTRAL_WINDOW','BLSPW_REPRESENTATIVE_WINDOW','BLSPW_DESIRED_CENTER_FREQUENCY','BLSPW_DESIRED_CENTER_FREQUENCY_UNIT')>"
      ]
     },
     "execution_count": 50,
     "metadata": {},
     "output_type": "execute_result"
    }
   ],
   "source": [
    "ignacio2.columns"
   ]
  },
  {
   "cell_type": "code",
   "execution_count": 54,
   "id": "f786cdbd",
   "metadata": {},
   "outputs": [
    {
     "data": {
      "text/html": [
       "<i>Table length=10</i>\n",
       "<table id=\"table140235691135280\" class=\"table-striped table-bordered table-condensed\">\n",
       "<thead><tr><th>OBSPROJECT_UID</th><th>SB_UID</th><th>SB_NAME</th><th>MODE_NAME</th><th>SCIPARAM_INTEGRATION_TIME</th><th>SCIPARAM_INTEGRATION_TIME_UNIT</th><th>SCIPARAM_SUB_SCAN_DURATION</th></tr></thead>\n",
       "<thead><tr><th>str23</th><th>str23</th><th>str41</th><th>str33</th><th>float64</th><th>str3</th><th>float64</th></tr></thead>\n",
       "<tr><td>uid://A001/X12d6/X3d2</td><td>uid://A001/X1301/X4d2</td><td>R_136_d_07_TM1</td><td>Standard Interferometry</td><td>2872.7</td><td>s</td><td>30.24</td></tr>\n",
       "<tr><td>uid://A001/X13b9/X14b0</td><td>uid://A001/X1465/X489</td><td>12951_a_06_TM1</td><td>Standard Interferometry</td><td>489.78799999999995</td><td>s</td><td>18.144</td></tr>\n",
       "<tr><td>uid://A001/X12eb/X845</td><td>uid://A001/X1302/X35f</td><td>ad3a-206_bh_03_TM1</td><td>Standard Interferometry</td><td>24.092</td><td>s</td><td>24.192</td></tr>\n",
       "<tr><td>uid://A001/X1525/X1908</td><td>uid://A001/X1525/X207e</td><td>M12_2573_n_06_TM1</td><td>Standard Interferometry</td><td>18.043999999999997</td><td>s</td><td>18.144</td></tr>\n",
       "<tr><td>uid://A001/X1525/X1908</td><td>uid://A001/X1525/X207e</td><td>M12_2573_n_06_TM1</td><td>Standard Interferometry</td><td>18.043999999999997</td><td>s</td><td>18.144</td></tr>\n",
       "<tr><td>uid://A001/X1525/Xcd1</td><td>uid://A001/X1590/X17b9</td><td>ad3a-216_a_03_TM1</td><td>Standard Interferometry</td><td>36.188</td><td>s</td><td>36.288</td></tr>\n",
       "<tr><td>uid://A001/X15b9/X267</td><td>uid://A001/X15ba/X539e</td><td>HD313571_a_06_TM1</td><td>Standard Interferometry</td><td>574.4599999999999</td><td>s</td><td>30.24</td></tr>\n",
       "<tr><td>uid://A001/X15ba/X241</td><td>uid://A001/X2d1f/Xa4a</td><td>B335_a_03_TM2</td><td>Standard Interferometry</td><td>1058.3</td><td>s</td><td>30.24</td></tr>\n",
       "<tr><td>uid://A001/X1ee/Xa76</td><td>uid://A001/X2fb/X248</td><td>NGC_3627_a_06_TE</td><td>Standard Interferometry</td><td>2086.46</td><td>s</td><td>18.144</td></tr>\n",
       "<tr><td>uid://A001/X12ea/X629</td><td>uid://A001/X1300/Xb13</td><td>SPT2152-_a_07_TM1</td><td>Standard Interferometry</td><td>112.796</td><td>s</td><td>28.224</td></tr>\n",
       "</table>"
      ],
      "text/plain": [
       "<Table length=10>\n",
       "    OBSPROJECT_UID             SB_UID         ... SCIPARAM_SUB_SCAN_DURATION\n",
       "        str23                  str23          ...          float64          \n",
       "---------------------- ---------------------- ... --------------------------\n",
       " uid://A001/X12d6/X3d2  uid://A001/X1301/X4d2 ...                      30.24\n",
       "uid://A001/X13b9/X14b0  uid://A001/X1465/X489 ...                     18.144\n",
       " uid://A001/X12eb/X845  uid://A001/X1302/X35f ...                     24.192\n",
       "uid://A001/X1525/X1908 uid://A001/X1525/X207e ...                     18.144\n",
       "uid://A001/X1525/X1908 uid://A001/X1525/X207e ...                     18.144\n",
       " uid://A001/X1525/Xcd1 uid://A001/X1590/X17b9 ...                     36.288\n",
       " uid://A001/X15b9/X267 uid://A001/X15ba/X539e ...                      30.24\n",
       " uid://A001/X15ba/X241  uid://A001/X2d1f/Xa4a ...                      30.24\n",
       "  uid://A001/X1ee/Xa76   uid://A001/X2fb/X248 ...                     18.144\n",
       " uid://A001/X12ea/X629  uid://A001/X1300/Xb13 ...                     28.224"
      ]
     },
     "execution_count": 54,
     "metadata": {},
     "output_type": "execute_result"
    }
   ],
   "source": [
    "ignacio2[0:10]['OBSPROJECT_UID','SB_UID','SB_NAME','MODE_NAME','SCIPARAM_INTEGRATION_TIME','SCIPARAM_INTEGRATION_TIME_UNIT','SCIPARAM_SUB_SCAN_DURATION']"
   ]
  },
  {
   "cell_type": "markdown",
   "id": "8ec2b9f0",
   "metadata": {},
   "source": [
    "This does have integration time but only for science sources."
   ]
  },
  {
   "cell_type": "markdown",
   "id": "a9c75c49",
   "metadata": {},
   "source": [
    "## Playing with Felix's data set"
   ]
  },
  {
   "cell_type": "markdown",
   "id": "e5fc7b2e",
   "metadata": {},
   "source": [
    "Info from Felix's email:\n",
    "\n",
    "the sum of the integration (in seconds) time per project, MOUS, band,\n",
    "scan intent and asdm. Of course I can throw in other metadata and/or do\n",
    "a different grouping etc.\n",
    "\n",
    "For mosaics, the actual integration time is computed here, not the\n",
    "average integration time per position in the footprint as we show on the AQ."
   ]
  },
  {
   "cell_type": "code",
   "execution_count": 38,
   "id": "ff1d3124",
   "metadata": {
    "scrolled": false
   },
   "outputs": [],
   "source": [
    "felix = Table.read('project_mous_band_asdm_intent_sum-inttime',format='ascii',delimiter='|',\n",
    "                   guess=False,\n",
    "                    names=('project_id','mous','band','asdm','intent','sum','na'))"
   ]
  },
  {
   "cell_type": "code",
   "execution_count": 39,
   "id": "d3b04f92",
   "metadata": {},
   "outputs": [
    {
     "data": {
      "text/plain": [
       "<TableColumns names=('project_id','mous','band','asdm','intent','sum','na')>"
      ]
     },
     "execution_count": 39,
     "metadata": {},
     "output_type": "execute_result"
    }
   ],
   "source": [
    "felix.columns"
   ]
  },
  {
   "cell_type": "code",
   "execution_count": 40,
   "id": "0e35f2c1",
   "metadata": {},
   "outputs": [
    {
     "data": {
      "text/html": [
       "<i>Table length=6</i>\n",
       "<table id=\"table140235691138400\" class=\"table-striped table-bordered table-condensed\">\n",
       "<thead><tr><th>project_id</th><th>mous</th><th>band</th><th>asdm</th><th>intent</th><th>sum</th><th>na</th></tr></thead>\n",
       "<thead><tr><th>str16</th><th>str23</th><th>str5</th><th>str26</th><th>str46</th><th>float64</th><th>int64</th></tr></thead>\n",
       "<tr><td>2019.1.01326.S</td><td>uid://A001/X1465/X103e</td><td>6</td><td>uid://A002/Xedbc85/X78df</td><td>BANDPASS FLUX WVR</td><td>604.8</td><td>--</td></tr>\n",
       "<tr><td>2019.1.01326.S</td><td>uid://A001/X1465/X103e</td><td>6</td><td>uid://A002/Xedbc85/X78df</td><td>PHASE WVR</td><td>423.36</td><td>--</td></tr>\n",
       "<tr><td>2019.1.01326.S</td><td>uid://A001/X1465/X103e</td><td>6</td><td>uid://A002/Xedbc85/X78df</td><td>TARGET</td><td>2802.24</td><td>--</td></tr>\n",
       "<tr><td>2019.1.01326.S</td><td>uid://A001/X1465/X103e</td><td>6</td><td>uid://A002/Xef72bb/Xad5</td><td>BANDPASS FLUX WVR</td><td>604.8</td><td>--</td></tr>\n",
       "<tr><td>2019.1.01326.S</td><td>uid://A001/X1465/X103e</td><td>6</td><td>uid://A002/Xef72bb/Xad5</td><td>PHASE WVR</td><td>423.36</td><td>--</td></tr>\n",
       "<tr><td>2019.1.01326.S</td><td>uid://A001/X1465/X103e</td><td>6</td><td>uid://A002/Xef72bb/Xad5</td><td>TARGET</td><td>2802.24</td><td>--</td></tr>\n",
       "</table>"
      ],
      "text/plain": [
       "<Table length=6>\n",
       "  project_id            mous          band ...       intent        sum     na \n",
       "    str16              str23          str5 ...       str46       float64 int64\n",
       "-------------- ---------------------- ---- ... ----------------- ------- -----\n",
       "2019.1.01326.S uid://A001/X1465/X103e    6 ... BANDPASS FLUX WVR   604.8    --\n",
       "2019.1.01326.S uid://A001/X1465/X103e    6 ...         PHASE WVR  423.36    --\n",
       "2019.1.01326.S uid://A001/X1465/X103e    6 ...            TARGET 2802.24    --\n",
       "2019.1.01326.S uid://A001/X1465/X103e    6 ... BANDPASS FLUX WVR   604.8    --\n",
       "2019.1.01326.S uid://A001/X1465/X103e    6 ...         PHASE WVR  423.36    --\n",
       "2019.1.01326.S uid://A001/X1465/X103e    6 ...            TARGET 2802.24    --"
      ]
     },
     "execution_count": 40,
     "metadata": {},
     "output_type": "execute_result"
    }
   ],
   "source": [
    "idx = felix['mous'] == 'uid://A001/X1465/X103e'\n",
    "felix[idx]"
   ]
  },
  {
   "cell_type": "markdown",
   "id": "0d869d2f",
   "metadata": {},
   "source": [
    "Are the ASDMs the EBs? Each execution block generates an asdm"
   ]
  },
  {
   "cell_type": "markdown",
   "id": "fc101931",
   "metadata": {},
   "source": [
    "Can I assume that the nchan etc is the same as the observation setup? Because the WVR is also in here as well. Or does that just play into the data rate?"
   ]
  },
  {
   "cell_type": "markdown",
   "id": "a4ea8f44",
   "metadata": {},
   "source": [
    "Do I want to link these tables to my main table somehow? Really I need both."
   ]
  },
  {
   "cell_type": "markdown",
   "id": "4cc8efef",
   "metadata": {},
   "source": [
    "Now this gets us the time on source assuming no changes to the current observing procedures. Would need to scale some how for WSU. That could get interesting....."
   ]
  },
  {
   "cell_type": "code",
   "execution_count": 56,
   "id": "601d2136",
   "metadata": {},
   "outputs": [
    {
     "data": {
      "text/html": [
       "<i>Table length=322</i>\n",
       "<table id=\"table140235691137632\" class=\"table-striped table-bordered table-condensed\">\n",
       "<thead><tr><th>project_id</th><th>mous</th><th>band</th><th>asdm</th><th>intent</th><th>sum</th><th>na</th></tr></thead>\n",
       "<thead><tr><th>str16</th><th>str23</th><th>str5</th><th>str26</th><th>str46</th><th>float64</th><th>int64</th></tr></thead>\n",
       "<tr><td>2015.1.00217.S</td><td>uid://A001/X2f7/X138</td><td>10</td><td>uid://A002/Xc1e2be/X3900</td><td>BANDPASS WVR</td><td>604.8</td><td>--</td></tr>\n",
       "<tr><td>2015.1.00217.S</td><td>uid://A001/X2f7/X138</td><td>10</td><td>uid://A002/Xc1e2be/X3900</td><td>CHECK WVR</td><td>725.76</td><td>--</td></tr>\n",
       "<tr><td>2015.1.00217.S</td><td>uid://A001/X2f7/X138</td><td>10</td><td>uid://A002/Xc1e2be/X3900</td><td>FLUX WVR</td><td>302.4</td><td>--</td></tr>\n",
       "<tr><td>2015.1.00217.S</td><td>uid://A001/X2f7/X138</td><td>10</td><td>uid://A002/Xc1e2be/X3900</td><td>PHASE WVR</td><td>1451.52</td><td>--</td></tr>\n",
       "<tr><td>2015.1.00217.S</td><td>uid://A001/X2f7/X138</td><td>10</td><td>uid://A002/Xc1e2be/X3900</td><td>TARGET</td><td>1975.68</td><td>--</td></tr>\n",
       "<tr><td>2015.1.00217.S</td><td>uid://A001/X2f7/X138</td><td>10</td><td>uid://A002/Xc4c2da/X7ba8</td><td>BANDPASS WVR</td><td>604.8</td><td>--</td></tr>\n",
       "<tr><td>2015.1.00217.S</td><td>uid://A001/X2f7/X138</td><td>10</td><td>uid://A002/Xc4c2da/X7ba8</td><td>CHECK WVR</td><td>725.76</td><td>--</td></tr>\n",
       "<tr><td>2015.1.00217.S</td><td>uid://A001/X2f7/X138</td><td>10</td><td>uid://A002/Xc4c2da/X7ba8</td><td>FLUX WVR</td><td>302.4</td><td>--</td></tr>\n",
       "<tr><td>2015.1.00217.S</td><td>uid://A001/X2f7/X138</td><td>10</td><td>uid://A002/Xc4c2da/X7ba8</td><td>PHASE WVR</td><td>1451.52</td><td>--</td></tr>\n",
       "<tr><td>2015.1.00217.S</td><td>uid://A001/X2f7/X138</td><td>10</td><td>uid://A002/Xc4c2da/X7ba8</td><td>TARGET</td><td>1975.68</td><td>--</td></tr>\n",
       "<tr><td>...</td><td>...</td><td>...</td><td>...</td><td>...</td><td>...</td><td>...</td></tr>\n",
       "<tr><td>2021.1.01477.S</td><td>uid://A001/X159b/Xca</td><td>10</td><td>uid://A002/Xfe62c1/Xe8c9</td><td>PHASE WVR</td><td>491.52</td><td>--</td></tr>\n",
       "<tr><td>2021.1.01477.S</td><td>uid://A001/X159b/Xca</td><td>10</td><td>uid://A002/Xfe62c1/Xe8c9</td><td>TARGET</td><td>1904.64</td><td>--</td></tr>\n",
       "<tr><td>2022.1.00012.S</td><td>uid://A001/X335e/Xf0</td><td>10</td><td>uid://A002/X10065c7/X170e</td><td>BANDPASS FLUX WVR</td><td>921.6</td><td>--</td></tr>\n",
       "<tr><td>2022.1.00012.S</td><td>uid://A001/X335e/Xf0</td><td>10</td><td>uid://A002/X10065c7/X170e</td><td>CHECK WVR</td><td>368.64</td><td>--</td></tr>\n",
       "<tr><td>2022.1.00012.S</td><td>uid://A001/X335e/Xf0</td><td>10</td><td>uid://A002/X10065c7/X170e</td><td>PHASE WVR</td><td>737.28</td><td>--</td></tr>\n",
       "<tr><td>2022.1.00012.S</td><td>uid://A001/X335e/Xf0</td><td>10</td><td>uid://A002/X10065c7/X170e</td><td>TARGET</td><td>2641.92</td><td>--</td></tr>\n",
       "<tr><td>2022.1.00194.S</td><td>uid://A001/X2d1f/X8d8</td><td>10</td><td>uid://A002/X1001fdc/X23aa</td><td>BANDPASS FLUX WVR</td><td>302.4</td><td>--</td></tr>\n",
       "<tr><td>2022.1.00194.S</td><td>uid://A001/X2d1f/X8d8</td><td>10</td><td>uid://A002/X1001fdc/X23aa</td><td>CHECK WVR</td><td>181.44</td><td>--</td></tr>\n",
       "<tr><td>2022.1.00194.S</td><td>uid://A001/X2d1f/X8d8</td><td>10</td><td>uid://A002/X1001fdc/X23aa</td><td>PHASE WVR</td><td>604.8</td><td>--</td></tr>\n",
       "<tr><td>2022.1.00194.S</td><td>uid://A001/X2d1f/X8d8</td><td>10</td><td>uid://A002/X1001fdc/X23aa</td><td>TARGET</td><td>2449.44</td><td>--</td></tr>\n",
       "</table>"
      ],
      "text/plain": [
       "<Table length=322>\n",
       "  project_id            mous         band ...       intent        sum     na \n",
       "    str16              str23         str5 ...       str46       float64 int64\n",
       "-------------- --------------------- ---- ... ----------------- ------- -----\n",
       "2015.1.00217.S  uid://A001/X2f7/X138   10 ...      BANDPASS WVR   604.8    --\n",
       "2015.1.00217.S  uid://A001/X2f7/X138   10 ...         CHECK WVR  725.76    --\n",
       "2015.1.00217.S  uid://A001/X2f7/X138   10 ...          FLUX WVR   302.4    --\n",
       "2015.1.00217.S  uid://A001/X2f7/X138   10 ...         PHASE WVR 1451.52    --\n",
       "2015.1.00217.S  uid://A001/X2f7/X138   10 ...            TARGET 1975.68    --\n",
       "2015.1.00217.S  uid://A001/X2f7/X138   10 ...      BANDPASS WVR   604.8    --\n",
       "2015.1.00217.S  uid://A001/X2f7/X138   10 ...         CHECK WVR  725.76    --\n",
       "2015.1.00217.S  uid://A001/X2f7/X138   10 ...          FLUX WVR   302.4    --\n",
       "2015.1.00217.S  uid://A001/X2f7/X138   10 ...         PHASE WVR 1451.52    --\n",
       "2015.1.00217.S  uid://A001/X2f7/X138   10 ...            TARGET 1975.68    --\n",
       "           ...                   ...  ... ...               ...     ...   ...\n",
       "2021.1.01477.S  uid://A001/X159b/Xca   10 ...         PHASE WVR  491.52    --\n",
       "2021.1.01477.S  uid://A001/X159b/Xca   10 ...            TARGET 1904.64    --\n",
       "2022.1.00012.S  uid://A001/X335e/Xf0   10 ... BANDPASS FLUX WVR   921.6    --\n",
       "2022.1.00012.S  uid://A001/X335e/Xf0   10 ...         CHECK WVR  368.64    --\n",
       "2022.1.00012.S  uid://A001/X335e/Xf0   10 ...         PHASE WVR  737.28    --\n",
       "2022.1.00012.S  uid://A001/X335e/Xf0   10 ...            TARGET 2641.92    --\n",
       "2022.1.00194.S uid://A001/X2d1f/X8d8   10 ... BANDPASS FLUX WVR   302.4    --\n",
       "2022.1.00194.S uid://A001/X2d1f/X8d8   10 ...         CHECK WVR  181.44    --\n",
       "2022.1.00194.S uid://A001/X2d1f/X8d8   10 ...         PHASE WVR   604.8    --\n",
       "2022.1.00194.S uid://A001/X2d1f/X8d8   10 ...            TARGET 2449.44    --"
      ]
     },
     "execution_count": 56,
     "metadata": {},
     "output_type": "execute_result"
    }
   ],
   "source": [
    "idx = felix['band'] == '10'\n",
    "felix[idx]"
   ]
  },
  {
   "cell_type": "markdown",
   "id": "19a586fb",
   "metadata": {},
   "source": [
    "Check sources show up."
   ]
  },
  {
   "cell_type": "markdown",
   "id": "59a743b3",
   "metadata": {},
   "source": [
    "## Cross checking information in Felix's data base with the benchmark"
   ]
  },
  {
   "cell_type": "markdown",
   "id": "d8c03339",
   "metadata": {},
   "source": [
    "The goal here is to make sure that I understand the information and what's in the data base. I should also cross check with the info in Ignacio's scan information csv. He has it broken out a bit differently there."
   ]
  },
  {
   "cell_type": "code",
   "execution_count": 57,
   "id": "547202e5",
   "metadata": {},
   "outputs": [
    {
     "data": {
      "text/html": [
       "<i>Table length=3</i>\n",
       "<table id=\"table140235691137536\" class=\"table-striped table-bordered table-condensed\">\n",
       "<thead><tr><th>project_id</th><th>mous</th><th>band</th><th>asdm</th><th>intent</th><th>sum</th><th>na</th></tr></thead>\n",
       "<thead><tr><th>str16</th><th>str23</th><th>str5</th><th>str26</th><th>str46</th><th>float64</th><th>int64</th></tr></thead>\n",
       "<tr><td>2019.1.00092.S</td><td>uid://A001/X1465/X3a33</td><td>4</td><td>uid://A002/Xe32bed/X7e4f</td><td>BANDPASS FLUX WVR</td><td>1512.0</td><td>--</td></tr>\n",
       "<tr><td>2019.1.00092.S</td><td>uid://A001/X1465/X3a33</td><td>4</td><td>uid://A002/Xe32bed/X7e4f</td><td>PHASE WVR</td><td>302.4</td><td>--</td></tr>\n",
       "<tr><td>2019.1.00092.S</td><td>uid://A001/X1465/X3a33</td><td>4</td><td>uid://A002/Xe32bed/X7e4f</td><td>TARGET</td><td>2268.0</td><td>--</td></tr>\n",
       "</table>"
      ],
      "text/plain": [
       "<Table length=3>\n",
       "  project_id            mous          band ...       intent        sum     na \n",
       "    str16              str23          str5 ...       str46       float64 int64\n",
       "-------------- ---------------------- ---- ... ----------------- ------- -----\n",
       "2019.1.00092.S uid://A001/X1465/X3a33    4 ... BANDPASS FLUX WVR  1512.0    --\n",
       "2019.1.00092.S uid://A001/X1465/X3a33    4 ...         PHASE WVR   302.4    --\n",
       "2019.1.00092.S uid://A001/X1465/X3a33    4 ...            TARGET  2268.0    --"
      ]
     },
     "execution_count": 57,
     "metadata": {},
     "output_type": "execute_result"
    }
   ],
   "source": [
    "idx = felix['mous'] == 'uid://A001/X1465/X3a33'\n",
    "felix[idx]"
   ]
  },
  {
   "cell_type": "markdown",
   "id": "4fca5c44",
   "metadata": {},
   "source": [
    "Info from the PL2022 Benchmark:"
   ]
  },
  {
   "cell_type": "markdown",
   "id": "fe5ad798",
   "metadata": {},
   "source": [
    "Time on target source"
   ]
  },
  {
   "cell_type": "code",
   "execution_count": 58,
   "id": "d725c31b",
   "metadata": {},
   "outputs": [
    {
     "data": {
      "text/plain": [
       "2280"
      ]
     },
     "execution_count": 58,
     "metadata": {},
     "output_type": "execute_result"
    }
   ],
   "source": [
    "# Initial time given\n",
    "38*60"
   ]
  },
  {
   "cell_type": "code",
   "execution_count": 62,
   "id": "f0e6b847",
   "metadata": {},
   "outputs": [
    {
     "data": {
      "text/plain": [
       "2277"
      ]
     },
     "execution_count": 62,
     "metadata": {},
     "output_type": "execute_result"
    }
   ],
   "source": [
    "# time given in targets.ms\n",
    "37*60+57"
   ]
  },
  {
   "cell_type": "code",
   "execution_count": 60,
   "id": "13c3d8d4",
   "metadata": {},
   "outputs": [
    {
     "data": {
      "text/plain": [
       "1515.0"
      ]
     },
     "execution_count": 60,
     "metadata": {},
     "output_type": "execute_result"
    }
   ],
   "source": [
    "# time on bandpass from listobs\n",
    "302.6+303.3+303+302.7+303.4"
   ]
  },
  {
   "cell_type": "code",
   "execution_count": 61,
   "id": "080e3a1f",
   "metadata": {},
   "outputs": [
    {
     "data": {
      "text/plain": [
       "300"
      ]
     },
     "execution_count": 61,
     "metadata": {},
     "output_type": "execute_result"
    }
   ],
   "source": [
    "# time on phase cal. each scan was ~30s. I didn't do the detailed math for each scan.\n",
    "# Note that there were two phase cal for each intermediate phase cal because this was a spectral scan case.\n",
    "30+60*4+30"
   ]
  },
  {
   "cell_type": "code",
   "execution_count": 63,
   "id": "203f1974",
   "metadata": {},
   "outputs": [
    {
     "data": {
      "text/html": [
       "<i>Table length=0</i>\n",
       "<table id=\"table140235691135568\" class=\"table-striped table-bordered table-condensed\">\n",
       "<thead><tr><th>EXECBLOCK_UID</th><th>scanNumber</th><th>startTime</th><th>endTime</th><th>numIntent</th><th>numSubscan</th><th>scanIntent</th><th>calDataType</th><th>numField</th><th>sourceName</th></tr></thead>\n",
       "<thead><tr><th>str25</th><th>int64</th><th>str24</th><th>str24</th><th>int64</th><th>int64</th><th>str20</th><th>str55</th><th>int64</th><th>str10</th></tr></thead>\n",
       "</table>"
      ],
      "text/plain": [
       "<Table length=0>\n",
       "EXECBLOCK_UID scanNumber startTime endTime ... calDataType numField sourceName\n",
       "    str25       int64      str24    str24  ...    str55     int64     str10   \n",
       "------------- ---------- --------- ------- ... ----------- -------- ----------"
      ]
     },
     "execution_count": 63,
     "metadata": {},
     "output_type": "execute_result"
    }
   ],
   "source": [
    "# Is this in ignacio's data base?\n",
    "idx = scan_table['EXECBLOCK_UID'] == 'uid://A002/Xe32bed/X7e4f'\n",
    "scan_table[idx]"
   ]
  },
  {
   "cell_type": "markdown",
   "id": "1cf1377c",
   "metadata": {},
   "source": [
    "Not in ignacio's scan_info data base."
   ]
  },
  {
   "cell_type": "code",
   "execution_count": 64,
   "id": "526264a9",
   "metadata": {},
   "outputs": [
    {
     "data": {
      "text/html": [
       "<i>Table length=3</i>\n",
       "<table id=\"table140235691138496\" class=\"table-striped table-bordered table-condensed\">\n",
       "<thead><tr><th>project_id</th><th>mous</th><th>band</th><th>asdm</th><th>intent</th><th>sum</th><th>na</th></tr></thead>\n",
       "<thead><tr><th>str16</th><th>str23</th><th>str5</th><th>str26</th><th>str46</th><th>float64</th><th>int64</th></tr></thead>\n",
       "<tr><td>2019.1.00678.S</td><td>uid://A001/X14d8/X3eb</td><td>3</td><td>uid://A002/Xe6a684/X7c41</td><td>BANDPASS FLUX WVR</td><td>302.4</td><td>--</td></tr>\n",
       "<tr><td>2019.1.00678.S</td><td>uid://A001/X14d8/X3eb</td><td>3</td><td>uid://A002/Xe6a684/X7c41</td><td>PHASE WVR</td><td>211.68</td><td>--</td></tr>\n",
       "<tr><td>2019.1.00678.S</td><td>uid://A001/X14d8/X3eb</td><td>3</td><td>uid://A002/Xe6a684/X7c41</td><td>TARGET</td><td>2903.04</td><td>--</td></tr>\n",
       "</table>"
      ],
      "text/plain": [
       "<Table length=3>\n",
       "  project_id            mous         band ...       intent        sum     na \n",
       "    str16              str23         str5 ...       str46       float64 int64\n",
       "-------------- --------------------- ---- ... ----------------- ------- -----\n",
       "2019.1.00678.S uid://A001/X14d8/X3eb    3 ... BANDPASS FLUX WVR   302.4    --\n",
       "2019.1.00678.S uid://A001/X14d8/X3eb    3 ...         PHASE WVR  211.68    --\n",
       "2019.1.00678.S uid://A001/X14d8/X3eb    3 ...            TARGET 2903.04    --"
      ]
     },
     "execution_count": 64,
     "metadata": {},
     "output_type": "execute_result"
    }
   ],
   "source": [
    "idx = felix['mous'] == 'uid://A001/X14d8/X3eb'\n",
    "felix[idx]"
   ]
  },
  {
   "cell_type": "code",
   "execution_count": 65,
   "id": "1f1ba23d",
   "metadata": {},
   "outputs": [
    {
     "data": {
      "text/plain": [
       "2919"
      ]
     },
     "execution_count": 65,
     "metadata": {},
     "output_type": "execute_result"
    }
   ],
   "source": [
    "# time on source:\n",
    "48*60+39"
   ]
  },
  {
   "cell_type": "code",
   "execution_count": 66,
   "id": "3b6b92e8",
   "metadata": {},
   "outputs": [
    {
     "data": {
      "text/plain": [
       "2903"
      ]
     },
     "execution_count": 66,
     "metadata": {},
     "output_type": "execute_result"
    }
   ],
   "source": [
    "# time on source in targets.ms\n",
    "48*60+23"
   ]
  },
  {
   "cell_type": "markdown",
   "id": "78cbb0f6",
   "metadata": {},
   "source": [
    "That matches the above rather well."
   ]
  },
  {
   "cell_type": "code",
   "execution_count": 67,
   "id": "2a076cc1",
   "metadata": {},
   "outputs": [
    {
     "data": {
      "text/plain": [
       "302.9"
      ]
     },
     "execution_count": 67,
     "metadata": {},
     "output_type": "execute_result"
    }
   ],
   "source": [
    "# BP\n",
    "5*60+2.9"
   ]
  },
  {
   "cell_type": "code",
   "execution_count": 68,
   "id": "134a44fe",
   "metadata": {},
   "outputs": [
    {
     "data": {
      "text/plain": [
       "210"
      ]
     },
     "execution_count": 68,
     "metadata": {},
     "output_type": "execute_result"
    }
   ],
   "source": [
    "# phase\n",
    "7*30"
   ]
  },
  {
   "cell_type": "code",
   "execution_count": 69,
   "id": "cdcc1e06",
   "metadata": {},
   "outputs": [
    {
     "data": {
      "text/html": [
       "<i>Table length=6</i>\n",
       "<table id=\"table140235691135616\" class=\"table-striped table-bordered table-condensed\">\n",
       "<thead><tr><th>project_id</th><th>mous</th><th>band</th><th>asdm</th><th>intent</th><th>sum</th><th>na</th></tr></thead>\n",
       "<thead><tr><th>str16</th><th>str23</th><th>str5</th><th>str26</th><th>str46</th><th>float64</th><th>int64</th></tr></thead>\n",
       "<tr><td>2019.1.01056.S</td><td>uid://A001/X1465/X1b3c</td><td>6</td><td>uid://A002/Xe1f219/X6d0b</td><td>BANDPASS FLUX WVR</td><td>604.8</td><td>--</td></tr>\n",
       "<tr><td>2019.1.01056.S</td><td>uid://A001/X1465/X1b3c</td><td>6</td><td>uid://A002/Xe1f219/X6d0b</td><td>PHASE WVR</td><td>423.36</td><td>--</td></tr>\n",
       "<tr><td>2019.1.01056.S</td><td>uid://A001/X1465/X1b3c</td><td>6</td><td>uid://A002/Xe1f219/X6d0b</td><td>TARGET</td><td>2701.44</td><td>--</td></tr>\n",
       "<tr><td>2019.1.01056.S</td><td>uid://A001/X1465/X1b3c</td><td>6</td><td>uid://A002/Xe1f219/X7ee8</td><td>BANDPASS FLUX WVR</td><td>604.8</td><td>--</td></tr>\n",
       "<tr><td>2019.1.01056.S</td><td>uid://A001/X1465/X1b3c</td><td>6</td><td>uid://A002/Xe1f219/X7ee8</td><td>PHASE WVR</td><td>423.36</td><td>--</td></tr>\n",
       "<tr><td>2019.1.01056.S</td><td>uid://A001/X1465/X1b3c</td><td>6</td><td>uid://A002/Xe1f219/X7ee8</td><td>TARGET</td><td>2701.44</td><td>--</td></tr>\n",
       "</table>"
      ],
      "text/plain": [
       "<Table length=6>\n",
       "  project_id            mous          band ...       intent        sum     na \n",
       "    str16              str23          str5 ...       str46       float64 int64\n",
       "-------------- ---------------------- ---- ... ----------------- ------- -----\n",
       "2019.1.01056.S uid://A001/X1465/X1b3c    6 ... BANDPASS FLUX WVR   604.8    --\n",
       "2019.1.01056.S uid://A001/X1465/X1b3c    6 ...         PHASE WVR  423.36    --\n",
       "2019.1.01056.S uid://A001/X1465/X1b3c    6 ...            TARGET 2701.44    --\n",
       "2019.1.01056.S uid://A001/X1465/X1b3c    6 ... BANDPASS FLUX WVR   604.8    --\n",
       "2019.1.01056.S uid://A001/X1465/X1b3c    6 ...         PHASE WVR  423.36    --\n",
       "2019.1.01056.S uid://A001/X1465/X1b3c    6 ...            TARGET 2701.44    --"
      ]
     },
     "execution_count": 69,
     "metadata": {},
     "output_type": "execute_result"
    }
   ],
   "source": [
    "idx = felix['mous'] == 'uid://A001/X1465/X1b3c'\n",
    "felix[idx]"
   ]
  },
  {
   "cell_type": "code",
   "execution_count": 72,
   "id": "46e3575f",
   "metadata": {},
   "outputs": [
    {
     "data": {
      "text/plain": [
       "2772"
      ]
     },
     "execution_count": 72,
     "metadata": {},
     "output_type": "execute_result"
    }
   ],
   "source": [
    "# target\n",
    "46*60+12"
   ]
  },
  {
   "cell_type": "code",
   "execution_count": 73,
   "id": "6d2f3429",
   "metadata": {},
   "outputs": [
    {
     "data": {
      "text/plain": [
       "605.2"
      ]
     },
     "execution_count": 73,
     "metadata": {},
     "output_type": "execute_result"
    }
   ],
   "source": [
    "# bp\n",
    "10*60+5.2"
   ]
  },
  {
   "cell_type": "code",
   "execution_count": 75,
   "id": "2cf3556a",
   "metadata": {},
   "outputs": [
    {
     "data": {
      "text/plain": [
       "422.8"
      ]
     },
     "execution_count": 75,
     "metadata": {},
     "output_type": "execute_result"
    }
   ],
   "source": [
    "# phase\n",
    "60.4*7"
   ]
  },
  {
   "cell_type": "code",
   "execution_count": 77,
   "id": "a0631ba1",
   "metadata": {},
   "outputs": [
    {
     "data": {
      "text/html": [
       "<i>Table length=28</i>\n",
       "<table id=\"table140235691136384\" class=\"table-striped table-bordered table-condensed\">\n",
       "<thead><tr><th>project_id</th><th>mous</th><th>band</th><th>asdm</th><th>intent</th><th>sum</th><th>na</th></tr></thead>\n",
       "<thead><tr><th>str16</th><th>str23</th><th>str5</th><th>str26</th><th>str46</th><th>float64</th><th>int64</th></tr></thead>\n",
       "<tr><td>2018.1.00566.S</td><td>uid://A001/X133d/X2067</td><td>6</td><td>uid://A002/Xde9c3e/Xa303</td><td>BANDPASS FLUX WVR</td><td>302.4</td><td>--</td></tr>\n",
       "<tr><td>2018.1.00566.S</td><td>uid://A001/X133d/X2067</td><td>6</td><td>uid://A002/Xde9c3e/Xa303</td><td>CHECK WVR</td><td>90.72</td><td>--</td></tr>\n",
       "<tr><td>2018.1.00566.S</td><td>uid://A001/X133d/X2067</td><td>6</td><td>uid://A002/Xde9c3e/Xa303</td><td>PHASE WVR</td><td>961.632</td><td>--</td></tr>\n",
       "<tr><td>2018.1.00566.S</td><td>uid://A001/X133d/X2067</td><td>6</td><td>uid://A002/Xde9c3e/Xa303</td><td>TARGET</td><td>2884.896</td><td>--</td></tr>\n",
       "<tr><td>2018.1.00566.S</td><td>uid://A001/X133d/X2067</td><td>6</td><td>uid://A002/Xde9c3e/Xb167</td><td>BANDPASS FLUX WVR</td><td>302.4</td><td>--</td></tr>\n",
       "<tr><td>2018.1.00566.S</td><td>uid://A001/X133d/X2067</td><td>6</td><td>uid://A002/Xde9c3e/Xb167</td><td>CHECK WVR</td><td>90.72</td><td>--</td></tr>\n",
       "<tr><td>2018.1.00566.S</td><td>uid://A001/X133d/X2067</td><td>6</td><td>uid://A002/Xde9c3e/Xb167</td><td>PHASE WVR</td><td>961.632</td><td>--</td></tr>\n",
       "<tr><td>2018.1.00566.S</td><td>uid://A001/X133d/X2067</td><td>6</td><td>uid://A002/Xde9c3e/Xb167</td><td>TARGET</td><td>2884.896</td><td>--</td></tr>\n",
       "<tr><td>2018.1.00566.S</td><td>uid://A001/X133d/X2067</td><td>6</td><td>uid://A002/Xded57c/X2df4</td><td>BANDPASS FLUX WVR</td><td>302.4</td><td>--</td></tr>\n",
       "<tr><td>2018.1.00566.S</td><td>uid://A001/X133d/X2067</td><td>6</td><td>uid://A002/Xded57c/X2df4</td><td>CHECK WVR</td><td>90.72</td><td>--</td></tr>\n",
       "<tr><td>...</td><td>...</td><td>...</td><td>...</td><td>...</td><td>...</td><td>...</td></tr>\n",
       "<tr><td>2018.1.00566.S</td><td>uid://A001/X133d/X2067</td><td>6</td><td>uid://A002/Xded57c/X36e1</td><td>PHASE WVR</td><td>961.632</td><td>--</td></tr>\n",
       "<tr><td>2018.1.00566.S</td><td>uid://A001/X133d/X2067</td><td>6</td><td>uid://A002/Xded57c/X36e1</td><td>TARGET</td><td>2884.896</td><td>--</td></tr>\n",
       "<tr><td>2018.1.00566.S</td><td>uid://A001/X133d/X2067</td><td>6</td><td>uid://A002/Xdee82d/X353f</td><td>BANDPASS FLUX WVR</td><td>302.4</td><td>--</td></tr>\n",
       "<tr><td>2018.1.00566.S</td><td>uid://A001/X133d/X2067</td><td>6</td><td>uid://A002/Xdee82d/X353f</td><td>CHECK WVR</td><td>90.72</td><td>--</td></tr>\n",
       "<tr><td>2018.1.00566.S</td><td>uid://A001/X133d/X2067</td><td>6</td><td>uid://A002/Xdee82d/X353f</td><td>PHASE WVR</td><td>979.776</td><td>--</td></tr>\n",
       "<tr><td>2018.1.00566.S</td><td>uid://A001/X133d/X2067</td><td>6</td><td>uid://A002/Xdee82d/X353f</td><td>TARGET</td><td>2884.896</td><td>--</td></tr>\n",
       "<tr><td>2018.1.00566.S</td><td>uid://A001/X133d/X2067</td><td>6</td><td>uid://A002/Xef1a98/X1541</td><td>BANDPASS FLUX WVR</td><td>302.4</td><td>--</td></tr>\n",
       "<tr><td>2018.1.00566.S</td><td>uid://A001/X133d/X2067</td><td>6</td><td>uid://A002/Xef1a98/X1541</td><td>CHECK WVR</td><td>90.72</td><td>--</td></tr>\n",
       "<tr><td>2018.1.00566.S</td><td>uid://A001/X133d/X2067</td><td>6</td><td>uid://A002/Xef1a98/X1541</td><td>PHASE WVR</td><td>961.632</td><td>--</td></tr>\n",
       "<tr><td>2018.1.00566.S</td><td>uid://A001/X133d/X2067</td><td>6</td><td>uid://A002/Xef1a98/X1541</td><td>TARGET</td><td>2884.896</td><td>--</td></tr>\n",
       "</table>"
      ],
      "text/plain": [
       "<Table length=28>\n",
       "  project_id            mous          band ...       intent        sum      na \n",
       "    str16              str23          str5 ...       str46       float64  int64\n",
       "-------------- ---------------------- ---- ... ----------------- -------- -----\n",
       "2018.1.00566.S uid://A001/X133d/X2067    6 ... BANDPASS FLUX WVR    302.4    --\n",
       "2018.1.00566.S uid://A001/X133d/X2067    6 ...         CHECK WVR    90.72    --\n",
       "2018.1.00566.S uid://A001/X133d/X2067    6 ...         PHASE WVR  961.632    --\n",
       "2018.1.00566.S uid://A001/X133d/X2067    6 ...            TARGET 2884.896    --\n",
       "2018.1.00566.S uid://A001/X133d/X2067    6 ... BANDPASS FLUX WVR    302.4    --\n",
       "2018.1.00566.S uid://A001/X133d/X2067    6 ...         CHECK WVR    90.72    --\n",
       "2018.1.00566.S uid://A001/X133d/X2067    6 ...         PHASE WVR  961.632    --\n",
       "2018.1.00566.S uid://A001/X133d/X2067    6 ...            TARGET 2884.896    --\n",
       "2018.1.00566.S uid://A001/X133d/X2067    6 ... BANDPASS FLUX WVR    302.4    --\n",
       "2018.1.00566.S uid://A001/X133d/X2067    6 ...         CHECK WVR    90.72    --\n",
       "           ...                    ...  ... ...               ...      ...   ...\n",
       "2018.1.00566.S uid://A001/X133d/X2067    6 ...         PHASE WVR  961.632    --\n",
       "2018.1.00566.S uid://A001/X133d/X2067    6 ...            TARGET 2884.896    --\n",
       "2018.1.00566.S uid://A001/X133d/X2067    6 ... BANDPASS FLUX WVR    302.4    --\n",
       "2018.1.00566.S uid://A001/X133d/X2067    6 ...         CHECK WVR    90.72    --\n",
       "2018.1.00566.S uid://A001/X133d/X2067    6 ...         PHASE WVR  979.776    --\n",
       "2018.1.00566.S uid://A001/X133d/X2067    6 ...            TARGET 2884.896    --\n",
       "2018.1.00566.S uid://A001/X133d/X2067    6 ... BANDPASS FLUX WVR    302.4    --\n",
       "2018.1.00566.S uid://A001/X133d/X2067    6 ...         CHECK WVR    90.72    --\n",
       "2018.1.00566.S uid://A001/X133d/X2067    6 ...         PHASE WVR  961.632    --\n",
       "2018.1.00566.S uid://A001/X133d/X2067    6 ...            TARGET 2884.896    --"
      ]
     },
     "execution_count": 77,
     "metadata": {},
     "output_type": "execute_result"
    }
   ],
   "source": [
    "idx = felix['mous'] == 'uid://A001/X133d/X2067'\n",
    "felix[idx]"
   ]
  },
  {
   "cell_type": "code",
   "execution_count": 87,
   "id": "60f994d7",
   "metadata": {},
   "outputs": [
    {
     "data": {
      "text/plain": [
       "2917"
      ]
     },
     "execution_count": 87,
     "metadata": {},
     "output_type": "execute_result"
    }
   ],
   "source": [
    "# target\n",
    "48*60+37"
   ]
  },
  {
   "cell_type": "code",
   "execution_count": 84,
   "id": "f960586b",
   "metadata": {},
   "outputs": [
    {
     "data": {
      "text/plain": [
       "302.6"
      ]
     },
     "execution_count": 84,
     "metadata": {},
     "output_type": "execute_result"
    }
   ],
   "source": [
    "#BP\n",
    "5*60+2.6"
   ]
  },
  {
   "cell_type": "code",
   "execution_count": 86,
   "id": "bb90b043",
   "metadata": {},
   "outputs": [
    {
     "data": {
      "text/plain": [
       "1001.6999999999999"
      ]
     },
     "execution_count": 86,
     "metadata": {},
     "output_type": "execute_result"
    }
   ],
   "source": [
    "# Phase\n",
    "18.9*53"
   ]
  },
  {
   "cell_type": "code",
   "execution_count": 88,
   "id": "e3a70624",
   "metadata": {},
   "outputs": [
    {
     "data": {
      "text/plain": [
       "94.5"
      ]
     },
     "execution_count": 88,
     "metadata": {},
     "output_type": "execute_result"
    }
   ],
   "source": [
    "# check source\n",
    "5*18.9"
   ]
  },
  {
   "cell_type": "markdown",
   "id": "81ebfd79",
   "metadata": {},
   "source": [
    "Given the results above, I think I understand the table from Felix and am relatively confident in the results.\n",
    "\n",
    "One question I want to ask Felix is how where the times derived. Consistent with listobs, but not exact."
   ]
  },
  {
   "cell_type": "markdown",
   "id": "d3ef2923",
   "metadata": {},
   "source": [
    "## Working out how to categorize this information for calculations"
   ]
  },
  {
   "cell_type": "markdown",
   "id": "8646f390",
   "metadata": {},
   "source": [
    "I think I'm going to do the calculations on the actual file and then do a table join to add the information to the current data base?\n",
    "\n",
    "Data base is currently project/mous/src/spw"
   ]
  },
  {
   "cell_type": "code",
   "execution_count": 4,
   "id": "a0dd45fe",
   "metadata": {},
   "outputs": [],
   "source": [
    "import large_cubes\n",
    "from importlib import reload"
   ]
  },
  {
   "cell_type": "code",
   "execution_count": 7,
   "id": "f5986c56",
   "metadata": {
    "scrolled": true
   },
   "outputs": [
    {
     "ename": "KeyboardInterrupt",
     "evalue": "",
     "output_type": "error",
     "traceback": [
      "\u001b[0;31m---------------------------------------------------------------------------\u001b[0m",
      "\u001b[0;31mKeyboardInterrupt\u001b[0m                         Traceback (most recent call last)",
      "\u001b[0;32m<ipython-input-7-fd2a0c386590>\u001b[0m in \u001b[0;36m<module>\u001b[0;34m\u001b[0m\n\u001b[1;32m      1\u001b[0m \u001b[0mreload\u001b[0m\u001b[0;34m(\u001b[0m\u001b[0mlarge_cubes\u001b[0m\u001b[0;34m)\u001b[0m\u001b[0;34m\u001b[0m\u001b[0;34m\u001b[0m\u001b[0m\n\u001b[0;32m----> 2\u001b[0;31m \u001b[0mtos_db\u001b[0m \u001b[0;34m=\u001b[0m \u001b[0mlarge_cubes\u001b[0m\u001b[0;34m.\u001b[0m\u001b[0mcalc_time_on_source\u001b[0m\u001b[0;34m(\u001b[0m\u001b[0;34m'data/project_mous_band_array_eb_size___source_intent_inttime'\u001b[0m\u001b[0;34m)\u001b[0m\u001b[0;34m\u001b[0m\u001b[0;34m\u001b[0m\u001b[0m\n\u001b[0m",
      "\u001b[0;32m~/Dropbox/Support/naasc/WSU/big_cubes/large_cubes.py\u001b[0m in \u001b[0;36mcalc_time_on_source\u001b[0;34m(cal_info_file, min_date, debug)\u001b[0m\n\u001b[1;32m    510\u001b[0m         \u001b[0mmous_arr\u001b[0m \u001b[0;34m=\u001b[0m \u001b[0mnp\u001b[0m\u001b[0;34m.\u001b[0m\u001b[0mappend\u001b[0m\u001b[0;34m(\u001b[0m\u001b[0mmous_arr\u001b[0m\u001b[0;34m,\u001b[0m \u001b[0mnp\u001b[0m\u001b[0;34m.\u001b[0m\u001b[0mrepeat\u001b[0m\u001b[0;34m(\u001b[0m\u001b[0mmous\u001b[0m\u001b[0;34m,\u001b[0m\u001b[0mn_src\u001b[0m\u001b[0;34m)\u001b[0m\u001b[0;34m)\u001b[0m\u001b[0;34m\u001b[0m\u001b[0;34m\u001b[0m\u001b[0m\n\u001b[1;32m    511\u001b[0m         \u001b[0mband_arr\u001b[0m \u001b[0;34m=\u001b[0m \u001b[0mnp\u001b[0m\u001b[0;34m.\u001b[0m\u001b[0mappend\u001b[0m\u001b[0;34m(\u001b[0m\u001b[0mband_arr\u001b[0m\u001b[0;34m,\u001b[0m \u001b[0mnp\u001b[0m\u001b[0;34m.\u001b[0m\u001b[0mrepeat\u001b[0m\u001b[0;34m(\u001b[0m\u001b[0mband\u001b[0m\u001b[0;34m,\u001b[0m \u001b[0mn_src\u001b[0m\u001b[0;34m)\u001b[0m\u001b[0;34m)\u001b[0m\u001b[0;34m\u001b[0m\u001b[0;34m\u001b[0m\u001b[0m\n\u001b[0;32m--> 512\u001b[0;31m         \u001b[0marray_arr\u001b[0m \u001b[0;34m=\u001b[0m \u001b[0mnp\u001b[0m\u001b[0;34m.\u001b[0m\u001b[0mappend\u001b[0m\u001b[0;34m(\u001b[0m\u001b[0marray_arr\u001b[0m\u001b[0;34m,\u001b[0m \u001b[0mnp\u001b[0m\u001b[0;34m.\u001b[0m\u001b[0mrepeat\u001b[0m\u001b[0;34m(\u001b[0m\u001b[0marray\u001b[0m\u001b[0;34m,\u001b[0m \u001b[0mn_src\u001b[0m\u001b[0;34m)\u001b[0m\u001b[0;34m)\u001b[0m\u001b[0;34m\u001b[0m\u001b[0;34m\u001b[0m\u001b[0m\n\u001b[0m\u001b[1;32m    513\u001b[0m         \u001b[0mbp_time_arr\u001b[0m \u001b[0;34m=\u001b[0m \u001b[0mnp\u001b[0m\u001b[0;34m.\u001b[0m\u001b[0mappend\u001b[0m\u001b[0;34m(\u001b[0m\u001b[0mbp_time_arr\u001b[0m\u001b[0;34m,\u001b[0m \u001b[0mnp\u001b[0m\u001b[0;34m.\u001b[0m\u001b[0mrepeat\u001b[0m\u001b[0;34m(\u001b[0m\u001b[0mbp_time\u001b[0m\u001b[0;34m,\u001b[0m \u001b[0mn_src\u001b[0m\u001b[0;34m)\u001b[0m\u001b[0;34m)\u001b[0m\u001b[0;34m\u001b[0m\u001b[0;34m\u001b[0m\u001b[0m\n\u001b[1;32m    514\u001b[0m         \u001b[0mflux_time_arr\u001b[0m \u001b[0;34m=\u001b[0m \u001b[0mnp\u001b[0m\u001b[0;34m.\u001b[0m\u001b[0mappend\u001b[0m\u001b[0;34m(\u001b[0m\u001b[0mflux_time_arr\u001b[0m\u001b[0;34m,\u001b[0m \u001b[0mnp\u001b[0m\u001b[0;34m.\u001b[0m\u001b[0mrepeat\u001b[0m\u001b[0;34m(\u001b[0m\u001b[0mflux_time\u001b[0m\u001b[0;34m,\u001b[0m \u001b[0mn_src\u001b[0m\u001b[0;34m)\u001b[0m\u001b[0;34m)\u001b[0m\u001b[0;34m\u001b[0m\u001b[0;34m\u001b[0m\u001b[0m\n",
      "\u001b[0;32m<__array_function__ internals>\u001b[0m in \u001b[0;36mappend\u001b[0;34m(*args, **kwargs)\u001b[0m\n",
      "\u001b[0;32m~/opt/anaconda3/lib/python3.8/site-packages/numpy/lib/function_base.py\u001b[0m in \u001b[0;36mappend\u001b[0;34m(arr, values, axis)\u001b[0m\n\u001b[1;32m   4743\u001b[0m         \u001b[0mvalues\u001b[0m \u001b[0;34m=\u001b[0m \u001b[0mravel\u001b[0m\u001b[0;34m(\u001b[0m\u001b[0mvalues\u001b[0m\u001b[0;34m)\u001b[0m\u001b[0;34m\u001b[0m\u001b[0;34m\u001b[0m\u001b[0m\n\u001b[1;32m   4744\u001b[0m         \u001b[0maxis\u001b[0m \u001b[0;34m=\u001b[0m \u001b[0marr\u001b[0m\u001b[0;34m.\u001b[0m\u001b[0mndim\u001b[0m\u001b[0;34m-\u001b[0m\u001b[0;36m1\u001b[0m\u001b[0;34m\u001b[0m\u001b[0;34m\u001b[0m\u001b[0m\n\u001b[0;32m-> 4745\u001b[0;31m     \u001b[0;32mreturn\u001b[0m \u001b[0mconcatenate\u001b[0m\u001b[0;34m(\u001b[0m\u001b[0;34m(\u001b[0m\u001b[0marr\u001b[0m\u001b[0;34m,\u001b[0m \u001b[0mvalues\u001b[0m\u001b[0;34m)\u001b[0m\u001b[0;34m,\u001b[0m \u001b[0maxis\u001b[0m\u001b[0;34m=\u001b[0m\u001b[0maxis\u001b[0m\u001b[0;34m)\u001b[0m\u001b[0;34m\u001b[0m\u001b[0;34m\u001b[0m\u001b[0m\n\u001b[0m\u001b[1;32m   4746\u001b[0m \u001b[0;34m\u001b[0m\u001b[0m\n\u001b[1;32m   4747\u001b[0m \u001b[0;34m\u001b[0m\u001b[0m\n",
      "\u001b[0;32m<__array_function__ internals>\u001b[0m in \u001b[0;36mconcatenate\u001b[0;34m(*args, **kwargs)\u001b[0m\n",
      "\u001b[0;31mKeyboardInterrupt\u001b[0m: "
     ]
    }
   ],
   "source": [
    "reload(large_cubes)\n",
    "tos_db = large_cubes.calc_time_on_source('data/project_mous_band_array_eb_size___source_intent_inttime')"
   ]
  }
 ],
 "metadata": {
  "kernelspec": {
   "display_name": "Python 3 (ipykernel)",
   "language": "python",
   "name": "python3"
  },
  "language_info": {
   "codemirror_mode": {
    "name": "ipython",
    "version": 3
   },
   "file_extension": ".py",
   "mimetype": "text/x-python",
   "name": "python",
   "nbconvert_exporter": "python",
   "pygments_lexer": "ipython3",
   "version": "3.8.8"
  }
 },
 "nbformat": 4,
 "nbformat_minor": 5
}
