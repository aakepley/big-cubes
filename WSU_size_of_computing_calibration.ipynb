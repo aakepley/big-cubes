{
 "cells": [
  {
   "cell_type": "code",
   "execution_count": 3,
   "id": "5bffc876",
   "metadata": {},
   "outputs": [],
   "source": [
    "import astropy\n",
    "import numpy as np\n",
    "from astropy.table import Table\n",
    "import matplotlib.pyplot as plt"
   ]
  },
  {
   "cell_type": "markdown",
   "id": "577b2858",
   "metadata": {},
   "source": [
    "# The Problem"
   ]
  },
  {
   "cell_type": "markdown",
   "id": "7864597d",
   "metadata": {},
   "source": [
    "The Dataiku framework that we were going to use to extract the calibration scan information and time on source was affected in the JAO Cyberattack. I'm trying to find some other way to get the information. I have two options:\n",
    "* files from Ignacio that he had on his system including scan_table.csv.gz and sb_science_targets_consolidated_bl.csv\n",
    "* files from Felix with information that he has gleaned from the achive. I believe that this is all MOUS (not EB). I don't know if the per EB information can be gotten out since we process by MOUS"
   ]
  },
  {
   "cell_type": "markdown",
   "id": "3d1a0065",
   "metadata": {},
   "source": [
    "## Playing with Ignacio's data set"
   ]
  },
  {
   "cell_type": "code",
   "execution_count": 6,
   "id": "d4aded22",
   "metadata": {},
   "outputs": [],
   "source": [
    "scan_table = Table.read('scan_table.csv')"
   ]
  },
  {
   "cell_type": "code",
   "execution_count": 7,
   "id": "18249a0e",
   "metadata": {},
   "outputs": [
    {
     "data": {
      "text/plain": [
       "['EXECBLOCK_UID',\n",
       " 'scanNumber',\n",
       " 'startTime',\n",
       " 'endTime',\n",
       " 'numIntent',\n",
       " 'numSubscan',\n",
       " 'scanIntent',\n",
       " 'calDataType',\n",
       " 'numField',\n",
       " 'sourceName']"
      ]
     },
     "execution_count": 7,
     "metadata": {},
     "output_type": "execute_result"
    }
   ],
   "source": [
    "scan_table.keys()"
   ]
  },
  {
   "cell_type": "markdown",
   "id": "ad9c4db8",
   "metadata": {},
   "source": [
    "Hmmmm.... looks like they key off of EXECBLOCK_UID. Not what I have for the other stuff (MOUS). But there might be a relatively straightforward way to map EXECBLOCK_UID to MEMBER_OUS_UID. Felix might have something for this."
   ]
  },
  {
   "cell_type": "code",
   "execution_count": 8,
   "id": "26dca1c6",
   "metadata": {},
   "outputs": [
    {
     "data": {
      "text/plain": [
       "87268"
      ]
     },
     "execution_count": 8,
     "metadata": {},
     "output_type": "execute_result"
    }
   ],
   "source": [
    "len(scan_table)"
   ]
  },
  {
   "cell_type": "code",
   "execution_count": 13,
   "id": "84a457ee",
   "metadata": {},
   "outputs": [
    {
     "data": {
      "text/plain": [
       "0"
      ]
     },
     "execution_count": 13,
     "metadata": {},
     "output_type": "execute_result"
    }
   ],
   "source": [
    "np.sum(scan_table['scanIntent'] == 'OBSERVE_TARGET')"
   ]
  },
  {
   "cell_type": "code",
   "execution_count": 14,
   "id": "eb57bb71",
   "metadata": {},
   "outputs": [
    {
     "data": {
      "text/html": [
       "&lt;Column name=&apos;scanIntent&apos; dtype=&apos;str20&apos; length=9&gt;\n",
       "<table>\n",
       "<tr><td>CALIBRATE_ATMOSPHERE</td></tr>\n",
       "<tr><td>CALIBRATE_BANDPASS</td></tr>\n",
       "<tr><td>CALIBRATE_DELAY</td></tr>\n",
       "<tr><td>CALIBRATE_FLUX</td></tr>\n",
       "<tr><td>CALIBRATE_FOCUS</td></tr>\n",
       "<tr><td>CALIBRATE_PHASE</td></tr>\n",
       "<tr><td>CALIBRATE_POINTING</td></tr>\n",
       "<tr><td>CALIBRATE_WVR</td></tr>\n",
       "<tr><td>OBSERVE_CHECK_SOURCE</td></tr>\n",
       "</table>"
      ],
      "text/plain": [
       "<Column name='scanIntent' dtype='str20' length=9>\n",
       "CALIBRATE_ATMOSPHERE\n",
       "  CALIBRATE_BANDPASS\n",
       "     CALIBRATE_DELAY\n",
       "      CALIBRATE_FLUX\n",
       "     CALIBRATE_FOCUS\n",
       "     CALIBRATE_PHASE\n",
       "  CALIBRATE_POINTING\n",
       "       CALIBRATE_WVR\n",
       "OBSERVE_CHECK_SOURCE"
      ]
     },
     "execution_count": 14,
     "metadata": {},
     "output_type": "execute_result"
    }
   ],
   "source": [
    "np.unique(scan_table['scanIntent'])"
   ]
  },
  {
   "cell_type": "markdown",
   "id": "2648cf3b",
   "metadata": {},
   "source": [
    "Okay, so it only has the information for the calibration and none on the science sources"
   ]
  },
  {
   "cell_type": "code",
   "execution_count": 15,
   "id": "c57dfe37",
   "metadata": {},
   "outputs": [
    {
     "data": {
      "text/html": [
       "<i>Table length=10</i>\n",
       "<table id=\"table140235423566432\" class=\"table-striped table-bordered table-condensed\">\n",
       "<thead><tr><th>EXECBLOCK_UID</th><th>scanNumber</th><th>startTime</th><th>endTime</th><th>numIntent</th><th>numSubscan</th><th>scanIntent</th><th>calDataType</th><th>numField</th><th>sourceName</th></tr></thead>\n",
       "<thead><tr><th>str25</th><th>int64</th><th>str24</th><th>str24</th><th>int64</th><th>int64</th><th>str20</th><th>str55</th><th>int64</th><th>str10</th></tr></thead>\n",
       "<tr><td>uid://A002/Xc5b102/X2ba2</td><td>1</td><td>2017-10-14T13:46:03.185Z</td><td>2017-10-14T13:48:09.017Z</td><td>2</td><td>10</td><td>CALIBRATE_POINTING</td><td>[&quot;CHANNEL_AVERAGE_CROSS&quot;,&quot;WVR&quot;]</td><td>1</td><td>J1058+0133</td></tr>\n",
       "<tr><td>uid://A002/Xc5b102/X2ba2</td><td>1</td><td>2017-10-14T13:46:03.185Z</td><td>2017-10-14T13:48:09.017Z</td><td>2</td><td>10</td><td>CALIBRATE_WVR</td><td>[&quot;CHANNEL_AVERAGE_CROSS&quot;,&quot;WVR&quot;]</td><td>1</td><td>J1058+0133</td></tr>\n",
       "<tr><td>uid://A002/Xc5b102/X2ba2</td><td>2</td><td>2017-10-14T13:48:10.111Z</td><td>2017-10-14T13:49:26.410Z</td><td>2</td><td>10</td><td>CALIBRATE_POINTING</td><td>[&quot;CHANNEL_AVERAGE_CROSS&quot;,&quot;WVR&quot;]</td><td>1</td><td>J1058+0133</td></tr>\n",
       "<tr><td>uid://A002/Xc5b102/X2ba2</td><td>2</td><td>2017-10-14T13:48:10.111Z</td><td>2017-10-14T13:49:26.410Z</td><td>2</td><td>10</td><td>CALIBRATE_WVR</td><td>[&quot;CHANNEL_AVERAGE_CROSS&quot;,&quot;WVR&quot;]</td><td>1</td><td>J1058+0133</td></tr>\n",
       "<tr><td>uid://A002/Xc5b102/X2ba2</td><td>3</td><td>2017-10-14T13:49:27.478Z</td><td>2017-10-14T13:53:50.160Z</td><td>2</td><td>14</td><td>CALIBRATE_FOCUS</td><td>[&quot;CHANNEL_AVERAGE_CROSS&quot;,&quot;WVR&quot;]</td><td>1</td><td>J1058+0133</td></tr>\n",
       "<tr><td>uid://A002/Xc5b102/X2ba2</td><td>3</td><td>2017-10-14T13:49:27.478Z</td><td>2017-10-14T13:53:50.160Z</td><td>2</td><td>14</td><td>CALIBRATE_WVR</td><td>[&quot;CHANNEL_AVERAGE_CROSS&quot;,&quot;WVR&quot;]</td><td>1</td><td>J1058+0133</td></tr>\n",
       "<tr><td>uid://A002/Xc5b102/X2ba2</td><td>4</td><td>2017-10-14T13:53:51.645Z</td><td>2017-10-14T13:55:08.897Z</td><td>2</td><td>10</td><td>CALIBRATE_POINTING</td><td>[&quot;CHANNEL_AVERAGE_CROSS&quot;,&quot;WVR&quot;]</td><td>1</td><td>J1058+0133</td></tr>\n",
       "<tr><td>uid://A002/Xc5b102/X2ba2</td><td>4</td><td>2017-10-14T13:53:51.645Z</td><td>2017-10-14T13:55:08.897Z</td><td>2</td><td>10</td><td>CALIBRATE_WVR</td><td>[&quot;CHANNEL_AVERAGE_CROSS&quot;,&quot;WVR&quot;]</td><td>1</td><td>J1058+0133</td></tr>\n",
       "<tr><td>uid://A002/Xc5b102/X2ba2</td><td>5</td><td>2017-10-14T13:55:10.231Z</td><td>2017-10-14T13:56:38.647Z</td><td>2</td><td>3</td><td>CALIBRATE_ATMOSPHERE</td><td>[&quot;FULL_RESOLUTION_AUTO&quot;,&quot;WVR&quot;]</td><td>1</td><td>J1058+0133</td></tr>\n",
       "<tr><td>uid://A002/Xc5b102/X2ba2</td><td>5</td><td>2017-10-14T13:55:10.231Z</td><td>2017-10-14T13:56:38.647Z</td><td>2</td><td>3</td><td>CALIBRATE_WVR</td><td>[&quot;FULL_RESOLUTION_AUTO&quot;,&quot;WVR&quot;]</td><td>1</td><td>J1058+0133</td></tr>\n",
       "</table>"
      ],
      "text/plain": [
       "<Table length=10>\n",
       "     EXECBLOCK_UID       scanNumber ... numField sourceName\n",
       "         str25             int64    ...  int64     str10   \n",
       "------------------------ ---------- ... -------- ----------\n",
       "uid://A002/Xc5b102/X2ba2          1 ...        1 J1058+0133\n",
       "uid://A002/Xc5b102/X2ba2          1 ...        1 J1058+0133\n",
       "uid://A002/Xc5b102/X2ba2          2 ...        1 J1058+0133\n",
       "uid://A002/Xc5b102/X2ba2          2 ...        1 J1058+0133\n",
       "uid://A002/Xc5b102/X2ba2          3 ...        1 J1058+0133\n",
       "uid://A002/Xc5b102/X2ba2          3 ...        1 J1058+0133\n",
       "uid://A002/Xc5b102/X2ba2          4 ...        1 J1058+0133\n",
       "uid://A002/Xc5b102/X2ba2          4 ...        1 J1058+0133\n",
       "uid://A002/Xc5b102/X2ba2          5 ...        1 J1058+0133\n",
       "uid://A002/Xc5b102/X2ba2          5 ...        1 J1058+0133"
      ]
     },
     "execution_count": 15,
     "metadata": {},
     "output_type": "execute_result"
    }
   ],
   "source": [
    "scan_table[0:10]"
   ]
  },
  {
   "cell_type": "markdown",
   "id": "765add9c",
   "metadata": {},
   "source": [
    "But the startTime and endTime could be used to get some time on the calibration sources for different intents"
   ]
  },
  {
   "cell_type": "code",
   "execution_count": 55,
   "id": "8fe6190e",
   "metadata": {},
   "outputs": [
    {
     "data": {
      "text/html": [
       "<i>Table length=0</i>\n",
       "<table id=\"table140235691138736\" class=\"table-striped table-bordered table-condensed\">\n",
       "<thead><tr><th>EXECBLOCK_UID</th><th>scanNumber</th><th>startTime</th><th>endTime</th><th>numIntent</th><th>numSubscan</th><th>scanIntent</th><th>calDataType</th><th>numField</th><th>sourceName</th></tr></thead>\n",
       "<thead><tr><th>str25</th><th>int64</th><th>str24</th><th>str24</th><th>int64</th><th>int64</th><th>str20</th><th>str55</th><th>int64</th><th>str10</th></tr></thead>\n",
       "</table>"
      ],
      "text/plain": [
       "<Table length=0>\n",
       "EXECBLOCK_UID scanNumber startTime endTime ... calDataType numField sourceName\n",
       "    str25       int64      str24    str24  ...    str55     int64     str10   \n",
       "------------- ---------- --------- ------- ... ----------- -------- ----------"
      ]
     },
     "execution_count": 55,
     "metadata": {},
     "output_type": "execute_result"
    }
   ],
   "source": [
    "idx = scan_table['EXECBLOCK_UID'] == 'uid://A002/Xedbc85/X78df'\n",
    "scan_table[idx]"
   ]
  },
  {
   "cell_type": "code",
   "execution_count": 42,
   "id": "13de6d62",
   "metadata": {},
   "outputs": [],
   "source": [
    "ignacio2 = Table.read('sb_science_targets_consolidated_bl.csv')"
   ]
  },
  {
   "cell_type": "code",
   "execution_count": 50,
   "id": "3dca9e2f",
   "metadata": {},
   "outputs": [
    {
     "data": {
      "text/plain": [
       "<TableColumns names=('OBSPROJECT_UID','SB_UID','SB_NAME','MODE_NAME','ARRAY','REPRESENTATIVE_TARGET_REF','TARGET_ID','SPEC_REF','FIELD_REF','OBSERVING_PARAMETER_REF','SCIPARAM_NAME','SCIPARAM_REPRESENTATIVE_BANDWIDTH','SCIPARAM_REPRESENTATIVE_BANDWIDTH_UNIT','SCIPARAM_REPRESENTATIVE_FREQUENCY','SCIPARAM_REPRESENTATIVE_FREQUENCY_UNIT','SCIPARAM_SENSITIVITY_GOAL','SCIPARAM_SENSITIVITY_GOAL_UNIT','SCIPARAM_INTEGRATION_TIME','SCIPARAM_INTEGRATION_TIME_UNIT','SCIPARAM_SUB_SCAN_DURATION','SCIPARAM_SUB_SCAN_DURATION_UNIT','SCIPARAM_FORCE_ATM_CAL','FIELD_SOLAR_SYSTEM_OBJECT','FIELD_SOURCE_LONG','FIELD_SOURCE_LONG_UNIT','FIELD_SOURCE_LAT','FIELD_SOURCE_LAT_UNIT','FIELD_FIELD_NAME','FIELD_SOURCE_NAME','FIELD_SOURCE_CENTER_VELOCITY','FIELD_SOURCE_CENTER_VELOCITY_UNIT','FIELD_SOURCE_VELOCITY_REF_SYSTEM','FIELD_SOURCE_VELOCITY_DOPPLER_CALC','FIELD_PM_RA','FIELD_PM_RA_UNIT','FIELD_PM_DEC','FIELD_PM_DEC_UNIT','FIELD_NON_SIDEREAL_MOTION','FIELD_PARALLAX','FIELD_PARALLAX_UNIT','FIELD_NAME','BLSPEC_NAME','BLSPEC_INTEGRATION_DURATION','BLSPEC_INTEGRATION_DURATION_UNIT','BLSPEC_CHANNEL_AVERAGE_DURATION','BLSPEC_CHANNEL_AVERAGE_DURATION_UNIT','BLSPEC_ENABLE_180_DEGREE_WALSH_FUNCTION','BLSPEC_ENABLE_90_DEGREE_WALSH_FUNCTION','FRQSETUP_BAND','FRQSETUP_DOPPLER_REFERENCE','FRQSETUP_REST_FREQUENCY','FRQSETUP_REST_FREQUENCY_UNIT','FRQSETUP_TRANSITION_NAME','FRQSETUP_LO1_FREQUENCY','FRQSETUP_LO1_FREQUENCY_UNIT','BLBB_BASEBAND_SPEC_ID','BLBB_DATA_PRODUCTS','BLBB_CENTER_FREQUENCY','BLBB_CENTER_FREQUENCY_UNIT','BLBB_LO2_FREQUENCY','BLBB_LO2_FREQUENCY_UNIT','BLSPW_SPW_NAME','BLSPW_CORRELATION_BITS','BLSPW_SIDEBAND','BLSPW_WINDOW_FUNCTION','BLSPW_CENTER_FREQUENCY','BLSPW_CENTER_FREQUENCY_UNIT','BLSPW_SPECTRAL_AVG_FACTOR','BLSPW_EFFECTIVE_BANDWITH','BLSPW_EFFECTIVE_BANDWITH_UNIT','BLSPW_EFFECTIVE_NUMBER_CHANNELS','BLSPW_ASSOCIATED_SPW_NUMBER_IN_PAIR','BLSPW_USE_THIS_SPECTRAL_WINDOW','BLSPW_REPRESENTATIVE_WINDOW','BLSPW_DESIRED_CENTER_FREQUENCY','BLSPW_DESIRED_CENTER_FREQUENCY_UNIT')>"
      ]
     },
     "execution_count": 50,
     "metadata": {},
     "output_type": "execute_result"
    }
   ],
   "source": [
    "ignacio2.columns"
   ]
  },
  {
   "cell_type": "code",
   "execution_count": 54,
   "id": "70e24e94",
   "metadata": {},
   "outputs": [
    {
     "data": {
      "text/html": [
       "<i>Table length=10</i>\n",
       "<table id=\"table140235691135280\" class=\"table-striped table-bordered table-condensed\">\n",
       "<thead><tr><th>OBSPROJECT_UID</th><th>SB_UID</th><th>SB_NAME</th><th>MODE_NAME</th><th>SCIPARAM_INTEGRATION_TIME</th><th>SCIPARAM_INTEGRATION_TIME_UNIT</th><th>SCIPARAM_SUB_SCAN_DURATION</th></tr></thead>\n",
       "<thead><tr><th>str23</th><th>str23</th><th>str41</th><th>str33</th><th>float64</th><th>str3</th><th>float64</th></tr></thead>\n",
       "<tr><td>uid://A001/X12d6/X3d2</td><td>uid://A001/X1301/X4d2</td><td>R_136_d_07_TM1</td><td>Standard Interferometry</td><td>2872.7</td><td>s</td><td>30.24</td></tr>\n",
       "<tr><td>uid://A001/X13b9/X14b0</td><td>uid://A001/X1465/X489</td><td>12951_a_06_TM1</td><td>Standard Interferometry</td><td>489.78799999999995</td><td>s</td><td>18.144</td></tr>\n",
       "<tr><td>uid://A001/X12eb/X845</td><td>uid://A001/X1302/X35f</td><td>ad3a-206_bh_03_TM1</td><td>Standard Interferometry</td><td>24.092</td><td>s</td><td>24.192</td></tr>\n",
       "<tr><td>uid://A001/X1525/X1908</td><td>uid://A001/X1525/X207e</td><td>M12_2573_n_06_TM1</td><td>Standard Interferometry</td><td>18.043999999999997</td><td>s</td><td>18.144</td></tr>\n",
       "<tr><td>uid://A001/X1525/X1908</td><td>uid://A001/X1525/X207e</td><td>M12_2573_n_06_TM1</td><td>Standard Interferometry</td><td>18.043999999999997</td><td>s</td><td>18.144</td></tr>\n",
       "<tr><td>uid://A001/X1525/Xcd1</td><td>uid://A001/X1590/X17b9</td><td>ad3a-216_a_03_TM1</td><td>Standard Interferometry</td><td>36.188</td><td>s</td><td>36.288</td></tr>\n",
       "<tr><td>uid://A001/X15b9/X267</td><td>uid://A001/X15ba/X539e</td><td>HD313571_a_06_TM1</td><td>Standard Interferometry</td><td>574.4599999999999</td><td>s</td><td>30.24</td></tr>\n",
       "<tr><td>uid://A001/X15ba/X241</td><td>uid://A001/X2d1f/Xa4a</td><td>B335_a_03_TM2</td><td>Standard Interferometry</td><td>1058.3</td><td>s</td><td>30.24</td></tr>\n",
       "<tr><td>uid://A001/X1ee/Xa76</td><td>uid://A001/X2fb/X248</td><td>NGC_3627_a_06_TE</td><td>Standard Interferometry</td><td>2086.46</td><td>s</td><td>18.144</td></tr>\n",
       "<tr><td>uid://A001/X12ea/X629</td><td>uid://A001/X1300/Xb13</td><td>SPT2152-_a_07_TM1</td><td>Standard Interferometry</td><td>112.796</td><td>s</td><td>28.224</td></tr>\n",
       "</table>"
      ],
      "text/plain": [
       "<Table length=10>\n",
       "    OBSPROJECT_UID             SB_UID         ... SCIPARAM_SUB_SCAN_DURATION\n",
       "        str23                  str23          ...          float64          \n",
       "---------------------- ---------------------- ... --------------------------\n",
       " uid://A001/X12d6/X3d2  uid://A001/X1301/X4d2 ...                      30.24\n",
       "uid://A001/X13b9/X14b0  uid://A001/X1465/X489 ...                     18.144\n",
       " uid://A001/X12eb/X845  uid://A001/X1302/X35f ...                     24.192\n",
       "uid://A001/X1525/X1908 uid://A001/X1525/X207e ...                     18.144\n",
       "uid://A001/X1525/X1908 uid://A001/X1525/X207e ...                     18.144\n",
       " uid://A001/X1525/Xcd1 uid://A001/X1590/X17b9 ...                     36.288\n",
       " uid://A001/X15b9/X267 uid://A001/X15ba/X539e ...                      30.24\n",
       " uid://A001/X15ba/X241  uid://A001/X2d1f/Xa4a ...                      30.24\n",
       "  uid://A001/X1ee/Xa76   uid://A001/X2fb/X248 ...                     18.144\n",
       " uid://A001/X12ea/X629  uid://A001/X1300/Xb13 ...                     28.224"
      ]
     },
     "execution_count": 54,
     "metadata": {},
     "output_type": "execute_result"
    }
   ],
   "source": [
    "ignacio2[0:10]['OBSPROJECT_UID','SB_UID','SB_NAME','MODE_NAME','SCIPARAM_INTEGRATION_TIME','SCIPARAM_INTEGRATION_TIME_UNIT','SCIPARAM_SUB_SCAN_DURATION']"
   ]
  },
  {
   "cell_type": "markdown",
   "id": "cdf68c78",
   "metadata": {},
   "source": [
    "This does have integration time but only for science sources."
   ]
  },
  {
   "cell_type": "markdown",
   "id": "e1521e96",
   "metadata": {},
   "source": [
    "## Playing with Felix's data set"
   ]
  },
  {
   "cell_type": "markdown",
   "id": "cf86a4f5",
   "metadata": {},
   "source": [
    "Info from Felix's email:\n",
    "\n",
    "the sum of the integration (in seconds) time per project, MOUS, band,\n",
    "scan intent and asdm. Of course I can throw in other metadata and/or do\n",
    "a different grouping etc.\n",
    "\n",
    "For mosaics, the actual integration time is computed here, not the\n",
    "average integration time per position in the footprint as we show on the AQ."
   ]
  },
  {
   "cell_type": "code",
   "execution_count": 38,
   "id": "80fdf35b",
   "metadata": {
    "scrolled": false
   },
   "outputs": [],
   "source": [
    "felix = Table.read('project_mous_band_asdm_intent_sum-inttime',format='ascii',delimiter='|',\n",
    "                   guess=False,\n",
    "                    names=('project_id','mous','band','asdm','intent','sum','na'))"
   ]
  },
  {
   "cell_type": "code",
   "execution_count": 39,
   "id": "4566daab",
   "metadata": {},
   "outputs": [
    {
     "data": {
      "text/plain": [
       "<TableColumns names=('project_id','mous','band','asdm','intent','sum','na')>"
      ]
     },
     "execution_count": 39,
     "metadata": {},
     "output_type": "execute_result"
    }
   ],
   "source": [
    "felix.columns"
   ]
  },
  {
   "cell_type": "code",
   "execution_count": 40,
   "id": "2a425347",
   "metadata": {},
   "outputs": [
    {
     "data": {
      "text/html": [
       "<i>Table length=6</i>\n",
       "<table id=\"table140235691138400\" class=\"table-striped table-bordered table-condensed\">\n",
       "<thead><tr><th>project_id</th><th>mous</th><th>band</th><th>asdm</th><th>intent</th><th>sum</th><th>na</th></tr></thead>\n",
       "<thead><tr><th>str16</th><th>str23</th><th>str5</th><th>str26</th><th>str46</th><th>float64</th><th>int64</th></tr></thead>\n",
       "<tr><td>2019.1.01326.S</td><td>uid://A001/X1465/X103e</td><td>6</td><td>uid://A002/Xedbc85/X78df</td><td>BANDPASS FLUX WVR</td><td>604.8</td><td>--</td></tr>\n",
       "<tr><td>2019.1.01326.S</td><td>uid://A001/X1465/X103e</td><td>6</td><td>uid://A002/Xedbc85/X78df</td><td>PHASE WVR</td><td>423.36</td><td>--</td></tr>\n",
       "<tr><td>2019.1.01326.S</td><td>uid://A001/X1465/X103e</td><td>6</td><td>uid://A002/Xedbc85/X78df</td><td>TARGET</td><td>2802.24</td><td>--</td></tr>\n",
       "<tr><td>2019.1.01326.S</td><td>uid://A001/X1465/X103e</td><td>6</td><td>uid://A002/Xef72bb/Xad5</td><td>BANDPASS FLUX WVR</td><td>604.8</td><td>--</td></tr>\n",
       "<tr><td>2019.1.01326.S</td><td>uid://A001/X1465/X103e</td><td>6</td><td>uid://A002/Xef72bb/Xad5</td><td>PHASE WVR</td><td>423.36</td><td>--</td></tr>\n",
       "<tr><td>2019.1.01326.S</td><td>uid://A001/X1465/X103e</td><td>6</td><td>uid://A002/Xef72bb/Xad5</td><td>TARGET</td><td>2802.24</td><td>--</td></tr>\n",
       "</table>"
      ],
      "text/plain": [
       "<Table length=6>\n",
       "  project_id            mous          band ...       intent        sum     na \n",
       "    str16              str23          str5 ...       str46       float64 int64\n",
       "-------------- ---------------------- ---- ... ----------------- ------- -----\n",
       "2019.1.01326.S uid://A001/X1465/X103e    6 ... BANDPASS FLUX WVR   604.8    --\n",
       "2019.1.01326.S uid://A001/X1465/X103e    6 ...         PHASE WVR  423.36    --\n",
       "2019.1.01326.S uid://A001/X1465/X103e    6 ...            TARGET 2802.24    --\n",
       "2019.1.01326.S uid://A001/X1465/X103e    6 ... BANDPASS FLUX WVR   604.8    --\n",
       "2019.1.01326.S uid://A001/X1465/X103e    6 ...         PHASE WVR  423.36    --\n",
       "2019.1.01326.S uid://A001/X1465/X103e    6 ...            TARGET 2802.24    --"
      ]
     },
     "execution_count": 40,
     "metadata": {},
     "output_type": "execute_result"
    }
   ],
   "source": [
    "idx = felix['mous'] == 'uid://A001/X1465/X103e'\n",
    "felix[idx]"
   ]
  },
  {
   "cell_type": "markdown",
   "id": "a4cbfd7d",
   "metadata": {},
   "source": [
    "Are the ASDMs the EBs? Each execution block generates an asdm"
   ]
  },
  {
   "cell_type": "markdown",
   "id": "bfe32958",
   "metadata": {},
   "source": [
    "Can I assume that the nchan etc is the same as the observation setup? Because the WVR is also in here as well. Or does that just play into the data rate?"
   ]
  },
  {
   "cell_type": "markdown",
   "id": "d08aa540",
   "metadata": {},
   "source": [
    "Do I want to link these tables to my main table somehow? Really I need both."
   ]
  },
  {
   "cell_type": "markdown",
   "id": "6ff07c16",
   "metadata": {},
   "source": [
    "Now this gets us the time on source assuming no changes to the current observing procedures. Would need to scale some how for WSU. That could get interesting....."
   ]
  },
  {
   "cell_type": "code",
   "execution_count": 56,
   "id": "65dfc745",
   "metadata": {},
   "outputs": [
    {
     "data": {
      "text/html": [
       "<i>Table length=322</i>\n",
       "<table id=\"table140235691137632\" class=\"table-striped table-bordered table-condensed\">\n",
       "<thead><tr><th>project_id</th><th>mous</th><th>band</th><th>asdm</th><th>intent</th><th>sum</th><th>na</th></tr></thead>\n",
       "<thead><tr><th>str16</th><th>str23</th><th>str5</th><th>str26</th><th>str46</th><th>float64</th><th>int64</th></tr></thead>\n",
       "<tr><td>2015.1.00217.S</td><td>uid://A001/X2f7/X138</td><td>10</td><td>uid://A002/Xc1e2be/X3900</td><td>BANDPASS WVR</td><td>604.8</td><td>--</td></tr>\n",
       "<tr><td>2015.1.00217.S</td><td>uid://A001/X2f7/X138</td><td>10</td><td>uid://A002/Xc1e2be/X3900</td><td>CHECK WVR</td><td>725.76</td><td>--</td></tr>\n",
       "<tr><td>2015.1.00217.S</td><td>uid://A001/X2f7/X138</td><td>10</td><td>uid://A002/Xc1e2be/X3900</td><td>FLUX WVR</td><td>302.4</td><td>--</td></tr>\n",
       "<tr><td>2015.1.00217.S</td><td>uid://A001/X2f7/X138</td><td>10</td><td>uid://A002/Xc1e2be/X3900</td><td>PHASE WVR</td><td>1451.52</td><td>--</td></tr>\n",
       "<tr><td>2015.1.00217.S</td><td>uid://A001/X2f7/X138</td><td>10</td><td>uid://A002/Xc1e2be/X3900</td><td>TARGET</td><td>1975.68</td><td>--</td></tr>\n",
       "<tr><td>2015.1.00217.S</td><td>uid://A001/X2f7/X138</td><td>10</td><td>uid://A002/Xc4c2da/X7ba8</td><td>BANDPASS WVR</td><td>604.8</td><td>--</td></tr>\n",
       "<tr><td>2015.1.00217.S</td><td>uid://A001/X2f7/X138</td><td>10</td><td>uid://A002/Xc4c2da/X7ba8</td><td>CHECK WVR</td><td>725.76</td><td>--</td></tr>\n",
       "<tr><td>2015.1.00217.S</td><td>uid://A001/X2f7/X138</td><td>10</td><td>uid://A002/Xc4c2da/X7ba8</td><td>FLUX WVR</td><td>302.4</td><td>--</td></tr>\n",
       "<tr><td>2015.1.00217.S</td><td>uid://A001/X2f7/X138</td><td>10</td><td>uid://A002/Xc4c2da/X7ba8</td><td>PHASE WVR</td><td>1451.52</td><td>--</td></tr>\n",
       "<tr><td>2015.1.00217.S</td><td>uid://A001/X2f7/X138</td><td>10</td><td>uid://A002/Xc4c2da/X7ba8</td><td>TARGET</td><td>1975.68</td><td>--</td></tr>\n",
       "<tr><td>...</td><td>...</td><td>...</td><td>...</td><td>...</td><td>...</td><td>...</td></tr>\n",
       "<tr><td>2021.1.01477.S</td><td>uid://A001/X159b/Xca</td><td>10</td><td>uid://A002/Xfe62c1/Xe8c9</td><td>PHASE WVR</td><td>491.52</td><td>--</td></tr>\n",
       "<tr><td>2021.1.01477.S</td><td>uid://A001/X159b/Xca</td><td>10</td><td>uid://A002/Xfe62c1/Xe8c9</td><td>TARGET</td><td>1904.64</td><td>--</td></tr>\n",
       "<tr><td>2022.1.00012.S</td><td>uid://A001/X335e/Xf0</td><td>10</td><td>uid://A002/X10065c7/X170e</td><td>BANDPASS FLUX WVR</td><td>921.6</td><td>--</td></tr>\n",
       "<tr><td>2022.1.00012.S</td><td>uid://A001/X335e/Xf0</td><td>10</td><td>uid://A002/X10065c7/X170e</td><td>CHECK WVR</td><td>368.64</td><td>--</td></tr>\n",
       "<tr><td>2022.1.00012.S</td><td>uid://A001/X335e/Xf0</td><td>10</td><td>uid://A002/X10065c7/X170e</td><td>PHASE WVR</td><td>737.28</td><td>--</td></tr>\n",
       "<tr><td>2022.1.00012.S</td><td>uid://A001/X335e/Xf0</td><td>10</td><td>uid://A002/X10065c7/X170e</td><td>TARGET</td><td>2641.92</td><td>--</td></tr>\n",
       "<tr><td>2022.1.00194.S</td><td>uid://A001/X2d1f/X8d8</td><td>10</td><td>uid://A002/X1001fdc/X23aa</td><td>BANDPASS FLUX WVR</td><td>302.4</td><td>--</td></tr>\n",
       "<tr><td>2022.1.00194.S</td><td>uid://A001/X2d1f/X8d8</td><td>10</td><td>uid://A002/X1001fdc/X23aa</td><td>CHECK WVR</td><td>181.44</td><td>--</td></tr>\n",
       "<tr><td>2022.1.00194.S</td><td>uid://A001/X2d1f/X8d8</td><td>10</td><td>uid://A002/X1001fdc/X23aa</td><td>PHASE WVR</td><td>604.8</td><td>--</td></tr>\n",
       "<tr><td>2022.1.00194.S</td><td>uid://A001/X2d1f/X8d8</td><td>10</td><td>uid://A002/X1001fdc/X23aa</td><td>TARGET</td><td>2449.44</td><td>--</td></tr>\n",
       "</table>"
      ],
      "text/plain": [
       "<Table length=322>\n",
       "  project_id            mous         band ...       intent        sum     na \n",
       "    str16              str23         str5 ...       str46       float64 int64\n",
       "-------------- --------------------- ---- ... ----------------- ------- -----\n",
       "2015.1.00217.S  uid://A001/X2f7/X138   10 ...      BANDPASS WVR   604.8    --\n",
       "2015.1.00217.S  uid://A001/X2f7/X138   10 ...         CHECK WVR  725.76    --\n",
       "2015.1.00217.S  uid://A001/X2f7/X138   10 ...          FLUX WVR   302.4    --\n",
       "2015.1.00217.S  uid://A001/X2f7/X138   10 ...         PHASE WVR 1451.52    --\n",
       "2015.1.00217.S  uid://A001/X2f7/X138   10 ...            TARGET 1975.68    --\n",
       "2015.1.00217.S  uid://A001/X2f7/X138   10 ...      BANDPASS WVR   604.8    --\n",
       "2015.1.00217.S  uid://A001/X2f7/X138   10 ...         CHECK WVR  725.76    --\n",
       "2015.1.00217.S  uid://A001/X2f7/X138   10 ...          FLUX WVR   302.4    --\n",
       "2015.1.00217.S  uid://A001/X2f7/X138   10 ...         PHASE WVR 1451.52    --\n",
       "2015.1.00217.S  uid://A001/X2f7/X138   10 ...            TARGET 1975.68    --\n",
       "           ...                   ...  ... ...               ...     ...   ...\n",
       "2021.1.01477.S  uid://A001/X159b/Xca   10 ...         PHASE WVR  491.52    --\n",
       "2021.1.01477.S  uid://A001/X159b/Xca   10 ...            TARGET 1904.64    --\n",
       "2022.1.00012.S  uid://A001/X335e/Xf0   10 ... BANDPASS FLUX WVR   921.6    --\n",
       "2022.1.00012.S  uid://A001/X335e/Xf0   10 ...         CHECK WVR  368.64    --\n",
       "2022.1.00012.S  uid://A001/X335e/Xf0   10 ...         PHASE WVR  737.28    --\n",
       "2022.1.00012.S  uid://A001/X335e/Xf0   10 ...            TARGET 2641.92    --\n",
       "2022.1.00194.S uid://A001/X2d1f/X8d8   10 ... BANDPASS FLUX WVR   302.4    --\n",
       "2022.1.00194.S uid://A001/X2d1f/X8d8   10 ...         CHECK WVR  181.44    --\n",
       "2022.1.00194.S uid://A001/X2d1f/X8d8   10 ...         PHASE WVR   604.8    --\n",
       "2022.1.00194.S uid://A001/X2d1f/X8d8   10 ...            TARGET 2449.44    --"
      ]
     },
     "execution_count": 56,
     "metadata": {},
     "output_type": "execute_result"
    }
   ],
   "source": [
    "idx = felix['band'] == '10'\n",
    "felix[idx]"
   ]
  },
  {
   "cell_type": "markdown",
   "id": "ebbec724",
   "metadata": {},
   "source": [
    "Check sources show up."
   ]
  },
  {
   "cell_type": "markdown",
   "id": "92ef68df",
   "metadata": {},
   "source": [
    "## Cross checking information in Felix's data base with the benchmark"
   ]
  },
  {
   "cell_type": "markdown",
   "id": "37a42f7e",
   "metadata": {},
   "source": [
    "The goal here is to make sure that I understand the information and what's in the data base. I should also cross check with the info in Ignacio's scan information csv. He has it broken out a bit differently there."
   ]
  },
  {
   "cell_type": "code",
   "execution_count": 57,
   "id": "110ed53c",
   "metadata": {},
   "outputs": [
    {
     "data": {
      "text/html": [
       "<i>Table length=3</i>\n",
       "<table id=\"table140235691137536\" class=\"table-striped table-bordered table-condensed\">\n",
       "<thead><tr><th>project_id</th><th>mous</th><th>band</th><th>asdm</th><th>intent</th><th>sum</th><th>na</th></tr></thead>\n",
       "<thead><tr><th>str16</th><th>str23</th><th>str5</th><th>str26</th><th>str46</th><th>float64</th><th>int64</th></tr></thead>\n",
       "<tr><td>2019.1.00092.S</td><td>uid://A001/X1465/X3a33</td><td>4</td><td>uid://A002/Xe32bed/X7e4f</td><td>BANDPASS FLUX WVR</td><td>1512.0</td><td>--</td></tr>\n",
       "<tr><td>2019.1.00092.S</td><td>uid://A001/X1465/X3a33</td><td>4</td><td>uid://A002/Xe32bed/X7e4f</td><td>PHASE WVR</td><td>302.4</td><td>--</td></tr>\n",
       "<tr><td>2019.1.00092.S</td><td>uid://A001/X1465/X3a33</td><td>4</td><td>uid://A002/Xe32bed/X7e4f</td><td>TARGET</td><td>2268.0</td><td>--</td></tr>\n",
       "</table>"
      ],
      "text/plain": [
       "<Table length=3>\n",
       "  project_id            mous          band ...       intent        sum     na \n",
       "    str16              str23          str5 ...       str46       float64 int64\n",
       "-------------- ---------------------- ---- ... ----------------- ------- -----\n",
       "2019.1.00092.S uid://A001/X1465/X3a33    4 ... BANDPASS FLUX WVR  1512.0    --\n",
       "2019.1.00092.S uid://A001/X1465/X3a33    4 ...         PHASE WVR   302.4    --\n",
       "2019.1.00092.S uid://A001/X1465/X3a33    4 ...            TARGET  2268.0    --"
      ]
     },
     "execution_count": 57,
     "metadata": {},
     "output_type": "execute_result"
    }
   ],
   "source": [
    "idx = felix['mous'] == 'uid://A001/X1465/X3a33'\n",
    "felix[idx]"
   ]
  },
  {
   "cell_type": "markdown",
   "id": "0a83b223",
   "metadata": {},
   "source": [
    "Info from the PL2022 Benchmark:"
   ]
  },
  {
   "cell_type": "markdown",
   "id": "13cfd102",
   "metadata": {},
   "source": [
    "Time on target source"
   ]
  },
  {
   "cell_type": "code",
   "execution_count": 58,
   "id": "4f65239e",
   "metadata": {},
   "outputs": [
    {
     "data": {
      "text/plain": [
       "2280"
      ]
     },
     "execution_count": 58,
     "metadata": {},
     "output_type": "execute_result"
    }
   ],
   "source": [
    "# Initial time given\n",
    "38*60"
   ]
  },
  {
   "cell_type": "code",
   "execution_count": 62,
   "id": "187ee027",
   "metadata": {},
   "outputs": [
    {
     "data": {
      "text/plain": [
       "2277"
      ]
     },
     "execution_count": 62,
     "metadata": {},
     "output_type": "execute_result"
    }
   ],
   "source": [
    "# time given in targets.ms\n",
    "37*60+57"
   ]
  },
  {
   "cell_type": "code",
   "execution_count": 60,
   "id": "9cf4bde7",
   "metadata": {},
   "outputs": [
    {
     "data": {
      "text/plain": [
       "1515.0"
      ]
     },
     "execution_count": 60,
     "metadata": {},
     "output_type": "execute_result"
    }
   ],
   "source": [
    "# time on bandpass from listobs\n",
    "302.6+303.3+303+302.7+303.4"
   ]
  },
  {
   "cell_type": "code",
   "execution_count": 61,
   "id": "60e0029b",
   "metadata": {},
   "outputs": [
    {
     "data": {
      "text/plain": [
       "300"
      ]
     },
     "execution_count": 61,
     "metadata": {},
     "output_type": "execute_result"
    }
   ],
   "source": [
    "# time on phase cal. each scan was ~30s. I didn't do the detailed math for each scan.\n",
    "# Note that there were two phase cal for each intermediate phase cal because this was a spectral scan case.\n",
    "30+60*4+30"
   ]
  },
  {
   "cell_type": "code",
   "execution_count": 63,
   "id": "f5e05959",
   "metadata": {},
   "outputs": [
    {
     "data": {
      "text/html": [
       "<i>Table length=0</i>\n",
       "<table id=\"table140235691135568\" class=\"table-striped table-bordered table-condensed\">\n",
       "<thead><tr><th>EXECBLOCK_UID</th><th>scanNumber</th><th>startTime</th><th>endTime</th><th>numIntent</th><th>numSubscan</th><th>scanIntent</th><th>calDataType</th><th>numField</th><th>sourceName</th></tr></thead>\n",
       "<thead><tr><th>str25</th><th>int64</th><th>str24</th><th>str24</th><th>int64</th><th>int64</th><th>str20</th><th>str55</th><th>int64</th><th>str10</th></tr></thead>\n",
       "</table>"
      ],
      "text/plain": [
       "<Table length=0>\n",
       "EXECBLOCK_UID scanNumber startTime endTime ... calDataType numField sourceName\n",
       "    str25       int64      str24    str24  ...    str55     int64     str10   \n",
       "------------- ---------- --------- ------- ... ----------- -------- ----------"
      ]
     },
     "execution_count": 63,
     "metadata": {},
     "output_type": "execute_result"
    }
   ],
   "source": [
    "# Is this in ignacio's data base?\n",
    "idx = scan_table['EXECBLOCK_UID'] == 'uid://A002/Xe32bed/X7e4f'\n",
    "scan_table[idx]"
   ]
  },
  {
   "cell_type": "markdown",
   "id": "43bfa217",
   "metadata": {},
   "source": [
    "Not in ignacio's scan_info data base."
   ]
  },
  {
   "cell_type": "code",
   "execution_count": 64,
   "id": "025693f6",
   "metadata": {},
   "outputs": [
    {
     "data": {
      "text/html": [
       "<i>Table length=3</i>\n",
       "<table id=\"table140235691138496\" class=\"table-striped table-bordered table-condensed\">\n",
       "<thead><tr><th>project_id</th><th>mous</th><th>band</th><th>asdm</th><th>intent</th><th>sum</th><th>na</th></tr></thead>\n",
       "<thead><tr><th>str16</th><th>str23</th><th>str5</th><th>str26</th><th>str46</th><th>float64</th><th>int64</th></tr></thead>\n",
       "<tr><td>2019.1.00678.S</td><td>uid://A001/X14d8/X3eb</td><td>3</td><td>uid://A002/Xe6a684/X7c41</td><td>BANDPASS FLUX WVR</td><td>302.4</td><td>--</td></tr>\n",
       "<tr><td>2019.1.00678.S</td><td>uid://A001/X14d8/X3eb</td><td>3</td><td>uid://A002/Xe6a684/X7c41</td><td>PHASE WVR</td><td>211.68</td><td>--</td></tr>\n",
       "<tr><td>2019.1.00678.S</td><td>uid://A001/X14d8/X3eb</td><td>3</td><td>uid://A002/Xe6a684/X7c41</td><td>TARGET</td><td>2903.04</td><td>--</td></tr>\n",
       "</table>"
      ],
      "text/plain": [
       "<Table length=3>\n",
       "  project_id            mous         band ...       intent        sum     na \n",
       "    str16              str23         str5 ...       str46       float64 int64\n",
       "-------------- --------------------- ---- ... ----------------- ------- -----\n",
       "2019.1.00678.S uid://A001/X14d8/X3eb    3 ... BANDPASS FLUX WVR   302.4    --\n",
       "2019.1.00678.S uid://A001/X14d8/X3eb    3 ...         PHASE WVR  211.68    --\n",
       "2019.1.00678.S uid://A001/X14d8/X3eb    3 ...            TARGET 2903.04    --"
      ]
     },
     "execution_count": 64,
     "metadata": {},
     "output_type": "execute_result"
    }
   ],
   "source": [
    "idx = felix['mous'] == 'uid://A001/X14d8/X3eb'\n",
    "felix[idx]"
   ]
  },
  {
   "cell_type": "code",
   "execution_count": 65,
   "id": "67f843ed",
   "metadata": {},
   "outputs": [
    {
     "data": {
      "text/plain": [
       "2919"
      ]
     },
     "execution_count": 65,
     "metadata": {},
     "output_type": "execute_result"
    }
   ],
   "source": [
    "# time on source:\n",
    "48*60+39"
   ]
  },
  {
   "cell_type": "code",
   "execution_count": 66,
   "id": "9d4f2775",
   "metadata": {},
   "outputs": [
    {
     "data": {
      "text/plain": [
       "2903"
      ]
     },
     "execution_count": 66,
     "metadata": {},
     "output_type": "execute_result"
    }
   ],
   "source": [
    "# time on source in targets.ms\n",
    "48*60+23"
   ]
  },
  {
   "cell_type": "markdown",
   "id": "e995297d",
   "metadata": {},
   "source": [
    "That matches the above rather well."
   ]
  },
  {
   "cell_type": "code",
   "execution_count": 67,
   "id": "4318a196",
   "metadata": {},
   "outputs": [
    {
     "data": {
      "text/plain": [
       "302.9"
      ]
     },
     "execution_count": 67,
     "metadata": {},
     "output_type": "execute_result"
    }
   ],
   "source": [
    "# BP\n",
    "5*60+2.9"
   ]
  },
  {
   "cell_type": "code",
   "execution_count": 68,
   "id": "da186f34",
   "metadata": {},
   "outputs": [
    {
     "data": {
      "text/plain": [
       "210"
      ]
     },
     "execution_count": 68,
     "metadata": {},
     "output_type": "execute_result"
    }
   ],
   "source": [
    "# phase\n",
    "7*30"
   ]
  },
  {
   "cell_type": "code",
   "execution_count": 69,
   "id": "c8bf8c20",
   "metadata": {},
   "outputs": [
    {
     "data": {
      "text/html": [
       "<i>Table length=6</i>\n",
       "<table id=\"table140235691135616\" class=\"table-striped table-bordered table-condensed\">\n",
       "<thead><tr><th>project_id</th><th>mous</th><th>band</th><th>asdm</th><th>intent</th><th>sum</th><th>na</th></tr></thead>\n",
       "<thead><tr><th>str16</th><th>str23</th><th>str5</th><th>str26</th><th>str46</th><th>float64</th><th>int64</th></tr></thead>\n",
       "<tr><td>2019.1.01056.S</td><td>uid://A001/X1465/X1b3c</td><td>6</td><td>uid://A002/Xe1f219/X6d0b</td><td>BANDPASS FLUX WVR</td><td>604.8</td><td>--</td></tr>\n",
       "<tr><td>2019.1.01056.S</td><td>uid://A001/X1465/X1b3c</td><td>6</td><td>uid://A002/Xe1f219/X6d0b</td><td>PHASE WVR</td><td>423.36</td><td>--</td></tr>\n",
       "<tr><td>2019.1.01056.S</td><td>uid://A001/X1465/X1b3c</td><td>6</td><td>uid://A002/Xe1f219/X6d0b</td><td>TARGET</td><td>2701.44</td><td>--</td></tr>\n",
       "<tr><td>2019.1.01056.S</td><td>uid://A001/X1465/X1b3c</td><td>6</td><td>uid://A002/Xe1f219/X7ee8</td><td>BANDPASS FLUX WVR</td><td>604.8</td><td>--</td></tr>\n",
       "<tr><td>2019.1.01056.S</td><td>uid://A001/X1465/X1b3c</td><td>6</td><td>uid://A002/Xe1f219/X7ee8</td><td>PHASE WVR</td><td>423.36</td><td>--</td></tr>\n",
       "<tr><td>2019.1.01056.S</td><td>uid://A001/X1465/X1b3c</td><td>6</td><td>uid://A002/Xe1f219/X7ee8</td><td>TARGET</td><td>2701.44</td><td>--</td></tr>\n",
       "</table>"
      ],
      "text/plain": [
       "<Table length=6>\n",
       "  project_id            mous          band ...       intent        sum     na \n",
       "    str16              str23          str5 ...       str46       float64 int64\n",
       "-------------- ---------------------- ---- ... ----------------- ------- -----\n",
       "2019.1.01056.S uid://A001/X1465/X1b3c    6 ... BANDPASS FLUX WVR   604.8    --\n",
       "2019.1.01056.S uid://A001/X1465/X1b3c    6 ...         PHASE WVR  423.36    --\n",
       "2019.1.01056.S uid://A001/X1465/X1b3c    6 ...            TARGET 2701.44    --\n",
       "2019.1.01056.S uid://A001/X1465/X1b3c    6 ... BANDPASS FLUX WVR   604.8    --\n",
       "2019.1.01056.S uid://A001/X1465/X1b3c    6 ...         PHASE WVR  423.36    --\n",
       "2019.1.01056.S uid://A001/X1465/X1b3c    6 ...            TARGET 2701.44    --"
      ]
     },
     "execution_count": 69,
     "metadata": {},
     "output_type": "execute_result"
    }
   ],
   "source": [
    "idx = felix['mous'] == 'uid://A001/X1465/X1b3c'\n",
    "felix[idx]"
   ]
  },
  {
   "cell_type": "code",
   "execution_count": 72,
   "id": "bcefbba8",
   "metadata": {},
   "outputs": [
    {
     "data": {
      "text/plain": [
       "2772"
      ]
     },
     "execution_count": 72,
     "metadata": {},
     "output_type": "execute_result"
    }
   ],
   "source": [
    "# target\n",
    "46*60+12"
   ]
  },
  {
   "cell_type": "code",
   "execution_count": 73,
   "id": "f5c4abf0",
   "metadata": {},
   "outputs": [
    {
     "data": {
      "text/plain": [
       "605.2"
      ]
     },
     "execution_count": 73,
     "metadata": {},
     "output_type": "execute_result"
    }
   ],
   "source": [
    "# bp\n",
    "10*60+5.2"
   ]
  },
  {
   "cell_type": "code",
   "execution_count": 75,
   "id": "d6ac02f3",
   "metadata": {},
   "outputs": [
    {
     "data": {
      "text/plain": [
       "422.8"
      ]
     },
     "execution_count": 75,
     "metadata": {},
     "output_type": "execute_result"
    }
   ],
   "source": [
    "# phase\n",
    "60.4*7"
   ]
  },
  {
   "cell_type": "code",
   "execution_count": 77,
   "id": "3b4428f4",
   "metadata": {},
   "outputs": [
    {
     "data": {
      "text/html": [
       "<i>Table length=28</i>\n",
       "<table id=\"table140235691136384\" class=\"table-striped table-bordered table-condensed\">\n",
       "<thead><tr><th>project_id</th><th>mous</th><th>band</th><th>asdm</th><th>intent</th><th>sum</th><th>na</th></tr></thead>\n",
       "<thead><tr><th>str16</th><th>str23</th><th>str5</th><th>str26</th><th>str46</th><th>float64</th><th>int64</th></tr></thead>\n",
       "<tr><td>2018.1.00566.S</td><td>uid://A001/X133d/X2067</td><td>6</td><td>uid://A002/Xde9c3e/Xa303</td><td>BANDPASS FLUX WVR</td><td>302.4</td><td>--</td></tr>\n",
       "<tr><td>2018.1.00566.S</td><td>uid://A001/X133d/X2067</td><td>6</td><td>uid://A002/Xde9c3e/Xa303</td><td>CHECK WVR</td><td>90.72</td><td>--</td></tr>\n",
       "<tr><td>2018.1.00566.S</td><td>uid://A001/X133d/X2067</td><td>6</td><td>uid://A002/Xde9c3e/Xa303</td><td>PHASE WVR</td><td>961.632</td><td>--</td></tr>\n",
       "<tr><td>2018.1.00566.S</td><td>uid://A001/X133d/X2067</td><td>6</td><td>uid://A002/Xde9c3e/Xa303</td><td>TARGET</td><td>2884.896</td><td>--</td></tr>\n",
       "<tr><td>2018.1.00566.S</td><td>uid://A001/X133d/X2067</td><td>6</td><td>uid://A002/Xde9c3e/Xb167</td><td>BANDPASS FLUX WVR</td><td>302.4</td><td>--</td></tr>\n",
       "<tr><td>2018.1.00566.S</td><td>uid://A001/X133d/X2067</td><td>6</td><td>uid://A002/Xde9c3e/Xb167</td><td>CHECK WVR</td><td>90.72</td><td>--</td></tr>\n",
       "<tr><td>2018.1.00566.S</td><td>uid://A001/X133d/X2067</td><td>6</td><td>uid://A002/Xde9c3e/Xb167</td><td>PHASE WVR</td><td>961.632</td><td>--</td></tr>\n",
       "<tr><td>2018.1.00566.S</td><td>uid://A001/X133d/X2067</td><td>6</td><td>uid://A002/Xde9c3e/Xb167</td><td>TARGET</td><td>2884.896</td><td>--</td></tr>\n",
       "<tr><td>2018.1.00566.S</td><td>uid://A001/X133d/X2067</td><td>6</td><td>uid://A002/Xded57c/X2df4</td><td>BANDPASS FLUX WVR</td><td>302.4</td><td>--</td></tr>\n",
       "<tr><td>2018.1.00566.S</td><td>uid://A001/X133d/X2067</td><td>6</td><td>uid://A002/Xded57c/X2df4</td><td>CHECK WVR</td><td>90.72</td><td>--</td></tr>\n",
       "<tr><td>...</td><td>...</td><td>...</td><td>...</td><td>...</td><td>...</td><td>...</td></tr>\n",
       "<tr><td>2018.1.00566.S</td><td>uid://A001/X133d/X2067</td><td>6</td><td>uid://A002/Xded57c/X36e1</td><td>PHASE WVR</td><td>961.632</td><td>--</td></tr>\n",
       "<tr><td>2018.1.00566.S</td><td>uid://A001/X133d/X2067</td><td>6</td><td>uid://A002/Xded57c/X36e1</td><td>TARGET</td><td>2884.896</td><td>--</td></tr>\n",
       "<tr><td>2018.1.00566.S</td><td>uid://A001/X133d/X2067</td><td>6</td><td>uid://A002/Xdee82d/X353f</td><td>BANDPASS FLUX WVR</td><td>302.4</td><td>--</td></tr>\n",
       "<tr><td>2018.1.00566.S</td><td>uid://A001/X133d/X2067</td><td>6</td><td>uid://A002/Xdee82d/X353f</td><td>CHECK WVR</td><td>90.72</td><td>--</td></tr>\n",
       "<tr><td>2018.1.00566.S</td><td>uid://A001/X133d/X2067</td><td>6</td><td>uid://A002/Xdee82d/X353f</td><td>PHASE WVR</td><td>979.776</td><td>--</td></tr>\n",
       "<tr><td>2018.1.00566.S</td><td>uid://A001/X133d/X2067</td><td>6</td><td>uid://A002/Xdee82d/X353f</td><td>TARGET</td><td>2884.896</td><td>--</td></tr>\n",
       "<tr><td>2018.1.00566.S</td><td>uid://A001/X133d/X2067</td><td>6</td><td>uid://A002/Xef1a98/X1541</td><td>BANDPASS FLUX WVR</td><td>302.4</td><td>--</td></tr>\n",
       "<tr><td>2018.1.00566.S</td><td>uid://A001/X133d/X2067</td><td>6</td><td>uid://A002/Xef1a98/X1541</td><td>CHECK WVR</td><td>90.72</td><td>--</td></tr>\n",
       "<tr><td>2018.1.00566.S</td><td>uid://A001/X133d/X2067</td><td>6</td><td>uid://A002/Xef1a98/X1541</td><td>PHASE WVR</td><td>961.632</td><td>--</td></tr>\n",
       "<tr><td>2018.1.00566.S</td><td>uid://A001/X133d/X2067</td><td>6</td><td>uid://A002/Xef1a98/X1541</td><td>TARGET</td><td>2884.896</td><td>--</td></tr>\n",
       "</table>"
      ],
      "text/plain": [
       "<Table length=28>\n",
       "  project_id            mous          band ...       intent        sum      na \n",
       "    str16              str23          str5 ...       str46       float64  int64\n",
       "-------------- ---------------------- ---- ... ----------------- -------- -----\n",
       "2018.1.00566.S uid://A001/X133d/X2067    6 ... BANDPASS FLUX WVR    302.4    --\n",
       "2018.1.00566.S uid://A001/X133d/X2067    6 ...         CHECK WVR    90.72    --\n",
       "2018.1.00566.S uid://A001/X133d/X2067    6 ...         PHASE WVR  961.632    --\n",
       "2018.1.00566.S uid://A001/X133d/X2067    6 ...            TARGET 2884.896    --\n",
       "2018.1.00566.S uid://A001/X133d/X2067    6 ... BANDPASS FLUX WVR    302.4    --\n",
       "2018.1.00566.S uid://A001/X133d/X2067    6 ...         CHECK WVR    90.72    --\n",
       "2018.1.00566.S uid://A001/X133d/X2067    6 ...         PHASE WVR  961.632    --\n",
       "2018.1.00566.S uid://A001/X133d/X2067    6 ...            TARGET 2884.896    --\n",
       "2018.1.00566.S uid://A001/X133d/X2067    6 ... BANDPASS FLUX WVR    302.4    --\n",
       "2018.1.00566.S uid://A001/X133d/X2067    6 ...         CHECK WVR    90.72    --\n",
       "           ...                    ...  ... ...               ...      ...   ...\n",
       "2018.1.00566.S uid://A001/X133d/X2067    6 ...         PHASE WVR  961.632    --\n",
       "2018.1.00566.S uid://A001/X133d/X2067    6 ...            TARGET 2884.896    --\n",
       "2018.1.00566.S uid://A001/X133d/X2067    6 ... BANDPASS FLUX WVR    302.4    --\n",
       "2018.1.00566.S uid://A001/X133d/X2067    6 ...         CHECK WVR    90.72    --\n",
       "2018.1.00566.S uid://A001/X133d/X2067    6 ...         PHASE WVR  979.776    --\n",
       "2018.1.00566.S uid://A001/X133d/X2067    6 ...            TARGET 2884.896    --\n",
       "2018.1.00566.S uid://A001/X133d/X2067    6 ... BANDPASS FLUX WVR    302.4    --\n",
       "2018.1.00566.S uid://A001/X133d/X2067    6 ...         CHECK WVR    90.72    --\n",
       "2018.1.00566.S uid://A001/X133d/X2067    6 ...         PHASE WVR  961.632    --\n",
       "2018.1.00566.S uid://A001/X133d/X2067    6 ...            TARGET 2884.896    --"
      ]
     },
     "execution_count": 77,
     "metadata": {},
     "output_type": "execute_result"
    }
   ],
   "source": [
    "idx = felix['mous'] == 'uid://A001/X133d/X2067'\n",
    "felix[idx]"
   ]
  },
  {
   "cell_type": "code",
   "execution_count": 87,
   "id": "d8711c7d",
   "metadata": {},
   "outputs": [
    {
     "data": {
      "text/plain": [
       "2917"
      ]
     },
     "execution_count": 87,
     "metadata": {},
     "output_type": "execute_result"
    }
   ],
   "source": [
    "# target\n",
    "48*60+37"
   ]
  },
  {
   "cell_type": "code",
   "execution_count": 84,
   "id": "4599ab5a",
   "metadata": {},
   "outputs": [
    {
     "data": {
      "text/plain": [
       "302.6"
      ]
     },
     "execution_count": 84,
     "metadata": {},
     "output_type": "execute_result"
    }
   ],
   "source": [
    "#BP\n",
    "5*60+2.6"
   ]
  },
  {
   "cell_type": "code",
   "execution_count": 86,
   "id": "660c19b8",
   "metadata": {},
   "outputs": [
    {
     "data": {
      "text/plain": [
       "1001.6999999999999"
      ]
     },
     "execution_count": 86,
     "metadata": {},
     "output_type": "execute_result"
    }
   ],
   "source": [
    "# Phase\n",
    "18.9*53"
   ]
  },
  {
   "cell_type": "code",
   "execution_count": 88,
   "id": "5e76bfaa",
   "metadata": {},
   "outputs": [
    {
     "data": {
      "text/plain": [
       "94.5"
      ]
     },
     "execution_count": 88,
     "metadata": {},
     "output_type": "execute_result"
    }
   ],
   "source": [
    "# check sour\n",
    "5*18.9"
   ]
  },
  {
   "cell_type": "markdown",
   "id": "dd54c4c6",
   "metadata": {},
   "source": [
    "Given the results above, I think I understand the table from Felix and am relatively confident in the results.\n",
    "\n",
    "One question I want to ask Felix is how where the times derived. Consistent with listobs, but not exact."
   ]
  },
  {
   "cell_type": "markdown",
   "id": "b421a68f",
   "metadata": {},
   "source": [
    "## Working out how to categorize this information for calculations"
   ]
  },
  {
   "cell_type": "markdown",
   "id": "9d651b33",
   "metadata": {},
   "source": [
    "I think I'm going to do the calculations on the actual file and then do a table join to add the information to the current data base?\n",
    "\n",
    "Data base is currently"
   ]
  },
  {
   "cell_type": "code",
   "execution_count": 89,
   "id": "945f93cb",
   "metadata": {},
   "outputs": [],
   "source": [
    "import large_cubes\n",
    "from importlib import reload"
   ]
  },
  {
   "cell_type": "code",
   "execution_count": 91,
   "id": "89a46626",
   "metadata": {
    "scrolled": true
   },
   "outputs": [
    {
     "name": "stdout",
     "output_type": "stream",
     "text": [
      "Intent not recognized: BANDPASS DIFFGAIN FLUX PHASE WVR\n",
      "Intent not recognized: BANDPASS DIFFGAIN FLUX PHASE WVR\n",
      "Intent not recognized: BANDPASS DIFFGAIN FLUX PHASE WVR\n",
      "Intent not recognized: DIFFGAIN PHASE WVR\n",
      "Intent not recognized: DIFFGAIN PHASE WVR\n",
      "Intent not recognized: DIFFGAIN PHASE WVR\n",
      "Intent not recognized: DIFFGAIN PHASE WVR\n",
      "Intent not recognized: DIFFGAIN PHASE WVR\n",
      "Intent not recognized: BANDPASS DIFFGAIN FLUX PHASE WVR\n",
      "Intent not recognized: BANDPASS DIFFGAIN FLUX PHASE WVR\n",
      "Intent not recognized: BANDPASS PHASE WVR\n",
      "Intent not recognized: BANDPASS PHASE WVR\n",
      "Intent not recognized: APPPHASE_ACTIVE\n",
      "Intent not recognized: APPPHASE_ACTIVE PHASE TARGET WVR\n",
      "Intent not recognized: APPPHASE_ACTIVE POLARIZATION WVR\n",
      "Intent not recognized: APPPHASE_ACTIVE PHASE TARGET WVR\n",
      "Intent not recognized: APPPHASE_ACTIVE\n",
      "Intent not recognized: APPPHASE_ACTIVE PHASE TARGET WVR\n",
      "Intent not recognized: APPPHASE_ACTIVE POLARIZATION WVR\n",
      "Intent not recognized: APPPHASE_ACTIVE\n",
      "Intent not recognized: APPPHASE_ACTIVE PHASE TARGET WVR\n",
      "Intent not recognized: APPPHASE_ACTIVE POLARIZATION WVR\n",
      "Intent not recognized: APPPHASE_ACTIVE\n",
      "Intent not recognized: APPPHASE_ACTIVE PHASE TARGET WVR\n",
      "Intent not recognized: APPPHASE_ACTIVE POLARIZATION WVR\n",
      "Intent not recognized: APPPHASE_ACTIVE\n",
      "Intent not recognized: APPPHASE_ACTIVE PHASE TARGET WVR\n",
      "Intent not recognized: APPPHASE_ACTIVE POLARIZATION WVR\n",
      "Intent not recognized: APPPHASE_ACTIVE\n",
      "Intent not recognized: APPPHASE_ACTIVE PHASE TARGET WVR\n",
      "Intent not recognized: APPPHASE_ACTIVE POLARIZATION WVR\n",
      "Intent not recognized: APPPHASE_ACTIVE\n",
      "Intent not recognized: APPPHASE_ACTIVE PHASE TARGET WVR\n",
      "Intent not recognized: APPPHASE_ACTIVE POLARIZATION WVR\n",
      "Intent not recognized: APPPHASE_ACTIVE PHASE TARGET WVR\n",
      "Intent not recognized: APPPHASE_ACTIVE POLARIZATION WVR\n",
      "Intent not recognized: APPPHASE_ACTIVE\n",
      "Intent not recognized: APPPHASE_ACTIVE PHASE TARGET WVR\n",
      "Intent not recognized: APPPHASE_ACTIVE POLARIZATION WVR\n",
      "Intent not recognized: APPPHASE_ACTIVE\n",
      "Intent not recognized: APPPHASE_ACTIVE PHASE TARGET WVR\n",
      "Intent not recognized: APPPHASE_ACTIVE POLARIZATION WVR\n",
      "Intent not recognized: APPPHASE_ACTIVE\n",
      "Intent not recognized: APPPHASE_ACTIVE PHASE TARGET WVR\n",
      "Intent not recognized: APPPHASE_ACTIVE POLARIZATION WVR\n",
      "Intent not recognized: APPPHASE_ACTIVE\n",
      "Intent not recognized: APPPHASE_ACTIVE PHASE TARGET WVR\n",
      "Intent not recognized: APPPHASE_ACTIVE BANDPASS FLUX POLARIZATION WVR\n",
      "Intent not recognized: APPPHASE_ACTIVE\n",
      "Intent not recognized: APPPHASE_ACTIVE PHASE TARGET WVR\n",
      "Intent not recognized: APPPHASE_ACTIVE POLARIZATION WVR\n",
      "Intent not recognized: APPPHASE_ACTIVE\n",
      "Intent not recognized: APPPHASE_ACTIVE PHASE TARGET WVR\n",
      "Intent not recognized: APPPHASE_ACTIVE POLARIZATION WVR\n",
      "Intent not recognized: APPPHASE_ACTIVE PHASE TARGET WVR\n",
      "Intent not recognized: APPPHASE_ACTIVE POLARIZATION WVR\n",
      "Intent not recognized: APPPHASE_ACTIVE PHASE TARGET WVR\n",
      "Intent not recognized: APPPHASE_ACTIVE POLARIZATION WVR\n",
      "Intent not recognized: APPPHASE_ACTIVE\n",
      "Intent not recognized: APPPHASE_ACTIVE PHASE TARGET WVR\n",
      "Intent not recognized: APPPHASE_ACTIVE\n",
      "Intent not recognized: APPPHASE_ACTIVE PHASE TARGET WVR\n",
      "Intent not recognized: APPPHASE_ACTIVE POLARIZATION WVR\n",
      "Intent not recognized: APPPHASE_ACTIVE\n",
      "Intent not recognized: APPPHASE_ACTIVE PHASE TARGET WVR\n",
      "Intent not recognized: APPPHASE_ACTIVE POLARIZATION WVR\n",
      "Intent not recognized: APPPHASE_ACTIVE PHASE TARGET WVR\n",
      "Intent not recognized: APPPHASE_ACTIVE POLARIZATION WVR\n",
      "Intent not recognized: APPPHASE_ACTIVE PHASE TARGET WVR\n",
      "Intent not recognized: APPPHASE_ACTIVE POLARIZATION WVR\n",
      "Intent not recognized: APPPHASE_ACTIVE BANDPASS FLUX POLARIZATION WVR\n",
      "Intent not recognized: APPPHASE_ACTIVE PHASE TARGET WVR\n",
      "Intent not recognized: APPPHASE_ACTIVE\n",
      "Intent not recognized: APPPHASE_ACTIVE PHASE TARGET WVR\n",
      "Intent not recognized: APPPHASE_ACTIVE POLARIZATION WVR\n",
      "Intent not recognized: APPPHASE_ACTIVE PHASE TARGET WVR\n",
      "Intent not recognized: APPPHASE_ACTIVE POLARIZATION WVR\n",
      "Intent not recognized: APPPHASE_ACTIVE\n",
      "Intent not recognized: APPPHASE_ACTIVE PHASE TARGET WVR\n",
      "Intent not recognized: APPPHASE_ACTIVE POLARIZATION WVR\n",
      "Intent not recognized: APPPHASE_ACTIVE\n",
      "Intent not recognized: APPPHASE_ACTIVE PHASE TARGET WVR\n",
      "Intent not recognized: APPPHASE_ACTIVE POLARIZATION WVR\n",
      "Intent not recognized: APPPHASE_ACTIVE PHASE TARGET WVR\n",
      "Intent not recognized: APPPHASE_ACTIVE POLARIZATION WVR\n",
      "Intent not recognized: APPPHASE_ACTIVE POLARIZATION WVR\n",
      "Intent not recognized: APPPHASE_ACTIVE TARGET\n",
      "Intent not recognized: BANDPASS POLARIZATION WVR\n",
      "Intent not recognized: APPPHASE_ACTIVE PHASE TARGET WVR\n",
      "Intent not recognized: APPPHASE_ACTIVE PHASE TARGET WVR\n",
      "Intent not recognized: APPPHASE_ACTIVE POLARIZATION WVR\n",
      "Intent not recognized: APPPHASE_ACTIVE PHASE TARGET WVR\n",
      "Intent not recognized: APPPHASE_ACTIVE PHASE TARGET WVR\n",
      "Intent not recognized: APPPHASE_ACTIVE POLARIZATION WVR\n",
      "Intent not recognized: APPPHASE_ACTIVE PHASE TARGET WVR\n",
      "Intent not recognized: APPPHASE_ACTIVE POLARIZATION WVR\n",
      "Intent not recognized: APPPHASE_ACTIVE PHASE TARGET WVR\n",
      "Intent not recognized: APPPHASE_ACTIVE POLARIZATION WVR\n",
      "Intent not recognized: APPPHASE_ACTIVE\n",
      "Intent not recognized: APPPHASE_ACTIVE BANDPASS FLUX POLARIZATION WVR\n",
      "Intent not recognized: APPPHASE_ACTIVE PHASE TARGET WVR\n",
      "Intent not recognized: APPPHASE_ACTIVE\n",
      "Intent not recognized: APPPHASE_ACTIVE PHASE TARGET WVR\n",
      "Intent not recognized: APPPHASE_ACTIVE POLARIZATION WVR\n",
      "Intent not recognized: APPPHASE_ACTIVE\n",
      "Intent not recognized: APPPHASE_ACTIVE PHASE TARGET WVR\n",
      "Intent not recognized: APPPHASE_ACTIVE POLARIZATION WVR\n",
      "Intent not recognized: APPPHASE_ACTIVE\n",
      "Intent not recognized: APPPHASE_ACTIVE PHASE TARGET WVR\n",
      "Intent not recognized: APPPHASE_ACTIVE POLARIZATION WVR\n",
      "Intent not recognized: APPPHASE_ACTIVE\n",
      "Intent not recognized: APPPHASE_ACTIVE PHASE TARGET WVR\n",
      "Intent not recognized: APPPHASE_ACTIVE POLARIZATION WVR\n",
      "Intent not recognized: APPPHASE_ACTIVE\n",
      "Intent not recognized: APPPHASE_ACTIVE PHASE TARGET WVR\n",
      "Intent not recognized: APPPHASE_ACTIVE POLARIZATION WVR\n",
      "Intent not recognized: APPPHASE_ACTIVE\n",
      "Intent not recognized: APPPHASE_ACTIVE PHASE TARGET WVR\n",
      "Intent not recognized: APPPHASE_ACTIVE POLARIZATION WVR\n",
      "Intent not recognized: APPPHASE_ACTIVE\n",
      "Intent not recognized: APPPHASE_ACTIVE PHASE TARGET WVR\n",
      "Intent not recognized: APPPHASE_ACTIVE POLARIZATION WVR\n",
      "Intent not recognized: APPPHASE_ACTIVE\n",
      "Intent not recognized: APPPHASE_ACTIVE PHASE TARGET WVR\n",
      "Intent not recognized: APPPHASE_ACTIVE POLARIZATION WVR\n",
      "Intent not recognized: APPPHASE_ACTIVE PHASE TARGET WVR\n",
      "Intent not recognized: APPPHASE_ACTIVE POLARIZATION WVR\n",
      "Intent not recognized: APPPHASE_ACTIVE\n",
      "Intent not recognized: APPPHASE_ACTIVE PHASE TARGET WVR\n",
      "Intent not recognized: APPPHASE_ACTIVE\n",
      "Intent not recognized: APPPHASE_ACTIVE PHASE TARGET WVR\n",
      "Intent not recognized: APPPHASE_ACTIVE POLARIZATION WVR\n",
      "Intent not recognized: APPPHASE_ACTIVE\n",
      "Intent not recognized: APPPHASE_ACTIVE PHASE TARGET WVR\n",
      "Intent not recognized: APPPHASE_ACTIVE POLARIZATION WVR\n",
      "Intent not recognized: APPPHASE_ACTIVE\n",
      "Intent not recognized: APPPHASE_ACTIVE PHASE TARGET WVR\n",
      "Intent not recognized: APPPHASE_ACTIVE POLARIZATION WVR\n",
      "Intent not recognized: APPPHASE_ACTIVE\n",
      "Intent not recognized: APPPHASE_ACTIVE PHASE TARGET WVR\n",
      "Intent not recognized: APPPHASE_ACTIVE POLARIZATION WVR\n",
      "Intent not recognized: APPPHASE_ACTIVE\n",
      "Intent not recognized: APPPHASE_ACTIVE PHASE TARGET WVR\n",
      "Intent not recognized: APPPHASE_ACTIVE POLARIZATION WVR\n",
      "Intent not recognized: APPPHASE_ACTIVE\n",
      "Intent not recognized: APPPHASE_ACTIVE PHASE TARGET WVR\n",
      "Intent not recognized: APPPHASE_ACTIVE POLARIZATION WVR\n",
      "Intent not recognized: APPPHASE_ACTIVE PHASE TARGET WVR\n",
      "Intent not recognized: APPPHASE_ACTIVE POLARIZATION WVR\n",
      "Intent not recognized: APPPHASE_ACTIVE\n",
      "Intent not recognized: APPPHASE_ACTIVE PHASE TARGET WVR\n",
      "Intent not recognized: APPPHASE_ACTIVE\n",
      "Intent not recognized: APPPHASE_ACTIVE PHASE TARGET WVR\n",
      "Intent not recognized: APPPHASE_ACTIVE POLARIZATION WVR\n",
      "Intent not recognized: APPPHASE_ACTIVE\n",
      "Intent not recognized: APPPHASE_ACTIVE PHASE TARGET WVR\n",
      "Intent not recognized: APPPHASE_ACTIVE\n",
      "Intent not recognized: APPPHASE_ACTIVE PHASE TARGET WVR\n",
      "Intent not recognized: APPPHASE_ACTIVE\n",
      "Intent not recognized: APPPHASE_ACTIVE PHASE TARGET WVR\n",
      "Intent not recognized: APPPHASE_ACTIVE POLARIZATION WVR\n",
      "Intent not recognized: APPPHASE_ACTIVE PHASE TARGET WVR\n",
      "Intent not recognized: APPPHASE_ACTIVE POLARIZATION WVR\n",
      "Intent not recognized: APPPHASE_ACTIVE PHASE TARGET WVR\n",
      "Intent not recognized: APPPHASE_ACTIVE POLARIZATION WVR\n",
      "Intent not recognized: APPPHASE_ACTIVE PHASE TARGET WVR\n",
      "Intent not recognized: APPPHASE_ACTIVE POLARIZATION WVR\n",
      "Intent not recognized: APPPHASE_ACTIVE PHASE TARGET WVR\n",
      "Intent not recognized: APPPHASE_ACTIVE POLARIZATION WVR\n",
      "Intent not recognized: APPPHASE_ACTIVE\n",
      "Intent not recognized: APPPHASE_ACTIVE BANDPASS FLUX POLARIZATION WVR\n",
      "Intent not recognized: APPPHASE_ACTIVE PHASE TARGET WVR\n",
      "Intent not recognized: APPPHASE_ACTIVE\n",
      "Intent not recognized: APPPHASE_ACTIVE PHASE TARGET WVR\n",
      "Intent not recognized: APPPHASE_ACTIVE POLARIZATION WVR\n",
      "Intent not recognized: APPPHASE_ACTIVE\n",
      "Intent not recognized: APPPHASE_ACTIVE PHASE TARGET WVR\n",
      "Intent not recognized: APPPHASE_ACTIVE POLARIZATION WVR\n",
      "Intent not recognized: APPPHASE_ACTIVE\n",
      "Intent not recognized: APPPHASE_ACTIVE PHASE TARGET WVR\n",
      "Intent not recognized: APPPHASE_ACTIVE POLARIZATION WVR\n",
      "Intent not recognized: APPPHASE_ACTIVE\n",
      "Intent not recognized: APPPHASE_ACTIVE PHASE TARGET WVR\n",
      "Intent not recognized: APPPHASE_ACTIVE POLARIZATION WVR\n",
      "Intent not recognized: APPPHASE_ACTIVE\n",
      "Intent not recognized: APPPHASE_ACTIVE PHASE TARGET WVR\n",
      "Intent not recognized: APPPHASE_ACTIVE POLARIZATION WVR\n",
      "Intent not recognized: APPPHASE_ACTIVE\n",
      "Intent not recognized: APPPHASE_ACTIVE PHASE TARGET WVR\n",
      "Intent not recognized: APPPHASE_ACTIVE POLARIZATION WVR\n",
      "Intent not recognized: APPPHASE_ACTIVE\n",
      "Intent not recognized: APPPHASE_ACTIVE PHASE TARGET WVR\n",
      "Intent not recognized: APPPHASE_ACTIVE POLARIZATION WVR\n",
      "Intent not recognized: APPPHASE_ACTIVE\n",
      "Intent not recognized: APPPHASE_ACTIVE PHASE TARGET WVR\n",
      "Intent not recognized: APPPHASE_ACTIVE POLARIZATION WVR\n"
     ]
    },
    {
     "name": "stdout",
     "output_type": "stream",
     "text": [
      "Intent not recognized: APPPHASE_ACTIVE PHASE TARGET WVR\n",
      "Intent not recognized: APPPHASE_ACTIVE POLARIZATION WVR\n",
      "Intent not recognized: APPPHASE_ACTIVE WVR\n",
      "Intent not recognized: APPPHASE_ACTIVE PHASE TARGET WVR\n",
      "Intent not recognized: APPPHASE_ACTIVE POLARIZATION WVR\n",
      "Intent not recognized: APPPHASE_ACTIVE WVR\n",
      "Intent not recognized: APPPHASE_ACTIVE PHASE TARGET WVR\n",
      "Intent not recognized: APPPHASE_ACTIVE POLARIZATION WVR\n",
      "Intent not recognized: APPPHASE_ACTIVE WVR\n",
      "Intent not recognized: APPPHASE_ACTIVE PHASE TARGET WVR\n",
      "Intent not recognized: APPPHASE_ACTIVE POLARIZATION WVR\n",
      "Intent not recognized: APPPHASE_ACTIVE WVR\n",
      "Intent not recognized: APPPHASE_ACTIVE WVR\n",
      "Intent not recognized: APPPHASE_ACTIVE PHASE TARGET WVR\n",
      "Intent not recognized: APPPHASE_ACTIVE POLARIZATION WVR\n",
      "Intent not recognized: APPPHASE_ACTIVE PHASE TARGET WVR\n",
      "Intent not recognized: APPPHASE_ACTIVE POLARIZATION WVR\n",
      "Intent not recognized: APPPHASE_ACTIVE WVR\n",
      "Intent not recognized: APPPHASE_ACTIVE BANDPASS FLUX POLARIZATION WVR\n",
      "Intent not recognized: APPPHASE_ACTIVE PHASE WVR\n",
      "Intent not recognized: APPPHASE_PASSIVE TARGET WVR\n",
      "Intent not recognized: APPPHASE_ACTIVE BANDPASS FLUX POLARIZATION WVR\n",
      "Intent not recognized: APPPHASE_ACTIVE PHASE WVR\n",
      "Intent not recognized: APPPHASE_PASSIVE TARGET WVR\n",
      "Intent not recognized: APPPHASE_ACTIVE POLARIZATION WVR\n",
      "Intent not recognized: APPPHASE_ACTIVE WVR\n",
      "Intent not recognized: APPPHASE_PASSIVE TARGET WVR\n",
      "Intent not recognized: APPPHASE_ACTIVE WVR\n",
      "Intent not recognized: APPPHASE_PASSIVE TARGET WVR\n",
      "Intent not recognized: APPPHASE_ACTIVE PHASE TARGET WVR\n",
      "Intent not recognized: APPPHASE_ACTIVE POLARIZATION WVR\n",
      "Intent not recognized: APPPHASE_ACTIVE WVR\n",
      "Intent not recognized: APPPHASE_ACTIVE BANDPASS FLUX POLARIZATION WVR\n",
      "Intent not recognized: APPPHASE_ACTIVE PHASE TARGET WVR\n",
      "Intent not recognized: APPPHASE_ACTIVE WVR\n",
      "Intent not recognized: APPPHASE_ACTIVE PHASE TARGET WVR\n",
      "Intent not recognized: APPPHASE_ACTIVE POLARIZATION WVR\n",
      "Intent not recognized: APPPHASE_ACTIVE WVR\n",
      "Intent not recognized: APPPHASE_ACTIVE PHASE TARGET WVR\n",
      "Intent not recognized: APPPHASE_ACTIVE POLARIZATION WVR\n",
      "Intent not recognized: APPPHASE_ACTIVE WVR\n",
      "Intent not recognized: APPPHASE_ACTIVE PHASE TARGET WVR\n",
      "Intent not recognized: APPPHASE_ACTIVE WVR\n",
      "Intent not recognized: APPPHASE_ACTIVE PHASE TARGET WVR\n",
      "Intent not recognized: APPPHASE_ACTIVE POLARIZATION WVR\n",
      "Intent not recognized: APPPHASE_ACTIVE WVR\n",
      "Intent not recognized: APPPHASE_ACTIVE PHASE TARGET WVR\n",
      "Intent not recognized: APPPHASE_ACTIVE WVR\n",
      "Intent not recognized: APPPHASE_ACTIVE PHASE TARGET WVR\n",
      "Intent not recognized: APPPHASE_ACTIVE WVR\n",
      "Intent not recognized: APPPHASE_ACTIVE BANDPASS FLUX POLARIZATION WVR\n",
      "Intent not recognized: APPPHASE_ACTIVE PHASE TARGET WVR\n",
      "Intent not recognized: APPPHASE_ACTIVE WVR\n",
      "Intent not recognized: APPPHASE_ACTIVE PHASE TARGET WVR\n",
      "Intent not recognized: APPPHASE_ACTIVE POLARIZATION WVR\n",
      "Intent not recognized: APPPHASE_ACTIVE WVR\n",
      "Intent not recognized: APPPHASE_PASSIVE WVR\n",
      "Intent not recognized: APPPHASE_ACTIVE PHASE TARGET WVR\n",
      "Intent not recognized: APPPHASE_ACTIVE POLARIZATION WVR\n",
      "Intent not recognized: APPPHASE_ACTIVE WVR\n",
      "Intent not recognized: APPPHASE_PASSIVE WVR\n",
      "Intent not recognized: APPPHASE_ACTIVE PHASE TARGET WVR\n",
      "Intent not recognized: APPPHASE_ACTIVE WVR\n",
      "Intent not recognized: APPPHASE_ACTIVE PHASE TARGET WVR\n",
      "Intent not recognized: APPPHASE_ACTIVE WVR\n",
      "Intent not recognized: APPPHASE_ACTIVE PHASE TARGET WVR\n",
      "Intent not recognized: APPPHASE_ACTIVE PHASE TARGET WVR\n",
      "Intent not recognized: APPPHASE_ACTIVE WVR\n",
      "Intent not recognized: APPPHASE_ACTIVE PHASE TARGET WVR\n",
      "Intent not recognized: APPPHASE_ACTIVE WVR\n",
      "Intent not recognized: APPPHASE_ACTIVE PHASE TARGET WVR\n",
      "Intent not recognized: APPPHASE_ACTIVE WVR\n",
      "Intent not recognized: APPPHASE_ACTIVE PHASE TARGET WVR\n",
      "Intent not recognized: APPPHASE_ACTIVE WVR\n",
      "Intent not recognized: APPPHASE_ACTIVE PHASE TARGET WVR\n",
      "Intent not recognized: APPPHASE_ACTIVE WVR\n",
      "Intent not recognized: APPPHASE_ACTIVE BANDPASS FLUX POLARIZATION WVR\n",
      "Intent not recognized: APPPHASE_ACTIVE PHASE TARGET WVR\n",
      "Intent not recognized: APPPHASE_ACTIVE PHASE TARGET WVR\n",
      "Intent not recognized: APPPHASE_ACTIVE POLARIZATION WVR\n",
      "Intent not recognized: APPPHASE_ACTIVE PHASE TARGET WVR\n",
      "Intent not recognized: APPPHASE_ACTIVE POLARIZATION WVR\n",
      "Intent not recognized: APPPHASE_ACTIVE BANDPASS FLUX WVR\n",
      "Intent not recognized: APPPHASE_ACTIVE PHASE TARGET WVR\n",
      "Intent not recognized: APPPHASE_ACTIVE WVR\n",
      "Intent not recognized: APPPHASE_ACTIVE PHASE TARGET WVR\n",
      "Intent not recognized: APPPHASE_ACTIVE WVR\n",
      "Intent not recognized: APPPHASE_ACTIVE PHASE TARGET WVR\n",
      "Intent not recognized: APPPHASE_ACTIVE POLARIZATION WVR\n",
      "Intent not recognized: APPPHASE_ACTIVE WVR\n",
      "Intent not recognized: APPPHASE_ACTIVE PHASE TARGET WVR\n",
      "Intent not recognized: APPPHASE_ACTIVE WVR\n",
      "Intent not recognized: APPPHASE_ACTIVE PHASE TARGET WVR\n",
      "Intent not recognized: APPPHASE_ACTIVE POLARIZATION WVR\n",
      "Intent not recognized: APPPHASE_ACTIVE WVR\n",
      "Intent not recognized: APPPHASE_ACTIVE PHASE TARGET WVR\n",
      "Intent not recognized: APPPHASE_ACTIVE POLARIZATION WVR\n",
      "Intent not recognized: APPPHASE_ACTIVE WVR\n",
      "Intent not recognized: APPPHASE_ACTIVE PHASE TARGET WVR\n",
      "Intent not recognized: APPPHASE_ACTIVE WVR\n",
      "Intent not recognized: APPPHASE_ACTIVE PHASE TARGET WVR\n",
      "Intent not recognized: APPPHASE_ACTIVE WVR\n",
      "Intent not recognized: APPPHASE_PASSIVE WVR\n",
      "Intent not recognized: APPPHASE_ACTIVE PHASE TARGET WVR\n",
      "Intent not recognized: APPPHASE_ACTIVE WVR\n",
      "Intent not recognized: APPPHASE_ACTIVE PHASE TARGET WVR\n",
      "Intent not recognized: APPPHASE_ACTIVE POLARIZATION WVR\n",
      "Intent not recognized: APPPHASE_ACTIVE WVR\n",
      "Intent not recognized: APPPHASE_ACTIVE PHASE TARGET WVR\n",
      "Intent not recognized: APPPHASE_ACTIVE POLARIZATION WVR\n",
      "Intent not recognized: APPPHASE_ACTIVE WVR\n",
      "Intent not recognized: APPPHASE_PASSIVE WVR\n",
      "Intent not recognized: APPPHASE_ACTIVE PHASE TARGET WVR\n",
      "Intent not recognized: APPPHASE_ACTIVE POLARIZATION WVR\n",
      "Intent not recognized: APPPHASE_ACTIVE WVR\n",
      "Intent not recognized: APPPHASE_ACTIVE PHASE TARGET WVR\n",
      "Intent not recognized: APPPHASE_ACTIVE WVR\n",
      "Intent not recognized: APPPHASE_ACTIVE PHASE TARGET WVR\n",
      "Intent not recognized: APPPHASE_ACTIVE WVR\n",
      "Intent not recognized: APPPHASE_ACTIVE PHASE TARGET WVR\n",
      "Intent not recognized: APPPHASE_ACTIVE POLARIZATION WVR\n",
      "Intent not recognized: APPPHASE_ACTIVE WVR\n",
      "Intent not recognized: APPPHASE_ACTIVE PHASE TARGET WVR\n",
      "Intent not recognized: APPPHASE_ACTIVE POLARIZATION WVR\n",
      "Intent not recognized: APPPHASE_ACTIVE WVR\n",
      "Intent not recognized: APPPHASE_ACTIVE PHASE TARGET WVR\n",
      "Intent not recognized: APPPHASE_ACTIVE WVR\n",
      "Intent not recognized: APPPHASE_PASSIVE WVR\n",
      "Intent not recognized: APPPHASE_ACTIVE PHASE TARGET WVR\n",
      "Intent not recognized: APPPHASE_ACTIVE WVR\n",
      "Intent not recognized: APPPHASE_ACTIVE PHASE TARGET WVR\n",
      "Intent not recognized: APPPHASE_ACTIVE POLARIZATION WVR\n",
      "Intent not recognized: APPPHASE_ACTIVE WVR\n",
      "Intent not recognized: APPPHASE_ACTIVE PHASE TARGET WVR\n",
      "Intent not recognized: APPPHASE_ACTIVE WVR\n",
      "Intent not recognized: APPPHASE_ACTIVE PHASE TARGET WVR\n",
      "Intent not recognized: APPPHASE_ACTIVE POLARIZATION WVR\n",
      "Intent not recognized: APPPHASE_ACTIVE PHASE TARGET WVR\n",
      "Intent not recognized: APPPHASE_ACTIVE POLARIZATION WVR\n",
      "Intent not recognized: APPPHASE_ACTIVE PHASE TARGET WVR\n",
      "Intent not recognized: APPPHASE_ACTIVE POLARIZATION WVR\n",
      "Intent not recognized: APPPHASE_ACTIVE PHASE TARGET WVR\n",
      "Intent not recognized: APPPHASE_ACTIVE POLARIZATION WVR\n",
      "Intent not recognized: APPPHASE_ACTIVE PHASE TARGET WVR\n",
      "Intent not recognized: APPPHASE_ACTIVE POLARIZATION WVR\n",
      "Intent not recognized: APPPHASE_ACTIVE WVR\n",
      "Intent not recognized: APPPHASE_ACTIVE PHASE TARGET WVR\n",
      "Intent not recognized: APPPHASE_ACTIVE WVR\n",
      "Intent not recognized: APPPHASE_ACTIVE PHASE TARGET WVR\n",
      "Intent not recognized: APPPHASE_ACTIVE WVR\n",
      "Intent not recognized: APPPHASE_ACTIVE BANDPASS FLUX WVR\n",
      "Intent not recognized: APPPHASE_ACTIVE PHASE TARGET WVR\n",
      "Intent not recognized: APPPHASE_ACTIVE POLARIZATION WVR\n",
      "Intent not recognized: APPPHASE_ACTIVE PHASE TARGET WVR\n",
      "Intent not recognized: APPPHASE_ACTIVE POLARIZATION WVR\n",
      "Intent not recognized: APPPHASE_ACTIVE WVR\n",
      "Intent not recognized: APPPHASE_PASSIVE WVR\n",
      "Intent not recognized: APPPHASE_ACTIVE PHASE TARGET WVR\n",
      "Intent not recognized: APPPHASE_ACTIVE POLARIZATION WVR\n",
      "Intent not recognized: APPPHASE_ACTIVE WVR\n",
      "Intent not recognized: APPPHASE_ACTIVE PHASE TARGET WVR\n",
      "Intent not recognized: APPPHASE_ACTIVE POLARIZATION WVR\n",
      "Intent not recognized: APPPHASE_ACTIVE WVR\n",
      "Intent not recognized: APPPHASE_PASSIVE WVR\n",
      "Intent not recognized: APPPHASE_ACTIVE PHASE TARGET WVR\n",
      "Intent not recognized: APPPHASE_ACTIVE POLARIZATION WVR\n",
      "Intent not recognized: APPPHASE_ACTIVE WVR\n",
      "Intent not recognized: APPPHASE_ACTIVE PHASE TARGET WVR\n",
      "Intent not recognized: APPPHASE_ACTIVE POLARIZATION WVR\n",
      "Intent not recognized: APPPHASE_ACTIVE WVR\n",
      "Intent not recognized: APPPHASE_ACTIVE PHASE TARGET WVR\n",
      "Intent not recognized: APPPHASE_ACTIVE POLARIZATION WVR\n",
      "Intent not recognized: APPPHASE_ACTIVE WVR\n",
      "Intent not recognized: APPPHASE_PASSIVE WVR\n",
      "Intent not recognized: APPPHASE_ACTIVE PHASE TARGET WVR\n",
      "Intent not recognized: APPPHASE_ACTIVE POLARIZATION WVR\n",
      "Intent not recognized: APPPHASE_ACTIVE WVR\n",
      "Intent not recognized: APPPHASE_PASSIVE WVR\n"
     ]
    },
    {
     "name": "stdout",
     "output_type": "stream",
     "text": [
      "Intent not recognized: APPPHASE_ACTIVE BANDPASS FLUX POLARIZATION WVR\n",
      "Intent not recognized: APPPHASE_ACTIVE TARGET WVR\n",
      "Intent not recognized: APPPHASE_ACTIVE POLARIZATION WVR\n",
      "Intent not recognized: APPPHASE_ACTIVE TARGET WVR\n",
      "Intent not recognized: APPPHASE_ACTIVE POLARIZATION WVR\n",
      "Intent not recognized: APPPHASE_ACTIVE TARGET WVR\n",
      "Intent not recognized: APPPHASE_ACTIVE WVR\n",
      "Intent not recognized: APPPHASE_ACTIVE POLARIZATION WVR\n",
      "Intent not recognized: APPPHASE_ACTIVE TARGET WVR\n",
      "Intent not recognized: APPPHASE_ACTIVE WVR\n",
      "Intent not recognized: APPPHASE_ACTIVE POLARIZATION WVR\n",
      "Intent not recognized: APPPHASE_ACTIVE TARGET WVR\n",
      "Intent not recognized: APPPHASE_ACTIVE WVR\n",
      "Intent not recognized: APPPHASE_ACTIVE POLARIZATION WVR\n",
      "Intent not recognized: APPPHASE_ACTIVE TARGET WVR\n",
      "Intent not recognized: APPPHASE_ACTIVE WVR\n",
      "Intent not recognized: APPPHASE_ACTIVE TARGET WVR\n",
      "Intent not recognized: APPPHASE_ACTIVE WVR\n",
      "Intent not recognized: APPPHASE_ACTIVE TARGET WVR\n",
      "Intent not recognized: APPPHASE_ACTIVE WVR\n",
      "Intent not recognized: APPPHASE_ACTIVE TARGET WVR\n",
      "Intent not recognized: APPPHASE_ACTIVE WVR\n",
      "Intent not recognized: APPPHASE_ACTIVE BANDPASS FLUX POLARIZATION WVR\n",
      "Intent not recognized: APPPHASE_ACTIVE PHASE WVR\n",
      "Intent not recognized: APPPHASE_ACTIVE WVR\n",
      "Intent not recognized: APPPHASE_PASSIVE TARGET WVR\n",
      "Intent not recognized: APPPHASE_ACTIVE PHASE WVR\n",
      "Intent not recognized: APPPHASE_ACTIVE POLARIZATION WVR\n",
      "Intent not recognized: APPPHASE_PASSIVE TARGET WVR\n",
      "Intent not recognized: APPPHASE_ACTIVE PHASE WVR\n",
      "Intent not recognized: APPPHASE_PASSIVE TARGET WVR\n",
      "Intent not recognized: APPPHASE_ACTIVE POLARIZATION WVR\n",
      "Intent not recognized: APPPHASE_ACTIVE TARGET WVR\n",
      "Intent not recognized: APPPHASE_ACTIVE WVR\n",
      "Intent not recognized: APPPHASE_ACTIVE TARGET WVR\n",
      "Intent not recognized: APPPHASE_ACTIVE WVR\n",
      "Intent not recognized: APPPHASE_ACTIVE TARGET WVR\n",
      "Intent not recognized: APPPHASE_ACTIVE WVR\n",
      "Intent not recognized: APPPHASE_ACTIVE POLARIZATION WVR\n",
      "Intent not recognized: APPPHASE_ACTIVE TARGET WVR\n",
      "Intent not recognized: APPPHASE_ACTIVE WVR\n",
      "Intent not recognized: APPPHASE_ACTIVE WVR\n",
      "Intent not recognized: APPPHASE_ACTIVE TARGET WVR\n",
      "Intent not recognized: APPPHASE_ACTIVE WVR\n",
      "Intent not recognized: APPPHASE_ACTIVE TARGET WVR\n",
      "Intent not recognized: APPPHASE_ACTIVE WVR\n",
      "Intent not recognized: APPPHASE_ACTIVE POLARIZATION WVR\n",
      "Intent not recognized: APPPHASE_ACTIVE TARGET WVR\n",
      "Intent not recognized: APPPHASE_ACTIVE WVR\n",
      "Intent not recognized: APPPHASE_ACTIVE TARGET WVR\n",
      "Intent not recognized: APPPHASE_ACTIVE WVR\n",
      "Intent not recognized: APPPHASE_ACTIVE TARGET WVR\n",
      "Intent not recognized: APPPHASE_ACTIVE WVR\n",
      "project_id list greater than 1. This shouldn't happen. MOUS: uid://A002/X445835/X6\n"
     ]
    }
   ],
   "source": [
    "reload(large_cubes)\n",
    "test = large_cubes.calc_time_on_source('project_mous_band_asdm_intent_sum-inttime',include_cal=True)"
   ]
  },
  {
   "cell_type": "code",
   "execution_count": 92,
   "id": "fb0abff6",
   "metadata": {},
   "outputs": [
    {
     "data": {
      "text/html": [
       "<i>Table length=6320</i>\n",
       "<table id=\"table140235406503264\" class=\"table-striped table-bordered table-condensed\">\n",
       "<thead><tr><th>project_id</th><th>mous</th><th>bp_time_s</th><th>flux_time_s</th><th>phase_time_s</th><th>pol_time_s</th><th>check_time_s</th><th>src_time_s</th></tr></thead>\n",
       "<thead><tr><th>str32</th><th>str32</th><th>float64</th><th>float64</th><th>float64</th><th>float64</th><th>float64</th><th>float64</th></tr></thead>\n",
       "<tr><td>2019.1.01326.S</td><td>uid://A001/X1465/X1002</td><td>604.8</td><td>0.0</td><td>181.44</td><td>0.0</td><td>0.0</td><td>997.92</td></tr>\n",
       "<tr><td>2019.1.01326.S</td><td>uid://A001/X1465/X1004</td><td>0.0</td><td>0.0</td><td>0.0</td><td>0.0</td><td>0.0</td><td>2227.68</td></tr>\n",
       "<tr><td>2019.1.01326.S</td><td>uid://A001/X1465/X1008</td><td>604.8</td><td>0.0</td><td>120.96</td><td>0.0</td><td>0.0</td><td>393.12</td></tr>\n",
       "<tr><td>2019.1.01326.S</td><td>uid://A001/X1465/X100a</td><td>0.0</td><td>0.0</td><td>0.0</td><td>0.0</td><td>0.0</td><td>3015.936</td></tr>\n",
       "<tr><td>2019.1.01326.S</td><td>uid://A001/X1465/X100e</td><td>604.8</td><td>0.0</td><td>120.96</td><td>0.0</td><td>0.0</td><td>393.12</td></tr>\n",
       "<tr><td>2019.1.01326.S</td><td>uid://A001/X1465/X1010</td><td>0.0</td><td>0.0</td><td>0.0</td><td>0.0</td><td>0.0</td><td>3015.936</td></tr>\n",
       "<tr><td>2019.1.01326.S</td><td>uid://A001/X1465/X1014</td><td>604.8</td><td>0.0</td><td>120.96</td><td>0.0</td><td>0.0</td><td>393.12</td></tr>\n",
       "<tr><td>2019.1.01326.S</td><td>uid://A001/X1465/X1016</td><td>0.0</td><td>0.0</td><td>0.0</td><td>0.0</td><td>0.0</td><td>3015.936</td></tr>\n",
       "<tr><td>2019.1.01326.S</td><td>uid://A001/X1465/X101a</td><td>604.8</td><td>0.0</td><td>120.96</td><td>0.0</td><td>0.0</td><td>393.12</td></tr>\n",
       "<tr><td>2019.1.01326.S</td><td>uid://A001/X1465/X101c</td><td>0.0</td><td>0.0</td><td>0.0</td><td>0.0</td><td>0.0</td><td>3015.936</td></tr>\n",
       "<tr><td>...</td><td>...</td><td>...</td><td>...</td><td>...</td><td>...</td><td>...</td><td>...</td></tr>\n",
       "<tr><td>2022.A.00009.T</td><td>uid://A001/X3571/X16</td><td>604.8</td><td>0.0</td><td>302.4</td><td>0.0</td><td>0.0</td><td>1542.24</td></tr>\n",
       "<tr><td>2022.A.00009.T</td><td>uid://A001/X3571/X1a</td><td>604.8</td><td>0.0</td><td>362.88</td><td>0.0</td><td>0.0</td><td>2782.08</td></tr>\n",
       "<tr><td>2022.A.00009.T</td><td>uid://A001/X3571/X1e</td><td>604.8</td><td>0.0</td><td>302.4</td><td>0.0</td><td>0.0</td><td>1542.24</td></tr>\n",
       "<tr><td>2022.1.00115.T</td><td>uid://A001/X3571/X5c</td><td>302.4</td><td>0.0</td><td>60.48</td><td>0.0</td><td>0.0</td><td>302.4</td></tr>\n",
       "<tr><td>2022.1.00115.T</td><td>uid://A001/X3571/X5f</td><td>302.4</td><td>0.0</td><td>60.48</td><td>0.0</td><td>0.0</td><td>302.4</td></tr>\n",
       "<tr><td>2022.1.00115.T</td><td>uid://A001/X3571/X6f</td><td>302.4</td><td>0.0</td><td>90.72</td><td>0.0</td><td>60.48</td><td>544.32</td></tr>\n",
       "<tr><td>2022.1.00115.T</td><td>uid://A001/X3571/X72</td><td>302.4</td><td>0.0</td><td>90.72</td><td>0.0</td><td>60.48</td><td>544.32</td></tr>\n",
       "<tr><td>2022.A.00009.T</td><td>uid://A001/X3571/Xa</td><td>302.4</td><td>0.0</td><td>241.92</td><td>362.88</td><td>120.96</td><td>2328.48</td></tr>\n",
       "<tr><td>2022.A.00009.T</td><td>uid://A001/X3571/Xe</td><td>302.4</td><td>0.0</td><td>211.68</td><td>362.88</td><td>0.0</td><td>2388.96</td></tr>\n",
       "<tr><td>2022.A.00001.S</td><td>uid://A001/X3571/Xff</td><td>302.4</td><td>0.0</td><td>604.8</td><td>0.0</td><td>0.0</td><td>4106.592</td></tr>\n",
       "</table>"
      ],
      "text/plain": [
       "<Table length=6320>\n",
       "  project_id            mous          bp_time_s ... check_time_s src_time_s\n",
       "    str32              str32           float64  ...   float64     float64  \n",
       "-------------- ---------------------- --------- ... ------------ ----------\n",
       "2019.1.01326.S uid://A001/X1465/X1002     604.8 ...          0.0     997.92\n",
       "2019.1.01326.S uid://A001/X1465/X1004       0.0 ...          0.0    2227.68\n",
       "2019.1.01326.S uid://A001/X1465/X1008     604.8 ...          0.0     393.12\n",
       "2019.1.01326.S uid://A001/X1465/X100a       0.0 ...          0.0   3015.936\n",
       "2019.1.01326.S uid://A001/X1465/X100e     604.8 ...          0.0     393.12\n",
       "2019.1.01326.S uid://A001/X1465/X1010       0.0 ...          0.0   3015.936\n",
       "2019.1.01326.S uid://A001/X1465/X1014     604.8 ...          0.0     393.12\n",
       "2019.1.01326.S uid://A001/X1465/X1016       0.0 ...          0.0   3015.936\n",
       "2019.1.01326.S uid://A001/X1465/X101a     604.8 ...          0.0     393.12\n",
       "2019.1.01326.S uid://A001/X1465/X101c       0.0 ...          0.0   3015.936\n",
       "           ...                    ...       ... ...          ...        ...\n",
       "2022.A.00009.T   uid://A001/X3571/X16     604.8 ...          0.0    1542.24\n",
       "2022.A.00009.T   uid://A001/X3571/X1a     604.8 ...          0.0    2782.08\n",
       "2022.A.00009.T   uid://A001/X3571/X1e     604.8 ...          0.0    1542.24\n",
       "2022.1.00115.T   uid://A001/X3571/X5c     302.4 ...          0.0      302.4\n",
       "2022.1.00115.T   uid://A001/X3571/X5f     302.4 ...          0.0      302.4\n",
       "2022.1.00115.T   uid://A001/X3571/X6f     302.4 ...        60.48     544.32\n",
       "2022.1.00115.T   uid://A001/X3571/X72     302.4 ...        60.48     544.32\n",
       "2022.A.00009.T    uid://A001/X3571/Xa     302.4 ...       120.96    2328.48\n",
       "2022.A.00009.T    uid://A001/X3571/Xe     302.4 ...          0.0    2388.96\n",
       "2022.A.00001.S   uid://A001/X3571/Xff     302.4 ...          0.0   4106.592"
      ]
     },
     "execution_count": 92,
     "metadata": {},
     "output_type": "execute_result"
    }
   ],
   "source": [
    "test"
   ]
  },
  {
   "cell_type": "code",
   "execution_count": 96,
   "id": "da6fd340",
   "metadata": {},
   "outputs": [
    {
     "data": {
      "text/plain": [
       "6320"
      ]
     },
     "execution_count": 96,
     "metadata": {},
     "output_type": "execute_result"
    }
   ],
   "source": [
    "len(test)"
   ]
  },
  {
   "cell_type": "code",
   "execution_count": 97,
   "id": "8a98e6b7",
   "metadata": {
    "scrolled": true
   },
   "outputs": [
    {
     "data": {
      "text/plain": [
       "5766"
      ]
     },
     "execution_count": 97,
     "metadata": {},
     "output_type": "execute_result"
    }
   ],
   "source": [
    "np.sum(test['bp_time_s'] >0)"
   ]
  },
  {
   "cell_type": "code",
   "execution_count": 100,
   "id": "c12d9ee0",
   "metadata": {},
   "outputs": [
    {
     "data": {
      "text/plain": [
       "5749"
      ]
     },
     "execution_count": 100,
     "metadata": {},
     "output_type": "execute_result"
    }
   ],
   "source": [
    "np.sum( (test['bp_time_s'] > 0) & (test['phase_time_s'] > 0))"
   ]
  },
  {
   "cell_type": "code",
   "execution_count": 106,
   "id": "703926b0",
   "metadata": {
    "scrolled": true
   },
   "outputs": [
    {
     "data": {
      "text/plain": [
       "554"
      ]
     },
     "execution_count": 106,
     "metadata": {},
     "output_type": "execute_result"
    }
   ],
   "source": [
    "np.sum(np.invert( test['bp_time_s'] > 0))"
   ]
  },
  {
   "cell_type": "code",
   "execution_count": 109,
   "id": "9143b405",
   "metadata": {},
   "outputs": [
    {
     "data": {
      "text/html": [
       "<i>Table length=554</i>\n",
       "<table id=\"table140233074445040\" class=\"table-striped table-bordered table-condensed\">\n",
       "<thead><tr><th>project_id</th><th>mous</th><th>bp_time_s</th><th>flux_time_s</th><th>phase_time_s</th><th>pol_time_s</th><th>check_time_s</th><th>src_time_s</th></tr></thead>\n",
       "<thead><tr><th>str32</th><th>str32</th><th>float64</th><th>float64</th><th>float64</th><th>float64</th><th>float64</th><th>float64</th></tr></thead>\n",
       "<tr><td>2019.1.01326.S</td><td>uid://A001/X1465/X1004</td><td>0.0</td><td>0.0</td><td>0.0</td><td>0.0</td><td>0.0</td><td>2227.68</td></tr>\n",
       "<tr><td>2019.1.01326.S</td><td>uid://A001/X1465/X100a</td><td>0.0</td><td>0.0</td><td>0.0</td><td>0.0</td><td>0.0</td><td>3015.936</td></tr>\n",
       "<tr><td>2019.1.01326.S</td><td>uid://A001/X1465/X1010</td><td>0.0</td><td>0.0</td><td>0.0</td><td>0.0</td><td>0.0</td><td>3015.936</td></tr>\n",
       "<tr><td>2019.1.01326.S</td><td>uid://A001/X1465/X1016</td><td>0.0</td><td>0.0</td><td>0.0</td><td>0.0</td><td>0.0</td><td>3015.936</td></tr>\n",
       "<tr><td>2019.1.01326.S</td><td>uid://A001/X1465/X101c</td><td>0.0</td><td>0.0</td><td>0.0</td><td>0.0</td><td>0.0</td><td>3015.936</td></tr>\n",
       "<tr><td>2019.1.01326.S</td><td>uid://A001/X1465/X1022</td><td>0.0</td><td>0.0</td><td>0.0</td><td>0.0</td><td>0.0</td><td>3015.936</td></tr>\n",
       "<tr><td>2019.1.01326.S</td><td>uid://A001/X1465/X1028</td><td>0.0</td><td>0.0</td><td>0.0</td><td>0.0</td><td>0.0</td><td>3015.936</td></tr>\n",
       "<tr><td>2019.1.01326.S</td><td>uid://A001/X1465/X102e</td><td>0.0</td><td>0.0</td><td>0.0</td><td>0.0</td><td>0.0</td><td>3015.936</td></tr>\n",
       "<tr><td>2019.1.01326.S</td><td>uid://A001/X1465/X1034</td><td>0.0</td><td>0.0</td><td>0.0</td><td>0.0</td><td>0.0</td><td>2895.168</td></tr>\n",
       "<tr><td>2019.1.01326.S</td><td>uid://A001/X1465/X103a</td><td>0.0</td><td>0.0</td><td>0.0</td><td>0.0</td><td>0.0</td><td>2895.168</td></tr>\n",
       "<tr><td>...</td><td>...</td><td>...</td><td>...</td><td>...</td><td>...</td><td>...</td><td>...</td></tr>\n",
       "<tr><td>2022.1.00342.S</td><td>uid://A001/X335d/X376</td><td>0.0</td><td>0.0</td><td>0.0</td><td>0.0</td><td>0.0</td><td>2736.0</td></tr>\n",
       "<tr><td>2022.1.00342.S</td><td>uid://A001/X335d/X378</td><td>0.0</td><td>0.0</td><td>0.0</td><td>0.0</td><td>0.0</td><td>2394.0</td></tr>\n",
       "<tr><td>2022.1.00342.S</td><td>uid://A001/X335d/X380</td><td>0.0</td><td>0.0</td><td>0.0</td><td>0.0</td><td>0.0</td><td>2394.0</td></tr>\n",
       "<tr><td>2022.1.00342.S</td><td>uid://A001/X335d/X382</td><td>0.0</td><td>0.0</td><td>0.0</td><td>0.0</td><td>0.0</td><td>2394.0</td></tr>\n",
       "<tr><td>2021.A.00013.S</td><td>uid://A001/X3360/X10</td><td>0.0</td><td>0.0</td><td>0.0</td><td>0.0</td><td>0.0</td><td>4039.2</td></tr>\n",
       "<tr><td>2022.1.01608.S</td><td>uid://A001/X3570/X1be</td><td>0.0</td><td>0.0</td><td>0.0</td><td>0.0</td><td>0.0</td><td>2788.512</td></tr>\n",
       "<tr><td>2022.A.00001.S</td><td>uid://A001/X3571/X101</td><td>0.0</td><td>0.0</td><td>0.0</td><td>0.0</td><td>0.0</td><td>4712.16</td></tr>\n",
       "<tr><td>2022.A.00001.S</td><td>uid://A001/X3571/X10c</td><td>0.0</td><td>0.0</td><td>0.0</td><td>0.0</td><td>0.0</td><td>991.008</td></tr>\n",
       "<tr><td>2022.A.00001.S</td><td>uid://A001/X3571/X133</td><td>0.0</td><td>0.0</td><td>0.0</td><td>0.0</td><td>0.0</td><td>6871.584</td></tr>\n",
       "<tr><td>2022.A.00001.S</td><td>uid://A001/X3571/X13f</td><td>0.0</td><td>0.0</td><td>0.0</td><td>0.0</td><td>0.0</td><td>7357.296</td></tr>\n",
       "</table>"
      ],
      "text/plain": [
       "<Table length=554>\n",
       "  project_id            mous          bp_time_s ... check_time_s src_time_s\n",
       "    str32              str32           float64  ...   float64     float64  \n",
       "-------------- ---------------------- --------- ... ------------ ----------\n",
       "2019.1.01326.S uid://A001/X1465/X1004       0.0 ...          0.0    2227.68\n",
       "2019.1.01326.S uid://A001/X1465/X100a       0.0 ...          0.0   3015.936\n",
       "2019.1.01326.S uid://A001/X1465/X1010       0.0 ...          0.0   3015.936\n",
       "2019.1.01326.S uid://A001/X1465/X1016       0.0 ...          0.0   3015.936\n",
       "2019.1.01326.S uid://A001/X1465/X101c       0.0 ...          0.0   3015.936\n",
       "2019.1.01326.S uid://A001/X1465/X1022       0.0 ...          0.0   3015.936\n",
       "2019.1.01326.S uid://A001/X1465/X1028       0.0 ...          0.0   3015.936\n",
       "2019.1.01326.S uid://A001/X1465/X102e       0.0 ...          0.0   3015.936\n",
       "2019.1.01326.S uid://A001/X1465/X1034       0.0 ...          0.0   2895.168\n",
       "2019.1.01326.S uid://A001/X1465/X103a       0.0 ...          0.0   2895.168\n",
       "           ...                    ...       ... ...          ...        ...\n",
       "2022.1.00342.S  uid://A001/X335d/X376       0.0 ...          0.0     2736.0\n",
       "2022.1.00342.S  uid://A001/X335d/X378       0.0 ...          0.0     2394.0\n",
       "2022.1.00342.S  uid://A001/X335d/X380       0.0 ...          0.0     2394.0\n",
       "2022.1.00342.S  uid://A001/X335d/X382       0.0 ...          0.0     2394.0\n",
       "2021.A.00013.S   uid://A001/X3360/X10       0.0 ...          0.0     4039.2\n",
       "2022.1.01608.S  uid://A001/X3570/X1be       0.0 ...          0.0   2788.512\n",
       "2022.A.00001.S  uid://A001/X3571/X101       0.0 ...          0.0    4712.16\n",
       "2022.A.00001.S  uid://A001/X3571/X10c       0.0 ...          0.0    991.008\n",
       "2022.A.00001.S  uid://A001/X3571/X133       0.0 ...          0.0   6871.584\n",
       "2022.A.00001.S  uid://A001/X3571/X13f       0.0 ...          0.0   7357.296"
      ]
     },
     "execution_count": 109,
     "metadata": {},
     "output_type": "execute_result"
    }
   ],
   "source": [
    "idx = np.invert(test['bp_time_s'] > 0)\n",
    "test[idx]"
   ]
  },
  {
   "cell_type": "code",
   "execution_count": 110,
   "id": "2abde242",
   "metadata": {},
   "outputs": [
    {
     "data": {
      "text/html": [
       "<i>Table length=554</i>\n",
       "<table id=\"table140233074443216\" class=\"table-striped table-bordered table-condensed\">\n",
       "<thead><tr><th>project_id</th><th>mous</th><th>bp_time_s</th><th>flux_time_s</th><th>phase_time_s</th><th>pol_time_s</th><th>check_time_s</th><th>src_time_s</th></tr></thead>\n",
       "<thead><tr><th>str32</th><th>str32</th><th>float64</th><th>float64</th><th>float64</th><th>float64</th><th>float64</th><th>float64</th></tr></thead>\n",
       "<tr><td>2019.1.01326.S</td><td>uid://A001/X1465/X1004</td><td>0.0</td><td>0.0</td><td>0.0</td><td>0.0</td><td>0.0</td><td>2227.68</td></tr>\n",
       "<tr><td>2019.1.01326.S</td><td>uid://A001/X1465/X100a</td><td>0.0</td><td>0.0</td><td>0.0</td><td>0.0</td><td>0.0</td><td>3015.936</td></tr>\n",
       "<tr><td>2019.1.01326.S</td><td>uid://A001/X1465/X1010</td><td>0.0</td><td>0.0</td><td>0.0</td><td>0.0</td><td>0.0</td><td>3015.936</td></tr>\n",
       "<tr><td>2019.1.01326.S</td><td>uid://A001/X1465/X1016</td><td>0.0</td><td>0.0</td><td>0.0</td><td>0.0</td><td>0.0</td><td>3015.936</td></tr>\n",
       "<tr><td>2019.1.01326.S</td><td>uid://A001/X1465/X101c</td><td>0.0</td><td>0.0</td><td>0.0</td><td>0.0</td><td>0.0</td><td>3015.936</td></tr>\n",
       "<tr><td>2019.1.01326.S</td><td>uid://A001/X1465/X1022</td><td>0.0</td><td>0.0</td><td>0.0</td><td>0.0</td><td>0.0</td><td>3015.936</td></tr>\n",
       "<tr><td>2019.1.01326.S</td><td>uid://A001/X1465/X1028</td><td>0.0</td><td>0.0</td><td>0.0</td><td>0.0</td><td>0.0</td><td>3015.936</td></tr>\n",
       "<tr><td>2019.1.01326.S</td><td>uid://A001/X1465/X102e</td><td>0.0</td><td>0.0</td><td>0.0</td><td>0.0</td><td>0.0</td><td>3015.936</td></tr>\n",
       "<tr><td>2019.1.01326.S</td><td>uid://A001/X1465/X1034</td><td>0.0</td><td>0.0</td><td>0.0</td><td>0.0</td><td>0.0</td><td>2895.168</td></tr>\n",
       "<tr><td>2019.1.01326.S</td><td>uid://A001/X1465/X103a</td><td>0.0</td><td>0.0</td><td>0.0</td><td>0.0</td><td>0.0</td><td>2895.168</td></tr>\n",
       "<tr><td>...</td><td>...</td><td>...</td><td>...</td><td>...</td><td>...</td><td>...</td><td>...</td></tr>\n",
       "<tr><td>2022.1.00342.S</td><td>uid://A001/X335d/X376</td><td>0.0</td><td>0.0</td><td>0.0</td><td>0.0</td><td>0.0</td><td>2736.0</td></tr>\n",
       "<tr><td>2022.1.00342.S</td><td>uid://A001/X335d/X378</td><td>0.0</td><td>0.0</td><td>0.0</td><td>0.0</td><td>0.0</td><td>2394.0</td></tr>\n",
       "<tr><td>2022.1.00342.S</td><td>uid://A001/X335d/X380</td><td>0.0</td><td>0.0</td><td>0.0</td><td>0.0</td><td>0.0</td><td>2394.0</td></tr>\n",
       "<tr><td>2022.1.00342.S</td><td>uid://A001/X335d/X382</td><td>0.0</td><td>0.0</td><td>0.0</td><td>0.0</td><td>0.0</td><td>2394.0</td></tr>\n",
       "<tr><td>2021.A.00013.S</td><td>uid://A001/X3360/X10</td><td>0.0</td><td>0.0</td><td>0.0</td><td>0.0</td><td>0.0</td><td>4039.2</td></tr>\n",
       "<tr><td>2022.1.01608.S</td><td>uid://A001/X3570/X1be</td><td>0.0</td><td>0.0</td><td>0.0</td><td>0.0</td><td>0.0</td><td>2788.512</td></tr>\n",
       "<tr><td>2022.A.00001.S</td><td>uid://A001/X3571/X101</td><td>0.0</td><td>0.0</td><td>0.0</td><td>0.0</td><td>0.0</td><td>4712.16</td></tr>\n",
       "<tr><td>2022.A.00001.S</td><td>uid://A001/X3571/X10c</td><td>0.0</td><td>0.0</td><td>0.0</td><td>0.0</td><td>0.0</td><td>991.008</td></tr>\n",
       "<tr><td>2022.A.00001.S</td><td>uid://A001/X3571/X133</td><td>0.0</td><td>0.0</td><td>0.0</td><td>0.0</td><td>0.0</td><td>6871.584</td></tr>\n",
       "<tr><td>2022.A.00001.S</td><td>uid://A001/X3571/X13f</td><td>0.0</td><td>0.0</td><td>0.0</td><td>0.0</td><td>0.0</td><td>7357.296</td></tr>\n",
       "</table>"
      ],
      "text/plain": [
       "<Table length=554>\n",
       "  project_id            mous          bp_time_s ... check_time_s src_time_s\n",
       "    str32              str32           float64  ...   float64     float64  \n",
       "-------------- ---------------------- --------- ... ------------ ----------\n",
       "2019.1.01326.S uid://A001/X1465/X1004       0.0 ...          0.0    2227.68\n",
       "2019.1.01326.S uid://A001/X1465/X100a       0.0 ...          0.0   3015.936\n",
       "2019.1.01326.S uid://A001/X1465/X1010       0.0 ...          0.0   3015.936\n",
       "2019.1.01326.S uid://A001/X1465/X1016       0.0 ...          0.0   3015.936\n",
       "2019.1.01326.S uid://A001/X1465/X101c       0.0 ...          0.0   3015.936\n",
       "2019.1.01326.S uid://A001/X1465/X1022       0.0 ...          0.0   3015.936\n",
       "2019.1.01326.S uid://A001/X1465/X1028       0.0 ...          0.0   3015.936\n",
       "2019.1.01326.S uid://A001/X1465/X102e       0.0 ...          0.0   3015.936\n",
       "2019.1.01326.S uid://A001/X1465/X1034       0.0 ...          0.0   2895.168\n",
       "2019.1.01326.S uid://A001/X1465/X103a       0.0 ...          0.0   2895.168\n",
       "           ...                    ...       ... ...          ...        ...\n",
       "2022.1.00342.S  uid://A001/X335d/X376       0.0 ...          0.0     2736.0\n",
       "2022.1.00342.S  uid://A001/X335d/X378       0.0 ...          0.0     2394.0\n",
       "2022.1.00342.S  uid://A001/X335d/X380       0.0 ...          0.0     2394.0\n",
       "2022.1.00342.S  uid://A001/X335d/X382       0.0 ...          0.0     2394.0\n",
       "2021.A.00013.S   uid://A001/X3360/X10       0.0 ...          0.0     4039.2\n",
       "2022.1.01608.S  uid://A001/X3570/X1be       0.0 ...          0.0   2788.512\n",
       "2022.A.00001.S  uid://A001/X3571/X101       0.0 ...          0.0    4712.16\n",
       "2022.A.00001.S  uid://A001/X3571/X10c       0.0 ...          0.0    991.008\n",
       "2022.A.00001.S  uid://A001/X3571/X133       0.0 ...          0.0   6871.584\n",
       "2022.A.00001.S  uid://A001/X3571/X13f       0.0 ...          0.0   7357.296"
      ]
     },
     "execution_count": 110,
     "metadata": {},
     "output_type": "execute_result"
    }
   ],
   "source": [
    "idx = np.invert(test['bp_time_s'] > 0) & (test['src_time_s'] > 0)\n",
    "test[idx]\n"
   ]
  },
  {
   "cell_type": "code",
   "execution_count": 94,
   "id": "c5940003",
   "metadata": {},
   "outputs": [],
   "source": [
    "cal_info_file = 'project_mous_band_asdm_intent_sum-inttime'\n",
    "t = Table.read(cal_info_file, format='ascii',delimiter='|',\n",
    "                   guess=False,\n",
    "                   names=('project_id','mous','band','asdm','intent','sum','na'))"
   ]
  },
  {
   "cell_type": "code",
   "execution_count": 95,
   "id": "d92bda3b",
   "metadata": {},
   "outputs": [
    {
     "data": {
      "text/html": [
       "<i>Table length=183</i>\n",
       "<table id=\"table140233238671712\" class=\"table-striped table-bordered table-condensed\">\n",
       "<thead><tr><th>project_id</th><th>mous</th><th>band</th><th>asdm</th><th>intent</th><th>sum</th><th>na</th></tr></thead>\n",
       "<thead><tr><th>str16</th><th>str23</th><th>str5</th><th>str26</th><th>str46</th><th>float64</th><th>int64</th></tr></thead>\n",
       "<tr><td>2019.1.01326.S</td><td>uid://A001/X1465/X1002</td><td>3</td><td>uid://A002/Xe5aacf/Xaba3</td><td>BANDPASS FLUX WVR</td><td>604.8</td><td>--</td></tr>\n",
       "<tr><td>2019.1.01326.S</td><td>uid://A001/X1465/X1002</td><td>3</td><td>uid://A002/Xe5aacf/Xaba3</td><td>PHASE WVR</td><td>181.44</td><td>--</td></tr>\n",
       "<tr><td>2019.1.01326.S</td><td>uid://A001/X1465/X1002</td><td>3</td><td>uid://A002/Xe5aacf/Xaba3</td><td>TARGET</td><td>997.92</td><td>--</td></tr>\n",
       "<tr><td>2019.1.01326.S</td><td>uid://A001/X1465/X1002</td><td>3</td><td>uid://A002/Xe7b231/X9a40</td><td>BANDPASS FLUX WVR</td><td>604.8</td><td>--</td></tr>\n",
       "<tr><td>2019.1.01326.S</td><td>uid://A001/X1465/X1002</td><td>3</td><td>uid://A002/Xe7b231/X9a40</td><td>PHASE WVR</td><td>181.44</td><td>--</td></tr>\n",
       "<tr><td>2019.1.01326.S</td><td>uid://A001/X1465/X1002</td><td>3</td><td>uid://A002/Xe7b231/X9a40</td><td>TARGET</td><td>997.92</td><td>--</td></tr>\n",
       "<tr><td>2019.1.01326.S</td><td>uid://A001/X1465/X1004</td><td>3</td><td>uid://A002/Xe6bd73/X2f2b</td><td>TARGET</td><td>2227.68</td><td>--</td></tr>\n",
       "<tr><td>2019.1.01326.S</td><td>uid://A001/X1465/X1004</td><td>3</td><td>uid://A002/Xe6e524/Xcf12</td><td>TARGET</td><td>2227.68</td><td>--</td></tr>\n",
       "<tr><td>2019.1.01326.S</td><td>uid://A001/X1465/X1008</td><td>3</td><td>uid://A002/Xe5aacf/Xa88d</td><td>BANDPASS FLUX WVR</td><td>604.8</td><td>--</td></tr>\n",
       "<tr><td>2019.1.01326.S</td><td>uid://A001/X1465/X1008</td><td>3</td><td>uid://A002/Xe5aacf/Xa88d</td><td>PHASE WVR</td><td>120.96</td><td>--</td></tr>\n",
       "<tr><td>...</td><td>...</td><td>...</td><td>...</td><td>...</td><td>...</td><td>...</td></tr>\n",
       "<tr><td>2019.1.01326.S</td><td>uid://A001/X1465/Xff6</td><td>3</td><td>uid://A002/Xe34c04/X6555</td><td>TARGET</td><td>100.8</td><td>--</td></tr>\n",
       "<tr><td>2019.1.01326.S</td><td>uid://A001/X1465/Xff6</td><td>3</td><td>uid://A002/Xe539c7/X2c99</td><td>BANDPASS FLUX WVR</td><td>604.8</td><td>--</td></tr>\n",
       "<tr><td>2019.1.01326.S</td><td>uid://A001/X1465/Xff6</td><td>3</td><td>uid://A002/Xe539c7/X2c99</td><td>PHASE WVR</td><td>120.96</td><td>--</td></tr>\n",
       "<tr><td>2019.1.01326.S</td><td>uid://A001/X1465/Xff6</td><td>3</td><td>uid://A002/Xe539c7/X2c99</td><td>TARGET</td><td>393.12</td><td>--</td></tr>\n",
       "<tr><td>2019.1.01326.S</td><td>uid://A001/X1465/Xff8</td><td>3</td><td>uid://A002/Xe5aacf/Xb604</td><td>TARGET</td><td>3015.936</td><td>--</td></tr>\n",
       "<tr><td>2019.1.01326.S</td><td>uid://A001/X1465/Xffc</td><td>3</td><td>uid://A002/Xe539c7/X2ba2</td><td>BANDPASS FLUX WVR</td><td>604.8</td><td>--</td></tr>\n",
       "<tr><td>2019.1.01326.S</td><td>uid://A001/X1465/Xffc</td><td>3</td><td>uid://A002/Xe539c7/X2ba2</td><td>PHASE WVR</td><td>181.44</td><td>--</td></tr>\n",
       "<tr><td>2019.1.01326.S</td><td>uid://A001/X1465/Xffc</td><td>3</td><td>uid://A002/Xe539c7/X2ba2</td><td>TARGET</td><td>997.92</td><td>--</td></tr>\n",
       "<tr><td>2019.1.01326.S</td><td>uid://A001/X1465/Xffe</td><td>3</td><td>uid://A002/Xe4f0a6/X5d4d</td><td>TARGET</td><td>1915.2</td><td>--</td></tr>\n",
       "<tr><td>2019.1.01326.S</td><td>uid://A001/X1465/Xffe</td><td>3</td><td>uid://A002/Xe50c9e/X19f82</td><td>TARGET</td><td>2227.68</td><td>--</td></tr>\n",
       "</table>"
      ],
      "text/plain": [
       "<Table length=183>\n",
       "  project_id            mous          band ...       intent        sum      na \n",
       "    str16              str23          str5 ...       str46       float64  int64\n",
       "-------------- ---------------------- ---- ... ----------------- -------- -----\n",
       "2019.1.01326.S uid://A001/X1465/X1002    3 ... BANDPASS FLUX WVR    604.8    --\n",
       "2019.1.01326.S uid://A001/X1465/X1002    3 ...         PHASE WVR   181.44    --\n",
       "2019.1.01326.S uid://A001/X1465/X1002    3 ...            TARGET   997.92    --\n",
       "2019.1.01326.S uid://A001/X1465/X1002    3 ... BANDPASS FLUX WVR    604.8    --\n",
       "2019.1.01326.S uid://A001/X1465/X1002    3 ...         PHASE WVR   181.44    --\n",
       "2019.1.01326.S uid://A001/X1465/X1002    3 ...            TARGET   997.92    --\n",
       "2019.1.01326.S uid://A001/X1465/X1004    3 ...            TARGET  2227.68    --\n",
       "2019.1.01326.S uid://A001/X1465/X1004    3 ...            TARGET  2227.68    --\n",
       "2019.1.01326.S uid://A001/X1465/X1008    3 ... BANDPASS FLUX WVR    604.8    --\n",
       "2019.1.01326.S uid://A001/X1465/X1008    3 ...         PHASE WVR   120.96    --\n",
       "           ...                    ...  ... ...               ...      ...   ...\n",
       "2019.1.01326.S  uid://A001/X1465/Xff6    3 ...            TARGET    100.8    --\n",
       "2019.1.01326.S  uid://A001/X1465/Xff6    3 ... BANDPASS FLUX WVR    604.8    --\n",
       "2019.1.01326.S  uid://A001/X1465/Xff6    3 ...         PHASE WVR   120.96    --\n",
       "2019.1.01326.S  uid://A001/X1465/Xff6    3 ...            TARGET   393.12    --\n",
       "2019.1.01326.S  uid://A001/X1465/Xff8    3 ...            TARGET 3015.936    --\n",
       "2019.1.01326.S  uid://A001/X1465/Xffc    3 ... BANDPASS FLUX WVR    604.8    --\n",
       "2019.1.01326.S  uid://A001/X1465/Xffc    3 ...         PHASE WVR   181.44    --\n",
       "2019.1.01326.S  uid://A001/X1465/Xffc    3 ...            TARGET   997.92    --\n",
       "2019.1.01326.S  uid://A001/X1465/Xffe    3 ...            TARGET   1915.2    --\n",
       "2019.1.01326.S  uid://A001/X1465/Xffe    3 ...            TARGET  2227.68    --"
      ]
     },
     "execution_count": 95,
     "metadata": {},
     "output_type": "execute_result"
    }
   ],
   "source": [
    "idx = (t['project_id'] == '2019.1.01326.S') \n",
    "t[idx]"
   ]
  },
  {
   "cell_type": "code",
   "execution_count": null,
   "id": "2a4e7d54",
   "metadata": {},
   "outputs": [],
   "source": []
  }
 ],
 "metadata": {
  "kernelspec": {
   "display_name": "Python 3",
   "language": "python",
   "name": "python3"
  },
  "language_info": {
   "codemirror_mode": {
    "name": "ipython",
    "version": 3
   },
   "file_extension": ".py",
   "mimetype": "text/x-python",
   "name": "python",
   "nbconvert_exporter": "python",
   "pygments_lexer": "ipython3",
   "version": "3.8.8"
  }
 },
 "nbformat": 4,
 "nbformat_minor": 5
}
