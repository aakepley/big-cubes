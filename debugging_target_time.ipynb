{
 "cells": [
  {
   "cell_type": "markdown",
   "id": "efdc427f",
   "metadata": {},
   "source": [
    "# Debugging Target Time in WSU DB"
   ]
  },
  {
   "cell_type": "markdown",
   "id": "3db6cb5f",
   "metadata": {},
   "source": [
    "Something is not right with the target time in WSU DB. I thought I had checked it and it was the time on source total for the mosaics. But I think it's tos per pointing based on conversations with Ryan Loomis. But some other things aren't making sense either."
   ]
  },
  {
   "cell_type": "code",
   "execution_count": 14,
   "id": "3046ec54",
   "metadata": {},
   "outputs": [],
   "source": [
    "import numpy as np\n",
    "import matplotlib.pyplot as plt\n",
    "import astropy.units as u\n",
    "from astropy.table import QTable, vstack\n",
    "from importlib import reload\n",
    "import re\n",
    "import large_cubes"
   ]
  },
  {
   "cell_type": "code",
   "execution_count": 2,
   "id": "60d349a8",
   "metadata": {},
   "outputs": [
    {
     "data": {
      "text/plain": [
       "<astropy.units.core._UnitContext at 0x7fc08b934c40>"
      ]
     },
     "execution_count": 2,
     "metadata": {},
     "output_type": "execute_result"
    }
   ],
   "source": [
    "# fix up custom units\n",
    "gvis = u.def_unit('Gvis',namespace=globals())\n",
    "u.add_enabled_units([gvis])"
   ]
  },
  {
   "cell_type": "code",
   "execution_count": 3,
   "id": "4969d4c5",
   "metadata": {},
   "outputs": [],
   "source": [
    "result_c7_mous = QTable.read('data/wsu_datarates_mit_per_mous_cycle7_20230128.ecsv')\n",
    "result_c8_mous = QTable.read('data/wsu_datarates_mit_per_mous_cycle8_20230128.ecsv')"
   ]
  },
  {
   "cell_type": "code",
   "execution_count": 7,
   "id": "f2ca581d",
   "metadata": {
    "scrolled": false
   },
   "outputs": [
    {
     "data": {
      "text/plain": [
       "<TableColumns names=('mous','proposal_id','schedblock_name','array','nant_typical','nant_array','nant_all','band','ntarget','s_fov','s_resolution','mosaic','imsize','pb','cell','blc_npol','blc_nspw','blc_specwidth','blc_freq','blc_velres','blc_nchan_agg','blc_nchan_max','blc_bandwidth_max','blc_bandwidth_agg','wsu_freq','wsu_npol','wsu_bandwidth_early','wsu_bandwidth_later_2x','wsu_bandwidth_later_4x','wsu_bandwidth_spw','wsu_nspw_early','wsu_nspw_later_2x','wsu_nspw_later_4x','wsu_specwidth_finest','wsu_chanavg_finest','wsu_velres_finest','wsu_specwidth_stepped','wsu_chanavg_stepped','wsu_velres_stepped','wsu_specwidth_stepped2','wsu_chanavg_stepped2','wsu_velres_stepped2','wsu_tint','wsu_nchan_spw_finest','wsu_nchan_spw_stepped','wsu_nchan_spw_stepped2','wsu_frac_bw_early','wsu_frac_bw_later_2x','wsu_frac_bw_later_4x','wsu_frac_bw_spw','nbase_typical','nbase_array','nbase_all','L80','Project','SB_name','blc_tint','blc_ntunings','bp_time','flux_time','phase_time','pol_time','check_time','target_time_tot','time_tot','cal_time','mfssize','wsu_cubesize_stepped2','wsu_productsize_early_stepped2','wsu_datarate_early_stepped2_typical','wsu_visrate_early_stepped2_typical','wsu_datavol_early_stepped2_typical_target_tot','wsu_datavol_early_stepped2_typical_cal','wsu_datavol_early_stepped2_typical_total','wsu_nvis_early_stepped2_typical_target_tot','wsu_nvis_early_stepped2_typical_cal','wsu_nvis_early_stepped2_typical_total','wsu_productsize_later_2x_stepped2','wsu_datarate_later_2x_stepped2_typical','wsu_visrate_later_2x_stepped2_typical','wsu_datavol_later_2x_stepped2_typical_target_tot','wsu_datavol_later_2x_stepped2_typical_cal','wsu_datavol_later_2x_stepped2_typical_total','wsu_nvis_later_2x_stepped2_typical_target_tot','wsu_nvis_later_2x_stepped2_typical_cal','wsu_nvis_later_2x_stepped2_typical_total','wsu_productsize_later_4x_stepped2','wsu_datarate_later_4x_stepped2_typical','wsu_visrate_later_4x_stepped2_typical','wsu_datavol_later_4x_stepped2_typical_target_tot','wsu_datavol_later_4x_stepped2_typical_cal','wsu_datavol_later_4x_stepped2_typical_total','wsu_nvis_later_4x_stepped2_typical_target_tot','wsu_nvis_later_4x_stepped2_typical_cal','wsu_nvis_later_4x_stepped2_typical_total','blc_cubesize','blc_cubesize_sum','blc_productsize','blc_datarate_typical','blc_visrate_typical','blc_datavol_typical_target_tot','blc_datavol_typical_cal','blc_datavol_typical_total','blc_nvis_typical_target_tot','blc_nvis_typical_cal','blc_nvis_typical_total','imsize_mit','wsu_cubesize_stepped2_mit','wsu_mfssize_mit','wsu_productsize_early_stepped2_mit','plversion','procedure','nant','pl_totaltime','pl_imgtime','pl_cubetime','pl_aggtime','pl_fctime','nEB','npt','nscan','reptgt','allowedcubesize','allowedcubelimit','predcubesize','mitigatedcubesize','allowedprodsize','initialprodsize','mitigatedprodsize','mitigated','mit_nbins','mit_hm_imsize','mit_hm_cell','mit_field','mit_spw','pl_caltime')>"
      ]
     },
     "execution_count": 7,
     "metadata": {},
     "output_type": "execute_result"
    }
   ],
   "source": [
    "result_c7_mous.columns"
   ]
  },
  {
   "cell_type": "code",
   "execution_count": 12,
   "id": "feca4c86",
   "metadata": {},
   "outputs": [
    {
     "data": {
      "text/html": [
       "<div><i>QTable length=32</i>\n",
       "<table id=\"table140464986185248\" class=\"table-striped table-bordered table-condensed\">\n",
       "<thead><tr><th>proposal_id</th><th>mous</th><th>array</th><th>nEB</th><th>npt</th><th>nscan</th><th>target_time_tot</th><th>blc_tint</th></tr></thead>\n",
       "<thead><tr><th></th><th></th><th></th><th></th><th></th><th></th><th>s</th><th>s</th></tr></thead>\n",
       "<thead><tr><th>str14</th><th>str22</th><th>str3</th><th>int64</th><th>int64</th><th>int64</th><th>float64</th><th>float64</th></tr></thead>\n",
       "<tr><td>2019.1.01326.S</td><td>uid://A001/X1465/X1002</td><td>7m</td><td>1</td><td>34</td><td>2</td><td>60.48</td><td>10.08</td></tr>\n",
       "<tr><td>2019.1.01326.S</td><td>uid://A001/X1465/X1008</td><td>7m</td><td>1</td><td>39</td><td>1</td><td>10.08</td><td>10.08</td></tr>\n",
       "<tr><td>2019.1.01326.S</td><td>uid://A001/X1465/X100e</td><td>7m</td><td>1</td><td>39</td><td>1</td><td>10.08</td><td>10.08</td></tr>\n",
       "<tr><td>2019.1.01326.S</td><td>uid://A001/X1465/X1014</td><td>7m</td><td>1</td><td>39</td><td>1</td><td>10.08</td><td>10.08</td></tr>\n",
       "<tr><td>2019.1.01326.S</td><td>uid://A001/X1465/X101a</td><td>7m</td><td>1</td><td>39</td><td>1</td><td>10.08</td><td>10.08</td></tr>\n",
       "<tr><td>2019.1.01326.S</td><td>uid://A001/X1465/X1020</td><td>7m</td><td>1</td><td>39</td><td>1</td><td>10.08</td><td>10.08</td></tr>\n",
       "<tr><td>2019.1.01326.S</td><td>uid://A001/X1465/X1026</td><td>7m</td><td>1</td><td>39</td><td>1</td><td>10.08</td><td>10.08</td></tr>\n",
       "<tr><td>2019.1.01326.S</td><td>uid://A001/X1465/X102c</td><td>7m</td><td>1</td><td>39</td><td>1</td><td>10.08</td><td>10.08</td></tr>\n",
       "<tr><td>2019.1.01326.S</td><td>uid://A001/X1465/X1032</td><td>7m</td><td>1</td><td>139</td><td>6</td><td>20.16</td><td>10.08</td></tr>\n",
       "<tr><td>2019.1.01326.S</td><td>uid://A001/X1465/X1038</td><td>7m</td><td>1</td><td>139</td><td>6</td><td>20.16</td><td>10.08</td></tr>\n",
       "<tr><td>2019.1.01326.S</td><td>uid://A001/X1465/X103e</td><td>7m</td><td>2</td><td>139</td><td>6</td><td>40.32</td><td>10.08</td></tr>\n",
       "<tr><td>2019.1.01326.S</td><td>uid://A001/X1465/X1044</td><td>7m</td><td>1</td><td>139</td><td>6</td><td>20.16</td><td>10.08</td></tr>\n",
       "<tr><td>2019.1.01326.S</td><td>uid://A001/X1465/X104a</td><td>7m</td><td>1</td><td>139</td><td>6</td><td>20.16</td><td>10.08</td></tr>\n",
       "<tr><td>2019.1.01326.S</td><td>uid://A001/X1465/X1050</td><td>7m</td><td>1</td><td>139</td><td>6</td><td>20.16</td><td>10.08</td></tr>\n",
       "<tr><td>2019.1.01326.S</td><td>uid://A001/X1465/X1056</td><td>7m</td><td>1</td><td>139</td><td>6</td><td>20.16</td><td>10.08</td></tr>\n",
       "<tr><td>2019.1.01326.S</td><td>uid://A001/X1465/X105c</td><td>7m</td><td>1</td><td>139</td><td>6</td><td>20.16</td><td>10.08</td></tr>\n",
       "<tr><td>2019.1.01326.S</td><td>uid://A001/X1465/X1062</td><td>7m</td><td>1</td><td>139</td><td>6</td><td>20.16</td><td>10.08</td></tr>\n",
       "<tr><td>2019.1.01326.S</td><td>uid://A001/X1465/X1068</td><td>7m</td><td>1</td><td>139</td><td>6</td><td>20.16</td><td>10.08</td></tr>\n",
       "<tr><td>2019.1.01326.S</td><td>uid://A001/X1465/X106e</td><td>7m</td><td>1</td><td>139</td><td>6</td><td>20.16</td><td>10.08</td></tr>\n",
       "<tr><td>2019.1.01326.S</td><td>uid://A001/X1465/X1074</td><td>7m</td><td>1</td><td>139</td><td>6</td><td>20.16</td><td>10.08</td></tr>\n",
       "<tr><td>2019.1.01326.S</td><td>uid://A001/X1465/X107a</td><td>7m</td><td>1</td><td>139</td><td>6</td><td>20.16</td><td>10.08</td></tr>\n",
       "<tr><td>2019.1.01326.S</td><td>uid://A001/X1465/X1080</td><td>7m</td><td>1</td><td>139</td><td>6</td><td>20.16</td><td>10.08</td></tr>\n",
       "<tr><td>2019.1.01326.S</td><td>uid://A001/X1465/X1086</td><td>7m</td><td>1</td><td>139</td><td>6</td><td>20.16</td><td>10.08</td></tr>\n",
       "<tr><td>2019.1.01326.S</td><td>uid://A001/X1465/X108c</td><td>7m</td><td>1</td><td>139</td><td>6</td><td>20.16</td><td>10.08</td></tr>\n",
       "<tr><td>2019.1.01326.S</td><td>uid://A001/X1465/Xfd2</td><td>7m</td><td>--</td><td>--</td><td>--</td><td>30.24</td><td>10.08</td></tr>\n",
       "<tr><td>2019.1.01326.S</td><td>uid://A001/X1465/Xfd8</td><td>7m</td><td>1</td><td>34</td><td>2</td><td>30.24</td><td>10.08</td></tr>\n",
       "<tr><td>2019.1.01326.S</td><td>uid://A001/X1465/Xfde</td><td>7m</td><td>1</td><td>33</td><td>2</td><td>30.24</td><td>10.08</td></tr>\n",
       "<tr><td>2019.1.01326.S</td><td>uid://A001/X1465/Xfe4</td><td>7m</td><td>--</td><td>--</td><td>--</td><td>30.24</td><td>10.08</td></tr>\n",
       "<tr><td>2019.1.01326.S</td><td>uid://A001/X1465/Xfea</td><td>7m</td><td>1</td><td>33</td><td>2</td><td>30.24</td><td>10.08</td></tr>\n",
       "<tr><td>2019.1.01326.S</td><td>uid://A001/X1465/Xff0</td><td>7m</td><td>1</td><td>34</td><td>2</td><td>30.24</td><td>10.08</td></tr>\n",
       "<tr><td>2019.1.01326.S</td><td>uid://A001/X1465/Xff6</td><td>7m</td><td>1</td><td>39</td><td>1</td><td>20.16</td><td>10.08</td></tr>\n",
       "<tr><td>2019.1.01326.S</td><td>uid://A001/X1465/Xffc</td><td>7m</td><td>1</td><td>33</td><td>2</td><td>30.24</td><td>10.08</td></tr>\n",
       "</table></div>"
      ],
      "text/plain": [
       "<QTable length=32>\n",
       " proposal_id            mous          array  nEB   npt  nscan target_time_tot blc_tint\n",
       "                                                                     s           s    \n",
       "    str14              str22           str3 int64 int64 int64     float64     float64 \n",
       "-------------- ---------------------- ----- ----- ----- ----- --------------- --------\n",
       "2019.1.01326.S uid://A001/X1465/X1002    7m     1    34     2           60.48    10.08\n",
       "2019.1.01326.S uid://A001/X1465/X1008    7m     1    39     1           10.08    10.08\n",
       "2019.1.01326.S uid://A001/X1465/X100e    7m     1    39     1           10.08    10.08\n",
       "2019.1.01326.S uid://A001/X1465/X1014    7m     1    39     1           10.08    10.08\n",
       "2019.1.01326.S uid://A001/X1465/X101a    7m     1    39     1           10.08    10.08\n",
       "2019.1.01326.S uid://A001/X1465/X1020    7m     1    39     1           10.08    10.08\n",
       "2019.1.01326.S uid://A001/X1465/X1026    7m     1    39     1           10.08    10.08\n",
       "2019.1.01326.S uid://A001/X1465/X102c    7m     1    39     1           10.08    10.08\n",
       "2019.1.01326.S uid://A001/X1465/X1032    7m     1   139     6           20.16    10.08\n",
       "2019.1.01326.S uid://A001/X1465/X1038    7m     1   139     6           20.16    10.08\n",
       "2019.1.01326.S uid://A001/X1465/X103e    7m     2   139     6           40.32    10.08\n",
       "2019.1.01326.S uid://A001/X1465/X1044    7m     1   139     6           20.16    10.08\n",
       "2019.1.01326.S uid://A001/X1465/X104a    7m     1   139     6           20.16    10.08\n",
       "2019.1.01326.S uid://A001/X1465/X1050    7m     1   139     6           20.16    10.08\n",
       "2019.1.01326.S uid://A001/X1465/X1056    7m     1   139     6           20.16    10.08\n",
       "2019.1.01326.S uid://A001/X1465/X105c    7m     1   139     6           20.16    10.08\n",
       "2019.1.01326.S uid://A001/X1465/X1062    7m     1   139     6           20.16    10.08\n",
       "2019.1.01326.S uid://A001/X1465/X1068    7m     1   139     6           20.16    10.08\n",
       "2019.1.01326.S uid://A001/X1465/X106e    7m     1   139     6           20.16    10.08\n",
       "2019.1.01326.S uid://A001/X1465/X1074    7m     1   139     6           20.16    10.08\n",
       "2019.1.01326.S uid://A001/X1465/X107a    7m     1   139     6           20.16    10.08\n",
       "2019.1.01326.S uid://A001/X1465/X1080    7m     1   139     6           20.16    10.08\n",
       "2019.1.01326.S uid://A001/X1465/X1086    7m     1   139     6           20.16    10.08\n",
       "2019.1.01326.S uid://A001/X1465/X108c    7m     1   139     6           20.16    10.08\n",
       "2019.1.01326.S  uid://A001/X1465/Xfd2    7m    --    --    --           30.24    10.08\n",
       "2019.1.01326.S  uid://A001/X1465/Xfd8    7m     1    34     2           30.24    10.08\n",
       "2019.1.01326.S  uid://A001/X1465/Xfde    7m     1    33     2           30.24    10.08\n",
       "2019.1.01326.S  uid://A001/X1465/Xfe4    7m    --    --    --           30.24    10.08\n",
       "2019.1.01326.S  uid://A001/X1465/Xfea    7m     1    33     2           30.24    10.08\n",
       "2019.1.01326.S  uid://A001/X1465/Xff0    7m     1    34     2           30.24    10.08\n",
       "2019.1.01326.S  uid://A001/X1465/Xff6    7m     1    39     1           20.16    10.08\n",
       "2019.1.01326.S  uid://A001/X1465/Xffc    7m     1    33     2           30.24    10.08"
      ]
     },
     "execution_count": 12,
     "metadata": {},
     "output_type": "execute_result"
    }
   ],
   "source": [
    "idx = result_c7_mous['proposal_id'] == '2019.1.01326.S'\n",
    "result_c7_mous[idx]['proposal_id','mous','array','nEB','npt','nscan','target_time_tot','blc_tint']"
   ]
  },
  {
   "cell_type": "markdown",
   "id": "8a0a178a",
   "metadata": {},
   "source": [
    "Reading in the tos data base to see what it has"
   ]
  },
  {
   "cell_type": "code",
   "execution_count": 15,
   "id": "912e429e",
   "metadata": {},
   "outputs": [
    {
     "name": "stdout",
     "output_type": "stream",
     "text": [
      "Intent not recognized: BANDPASS DIFFGAIN FLUX PHASE WVR\n",
      "Intent not recognized: BANDPASS DIFFGAIN FLUX PHASE WVR\n",
      "Intent not recognized: BANDPASS DIFFGAIN FLUX PHASE WVR\n",
      "Intent not recognized: DIFFGAIN PHASE WVR\n",
      "Intent not recognized: DIFFGAIN PHASE WVR\n",
      "Intent not recognized: DIFFGAIN PHASE WVR\n",
      "Intent not recognized: DIFFGAIN PHASE WVR\n",
      "Intent not recognized: DIFFGAIN PHASE WVR\n",
      "Intent not recognized: BANDPASS DIFFGAIN FLUX PHASE WVR\n",
      "Intent not recognized: BANDPASS DIFFGAIN FLUX PHASE WVR\n",
      "Intent not recognized: BANDPASS PHASE WVR\n",
      "Intent not recognized: BANDPASS PHASE WVR\n",
      "project_id list greater than 1. This shouldn't happen. MOUS: uid://A002/X445835/X6\n",
      "made it to table creation\n"
     ]
    }
   ],
   "source": [
    "tos_db = large_cubes.calc_time_on_source('data/project_mous_band_array_eb_size___source_intent_inttime')"
   ]
  },
  {
   "cell_type": "code",
   "execution_count": 16,
   "id": "a6d1a9cc",
   "metadata": {},
   "outputs": [
    {
     "data": {
      "text/plain": [
       "342.72"
      ]
     },
     "execution_count": 16,
     "metadata": {},
     "output_type": "execute_result"
    }
   ],
   "source": [
    "10.08 * 34 "
   ]
  },
  {
   "cell_type": "code",
   "execution_count": null,
   "id": "9215d55b",
   "metadata": {},
   "outputs": [],
   "source": []
  }
 ],
 "metadata": {
  "kernelspec": {
   "display_name": "Python 3 (ipykernel)",
   "language": "python",
   "name": "python3"
  },
  "language_info": {
   "codemirror_mode": {
    "name": "ipython",
    "version": 3
   },
   "file_extension": ".py",
   "mimetype": "text/x-python",
   "name": "python",
   "nbconvert_exporter": "python",
   "pygments_lexer": "ipython3",
   "version": "3.8.8"
  }
 },
 "nbformat": 4,
 "nbformat_minor": 5
}
